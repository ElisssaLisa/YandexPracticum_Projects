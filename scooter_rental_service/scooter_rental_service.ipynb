{
 "cells": [
  {
   "cell_type": "code",
   "execution_count": null,
   "id": "d581ffff",
   "metadata": {},
   "outputs": [],
   "source": []
  },
  {
   "cell_type": "markdown",
   "id": "668fb661",
   "metadata": {},
   "source": [
    "<div style=\"border:solid green 3px; padding: 20px\">\n",
    "<b>🥇 Елизавета, спасибо за доработки, проект принят, молодец!</b>\n",
    "    \n",
    "Ты провела очень хорошую работу над ошибками! Уверен, ты обязательно достигнешь своей цели! Успехов в дальнейшем обучении! 🙂\n",
    "    "
   ]
  },
  {
   "cell_type": "markdown",
   "id": "c8154243",
   "metadata": {},
   "source": [
    "Елизавета, привет! Меня зовут Ефимов Денис и сегодня я буду делать ревью твоего проекта!\\\n",
    "В Практикуме принято общаться на \"ты\", однако если это неудобно - дай знать, и можем перейти на более официальное общение.\n",
    "\n",
    "Ниже ты найдешь мои комментарии - пожалуйста, не перемещай, не изменяй и не удаляй их. Я буду использовать цветовую разметку: \n",
    "\n",
    "<div class=\"alert alert-block alert-success\">\n",
    "<b>✅Комментарий ревьюера:</b> Если все сделано хорошо. </div>\n",
    "\n",
    "<div class=\"alert alert-block alert-warning\">\n",
    "<b>🔁Комментарий ревьюера:</b> Некритичное замечание; если таких замечаний меньше трех — проект может быть принят без их отработки.</div>\n",
    "\n",
    "<div class=\"alert alert-block alert-danger\">\n",
    "<b>❌Комментарий ревьюера:</b> Грубая ошибка, необходимо исправить, иначе проект не будет принят.\n",
    "</div>\n",
    "\n",
    "Давай работать над проектом в диалоге: если ты что-то меняешь в проекте или отвечаешь на мои комментарии — пиши об этом. Мне будет легче отследить изменения, если ты выделишь свои комментарии:\n",
    "Например так:\n",
    "<div class=\"alert alert-block alert-info\">\n",
    "<b>🔄Комментарий студента:</b> \n",
    "Hello World! ✔\n",
    "</div>\n",
    "\n",
    "Или можешь использовать эту галочку ✔ в моих комментариях, если писать особо нечего.\n",
    "\n",
    "<div class=\"alert alert-block alert-warning\">\n",
    "<b>Общее впечатление:</b> \n",
    "    \n",
    "- Ты проделала огромную работу и проект получился впечатляющим:)\n",
    "- У меня есть несколько замечаний, исправив которые ты сделаешь проект еще лучше.\n",
    "- Пробегись по моим комментариям, исправь недочёты и всё будет отлично :)\n",
    "    \n",
    "</div>\n",
    "\n"
   ]
  },
  {
   "cell_type": "markdown",
   "id": "ccabeb02",
   "metadata": {},
   "source": [
    "<div class=\"alert alert-block alert-warning\">\n",
    "<b>🔁Комментарий ревьюера 2:</b> \n",
    "\n",
    "Обрати внимание, что желтых комментариев более трех, а значит их тоже необходимо обработать, иначе я не смогу принять проект.</div>"
   ]
  },
  {
   "cell_type": "markdown",
   "id": "7c1880e0",
   "metadata": {},
   "source": [
    "## Исследование сервиса аренды самокатов GoFast\n",
    "\n",
    "###### Цель исследования:\n",
    "1. Описать и визуализировать общую информацию о пользователях и поездках.\n",
    "2. Визуализировать информацию о расстоянии и времени поездок для пользователей каждой из категорий пользователей (с подпиской и без).\n",
    "3. Подсчитать выручку.\n",
    "4. Проверить гипотезы:\n",
    "    4.1 Тратят ли пользователи с подпиской больше времени на поездки?\n",
    "    4.2 Можно ли сказать, что расстояние, которое проезжают пользователи с подпиской за одну поездку, не превышает оптимальное с точки зрения износа самоката? \n",
    "    4.3 Будет ли помесячная выручка от пользователей с подпиской по месяцам выше, чем выручка от пользователей без подписки?\n",
    "5. Выяснить, какое минимальное количество промокодов нужно разослать в ходе маркетинговой акции, чтобы вероятность не выполнить план была примерно 5% (план 10% на основании предыдущей акции)\n",
    "\n",
    "###### Ход исследования:\n",
    "\n",
    "Данные о пользователях сервиса я получу из нескольких файлов: '/datasets/users_go.csv', '/datasets/rides_go.csv', '/datasets/subscriptions_go.csv'. О качестве данных ничего не известно, поэтому прежде чем приступать к анализу, понадобится обзор данных.\n",
    "\n",
    "Я проверю данные на ошибки, дубликаты, оценю влияние пропусков на ход исследования, преобразую необходимые столбцы в нужный тип. Далее поведу необходимы объединения таблиц и приступлю к исследованию данных.\n",
    "\n",
    "Таким образом мое исследование пройдет в несколько этапов:\n",
    "- Обзор данных.\n",
    "- Предобработка данных. \n",
    "- Исследовательский анализ данных.\n",
    "- Объединение данных.\n",
    "- Подсчет выручки.\n",
    "- Проверка гипотез.\n",
    "- Исследования для проведения маркетинговой акции.\n"
   ]
  },
  {
   "cell_type": "markdown",
   "id": "b10d2037",
   "metadata": {},
   "source": [
    "<div class=\"alert alert-block alert-success\">\n",
    "<b>✅Комментарий ревьюера:</b> Молодец, что написала введение!  </div>"
   ]
  },
  {
   "cell_type": "code",
   "execution_count": 1,
   "id": "7e3e81af",
   "metadata": {},
   "outputs": [],
   "source": [
    "import pandas as pd\n",
    "import numpy as np\n",
    "from scipy import stats as st\n",
    "from matplotlib import pyplot as plt\n",
    "from scipy.stats import binom\n",
    "from math import sqrt"
   ]
  },
  {
   "cell_type": "markdown",
   "id": "8fe6871c",
   "metadata": {},
   "source": [
    "#### Шаг 1. Загрузка данных"
   ]
  },
  {
   "cell_type": "markdown",
   "id": "b1558e0b",
   "metadata": {},
   "source": [
    "Загрузим данные из каждого датасета и изучим их."
   ]
  },
  {
   "cell_type": "code",
   "execution_count": 2,
   "id": "face4b7f",
   "metadata": {},
   "outputs": [
    {
     "data": {
      "text/html": [
       "<div>\n",
       "<style scoped>\n",
       "    .dataframe tbody tr th:only-of-type {\n",
       "        vertical-align: middle;\n",
       "    }\n",
       "\n",
       "    .dataframe tbody tr th {\n",
       "        vertical-align: top;\n",
       "    }\n",
       "\n",
       "    .dataframe thead th {\n",
       "        text-align: right;\n",
       "    }\n",
       "</style>\n",
       "<table border=\"1\" class=\"dataframe\">\n",
       "  <thead>\n",
       "    <tr style=\"text-align: right;\">\n",
       "      <th></th>\n",
       "      <th>user_id</th>\n",
       "      <th>name</th>\n",
       "      <th>age</th>\n",
       "      <th>city</th>\n",
       "      <th>subscription_type</th>\n",
       "    </tr>\n",
       "  </thead>\n",
       "  <tbody>\n",
       "    <tr>\n",
       "      <th>0</th>\n",
       "      <td>1</td>\n",
       "      <td>Кира</td>\n",
       "      <td>22</td>\n",
       "      <td>Тюмень</td>\n",
       "      <td>ultra</td>\n",
       "    </tr>\n",
       "    <tr>\n",
       "      <th>1</th>\n",
       "      <td>2</td>\n",
       "      <td>Станислав</td>\n",
       "      <td>31</td>\n",
       "      <td>Омск</td>\n",
       "      <td>ultra</td>\n",
       "    </tr>\n",
       "    <tr>\n",
       "      <th>2</th>\n",
       "      <td>3</td>\n",
       "      <td>Алексей</td>\n",
       "      <td>20</td>\n",
       "      <td>Москва</td>\n",
       "      <td>ultra</td>\n",
       "    </tr>\n",
       "    <tr>\n",
       "      <th>3</th>\n",
       "      <td>4</td>\n",
       "      <td>Константин</td>\n",
       "      <td>26</td>\n",
       "      <td>Ростов-на-Дону</td>\n",
       "      <td>ultra</td>\n",
       "    </tr>\n",
       "    <tr>\n",
       "      <th>4</th>\n",
       "      <td>5</td>\n",
       "      <td>Адель</td>\n",
       "      <td>28</td>\n",
       "      <td>Омск</td>\n",
       "      <td>ultra</td>\n",
       "    </tr>\n",
       "    <tr>\n",
       "      <th>5</th>\n",
       "      <td>6</td>\n",
       "      <td>Регина</td>\n",
       "      <td>25</td>\n",
       "      <td>Краснодар</td>\n",
       "      <td>ultra</td>\n",
       "    </tr>\n",
       "    <tr>\n",
       "      <th>6</th>\n",
       "      <td>7</td>\n",
       "      <td>Игорь</td>\n",
       "      <td>23</td>\n",
       "      <td>Омск</td>\n",
       "      <td>ultra</td>\n",
       "    </tr>\n",
       "    <tr>\n",
       "      <th>7</th>\n",
       "      <td>8</td>\n",
       "      <td>Юрий</td>\n",
       "      <td>23</td>\n",
       "      <td>Краснодар</td>\n",
       "      <td>ultra</td>\n",
       "    </tr>\n",
       "    <tr>\n",
       "      <th>8</th>\n",
       "      <td>9</td>\n",
       "      <td>Ян</td>\n",
       "      <td>21</td>\n",
       "      <td>Пятигорск</td>\n",
       "      <td>ultra</td>\n",
       "    </tr>\n",
       "    <tr>\n",
       "      <th>9</th>\n",
       "      <td>10</td>\n",
       "      <td>Валерий</td>\n",
       "      <td>18</td>\n",
       "      <td>Екатеринбург</td>\n",
       "      <td>ultra</td>\n",
       "    </tr>\n",
       "    <tr>\n",
       "      <th>10</th>\n",
       "      <td>11</td>\n",
       "      <td>Агата</td>\n",
       "      <td>31</td>\n",
       "      <td>Краснодар</td>\n",
       "      <td>ultra</td>\n",
       "    </tr>\n",
       "    <tr>\n",
       "      <th>11</th>\n",
       "      <td>12</td>\n",
       "      <td>Марк</td>\n",
       "      <td>27</td>\n",
       "      <td>Тюмень</td>\n",
       "      <td>ultra</td>\n",
       "    </tr>\n",
       "    <tr>\n",
       "      <th>12</th>\n",
       "      <td>13</td>\n",
       "      <td>Ева</td>\n",
       "      <td>24</td>\n",
       "      <td>Краснодар</td>\n",
       "      <td>ultra</td>\n",
       "    </tr>\n",
       "    <tr>\n",
       "      <th>13</th>\n",
       "      <td>14</td>\n",
       "      <td>Антонина</td>\n",
       "      <td>18</td>\n",
       "      <td>Пятигорск</td>\n",
       "      <td>ultra</td>\n",
       "    </tr>\n",
       "    <tr>\n",
       "      <th>14</th>\n",
       "      <td>15</td>\n",
       "      <td>Валерия</td>\n",
       "      <td>24</td>\n",
       "      <td>Тюмень</td>\n",
       "      <td>ultra</td>\n",
       "    </tr>\n",
       "    <tr>\n",
       "      <th>15</th>\n",
       "      <td>16</td>\n",
       "      <td>Амалия</td>\n",
       "      <td>27</td>\n",
       "      <td>Краснодар</td>\n",
       "      <td>ultra</td>\n",
       "    </tr>\n",
       "    <tr>\n",
       "      <th>16</th>\n",
       "      <td>17</td>\n",
       "      <td>Даниил</td>\n",
       "      <td>29</td>\n",
       "      <td>Москва</td>\n",
       "      <td>ultra</td>\n",
       "    </tr>\n",
       "    <tr>\n",
       "      <th>17</th>\n",
       "      <td>18</td>\n",
       "      <td>Аделина</td>\n",
       "      <td>24</td>\n",
       "      <td>Сочи</td>\n",
       "      <td>ultra</td>\n",
       "    </tr>\n",
       "    <tr>\n",
       "      <th>18</th>\n",
       "      <td>19</td>\n",
       "      <td>Регина</td>\n",
       "      <td>32</td>\n",
       "      <td>Тюмень</td>\n",
       "      <td>ultra</td>\n",
       "    </tr>\n",
       "    <tr>\n",
       "      <th>19</th>\n",
       "      <td>20</td>\n",
       "      <td>Игорь</td>\n",
       "      <td>23</td>\n",
       "      <td>Омск</td>\n",
       "      <td>ultra</td>\n",
       "    </tr>\n",
       "  </tbody>\n",
       "</table>\n",
       "</div>"
      ],
      "text/plain": [
       "    user_id        name  age            city subscription_type\n",
       "0         1        Кира   22          Тюмень             ultra\n",
       "1         2   Станислав   31            Омск             ultra\n",
       "2         3     Алексей   20          Москва             ultra\n",
       "3         4  Константин   26  Ростов-на-Дону             ultra\n",
       "4         5       Адель   28            Омск             ultra\n",
       "5         6      Регина   25       Краснодар             ultra\n",
       "6         7       Игорь   23            Омск             ultra\n",
       "7         8        Юрий   23       Краснодар             ultra\n",
       "8         9          Ян   21       Пятигорск             ultra\n",
       "9        10     Валерий   18    Екатеринбург             ultra\n",
       "10       11       Агата   31       Краснодар             ultra\n",
       "11       12        Марк   27          Тюмень             ultra\n",
       "12       13         Ева   24       Краснодар             ultra\n",
       "13       14    Антонина   18       Пятигорск             ultra\n",
       "14       15     Валерия   24          Тюмень             ultra\n",
       "15       16      Амалия   27       Краснодар             ultra\n",
       "16       17      Даниил   29          Москва             ultra\n",
       "17       18     Аделина   24            Сочи             ultra\n",
       "18       19      Регина   32          Тюмень             ultra\n",
       "19       20       Игорь   23            Омск             ultra"
      ]
     },
     "execution_count": 2,
     "metadata": {},
     "output_type": "execute_result"
    }
   ],
   "source": [
    "data_users = pd.read_csv('/datasets/users_go.csv')\n",
    "data_users.head(20)"
   ]
  },
  {
   "cell_type": "code",
   "execution_count": 3,
   "id": "c10de863",
   "metadata": {},
   "outputs": [
    {
     "name": "stdout",
     "output_type": "stream",
     "text": [
      "<class 'pandas.core.frame.DataFrame'>\n",
      "RangeIndex: 1565 entries, 0 to 1564\n",
      "Data columns (total 5 columns):\n",
      " #   Column             Non-Null Count  Dtype \n",
      "---  ------             --------------  ----- \n",
      " 0   user_id            1565 non-null   int64 \n",
      " 1   name               1565 non-null   object\n",
      " 2   age                1565 non-null   int64 \n",
      " 3   city               1565 non-null   object\n",
      " 4   subscription_type  1565 non-null   object\n",
      "dtypes: int64(2), object(3)\n",
      "memory usage: 61.3+ KB\n"
     ]
    }
   ],
   "source": [
    "data_users.info()"
   ]
  },
  {
   "cell_type": "markdown",
   "id": "42d60aa2",
   "metadata": {},
   "source": [
    "В датасете содержатся данные о id пользователя, имени, возрасте, городе и типе подписки. С типами данных все нормально"
   ]
  },
  {
   "cell_type": "code",
   "execution_count": 4,
   "id": "3c19bd80",
   "metadata": {},
   "outputs": [
    {
     "data": {
      "text/html": [
       "<div>\n",
       "<style scoped>\n",
       "    .dataframe tbody tr th:only-of-type {\n",
       "        vertical-align: middle;\n",
       "    }\n",
       "\n",
       "    .dataframe tbody tr th {\n",
       "        vertical-align: top;\n",
       "    }\n",
       "\n",
       "    .dataframe thead th {\n",
       "        text-align: right;\n",
       "    }\n",
       "</style>\n",
       "<table border=\"1\" class=\"dataframe\">\n",
       "  <thead>\n",
       "    <tr style=\"text-align: right;\">\n",
       "      <th></th>\n",
       "      <th>user_id</th>\n",
       "      <th>distance</th>\n",
       "      <th>duration</th>\n",
       "      <th>date</th>\n",
       "    </tr>\n",
       "  </thead>\n",
       "  <tbody>\n",
       "    <tr>\n",
       "      <th>0</th>\n",
       "      <td>1</td>\n",
       "      <td>4409.919140</td>\n",
       "      <td>25.599769</td>\n",
       "      <td>2021-01-01</td>\n",
       "    </tr>\n",
       "    <tr>\n",
       "      <th>1</th>\n",
       "      <td>1</td>\n",
       "      <td>2617.592153</td>\n",
       "      <td>15.816871</td>\n",
       "      <td>2021-01-18</td>\n",
       "    </tr>\n",
       "    <tr>\n",
       "      <th>2</th>\n",
       "      <td>1</td>\n",
       "      <td>754.159807</td>\n",
       "      <td>6.232113</td>\n",
       "      <td>2021-04-20</td>\n",
       "    </tr>\n",
       "    <tr>\n",
       "      <th>3</th>\n",
       "      <td>1</td>\n",
       "      <td>2694.783254</td>\n",
       "      <td>18.511000</td>\n",
       "      <td>2021-08-11</td>\n",
       "    </tr>\n",
       "    <tr>\n",
       "      <th>4</th>\n",
       "      <td>1</td>\n",
       "      <td>4028.687306</td>\n",
       "      <td>26.265803</td>\n",
       "      <td>2021-08-28</td>\n",
       "    </tr>\n",
       "    <tr>\n",
       "      <th>5</th>\n",
       "      <td>1</td>\n",
       "      <td>2770.890808</td>\n",
       "      <td>16.650138</td>\n",
       "      <td>2021-10-09</td>\n",
       "    </tr>\n",
       "    <tr>\n",
       "      <th>6</th>\n",
       "      <td>1</td>\n",
       "      <td>3039.020292</td>\n",
       "      <td>14.927879</td>\n",
       "      <td>2021-10-19</td>\n",
       "    </tr>\n",
       "    <tr>\n",
       "      <th>7</th>\n",
       "      <td>1</td>\n",
       "      <td>2842.118050</td>\n",
       "      <td>23.117468</td>\n",
       "      <td>2021-11-06</td>\n",
       "    </tr>\n",
       "    <tr>\n",
       "      <th>8</th>\n",
       "      <td>1</td>\n",
       "      <td>3412.690668</td>\n",
       "      <td>15.238072</td>\n",
       "      <td>2021-11-14</td>\n",
       "    </tr>\n",
       "    <tr>\n",
       "      <th>9</th>\n",
       "      <td>1</td>\n",
       "      <td>748.690645</td>\n",
       "      <td>15.041884</td>\n",
       "      <td>2021-11-22</td>\n",
       "    </tr>\n",
       "    <tr>\n",
       "      <th>10</th>\n",
       "      <td>1</td>\n",
       "      <td>4031.020195</td>\n",
       "      <td>17.674448</td>\n",
       "      <td>2021-12-14</td>\n",
       "    </tr>\n",
       "    <tr>\n",
       "      <th>11</th>\n",
       "      <td>1</td>\n",
       "      <td>2720.609748</td>\n",
       "      <td>9.529463</td>\n",
       "      <td>2021-12-22</td>\n",
       "    </tr>\n",
       "    <tr>\n",
       "      <th>12</th>\n",
       "      <td>2</td>\n",
       "      <td>3105.086678</td>\n",
       "      <td>24.307514</td>\n",
       "      <td>2021-03-15</td>\n",
       "    </tr>\n",
       "    <tr>\n",
       "      <th>13</th>\n",
       "      <td>2</td>\n",
       "      <td>3053.519401</td>\n",
       "      <td>11.543256</td>\n",
       "      <td>2021-03-18</td>\n",
       "    </tr>\n",
       "    <tr>\n",
       "      <th>14</th>\n",
       "      <td>2</td>\n",
       "      <td>4029.116927</td>\n",
       "      <td>25.109188</td>\n",
       "      <td>2021-03-23</td>\n",
       "    </tr>\n",
       "    <tr>\n",
       "      <th>15</th>\n",
       "      <td>2</td>\n",
       "      <td>2805.786329</td>\n",
       "      <td>20.652145</td>\n",
       "      <td>2021-04-08</td>\n",
       "    </tr>\n",
       "    <tr>\n",
       "      <th>16</th>\n",
       "      <td>2</td>\n",
       "      <td>3358.595495</td>\n",
       "      <td>18.396489</td>\n",
       "      <td>2021-04-13</td>\n",
       "    </tr>\n",
       "    <tr>\n",
       "      <th>17</th>\n",
       "      <td>2</td>\n",
       "      <td>3255.338202</td>\n",
       "      <td>13.851127</td>\n",
       "      <td>2021-06-20</td>\n",
       "    </tr>\n",
       "    <tr>\n",
       "      <th>18</th>\n",
       "      <td>2</td>\n",
       "      <td>3942.817648</td>\n",
       "      <td>20.142725</td>\n",
       "      <td>2021-07-02</td>\n",
       "    </tr>\n",
       "    <tr>\n",
       "      <th>19</th>\n",
       "      <td>2</td>\n",
       "      <td>2837.905316</td>\n",
       "      <td>26.027432</td>\n",
       "      <td>2021-07-18</td>\n",
       "    </tr>\n",
       "  </tbody>\n",
       "</table>\n",
       "</div>"
      ],
      "text/plain": [
       "    user_id     distance   duration        date\n",
       "0         1  4409.919140  25.599769  2021-01-01\n",
       "1         1  2617.592153  15.816871  2021-01-18\n",
       "2         1   754.159807   6.232113  2021-04-20\n",
       "3         1  2694.783254  18.511000  2021-08-11\n",
       "4         1  4028.687306  26.265803  2021-08-28\n",
       "5         1  2770.890808  16.650138  2021-10-09\n",
       "6         1  3039.020292  14.927879  2021-10-19\n",
       "7         1  2842.118050  23.117468  2021-11-06\n",
       "8         1  3412.690668  15.238072  2021-11-14\n",
       "9         1   748.690645  15.041884  2021-11-22\n",
       "10        1  4031.020195  17.674448  2021-12-14\n",
       "11        1  2720.609748   9.529463  2021-12-22\n",
       "12        2  3105.086678  24.307514  2021-03-15\n",
       "13        2  3053.519401  11.543256  2021-03-18\n",
       "14        2  4029.116927  25.109188  2021-03-23\n",
       "15        2  2805.786329  20.652145  2021-04-08\n",
       "16        2  3358.595495  18.396489  2021-04-13\n",
       "17        2  3255.338202  13.851127  2021-06-20\n",
       "18        2  3942.817648  20.142725  2021-07-02\n",
       "19        2  2837.905316  26.027432  2021-07-18"
      ]
     },
     "execution_count": 4,
     "metadata": {},
     "output_type": "execute_result"
    }
   ],
   "source": [
    "data_rides = pd.read_csv('/datasets/rides_go.csv')\n",
    "data_rides.head(20)"
   ]
  },
  {
   "cell_type": "code",
   "execution_count": 5,
   "id": "32e5e69c",
   "metadata": {},
   "outputs": [
    {
     "name": "stdout",
     "output_type": "stream",
     "text": [
      "<class 'pandas.core.frame.DataFrame'>\n",
      "RangeIndex: 18068 entries, 0 to 18067\n",
      "Data columns (total 4 columns):\n",
      " #   Column    Non-Null Count  Dtype  \n",
      "---  ------    --------------  -----  \n",
      " 0   user_id   18068 non-null  int64  \n",
      " 1   distance  18068 non-null  float64\n",
      " 2   duration  18068 non-null  float64\n",
      " 3   date      18068 non-null  object \n",
      "dtypes: float64(2), int64(1), object(1)\n",
      "memory usage: 564.8+ KB\n"
     ]
    }
   ],
   "source": [
    "data_rides.info()"
   ]
  },
  {
   "cell_type": "markdown",
   "id": "6cfe1621",
   "metadata": {},
   "source": [
    "В этом датасете содержатся данные о id пользователя, расстоянии (м), длительности (мин) и дате поездки. Здесь нужно будет преобразовать данные в тип даты в столбце date."
   ]
  },
  {
   "cell_type": "code",
   "execution_count": 6,
   "id": "534339ab",
   "metadata": {},
   "outputs": [
    {
     "data": {
      "text/html": [
       "<div>\n",
       "<style scoped>\n",
       "    .dataframe tbody tr th:only-of-type {\n",
       "        vertical-align: middle;\n",
       "    }\n",
       "\n",
       "    .dataframe tbody tr th {\n",
       "        vertical-align: top;\n",
       "    }\n",
       "\n",
       "    .dataframe thead th {\n",
       "        text-align: right;\n",
       "    }\n",
       "</style>\n",
       "<table border=\"1\" class=\"dataframe\">\n",
       "  <thead>\n",
       "    <tr style=\"text-align: right;\">\n",
       "      <th></th>\n",
       "      <th>subscription_type</th>\n",
       "      <th>minute_price</th>\n",
       "      <th>start_ride_price</th>\n",
       "      <th>subscription_fee</th>\n",
       "    </tr>\n",
       "  </thead>\n",
       "  <tbody>\n",
       "    <tr>\n",
       "      <th>0</th>\n",
       "      <td>free</td>\n",
       "      <td>8</td>\n",
       "      <td>50</td>\n",
       "      <td>0</td>\n",
       "    </tr>\n",
       "    <tr>\n",
       "      <th>1</th>\n",
       "      <td>ultra</td>\n",
       "      <td>6</td>\n",
       "      <td>0</td>\n",
       "      <td>199</td>\n",
       "    </tr>\n",
       "  </tbody>\n",
       "</table>\n",
       "</div>"
      ],
      "text/plain": [
       "  subscription_type  minute_price  start_ride_price  subscription_fee\n",
       "0              free             8                50                 0\n",
       "1             ultra             6                 0               199"
      ]
     },
     "execution_count": 6,
     "metadata": {},
     "output_type": "execute_result"
    }
   ],
   "source": [
    "data_subscriptions = pd.read_csv('/datasets/subscriptions_go.csv')\n",
    "data_subscriptions.head(20)"
   ]
  },
  {
   "cell_type": "code",
   "execution_count": 7,
   "id": "476a983b",
   "metadata": {},
   "outputs": [
    {
     "name": "stdout",
     "output_type": "stream",
     "text": [
      "<class 'pandas.core.frame.DataFrame'>\n",
      "RangeIndex: 2 entries, 0 to 1\n",
      "Data columns (total 4 columns):\n",
      " #   Column             Non-Null Count  Dtype \n",
      "---  ------             --------------  ----- \n",
      " 0   subscription_type  2 non-null      object\n",
      " 1   minute_price       2 non-null      int64 \n",
      " 2   start_ride_price   2 non-null      int64 \n",
      " 3   subscription_fee   2 non-null      int64 \n",
      "dtypes: int64(3), object(1)\n",
      "memory usage: 192.0+ bytes\n"
     ]
    }
   ],
   "source": [
    "data_subscriptions.info()"
   ]
  },
  {
   "cell_type": "markdown",
   "id": "fa066737",
   "metadata": {},
   "source": [
    "В последнем датасете содержится информация о типе подписки, стоимости минуты поездки, стоимости начала поездки и стоимости подписки."
   ]
  },
  {
   "cell_type": "markdown",
   "id": "e1afd85f",
   "metadata": {},
   "source": [
    "Вывод: датасеты первоночально изучены, в них действительно содержится информация, заявленная в документах."
   ]
  },
  {
   "cell_type": "markdown",
   "id": "22530e68",
   "metadata": {},
   "source": [
    "<div class=\"alert alert-block alert-success\">\n",
    "<b>✅Комментарий ревьюера:</b> Отлично, с данными познакомились!  </div>"
   ]
  },
  {
   "cell_type": "markdown",
   "id": "aa3d48da",
   "metadata": {},
   "source": [
    "#### Шаг 2. Предобработка данных"
   ]
  },
  {
   "cell_type": "markdown",
   "id": "453c91af",
   "metadata": {},
   "source": [
    "Прежде чем дальше использоать данные в исследовании, необходимо преобразовать тип данных в столбце date второго датасета и проверить все данные на наличие пропусков и дубликатов."
   ]
  },
  {
   "cell_type": "markdown",
   "id": "a6efddc1",
   "metadata": {},
   "source": [
    "1. Преобразуем данные в столбце date второго датасета."
   ]
  },
  {
   "cell_type": "code",
   "execution_count": 8,
   "id": "907e4aba",
   "metadata": {},
   "outputs": [
    {
     "data": {
      "text/html": [
       "<div>\n",
       "<style scoped>\n",
       "    .dataframe tbody tr th:only-of-type {\n",
       "        vertical-align: middle;\n",
       "    }\n",
       "\n",
       "    .dataframe tbody tr th {\n",
       "        vertical-align: top;\n",
       "    }\n",
       "\n",
       "    .dataframe thead th {\n",
       "        text-align: right;\n",
       "    }\n",
       "</style>\n",
       "<table border=\"1\" class=\"dataframe\">\n",
       "  <thead>\n",
       "    <tr style=\"text-align: right;\">\n",
       "      <th></th>\n",
       "      <th>user_id</th>\n",
       "      <th>distance</th>\n",
       "      <th>duration</th>\n",
       "      <th>date</th>\n",
       "    </tr>\n",
       "  </thead>\n",
       "  <tbody>\n",
       "    <tr>\n",
       "      <th>0</th>\n",
       "      <td>1</td>\n",
       "      <td>4409.919140</td>\n",
       "      <td>25.599769</td>\n",
       "      <td>2021-01-01</td>\n",
       "    </tr>\n",
       "    <tr>\n",
       "      <th>1</th>\n",
       "      <td>1</td>\n",
       "      <td>2617.592153</td>\n",
       "      <td>15.816871</td>\n",
       "      <td>2021-01-18</td>\n",
       "    </tr>\n",
       "    <tr>\n",
       "      <th>2</th>\n",
       "      <td>1</td>\n",
       "      <td>754.159807</td>\n",
       "      <td>6.232113</td>\n",
       "      <td>2021-04-20</td>\n",
       "    </tr>\n",
       "    <tr>\n",
       "      <th>3</th>\n",
       "      <td>1</td>\n",
       "      <td>2694.783254</td>\n",
       "      <td>18.511000</td>\n",
       "      <td>2021-08-11</td>\n",
       "    </tr>\n",
       "    <tr>\n",
       "      <th>4</th>\n",
       "      <td>1</td>\n",
       "      <td>4028.687306</td>\n",
       "      <td>26.265803</td>\n",
       "      <td>2021-08-28</td>\n",
       "    </tr>\n",
       "    <tr>\n",
       "      <th>5</th>\n",
       "      <td>1</td>\n",
       "      <td>2770.890808</td>\n",
       "      <td>16.650138</td>\n",
       "      <td>2021-10-09</td>\n",
       "    </tr>\n",
       "    <tr>\n",
       "      <th>6</th>\n",
       "      <td>1</td>\n",
       "      <td>3039.020292</td>\n",
       "      <td>14.927879</td>\n",
       "      <td>2021-10-19</td>\n",
       "    </tr>\n",
       "    <tr>\n",
       "      <th>7</th>\n",
       "      <td>1</td>\n",
       "      <td>2842.118050</td>\n",
       "      <td>23.117468</td>\n",
       "      <td>2021-11-06</td>\n",
       "    </tr>\n",
       "    <tr>\n",
       "      <th>8</th>\n",
       "      <td>1</td>\n",
       "      <td>3412.690668</td>\n",
       "      <td>15.238072</td>\n",
       "      <td>2021-11-14</td>\n",
       "    </tr>\n",
       "    <tr>\n",
       "      <th>9</th>\n",
       "      <td>1</td>\n",
       "      <td>748.690645</td>\n",
       "      <td>15.041884</td>\n",
       "      <td>2021-11-22</td>\n",
       "    </tr>\n",
       "  </tbody>\n",
       "</table>\n",
       "</div>"
      ],
      "text/plain": [
       "   user_id     distance   duration       date\n",
       "0        1  4409.919140  25.599769 2021-01-01\n",
       "1        1  2617.592153  15.816871 2021-01-18\n",
       "2        1   754.159807   6.232113 2021-04-20\n",
       "3        1  2694.783254  18.511000 2021-08-11\n",
       "4        1  4028.687306  26.265803 2021-08-28\n",
       "5        1  2770.890808  16.650138 2021-10-09\n",
       "6        1  3039.020292  14.927879 2021-10-19\n",
       "7        1  2842.118050  23.117468 2021-11-06\n",
       "8        1  3412.690668  15.238072 2021-11-14\n",
       "9        1   748.690645  15.041884 2021-11-22"
      ]
     },
     "execution_count": 8,
     "metadata": {},
     "output_type": "execute_result"
    }
   ],
   "source": [
    "data_rides['date'] = pd.to_datetime(data_rides['date'], format='%Y-%m-%dT%H:%M:%S')\n",
    "data_rides.head(10)"
   ]
  },
  {
   "cell_type": "code",
   "execution_count": 9,
   "id": "a6b83292",
   "metadata": {},
   "outputs": [
    {
     "name": "stdout",
     "output_type": "stream",
     "text": [
      "<class 'pandas.core.frame.DataFrame'>\n",
      "RangeIndex: 18068 entries, 0 to 18067\n",
      "Data columns (total 4 columns):\n",
      " #   Column    Non-Null Count  Dtype         \n",
      "---  ------    --------------  -----         \n",
      " 0   user_id   18068 non-null  int64         \n",
      " 1   distance  18068 non-null  float64       \n",
      " 2   duration  18068 non-null  float64       \n",
      " 3   date      18068 non-null  datetime64[ns]\n",
      "dtypes: datetime64[ns](1), float64(2), int64(1)\n",
      "memory usage: 564.8 KB\n"
     ]
    }
   ],
   "source": [
    "data_rides.info()"
   ]
  },
  {
   "cell_type": "markdown",
   "id": "09a266fb",
   "metadata": {},
   "source": [
    "Данные преобразованы в нужный формат. Теперь создадим новый столбец с номером месяца на основе столбца date."
   ]
  },
  {
   "cell_type": "code",
   "execution_count": 10,
   "id": "ae1e8cd8",
   "metadata": {},
   "outputs": [
    {
     "data": {
      "text/html": [
       "<div>\n",
       "<style scoped>\n",
       "    .dataframe tbody tr th:only-of-type {\n",
       "        vertical-align: middle;\n",
       "    }\n",
       "\n",
       "    .dataframe tbody tr th {\n",
       "        vertical-align: top;\n",
       "    }\n",
       "\n",
       "    .dataframe thead th {\n",
       "        text-align: right;\n",
       "    }\n",
       "</style>\n",
       "<table border=\"1\" class=\"dataframe\">\n",
       "  <thead>\n",
       "    <tr style=\"text-align: right;\">\n",
       "      <th></th>\n",
       "      <th>user_id</th>\n",
       "      <th>distance</th>\n",
       "      <th>duration</th>\n",
       "      <th>date</th>\n",
       "      <th>month</th>\n",
       "    </tr>\n",
       "  </thead>\n",
       "  <tbody>\n",
       "    <tr>\n",
       "      <th>0</th>\n",
       "      <td>1</td>\n",
       "      <td>4409.919140</td>\n",
       "      <td>25.599769</td>\n",
       "      <td>2021-01-01</td>\n",
       "      <td>1</td>\n",
       "    </tr>\n",
       "    <tr>\n",
       "      <th>1</th>\n",
       "      <td>1</td>\n",
       "      <td>2617.592153</td>\n",
       "      <td>15.816871</td>\n",
       "      <td>2021-01-18</td>\n",
       "      <td>1</td>\n",
       "    </tr>\n",
       "    <tr>\n",
       "      <th>2</th>\n",
       "      <td>1</td>\n",
       "      <td>754.159807</td>\n",
       "      <td>6.232113</td>\n",
       "      <td>2021-04-20</td>\n",
       "      <td>4</td>\n",
       "    </tr>\n",
       "    <tr>\n",
       "      <th>3</th>\n",
       "      <td>1</td>\n",
       "      <td>2694.783254</td>\n",
       "      <td>18.511000</td>\n",
       "      <td>2021-08-11</td>\n",
       "      <td>8</td>\n",
       "    </tr>\n",
       "    <tr>\n",
       "      <th>4</th>\n",
       "      <td>1</td>\n",
       "      <td>4028.687306</td>\n",
       "      <td>26.265803</td>\n",
       "      <td>2021-08-28</td>\n",
       "      <td>8</td>\n",
       "    </tr>\n",
       "    <tr>\n",
       "      <th>5</th>\n",
       "      <td>1</td>\n",
       "      <td>2770.890808</td>\n",
       "      <td>16.650138</td>\n",
       "      <td>2021-10-09</td>\n",
       "      <td>10</td>\n",
       "    </tr>\n",
       "    <tr>\n",
       "      <th>6</th>\n",
       "      <td>1</td>\n",
       "      <td>3039.020292</td>\n",
       "      <td>14.927879</td>\n",
       "      <td>2021-10-19</td>\n",
       "      <td>10</td>\n",
       "    </tr>\n",
       "    <tr>\n",
       "      <th>7</th>\n",
       "      <td>1</td>\n",
       "      <td>2842.118050</td>\n",
       "      <td>23.117468</td>\n",
       "      <td>2021-11-06</td>\n",
       "      <td>11</td>\n",
       "    </tr>\n",
       "    <tr>\n",
       "      <th>8</th>\n",
       "      <td>1</td>\n",
       "      <td>3412.690668</td>\n",
       "      <td>15.238072</td>\n",
       "      <td>2021-11-14</td>\n",
       "      <td>11</td>\n",
       "    </tr>\n",
       "    <tr>\n",
       "      <th>9</th>\n",
       "      <td>1</td>\n",
       "      <td>748.690645</td>\n",
       "      <td>15.041884</td>\n",
       "      <td>2021-11-22</td>\n",
       "      <td>11</td>\n",
       "    </tr>\n",
       "  </tbody>\n",
       "</table>\n",
       "</div>"
      ],
      "text/plain": [
       "   user_id     distance   duration       date  month\n",
       "0        1  4409.919140  25.599769 2021-01-01      1\n",
       "1        1  2617.592153  15.816871 2021-01-18      1\n",
       "2        1   754.159807   6.232113 2021-04-20      4\n",
       "3        1  2694.783254  18.511000 2021-08-11      8\n",
       "4        1  4028.687306  26.265803 2021-08-28      8\n",
       "5        1  2770.890808  16.650138 2021-10-09     10\n",
       "6        1  3039.020292  14.927879 2021-10-19     10\n",
       "7        1  2842.118050  23.117468 2021-11-06     11\n",
       "8        1  3412.690668  15.238072 2021-11-14     11\n",
       "9        1   748.690645  15.041884 2021-11-22     11"
      ]
     },
     "execution_count": 10,
     "metadata": {},
     "output_type": "execute_result"
    }
   ],
   "source": [
    "data_rides['month'] = data_rides['date'].dt.month\n",
    "data_rides.head(10)"
   ]
  },
  {
   "cell_type": "markdown",
   "id": "bb8e4082",
   "metadata": {},
   "source": [
    "<div class=\"alert alert-block alert-warning\">\n",
    "<b>🔁Комментарий ревьюера:</b> \n",
    "\n",
    "Дополнительно можно проверить данные за какой период у нас имеются</div>"
   ]
  },
  {
   "cell_type": "markdown",
   "id": "aa7c1e96",
   "metadata": {},
   "source": [
    "<div class=\"alert alert-block alert-info\">\n",
    "<b>🔄Комментарий студента:</b> \n",
    "Готово ✔\n",
    "</div>"
   ]
  },
  {
   "cell_type": "markdown",
   "id": "124c7b5c",
   "metadata": {},
   "source": [
    "<div class=\"alert alert-block alert-success\">\n",
    "<b>✅Комментарий ревьюера 3:</b> Отлично, исправлено!👍  </div>"
   ]
  },
  {
   "cell_type": "markdown",
   "id": "454ed11e",
   "metadata": {},
   "source": [
    "Проверим, за какой период предоставлены данные:"
   ]
  },
  {
   "cell_type": "code",
   "execution_count": 11,
   "id": "4c2db062",
   "metadata": {},
   "outputs": [
    {
     "data": {
      "text/plain": [
       "Timestamp('2021-01-01 00:00:00')"
      ]
     },
     "execution_count": 11,
     "metadata": {},
     "output_type": "execute_result"
    }
   ],
   "source": [
    "data_rides['date'].min()"
   ]
  },
  {
   "cell_type": "code",
   "execution_count": 12,
   "id": "d50f979b",
   "metadata": {},
   "outputs": [
    {
     "data": {
      "text/plain": [
       "Timestamp('2021-12-30 00:00:00')"
      ]
     },
     "execution_count": 12,
     "metadata": {},
     "output_type": "execute_result"
    }
   ],
   "source": [
    "data_rides['date'].max()"
   ]
  },
  {
   "cell_type": "markdown",
   "id": "2889eb3f",
   "metadata": {},
   "source": [
    "Получается, данные нам предоставили за весь 2021 год."
   ]
  },
  {
   "cell_type": "markdown",
   "id": "c45cf46d",
   "metadata": {},
   "source": [
    "Проверим наличие пропущенных значений и дубликатов в датафреймах. "
   ]
  },
  {
   "cell_type": "code",
   "execution_count": 13,
   "id": "701d7726",
   "metadata": {},
   "outputs": [
    {
     "data": {
      "text/plain": [
       "user_id              0\n",
       "name                 0\n",
       "age                  0\n",
       "city                 0\n",
       "subscription_type    0\n",
       "dtype: int64"
      ]
     },
     "execution_count": 13,
     "metadata": {},
     "output_type": "execute_result"
    }
   ],
   "source": [
    "data_users.isna().sum()"
   ]
  },
  {
   "cell_type": "code",
   "execution_count": 14,
   "id": "48dbafed",
   "metadata": {},
   "outputs": [
    {
     "data": {
      "text/plain": [
       "31"
      ]
     },
     "execution_count": 14,
     "metadata": {},
     "output_type": "execute_result"
    }
   ],
   "source": [
    "data_users.duplicated().sum()"
   ]
  },
  {
   "cell_type": "code",
   "execution_count": 15,
   "id": "0d19e98f",
   "metadata": {},
   "outputs": [],
   "source": [
    "data_users = data_users.drop_duplicates().reset_index(drop=True)"
   ]
  },
  {
   "cell_type": "markdown",
   "id": "db2d8ea9",
   "metadata": {},
   "source": [
    "Проверим наличие неявных дубликатов в столбце с названиями города."
   ]
  },
  {
   "cell_type": "code",
   "execution_count": 16,
   "id": "a2688047",
   "metadata": {},
   "outputs": [
    {
     "data": {
      "text/plain": [
       "array(['Тюмень', 'Омск', 'Москва', 'Ростов-на-Дону', 'Краснодар',\n",
       "       'Пятигорск', 'Екатеринбург', 'Сочи'], dtype=object)"
      ]
     },
     "execution_count": 16,
     "metadata": {},
     "output_type": "execute_result"
    }
   ],
   "source": [
    "data_users['city'].unique()"
   ]
  },
  {
   "cell_type": "markdown",
   "id": "d7b75abd",
   "metadata": {},
   "source": [
    "В первом датасете предобработка завершена: Пропущенных значений не обнаружено, 31 дубликат удален, столбец с названиями городов проверен на наличие неявных дубликатов(в столбцах, содержащих имя пользователя и возраст, повторяющиеся значения допустимы. "
   ]
  },
  {
   "cell_type": "code",
   "execution_count": 17,
   "id": "15a46879",
   "metadata": {},
   "outputs": [
    {
     "data": {
      "text/plain": [
       "user_id     0\n",
       "distance    0\n",
       "duration    0\n",
       "date        0\n",
       "month       0\n",
       "dtype: int64"
      ]
     },
     "execution_count": 17,
     "metadata": {},
     "output_type": "execute_result"
    }
   ],
   "source": [
    "data_rides.isna().sum()"
   ]
  },
  {
   "cell_type": "code",
   "execution_count": 18,
   "id": "583d8f68",
   "metadata": {},
   "outputs": [
    {
     "data": {
      "text/plain": [
       "0"
      ]
     },
     "execution_count": 18,
     "metadata": {},
     "output_type": "execute_result"
    }
   ],
   "source": [
    "data_rides.duplicated().sum()"
   ]
  },
  {
   "cell_type": "markdown",
   "id": "06f9f985",
   "metadata": {},
   "source": [
    "Во втором датасете предобработка завершена: пропущенных значений и дубликатов не обнаружено."
   ]
  },
  {
   "cell_type": "code",
   "execution_count": 19,
   "id": "e6f1751b",
   "metadata": {},
   "outputs": [
    {
     "data": {
      "text/plain": [
       "subscription_type    0\n",
       "minute_price         0\n",
       "start_ride_price     0\n",
       "subscription_fee     0\n",
       "dtype: int64"
      ]
     },
     "execution_count": 19,
     "metadata": {},
     "output_type": "execute_result"
    }
   ],
   "source": [
    "data_subscriptions.isna().sum()"
   ]
  },
  {
   "cell_type": "code",
   "execution_count": 20,
   "id": "c4193434",
   "metadata": {},
   "outputs": [
    {
     "data": {
      "text/plain": [
       "0"
      ]
     },
     "execution_count": 20,
     "metadata": {},
     "output_type": "execute_result"
    }
   ],
   "source": [
    "data_subscriptions.duplicated().sum()"
   ]
  },
  {
   "cell_type": "markdown",
   "id": "f43b78c8",
   "metadata": {},
   "source": [
    "Во третьем датасете предобработка завершена: пропущенных значений и дубликатов не обнаружено."
   ]
  },
  {
   "cell_type": "markdown",
   "id": "36cdab53",
   "metadata": {},
   "source": [
    "Вывод: данные готовы к дальнейшим исследованиям, типы данных преобразованы, пропусков и дубликатов нет."
   ]
  },
  {
   "cell_type": "markdown",
   "id": "2a659ca5",
   "metadata": {},
   "source": [
    "<div class=\"alert alert-block alert-success\">\n",
    "<b>✅Комментарий ревьюера:</b> Молодец, что делаешь промежуточные выводы!  </div>"
   ]
  },
  {
   "cell_type": "markdown",
   "id": "f7944c72",
   "metadata": {},
   "source": [
    "#### Шаг 3. Исследовательский анализ данных"
   ]
  },
  {
   "cell_type": "markdown",
   "id": "ff9fffcc",
   "metadata": {},
   "source": [
    "1. Исследуем частоту встречаемости городов с помощью гистограммы."
   ]
  },
  {
   "cell_type": "code",
   "execution_count": 21,
   "id": "f19a8031",
   "metadata": {},
   "outputs": [
    {
     "data": {
      "text/plain": [
       "<AxesSubplot:>"
      ]
     },
     "execution_count": 21,
     "metadata": {},
     "output_type": "execute_result"
    },
    {
     "data": {
      "image/png": "[encoded data removed]",
      "text/plain": [
       "<Figure size 432x288 with 1 Axes>"
      ]
     },
     "metadata": {
      "needs_background": "light"
     },
     "output_type": "display_data"
    }
   ],
   "source": [
    "data_users['city'].hist(bins=50, range=(0, 8))"
   ]
  },
  {
   "cell_type": "code",
   "execution_count": 22,
   "id": "2c5cbaac",
   "metadata": {},
   "outputs": [],
   "source": [
    "city = data_users['city'].value_counts()"
   ]
  },
  {
   "cell_type": "code",
   "execution_count": 23,
   "id": "67a3f982",
   "metadata": {},
   "outputs": [
    {
     "data": {
      "text/plain": [
       "<AxesSubplot:title={'center':'частота встречаемости городов'}>"
      ]
     },
     "execution_count": 23,
     "metadata": {},
     "output_type": "execute_result"
    },
    {
     "data": {
      "image/png": "[encoded data removed]",
      "text/plain": [
       "<Figure size 432x288 with 1 Axes>"
      ]
     },
     "metadata": {
      "needs_background": "light"
     },
     "output_type": "display_data"
    }
   ],
   "source": [
    "city.plot(title='частота встречаемости городов', kind='bar')"
   ]
  },
  {
   "cell_type": "markdown",
   "id": "600cb814",
   "metadata": {
    "id": "5766e785"
   },
   "source": [
    "<div class=\"alert alert-block alert-danger\">\n",
    "<b>❌Комментарий ревьюера:</b> \n",
    "    \n",
    "Такой график не очень информативен. Для категориальных признаков гистограмма не совсем подходит. К тому же подписи на оси сливаются. Тут лучше построить горизонтальный барплот с сортировкой по убыванию. Данные для построения графика можно получить с помощью метода value_counts(). Также эти данные стоит отобразить и в табличном виде, чтобы была возможность сравнить значения количества.</div>"
   ]
  },
  {
   "cell_type": "markdown",
   "id": "6ab46d6e",
   "metadata": {},
   "source": [
    "\n",
    "<div class=\"alert alert-info\"> <b>Комментарии студента:</b> Исправила. Спасибо, что подсказал, как сделать график более читаемым. </div>"
   ]
  },
  {
   "cell_type": "markdown",
   "id": "708bf45c",
   "metadata": {},
   "source": [
    "<div class=\"alert alert-block alert-success\">\n",
    "<b>✅Комментарий ревьюера 2:</b> Отлично, исправлено!👍 Пожалуйста) А еще нагляднее будет горизонтальный барплот, о котором я писал. Показал ниже. </div>"
   ]
  },
  {
   "cell_type": "code",
   "execution_count": 24,
   "id": "7ca6a6b4",
   "metadata": {},
   "outputs": [
    {
     "data": {
      "image/png": "[encoded data removed]",
      "text/plain": [
       "<Figure size 432x288 with 1 Axes>"
      ]
     },
     "metadata": {
      "needs_background": "light"
     },
     "output_type": "display_data"
    }
   ],
   "source": [
    "# код ревьюера\n",
    "city.sort_values().plot(title='частота встречаемости городов', kind='barh')\n",
    "\n",
    "plt.show()"
   ]
  },
  {
   "cell_type": "markdown",
   "id": "65c68279",
   "metadata": {},
   "source": [
    "Наиболее популярен сервис в Пятигорске, наименьшей популярностью пользуется в Москве."
   ]
  },
  {
   "cell_type": "markdown",
   "id": "b18c5fd1",
   "metadata": {},
   "source": [
    "2. Исследуем соотношение пользователей с подпиской и без подписки."
   ]
  },
  {
   "cell_type": "code",
   "execution_count": 25,
   "id": "4a9a8d10",
   "metadata": {},
   "outputs": [
    {
     "data": {
      "text/plain": [
       "<AxesSubplot:>"
      ]
     },
     "execution_count": 25,
     "metadata": {},
     "output_type": "execute_result"
    },
    {
     "data": {
      "image/png": "[encoded data removed]",
      "text/plain": [
       "<Figure size 432x288 with 1 Axes>"
      ]
     },
     "metadata": {
      "needs_background": "light"
     },
     "output_type": "display_data"
    }
   ],
   "source": [
    "data_users['subscription_type'].hist(bins=50, range=(0, 2))"
   ]
  },
  {
   "cell_type": "code",
   "execution_count": 26,
   "id": "54febedb",
   "metadata": {},
   "outputs": [
    {
     "data": {
      "text/plain": [
       "<AxesSubplot:title={'center':'Количество пользователей с подпиской и без подписки'}>"
      ]
     },
     "execution_count": 26,
     "metadata": {},
     "output_type": "execute_result"
    },
    {
     "data": {
      "image/png": "[encoded data removed]",
      "text/plain": [
       "<Figure size 432x288 with 1 Axes>"
      ]
     },
     "metadata": {},
     "output_type": "display_data"
    }
   ],
   "source": [
    "data_users['subscription_type'].value_counts().plot(title='Количество пользователей с подпиской и без подписки', kind='pie', autopct='%1.2f%%', ylabel='')"
   ]
  },
  {
   "cell_type": "markdown",
   "id": "25f7c3ec",
   "metadata": {},
   "source": [
    "<div class=\"alert alert-block alert-danger\">\n",
    "<b>❌Комментарий ревьюера:</b>\n",
    "    \n",
    "Необходимо подписывать каждый график и оси на нем для удобства восприятия. Есть [хорошая статья](https://devpractice.ru/matplotlib-lesson-3-3-text-elements/), которая подскажет как это правильно сделать). </div>"
   ]
  },
  {
   "cell_type": "markdown",
   "id": "d543094f",
   "metadata": {},
   "source": [
    "<div class=\"alert alert-block alert-success\">\n",
    "<b>✅Комментарий ревьюера 2:</b> Отлично, исправлено!👍  </div>"
   ]
  },
  {
   "cell_type": "markdown",
   "id": "9b712a63",
   "metadata": {},
   "source": [
    "\n",
    "<div class=\"alert alert-info\"> <b>Комментарии студента:</b> Построила круговую диаграмму, подписала ее. Не знаю, как сделать отображение соотношение групп в % </div>"
   ]
  },
  {
   "cell_type": "markdown",
   "id": "ce12b47c",
   "metadata": {
    "id": "5766e785"
   },
   "source": [
    "<div class=\"alert alert-block alert-warning\">\n",
    "<b>🔁Комментарий ревьюера 2:</b> \n",
    "    \n",
    "\n",
    " - Значения долей отобразить на диаграмме можно с помощью аргумента `autopct`\n",
    "\n",
    " - Подпись оси тут лучше убрать, так как суть диаграммы описана в названии.</div>"
   ]
  },
  {
   "cell_type": "markdown",
   "id": "770329f6",
   "metadata": {},
   "source": [
    "<div class=\"alert alert-block alert-info\">\n",
    "<b>🔄Комментарий студента:</b> \n",
    "Исправила.\n",
    "</div>"
   ]
  },
  {
   "cell_type": "markdown",
   "id": "a498f554",
   "metadata": {},
   "source": [
    "<div class=\"alert alert-block alert-success\">\n",
    "<b>✅Комментарий ревьюера 3:</b> Отлично, исправлено!👍  </div>"
   ]
  },
  {
   "cell_type": "markdown",
   "id": "da4ddcff",
   "metadata": {},
   "source": [
    "<div class=\"alert alert-block alert-warning\">\n",
    "<b>🔁Комментарий ревьюера:</b>\n",
    "\n",
    "Тут отлично подошла бы круговая диаграмма с отображением на ней соотношения групп пользователей в %</div>"
   ]
  },
  {
   "cell_type": "markdown",
   "id": "685d0172",
   "metadata": {},
   "source": [
    "<div class=\"alert alert-block alert-success\">\n",
    "<b>✅Комментарий ревьюера 3:</b> Отлично, исправлено!👍  </div>"
   ]
  },
  {
   "cell_type": "markdown",
   "id": "f751cf92",
   "metadata": {},
   "source": [
    "Пользователей без подписки больше примерно на 20%"
   ]
  },
  {
   "cell_type": "markdown",
   "id": "15ab36d3",
   "metadata": {},
   "source": [
    "3. Исследуем возраст пользователей."
   ]
  },
  {
   "cell_type": "code",
   "execution_count": 27,
   "id": "19bee2c7",
   "metadata": {},
   "outputs": [
    {
     "data": {
      "text/plain": [
       "Text(0, 0.5, 'Частота встречаемости')"
      ]
     },
     "execution_count": 27,
     "metadata": {},
     "output_type": "execute_result"
    },
    {
     "data": {
      "image/png": "[encoded data removed]",
      "text/plain": [
       "<Figure size 432x288 with 1 Axes>"
      ]
     },
     "metadata": {
      "needs_background": "light"
     },
     "output_type": "display_data"
    }
   ],
   "source": [
    "data_users['age'].hist(bins=50, range=(0, 50))\n",
    "plt.title('Возраст пользователей')\n",
    "plt.xlabel(\"Возраст, лет\")\n",
    "plt.ylabel(\"Частота встречаемости\")"
   ]
  },
  {
   "cell_type": "code",
   "execution_count": 28,
   "id": "267db693",
   "metadata": {},
   "outputs": [
    {
     "data": {
      "text/plain": [
       "count    1534.000000\n",
       "mean       24.903520\n",
       "std         4.572367\n",
       "min        12.000000\n",
       "25%        22.000000\n",
       "50%        25.000000\n",
       "75%        28.000000\n",
       "max        43.000000\n",
       "Name: age, dtype: float64"
      ]
     },
     "execution_count": 28,
     "metadata": {},
     "output_type": "execute_result"
    }
   ],
   "source": [
    "data_users['age'].describe()"
   ]
  },
  {
   "cell_type": "markdown",
   "id": "2f887f15",
   "metadata": {},
   "source": [
    "Большинство пользователей сервиса в возрасте от 22 до 38 лет."
   ]
  },
  {
   "cell_type": "markdown",
   "id": "23a360e2",
   "metadata": {},
   "source": [
    "<div class=\"alert alert-block alert-warning\">\n",
    "<b>🔁Комментарий ревьюера:</b>\n",
    "\n",
    "Дополнительно для анализа можно использовать метод `describe()` </div>"
   ]
  },
  {
   "cell_type": "markdown",
   "id": "66e28f6a",
   "metadata": {},
   "source": [
    "<div class=\"alert alert-block alert-info\">\n",
    "<b>🔄Комментарий студента:</b> \n",
    "Добавила ✔\n",
    "</div>"
   ]
  },
  {
   "cell_type": "markdown",
   "id": "61867bbb",
   "metadata": {},
   "source": [
    "<div class=\"alert alert-block alert-success\">\n",
    "<b>✅Комментарий ревьюера 3:</b> Отлично, исправлено!👍  </div>"
   ]
  },
  {
   "cell_type": "markdown",
   "id": "3a606977",
   "metadata": {},
   "source": [
    "4. Исследуем расстояние, которое пользователь преодолел за одну поездку."
   ]
  },
  {
   "cell_type": "code",
   "execution_count": 29,
   "id": "a5e687e1",
   "metadata": {},
   "outputs": [
    {
     "data": {
      "text/plain": [
       "Text(0, 0.5, 'Частота встречаемости')"
      ]
     },
     "execution_count": 29,
     "metadata": {},
     "output_type": "execute_result"
    },
    {
     "data": {
      "image/png": "[encoded data removed]",
      "text/plain": [
       "<Figure size 432x288 with 1 Axes>"
      ]
     },
     "metadata": {
      "needs_background": "light"
     },
     "output_type": "display_data"
    }
   ],
   "source": [
    "data_rides['distance'].hist(bins=50, range=(0, 8000))\n",
    "plt.title('Расстояние, которое пользователь преодолел за одну поездку')\n",
    "plt.xlabel(\"Расстояние, м\")\n",
    "plt.ylabel(\"Частота встречаемости\")"
   ]
  },
  {
   "cell_type": "markdown",
   "id": "4c048b1d",
   "metadata": {},
   "source": [
    "<div class=\"alert alert-block alert-danger\">\n",
    "<b>❌Комментарий ревьюера 2:</b>\n",
    "    \n",
    "Каждый график в проекте и оси на нем должны быть подписаны. Без этого проект не может быть принят. Проверь этот момент, пожалуйста. \n",
    "\n",
    "P.S. Выше я оставлял ссылку на статью, в которой показано как это сделать</div>"
   ]
  },
  {
   "cell_type": "markdown",
   "id": "c7565140",
   "metadata": {},
   "source": [
    "<div class=\"alert alert-block alert-info\">\n",
    "<b>🔄Комментарий студента:</b> \n",
    "Исправила.\n",
    "</div>"
   ]
  },
  {
   "cell_type": "markdown",
   "id": "0d4c2bc6",
   "metadata": {},
   "source": [
    "<div class=\"alert alert-block alert-success\">\n",
    "<b>✅Комментарий ревьюера 3:</b> Отлично, исправлено!👍  </div>"
   ]
  },
  {
   "cell_type": "markdown",
   "id": "f364c59e",
   "metadata": {},
   "source": [
    "На основании этой гистограммы мы можем следать вывод, что клиенты сервиса чаще всего используют самокаты для поездок на расстояние от 2 до 5 км. Более большие расстояния преодолеваются на самокатах значительно реже. Также есть небольшой всплеск активности на расстоянии до 1,5 км."
   ]
  },
  {
   "cell_type": "markdown",
   "id": "ecde491f",
   "metadata": {},
   "source": [
    "<div class=\"alert alert-block alert-warning\">\n",
    "<b>🔁Комментарий ревьюера:</b>\n",
    "\n",
    "Как ты думаешь, чем можно объяснить два пиковых значения на распределении?</div>"
   ]
  },
  {
   "cell_type": "markdown",
   "id": "3e4e40a0",
   "metadata": {},
   "source": [
    "<div class=\"alert alert-block alert-info\">\n",
    "<b>🔄Комментарий студента:</b> \n",
    "Тем, что некоторые пользователи без подписки быстро заканчивают поездку, возможно берут самокат, чтобы попробовать сервис.\n",
    "</div>"
   ]
  },
  {
   "cell_type": "markdown",
   "id": "a2a8849f",
   "metadata": {},
   "source": [
    "<div class=\"alert alert-block alert-success\">\n",
    "<b>✅Комментарий ревьюера 3:</b> Также это могут быть поездки до ближайшей станции метро или остановки.  </div>"
   ]
  },
  {
   "cell_type": "markdown",
   "id": "a0037ff0",
   "metadata": {},
   "source": [
    "5. Исследуем продолжительность поездок на такой же гистограмме."
   ]
  },
  {
   "cell_type": "code",
   "execution_count": 30,
   "id": "1eb4dd79",
   "metadata": {},
   "outputs": [
    {
     "data": {
      "text/plain": [
       "Text(0, 0.5, 'Частота встречаемости')"
      ]
     },
     "execution_count": 30,
     "metadata": {},
     "output_type": "execute_result"
    },
    {
     "data": {
      "image/png": "[encoded data removed]",
      "text/plain": [
       "<Figure size 432x288 with 1 Axes>"
      ]
     },
     "metadata": {
      "needs_background": "light"
     },
     "output_type": "display_data"
    }
   ],
   "source": [
    "data_rides['duration'].hist(bins=50, range=(0, 60))\n",
    "plt.title('Продолжительность поездки')\n",
    "plt.xlabel(\"Время, мин\")\n",
    "plt.ylabel(\"Частота встречаемости\")"
   ]
  },
  {
   "cell_type": "markdown",
   "id": "b56d717f",
   "metadata": {
    "id": "5766e785"
   },
   "source": [
    "<div class=\"alert alert-block alert-danger\">\n",
    "<b>❌Комментарий ревьюера:</b> \n",
    "    \n",
    "Напомню, что каждый график в проекте и оси на нем должны быть подписаны</div>"
   ]
  },
  {
   "cell_type": "markdown",
   "id": "50a73316",
   "metadata": {},
   "source": [
    "<div class=\"alert alert-block alert-success\">\n",
    "<b>✅Комментарий ревьюера 3:</b> Отлично, исправлено!👍  </div>"
   ]
  },
  {
   "cell_type": "markdown",
   "id": "bc52a764",
   "metadata": {},
   "source": [
    "\n",
    "<div class=\"alert alert-info\"> <b>Комментарии студента:</b> Построила гистограммы с помощью plot, не нашла способ подписать предыдущие гистограммы. Так же не понимаю, почему не подписываются оси? Что делаю не так?</div>"
   ]
  },
  {
   "cell_type": "markdown",
   "id": "0c9b2ca4",
   "metadata": {},
   "source": [
    "<div class=\"alert alert-block alert-danger\">\n",
    "<b>❌Комментарий ревьюера 2:</b>\n",
    "    \n",
    "Есть [хорошая статья](https://devpractice.ru/matplotlib-lesson-3-3-text-elements/), ссылку на нее я уже оставлял выше, там показано как это можно сделать. \n",
    "\n",
    "Не обязательно строить новые гистограммы с помощью plot, подписи можно добавить к построенным c помощью hist гистограммам, они выглядят намного нагляднее) </div>"
   ]
  },
  {
   "cell_type": "markdown",
   "id": "1c42b1eb",
   "metadata": {},
   "source": [
    "<div class=\"alert alert-block alert-info\">\n",
    "<b>🔄Комментарий студента:</b> \n",
    "Готово, все исправила ✔\n",
    "</div>"
   ]
  },
  {
   "cell_type": "markdown",
   "id": "3e5f7298",
   "metadata": {},
   "source": [
    "<div class=\"alert alert-block alert-success\">\n",
    "<b>✅Комментарий ревьюера 3:</b> Отлично, исправлено!👍  </div>"
   ]
  },
  {
   "cell_type": "markdown",
   "id": "aaf6d0c5",
   "metadata": {},
   "source": [
    "Длительность поездки в среднем от 10 до 30 минут."
   ]
  },
  {
   "cell_type": "markdown",
   "id": "85a90272",
   "metadata": {},
   "source": [
    "<div class=\"alert alert-block alert-warning\">\n",
    "<b>🔁Комментарий ревьюера:</b> \n",
    "    \n",
    "Не обратила ли ты внимание на странный пик около 0? Строки с этими значениями стоит рассмотреть на предмет аномалий. </div>"
   ]
  },
  {
   "cell_type": "markdown",
   "id": "a6802170",
   "metadata": {},
   "source": [
    "<div class=\"alert alert-info\"> <b>Комментарии студента:</b> Да, я обратила внимание на наличие пика около 0, но решила, что это критически не влияет на исследование и оставила как есть.</div>"
   ]
  },
  {
   "cell_type": "markdown",
   "id": "1420bc37",
   "metadata": {},
   "source": [
    "Вывод: общая информация о пользователях и поездках визуализирована, на графиках наглядно показано, как распределяются различные значения, каких пользователей больше, как и для каких поездок клиенты используют услуги сервиса."
   ]
  },
  {
   "cell_type": "markdown",
   "id": "72d06070",
   "metadata": {},
   "source": [
    "#### Шаг 4. Объединение данных"
   ]
  },
  {
   "cell_type": "markdown",
   "id": "a23f79b6",
   "metadata": {},
   "source": [
    "1. Объединим все три датафрейма в один."
   ]
  },
  {
   "cell_type": "code",
   "execution_count": 31,
   "id": "79e23a21",
   "metadata": {},
   "outputs": [
    {
     "data": {
      "text/html": [
       "<div>\n",
       "<style scoped>\n",
       "    .dataframe tbody tr th:only-of-type {\n",
       "        vertical-align: middle;\n",
       "    }\n",
       "\n",
       "    .dataframe tbody tr th {\n",
       "        vertical-align: top;\n",
       "    }\n",
       "\n",
       "    .dataframe thead th {\n",
       "        text-align: right;\n",
       "    }\n",
       "</style>\n",
       "<table border=\"1\" class=\"dataframe\">\n",
       "  <thead>\n",
       "    <tr style=\"text-align: right;\">\n",
       "      <th></th>\n",
       "      <th>user_id</th>\n",
       "      <th>name</th>\n",
       "      <th>age</th>\n",
       "      <th>city</th>\n",
       "      <th>subscription_type</th>\n",
       "      <th>distance</th>\n",
       "      <th>duration</th>\n",
       "      <th>date</th>\n",
       "      <th>month</th>\n",
       "    </tr>\n",
       "  </thead>\n",
       "  <tbody>\n",
       "    <tr>\n",
       "      <th>0</th>\n",
       "      <td>1</td>\n",
       "      <td>Кира</td>\n",
       "      <td>22</td>\n",
       "      <td>Тюмень</td>\n",
       "      <td>ultra</td>\n",
       "      <td>4409.919140</td>\n",
       "      <td>25.599769</td>\n",
       "      <td>2021-01-01</td>\n",
       "      <td>1</td>\n",
       "    </tr>\n",
       "    <tr>\n",
       "      <th>1</th>\n",
       "      <td>1</td>\n",
       "      <td>Кира</td>\n",
       "      <td>22</td>\n",
       "      <td>Тюмень</td>\n",
       "      <td>ultra</td>\n",
       "      <td>2617.592153</td>\n",
       "      <td>15.816871</td>\n",
       "      <td>2021-01-18</td>\n",
       "      <td>1</td>\n",
       "    </tr>\n",
       "    <tr>\n",
       "      <th>2</th>\n",
       "      <td>1</td>\n",
       "      <td>Кира</td>\n",
       "      <td>22</td>\n",
       "      <td>Тюмень</td>\n",
       "      <td>ultra</td>\n",
       "      <td>754.159807</td>\n",
       "      <td>6.232113</td>\n",
       "      <td>2021-04-20</td>\n",
       "      <td>4</td>\n",
       "    </tr>\n",
       "    <tr>\n",
       "      <th>3</th>\n",
       "      <td>1</td>\n",
       "      <td>Кира</td>\n",
       "      <td>22</td>\n",
       "      <td>Тюмень</td>\n",
       "      <td>ultra</td>\n",
       "      <td>2694.783254</td>\n",
       "      <td>18.511000</td>\n",
       "      <td>2021-08-11</td>\n",
       "      <td>8</td>\n",
       "    </tr>\n",
       "    <tr>\n",
       "      <th>4</th>\n",
       "      <td>1</td>\n",
       "      <td>Кира</td>\n",
       "      <td>22</td>\n",
       "      <td>Тюмень</td>\n",
       "      <td>ultra</td>\n",
       "      <td>4028.687306</td>\n",
       "      <td>26.265803</td>\n",
       "      <td>2021-08-28</td>\n",
       "      <td>8</td>\n",
       "    </tr>\n",
       "    <tr>\n",
       "      <th>5</th>\n",
       "      <td>1</td>\n",
       "      <td>Кира</td>\n",
       "      <td>22</td>\n",
       "      <td>Тюмень</td>\n",
       "      <td>ultra</td>\n",
       "      <td>2770.890808</td>\n",
       "      <td>16.650138</td>\n",
       "      <td>2021-10-09</td>\n",
       "      <td>10</td>\n",
       "    </tr>\n",
       "    <tr>\n",
       "      <th>6</th>\n",
       "      <td>1</td>\n",
       "      <td>Кира</td>\n",
       "      <td>22</td>\n",
       "      <td>Тюмень</td>\n",
       "      <td>ultra</td>\n",
       "      <td>3039.020292</td>\n",
       "      <td>14.927879</td>\n",
       "      <td>2021-10-19</td>\n",
       "      <td>10</td>\n",
       "    </tr>\n",
       "    <tr>\n",
       "      <th>7</th>\n",
       "      <td>1</td>\n",
       "      <td>Кира</td>\n",
       "      <td>22</td>\n",
       "      <td>Тюмень</td>\n",
       "      <td>ultra</td>\n",
       "      <td>2842.118050</td>\n",
       "      <td>23.117468</td>\n",
       "      <td>2021-11-06</td>\n",
       "      <td>11</td>\n",
       "    </tr>\n",
       "    <tr>\n",
       "      <th>8</th>\n",
       "      <td>1</td>\n",
       "      <td>Кира</td>\n",
       "      <td>22</td>\n",
       "      <td>Тюмень</td>\n",
       "      <td>ultra</td>\n",
       "      <td>3412.690668</td>\n",
       "      <td>15.238072</td>\n",
       "      <td>2021-11-14</td>\n",
       "      <td>11</td>\n",
       "    </tr>\n",
       "    <tr>\n",
       "      <th>9</th>\n",
       "      <td>1</td>\n",
       "      <td>Кира</td>\n",
       "      <td>22</td>\n",
       "      <td>Тюмень</td>\n",
       "      <td>ultra</td>\n",
       "      <td>748.690645</td>\n",
       "      <td>15.041884</td>\n",
       "      <td>2021-11-22</td>\n",
       "      <td>11</td>\n",
       "    </tr>\n",
       "    <tr>\n",
       "      <th>10</th>\n",
       "      <td>1</td>\n",
       "      <td>Кира</td>\n",
       "      <td>22</td>\n",
       "      <td>Тюмень</td>\n",
       "      <td>ultra</td>\n",
       "      <td>4031.020195</td>\n",
       "      <td>17.674448</td>\n",
       "      <td>2021-12-14</td>\n",
       "      <td>12</td>\n",
       "    </tr>\n",
       "    <tr>\n",
       "      <th>11</th>\n",
       "      <td>1</td>\n",
       "      <td>Кира</td>\n",
       "      <td>22</td>\n",
       "      <td>Тюмень</td>\n",
       "      <td>ultra</td>\n",
       "      <td>2720.609748</td>\n",
       "      <td>9.529463</td>\n",
       "      <td>2021-12-22</td>\n",
       "      <td>12</td>\n",
       "    </tr>\n",
       "    <tr>\n",
       "      <th>12</th>\n",
       "      <td>2</td>\n",
       "      <td>Станислав</td>\n",
       "      <td>31</td>\n",
       "      <td>Омск</td>\n",
       "      <td>ultra</td>\n",
       "      <td>3105.086678</td>\n",
       "      <td>24.307514</td>\n",
       "      <td>2021-03-15</td>\n",
       "      <td>3</td>\n",
       "    </tr>\n",
       "    <tr>\n",
       "      <th>13</th>\n",
       "      <td>2</td>\n",
       "      <td>Станислав</td>\n",
       "      <td>31</td>\n",
       "      <td>Омск</td>\n",
       "      <td>ultra</td>\n",
       "      <td>3053.519401</td>\n",
       "      <td>11.543256</td>\n",
       "      <td>2021-03-18</td>\n",
       "      <td>3</td>\n",
       "    </tr>\n",
       "    <tr>\n",
       "      <th>14</th>\n",
       "      <td>2</td>\n",
       "      <td>Станислав</td>\n",
       "      <td>31</td>\n",
       "      <td>Омск</td>\n",
       "      <td>ultra</td>\n",
       "      <td>4029.116927</td>\n",
       "      <td>25.109188</td>\n",
       "      <td>2021-03-23</td>\n",
       "      <td>3</td>\n",
       "    </tr>\n",
       "    <tr>\n",
       "      <th>15</th>\n",
       "      <td>2</td>\n",
       "      <td>Станислав</td>\n",
       "      <td>31</td>\n",
       "      <td>Омск</td>\n",
       "      <td>ultra</td>\n",
       "      <td>2805.786329</td>\n",
       "      <td>20.652145</td>\n",
       "      <td>2021-04-08</td>\n",
       "      <td>4</td>\n",
       "    </tr>\n",
       "    <tr>\n",
       "      <th>16</th>\n",
       "      <td>2</td>\n",
       "      <td>Станислав</td>\n",
       "      <td>31</td>\n",
       "      <td>Омск</td>\n",
       "      <td>ultra</td>\n",
       "      <td>3358.595495</td>\n",
       "      <td>18.396489</td>\n",
       "      <td>2021-04-13</td>\n",
       "      <td>4</td>\n",
       "    </tr>\n",
       "    <tr>\n",
       "      <th>17</th>\n",
       "      <td>2</td>\n",
       "      <td>Станислав</td>\n",
       "      <td>31</td>\n",
       "      <td>Омск</td>\n",
       "      <td>ultra</td>\n",
       "      <td>3255.338202</td>\n",
       "      <td>13.851127</td>\n",
       "      <td>2021-06-20</td>\n",
       "      <td>6</td>\n",
       "    </tr>\n",
       "    <tr>\n",
       "      <th>18</th>\n",
       "      <td>2</td>\n",
       "      <td>Станислав</td>\n",
       "      <td>31</td>\n",
       "      <td>Омск</td>\n",
       "      <td>ultra</td>\n",
       "      <td>3942.817648</td>\n",
       "      <td>20.142725</td>\n",
       "      <td>2021-07-02</td>\n",
       "      <td>7</td>\n",
       "    </tr>\n",
       "    <tr>\n",
       "      <th>19</th>\n",
       "      <td>2</td>\n",
       "      <td>Станислав</td>\n",
       "      <td>31</td>\n",
       "      <td>Омск</td>\n",
       "      <td>ultra</td>\n",
       "      <td>2837.905316</td>\n",
       "      <td>26.027432</td>\n",
       "      <td>2021-07-18</td>\n",
       "      <td>7</td>\n",
       "    </tr>\n",
       "  </tbody>\n",
       "</table>\n",
       "</div>"
      ],
      "text/plain": [
       "    user_id       name  age    city subscription_type     distance   duration  \\\n",
       "0         1       Кира   22  Тюмень             ultra  4409.919140  25.599769   \n",
       "1         1       Кира   22  Тюмень             ultra  2617.592153  15.816871   \n",
       "2         1       Кира   22  Тюмень             ultra   754.159807   6.232113   \n",
       "3         1       Кира   22  Тюмень             ultra  2694.783254  18.511000   \n",
       "4         1       Кира   22  Тюмень             ultra  4028.687306  26.265803   \n",
       "5         1       Кира   22  Тюмень             ultra  2770.890808  16.650138   \n",
       "6         1       Кира   22  Тюмень             ultra  3039.020292  14.927879   \n",
       "7         1       Кира   22  Тюмень             ultra  2842.118050  23.117468   \n",
       "8         1       Кира   22  Тюмень             ultra  3412.690668  15.238072   \n",
       "9         1       Кира   22  Тюмень             ultra   748.690645  15.041884   \n",
       "10        1       Кира   22  Тюмень             ultra  4031.020195  17.674448   \n",
       "11        1       Кира   22  Тюмень             ultra  2720.609748   9.529463   \n",
       "12        2  Станислав   31    Омск             ultra  3105.086678  24.307514   \n",
       "13        2  Станислав   31    Омск             ultra  3053.519401  11.543256   \n",
       "14        2  Станислав   31    Омск             ultra  4029.116927  25.109188   \n",
       "15        2  Станислав   31    Омск             ultra  2805.786329  20.652145   \n",
       "16        2  Станислав   31    Омск             ultra  3358.595495  18.396489   \n",
       "17        2  Станислав   31    Омск             ultra  3255.338202  13.851127   \n",
       "18        2  Станислав   31    Омск             ultra  3942.817648  20.142725   \n",
       "19        2  Станислав   31    Омск             ultra  2837.905316  26.027432   \n",
       "\n",
       "         date  month  \n",
       "0  2021-01-01      1  \n",
       "1  2021-01-18      1  \n",
       "2  2021-04-20      4  \n",
       "3  2021-08-11      8  \n",
       "4  2021-08-28      8  \n",
       "5  2021-10-09     10  \n",
       "6  2021-10-19     10  \n",
       "7  2021-11-06     11  \n",
       "8  2021-11-14     11  \n",
       "9  2021-11-22     11  \n",
       "10 2021-12-14     12  \n",
       "11 2021-12-22     12  \n",
       "12 2021-03-15      3  \n",
       "13 2021-03-18      3  \n",
       "14 2021-03-23      3  \n",
       "15 2021-04-08      4  \n",
       "16 2021-04-13      4  \n",
       "17 2021-06-20      6  \n",
       "18 2021-07-02      7  \n",
       "19 2021-07-18      7  "
      ]
     },
     "execution_count": 31,
     "metadata": {},
     "output_type": "execute_result"
    }
   ],
   "source": [
    "data = data_users.merge(data_rides, on='user_id', how='left')\n",
    "data.head(20)"
   ]
  },
  {
   "cell_type": "code",
   "execution_count": 32,
   "id": "c4c3031c",
   "metadata": {},
   "outputs": [
    {
     "data": {
      "text/html": [
       "<div>\n",
       "<style scoped>\n",
       "    .dataframe tbody tr th:only-of-type {\n",
       "        vertical-align: middle;\n",
       "    }\n",
       "\n",
       "    .dataframe tbody tr th {\n",
       "        vertical-align: top;\n",
       "    }\n",
       "\n",
       "    .dataframe thead th {\n",
       "        text-align: right;\n",
       "    }\n",
       "</style>\n",
       "<table border=\"1\" class=\"dataframe\">\n",
       "  <thead>\n",
       "    <tr style=\"text-align: right;\">\n",
       "      <th></th>\n",
       "      <th>user_id</th>\n",
       "      <th>name</th>\n",
       "      <th>age</th>\n",
       "      <th>city</th>\n",
       "      <th>subscription_type</th>\n",
       "      <th>distance</th>\n",
       "      <th>duration</th>\n",
       "      <th>date</th>\n",
       "      <th>month</th>\n",
       "      <th>minute_price</th>\n",
       "      <th>start_ride_price</th>\n",
       "      <th>subscription_fee</th>\n",
       "    </tr>\n",
       "  </thead>\n",
       "  <tbody>\n",
       "    <tr>\n",
       "      <th>0</th>\n",
       "      <td>1</td>\n",
       "      <td>Кира</td>\n",
       "      <td>22</td>\n",
       "      <td>Тюмень</td>\n",
       "      <td>ultra</td>\n",
       "      <td>4409.919140</td>\n",
       "      <td>25.599769</td>\n",
       "      <td>2021-01-01</td>\n",
       "      <td>1</td>\n",
       "      <td>6</td>\n",
       "      <td>0</td>\n",
       "      <td>199</td>\n",
       "    </tr>\n",
       "    <tr>\n",
       "      <th>1</th>\n",
       "      <td>1</td>\n",
       "      <td>Кира</td>\n",
       "      <td>22</td>\n",
       "      <td>Тюмень</td>\n",
       "      <td>ultra</td>\n",
       "      <td>2617.592153</td>\n",
       "      <td>15.816871</td>\n",
       "      <td>2021-01-18</td>\n",
       "      <td>1</td>\n",
       "      <td>6</td>\n",
       "      <td>0</td>\n",
       "      <td>199</td>\n",
       "    </tr>\n",
       "    <tr>\n",
       "      <th>2</th>\n",
       "      <td>1</td>\n",
       "      <td>Кира</td>\n",
       "      <td>22</td>\n",
       "      <td>Тюмень</td>\n",
       "      <td>ultra</td>\n",
       "      <td>754.159807</td>\n",
       "      <td>6.232113</td>\n",
       "      <td>2021-04-20</td>\n",
       "      <td>4</td>\n",
       "      <td>6</td>\n",
       "      <td>0</td>\n",
       "      <td>199</td>\n",
       "    </tr>\n",
       "    <tr>\n",
       "      <th>3</th>\n",
       "      <td>1</td>\n",
       "      <td>Кира</td>\n",
       "      <td>22</td>\n",
       "      <td>Тюмень</td>\n",
       "      <td>ultra</td>\n",
       "      <td>2694.783254</td>\n",
       "      <td>18.511000</td>\n",
       "      <td>2021-08-11</td>\n",
       "      <td>8</td>\n",
       "      <td>6</td>\n",
       "      <td>0</td>\n",
       "      <td>199</td>\n",
       "    </tr>\n",
       "    <tr>\n",
       "      <th>4</th>\n",
       "      <td>1</td>\n",
       "      <td>Кира</td>\n",
       "      <td>22</td>\n",
       "      <td>Тюмень</td>\n",
       "      <td>ultra</td>\n",
       "      <td>4028.687306</td>\n",
       "      <td>26.265803</td>\n",
       "      <td>2021-08-28</td>\n",
       "      <td>8</td>\n",
       "      <td>6</td>\n",
       "      <td>0</td>\n",
       "      <td>199</td>\n",
       "    </tr>\n",
       "    <tr>\n",
       "      <th>5</th>\n",
       "      <td>1</td>\n",
       "      <td>Кира</td>\n",
       "      <td>22</td>\n",
       "      <td>Тюмень</td>\n",
       "      <td>ultra</td>\n",
       "      <td>2770.890808</td>\n",
       "      <td>16.650138</td>\n",
       "      <td>2021-10-09</td>\n",
       "      <td>10</td>\n",
       "      <td>6</td>\n",
       "      <td>0</td>\n",
       "      <td>199</td>\n",
       "    </tr>\n",
       "    <tr>\n",
       "      <th>6</th>\n",
       "      <td>1</td>\n",
       "      <td>Кира</td>\n",
       "      <td>22</td>\n",
       "      <td>Тюмень</td>\n",
       "      <td>ultra</td>\n",
       "      <td>3039.020292</td>\n",
       "      <td>14.927879</td>\n",
       "      <td>2021-10-19</td>\n",
       "      <td>10</td>\n",
       "      <td>6</td>\n",
       "      <td>0</td>\n",
       "      <td>199</td>\n",
       "    </tr>\n",
       "    <tr>\n",
       "      <th>7</th>\n",
       "      <td>1</td>\n",
       "      <td>Кира</td>\n",
       "      <td>22</td>\n",
       "      <td>Тюмень</td>\n",
       "      <td>ultra</td>\n",
       "      <td>2842.118050</td>\n",
       "      <td>23.117468</td>\n",
       "      <td>2021-11-06</td>\n",
       "      <td>11</td>\n",
       "      <td>6</td>\n",
       "      <td>0</td>\n",
       "      <td>199</td>\n",
       "    </tr>\n",
       "    <tr>\n",
       "      <th>8</th>\n",
       "      <td>1</td>\n",
       "      <td>Кира</td>\n",
       "      <td>22</td>\n",
       "      <td>Тюмень</td>\n",
       "      <td>ultra</td>\n",
       "      <td>3412.690668</td>\n",
       "      <td>15.238072</td>\n",
       "      <td>2021-11-14</td>\n",
       "      <td>11</td>\n",
       "      <td>6</td>\n",
       "      <td>0</td>\n",
       "      <td>199</td>\n",
       "    </tr>\n",
       "    <tr>\n",
       "      <th>9</th>\n",
       "      <td>1</td>\n",
       "      <td>Кира</td>\n",
       "      <td>22</td>\n",
       "      <td>Тюмень</td>\n",
       "      <td>ultra</td>\n",
       "      <td>748.690645</td>\n",
       "      <td>15.041884</td>\n",
       "      <td>2021-11-22</td>\n",
       "      <td>11</td>\n",
       "      <td>6</td>\n",
       "      <td>0</td>\n",
       "      <td>199</td>\n",
       "    </tr>\n",
       "    <tr>\n",
       "      <th>10</th>\n",
       "      <td>1</td>\n",
       "      <td>Кира</td>\n",
       "      <td>22</td>\n",
       "      <td>Тюмень</td>\n",
       "      <td>ultra</td>\n",
       "      <td>4031.020195</td>\n",
       "      <td>17.674448</td>\n",
       "      <td>2021-12-14</td>\n",
       "      <td>12</td>\n",
       "      <td>6</td>\n",
       "      <td>0</td>\n",
       "      <td>199</td>\n",
       "    </tr>\n",
       "    <tr>\n",
       "      <th>11</th>\n",
       "      <td>1</td>\n",
       "      <td>Кира</td>\n",
       "      <td>22</td>\n",
       "      <td>Тюмень</td>\n",
       "      <td>ultra</td>\n",
       "      <td>2720.609748</td>\n",
       "      <td>9.529463</td>\n",
       "      <td>2021-12-22</td>\n",
       "      <td>12</td>\n",
       "      <td>6</td>\n",
       "      <td>0</td>\n",
       "      <td>199</td>\n",
       "    </tr>\n",
       "    <tr>\n",
       "      <th>12</th>\n",
       "      <td>2</td>\n",
       "      <td>Станислав</td>\n",
       "      <td>31</td>\n",
       "      <td>Омск</td>\n",
       "      <td>ultra</td>\n",
       "      <td>3105.086678</td>\n",
       "      <td>24.307514</td>\n",
       "      <td>2021-03-15</td>\n",
       "      <td>3</td>\n",
       "      <td>6</td>\n",
       "      <td>0</td>\n",
       "      <td>199</td>\n",
       "    </tr>\n",
       "    <tr>\n",
       "      <th>13</th>\n",
       "      <td>2</td>\n",
       "      <td>Станислав</td>\n",
       "      <td>31</td>\n",
       "      <td>Омск</td>\n",
       "      <td>ultra</td>\n",
       "      <td>3053.519401</td>\n",
       "      <td>11.543256</td>\n",
       "      <td>2021-03-18</td>\n",
       "      <td>3</td>\n",
       "      <td>6</td>\n",
       "      <td>0</td>\n",
       "      <td>199</td>\n",
       "    </tr>\n",
       "    <tr>\n",
       "      <th>14</th>\n",
       "      <td>2</td>\n",
       "      <td>Станислав</td>\n",
       "      <td>31</td>\n",
       "      <td>Омск</td>\n",
       "      <td>ultra</td>\n",
       "      <td>4029.116927</td>\n",
       "      <td>25.109188</td>\n",
       "      <td>2021-03-23</td>\n",
       "      <td>3</td>\n",
       "      <td>6</td>\n",
       "      <td>0</td>\n",
       "      <td>199</td>\n",
       "    </tr>\n",
       "    <tr>\n",
       "      <th>15</th>\n",
       "      <td>2</td>\n",
       "      <td>Станислав</td>\n",
       "      <td>31</td>\n",
       "      <td>Омск</td>\n",
       "      <td>ultra</td>\n",
       "      <td>2805.786329</td>\n",
       "      <td>20.652145</td>\n",
       "      <td>2021-04-08</td>\n",
       "      <td>4</td>\n",
       "      <td>6</td>\n",
       "      <td>0</td>\n",
       "      <td>199</td>\n",
       "    </tr>\n",
       "    <tr>\n",
       "      <th>16</th>\n",
       "      <td>2</td>\n",
       "      <td>Станислав</td>\n",
       "      <td>31</td>\n",
       "      <td>Омск</td>\n",
       "      <td>ultra</td>\n",
       "      <td>3358.595495</td>\n",
       "      <td>18.396489</td>\n",
       "      <td>2021-04-13</td>\n",
       "      <td>4</td>\n",
       "      <td>6</td>\n",
       "      <td>0</td>\n",
       "      <td>199</td>\n",
       "    </tr>\n",
       "    <tr>\n",
       "      <th>17</th>\n",
       "      <td>2</td>\n",
       "      <td>Станислав</td>\n",
       "      <td>31</td>\n",
       "      <td>Омск</td>\n",
       "      <td>ultra</td>\n",
       "      <td>3255.338202</td>\n",
       "      <td>13.851127</td>\n",
       "      <td>2021-06-20</td>\n",
       "      <td>6</td>\n",
       "      <td>6</td>\n",
       "      <td>0</td>\n",
       "      <td>199</td>\n",
       "    </tr>\n",
       "    <tr>\n",
       "      <th>18</th>\n",
       "      <td>2</td>\n",
       "      <td>Станислав</td>\n",
       "      <td>31</td>\n",
       "      <td>Омск</td>\n",
       "      <td>ultra</td>\n",
       "      <td>3942.817648</td>\n",
       "      <td>20.142725</td>\n",
       "      <td>2021-07-02</td>\n",
       "      <td>7</td>\n",
       "      <td>6</td>\n",
       "      <td>0</td>\n",
       "      <td>199</td>\n",
       "    </tr>\n",
       "    <tr>\n",
       "      <th>19</th>\n",
       "      <td>2</td>\n",
       "      <td>Станислав</td>\n",
       "      <td>31</td>\n",
       "      <td>Омск</td>\n",
       "      <td>ultra</td>\n",
       "      <td>2837.905316</td>\n",
       "      <td>26.027432</td>\n",
       "      <td>2021-07-18</td>\n",
       "      <td>7</td>\n",
       "      <td>6</td>\n",
       "      <td>0</td>\n",
       "      <td>199</td>\n",
       "    </tr>\n",
       "  </tbody>\n",
       "</table>\n",
       "</div>"
      ],
      "text/plain": [
       "    user_id       name  age    city subscription_type     distance   duration  \\\n",
       "0         1       Кира   22  Тюмень             ultra  4409.919140  25.599769   \n",
       "1         1       Кира   22  Тюмень             ultra  2617.592153  15.816871   \n",
       "2         1       Кира   22  Тюмень             ultra   754.159807   6.232113   \n",
       "3         1       Кира   22  Тюмень             ultra  2694.783254  18.511000   \n",
       "4         1       Кира   22  Тюмень             ultra  4028.687306  26.265803   \n",
       "5         1       Кира   22  Тюмень             ultra  2770.890808  16.650138   \n",
       "6         1       Кира   22  Тюмень             ultra  3039.020292  14.927879   \n",
       "7         1       Кира   22  Тюмень             ultra  2842.118050  23.117468   \n",
       "8         1       Кира   22  Тюмень             ultra  3412.690668  15.238072   \n",
       "9         1       Кира   22  Тюмень             ultra   748.690645  15.041884   \n",
       "10        1       Кира   22  Тюмень             ultra  4031.020195  17.674448   \n",
       "11        1       Кира   22  Тюмень             ultra  2720.609748   9.529463   \n",
       "12        2  Станислав   31    Омск             ultra  3105.086678  24.307514   \n",
       "13        2  Станислав   31    Омск             ultra  3053.519401  11.543256   \n",
       "14        2  Станислав   31    Омск             ultra  4029.116927  25.109188   \n",
       "15        2  Станислав   31    Омск             ultra  2805.786329  20.652145   \n",
       "16        2  Станислав   31    Омск             ultra  3358.595495  18.396489   \n",
       "17        2  Станислав   31    Омск             ultra  3255.338202  13.851127   \n",
       "18        2  Станислав   31    Омск             ultra  3942.817648  20.142725   \n",
       "19        2  Станислав   31    Омск             ultra  2837.905316  26.027432   \n",
       "\n",
       "         date  month  minute_price  start_ride_price  subscription_fee  \n",
       "0  2021-01-01      1             6                 0               199  \n",
       "1  2021-01-18      1             6                 0               199  \n",
       "2  2021-04-20      4             6                 0               199  \n",
       "3  2021-08-11      8             6                 0               199  \n",
       "4  2021-08-28      8             6                 0               199  \n",
       "5  2021-10-09     10             6                 0               199  \n",
       "6  2021-10-19     10             6                 0               199  \n",
       "7  2021-11-06     11             6                 0               199  \n",
       "8  2021-11-14     11             6                 0               199  \n",
       "9  2021-11-22     11             6                 0               199  \n",
       "10 2021-12-14     12             6                 0               199  \n",
       "11 2021-12-22     12             6                 0               199  \n",
       "12 2021-03-15      3             6                 0               199  \n",
       "13 2021-03-18      3             6                 0               199  \n",
       "14 2021-03-23      3             6                 0               199  \n",
       "15 2021-04-08      4             6                 0               199  \n",
       "16 2021-04-13      4             6                 0               199  \n",
       "17 2021-06-20      6             6                 0               199  \n",
       "18 2021-07-02      7             6                 0               199  \n",
       "19 2021-07-18      7             6                 0               199  "
      ]
     },
     "execution_count": 32,
     "metadata": {},
     "output_type": "execute_result"
    }
   ],
   "source": [
    "data = data.merge(data_subscriptions, on='subscription_type', how='left')\n",
    "data.head(20)"
   ]
  },
  {
   "cell_type": "markdown",
   "id": "634cda1e",
   "metadata": {},
   "source": [
    "<div class=\"alert alert-block alert-warning\">\n",
    "<b>🔁Комментарий ревьюера:</b>\n",
    "\n",
    "Тут стоит проверить количество строк полученной таблицы и сравнить ее с количеством строк таблиц до объединения, чтобы убедиться что мы ничего не потеряли.\n",
    "\n",
    "</div>"
   ]
  },
  {
   "cell_type": "markdown",
   "id": "23f80c40",
   "metadata": {},
   "source": [
    "<div class=\"alert alert-block alert-info\">\n",
    "<b>🔄Комментарий студента:</b> \n",
    "Проверила, ничего не потерялось ✔\n",
    "</div>"
   ]
  },
  {
   "cell_type": "markdown",
   "id": "ecdffc04",
   "metadata": {},
   "source": [
    "<div class=\"alert alert-block alert-success\">\n",
    "<b>✅Комментарий ревьюера 3:</b> Отлично, исправлено!👍  </div>"
   ]
  },
  {
   "cell_type": "markdown",
   "id": "e394b8b5",
   "metadata": {},
   "source": [
    "Проверим количество строк в исходных таблицах, и в таблице после объединения."
   ]
  },
  {
   "cell_type": "code",
   "execution_count": 33,
   "id": "e95906d8",
   "metadata": {},
   "outputs": [
    {
     "name": "stdout",
     "output_type": "stream",
     "text": [
      "<class 'pandas.core.frame.DataFrame'>\n",
      "Int64Index: 18068 entries, 0 to 18067\n",
      "Data columns (total 12 columns):\n",
      " #   Column             Non-Null Count  Dtype         \n",
      "---  ------             --------------  -----         \n",
      " 0   user_id            18068 non-null  int64         \n",
      " 1   name               18068 non-null  object        \n",
      " 2   age                18068 non-null  int64         \n",
      " 3   city               18068 non-null  object        \n",
      " 4   subscription_type  18068 non-null  object        \n",
      " 5   distance           18068 non-null  float64       \n",
      " 6   duration           18068 non-null  float64       \n",
      " 7   date               18068 non-null  datetime64[ns]\n",
      " 8   month              18068 non-null  int64         \n",
      " 9   minute_price       18068 non-null  int64         \n",
      " 10  start_ride_price   18068 non-null  int64         \n",
      " 11  subscription_fee   18068 non-null  int64         \n",
      "dtypes: datetime64[ns](1), float64(2), int64(6), object(3)\n",
      "memory usage: 1.8+ MB\n"
     ]
    }
   ],
   "source": [
    "data.info()"
   ]
  },
  {
   "cell_type": "code",
   "execution_count": 34,
   "id": "572e3cb9",
   "metadata": {},
   "outputs": [
    {
     "name": "stdout",
     "output_type": "stream",
     "text": [
      "<class 'pandas.core.frame.DataFrame'>\n",
      "RangeIndex: 1534 entries, 0 to 1533\n",
      "Data columns (total 5 columns):\n",
      " #   Column             Non-Null Count  Dtype \n",
      "---  ------             --------------  ----- \n",
      " 0   user_id            1534 non-null   int64 \n",
      " 1   name               1534 non-null   object\n",
      " 2   age                1534 non-null   int64 \n",
      " 3   city               1534 non-null   object\n",
      " 4   subscription_type  1534 non-null   object\n",
      "dtypes: int64(2), object(3)\n",
      "memory usage: 60.0+ KB\n"
     ]
    }
   ],
   "source": [
    "data_users.info()"
   ]
  },
  {
   "cell_type": "code",
   "execution_count": 35,
   "id": "13ce2d00",
   "metadata": {},
   "outputs": [
    {
     "name": "stdout",
     "output_type": "stream",
     "text": [
      "<class 'pandas.core.frame.DataFrame'>\n",
      "RangeIndex: 18068 entries, 0 to 18067\n",
      "Data columns (total 5 columns):\n",
      " #   Column    Non-Null Count  Dtype         \n",
      "---  ------    --------------  -----         \n",
      " 0   user_id   18068 non-null  int64         \n",
      " 1   distance  18068 non-null  float64       \n",
      " 2   duration  18068 non-null  float64       \n",
      " 3   date      18068 non-null  datetime64[ns]\n",
      " 4   month     18068 non-null  int64         \n",
      "dtypes: datetime64[ns](1), float64(2), int64(2)\n",
      "memory usage: 705.9 KB\n"
     ]
    }
   ],
   "source": [
    "data_rides.info()"
   ]
  },
  {
   "cell_type": "code",
   "execution_count": 36,
   "id": "af3e76f2",
   "metadata": {},
   "outputs": [
    {
     "name": "stdout",
     "output_type": "stream",
     "text": [
      "<class 'pandas.core.frame.DataFrame'>\n",
      "RangeIndex: 2 entries, 0 to 1\n",
      "Data columns (total 4 columns):\n",
      " #   Column             Non-Null Count  Dtype \n",
      "---  ------             --------------  ----- \n",
      " 0   subscription_type  2 non-null      object\n",
      " 1   minute_price       2 non-null      int64 \n",
      " 2   start_ride_price   2 non-null      int64 \n",
      " 3   subscription_fee   2 non-null      int64 \n",
      "dtypes: int64(3), object(1)\n",
      "memory usage: 192.0+ bytes\n"
     ]
    }
   ],
   "source": [
    "data_subscriptions.info()"
   ]
  },
  {
   "cell_type": "markdown",
   "id": "8c073503",
   "metadata": {},
   "source": [
    "В общей таблиц такое же количество строк, как и в самой большой исходной таблице с информацией о поездках, значит, мы ничего не потеряли в ходе объединения."
   ]
  },
  {
   "cell_type": "markdown",
   "id": "1723effb",
   "metadata": {},
   "source": [
    "Общий датафрейм создан."
   ]
  },
  {
   "cell_type": "markdown",
   "id": "e5667d4c",
   "metadata": {},
   "source": [
    "2. Создадим из общего датафрейма отдельный датафрейм c данными о пользователях без подписки."
   ]
  },
  {
   "cell_type": "code",
   "execution_count": 37,
   "id": "0dea98b0",
   "metadata": {},
   "outputs": [
    {
     "data": {
      "text/html": [
       "<div>\n",
       "<style scoped>\n",
       "    .dataframe tbody tr th:only-of-type {\n",
       "        vertical-align: middle;\n",
       "    }\n",
       "\n",
       "    .dataframe tbody tr th {\n",
       "        vertical-align: top;\n",
       "    }\n",
       "\n",
       "    .dataframe thead th {\n",
       "        text-align: right;\n",
       "    }\n",
       "</style>\n",
       "<table border=\"1\" class=\"dataframe\">\n",
       "  <thead>\n",
       "    <tr style=\"text-align: right;\">\n",
       "      <th></th>\n",
       "      <th>user_id</th>\n",
       "      <th>name</th>\n",
       "      <th>age</th>\n",
       "      <th>city</th>\n",
       "      <th>subscription_type</th>\n",
       "      <th>distance</th>\n",
       "      <th>duration</th>\n",
       "      <th>date</th>\n",
       "      <th>month</th>\n",
       "      <th>minute_price</th>\n",
       "      <th>start_ride_price</th>\n",
       "      <th>subscription_fee</th>\n",
       "    </tr>\n",
       "  </thead>\n",
       "  <tbody>\n",
       "    <tr>\n",
       "      <th>6500</th>\n",
       "      <td>700</td>\n",
       "      <td>Айдар</td>\n",
       "      <td>22</td>\n",
       "      <td>Омск</td>\n",
       "      <td>free</td>\n",
       "      <td>2515.690719</td>\n",
       "      <td>14.944286</td>\n",
       "      <td>2021-01-02</td>\n",
       "      <td>1</td>\n",
       "      <td>8</td>\n",
       "      <td>50</td>\n",
       "      <td>0</td>\n",
       "    </tr>\n",
       "    <tr>\n",
       "      <th>6501</th>\n",
       "      <td>700</td>\n",
       "      <td>Айдар</td>\n",
       "      <td>22</td>\n",
       "      <td>Омск</td>\n",
       "      <td>free</td>\n",
       "      <td>846.932642</td>\n",
       "      <td>16.234663</td>\n",
       "      <td>2021-02-01</td>\n",
       "      <td>2</td>\n",
       "      <td>8</td>\n",
       "      <td>50</td>\n",
       "      <td>0</td>\n",
       "    </tr>\n",
       "    <tr>\n",
       "      <th>6502</th>\n",
       "      <td>700</td>\n",
       "      <td>Айдар</td>\n",
       "      <td>22</td>\n",
       "      <td>Омск</td>\n",
       "      <td>free</td>\n",
       "      <td>4004.434142</td>\n",
       "      <td>20.016628</td>\n",
       "      <td>2021-02-04</td>\n",
       "      <td>2</td>\n",
       "      <td>8</td>\n",
       "      <td>50</td>\n",
       "      <td>0</td>\n",
       "    </tr>\n",
       "    <tr>\n",
       "      <th>6503</th>\n",
       "      <td>700</td>\n",
       "      <td>Айдар</td>\n",
       "      <td>22</td>\n",
       "      <td>Омск</td>\n",
       "      <td>free</td>\n",
       "      <td>1205.911290</td>\n",
       "      <td>9.782872</td>\n",
       "      <td>2021-02-10</td>\n",
       "      <td>2</td>\n",
       "      <td>8</td>\n",
       "      <td>50</td>\n",
       "      <td>0</td>\n",
       "    </tr>\n",
       "    <tr>\n",
       "      <th>6504</th>\n",
       "      <td>700</td>\n",
       "      <td>Айдар</td>\n",
       "      <td>22</td>\n",
       "      <td>Омск</td>\n",
       "      <td>free</td>\n",
       "      <td>3047.379435</td>\n",
       "      <td>17.427673</td>\n",
       "      <td>2021-02-14</td>\n",
       "      <td>2</td>\n",
       "      <td>8</td>\n",
       "      <td>50</td>\n",
       "      <td>0</td>\n",
       "    </tr>\n",
       "    <tr>\n",
       "      <th>6505</th>\n",
       "      <td>700</td>\n",
       "      <td>Айдар</td>\n",
       "      <td>22</td>\n",
       "      <td>Омск</td>\n",
       "      <td>free</td>\n",
       "      <td>4342.002254</td>\n",
       "      <td>22.368009</td>\n",
       "      <td>2021-02-23</td>\n",
       "      <td>2</td>\n",
       "      <td>8</td>\n",
       "      <td>50</td>\n",
       "      <td>0</td>\n",
       "    </tr>\n",
       "    <tr>\n",
       "      <th>6506</th>\n",
       "      <td>700</td>\n",
       "      <td>Айдар</td>\n",
       "      <td>22</td>\n",
       "      <td>Омск</td>\n",
       "      <td>free</td>\n",
       "      <td>3798.334905</td>\n",
       "      <td>18.243756</td>\n",
       "      <td>2021-03-03</td>\n",
       "      <td>3</td>\n",
       "      <td>8</td>\n",
       "      <td>50</td>\n",
       "      <td>0</td>\n",
       "    </tr>\n",
       "    <tr>\n",
       "      <th>6507</th>\n",
       "      <td>700</td>\n",
       "      <td>Айдар</td>\n",
       "      <td>22</td>\n",
       "      <td>Омск</td>\n",
       "      <td>free</td>\n",
       "      <td>2984.551206</td>\n",
       "      <td>15.424899</td>\n",
       "      <td>2021-04-09</td>\n",
       "      <td>4</td>\n",
       "      <td>8</td>\n",
       "      <td>50</td>\n",
       "      <td>0</td>\n",
       "    </tr>\n",
       "    <tr>\n",
       "      <th>6508</th>\n",
       "      <td>700</td>\n",
       "      <td>Айдар</td>\n",
       "      <td>22</td>\n",
       "      <td>Омск</td>\n",
       "      <td>free</td>\n",
       "      <td>3360.107141</td>\n",
       "      <td>16.765497</td>\n",
       "      <td>2021-06-12</td>\n",
       "      <td>6</td>\n",
       "      <td>8</td>\n",
       "      <td>50</td>\n",
       "      <td>0</td>\n",
       "    </tr>\n",
       "    <tr>\n",
       "      <th>6509</th>\n",
       "      <td>700</td>\n",
       "      <td>Айдар</td>\n",
       "      <td>22</td>\n",
       "      <td>Омск</td>\n",
       "      <td>free</td>\n",
       "      <td>2567.543847</td>\n",
       "      <td>11.312160</td>\n",
       "      <td>2021-06-23</td>\n",
       "      <td>6</td>\n",
       "      <td>8</td>\n",
       "      <td>50</td>\n",
       "      <td>0</td>\n",
       "    </tr>\n",
       "  </tbody>\n",
       "</table>\n",
       "</div>"
      ],
      "text/plain": [
       "      user_id   name  age  city subscription_type     distance   duration  \\\n",
       "6500      700  Айдар   22  Омск              free  2515.690719  14.944286   \n",
       "6501      700  Айдар   22  Омск              free   846.932642  16.234663   \n",
       "6502      700  Айдар   22  Омск              free  4004.434142  20.016628   \n",
       "6503      700  Айдар   22  Омск              free  1205.911290   9.782872   \n",
       "6504      700  Айдар   22  Омск              free  3047.379435  17.427673   \n",
       "6505      700  Айдар   22  Омск              free  4342.002254  22.368009   \n",
       "6506      700  Айдар   22  Омск              free  3798.334905  18.243756   \n",
       "6507      700  Айдар   22  Омск              free  2984.551206  15.424899   \n",
       "6508      700  Айдар   22  Омск              free  3360.107141  16.765497   \n",
       "6509      700  Айдар   22  Омск              free  2567.543847  11.312160   \n",
       "\n",
       "           date  month  minute_price  start_ride_price  subscription_fee  \n",
       "6500 2021-01-02      1             8                50                 0  \n",
       "6501 2021-02-01      2             8                50                 0  \n",
       "6502 2021-02-04      2             8                50                 0  \n",
       "6503 2021-02-10      2             8                50                 0  \n",
       "6504 2021-02-14      2             8                50                 0  \n",
       "6505 2021-02-23      2             8                50                 0  \n",
       "6506 2021-03-03      3             8                50                 0  \n",
       "6507 2021-04-09      4             8                50                 0  \n",
       "6508 2021-06-12      6             8                50                 0  \n",
       "6509 2021-06-23      6             8                50                 0  "
      ]
     },
     "execution_count": 37,
     "metadata": {},
     "output_type": "execute_result"
    }
   ],
   "source": [
    "data_free = data[data['subscription_type'] == 'free']\n",
    "data_free.head(10)"
   ]
  },
  {
   "cell_type": "markdown",
   "id": "b6009eae",
   "metadata": {},
   "source": [
    "3. Создадим из общего датафрейма отдельный датафрейм c данными о пользователях с подпиской."
   ]
  },
  {
   "cell_type": "code",
   "execution_count": 38,
   "id": "09778e72",
   "metadata": {},
   "outputs": [
    {
     "data": {
      "text/html": [
       "<div>\n",
       "<style scoped>\n",
       "    .dataframe tbody tr th:only-of-type {\n",
       "        vertical-align: middle;\n",
       "    }\n",
       "\n",
       "    .dataframe tbody tr th {\n",
       "        vertical-align: top;\n",
       "    }\n",
       "\n",
       "    .dataframe thead th {\n",
       "        text-align: right;\n",
       "    }\n",
       "</style>\n",
       "<table border=\"1\" class=\"dataframe\">\n",
       "  <thead>\n",
       "    <tr style=\"text-align: right;\">\n",
       "      <th></th>\n",
       "      <th>user_id</th>\n",
       "      <th>name</th>\n",
       "      <th>age</th>\n",
       "      <th>city</th>\n",
       "      <th>subscription_type</th>\n",
       "      <th>distance</th>\n",
       "      <th>duration</th>\n",
       "      <th>date</th>\n",
       "      <th>month</th>\n",
       "      <th>minute_price</th>\n",
       "      <th>start_ride_price</th>\n",
       "      <th>subscription_fee</th>\n",
       "    </tr>\n",
       "  </thead>\n",
       "  <tbody>\n",
       "    <tr>\n",
       "      <th>0</th>\n",
       "      <td>1</td>\n",
       "      <td>Кира</td>\n",
       "      <td>22</td>\n",
       "      <td>Тюмень</td>\n",
       "      <td>ultra</td>\n",
       "      <td>4409.919140</td>\n",
       "      <td>25.599769</td>\n",
       "      <td>2021-01-01</td>\n",
       "      <td>1</td>\n",
       "      <td>6</td>\n",
       "      <td>0</td>\n",
       "      <td>199</td>\n",
       "    </tr>\n",
       "    <tr>\n",
       "      <th>1</th>\n",
       "      <td>1</td>\n",
       "      <td>Кира</td>\n",
       "      <td>22</td>\n",
       "      <td>Тюмень</td>\n",
       "      <td>ultra</td>\n",
       "      <td>2617.592153</td>\n",
       "      <td>15.816871</td>\n",
       "      <td>2021-01-18</td>\n",
       "      <td>1</td>\n",
       "      <td>6</td>\n",
       "      <td>0</td>\n",
       "      <td>199</td>\n",
       "    </tr>\n",
       "    <tr>\n",
       "      <th>2</th>\n",
       "      <td>1</td>\n",
       "      <td>Кира</td>\n",
       "      <td>22</td>\n",
       "      <td>Тюмень</td>\n",
       "      <td>ultra</td>\n",
       "      <td>754.159807</td>\n",
       "      <td>6.232113</td>\n",
       "      <td>2021-04-20</td>\n",
       "      <td>4</td>\n",
       "      <td>6</td>\n",
       "      <td>0</td>\n",
       "      <td>199</td>\n",
       "    </tr>\n",
       "    <tr>\n",
       "      <th>3</th>\n",
       "      <td>1</td>\n",
       "      <td>Кира</td>\n",
       "      <td>22</td>\n",
       "      <td>Тюмень</td>\n",
       "      <td>ultra</td>\n",
       "      <td>2694.783254</td>\n",
       "      <td>18.511000</td>\n",
       "      <td>2021-08-11</td>\n",
       "      <td>8</td>\n",
       "      <td>6</td>\n",
       "      <td>0</td>\n",
       "      <td>199</td>\n",
       "    </tr>\n",
       "    <tr>\n",
       "      <th>4</th>\n",
       "      <td>1</td>\n",
       "      <td>Кира</td>\n",
       "      <td>22</td>\n",
       "      <td>Тюмень</td>\n",
       "      <td>ultra</td>\n",
       "      <td>4028.687306</td>\n",
       "      <td>26.265803</td>\n",
       "      <td>2021-08-28</td>\n",
       "      <td>8</td>\n",
       "      <td>6</td>\n",
       "      <td>0</td>\n",
       "      <td>199</td>\n",
       "    </tr>\n",
       "    <tr>\n",
       "      <th>5</th>\n",
       "      <td>1</td>\n",
       "      <td>Кира</td>\n",
       "      <td>22</td>\n",
       "      <td>Тюмень</td>\n",
       "      <td>ultra</td>\n",
       "      <td>2770.890808</td>\n",
       "      <td>16.650138</td>\n",
       "      <td>2021-10-09</td>\n",
       "      <td>10</td>\n",
       "      <td>6</td>\n",
       "      <td>0</td>\n",
       "      <td>199</td>\n",
       "    </tr>\n",
       "    <tr>\n",
       "      <th>6</th>\n",
       "      <td>1</td>\n",
       "      <td>Кира</td>\n",
       "      <td>22</td>\n",
       "      <td>Тюмень</td>\n",
       "      <td>ultra</td>\n",
       "      <td>3039.020292</td>\n",
       "      <td>14.927879</td>\n",
       "      <td>2021-10-19</td>\n",
       "      <td>10</td>\n",
       "      <td>6</td>\n",
       "      <td>0</td>\n",
       "      <td>199</td>\n",
       "    </tr>\n",
       "    <tr>\n",
       "      <th>7</th>\n",
       "      <td>1</td>\n",
       "      <td>Кира</td>\n",
       "      <td>22</td>\n",
       "      <td>Тюмень</td>\n",
       "      <td>ultra</td>\n",
       "      <td>2842.118050</td>\n",
       "      <td>23.117468</td>\n",
       "      <td>2021-11-06</td>\n",
       "      <td>11</td>\n",
       "      <td>6</td>\n",
       "      <td>0</td>\n",
       "      <td>199</td>\n",
       "    </tr>\n",
       "    <tr>\n",
       "      <th>8</th>\n",
       "      <td>1</td>\n",
       "      <td>Кира</td>\n",
       "      <td>22</td>\n",
       "      <td>Тюмень</td>\n",
       "      <td>ultra</td>\n",
       "      <td>3412.690668</td>\n",
       "      <td>15.238072</td>\n",
       "      <td>2021-11-14</td>\n",
       "      <td>11</td>\n",
       "      <td>6</td>\n",
       "      <td>0</td>\n",
       "      <td>199</td>\n",
       "    </tr>\n",
       "    <tr>\n",
       "      <th>9</th>\n",
       "      <td>1</td>\n",
       "      <td>Кира</td>\n",
       "      <td>22</td>\n",
       "      <td>Тюмень</td>\n",
       "      <td>ultra</td>\n",
       "      <td>748.690645</td>\n",
       "      <td>15.041884</td>\n",
       "      <td>2021-11-22</td>\n",
       "      <td>11</td>\n",
       "      <td>6</td>\n",
       "      <td>0</td>\n",
       "      <td>199</td>\n",
       "    </tr>\n",
       "  </tbody>\n",
       "</table>\n",
       "</div>"
      ],
      "text/plain": [
       "   user_id  name  age    city subscription_type     distance   duration  \\\n",
       "0        1  Кира   22  Тюмень             ultra  4409.919140  25.599769   \n",
       "1        1  Кира   22  Тюмень             ultra  2617.592153  15.816871   \n",
       "2        1  Кира   22  Тюмень             ultra   754.159807   6.232113   \n",
       "3        1  Кира   22  Тюмень             ultra  2694.783254  18.511000   \n",
       "4        1  Кира   22  Тюмень             ultra  4028.687306  26.265803   \n",
       "5        1  Кира   22  Тюмень             ultra  2770.890808  16.650138   \n",
       "6        1  Кира   22  Тюмень             ultra  3039.020292  14.927879   \n",
       "7        1  Кира   22  Тюмень             ultra  2842.118050  23.117468   \n",
       "8        1  Кира   22  Тюмень             ultra  3412.690668  15.238072   \n",
       "9        1  Кира   22  Тюмень             ultra   748.690645  15.041884   \n",
       "\n",
       "        date  month  minute_price  start_ride_price  subscription_fee  \n",
       "0 2021-01-01      1             6                 0               199  \n",
       "1 2021-01-18      1             6                 0               199  \n",
       "2 2021-04-20      4             6                 0               199  \n",
       "3 2021-08-11      8             6                 0               199  \n",
       "4 2021-08-28      8             6                 0               199  \n",
       "5 2021-10-09     10             6                 0               199  \n",
       "6 2021-10-19     10             6                 0               199  \n",
       "7 2021-11-06     11             6                 0               199  \n",
       "8 2021-11-14     11             6                 0               199  \n",
       "9 2021-11-22     11             6                 0               199  "
      ]
     },
     "execution_count": 38,
     "metadata": {},
     "output_type": "execute_result"
    }
   ],
   "source": [
    "data_ultra = data[data['subscription_type'] == 'ultra']\n",
    "data_ultra.head(10)"
   ]
  },
  {
   "cell_type": "markdown",
   "id": "228616ff",
   "metadata": {},
   "source": [
    "<div class=\"alert alert-block alert-success\">\n",
    "<b>✅Комментарий ревьюера:</b> Таблицы созданы верно!  </div>"
   ]
  },
  {
   "cell_type": "markdown",
   "id": "daf941d4",
   "metadata": {},
   "source": [
    "4. Визуализируем информацию о расстоянии и времени поездок для пользователей обеих категорий."
   ]
  },
  {
   "cell_type": "markdown",
   "id": "5ad51518",
   "metadata": {},
   "source": [
    "Расстояние поездок у пользователей без подписки рассмотрим с помощью гистограммы."
   ]
  },
  {
   "cell_type": "code",
   "execution_count": 39,
   "id": "b11ed12d",
   "metadata": {},
   "outputs": [
    {
     "data": {
      "text/plain": [
       "Text(0, 0.5, 'Частота встречаемости')"
      ]
     },
     "execution_count": 39,
     "metadata": {},
     "output_type": "execute_result"
    },
    {
     "data": {
      "image/png": "[encoded data removed]",
      "text/plain": [
       "<Figure size 432x288 with 1 Axes>"
      ]
     },
     "metadata": {
      "needs_background": "light"
     },
     "output_type": "display_data"
    }
   ],
   "source": [
    "data_free['distance'].hist(bins=50, range=(0, 8000))\n",
    "plt.title('Расстояние поздок у пользователей без подписки')\n",
    "plt.xlabel(\"Расстояние, м\")\n",
    "plt.ylabel(\"Частота встречаемости\")"
   ]
  },
  {
   "cell_type": "markdown",
   "id": "f88cb48a",
   "metadata": {},
   "source": [
    "Пользователи без подписки проезжают в основном от 2 до 5 км. При это присутствует всплеск значений на дисстанции до 1 км. Возможно, поьзователей что-то не устраивает и они начав поездку, практически сразу ее заканчивают."
   ]
  },
  {
   "cell_type": "markdown",
   "id": "1267ad84",
   "metadata": {},
   "source": [
    "Посмотрим, как обстоят дела у пользователей с подпиской."
   ]
  },
  {
   "cell_type": "code",
   "execution_count": 40,
   "id": "dd6c9022",
   "metadata": {},
   "outputs": [
    {
     "data": {
      "text/plain": [
       "Text(0, 0.5, 'Частота встречаемости')"
      ]
     },
     "execution_count": 40,
     "metadata": {},
     "output_type": "execute_result"
    },
    {
     "data": {
      "image/png": "[encoded data removed]",
      "text/plain": [
       "<Figure size 432x288 with 1 Axes>"
      ]
     },
     "metadata": {
      "needs_background": "light"
     },
     "output_type": "display_data"
    }
   ],
   "source": [
    "data_ultra['distance'].hist(bins=50, range=(0, 8000))\n",
    "plt.title('Расстояние поздок у пользователей с подпиской')\n",
    "plt.xlabel(\"Расстояние, м\")\n",
    "plt.ylabel(\"Частота встречаемости\")"
   ]
  },
  {
   "cell_type": "markdown",
   "id": "0946967f",
   "metadata": {},
   "source": [
    "<div class=\"alert alert-block alert-warning\">\n",
    "<b>🔁Комментарий ревьюера:</b> \n",
    "\n",
    "Распределения для обеих групп пользователей можно объединить для наглядности, наложив их друг на друга.</div>"
   ]
  },
  {
   "cell_type": "markdown",
   "id": "878c9293",
   "metadata": {},
   "source": [
    "<div class=\"alert alert-block alert-info\">\n",
    "<b>🔄Комментарий студента:</b> \n",
    "Ниже наложила гистограммы друг на друга ✔\n",
    "</div>"
   ]
  },
  {
   "cell_type": "markdown",
   "id": "4d5a1a01",
   "metadata": {},
   "source": [
    "<div class=\"alert alert-block alert-success\">\n",
    "<b>✅Комментарий ревьюера 3:</b> Отлично, исправлено!👍  </div>"
   ]
  },
  {
   "cell_type": "code",
   "execution_count": 41,
   "id": "fdf2d805",
   "metadata": {},
   "outputs": [
    {
     "data": {
      "text/plain": [
       "<matplotlib.legend.Legend at 0x7f1674d2a040>"
      ]
     },
     "execution_count": 41,
     "metadata": {},
     "output_type": "execute_result"
    },
    {
     "data": {
      "image/png": "[encoded data removed]",
      "text/plain": [
       "<Figure size 432x288 with 1 Axes>"
      ]
     },
     "metadata": {
      "needs_background": "light"
     },
     "output_type": "display_data"
    }
   ],
   "source": [
    "data_free['distance'].hist(bins=50, range=(0, 8000))\n",
    "data_ultra['distance'].hist(bins=50, range=(0, 8000))\n",
    "plt.title('Расстояние поздок у пользователей')\n",
    "plt.xlabel(\"Расстояние, м\")\n",
    "plt.ylabel(\"Частота встречаемости\")\n",
    "plt.legend (('Без подписки', 'С подпиской'))"
   ]
  },
  {
   "cell_type": "markdown",
   "id": "e4d8bca1",
   "metadata": {},
   "source": [
    "У пользователей с подпиской тоже есть такой всплеск в районе 1 км. Но он значительно меньше относительно общей массы пользователей, которые пользуются сервисом с подпиской. Пик гистограммы более ярко выражен, такие пользователи чаще ездят на расстояние примерно 2,5 - 3,5 км."
   ]
  },
  {
   "cell_type": "markdown",
   "id": "6cbe619f",
   "metadata": {},
   "source": [
    "Рассмотрим, как распределяется время поездок у этих категорий."
   ]
  },
  {
   "cell_type": "code",
   "execution_count": 42,
   "id": "d0027b63",
   "metadata": {},
   "outputs": [
    {
     "data": {
      "text/plain": [
       "Text(0, 0.5, 'Частота встречаемости')"
      ]
     },
     "execution_count": 42,
     "metadata": {},
     "output_type": "execute_result"
    },
    {
     "data": {
      "image/png": "[encoded data removed]",
      "text/plain": [
       "<Figure size 432x288 with 1 Axes>"
      ]
     },
     "metadata": {
      "needs_background": "light"
     },
     "output_type": "display_data"
    }
   ],
   "source": [
    "data_free['duration'].hist(bins=50, range=(0, 60))\n",
    "plt.title('Длительность поздок у пользователей без подписки')\n",
    "plt.xlabel(\"Длительность, мин\")\n",
    "plt.ylabel(\"Частота встречаемости\")"
   ]
  },
  {
   "cell_type": "code",
   "execution_count": 43,
   "id": "e799f1a3",
   "metadata": {},
   "outputs": [
    {
     "data": {
      "text/plain": [
       "Text(0, 0.5, 'Частота встречаемости')"
      ]
     },
     "execution_count": 43,
     "metadata": {},
     "output_type": "execute_result"
    },
    {
     "data": {
      "image/png": "[encoded data removed]",
      "text/plain": [
       "<Figure size 432x288 with 1 Axes>"
      ]
     },
     "metadata": {
      "needs_background": "light"
     },
     "output_type": "display_data"
    }
   ],
   "source": [
    "data_ultra['duration'].hist(bins=50, range=(0, 60))\n",
    "plt.title('Длительность поздок у пользователей с подпиской')\n",
    "plt.xlabel(\"Длительность, мин\")\n",
    "plt.ylabel(\"Частота встречаемости\")"
   ]
  },
  {
   "cell_type": "markdown",
   "id": "50a49fa4",
   "metadata": {
    "id": "5766e785"
   },
   "source": [
    "<div class=\"alert alert-block alert-danger\">\n",
    "<b>❌Комментарий ревьюера:</b> \n",
    "    \n",
    "Не забывай подписывать графики и оси</div>"
   ]
  },
  {
   "cell_type": "markdown",
   "id": "e704f72f",
   "metadata": {},
   "source": [
    "\n",
    "<div class=\"alert alert-info\"> <b>Комментарии студента:</b> Подписала.</div>"
   ]
  },
  {
   "cell_type": "markdown",
   "id": "627a1448",
   "metadata": {},
   "source": [
    "<div class=\"alert alert-block alert-success\">\n",
    "<b>✅Комментарий ревьюера 3:</b> Отлично, исправлено!👍  </div>"
   ]
  },
  {
   "cell_type": "markdown",
   "id": "e86f45c2",
   "metadata": {},
   "source": [
    "Аналогично, пользователи с подпиской, как будто ездят на самокатах более интенсивно, пик 10-25 минут. При том, что у пользователей без подписки на гистограмме есть всплески около нуля, как будто человек начал поездку и сразу ее завершил, у таких пользователей значений от 0 до 10 минут больше. у клиентов с подпиской такого не наблюдается."
   ]
  },
  {
   "cell_type": "markdown",
   "id": "e65f9dd8",
   "metadata": {},
   "source": [
    "Вывод: Клиенты с подпиской сервиса пользуются сервисом более интенсивно и целенаправленно."
   ]
  },
  {
   "cell_type": "markdown",
   "id": "3d8db52e",
   "metadata": {},
   "source": [
    "#### Шаг 5. Подсчёт выручки"
   ]
  },
  {
   "cell_type": "markdown",
   "id": "00c3d1f8",
   "metadata": {},
   "source": []
  },
  {
   "cell_type": "markdown",
   "id": "ebc7df90",
   "metadata": {},
   "source": [
    "Округлим длительность поездки до следующего целого числа в изначальной таблице"
   ]
  },
  {
   "cell_type": "code",
   "execution_count": 44,
   "id": "a4131680",
   "metadata": {},
   "outputs": [],
   "source": [
    "data['duration'] = np.ceil(data['duration']) "
   ]
  },
  {
   "cell_type": "markdown",
   "id": "58c5fc89",
   "metadata": {},
   "source": [
    "Создаем датафрейм с нужными столбцами и группируем по id и месяцу"
   ]
  },
  {
   "cell_type": "markdown",
   "id": "3178d767",
   "metadata": {},
   "source": [
    "<div class=\"alert alert-block alert-warning\">\n",
    "<b>🔁Комментарий ревьюера:</b> \n",
    "\n",
    "К выбору имен для переменных стоит подходить более осознанно, они должны отражать суть содержимого)</div>"
   ]
  },
  {
   "cell_type": "markdown",
   "id": "ebfa7d0d",
   "metadata": {},
   "source": [
    "<div class=\"alert alert-block alert-success\">\n",
    "<b>✅Комментарий ревьюера 3:</b> Отлично, исправлено!👍  </div>"
   ]
  },
  {
   "cell_type": "code",
   "execution_count": 45,
   "id": "85989ded",
   "metadata": {},
   "outputs": [
    {
     "data": {
      "text/html": [
       "<div>\n",
       "<style scoped>\n",
       "    .dataframe tbody tr th:only-of-type {\n",
       "        vertical-align: middle;\n",
       "    }\n",
       "\n",
       "    .dataframe tbody tr th {\n",
       "        vertical-align: top;\n",
       "    }\n",
       "\n",
       "    .dataframe thead th {\n",
       "        text-align: right;\n",
       "    }\n",
       "</style>\n",
       "<table border=\"1\" class=\"dataframe\">\n",
       "  <thead>\n",
       "    <tr style=\"text-align: right;\">\n",
       "      <th></th>\n",
       "      <th>user_id</th>\n",
       "      <th>subscription_type</th>\n",
       "      <th>month</th>\n",
       "      <th>distance</th>\n",
       "      <th>name</th>\n",
       "      <th>duration</th>\n",
       "    </tr>\n",
       "  </thead>\n",
       "  <tbody>\n",
       "    <tr>\n",
       "      <th>0</th>\n",
       "      <td>1</td>\n",
       "      <td>ultra</td>\n",
       "      <td>1</td>\n",
       "      <td>7027.511294</td>\n",
       "      <td>2</td>\n",
       "      <td>42.0</td>\n",
       "    </tr>\n",
       "    <tr>\n",
       "      <th>1</th>\n",
       "      <td>1</td>\n",
       "      <td>ultra</td>\n",
       "      <td>4</td>\n",
       "      <td>754.159807</td>\n",
       "      <td>1</td>\n",
       "      <td>7.0</td>\n",
       "    </tr>\n",
       "    <tr>\n",
       "      <th>2</th>\n",
       "      <td>1</td>\n",
       "      <td>ultra</td>\n",
       "      <td>8</td>\n",
       "      <td>6723.470560</td>\n",
       "      <td>2</td>\n",
       "      <td>46.0</td>\n",
       "    </tr>\n",
       "    <tr>\n",
       "      <th>3</th>\n",
       "      <td>1</td>\n",
       "      <td>ultra</td>\n",
       "      <td>10</td>\n",
       "      <td>5809.911100</td>\n",
       "      <td>2</td>\n",
       "      <td>32.0</td>\n",
       "    </tr>\n",
       "    <tr>\n",
       "      <th>4</th>\n",
       "      <td>1</td>\n",
       "      <td>ultra</td>\n",
       "      <td>11</td>\n",
       "      <td>7003.499363</td>\n",
       "      <td>3</td>\n",
       "      <td>56.0</td>\n",
       "    </tr>\n",
       "    <tr>\n",
       "      <th>5</th>\n",
       "      <td>1</td>\n",
       "      <td>ultra</td>\n",
       "      <td>12</td>\n",
       "      <td>6751.629942</td>\n",
       "      <td>2</td>\n",
       "      <td>28.0</td>\n",
       "    </tr>\n",
       "    <tr>\n",
       "      <th>6</th>\n",
       "      <td>2</td>\n",
       "      <td>ultra</td>\n",
       "      <td>3</td>\n",
       "      <td>10187.723006</td>\n",
       "      <td>3</td>\n",
       "      <td>63.0</td>\n",
       "    </tr>\n",
       "    <tr>\n",
       "      <th>7</th>\n",
       "      <td>2</td>\n",
       "      <td>ultra</td>\n",
       "      <td>4</td>\n",
       "      <td>6164.381824</td>\n",
       "      <td>2</td>\n",
       "      <td>40.0</td>\n",
       "    </tr>\n",
       "    <tr>\n",
       "      <th>8</th>\n",
       "      <td>2</td>\n",
       "      <td>ultra</td>\n",
       "      <td>6</td>\n",
       "      <td>3255.338202</td>\n",
       "      <td>1</td>\n",
       "      <td>14.0</td>\n",
       "    </tr>\n",
       "    <tr>\n",
       "      <th>9</th>\n",
       "      <td>2</td>\n",
       "      <td>ultra</td>\n",
       "      <td>7</td>\n",
       "      <td>6780.722964</td>\n",
       "      <td>2</td>\n",
       "      <td>48.0</td>\n",
       "    </tr>\n",
       "    <tr>\n",
       "      <th>10</th>\n",
       "      <td>2</td>\n",
       "      <td>ultra</td>\n",
       "      <td>8</td>\n",
       "      <td>923.007439</td>\n",
       "      <td>1</td>\n",
       "      <td>7.0</td>\n",
       "    </tr>\n",
       "    <tr>\n",
       "      <th>11</th>\n",
       "      <td>2</td>\n",
       "      <td>ultra</td>\n",
       "      <td>10</td>\n",
       "      <td>2824.636598</td>\n",
       "      <td>1</td>\n",
       "      <td>19.0</td>\n",
       "    </tr>\n",
       "    <tr>\n",
       "      <th>12</th>\n",
       "      <td>2</td>\n",
       "      <td>ultra</td>\n",
       "      <td>12</td>\n",
       "      <td>3828.248580</td>\n",
       "      <td>1</td>\n",
       "      <td>12.0</td>\n",
       "    </tr>\n",
       "    <tr>\n",
       "      <th>13</th>\n",
       "      <td>3</td>\n",
       "      <td>ultra</td>\n",
       "      <td>1</td>\n",
       "      <td>3061.777147</td>\n",
       "      <td>1</td>\n",
       "      <td>13.0</td>\n",
       "    </tr>\n",
       "    <tr>\n",
       "      <th>14</th>\n",
       "      <td>3</td>\n",
       "      <td>ultra</td>\n",
       "      <td>2</td>\n",
       "      <td>5421.152016</td>\n",
       "      <td>2</td>\n",
       "      <td>39.0</td>\n",
       "    </tr>\n",
       "    <tr>\n",
       "      <th>15</th>\n",
       "      <td>3</td>\n",
       "      <td>ultra</td>\n",
       "      <td>4</td>\n",
       "      <td>2956.651632</td>\n",
       "      <td>1</td>\n",
       "      <td>21.0</td>\n",
       "    </tr>\n",
       "    <tr>\n",
       "      <th>16</th>\n",
       "      <td>3</td>\n",
       "      <td>ultra</td>\n",
       "      <td>5</td>\n",
       "      <td>9064.026918</td>\n",
       "      <td>3</td>\n",
       "      <td>63.0</td>\n",
       "    </tr>\n",
       "    <tr>\n",
       "      <th>17</th>\n",
       "      <td>3</td>\n",
       "      <td>ultra</td>\n",
       "      <td>7</td>\n",
       "      <td>10919.595403</td>\n",
       "      <td>3</td>\n",
       "      <td>67.0</td>\n",
       "    </tr>\n",
       "    <tr>\n",
       "      <th>18</th>\n",
       "      <td>3</td>\n",
       "      <td>ultra</td>\n",
       "      <td>9</td>\n",
       "      <td>2891.012822</td>\n",
       "      <td>1</td>\n",
       "      <td>23.0</td>\n",
       "    </tr>\n",
       "    <tr>\n",
       "      <th>19</th>\n",
       "      <td>3</td>\n",
       "      <td>ultra</td>\n",
       "      <td>12</td>\n",
       "      <td>2593.381928</td>\n",
       "      <td>1</td>\n",
       "      <td>13.0</td>\n",
       "    </tr>\n",
       "  </tbody>\n",
       "</table>\n",
       "</div>"
      ],
      "text/plain": [
       "    user_id subscription_type  month      distance  name  duration\n",
       "0         1             ultra      1   7027.511294     2      42.0\n",
       "1         1             ultra      4    754.159807     1       7.0\n",
       "2         1             ultra      8   6723.470560     2      46.0\n",
       "3         1             ultra     10   5809.911100     2      32.0\n",
       "4         1             ultra     11   7003.499363     3      56.0\n",
       "5         1             ultra     12   6751.629942     2      28.0\n",
       "6         2             ultra      3  10187.723006     3      63.0\n",
       "7         2             ultra      4   6164.381824     2      40.0\n",
       "8         2             ultra      6   3255.338202     1      14.0\n",
       "9         2             ultra      7   6780.722964     2      48.0\n",
       "10        2             ultra      8    923.007439     1       7.0\n",
       "11        2             ultra     10   2824.636598     1      19.0\n",
       "12        2             ultra     12   3828.248580     1      12.0\n",
       "13        3             ultra      1   3061.777147     1      13.0\n",
       "14        3             ultra      2   5421.152016     2      39.0\n",
       "15        3             ultra      4   2956.651632     1      21.0\n",
       "16        3             ultra      5   9064.026918     3      63.0\n",
       "17        3             ultra      7  10919.595403     3      67.0\n",
       "18        3             ultra      9   2891.012822     1      23.0\n",
       "19        3             ultra     12   2593.381928     1      13.0"
      ]
     },
     "execution_count": 45,
     "metadata": {},
     "output_type": "execute_result"
    }
   ],
   "source": [
    "data_grouped = data.groupby(['user_id', 'subscription_type', 'month'], as_index=False).agg({'distance':'sum', 'name': 'count', 'duration': 'sum'})\n",
    "data_grouped.head(20)"
   ]
  },
  {
   "cell_type": "markdown",
   "id": "4f451506",
   "metadata": {},
   "source": [
    "<div class=\"alert alert-block alert-danger\">\n",
    "<b>❌Комментарий ревьюера:</b> \n",
    "    \n",
    "Метод округления выбран верный, но округлять необходимо каждую поездку, то есть в исходной таблице до агрегирования.\n",
    "\n",
    "\n",
    "</div>"
   ]
  },
  {
   "cell_type": "markdown",
   "id": "44ade996",
   "metadata": {},
   "source": [
    "\n",
    "<div class=\"alert alert-info\"> <b>Комментарии студента:</b> Перенесла округление в начало задания, округлила заначения в исходной таблице data./div>"
   ]
  },
  {
   "cell_type": "markdown",
   "id": "85fe6846",
   "metadata": {},
   "source": [
    "<div class=\"alert alert-block alert-success\">\n",
    "<b>✅Комментарий ревьюера 2:</b> Отлично, исправлено!👍  </div>"
   ]
  },
  {
   "cell_type": "markdown",
   "id": "de129c26",
   "metadata": {},
   "source": [
    "Создаем функцию, которая в зависимости от типа подписки будет считать помесячную выручку"
   ]
  },
  {
   "cell_type": "code",
   "execution_count": 46,
   "id": "80c40609",
   "metadata": {},
   "outputs": [
    {
     "data": {
      "text/html": [
       "<div>\n",
       "<style scoped>\n",
       "    .dataframe tbody tr th:only-of-type {\n",
       "        vertical-align: middle;\n",
       "    }\n",
       "\n",
       "    .dataframe tbody tr th {\n",
       "        vertical-align: top;\n",
       "    }\n",
       "\n",
       "    .dataframe thead th {\n",
       "        text-align: right;\n",
       "    }\n",
       "</style>\n",
       "<table border=\"1\" class=\"dataframe\">\n",
       "  <thead>\n",
       "    <tr style=\"text-align: right;\">\n",
       "      <th></th>\n",
       "      <th>user_id</th>\n",
       "      <th>subscription_type</th>\n",
       "      <th>month</th>\n",
       "      <th>distance</th>\n",
       "      <th>name</th>\n",
       "      <th>duration</th>\n",
       "      <th>income_per_month</th>\n",
       "    </tr>\n",
       "  </thead>\n",
       "  <tbody>\n",
       "    <tr>\n",
       "      <th>0</th>\n",
       "      <td>1</td>\n",
       "      <td>ultra</td>\n",
       "      <td>1</td>\n",
       "      <td>7027.511294</td>\n",
       "      <td>2</td>\n",
       "      <td>42.0</td>\n",
       "      <td>451.0</td>\n",
       "    </tr>\n",
       "    <tr>\n",
       "      <th>1</th>\n",
       "      <td>1</td>\n",
       "      <td>ultra</td>\n",
       "      <td>4</td>\n",
       "      <td>754.159807</td>\n",
       "      <td>1</td>\n",
       "      <td>7.0</td>\n",
       "      <td>241.0</td>\n",
       "    </tr>\n",
       "    <tr>\n",
       "      <th>2</th>\n",
       "      <td>1</td>\n",
       "      <td>ultra</td>\n",
       "      <td>8</td>\n",
       "      <td>6723.470560</td>\n",
       "      <td>2</td>\n",
       "      <td>46.0</td>\n",
       "      <td>475.0</td>\n",
       "    </tr>\n",
       "    <tr>\n",
       "      <th>3</th>\n",
       "      <td>1</td>\n",
       "      <td>ultra</td>\n",
       "      <td>10</td>\n",
       "      <td>5809.911100</td>\n",
       "      <td>2</td>\n",
       "      <td>32.0</td>\n",
       "      <td>391.0</td>\n",
       "    </tr>\n",
       "    <tr>\n",
       "      <th>4</th>\n",
       "      <td>1</td>\n",
       "      <td>ultra</td>\n",
       "      <td>11</td>\n",
       "      <td>7003.499363</td>\n",
       "      <td>3</td>\n",
       "      <td>56.0</td>\n",
       "      <td>535.0</td>\n",
       "    </tr>\n",
       "    <tr>\n",
       "      <th>5</th>\n",
       "      <td>1</td>\n",
       "      <td>ultra</td>\n",
       "      <td>12</td>\n",
       "      <td>6751.629942</td>\n",
       "      <td>2</td>\n",
       "      <td>28.0</td>\n",
       "      <td>367.0</td>\n",
       "    </tr>\n",
       "    <tr>\n",
       "      <th>6</th>\n",
       "      <td>2</td>\n",
       "      <td>ultra</td>\n",
       "      <td>3</td>\n",
       "      <td>10187.723006</td>\n",
       "      <td>3</td>\n",
       "      <td>63.0</td>\n",
       "      <td>577.0</td>\n",
       "    </tr>\n",
       "    <tr>\n",
       "      <th>7</th>\n",
       "      <td>2</td>\n",
       "      <td>ultra</td>\n",
       "      <td>4</td>\n",
       "      <td>6164.381824</td>\n",
       "      <td>2</td>\n",
       "      <td>40.0</td>\n",
       "      <td>439.0</td>\n",
       "    </tr>\n",
       "    <tr>\n",
       "      <th>8</th>\n",
       "      <td>2</td>\n",
       "      <td>ultra</td>\n",
       "      <td>6</td>\n",
       "      <td>3255.338202</td>\n",
       "      <td>1</td>\n",
       "      <td>14.0</td>\n",
       "      <td>283.0</td>\n",
       "    </tr>\n",
       "    <tr>\n",
       "      <th>9</th>\n",
       "      <td>2</td>\n",
       "      <td>ultra</td>\n",
       "      <td>7</td>\n",
       "      <td>6780.722964</td>\n",
       "      <td>2</td>\n",
       "      <td>48.0</td>\n",
       "      <td>487.0</td>\n",
       "    </tr>\n",
       "    <tr>\n",
       "      <th>10</th>\n",
       "      <td>2</td>\n",
       "      <td>ultra</td>\n",
       "      <td>8</td>\n",
       "      <td>923.007439</td>\n",
       "      <td>1</td>\n",
       "      <td>7.0</td>\n",
       "      <td>241.0</td>\n",
       "    </tr>\n",
       "    <tr>\n",
       "      <th>11</th>\n",
       "      <td>2</td>\n",
       "      <td>ultra</td>\n",
       "      <td>10</td>\n",
       "      <td>2824.636598</td>\n",
       "      <td>1</td>\n",
       "      <td>19.0</td>\n",
       "      <td>313.0</td>\n",
       "    </tr>\n",
       "    <tr>\n",
       "      <th>12</th>\n",
       "      <td>2</td>\n",
       "      <td>ultra</td>\n",
       "      <td>12</td>\n",
       "      <td>3828.248580</td>\n",
       "      <td>1</td>\n",
       "      <td>12.0</td>\n",
       "      <td>271.0</td>\n",
       "    </tr>\n",
       "    <tr>\n",
       "      <th>13</th>\n",
       "      <td>3</td>\n",
       "      <td>ultra</td>\n",
       "      <td>1</td>\n",
       "      <td>3061.777147</td>\n",
       "      <td>1</td>\n",
       "      <td>13.0</td>\n",
       "      <td>277.0</td>\n",
       "    </tr>\n",
       "    <tr>\n",
       "      <th>14</th>\n",
       "      <td>3</td>\n",
       "      <td>ultra</td>\n",
       "      <td>2</td>\n",
       "      <td>5421.152016</td>\n",
       "      <td>2</td>\n",
       "      <td>39.0</td>\n",
       "      <td>433.0</td>\n",
       "    </tr>\n",
       "    <tr>\n",
       "      <th>15</th>\n",
       "      <td>3</td>\n",
       "      <td>ultra</td>\n",
       "      <td>4</td>\n",
       "      <td>2956.651632</td>\n",
       "      <td>1</td>\n",
       "      <td>21.0</td>\n",
       "      <td>325.0</td>\n",
       "    </tr>\n",
       "    <tr>\n",
       "      <th>16</th>\n",
       "      <td>3</td>\n",
       "      <td>ultra</td>\n",
       "      <td>5</td>\n",
       "      <td>9064.026918</td>\n",
       "      <td>3</td>\n",
       "      <td>63.0</td>\n",
       "      <td>577.0</td>\n",
       "    </tr>\n",
       "    <tr>\n",
       "      <th>17</th>\n",
       "      <td>3</td>\n",
       "      <td>ultra</td>\n",
       "      <td>7</td>\n",
       "      <td>10919.595403</td>\n",
       "      <td>3</td>\n",
       "      <td>67.0</td>\n",
       "      <td>601.0</td>\n",
       "    </tr>\n",
       "    <tr>\n",
       "      <th>18</th>\n",
       "      <td>3</td>\n",
       "      <td>ultra</td>\n",
       "      <td>9</td>\n",
       "      <td>2891.012822</td>\n",
       "      <td>1</td>\n",
       "      <td>23.0</td>\n",
       "      <td>337.0</td>\n",
       "    </tr>\n",
       "    <tr>\n",
       "      <th>19</th>\n",
       "      <td>3</td>\n",
       "      <td>ultra</td>\n",
       "      <td>12</td>\n",
       "      <td>2593.381928</td>\n",
       "      <td>1</td>\n",
       "      <td>13.0</td>\n",
       "      <td>277.0</td>\n",
       "    </tr>\n",
       "  </tbody>\n",
       "</table>\n",
       "</div>"
      ],
      "text/plain": [
       "    user_id subscription_type  month      distance  name  duration  \\\n",
       "0         1             ultra      1   7027.511294     2      42.0   \n",
       "1         1             ultra      4    754.159807     1       7.0   \n",
       "2         1             ultra      8   6723.470560     2      46.0   \n",
       "3         1             ultra     10   5809.911100     2      32.0   \n",
       "4         1             ultra     11   7003.499363     3      56.0   \n",
       "5         1             ultra     12   6751.629942     2      28.0   \n",
       "6         2             ultra      3  10187.723006     3      63.0   \n",
       "7         2             ultra      4   6164.381824     2      40.0   \n",
       "8         2             ultra      6   3255.338202     1      14.0   \n",
       "9         2             ultra      7   6780.722964     2      48.0   \n",
       "10        2             ultra      8    923.007439     1       7.0   \n",
       "11        2             ultra     10   2824.636598     1      19.0   \n",
       "12        2             ultra     12   3828.248580     1      12.0   \n",
       "13        3             ultra      1   3061.777147     1      13.0   \n",
       "14        3             ultra      2   5421.152016     2      39.0   \n",
       "15        3             ultra      4   2956.651632     1      21.0   \n",
       "16        3             ultra      5   9064.026918     3      63.0   \n",
       "17        3             ultra      7  10919.595403     3      67.0   \n",
       "18        3             ultra      9   2891.012822     1      23.0   \n",
       "19        3             ultra     12   2593.381928     1      13.0   \n",
       "\n",
       "    income_per_month  \n",
       "0              451.0  \n",
       "1              241.0  \n",
       "2              475.0  \n",
       "3              391.0  \n",
       "4              535.0  \n",
       "5              367.0  \n",
       "6              577.0  \n",
       "7              439.0  \n",
       "8              283.0  \n",
       "9              487.0  \n",
       "10             241.0  \n",
       "11             313.0  \n",
       "12             271.0  \n",
       "13             277.0  \n",
       "14             433.0  \n",
       "15             325.0  \n",
       "16             577.0  \n",
       "17             601.0  \n",
       "18             337.0  \n",
       "19             277.0  "
      ]
     },
     "execution_count": 46,
     "metadata": {},
     "output_type": "execute_result"
    }
   ],
   "source": [
    "def income_per_month(row):\n",
    "    if row['subscription_type'] == 'free':\n",
    "        return (50 * row['name']) + 8 * row['duration']\n",
    "    if row['subscription_type'] == 'ultra':\n",
    "        return 6 * row['duration'] + 199\n",
    "data_grouped['income_per_month'] = data_grouped.apply(income_per_month, axis=1)\n",
    "data_grouped.head(20)"
   ]
  },
  {
   "cell_type": "markdown",
   "id": "5fa726e9",
   "metadata": {},
   "source": [
    "<div class=\"alert alert-block alert-warning\">\n",
    "<b>🔁Комментарий ревьюера:</b> \n",
    "    \n",
    "Молодец ,что написала функцию для расчета выручки!\n",
    "\n",
    "Но код должен быть более универсальным, без ручного внесения значений по тарифам.\n",
    "\n",
    "В объединенной таблице data у нас уже есть все данные по тарифам для расчета выручки, их можно перенести в data1, указав при группировке для них агрегирующую функцию 'first'. Тогда соответствующие столбцы со стоимостями можно будет использовать в функции и формула будет единой для обеих групп пользователей.</div>"
   ]
  },
  {
   "cell_type": "markdown",
   "id": "c10a638b",
   "metadata": {},
   "source": [
    "<div class=\"alert alert-info\"> <b>Комментарии студента:</b> Большое спасибо за наводку на агрегирующую функцию first, ломала голову, как добавить эти столбцы. Ниже переписала код (больше себе для примера)</div>"
   ]
  },
  {
   "cell_type": "markdown",
   "id": "6415cddb",
   "metadata": {},
   "source": [
    "<div class=\"alert alert-block alert-success\">\n",
    "<b>✅Комментарий ревьюера 2:</b> Отлично, исправлено!👍  Пожалуйста)</div>"
   ]
  },
  {
   "cell_type": "code",
   "execution_count": 47,
   "id": "4ca6af20",
   "metadata": {},
   "outputs": [
    {
     "data": {
      "text/html": [
       "<div>\n",
       "<style scoped>\n",
       "    .dataframe tbody tr th:only-of-type {\n",
       "        vertical-align: middle;\n",
       "    }\n",
       "\n",
       "    .dataframe tbody tr th {\n",
       "        vertical-align: top;\n",
       "    }\n",
       "\n",
       "    .dataframe thead th {\n",
       "        text-align: right;\n",
       "    }\n",
       "</style>\n",
       "<table border=\"1\" class=\"dataframe\">\n",
       "  <thead>\n",
       "    <tr style=\"text-align: right;\">\n",
       "      <th></th>\n",
       "      <th>user_id</th>\n",
       "      <th>subscription_type</th>\n",
       "      <th>month</th>\n",
       "      <th>distance</th>\n",
       "      <th>name</th>\n",
       "      <th>duration</th>\n",
       "      <th>minute_price</th>\n",
       "      <th>start_ride_price</th>\n",
       "      <th>subscription_fee</th>\n",
       "    </tr>\n",
       "  </thead>\n",
       "  <tbody>\n",
       "    <tr>\n",
       "      <th>0</th>\n",
       "      <td>1</td>\n",
       "      <td>ultra</td>\n",
       "      <td>1</td>\n",
       "      <td>7027.511294</td>\n",
       "      <td>2</td>\n",
       "      <td>42.0</td>\n",
       "      <td>6</td>\n",
       "      <td>0</td>\n",
       "      <td>199</td>\n",
       "    </tr>\n",
       "    <tr>\n",
       "      <th>1</th>\n",
       "      <td>1</td>\n",
       "      <td>ultra</td>\n",
       "      <td>4</td>\n",
       "      <td>754.159807</td>\n",
       "      <td>1</td>\n",
       "      <td>7.0</td>\n",
       "      <td>6</td>\n",
       "      <td>0</td>\n",
       "      <td>199</td>\n",
       "    </tr>\n",
       "    <tr>\n",
       "      <th>2</th>\n",
       "      <td>1</td>\n",
       "      <td>ultra</td>\n",
       "      <td>8</td>\n",
       "      <td>6723.470560</td>\n",
       "      <td>2</td>\n",
       "      <td>46.0</td>\n",
       "      <td>6</td>\n",
       "      <td>0</td>\n",
       "      <td>199</td>\n",
       "    </tr>\n",
       "    <tr>\n",
       "      <th>3</th>\n",
       "      <td>1</td>\n",
       "      <td>ultra</td>\n",
       "      <td>10</td>\n",
       "      <td>5809.911100</td>\n",
       "      <td>2</td>\n",
       "      <td>32.0</td>\n",
       "      <td>6</td>\n",
       "      <td>0</td>\n",
       "      <td>199</td>\n",
       "    </tr>\n",
       "    <tr>\n",
       "      <th>4</th>\n",
       "      <td>1</td>\n",
       "      <td>ultra</td>\n",
       "      <td>11</td>\n",
       "      <td>7003.499363</td>\n",
       "      <td>3</td>\n",
       "      <td>56.0</td>\n",
       "      <td>6</td>\n",
       "      <td>0</td>\n",
       "      <td>199</td>\n",
       "    </tr>\n",
       "    <tr>\n",
       "      <th>5</th>\n",
       "      <td>1</td>\n",
       "      <td>ultra</td>\n",
       "      <td>12</td>\n",
       "      <td>6751.629942</td>\n",
       "      <td>2</td>\n",
       "      <td>28.0</td>\n",
       "      <td>6</td>\n",
       "      <td>0</td>\n",
       "      <td>199</td>\n",
       "    </tr>\n",
       "    <tr>\n",
       "      <th>6</th>\n",
       "      <td>2</td>\n",
       "      <td>ultra</td>\n",
       "      <td>3</td>\n",
       "      <td>10187.723006</td>\n",
       "      <td>3</td>\n",
       "      <td>63.0</td>\n",
       "      <td>6</td>\n",
       "      <td>0</td>\n",
       "      <td>199</td>\n",
       "    </tr>\n",
       "    <tr>\n",
       "      <th>7</th>\n",
       "      <td>2</td>\n",
       "      <td>ultra</td>\n",
       "      <td>4</td>\n",
       "      <td>6164.381824</td>\n",
       "      <td>2</td>\n",
       "      <td>40.0</td>\n",
       "      <td>6</td>\n",
       "      <td>0</td>\n",
       "      <td>199</td>\n",
       "    </tr>\n",
       "    <tr>\n",
       "      <th>8</th>\n",
       "      <td>2</td>\n",
       "      <td>ultra</td>\n",
       "      <td>6</td>\n",
       "      <td>3255.338202</td>\n",
       "      <td>1</td>\n",
       "      <td>14.0</td>\n",
       "      <td>6</td>\n",
       "      <td>0</td>\n",
       "      <td>199</td>\n",
       "    </tr>\n",
       "    <tr>\n",
       "      <th>9</th>\n",
       "      <td>2</td>\n",
       "      <td>ultra</td>\n",
       "      <td>7</td>\n",
       "      <td>6780.722964</td>\n",
       "      <td>2</td>\n",
       "      <td>48.0</td>\n",
       "      <td>6</td>\n",
       "      <td>0</td>\n",
       "      <td>199</td>\n",
       "    </tr>\n",
       "    <tr>\n",
       "      <th>10</th>\n",
       "      <td>2</td>\n",
       "      <td>ultra</td>\n",
       "      <td>8</td>\n",
       "      <td>923.007439</td>\n",
       "      <td>1</td>\n",
       "      <td>7.0</td>\n",
       "      <td>6</td>\n",
       "      <td>0</td>\n",
       "      <td>199</td>\n",
       "    </tr>\n",
       "    <tr>\n",
       "      <th>11</th>\n",
       "      <td>2</td>\n",
       "      <td>ultra</td>\n",
       "      <td>10</td>\n",
       "      <td>2824.636598</td>\n",
       "      <td>1</td>\n",
       "      <td>19.0</td>\n",
       "      <td>6</td>\n",
       "      <td>0</td>\n",
       "      <td>199</td>\n",
       "    </tr>\n",
       "    <tr>\n",
       "      <th>12</th>\n",
       "      <td>2</td>\n",
       "      <td>ultra</td>\n",
       "      <td>12</td>\n",
       "      <td>3828.248580</td>\n",
       "      <td>1</td>\n",
       "      <td>12.0</td>\n",
       "      <td>6</td>\n",
       "      <td>0</td>\n",
       "      <td>199</td>\n",
       "    </tr>\n",
       "    <tr>\n",
       "      <th>13</th>\n",
       "      <td>3</td>\n",
       "      <td>ultra</td>\n",
       "      <td>1</td>\n",
       "      <td>3061.777147</td>\n",
       "      <td>1</td>\n",
       "      <td>13.0</td>\n",
       "      <td>6</td>\n",
       "      <td>0</td>\n",
       "      <td>199</td>\n",
       "    </tr>\n",
       "    <tr>\n",
       "      <th>14</th>\n",
       "      <td>3</td>\n",
       "      <td>ultra</td>\n",
       "      <td>2</td>\n",
       "      <td>5421.152016</td>\n",
       "      <td>2</td>\n",
       "      <td>39.0</td>\n",
       "      <td>6</td>\n",
       "      <td>0</td>\n",
       "      <td>199</td>\n",
       "    </tr>\n",
       "    <tr>\n",
       "      <th>15</th>\n",
       "      <td>3</td>\n",
       "      <td>ultra</td>\n",
       "      <td>4</td>\n",
       "      <td>2956.651632</td>\n",
       "      <td>1</td>\n",
       "      <td>21.0</td>\n",
       "      <td>6</td>\n",
       "      <td>0</td>\n",
       "      <td>199</td>\n",
       "    </tr>\n",
       "    <tr>\n",
       "      <th>16</th>\n",
       "      <td>3</td>\n",
       "      <td>ultra</td>\n",
       "      <td>5</td>\n",
       "      <td>9064.026918</td>\n",
       "      <td>3</td>\n",
       "      <td>63.0</td>\n",
       "      <td>6</td>\n",
       "      <td>0</td>\n",
       "      <td>199</td>\n",
       "    </tr>\n",
       "    <tr>\n",
       "      <th>17</th>\n",
       "      <td>3</td>\n",
       "      <td>ultra</td>\n",
       "      <td>7</td>\n",
       "      <td>10919.595403</td>\n",
       "      <td>3</td>\n",
       "      <td>67.0</td>\n",
       "      <td>6</td>\n",
       "      <td>0</td>\n",
       "      <td>199</td>\n",
       "    </tr>\n",
       "    <tr>\n",
       "      <th>18</th>\n",
       "      <td>3</td>\n",
       "      <td>ultra</td>\n",
       "      <td>9</td>\n",
       "      <td>2891.012822</td>\n",
       "      <td>1</td>\n",
       "      <td>23.0</td>\n",
       "      <td>6</td>\n",
       "      <td>0</td>\n",
       "      <td>199</td>\n",
       "    </tr>\n",
       "    <tr>\n",
       "      <th>19</th>\n",
       "      <td>3</td>\n",
       "      <td>ultra</td>\n",
       "      <td>12</td>\n",
       "      <td>2593.381928</td>\n",
       "      <td>1</td>\n",
       "      <td>13.0</td>\n",
       "      <td>6</td>\n",
       "      <td>0</td>\n",
       "      <td>199</td>\n",
       "    </tr>\n",
       "  </tbody>\n",
       "</table>\n",
       "</div>"
      ],
      "text/plain": [
       "    user_id subscription_type  month      distance  name  duration  \\\n",
       "0         1             ultra      1   7027.511294     2      42.0   \n",
       "1         1             ultra      4    754.159807     1       7.0   \n",
       "2         1             ultra      8   6723.470560     2      46.0   \n",
       "3         1             ultra     10   5809.911100     2      32.0   \n",
       "4         1             ultra     11   7003.499363     3      56.0   \n",
       "5         1             ultra     12   6751.629942     2      28.0   \n",
       "6         2             ultra      3  10187.723006     3      63.0   \n",
       "7         2             ultra      4   6164.381824     2      40.0   \n",
       "8         2             ultra      6   3255.338202     1      14.0   \n",
       "9         2             ultra      7   6780.722964     2      48.0   \n",
       "10        2             ultra      8    923.007439     1       7.0   \n",
       "11        2             ultra     10   2824.636598     1      19.0   \n",
       "12        2             ultra     12   3828.248580     1      12.0   \n",
       "13        3             ultra      1   3061.777147     1      13.0   \n",
       "14        3             ultra      2   5421.152016     2      39.0   \n",
       "15        3             ultra      4   2956.651632     1      21.0   \n",
       "16        3             ultra      5   9064.026918     3      63.0   \n",
       "17        3             ultra      7  10919.595403     3      67.0   \n",
       "18        3             ultra      9   2891.012822     1      23.0   \n",
       "19        3             ultra     12   2593.381928     1      13.0   \n",
       "\n",
       "    minute_price  start_ride_price  subscription_fee  \n",
       "0              6                 0               199  \n",
       "1              6                 0               199  \n",
       "2              6                 0               199  \n",
       "3              6                 0               199  \n",
       "4              6                 0               199  \n",
       "5              6                 0               199  \n",
       "6              6                 0               199  \n",
       "7              6                 0               199  \n",
       "8              6                 0               199  \n",
       "9              6                 0               199  \n",
       "10             6                 0               199  \n",
       "11             6                 0               199  \n",
       "12             6                 0               199  \n",
       "13             6                 0               199  \n",
       "14             6                 0               199  \n",
       "15             6                 0               199  \n",
       "16             6                 0               199  \n",
       "17             6                 0               199  \n",
       "18             6                 0               199  \n",
       "19             6                 0               199  "
      ]
     },
     "execution_count": 47,
     "metadata": {},
     "output_type": "execute_result"
    }
   ],
   "source": [
    "data2 = data.groupby(['user_id', 'subscription_type', 'month'], as_index=False).agg({'distance':'sum', 'name': 'count', 'duration': 'sum', 'minute_price': 'first', 'start_ride_price': 'first', 'subscription_fee': 'first'})\n",
    "data2.head(20)"
   ]
  },
  {
   "cell_type": "code",
   "execution_count": 48,
   "id": "c5cfe3e4",
   "metadata": {},
   "outputs": [
    {
     "data": {
      "text/html": [
       "<div>\n",
       "<style scoped>\n",
       "    .dataframe tbody tr th:only-of-type {\n",
       "        vertical-align: middle;\n",
       "    }\n",
       "\n",
       "    .dataframe tbody tr th {\n",
       "        vertical-align: top;\n",
       "    }\n",
       "\n",
       "    .dataframe thead th {\n",
       "        text-align: right;\n",
       "    }\n",
       "</style>\n",
       "<table border=\"1\" class=\"dataframe\">\n",
       "  <thead>\n",
       "    <tr style=\"text-align: right;\">\n",
       "      <th></th>\n",
       "      <th>user_id</th>\n",
       "      <th>subscription_type</th>\n",
       "      <th>month</th>\n",
       "      <th>distance</th>\n",
       "      <th>name</th>\n",
       "      <th>duration</th>\n",
       "      <th>minute_price</th>\n",
       "      <th>start_ride_price</th>\n",
       "      <th>subscription_fee</th>\n",
       "      <th>income_per_month</th>\n",
       "    </tr>\n",
       "  </thead>\n",
       "  <tbody>\n",
       "    <tr>\n",
       "      <th>0</th>\n",
       "      <td>1</td>\n",
       "      <td>ultra</td>\n",
       "      <td>1</td>\n",
       "      <td>7027.511294</td>\n",
       "      <td>2</td>\n",
       "      <td>42.0</td>\n",
       "      <td>6</td>\n",
       "      <td>0</td>\n",
       "      <td>199</td>\n",
       "      <td>451.0</td>\n",
       "    </tr>\n",
       "    <tr>\n",
       "      <th>1</th>\n",
       "      <td>1</td>\n",
       "      <td>ultra</td>\n",
       "      <td>4</td>\n",
       "      <td>754.159807</td>\n",
       "      <td>1</td>\n",
       "      <td>7.0</td>\n",
       "      <td>6</td>\n",
       "      <td>0</td>\n",
       "      <td>199</td>\n",
       "      <td>241.0</td>\n",
       "    </tr>\n",
       "    <tr>\n",
       "      <th>2</th>\n",
       "      <td>1</td>\n",
       "      <td>ultra</td>\n",
       "      <td>8</td>\n",
       "      <td>6723.470560</td>\n",
       "      <td>2</td>\n",
       "      <td>46.0</td>\n",
       "      <td>6</td>\n",
       "      <td>0</td>\n",
       "      <td>199</td>\n",
       "      <td>475.0</td>\n",
       "    </tr>\n",
       "    <tr>\n",
       "      <th>3</th>\n",
       "      <td>1</td>\n",
       "      <td>ultra</td>\n",
       "      <td>10</td>\n",
       "      <td>5809.911100</td>\n",
       "      <td>2</td>\n",
       "      <td>32.0</td>\n",
       "      <td>6</td>\n",
       "      <td>0</td>\n",
       "      <td>199</td>\n",
       "      <td>391.0</td>\n",
       "    </tr>\n",
       "    <tr>\n",
       "      <th>4</th>\n",
       "      <td>1</td>\n",
       "      <td>ultra</td>\n",
       "      <td>11</td>\n",
       "      <td>7003.499363</td>\n",
       "      <td>3</td>\n",
       "      <td>56.0</td>\n",
       "      <td>6</td>\n",
       "      <td>0</td>\n",
       "      <td>199</td>\n",
       "      <td>535.0</td>\n",
       "    </tr>\n",
       "    <tr>\n",
       "      <th>5</th>\n",
       "      <td>1</td>\n",
       "      <td>ultra</td>\n",
       "      <td>12</td>\n",
       "      <td>6751.629942</td>\n",
       "      <td>2</td>\n",
       "      <td>28.0</td>\n",
       "      <td>6</td>\n",
       "      <td>0</td>\n",
       "      <td>199</td>\n",
       "      <td>367.0</td>\n",
       "    </tr>\n",
       "    <tr>\n",
       "      <th>6</th>\n",
       "      <td>2</td>\n",
       "      <td>ultra</td>\n",
       "      <td>3</td>\n",
       "      <td>10187.723006</td>\n",
       "      <td>3</td>\n",
       "      <td>63.0</td>\n",
       "      <td>6</td>\n",
       "      <td>0</td>\n",
       "      <td>199</td>\n",
       "      <td>577.0</td>\n",
       "    </tr>\n",
       "    <tr>\n",
       "      <th>7</th>\n",
       "      <td>2</td>\n",
       "      <td>ultra</td>\n",
       "      <td>4</td>\n",
       "      <td>6164.381824</td>\n",
       "      <td>2</td>\n",
       "      <td>40.0</td>\n",
       "      <td>6</td>\n",
       "      <td>0</td>\n",
       "      <td>199</td>\n",
       "      <td>439.0</td>\n",
       "    </tr>\n",
       "    <tr>\n",
       "      <th>8</th>\n",
       "      <td>2</td>\n",
       "      <td>ultra</td>\n",
       "      <td>6</td>\n",
       "      <td>3255.338202</td>\n",
       "      <td>1</td>\n",
       "      <td>14.0</td>\n",
       "      <td>6</td>\n",
       "      <td>0</td>\n",
       "      <td>199</td>\n",
       "      <td>283.0</td>\n",
       "    </tr>\n",
       "    <tr>\n",
       "      <th>9</th>\n",
       "      <td>2</td>\n",
       "      <td>ultra</td>\n",
       "      <td>7</td>\n",
       "      <td>6780.722964</td>\n",
       "      <td>2</td>\n",
       "      <td>48.0</td>\n",
       "      <td>6</td>\n",
       "      <td>0</td>\n",
       "      <td>199</td>\n",
       "      <td>487.0</td>\n",
       "    </tr>\n",
       "    <tr>\n",
       "      <th>10</th>\n",
       "      <td>2</td>\n",
       "      <td>ultra</td>\n",
       "      <td>8</td>\n",
       "      <td>923.007439</td>\n",
       "      <td>1</td>\n",
       "      <td>7.0</td>\n",
       "      <td>6</td>\n",
       "      <td>0</td>\n",
       "      <td>199</td>\n",
       "      <td>241.0</td>\n",
       "    </tr>\n",
       "    <tr>\n",
       "      <th>11</th>\n",
       "      <td>2</td>\n",
       "      <td>ultra</td>\n",
       "      <td>10</td>\n",
       "      <td>2824.636598</td>\n",
       "      <td>1</td>\n",
       "      <td>19.0</td>\n",
       "      <td>6</td>\n",
       "      <td>0</td>\n",
       "      <td>199</td>\n",
       "      <td>313.0</td>\n",
       "    </tr>\n",
       "    <tr>\n",
       "      <th>12</th>\n",
       "      <td>2</td>\n",
       "      <td>ultra</td>\n",
       "      <td>12</td>\n",
       "      <td>3828.248580</td>\n",
       "      <td>1</td>\n",
       "      <td>12.0</td>\n",
       "      <td>6</td>\n",
       "      <td>0</td>\n",
       "      <td>199</td>\n",
       "      <td>271.0</td>\n",
       "    </tr>\n",
       "    <tr>\n",
       "      <th>13</th>\n",
       "      <td>3</td>\n",
       "      <td>ultra</td>\n",
       "      <td>1</td>\n",
       "      <td>3061.777147</td>\n",
       "      <td>1</td>\n",
       "      <td>13.0</td>\n",
       "      <td>6</td>\n",
       "      <td>0</td>\n",
       "      <td>199</td>\n",
       "      <td>277.0</td>\n",
       "    </tr>\n",
       "    <tr>\n",
       "      <th>14</th>\n",
       "      <td>3</td>\n",
       "      <td>ultra</td>\n",
       "      <td>2</td>\n",
       "      <td>5421.152016</td>\n",
       "      <td>2</td>\n",
       "      <td>39.0</td>\n",
       "      <td>6</td>\n",
       "      <td>0</td>\n",
       "      <td>199</td>\n",
       "      <td>433.0</td>\n",
       "    </tr>\n",
       "    <tr>\n",
       "      <th>15</th>\n",
       "      <td>3</td>\n",
       "      <td>ultra</td>\n",
       "      <td>4</td>\n",
       "      <td>2956.651632</td>\n",
       "      <td>1</td>\n",
       "      <td>21.0</td>\n",
       "      <td>6</td>\n",
       "      <td>0</td>\n",
       "      <td>199</td>\n",
       "      <td>325.0</td>\n",
       "    </tr>\n",
       "    <tr>\n",
       "      <th>16</th>\n",
       "      <td>3</td>\n",
       "      <td>ultra</td>\n",
       "      <td>5</td>\n",
       "      <td>9064.026918</td>\n",
       "      <td>3</td>\n",
       "      <td>63.0</td>\n",
       "      <td>6</td>\n",
       "      <td>0</td>\n",
       "      <td>199</td>\n",
       "      <td>577.0</td>\n",
       "    </tr>\n",
       "    <tr>\n",
       "      <th>17</th>\n",
       "      <td>3</td>\n",
       "      <td>ultra</td>\n",
       "      <td>7</td>\n",
       "      <td>10919.595403</td>\n",
       "      <td>3</td>\n",
       "      <td>67.0</td>\n",
       "      <td>6</td>\n",
       "      <td>0</td>\n",
       "      <td>199</td>\n",
       "      <td>601.0</td>\n",
       "    </tr>\n",
       "    <tr>\n",
       "      <th>18</th>\n",
       "      <td>3</td>\n",
       "      <td>ultra</td>\n",
       "      <td>9</td>\n",
       "      <td>2891.012822</td>\n",
       "      <td>1</td>\n",
       "      <td>23.0</td>\n",
       "      <td>6</td>\n",
       "      <td>0</td>\n",
       "      <td>199</td>\n",
       "      <td>337.0</td>\n",
       "    </tr>\n",
       "    <tr>\n",
       "      <th>19</th>\n",
       "      <td>3</td>\n",
       "      <td>ultra</td>\n",
       "      <td>12</td>\n",
       "      <td>2593.381928</td>\n",
       "      <td>1</td>\n",
       "      <td>13.0</td>\n",
       "      <td>6</td>\n",
       "      <td>0</td>\n",
       "      <td>199</td>\n",
       "      <td>277.0</td>\n",
       "    </tr>\n",
       "  </tbody>\n",
       "</table>\n",
       "</div>"
      ],
      "text/plain": [
       "    user_id subscription_type  month      distance  name  duration  \\\n",
       "0         1             ultra      1   7027.511294     2      42.0   \n",
       "1         1             ultra      4    754.159807     1       7.0   \n",
       "2         1             ultra      8   6723.470560     2      46.0   \n",
       "3         1             ultra     10   5809.911100     2      32.0   \n",
       "4         1             ultra     11   7003.499363     3      56.0   \n",
       "5         1             ultra     12   6751.629942     2      28.0   \n",
       "6         2             ultra      3  10187.723006     3      63.0   \n",
       "7         2             ultra      4   6164.381824     2      40.0   \n",
       "8         2             ultra      6   3255.338202     1      14.0   \n",
       "9         2             ultra      7   6780.722964     2      48.0   \n",
       "10        2             ultra      8    923.007439     1       7.0   \n",
       "11        2             ultra     10   2824.636598     1      19.0   \n",
       "12        2             ultra     12   3828.248580     1      12.0   \n",
       "13        3             ultra      1   3061.777147     1      13.0   \n",
       "14        3             ultra      2   5421.152016     2      39.0   \n",
       "15        3             ultra      4   2956.651632     1      21.0   \n",
       "16        3             ultra      5   9064.026918     3      63.0   \n",
       "17        3             ultra      7  10919.595403     3      67.0   \n",
       "18        3             ultra      9   2891.012822     1      23.0   \n",
       "19        3             ultra     12   2593.381928     1      13.0   \n",
       "\n",
       "    minute_price  start_ride_price  subscription_fee  income_per_month  \n",
       "0              6                 0               199             451.0  \n",
       "1              6                 0               199             241.0  \n",
       "2              6                 0               199             475.0  \n",
       "3              6                 0               199             391.0  \n",
       "4              6                 0               199             535.0  \n",
       "5              6                 0               199             367.0  \n",
       "6              6                 0               199             577.0  \n",
       "7              6                 0               199             439.0  \n",
       "8              6                 0               199             283.0  \n",
       "9              6                 0               199             487.0  \n",
       "10             6                 0               199             241.0  \n",
       "11             6                 0               199             313.0  \n",
       "12             6                 0               199             271.0  \n",
       "13             6                 0               199             277.0  \n",
       "14             6                 0               199             433.0  \n",
       "15             6                 0               199             325.0  \n",
       "16             6                 0               199             577.0  \n",
       "17             6                 0               199             601.0  \n",
       "18             6                 0               199             337.0  \n",
       "19             6                 0               199             277.0  "
      ]
     },
     "execution_count": 48,
     "metadata": {},
     "output_type": "execute_result"
    }
   ],
   "source": [
    "def income_per_month(row):\n",
    "    if row['subscription_type'] == 'free':\n",
    "        return (row['start_ride_price'] * row['name']) + row['minute_price'] * row['duration']\n",
    "    if row['subscription_type'] == 'ultra':\n",
    "        return row['minute_price'] * row['duration'] + row['subscription_fee']\n",
    "data2['income_per_month'] = data2.apply(income_per_month, axis=1)\n",
    "data2.head(20)"
   ]
  },
  {
   "cell_type": "markdown",
   "id": "32e653f9",
   "metadata": {},
   "source": [
    "Вывод: помесяная выручка по каждому пользователю подсчитана."
   ]
  },
  {
   "cell_type": "markdown",
   "id": "7a516f01",
   "metadata": {},
   "source": [
    "#### Шаг 6. Проверка гипотез"
   ]
  },
  {
   "cell_type": "markdown",
   "id": "9c390c90",
   "metadata": {},
   "source": [
    "##### Тратят ли пользователи с подпиской больше времени на поездки?\n",
    "Нулевая гипотеза - пользователи с подпиской тратят столько же времени на поездки, сколько и пользоваттели без подписки.\n",
    "Альтернативная гипотеза - пользователи с подпиской тратят больше времени на поездки, чем те, кто подписку не оформил."
   ]
  },
  {
   "cell_type": "markdown",
   "id": "fe3c39ed",
   "metadata": {},
   "source": [
    "<div class=\"alert alert-block alert-success\">\n",
    "<b>✅Комментарий ревьюера:</b> Здорово, что формулируешь гипотезы перед проверкой!</div>"
   ]
  },
  {
   "cell_type": "markdown",
   "id": "52757f50",
   "metadata": {},
   "source": [
    "<div class=\"alert alert-block alert-warning\">\n",
    "<b>🔁Комментарий ревьюера:</b>\n",
    "\n",
    "Ранее мы уже разделили пользователей на две таблицы, стоит использовать их, чтобы не делать дополнительных фильтраций</div>"
   ]
  },
  {
   "cell_type": "markdown",
   "id": "9a116497",
   "metadata": {},
   "source": [
    "<div class=\"alert alert-block alert-info\">\n",
    "<b>🔄Комментарий студента:</b> \n",
    "Исправлено ✔\n",
    "</div>"
   ]
  },
  {
   "cell_type": "markdown",
   "id": "0a1c44e4",
   "metadata": {},
   "source": [
    "<div class=\"alert alert-block alert-warning\">\n",
    "<b>🔁Комментарий ревьюера 3:</b>\n",
    "\n",
    "Тут я имел ввиду, что стоит использовать данные из таблиц data_free и data_ultra</div>"
   ]
  },
  {
   "cell_type": "code",
   "execution_count": 49,
   "id": "c634cd1e",
   "metadata": {},
   "outputs": [
    {
     "name": "stdout",
     "output_type": "stream",
     "text": [
      "p-значение: 1.1814679253701353e-36\n",
      "Отвергаем нулевую гипотезу\n"
     ]
    }
   ],
   "source": [
    "ultra_duration = data[data['subscription_type'] == 'ultra']['duration']\n",
    "free_duration = data[data['subscription_type'] == 'free']['duration']\n",
    "alpha = 0.05\n",
    "results = st.ttest_ind(ultra_duration, free_duration, equal_var=False, alternative='greater')\n",
    "print('p-значение:', results.pvalue)\n",
    "if results.pvalue < alpha:\n",
    "    print('Отвергаем нулевую гипотезу')\n",
    "else:\n",
    "    print('Нет оснований отвергнуть нулевую гипотезу')"
   ]
  },
  {
   "cell_type": "code",
   "execution_count": 50,
   "id": "0785a1ba",
   "metadata": {},
   "outputs": [
    {
     "name": "stdout",
     "output_type": "stream",
     "text": [
      "p-значение: 5.6757813771289775e-37\n",
      "Отвергаем нулевую гипотезу\n"
     ]
    }
   ],
   "source": [
    "alpha = 0.05\n",
    "results = st.ttest_ind(data_ultra['duration'], data_free['duration'], equal_var=False, alternative='greater')\n",
    "print('p-значение:', results.pvalue)\n",
    "if results.pvalue < alpha:\n",
    "    print('Отвергаем нулевую гипотезу')\n",
    "else:\n",
    "    print('Нет оснований отвергнуть нулевую гипотезу')"
   ]
  },
  {
   "cell_type": "markdown",
   "id": "d86e56ba",
   "metadata": {},
   "source": [
    "<div class=\"alert alert-block alert-warning\">\n",
    "<b>🔁Комментарий ревьюера:</b>\n",
    "\n",
    "Дополнительно можно вывести средние значения продолжительности поездок для каждой категории пользователей.</div>"
   ]
  },
  {
   "cell_type": "markdown",
   "id": "517f5848",
   "metadata": {},
   "source": [
    "<div class=\"alert alert-block alert-info\">\n",
    "<b>🔄Комментарий студента:</b> \n",
    "Добавила ✔\n",
    "</div>"
   ]
  },
  {
   "cell_type": "markdown",
   "id": "cd2afd10",
   "metadata": {},
   "source": [
    "<div class=\"alert alert-block alert-success\">\n",
    "<b>✅Комментарий ревьюера 3:</b> Отлично, исправлено!👍  </div>"
   ]
  },
  {
   "cell_type": "code",
   "execution_count": 51,
   "id": "526549dd",
   "metadata": {},
   "outputs": [
    {
     "data": {
      "text/plain": [
       "18.54198516280583"
      ]
     },
     "execution_count": 51,
     "metadata": {},
     "output_type": "execute_result"
    }
   ],
   "source": [
    "data_ultra['duration'].mean()"
   ]
  },
  {
   "cell_type": "code",
   "execution_count": 52,
   "id": "35b245a9",
   "metadata": {},
   "outputs": [
    {
     "data": {
      "text/plain": [
       "17.39090929866399"
      ]
     },
     "execution_count": 52,
     "metadata": {},
     "output_type": "execute_result"
    }
   ],
   "source": [
    "data_free['duration'].mean()"
   ]
  },
  {
   "cell_type": "markdown",
   "id": "00279864",
   "metadata": {},
   "source": [
    "Нулевая гипотеза отвергнута, есть основания полагать, что пользовтели с подпиской действительно тратят больше времени на поездки, чем пользователи без подписки. Средняя продолжительность поездки у пользователей с подпиской примерно на минуту больше, чем у пользователей без подписки."
   ]
  },
  {
   "cell_type": "markdown",
   "id": "b3eab081",
   "metadata": {},
   "source": [
    "##### Расстояние, которое проезжают пользователи с подпиской за одну поездку, не превышает 3130 метров (оптимальное расстояние с точки зрения износа самоката)? \n",
    "Нулевая гипотеза - пользователи с подпиской проезжают 3130 метров. Альтернативная - пользователи с подпиской проезжают больше 3130 м."
   ]
  },
  {
   "cell_type": "markdown",
   "id": "50e6b34f",
   "metadata": {
    "id": "5766e785"
   },
   "source": [
    "<div class=\"alert alert-block alert-danger\">\n",
    "<b>❌Комментарий ревьюера:</b> \n",
    "    \n",
    "Альтернативную гипотезу тут стоит сформулировать о том, что пользователи с подпиской за одну сессию проезжают больше 3130 метров, так при ее принятии или опровержении мы сможем ответить на поставленный в задании вопрос.\n",
    "\n",
    "\n",
    "P.S. Соответственно значение аргумента alternative нужно будет изменить.</div>"
   ]
  },
  {
   "cell_type": "markdown",
   "id": "b0a4a07b",
   "metadata": {},
   "source": [
    "<div class=\"alert alert-block alert-success\">\n",
    "<b>✅Комментарий ревьюера 2:</b> Отлично, исправлено!👍  </div>"
   ]
  },
  {
   "cell_type": "code",
   "execution_count": 53,
   "id": "fbc1d281",
   "metadata": {},
   "outputs": [
    {
     "name": "stdout",
     "output_type": "stream",
     "text": [
      "p-значение: 0.9195368847849785\n",
      "Не получилось отвергнуть нулевую гипотезу: пользователи с подпиской проезжают не более 3130 м.\n"
     ]
    }
   ],
   "source": [
    "ultra_distance = data[data['subscription_type'] == 'ultra']['distance']\n",
    "interested_value = 3130\n",
    "alpha = 0.05\n",
    "results = st.ttest_1samp(ultra_distance, interested_value, alternative='greater')\n",
    "print('p-значение:', results.pvalue) \n",
    "\n",
    "if results.pvalue < alpha:\n",
    "    print('Отвергаем нулевую гипотезу')\n",
    "else:\n",
    "    print('Не получилось отвергнуть нулевую гипотезу: пользователи с подпиской проезжают не более 3130 м.')"
   ]
  },
  {
   "cell_type": "markdown",
   "id": "8e227c83",
   "metadata": {
    "id": "5766e785"
   },
   "source": [
    "<div class=\"alert alert-block alert-danger\">\n",
    "<b>❌Комментарий ревьюера:</b> \n",
    "    \n",
    "Выводимый результат противоречит формулировке нулевой гипотезы</div>"
   ]
  },
  {
   "cell_type": "markdown",
   "id": "f0015cb4",
   "metadata": {},
   "source": [
    "Расстояние, которое проезжают пользователи с подпиской за одну поездку, действительно не превышает 3130 метров. "
   ]
  },
  {
   "cell_type": "markdown",
   "id": "24739be1",
   "metadata": {},
   "source": [
    "\n",
    "<div class=\"alert alert-info\"> <b>Комментарии студента:</b> Исправила.</div>"
   ]
  },
  {
   "cell_type": "markdown",
   "id": "ec11039a",
   "metadata": {},
   "source": [
    "<div class=\"alert alert-block alert-success\">\n",
    "<b>✅Комментарий ревьюера 3:</b> Отлично, исправлено!👍  </div>"
   ]
  },
  {
   "cell_type": "markdown",
   "id": "5dbb5f3c",
   "metadata": {
    "id": "5766e785"
   },
   "source": [
    "<div class=\"alert alert-block alert-danger\">\n",
    "<b>❌Комментарий ревьюера 2:</b> \n",
    "    \n",
    "Я имел ввиду результат, который выводится с помощью функции print() после проверки гипотезы. Там написано верно, что мы не можем отвергнуть нулевую гипотезу. Но почему пользователи с подпиской проезжают больше 3130 м, если мы нулевую гипотезу не отвергаем?</div>"
   ]
  },
  {
   "cell_type": "markdown",
   "id": "c77c465e",
   "metadata": {},
   "source": [
    "<div class=\"alert alert-block alert-info\">\n",
    "<b>🔄Комментарий студента:</b> \n",
    "Я поторопилась и запуталась. Исправила.\n",
    "</div>"
   ]
  },
  {
   "cell_type": "markdown",
   "id": "49b9ce12",
   "metadata": {},
   "source": [
    "<div class=\"alert alert-block alert-success\">\n",
    "<b>✅Комментарий ревьюера 3:</b> Отлично, исправлено!👍  </div>"
   ]
  },
  {
   "cell_type": "markdown",
   "id": "fe344cfc",
   "metadata": {},
   "source": [
    "##### Будет ли помесячная выручка от пользователей с подпиской по месяцам выше, чем выручка от пользователей без подписки?\n",
    "Нулевая гипотеза - помесячная выручка от пользователей с подпиской равна помесячной выручке от пользователей без подписки.\n",
    "Альтернативная - помесячная выручка от пользователей с подпиской больше помесячной выручке от пользователей без подписки."
   ]
  },
  {
   "cell_type": "code",
   "execution_count": 54,
   "id": "78060241",
   "metadata": {},
   "outputs": [
    {
     "name": "stdout",
     "output_type": "stream",
     "text": [
      "p-значение: 8.874140893976874e-40\n",
      "Отвергаем нулевую гипотезу\n"
     ]
    }
   ],
   "source": [
    "ultra_income = data_grouped[data_grouped['subscription_type'] == 'ultra']['income_per_month']\n",
    "free_income = data_grouped[data_grouped['subscription_type'] == 'free']['income_per_month']\n",
    "alpha = 0.05\n",
    "results = st.ttest_ind(ultra_income, free_income, equal_var=False, alternative='greater')\n",
    "print('p-значение:', results.pvalue)\n",
    "if results.pvalue < alpha:\n",
    "    print('Отвергаем нулевую гипотезу')\n",
    "else:\n",
    "    print('Нет оснований отвергнуть нулевую гипотезу')"
   ]
  },
  {
   "cell_type": "markdown",
   "id": "56a9a899",
   "metadata": {},
   "source": [
    "<div class=\"alert alert-block alert-warning\">\n",
    "<b>🔁Комментарий ревьюера:</b>\n",
    "\n",
    "Тут тоже дополнительно можно вывести средние значения выручки для каждой категории пользователей.</div>"
   ]
  },
  {
   "cell_type": "markdown",
   "id": "74c0edfc",
   "metadata": {},
   "source": [
    "Действительно, помесячная выручка от пользователей с подпиской выше. Такие пользователи \"выгоднее\" компании."
   ]
  },
  {
   "cell_type": "markdown",
   "id": "8f311865",
   "metadata": {},
   "source": [
    "<div class=\"alert alert-block alert-success\">\n",
    "<b>✅Комментарий ревьюера:</b> Верно </div>"
   ]
  },
  {
   "cell_type": "markdown",
   "id": "87a1f681",
   "metadata": {},
   "source": [
    "##### Представьте такую ситуацию: техническая команда сервиса обновила сервера, с которыми взаимодействует мобильное приложение. Она надеется, что из-за этого количество обращений в техподдержку значимо снизилось. Некоторый файл содержит для каждого пользователя данные о количестве обращений до обновления и после него. Какой тест вам понадобился бы для проверки этой гипотезы?\n",
    "\n",
    "Ответ: Для поверки этой гипотезы мы бы использовали T-тест"
   ]
  },
  {
   "cell_type": "markdown",
   "id": "7795efdb",
   "metadata": {
    "id": "5766e785"
   },
   "source": [
    "<div class=\"alert alert-block alert-danger\">\n",
    "<b>❌Комментарий ревьюера:</b> \n",
    "    \n",
    "Какой метод нужно будет применить для проверки гипотезы?\n",
    "</div>"
   ]
  },
  {
   "cell_type": "markdown",
   "id": "f13df49b",
   "metadata": {},
   "source": [
    "<div class=\"alert alert-info\"> <b>Комментарии студента:</b> Методом scipy.stats.ttest_rel().</div>"
   ]
  },
  {
   "cell_type": "markdown",
   "id": "6a0c5d74",
   "metadata": {},
   "source": [
    "<div class=\"alert alert-block alert-success\">\n",
    "<b>✅Комментарий ревьюера 2:</b> Отлично, исправлено!👍  </div>"
   ]
  },
  {
   "cell_type": "markdown",
   "id": "dbee87da",
   "metadata": {},
   "source": [
    "Вывод: Задача по проверке гипотез решена. В результате мы выяснили, что пользователи с подпиской \"более выгодны\" для компании, они тратят больше времени на поездки и выручка с таких пользователей выше."
   ]
  },
  {
   "cell_type": "markdown",
   "id": "99db0528",
   "metadata": {},
   "source": [
    "#### Шаг 7. Распределения"
   ]
  },
  {
   "cell_type": "markdown",
   "id": "8cd239fe",
   "metadata": {},
   "source": [
    "###### Отделу маркетинга GoFast поставили задачу: нужно провести акцию с раздачей промокодов на один бесплатный месяц подписки, в рамках которой как минимум 100 существующих клиентов должны продлить эту подписку. То есть по завершении периода действия подписки пользователь может либо отказаться от неё, либо продлить, совершив соотвествующий платёж. Эта акция уже проводилась ранее и по итогу выяснилось, что после бесплатного пробного периода подписку продлевают 10 % пользователей. Выясните, какое минимальное количество промокодов нужно разослать, чтобы вероятность не выполнить план была примерно 5 %. "
   ]
  },
  {
   "cell_type": "markdown",
   "id": "9bd2a187",
   "metadata": {},
   "source": [
    "1. Построим распределения вероятностей и гистограммы для случайной величины «количество промокодов», если переговоры начали с 1000 промокодов.\n",
    "\n",
    "Если подписку продлевают 10% пользователей получивших промокод, подсчитаем, какова вероятность при 1000 промокодов получить 100 продлений."
   ]
  },
  {
   "cell_type": "code",
   "execution_count": 55,
   "id": "d7556822",
   "metadata": {},
   "outputs": [
    {
     "data": {
      "text/plain": [
       "0.4734009187048347"
      ]
     },
     "execution_count": 55,
     "metadata": {},
     "output_type": "execute_result"
    }
   ],
   "source": [
    "# k-количество продлений, которое нужно получить \n",
    "# n-количество выданных промокодов\n",
    "# p-вероятность продления \n",
    "# Нужно получить вероятность 95% успеха получить 100 продлений при n промкодах\n",
    "1 - binom.cdf(k= 100 , n= 1000 , p= 0.1 )"
   ]
  },
  {
   "cell_type": "markdown",
   "id": "ea84d63b",
   "metadata": {},
   "source": [
    "С 1000 промокодов вероятность получить 100 продлений - 47%\n",
    "Увеличим количество выдаваемых промокодов, чтобы получить не менее 95%"
   ]
  },
  {
   "cell_type": "code",
   "execution_count": 56,
   "id": "7082b4bd",
   "metadata": {},
   "outputs": [
    {
     "data": {
      "text/plain": [
       "0.972045103165364"
      ]
     },
     "execution_count": 56,
     "metadata": {},
     "output_type": "execute_result"
    }
   ],
   "source": [
    "1 - binom.cdf(k= 100 , n= 1200 , p= 0.1 )"
   ]
  },
  {
   "cell_type": "markdown",
   "id": "34856d02",
   "metadata": {},
   "source": [
    "<div class=\"alert alert-block alert-warning\">\n",
    "<b>🔁Комментарий ревьюера:</b> \n",
    "    \n",
    "В условии написано, что вероятность не выполнить план должна быть примерно 5 %, а у нас получается 2.8%\n",
    "\n",
    "В этом задании стоит использовать биномиальное распределение, подбирая подходящее значение параметра n (в цикле) для заданного параметра p = 0.1 с помощью метода cdf()</div>"
   ]
  },
  {
   "cell_type": "markdown",
   "id": "080f797e",
   "metadata": {},
   "source": [
    "<div class=\"alert alert-block alert-info\">\n",
    "<b>🔄Комментарий студента:</b> \n",
    "С этим заданием так и не разобралась, как по-другому решить.\n",
    "</div>"
   ]
  },
  {
   "cell_type": "markdown",
   "id": "6353c755",
   "metadata": {},
   "source": [
    "<div class=\"alert alert-block alert-success\">\n",
    "<b>✅Комментарий ревьюера 3:</b>\n",
    "\n",
    "Ниже показал код для решения данной задачи.</div>"
   ]
  },
  {
   "cell_type": "code",
   "execution_count": 57,
   "id": "79060f21",
   "metadata": {},
   "outputs": [
    {
     "name": "stdout",
     "output_type": "stream",
     "text": [
      "Минимальное количество промокодов: 1161\n",
      "Вероятность не выполнить план при таком количестве промокодов: 4.976%\n"
     ]
    }
   ],
   "source": [
    "# Код ревьюера\n",
    "\n",
    "target_clients = 100  # Целевое количество клиентов для продления подписки\n",
    "p_renewal = 0.1       # Вероятность продления подписки\n",
    "\n",
    "# Подбор значения параметра n\n",
    "n = 1\n",
    "while binom.cdf(target_clients - 1, n, p_renewal) > 0.05:\n",
    "    n += 1\n",
    "\n",
    "# Вывод \n",
    "print(f\"Минимальное количество промокодов: {n}\")\n",
    "print(f\"Вероятность не выполнить план при таком количестве промокодов: {binom.cdf(target_clients - 1, n, p_renewal):.3%}\")"
   ]
  },
  {
   "cell_type": "markdown",
   "id": "de8e5cf6",
   "metadata": {},
   "source": [
    "Вывод: Для выполнения плана нужно разослать примерно 1200 промокодов."
   ]
  },
  {
   "cell_type": "markdown",
   "id": "ccb0eb53",
   "metadata": {},
   "source": [
    "###### Отдел маркетинга рассылает клиентам push-уведомления в мобильном приложении. Клиенты могут открыть его или не открывать. Известно, что уведомления открывают около 40 % получивших клиентов. Отдел планирует разослать 1 млн уведомлений. С помощью аппроксимации постройте примерный график распределения и оцените вероятность того, что уведомление откроют не более 399,5 тыс. пользователей."
   ]
  },
  {
   "cell_type": "code",
   "execution_count": 58,
   "id": "eb52ff97",
   "metadata": {},
   "outputs": [
    {
     "data": {
      "text/plain": [
       "0.15371708296369768"
      ]
     },
     "execution_count": 58,
     "metadata": {},
     "output_type": "execute_result"
    }
   ],
   "source": [
    "# задаём параметры - количество уведомлений и вероятность открытия уведомления пользователем\n",
    "n = 1000000\n",
    "p = 0.4\n",
    "\n",
    "mu = n * p\n",
    "sigma = sqrt(n * p * (1 - p))\n",
    "\n",
    "distr = st.norm(mu, sigma) \n",
    "\n",
    "# считаем вероятность того, что уведомление откроют не более 399,5тыс\n",
    "result = distr.cdf(399500)\n",
    "result"
   ]
  },
  {
   "cell_type": "markdown",
   "id": "7f64609e",
   "metadata": {},
   "source": [
    "*С графиками в этом задании как-то не задалось, не могу сообразить, как построить. И не очень уверена в правильности решения."
   ]
  },
  {
   "cell_type": "markdown",
   "id": "7cc90524",
   "metadata": {},
   "source": [
    "<div class=\"alert alert-block alert-success\">\n",
    "<b>✅Комментарий ревьюера:</b> \n",
    "\n",
    "Тут решение абсолютно верное, молодец!\n",
    "\n",
    "В качестве визуализации можно построить гистограмму. Показал ниже.</div>"
   ]
  },
  {
   "cell_type": "code",
   "execution_count": 59,
   "id": "5aa1fe49",
   "metadata": {},
   "outputs": [
    {
     "data": {
      "image/png": "[encoded data removed]",
      "text/plain": [
       "<Figure size 432x288 with 1 Axes>"
      ]
     },
     "metadata": {
      "needs_background": "light"
     },
     "output_type": "display_data"
    }
   ],
   "source": [
    "# Код ревьюера\n",
    "\n",
    "s = np.random.normal(mu, sigma, 1000) # генерируем значения для нормального распределения\n",
    "\n",
    "\n",
    "plt.hist(s, 30) # строим гистограмму\n",
    "plt.title('Название графика')\n",
    "plt.xlabel('Количество пользователей')\n",
    "\n",
    "plt.show()"
   ]
  },
  {
   "cell_type": "markdown",
   "id": "0ecfd029",
   "metadata": {},
   "source": [
    "Вывод: вероятность того, что уведомление откроют не более 399,5 тыс. пользователей составила примерно 15%."
   ]
  },
  {
   "cell_type": "markdown",
   "id": "d48fda6d",
   "metadata": {},
   "source": [
    "### Общий вывод"
   ]
  },
  {
   "cell_type": "markdown",
   "id": "f254c72b",
   "metadata": {},
   "source": [
    "#### Этап 1. Предобработка данных.\n",
    "Прежде чем анализировать данные, необходимо было их проверить на наличие пропусков и дубликатов, и привести в состояние, подходящее для анализа. В данном этапе были проведены следующие действия:\n",
    "- Изменения типов данных (а именно: столбец date).\n",
    "- Поиск и обработка пропущенных значений.\n",
    "- Поиск и удаление дубликатов.\n",
    "- Объединение данных для более удобной дальнейшей работы с ними.\n",
    "\n",
    "#### Этап 2. Исследование данных в соответствии с поставленными вопросами.\n",
    "\n",
    "##### Описана и визуализирована общая информация о пользователях и поездках:\n",
    "    1. частота встречаемости городов (Наиболее популярен сервис в Пятигорске, наименьшей популярностью пользуется в Москве.)\n",
    "    2. соотношение пользователей с подпиской и без подписки (Пользователей без подписки больше примерно на 20%)\n",
    "    3. возраст пользователей ( Большинство пользователей сервиса в возрасте от 20 до 30 лет.)\n",
    "    4. расстояние, которое пользователь преодолел за одну поездку (На основании этой гистограммы мы можем следать вывод, что клиенты сервиса чаще всего используют самокаты для поездок на расстояние от 2 до 5 км.)\n",
    "    5. продолжительность поездок ( Длительность поездки в среднем от 10 до 30 минут.)\n",
    "    \n",
    "##### Подсчитана помесячная выручка, которую принёс каждый пользователь.\n",
    "\n",
    "##### Проверены гипотезы:\n",
    "\n",
    "###### Тратят ли пользователи с подпиской больше времени на поездки?\n",
    "Да, пользовтели с подпиской действительно тратят больше времени на поездки, чем пользователи без подписки.\n",
    "\n",
    "###### Расстояние, которое проезжают пользователи с подпиской за одну поездку, не превышает 3130 метров (оптимальное расстояние с точки зрения износа самоката)? \n",
    "Расстояние, которое проезжают пользователи с подпиской за одну поездку, не превышает 3130 метров.\n",
    "\n",
    "###### Будет ли помесячная выручка от пользователей с подпиской по месяцам выше, чем выручка от пользователей без подписки?\n",
    "Действительно, помесячная выручка от пользователей с подпиской выше. Такие пользователи \"выгоднее\" компании.\n",
    "\n",
    "##### Проведены исследования для проведения маркетинговой акции.\n",
    "\n",
    "1. Для выполнения плана по продлению подписки 100 пользователями нужно разослать примерно 1200 промокодов.\n",
    "2. Вероятность того, что уведомление, отправленное отделом маркетинга, откроют не более 399,5 тыс. пользователей составила примерно 15%\n"
   ]
  },
  {
   "cell_type": "markdown",
   "id": "a2e6b110",
   "metadata": {},
   "source": [
    "<div class=\"alert alert-block alert-success\">\n",
    "<b>✅Комментарий ревьюера:</b> \n",
    "\n",
    "\n",
    "Отличный итоговый вывод!\n",
    "\n",
    "    \n",
    "    \n",
    "**Хочу обратить твое внимание на то, что после исправления замечаний в некоторых пунктах исследования могут измениться результаты, поэтому нужно будет подкорректировать выводы.**\n",
    "</div>"
   ]
  },
  {
   "cell_type": "code",
   "execution_count": null,
   "id": "872c1b66",
   "metadata": {},
   "outputs": [],
   "source": []
  }
 ],
 "metadata": {
  "ExecuteTimeLog": [
   {
    "duration": 45,
    "start_time": "2023-06-19T10:44:01.207Z"
   },
   {
    "duration": 342,
    "start_time": "2023-06-19T10:44:03.807Z"
   },
   {
    "duration": 87,
    "start_time": "2023-06-19T10:44:06.431Z"
   },
   {
    "duration": 38,
    "start_time": "2023-06-19T10:44:35.152Z"
   },
   {
    "duration": 48,
    "start_time": "2023-06-19T10:44:47.354Z"
   },
   {
    "duration": 176,
    "start_time": "2023-06-19T10:47:37.718Z"
   },
   {
    "duration": 42,
    "start_time": "2023-06-19T10:47:45.624Z"
   },
   {
    "duration": 42,
    "start_time": "2023-06-19T10:47:55.376Z"
   },
   {
    "duration": 11,
    "start_time": "2023-06-19T10:53:23.496Z"
   },
   {
    "duration": 43,
    "start_time": "2023-06-19T10:54:35.048Z"
   },
   {
    "duration": 11,
    "start_time": "2023-06-19T10:54:55.319Z"
   },
   {
    "duration": 86,
    "start_time": "2023-06-19T10:56:36.586Z"
   },
   {
    "duration": 10,
    "start_time": "2023-06-19T10:57:25.023Z"
   },
   {
    "duration": 14,
    "start_time": "2023-06-19T11:02:26.457Z"
   },
   {
    "duration": 10,
    "start_time": "2023-06-19T11:02:58.311Z"
   },
   {
    "duration": 27,
    "start_time": "2023-06-19T11:07:03.271Z"
   },
   {
    "duration": 349,
    "start_time": "2023-06-19T11:07:24.006Z"
   },
   {
    "duration": 40,
    "start_time": "2023-06-19T11:07:24.357Z"
   },
   {
    "duration": 12,
    "start_time": "2023-06-19T11:07:24.399Z"
   },
   {
    "duration": 44,
    "start_time": "2023-06-19T11:07:24.413Z"
   },
   {
    "duration": 11,
    "start_time": "2023-06-19T11:07:24.458Z"
   },
   {
    "duration": 26,
    "start_time": "2023-06-19T11:07:24.470Z"
   },
   {
    "duration": 9,
    "start_time": "2023-06-19T11:07:24.498Z"
   },
   {
    "duration": 27,
    "start_time": "2023-06-19T11:07:24.509Z"
   },
   {
    "duration": 12,
    "start_time": "2023-06-19T11:07:24.537Z"
   },
   {
    "duration": 66,
    "start_time": "2023-06-19T11:07:24.551Z"
   },
   {
    "duration": 10,
    "start_time": "2023-06-19T11:08:26.105Z"
   },
   {
    "duration": 4,
    "start_time": "2023-06-19T11:10:15.315Z"
   },
   {
    "duration": 12,
    "start_time": "2023-06-19T11:10:30.840Z"
   },
   {
    "duration": 7,
    "start_time": "2023-06-19T11:12:07.777Z"
   },
   {
    "duration": 9,
    "start_time": "2023-06-19T11:13:29.856Z"
   },
   {
    "duration": 5,
    "start_time": "2023-06-19T11:13:54.155Z"
   },
   {
    "duration": 7,
    "start_time": "2023-06-19T11:15:40.656Z"
   },
   {
    "duration": 7,
    "start_time": "2023-06-19T11:15:57.943Z"
   },
   {
    "duration": 6,
    "start_time": "2023-06-19T11:16:06.833Z"
   },
   {
    "duration": 10,
    "start_time": "2023-06-19T11:17:15.058Z"
   },
   {
    "duration": 12,
    "start_time": "2023-06-19T11:17:23.225Z"
   },
   {
    "duration": 6,
    "start_time": "2023-06-19T11:21:48.162Z"
   },
   {
    "duration": 4,
    "start_time": "2023-06-19T11:23:09.964Z"
   },
   {
    "duration": 6,
    "start_time": "2023-06-19T11:27:21.372Z"
   },
   {
    "duration": 8,
    "start_time": "2023-06-19T11:27:41.162Z"
   },
   {
    "duration": 6,
    "start_time": "2023-06-19T11:29:01.953Z"
   },
   {
    "duration": 5,
    "start_time": "2023-06-19T11:29:23.402Z"
   },
   {
    "duration": 575,
    "start_time": "2023-06-19T11:55:39.186Z"
   },
   {
    "duration": 201,
    "start_time": "2023-06-19T11:55:57.734Z"
   },
   {
    "duration": 213,
    "start_time": "2023-06-19T11:56:23.123Z"
   },
   {
    "duration": 150,
    "start_time": "2023-06-19T12:00:36.918Z"
   },
   {
    "duration": 164,
    "start_time": "2023-06-19T12:00:44.285Z"
   },
   {
    "duration": 158,
    "start_time": "2023-06-19T12:00:48.703Z"
   },
   {
    "duration": 158,
    "start_time": "2023-06-19T12:00:59.602Z"
   },
   {
    "duration": 153,
    "start_time": "2023-06-19T12:02:39.262Z"
   },
   {
    "duration": 140,
    "start_time": "2023-06-19T12:02:45.907Z"
   },
   {
    "duration": 216,
    "start_time": "2023-06-19T12:06:19.125Z"
   },
   {
    "duration": 180,
    "start_time": "2023-06-19T12:06:24.215Z"
   },
   {
    "duration": 166,
    "start_time": "2023-06-19T12:06:32.915Z"
   },
   {
    "duration": 163,
    "start_time": "2023-06-19T12:09:12.019Z"
   },
   {
    "duration": 235,
    "start_time": "2023-06-19T12:09:18.669Z"
   },
   {
    "duration": 157,
    "start_time": "2023-06-19T12:09:27.691Z"
   },
   {
    "duration": 167,
    "start_time": "2023-06-19T12:09:32.508Z"
   },
   {
    "duration": 180,
    "start_time": "2023-06-19T12:09:40.140Z"
   },
   {
    "duration": 183,
    "start_time": "2023-06-19T12:15:07.163Z"
   },
   {
    "duration": 188,
    "start_time": "2023-06-19T12:15:13.299Z"
   },
   {
    "duration": 156,
    "start_time": "2023-06-19T12:15:18.427Z"
   },
   {
    "duration": 176,
    "start_time": "2023-06-19T12:15:24.751Z"
   },
   {
    "duration": 20,
    "start_time": "2023-06-19T12:23:55.291Z"
   },
   {
    "duration": 20,
    "start_time": "2023-06-19T12:24:05.654Z"
   },
   {
    "duration": 24,
    "start_time": "2023-06-19T12:25:08.380Z"
   },
   {
    "duration": 18,
    "start_time": "2023-06-19T12:31:33.612Z"
   },
   {
    "duration": 11,
    "start_time": "2023-06-19T12:31:59.196Z"
   },
   {
    "duration": 15,
    "start_time": "2023-06-19T12:33:35.333Z"
   },
   {
    "duration": 171,
    "start_time": "2023-06-19T12:35:58.157Z"
   },
   {
    "duration": 276,
    "start_time": "2023-06-19T12:36:04.580Z"
   },
   {
    "duration": 172,
    "start_time": "2023-06-19T12:36:09.591Z"
   },
   {
    "duration": 176,
    "start_time": "2023-06-19T12:39:38.588Z"
   },
   {
    "duration": 172,
    "start_time": "2023-06-19T12:44:29.319Z"
   },
   {
    "duration": 164,
    "start_time": "2023-06-19T12:44:36.151Z"
   },
   {
    "duration": 167,
    "start_time": "2023-06-19T12:45:30.538Z"
   },
   {
    "duration": 7,
    "start_time": "2023-06-19T12:55:09.196Z"
   },
   {
    "duration": 9,
    "start_time": "2023-06-19T12:55:22.498Z"
   },
   {
    "duration": 18,
    "start_time": "2023-06-19T13:00:31.443Z"
   },
   {
    "duration": 30,
    "start_time": "2023-06-19T13:02:08.929Z"
   },
   {
    "duration": 17,
    "start_time": "2023-06-19T13:02:24.386Z"
   },
   {
    "duration": 367,
    "start_time": "2023-06-19T13:07:11.696Z"
   },
   {
    "duration": 40,
    "start_time": "2023-06-19T13:07:12.064Z"
   },
   {
    "duration": 10,
    "start_time": "2023-06-19T13:07:12.106Z"
   },
   {
    "duration": 37,
    "start_time": "2023-06-19T13:07:12.118Z"
   },
   {
    "duration": 10,
    "start_time": "2023-06-19T13:07:12.157Z"
   },
   {
    "duration": 45,
    "start_time": "2023-06-19T13:07:12.168Z"
   },
   {
    "duration": 9,
    "start_time": "2023-06-19T13:07:12.215Z"
   },
   {
    "duration": 26,
    "start_time": "2023-06-19T13:07:12.226Z"
   },
   {
    "duration": 10,
    "start_time": "2023-06-19T13:07:12.254Z"
   },
   {
    "duration": 10,
    "start_time": "2023-06-19T13:07:12.268Z"
   },
   {
    "duration": 5,
    "start_time": "2023-06-19T13:07:12.280Z"
   },
   {
    "duration": 18,
    "start_time": "2023-06-19T13:07:12.287Z"
   },
   {
    "duration": 11,
    "start_time": "2023-06-19T13:07:12.307Z"
   },
   {
    "duration": 20,
    "start_time": "2023-06-19T13:07:12.319Z"
   },
   {
    "duration": 36,
    "start_time": "2023-06-19T13:07:12.341Z"
   },
   {
    "duration": 21,
    "start_time": "2023-06-19T13:07:12.379Z"
   },
   {
    "duration": 6,
    "start_time": "2023-06-19T13:07:12.403Z"
   },
   {
    "duration": 22,
    "start_time": "2023-06-19T13:07:12.411Z"
   },
   {
    "duration": 393,
    "start_time": "2023-06-19T13:07:12.435Z"
   },
   {
    "duration": 155,
    "start_time": "2023-06-19T13:07:12.830Z"
   },
   {
    "duration": 180,
    "start_time": "2023-06-19T13:07:12.986Z"
   },
   {
    "duration": 197,
    "start_time": "2023-06-19T13:07:13.168Z"
   },
   {
    "duration": 224,
    "start_time": "2023-06-19T13:07:13.368Z"
   },
   {
    "duration": 21,
    "start_time": "2023-06-19T13:07:13.594Z"
   },
   {
    "duration": 42,
    "start_time": "2023-06-19T13:07:13.617Z"
   },
   {
    "duration": 19,
    "start_time": "2023-06-19T13:07:13.661Z"
   },
   {
    "duration": 41,
    "start_time": "2023-06-19T13:07:13.682Z"
   },
   {
    "duration": 175,
    "start_time": "2023-06-19T13:07:13.725Z"
   },
   {
    "duration": 190,
    "start_time": "2023-06-19T13:07:13.902Z"
   },
   {
    "duration": 161,
    "start_time": "2023-06-19T13:07:14.094Z"
   },
   {
    "duration": 175,
    "start_time": "2023-06-19T13:07:14.257Z"
   },
   {
    "duration": 25,
    "start_time": "2023-06-19T13:07:14.433Z"
   },
   {
    "duration": 75,
    "start_time": "2023-06-19T13:14:42.125Z"
   },
   {
    "duration": 13,
    "start_time": "2023-06-19T13:15:27.222Z"
   },
   {
    "duration": 13,
    "start_time": "2023-06-19T13:15:32.903Z"
   },
   {
    "duration": 13,
    "start_time": "2023-06-19T13:16:05.052Z"
   },
   {
    "duration": 13,
    "start_time": "2023-06-19T13:16:42.875Z"
   },
   {
    "duration": 15,
    "start_time": "2023-06-19T13:17:29.507Z"
   },
   {
    "duration": 15,
    "start_time": "2023-06-19T13:18:08.142Z"
   },
   {
    "duration": 14,
    "start_time": "2023-06-19T13:19:21.448Z"
   },
   {
    "duration": 15,
    "start_time": "2023-06-19T13:19:27.535Z"
   },
   {
    "duration": 356,
    "start_time": "2023-06-19T13:19:38.604Z"
   },
   {
    "duration": 40,
    "start_time": "2023-06-19T13:19:38.961Z"
   },
   {
    "duration": 11,
    "start_time": "2023-06-19T13:19:39.003Z"
   },
   {
    "duration": 32,
    "start_time": "2023-06-19T13:19:39.017Z"
   },
   {
    "duration": 11,
    "start_time": "2023-06-19T13:19:39.051Z"
   },
   {
    "duration": 19,
    "start_time": "2023-06-19T13:19:39.064Z"
   },
   {
    "duration": 9,
    "start_time": "2023-06-19T13:19:39.084Z"
   },
   {
    "duration": 14,
    "start_time": "2023-06-19T13:19:39.095Z"
   },
   {
    "duration": 11,
    "start_time": "2023-06-19T13:19:39.111Z"
   },
   {
    "duration": 31,
    "start_time": "2023-06-19T13:19:39.124Z"
   },
   {
    "duration": 6,
    "start_time": "2023-06-19T13:19:39.156Z"
   },
   {
    "duration": 6,
    "start_time": "2023-06-19T13:19:39.164Z"
   },
   {
    "duration": 22,
    "start_time": "2023-06-19T13:19:39.171Z"
   },
   {
    "duration": 11,
    "start_time": "2023-06-19T13:19:39.195Z"
   },
   {
    "duration": 11,
    "start_time": "2023-06-19T13:19:39.208Z"
   },
   {
    "duration": 6,
    "start_time": "2023-06-19T13:19:39.221Z"
   },
   {
    "duration": 5,
    "start_time": "2023-06-19T13:19:39.229Z"
   },
   {
    "duration": 18,
    "start_time": "2023-06-19T13:19:39.236Z"
   },
   {
    "duration": 379,
    "start_time": "2023-06-19T13:19:39.255Z"
   },
   {
    "duration": 157,
    "start_time": "2023-06-19T13:19:39.636Z"
   },
   {
    "duration": 167,
    "start_time": "2023-06-19T13:19:39.794Z"
   },
   {
    "duration": 183,
    "start_time": "2023-06-19T13:19:39.963Z"
   },
   {
    "duration": 229,
    "start_time": "2023-06-19T13:19:40.148Z"
   },
   {
    "duration": 21,
    "start_time": "2023-06-19T13:19:40.379Z"
   },
   {
    "duration": 22,
    "start_time": "2023-06-19T13:19:40.402Z"
   },
   {
    "duration": 39,
    "start_time": "2023-06-19T13:19:40.425Z"
   },
   {
    "duration": 14,
    "start_time": "2023-06-19T13:19:40.466Z"
   },
   {
    "duration": 185,
    "start_time": "2023-06-19T13:19:40.482Z"
   },
   {
    "duration": 196,
    "start_time": "2023-06-19T13:19:40.668Z"
   },
   {
    "duration": 166,
    "start_time": "2023-06-19T13:19:40.865Z"
   },
   {
    "duration": 169,
    "start_time": "2023-06-19T13:19:41.032Z"
   },
   {
    "duration": 15,
    "start_time": "2023-06-19T13:19:41.203Z"
   },
   {
    "duration": 88,
    "start_time": "2023-06-19T13:19:41.219Z"
   },
   {
    "duration": 0,
    "start_time": "2023-06-19T13:19:41.309Z"
   },
   {
    "duration": 15,
    "start_time": "2023-06-19T13:20:18.100Z"
   },
   {
    "duration": 12,
    "start_time": "2023-06-19T13:22:54.276Z"
   },
   {
    "duration": 18,
    "start_time": "2023-06-19T13:23:27.340Z"
   },
   {
    "duration": 17,
    "start_time": "2023-06-19T13:24:32.672Z"
   },
   {
    "duration": 448,
    "start_time": "2023-06-19T13:25:26.123Z"
   },
   {
    "duration": 40,
    "start_time": "2023-06-19T13:25:26.573Z"
   },
   {
    "duration": 11,
    "start_time": "2023-06-19T13:25:26.614Z"
   },
   {
    "duration": 51,
    "start_time": "2023-06-19T13:25:26.626Z"
   },
   {
    "duration": 14,
    "start_time": "2023-06-19T13:25:26.678Z"
   },
   {
    "duration": 24,
    "start_time": "2023-06-19T13:25:26.694Z"
   },
   {
    "duration": 25,
    "start_time": "2023-06-19T13:25:26.719Z"
   },
   {
    "duration": 23,
    "start_time": "2023-06-19T13:25:26.746Z"
   },
   {
    "duration": 21,
    "start_time": "2023-06-19T13:25:26.771Z"
   },
   {
    "duration": 10,
    "start_time": "2023-06-19T13:25:26.794Z"
   },
   {
    "duration": 26,
    "start_time": "2023-06-19T13:25:26.806Z"
   },
   {
    "duration": 17,
    "start_time": "2023-06-19T13:25:26.833Z"
   },
   {
    "duration": 16,
    "start_time": "2023-06-19T13:25:26.851Z"
   },
   {
    "duration": 17,
    "start_time": "2023-06-19T13:25:26.869Z"
   },
   {
    "duration": 22,
    "start_time": "2023-06-19T13:25:26.888Z"
   },
   {
    "duration": 34,
    "start_time": "2023-06-19T13:25:26.911Z"
   },
   {
    "duration": 22,
    "start_time": "2023-06-19T13:25:26.946Z"
   },
   {
    "duration": 38,
    "start_time": "2023-06-19T13:25:26.970Z"
   },
   {
    "duration": 461,
    "start_time": "2023-06-19T13:25:27.010Z"
   },
   {
    "duration": 222,
    "start_time": "2023-06-19T13:25:27.472Z"
   },
   {
    "duration": 188,
    "start_time": "2023-06-19T13:25:27.696Z"
   },
   {
    "duration": 195,
    "start_time": "2023-06-19T13:25:27.885Z"
   },
   {
    "duration": 235,
    "start_time": "2023-06-19T13:25:28.082Z"
   },
   {
    "duration": 21,
    "start_time": "2023-06-19T13:25:28.318Z"
   },
   {
    "duration": 30,
    "start_time": "2023-06-19T13:25:28.341Z"
   },
   {
    "duration": 21,
    "start_time": "2023-06-19T13:25:28.373Z"
   },
   {
    "duration": 17,
    "start_time": "2023-06-19T13:25:28.395Z"
   },
   {
    "duration": 210,
    "start_time": "2023-06-19T13:25:28.415Z"
   },
   {
    "duration": 190,
    "start_time": "2023-06-19T13:25:28.627Z"
   },
   {
    "duration": 162,
    "start_time": "2023-06-19T13:25:28.819Z"
   },
   {
    "duration": 177,
    "start_time": "2023-06-19T13:25:28.982Z"
   },
   {
    "duration": 18,
    "start_time": "2023-06-19T13:25:29.161Z"
   },
   {
    "duration": 83,
    "start_time": "2023-06-19T13:25:29.180Z"
   },
   {
    "duration": 0,
    "start_time": "2023-06-19T13:25:29.265Z"
   },
   {
    "duration": 70,
    "start_time": "2023-06-19T13:28:29.927Z"
   },
   {
    "duration": 18,
    "start_time": "2023-06-19T13:28:52.569Z"
   },
   {
    "duration": 10,
    "start_time": "2023-06-19T13:33:00.184Z"
   },
   {
    "duration": 8,
    "start_time": "2023-06-19T13:33:28.678Z"
   },
   {
    "duration": 8,
    "start_time": "2023-06-19T13:33:34.525Z"
   },
   {
    "duration": 407,
    "start_time": "2023-06-19T13:33:42.930Z"
   },
   {
    "duration": 39,
    "start_time": "2023-06-19T13:33:43.339Z"
   },
   {
    "duration": 10,
    "start_time": "2023-06-19T13:33:43.379Z"
   },
   {
    "duration": 35,
    "start_time": "2023-06-19T13:33:43.391Z"
   },
   {
    "duration": 10,
    "start_time": "2023-06-19T13:33:43.428Z"
   },
   {
    "duration": 19,
    "start_time": "2023-06-19T13:33:43.439Z"
   },
   {
    "duration": 9,
    "start_time": "2023-06-19T13:33:43.459Z"
   },
   {
    "duration": 18,
    "start_time": "2023-06-19T13:33:43.470Z"
   },
   {
    "duration": 9,
    "start_time": "2023-06-19T13:33:43.490Z"
   },
   {
    "duration": 9,
    "start_time": "2023-06-19T13:33:43.500Z"
   },
   {
    "duration": 5,
    "start_time": "2023-06-19T13:33:43.511Z"
   },
   {
    "duration": 6,
    "start_time": "2023-06-19T13:33:43.517Z"
   },
   {
    "duration": 37,
    "start_time": "2023-06-19T13:33:43.524Z"
   },
   {
    "duration": 4,
    "start_time": "2023-06-19T13:33:43.564Z"
   },
   {
    "duration": 8,
    "start_time": "2023-06-19T13:33:43.569Z"
   },
   {
    "duration": 11,
    "start_time": "2023-06-19T13:33:43.578Z"
   },
   {
    "duration": 4,
    "start_time": "2023-06-19T13:33:43.591Z"
   },
   {
    "duration": 5,
    "start_time": "2023-06-19T13:33:43.597Z"
   },
   {
    "duration": 417,
    "start_time": "2023-06-19T13:33:43.603Z"
   },
   {
    "duration": 153,
    "start_time": "2023-06-19T13:33:44.022Z"
   },
   {
    "duration": 168,
    "start_time": "2023-06-19T13:33:44.176Z"
   },
   {
    "duration": 191,
    "start_time": "2023-06-19T13:33:44.346Z"
   },
   {
    "duration": 229,
    "start_time": "2023-06-19T13:33:44.538Z"
   },
   {
    "duration": 22,
    "start_time": "2023-06-19T13:33:44.769Z"
   },
   {
    "duration": 21,
    "start_time": "2023-06-19T13:33:44.793Z"
   },
   {
    "duration": 46,
    "start_time": "2023-06-19T13:33:44.816Z"
   },
   {
    "duration": 15,
    "start_time": "2023-06-19T13:33:44.863Z"
   },
   {
    "duration": 194,
    "start_time": "2023-06-19T13:33:44.880Z"
   },
   {
    "duration": 196,
    "start_time": "2023-06-19T13:33:45.076Z"
   },
   {
    "duration": 158,
    "start_time": "2023-06-19T13:33:45.274Z"
   },
   {
    "duration": 182,
    "start_time": "2023-06-19T13:33:45.434Z"
   },
   {
    "duration": 17,
    "start_time": "2023-06-19T13:33:45.618Z"
   },
   {
    "duration": 78,
    "start_time": "2023-06-19T13:33:45.637Z"
   },
   {
    "duration": 0,
    "start_time": "2023-06-19T13:33:45.716Z"
   },
   {
    "duration": 8,
    "start_time": "2023-06-19T13:34:21.854Z"
   },
   {
    "duration": 7,
    "start_time": "2023-06-19T13:34:51.926Z"
   },
   {
    "duration": 7,
    "start_time": "2023-06-19T13:35:07.863Z"
   },
   {
    "duration": 7,
    "start_time": "2023-06-19T13:38:12.673Z"
   },
   {
    "duration": 7,
    "start_time": "2023-06-19T13:38:17.816Z"
   },
   {
    "duration": 15,
    "start_time": "2023-06-19T13:38:18.746Z"
   },
   {
    "duration": 345,
    "start_time": "2023-06-19T13:38:31.500Z"
   },
   {
    "duration": 38,
    "start_time": "2023-06-19T13:38:31.847Z"
   },
   {
    "duration": 10,
    "start_time": "2023-06-19T13:38:31.889Z"
   },
   {
    "duration": 54,
    "start_time": "2023-06-19T13:38:31.900Z"
   },
   {
    "duration": 10,
    "start_time": "2023-06-19T13:38:31.956Z"
   },
   {
    "duration": 38,
    "start_time": "2023-06-19T13:38:31.967Z"
   },
   {
    "duration": 18,
    "start_time": "2023-06-19T13:38:32.006Z"
   },
   {
    "duration": 32,
    "start_time": "2023-06-19T13:38:32.026Z"
   },
   {
    "duration": 21,
    "start_time": "2023-06-19T13:38:32.060Z"
   },
   {
    "duration": 18,
    "start_time": "2023-06-19T13:38:32.083Z"
   },
   {
    "duration": 56,
    "start_time": "2023-06-19T13:38:32.103Z"
   },
   {
    "duration": 45,
    "start_time": "2023-06-19T13:38:32.161Z"
   },
   {
    "duration": 12,
    "start_time": "2023-06-19T13:38:32.207Z"
   },
   {
    "duration": 21,
    "start_time": "2023-06-19T13:38:32.220Z"
   },
   {
    "duration": 24,
    "start_time": "2023-06-19T13:38:32.243Z"
   },
   {
    "duration": 21,
    "start_time": "2023-06-19T13:38:32.268Z"
   },
   {
    "duration": 14,
    "start_time": "2023-06-19T13:38:32.291Z"
   },
   {
    "duration": 35,
    "start_time": "2023-06-19T13:38:32.306Z"
   },
   {
    "duration": 401,
    "start_time": "2023-06-19T13:38:32.343Z"
   },
   {
    "duration": 156,
    "start_time": "2023-06-19T13:38:32.746Z"
   },
   {
    "duration": 175,
    "start_time": "2023-06-19T13:38:32.904Z"
   },
   {
    "duration": 182,
    "start_time": "2023-06-19T13:38:33.081Z"
   },
   {
    "duration": 214,
    "start_time": "2023-06-19T13:38:33.265Z"
   },
   {
    "duration": 18,
    "start_time": "2023-06-19T13:38:33.481Z"
   },
   {
    "duration": 20,
    "start_time": "2023-06-19T13:38:33.500Z"
   },
   {
    "duration": 34,
    "start_time": "2023-06-19T13:38:33.521Z"
   },
   {
    "duration": 14,
    "start_time": "2023-06-19T13:38:33.557Z"
   },
   {
    "duration": 179,
    "start_time": "2023-06-19T13:38:33.572Z"
   },
   {
    "duration": 172,
    "start_time": "2023-06-19T13:38:33.754Z"
   },
   {
    "duration": 158,
    "start_time": "2023-06-19T13:38:33.928Z"
   },
   {
    "duration": 168,
    "start_time": "2023-06-19T13:38:34.088Z"
   },
   {
    "duration": 16,
    "start_time": "2023-06-19T13:38:34.258Z"
   },
   {
    "duration": 65,
    "start_time": "2023-06-19T13:38:34.276Z"
   },
   {
    "duration": 0,
    "start_time": "2023-06-19T13:38:34.354Z"
   },
   {
    "duration": 16,
    "start_time": "2023-06-19T13:40:34.955Z"
   },
   {
    "duration": 19,
    "start_time": "2023-06-19T13:42:34.028Z"
   },
   {
    "duration": 1061,
    "start_time": "2023-06-19T13:50:42.248Z"
   },
   {
    "duration": 356,
    "start_time": "2023-06-19T13:50:56.213Z"
   },
   {
    "duration": 41,
    "start_time": "2023-06-19T13:50:56.571Z"
   },
   {
    "duration": 10,
    "start_time": "2023-06-19T13:50:56.614Z"
   },
   {
    "duration": 35,
    "start_time": "2023-06-19T13:50:56.626Z"
   },
   {
    "duration": 11,
    "start_time": "2023-06-19T13:50:56.663Z"
   },
   {
    "duration": 43,
    "start_time": "2023-06-19T13:50:56.675Z"
   },
   {
    "duration": 34,
    "start_time": "2023-06-19T13:50:56.719Z"
   },
   {
    "duration": 29,
    "start_time": "2023-06-19T13:50:56.754Z"
   },
   {
    "duration": 20,
    "start_time": "2023-06-19T13:50:56.784Z"
   },
   {
    "duration": 16,
    "start_time": "2023-06-19T13:50:56.806Z"
   },
   {
    "duration": 21,
    "start_time": "2023-06-19T13:50:56.823Z"
   },
   {
    "duration": 14,
    "start_time": "2023-06-19T13:50:56.845Z"
   },
   {
    "duration": 21,
    "start_time": "2023-06-19T13:50:56.860Z"
   },
   {
    "duration": 36,
    "start_time": "2023-06-19T13:50:56.882Z"
   },
   {
    "duration": 26,
    "start_time": "2023-06-19T13:50:56.920Z"
   },
   {
    "duration": 28,
    "start_time": "2023-06-19T13:50:56.947Z"
   },
   {
    "duration": 11,
    "start_time": "2023-06-19T13:50:56.976Z"
   },
   {
    "duration": 13,
    "start_time": "2023-06-19T13:50:56.988Z"
   },
   {
    "duration": 405,
    "start_time": "2023-06-19T13:50:57.002Z"
   },
   {
    "duration": 211,
    "start_time": "2023-06-19T13:50:57.410Z"
   },
   {
    "duration": 169,
    "start_time": "2023-06-19T13:50:57.623Z"
   },
   {
    "duration": 177,
    "start_time": "2023-06-19T13:50:57.793Z"
   },
   {
    "duration": 217,
    "start_time": "2023-06-19T13:50:57.972Z"
   },
   {
    "duration": 20,
    "start_time": "2023-06-19T13:50:58.190Z"
   },
   {
    "duration": 22,
    "start_time": "2023-06-19T13:50:58.211Z"
   },
   {
    "duration": 30,
    "start_time": "2023-06-19T13:50:58.234Z"
   },
   {
    "duration": 14,
    "start_time": "2023-06-19T13:50:58.265Z"
   },
   {
    "duration": 189,
    "start_time": "2023-06-19T13:50:58.282Z"
   },
   {
    "duration": 183,
    "start_time": "2023-06-19T13:50:58.472Z"
   },
   {
    "duration": 155,
    "start_time": "2023-06-19T13:50:58.657Z"
   },
   {
    "duration": 167,
    "start_time": "2023-06-19T13:50:58.814Z"
   },
   {
    "duration": 19,
    "start_time": "2023-06-19T13:50:58.983Z"
   },
   {
    "duration": 1117,
    "start_time": "2023-06-19T13:50:59.004Z"
   },
   {
    "duration": 11,
    "start_time": "2023-06-19T13:52:00.110Z"
   },
   {
    "duration": 750,
    "start_time": "2023-06-19T13:52:43.890Z"
   },
   {
    "duration": 1020,
    "start_time": "2023-06-19T13:52:48.935Z"
   },
   {
    "duration": 1093,
    "start_time": "2023-06-19T13:55:04.190Z"
   },
   {
    "duration": 1104,
    "start_time": "2023-06-19T13:55:36.727Z"
   },
   {
    "duration": 1022,
    "start_time": "2023-06-19T13:56:40.703Z"
   },
   {
    "duration": 581,
    "start_time": "2023-06-20T05:41:03.815Z"
   },
   {
    "duration": 149,
    "start_time": "2023-06-20T05:41:04.399Z"
   },
   {
    "duration": 26,
    "start_time": "2023-06-20T05:41:04.550Z"
   },
   {
    "duration": 157,
    "start_time": "2023-06-20T05:41:04.580Z"
   },
   {
    "duration": 24,
    "start_time": "2023-06-20T05:41:04.739Z"
   },
   {
    "duration": 161,
    "start_time": "2023-06-20T05:41:04.767Z"
   },
   {
    "duration": 24,
    "start_time": "2023-06-20T05:41:04.930Z"
   },
   {
    "duration": 100,
    "start_time": "2023-06-20T05:41:04.955Z"
   },
   {
    "duration": 48,
    "start_time": "2023-06-20T05:41:05.062Z"
   },
   {
    "duration": 121,
    "start_time": "2023-06-20T05:41:05.115Z"
   },
   {
    "duration": 125,
    "start_time": "2023-06-20T05:41:05.238Z"
   },
   {
    "duration": 258,
    "start_time": "2023-06-20T05:41:05.371Z"
   },
   {
    "duration": 101,
    "start_time": "2023-06-20T05:41:05.632Z"
   },
   {
    "duration": 131,
    "start_time": "2023-06-20T05:41:05.736Z"
   },
   {
    "duration": 61,
    "start_time": "2023-06-20T05:41:05.869Z"
   },
   {
    "duration": 89,
    "start_time": "2023-06-20T05:41:05.933Z"
   },
   {
    "duration": 95,
    "start_time": "2023-06-20T05:41:06.024Z"
   },
   {
    "duration": 64,
    "start_time": "2023-06-20T05:41:06.122Z"
   },
   {
    "duration": 900,
    "start_time": "2023-06-20T05:41:06.189Z"
   },
   {
    "duration": 241,
    "start_time": "2023-06-20T05:41:07.093Z"
   },
   {
    "duration": 310,
    "start_time": "2023-06-20T05:41:07.336Z"
   },
   {
    "duration": 346,
    "start_time": "2023-06-20T05:41:07.667Z"
   },
   {
    "duration": 318,
    "start_time": "2023-06-20T05:41:08.016Z"
   },
   {
    "duration": 55,
    "start_time": "2023-06-20T05:41:08.337Z"
   },
   {
    "duration": 70,
    "start_time": "2023-06-20T05:41:08.397Z"
   },
   {
    "duration": 50,
    "start_time": "2023-06-20T05:41:08.470Z"
   },
   {
    "duration": 66,
    "start_time": "2023-06-20T05:41:08.522Z"
   },
   {
    "duration": 393,
    "start_time": "2023-06-20T05:41:08.593Z"
   },
   {
    "duration": 285,
    "start_time": "2023-06-20T05:41:08.989Z"
   },
   {
    "duration": 257,
    "start_time": "2023-06-20T05:41:09.280Z"
   },
   {
    "duration": 283,
    "start_time": "2023-06-20T05:41:09.539Z"
   },
   {
    "duration": 48,
    "start_time": "2023-06-20T05:41:09.825Z"
   },
   {
    "duration": 149,
    "start_time": "2023-06-20T05:41:09.875Z"
   },
   {
    "duration": 225,
    "start_time": "2023-06-20T05:41:56.125Z"
   },
   {
    "duration": 5,
    "start_time": "2023-06-20T05:46:53.936Z"
   },
   {
    "duration": 217,
    "start_time": "2023-06-20T05:47:00.728Z"
   },
   {
    "duration": 1203,
    "start_time": "2023-06-20T05:57:19.910Z"
   },
   {
    "duration": 69,
    "start_time": "2023-06-20T05:57:21.116Z"
   },
   {
    "duration": 17,
    "start_time": "2023-06-20T05:57:21.187Z"
   },
   {
    "duration": 88,
    "start_time": "2023-06-20T05:57:21.207Z"
   },
   {
    "duration": 14,
    "start_time": "2023-06-20T05:57:21.298Z"
   },
   {
    "duration": 36,
    "start_time": "2023-06-20T05:57:21.314Z"
   },
   {
    "duration": 23,
    "start_time": "2023-06-20T05:57:21.361Z"
   },
   {
    "duration": 47,
    "start_time": "2023-06-20T05:57:21.386Z"
   },
   {
    "duration": 23,
    "start_time": "2023-06-20T05:57:21.435Z"
   },
   {
    "duration": 47,
    "start_time": "2023-06-20T05:57:21.462Z"
   },
   {
    "duration": 11,
    "start_time": "2023-06-20T05:57:21.511Z"
   },
   {
    "duration": 35,
    "start_time": "2023-06-20T05:57:21.524Z"
   },
   {
    "duration": 29,
    "start_time": "2023-06-20T05:57:21.561Z"
   },
   {
    "duration": 14,
    "start_time": "2023-06-20T05:57:21.592Z"
   },
   {
    "duration": 17,
    "start_time": "2023-06-20T05:57:21.608Z"
   },
   {
    "duration": 19,
    "start_time": "2023-06-20T05:57:21.627Z"
   },
   {
    "duration": 53,
    "start_time": "2023-06-20T05:57:21.648Z"
   },
   {
    "duration": 25,
    "start_time": "2023-06-20T05:57:21.703Z"
   },
   {
    "duration": 698,
    "start_time": "2023-06-20T05:57:21.731Z"
   },
   {
    "duration": 228,
    "start_time": "2023-06-20T05:57:22.431Z"
   },
   {
    "duration": 224,
    "start_time": "2023-06-20T05:57:22.669Z"
   },
   {
    "duration": 267,
    "start_time": "2023-06-20T05:57:22.895Z"
   },
   {
    "duration": 239,
    "start_time": "2023-06-20T05:57:23.167Z"
   },
   {
    "duration": 27,
    "start_time": "2023-06-20T05:57:23.408Z"
   },
   {
    "duration": 51,
    "start_time": "2023-06-20T05:57:23.437Z"
   },
   {
    "duration": 28,
    "start_time": "2023-06-20T05:57:23.490Z"
   },
   {
    "duration": 56,
    "start_time": "2023-06-20T05:57:23.520Z"
   },
   {
    "duration": 250,
    "start_time": "2023-06-20T05:57:23.582Z"
   },
   {
    "duration": 255,
    "start_time": "2023-06-20T05:57:23.834Z"
   },
   {
    "duration": 325,
    "start_time": "2023-06-20T05:57:24.094Z"
   },
   {
    "duration": 257,
    "start_time": "2023-06-20T05:57:24.421Z"
   },
   {
    "duration": 32,
    "start_time": "2023-06-20T05:57:24.682Z"
   },
   {
    "duration": 7,
    "start_time": "2023-06-20T05:57:24.716Z"
   },
   {
    "duration": 213,
    "start_time": "2023-06-20T05:57:24.724Z"
   },
   {
    "duration": 211,
    "start_time": "2023-06-20T06:05:31.351Z"
   },
   {
    "duration": 38,
    "start_time": "2023-06-20T06:11:18.880Z"
   },
   {
    "duration": 24,
    "start_time": "2023-06-20T06:11:32.850Z"
   },
   {
    "duration": 52,
    "start_time": "2023-06-20T06:11:39.915Z"
   },
   {
    "duration": 20,
    "start_time": "2023-06-20T06:12:18.228Z"
   },
   {
    "duration": 18,
    "start_time": "2023-06-20T06:16:02.968Z"
   },
   {
    "duration": 18,
    "start_time": "2023-06-20T06:18:02.318Z"
   },
   {
    "duration": 23,
    "start_time": "2023-06-20T06:18:29.879Z"
   },
   {
    "duration": 4,
    "start_time": "2023-06-20T06:25:33.025Z"
   },
   {
    "duration": 17,
    "start_time": "2023-06-20T06:26:21.990Z"
   },
   {
    "duration": 14,
    "start_time": "2023-06-20T06:29:03.583Z"
   },
   {
    "duration": 12,
    "start_time": "2023-06-20T06:34:51.024Z"
   },
   {
    "duration": 10,
    "start_time": "2023-06-20T06:57:44.674Z"
   },
   {
    "duration": 937,
    "start_time": "2023-06-20T07:34:04.891Z"
   },
   {
    "duration": 57,
    "start_time": "2023-06-20T07:34:05.830Z"
   },
   {
    "duration": 12,
    "start_time": "2023-06-20T07:34:05.889Z"
   },
   {
    "duration": 42,
    "start_time": "2023-06-20T07:34:05.903Z"
   },
   {
    "duration": 20,
    "start_time": "2023-06-20T07:34:05.947Z"
   },
   {
    "duration": 41,
    "start_time": "2023-06-20T07:34:05.969Z"
   },
   {
    "duration": 11,
    "start_time": "2023-06-20T07:34:06.012Z"
   },
   {
    "duration": 39,
    "start_time": "2023-06-20T07:34:06.025Z"
   },
   {
    "duration": 31,
    "start_time": "2023-06-20T07:34:06.073Z"
   },
   {
    "duration": 13,
    "start_time": "2023-06-20T07:34:06.109Z"
   },
   {
    "duration": 6,
    "start_time": "2023-06-20T07:34:06.124Z"
   },
   {
    "duration": 16,
    "start_time": "2023-06-20T07:34:06.131Z"
   },
   {
    "duration": 14,
    "start_time": "2023-06-20T07:34:06.149Z"
   },
   {
    "duration": 16,
    "start_time": "2023-06-20T07:34:06.170Z"
   },
   {
    "duration": 16,
    "start_time": "2023-06-20T07:34:06.187Z"
   },
   {
    "duration": 26,
    "start_time": "2023-06-20T07:34:06.205Z"
   },
   {
    "duration": 39,
    "start_time": "2023-06-20T07:34:06.233Z"
   },
   {
    "duration": 25,
    "start_time": "2023-06-20T07:34:06.274Z"
   },
   {
    "duration": 775,
    "start_time": "2023-06-20T07:34:06.300Z"
   },
   {
    "duration": 203,
    "start_time": "2023-06-20T07:34:07.077Z"
   },
   {
    "duration": 210,
    "start_time": "2023-06-20T07:34:07.282Z"
   },
   {
    "duration": 228,
    "start_time": "2023-06-20T07:34:07.494Z"
   },
   {
    "duration": 218,
    "start_time": "2023-06-20T07:34:07.724Z"
   },
   {
    "duration": 38,
    "start_time": "2023-06-20T07:34:07.944Z"
   },
   {
    "duration": 22,
    "start_time": "2023-06-20T07:34:07.984Z"
   },
   {
    "duration": 19,
    "start_time": "2023-06-20T07:34:08.008Z"
   },
   {
    "duration": 44,
    "start_time": "2023-06-20T07:34:08.029Z"
   },
   {
    "duration": 250,
    "start_time": "2023-06-20T07:34:08.079Z"
   },
   {
    "duration": 279,
    "start_time": "2023-06-20T07:34:08.331Z"
   },
   {
    "duration": 210,
    "start_time": "2023-06-20T07:34:08.612Z"
   },
   {
    "duration": 317,
    "start_time": "2023-06-20T07:34:08.823Z"
   },
   {
    "duration": 38,
    "start_time": "2023-06-20T07:34:09.142Z"
   },
   {
    "duration": 5,
    "start_time": "2023-06-20T07:34:09.183Z"
   },
   {
    "duration": 202,
    "start_time": "2023-06-20T07:34:09.190Z"
   },
   {
    "duration": 12,
    "start_time": "2023-06-20T07:34:09.394Z"
   },
   {
    "duration": 15,
    "start_time": "2023-06-20T07:34:09.408Z"
   },
   {
    "duration": 28,
    "start_time": "2023-06-20T07:34:09.424Z"
   },
   {
    "duration": 226,
    "start_time": "2023-06-20T07:40:01.174Z"
   },
   {
    "duration": 1294,
    "start_time": "2023-06-20T07:40:43.936Z"
   },
   {
    "duration": 157,
    "start_time": "2023-06-20T07:40:45.232Z"
   },
   {
    "duration": 23,
    "start_time": "2023-06-20T07:40:45.391Z"
   },
   {
    "duration": 56,
    "start_time": "2023-06-20T07:40:45.421Z"
   },
   {
    "duration": 23,
    "start_time": "2023-06-20T07:40:45.480Z"
   },
   {
    "duration": 34,
    "start_time": "2023-06-20T07:40:45.505Z"
   },
   {
    "duration": 25,
    "start_time": "2023-06-20T07:40:45.541Z"
   },
   {
    "duration": 45,
    "start_time": "2023-06-20T07:40:45.577Z"
   },
   {
    "duration": 37,
    "start_time": "2023-06-20T07:40:45.625Z"
   },
   {
    "duration": 50,
    "start_time": "2023-06-20T07:40:45.665Z"
   },
   {
    "duration": 14,
    "start_time": "2023-06-20T07:40:45.717Z"
   },
   {
    "duration": 8,
    "start_time": "2023-06-20T07:40:45.733Z"
   },
   {
    "duration": 9,
    "start_time": "2023-06-20T07:40:45.743Z"
   },
   {
    "duration": 40,
    "start_time": "2023-06-20T07:40:45.757Z"
   },
   {
    "duration": 10,
    "start_time": "2023-06-20T07:40:45.799Z"
   },
   {
    "duration": 16,
    "start_time": "2023-06-20T07:40:45.811Z"
   },
   {
    "duration": 8,
    "start_time": "2023-06-20T07:40:45.829Z"
   },
   {
    "duration": 25,
    "start_time": "2023-06-20T07:40:45.840Z"
   },
   {
    "duration": 265,
    "start_time": "2023-06-20T07:40:45.868Z"
   },
   {
    "duration": 213,
    "start_time": "2023-06-20T07:40:46.135Z"
   },
   {
    "duration": 236,
    "start_time": "2023-06-20T07:40:46.358Z"
   },
   {
    "duration": 264,
    "start_time": "2023-06-20T07:40:46.597Z"
   },
   {
    "duration": 235,
    "start_time": "2023-06-20T07:40:46.863Z"
   },
   {
    "duration": 24,
    "start_time": "2023-06-20T07:40:47.100Z"
   },
   {
    "duration": 57,
    "start_time": "2023-06-20T07:40:47.126Z"
   },
   {
    "duration": 22,
    "start_time": "2023-06-20T07:40:47.189Z"
   },
   {
    "duration": 30,
    "start_time": "2023-06-20T07:40:47.214Z"
   },
   {
    "duration": 258,
    "start_time": "2023-06-20T07:40:47.253Z"
   },
   {
    "duration": 256,
    "start_time": "2023-06-20T07:40:47.513Z"
   },
   {
    "duration": 228,
    "start_time": "2023-06-20T07:40:47.771Z"
   },
   {
    "duration": 374,
    "start_time": "2023-06-20T07:40:48.001Z"
   },
   {
    "duration": 38,
    "start_time": "2023-06-20T07:40:48.377Z"
   },
   {
    "duration": 11,
    "start_time": "2023-06-20T07:40:48.417Z"
   },
   {
    "duration": 267,
    "start_time": "2023-06-20T07:40:48.431Z"
   },
   {
    "duration": 17,
    "start_time": "2023-06-20T07:40:48.700Z"
   },
   {
    "duration": 26,
    "start_time": "2023-06-20T07:40:48.719Z"
   },
   {
    "duration": 30,
    "start_time": "2023-06-20T07:40:48.748Z"
   },
   {
    "duration": 1903,
    "start_time": "2023-06-20T07:40:48.784Z"
   },
   {
    "duration": 1040,
    "start_time": "2023-06-20T07:42:22.842Z"
   },
   {
    "duration": 1134,
    "start_time": "2023-06-20T07:43:16.878Z"
   },
   {
    "duration": 362,
    "start_time": "2023-06-20T07:43:31.344Z"
   },
   {
    "duration": 2298,
    "start_time": "2023-06-20T07:43:36.526Z"
   },
   {
    "duration": 13,
    "start_time": "2023-06-20T08:14:53.375Z"
   },
   {
    "duration": 13,
    "start_time": "2023-06-20T08:15:10.095Z"
   },
   {
    "duration": 1181,
    "start_time": "2023-06-20T08:17:05.013Z"
   },
   {
    "duration": 113,
    "start_time": "2023-06-20T08:17:06.197Z"
   },
   {
    "duration": 13,
    "start_time": "2023-06-20T08:17:06.311Z"
   },
   {
    "duration": 49,
    "start_time": "2023-06-20T08:17:06.326Z"
   },
   {
    "duration": 15,
    "start_time": "2023-06-20T08:17:06.378Z"
   },
   {
    "duration": 24,
    "start_time": "2023-06-20T08:17:06.395Z"
   },
   {
    "duration": 13,
    "start_time": "2023-06-20T08:17:06.420Z"
   },
   {
    "duration": 46,
    "start_time": "2023-06-20T08:17:06.435Z"
   },
   {
    "duration": 18,
    "start_time": "2023-06-20T08:17:06.484Z"
   },
   {
    "duration": 29,
    "start_time": "2023-06-20T08:17:06.505Z"
   },
   {
    "duration": 7,
    "start_time": "2023-06-20T08:17:06.536Z"
   },
   {
    "duration": 28,
    "start_time": "2023-06-20T08:17:06.544Z"
   },
   {
    "duration": 17,
    "start_time": "2023-06-20T08:17:06.574Z"
   },
   {
    "duration": 10,
    "start_time": "2023-06-20T08:17:06.593Z"
   },
   {
    "duration": 13,
    "start_time": "2023-06-20T08:17:06.604Z"
   },
   {
    "duration": 10,
    "start_time": "2023-06-20T08:17:06.619Z"
   },
   {
    "duration": 9,
    "start_time": "2023-06-20T08:17:06.630Z"
   },
   {
    "duration": 13,
    "start_time": "2023-06-20T08:17:06.640Z"
   },
   {
    "duration": 279,
    "start_time": "2023-06-20T08:17:06.658Z"
   },
   {
    "duration": 204,
    "start_time": "2023-06-20T08:17:06.938Z"
   },
   {
    "duration": 240,
    "start_time": "2023-06-20T08:17:07.144Z"
   },
   {
    "duration": 229,
    "start_time": "2023-06-20T08:17:07.387Z"
   },
   {
    "duration": 223,
    "start_time": "2023-06-20T08:17:07.618Z"
   },
   {
    "duration": 34,
    "start_time": "2023-06-20T08:17:07.843Z"
   },
   {
    "duration": 37,
    "start_time": "2023-06-20T08:17:07.879Z"
   },
   {
    "duration": 35,
    "start_time": "2023-06-20T08:17:07.918Z"
   },
   {
    "duration": 25,
    "start_time": "2023-06-20T08:17:07.955Z"
   },
   {
    "duration": 244,
    "start_time": "2023-06-20T08:17:07.984Z"
   },
   {
    "duration": 282,
    "start_time": "2023-06-20T08:17:08.230Z"
   },
   {
    "duration": 312,
    "start_time": "2023-06-20T08:17:08.515Z"
   },
   {
    "duration": 218,
    "start_time": "2023-06-20T08:17:08.829Z"
   },
   {
    "duration": 38,
    "start_time": "2023-06-20T08:17:09.051Z"
   },
   {
    "duration": 8,
    "start_time": "2023-06-20T08:17:09.091Z"
   },
   {
    "duration": 234,
    "start_time": "2023-06-20T08:17:09.101Z"
   },
   {
    "duration": 28,
    "start_time": "2023-06-20T08:17:09.337Z"
   },
   {
    "duration": 26,
    "start_time": "2023-06-20T08:17:09.371Z"
   },
   {
    "duration": 21,
    "start_time": "2023-06-20T08:17:09.399Z"
   },
   {
    "duration": 1901,
    "start_time": "2023-06-20T08:17:09.422Z"
   },
   {
    "duration": 6,
    "start_time": "2023-06-20T08:20:28.455Z"
   },
   {
    "duration": 6,
    "start_time": "2023-06-20T08:23:22.312Z"
   },
   {
    "duration": 6,
    "start_time": "2023-06-20T08:23:32.671Z"
   },
   {
    "duration": 6,
    "start_time": "2023-06-20T08:23:40.783Z"
   },
   {
    "duration": 5,
    "start_time": "2023-06-20T08:23:47.534Z"
   },
   {
    "duration": 7,
    "start_time": "2023-06-20T08:23:53.990Z"
   },
   {
    "duration": 6,
    "start_time": "2023-06-20T08:23:58.614Z"
   },
   {
    "duration": 8,
    "start_time": "2023-06-20T08:24:18.655Z"
   },
   {
    "duration": 8,
    "start_time": "2023-06-20T08:24:25.250Z"
   },
   {
    "duration": 5,
    "start_time": "2023-06-20T08:24:31.582Z"
   },
   {
    "duration": 7,
    "start_time": "2023-06-20T08:24:42.533Z"
   },
   {
    "duration": 5,
    "start_time": "2023-06-20T08:26:53.934Z"
   },
   {
    "duration": 8,
    "start_time": "2023-06-20T08:27:06.454Z"
   },
   {
    "duration": 7,
    "start_time": "2023-06-20T08:27:17.230Z"
   },
   {
    "duration": 5,
    "start_time": "2023-06-20T08:27:26.675Z"
   },
   {
    "duration": 7,
    "start_time": "2023-06-20T08:29:00.422Z"
   },
   {
    "duration": 5,
    "start_time": "2023-06-20T08:29:11.111Z"
   },
   {
    "duration": 5,
    "start_time": "2023-06-20T08:29:14.718Z"
   },
   {
    "duration": 11,
    "start_time": "2023-06-20T08:29:22.074Z"
   },
   {
    "duration": 6,
    "start_time": "2023-06-20T08:29:26.109Z"
   },
   {
    "duration": 6,
    "start_time": "2023-06-20T08:29:31.317Z"
   },
   {
    "duration": 5,
    "start_time": "2023-06-20T08:29:37.117Z"
   },
   {
    "duration": 5,
    "start_time": "2023-06-20T08:29:44.638Z"
   },
   {
    "duration": 5,
    "start_time": "2023-06-20T08:29:58.101Z"
   },
   {
    "duration": 127,
    "start_time": "2023-06-20T08:33:36.479Z"
   },
   {
    "duration": 1235,
    "start_time": "2023-06-20T08:36:52.752Z"
   },
   {
    "duration": 110,
    "start_time": "2023-06-20T08:36:53.989Z"
   },
   {
    "duration": 13,
    "start_time": "2023-06-20T08:36:54.101Z"
   },
   {
    "duration": 55,
    "start_time": "2023-06-20T08:36:54.116Z"
   },
   {
    "duration": 18,
    "start_time": "2023-06-20T08:36:54.174Z"
   },
   {
    "duration": 35,
    "start_time": "2023-06-20T08:36:54.193Z"
   },
   {
    "duration": 10,
    "start_time": "2023-06-20T08:36:54.230Z"
   },
   {
    "duration": 44,
    "start_time": "2023-06-20T08:36:54.241Z"
   },
   {
    "duration": 11,
    "start_time": "2023-06-20T08:36:54.287Z"
   },
   {
    "duration": 18,
    "start_time": "2023-06-20T08:36:54.301Z"
   },
   {
    "duration": 7,
    "start_time": "2023-06-20T08:36:54.321Z"
   },
   {
    "duration": 19,
    "start_time": "2023-06-20T08:36:54.330Z"
   },
   {
    "duration": 31,
    "start_time": "2023-06-20T08:36:54.351Z"
   },
   {
    "duration": 6,
    "start_time": "2023-06-20T08:36:54.384Z"
   },
   {
    "duration": 10,
    "start_time": "2023-06-20T08:36:54.392Z"
   },
   {
    "duration": 21,
    "start_time": "2023-06-20T08:36:54.404Z"
   },
   {
    "duration": 6,
    "start_time": "2023-06-20T08:36:54.427Z"
   },
   {
    "duration": 8,
    "start_time": "2023-06-20T08:36:54.434Z"
   },
   {
    "duration": 230,
    "start_time": "2023-06-20T08:36:54.443Z"
   },
   {
    "duration": 195,
    "start_time": "2023-06-20T08:36:54.676Z"
   },
   {
    "duration": 205,
    "start_time": "2023-06-20T08:36:54.874Z"
   },
   {
    "duration": 236,
    "start_time": "2023-06-20T08:36:55.081Z"
   },
   {
    "duration": 228,
    "start_time": "2023-06-20T08:36:55.319Z"
   },
   {
    "duration": 33,
    "start_time": "2023-06-20T08:36:55.551Z"
   },
   {
    "duration": 23,
    "start_time": "2023-06-20T08:36:55.587Z"
   },
   {
    "duration": 18,
    "start_time": "2023-06-20T08:36:55.611Z"
   },
   {
    "duration": 42,
    "start_time": "2023-06-20T08:36:55.631Z"
   },
   {
    "duration": 230,
    "start_time": "2023-06-20T08:36:55.677Z"
   },
   {
    "duration": 224,
    "start_time": "2023-06-20T08:36:55.910Z"
   },
   {
    "duration": 235,
    "start_time": "2023-06-20T08:36:56.135Z"
   },
   {
    "duration": 308,
    "start_time": "2023-06-20T08:36:56.372Z"
   },
   {
    "duration": 29,
    "start_time": "2023-06-20T08:36:56.681Z"
   },
   {
    "duration": 4,
    "start_time": "2023-06-20T08:36:56.711Z"
   },
   {
    "duration": 202,
    "start_time": "2023-06-20T08:36:56.717Z"
   },
   {
    "duration": 12,
    "start_time": "2023-06-20T08:36:56.920Z"
   },
   {
    "duration": 34,
    "start_time": "2023-06-20T08:36:56.933Z"
   },
   {
    "duration": 35,
    "start_time": "2023-06-20T08:36:56.968Z"
   },
   {
    "duration": 23,
    "start_time": "2023-06-20T08:36:57.005Z"
   },
   {
    "duration": 93,
    "start_time": "2023-06-20T08:36:57.030Z"
   },
   {
    "duration": 1334,
    "start_time": "2023-06-20T08:51:42.581Z"
   },
   {
    "duration": 123,
    "start_time": "2023-06-20T08:51:43.917Z"
   },
   {
    "duration": 19,
    "start_time": "2023-06-20T08:51:44.042Z"
   },
   {
    "duration": 60,
    "start_time": "2023-06-20T08:51:44.063Z"
   },
   {
    "duration": 13,
    "start_time": "2023-06-20T08:51:44.125Z"
   },
   {
    "duration": 51,
    "start_time": "2023-06-20T08:51:44.140Z"
   },
   {
    "duration": 12,
    "start_time": "2023-06-20T08:51:44.192Z"
   },
   {
    "duration": 30,
    "start_time": "2023-06-20T08:51:44.206Z"
   },
   {
    "duration": 11,
    "start_time": "2023-06-20T08:51:44.238Z"
   },
   {
    "duration": 16,
    "start_time": "2023-06-20T08:51:44.252Z"
   },
   {
    "duration": 26,
    "start_time": "2023-06-20T08:51:44.270Z"
   },
   {
    "duration": 14,
    "start_time": "2023-06-20T08:51:44.297Z"
   },
   {
    "duration": 11,
    "start_time": "2023-06-20T08:51:44.312Z"
   },
   {
    "duration": 12,
    "start_time": "2023-06-20T08:51:44.325Z"
   },
   {
    "duration": 49,
    "start_time": "2023-06-20T08:51:44.339Z"
   },
   {
    "duration": 20,
    "start_time": "2023-06-20T08:51:44.389Z"
   },
   {
    "duration": 9,
    "start_time": "2023-06-20T08:51:44.411Z"
   },
   {
    "duration": 20,
    "start_time": "2023-06-20T08:51:44.422Z"
   },
   {
    "duration": 269,
    "start_time": "2023-06-20T08:51:44.445Z"
   },
   {
    "duration": 204,
    "start_time": "2023-06-20T08:51:44.715Z"
   },
   {
    "duration": 226,
    "start_time": "2023-06-20T08:51:44.921Z"
   },
   {
    "duration": 283,
    "start_time": "2023-06-20T08:51:45.149Z"
   },
   {
    "duration": 224,
    "start_time": "2023-06-20T08:51:45.434Z"
   },
   {
    "duration": 33,
    "start_time": "2023-06-20T08:51:45.662Z"
   },
   {
    "duration": 25,
    "start_time": "2023-06-20T08:51:45.698Z"
   },
   {
    "duration": 52,
    "start_time": "2023-06-20T08:51:45.725Z"
   },
   {
    "duration": 28,
    "start_time": "2023-06-20T08:51:45.779Z"
   },
   {
    "duration": 281,
    "start_time": "2023-06-20T08:51:45.812Z"
   },
   {
    "duration": 255,
    "start_time": "2023-06-20T08:51:46.095Z"
   },
   {
    "duration": 337,
    "start_time": "2023-06-20T08:51:46.353Z"
   },
   {
    "duration": 223,
    "start_time": "2023-06-20T08:51:46.692Z"
   },
   {
    "duration": 38,
    "start_time": "2023-06-20T08:51:46.917Z"
   },
   {
    "duration": 5,
    "start_time": "2023-06-20T08:51:46.957Z"
   },
   {
    "duration": 227,
    "start_time": "2023-06-20T08:51:46.964Z"
   },
   {
    "duration": 12,
    "start_time": "2023-06-20T08:51:47.193Z"
   },
   {
    "duration": 28,
    "start_time": "2023-06-20T08:51:47.208Z"
   },
   {
    "duration": 44,
    "start_time": "2023-06-20T08:51:47.238Z"
   },
   {
    "duration": 11,
    "start_time": "2023-06-20T08:51:47.284Z"
   },
   {
    "duration": 16,
    "start_time": "2023-06-20T08:51:47.297Z"
   },
   {
    "duration": 7,
    "start_time": "2023-06-20T08:54:07.266Z"
   },
   {
    "duration": 9,
    "start_time": "2023-06-20T08:55:41.621Z"
   },
   {
    "duration": 415,
    "start_time": "2023-06-20T08:56:30.967Z"
   },
   {
    "duration": 13,
    "start_time": "2023-06-20T08:56:48.009Z"
   },
   {
    "duration": 113,
    "start_time": "2023-06-20T08:57:05.297Z"
   },
   {
    "duration": 1203,
    "start_time": "2023-06-20T09:17:02.870Z"
   },
   {
    "duration": 124,
    "start_time": "2023-06-20T09:17:04.075Z"
   },
   {
    "duration": 13,
    "start_time": "2023-06-20T09:17:04.201Z"
   },
   {
    "duration": 74,
    "start_time": "2023-06-20T09:17:04.216Z"
   },
   {
    "duration": 12,
    "start_time": "2023-06-20T09:17:04.292Z"
   },
   {
    "duration": 26,
    "start_time": "2023-06-20T09:17:04.306Z"
   },
   {
    "duration": 12,
    "start_time": "2023-06-20T09:17:04.334Z"
   },
   {
    "duration": 62,
    "start_time": "2023-06-20T09:17:04.348Z"
   },
   {
    "duration": 24,
    "start_time": "2023-06-20T09:17:04.412Z"
   },
   {
    "duration": 41,
    "start_time": "2023-06-20T09:17:04.439Z"
   },
   {
    "duration": 24,
    "start_time": "2023-06-20T09:17:04.482Z"
   },
   {
    "duration": 67,
    "start_time": "2023-06-20T09:17:04.508Z"
   },
   {
    "duration": 77,
    "start_time": "2023-06-20T09:17:04.577Z"
   },
   {
    "duration": 34,
    "start_time": "2023-06-20T09:17:04.657Z"
   },
   {
    "duration": 30,
    "start_time": "2023-06-20T09:17:04.693Z"
   },
   {
    "duration": 20,
    "start_time": "2023-06-20T09:17:04.725Z"
   },
   {
    "duration": 42,
    "start_time": "2023-06-20T09:17:04.747Z"
   },
   {
    "duration": 14,
    "start_time": "2023-06-20T09:17:04.791Z"
   },
   {
    "duration": 251,
    "start_time": "2023-06-20T09:17:04.807Z"
   },
   {
    "duration": 252,
    "start_time": "2023-06-20T09:17:05.060Z"
   },
   {
    "duration": 265,
    "start_time": "2023-06-20T09:17:05.315Z"
   },
   {
    "duration": 285,
    "start_time": "2023-06-20T09:17:05.582Z"
   },
   {
    "duration": 219,
    "start_time": "2023-06-20T09:17:05.870Z"
   },
   {
    "duration": 24,
    "start_time": "2023-06-20T09:17:06.091Z"
   },
   {
    "duration": 52,
    "start_time": "2023-06-20T09:17:06.117Z"
   },
   {
    "duration": 21,
    "start_time": "2023-06-20T09:17:06.172Z"
   },
   {
    "duration": 15,
    "start_time": "2023-06-20T09:17:06.195Z"
   },
   {
    "duration": 241,
    "start_time": "2023-06-20T09:17:06.213Z"
   },
   {
    "duration": 225,
    "start_time": "2023-06-20T09:17:06.456Z"
   },
   {
    "duration": 212,
    "start_time": "2023-06-20T09:17:06.684Z"
   },
   {
    "duration": 329,
    "start_time": "2023-06-20T09:17:06.898Z"
   },
   {
    "duration": 41,
    "start_time": "2023-06-20T09:17:07.229Z"
   },
   {
    "duration": 9,
    "start_time": "2023-06-20T09:17:07.273Z"
   },
   {
    "duration": 193,
    "start_time": "2023-06-20T09:17:07.284Z"
   },
   {
    "duration": 12,
    "start_time": "2023-06-20T09:17:07.479Z"
   },
   {
    "duration": 14,
    "start_time": "2023-06-20T09:17:07.493Z"
   },
   {
    "duration": 13,
    "start_time": "2023-06-20T09:17:07.509Z"
   },
   {
    "duration": 35,
    "start_time": "2023-06-20T09:17:07.523Z"
   },
   {
    "duration": 16,
    "start_time": "2023-06-20T09:17:07.561Z"
   },
   {
    "duration": 16,
    "start_time": "2023-06-20T09:17:07.580Z"
   },
   {
    "duration": 1940,
    "start_time": "2023-06-20T10:16:58.423Z"
   },
   {
    "duration": 223,
    "start_time": "2023-06-20T10:17:00.370Z"
   },
   {
    "duration": 23,
    "start_time": "2023-06-20T10:17:00.595Z"
   },
   {
    "duration": 270,
    "start_time": "2023-06-20T10:17:00.621Z"
   },
   {
    "duration": 20,
    "start_time": "2023-06-20T10:17:00.894Z"
   },
   {
    "duration": 136,
    "start_time": "2023-06-20T10:17:00.917Z"
   },
   {
    "duration": 38,
    "start_time": "2023-06-20T10:17:01.056Z"
   },
   {
    "duration": 46,
    "start_time": "2023-06-20T10:17:01.096Z"
   },
   {
    "duration": 67,
    "start_time": "2023-06-20T10:17:01.145Z"
   },
   {
    "duration": 74,
    "start_time": "2023-06-20T10:17:01.216Z"
   },
   {
    "duration": 62,
    "start_time": "2023-06-20T10:17:01.292Z"
   },
   {
    "duration": 71,
    "start_time": "2023-06-20T10:17:01.359Z"
   },
   {
    "duration": 113,
    "start_time": "2023-06-20T10:17:01.432Z"
   },
   {
    "duration": 84,
    "start_time": "2023-06-20T10:17:01.548Z"
   },
   {
    "duration": 73,
    "start_time": "2023-06-20T10:17:01.634Z"
   },
   {
    "duration": 141,
    "start_time": "2023-06-20T10:17:01.709Z"
   },
   {
    "duration": 52,
    "start_time": "2023-06-20T10:17:01.853Z"
   },
   {
    "duration": 127,
    "start_time": "2023-06-20T10:17:01.907Z"
   },
   {
    "duration": 473,
    "start_time": "2023-06-20T10:17:02.037Z"
   },
   {
    "duration": 249,
    "start_time": "2023-06-20T10:17:02.512Z"
   },
   {
    "duration": 240,
    "start_time": "2023-06-20T10:17:02.767Z"
   },
   {
    "duration": 310,
    "start_time": "2023-06-20T10:17:03.010Z"
   },
   {
    "duration": 244,
    "start_time": "2023-06-20T10:17:03.323Z"
   },
   {
    "duration": 30,
    "start_time": "2023-06-20T10:17:03.569Z"
   },
   {
    "duration": 35,
    "start_time": "2023-06-20T10:17:03.601Z"
   },
   {
    "duration": 40,
    "start_time": "2023-06-20T10:17:03.639Z"
   },
   {
    "duration": 17,
    "start_time": "2023-06-20T10:17:03.685Z"
   },
   {
    "duration": 239,
    "start_time": "2023-06-20T10:17:03.706Z"
   },
   {
    "duration": 248,
    "start_time": "2023-06-20T10:17:03.947Z"
   },
   {
    "duration": 212,
    "start_time": "2023-06-20T10:17:04.198Z"
   },
   {
    "duration": 366,
    "start_time": "2023-06-20T10:17:04.412Z"
   },
   {
    "duration": 27,
    "start_time": "2023-06-20T10:17:04.780Z"
   },
   {
    "duration": 5,
    "start_time": "2023-06-20T10:17:04.809Z"
   },
   {
    "duration": 262,
    "start_time": "2023-06-20T10:17:04.815Z"
   },
   {
    "duration": 17,
    "start_time": "2023-06-20T10:17:05.082Z"
   },
   {
    "duration": 11,
    "start_time": "2023-06-20T10:17:05.101Z"
   },
   {
    "duration": 21,
    "start_time": "2023-06-20T10:17:05.114Z"
   },
   {
    "duration": 8,
    "start_time": "2023-06-20T10:17:05.159Z"
   },
   {
    "duration": 19,
    "start_time": "2023-06-20T10:17:05.169Z"
   },
   {
    "duration": 17,
    "start_time": "2023-06-20T10:17:05.190Z"
   },
   {
    "duration": 27,
    "start_time": "2023-06-20T10:21:21.902Z"
   },
   {
    "duration": 18,
    "start_time": "2023-06-20T10:24:37.986Z"
   },
   {
    "duration": 234,
    "start_time": "2023-06-20T10:30:54.799Z"
   },
   {
    "duration": 1450,
    "start_time": "2023-06-20T10:31:31.209Z"
   },
   {
    "duration": 150,
    "start_time": "2023-06-20T10:31:32.662Z"
   },
   {
    "duration": 18,
    "start_time": "2023-06-20T10:31:32.814Z"
   },
   {
    "duration": 57,
    "start_time": "2023-06-20T10:31:32.834Z"
   },
   {
    "duration": 17,
    "start_time": "2023-06-20T10:31:32.894Z"
   },
   {
    "duration": 25,
    "start_time": "2023-06-20T10:31:32.914Z"
   },
   {
    "duration": 40,
    "start_time": "2023-06-20T10:31:32.941Z"
   },
   {
    "duration": 23,
    "start_time": "2023-06-20T10:31:32.986Z"
   },
   {
    "duration": 17,
    "start_time": "2023-06-20T10:31:33.012Z"
   },
   {
    "duration": 38,
    "start_time": "2023-06-20T10:31:33.031Z"
   },
   {
    "duration": 21,
    "start_time": "2023-06-20T10:31:33.071Z"
   },
   {
    "duration": 17,
    "start_time": "2023-06-20T10:31:33.095Z"
   },
   {
    "duration": 8,
    "start_time": "2023-06-20T10:31:33.115Z"
   },
   {
    "duration": 10,
    "start_time": "2023-06-20T10:31:33.128Z"
   },
   {
    "duration": 38,
    "start_time": "2023-06-20T10:31:33.141Z"
   },
   {
    "duration": 21,
    "start_time": "2023-06-20T10:31:33.182Z"
   },
   {
    "duration": 15,
    "start_time": "2023-06-20T10:31:33.206Z"
   },
   {
    "duration": 18,
    "start_time": "2023-06-20T10:31:33.223Z"
   },
   {
    "duration": 336,
    "start_time": "2023-06-20T10:31:33.243Z"
   },
   {
    "duration": 252,
    "start_time": "2023-06-20T10:31:33.582Z"
   },
   {
    "duration": 242,
    "start_time": "2023-06-20T10:31:33.836Z"
   },
   {
    "duration": 293,
    "start_time": "2023-06-20T10:31:34.079Z"
   },
   {
    "duration": 256,
    "start_time": "2023-06-20T10:31:34.385Z"
   },
   {
    "duration": 38,
    "start_time": "2023-06-20T10:31:34.644Z"
   },
   {
    "duration": 36,
    "start_time": "2023-06-20T10:31:34.691Z"
   },
   {
    "duration": 49,
    "start_time": "2023-06-20T10:31:34.730Z"
   },
   {
    "duration": 28,
    "start_time": "2023-06-20T10:31:34.782Z"
   },
   {
    "duration": 242,
    "start_time": "2023-06-20T10:31:34.813Z"
   },
   {
    "duration": 292,
    "start_time": "2023-06-20T10:31:35.062Z"
   },
   {
    "duration": 324,
    "start_time": "2023-06-20T10:31:35.356Z"
   },
   {
    "duration": 254,
    "start_time": "2023-06-20T10:31:35.682Z"
   },
   {
    "duration": 55,
    "start_time": "2023-06-20T10:31:35.945Z"
   },
   {
    "duration": 5,
    "start_time": "2023-06-20T10:31:36.002Z"
   },
   {
    "duration": 202,
    "start_time": "2023-06-20T10:31:36.008Z"
   },
   {
    "duration": 14,
    "start_time": "2023-06-20T10:31:36.212Z"
   },
   {
    "duration": 11,
    "start_time": "2023-06-20T10:31:36.229Z"
   },
   {
    "duration": 22,
    "start_time": "2023-06-20T10:31:36.264Z"
   },
   {
    "duration": 9,
    "start_time": "2023-06-20T10:31:36.290Z"
   },
   {
    "duration": 12,
    "start_time": "2023-06-20T10:31:36.303Z"
   },
   {
    "duration": 10,
    "start_time": "2023-06-20T10:31:36.320Z"
   },
   {
    "duration": 248,
    "start_time": "2023-06-20T10:31:36.335Z"
   },
   {
    "duration": 14,
    "start_time": "2023-06-20T11:00:04.886Z"
   },
   {
    "duration": 107,
    "start_time": "2023-06-20T11:05:11.816Z"
   },
   {
    "duration": 4,
    "start_time": "2023-06-20T11:05:18.320Z"
   },
   {
    "duration": 165,
    "start_time": "2023-06-20T11:05:19.366Z"
   },
   {
    "duration": 213,
    "start_time": "2023-06-20T11:08:21.101Z"
   },
   {
    "duration": 101,
    "start_time": "2023-06-20T11:10:29.168Z"
   },
   {
    "duration": 225,
    "start_time": "2023-06-20T11:10:35.864Z"
   },
   {
    "duration": 397,
    "start_time": "2023-06-20T11:10:43.466Z"
   },
   {
    "duration": 131,
    "start_time": "2023-06-20T11:11:06.982Z"
   },
   {
    "duration": 102,
    "start_time": "2023-06-20T11:11:30.289Z"
   },
   {
    "duration": 94,
    "start_time": "2023-06-20T11:14:55.523Z"
   },
   {
    "duration": 122,
    "start_time": "2023-06-20T11:15:29.799Z"
   },
   {
    "duration": 242,
    "start_time": "2023-06-20T11:19:07.851Z"
   },
   {
    "duration": 220,
    "start_time": "2023-06-20T11:19:36.798Z"
   },
   {
    "duration": 184,
    "start_time": "2023-06-20T11:22:22.924Z"
   },
   {
    "duration": 304,
    "start_time": "2023-06-20T11:23:02.521Z"
   },
   {
    "duration": 153,
    "start_time": "2023-06-20T11:26:19.978Z"
   },
   {
    "duration": 2899,
    "start_time": "2023-06-20T11:32:05.066Z"
   },
   {
    "duration": 236,
    "start_time": "2023-06-20T11:32:16.409Z"
   },
   {
    "duration": 3364,
    "start_time": "2023-06-20T11:32:17.997Z"
   },
   {
    "duration": 174,
    "start_time": "2023-06-20T11:32:33.405Z"
   },
   {
    "duration": 166,
    "start_time": "2023-06-20T11:32:47.613Z"
   },
   {
    "duration": 161,
    "start_time": "2023-06-20T11:33:37.014Z"
   },
   {
    "duration": 154,
    "start_time": "2023-06-20T11:34:46.158Z"
   },
   {
    "duration": 180,
    "start_time": "2023-06-20T11:41:10.712Z"
   },
   {
    "duration": 162,
    "start_time": "2023-06-20T11:41:48.804Z"
   },
   {
    "duration": 189,
    "start_time": "2023-06-20T11:42:16.230Z"
   },
   {
    "duration": 189,
    "start_time": "2023-06-20T11:43:21.703Z"
   },
   {
    "duration": 178,
    "start_time": "2023-06-20T11:43:31.467Z"
   },
   {
    "duration": 215,
    "start_time": "2023-06-20T11:43:55.235Z"
   },
   {
    "duration": 216,
    "start_time": "2023-06-20T11:43:59.315Z"
   },
   {
    "duration": 322,
    "start_time": "2023-06-20T11:44:04.699Z"
   },
   {
    "duration": 4,
    "start_time": "2023-06-20T11:46:49.227Z"
   },
   {
    "duration": 29,
    "start_time": "2023-06-20T11:46:53.101Z"
   },
   {
    "duration": 6,
    "start_time": "2023-06-20T11:47:03.176Z"
   },
   {
    "duration": 39,
    "start_time": "2023-06-20T11:51:44.472Z"
   },
   {
    "duration": 268,
    "start_time": "2023-06-20T11:53:50.309Z"
   },
   {
    "duration": 9,
    "start_time": "2023-06-20T11:56:40.631Z"
   },
   {
    "duration": 17,
    "start_time": "2023-06-20T11:57:07.470Z"
   },
   {
    "duration": 1102,
    "start_time": "2023-06-20T13:38:42.750Z"
   },
   {
    "duration": 107,
    "start_time": "2023-06-20T13:38:43.856Z"
   },
   {
    "duration": 16,
    "start_time": "2023-06-20T13:38:43.970Z"
   },
   {
    "duration": 43,
    "start_time": "2023-06-20T13:38:43.989Z"
   },
   {
    "duration": 15,
    "start_time": "2023-06-20T13:38:44.034Z"
   },
   {
    "duration": 28,
    "start_time": "2023-06-20T13:38:44.051Z"
   },
   {
    "duration": 19,
    "start_time": "2023-06-20T13:38:44.081Z"
   },
   {
    "duration": 38,
    "start_time": "2023-06-20T13:38:44.102Z"
   },
   {
    "duration": 21,
    "start_time": "2023-06-20T13:38:44.142Z"
   },
   {
    "duration": 13,
    "start_time": "2023-06-20T13:38:44.171Z"
   },
   {
    "duration": 23,
    "start_time": "2023-06-20T13:38:44.185Z"
   },
   {
    "duration": 35,
    "start_time": "2023-06-20T13:38:44.210Z"
   },
   {
    "duration": 16,
    "start_time": "2023-06-20T13:38:44.247Z"
   },
   {
    "duration": 14,
    "start_time": "2023-06-20T13:38:44.265Z"
   },
   {
    "duration": 17,
    "start_time": "2023-06-20T13:38:44.281Z"
   },
   {
    "duration": 10,
    "start_time": "2023-06-20T13:38:44.303Z"
   },
   {
    "duration": 18,
    "start_time": "2023-06-20T13:38:44.316Z"
   },
   {
    "duration": 8,
    "start_time": "2023-06-20T13:38:44.336Z"
   },
   {
    "duration": 220,
    "start_time": "2023-06-20T13:38:44.346Z"
   },
   {
    "duration": 5,
    "start_time": "2023-06-20T13:38:44.572Z"
   },
   {
    "duration": 208,
    "start_time": "2023-06-20T13:38:44.579Z"
   },
   {
    "duration": 206,
    "start_time": "2023-06-20T13:38:44.789Z"
   },
   {
    "duration": 99,
    "start_time": "2023-06-20T13:38:44.997Z"
   },
   {
    "duration": 283,
    "start_time": "2023-06-20T13:38:45.097Z"
   },
   {
    "duration": 205,
    "start_time": "2023-06-20T13:38:45.382Z"
   },
   {
    "duration": 230,
    "start_time": "2023-06-20T13:38:45.588Z"
   },
   {
    "duration": 205,
    "start_time": "2023-06-20T13:38:45.820Z"
   },
   {
    "duration": 220,
    "start_time": "2023-06-20T13:38:46.029Z"
   },
   {
    "duration": 276,
    "start_time": "2023-06-20T13:38:46.251Z"
   },
   {
    "duration": 46,
    "start_time": "2023-06-20T13:38:46.529Z"
   },
   {
    "duration": 23,
    "start_time": "2023-06-20T13:38:46.577Z"
   },
   {
    "duration": 37,
    "start_time": "2023-06-20T13:38:46.602Z"
   },
   {
    "duration": 24,
    "start_time": "2023-06-20T13:38:46.641Z"
   },
   {
    "duration": 209,
    "start_time": "2023-06-20T13:38:46.669Z"
   },
   {
    "duration": 167,
    "start_time": "2023-06-20T13:38:46.881Z"
   },
   {
    "duration": 238,
    "start_time": "2023-06-20T13:38:47.049Z"
   },
   {
    "duration": 158,
    "start_time": "2023-06-20T13:38:47.289Z"
   },
   {
    "duration": 184,
    "start_time": "2023-06-20T13:38:47.457Z"
   },
   {
    "duration": 163,
    "start_time": "2023-06-20T13:38:47.643Z"
   },
   {
    "duration": 200,
    "start_time": "2023-06-20T13:38:47.808Z"
   },
   {
    "duration": 178,
    "start_time": "2023-06-20T13:38:48.009Z"
   },
   {
    "duration": 5,
    "start_time": "2023-06-20T13:38:48.189Z"
   },
   {
    "duration": 51,
    "start_time": "2023-06-20T13:38:48.196Z"
   },
   {
    "duration": 299,
    "start_time": "2023-06-20T13:38:48.249Z"
   },
   {
    "duration": 43,
    "start_time": "2023-06-20T13:38:48.549Z"
   },
   {
    "duration": 256,
    "start_time": "2023-06-20T13:38:48.594Z"
   },
   {
    "duration": 19,
    "start_time": "2023-06-20T13:38:48.852Z"
   },
   {
    "duration": 12,
    "start_time": "2023-06-20T13:38:48.873Z"
   },
   {
    "duration": 14,
    "start_time": "2023-06-20T13:38:48.887Z"
   },
   {
    "duration": 7,
    "start_time": "2023-06-20T13:38:48.905Z"
   },
   {
    "duration": 18,
    "start_time": "2023-06-20T13:38:48.914Z"
   },
   {
    "duration": 30,
    "start_time": "2023-06-20T13:38:48.934Z"
   },
   {
    "duration": 231,
    "start_time": "2023-06-20T13:38:48.968Z"
   },
   {
    "duration": 158,
    "start_time": "2023-06-20T13:40:13.250Z"
   },
   {
    "duration": 153,
    "start_time": "2023-06-20T13:41:07.220Z"
   },
   {
    "duration": 143,
    "start_time": "2023-06-20T13:41:21.692Z"
   },
   {
    "duration": 170,
    "start_time": "2023-06-20T13:41:32.985Z"
   },
   {
    "duration": 7,
    "start_time": "2023-06-20T13:50:18.944Z"
   },
   {
    "duration": 1345,
    "start_time": "2023-06-21T04:03:31.581Z"
   },
   {
    "duration": 159,
    "start_time": "2023-06-21T04:03:32.928Z"
   },
   {
    "duration": 12,
    "start_time": "2023-06-21T04:03:33.088Z"
   },
   {
    "duration": 83,
    "start_time": "2023-06-21T04:03:33.103Z"
   },
   {
    "duration": 13,
    "start_time": "2023-06-21T04:03:33.188Z"
   },
   {
    "duration": 68,
    "start_time": "2023-06-21T04:03:33.203Z"
   },
   {
    "duration": 11,
    "start_time": "2023-06-21T04:03:33.272Z"
   },
   {
    "duration": 26,
    "start_time": "2023-06-21T04:03:33.285Z"
   },
   {
    "duration": 17,
    "start_time": "2023-06-21T04:03:33.312Z"
   },
   {
    "duration": 32,
    "start_time": "2023-06-21T04:03:33.332Z"
   },
   {
    "duration": 8,
    "start_time": "2023-06-21T04:03:33.366Z"
   },
   {
    "duration": 18,
    "start_time": "2023-06-21T04:03:33.376Z"
   },
   {
    "duration": 12,
    "start_time": "2023-06-21T04:03:33.396Z"
   },
   {
    "duration": 10,
    "start_time": "2023-06-21T04:03:33.409Z"
   },
   {
    "duration": 15,
    "start_time": "2023-06-21T04:03:33.421Z"
   },
   {
    "duration": 14,
    "start_time": "2023-06-21T04:03:33.438Z"
   },
   {
    "duration": 19,
    "start_time": "2023-06-21T04:03:33.453Z"
   },
   {
    "duration": 34,
    "start_time": "2023-06-21T04:03:33.474Z"
   },
   {
    "duration": 191,
    "start_time": "2023-06-21T04:03:33.510Z"
   },
   {
    "duration": 3,
    "start_time": "2023-06-21T04:03:33.703Z"
   },
   {
    "duration": 157,
    "start_time": "2023-06-21T04:03:33.708Z"
   },
   {
    "duration": 147,
    "start_time": "2023-06-21T04:03:33.867Z"
   },
   {
    "duration": 161,
    "start_time": "2023-06-21T04:03:34.015Z"
   },
   {
    "duration": 76,
    "start_time": "2023-06-21T04:03:34.178Z"
   },
   {
    "duration": 192,
    "start_time": "2023-06-21T04:03:34.256Z"
   },
   {
    "duration": 142,
    "start_time": "2023-06-21T04:03:34.449Z"
   },
   {
    "duration": 208,
    "start_time": "2023-06-21T04:03:34.593Z"
   },
   {
    "duration": 159,
    "start_time": "2023-06-21T04:03:34.805Z"
   },
   {
    "duration": 257,
    "start_time": "2023-06-21T04:03:34.966Z"
   },
   {
    "duration": 150,
    "start_time": "2023-06-21T04:03:35.225Z"
   },
   {
    "duration": 20,
    "start_time": "2023-06-21T04:03:35.377Z"
   },
   {
    "duration": 49,
    "start_time": "2023-06-21T04:03:35.399Z"
   },
   {
    "duration": 44,
    "start_time": "2023-06-21T04:03:35.449Z"
   },
   {
    "duration": 40,
    "start_time": "2023-06-21T04:03:35.495Z"
   },
   {
    "duration": 233,
    "start_time": "2023-06-21T04:03:35.537Z"
   },
   {
    "duration": 153,
    "start_time": "2023-06-21T04:03:35.771Z"
   },
   {
    "duration": 202,
    "start_time": "2023-06-21T04:03:35.926Z"
   },
   {
    "duration": 134,
    "start_time": "2023-06-21T04:03:36.130Z"
   },
   {
    "duration": 204,
    "start_time": "2023-06-21T04:03:36.266Z"
   },
   {
    "duration": 139,
    "start_time": "2023-06-21T04:03:36.475Z"
   },
   {
    "duration": 183,
    "start_time": "2023-06-21T04:03:36.616Z"
   },
   {
    "duration": 256,
    "start_time": "2023-06-21T04:03:36.801Z"
   },
   {
    "duration": 4,
    "start_time": "2023-06-21T04:03:37.058Z"
   },
   {
    "duration": 62,
    "start_time": "2023-06-21T04:03:37.063Z"
   },
   {
    "duration": 142,
    "start_time": "2023-06-21T04:03:37.127Z"
   },
   {
    "duration": 30,
    "start_time": "2023-06-21T04:03:37.274Z"
   },
   {
    "duration": 195,
    "start_time": "2023-06-21T04:03:37.306Z"
   },
   {
    "duration": 10,
    "start_time": "2023-06-21T04:03:37.503Z"
   },
   {
    "duration": 14,
    "start_time": "2023-06-21T04:03:37.515Z"
   },
   {
    "duration": 19,
    "start_time": "2023-06-21T04:03:37.530Z"
   },
   {
    "duration": 5,
    "start_time": "2023-06-21T04:03:37.551Z"
   },
   {
    "duration": 19,
    "start_time": "2023-06-21T04:03:37.557Z"
   },
   {
    "duration": 6,
    "start_time": "2023-06-21T04:03:37.577Z"
   },
   {
    "duration": 151,
    "start_time": "2023-06-21T04:03:37.584Z"
   },
   {
    "duration": 5,
    "start_time": "2023-06-21T04:04:56.631Z"
   },
   {
    "duration": 4,
    "start_time": "2023-06-21T04:05:16.383Z"
   },
   {
    "duration": 4,
    "start_time": "2023-06-21T04:08:20.086Z"
   },
   {
    "duration": 5,
    "start_time": "2023-06-21T04:08:20.621Z"
   },
   {
    "duration": 86,
    "start_time": "2023-06-21T04:13:15.665Z"
   },
   {
    "duration": 119,
    "start_time": "2023-06-21T04:16:03.510Z"
   },
   {
    "duration": 113,
    "start_time": "2023-06-21T04:16:10.317Z"
   },
   {
    "duration": 84,
    "start_time": "2023-06-21T04:16:30.082Z"
   },
   {
    "duration": 8,
    "start_time": "2023-06-21T04:18:26.508Z"
   },
   {
    "duration": 109,
    "start_time": "2023-06-21T04:21:39.145Z"
   },
   {
    "duration": 83,
    "start_time": "2023-06-21T04:22:46.329Z"
   },
   {
    "duration": 232,
    "start_time": "2023-06-21T04:23:11.662Z"
   },
   {
    "duration": 82,
    "start_time": "2023-06-21T04:24:42.081Z"
   },
   {
    "duration": 204,
    "start_time": "2023-06-21T04:24:53.393Z"
   },
   {
    "duration": 151,
    "start_time": "2023-06-21T04:25:12.575Z"
   },
   {
    "duration": 158,
    "start_time": "2023-06-21T04:25:36.351Z"
   },
   {
    "duration": 159,
    "start_time": "2023-06-21T04:29:46.527Z"
   },
   {
    "duration": 177,
    "start_time": "2023-06-21T04:30:27.195Z"
   },
   {
    "duration": 154,
    "start_time": "2023-06-21T04:31:28.159Z"
   },
   {
    "duration": 198,
    "start_time": "2023-06-21T04:31:52.738Z"
   },
   {
    "duration": 222,
    "start_time": "2023-06-21T04:32:04.614Z"
   },
   {
    "duration": 368,
    "start_time": "2023-06-21T04:32:58.930Z"
   },
   {
    "duration": 196,
    "start_time": "2023-06-21T04:34:27.637Z"
   },
   {
    "duration": 205,
    "start_time": "2023-06-21T04:35:13.946Z"
   },
   {
    "duration": 17,
    "start_time": "2023-06-21T04:37:20.192Z"
   },
   {
    "duration": 12,
    "start_time": "2023-06-21T04:37:55.001Z"
   },
   {
    "duration": 14,
    "start_time": "2023-06-21T04:38:34.042Z"
   },
   {
    "duration": 12,
    "start_time": "2023-06-21T04:39:17.266Z"
   },
   {
    "duration": 290,
    "start_time": "2023-06-21T04:43:08.546Z"
   },
   {
    "duration": 229,
    "start_time": "2023-06-21T04:43:43.563Z"
   },
   {
    "duration": 208,
    "start_time": "2023-06-21T04:48:36.043Z"
   },
   {
    "duration": 224,
    "start_time": "2023-06-21T04:48:52.633Z"
   },
   {
    "duration": 212,
    "start_time": "2023-06-21T04:48:59.752Z"
   },
   {
    "duration": 118,
    "start_time": "2023-06-21T04:49:26.048Z"
   },
   {
    "duration": 128,
    "start_time": "2023-06-21T04:49:46.969Z"
   },
   {
    "duration": 105,
    "start_time": "2023-06-21T04:51:38.877Z"
   },
   {
    "duration": 331,
    "start_time": "2023-06-21T05:02:57.562Z"
   },
   {
    "duration": 233,
    "start_time": "2023-06-21T05:03:19.912Z"
   },
   {
    "duration": 29,
    "start_time": "2023-06-21T05:04:41.604Z"
   },
   {
    "duration": 171,
    "start_time": "2023-06-21T05:04:57.188Z"
   },
   {
    "duration": 5,
    "start_time": "2023-06-21T05:08:37.573Z"
   },
   {
    "duration": 5,
    "start_time": "2023-06-21T05:09:59.846Z"
   },
   {
    "duration": 5,
    "start_time": "2023-06-21T05:10:17.549Z"
   },
   {
    "duration": 6,
    "start_time": "2023-06-21T05:10:48.766Z"
   },
   {
    "duration": 7,
    "start_time": "2023-06-21T05:10:55.518Z"
   },
   {
    "duration": 5,
    "start_time": "2023-06-21T05:11:24.253Z"
   },
   {
    "duration": 5,
    "start_time": "2023-06-21T05:11:31.039Z"
   },
   {
    "duration": 4,
    "start_time": "2023-06-21T05:12:42.237Z"
   },
   {
    "duration": 12,
    "start_time": "2023-06-21T05:15:06.238Z"
   },
   {
    "duration": 8,
    "start_time": "2023-06-21T05:16:00.632Z"
   },
   {
    "duration": 244,
    "start_time": "2023-06-21T05:33:07.732Z"
   },
   {
    "duration": 172,
    "start_time": "2023-06-21T05:33:30.902Z"
   },
   {
    "duration": 9,
    "start_time": "2023-06-21T05:41:25.042Z"
   },
   {
    "duration": 36,
    "start_time": "2023-06-21T05:41:32.464Z"
   },
   {
    "duration": 23,
    "start_time": "2023-06-21T05:41:50.846Z"
   },
   {
    "duration": 282,
    "start_time": "2023-06-21T05:43:19.101Z"
   },
   {
    "duration": 316,
    "start_time": "2023-06-21T05:47:05.518Z"
   },
   {
    "duration": 1271,
    "start_time": "2023-06-21T08:31:46.797Z"
   },
   {
    "duration": 160,
    "start_time": "2023-06-21T08:31:48.070Z"
   },
   {
    "duration": 12,
    "start_time": "2023-06-21T08:31:48.232Z"
   },
   {
    "duration": 199,
    "start_time": "2023-06-21T08:31:48.245Z"
   },
   {
    "duration": 15,
    "start_time": "2023-06-21T08:31:48.446Z"
   },
   {
    "duration": 68,
    "start_time": "2023-06-21T08:31:48.463Z"
   },
   {
    "duration": 9,
    "start_time": "2023-06-21T08:31:48.532Z"
   },
   {
    "duration": 23,
    "start_time": "2023-06-21T08:31:48.542Z"
   },
   {
    "duration": 9,
    "start_time": "2023-06-21T08:31:48.566Z"
   },
   {
    "duration": 10,
    "start_time": "2023-06-21T08:31:48.577Z"
   },
   {
    "duration": 4,
    "start_time": "2023-06-21T08:31:48.589Z"
   },
   {
    "duration": 21,
    "start_time": "2023-06-21T08:31:48.595Z"
   },
   {
    "duration": 23,
    "start_time": "2023-06-21T08:31:48.618Z"
   },
   {
    "duration": 8,
    "start_time": "2023-06-21T08:31:48.645Z"
   },
   {
    "duration": 13,
    "start_time": "2023-06-21T08:31:48.655Z"
   },
   {
    "duration": 5,
    "start_time": "2023-06-21T08:31:48.669Z"
   },
   {
    "duration": 7,
    "start_time": "2023-06-21T08:31:48.676Z"
   },
   {
    "duration": 11,
    "start_time": "2023-06-21T08:31:48.684Z"
   },
   {
    "duration": 6,
    "start_time": "2023-06-21T08:31:48.697Z"
   },
   {
    "duration": 7,
    "start_time": "2023-06-21T08:31:48.705Z"
   },
   {
    "duration": 203,
    "start_time": "2023-06-21T08:31:48.714Z"
   },
   {
    "duration": 4,
    "start_time": "2023-06-21T08:31:48.918Z"
   },
   {
    "duration": 145,
    "start_time": "2023-06-21T08:31:48.923Z"
   },
   {
    "duration": 123,
    "start_time": "2023-06-21T08:31:49.069Z"
   },
   {
    "duration": 165,
    "start_time": "2023-06-21T08:31:49.193Z"
   },
   {
    "duration": 80,
    "start_time": "2023-06-21T08:31:49.360Z"
   },
   {
    "duration": 185,
    "start_time": "2023-06-21T08:31:49.442Z"
   },
   {
    "duration": 10,
    "start_time": "2023-06-21T08:31:49.629Z"
   },
   {
    "duration": 234,
    "start_time": "2023-06-21T08:31:49.641Z"
   },
   {
    "duration": 192,
    "start_time": "2023-06-21T08:31:49.876Z"
   },
   {
    "duration": 20,
    "start_time": "2023-06-21T08:31:50.070Z"
   },
   {
    "duration": 19,
    "start_time": "2023-06-21T08:31:50.091Z"
   },
   {
    "duration": 13,
    "start_time": "2023-06-21T08:31:50.112Z"
   },
   {
    "duration": 41,
    "start_time": "2023-06-21T08:31:50.127Z"
   },
   {
    "duration": 9,
    "start_time": "2023-06-21T08:31:50.170Z"
   },
   {
    "duration": 15,
    "start_time": "2023-06-21T08:31:50.180Z"
   },
   {
    "duration": 19,
    "start_time": "2023-06-21T08:31:50.196Z"
   },
   {
    "duration": 14,
    "start_time": "2023-06-21T08:31:50.216Z"
   },
   {
    "duration": 201,
    "start_time": "2023-06-21T08:31:50.232Z"
   },
   {
    "duration": 273,
    "start_time": "2023-06-21T08:31:50.434Z"
   },
   {
    "duration": 303,
    "start_time": "2023-06-21T08:31:50.710Z"
   },
   {
    "duration": 190,
    "start_time": "2023-06-21T08:31:51.015Z"
   },
   {
    "duration": 190,
    "start_time": "2023-06-21T08:31:51.206Z"
   },
   {
    "duration": 4,
    "start_time": "2023-06-21T08:31:51.397Z"
   },
   {
    "duration": 60,
    "start_time": "2023-06-21T08:31:51.402Z"
   },
   {
    "duration": 131,
    "start_time": "2023-06-21T08:31:51.464Z"
   },
   {
    "duration": 29,
    "start_time": "2023-06-21T08:31:51.597Z"
   },
   {
    "duration": 196,
    "start_time": "2023-06-21T08:31:51.627Z"
   },
   {
    "duration": 9,
    "start_time": "2023-06-21T08:31:51.825Z"
   },
   {
    "duration": 42,
    "start_time": "2023-06-21T08:31:51.835Z"
   },
   {
    "duration": 40,
    "start_time": "2023-06-21T08:31:51.879Z"
   },
   {
    "duration": 25,
    "start_time": "2023-06-21T08:31:51.921Z"
   },
   {
    "duration": 17,
    "start_time": "2023-06-21T08:31:51.948Z"
   },
   {
    "duration": 91,
    "start_time": "2023-06-21T08:31:51.966Z"
   },
   {
    "duration": 0,
    "start_time": "2023-06-21T08:31:52.058Z"
   },
   {
    "duration": 0,
    "start_time": "2023-06-21T08:31:52.069Z"
   },
   {
    "duration": 0,
    "start_time": "2023-06-21T08:31:52.070Z"
   },
   {
    "duration": 0,
    "start_time": "2023-06-21T08:31:52.071Z"
   },
   {
    "duration": 9,
    "start_time": "2023-06-21T08:36:28.655Z"
   },
   {
    "duration": 4,
    "start_time": "2023-06-21T08:37:20.563Z"
   },
   {
    "duration": 5,
    "start_time": "2023-06-21T08:37:21.412Z"
   },
   {
    "duration": 111,
    "start_time": "2023-06-21T08:37:24.357Z"
   },
   {
    "duration": 1289,
    "start_time": "2023-10-24T14:24:14.280Z"
   },
   {
    "duration": 145,
    "start_time": "2023-10-24T14:24:15.571Z"
   },
   {
    "duration": 11,
    "start_time": "2023-10-24T14:24:15.718Z"
   },
   {
    "duration": 85,
    "start_time": "2023-10-24T14:24:15.731Z"
   },
   {
    "duration": 11,
    "start_time": "2023-10-24T14:24:15.818Z"
   },
   {
    "duration": 60,
    "start_time": "2023-10-24T14:24:15.831Z"
   },
   {
    "duration": 10,
    "start_time": "2023-10-24T14:24:15.892Z"
   },
   {
    "duration": 33,
    "start_time": "2023-10-24T14:24:15.903Z"
   },
   {
    "duration": 17,
    "start_time": "2023-10-24T14:24:15.938Z"
   },
   {
    "duration": 19,
    "start_time": "2023-10-24T14:24:15.957Z"
   },
   {
    "duration": 14,
    "start_time": "2023-10-24T14:24:15.978Z"
   },
   {
    "duration": 24,
    "start_time": "2023-10-24T14:24:15.994Z"
   },
   {
    "duration": 23,
    "start_time": "2023-10-24T14:24:16.020Z"
   },
   {
    "duration": 30,
    "start_time": "2023-10-24T14:24:16.045Z"
   },
   {
    "duration": 14,
    "start_time": "2023-10-24T14:24:16.077Z"
   },
   {
    "duration": 26,
    "start_time": "2023-10-24T14:24:16.093Z"
   },
   {
    "duration": 12,
    "start_time": "2023-10-24T14:24:16.121Z"
   },
   {
    "duration": 29,
    "start_time": "2023-10-24T14:24:16.135Z"
   },
   {
    "duration": 11,
    "start_time": "2023-10-24T14:24:16.166Z"
   },
   {
    "duration": 7,
    "start_time": "2023-10-24T14:24:16.178Z"
   },
   {
    "duration": 197,
    "start_time": "2023-10-24T14:24:16.187Z"
   },
   {
    "duration": 5,
    "start_time": "2023-10-24T14:24:16.386Z"
   },
   {
    "duration": 169,
    "start_time": "2023-10-24T14:24:16.393Z"
   },
   {
    "duration": 141,
    "start_time": "2023-10-24T14:24:16.563Z"
   },
   {
    "duration": 182,
    "start_time": "2023-10-24T14:24:16.706Z"
   },
   {
    "duration": 96,
    "start_time": "2023-10-24T14:24:16.890Z"
   },
   {
    "duration": 212,
    "start_time": "2023-10-24T14:24:16.988Z"
   },
   {
    "duration": 7,
    "start_time": "2023-10-24T14:24:17.204Z"
   },
   {
    "duration": 241,
    "start_time": "2023-10-24T14:24:17.213Z"
   },
   {
    "duration": 212,
    "start_time": "2023-10-24T14:24:17.455Z"
   },
   {
    "duration": 21,
    "start_time": "2023-10-24T14:24:17.668Z"
   },
   {
    "duration": 45,
    "start_time": "2023-10-24T14:24:17.690Z"
   },
   {
    "duration": 30,
    "start_time": "2023-10-24T14:24:17.737Z"
   },
   {
    "duration": 28,
    "start_time": "2023-10-24T14:24:17.769Z"
   },
   {
    "duration": 26,
    "start_time": "2023-10-24T14:24:17.799Z"
   },
   {
    "duration": 14,
    "start_time": "2023-10-24T14:24:17.826Z"
   },
   {
    "duration": 37,
    "start_time": "2023-10-24T14:24:17.842Z"
   },
   {
    "duration": 14,
    "start_time": "2023-10-24T14:24:17.881Z"
   },
   {
    "duration": 216,
    "start_time": "2023-10-24T14:24:17.897Z"
   },
   {
    "duration": 310,
    "start_time": "2023-10-24T14:24:18.114Z"
   },
   {
    "duration": 337,
    "start_time": "2023-10-24T14:24:18.425Z"
   },
   {
    "duration": 206,
    "start_time": "2023-10-24T14:24:18.764Z"
   },
   {
    "duration": 215,
    "start_time": "2023-10-24T14:24:18.973Z"
   },
   {
    "duration": 3,
    "start_time": "2023-10-24T14:24:19.190Z"
   },
   {
    "duration": 37,
    "start_time": "2023-10-24T14:24:19.195Z"
   },
   {
    "duration": 153,
    "start_time": "2023-10-24T14:24:19.234Z"
   },
   {
    "duration": 32,
    "start_time": "2023-10-24T14:24:19.389Z"
   },
   {
    "duration": 219,
    "start_time": "2023-10-24T14:24:19.423Z"
   },
   {
    "duration": 10,
    "start_time": "2023-10-24T14:24:19.644Z"
   },
   {
    "duration": 10,
    "start_time": "2023-10-24T14:24:19.655Z"
   },
   {
    "duration": 18,
    "start_time": "2023-10-24T14:24:19.667Z"
   },
   {
    "duration": 26,
    "start_time": "2023-10-24T14:24:19.687Z"
   },
   {
    "duration": 18,
    "start_time": "2023-10-24T14:24:19.715Z"
   },
   {
    "duration": 17,
    "start_time": "2023-10-24T14:24:19.735Z"
   },
   {
    "duration": 6,
    "start_time": "2023-10-24T14:24:19.754Z"
   },
   {
    "duration": 17,
    "start_time": "2023-10-24T14:24:19.761Z"
   },
   {
    "duration": 144,
    "start_time": "2023-10-24T14:24:19.779Z"
   },
   {
    "duration": 20,
    "start_time": "2023-10-24T14:24:19.925Z"
   },
   {
    "duration": 179,
    "start_time": "2023-10-24T14:24:19.947Z"
   }
  ],
  "kernelspec": {
   "display_name": "Python 3 (ipykernel)",
   "language": "python",
   "name": "python3"
  },
  "language_info": {
   "codemirror_mode": {
    "name": "ipython",
    "version": 3
   },
   "file_extension": ".py",
   "mimetype": "text/x-python",
   "name": "python",
   "nbconvert_exporter": "python",
   "pygments_lexer": "ipython3",
   "version": "3.9.5"
  },
  "toc": {
   "base_numbering": 1,
   "nav_menu": {},
   "number_sections": true,
   "sideBar": true,
   "skip_h1_title": true,
   "title_cell": "Table of Contents",
   "title_sidebar": "Contents",
   "toc_cell": false,
   "toc_position": {},
   "toc_section_display": true,
   "toc_window_display": false
  }
 },
 "nbformat": 4,
 "nbformat_minor": 5
}
