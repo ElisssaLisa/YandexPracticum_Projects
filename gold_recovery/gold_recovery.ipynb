{
 "cells": [
  {
   "cell_type": "markdown",
   "metadata": {},
   "source": [
    "<div style=\"border:solid Chocolate 2px; padding: 40px\">\n",
    "\n",
    "<b> Елизавета, привет!👋</b>\n",
    "\n",
    "Меня зовут Алексей Гриб, и я буду ревьюером твоего проекта. \n",
    "\n",
    "Сразу хочу предложить в дальнейшем общаться на \"ты\" - надеюсь, так будет комфортнее:) Но если это неудобно, обязательно дай знать, и мы придумаем что-нибудь ещё!\n",
    "    \n",
    "Цель ревью - не искать ошибки в твоём проекте, а помочь тебе сделать твою работу ещё лучше, устранив недочёты и приблизив её к реальным задачам специалиста по работе с данными. Поэтому не расстраивайся, если что-то не получилось с первого раза - это нормально, и это поможет тебе вырасти!\n",
    "    \n",
    "Ты можешь найти мои комментарии, обозначенные <font color='green'>зеленым</font>, <font color='gold'>желтым</font> и <font color='red'>красным</font> цветами, например:\n",
    "\n",
    "<br/>\n",
    "\n",
    "<div class=\"alert alert-success\">\n",
    "<h2> Комментарий ревьюера <a class=\"tocSkip\"> </h2>\n",
    "\n",
    "<b>Все отлично!👍:</b> похвала, рекомендации «со звёздочкой», полезные лайфхаки, которые сделают и без того красивое решение ещё более элегантным.\n",
    "</div>\n",
    "\n",
    "<br/>\n",
    "\n",
    "<div class=\"alert alert-warning\">\n",
    "    <h2> Комментарий ревьюера <a class=\"tocSkip\"> </h2>\n",
    "    \n",
    "<b>Некоторые замечания и рекомендации⚠️:</b> некритичные ошибки или развивающие рекомендации на будущее. \n",
    "</div>\n",
    "\n",
    "\n",
    "<br/>\n",
    "<div class=\"alert alert-block alert-danger\">\n",
    "<h2> Комментарий ревьюера <a class=\"tocSkip\"></h2>\n",
    "\n",
    "    \n",
    "<b>На доработку❌:</b>\n",
    "Критичные ошибки, которые обязательно нужно исправить.\n",
    "</div>\n",
    "\n",
    "Я не смогу принять проект, если в нём будет хотя бы одна критичная ошибка или несколько некритичных ошибок - тогда проект нужно будет немного доработать. Но это нестрашно - я обязательно дам тебе подсказку или укажу верное направление.\n",
    "    \n",
    "Пожалуйста, не удаляй мои комментарии, они будут особенно полезны для нашей работы в случае повторной проверки проекта. \n",
    "    \n",
    "Ты также можешь задавать свои вопросы, реагировать на мои комментарии, делать пометки и пояснения - полная творческая свобода! Но маленькая просьба - пускай они будут отличаться от моих комментариев, это поможет избежать путаницы в нашем общении:)\n",
    "Например, вот так:\n",
    "    \n",
    "<div class=\"alert alert-info\">\n",
    "<h2> Комментарий студента <a class=\"tocSkip\"> </h2>\n",
    "\n",
    "*твой текст*\n",
    "</div>\n",
    "    \n",
    "Давай посмотрим на твой проект!"
   ]
  },
  {
   "cell_type": "markdown",
   "metadata": {},
   "source": [
    "<div class=\"alert alert-info\">\n",
    "<h2> Комментарий студента <a class=\"tocSkip\"> </h2>\n",
    "\n",
    "Привет! Спасибо, что уделил время моему проекту. Постараюсь все учесть и исправить все недочеты, чтобы работа смогла считаться полноценной.\n",
    "</div>"
   ]
  },
  {
   "cell_type": "markdown",
   "metadata": {},
   "source": [
    "<div class=\"alert alert-success\">\n",
    "<h2> Комментарий ревьюера v.2 <a class=\"tocSkip\"> </h2>\n",
    "\n",
    "<b>Все отлично!👍:</b> Она и так полноценная, цель нашей работы - сделать её лучше:)"
   ]
  },
  {
   "cell_type": "markdown",
   "metadata": {
    "toc": true
   },
   "source": [
    "<h1>Содержание<span class=\"tocSkip\"></span></h1>\n",
    "<div class=\"toc\"><ul class=\"toc-item\"><li><span><a href=\"#Подготовка-данных\" data-toc-modified-id=\"Подготовка-данных-1\"><span class=\"toc-item-num\">1&nbsp;&nbsp;</span>Подготовка данных</a></span></li><li><span><a href=\"#Анализ-данных\" data-toc-modified-id=\"Анализ-данных-2\"><span class=\"toc-item-num\">2&nbsp;&nbsp;</span>Анализ данных</a></span></li><li><span><a href=\"#Модель\" data-toc-modified-id=\"Модель-3\"><span class=\"toc-item-num\">3&nbsp;&nbsp;</span>Модель</a></span></li><li><span><a href=\"#Общий-вывод\" data-toc-modified-id=\"Общий-вывод-4\"><span class=\"toc-item-num\">4&nbsp;&nbsp;</span>Общий вывод</a></span><ul class=\"toc-item\"><li><ul class=\"toc-item\"><li><span><a href=\"#Этап-1.-Изучение-и-предобработка-данных.\" data-toc-modified-id=\"Этап-1.-Изучение-и-предобработка-данных.-4.0.1\"><span class=\"toc-item-num\">4.0.1&nbsp;&nbsp;</span>Этап 1. Изучение и предобработка данных.</a></span></li><li><span><a href=\"#Этап-2.-Анализ-данных\" data-toc-modified-id=\"Этап-2.-Анализ-данных-4.0.2\"><span class=\"toc-item-num\">4.0.2&nbsp;&nbsp;</span>Этап 2. Анализ данных</a></span></li><li><span><a href=\"#Этап-3.-Обучение-моделей.\" data-toc-modified-id=\"Этап-3.-Обучение-моделей.-4.0.3\"><span class=\"toc-item-num\">4.0.3&nbsp;&nbsp;</span>Этап 3. Обучение моделей.</a></span></li></ul></li></ul></li></ul></div>"
   ]
  },
  {
   "cell_type": "markdown",
   "metadata": {},
   "source": [
    "# Восстановление золота из руды"
   ]
  },
  {
   "cell_type": "markdown",
   "metadata": {},
   "source": [
    "Подготовьте прототип модели машинного обучения для «Цифры». Компания разрабатывает решения для эффективной работы промышленных предприятий.\n",
    "\n",
    "Модель должна предсказать коэффициент восстановления золота из золотосодержащей руды. Используйте данные с параметрами добычи и очистки. \n",
    "\n",
    "Модель поможет оптимизировать производство, чтобы не запускать предприятие с убыточными характеристиками.\n",
    "\n",
    "Вам нужно:\n",
    "\n",
    "1. Подготовить данные;\n",
    "2. Провести исследовательский анализ данных;\n",
    "3. Построить и обучить модель.\n",
    "\n",
    "Чтобы выполнить проект, обращайтесь к библиотекам *pandas*, *matplotlib* и *sklearn.* Вам поможет их документация."
   ]
  },
  {
   "cell_type": "markdown",
   "metadata": {},
   "source": [
    "###### Цель исследования:\n",
    "Подготовить модель машинного обучения для расчета коэффициента восстановления золота из золотосодержащей руды.\n",
    "\n",
    "###### Ход исследования:\n",
    "1. Открыть и изучить предоставленные данные и подготовить их к исследованию.Проверить, что эффективность обогащения рассчитана правильно.\n",
    "2. Исследовать, как меняется концентрация металлов в сырье от этапа к этапу.\n",
    "3. Написать функцию для расчета итоговой метрики (sMAPE) \n",
    "4. Обучить несколько моделей и оценить их качество. Выбрать лучшую модель\n",
    "5. Обучить лучшую модель, получить предсказания и рассчитать итоговую метрику.\n",
    "6. Сделать вывод. "
   ]
  },
  {
   "cell_type": "markdown",
   "metadata": {},
   "source": [
    "<div class=\"alert alert-success\">\n",
    "<h2> Комментарий ревьюера <a class=\"tocSkip\"> </h2>\n",
    "\n",
    "<b>Все отлично!👍:</b> Хорошее вступление!\n",
    "    \n",
    "В нём есть всё, что необходимо, чтобы понять суть проекта с первых строк отчёта!"
   ]
  },
  {
   "cell_type": "markdown",
   "metadata": {},
   "source": [
    "## Подготовка данных"
   ]
  },
  {
   "cell_type": "markdown",
   "metadata": {},
   "source": [
    "1. Импортируем библиотеки, которые понадобятся в ходе работы."
   ]
  },
  {
   "cell_type": "code",
   "execution_count": 1,
   "metadata": {},
   "outputs": [],
   "source": [
    "import pandas as pd\n",
    "import matplotlib.pyplot as plt\n",
    "import numpy as np\n",
    "import seaborn as sns\n",
    "from sklearn.dummy import DummyRegressor\n",
    "from sklearn.metrics import mean_absolute_error, make_scorer\n",
    "from sklearn.preprocessing import StandardScaler\n",
    "from sklearn.model_selection import cross_val_score\n",
    "from sklearn.linear_model import LinearRegression\n",
    "from sklearn.ensemble import RandomForestRegressor\n",
    "from sklearn.tree import DecisionTreeRegressor"
   ]
  },
  {
   "cell_type": "markdown",
   "metadata": {},
   "source": [
    "<div class=\"alert alert-success\">\n",
    "<h2> Комментарий ревьюера <a class=\"tocSkip\"> </h2>\n",
    "\n",
    "<b>Все отлично!👍:</b> Библиотеки импортировали - отлично!"
   ]
  },
  {
   "cell_type": "markdown",
   "metadata": {},
   "source": [
    "2. Загрузим датасеты и изучим информацию о них (за индексы возьмем столбец date, т.к. по условию задачи Данные индексируются датой и временем получения информации)"
   ]
  },
  {
   "cell_type": "code",
   "execution_count": 2,
   "metadata": {},
   "outputs": [],
   "source": [
    "df_train = pd.read_csv('/datasets/gold_industry_train.csv', index_col='date')\n",
    "df_test = pd.read_csv('/datasets/gold_industry_test.csv', index_col='date')\n",
    "df_full = pd.read_csv('/datasets/gold_industry_full.csv', index_col='date')"
   ]
  },
  {
   "cell_type": "markdown",
   "metadata": {},
   "source": [
    "<div class=\"alert alert-success\">\n",
    "<h2> Комментарий ревьюера <a class=\"tocSkip\"> </h2>\n",
    "\n",
    "<b>Все отлично!👍</b> \n",
    "    \n",
    "Данные загрузили. Круто, что сразу делаешь дату индексом:)\n",
    "    \n",
    "При считывании данных из файла здорово перестраховывать себя от ошибок, связанных, например, с неверным указанием пути к файлу. А иногда бывает, что работаешь с файлом локально, выгружаешь его на сервер, ожидая, что он будет принимать данные, которые лежат на том же сервере, а код падает с ошибкой, потому что путь к файлу не поменялся с локального на серверный.\n",
    "    \n",
    "Для этого, например, можно использовать конструкцию `try-except`: сначала пробуешь локальный путь, при возникновении ошибки используется серверный путь (подробнее можешь почитать тут: https://pythonworld.ru/tipy-dannyx-v-python/isklyucheniya-v-python-konstrukciya-try-except-dlya-obrabotki-isklyuchenij.html).\n",
    "    \n",
    "Но еще лучше использовать библиотеку `os` - её использование позволит тебе проверять существование указанных директорий (что может быть актуально при одновременной работа на локальном и сетевом окружении) и загружать данные из существующей директории, избегая ошибок. Как пример:\n",
    "    \n",
    "    import os\n",
    "\n",
    "    pth1 = '/folder_1/data.csv'\n",
    "    pth2 = '/folder_2/data.csv'\n",
    "    \n",
    "    if os.path.exists(pth1):\n",
    "        query_1 = pd.read_csv(pth1)\n",
    "    elif os.path.exists(pth2):\n",
    "        query_1 = pd.read_csv(pth2)\n",
    "    else:\n",
    "        print('Something is wrong')"
   ]
  },
  {
   "cell_type": "markdown",
   "metadata": {},
   "source": [
    "Для того, чтобы несколько раз не дублировать код, напишем функцию, которая будет выводить на экран основные параметры таблиц"
   ]
  },
  {
   "cell_type": "code",
   "execution_count": 3,
   "metadata": {},
   "outputs": [],
   "source": [
    "def data_info(df):\n",
    "    print('Размеры таблицы:', df.shape)\n",
    "    print(df.head())\n",
    "    print(df.describe())\n",
    "    print(df.info())"
   ]
  },
  {
   "cell_type": "code",
   "execution_count": 4,
   "metadata": {},
   "outputs": [
    {
     "name": "stdout",
     "output_type": "stream",
     "text": [
      "Размеры таблицы: (14579, 86)\n",
      "                     rougher.input.feed_au  rougher.input.feed_ag  \\\n",
      "date                                                                \n",
      "2016-01-15 00:00:00               6.486150               6.100378   \n",
      "2016-01-15 01:00:00               6.478583               6.161113   \n",
      "2016-01-15 02:00:00               6.362222               6.116455   \n",
      "2016-01-15 03:00:00               6.118189               6.043309   \n",
      "2016-01-15 04:00:00               5.663707               6.060915   \n",
      "\n",
      "                     rougher.input.feed_pb  rougher.input.feed_sol  \\\n",
      "date                                                                 \n",
      "2016-01-15 00:00:00               2.284912               36.808594   \n",
      "2016-01-15 01:00:00               2.266033               35.753385   \n",
      "2016-01-15 02:00:00               2.159622               35.971630   \n",
      "2016-01-15 03:00:00               2.037807               36.862241   \n",
      "2016-01-15 04:00:00               1.786875               34.347666   \n",
      "\n",
      "                     rougher.input.feed_rate  rougher.input.feed_size  \\\n",
      "date                                                                    \n",
      "2016-01-15 00:00:00               523.546326                55.486599   \n",
      "2016-01-15 01:00:00               525.290581                57.278666   \n",
      "2016-01-15 02:00:00               530.026610                57.510649   \n",
      "2016-01-15 03:00:00               542.590390                57.792734   \n",
      "2016-01-15 04:00:00               540.531893                56.047189   \n",
      "\n",
      "                     rougher.input.floatbank10_sulfate  \\\n",
      "date                                                     \n",
      "2016-01-15 00:00:00                          11.986616   \n",
      "2016-01-15 01:00:00                          11.971193   \n",
      "2016-01-15 02:00:00                          11.920603   \n",
      "2016-01-15 03:00:00                          11.630094   \n",
      "2016-01-15 04:00:00                          10.957755   \n",
      "\n",
      "                     rougher.input.floatbank10_xanthate  \\\n",
      "date                                                      \n",
      "2016-01-15 00:00:00                            6.007990   \n",
      "2016-01-15 01:00:00                            6.005766   \n",
      "2016-01-15 02:00:00                            6.197377   \n",
      "2016-01-15 03:00:00                            6.203177   \n",
      "2016-01-15 04:00:00                            6.198826   \n",
      "\n",
      "                     rougher.state.floatbank10_a_air  \\\n",
      "date                                                   \n",
      "2016-01-15 00:00:00                       999.706909   \n",
      "2016-01-15 01:00:00                      1000.286398   \n",
      "2016-01-15 02:00:00                       999.719565   \n",
      "2016-01-15 03:00:00                       999.814770   \n",
      "2016-01-15 04:00:00                       999.678690   \n",
      "\n",
      "                     rougher.state.floatbank10_a_level  ...  \\\n",
      "date                                                    ...   \n",
      "2016-01-15 00:00:00                        -404.066986  ...   \n",
      "2016-01-15 01:00:00                        -400.065196  ...   \n",
      "2016-01-15 02:00:00                        -400.074028  ...   \n",
      "2016-01-15 03:00:00                        -400.200179  ...   \n",
      "2016-01-15 04:00:00                        -399.752729  ...   \n",
      "\n",
      "                     secondary_cleaner.output.tail_sol  \\\n",
      "date                                                     \n",
      "2016-01-15 00:00:00                           8.764648   \n",
      "2016-01-15 01:00:00                           9.001494   \n",
      "2016-01-15 02:00:00                           8.842896   \n",
      "2016-01-15 03:00:00                           9.122857   \n",
      "2016-01-15 04:00:00                           8.871028   \n",
      "\n",
      "                     final.output.concentrate_au  final.output.concentrate_ag  \\\n",
      "date                                                                            \n",
      "2016-01-15 00:00:00                    42.192020                     6.055403   \n",
      "2016-01-15 01:00:00                    42.701629                     6.029369   \n",
      "2016-01-15 02:00:00                    42.657501                     6.055926   \n",
      "2016-01-15 03:00:00                    42.689819                     6.047977   \n",
      "2016-01-15 04:00:00                    42.774141                     6.148599   \n",
      "\n",
      "                     final.output.concentrate_pb  \\\n",
      "date                                               \n",
      "2016-01-15 00:00:00                     9.889648   \n",
      "2016-01-15 01:00:00                     9.968944   \n",
      "2016-01-15 02:00:00                    10.213995   \n",
      "2016-01-15 03:00:00                     9.977019   \n",
      "2016-01-15 04:00:00                    10.142511   \n",
      "\n",
      "                     final.output.concentrate_sol  final.output.recovery  \\\n",
      "date                                                                       \n",
      "2016-01-15 00:00:00                      5.507324              70.541216   \n",
      "2016-01-15 01:00:00                      5.257781              69.266198   \n",
      "2016-01-15 02:00:00                      5.383759              68.116445   \n",
      "2016-01-15 03:00:00                      4.858634              68.347543   \n",
      "2016-01-15 04:00:00                      4.939416              66.927016   \n",
      "\n",
      "                     final.output.tail_au  final.output.tail_ag  \\\n",
      "date                                                              \n",
      "2016-01-15 00:00:00              2.143149             10.411962   \n",
      "2016-01-15 01:00:00              2.224930             10.462676   \n",
      "2016-01-15 02:00:00              2.257889             10.507046   \n",
      "2016-01-15 03:00:00              2.146849             10.422762   \n",
      "2016-01-15 04:00:00              2.055292             10.360302   \n",
      "\n",
      "                     final.output.tail_pb  final.output.tail_sol  \n",
      "date                                                              \n",
      "2016-01-15 00:00:00              0.895447              16.904297  \n",
      "2016-01-15 01:00:00              0.927452              16.634514  \n",
      "2016-01-15 02:00:00              0.953716              16.208849  \n",
      "2016-01-15 03:00:00              0.883763              16.532835  \n",
      "2016-01-15 04:00:00              0.792826              16.525686  \n",
      "\n",
      "[5 rows x 86 columns]\n",
      "       rougher.input.feed_au  rougher.input.feed_ag  rougher.input.feed_pb  \\\n",
      "count           14579.000000           14579.000000           14507.000000   \n",
      "mean                8.352941               8.877460               3.604221   \n",
      "std                 1.934376               1.922536               1.056063   \n",
      "min                 0.010000               0.010000               0.010000   \n",
      "25%                 6.932996               7.341922               2.880490   \n",
      "50%                 8.225284               8.715859               3.532399   \n",
      "75%                 9.832210              10.255843               4.257282   \n",
      "max                13.731330              14.596026               7.052325   \n",
      "\n",
      "       rougher.input.feed_sol  rougher.input.feed_rate  \\\n",
      "count            14502.000000             14572.000000   \n",
      "mean                36.561420               474.332784   \n",
      "std                  5.209823               108.503552   \n",
      "min                  0.010000                 0.002986   \n",
      "25%                 34.093951               411.048483   \n",
      "50%                 37.097511               498.187968   \n",
      "75%                 39.899799               549.586552   \n",
      "max                 53.475325               717.508837   \n",
      "\n",
      "       rougher.input.feed_size  rougher.input.floatbank10_sulfate  \\\n",
      "count             14478.000000                       14548.000000   \n",
      "mean                 58.922712                          12.427399   \n",
      "std                  22.407410                           3.428939   \n",
      "min                   0.049194                           0.001083   \n",
      "25%                  47.278490                          10.002832   \n",
      "50%                  54.361187                          12.003320   \n",
      "75%                  64.464926                          14.929903   \n",
      "max                 484.967466                          36.118275   \n",
      "\n",
      "       rougher.input.floatbank10_xanthate  rougher.state.floatbank10_a_air  \\\n",
      "count                        14572.000000                     14579.000000   \n",
      "mean                             5.994854                      1104.208278   \n",
      "std                              1.152873                       162.235606   \n",
      "min                              0.000568                        -0.042069   \n",
      "25%                              5.304167                       999.644856   \n",
      "50%                              6.003053                      1000.982624   \n",
      "75%                              6.796632                      1292.663971   \n",
      "max                              9.703448                      1512.299531   \n",
      "\n",
      "       rougher.state.floatbank10_a_level  ...  \\\n",
      "count                       14579.000000  ...   \n",
      "mean                         -379.367166  ...   \n",
      "std                            94.652311  ...   \n",
      "min                          -657.949759  ...   \n",
      "25%                          -499.861797  ...   \n",
      "50%                          -300.314199  ...   \n",
      "75%                          -299.989315  ...   \n",
      "max                          -273.776101  ...   \n",
      "\n",
      "       secondary_cleaner.output.tail_sol  final.output.concentrate_au  \\\n",
      "count                       13659.000000                 14579.000000   \n",
      "mean                            7.111347                    43.979499   \n",
      "std                             3.909951                     5.471437   \n",
      "min                             0.000000                     0.000000   \n",
      "25%                             3.784897                    43.345906   \n",
      "50%                             7.629968                    44.975014   \n",
      "75%                            10.367050                    46.275153   \n",
      "max                            26.000772                    52.756638   \n",
      "\n",
      "       final.output.concentrate_ag  final.output.concentrate_pb  \\\n",
      "count                 14578.000000                 14578.000000   \n",
      "mean                      5.192145                     9.923809   \n",
      "std                       1.388014                     1.706976   \n",
      "min                       0.000000                     0.000000   \n",
      "25%                       4.283347                     9.103183   \n",
      "50%                       5.118647                    10.046455   \n",
      "75%                       5.925380                    10.981203   \n",
      "max                      16.001945                    16.705297   \n",
      "\n",
      "       final.output.concentrate_sol  final.output.recovery  \\\n",
      "count                  14387.000000           14579.000000   \n",
      "mean                       9.566676              66.759066   \n",
      "std                        2.805654              10.619709   \n",
      "min                        0.000000               0.000000   \n",
      "25%                        7.860030              63.114596   \n",
      "50%                        9.301970              67.962788   \n",
      "75%                       11.001573              72.598187   \n",
      "max                       19.423912             100.000000   \n",
      "\n",
      "       final.output.tail_au  final.output.tail_ag  final.output.tail_pb  \\\n",
      "count          14579.000000          14578.000000          14504.000000   \n",
      "mean               3.087939              9.731972              2.719985   \n",
      "std                0.915187              2.358143              0.958929   \n",
      "min                0.000000              0.000000              0.000000   \n",
      "25%                2.505287              8.088928              2.036512   \n",
      "50%                3.029238              9.818512              2.774847   \n",
      "75%                3.614098             11.169187              3.353845   \n",
      "max                8.245022             19.552149              5.804178   \n",
      "\n",
      "       final.output.tail_sol  \n",
      "count           14574.000000  \n",
      "mean               10.612745  \n",
      "std                 2.871075  \n",
      "min                 0.000000  \n",
      "25%                 9.013412  \n",
      "50%                10.670515  \n",
      "75%                12.130827  \n",
      "max                22.317730  \n",
      "\n",
      "[8 rows x 86 columns]\n",
      "<class 'pandas.core.frame.DataFrame'>\n",
      "Index: 14579 entries, 2016-01-15 00:00:00 to 2017-12-09 13:59:59\n",
      "Data columns (total 86 columns):\n",
      " #   Column                                              Non-Null Count  Dtype  \n",
      "---  ------                                              --------------  -----  \n",
      " 0   rougher.input.feed_au                               14579 non-null  float64\n",
      " 1   rougher.input.feed_ag                               14579 non-null  float64\n",
      " 2   rougher.input.feed_pb                               14507 non-null  float64\n",
      " 3   rougher.input.feed_sol                              14502 non-null  float64\n",
      " 4   rougher.input.feed_rate                             14572 non-null  float64\n",
      " 5   rougher.input.feed_size                             14478 non-null  float64\n",
      " 6   rougher.input.floatbank10_sulfate                   14548 non-null  float64\n",
      " 7   rougher.input.floatbank10_xanthate                  14572 non-null  float64\n",
      " 8   rougher.state.floatbank10_a_air                     14579 non-null  float64\n",
      " 9   rougher.state.floatbank10_a_level                   14579 non-null  float64\n",
      " 10  rougher.state.floatbank10_b_air                     14579 non-null  float64\n",
      " 11  rougher.state.floatbank10_b_level                   14579 non-null  float64\n",
      " 12  rougher.state.floatbank10_c_air                     14579 non-null  float64\n",
      " 13  rougher.state.floatbank10_c_level                   14579 non-null  float64\n",
      " 14  rougher.state.floatbank10_d_air                     14579 non-null  float64\n",
      " 15  rougher.state.floatbank10_d_level                   14579 non-null  float64\n",
      " 16  rougher.state.floatbank10_e_air                     14150 non-null  float64\n",
      " 17  rougher.state.floatbank10_e_level                   14579 non-null  float64\n",
      " 18  rougher.state.floatbank10_f_air                     14579 non-null  float64\n",
      " 19  rougher.state.floatbank10_f_level                   14579 non-null  float64\n",
      " 20  rougher.input.floatbank11_sulfate                   14543 non-null  float64\n",
      " 21  rougher.input.floatbank11_xanthate                  14172 non-null  float64\n",
      " 22  rougher.calculation.sulfate_to_au_concentrate       14578 non-null  float64\n",
      " 23  rougher.calculation.floatbank10_sulfate_to_au_feed  14578 non-null  float64\n",
      " 24  rougher.calculation.floatbank11_sulfate_to_au_feed  14578 non-null  float64\n",
      " 25  rougher.calculation.au_pb_ratio                     14579 non-null  float64\n",
      " 26  rougher.output.concentrate_au                       14579 non-null  float64\n",
      " 27  rougher.output.concentrate_ag                       14579 non-null  float64\n",
      " 28  rougher.output.concentrate_pb                       14579 non-null  float64\n",
      " 29  rougher.output.concentrate_sol                      14561 non-null  float64\n",
      " 30  rougher.output.recovery                             14579 non-null  float64\n",
      " 31  rougher.output.tail_au                              14579 non-null  float64\n",
      " 32  rougher.output.tail_ag                              14578 non-null  float64\n",
      " 33  rougher.output.tail_pb                              14579 non-null  float64\n",
      " 34  rougher.output.tail_sol                             14579 non-null  float64\n",
      " 35  primary_cleaner.input.sulfate                       14556 non-null  float64\n",
      " 36  primary_cleaner.input.depressant                    14551 non-null  float64\n",
      " 37  primary_cleaner.input.feed_size                     14579 non-null  float64\n",
      " 38  primary_cleaner.input.xanthate                      14518 non-null  float64\n",
      " 39  primary_cleaner.state.floatbank8_a_air              14576 non-null  float64\n",
      " 40  primary_cleaner.state.floatbank8_a_level            14579 non-null  float64\n",
      " 41  primary_cleaner.state.floatbank8_b_air              14576 non-null  float64\n",
      " 42  primary_cleaner.state.floatbank8_b_level            14579 non-null  float64\n",
      " 43  primary_cleaner.state.floatbank8_c_air              14579 non-null  float64\n",
      " 44  primary_cleaner.state.floatbank8_c_level            14579 non-null  float64\n",
      " 45  primary_cleaner.state.floatbank8_d_air              14578 non-null  float64\n",
      " 46  primary_cleaner.state.floatbank8_d_level            14579 non-null  float64\n",
      " 47  primary_cleaner.output.concentrate_au               14579 non-null  float64\n",
      " 48  primary_cleaner.output.concentrate_ag               14579 non-null  float64\n",
      " 49  primary_cleaner.output.concentrate_pb               14491 non-null  float64\n",
      " 50  primary_cleaner.output.concentrate_sol              14314 non-null  float64\n",
      " 51  primary_cleaner.output.tail_au                      14579 non-null  float64\n",
      " 52  primary_cleaner.output.tail_ag                      14575 non-null  float64\n",
      " 53  primary_cleaner.output.tail_pb                      14573 non-null  float64\n",
      " 54  primary_cleaner.output.tail_sol                     14534 non-null  float64\n",
      " 55  secondary_cleaner.state.floatbank2_a_air            14485 non-null  float64\n",
      " 56  secondary_cleaner.state.floatbank2_a_level          14579 non-null  float64\n",
      " 57  secondary_cleaner.state.floatbank2_b_air            14557 non-null  float64\n",
      " 58  secondary_cleaner.state.floatbank2_b_level          14579 non-null  float64\n",
      " 59  secondary_cleaner.state.floatbank3_a_air            14567 non-null  float64\n",
      " 60  secondary_cleaner.state.floatbank3_a_level          14579 non-null  float64\n",
      " 61  secondary_cleaner.state.floatbank3_b_air            14579 non-null  float64\n",
      " 62  secondary_cleaner.state.floatbank3_b_level          14579 non-null  float64\n",
      " 63  secondary_cleaner.state.floatbank4_a_air            14574 non-null  float64\n",
      " 64  secondary_cleaner.state.floatbank4_a_level          14579 non-null  float64\n",
      " 65  secondary_cleaner.state.floatbank4_b_air            14579 non-null  float64\n",
      " 66  secondary_cleaner.state.floatbank4_b_level          14579 non-null  float64\n",
      " 67  secondary_cleaner.state.floatbank5_a_air            14579 non-null  float64\n",
      " 68  secondary_cleaner.state.floatbank5_a_level          14579 non-null  float64\n",
      " 69  secondary_cleaner.state.floatbank5_b_air            14579 non-null  float64\n",
      " 70  secondary_cleaner.state.floatbank5_b_level          14579 non-null  float64\n",
      " 71  secondary_cleaner.state.floatbank6_a_air            14578 non-null  float64\n",
      " 72  secondary_cleaner.state.floatbank6_a_level          14579 non-null  float64\n",
      " 73  secondary_cleaner.output.tail_au                    14579 non-null  float64\n",
      " 74  secondary_cleaner.output.tail_ag                    14578 non-null  float64\n",
      " 75  secondary_cleaner.output.tail_pb                    14575 non-null  float64\n",
      " 76  secondary_cleaner.output.tail_sol                   13659 non-null  float64\n",
      " 77  final.output.concentrate_au                         14579 non-null  float64\n",
      " 78  final.output.concentrate_ag                         14578 non-null  float64\n",
      " 79  final.output.concentrate_pb                         14578 non-null  float64\n",
      " 80  final.output.concentrate_sol                        14387 non-null  float64\n",
      " 81  final.output.recovery                               14579 non-null  float64\n",
      " 82  final.output.tail_au                                14579 non-null  float64\n",
      " 83  final.output.tail_ag                                14578 non-null  float64\n",
      " 84  final.output.tail_pb                                14504 non-null  float64\n",
      " 85  final.output.tail_sol                               14574 non-null  float64\n",
      "dtypes: float64(86)\n",
      "memory usage: 9.7+ MB\n",
      "None\n"
     ]
    }
   ],
   "source": [
    "data_info(df_train)"
   ]
  },
  {
   "cell_type": "code",
   "execution_count": 5,
   "metadata": {},
   "outputs": [
    {
     "name": "stdout",
     "output_type": "stream",
     "text": [
      "Размеры таблицы: (4860, 52)\n",
      "                     rougher.input.feed_au  rougher.input.feed_ag  \\\n",
      "date                                                                \n",
      "2017-12-09 14:59:59               4.365491               6.158718   \n",
      "2017-12-09 15:59:59               4.362781               6.048130   \n",
      "2017-12-09 16:59:59               5.081681               6.082745   \n",
      "2017-12-09 17:59:59               5.145949               6.084374   \n",
      "2017-12-09 18:59:59               5.735249               6.165220   \n",
      "\n",
      "                     rougher.input.feed_pb  rougher.input.feed_sol  \\\n",
      "date                                                                 \n",
      "2017-12-09 14:59:59               3.875727               39.135119   \n",
      "2017-12-09 15:59:59               3.902537               39.713906   \n",
      "2017-12-09 16:59:59               4.564078               37.208683   \n",
      "2017-12-09 17:59:59               4.768124               36.808874   \n",
      "2017-12-09 18:59:59               4.512346               37.810642   \n",
      "\n",
      "                     rougher.input.feed_rate  rougher.input.feed_size  \\\n",
      "date                                                                    \n",
      "2017-12-09 14:59:59               555.820208                94.544358   \n",
      "2017-12-09 15:59:59               544.731687               123.742430   \n",
      "2017-12-09 16:59:59               558.155110                82.610855   \n",
      "2017-12-09 17:59:59               539.713765                77.984784   \n",
      "2017-12-09 18:59:59               558.713584                86.434874   \n",
      "\n",
      "                     rougher.input.floatbank10_sulfate  \\\n",
      "date                                                     \n",
      "2017-12-09 14:59:59                           6.146982   \n",
      "2017-12-09 15:59:59                           6.210119   \n",
      "2017-12-09 16:59:59                           7.363824   \n",
      "2017-12-09 17:59:59                           6.927072   \n",
      "2017-12-09 18:59:59                           7.823471   \n",
      "\n",
      "                     rougher.input.floatbank10_xanthate  \\\n",
      "date                                                      \n",
      "2017-12-09 14:59:59                            9.308612   \n",
      "2017-12-09 15:59:59                            9.297709   \n",
      "2017-12-09 16:59:59                            9.003562   \n",
      "2017-12-09 17:59:59                            8.955597   \n",
      "2017-12-09 18:59:59                            7.490356   \n",
      "\n",
      "                     rougher.state.floatbank10_a_air  \\\n",
      "date                                                   \n",
      "2017-12-09 14:59:59                      1196.238112   \n",
      "2017-12-09 15:59:59                      1201.904177   \n",
      "2017-12-09 16:59:59                      1200.826926   \n",
      "2017-12-09 17:59:59                      1199.292489   \n",
      "2017-12-09 18:59:59                      1198.005449   \n",
      "\n",
      "                     rougher.state.floatbank10_a_level  ...  \\\n",
      "date                                                    ...   \n",
      "2017-12-09 14:59:59                        -299.862743  ...   \n",
      "2017-12-09 15:59:59                        -299.907308  ...   \n",
      "2017-12-09 16:59:59                        -300.124116  ...   \n",
      "2017-12-09 17:59:59                        -299.778385  ...   \n",
      "2017-12-09 18:59:59                        -300.283401  ...   \n",
      "\n",
      "                     secondary_cleaner.state.floatbank4_a_air  \\\n",
      "date                                                            \n",
      "2017-12-09 14:59:59                                 23.018622   \n",
      "2017-12-09 15:59:59                                 23.024963   \n",
      "2017-12-09 16:59:59                                 22.993827   \n",
      "2017-12-09 17:59:59                                 23.032807   \n",
      "2017-12-09 18:59:59                                 23.001911   \n",
      "\n",
      "                     secondary_cleaner.state.floatbank4_a_level  \\\n",
      "date                                                              \n",
      "2017-12-09 14:59:59                                 -500.492702   \n",
      "2017-12-09 15:59:59                                 -501.153409   \n",
      "2017-12-09 16:59:59                                 -501.559663   \n",
      "2017-12-09 17:59:59                                 -501.287889   \n",
      "2017-12-09 18:59:59                                 -499.947838   \n",
      "\n",
      "                     secondary_cleaner.state.floatbank4_b_air  \\\n",
      "date                                                            \n",
      "2017-12-09 14:59:59                                 20.020205   \n",
      "2017-12-09 15:59:59                                 20.054122   \n",
      "2017-12-09 16:59:59                                 20.029144   \n",
      "2017-12-09 17:59:59                                 19.977466   \n",
      "2017-12-09 18:59:59                                 20.023735   \n",
      "\n",
      "                     secondary_cleaner.state.floatbank4_b_level  \\\n",
      "date                                                              \n",
      "2017-12-09 14:59:59                                 -500.220296   \n",
      "2017-12-09 15:59:59                                 -500.314711   \n",
      "2017-12-09 16:59:59                                 -500.000662   \n",
      "2017-12-09 17:59:59                                 -500.159903   \n",
      "2017-12-09 18:59:59                                 -499.713680   \n",
      "\n",
      "                     secondary_cleaner.state.floatbank5_a_air  \\\n",
      "date                                                            \n",
      "2017-12-09 14:59:59                                 17.963512   \n",
      "2017-12-09 15:59:59                                 17.979515   \n",
      "2017-12-09 16:59:59                                 18.012723   \n",
      "2017-12-09 17:59:59                                 17.980463   \n",
      "2017-12-09 18:59:59                                 17.990955   \n",
      "\n",
      "                     secondary_cleaner.state.floatbank5_a_level  \\\n",
      "date                                                              \n",
      "2017-12-09 14:59:59                                 -499.939490   \n",
      "2017-12-09 15:59:59                                 -499.272871   \n",
      "2017-12-09 16:59:59                                 -500.024764   \n",
      "2017-12-09 17:59:59                                 -500.504602   \n",
      "2017-12-09 18:59:59                                 -500.334769   \n",
      "\n",
      "                     secondary_cleaner.state.floatbank5_b_air  \\\n",
      "date                                                            \n",
      "2017-12-09 14:59:59                                 12.990306   \n",
      "2017-12-09 15:59:59                                 12.992404   \n",
      "2017-12-09 16:59:59                                 13.016445   \n",
      "2017-12-09 17:59:59                                 12.949071   \n",
      "2017-12-09 18:59:59                                 13.007523   \n",
      "\n",
      "                     secondary_cleaner.state.floatbank5_b_level  \\\n",
      "date                                                              \n",
      "2017-12-09 14:59:59                                 -500.080993   \n",
      "2017-12-09 15:59:59                                 -499.976268   \n",
      "2017-12-09 16:59:59                                 -500.058432   \n",
      "2017-12-09 17:59:59                                 -500.009937   \n",
      "2017-12-09 18:59:59                                 -499.968459   \n",
      "\n",
      "                     secondary_cleaner.state.floatbank6_a_air  \\\n",
      "date                                                            \n",
      "2017-12-09 14:59:59                                 19.990336   \n",
      "2017-12-09 15:59:59                                 20.013986   \n",
      "2017-12-09 16:59:59                                 19.973767   \n",
      "2017-12-09 17:59:59                                 20.010332   \n",
      "2017-12-09 18:59:59                                 19.995999   \n",
      "\n",
      "                     secondary_cleaner.state.floatbank6_a_level  \n",
      "date                                                             \n",
      "2017-12-09 14:59:59                                 -499.191575  \n",
      "2017-12-09 15:59:59                                 -500.625471  \n",
      "2017-12-09 16:59:59                                 -501.394155  \n",
      "2017-12-09 17:59:59                                 -508.337973  \n",
      "2017-12-09 18:59:59                                 -499.788805  \n",
      "\n",
      "[5 rows x 52 columns]\n",
      "       rougher.input.feed_au  rougher.input.feed_ag  rougher.input.feed_pb  \\\n",
      "count            4860.000000            4860.000000            4832.000000   \n",
      "mean                8.005584               8.547348               3.579662   \n",
      "std                 1.993590               1.958601               1.029377   \n",
      "min                 0.010000               0.010000               0.010000   \n",
      "25%                 6.574363               6.975898               2.903612   \n",
      "50%                 7.812923               8.179714               3.540772   \n",
      "75%                 9.556589              10.084339               4.199847   \n",
      "max                13.417156              14.533698               7.142594   \n",
      "\n",
      "       rougher.input.feed_sol  rougher.input.feed_rate  \\\n",
      "count             4838.000000              4856.000000   \n",
      "mean                37.095864               490.285103   \n",
      "std                  4.926284                94.371623   \n",
      "min                  0.010000                 0.012786   \n",
      "25%                 34.510841               434.099695   \n",
      "50%                 37.499761               502.118742   \n",
      "75%                 40.461315               555.596563   \n",
      "max                 53.477742               702.523396   \n",
      "\n",
      "       rougher.input.feed_size  rougher.input.floatbank10_sulfate  \\\n",
      "count              4816.000000                        4857.000000   \n",
      "mean                 59.113400                          12.055735   \n",
      "std                  19.125122                           3.407642   \n",
      "min                   0.046369                           0.018907   \n",
      "25%                  47.596984                           9.890429   \n",
      "50%                  55.509481                          11.997859   \n",
      "75%                  66.661547                          14.496072   \n",
      "max                 363.989699                          30.010759   \n",
      "\n",
      "       rougher.input.floatbank10_xanthate  rougher.state.floatbank10_a_air  \\\n",
      "count                         4859.000000                      4859.000000   \n",
      "mean                             6.101308                      1108.635895   \n",
      "std                              1.042754                       156.493143   \n",
      "min                              0.015783                       300.792494   \n",
      "25%                              5.499808                       999.715729   \n",
      "50%                              6.099805                      1001.414798   \n",
      "75%                              6.802101                      1202.837565   \n",
      "max                              9.396928                      1521.980372   \n",
      "\n",
      "       rougher.state.floatbank10_a_level  ...  \\\n",
      "count                        4859.000000  ...   \n",
      "mean                         -368.340127  ...   \n",
      "std                            91.155929  ...   \n",
      "min                          -600.568138  ...   \n",
      "25%                          -499.731972  ...   \n",
      "50%                          -300.181367  ...   \n",
      "75%                          -299.961547  ...   \n",
      "max                          -281.039299  ...   \n",
      "\n",
      "       secondary_cleaner.state.floatbank4_a_air  \\\n",
      "count                              4.859000e+03   \n",
      "mean                               1.985770e+01   \n",
      "std                                5.913105e+00   \n",
      "min                                1.079872e-16   \n",
      "25%                                1.501123e+01   \n",
      "50%                                1.996807e+01   \n",
      "75%                                2.498900e+01   \n",
      "max                                3.008450e+01   \n",
      "\n",
      "       secondary_cleaner.state.floatbank4_a_level  \\\n",
      "count                                 4859.000000   \n",
      "mean                                  -488.665140   \n",
      "std                                     44.392714   \n",
      "min                                   -799.704969   \n",
      "25%                                   -500.704004   \n",
      "50%                                   -499.892919   \n",
      "75%                                   -498.652030   \n",
      "max                                   -383.373053   \n",
      "\n",
      "       secondary_cleaner.state.floatbank4_b_air  \\\n",
      "count                              4.859000e+03   \n",
      "mean                               1.557025e+01   \n",
      "std                                4.927361e+00   \n",
      "min                                2.489718e-17   \n",
      "25%                                1.202172e+01   \n",
      "50%                                1.501240e+01   \n",
      "75%                                1.999949e+01   \n",
      "max                                2.398898e+01   \n",
      "\n",
      "       secondary_cleaner.state.floatbank4_b_level  \\\n",
      "count                                 4859.000000   \n",
      "mean                                  -464.176507   \n",
      "std                                     65.706994   \n",
      "min                                   -799.860767   \n",
      "25%                                   -500.196517   \n",
      "50%                                   -499.540776   \n",
      "75%                                   -400.302329   \n",
      "max                                   -114.250832   \n",
      "\n",
      "       secondary_cleaner.state.floatbank5_a_air  \\\n",
      "count                               4859.000000   \n",
      "mean                                  16.594103   \n",
      "std                                    5.724305   \n",
      "min                                   -0.371498   \n",
      "25%                                   11.073822   \n",
      "50%                                   16.631195   \n",
      "75%                                   19.983191   \n",
      "max                                   33.215996   \n",
      "\n",
      "       secondary_cleaner.state.floatbank5_a_level  \\\n",
      "count                                 4859.000000   \n",
      "mean                                  -490.815250   \n",
      "std                                     32.258443   \n",
      "min                                   -797.142475   \n",
      "25%                                   -500.483564   \n",
      "50%                                   -499.873136   \n",
      "75%                                   -498.852815   \n",
      "max                                   -288.963521   \n",
      "\n",
      "       secondary_cleaner.state.floatbank5_b_air  \\\n",
      "count                               4859.000000   \n",
      "mean                                  12.945971   \n",
      "std                                    5.533176   \n",
      "min                                    1.358469   \n",
      "25%                                    9.011890   \n",
      "50%                                   11.999417   \n",
      "75%                                   15.004198   \n",
      "max                                   24.177106   \n",
      "\n",
      "       secondary_cleaner.state.floatbank5_b_level  \\\n",
      "count                                 4859.000000   \n",
      "mean                                  -489.583564   \n",
      "std                                     37.084609   \n",
      "min                                   -800.006180   \n",
      "25%                                   -500.129913   \n",
      "50%                                   -499.955304   \n",
      "75%                                   -499.643776   \n",
      "max                                   -141.934397   \n",
      "\n",
      "       secondary_cleaner.state.floatbank6_a_air  \\\n",
      "count                               4859.000000   \n",
      "mean                                  19.053888   \n",
      "std                                    5.548996   \n",
      "min                                    0.160386   \n",
      "25%                                   14.963953   \n",
      "50%                                   19.960006   \n",
      "75%                                   24.974583   \n",
      "max                                   32.028529   \n",
      "\n",
      "       secondary_cleaner.state.floatbank6_a_level  \n",
      "count                                 4859.000000  \n",
      "mean                                  -504.678924  \n",
      "std                                     38.690186  \n",
      "min                                   -809.734800  \n",
      "25%                                   -500.668501  \n",
      "50%                                   -500.033769  \n",
      "75%                                   -499.460134  \n",
      "max                                   -104.427459  \n",
      "\n",
      "[8 rows x 52 columns]\n",
      "<class 'pandas.core.frame.DataFrame'>\n",
      "Index: 4860 entries, 2017-12-09 14:59:59 to 2018-08-18 10:59:59\n",
      "Data columns (total 52 columns):\n",
      " #   Column                                      Non-Null Count  Dtype  \n",
      "---  ------                                      --------------  -----  \n",
      " 0   rougher.input.feed_au                       4860 non-null   float64\n",
      " 1   rougher.input.feed_ag                       4860 non-null   float64\n",
      " 2   rougher.input.feed_pb                       4832 non-null   float64\n",
      " 3   rougher.input.feed_sol                      4838 non-null   float64\n",
      " 4   rougher.input.feed_rate                     4856 non-null   float64\n",
      " 5   rougher.input.feed_size                     4816 non-null   float64\n",
      " 6   rougher.input.floatbank10_sulfate           4857 non-null   float64\n",
      " 7   rougher.input.floatbank10_xanthate          4859 non-null   float64\n",
      " 8   rougher.state.floatbank10_a_air             4859 non-null   float64\n",
      " 9   rougher.state.floatbank10_a_level           4859 non-null   float64\n",
      " 10  rougher.state.floatbank10_b_air             4859 non-null   float64\n",
      " 11  rougher.state.floatbank10_b_level           4859 non-null   float64\n",
      " 12  rougher.state.floatbank10_c_air             4859 non-null   float64\n",
      " 13  rougher.state.floatbank10_c_level           4859 non-null   float64\n",
      " 14  rougher.state.floatbank10_d_air             4860 non-null   float64\n",
      " 15  rougher.state.floatbank10_d_level           4860 non-null   float64\n",
      " 16  rougher.state.floatbank10_e_air             4853 non-null   float64\n",
      " 17  rougher.state.floatbank10_e_level           4860 non-null   float64\n",
      " 18  rougher.state.floatbank10_f_air             4860 non-null   float64\n",
      " 19  rougher.state.floatbank10_f_level           4860 non-null   float64\n",
      " 20  rougher.input.floatbank11_sulfate           4852 non-null   float64\n",
      " 21  rougher.input.floatbank11_xanthate          4814 non-null   float64\n",
      " 22  primary_cleaner.input.sulfate               4859 non-null   float64\n",
      " 23  primary_cleaner.input.depressant            4851 non-null   float64\n",
      " 24  primary_cleaner.input.feed_size             4860 non-null   float64\n",
      " 25  primary_cleaner.input.xanthate              4817 non-null   float64\n",
      " 26  primary_cleaner.state.floatbank8_a_air      4859 non-null   float64\n",
      " 27  primary_cleaner.state.floatbank8_a_level    4859 non-null   float64\n",
      " 28  primary_cleaner.state.floatbank8_b_air      4859 non-null   float64\n",
      " 29  primary_cleaner.state.floatbank8_b_level    4859 non-null   float64\n",
      " 30  primary_cleaner.state.floatbank8_c_air      4858 non-null   float64\n",
      " 31  primary_cleaner.state.floatbank8_c_level    4859 non-null   float64\n",
      " 32  primary_cleaner.state.floatbank8_d_air      4858 non-null   float64\n",
      " 33  primary_cleaner.state.floatbank8_d_level    4859 non-null   float64\n",
      " 34  secondary_cleaner.state.floatbank2_a_air    4734 non-null   float64\n",
      " 35  secondary_cleaner.state.floatbank2_a_level  4859 non-null   float64\n",
      " 36  secondary_cleaner.state.floatbank2_b_air    4859 non-null   float64\n",
      " 37  secondary_cleaner.state.floatbank2_b_level  4859 non-null   float64\n",
      " 38  secondary_cleaner.state.floatbank3_a_air    4859 non-null   float64\n",
      " 39  secondary_cleaner.state.floatbank3_a_level  4859 non-null   float64\n",
      " 40  secondary_cleaner.state.floatbank3_b_air    4859 non-null   float64\n",
      " 41  secondary_cleaner.state.floatbank3_b_level  4859 non-null   float64\n",
      " 42  secondary_cleaner.state.floatbank4_a_air    4859 non-null   float64\n",
      " 43  secondary_cleaner.state.floatbank4_a_level  4859 non-null   float64\n",
      " 44  secondary_cleaner.state.floatbank4_b_air    4859 non-null   float64\n",
      " 45  secondary_cleaner.state.floatbank4_b_level  4859 non-null   float64\n",
      " 46  secondary_cleaner.state.floatbank5_a_air    4859 non-null   float64\n",
      " 47  secondary_cleaner.state.floatbank5_a_level  4859 non-null   float64\n",
      " 48  secondary_cleaner.state.floatbank5_b_air    4859 non-null   float64\n",
      " 49  secondary_cleaner.state.floatbank5_b_level  4859 non-null   float64\n",
      " 50  secondary_cleaner.state.floatbank6_a_air    4859 non-null   float64\n",
      " 51  secondary_cleaner.state.floatbank6_a_level  4859 non-null   float64\n",
      "dtypes: float64(52)\n",
      "memory usage: 2.0+ MB\n",
      "None\n"
     ]
    }
   ],
   "source": [
    "data_info(df_test)"
   ]
  },
  {
   "cell_type": "code",
   "execution_count": 6,
   "metadata": {
    "scrolled": true
   },
   "outputs": [
    {
     "name": "stdout",
     "output_type": "stream",
     "text": [
      "Размеры таблицы: (19439, 86)\n",
      "                     rougher.input.feed_au  rougher.input.feed_ag  \\\n",
      "date                                                                \n",
      "2016-01-15 00:00:00               6.486150               6.100378   \n",
      "2016-01-15 01:00:00               6.478583               6.161113   \n",
      "2016-01-15 02:00:00               6.362222               6.116455   \n",
      "2016-01-15 03:00:00               6.118189               6.043309   \n",
      "2016-01-15 04:00:00               5.663707               6.060915   \n",
      "\n",
      "                     rougher.input.feed_pb  rougher.input.feed_sol  \\\n",
      "date                                                                 \n",
      "2016-01-15 00:00:00               2.284912               36.808594   \n",
      "2016-01-15 01:00:00               2.266033               35.753385   \n",
      "2016-01-15 02:00:00               2.159622               35.971630   \n",
      "2016-01-15 03:00:00               2.037807               36.862241   \n",
      "2016-01-15 04:00:00               1.786875               34.347666   \n",
      "\n",
      "                     rougher.input.feed_rate  rougher.input.feed_size  \\\n",
      "date                                                                    \n",
      "2016-01-15 00:00:00               523.546326                55.486599   \n",
      "2016-01-15 01:00:00               525.290581                57.278666   \n",
      "2016-01-15 02:00:00               530.026610                57.510649   \n",
      "2016-01-15 03:00:00               542.590390                57.792734   \n",
      "2016-01-15 04:00:00               540.531893                56.047189   \n",
      "\n",
      "                     rougher.input.floatbank10_sulfate  \\\n",
      "date                                                     \n",
      "2016-01-15 00:00:00                          11.986616   \n",
      "2016-01-15 01:00:00                          11.971193   \n",
      "2016-01-15 02:00:00                          11.920603   \n",
      "2016-01-15 03:00:00                          11.630094   \n",
      "2016-01-15 04:00:00                          10.957755   \n",
      "\n",
      "                     rougher.input.floatbank10_xanthate  \\\n",
      "date                                                      \n",
      "2016-01-15 00:00:00                            6.007990   \n",
      "2016-01-15 01:00:00                            6.005766   \n",
      "2016-01-15 02:00:00                            6.197377   \n",
      "2016-01-15 03:00:00                            6.203177   \n",
      "2016-01-15 04:00:00                            6.198826   \n",
      "\n",
      "                     rougher.state.floatbank10_a_air  \\\n",
      "date                                                   \n",
      "2016-01-15 00:00:00                       999.706909   \n",
      "2016-01-15 01:00:00                      1000.286398   \n",
      "2016-01-15 02:00:00                       999.719565   \n",
      "2016-01-15 03:00:00                       999.814770   \n",
      "2016-01-15 04:00:00                       999.678690   \n",
      "\n",
      "                     rougher.state.floatbank10_a_level  ...  \\\n",
      "date                                                    ...   \n",
      "2016-01-15 00:00:00                        -404.066986  ...   \n",
      "2016-01-15 01:00:00                        -400.065196  ...   \n",
      "2016-01-15 02:00:00                        -400.074028  ...   \n",
      "2016-01-15 03:00:00                        -400.200179  ...   \n",
      "2016-01-15 04:00:00                        -399.752729  ...   \n",
      "\n",
      "                     secondary_cleaner.output.tail_sol  \\\n",
      "date                                                     \n",
      "2016-01-15 00:00:00                           8.764648   \n",
      "2016-01-15 01:00:00                           9.001494   \n",
      "2016-01-15 02:00:00                           8.842896   \n",
      "2016-01-15 03:00:00                           9.122857   \n",
      "2016-01-15 04:00:00                           8.871028   \n",
      "\n",
      "                     final.output.concentrate_au  final.output.concentrate_ag  \\\n",
      "date                                                                            \n",
      "2016-01-15 00:00:00                    42.192020                     6.055403   \n",
      "2016-01-15 01:00:00                    42.701629                     6.029369   \n",
      "2016-01-15 02:00:00                    42.657501                     6.055926   \n",
      "2016-01-15 03:00:00                    42.689819                     6.047977   \n",
      "2016-01-15 04:00:00                    42.774141                     6.148599   \n",
      "\n",
      "                     final.output.concentrate_pb  \\\n",
      "date                                               \n",
      "2016-01-15 00:00:00                     9.889648   \n",
      "2016-01-15 01:00:00                     9.968944   \n",
      "2016-01-15 02:00:00                    10.213995   \n",
      "2016-01-15 03:00:00                     9.977019   \n",
      "2016-01-15 04:00:00                    10.142511   \n",
      "\n",
      "                     final.output.concentrate_sol  final.output.recovery  \\\n",
      "date                                                                       \n",
      "2016-01-15 00:00:00                      5.507324              70.541216   \n",
      "2016-01-15 01:00:00                      5.257781              69.266198   \n",
      "2016-01-15 02:00:00                      5.383759              68.116445   \n",
      "2016-01-15 03:00:00                      4.858634              68.347543   \n",
      "2016-01-15 04:00:00                      4.939416              66.927016   \n",
      "\n",
      "                     final.output.tail_au  final.output.tail_ag  \\\n",
      "date                                                              \n",
      "2016-01-15 00:00:00              2.143149             10.411962   \n",
      "2016-01-15 01:00:00              2.224930             10.462676   \n",
      "2016-01-15 02:00:00              2.257889             10.507046   \n",
      "2016-01-15 03:00:00              2.146849             10.422762   \n",
      "2016-01-15 04:00:00              2.055292             10.360302   \n",
      "\n",
      "                     final.output.tail_pb  final.output.tail_sol  \n",
      "date                                                              \n",
      "2016-01-15 00:00:00              0.895447              16.904297  \n",
      "2016-01-15 01:00:00              0.927452              16.634514  \n",
      "2016-01-15 02:00:00              0.953716              16.208849  \n",
      "2016-01-15 03:00:00              0.883763              16.532835  \n",
      "2016-01-15 04:00:00              0.792826              16.525686  \n",
      "\n",
      "[5 rows x 86 columns]\n",
      "       rougher.input.feed_au  rougher.input.feed_ag  rougher.input.feed_pb  \\\n",
      "count           19439.000000           19439.000000           19339.000000   \n",
      "mean                8.266097               8.794927               3.598085   \n",
      "std                 1.955092               1.936847               1.049486   \n",
      "min                 0.010000               0.010000               0.010000   \n",
      "25%                 6.854384               7.237967               2.887280   \n",
      "50%                 8.125839               8.593574               3.534895   \n",
      "75%                 9.769917              10.213771               4.244161   \n",
      "max                13.731330              14.596026               7.142594   \n",
      "\n",
      "       rougher.input.feed_sol  rougher.input.feed_rate  \\\n",
      "count            19340.000000             19428.000000   \n",
      "mean                36.695114               478.320042   \n",
      "std                  5.145445               105.373758   \n",
      "min                  0.010000                 0.002986   \n",
      "25%                 34.207799               416.525453   \n",
      "50%                 37.202650               499.416120   \n",
      "75%                 40.039133               550.172183   \n",
      "max                 53.477742               717.508837   \n",
      "\n",
      "       rougher.input.feed_size  rougher.input.floatbank10_sulfate  \\\n",
      "count             19294.000000                       19405.000000   \n",
      "mean                 58.970310                          12.334373   \n",
      "std                  21.634478                           3.427317   \n",
      "min                   0.046369                           0.001083   \n",
      "25%                  47.435103                          10.000362   \n",
      "50%                  54.610197                          12.001174   \n",
      "75%                  65.023044                          14.716595   \n",
      "max                 484.967466                          36.118275   \n",
      "\n",
      "       rougher.input.floatbank10_xanthate  rougher.state.floatbank10_a_air  \\\n",
      "count                        19431.000000                     19438.000000   \n",
      "mean                             6.021474                      1105.315068   \n",
      "std                              1.127263                       160.826798   \n",
      "min                              0.000568                        -0.042069   \n",
      "25%                              5.398678                       999.661867   \n",
      "50%                              6.008273                      1001.072890   \n",
      "75%                              6.798051                      1205.620588   \n",
      "max                              9.703448                      1521.980372   \n",
      "\n",
      "       rougher.state.floatbank10_a_level  ...  \\\n",
      "count                       19438.000000  ...   \n",
      "mean                         -376.610690  ...   \n",
      "std                            93.909667  ...   \n",
      "min                          -657.949759  ...   \n",
      "25%                          -499.835165  ...   \n",
      "50%                          -300.263994  ...   \n",
      "75%                          -299.981998  ...   \n",
      "max                          -273.776101  ...   \n",
      "\n",
      "       secondary_cleaner.output.tail_sol  final.output.concentrate_au  \\\n",
      "count                       17691.000000                 19439.000000   \n",
      "mean                            7.167247                    44.076513   \n",
      "std                             3.916079                     5.129784   \n",
      "min                             0.000000                     0.000000   \n",
      "25%                             3.845475                    43.402215   \n",
      "50%                             7.685827                    45.011244   \n",
      "75%                            10.411296                    46.275313   \n",
      "max                            26.000772                    52.756638   \n",
      "\n",
      "       final.output.concentrate_ag  final.output.concentrate_pb  \\\n",
      "count                 19438.000000                 19438.000000   \n",
      "mean                      5.168470                     9.978895   \n",
      "std                       1.372348                     1.669240   \n",
      "min                       0.000000                     0.000000   \n",
      "25%                       4.251240                     9.137262   \n",
      "50%                       5.066094                    10.102433   \n",
      "75%                       5.895527                    11.035769   \n",
      "max                      16.001945                    17.031899   \n",
      "\n",
      "       final.output.concentrate_sol  final.output.recovery  \\\n",
      "count                  19228.000000           19439.000000   \n",
      "mean                       9.501224              67.050208   \n",
      "std                        2.787537              10.125840   \n",
      "min                        0.000000               0.000000   \n",
      "25%                        7.722820              63.299712   \n",
      "50%                        9.218961              68.172738   \n",
      "75%                       10.947813              72.686642   \n",
      "max                       19.615720             100.000000   \n",
      "\n",
      "       final.output.tail_au  final.output.tail_ag  final.output.tail_pb  \\\n",
      "count          19439.000000          19438.000000          19338.000000   \n",
      "mean               3.042467              9.688589              2.705795   \n",
      "std                0.922808              2.328642              0.949077   \n",
      "min                0.000000              0.000000              0.000000   \n",
      "25%                2.461138              8.062878              2.040119   \n",
      "50%                2.984909              9.743623              2.748730   \n",
      "75%                3.571351             11.134294              3.333216   \n",
      "max                8.245022             19.552149              5.804178   \n",
      "\n",
      "       final.output.tail_sol  \n",
      "count           19433.000000  \n",
      "mean               10.583728  \n",
      "std                 2.868782  \n",
      "min                 0.000000  \n",
      "25%                 8.938947  \n",
      "50%                10.622456  \n",
      "75%                12.104271  \n",
      "max                22.317730  \n",
      "\n",
      "[8 rows x 86 columns]\n",
      "<class 'pandas.core.frame.DataFrame'>\n",
      "Index: 19439 entries, 2016-01-15 00:00:00 to 2018-08-18 10:59:59\n",
      "Data columns (total 86 columns):\n",
      " #   Column                                              Non-Null Count  Dtype  \n",
      "---  ------                                              --------------  -----  \n",
      " 0   rougher.input.feed_au                               19439 non-null  float64\n",
      " 1   rougher.input.feed_ag                               19439 non-null  float64\n",
      " 2   rougher.input.feed_pb                               19339 non-null  float64\n",
      " 3   rougher.input.feed_sol                              19340 non-null  float64\n",
      " 4   rougher.input.feed_rate                             19428 non-null  float64\n",
      " 5   rougher.input.feed_size                             19294 non-null  float64\n",
      " 6   rougher.input.floatbank10_sulfate                   19405 non-null  float64\n",
      " 7   rougher.input.floatbank10_xanthate                  19431 non-null  float64\n",
      " 8   rougher.state.floatbank10_a_air                     19438 non-null  float64\n",
      " 9   rougher.state.floatbank10_a_level                   19438 non-null  float64\n",
      " 10  rougher.state.floatbank10_b_air                     19438 non-null  float64\n",
      " 11  rougher.state.floatbank10_b_level                   19438 non-null  float64\n",
      " 12  rougher.state.floatbank10_c_air                     19438 non-null  float64\n",
      " 13  rougher.state.floatbank10_c_level                   19438 non-null  float64\n",
      " 14  rougher.state.floatbank10_d_air                     19439 non-null  float64\n",
      " 15  rougher.state.floatbank10_d_level                   19439 non-null  float64\n",
      " 16  rougher.state.floatbank10_e_air                     19003 non-null  float64\n",
      " 17  rougher.state.floatbank10_e_level                   19439 non-null  float64\n",
      " 18  rougher.state.floatbank10_f_air                     19439 non-null  float64\n",
      " 19  rougher.state.floatbank10_f_level                   19439 non-null  float64\n",
      " 20  rougher.input.floatbank11_sulfate                   19395 non-null  float64\n",
      " 21  rougher.input.floatbank11_xanthate                  18986 non-null  float64\n",
      " 22  rougher.calculation.sulfate_to_au_concentrate       19437 non-null  float64\n",
      " 23  rougher.calculation.floatbank10_sulfate_to_au_feed  19437 non-null  float64\n",
      " 24  rougher.calculation.floatbank11_sulfate_to_au_feed  19437 non-null  float64\n",
      " 25  rougher.calculation.au_pb_ratio                     19439 non-null  float64\n",
      " 26  rougher.output.concentrate_au                       19439 non-null  float64\n",
      " 27  rougher.output.concentrate_ag                       19439 non-null  float64\n",
      " 28  rougher.output.concentrate_pb                       19439 non-null  float64\n",
      " 29  rougher.output.concentrate_sol                      19416 non-null  float64\n",
      " 30  rougher.output.recovery                             19439 non-null  float64\n",
      " 31  rougher.output.tail_au                              19439 non-null  float64\n",
      " 32  rougher.output.tail_ag                              19438 non-null  float64\n",
      " 33  rougher.output.tail_pb                              19439 non-null  float64\n",
      " 34  rougher.output.tail_sol                             19439 non-null  float64\n",
      " 35  primary_cleaner.input.sulfate                       19415 non-null  float64\n",
      " 36  primary_cleaner.input.depressant                    19402 non-null  float64\n",
      " 37  primary_cleaner.input.feed_size                     19439 non-null  float64\n",
      " 38  primary_cleaner.input.xanthate                      19335 non-null  float64\n",
      " 39  primary_cleaner.state.floatbank8_a_air              19435 non-null  float64\n",
      " 40  primary_cleaner.state.floatbank8_a_level            19438 non-null  float64\n",
      " 41  primary_cleaner.state.floatbank8_b_air              19435 non-null  float64\n",
      " 42  primary_cleaner.state.floatbank8_b_level            19438 non-null  float64\n",
      " 43  primary_cleaner.state.floatbank8_c_air              19437 non-null  float64\n",
      " 44  primary_cleaner.state.floatbank8_c_level            19438 non-null  float64\n",
      " 45  primary_cleaner.state.floatbank8_d_air              19436 non-null  float64\n",
      " 46  primary_cleaner.state.floatbank8_d_level            19438 non-null  float64\n",
      " 47  primary_cleaner.output.concentrate_au               19439 non-null  float64\n",
      " 48  primary_cleaner.output.concentrate_ag               19439 non-null  float64\n",
      " 49  primary_cleaner.output.concentrate_pb               19323 non-null  float64\n",
      " 50  primary_cleaner.output.concentrate_sol              19069 non-null  float64\n",
      " 51  primary_cleaner.output.tail_au                      19439 non-null  float64\n",
      " 52  primary_cleaner.output.tail_ag                      19435 non-null  float64\n",
      " 53  primary_cleaner.output.tail_pb                      19418 non-null  float64\n",
      " 54  primary_cleaner.output.tail_sol                     19377 non-null  float64\n",
      " 55  secondary_cleaner.state.floatbank2_a_air            19219 non-null  float64\n",
      " 56  secondary_cleaner.state.floatbank2_a_level          19438 non-null  float64\n",
      " 57  secondary_cleaner.state.floatbank2_b_air            19416 non-null  float64\n",
      " 58  secondary_cleaner.state.floatbank2_b_level          19438 non-null  float64\n",
      " 59  secondary_cleaner.state.floatbank3_a_air            19426 non-null  float64\n",
      " 60  secondary_cleaner.state.floatbank3_a_level          19438 non-null  float64\n",
      " 61  secondary_cleaner.state.floatbank3_b_air            19438 non-null  float64\n",
      " 62  secondary_cleaner.state.floatbank3_b_level          19438 non-null  float64\n",
      " 63  secondary_cleaner.state.floatbank4_a_air            19433 non-null  float64\n",
      " 64  secondary_cleaner.state.floatbank4_a_level          19438 non-null  float64\n",
      " 65  secondary_cleaner.state.floatbank4_b_air            19438 non-null  float64\n",
      " 66  secondary_cleaner.state.floatbank4_b_level          19438 non-null  float64\n",
      " 67  secondary_cleaner.state.floatbank5_a_air            19438 non-null  float64\n",
      " 68  secondary_cleaner.state.floatbank5_a_level          19438 non-null  float64\n",
      " 69  secondary_cleaner.state.floatbank5_b_air            19438 non-null  float64\n",
      " 70  secondary_cleaner.state.floatbank5_b_level          19438 non-null  float64\n",
      " 71  secondary_cleaner.state.floatbank6_a_air            19437 non-null  float64\n",
      " 72  secondary_cleaner.state.floatbank6_a_level          19438 non-null  float64\n",
      " 73  secondary_cleaner.output.tail_au                    19439 non-null  float64\n",
      " 74  secondary_cleaner.output.tail_ag                    19437 non-null  float64\n",
      " 75  secondary_cleaner.output.tail_pb                    19427 non-null  float64\n",
      " 76  secondary_cleaner.output.tail_sol                   17691 non-null  float64\n",
      " 77  final.output.concentrate_au                         19439 non-null  float64\n",
      " 78  final.output.concentrate_ag                         19438 non-null  float64\n",
      " 79  final.output.concentrate_pb                         19438 non-null  float64\n",
      " 80  final.output.concentrate_sol                        19228 non-null  float64\n",
      " 81  final.output.recovery                               19439 non-null  float64\n",
      " 82  final.output.tail_au                                19439 non-null  float64\n",
      " 83  final.output.tail_ag                                19438 non-null  float64\n",
      " 84  final.output.tail_pb                                19338 non-null  float64\n",
      " 85  final.output.tail_sol                               19433 non-null  float64\n",
      "dtypes: float64(86)\n",
      "memory usage: 12.9+ MB\n",
      "None\n"
     ]
    }
   ],
   "source": [
    "data_info(df_full)"
   ]
  },
  {
   "cell_type": "markdown",
   "metadata": {},
   "source": [
    "Вывод: исходя из полученных данных, можно заметить, что:\n",
    "- В данных есть пропуски в некоторых столбцах\n",
    "- В тестовой выборке, в отличие от обучающей и полной, отсутрвует часть данных (столбцов)."
   ]
  },
  {
   "cell_type": "markdown",
   "metadata": {},
   "source": [
    "<div class=\"alert alert-success\">\n",
    "<h2> Комментарий ревьюера <a class=\"tocSkip\"> </h2>\n",
    "\n",
    "<b>Все отлично!👍</b> \n",
    "    \n",
    "Данные осмотрели. "
   ]
  },
  {
   "cell_type": "markdown",
   "metadata": {},
   "source": [
    "3. Проверим, что эффективность обогащения рассчитана правильно. Эффективность (rougher.output.recovery) рассчитывается по следующей формуле:"
   ]
  },
  {
   "cell_type": "markdown",
   "metadata": {},
   "source": [
    "$Recovery = \\frac{C*(F-T)}{F*(C-T)} * 100%$"
   ]
  },
  {
   "cell_type": "markdown",
   "metadata": {},
   "source": [
    "где:\n",
    "* C — доля золота в концентрате после флотации/очистки (rougher.output.concentrate_au);\n",
    "* F — доля золота в сырье/концентрате до флотации/очистки (rougher.input.feed_au);\n",
    "* T — доля золота в отвальных хвостах после флотации/очистки (rougher.output.tail_au)."
   ]
  },
  {
   "cell_type": "markdown",
   "metadata": {},
   "source": [
    "Перед расчетом эффективности на обучающей выборке, удалим все пропуски в интересующих нас столбцах "
   ]
  },
  {
   "cell_type": "code",
   "execution_count": 7,
   "metadata": {},
   "outputs": [],
   "source": [
    "df_train.dropna(subset=['rougher.output.concentrate_au', 'rougher.input.feed_au',\n",
    "                                   'rougher.output.tail_au','rougher.output.recovery'], inplace=True)"
   ]
  },
  {
   "cell_type": "code",
   "execution_count": 8,
   "metadata": {},
   "outputs": [],
   "source": [
    "#Создадим константные значения для более удобных вычислений\n",
    "C = df_train['rougher.output.concentrate_au']\n",
    "F = df_train['rougher.input.feed_au']\n",
    "T = df_train['rougher.output.tail_au']\n",
    "train_recovery_old = df_train['rougher.output.recovery']"
   ]
  },
  {
   "cell_type": "code",
   "execution_count": 9,
   "metadata": {},
   "outputs": [],
   "source": [
    "train_recovery_new = ((C * (F - T)) / (F * (C - T))) * 100"
   ]
  },
  {
   "cell_type": "code",
   "execution_count": 10,
   "metadata": {},
   "outputs": [
    {
     "name": "stdout",
     "output_type": "stream",
     "text": [
      "MAE: 9.83758577644259e-15\n"
     ]
    }
   ],
   "source": [
    "#Вычислим MAE между нашими расчетами и значением признака\n",
    "print('MAE:', mean_absolute_error(train_recovery_old, train_recovery_new))"
   ]
  },
  {
   "cell_type": "markdown",
   "metadata": {},
   "source": [
    "Вывод: Полученное значение MAE (средней абсолютной ошибки) довольно небольшое, соответственно можно сделать вывод, что эффективность обогащения в датасете расчитана верно."
   ]
  },
  {
   "cell_type": "markdown",
   "metadata": {},
   "source": [
    "<div class=\"alert alert-success\">\n",
    "<h2> Комментарий ревьюера <a class=\"tocSkip\"> </h2>\n",
    "\n",
    "<b>Все отлично!👍:</b> Оценили `MAE` между исходным и расчётным значением эффективности обогащения и убедились, что эффективность обогащения рассчитана правильно - отлично!\n",
    "</div>"
   ]
  },
  {
   "cell_type": "markdown",
   "metadata": {},
   "source": [
    "4. Проанализируем признаки, недоступные в тестовой выборке. Для этого создадим переменную со столбцами, которых нет в тестовой выборке и выведем их на экран"
   ]
  },
  {
   "cell_type": "code",
   "execution_count": 11,
   "metadata": {},
   "outputs": [
    {
     "data": {
      "text/plain": [
       "Index(['rougher.calculation.sulfate_to_au_concentrate',\n",
       "       'rougher.calculation.floatbank10_sulfate_to_au_feed',\n",
       "       'rougher.calculation.floatbank11_sulfate_to_au_feed',\n",
       "       'rougher.calculation.au_pb_ratio', 'rougher.output.concentrate_au',\n",
       "       'rougher.output.concentrate_ag', 'rougher.output.concentrate_pb',\n",
       "       'rougher.output.concentrate_sol', 'rougher.output.recovery',\n",
       "       'rougher.output.tail_au', 'rougher.output.tail_ag',\n",
       "       'rougher.output.tail_pb', 'rougher.output.tail_sol',\n",
       "       'primary_cleaner.output.concentrate_au',\n",
       "       'primary_cleaner.output.concentrate_ag',\n",
       "       'primary_cleaner.output.concentrate_pb',\n",
       "       'primary_cleaner.output.concentrate_sol',\n",
       "       'primary_cleaner.output.tail_au', 'primary_cleaner.output.tail_ag',\n",
       "       'primary_cleaner.output.tail_pb', 'primary_cleaner.output.tail_sol',\n",
       "       'secondary_cleaner.output.tail_au', 'secondary_cleaner.output.tail_ag',\n",
       "       'secondary_cleaner.output.tail_pb', 'secondary_cleaner.output.tail_sol',\n",
       "       'final.output.concentrate_au', 'final.output.concentrate_ag',\n",
       "       'final.output.concentrate_pb', 'final.output.concentrate_sol',\n",
       "       'final.output.recovery', 'final.output.tail_au', 'final.output.tail_ag',\n",
       "       'final.output.tail_pb', 'final.output.tail_sol'],\n",
       "      dtype='object')"
      ]
     },
     "execution_count": 11,
     "metadata": {},
     "output_type": "execute_result"
    }
   ],
   "source": [
    "unique_columns = df_train.columns.drop(df_test.columns)\n",
    "unique_columns"
   ]
  },
  {
   "cell_type": "code",
   "execution_count": 12,
   "metadata": {},
   "outputs": [
    {
     "data": {
      "text/plain": [
       "rougher.calculation.sulfate_to_au_concentrate         float64\n",
       "rougher.calculation.floatbank10_sulfate_to_au_feed    float64\n",
       "rougher.calculation.floatbank11_sulfate_to_au_feed    float64\n",
       "rougher.calculation.au_pb_ratio                       float64\n",
       "rougher.output.concentrate_au                         float64\n",
       "rougher.output.concentrate_ag                         float64\n",
       "rougher.output.concentrate_pb                         float64\n",
       "rougher.output.concentrate_sol                        float64\n",
       "rougher.output.recovery                               float64\n",
       "rougher.output.tail_au                                float64\n",
       "rougher.output.tail_ag                                float64\n",
       "rougher.output.tail_pb                                float64\n",
       "rougher.output.tail_sol                               float64\n",
       "primary_cleaner.output.concentrate_au                 float64\n",
       "primary_cleaner.output.concentrate_ag                 float64\n",
       "primary_cleaner.output.concentrate_pb                 float64\n",
       "primary_cleaner.output.concentrate_sol                float64\n",
       "primary_cleaner.output.tail_au                        float64\n",
       "primary_cleaner.output.tail_ag                        float64\n",
       "primary_cleaner.output.tail_pb                        float64\n",
       "primary_cleaner.output.tail_sol                       float64\n",
       "secondary_cleaner.output.tail_au                      float64\n",
       "secondary_cleaner.output.tail_ag                      float64\n",
       "secondary_cleaner.output.tail_pb                      float64\n",
       "secondary_cleaner.output.tail_sol                     float64\n",
       "final.output.concentrate_au                           float64\n",
       "final.output.concentrate_ag                           float64\n",
       "final.output.concentrate_pb                           float64\n",
       "final.output.concentrate_sol                          float64\n",
       "final.output.recovery                                 float64\n",
       "final.output.tail_au                                  float64\n",
       "final.output.tail_ag                                  float64\n",
       "final.output.tail_pb                                  float64\n",
       "final.output.tail_sol                                 float64\n",
       "dtype: object"
      ]
     },
     "execution_count": 12,
     "metadata": {},
     "output_type": "execute_result"
    }
   ],
   "source": [
    "df_train[unique_columns].dtypes"
   ]
  },
  {
   "cell_type": "markdown",
   "metadata": {},
   "source": [
    "Вывод:\n",
    "- В тестовом наборе данных отсутствуют столбцы с типами параметра output и calculation. Output - это параметры готового продукта после манипуляций, по сути целевые признаки. Calculation -это расчётные характеристики, которые скорее всего получают уже после завершения процессов. \n",
    "- Также в тестовом наборе отсутствуют целевые признаки - rougher.output.recovery и final.output.recovery - котрые необходимы в дальнейшем для проверки работы модели. В дальнейшем необходимо будет их добавить.\n",
    "- Все эти признаки относятся к одному типу - float."
   ]
  },
  {
   "cell_type": "markdown",
   "metadata": {},
   "source": [
    "<div class=\"alert alert-success\">\n",
    "<h2> Комментарий ревьюера <a class=\"tocSkip\"> </h2>\n",
    "\n",
    "<b>Все отлично!👍:</b> Проанализировали разницу в признаках между выборками. Вывод верный: действительно, в тестовой выборке присутствуют только те параметры техпроцесса, которые мы можем получить непосредственно в ходе процесса или по его окончании.\n",
    "</div>"
   ]
  },
  {
   "cell_type": "markdown",
   "metadata": {},
   "source": [
    "5. Проведем предобработку данных."
   ]
  },
  {
   "cell_type": "markdown",
   "metadata": {},
   "source": [
    "Начнем с тренировочной выборки. Узнаем, какое количество пропусков в процентном соотношении содержится в разных колонках таблицы."
   ]
  },
  {
   "cell_type": "code",
   "execution_count": 13,
   "metadata": {},
   "outputs": [
    {
     "data": {
      "text/plain": [
       "secondary_cleaner.output.tail_sol           6.310447\n",
       "rougher.state.floatbank10_e_air             2.942589\n",
       "rougher.input.floatbank11_xanthate          2.791687\n",
       "primary_cleaner.output.concentrate_sol      1.817683\n",
       "final.output.concentrate_sol                1.316963\n",
       "                                              ...   \n",
       "rougher.input.feed_ag                       0.000000\n",
       "primary_cleaner.state.floatbank8_c_level    0.000000\n",
       "primary_cleaner.state.floatbank8_d_level    0.000000\n",
       "primary_cleaner.output.concentrate_au       0.000000\n",
       "primary_cleaner.state.floatbank8_c_air      0.000000\n",
       "Length: 86, dtype: float64"
      ]
     },
     "execution_count": 13,
     "metadata": {},
     "output_type": "execute_result"
    }
   ],
   "source": [
    "df_train.isnull().sum().sort_values(ascending=False)/ len(df_train)* 100"
   ]
  },
  {
   "cell_type": "markdown",
   "metadata": {},
   "source": [
    "В целом, пропущенных значений не так много, но подать модели такие данные мы не можем. Удалим из датасета пропуски в столбцах с целевыми показателями rougher.output.recovery и final.output.recovery, т.к. эти показатели крайне важны для обучения модели."
   ]
  },
  {
   "cell_type": "code",
   "execution_count": 14,
   "metadata": {},
   "outputs": [
    {
     "data": {
      "text/plain": [
       "rougher.output.recovery    0\n",
       "final.output.recovery      0\n",
       "dtype: int64"
      ]
     },
     "execution_count": 14,
     "metadata": {},
     "output_type": "execute_result"
    }
   ],
   "source": [
    "df_train[['rougher.output.recovery', 'final.output.recovery']].isnull().sum()"
   ]
  },
  {
   "cell_type": "code",
   "execution_count": 15,
   "metadata": {},
   "outputs": [],
   "source": [
    "#df_train = df_train.dropna(subset=['rougher.output.recovery', 'final.output.recovery'])\n",
    "#df_train[['rougher.output.recovery', 'final.output.recovery']].isnull().sum()"
   ]
  },
  {
   "cell_type": "markdown",
   "metadata": {},
   "source": [
    "<div class=\"alert alert-block alert-danger\">\n",
    "<h2> Комментарий ревьюера <a class=\"tocSkip\"></h2>\n",
    "\n",
    "    \n",
    "<b>На доработку❌:</b>\n",
    "\n",
    "А они там есть?"
   ]
  },
  {
   "cell_type": "markdown",
   "metadata": {},
   "source": [
    "<div class=\"alert alert-info\">\n",
    "<h2> Комментарий студента <a class=\"tocSkip\"> </h2>\n",
    "\n",
    "Упсс, видимо я только подумала, что нужно их проверить, а написать код забыла. Увлеклась)\n",
    "    \n",
    "Проверила, действительно нет таких пропусков, закоментировала предыдущий код.\n",
    "</div>"
   ]
  },
  {
   "cell_type": "markdown",
   "metadata": {},
   "source": [
    "<div class=\"alert alert-success\">\n",
    "<h2> Комментарий ревьюера v.2 <a class=\"tocSkip\"> </h2>\n",
    "\n",
    "<b>Все отлично!👍:</b> Учтено."
   ]
  },
  {
   "cell_type": "markdown",
   "metadata": {},
   "source": [
    "Заполним пропуски в других признаках. Так как по условию задачи соседние по времени параметры часто похожи, заполним пропуски методом ffill(), который заполняет нулевые значения данными из предыдущей строки, где данные известны. Параметр axis=0 позволит заполнить пропуски на основании предыдущей строки, данные у нас упорядочены по дате и времени (индексы-даты)"
   ]
  },
  {
   "cell_type": "code",
   "execution_count": 16,
   "metadata": {},
   "outputs": [
    {
     "data": {
      "text/plain": [
       "rougher.input.feed_au                                 0\n",
       "primary_cleaner.output.tail_sol                       0\n",
       "secondary_cleaner.state.floatbank3_b_level            0\n",
       "secondary_cleaner.state.floatbank3_b_air              0\n",
       "secondary_cleaner.state.floatbank3_a_level            0\n",
       "                                                     ..\n",
       "rougher.output.concentrate_ag                         0\n",
       "rougher.output.concentrate_au                         0\n",
       "rougher.calculation.au_pb_ratio                       0\n",
       "rougher.calculation.floatbank11_sulfate_to_au_feed    0\n",
       "final.output.tail_sol                                 0\n",
       "Length: 86, dtype: int64"
      ]
     },
     "execution_count": 16,
     "metadata": {},
     "output_type": "execute_result"
    }
   ],
   "source": [
    "df_train = df_train.ffill(axis=0)\n",
    "df_train.isnull().sum().sort_values(ascending=False)"
   ]
  },
  {
   "cell_type": "markdown",
   "metadata": {},
   "source": [
    "<div class=\"alert alert-success\">\n",
    "<h2> Комментарий ревьюера <a class=\"tocSkip\"> </h2>\n",
    "\n",
    "<b>Все отлично!👍:</b> Обработали пропуски с помощью стратегии заполнения `forward fill`, а также пояснили причину выбора такой стратегии - отлично!\n",
    "</div>"
   ]
  },
  {
   "cell_type": "markdown",
   "metadata": {},
   "source": [
    "Перейдем к тестовой выборке. Добавим в тестовый набор данных целевые признаки, которые возьмем из таблицы df_full."
   ]
  },
  {
   "cell_type": "code",
   "execution_count": 17,
   "metadata": {},
   "outputs": [
    {
     "data": {
      "text/plain": [
       "(4860, 54)"
      ]
     },
     "execution_count": 17,
     "metadata": {},
     "output_type": "execute_result"
    }
   ],
   "source": [
    "df_test = df_test.merge(df_full[['final.output.recovery', 'rougher.output.recovery']].loc[df_test.index], \n",
    "                                             on='date', how='left')\n",
    "df_test.shape"
   ]
  },
  {
   "cell_type": "markdown",
   "metadata": {},
   "source": [
    "<div class=\"alert alert-success\">\n",
    "<h2> Комментарий ревьюера <a class=\"tocSkip\"> </h2>\n",
    "\n",
    "<b>Все отлично!👍:</b> В `test` добавили целевые признаки из `full`, используя дату как ключ при соединении - отлично!"
   ]
  },
  {
   "cell_type": "markdown",
   "metadata": {},
   "source": [
    "Добавили два столбца с целевыми признаками, теперь проверим, есть ли пропуски в целевых признаках."
   ]
  },
  {
   "cell_type": "code",
   "execution_count": 18,
   "metadata": {},
   "outputs": [
    {
     "data": {
      "text/plain": [
       "secondary_cleaner.state.floatbank2_a_air      2.592593\n",
       "rougher.input.floatbank11_xanthate            0.946502\n",
       "rougher.input.feed_size                       0.905350\n",
       "primary_cleaner.input.xanthate                0.884774\n",
       "rougher.input.feed_pb                         0.576132\n",
       "rougher.input.feed_sol                        0.452675\n",
       "primary_cleaner.input.depressant              0.185185\n",
       "rougher.input.floatbank11_sulfate             0.164609\n",
       "rougher.state.floatbank10_e_air               0.144033\n",
       "rougher.input.feed_rate                       0.082305\n",
       "rougher.input.floatbank10_sulfate             0.061728\n",
       "primary_cleaner.state.floatbank8_c_air        0.041152\n",
       "primary_cleaner.state.floatbank8_d_air        0.041152\n",
       "primary_cleaner.state.floatbank8_a_level      0.020576\n",
       "primary_cleaner.state.floatbank8_c_level      0.020576\n",
       "primary_cleaner.state.floatbank8_d_level      0.020576\n",
       "secondary_cleaner.state.floatbank2_b_level    0.020576\n",
       "secondary_cleaner.state.floatbank2_a_level    0.020576\n",
       "secondary_cleaner.state.floatbank2_b_air      0.020576\n",
       "primary_cleaner.state.floatbank8_b_air        0.020576\n",
       "secondary_cleaner.state.floatbank3_a_air      0.020576\n",
       "secondary_cleaner.state.floatbank3_a_level    0.020576\n",
       "secondary_cleaner.state.floatbank3_b_air      0.020576\n",
       "secondary_cleaner.state.floatbank3_b_level    0.020576\n",
       "secondary_cleaner.state.floatbank4_a_air      0.020576\n",
       "secondary_cleaner.state.floatbank4_a_level    0.020576\n",
       "primary_cleaner.state.floatbank8_b_level      0.020576\n",
       "primary_cleaner.input.sulfate                 0.020576\n",
       "secondary_cleaner.state.floatbank5_a_air      0.020576\n",
       "rougher.state.floatbank10_c_level             0.020576\n",
       "rougher.input.floatbank10_xanthate            0.020576\n",
       "rougher.state.floatbank10_a_air               0.020576\n",
       "rougher.state.floatbank10_a_level             0.020576\n",
       "rougher.state.floatbank10_b_air               0.020576\n",
       "rougher.state.floatbank10_b_level             0.020576\n",
       "rougher.state.floatbank10_c_air               0.020576\n",
       "secondary_cleaner.state.floatbank4_b_air      0.020576\n",
       "primary_cleaner.state.floatbank8_a_air        0.020576\n",
       "secondary_cleaner.state.floatbank6_a_level    0.020576\n",
       "secondary_cleaner.state.floatbank6_a_air      0.020576\n",
       "secondary_cleaner.state.floatbank5_b_level    0.020576\n",
       "secondary_cleaner.state.floatbank5_b_air      0.020576\n",
       "secondary_cleaner.state.floatbank4_b_level    0.020576\n",
       "secondary_cleaner.state.floatbank5_a_level    0.020576\n",
       "final.output.recovery                         0.000000\n",
       "rougher.input.feed_au                         0.000000\n",
       "rougher.input.feed_ag                         0.000000\n",
       "primary_cleaner.input.feed_size               0.000000\n",
       "rougher.state.floatbank10_f_level             0.000000\n",
       "rougher.state.floatbank10_f_air               0.000000\n",
       "rougher.state.floatbank10_e_level             0.000000\n",
       "rougher.state.floatbank10_d_level             0.000000\n",
       "rougher.state.floatbank10_d_air               0.000000\n",
       "rougher.output.recovery                       0.000000\n",
       "dtype: float64"
      ]
     },
     "execution_count": 18,
     "metadata": {},
     "output_type": "execute_result"
    }
   ],
   "source": [
    "df_test.isnull().sum().sort_values(ascending=False)/ len(df_test)* 100"
   ]
  },
  {
   "cell_type": "code",
   "execution_count": 19,
   "metadata": {},
   "outputs": [
    {
     "data": {
      "text/plain": [
       "rougher.output.recovery    0\n",
       "final.output.recovery      0\n",
       "dtype: int64"
      ]
     },
     "execution_count": 19,
     "metadata": {},
     "output_type": "execute_result"
    }
   ],
   "source": [
    "df_test[['rougher.output.recovery', 'final.output.recovery']].isnull().sum()"
   ]
  },
  {
   "cell_type": "markdown",
   "metadata": {},
   "source": [
    "Аналогично заменим пропущенные значения методом Ffill()"
   ]
  },
  {
   "cell_type": "code",
   "execution_count": 20,
   "metadata": {},
   "outputs": [
    {
     "data": {
      "text/plain": [
       "rougher.input.feed_au                         0\n",
       "secondary_cleaner.state.floatbank3_b_air      0\n",
       "primary_cleaner.state.floatbank8_b_level      0\n",
       "primary_cleaner.state.floatbank8_c_air        0\n",
       "primary_cleaner.state.floatbank8_c_level      0\n",
       "primary_cleaner.state.floatbank8_d_air        0\n",
       "primary_cleaner.state.floatbank8_d_level      0\n",
       "secondary_cleaner.state.floatbank2_a_air      0\n",
       "secondary_cleaner.state.floatbank2_a_level    0\n",
       "secondary_cleaner.state.floatbank2_b_air      0\n",
       "secondary_cleaner.state.floatbank2_b_level    0\n",
       "secondary_cleaner.state.floatbank3_a_air      0\n",
       "secondary_cleaner.state.floatbank3_a_level    0\n",
       "secondary_cleaner.state.floatbank3_b_level    0\n",
       "rougher.input.feed_ag                         0\n",
       "secondary_cleaner.state.floatbank4_a_air      0\n",
       "secondary_cleaner.state.floatbank4_a_level    0\n",
       "secondary_cleaner.state.floatbank4_b_air      0\n",
       "secondary_cleaner.state.floatbank4_b_level    0\n",
       "secondary_cleaner.state.floatbank5_a_air      0\n",
       "secondary_cleaner.state.floatbank5_a_level    0\n",
       "secondary_cleaner.state.floatbank5_b_air      0\n",
       "secondary_cleaner.state.floatbank5_b_level    0\n",
       "secondary_cleaner.state.floatbank6_a_air      0\n",
       "secondary_cleaner.state.floatbank6_a_level    0\n",
       "final.output.recovery                         0\n",
       "primary_cleaner.state.floatbank8_b_air        0\n",
       "primary_cleaner.state.floatbank8_a_level      0\n",
       "primary_cleaner.state.floatbank8_a_air        0\n",
       "primary_cleaner.input.xanthate                0\n",
       "rougher.input.feed_pb                         0\n",
       "rougher.input.feed_sol                        0\n",
       "rougher.input.feed_rate                       0\n",
       "rougher.input.feed_size                       0\n",
       "rougher.input.floatbank10_sulfate             0\n",
       "rougher.input.floatbank10_xanthate            0\n",
       "rougher.state.floatbank10_a_air               0\n",
       "rougher.state.floatbank10_a_level             0\n",
       "rougher.state.floatbank10_b_air               0\n",
       "rougher.state.floatbank10_b_level             0\n",
       "rougher.state.floatbank10_c_air               0\n",
       "rougher.state.floatbank10_c_level             0\n",
       "rougher.state.floatbank10_d_air               0\n",
       "rougher.state.floatbank10_d_level             0\n",
       "rougher.state.floatbank10_e_air               0\n",
       "rougher.state.floatbank10_e_level             0\n",
       "rougher.state.floatbank10_f_air               0\n",
       "rougher.state.floatbank10_f_level             0\n",
       "rougher.input.floatbank11_sulfate             0\n",
       "rougher.input.floatbank11_xanthate            0\n",
       "primary_cleaner.input.sulfate                 0\n",
       "primary_cleaner.input.depressant              0\n",
       "primary_cleaner.input.feed_size               0\n",
       "rougher.output.recovery                       0\n",
       "dtype: int64"
      ]
     },
     "execution_count": 20,
     "metadata": {},
     "output_type": "execute_result"
    }
   ],
   "source": [
    "df_test = df_test.ffill(axis=0)\n",
    "df_test.isnull().sum().sort_values(ascending=False)"
   ]
  },
  {
   "cell_type": "markdown",
   "metadata": {},
   "source": [
    "Пропусков нет."
   ]
  },
  {
   "cell_type": "markdown",
   "metadata": {},
   "source": [
    "Вывод: Данные предобработаны, в тестовую выборку добавили информацию о целевых признаках rougher.output.recovery и final.output.recovery. Удалены пропуски в столбцах со всеми признаками."
   ]
  },
  {
   "cell_type": "markdown",
   "metadata": {},
   "source": [
    "<div class=\"alert alert-success\">\n",
    "<h2> Комментарий ревьюера <a class=\"tocSkip\"> </h2>\n",
    "\n",
    "<b>Все отлично!👍:</b> Данные подготовлены - отлично!"
   ]
  },
  {
   "cell_type": "markdown",
   "metadata": {},
   "source": [
    "## Анализ данных"
   ]
  },
  {
   "cell_type": "markdown",
   "metadata": {},
   "source": [
    "1. Посмотрим, как меняется концентрация металлов (Au, Ag, Pb) на различных этапах: в сырье, в черновом концентрате, в концентрате после первой очистки и в финальном концентрате. "
   ]
  },
  {
   "cell_type": "markdown",
   "metadata": {},
   "source": [
    "Построим гистограммы для каждого типа металла по этапам очистки. Для построения гистограмм будем использовать датасет с полными данными."
   ]
  },
  {
   "cell_type": "code",
   "execution_count": 21,
   "metadata": {},
   "outputs": [
    {
     "data": {
      "image/png": "[encoded data removed]",
      "text/plain": [
       "<Figure size 1080x720 with 1 Axes>"
      ]
     },
     "metadata": {
      "needs_background": "light"
     },
     "output_type": "display_data"
    }
   ],
   "source": [
    "plt.figure(figsize=(15,10))\n",
    "\n",
    "plt.hist(df_full['rougher.input.feed_au'], bins=100, label = 'Сырье', alpha=.5)\n",
    "plt.hist(df_full['rougher.output.concentrate_au'], bins=100, \n",
    "         label = 'Черновой концентрат', alpha=.5)\n",
    "plt.hist(df_full['primary_cleaner.output.concentrate_au'], bins=100, \n",
    "         label = 'После первой очистки', alpha=.5)\n",
    "plt.hist(df_full['final.output.concentrate_au'], bins=100, \n",
    "         label = 'Финальный концентрат', alpha=.5)\n",
    "\n",
    "plt.xlim([0, 100])\n",
    "plt.ylim([0, 2000])\n",
    "\n",
    "plt.xlabel(\"Концентрация золота на каждом этапе\")\n",
    "plt.ylabel(\"Количество результатов\")\n",
    "\n",
    "plt.legend(loc='upper left')\n",
    "\n",
    "plt.title(\"Распределение концентрации золота на различных этапах\")\n",
    "plt.show()"
   ]
  },
  {
   "cell_type": "markdown",
   "metadata": {},
   "source": [
    "На данной гистограмме четко видно, что с больше этапов очистки сырья было проведено, тем больше концентрация чистого вещества в полученом концентрате. То есть с каждым этапом конценрат все больше содержит чистого вещества - золота. Так и должно быть, т.к. предприятие занимается добычей золота из золотосодержащей руды."
   ]
  },
  {
   "cell_type": "markdown",
   "metadata": {},
   "source": [
    "<div class=\"alert alert-info\">\n",
    "<h2> Комментарий студента <a class=\"tocSkip\"> </h2>\n",
    "\n",
    "Также видим большое количество нулевых значений, что странно, это явно аномалии, в золотосодержащей руде не может не содержаться золото, как и другие примеси. Удалим эти аномалии. Удалять будем сразу из выборки train, т.к. с ней мы будем работать в дальнейшем.\n",
    "</div>"
   ]
  },
  {
   "cell_type": "code",
   "execution_count": 22,
   "metadata": {},
   "outputs": [],
   "source": [
    "df_train = df_train.drop(df_train[ \\\n",
    "    (df_train['rougher.input.feed_au'] == 0) | \\\n",
    "    (df_train['rougher.output.concentrate_au'] == 0) | \\\n",
    "    (df_train['primary_cleaner.output.concentrate_au'] == 0) | \\\n",
    "    (df_train['final.output.concentrate_au'] == 0)].index)"
   ]
  },
  {
   "cell_type": "code",
   "execution_count": 23,
   "metadata": {},
   "outputs": [
    {
     "data": {
      "image/png": "[encoded data removed]",
      "text/plain": [
       "<Figure size 1080x720 with 1 Axes>"
      ]
     },
     "metadata": {
      "needs_background": "light"
     },
     "output_type": "display_data"
    }
   ],
   "source": [
    "plt.figure(figsize=(15,10))\n",
    "\n",
    "plt.hist(df_full['rougher.input.feed_ag'], bins=100, label = 'Сырье', alpha=.5)\n",
    "plt.hist(df_full['rougher.output.concentrate_ag'], bins=100, \n",
    "         label = 'Черновой концентрат', alpha=.5)\n",
    "plt.hist(df_full['primary_cleaner.output.concentrate_ag'], bins=100, \n",
    "         label = 'После первой очистки', alpha=.5)\n",
    "plt.hist(df_full['final.output.concentrate_ag'], bins=100, \n",
    "         label = 'Финальный концентрат', alpha=.5)\n",
    "\n",
    "plt.xlim([0, 50])\n",
    "plt.ylim([0, 2000])\n",
    "\n",
    "plt.xlabel(\"Концентрация серебра на каждом этапе\")\n",
    "plt.ylabel(\"Количество результатов\")\n",
    "\n",
    "plt.legend(loc='upper left')\n",
    "\n",
    "plt.title(\"Распределение концентрации серебра на различных этапах\")\n",
    "plt.show()"
   ]
  },
  {
   "cell_type": "markdown",
   "metadata": {},
   "source": [
    "Концентрация серебра на каждом из этапов имеет другие колебания, но четко видно, что в финальном концентрате его меньше, чем в исходном сырье и концентратах на других этапах очистки."
   ]
  },
  {
   "cell_type": "markdown",
   "metadata": {},
   "source": [
    "<div class=\"alert alert-info\">\n",
    "<h2> Комментарий студента <a class=\"tocSkip\"> </h2>\n",
    "\n",
    "Аналогично удалим нулевые значения из столбцов с содержанием серебра.\n",
    "</div>"
   ]
  },
  {
   "cell_type": "code",
   "execution_count": 24,
   "metadata": {},
   "outputs": [],
   "source": [
    "df_train = df_train.drop(df_train[ \\\n",
    "    (df_train['rougher.input.feed_ag'] == 0) | \\\n",
    "    (df_train['rougher.output.concentrate_ag'] == 0) | \\\n",
    "    (df_train['primary_cleaner.output.concentrate_ag'] == 0) | \\\n",
    "    (df_train['final.output.concentrate_ag'] == 0)].index)"
   ]
  },
  {
   "cell_type": "code",
   "execution_count": 25,
   "metadata": {},
   "outputs": [
    {
     "data": {
      "image/png": "[encoded data removed]",
      "text/plain": [
       "<Figure size 1080x720 with 1 Axes>"
      ]
     },
     "metadata": {
      "needs_background": "light"
     },
     "output_type": "display_data"
    }
   ],
   "source": [
    "plt.figure(figsize=(15,10))\n",
    "\n",
    "plt.hist(df_full['rougher.input.feed_pb'], bins=100, label = 'Сырье', alpha=.5)\n",
    "plt.hist(df_full['rougher.output.concentrate_pb'], bins=100, \n",
    "         label = 'Черновой концентрат', alpha=.5)\n",
    "plt.hist(df_full['primary_cleaner.output.concentrate_pb'], bins=100, \n",
    "         label = 'После первой очистки', alpha=.5)\n",
    "plt.hist(df_full['final.output.concentrate_pb'], bins=100, \n",
    "         label = 'Финальный концентрат', alpha=.5)\n",
    "\n",
    "plt.xlim([0, 50])\n",
    "plt.ylim([0, 2000])\n",
    "\n",
    "plt.xlabel(\"Концентрация свинца на каждом этапе\")\n",
    "plt.ylabel(\"Количество результатов\")\n",
    "\n",
    "plt.legend(loc='upper left')\n",
    "\n",
    "plt.title(\"Распределение концентрации свинца на различных этапах\")\n",
    "plt.show()"
   ]
  },
  {
   "cell_type": "markdown",
   "metadata": {},
   "source": [
    "А вот со свинцом дела обстоят иначе: концентрация в финальном веществе выросла, в сравнении с исходным сырьем. Возможно, это как-то связано с дальнейшей обработкой металла."
   ]
  },
  {
   "cell_type": "markdown",
   "metadata": {},
   "source": [
    "<div class=\"alert alert-info\">\n",
    "<h2> Комментарий студента <a class=\"tocSkip\"> </h2>\n",
    "\n",
    "Со свинцом поступим так же \n",
    "</div>"
   ]
  },
  {
   "cell_type": "code",
   "execution_count": 26,
   "metadata": {},
   "outputs": [],
   "source": [
    "df_train = df_train.drop(df_train[ \\\n",
    "    (df_train['rougher.input.feed_pb'] == 0) | \\\n",
    "    (df_train['rougher.output.concentrate_pb'] == 0) | \\\n",
    "    (df_train['primary_cleaner.output.concentrate_pb'] == 0) | \\\n",
    "    (df_train['final.output.concentrate_pb'] == 0)].index)"
   ]
  },
  {
   "cell_type": "markdown",
   "metadata": {},
   "source": [
    "Вывод: Концентрация металлов в результате очисток меняется следующим образом :\n",
    "- Концентрация золота растет от этапа к этапу\n",
    "- Концентрация серебра уменьшается к финальному этапу очистки\n",
    "- Концентрация свинца растет в ходе очисток, но не так сильно, как золото."
   ]
  },
  {
   "cell_type": "markdown",
   "metadata": {},
   "source": [
    "<div class=\"alert alert-success\">\n",
    "<h2> Комментарий ревьюера <a class=\"tocSkip\"> </h2>\n",
    "\n",
    "<b>Все отлично!👍:</b> Исследована концентрация металлов на разных стадиях обработки, проанализирована динамика концентрации в зависимости от этапа техпроцесса - отлично, тут всё верно."
   ]
  },
  {
   "cell_type": "markdown",
   "metadata": {},
   "source": [
    "<div class=\"alert alert-block alert-danger\">\n",
    "<h2> Комментарий ревьюера <a class=\"tocSkip\"></h2>\n",
    "\n",
    "    \n",
    "<b>На доработку❌:</b>\n",
    "На данном этапе следует также избавиться от аномалий - предполагается, что на этапе анализа суммарной концентрации аномалии уже были обнаружены и удалены. Давай обратим внимание на левую сторону графика по оси Х - все ли значения, которые мы там видим, кажутся адекватными? Для этого стоит убрать `xlim`.\n",
    "    \n",
    "Обрати внимание, что ты анализируешь суммарную концентрацию на `full` выборке, а удалить аномалии важно из `train`, так как на этой выборке мы будем обучать модели, и нам важно обеспечить её чистоту.\n",
    "    \n",
    "Тут можно пойти двумя путями:\n",
    "- если из `train` уже были удалены лишние столбцы, то суммарную концентрацию напрямую не выйдет отфильтровать - в таком случае нужно удалить аномалии из `full`, а потом использовать столбец `date` для очистки `train`: в `train` нужно будет оставить только те строки, `date` которых есть в столбце `date` у `full` выборки - так как из `full` уже будут удалены аномалии, то и дата аномальных замеров будет удалена;\n",
    "- если из `train` ещё не были удалены лишние признаки, то можно очистить `train` напрямую."
   ]
  },
  {
   "cell_type": "markdown",
   "metadata": {},
   "source": [
    "<div class=\"alert alert-info\">\n",
    "<h2> Комментарий студента <a class=\"tocSkip\"> </h2>\n",
    "\n",
    "Из выборки `train` лишние признаки еще не были удалены, поэтому удалю аномалии сразу из `train`. Выше написала код. \n",
    "</div>"
   ]
  },
  {
   "cell_type": "markdown",
   "metadata": {},
   "source": [
    "<div class=\"alert alert-success\">\n",
    "<h2> Комментарий ревьюера v.2 <a class=\"tocSkip\"> </h2>\n",
    "\n",
    "<b>Все отлично!👍:</b> Учтено."
   ]
  },
  {
   "cell_type": "markdown",
   "metadata": {},
   "source": [
    "2. Сравним распределения размеров гранул исходного сырья на обучающей и тестовой выборках."
   ]
  },
  {
   "cell_type": "markdown",
   "metadata": {},
   "source": [
    "Согласно документации, размер гранул сырья определяется параметром feed size. В тестовой выборкевсего есть два столбца с таким параметром - rougher.input.feed_size и primary_cleaner.input.feed_size - размер гранул исходного сырья и размер гранул сырья после первой очистки соответственно. Нам нужен первый из возможных столбцов - rougher.input.feed_size."
   ]
  },
  {
   "cell_type": "markdown",
   "metadata": {},
   "source": [
    "Построим гистограмму, где наложим два распределения друг на друга."
   ]
  },
  {
   "cell_type": "code",
   "execution_count": 27,
   "metadata": {},
   "outputs": [
    {
     "data": {
      "image/png": "[encoded data removed]",
      "text/plain": [
       "<Figure size 1080x720 with 1 Axes>"
      ]
     },
     "metadata": {
      "needs_background": "light"
     },
     "output_type": "display_data"
    }
   ],
   "source": [
    "plt.figure(figsize=(15,10))\n",
    "\n",
    "sns.histplot(df_train['rougher.input.feed_size'], stat='density', label = 'Обучающая выборка', \n",
    "                   bins=100, color='red', legend=True, alpha=.3)\n",
    "sns.histplot(df_test['rougher.input.feed_size'], stat='density', label = 'Тестовая выборка', \n",
    "                   bins=100, color='green', legend=True, alpha=.3)\n",
    "\n",
    "plt.xlabel(\"Размеры гранул исходного сырья\")\n",
    "plt.ylabel(\"Плотность распределения\")\n",
    "\n",
    "plt.legend(loc='upper right')\n",
    "\n",
    "plt.title(\"Распределение размеров гранул исходного сырья\")\n",
    "plt.show()"
   ]
  },
  {
   "cell_type": "markdown",
   "metadata": {},
   "source": [
    "Вывод: данные распределяются примерно одинаково на тестовой и обучающей выборках, значит, оценка модели будет корректной."
   ]
  },
  {
   "cell_type": "markdown",
   "metadata": {},
   "source": [
    "<div class=\"alert alert-success\">\n",
    "<h2> Комментарий ревьюера <a class=\"tocSkip\"> </h2>\n",
    "\n",
    "<b>Все отлично!👍:</b> Сравнили размеры гранул сырья на обучающей и тестовой выборках для этапа `rougher.input.feed_size` - отлично, распределения между выборками действительно схожи, следовательно модель будет корректно работать.\n",
    "    \n",
    "Чуть более интересным решением было бы использование статистического теста (например, `ttest`) для сравнения распределений в выборках."
   ]
  },
  {
   "cell_type": "markdown",
   "metadata": {},
   "source": [
    "<div class=\"alert alert-block alert-danger\">\n",
    "<h2> Комментарий ревьюера <a class=\"tocSkip\"></h2>\n",
    "\n",
    "    \n",
    "<b>На доработку❌:</b> Здесь мы имеем дело с непрерывной величиной - для анализа её распределения стоит использовать нормированную гистограмму (например, `shs.histplot()` с параметром `stat='density'` или `sns.kdeplot()`): гистограммы такого типа позволяют нивелировать разницу в размерах выборок при анализе распределений. Обрати также внимание, что при использовании нормированных гистограмм по оси Y будет уже не частота значений, а плотность распределения.\n",
    "</div>"
   ]
  },
  {
   "cell_type": "markdown",
   "metadata": {},
   "source": [
    "<div class=\"alert alert-info\">\n",
    "<h2> Комментарий студента <a class=\"tocSkip\"> </h2>\n",
    "\n",
    "Исправила, гистограммы все равно очень похожи. \n",
    "</div>"
   ]
  },
  {
   "cell_type": "markdown",
   "metadata": {},
   "source": [
    "<div class=\"alert alert-block alert-danger\">\n",
    "<h2> Комментарий ревьюера v.2 <a class=\"tocSkip\"></h2>\n",
    "\n",
    "    \n",
    "<b>На доработку❌:</b> Так и должно быть:) Старое решение стоит удалить, новый график нужно оформить и увеличить в размерах."
   ]
  },
  {
   "cell_type": "markdown",
   "metadata": {},
   "source": [
    "<div class=\"alert alert-info\">\n",
    "<h2> Комментарий студента v.2 <a class=\"tocSkip\"> </h2>\n",
    "\n",
    "График оформила и увеличила. Первоначальный вариант специально не удаляла, хотела для себя оставить и предыдущий вариант. Ну ладно, удалила)\n",
    "</div>"
   ]
  },
  {
   "cell_type": "markdown",
   "metadata": {},
   "source": [
    "<div class=\"alert alert-success\">\n",
    "<h2> Комментарий ревьюера v.3 <a class=\"tocSkip\"> </h2>\n",
    "\n",
    "<b>Все отлично!👍:</b> А, если это было сознательное решение - окей, я просто подумал, что забыла:) По оформлению - порядок."
   ]
  },
  {
   "cell_type": "markdown",
   "metadata": {},
   "source": [
    "3. Исследуем суммарную концентрацию металлов на разных стадиях: в сырье, в черновом концентрате, в концентрате после первой очистки и в финальном концентрате."
   ]
  },
  {
   "cell_type": "markdown",
   "metadata": {},
   "source": [
    "Создадим столбцы с суммарными концентрациями металлов на каждом из этапов:"
   ]
  },
  {
   "cell_type": "code",
   "execution_count": 28,
   "metadata": {},
   "outputs": [],
   "source": [
    "rougher_input_feed_sum = (df_full['rougher.input.feed_au'] +\n",
    "                        df_full['rougher.input.feed_ag']+\n",
    "                        df_full['rougher.input.feed_pb'])\n",
    "rougher_output_concentrate_sum = (df_full['rougher.output.concentrate_au'] + \n",
    "                                        df_full['rougher.output.concentrate_ag'] + \n",
    "                                        df_full['rougher.output.concentrate_pb'])\n",
    "primary_cleaner_output_concentrate_sum = (df_full['primary_cleaner.output.concentrate_au'] + \n",
    "                                                df_full['primary_cleaner.output.concentrate_ag'] + \n",
    "                                                df_full['primary_cleaner.output.concentrate_pb'])\n",
    "final_output_concentrate_sum = (df_full['final.output.concentrate_au'] + \n",
    "                                      df_full['final.output.concentrate_ag'] + \n",
    "                                      df_full['final.output.concentrate_pb'])"
   ]
  },
  {
   "cell_type": "code",
   "execution_count": 29,
   "metadata": {},
   "outputs": [
    {
     "data": {
      "image/png": "[encoded data removed]",
      "text/plain": [
       "<Figure size 1080x720 with 1 Axes>"
      ]
     },
     "metadata": {
      "needs_background": "light"
     },
     "output_type": "display_data"
    }
   ],
   "source": [
    "plt.figure(figsize=(15,10))\n",
    "\n",
    "plt.hist(rougher_input_feed_sum, bins=100, label = 'Сырье', alpha=.5)\n",
    "plt.hist(rougher_output_concentrate_sum, bins=100, \n",
    "         label = 'Черновой концентрат', alpha=.5)\n",
    "plt.hist(primary_cleaner_output_concentrate_sum, bins=100, \n",
    "         label = 'После первой очистки', alpha=.5)\n",
    "plt.hist(final_output_concentrate_sum, bins=100, \n",
    "         label = 'Финальный концентрат', alpha=.5)\n",
    "\n",
    "plt.xlim([0, 100])\n",
    "plt.ylim([0, 5000])\n",
    "\n",
    "plt.xlabel(\"Концентрация металлов на каждом этапе\")\n",
    "plt.ylabel(\"Количество результатов\")\n",
    "\n",
    "plt.legend(loc='upper left')\n",
    "\n",
    "plt.title(\"Распределение концентрации металлов на различных этапах\")\n",
    "plt.show()"
   ]
  },
  {
   "cell_type": "markdown",
   "metadata": {},
   "source": [
    "На гистограмме четко видно, что концентрация метала растет с каждый этапом обработки. "
   ]
  },
  {
   "cell_type": "markdown",
   "metadata": {},
   "source": [
    "<div class=\"alert alert-success\">\n",
    "<h2> Комментарий ревьюера <a class=\"tocSkip\"> </h2>\n",
    "\n",
    "<b>Все отлично!👍:</b> Исследована суммарная концентрация металлов на разных стадиях техпроцесса - отлично!"
   ]
  },
  {
   "cell_type": "markdown",
   "metadata": {},
   "source": [
    "Также есть довольно большое количество аномальных значений в районе 0. Построим такую же гистограмму для обучающей выборки, посмотрим, как обстоят дела с ней. Ситуация должна быть аналогичной."
   ]
  },
  {
   "cell_type": "code",
   "execution_count": 30,
   "metadata": {},
   "outputs": [],
   "source": [
    "rougher_input_feed_sum_train = (df_train['rougher.input.feed_au'] +\n",
    "                        df_train['rougher.input.feed_ag']+\n",
    "                        df_train['rougher.input.feed_pb'])\n",
    "rougher_output_concentrate_sum_train = (df_train['rougher.output.concentrate_au'] + \n",
    "                                        df_train['rougher.output.concentrate_ag'] + \n",
    "                                        df_train['rougher.output.concentrate_pb'])\n",
    "primary_cleaner_output_concentrate_sum_train = (df_train['primary_cleaner.output.concentrate_au'] + \n",
    "                                                df_train['primary_cleaner.output.concentrate_ag'] + \n",
    "                                                df_train['primary_cleaner.output.concentrate_pb'])\n",
    "final_output_concentrate_sum_train = (df_train['final.output.concentrate_au'] + \n",
    "                                      df_train['final.output.concentrate_ag'] + \n",
    "                                      df_train['final.output.concentrate_pb'])"
   ]
  },
  {
   "cell_type": "code",
   "execution_count": 31,
   "metadata": {},
   "outputs": [
    {
     "data": {
      "image/png": "[encoded data removed]",
      "text/plain": [
       "<Figure size 1080x720 with 1 Axes>"
      ]
     },
     "metadata": {
      "needs_background": "light"
     },
     "output_type": "display_data"
    }
   ],
   "source": [
    "plt.figure(figsize=(15,10))\n",
    "\n",
    "plt.hist(rougher_input_feed_sum_train, bins=100, label = 'Сырье', alpha=.5)\n",
    "plt.hist(rougher_output_concentrate_sum_train, bins=100, \n",
    "         label = 'Черновой концентрат', alpha=.5)\n",
    "plt.hist(primary_cleaner_output_concentrate_sum_train, bins=100, \n",
    "         label = 'После первой очистки', alpha=.5)\n",
    "plt.hist(final_output_concentrate_sum_train, bins=100, \n",
    "         label = 'Финальный концентрат', alpha=.5)\n",
    "\n",
    "plt.xlim([0, 100])\n",
    "plt.ylim([0, 5000])\n",
    "\n",
    "plt.xlabel(\"Концентрация металлов на каждом этапе\")\n",
    "plt.ylabel(\"Количество результатов\")\n",
    "\n",
    "plt.legend(loc='upper left')\n",
    "\n",
    "plt.title(\"Распределение концентрации металлов на различных этапах\")\n",
    "plt.show()"
   ]
  },
  {
   "cell_type": "markdown",
   "metadata": {},
   "source": [
    "<div class=\"alert alert-block alert-danger\">\n",
    "<h2> Комментарий ревьюера <a class=\"tocSkip\"></h2>\n",
    "\n",
    "    \n",
    "<b>На доработку❌:</b>\n",
    "Комментарии о нулевых значениях и их удаление должны быть на этапе анализа индивидуальной концентрации каждого металла - предполагается, что эти аномалии должны были быть замечены ранее, прокомментированы и удалены, и уже на этапе суммарной концентрации мы имеем дело с очищенными данными.\n",
    "    \n",
    "А те нули, которые ты видишь - это не нули, а околонулевые значения - их тоже можно удалять:)"
   ]
  },
  {
   "cell_type": "markdown",
   "metadata": {},
   "source": [
    "<div class=\"alert alert-info\">\n",
    "<h2> Комментарий студента <a class=\"tocSkip\"> </h2>\n",
    "\n",
    "Выше, на этапе анализа концентрации каждого металла, удалила нулевые значения.\n",
    "</div>"
   ]
  },
  {
   "cell_type": "markdown",
   "metadata": {},
   "source": [
    "<div class=\"alert alert-block alert-danger\">\n",
    "<h2> Комментарий ревьюера v.2 <a class=\"tocSkip\"></h2>\n",
    "\n",
    "    \n",
    "<b>На доработку❌:</b> Отсюда работа с аномалиями нужно удалить - проблема уже неактуальна на данном этапе."
   ]
  },
  {
   "cell_type": "markdown",
   "metadata": {},
   "source": [
    "<div class=\"alert alert-info\">\n",
    "<h2> Комментарий студента v.2 <a class=\"tocSkip\"> </h2>\n",
    "\n",
    "Удалила, тоже оставляла для себя, знаю, что не логично и уже не нужно на этом этапе)\n",
    "</div>\n"
   ]
  },
  {
   "cell_type": "markdown",
   "metadata": {},
   "source": [
    "<div class=\"alert alert-success\">\n",
    "<h2> Комментарий ревьюера v.3 <a class=\"tocSkip\"> </h2>\n",
    "\n",
    "<b>Все отлично!👍:</b> Понял:)"
   ]
  },
  {
   "cell_type": "markdown",
   "metadata": {},
   "source": [
    "Вывод: В результате 2 шага было изучено:\n",
    "- меняется концентрация металлов (Au, Ag, Pb) на различных этапах. Концентрация золота увеличивается по мере обработки сырья, серебра - уменьшается, олово- немного увеличивается.\n",
    "- распределения размеров гранул исходного сырья на обучающей и тестовой выборках. Распределения похожи, в дополнительной обработке данные не нуждаются.\n",
    "- суммарную концентрацию металлов на разных стадиях: увеличивается по мере очистки."
   ]
  },
  {
   "cell_type": "markdown",
   "metadata": {},
   "source": [
    "<div class=\"alert alert-success\">\n",
    "<h2> Комментарий ревьюера <a class=\"tocSkip\"> </h2>\n",
    "\n",
    "<b>Все отлично!👍:</b> Хороший промежуточный вывод!\n",
    "</div>"
   ]
  },
  {
   "cell_type": "markdown",
   "metadata": {},
   "source": [
    "## Модель"
   ]
  },
  {
   "cell_type": "markdown",
   "metadata": {},
   "source": [
    "1. Напишем функцию для вычисления итоговой sMAPE."
   ]
  },
  {
   "cell_type": "code",
   "execution_count": 32,
   "metadata": {},
   "outputs": [],
   "source": [
    "# Сначала напишем функцию для вычисления sMAPE\n",
    "def smape (target, predictions):\n",
    "    return 1/ len (target) * np.sum (2 * np.abs (predictions - target) / (np.abs (target) + np.abs (predictions))*100)"
   ]
  },
  {
   "cell_type": "code",
   "execution_count": 33,
   "metadata": {},
   "outputs": [],
   "source": [
    "# Затем функцию итогового sMAPE\n",
    "def final_smape (rougher, final):\n",
    "    return 0.25 * rougher + 0.75 * final"
   ]
  },
  {
   "cell_type": "markdown",
   "metadata": {},
   "source": [
    "<div class=\"alert alert-success\">\n",
    "<h2> Комментарий ревьюера <a class=\"tocSkip\"> </h2>\n",
    "\n",
    "<b>Все отлично!👍:</b> Есть функции для частного и взвешенного `sMAPE` - супер!\n",
    "</div>"
   ]
  },
  {
   "cell_type": "markdown",
   "metadata": {},
   "source": [
    "2. Перед тем как приступитьь к обучению модели, необходимо подготовить признаки и целевые признаки для обучения, а также масштабировать их. "
   ]
  },
  {
   "cell_type": "markdown",
   "metadata": {},
   "source": [
    "Начнем с обучающей выборки:"
   ]
  },
  {
   "cell_type": "code",
   "execution_count": 34,
   "metadata": {},
   "outputs": [
    {
     "data": {
      "text/plain": [
       "(13982, 86)"
      ]
     },
     "execution_count": 34,
     "metadata": {},
     "output_type": "execute_result"
    }
   ],
   "source": [
    "df_train.shape"
   ]
  },
  {
   "cell_type": "code",
   "execution_count": 35,
   "metadata": {},
   "outputs": [
    {
     "name": "stdout",
     "output_type": "stream",
     "text": [
      "(13982,)\n",
      "(13982,)\n"
     ]
    }
   ],
   "source": [
    "#Выделим целевые признаки для обучающей выборки\n",
    "train_target_rougher = df_train['rougher.output.recovery']\n",
    "train_target_final = df_train['final.output.recovery']\n",
    "print(train_target_rougher.shape)\n",
    "print(train_target_final.shape)"
   ]
  },
  {
   "cell_type": "code",
   "execution_count": 36,
   "metadata": {},
   "outputs": [
    {
     "name": "stdout",
     "output_type": "stream",
     "text": [
      "(13982, 52)\n",
      "(13982, 22)\n",
      "<class 'pandas.core.frame.DataFrame'>\n",
      "Index: 13982 entries, 2016-01-15 00:00:00 to 2017-12-09 13:59:59\n",
      "Data columns (total 22 columns):\n",
      " #   Column                              Non-Null Count  Dtype  \n",
      "---  ------                              --------------  -----  \n",
      " 0   rougher.input.feed_au               13982 non-null  float64\n",
      " 1   rougher.input.feed_ag               13982 non-null  float64\n",
      " 2   rougher.input.feed_pb               13982 non-null  float64\n",
      " 3   rougher.input.feed_sol              13982 non-null  float64\n",
      " 4   rougher.input.feed_rate             13982 non-null  float64\n",
      " 5   rougher.input.feed_size             13982 non-null  float64\n",
      " 6   rougher.input.floatbank10_sulfate   13982 non-null  float64\n",
      " 7   rougher.input.floatbank10_xanthate  13982 non-null  float64\n",
      " 8   rougher.state.floatbank10_a_air     13982 non-null  float64\n",
      " 9   rougher.state.floatbank10_a_level   13982 non-null  float64\n",
      " 10  rougher.state.floatbank10_b_air     13982 non-null  float64\n",
      " 11  rougher.state.floatbank10_b_level   13982 non-null  float64\n",
      " 12  rougher.state.floatbank10_c_air     13982 non-null  float64\n",
      " 13  rougher.state.floatbank10_c_level   13982 non-null  float64\n",
      " 14  rougher.state.floatbank10_d_air     13982 non-null  float64\n",
      " 15  rougher.state.floatbank10_d_level   13982 non-null  float64\n",
      " 16  rougher.state.floatbank10_e_air     13982 non-null  float64\n",
      " 17  rougher.state.floatbank10_e_level   13982 non-null  float64\n",
      " 18  rougher.state.floatbank10_f_air     13982 non-null  float64\n",
      " 19  rougher.state.floatbank10_f_level   13982 non-null  float64\n",
      " 20  rougher.input.floatbank11_sulfate   13982 non-null  float64\n",
      " 21  rougher.input.floatbank11_xanthate  13982 non-null  float64\n",
      "dtypes: float64(22)\n",
      "memory usage: 2.5+ MB\n",
      "None\n",
      "<class 'pandas.core.frame.DataFrame'>\n",
      "Index: 13982 entries, 2016-01-15 00:00:00 to 2017-12-09 13:59:59\n",
      "Data columns (total 52 columns):\n",
      " #   Column                                      Non-Null Count  Dtype  \n",
      "---  ------                                      --------------  -----  \n",
      " 0   rougher.input.feed_au                       13982 non-null  float64\n",
      " 1   rougher.input.feed_ag                       13982 non-null  float64\n",
      " 2   rougher.input.feed_pb                       13982 non-null  float64\n",
      " 3   rougher.input.feed_sol                      13982 non-null  float64\n",
      " 4   rougher.input.feed_rate                     13982 non-null  float64\n",
      " 5   rougher.input.feed_size                     13982 non-null  float64\n",
      " 6   rougher.input.floatbank10_sulfate           13982 non-null  float64\n",
      " 7   rougher.input.floatbank10_xanthate          13982 non-null  float64\n",
      " 8   rougher.state.floatbank10_a_air             13982 non-null  float64\n",
      " 9   rougher.state.floatbank10_a_level           13982 non-null  float64\n",
      " 10  rougher.state.floatbank10_b_air             13982 non-null  float64\n",
      " 11  rougher.state.floatbank10_b_level           13982 non-null  float64\n",
      " 12  rougher.state.floatbank10_c_air             13982 non-null  float64\n",
      " 13  rougher.state.floatbank10_c_level           13982 non-null  float64\n",
      " 14  rougher.state.floatbank10_d_air             13982 non-null  float64\n",
      " 15  rougher.state.floatbank10_d_level           13982 non-null  float64\n",
      " 16  rougher.state.floatbank10_e_air             13982 non-null  float64\n",
      " 17  rougher.state.floatbank10_e_level           13982 non-null  float64\n",
      " 18  rougher.state.floatbank10_f_air             13982 non-null  float64\n",
      " 19  rougher.state.floatbank10_f_level           13982 non-null  float64\n",
      " 20  rougher.input.floatbank11_sulfate           13982 non-null  float64\n",
      " 21  rougher.input.floatbank11_xanthate          13982 non-null  float64\n",
      " 22  primary_cleaner.input.sulfate               13982 non-null  float64\n",
      " 23  primary_cleaner.input.depressant            13982 non-null  float64\n",
      " 24  primary_cleaner.input.feed_size             13982 non-null  float64\n",
      " 25  primary_cleaner.input.xanthate              13982 non-null  float64\n",
      " 26  primary_cleaner.state.floatbank8_a_air      13982 non-null  float64\n",
      " 27  primary_cleaner.state.floatbank8_a_level    13982 non-null  float64\n",
      " 28  primary_cleaner.state.floatbank8_b_air      13982 non-null  float64\n",
      " 29  primary_cleaner.state.floatbank8_b_level    13982 non-null  float64\n",
      " 30  primary_cleaner.state.floatbank8_c_air      13982 non-null  float64\n",
      " 31  primary_cleaner.state.floatbank8_c_level    13982 non-null  float64\n",
      " 32  primary_cleaner.state.floatbank8_d_air      13982 non-null  float64\n",
      " 33  primary_cleaner.state.floatbank8_d_level    13982 non-null  float64\n",
      " 34  secondary_cleaner.state.floatbank2_a_air    13982 non-null  float64\n",
      " 35  secondary_cleaner.state.floatbank2_a_level  13982 non-null  float64\n",
      " 36  secondary_cleaner.state.floatbank2_b_air    13982 non-null  float64\n",
      " 37  secondary_cleaner.state.floatbank2_b_level  13982 non-null  float64\n",
      " 38  secondary_cleaner.state.floatbank3_a_air    13982 non-null  float64\n",
      " 39  secondary_cleaner.state.floatbank3_a_level  13982 non-null  float64\n",
      " 40  secondary_cleaner.state.floatbank3_b_air    13982 non-null  float64\n",
      " 41  secondary_cleaner.state.floatbank3_b_level  13982 non-null  float64\n",
      " 42  secondary_cleaner.state.floatbank4_a_air    13982 non-null  float64\n",
      " 43  secondary_cleaner.state.floatbank4_a_level  13982 non-null  float64\n",
      " 44  secondary_cleaner.state.floatbank4_b_air    13982 non-null  float64\n",
      " 45  secondary_cleaner.state.floatbank4_b_level  13982 non-null  float64\n",
      " 46  secondary_cleaner.state.floatbank5_a_air    13982 non-null  float64\n",
      " 47  secondary_cleaner.state.floatbank5_a_level  13982 non-null  float64\n",
      " 48  secondary_cleaner.state.floatbank5_b_air    13982 non-null  float64\n",
      " 49  secondary_cleaner.state.floatbank5_b_level  13982 non-null  float64\n",
      " 50  secondary_cleaner.state.floatbank6_a_air    13982 non-null  float64\n",
      " 51  secondary_cleaner.state.floatbank6_a_level  13982 non-null  float64\n",
      "dtypes: float64(52)\n",
      "memory usage: 5.7+ MB\n",
      "None\n"
     ]
    }
   ],
   "source": [
    "# Предсказание final.output.recovery будем осуществлять на всех признаках, а предсказание rougher.output.recovery\n",
    "# на признаках rougher, потому что будет не совсем правильно предсказывать эффективность обогащения после первого \n",
    "# этапа (флотации) на данных будущих манипуляций с сырьем.\n",
    "train_features_final = df_train.drop(unique_columns, axis=1)\n",
    "print(train_features_final.shape)\n",
    "\n",
    "train_features_rougher = train_features_final.iloc[:, :22]\n",
    "print(train_features_rougher.shape)\n",
    "print(train_features_rougher.info())\n",
    "\n",
    "print(train_features_final.info())"
   ]
  },
  {
   "cell_type": "markdown",
   "metadata": {},
   "source": [
    "Перейдем к тестовой выборке."
   ]
  },
  {
   "cell_type": "code",
   "execution_count": 37,
   "metadata": {},
   "outputs": [
    {
     "name": "stdout",
     "output_type": "stream",
     "text": [
      "(4860,)\n",
      "(4860,)\n"
     ]
    }
   ],
   "source": [
    "# Подготовим признаки и целевые признаки для тестовой выборки.\n",
    "test_target_rougher = df_test['rougher.output.recovery']\n",
    "test_target_final = df_test['final.output.recovery']\n",
    "print(test_target_rougher.shape)\n",
    "print(test_target_final.shape)"
   ]
  },
  {
   "cell_type": "code",
   "execution_count": 38,
   "metadata": {},
   "outputs": [
    {
     "name": "stdout",
     "output_type": "stream",
     "text": [
      "(4860, 52)\n",
      "(4860, 22)\n",
      "<class 'pandas.core.frame.DataFrame'>\n",
      "Index: 4860 entries, 2017-12-09 14:59:59 to 2018-08-18 10:59:59\n",
      "Data columns (total 22 columns):\n",
      " #   Column                              Non-Null Count  Dtype  \n",
      "---  ------                              --------------  -----  \n",
      " 0   rougher.input.feed_au               4860 non-null   float64\n",
      " 1   rougher.input.feed_ag               4860 non-null   float64\n",
      " 2   rougher.input.feed_pb               4860 non-null   float64\n",
      " 3   rougher.input.feed_sol              4860 non-null   float64\n",
      " 4   rougher.input.feed_rate             4860 non-null   float64\n",
      " 5   rougher.input.feed_size             4860 non-null   float64\n",
      " 6   rougher.input.floatbank10_sulfate   4860 non-null   float64\n",
      " 7   rougher.input.floatbank10_xanthate  4860 non-null   float64\n",
      " 8   rougher.state.floatbank10_a_air     4860 non-null   float64\n",
      " 9   rougher.state.floatbank10_a_level   4860 non-null   float64\n",
      " 10  rougher.state.floatbank10_b_air     4860 non-null   float64\n",
      " 11  rougher.state.floatbank10_b_level   4860 non-null   float64\n",
      " 12  rougher.state.floatbank10_c_air     4860 non-null   float64\n",
      " 13  rougher.state.floatbank10_c_level   4860 non-null   float64\n",
      " 14  rougher.state.floatbank10_d_air     4860 non-null   float64\n",
      " 15  rougher.state.floatbank10_d_level   4860 non-null   float64\n",
      " 16  rougher.state.floatbank10_e_air     4860 non-null   float64\n",
      " 17  rougher.state.floatbank10_e_level   4860 non-null   float64\n",
      " 18  rougher.state.floatbank10_f_air     4860 non-null   float64\n",
      " 19  rougher.state.floatbank10_f_level   4860 non-null   float64\n",
      " 20  rougher.input.floatbank11_sulfate   4860 non-null   float64\n",
      " 21  rougher.input.floatbank11_xanthate  4860 non-null   float64\n",
      "dtypes: float64(22)\n",
      "memory usage: 873.3+ KB\n",
      "None\n",
      "<class 'pandas.core.frame.DataFrame'>\n",
      "Index: 4860 entries, 2017-12-09 14:59:59 to 2018-08-18 10:59:59\n",
      "Data columns (total 52 columns):\n",
      " #   Column                                      Non-Null Count  Dtype  \n",
      "---  ------                                      --------------  -----  \n",
      " 0   rougher.input.feed_au                       4860 non-null   float64\n",
      " 1   rougher.input.feed_ag                       4860 non-null   float64\n",
      " 2   rougher.input.feed_pb                       4860 non-null   float64\n",
      " 3   rougher.input.feed_sol                      4860 non-null   float64\n",
      " 4   rougher.input.feed_rate                     4860 non-null   float64\n",
      " 5   rougher.input.feed_size                     4860 non-null   float64\n",
      " 6   rougher.input.floatbank10_sulfate           4860 non-null   float64\n",
      " 7   rougher.input.floatbank10_xanthate          4860 non-null   float64\n",
      " 8   rougher.state.floatbank10_a_air             4860 non-null   float64\n",
      " 9   rougher.state.floatbank10_a_level           4860 non-null   float64\n",
      " 10  rougher.state.floatbank10_b_air             4860 non-null   float64\n",
      " 11  rougher.state.floatbank10_b_level           4860 non-null   float64\n",
      " 12  rougher.state.floatbank10_c_air             4860 non-null   float64\n",
      " 13  rougher.state.floatbank10_c_level           4860 non-null   float64\n",
      " 14  rougher.state.floatbank10_d_air             4860 non-null   float64\n",
      " 15  rougher.state.floatbank10_d_level           4860 non-null   float64\n",
      " 16  rougher.state.floatbank10_e_air             4860 non-null   float64\n",
      " 17  rougher.state.floatbank10_e_level           4860 non-null   float64\n",
      " 18  rougher.state.floatbank10_f_air             4860 non-null   float64\n",
      " 19  rougher.state.floatbank10_f_level           4860 non-null   float64\n",
      " 20  rougher.input.floatbank11_sulfate           4860 non-null   float64\n",
      " 21  rougher.input.floatbank11_xanthate          4860 non-null   float64\n",
      " 22  primary_cleaner.input.sulfate               4860 non-null   float64\n",
      " 23  primary_cleaner.input.depressant            4860 non-null   float64\n",
      " 24  primary_cleaner.input.feed_size             4860 non-null   float64\n",
      " 25  primary_cleaner.input.xanthate              4860 non-null   float64\n",
      " 26  primary_cleaner.state.floatbank8_a_air      4860 non-null   float64\n",
      " 27  primary_cleaner.state.floatbank8_a_level    4860 non-null   float64\n",
      " 28  primary_cleaner.state.floatbank8_b_air      4860 non-null   float64\n",
      " 29  primary_cleaner.state.floatbank8_b_level    4860 non-null   float64\n",
      " 30  primary_cleaner.state.floatbank8_c_air      4860 non-null   float64\n",
      " 31  primary_cleaner.state.floatbank8_c_level    4860 non-null   float64\n",
      " 32  primary_cleaner.state.floatbank8_d_air      4860 non-null   float64\n",
      " 33  primary_cleaner.state.floatbank8_d_level    4860 non-null   float64\n",
      " 34  secondary_cleaner.state.floatbank2_a_air    4860 non-null   float64\n",
      " 35  secondary_cleaner.state.floatbank2_a_level  4860 non-null   float64\n",
      " 36  secondary_cleaner.state.floatbank2_b_air    4860 non-null   float64\n",
      " 37  secondary_cleaner.state.floatbank2_b_level  4860 non-null   float64\n",
      " 38  secondary_cleaner.state.floatbank3_a_air    4860 non-null   float64\n",
      " 39  secondary_cleaner.state.floatbank3_a_level  4860 non-null   float64\n",
      " 40  secondary_cleaner.state.floatbank3_b_air    4860 non-null   float64\n",
      " 41  secondary_cleaner.state.floatbank3_b_level  4860 non-null   float64\n",
      " 42  secondary_cleaner.state.floatbank4_a_air    4860 non-null   float64\n",
      " 43  secondary_cleaner.state.floatbank4_a_level  4860 non-null   float64\n",
      " 44  secondary_cleaner.state.floatbank4_b_air    4860 non-null   float64\n",
      " 45  secondary_cleaner.state.floatbank4_b_level  4860 non-null   float64\n",
      " 46  secondary_cleaner.state.floatbank5_a_air    4860 non-null   float64\n",
      " 47  secondary_cleaner.state.floatbank5_a_level  4860 non-null   float64\n",
      " 48  secondary_cleaner.state.floatbank5_b_air    4860 non-null   float64\n",
      " 49  secondary_cleaner.state.floatbank5_b_level  4860 non-null   float64\n",
      " 50  secondary_cleaner.state.floatbank6_a_air    4860 non-null   float64\n",
      " 51  secondary_cleaner.state.floatbank6_a_level  4860 non-null   float64\n",
      "dtypes: float64(52)\n",
      "memory usage: 2.0+ MB\n",
      "None\n"
     ]
    }
   ],
   "source": [
    "test_features_final = df_test.drop(['rougher.output.recovery', 'final.output.recovery'], axis=1)\n",
    "print(test_features_final.shape)\n",
    "\n",
    "test_features_rougher = test_features_final.iloc[:, :22]\n",
    "print(test_features_rougher.shape)\n",
    "print(test_features_rougher.info())\n",
    "\n",
    "print(test_features_final.info())"
   ]
  },
  {
   "cell_type": "markdown",
   "metadata": {},
   "source": [
    "<div class=\"alert alert-success\">\n",
    "<h2> Комментарий ревьюера <a class=\"tocSkip\"> </h2>\n",
    "\n",
    "<b>Все отлично!👍:</b> Синхронизировали тренировочную и тестовую выборки по набору признаков, выделили признаки для обучения и целевые признаки - отлично!\n",
    "</div>"
   ]
  },
  {
   "cell_type": "markdown",
   "metadata": {},
   "source": [
    "Проведем масштабирование признаков."
   ]
  },
  {
   "cell_type": "code",
   "execution_count": 39,
   "metadata": {},
   "outputs": [],
   "source": [
    "scaler = StandardScaler()\n",
    "scaler.fit(train_features_final)\n",
    "train_features_final = scaler.transform(train_features_final)\n",
    "test_features_final = scaler.transform(test_features_final)"
   ]
  },
  {
   "cell_type": "code",
   "execution_count": 40,
   "metadata": {},
   "outputs": [],
   "source": [
    "scaler = StandardScaler()\n",
    "scaler.fit(train_features_rougher)\n",
    "train_features_rougher = scaler.transform(train_features_rougher)\n",
    "test_features_rougher = scaler.transform(test_features_rougher)"
   ]
  },
  {
   "cell_type": "markdown",
   "metadata": {},
   "source": [
    "<div class=\"alert alert-success\">\n",
    "<h2> Комментарий ревьюера <a class=\"tocSkip\"> </h2>\n",
    "\n",
    "<b>Все отлично!👍:</b> Выполнили масштабирование непрерывных признаков - отлично!\n",
    "</div>"
   ]
  },
  {
   "cell_type": "markdown",
   "metadata": {},
   "source": [
    "3. Обучим разные модели и оценим их качество кросс-валидацией. Обучать будем на предсказание финальной эффективности. Число блоков для кросс-валидации выберем 5."
   ]
  },
  {
   "cell_type": "markdown",
   "metadata": {},
   "source": [
    "3.1. Модель DecisionTreeRegressor"
   ]
  },
  {
   "cell_type": "code",
   "execution_count": 41,
   "metadata": {},
   "outputs": [],
   "source": [
    "scoring = make_scorer(smape, greater_is_better=False)"
   ]
  },
  {
   "cell_type": "code",
   "execution_count": 42,
   "metadata": {},
   "outputs": [
    {
     "name": "stdout",
     "output_type": "stream",
     "text": [
      "sMAPE лучшей модели: 14.107867633187002\n",
      "Глубина лучшей модели: 10\n",
      "Минимальное количество примеров для разделения лучшей модели: 3\n"
     ]
    }
   ],
   "source": [
    "# Оптимизация для final.output.recovery\n",
    "best_model_tree_final = None\n",
    "best_depth_tree_final = 0\n",
    "best_split_tree_final = 0\n",
    "best_result_tree_final = 0\n",
    "for depth in range(1, 11):\n",
    "    for split in range(2, 5):\n",
    "        model_tree_final = DecisionTreeRegressor(random_state=12345, max_depth = depth, min_samples_split = split)\n",
    "        result_tree_final = abs(cross_val_score(model_tree_final, train_features_final, train_target_final, \n",
    "                                          cv=5, scoring=scoring).mean())\n",
    "        if result_tree_final > best_result_tree_final:\n",
    "            best_model_tree_final = model_tree_final\n",
    "            best_depth_tree_final = depth\n",
    "            best_split_tree_final = split\n",
    "            best_result_tree_final = result_tree_final\n",
    "        \n",
    "print(\"sMAPE лучшей модели:\", best_result_tree_final)\n",
    "print (\"Глубина лучшей модели:\", best_depth_tree_final)\n",
    "print (\"Минимальное количество примеров для разделения лучшей модели:\", best_split_tree_final)"
   ]
  },
  {
   "cell_type": "code",
   "execution_count": 43,
   "metadata": {},
   "outputs": [
    {
     "name": "stdout",
     "output_type": "stream",
     "text": [
      "sMAPE лучшей модели: 7.586570838931652\n",
      "Глубина лучшей модели: 10\n",
      "Минимальное количество примеров для разделения лучшей модели: 4\n"
     ]
    }
   ],
   "source": [
    "# Оптимизация для rougher.output.recovery\n",
    "best_model_tree_rougher = None\n",
    "best_depth_tree_rougher= 0\n",
    "best_split_tree_rougher = 0\n",
    "best_result_tree_rougher = 0\n",
    "for depth in range(1, 11):\n",
    "    for split in range(2, 5):\n",
    "        model_tree_rougher = DecisionTreeRegressor(random_state=12345, max_depth = depth, min_samples_split = split)\n",
    "        result_tree_rougher = abs(cross_val_score(model_tree_rougher, train_features_rougher, train_target_rougher, \n",
    "                                          cv=5, scoring=scoring).mean())\n",
    "        if result_tree_rougher > best_result_tree_rougher:\n",
    "            best_model_tree_rougher = model_tree_rougher\n",
    "            best_depth_tree_rougher = depth\n",
    "            best_split_tree_rougher = split\n",
    "            best_result_tree_rougher = result_tree_rougher\n",
    "        \n",
    "print(\"sMAPE лучшей модели:\", best_result_tree_rougher)\n",
    "print (\"Глубина лучшей модели:\", best_depth_tree_rougher)\n",
    "print (\"Минимальное количество примеров для разделения лучшей модели:\", best_split_tree_rougher)"
   ]
  },
  {
   "cell_type": "markdown",
   "metadata": {},
   "source": [
    "Вычислим итоговую sMAPE"
   ]
  },
  {
   "cell_type": "code",
   "execution_count": 44,
   "metadata": {},
   "outputs": [
    {
     "data": {
      "text/plain": [
       "12.477543434623165"
      ]
     },
     "execution_count": 44,
     "metadata": {},
     "output_type": "execute_result"
    }
   ],
   "source": [
    "final_smape(best_result_tree_rougher, best_result_tree_final)"
   ]
  },
  {
   "cell_type": "markdown",
   "metadata": {},
   "source": [
    "<div class=\"alert alert-success\">\n",
    "<h2> Комментарий ревьюера <a class=\"tocSkip\"> </h2>\n",
    "\n",
    "<b>Все отлично!👍:</b>\n",
    "    \n",
    "Оценили `DecisionTreeRegressor` на кросс-валидации - отлично!"
   ]
  },
  {
   "cell_type": "markdown",
   "metadata": {},
   "source": [
    "<div class=\"alert alert-block alert-danger\">\n",
    "<h2> Комментарий ревьюера <a class=\"tocSkip\"></h2>\n",
    "\n",
    "    \n",
    "<b>На доработку❌:</b>\n",
    "\n",
    "Довольно важным моментом является настройка параметра `scoring` - именно он отвечает за метрику, которая будет оценивать качество моделей в ходе кросс-валидации (в том числе при оптимизации гиперпараметров). Если не настроить его, оценка моделей на кросс-валидации будет выполнена по дефолтной метрике регрессионных моделей - `R2`.\n",
    "    \n",
    "Метрика нашего проекта - `sMAPE`, и в базовом наборе метрик `sklearn` она отсутствует - нам придётся сделать свой скорринг. Для этого можно использовать инструмент `make_scorer` (https://scikit-learn.org/stable/modules/generated/sklearn.metrics.make_scorer.html).\n",
    "    \n",
    "Так как метрика `sMAPE` применяется для задач регрессии, то она тем лучше, чем ниже - это нужно учитывать при создании скорринга для кросс-валидации, так как по умолчанию инструменты кросс-валидации вроде `cross_val_score` и `GridSearchCV/RandomizedSearchCV` умеют только максимизировать метрику качества. Поэтому при создании скорринга с помощью `make_scorer` важно настроить параметр `greater_is_better=False`, чтобы оптимизируемая метрика минимизировалась, а не максимизировалась - таким образом задача максимизации будет решаться через задачу минимизации обратной функции.\n",
    "    \n",
    "Также при настройке этого параметра получаемая метрика будет отрицательной: это особеность работы `make_scorer` с настроенным параметром `greater_is_better=False`. Поэтому при выводе метрики на экран её стоит сделать положительной: взять по модулю, домножить на `-1` или просто указать `-` при выводе на экран, вроде `print(-a)`.\n",
    "</div>"
   ]
  },
  {
   "cell_type": "markdown",
   "metadata": {},
   "source": [
    "<div class=\"alert alert-info\">\n",
    "<h2> Комментарий студента <a class=\"tocSkip\"> </h2>\n",
    "\n",
    "Добавила scoring и выполнила оптимизацию параметров для дерева и леса.\n",
    "</div>"
   ]
  },
  {
   "cell_type": "markdown",
   "metadata": {},
   "source": [
    "<div class=\"alert alert-block alert-danger\">\n",
    "<h2> Комментарий ревьюера v.2 <a class=\"tocSkip\"></h2>\n",
    "\n",
    "    \n",
    "<b>На доработку❌:</b> Неактуальные решения нужно удалить."
   ]
  },
  {
   "cell_type": "markdown",
   "metadata": {},
   "source": [
    "<div class=\"alert alert-info\">\n",
    "<h2> Комментарий студента v.2 <a class=\"tocSkip\"> </h2>\n",
    "\n",
    "Удалила.\n",
    "</div>\n"
   ]
  },
  {
   "cell_type": "markdown",
   "metadata": {},
   "source": [
    "<div class=\"alert alert-success\">\n",
    "<h2> Комментарий ревьюера v.3 <a class=\"tocSkip\"> </h2>\n",
    "\n",
    "<b>Все отлично!👍:</b> Учтено."
   ]
  },
  {
   "cell_type": "markdown",
   "metadata": {},
   "source": [
    "3.2. Модель RandomForestRegressor"
   ]
  },
  {
   "cell_type": "code",
   "execution_count": 45,
   "metadata": {},
   "outputs": [
    {
     "name": "stdout",
     "output_type": "stream",
     "text": [
      "sMAPE лучшей модели: 10.35194009466912\n",
      "Количество деревьев лучшей модели: 5\n",
      "Глубина лучшей модели: 5\n"
     ]
    }
   ],
   "source": [
    "# Оптимизация для final.output.recovery\n",
    "best_model_forest_final = None\n",
    "best_est_forest_final = 0\n",
    "best_depth_forest_final = 0\n",
    "best_result_forest_final = 0\n",
    "for est in range(5, 31, 5):\n",
    "    for depth in range(1, 6):\n",
    "        model_forest_final = RandomForestRegressor(random_state=12345, n_estimators=est, max_depth = depth) \n",
    "        result_forest_final = abs(cross_val_score(model_forest_final, train_features_final, train_target_final, \n",
    "                                            cv=3, scoring=scoring).mean())\n",
    "        if result_forest_final > best_result_forest_final:\n",
    "            best_model_forest_final = model_forest_final\n",
    "            best_est_forest_final = est\n",
    "            best_depth_forest_final = depth\n",
    "            best_result_forest_final = result_forest_final\n",
    "        \n",
    "print(\"sMAPE лучшей модели:\", best_result_forest_final)\n",
    "print(\"Количество деревьев лучшей модели:\", best_est_forest_final)\n",
    "print (\"Глубина лучшей модели:\", best_depth_forest_final)"
   ]
  },
  {
   "cell_type": "code",
   "execution_count": 46,
   "metadata": {},
   "outputs": [
    {
     "name": "stdout",
     "output_type": "stream",
     "text": [
      "sMAPE лучшей модели: 8.023196465320295\n",
      "Количество деревьев лучшей модели: 25\n",
      "Глубина лучшей модели: 1\n"
     ]
    }
   ],
   "source": [
    "# Оптимизация для rougher.output.recovery\n",
    "best_model_forest_rougher = None\n",
    "best_est_forest_rougher = 0\n",
    "best_depth_forest_rougher = 0\n",
    "best_result_forest_rougher = 0\n",
    "for est in range(5, 31, 5):\n",
    "    for depth in range(1, 6):\n",
    "        model_forest_rougher = RandomForestRegressor(random_state=12345, n_estimators=est, max_depth = depth) \n",
    "        result_forest_rougher = abs(cross_val_score(model_forest_rougher, train_features_rougher, \n",
    "                                                    train_target_rougher, cv=3, scoring=scoring).mean())\n",
    "        if result_forest_rougher > best_result_forest_rougher:\n",
    "            best_model_forest_rougher = model_forest_rougher\n",
    "            best_est_forest_rougher = est\n",
    "            best_depth_forest_rougher = depth\n",
    "            best_result_forest_rougher = result_forest_rougher\n",
    "        \n",
    "print(\"sMAPE лучшей модели:\", best_result_forest_rougher)\n",
    "print(\"Количество деревьев лучшей модели:\", best_est_forest_rougher)\n",
    "print (\"Глубина лучшей модели:\", best_depth_forest_rougher)"
   ]
  },
  {
   "cell_type": "markdown",
   "metadata": {},
   "source": [
    "Вычислим итоговую sMAPE"
   ]
  },
  {
   "cell_type": "code",
   "execution_count": 47,
   "metadata": {},
   "outputs": [
    {
     "data": {
      "text/plain": [
       "9.769754187331914"
      ]
     },
     "execution_count": 47,
     "metadata": {},
     "output_type": "execute_result"
    }
   ],
   "source": [
    "final_smape(best_result_forest_rougher, best_result_forest_final)"
   ]
  },
  {
   "cell_type": "markdown",
   "metadata": {},
   "source": [
    "<div class=\"alert alert-success\">\n",
    "<h2> Комментарий ревьюера <a class=\"tocSkip\"> </h2>\n",
    "\n",
    "<b>Все отлично!👍:</b>\n",
    "    \n",
    "Оценили `RandomForestRegressor` на кросс-валидации - отлично!"
   ]
  },
  {
   "cell_type": "markdown",
   "metadata": {},
   "source": [
    "<div class=\"alert alert-block alert-danger\">\n",
    "<h2> Комментарий ревьюера v.2 <a class=\"tocSkip\"></h2>\n",
    "\n",
    "    \n",
    "<b>На доработку❌:</b>\n",
    "1. Для гиперапараметра `n_estimators` оценивается очень короткая последовательность: по-настоящему этот алгоритм раскрывается при большом количестве деревьев. При поиске оптимального значения стоит исследовать более широкую последовательность с большим шагом - так шансы найти оптимальное количество деревьев выше, чем исследование короткой последовательности с маленьким шагом."
   ]
  },
  {
   "cell_type": "markdown",
   "metadata": {},
   "source": [
    "<div class=\"alert alert-info\">\n",
    "<h2> Комментарий студента v.2 <a class=\"tocSkip\"> </h2>\n",
    "\n",
    "Исправила. Меня смутил тот факт, что на подбор партаметров у леса уходит очень много времени. \n",
    "</div>\n"
   ]
  },
  {
   "cell_type": "markdown",
   "metadata": {},
   "source": [
    "<div class=\"alert alert-success\">\n",
    "<h2> Комментарий ревьюера v.3 <a class=\"tocSkip\"> </h2>\n",
    "\n",
    "<b>Все отлично!👍:</b> Особенность работы случайного леса на платформе. Если работать локально или на платформе - проблем обычно не бывает:)"
   ]
  },
  {
   "cell_type": "markdown",
   "metadata": {},
   "source": [
    "3.3. Модель LinearRegression"
   ]
  },
  {
   "cell_type": "code",
   "execution_count": 56,
   "metadata": {},
   "outputs": [],
   "source": [
    "model_regression = LinearRegression()"
   ]
  },
  {
   "cell_type": "code",
   "execution_count": 59,
   "metadata": {},
   "outputs": [
    {
     "data": {
      "text/plain": [
       "9.477249908910006"
      ]
     },
     "execution_count": 59,
     "metadata": {},
     "output_type": "execute_result"
    }
   ],
   "source": [
    "# sMAPE для final.output.recovery\n",
    "smape_regression_final = abs(cross_val_score(model_regression, train_features_final, train_target_final, \n",
    "                          cv=5, scoring=scoring).mean())\n",
    "smape_regression_final"
   ]
  },
  {
   "cell_type": "code",
   "execution_count": 60,
   "metadata": {},
   "outputs": [
    {
     "data": {
      "text/plain": [
       "6.530851702013395"
      ]
     },
     "execution_count": 60,
     "metadata": {},
     "output_type": "execute_result"
    }
   ],
   "source": [
    "# sMAPE для rougher.output.recovery\n",
    "smape_regression_rougher = abs(cross_val_score(model_regression, train_features_rougher, train_target_rougher, \n",
    "                          cv=5, scoring=scoring).mean())\n",
    "smape_regression_rougher"
   ]
  },
  {
   "cell_type": "markdown",
   "metadata": {},
   "source": [
    "Вычислим итоговую sMAPE"
   ]
  },
  {
   "cell_type": "code",
   "execution_count": 61,
   "metadata": {},
   "outputs": [
    {
     "data": {
      "text/plain": [
       "8.740650357185853"
      ]
     },
     "execution_count": 61,
     "metadata": {},
     "output_type": "execute_result"
    }
   ],
   "source": [
    "final_smape(smape_regression_rougher, smape_regression_final)"
   ]
  },
  {
   "cell_type": "markdown",
   "metadata": {},
   "source": [
    "<div class=\"alert alert-success\">\n",
    "<h2> Комментарий ревьюера <a class=\"tocSkip\"> </h2>\n",
    "\n",
    "<b>Все отлично!👍:</b>\n",
    "    \n",
    "Оценили `LinearRegression` на кросс-валидации - отлично!"
   ]
  },
  {
   "cell_type": "markdown",
   "metadata": {},
   "source": [
    "<div class=\"alert alert-block alert-danger\">\n",
    "<h2> Комментарий ревьюера <a class=\"tocSkip\"></h2>\n",
    "\n",
    "    \n",
    "<b>На доработку❌:</b>\n",
    "\n",
    "Хотя бы для одной модели нужно выполнить оптимизацию не менее двух гиперпараметров."
   ]
  },
  {
   "cell_type": "markdown",
   "metadata": {},
   "source": [
    "<div class=\"alert alert-info\">\n",
    "<h2> Комментарий студента <a class=\"tocSkip\"> </h2>\n",
    "\n",
    "Исправила. Результат не изменился - лучшая модель все еще Линейная регрессия.\n",
    "</div>"
   ]
  },
  {
   "cell_type": "markdown",
   "metadata": {},
   "source": [
    "<div class=\"alert alert-block alert-danger\">\n",
    "<h2> Комментарий ревьюера v.2 <a class=\"tocSkip\"></h2>\n",
    "\n",
    "    \n",
    "<b>На доработку❌:</b>\n",
    "\n",
    "Оптимизация выполнена только для одного целевого признака - нужно выполнить для двух отдельно и посчитать итоговую `sMAPE` по каждой модели на основе двух оценок."
   ]
  },
  {
   "cell_type": "markdown",
   "metadata": {},
   "source": [
    "<div class=\"alert alert-info\">\n",
    "<h2> Комментарий студента v.2 <a class=\"tocSkip\"> </h2>\n",
    "\n",
    "Исправила. Посчитала sMAPE для каждого целевого признака в каждой модели и посчитала итоговую sMAPE.\n",
    "</div>\n"
   ]
  },
  {
   "cell_type": "markdown",
   "metadata": {},
   "source": [
    "<div class=\"alert alert-success\">\n",
    "<h2> Комментарий ревьюера v.3 <a class=\"tocSkip\"> </h2>\n",
    "\n",
    "<b>Все отлично!👍:</b> Учтено."
   ]
  },
  {
   "cell_type": "markdown",
   "metadata": {},
   "source": [
    "Лучше всего сработала модель Линейной регресии."
   ]
  },
  {
   "cell_type": "markdown",
   "metadata": {},
   "source": [
    "<div class=\"alert alert-success\">\n",
    "<h2> Комментарий ревьюера <a class=\"tocSkip\"> </h2>\n",
    "\n",
    "<b>Все отлично!👍:</b>\n",
    "    \n",
    "Лучшая модель выбрана. Тем не менее результат может измениться после устранения замечаний выше."
   ]
  },
  {
   "cell_type": "markdown",
   "metadata": {},
   "source": [
    "4. Обучим модель линейной регрессии для каждого из целевых признаков и получим предсказания на тестовой выборке."
   ]
  },
  {
   "cell_type": "code",
   "execution_count": 50,
   "metadata": {},
   "outputs": [],
   "source": [
    "model_regression_final = LinearRegression()\n",
    "model_regression_final.fit(train_features_final, train_target_final)\n",
    "predictions_test_final = model_regression_final.predict(test_features_final)"
   ]
  },
  {
   "cell_type": "code",
   "execution_count": 51,
   "metadata": {},
   "outputs": [],
   "source": [
    "model_regression_rougher = LinearRegression()\n",
    "model_regression_rougher.fit(train_features_rougher, train_target_rougher)\n",
    "predictions_test_rougher = model_regression_rougher.predict(test_features_rougher)"
   ]
  },
  {
   "cell_type": "markdown",
   "metadata": {},
   "source": [
    "Сделаем расчет итогового sMAPE"
   ]
  },
  {
   "cell_type": "code",
   "execution_count": 52,
   "metadata": {},
   "outputs": [
    {
     "data": {
      "text/plain": [
       "7.198601157871658"
      ]
     },
     "execution_count": 52,
     "metadata": {},
     "output_type": "execute_result"
    }
   ],
   "source": [
    "smape_rougher = smape(test_target_rougher, predictions_test_rougher)\n",
    "smape_final = smape(test_target_final, predictions_test_final)\n",
    "final = final_smape(smape_rougher, smape_final)\n",
    "final"
   ]
  },
  {
   "cell_type": "markdown",
   "metadata": {},
   "source": [
    "Вывод: симметричное среднее абсолютное процентное отклонение составило 7,2%"
   ]
  },
  {
   "cell_type": "markdown",
   "metadata": {},
   "source": [
    "<div class=\"alert alert-success\">\n",
    "    \n",
    "<h2> Комментарий ревьюера <a class=\"tocSkip\"> </h2>\n",
    "\n",
    "<b>Все отлично!👍:</b> Лучшую модель оценили на `test` - отличный результат!"
   ]
  },
  {
   "cell_type": "markdown",
   "metadata": {},
   "source": [
    "<div class=\"alert alert-block alert-danger\">\n",
    "<h2> Комментарий ревьюера <a class=\"tocSkip\"></h2>\n",
    "\n",
    "    \n",
    "<b>На доработку❌:</b>\n",
    "Очень важно также проверить лучшую модель на адекватность, сравнив качество её предсказаний с качеством модели, которая предсказывала бы константу - вдруг окажется, что не было бы большого смысла заниматься созданием новых признаков, тюнингом и кросс-валидацией моделей, если можно было бы просто предсказывать среднее значение тренировочной выборки? \n",
    "    \n",
    "В качестве константной модели можно использовать `DummyRegressor` (https://scikit-learn.org/stable/modules/generated/sklearn.dummy.DummyRegressor.html) -  эта модель как раз создана для генерирования константных предсказаний.\n",
    "    \n",
    "Важно, чтобы результат тестирования нашей модели на тествой выборке был лучше, чем результат константной модели - в противном случае наша модель является бесполезной, так как все наши усилия над проектом не принесли результата, а можель, просто предсказывющая среднее на `train`, делает нашу работу лучше."
   ]
  },
  {
   "cell_type": "markdown",
   "metadata": {},
   "source": [
    "<div class=\"alert alert-info\">\n",
    "<h2> Комментарий студента <a class=\"tocSkip\"> </h2>\n",
    "\n",
    "Проверим модель на адекватность и сравним ее результаты с результатами константной модели с помощью DummyRegressor/\n",
    "</div>"
   ]
  },
  {
   "cell_type": "markdown",
   "metadata": {},
   "source": [
    "<div class=\"alert alert-success\">\n",
    "<h2> Комментарий ревьюера v.2 <a class=\"tocSkip\"> </h2>\n",
    "\n",
    "<b>Все отлично!👍:</b>\n",
    "    \n",
    "Учтено."
   ]
  },
  {
   "cell_type": "code",
   "execution_count": 53,
   "metadata": {},
   "outputs": [],
   "source": [
    "dummy_final = DummyRegressor(strategy='mean')\n",
    "dummy_final.fit(train_features_final, train_target_final)\n",
    "predictions_dummy_final = dummy_final.predict(test_features_final)"
   ]
  },
  {
   "cell_type": "code",
   "execution_count": 54,
   "metadata": {},
   "outputs": [],
   "source": [
    "dummy_rougher = DummyRegressor(strategy='mean')\n",
    "dummy_rougher.fit(train_features_rougher, train_target_rougher)\n",
    "predictions_dummy_rougher = dummy_rougher.predict(test_features_rougher)"
   ]
  },
  {
   "cell_type": "code",
   "execution_count": 55,
   "metadata": {},
   "outputs": [
    {
     "data": {
      "text/plain": [
       "8.471903961218088"
      ]
     },
     "execution_count": 55,
     "metadata": {},
     "output_type": "execute_result"
    }
   ],
   "source": [
    "smape_rougher_dummy = smape(test_target_rougher, predictions_dummy_rougher)\n",
    "smape_final_dummy = smape(test_target_final, predictions_dummy_final)\n",
    "final_dummy = final_smape(smape_rougher_dummy, smape_final_dummy)\n",
    "final_dummy"
   ]
  },
  {
   "cell_type": "markdown",
   "metadata": {},
   "source": [
    "<div class=\"alert alert-info\">\n",
    "<h2> Комментарий студента <a class=\"tocSkip\"> </h2>\n",
    "\n",
    "Вывод: модель Линейной регресии делает более точные предсказания, чем модель, предсказывающая константу, т.к. итоговый sMAPE обученой Линейной регрессии ниже.\n",
    "</div>"
   ]
  },
  {
   "cell_type": "markdown",
   "metadata": {},
   "source": [
    "<div class=\"alert alert-success\">\n",
    "<h2> Комментарий ревьюера v.2 <a class=\"tocSkip\"> </h2>\n",
    "\n",
    "<b>Все отлично!👍:</b>\n",
    "    \n",
    "Учтено."
   ]
  },
  {
   "cell_type": "markdown",
   "metadata": {},
   "source": [
    "## Общий вывод\n",
    "\n",
    "#### Этап 1. Изучение и предобработка данных.\n",
    "В ходе данного этапа были открыты файли и изучены данные в них. Проверено, что эффективность обогащения рассчитана правильно. В ходе предобработки были заполнены пропуски и удалены там, где воосстановить их не представилось возможным (в целевых признаках).\n",
    "\n",
    "\n",
    "#### Этап 2. Анализ данных\n",
    "Было изучено, как меняется концентрация металлов в течение всех этабов обработки сырья. Общая концентрация металллов увеличивается с каждым этапом. Концентрация золота значительно растет, тогда как концентрация серебра уменьшается. Количество свинца увеличивается, но не сильно, относительно увеличения концентрации золота.\n",
    "\n",
    "#### Этап 3. Обучение моделей.\n",
    "\n",
    "В ходе исследования были обучены три модели  - дерево решений, случайный лес и линейная регрессия способом кросс-валидации и оценено их качество. Лучше всего себя показала модель Линейной регрессии, именно ее мы и взяли для предсказаний эффективности обогащения.\n",
    "\n",
    "После обучения модели, она была проверена на тестовой выборке и была подсчитана ключевая метрика качества - симметричное среднее абсолютное процентное отклонение, которое составило 7,2%.\n"
   ]
  },
  {
   "cell_type": "markdown",
   "metadata": {},
   "source": [
    "<div class=\"alert alert-success\">\n",
    "    \n",
    "<h2> Комментарий ревьюера <a class=\"tocSkip\"> </h2>\n",
    "\n",
    "<b>Все отлично!👍:</b> Отличный итоговый вывод по проекту!"
   ]
  },
  {
   "cell_type": "markdown",
   "metadata": {},
   "source": [
    "<div style=\"border:solid Chocolate 2px; padding: 40px\">\n",
    "\n",
    "# Комментарий ревьюера: общий вывод по проекту.\n",
    "\n",
    "Елизавета, проект получился на довольно хорошем уровне - отличная работа над проектом, молодец!\n",
    "\n",
    "Мне нравится твой аналитический подход к выполнению проекта, ты соблюдаешь структуру работы, выполняешь её последовательно - это очень хорошо! Шаги проекта выполнены по порядку согласно плану проекта, нет смысловых и структурных ям. Важно, что не забываешь про выводы.\n",
    "\n",
    "Работа с моделями также выполнена отлично: исследовано несколько алгоритмов, выполнена промежуточная оценка моделей на кросс-валидации - молодец!\n",
    "    \n",
    "Над проектом ещё стоит поработать - есть рекомендации по дополнению некоторых твоих шагов проекта. Такие рекомендации я отметил жёлтыми комментариями. Будет здорово, если ты учтёшь их - так проект станет структурно и содержательно более совершенным.\n",
    "    \n",
    "Также в работе есть критические замечания. К этим замечаниям я оставил пояснительные комментарии красного цвета, в которых перечислил возможные варианты дальнейших действий. Уверен, ты быстро с этим управишься:)\n",
    "    \n",
    "Если о том, что нужно сделать в рамках комментариев, будут возникать вопросы - оставь их, пожалуйста, в комментариях, и я отвечу на них во время следующего ревью.\n",
    "    \n",
    "Также буду рад ответить на любые твои вопросы по проекту или на какие-либо другие, если они у тебя имеются - оставь их в комментариях, и я постараюсь ответить:)\n",
    "    \n",
    "Жду твой проект на повторном ревью. До встречи:)"
   ]
  },
  {
   "cell_type": "markdown",
   "metadata": {},
   "source": [
    "<div style=\"border:solid Chocolate 2px; padding: 40px\">\n",
    "\n",
    "# Комментарий ревьюера: общий вывод по проекту v.2.\n",
    "\n",
    "Елизавета, продолжаем работу над проектом - актуальные замечания отмечены комментариями с меткой `v.2`.\n",
    "    \n",
    "Жду тебя снова:)"
   ]
  },
  {
   "cell_type": "markdown",
   "metadata": {},
   "source": [
    "<div style=\"border:solid Chocolate 2px; padding: 40px\">\n",
    "\n",
    "# Комментарий ревьюера: общий вывод по проекту v.3.\n",
    "\n",
    "Елизавета, все замечания учтены - проект принят!\n",
    "    \n",
    "Спасибо за хорошую работу над проектом, желаю успехов в дальнейшем обучении:)"
   ]
  }
 ],
 "metadata": {
  "ExecuteTimeLog": [
   {
    "duration": 421,
    "start_time": "2023-08-22T09:14:57.607Z"
   },
   {
    "duration": 142,
    "start_time": "2023-08-22T09:18:30.670Z"
   },
   {
    "duration": 3869,
    "start_time": "2023-08-22T09:19:08.728Z"
   },
   {
    "duration": 843,
    "start_time": "2023-08-22T09:32:51.286Z"
   },
   {
    "duration": 3,
    "start_time": "2023-08-22T09:41:34.807Z"
   },
   {
    "duration": 249,
    "start_time": "2023-08-22T09:41:57.212Z"
   },
   {
    "duration": 5,
    "start_time": "2023-08-22T09:42:45.579Z"
   },
   {
    "duration": 271,
    "start_time": "2023-08-22T09:42:46.850Z"
   },
   {
    "duration": 189,
    "start_time": "2023-08-22T09:44:46.826Z"
   },
   {
    "duration": 291,
    "start_time": "2023-08-22T09:45:19.936Z"
   },
   {
    "duration": 28,
    "start_time": "2023-08-22T10:10:23.199Z"
   },
   {
    "duration": 34,
    "start_time": "2023-08-22T10:12:33.253Z"
   },
   {
    "duration": 14,
    "start_time": "2023-08-22T10:12:42.219Z"
   },
   {
    "duration": 411,
    "start_time": "2023-08-22T10:12:54.989Z"
   },
   {
    "duration": 780,
    "start_time": "2023-08-22T10:12:55.402Z"
   },
   {
    "duration": 4,
    "start_time": "2023-08-22T10:12:56.184Z"
   },
   {
    "duration": 283,
    "start_time": "2023-08-22T10:12:56.189Z"
   },
   {
    "duration": 143,
    "start_time": "2023-08-22T10:12:56.475Z"
   },
   {
    "duration": 329,
    "start_time": "2023-08-22T10:12:56.620Z"
   },
   {
    "duration": 87,
    "start_time": "2023-08-22T10:12:56.951Z"
   },
   {
    "duration": 36,
    "start_time": "2023-08-22T10:15:29.944Z"
   },
   {
    "duration": 11,
    "start_time": "2023-08-22T10:17:17.435Z"
   },
   {
    "duration": 4,
    "start_time": "2023-08-22T10:19:30.356Z"
   },
   {
    "duration": 9,
    "start_time": "2023-08-22T10:20:53.950Z"
   },
   {
    "duration": 3,
    "start_time": "2023-08-22T10:21:04.688Z"
   },
   {
    "duration": 5,
    "start_time": "2023-08-22T10:21:31.814Z"
   },
   {
    "duration": 706,
    "start_time": "2023-08-22T10:24:12.636Z"
   },
   {
    "duration": 7,
    "start_time": "2023-08-22T10:24:36.606Z"
   },
   {
    "duration": 42,
    "start_time": "2023-08-22T10:36:19.727Z"
   },
   {
    "duration": 5,
    "start_time": "2023-08-22T10:36:59.491Z"
   },
   {
    "duration": 17,
    "start_time": "2023-08-22T10:38:19.827Z"
   },
   {
    "duration": 6,
    "start_time": "2023-08-22T10:38:54.355Z"
   },
   {
    "duration": 11,
    "start_time": "2023-08-22T10:40:55.269Z"
   },
   {
    "duration": 9,
    "start_time": "2023-08-22T10:59:13.472Z"
   },
   {
    "duration": 125,
    "start_time": "2023-08-22T11:01:10.298Z"
   },
   {
    "duration": 42,
    "start_time": "2023-08-22T11:01:35.987Z"
   },
   {
    "duration": 14,
    "start_time": "2023-08-22T11:02:15.182Z"
   },
   {
    "duration": 10,
    "start_time": "2023-08-22T11:04:36.592Z"
   },
   {
    "duration": 41,
    "start_time": "2023-08-22T11:08:12.152Z"
   },
   {
    "duration": 25,
    "start_time": "2023-08-22T11:13:37.618Z"
   },
   {
    "duration": 23,
    "start_time": "2023-08-22T11:13:42.801Z"
   },
   {
    "duration": 1152,
    "start_time": "2023-08-22T11:14:14.210Z"
   },
   {
    "duration": 774,
    "start_time": "2023-08-22T11:14:15.364Z"
   },
   {
    "duration": 4,
    "start_time": "2023-08-22T11:14:16.139Z"
   },
   {
    "duration": 415,
    "start_time": "2023-08-22T11:14:16.144Z"
   },
   {
    "duration": 159,
    "start_time": "2023-08-22T11:14:16.562Z"
   },
   {
    "duration": 291,
    "start_time": "2023-08-22T11:14:16.723Z"
   },
   {
    "duration": 14,
    "start_time": "2023-08-22T11:14:17.015Z"
   },
   {
    "duration": 22,
    "start_time": "2023-08-22T11:14:17.031Z"
   },
   {
    "duration": 10,
    "start_time": "2023-08-22T11:14:17.055Z"
   },
   {
    "duration": 11,
    "start_time": "2023-08-22T11:14:17.067Z"
   },
   {
    "duration": 45,
    "start_time": "2023-08-22T11:14:17.080Z"
   },
   {
    "duration": 19,
    "start_time": "2023-08-22T11:14:17.128Z"
   },
   {
    "duration": 44,
    "start_time": "2023-08-22T11:14:17.150Z"
   },
   {
    "duration": 31,
    "start_time": "2023-08-22T11:14:17.196Z"
   },
   {
    "duration": 30,
    "start_time": "2023-08-22T11:14:33.737Z"
   },
   {
    "duration": 1965,
    "start_time": "2023-08-22T11:15:32.269Z"
   },
   {
    "duration": 13,
    "start_time": "2023-08-22T11:16:27.369Z"
   },
   {
    "duration": 11,
    "start_time": "2023-08-22T11:22:57.895Z"
   },
   {
    "duration": 14,
    "start_time": "2023-08-22T11:23:10.766Z"
   },
   {
    "duration": 10,
    "start_time": "2023-08-22T11:26:00.945Z"
   },
   {
    "duration": 15,
    "start_time": "2023-08-22T11:26:14.212Z"
   },
   {
    "duration": 14,
    "start_time": "2023-08-22T11:27:33.006Z"
   },
   {
    "duration": 16,
    "start_time": "2023-08-22T11:28:46.260Z"
   },
   {
    "duration": 1080,
    "start_time": "2023-08-22T11:28:54.179Z"
   },
   {
    "duration": 775,
    "start_time": "2023-08-22T11:28:55.262Z"
   },
   {
    "duration": 4,
    "start_time": "2023-08-22T11:28:56.039Z"
   },
   {
    "duration": 247,
    "start_time": "2023-08-22T11:28:56.045Z"
   },
   {
    "duration": 148,
    "start_time": "2023-08-22T11:28:56.295Z"
   },
   {
    "duration": 288,
    "start_time": "2023-08-22T11:28:56.444Z"
   },
   {
    "duration": 12,
    "start_time": "2023-08-22T11:28:56.734Z"
   },
   {
    "duration": 3,
    "start_time": "2023-08-22T11:28:56.757Z"
   },
   {
    "duration": 16,
    "start_time": "2023-08-22T11:28:56.762Z"
   },
   {
    "duration": 32,
    "start_time": "2023-08-22T11:28:56.780Z"
   },
   {
    "duration": 15,
    "start_time": "2023-08-22T11:28:56.814Z"
   },
   {
    "duration": 10,
    "start_time": "2023-08-22T11:28:56.830Z"
   },
   {
    "duration": 10,
    "start_time": "2023-08-22T11:28:56.841Z"
   },
   {
    "duration": 13,
    "start_time": "2023-08-22T11:28:56.853Z"
   },
   {
    "duration": 16,
    "start_time": "2023-08-22T11:28:56.868Z"
   },
   {
    "duration": 9,
    "start_time": "2023-08-22T11:29:34.173Z"
   },
   {
    "duration": 13,
    "start_time": "2023-08-22T11:30:12.830Z"
   },
   {
    "duration": 505,
    "start_time": "2023-08-22T11:39:08.504Z"
   },
   {
    "duration": 774,
    "start_time": "2023-08-22T11:51:59.228Z"
   },
   {
    "duration": 669,
    "start_time": "2023-08-22T11:53:15.007Z"
   },
   {
    "duration": 698,
    "start_time": "2023-08-22T11:53:30.344Z"
   },
   {
    "duration": 881,
    "start_time": "2023-08-22T11:54:01.475Z"
   },
   {
    "duration": 685,
    "start_time": "2023-08-22T11:58:26.712Z"
   },
   {
    "duration": 835,
    "start_time": "2023-08-22T11:58:53.834Z"
   },
   {
    "duration": 715,
    "start_time": "2023-08-22T12:02:13.405Z"
   },
   {
    "duration": 101,
    "start_time": "2023-08-22T12:18:08.628Z"
   },
   {
    "duration": 11,
    "start_time": "2023-08-22T12:18:22.830Z"
   },
   {
    "duration": 581,
    "start_time": "2023-08-22T12:25:45.609Z"
   },
   {
    "duration": 418,
    "start_time": "2023-08-22T12:25:57.442Z"
   },
   {
    "duration": 414,
    "start_time": "2023-08-22T12:26:12.283Z"
   },
   {
    "duration": 409,
    "start_time": "2023-08-22T12:26:19.437Z"
   },
   {
    "duration": 568,
    "start_time": "2023-08-22T12:26:27.948Z"
   },
   {
    "duration": 416,
    "start_time": "2023-08-22T12:26:45.323Z"
   },
   {
    "duration": 10,
    "start_time": "2023-08-22T12:39:19.170Z"
   },
   {
    "duration": 11,
    "start_time": "2023-08-22T12:39:33.720Z"
   },
   {
    "duration": 1575,
    "start_time": "2023-08-22T12:40:01.570Z"
   },
   {
    "duration": 772,
    "start_time": "2023-08-22T12:40:03.146Z"
   },
   {
    "duration": 3,
    "start_time": "2023-08-22T12:40:03.920Z"
   },
   {
    "duration": 260,
    "start_time": "2023-08-22T12:40:03.924Z"
   },
   {
    "duration": 144,
    "start_time": "2023-08-22T12:40:04.186Z"
   },
   {
    "duration": 278,
    "start_time": "2023-08-22T12:40:04.332Z"
   },
   {
    "duration": 13,
    "start_time": "2023-08-22T12:40:04.612Z"
   },
   {
    "duration": 4,
    "start_time": "2023-08-22T12:40:04.627Z"
   },
   {
    "duration": 10,
    "start_time": "2023-08-22T12:40:04.632Z"
   },
   {
    "duration": 6,
    "start_time": "2023-08-22T12:40:04.657Z"
   },
   {
    "duration": 9,
    "start_time": "2023-08-22T12:40:04.665Z"
   },
   {
    "duration": 12,
    "start_time": "2023-08-22T12:40:04.675Z"
   },
   {
    "duration": 10,
    "start_time": "2023-08-22T12:40:04.689Z"
   },
   {
    "duration": 15,
    "start_time": "2023-08-22T12:40:04.701Z"
   },
   {
    "duration": 41,
    "start_time": "2023-08-22T12:40:04.718Z"
   },
   {
    "duration": 9,
    "start_time": "2023-08-22T12:40:04.760Z"
   },
   {
    "duration": 779,
    "start_time": "2023-08-22T12:40:04.771Z"
   },
   {
    "duration": 821,
    "start_time": "2023-08-22T12:40:05.556Z"
   },
   {
    "duration": 721,
    "start_time": "2023-08-22T12:40:06.379Z"
   },
   {
    "duration": 619,
    "start_time": "2023-08-22T12:40:07.102Z"
   },
   {
    "duration": 112,
    "start_time": "2023-08-22T12:40:07.723Z"
   },
   {
    "duration": 5,
    "start_time": "2023-08-22T12:41:52.422Z"
   },
   {
    "duration": 111,
    "start_time": "2023-08-22T12:48:29.534Z"
   },
   {
    "duration": 11,
    "start_time": "2023-08-22T12:48:44.838Z"
   },
   {
    "duration": 5,
    "start_time": "2023-08-22T12:49:26.463Z"
   },
   {
    "duration": 7,
    "start_time": "2023-08-22T12:50:57.288Z"
   },
   {
    "duration": 679,
    "start_time": "2023-08-22T12:53:11.230Z"
   },
   {
    "duration": 808,
    "start_time": "2023-08-22T12:53:23.793Z"
   },
   {
    "duration": 670,
    "start_time": "2023-08-22T12:53:31.277Z"
   },
   {
    "duration": 802,
    "start_time": "2023-08-22T12:53:58.338Z"
   },
   {
    "duration": 14,
    "start_time": "2023-08-22T12:59:30.938Z"
   },
   {
    "duration": 9,
    "start_time": "2023-08-22T12:59:38.965Z"
   },
   {
    "duration": 867,
    "start_time": "2023-08-22T13:00:18.397Z"
   },
   {
    "duration": 21,
    "start_time": "2023-08-22T13:09:39.973Z"
   },
   {
    "duration": 13,
    "start_time": "2023-08-22T13:13:29.573Z"
   },
   {
    "duration": 35,
    "start_time": "2023-08-22T13:14:49.531Z"
   },
   {
    "duration": 5,
    "start_time": "2023-08-22T13:16:31.074Z"
   },
   {
    "duration": 22,
    "start_time": "2023-08-22T13:16:43.507Z"
   },
   {
    "duration": 9,
    "start_time": "2023-08-22T13:17:31.545Z"
   },
   {
    "duration": 712,
    "start_time": "2023-08-22T13:17:45.855Z"
   },
   {
    "duration": 11,
    "start_time": "2023-08-22T13:18:19.314Z"
   },
   {
    "duration": 13,
    "start_time": "2023-08-22T13:18:20.155Z"
   },
   {
    "duration": 856,
    "start_time": "2023-08-22T13:18:21.150Z"
   },
   {
    "duration": 22,
    "start_time": "2023-08-22T13:19:16.738Z"
   },
   {
    "duration": 12,
    "start_time": "2023-08-22T13:19:35.370Z"
   },
   {
    "duration": 7,
    "start_time": "2023-08-22T13:19:39.807Z"
   },
   {
    "duration": 709,
    "start_time": "2023-08-22T13:19:41.119Z"
   },
   {
    "duration": 10,
    "start_time": "2023-08-22T13:21:20.397Z"
   },
   {
    "duration": 8,
    "start_time": "2023-08-22T13:21:21.047Z"
   },
   {
    "duration": 873,
    "start_time": "2023-08-22T13:21:21.733Z"
   },
   {
    "duration": 1368,
    "start_time": "2023-08-22T13:23:29.247Z"
   },
   {
    "duration": 743,
    "start_time": "2023-08-22T13:23:30.618Z"
   },
   {
    "duration": 3,
    "start_time": "2023-08-22T13:23:31.362Z"
   },
   {
    "duration": 261,
    "start_time": "2023-08-22T13:23:31.367Z"
   },
   {
    "duration": 142,
    "start_time": "2023-08-22T13:23:31.629Z"
   },
   {
    "duration": 257,
    "start_time": "2023-08-22T13:23:31.773Z"
   },
   {
    "duration": 24,
    "start_time": "2023-08-22T13:23:32.032Z"
   },
   {
    "duration": 15,
    "start_time": "2023-08-22T13:23:32.058Z"
   },
   {
    "duration": 31,
    "start_time": "2023-08-22T13:23:32.075Z"
   },
   {
    "duration": 20,
    "start_time": "2023-08-22T13:23:32.108Z"
   },
   {
    "duration": 22,
    "start_time": "2023-08-22T13:23:32.130Z"
   },
   {
    "duration": 23,
    "start_time": "2023-08-22T13:23:32.154Z"
   },
   {
    "duration": 32,
    "start_time": "2023-08-22T13:23:32.179Z"
   },
   {
    "duration": 34,
    "start_time": "2023-08-22T13:23:32.212Z"
   },
   {
    "duration": 17,
    "start_time": "2023-08-22T13:23:32.247Z"
   },
   {
    "duration": 29,
    "start_time": "2023-08-22T13:23:32.265Z"
   },
   {
    "duration": 712,
    "start_time": "2023-08-22T13:23:32.295Z"
   },
   {
    "duration": 764,
    "start_time": "2023-08-22T13:23:33.008Z"
   },
   {
    "duration": 724,
    "start_time": "2023-08-22T13:23:33.773Z"
   },
   {
    "duration": 536,
    "start_time": "2023-08-22T13:23:34.498Z"
   },
   {
    "duration": 6,
    "start_time": "2023-08-22T13:23:35.036Z"
   },
   {
    "duration": 667,
    "start_time": "2023-08-22T13:23:35.044Z"
   },
   {
    "duration": 6,
    "start_time": "2023-08-22T13:23:35.713Z"
   },
   {
    "duration": 778,
    "start_time": "2023-08-22T13:23:35.721Z"
   },
   {
    "duration": 1035,
    "start_time": "2023-08-22T13:23:36.501Z"
   },
   {
    "duration": 0,
    "start_time": "2023-08-22T13:23:37.538Z"
   },
   {
    "duration": 0,
    "start_time": "2023-08-22T13:23:37.539Z"
   },
   {
    "duration": 13,
    "start_time": "2023-08-22T13:24:10.916Z"
   },
   {
    "duration": 7,
    "start_time": "2023-08-22T13:24:12.328Z"
   },
   {
    "duration": 12,
    "start_time": "2023-08-22T13:24:18.846Z"
   },
   {
    "duration": 13,
    "start_time": "2023-08-22T13:25:21.333Z"
   },
   {
    "duration": 4,
    "start_time": "2023-08-22T13:26:36.005Z"
   },
   {
    "duration": 19,
    "start_time": "2023-08-22T13:26:48.745Z"
   },
   {
    "duration": 16,
    "start_time": "2023-08-22T13:27:02.242Z"
   },
   {
    "duration": 932,
    "start_time": "2023-08-22T13:35:58.973Z"
   },
   {
    "duration": 13,
    "start_time": "2023-08-22T13:36:23.702Z"
   },
   {
    "duration": 13,
    "start_time": "2023-08-22T13:36:31.866Z"
   },
   {
    "duration": 1253,
    "start_time": "2023-08-22T13:37:11.257Z"
   },
   {
    "duration": 24,
    "start_time": "2023-08-22T13:38:25.695Z"
   },
   {
    "duration": 3,
    "start_time": "2023-08-22T13:42:06.472Z"
   },
   {
    "duration": 24,
    "start_time": "2023-08-22T13:42:28.531Z"
   },
   {
    "duration": 21,
    "start_time": "2023-08-22T13:42:53.251Z"
   },
   {
    "duration": 18,
    "start_time": "2023-08-22T13:43:30.285Z"
   },
   {
    "duration": 11,
    "start_time": "2023-08-22T13:45:21.089Z"
   },
   {
    "duration": 1054,
    "start_time": "2023-08-22T13:45:31.823Z"
   },
   {
    "duration": 12,
    "start_time": "2023-08-22T13:47:14.550Z"
   },
   {
    "duration": 26,
    "start_time": "2023-08-22T13:48:19.696Z"
   },
   {
    "duration": 10,
    "start_time": "2023-08-22T13:48:21.541Z"
   },
   {
    "duration": 755,
    "start_time": "2023-08-22T13:48:22.264Z"
   },
   {
    "duration": 1480,
    "start_time": "2023-08-22T13:48:31.941Z"
   },
   {
    "duration": 838,
    "start_time": "2023-08-22T13:48:33.423Z"
   },
   {
    "duration": 4,
    "start_time": "2023-08-22T13:48:34.263Z"
   },
   {
    "duration": 269,
    "start_time": "2023-08-22T13:48:34.269Z"
   },
   {
    "duration": 152,
    "start_time": "2023-08-22T13:48:34.540Z"
   },
   {
    "duration": 305,
    "start_time": "2023-08-22T13:48:34.694Z"
   },
   {
    "duration": 18,
    "start_time": "2023-08-22T13:48:35.002Z"
   },
   {
    "duration": 4,
    "start_time": "2023-08-22T13:48:35.022Z"
   },
   {
    "duration": 29,
    "start_time": "2023-08-22T13:48:35.027Z"
   },
   {
    "duration": 7,
    "start_time": "2023-08-22T13:48:35.059Z"
   },
   {
    "duration": 8,
    "start_time": "2023-08-22T13:48:35.068Z"
   },
   {
    "duration": 9,
    "start_time": "2023-08-22T13:48:35.078Z"
   },
   {
    "duration": 24,
    "start_time": "2023-08-22T13:48:35.089Z"
   },
   {
    "duration": 19,
    "start_time": "2023-08-22T13:48:35.115Z"
   },
   {
    "duration": 23,
    "start_time": "2023-08-22T13:48:35.157Z"
   },
   {
    "duration": 10,
    "start_time": "2023-08-22T13:48:35.181Z"
   },
   {
    "duration": 900,
    "start_time": "2023-08-22T13:48:35.193Z"
   },
   {
    "duration": 880,
    "start_time": "2023-08-22T13:48:36.095Z"
   },
   {
    "duration": 867,
    "start_time": "2023-08-22T13:48:36.977Z"
   },
   {
    "duration": 721,
    "start_time": "2023-08-22T13:48:37.846Z"
   },
   {
    "duration": 9,
    "start_time": "2023-08-22T13:48:38.569Z"
   },
   {
    "duration": 858,
    "start_time": "2023-08-22T13:48:38.580Z"
   },
   {
    "duration": 16,
    "start_time": "2023-08-22T13:48:39.440Z"
   },
   {
    "duration": 855,
    "start_time": "2023-08-22T13:48:39.458Z"
   },
   {
    "duration": 22,
    "start_time": "2023-08-22T13:48:40.315Z"
   },
   {
    "duration": 8,
    "start_time": "2023-08-22T13:48:40.356Z"
   },
   {
    "duration": 913,
    "start_time": "2023-08-22T13:48:40.367Z"
   },
   {
    "duration": 112,
    "start_time": "2023-08-22T14:04:58.605Z"
   },
   {
    "duration": 14,
    "start_time": "2023-08-22T14:05:10.583Z"
   },
   {
    "duration": 6,
    "start_time": "2023-08-22T14:05:28.474Z"
   },
   {
    "duration": 4,
    "start_time": "2023-08-22T14:05:57.453Z"
   },
   {
    "duration": 8,
    "start_time": "2023-08-22T14:05:58.117Z"
   },
   {
    "duration": 8,
    "start_time": "2023-08-22T14:06:19.307Z"
   },
   {
    "duration": 72,
    "start_time": "2023-08-22T17:42:43.828Z"
   },
   {
    "duration": 2012,
    "start_time": "2023-08-22T17:43:05.610Z"
   },
   {
    "duration": 2477,
    "start_time": "2023-08-22T17:43:07.626Z"
   },
   {
    "duration": 4,
    "start_time": "2023-08-22T17:43:10.106Z"
   },
   {
    "duration": 374,
    "start_time": "2023-08-22T17:43:10.113Z"
   },
   {
    "duration": 211,
    "start_time": "2023-08-22T17:43:10.490Z"
   },
   {
    "duration": 724,
    "start_time": "2023-08-22T17:43:10.702Z"
   },
   {
    "duration": 58,
    "start_time": "2023-08-22T17:43:11.428Z"
   },
   {
    "duration": 92,
    "start_time": "2023-08-22T17:43:11.489Z"
   },
   {
    "duration": 6,
    "start_time": "2023-08-22T17:43:11.584Z"
   },
   {
    "duration": 9,
    "start_time": "2023-08-22T17:43:11.595Z"
   },
   {
    "duration": 9,
    "start_time": "2023-08-22T17:43:11.606Z"
   },
   {
    "duration": 11,
    "start_time": "2023-08-22T17:43:11.618Z"
   },
   {
    "duration": 13,
    "start_time": "2023-08-22T17:43:11.680Z"
   },
   {
    "duration": 22,
    "start_time": "2023-08-22T17:43:11.696Z"
   },
   {
    "duration": 384,
    "start_time": "2023-08-22T17:43:11.720Z"
   },
   {
    "duration": 0,
    "start_time": "2023-08-22T17:43:12.107Z"
   },
   {
    "duration": 0,
    "start_time": "2023-08-22T17:43:12.108Z"
   },
   {
    "duration": 0,
    "start_time": "2023-08-22T17:43:12.110Z"
   },
   {
    "duration": 0,
    "start_time": "2023-08-22T17:43:12.112Z"
   },
   {
    "duration": 1,
    "start_time": "2023-08-22T17:43:12.113Z"
   },
   {
    "duration": 0,
    "start_time": "2023-08-22T17:43:12.115Z"
   },
   {
    "duration": 0,
    "start_time": "2023-08-22T17:43:12.116Z"
   },
   {
    "duration": 0,
    "start_time": "2023-08-22T17:43:12.117Z"
   },
   {
    "duration": 0,
    "start_time": "2023-08-22T17:43:12.120Z"
   },
   {
    "duration": 0,
    "start_time": "2023-08-22T17:43:12.121Z"
   },
   {
    "duration": 0,
    "start_time": "2023-08-22T17:43:12.123Z"
   },
   {
    "duration": 0,
    "start_time": "2023-08-22T17:43:12.124Z"
   },
   {
    "duration": 0,
    "start_time": "2023-08-22T17:43:12.125Z"
   },
   {
    "duration": 0,
    "start_time": "2023-08-22T17:43:12.126Z"
   },
   {
    "duration": 0,
    "start_time": "2023-08-22T17:43:12.126Z"
   },
   {
    "duration": 9,
    "start_time": "2023-08-22T17:43:51.656Z"
   },
   {
    "duration": 17,
    "start_time": "2023-08-22T17:44:44.819Z"
   },
   {
    "duration": 18,
    "start_time": "2023-08-22T17:45:04.174Z"
   },
   {
    "duration": 2058,
    "start_time": "2023-08-22T17:45:26.801Z"
   },
   {
    "duration": 1303,
    "start_time": "2023-08-22T17:45:28.863Z"
   },
   {
    "duration": 4,
    "start_time": "2023-08-22T17:45:30.169Z"
   },
   {
    "duration": 453,
    "start_time": "2023-08-22T17:45:30.175Z"
   },
   {
    "duration": 231,
    "start_time": "2023-08-22T17:45:30.631Z"
   },
   {
    "duration": 435,
    "start_time": "2023-08-22T17:45:30.865Z"
   },
   {
    "duration": 20,
    "start_time": "2023-08-22T17:45:31.303Z"
   },
   {
    "duration": 42,
    "start_time": "2023-08-22T17:45:31.325Z"
   },
   {
    "duration": 63,
    "start_time": "2023-08-22T17:45:31.371Z"
   },
   {
    "duration": 36,
    "start_time": "2023-08-22T17:45:31.437Z"
   },
   {
    "duration": 53,
    "start_time": "2023-08-22T17:45:31.476Z"
   },
   {
    "duration": 120,
    "start_time": "2023-08-22T17:45:31.531Z"
   },
   {
    "duration": 185,
    "start_time": "2023-08-22T17:45:31.654Z"
   },
   {
    "duration": 87,
    "start_time": "2023-08-22T17:45:31.846Z"
   },
   {
    "duration": 46,
    "start_time": "2023-08-22T17:45:31.944Z"
   },
   {
    "duration": 59,
    "start_time": "2023-08-22T17:45:31.993Z"
   },
   {
    "duration": 97,
    "start_time": "2023-08-22T17:45:32.055Z"
   },
   {
    "duration": 1351,
    "start_time": "2023-08-22T17:45:32.156Z"
   },
   {
    "duration": 1160,
    "start_time": "2023-08-22T17:45:33.510Z"
   },
   {
    "duration": 941,
    "start_time": "2023-08-22T17:45:34.672Z"
   },
   {
    "duration": 984,
    "start_time": "2023-08-22T17:45:35.616Z"
   },
   {
    "duration": 9,
    "start_time": "2023-08-22T17:45:36.605Z"
   },
   {
    "duration": 1095,
    "start_time": "2023-08-22T17:45:36.617Z"
   },
   {
    "duration": 9,
    "start_time": "2023-08-22T17:45:37.714Z"
   },
   {
    "duration": 1228,
    "start_time": "2023-08-22T17:45:37.725Z"
   },
   {
    "duration": 25,
    "start_time": "2023-08-22T17:45:38.956Z"
   },
   {
    "duration": 10,
    "start_time": "2023-08-22T17:45:38.984Z"
   },
   {
    "duration": 1211,
    "start_time": "2023-08-22T17:45:38.997Z"
   },
   {
    "duration": 6,
    "start_time": "2023-08-22T17:45:40.210Z"
   },
   {
    "duration": 14,
    "start_time": "2023-08-22T17:45:40.218Z"
   },
   {
    "duration": 10,
    "start_time": "2023-08-22T17:47:04.650Z"
   },
   {
    "duration": 10,
    "start_time": "2023-08-22T17:51:28.597Z"
   },
   {
    "duration": 1456,
    "start_time": "2023-08-22T17:52:13.646Z"
   },
   {
    "duration": 826,
    "start_time": "2023-08-22T17:52:15.105Z"
   },
   {
    "duration": 3,
    "start_time": "2023-08-22T17:52:15.933Z"
   },
   {
    "duration": 267,
    "start_time": "2023-08-22T17:52:15.939Z"
   },
   {
    "duration": 179,
    "start_time": "2023-08-22T17:52:16.208Z"
   },
   {
    "duration": 278,
    "start_time": "2023-08-22T17:52:16.389Z"
   },
   {
    "duration": 18,
    "start_time": "2023-08-22T17:52:16.669Z"
   },
   {
    "duration": 9,
    "start_time": "2023-08-22T17:52:16.689Z"
   },
   {
    "duration": 8,
    "start_time": "2023-08-22T17:52:16.701Z"
   },
   {
    "duration": 9,
    "start_time": "2023-08-22T17:52:16.714Z"
   },
   {
    "duration": 13,
    "start_time": "2023-08-22T17:52:16.725Z"
   },
   {
    "duration": 10,
    "start_time": "2023-08-22T17:52:16.741Z"
   },
   {
    "duration": 40,
    "start_time": "2023-08-22T17:52:16.753Z"
   },
   {
    "duration": 24,
    "start_time": "2023-08-22T17:52:16.795Z"
   },
   {
    "duration": 24,
    "start_time": "2023-08-22T17:52:16.820Z"
   },
   {
    "duration": 47,
    "start_time": "2023-08-22T17:52:16.847Z"
   },
   {
    "duration": 13,
    "start_time": "2023-08-22T17:52:16.896Z"
   },
   {
    "duration": 10,
    "start_time": "2023-08-22T17:52:16.912Z"
   },
   {
    "duration": 12,
    "start_time": "2023-08-22T17:52:16.924Z"
   },
   {
    "duration": 826,
    "start_time": "2023-08-22T17:52:16.938Z"
   },
   {
    "duration": 869,
    "start_time": "2023-08-22T17:52:17.766Z"
   },
   {
    "duration": 780,
    "start_time": "2023-08-22T17:52:18.637Z"
   },
   {
    "duration": 574,
    "start_time": "2023-08-22T17:52:19.418Z"
   },
   {
    "duration": 7,
    "start_time": "2023-08-22T17:52:19.994Z"
   },
   {
    "duration": 719,
    "start_time": "2023-08-22T17:52:20.003Z"
   },
   {
    "duration": 9,
    "start_time": "2023-08-22T17:52:20.725Z"
   },
   {
    "duration": 889,
    "start_time": "2023-08-22T17:52:20.737Z"
   },
   {
    "duration": 16,
    "start_time": "2023-08-22T17:52:21.630Z"
   },
   {
    "duration": 11,
    "start_time": "2023-08-22T17:52:21.648Z"
   },
   {
    "duration": 739,
    "start_time": "2023-08-22T17:52:21.661Z"
   },
   {
    "duration": 5,
    "start_time": "2023-08-22T17:52:22.402Z"
   },
   {
    "duration": 34,
    "start_time": "2023-08-22T17:52:22.408Z"
   },
   {
    "duration": 1479,
    "start_time": "2023-08-22T17:56:19.210Z"
   },
   {
    "duration": 0,
    "start_time": "2023-08-22T17:56:20.691Z"
   },
   {
    "duration": 717,
    "start_time": "2023-08-22T17:56:22.250Z"
   },
   {
    "duration": 4,
    "start_time": "2023-08-22T17:56:27.956Z"
   },
   {
    "duration": 8,
    "start_time": "2023-08-22T17:56:28.986Z"
   },
   {
    "duration": 1374,
    "start_time": "2023-08-22T17:56:44.202Z"
   },
   {
    "duration": 2206,
    "start_time": "2023-08-22T17:57:23.678Z"
   },
   {
    "duration": 1045,
    "start_time": "2023-08-22T17:57:25.887Z"
   },
   {
    "duration": 4,
    "start_time": "2023-08-22T17:57:26.935Z"
   },
   {
    "duration": 303,
    "start_time": "2023-08-22T17:57:26.941Z"
   },
   {
    "duration": 177,
    "start_time": "2023-08-22T17:57:27.248Z"
   },
   {
    "duration": 317,
    "start_time": "2023-08-22T17:57:27.428Z"
   },
   {
    "duration": 17,
    "start_time": "2023-08-22T17:57:27.749Z"
   },
   {
    "duration": 46,
    "start_time": "2023-08-22T17:57:27.769Z"
   },
   {
    "duration": 29,
    "start_time": "2023-08-22T17:57:27.817Z"
   },
   {
    "duration": 43,
    "start_time": "2023-08-22T17:57:27.848Z"
   },
   {
    "duration": 24,
    "start_time": "2023-08-22T17:57:27.893Z"
   },
   {
    "duration": 23,
    "start_time": "2023-08-22T17:57:27.920Z"
   },
   {
    "duration": 31,
    "start_time": "2023-08-22T17:57:27.946Z"
   },
   {
    "duration": 22,
    "start_time": "2023-08-22T17:57:27.981Z"
   },
   {
    "duration": 22,
    "start_time": "2023-08-22T17:57:28.006Z"
   },
   {
    "duration": 17,
    "start_time": "2023-08-22T17:57:28.030Z"
   },
   {
    "duration": 36,
    "start_time": "2023-08-22T17:57:28.050Z"
   },
   {
    "duration": 35,
    "start_time": "2023-08-22T17:57:28.088Z"
   },
   {
    "duration": 30,
    "start_time": "2023-08-22T17:57:28.125Z"
   },
   {
    "duration": 861,
    "start_time": "2023-08-22T17:57:28.157Z"
   },
   {
    "duration": 950,
    "start_time": "2023-08-22T17:57:29.021Z"
   },
   {
    "duration": 871,
    "start_time": "2023-08-22T17:57:29.973Z"
   },
   {
    "duration": 672,
    "start_time": "2023-08-22T17:57:30.846Z"
   },
   {
    "duration": 9,
    "start_time": "2023-08-22T17:57:31.521Z"
   },
   {
    "duration": 923,
    "start_time": "2023-08-22T17:57:31.532Z"
   },
   {
    "duration": 9,
    "start_time": "2023-08-22T17:57:32.457Z"
   },
   {
    "duration": 997,
    "start_time": "2023-08-22T17:57:32.468Z"
   },
   {
    "duration": 1480,
    "start_time": "2023-08-22T17:57:33.469Z"
   },
   {
    "duration": 0,
    "start_time": "2023-08-22T17:57:34.952Z"
   },
   {
    "duration": 0,
    "start_time": "2023-08-22T17:57:34.954Z"
   },
   {
    "duration": 0,
    "start_time": "2023-08-22T17:57:34.955Z"
   },
   {
    "duration": 0,
    "start_time": "2023-08-22T17:57:34.957Z"
   },
   {
    "duration": 1297,
    "start_time": "2023-08-22T17:58:33.447Z"
   },
   {
    "duration": 18,
    "start_time": "2023-08-22T18:00:53.417Z"
   },
   {
    "duration": 11,
    "start_time": "2023-08-22T18:00:55.172Z"
   },
   {
    "duration": 923,
    "start_time": "2023-08-22T18:00:57.541Z"
   },
   {
    "duration": 6,
    "start_time": "2023-08-22T18:00:59.825Z"
   },
   {
    "duration": 7,
    "start_time": "2023-08-22T18:01:00.940Z"
   },
   {
    "duration": 9,
    "start_time": "2023-08-23T10:24:18.402Z"
   },
   {
    "duration": 3,
    "start_time": "2023-08-23T10:26:39.122Z"
   },
   {
    "duration": 40,
    "start_time": "2023-08-23T10:29:14.572Z"
   },
   {
    "duration": 1534,
    "start_time": "2023-08-23T10:29:22.038Z"
   },
   {
    "duration": 2078,
    "start_time": "2023-08-23T10:29:23.574Z"
   },
   {
    "duration": 2,
    "start_time": "2023-08-23T10:29:25.654Z"
   },
   {
    "duration": 241,
    "start_time": "2023-08-23T10:29:25.658Z"
   },
   {
    "duration": 139,
    "start_time": "2023-08-23T10:29:25.901Z"
   },
   {
    "duration": 267,
    "start_time": "2023-08-23T10:29:26.041Z"
   },
   {
    "duration": 11,
    "start_time": "2023-08-23T10:29:26.310Z"
   },
   {
    "duration": 10,
    "start_time": "2023-08-23T10:29:26.323Z"
   },
   {
    "duration": 18,
    "start_time": "2023-08-23T10:29:26.334Z"
   },
   {
    "duration": 5,
    "start_time": "2023-08-23T10:29:26.356Z"
   },
   {
    "duration": 7,
    "start_time": "2023-08-23T10:29:26.363Z"
   },
   {
    "duration": 8,
    "start_time": "2023-08-23T10:29:26.371Z"
   },
   {
    "duration": 15,
    "start_time": "2023-08-23T10:29:26.381Z"
   },
   {
    "duration": 14,
    "start_time": "2023-08-23T10:29:26.397Z"
   },
   {
    "duration": 40,
    "start_time": "2023-08-23T10:29:26.413Z"
   },
   {
    "duration": 14,
    "start_time": "2023-08-23T10:29:26.455Z"
   },
   {
    "duration": 8,
    "start_time": "2023-08-23T10:29:26.470Z"
   },
   {
    "duration": 7,
    "start_time": "2023-08-23T10:29:26.479Z"
   },
   {
    "duration": 6,
    "start_time": "2023-08-23T10:29:26.488Z"
   },
   {
    "duration": 706,
    "start_time": "2023-08-23T10:29:26.496Z"
   },
   {
    "duration": 719,
    "start_time": "2023-08-23T10:29:27.204Z"
   },
   {
    "duration": 740,
    "start_time": "2023-08-23T10:29:27.925Z"
   },
   {
    "duration": 517,
    "start_time": "2023-08-23T10:29:28.667Z"
   },
   {
    "duration": 7,
    "start_time": "2023-08-23T10:29:29.186Z"
   },
   {
    "duration": 639,
    "start_time": "2023-08-23T10:29:29.194Z"
   },
   {
    "duration": 18,
    "start_time": "2023-08-23T10:29:29.835Z"
   },
   {
    "duration": 741,
    "start_time": "2023-08-23T10:29:29.854Z"
   },
   {
    "duration": 15,
    "start_time": "2023-08-23T10:29:30.599Z"
   },
   {
    "duration": 33,
    "start_time": "2023-08-23T10:29:30.616Z"
   },
   {
    "duration": 677,
    "start_time": "2023-08-23T10:29:30.651Z"
   },
   {
    "duration": 4,
    "start_time": "2023-08-23T10:29:31.329Z"
   },
   {
    "duration": 25,
    "start_time": "2023-08-23T10:29:31.334Z"
   },
   {
    "duration": 24,
    "start_time": "2023-08-23T10:29:31.361Z"
   },
   {
    "duration": 26,
    "start_time": "2023-08-23T10:29:31.387Z"
   },
   {
    "duration": 1364,
    "start_time": "2023-08-23T10:32:30.548Z"
   },
   {
    "duration": 737,
    "start_time": "2023-08-23T10:32:31.914Z"
   },
   {
    "duration": 4,
    "start_time": "2023-08-23T10:32:32.652Z"
   },
   {
    "duration": 233,
    "start_time": "2023-08-23T10:32:32.658Z"
   },
   {
    "duration": 134,
    "start_time": "2023-08-23T10:32:32.893Z"
   },
   {
    "duration": 245,
    "start_time": "2023-08-23T10:32:33.028Z"
   },
   {
    "duration": 11,
    "start_time": "2023-08-23T10:32:33.275Z"
   },
   {
    "duration": 4,
    "start_time": "2023-08-23T10:32:33.287Z"
   },
   {
    "duration": 11,
    "start_time": "2023-08-23T10:32:33.293Z"
   },
   {
    "duration": 10,
    "start_time": "2023-08-23T10:32:33.305Z"
   },
   {
    "duration": 9,
    "start_time": "2023-08-23T10:32:33.317Z"
   },
   {
    "duration": 25,
    "start_time": "2023-08-23T10:32:33.328Z"
   },
   {
    "duration": 9,
    "start_time": "2023-08-23T10:32:33.355Z"
   },
   {
    "duration": 15,
    "start_time": "2023-08-23T10:32:33.367Z"
   },
   {
    "duration": 13,
    "start_time": "2023-08-23T10:32:33.383Z"
   },
   {
    "duration": 13,
    "start_time": "2023-08-23T10:32:33.398Z"
   },
   {
    "duration": 7,
    "start_time": "2023-08-23T10:32:33.412Z"
   },
   {
    "duration": 8,
    "start_time": "2023-08-23T10:32:33.452Z"
   },
   {
    "duration": 9,
    "start_time": "2023-08-23T10:32:33.461Z"
   },
   {
    "duration": 717,
    "start_time": "2023-08-23T10:32:33.471Z"
   },
   {
    "duration": 744,
    "start_time": "2023-08-23T10:32:34.189Z"
   },
   {
    "duration": 641,
    "start_time": "2023-08-23T10:32:34.935Z"
   },
   {
    "duration": 498,
    "start_time": "2023-08-23T10:32:35.578Z"
   },
   {
    "duration": 6,
    "start_time": "2023-08-23T10:32:36.078Z"
   },
   {
    "duration": 680,
    "start_time": "2023-08-23T10:32:36.085Z"
   },
   {
    "duration": 8,
    "start_time": "2023-08-23T10:32:36.767Z"
   },
   {
    "duration": 761,
    "start_time": "2023-08-23T10:32:36.777Z"
   },
   {
    "duration": 20,
    "start_time": "2023-08-23T10:32:37.540Z"
   },
   {
    "duration": 6,
    "start_time": "2023-08-23T10:32:37.562Z"
   },
   {
    "duration": 677,
    "start_time": "2023-08-23T10:32:37.569Z"
   },
   {
    "duration": 5,
    "start_time": "2023-08-23T10:32:38.248Z"
   },
   {
    "duration": 14,
    "start_time": "2023-08-23T10:32:38.256Z"
   },
   {
    "duration": 12,
    "start_time": "2023-08-23T10:32:38.272Z"
   },
   {
    "duration": 6,
    "start_time": "2023-08-23T10:32:38.286Z"
   },
   {
    "duration": 13,
    "start_time": "2023-08-23T10:32:38.293Z"
   },
   {
    "duration": 3,
    "start_time": "2023-08-23T10:33:44.996Z"
   },
   {
    "duration": 7,
    "start_time": "2023-08-23T10:33:46.279Z"
   },
   {
    "duration": 7,
    "start_time": "2023-08-23T10:33:58.284Z"
   },
   {
    "duration": 8,
    "start_time": "2023-08-23T10:38:02.723Z"
   },
   {
    "duration": 478,
    "start_time": "2023-08-23T10:40:41.748Z"
   },
   {
    "duration": 104,
    "start_time": "2023-08-23T10:42:08.608Z"
   },
   {
    "duration": 20,
    "start_time": "2023-08-23T10:42:23.968Z"
   },
   {
    "duration": 6,
    "start_time": "2023-08-23T10:45:44.941Z"
   },
   {
    "duration": 18,
    "start_time": "2023-08-23T10:46:11.877Z"
   },
   {
    "duration": 23,
    "start_time": "2023-08-23T10:47:49.085Z"
   },
   {
    "duration": 22,
    "start_time": "2023-08-23T10:48:41.434Z"
   },
   {
    "duration": 3,
    "start_time": "2023-08-23T11:02:06.293Z"
   },
   {
    "duration": 23,
    "start_time": "2023-08-23T11:02:10.154Z"
   },
   {
    "duration": 4,
    "start_time": "2023-08-23T11:02:31.759Z"
   },
   {
    "duration": 4,
    "start_time": "2023-08-23T11:02:45.493Z"
   },
   {
    "duration": 3,
    "start_time": "2023-08-23T11:03:35.635Z"
   },
   {
    "duration": 19,
    "start_time": "2023-08-23T11:05:45.448Z"
   },
   {
    "duration": 48,
    "start_time": "2023-08-23T11:09:39.647Z"
   },
   {
    "duration": 35,
    "start_time": "2023-08-23T11:12:13.571Z"
   },
   {
    "duration": 19,
    "start_time": "2023-08-23T11:13:08.809Z"
   },
   {
    "duration": 12,
    "start_time": "2023-08-23T11:13:40.409Z"
   },
   {
    "duration": 4623,
    "start_time": "2023-08-23T11:22:04.633Z"
   },
   {
    "duration": 9029,
    "start_time": "2023-08-23T11:22:51.419Z"
   },
   {
    "duration": 36594,
    "start_time": "2023-08-23T11:29:34.546Z"
   },
   {
    "duration": 2876,
    "start_time": "2023-08-23T11:32:28.882Z"
   },
   {
    "duration": 87,
    "start_time": "2023-08-23T11:42:06.767Z"
   },
   {
    "duration": 13,
    "start_time": "2023-08-23T11:43:49.589Z"
   },
   {
    "duration": 8,
    "start_time": "2023-08-23T11:48:20.696Z"
   },
   {
    "duration": 9,
    "start_time": "2023-08-23T11:48:30.718Z"
   },
   {
    "duration": 7,
    "start_time": "2023-08-23T11:49:51.145Z"
   },
   {
    "duration": 4,
    "start_time": "2023-08-23T11:52:10.475Z"
   },
   {
    "duration": 3,
    "start_time": "2023-08-23T11:52:11.172Z"
   },
   {
    "duration": 1382,
    "start_time": "2023-08-23T11:52:19.900Z"
   },
   {
    "duration": 784,
    "start_time": "2023-08-23T11:52:21.284Z"
   },
   {
    "duration": 3,
    "start_time": "2023-08-23T11:52:22.070Z"
   },
   {
    "duration": 257,
    "start_time": "2023-08-23T11:52:22.074Z"
   },
   {
    "duration": 141,
    "start_time": "2023-08-23T11:52:22.335Z"
   },
   {
    "duration": 275,
    "start_time": "2023-08-23T11:52:22.477Z"
   },
   {
    "duration": 13,
    "start_time": "2023-08-23T11:52:22.753Z"
   },
   {
    "duration": 3,
    "start_time": "2023-08-23T11:52:22.768Z"
   },
   {
    "duration": 11,
    "start_time": "2023-08-23T11:52:22.772Z"
   },
   {
    "duration": 19,
    "start_time": "2023-08-23T11:52:22.784Z"
   },
   {
    "duration": 17,
    "start_time": "2023-08-23T11:52:22.805Z"
   },
   {
    "duration": 18,
    "start_time": "2023-08-23T11:52:22.823Z"
   },
   {
    "duration": 23,
    "start_time": "2023-08-23T11:52:22.842Z"
   },
   {
    "duration": 17,
    "start_time": "2023-08-23T11:52:22.868Z"
   },
   {
    "duration": 19,
    "start_time": "2023-08-23T11:52:22.887Z"
   },
   {
    "duration": 14,
    "start_time": "2023-08-23T11:52:22.907Z"
   },
   {
    "duration": 12,
    "start_time": "2023-08-23T11:52:22.922Z"
   },
   {
    "duration": 17,
    "start_time": "2023-08-23T11:52:22.936Z"
   },
   {
    "duration": 8,
    "start_time": "2023-08-23T11:52:22.956Z"
   },
   {
    "duration": 780,
    "start_time": "2023-08-23T11:52:22.966Z"
   },
   {
    "duration": 719,
    "start_time": "2023-08-23T11:52:23.748Z"
   },
   {
    "duration": 817,
    "start_time": "2023-08-23T11:52:24.470Z"
   },
   {
    "duration": 435,
    "start_time": "2023-08-23T11:52:25.289Z"
   },
   {
    "duration": 7,
    "start_time": "2023-08-23T11:52:25.726Z"
   },
   {
    "duration": 671,
    "start_time": "2023-08-23T11:52:25.734Z"
   },
   {
    "duration": 8,
    "start_time": "2023-08-23T11:52:26.407Z"
   },
   {
    "duration": 804,
    "start_time": "2023-08-23T11:52:26.417Z"
   },
   {
    "duration": 16,
    "start_time": "2023-08-23T11:52:27.224Z"
   },
   {
    "duration": 8,
    "start_time": "2023-08-23T11:52:27.251Z"
   },
   {
    "duration": 660,
    "start_time": "2023-08-23T11:52:27.261Z"
   },
   {
    "duration": 4,
    "start_time": "2023-08-23T11:52:27.922Z"
   },
   {
    "duration": 30,
    "start_time": "2023-08-23T11:52:27.927Z"
   },
   {
    "duration": 18,
    "start_time": "2023-08-23T11:52:27.959Z"
   },
   {
    "duration": 7,
    "start_time": "2023-08-23T11:52:27.979Z"
   },
   {
    "duration": 24,
    "start_time": "2023-08-23T11:52:27.988Z"
   },
   {
    "duration": 4,
    "start_time": "2023-08-23T11:52:28.014Z"
   },
   {
    "duration": 24,
    "start_time": "2023-08-23T11:52:28.019Z"
   },
   {
    "duration": 28,
    "start_time": "2023-08-23T11:52:28.044Z"
   },
   {
    "duration": 12,
    "start_time": "2023-08-23T11:52:28.074Z"
   },
   {
    "duration": 9133,
    "start_time": "2023-08-23T11:52:28.088Z"
   },
   {
    "duration": 36493,
    "start_time": "2023-08-23T11:52:37.226Z"
   },
   {
    "duration": 2532,
    "start_time": "2023-08-23T11:53:13.721Z"
   },
   {
    "duration": 298,
    "start_time": "2023-08-23T11:53:16.255Z"
   },
   {
    "duration": 297,
    "start_time": "2023-08-23T11:53:16.556Z"
   },
   {
    "duration": 9,
    "start_time": "2023-08-23T11:53:16.855Z"
   },
   {
    "duration": 4,
    "start_time": "2023-08-23T11:56:45.409Z"
   },
   {
    "duration": 1397,
    "start_time": "2023-08-23T11:56:51.083Z"
   },
   {
    "duration": 795,
    "start_time": "2023-08-23T11:56:52.482Z"
   },
   {
    "duration": 2,
    "start_time": "2023-08-23T11:56:53.279Z"
   },
   {
    "duration": 237,
    "start_time": "2023-08-23T11:56:53.283Z"
   },
   {
    "duration": 137,
    "start_time": "2023-08-23T11:56:53.523Z"
   },
   {
    "duration": 260,
    "start_time": "2023-08-23T11:56:53.662Z"
   },
   {
    "duration": 12,
    "start_time": "2023-08-23T11:56:53.924Z"
   },
   {
    "duration": 4,
    "start_time": "2023-08-23T11:56:53.937Z"
   },
   {
    "duration": 4,
    "start_time": "2023-08-23T11:56:53.952Z"
   },
   {
    "duration": 7,
    "start_time": "2023-08-23T11:56:53.958Z"
   },
   {
    "duration": 6,
    "start_time": "2023-08-23T11:56:53.967Z"
   },
   {
    "duration": 8,
    "start_time": "2023-08-23T11:56:53.974Z"
   },
   {
    "duration": 18,
    "start_time": "2023-08-23T11:56:53.983Z"
   },
   {
    "duration": 16,
    "start_time": "2023-08-23T11:56:54.003Z"
   },
   {
    "duration": 41,
    "start_time": "2023-08-23T11:56:54.021Z"
   },
   {
    "duration": 15,
    "start_time": "2023-08-23T11:56:54.063Z"
   },
   {
    "duration": 7,
    "start_time": "2023-08-23T11:56:54.079Z"
   },
   {
    "duration": 7,
    "start_time": "2023-08-23T11:56:54.088Z"
   },
   {
    "duration": 8,
    "start_time": "2023-08-23T11:56:54.097Z"
   },
   {
    "duration": 798,
    "start_time": "2023-08-23T11:56:54.106Z"
   },
   {
    "duration": 698,
    "start_time": "2023-08-23T11:56:54.905Z"
   },
   {
    "duration": 788,
    "start_time": "2023-08-23T11:56:55.605Z"
   },
   {
    "duration": 432,
    "start_time": "2023-08-23T11:56:56.395Z"
   },
   {
    "duration": 6,
    "start_time": "2023-08-23T11:56:56.829Z"
   },
   {
    "duration": 656,
    "start_time": "2023-08-23T11:56:56.836Z"
   },
   {
    "duration": 8,
    "start_time": "2023-08-23T11:56:57.494Z"
   },
   {
    "duration": 824,
    "start_time": "2023-08-23T11:56:57.504Z"
   },
   {
    "duration": 25,
    "start_time": "2023-08-23T11:56:58.331Z"
   },
   {
    "duration": 8,
    "start_time": "2023-08-23T11:56:58.359Z"
   },
   {
    "duration": 716,
    "start_time": "2023-08-23T11:56:58.369Z"
   },
   {
    "duration": 3,
    "start_time": "2023-08-23T11:56:59.087Z"
   },
   {
    "duration": 7,
    "start_time": "2023-08-23T11:56:59.092Z"
   },
   {
    "duration": 6,
    "start_time": "2023-08-23T11:56:59.100Z"
   },
   {
    "duration": 5,
    "start_time": "2023-08-23T11:56:59.107Z"
   },
   {
    "duration": 44,
    "start_time": "2023-08-23T11:56:59.114Z"
   },
   {
    "duration": 4,
    "start_time": "2023-08-23T11:56:59.160Z"
   },
   {
    "duration": 22,
    "start_time": "2023-08-23T11:56:59.165Z"
   },
   {
    "duration": 22,
    "start_time": "2023-08-23T11:56:59.189Z"
   },
   {
    "duration": 40,
    "start_time": "2023-08-23T11:56:59.213Z"
   },
   {
    "duration": 8938,
    "start_time": "2023-08-23T11:56:59.254Z"
   },
   {
    "duration": 36493,
    "start_time": "2023-08-23T11:57:08.196Z"
   },
   {
    "duration": 2362,
    "start_time": "2023-08-23T11:57:44.691Z"
   },
   {
    "duration": 298,
    "start_time": "2023-08-23T11:57:47.055Z"
   },
   {
    "duration": 197,
    "start_time": "2023-08-23T11:57:47.355Z"
   },
   {
    "duration": 8,
    "start_time": "2023-08-23T11:57:47.554Z"
   },
   {
    "duration": 10,
    "start_time": "2023-08-23T14:38:49.414Z"
   },
   {
    "duration": 244,
    "start_time": "2023-08-23T14:38:56.098Z"
   },
   {
    "duration": 128,
    "start_time": "2023-08-23T14:39:30.466Z"
   },
   {
    "duration": 56,
    "start_time": "2023-08-23T14:40:09.185Z"
   },
   {
    "duration": 59,
    "start_time": "2023-08-24T09:39:22.408Z"
   },
   {
    "duration": 1967,
    "start_time": "2023-08-24T09:43:05.596Z"
   },
   {
    "duration": 3539,
    "start_time": "2023-08-24T09:43:07.566Z"
   },
   {
    "duration": 4,
    "start_time": "2023-08-24T09:43:11.108Z"
   },
   {
    "duration": 391,
    "start_time": "2023-08-24T09:43:11.114Z"
   },
   {
    "duration": 175,
    "start_time": "2023-08-24T09:43:11.510Z"
   },
   {
    "duration": 322,
    "start_time": "2023-08-24T09:43:11.687Z"
   },
   {
    "duration": 18,
    "start_time": "2023-08-24T09:43:12.011Z"
   },
   {
    "duration": 4,
    "start_time": "2023-08-24T09:43:12.035Z"
   },
   {
    "duration": 33,
    "start_time": "2023-08-24T09:43:12.042Z"
   },
   {
    "duration": 21,
    "start_time": "2023-08-24T09:43:12.076Z"
   },
   {
    "duration": 25,
    "start_time": "2023-08-24T09:43:12.099Z"
   },
   {
    "duration": 23,
    "start_time": "2023-08-24T09:43:12.126Z"
   },
   {
    "duration": 39,
    "start_time": "2023-08-24T09:43:12.151Z"
   },
   {
    "duration": 24,
    "start_time": "2023-08-24T09:43:12.196Z"
   },
   {
    "duration": 28,
    "start_time": "2023-08-24T09:43:12.222Z"
   },
   {
    "duration": 31,
    "start_time": "2023-08-24T09:43:12.252Z"
   },
   {
    "duration": 43,
    "start_time": "2023-08-24T09:43:12.286Z"
   },
   {
    "duration": 13,
    "start_time": "2023-08-24T09:43:12.331Z"
   },
   {
    "duration": 22,
    "start_time": "2023-08-24T09:43:12.346Z"
   },
   {
    "duration": 33,
    "start_time": "2023-08-24T09:43:12.370Z"
   },
   {
    "duration": 1064,
    "start_time": "2023-08-24T09:43:12.406Z"
   },
   {
    "duration": 917,
    "start_time": "2023-08-24T09:43:13.476Z"
   },
   {
    "duration": 1088,
    "start_time": "2023-08-24T09:43:14.395Z"
   },
   {
    "duration": 606,
    "start_time": "2023-08-24T09:43:15.487Z"
   },
   {
    "duration": 9,
    "start_time": "2023-08-24T09:43:16.095Z"
   },
   {
    "duration": 814,
    "start_time": "2023-08-24T09:43:16.106Z"
   },
   {
    "duration": 10,
    "start_time": "2023-08-24T09:43:16.922Z"
   },
   {
    "duration": 1085,
    "start_time": "2023-08-24T09:43:16.935Z"
   },
   {
    "duration": 21,
    "start_time": "2023-08-24T09:43:18.022Z"
   },
   {
    "duration": 35,
    "start_time": "2023-08-24T09:43:18.045Z"
   },
   {
    "duration": 854,
    "start_time": "2023-08-24T09:43:18.082Z"
   },
   {
    "duration": 4,
    "start_time": "2023-08-24T09:43:18.938Z"
   },
   {
    "duration": 106,
    "start_time": "2023-08-24T09:43:18.944Z"
   },
   {
    "duration": 28,
    "start_time": "2023-08-24T09:43:19.052Z"
   },
   {
    "duration": 26,
    "start_time": "2023-08-24T09:43:19.082Z"
   },
   {
    "duration": 62,
    "start_time": "2023-08-24T09:43:19.110Z"
   },
   {
    "duration": 14,
    "start_time": "2023-08-24T09:43:19.174Z"
   },
   {
    "duration": 51,
    "start_time": "2023-08-24T09:43:19.191Z"
   },
   {
    "duration": 29,
    "start_time": "2023-08-24T09:43:19.244Z"
   },
   {
    "duration": 20,
    "start_time": "2023-08-24T09:43:19.277Z"
   },
   {
    "duration": 9913,
    "start_time": "2023-08-24T09:43:19.302Z"
   },
   {
    "duration": 38936,
    "start_time": "2023-08-24T09:43:29.217Z"
   },
   {
    "duration": 6934,
    "start_time": "2023-08-24T09:44:08.155Z"
   },
   {
    "duration": 478,
    "start_time": "2023-08-24T09:44:15.097Z"
   },
   {
    "duration": 121,
    "start_time": "2023-08-24T09:44:15.577Z"
   },
   {
    "duration": 83,
    "start_time": "2023-08-24T09:44:15.706Z"
   },
   {
    "duration": 15,
    "start_time": "2023-08-24T09:56:45.668Z"
   },
   {
    "duration": 19,
    "start_time": "2023-08-24T09:56:54.107Z"
   },
   {
    "duration": 1609,
    "start_time": "2023-08-24T09:57:11.055Z"
   },
   {
    "duration": 883,
    "start_time": "2023-08-24T09:57:12.666Z"
   },
   {
    "duration": 4,
    "start_time": "2023-08-24T09:57:13.551Z"
   },
   {
    "duration": 282,
    "start_time": "2023-08-24T09:57:13.557Z"
   },
   {
    "duration": 186,
    "start_time": "2023-08-24T09:57:13.841Z"
   },
   {
    "duration": 336,
    "start_time": "2023-08-24T09:57:14.029Z"
   },
   {
    "duration": 14,
    "start_time": "2023-08-24T09:57:14.367Z"
   },
   {
    "duration": 14,
    "start_time": "2023-08-24T09:57:14.383Z"
   },
   {
    "duration": 10,
    "start_time": "2023-08-24T09:57:14.399Z"
   },
   {
    "duration": 15,
    "start_time": "2023-08-24T09:57:14.413Z"
   },
   {
    "duration": 15,
    "start_time": "2023-08-24T09:57:14.431Z"
   },
   {
    "duration": 33,
    "start_time": "2023-08-24T09:57:14.448Z"
   },
   {
    "duration": 16,
    "start_time": "2023-08-24T09:57:14.483Z"
   },
   {
    "duration": 14,
    "start_time": "2023-08-24T09:57:14.500Z"
   },
   {
    "duration": 23,
    "start_time": "2023-08-24T09:57:14.516Z"
   },
   {
    "duration": 54,
    "start_time": "2023-08-24T09:57:14.541Z"
   },
   {
    "duration": 23,
    "start_time": "2023-08-24T09:57:14.597Z"
   },
   {
    "duration": 7,
    "start_time": "2023-08-24T09:57:14.622Z"
   },
   {
    "duration": 11,
    "start_time": "2023-08-24T09:57:14.631Z"
   },
   {
    "duration": 9,
    "start_time": "2023-08-24T09:57:14.643Z"
   },
   {
    "duration": 995,
    "start_time": "2023-08-24T09:57:14.671Z"
   },
   {
    "duration": 30,
    "start_time": "2023-08-24T09:57:15.672Z"
   },
   {
    "duration": 839,
    "start_time": "2023-08-24T09:57:15.704Z"
   },
   {
    "duration": 948,
    "start_time": "2023-08-24T09:57:16.544Z"
   },
   {
    "duration": 511,
    "start_time": "2023-08-24T09:57:17.494Z"
   },
   {
    "duration": 8,
    "start_time": "2023-08-24T09:57:18.010Z"
   },
   {
    "duration": 788,
    "start_time": "2023-08-24T09:57:18.020Z"
   },
   {
    "duration": 8,
    "start_time": "2023-08-24T09:57:18.815Z"
   },
   {
    "duration": 954,
    "start_time": "2023-08-24T09:57:18.825Z"
   },
   {
    "duration": 21,
    "start_time": "2023-08-24T09:57:19.781Z"
   },
   {
    "duration": 10,
    "start_time": "2023-08-24T09:57:19.804Z"
   },
   {
    "duration": 805,
    "start_time": "2023-08-24T09:57:19.816Z"
   },
   {
    "duration": 4,
    "start_time": "2023-08-24T09:57:20.622Z"
   },
   {
    "duration": 37,
    "start_time": "2023-08-24T09:57:20.629Z"
   },
   {
    "duration": 3,
    "start_time": "2023-08-24T09:57:20.668Z"
   },
   {
    "duration": 4,
    "start_time": "2023-08-24T09:57:20.673Z"
   },
   {
    "duration": 69,
    "start_time": "2023-08-24T09:57:20.678Z"
   },
   {
    "duration": 4,
    "start_time": "2023-08-24T09:57:20.749Z"
   },
   {
    "duration": 62,
    "start_time": "2023-08-24T09:57:20.755Z"
   },
   {
    "duration": 25,
    "start_time": "2023-08-24T09:57:20.819Z"
   },
   {
    "duration": 19,
    "start_time": "2023-08-24T09:57:20.846Z"
   },
   {
    "duration": 9777,
    "start_time": "2023-08-24T09:57:20.873Z"
   },
   {
    "duration": 39405,
    "start_time": "2023-08-24T09:57:30.652Z"
   },
   {
    "duration": 10916,
    "start_time": "2023-08-24T09:58:10.059Z"
   },
   {
    "duration": 909,
    "start_time": "2023-08-24T09:58:20.989Z"
   },
   {
    "duration": 230,
    "start_time": "2023-08-24T09:58:21.971Z"
   },
   {
    "duration": 20,
    "start_time": "2023-08-24T09:58:22.274Z"
   },
   {
    "duration": 10,
    "start_time": "2023-08-24T09:59:10.708Z"
   },
   {
    "duration": 18,
    "start_time": "2023-08-24T10:00:13.925Z"
   },
   {
    "duration": 1592,
    "start_time": "2023-08-24T10:00:22.498Z"
   },
   {
    "duration": 914,
    "start_time": "2023-08-24T10:00:24.096Z"
   },
   {
    "duration": 4,
    "start_time": "2023-08-24T10:00:25.012Z"
   },
   {
    "duration": 306,
    "start_time": "2023-08-24T10:00:25.018Z"
   },
   {
    "duration": 174,
    "start_time": "2023-08-24T10:00:25.327Z"
   },
   {
    "duration": 292,
    "start_time": "2023-08-24T10:00:25.503Z"
   },
   {
    "duration": 14,
    "start_time": "2023-08-24T10:00:25.797Z"
   },
   {
    "duration": 12,
    "start_time": "2023-08-24T10:00:25.812Z"
   },
   {
    "duration": 19,
    "start_time": "2023-08-24T10:00:25.826Z"
   },
   {
    "duration": 20,
    "start_time": "2023-08-24T10:00:25.847Z"
   },
   {
    "duration": 20,
    "start_time": "2023-08-24T10:00:25.873Z"
   },
   {
    "duration": 17,
    "start_time": "2023-08-24T10:00:25.896Z"
   },
   {
    "duration": 16,
    "start_time": "2023-08-24T10:00:25.915Z"
   },
   {
    "duration": 10,
    "start_time": "2023-08-24T10:00:25.934Z"
   },
   {
    "duration": 32,
    "start_time": "2023-08-24T10:00:25.946Z"
   },
   {
    "duration": 34,
    "start_time": "2023-08-24T10:00:25.983Z"
   },
   {
    "duration": 23,
    "start_time": "2023-08-24T10:00:26.018Z"
   },
   {
    "duration": 11,
    "start_time": "2023-08-24T10:00:26.043Z"
   },
   {
    "duration": 20,
    "start_time": "2023-08-24T10:00:26.055Z"
   },
   {
    "duration": 12,
    "start_time": "2023-08-24T10:00:26.089Z"
   },
   {
    "duration": 932,
    "start_time": "2023-08-24T10:00:26.103Z"
   },
   {
    "duration": 35,
    "start_time": "2023-08-24T10:00:27.037Z"
   },
   {
    "duration": 821,
    "start_time": "2023-08-24T10:00:27.074Z"
   },
   {
    "duration": 15,
    "start_time": "2023-08-24T10:00:27.899Z"
   },
   {
    "duration": 930,
    "start_time": "2023-08-24T10:00:27.917Z"
   },
   {
    "duration": 24,
    "start_time": "2023-08-24T10:00:28.849Z"
   },
   {
    "duration": 484,
    "start_time": "2023-08-24T10:00:28.874Z"
   },
   {
    "duration": 13,
    "start_time": "2023-08-24T10:00:29.366Z"
   },
   {
    "duration": 806,
    "start_time": "2023-08-24T10:00:29.381Z"
   },
   {
    "duration": 9,
    "start_time": "2023-08-24T10:00:30.194Z"
   },
   {
    "duration": 990,
    "start_time": "2023-08-24T10:00:30.206Z"
   },
   {
    "duration": 19,
    "start_time": "2023-08-24T10:00:31.197Z"
   },
   {
    "duration": 23,
    "start_time": "2023-08-24T10:00:31.218Z"
   },
   {
    "duration": 826,
    "start_time": "2023-08-24T10:00:31.243Z"
   },
   {
    "duration": 4,
    "start_time": "2023-08-24T10:00:32.071Z"
   },
   {
    "duration": 72,
    "start_time": "2023-08-24T10:00:32.077Z"
   },
   {
    "duration": 93,
    "start_time": "2023-08-24T10:00:32.151Z"
   },
   {
    "duration": 55,
    "start_time": "2023-08-24T10:00:32.247Z"
   },
   {
    "duration": 85,
    "start_time": "2023-08-24T10:00:32.307Z"
   },
   {
    "duration": 24,
    "start_time": "2023-08-24T10:00:32.394Z"
   },
   {
    "duration": 32,
    "start_time": "2023-08-24T10:00:32.424Z"
   },
   {
    "duration": 55,
    "start_time": "2023-08-24T10:00:32.458Z"
   },
   {
    "duration": 16,
    "start_time": "2023-08-24T10:00:32.516Z"
   },
   {
    "duration": 10229,
    "start_time": "2023-08-24T10:00:32.534Z"
   },
   {
    "duration": 39837,
    "start_time": "2023-08-24T10:00:42.769Z"
   },
   {
    "duration": 5685,
    "start_time": "2023-08-24T10:01:22.608Z"
   },
   {
    "duration": 863,
    "start_time": "2023-08-24T10:01:28.304Z"
   },
   {
    "duration": 232,
    "start_time": "2023-08-24T10:01:29.169Z"
   },
   {
    "duration": 95,
    "start_time": "2023-08-24T10:01:29.479Z"
   },
   {
    "duration": 1011,
    "start_time": "2023-08-24T10:01:43.375Z"
   },
   {
    "duration": 1765,
    "start_time": "2023-08-24T10:02:30.996Z"
   },
   {
    "duration": 932,
    "start_time": "2023-08-24T10:02:32.763Z"
   },
   {
    "duration": 3,
    "start_time": "2023-08-24T10:02:33.701Z"
   },
   {
    "duration": 302,
    "start_time": "2023-08-24T10:02:33.706Z"
   },
   {
    "duration": 196,
    "start_time": "2023-08-24T10:02:34.010Z"
   },
   {
    "duration": 321,
    "start_time": "2023-08-24T10:02:34.209Z"
   },
   {
    "duration": 15,
    "start_time": "2023-08-24T10:02:34.532Z"
   },
   {
    "duration": 45,
    "start_time": "2023-08-24T10:02:34.549Z"
   },
   {
    "duration": 39,
    "start_time": "2023-08-24T10:02:34.597Z"
   },
   {
    "duration": 48,
    "start_time": "2023-08-24T10:02:34.640Z"
   },
   {
    "duration": 44,
    "start_time": "2023-08-24T10:02:34.689Z"
   },
   {
    "duration": 43,
    "start_time": "2023-08-24T10:02:34.735Z"
   },
   {
    "duration": 30,
    "start_time": "2023-08-24T10:02:34.783Z"
   },
   {
    "duration": 23,
    "start_time": "2023-08-24T10:02:34.816Z"
   },
   {
    "duration": 35,
    "start_time": "2023-08-24T10:02:34.841Z"
   },
   {
    "duration": 42,
    "start_time": "2023-08-24T10:02:34.880Z"
   },
   {
    "duration": 29,
    "start_time": "2023-08-24T10:02:34.925Z"
   },
   {
    "duration": 18,
    "start_time": "2023-08-24T10:02:34.956Z"
   },
   {
    "duration": 22,
    "start_time": "2023-08-24T10:02:34.981Z"
   },
   {
    "duration": 30,
    "start_time": "2023-08-24T10:02:35.005Z"
   },
   {
    "duration": 956,
    "start_time": "2023-08-24T10:02:35.036Z"
   },
   {
    "duration": 15,
    "start_time": "2023-08-24T10:02:35.994Z"
   },
   {
    "duration": 929,
    "start_time": "2023-08-24T10:02:36.011Z"
   },
   {
    "duration": 13,
    "start_time": "2023-08-24T10:02:36.942Z"
   },
   {
    "duration": 1057,
    "start_time": "2023-08-24T10:02:36.968Z"
   },
   {
    "duration": 12,
    "start_time": "2023-08-24T10:02:38.027Z"
   },
   {
    "duration": 904,
    "start_time": "2023-08-24T10:02:38.041Z"
   },
   {
    "duration": 496,
    "start_time": "2023-08-24T10:02:38.949Z"
   },
   {
    "duration": 22,
    "start_time": "2023-08-24T10:02:39.446Z"
   },
   {
    "duration": 978,
    "start_time": "2023-08-24T10:02:39.476Z"
   },
   {
    "duration": 22,
    "start_time": "2023-08-24T10:02:40.456Z"
   },
   {
    "duration": 833,
    "start_time": "2023-08-24T10:02:40.482Z"
   },
   {
    "duration": 21,
    "start_time": "2023-08-24T10:02:41.317Z"
   },
   {
    "duration": 7,
    "start_time": "2023-08-24T10:02:41.340Z"
   },
   {
    "duration": 1017,
    "start_time": "2023-08-24T10:02:41.348Z"
   },
   {
    "duration": 20,
    "start_time": "2023-08-24T10:02:42.377Z"
   },
   {
    "duration": 9,
    "start_time": "2023-08-24T10:02:42.401Z"
   },
   {
    "duration": 12,
    "start_time": "2023-08-24T10:02:42.412Z"
   },
   {
    "duration": 12,
    "start_time": "2023-08-24T10:02:42.428Z"
   },
   {
    "duration": 43,
    "start_time": "2023-08-24T10:02:42.442Z"
   },
   {
    "duration": 25,
    "start_time": "2023-08-24T10:02:42.488Z"
   },
   {
    "duration": 47,
    "start_time": "2023-08-24T10:02:42.515Z"
   },
   {
    "duration": 35,
    "start_time": "2023-08-24T10:02:42.564Z"
   },
   {
    "duration": 20,
    "start_time": "2023-08-24T10:02:42.601Z"
   },
   {
    "duration": 10363,
    "start_time": "2023-08-24T10:02:42.624Z"
   },
   {
    "duration": 40877,
    "start_time": "2023-08-24T10:02:52.988Z"
   },
   {
    "duration": 8841,
    "start_time": "2023-08-24T10:03:33.868Z"
   },
   {
    "duration": 1011,
    "start_time": "2023-08-24T10:03:42.711Z"
   },
   {
    "duration": 338,
    "start_time": "2023-08-24T10:03:43.773Z"
   },
   {
    "duration": 17,
    "start_time": "2023-08-24T10:03:44.173Z"
   },
   {
    "duration": 23,
    "start_time": "2023-08-24T10:03:44.199Z"
   },
   {
    "duration": 910,
    "start_time": "2023-08-24T10:03:44.273Z"
   },
   {
    "duration": 139,
    "start_time": "2023-08-24T10:04:06.812Z"
   },
   {
    "duration": 13,
    "start_time": "2023-08-24T10:04:17.451Z"
   },
   {
    "duration": 1033,
    "start_time": "2023-08-24T10:04:18.611Z"
   },
   {
    "duration": 13,
    "start_time": "2023-08-24T10:05:23.709Z"
   },
   {
    "duration": 760,
    "start_time": "2023-08-24T10:05:24.996Z"
   },
   {
    "duration": 11,
    "start_time": "2023-08-24T10:06:01.007Z"
   },
   {
    "duration": 1088,
    "start_time": "2023-08-24T10:06:01.702Z"
   },
   {
    "duration": 10,
    "start_time": "2023-08-24T10:06:24.603Z"
   },
   {
    "duration": 856,
    "start_time": "2023-08-24T10:06:27.966Z"
   },
   {
    "duration": 10,
    "start_time": "2023-08-24T10:06:47.428Z"
   },
   {
    "duration": 843,
    "start_time": "2023-08-24T10:06:48.108Z"
   },
   {
    "duration": 5,
    "start_time": "2023-08-24T10:09:57.706Z"
   },
   {
    "duration": 4,
    "start_time": "2023-08-24T10:10:12.224Z"
   },
   {
    "duration": 4,
    "start_time": "2023-08-24T10:10:39.903Z"
   },
   {
    "duration": 9,
    "start_time": "2023-08-24T10:11:04.756Z"
   },
   {
    "duration": 992,
    "start_time": "2023-08-24T10:11:08.507Z"
   },
   {
    "duration": 11,
    "start_time": "2023-08-24T10:12:41.237Z"
   },
   {
    "duration": 12,
    "start_time": "2023-08-24T10:12:55.609Z"
   },
   {
    "duration": 1710,
    "start_time": "2023-08-24T10:13:09.711Z"
   },
   {
    "duration": 903,
    "start_time": "2023-08-24T10:13:11.423Z"
   },
   {
    "duration": 4,
    "start_time": "2023-08-24T10:13:12.327Z"
   },
   {
    "duration": 297,
    "start_time": "2023-08-24T10:13:12.333Z"
   },
   {
    "duration": 189,
    "start_time": "2023-08-24T10:13:12.633Z"
   },
   {
    "duration": 324,
    "start_time": "2023-08-24T10:13:12.824Z"
   },
   {
    "duration": 30,
    "start_time": "2023-08-24T10:13:13.150Z"
   },
   {
    "duration": 6,
    "start_time": "2023-08-24T10:13:13.185Z"
   },
   {
    "duration": 10,
    "start_time": "2023-08-24T10:13:13.193Z"
   },
   {
    "duration": 9,
    "start_time": "2023-08-24T10:13:13.206Z"
   },
   {
    "duration": 12,
    "start_time": "2023-08-24T10:13:13.217Z"
   },
   {
    "duration": 19,
    "start_time": "2023-08-24T10:13:13.231Z"
   },
   {
    "duration": 15,
    "start_time": "2023-08-24T10:13:13.276Z"
   },
   {
    "duration": 11,
    "start_time": "2023-08-24T10:13:13.298Z"
   },
   {
    "duration": 9,
    "start_time": "2023-08-24T10:13:13.311Z"
   },
   {
    "duration": 19,
    "start_time": "2023-08-24T10:13:13.322Z"
   },
   {
    "duration": 48,
    "start_time": "2023-08-24T10:13:13.343Z"
   },
   {
    "duration": 20,
    "start_time": "2023-08-24T10:13:13.393Z"
   },
   {
    "duration": 16,
    "start_time": "2023-08-24T10:13:13.415Z"
   },
   {
    "duration": 28,
    "start_time": "2023-08-24T10:13:13.433Z"
   },
   {
    "duration": 1047,
    "start_time": "2023-08-24T10:13:13.463Z"
   },
   {
    "duration": 17,
    "start_time": "2023-08-24T10:13:14.513Z"
   },
   {
    "duration": 1022,
    "start_time": "2023-08-24T10:13:14.532Z"
   },
   {
    "duration": 36,
    "start_time": "2023-08-24T10:13:15.556Z"
   },
   {
    "duration": 1016,
    "start_time": "2023-08-24T10:13:15.594Z"
   },
   {
    "duration": 10,
    "start_time": "2023-08-24T10:13:16.612Z"
   },
   {
    "duration": 275,
    "start_time": "2023-08-24T10:13:16.623Z"
   },
   {
    "duration": 0,
    "start_time": "2023-08-24T10:13:16.903Z"
   },
   {
    "duration": 0,
    "start_time": "2023-08-24T10:13:16.904Z"
   },
   {
    "duration": 0,
    "start_time": "2023-08-24T10:13:16.906Z"
   },
   {
    "duration": 0,
    "start_time": "2023-08-24T10:13:16.907Z"
   },
   {
    "duration": 1,
    "start_time": "2023-08-24T10:13:16.909Z"
   },
   {
    "duration": 0,
    "start_time": "2023-08-24T10:13:16.911Z"
   },
   {
    "duration": 0,
    "start_time": "2023-08-24T10:13:16.912Z"
   },
   {
    "duration": 0,
    "start_time": "2023-08-24T10:13:16.914Z"
   },
   {
    "duration": 0,
    "start_time": "2023-08-24T10:13:16.915Z"
   },
   {
    "duration": 0,
    "start_time": "2023-08-24T10:13:16.917Z"
   },
   {
    "duration": 0,
    "start_time": "2023-08-24T10:13:16.918Z"
   },
   {
    "duration": 0,
    "start_time": "2023-08-24T10:13:16.919Z"
   },
   {
    "duration": 0,
    "start_time": "2023-08-24T10:13:16.921Z"
   },
   {
    "duration": 0,
    "start_time": "2023-08-24T10:13:16.922Z"
   },
   {
    "duration": 0,
    "start_time": "2023-08-24T10:13:16.923Z"
   },
   {
    "duration": 0,
    "start_time": "2023-08-24T10:13:16.925Z"
   },
   {
    "duration": 0,
    "start_time": "2023-08-24T10:13:16.926Z"
   },
   {
    "duration": 0,
    "start_time": "2023-08-24T10:13:16.927Z"
   },
   {
    "duration": 0,
    "start_time": "2023-08-24T10:13:16.928Z"
   },
   {
    "duration": 0,
    "start_time": "2023-08-24T10:13:16.929Z"
   },
   {
    "duration": 0,
    "start_time": "2023-08-24T10:13:16.930Z"
   },
   {
    "duration": 0,
    "start_time": "2023-08-24T10:13:16.932Z"
   },
   {
    "duration": 0,
    "start_time": "2023-08-24T10:13:16.933Z"
   },
   {
    "duration": 0,
    "start_time": "2023-08-24T10:13:16.934Z"
   },
   {
    "duration": 14,
    "start_time": "2023-08-24T10:14:13.932Z"
   },
   {
    "duration": 842,
    "start_time": "2023-08-24T10:14:14.652Z"
   },
   {
    "duration": 1640,
    "start_time": "2023-08-24T10:14:26.204Z"
   },
   {
    "duration": 865,
    "start_time": "2023-08-24T10:14:27.846Z"
   },
   {
    "duration": 3,
    "start_time": "2023-08-24T10:14:28.713Z"
   },
   {
    "duration": 310,
    "start_time": "2023-08-24T10:14:28.718Z"
   },
   {
    "duration": 212,
    "start_time": "2023-08-24T10:14:29.031Z"
   },
   {
    "duration": 312,
    "start_time": "2023-08-24T10:14:29.245Z"
   },
   {
    "duration": 16,
    "start_time": "2023-08-24T10:14:29.559Z"
   },
   {
    "duration": 6,
    "start_time": "2023-08-24T10:14:29.576Z"
   },
   {
    "duration": 24,
    "start_time": "2023-08-24T10:14:29.583Z"
   },
   {
    "duration": 12,
    "start_time": "2023-08-24T10:14:29.609Z"
   },
   {
    "duration": 11,
    "start_time": "2023-08-24T10:14:29.623Z"
   },
   {
    "duration": 16,
    "start_time": "2023-08-24T10:14:29.636Z"
   },
   {
    "duration": 28,
    "start_time": "2023-08-24T10:14:29.654Z"
   },
   {
    "duration": 15,
    "start_time": "2023-08-24T10:14:29.686Z"
   },
   {
    "duration": 10,
    "start_time": "2023-08-24T10:14:29.703Z"
   },
   {
    "duration": 21,
    "start_time": "2023-08-24T10:14:29.715Z"
   },
   {
    "duration": 16,
    "start_time": "2023-08-24T10:14:29.739Z"
   },
   {
    "duration": 21,
    "start_time": "2023-08-24T10:14:29.772Z"
   },
   {
    "duration": 53,
    "start_time": "2023-08-24T10:14:29.794Z"
   },
   {
    "duration": 111,
    "start_time": "2023-08-24T10:14:29.849Z"
   },
   {
    "duration": 969,
    "start_time": "2023-08-24T10:14:29.962Z"
   },
   {
    "duration": 16,
    "start_time": "2023-08-24T10:14:30.933Z"
   },
   {
    "duration": 993,
    "start_time": "2023-08-24T10:14:30.951Z"
   },
   {
    "duration": 10,
    "start_time": "2023-08-24T10:14:31.946Z"
   },
   {
    "duration": 1087,
    "start_time": "2023-08-24T10:14:31.958Z"
   },
   {
    "duration": 22,
    "start_time": "2023-08-24T10:14:33.047Z"
   },
   {
    "duration": 918,
    "start_time": "2023-08-24T10:14:33.072Z"
   },
   {
    "duration": 141,
    "start_time": "2023-08-24T10:14:33.996Z"
   },
   {
    "duration": 0,
    "start_time": "2023-08-24T10:14:34.139Z"
   },
   {
    "duration": 0,
    "start_time": "2023-08-24T10:14:34.141Z"
   },
   {
    "duration": 0,
    "start_time": "2023-08-24T10:14:34.142Z"
   },
   {
    "duration": 0,
    "start_time": "2023-08-24T10:14:34.144Z"
   },
   {
    "duration": 0,
    "start_time": "2023-08-24T10:14:34.145Z"
   },
   {
    "duration": 0,
    "start_time": "2023-08-24T10:14:34.146Z"
   },
   {
    "duration": 0,
    "start_time": "2023-08-24T10:14:34.148Z"
   },
   {
    "duration": 0,
    "start_time": "2023-08-24T10:14:34.149Z"
   },
   {
    "duration": 0,
    "start_time": "2023-08-24T10:14:34.150Z"
   },
   {
    "duration": 0,
    "start_time": "2023-08-24T10:14:34.151Z"
   },
   {
    "duration": 0,
    "start_time": "2023-08-24T10:14:34.176Z"
   },
   {
    "duration": 0,
    "start_time": "2023-08-24T10:14:34.179Z"
   },
   {
    "duration": 0,
    "start_time": "2023-08-24T10:14:34.187Z"
   },
   {
    "duration": 0,
    "start_time": "2023-08-24T10:14:34.188Z"
   },
   {
    "duration": 0,
    "start_time": "2023-08-24T10:14:34.189Z"
   },
   {
    "duration": 0,
    "start_time": "2023-08-24T10:14:34.191Z"
   },
   {
    "duration": 0,
    "start_time": "2023-08-24T10:14:34.192Z"
   },
   {
    "duration": 0,
    "start_time": "2023-08-24T10:14:34.192Z"
   },
   {
    "duration": 0,
    "start_time": "2023-08-24T10:14:34.193Z"
   },
   {
    "duration": 0,
    "start_time": "2023-08-24T10:14:34.194Z"
   },
   {
    "duration": 0,
    "start_time": "2023-08-24T10:14:34.195Z"
   },
   {
    "duration": 0,
    "start_time": "2023-08-24T10:14:34.196Z"
   },
   {
    "duration": 16,
    "start_time": "2023-08-24T10:15:07.339Z"
   },
   {
    "duration": 12,
    "start_time": "2023-08-24T10:15:28.408Z"
   },
   {
    "duration": 13,
    "start_time": "2023-08-24T10:15:57.839Z"
   },
   {
    "duration": 1735,
    "start_time": "2023-08-24T10:16:08.710Z"
   },
   {
    "duration": 883,
    "start_time": "2023-08-24T10:16:10.447Z"
   },
   {
    "duration": 3,
    "start_time": "2023-08-24T10:16:11.331Z"
   },
   {
    "duration": 305,
    "start_time": "2023-08-24T10:16:11.336Z"
   },
   {
    "duration": 178,
    "start_time": "2023-08-24T10:16:11.643Z"
   },
   {
    "duration": 321,
    "start_time": "2023-08-24T10:16:11.822Z"
   },
   {
    "duration": 34,
    "start_time": "2023-08-24T10:16:12.146Z"
   },
   {
    "duration": 7,
    "start_time": "2023-08-24T10:16:12.188Z"
   },
   {
    "duration": 17,
    "start_time": "2023-08-24T10:16:12.197Z"
   },
   {
    "duration": 34,
    "start_time": "2023-08-24T10:16:12.216Z"
   },
   {
    "duration": 26,
    "start_time": "2023-08-24T10:16:12.251Z"
   },
   {
    "duration": 22,
    "start_time": "2023-08-24T10:16:12.281Z"
   },
   {
    "duration": 21,
    "start_time": "2023-08-24T10:16:12.305Z"
   },
   {
    "duration": 8,
    "start_time": "2023-08-24T10:16:12.330Z"
   },
   {
    "duration": 13,
    "start_time": "2023-08-24T10:16:12.340Z"
   },
   {
    "duration": 28,
    "start_time": "2023-08-24T10:16:12.355Z"
   },
   {
    "duration": 35,
    "start_time": "2023-08-24T10:16:12.385Z"
   },
   {
    "duration": 12,
    "start_time": "2023-08-24T10:16:12.422Z"
   },
   {
    "duration": 27,
    "start_time": "2023-08-24T10:16:12.435Z"
   },
   {
    "duration": 13,
    "start_time": "2023-08-24T10:16:12.469Z"
   },
   {
    "duration": 976,
    "start_time": "2023-08-24T10:16:12.484Z"
   },
   {
    "duration": 33,
    "start_time": "2023-08-24T10:16:13.462Z"
   },
   {
    "duration": 917,
    "start_time": "2023-08-24T10:16:13.503Z"
   },
   {
    "duration": 15,
    "start_time": "2023-08-24T10:16:14.423Z"
   },
   {
    "duration": 995,
    "start_time": "2023-08-24T10:16:14.441Z"
   },
   {
    "duration": 10,
    "start_time": "2023-08-24T10:16:15.438Z"
   },
   {
    "duration": 858,
    "start_time": "2023-08-24T10:16:15.450Z"
   },
   {
    "duration": 541,
    "start_time": "2023-08-24T10:16:16.310Z"
   },
   {
    "duration": 28,
    "start_time": "2023-08-24T10:16:16.854Z"
   },
   {
    "duration": 958,
    "start_time": "2023-08-24T10:16:16.894Z"
   },
   {
    "duration": 21,
    "start_time": "2023-08-24T10:16:17.854Z"
   },
   {
    "duration": 782,
    "start_time": "2023-08-24T10:16:17.877Z"
   },
   {
    "duration": 33,
    "start_time": "2023-08-24T10:16:18.661Z"
   },
   {
    "duration": 13,
    "start_time": "2023-08-24T10:16:18.699Z"
   },
   {
    "duration": 1012,
    "start_time": "2023-08-24T10:16:18.715Z"
   },
   {
    "duration": 3,
    "start_time": "2023-08-24T10:16:19.729Z"
   },
   {
    "duration": 11,
    "start_time": "2023-08-24T10:16:19.734Z"
   },
   {
    "duration": 27,
    "start_time": "2023-08-24T10:16:19.747Z"
   },
   {
    "duration": 16,
    "start_time": "2023-08-24T10:16:19.779Z"
   },
   {
    "duration": 46,
    "start_time": "2023-08-24T10:16:19.797Z"
   },
   {
    "duration": 5,
    "start_time": "2023-08-24T10:16:19.847Z"
   },
   {
    "duration": 35,
    "start_time": "2023-08-24T10:16:19.853Z"
   },
   {
    "duration": 33,
    "start_time": "2023-08-24T10:16:19.890Z"
   },
   {
    "duration": 21,
    "start_time": "2023-08-24T10:16:19.925Z"
   },
   {
    "duration": 9655,
    "start_time": "2023-08-24T10:16:19.948Z"
   },
   {
    "duration": 40067,
    "start_time": "2023-08-24T10:16:29.609Z"
   },
   {
    "duration": 8489,
    "start_time": "2023-08-24T10:17:09.685Z"
   },
   {
    "duration": 1194,
    "start_time": "2023-08-24T10:17:18.184Z"
   },
   {
    "duration": 119,
    "start_time": "2023-08-24T10:17:19.393Z"
   },
   {
    "duration": 99,
    "start_time": "2023-08-24T10:17:19.578Z"
   },
   {
    "duration": 21,
    "start_time": "2023-08-24T10:18:28.838Z"
   },
   {
    "duration": 69,
    "start_time": "2023-08-24T10:20:19.658Z"
   },
   {
    "duration": 641,
    "start_time": "2023-08-24T10:25:27.764Z"
   },
   {
    "duration": 1146,
    "start_time": "2023-08-24T10:26:03.162Z"
   },
   {
    "duration": 883,
    "start_time": "2023-08-24T10:27:43.202Z"
   },
   {
    "duration": 3412,
    "start_time": "2023-08-24T10:29:10.939Z"
   },
   {
    "duration": 879,
    "start_time": "2023-08-24T10:31:15.452Z"
   },
   {
    "duration": 1238,
    "start_time": "2023-08-24T10:31:33.606Z"
   },
   {
    "duration": 984,
    "start_time": "2023-08-24T10:32:02.633Z"
   },
   {
    "duration": 1204,
    "start_time": "2023-08-24T10:33:06.054Z"
   },
   {
    "duration": 204,
    "start_time": "2023-08-24T10:33:42.196Z"
   },
   {
    "duration": 486,
    "start_time": "2023-08-24T10:33:52.730Z"
   },
   {
    "duration": 430,
    "start_time": "2023-08-24T10:34:15.541Z"
   },
   {
    "duration": 4,
    "start_time": "2023-08-24T10:41:31.447Z"
   },
   {
    "duration": 114,
    "start_time": "2023-08-24T10:52:42.076Z"
   },
   {
    "duration": 9050,
    "start_time": "2023-08-24T10:52:54.494Z"
   },
   {
    "duration": 9007,
    "start_time": "2023-08-24T10:53:22.324Z"
   },
   {
    "duration": 22,
    "start_time": "2023-08-24T10:59:19.662Z"
   },
   {
    "duration": 1722,
    "start_time": "2023-08-24T11:12:28.955Z"
   },
   {
    "duration": 926,
    "start_time": "2023-08-24T11:12:30.684Z"
   },
   {
    "duration": 4,
    "start_time": "2023-08-24T11:12:31.612Z"
   },
   {
    "duration": 379,
    "start_time": "2023-08-24T11:12:31.618Z"
   },
   {
    "duration": 179,
    "start_time": "2023-08-24T11:12:32.001Z"
   },
   {
    "duration": 383,
    "start_time": "2023-08-24T11:12:32.183Z"
   },
   {
    "duration": 20,
    "start_time": "2023-08-24T11:12:32.568Z"
   },
   {
    "duration": 16,
    "start_time": "2023-08-24T11:12:32.593Z"
   },
   {
    "duration": 28,
    "start_time": "2023-08-24T11:12:32.612Z"
   },
   {
    "duration": 16,
    "start_time": "2023-08-24T11:12:32.642Z"
   },
   {
    "duration": 20,
    "start_time": "2023-08-24T11:12:32.661Z"
   },
   {
    "duration": 24,
    "start_time": "2023-08-24T11:12:32.684Z"
   },
   {
    "duration": 52,
    "start_time": "2023-08-24T11:12:32.710Z"
   },
   {
    "duration": 30,
    "start_time": "2023-08-24T11:12:32.765Z"
   },
   {
    "duration": 23,
    "start_time": "2023-08-24T11:12:32.799Z"
   },
   {
    "duration": 33,
    "start_time": "2023-08-24T11:12:32.824Z"
   },
   {
    "duration": 45,
    "start_time": "2023-08-24T11:12:32.860Z"
   },
   {
    "duration": 13,
    "start_time": "2023-08-24T11:12:32.909Z"
   },
   {
    "duration": 16,
    "start_time": "2023-08-24T11:12:32.926Z"
   },
   {
    "duration": 29,
    "start_time": "2023-08-24T11:12:32.945Z"
   },
   {
    "duration": 1036,
    "start_time": "2023-08-24T11:12:32.979Z"
   },
   {
    "duration": 21,
    "start_time": "2023-08-24T11:12:34.018Z"
   },
   {
    "duration": 1048,
    "start_time": "2023-08-24T11:12:34.041Z"
   },
   {
    "duration": 13,
    "start_time": "2023-08-24T11:12:35.093Z"
   },
   {
    "duration": 1046,
    "start_time": "2023-08-24T11:12:35.108Z"
   },
   {
    "duration": 32,
    "start_time": "2023-08-24T11:12:36.157Z"
   },
   {
    "duration": 600,
    "start_time": "2023-08-24T11:12:36.191Z"
   },
   {
    "duration": 523,
    "start_time": "2023-08-24T11:12:36.797Z"
   },
   {
    "duration": 10,
    "start_time": "2023-08-24T11:12:37.322Z"
   },
   {
    "duration": 1196,
    "start_time": "2023-08-24T11:12:37.334Z"
   },
   {
    "duration": 12,
    "start_time": "2023-08-24T11:12:38.532Z"
   },
   {
    "duration": 828,
    "start_time": "2023-08-24T11:12:38.548Z"
   },
   {
    "duration": 30,
    "start_time": "2023-08-24T11:12:39.383Z"
   },
   {
    "duration": 12,
    "start_time": "2023-08-24T11:12:39.415Z"
   },
   {
    "duration": 983,
    "start_time": "2023-08-24T11:12:39.430Z"
   },
   {
    "duration": 4,
    "start_time": "2023-08-24T11:12:40.415Z"
   },
   {
    "duration": 23,
    "start_time": "2023-08-24T11:12:40.421Z"
   },
   {
    "duration": 31,
    "start_time": "2023-08-24T11:12:40.445Z"
   },
   {
    "duration": 34,
    "start_time": "2023-08-24T11:12:40.478Z"
   },
   {
    "duration": 43,
    "start_time": "2023-08-24T11:12:40.515Z"
   },
   {
    "duration": 53,
    "start_time": "2023-08-24T11:12:40.564Z"
   },
   {
    "duration": 176,
    "start_time": "2023-08-24T11:12:40.619Z"
   },
   {
    "duration": 155,
    "start_time": "2023-08-24T11:12:40.798Z"
   },
   {
    "duration": 35,
    "start_time": "2023-08-24T11:12:40.956Z"
   },
   {
    "duration": 10062,
    "start_time": "2023-08-24T11:12:40.992Z"
   },
   {
    "duration": 9391,
    "start_time": "2023-08-24T11:12:51.057Z"
   },
   {
    "duration": 38311,
    "start_time": "2023-08-24T11:13:00.451Z"
   },
   {
    "duration": 42916,
    "start_time": "2023-08-24T11:13:38.764Z"
   },
   {
    "duration": 4980,
    "start_time": "2023-08-24T11:14:21.692Z"
   },
   {
    "duration": 518,
    "start_time": "2023-08-24T11:14:26.676Z"
   },
   {
    "duration": 174,
    "start_time": "2023-08-24T11:14:27.202Z"
   },
   {
    "duration": 86,
    "start_time": "2023-08-24T11:14:27.385Z"
   },
   {
    "duration": 20928,
    "start_time": "2023-08-24T11:16:42.798Z"
   },
   {
    "duration": 51506,
    "start_time": "2023-08-24T11:20:59.738Z"
   },
   {
    "duration": 48921,
    "start_time": "2023-08-24T11:22:28.199Z"
   },
   {
    "duration": 45815,
    "start_time": "2023-08-24T11:23:29.900Z"
   },
   {
    "duration": 21004,
    "start_time": "2023-08-24T11:24:31.786Z"
   },
   {
    "duration": 2293,
    "start_time": "2023-08-24T11:25:44.409Z"
   },
   {
    "duration": 4,
    "start_time": "2023-08-24T11:29:48.055Z"
   },
   {
    "duration": 11,
    "start_time": "2023-08-24T11:37:43.984Z"
   },
   {
    "duration": 6,
    "start_time": "2023-08-24T11:38:35.013Z"
   },
   {
    "duration": 11,
    "start_time": "2023-08-24T11:40:05.913Z"
   },
   {
    "duration": 2600,
    "start_time": "2023-08-24T11:44:11.208Z"
   },
   {
    "duration": 14,
    "start_time": "2023-08-24T11:44:36.309Z"
   },
   {
    "duration": 12,
    "start_time": "2023-08-24T11:44:57.012Z"
   },
   {
    "duration": 13,
    "start_time": "2023-08-24T11:45:16.105Z"
   },
   {
    "duration": 19,
    "start_time": "2023-08-24T11:45:28.883Z"
   },
   {
    "duration": 1720,
    "start_time": "2023-08-24T11:45:42.103Z"
   },
   {
    "duration": 898,
    "start_time": "2023-08-24T11:45:43.825Z"
   },
   {
    "duration": 3,
    "start_time": "2023-08-24T11:45:44.725Z"
   },
   {
    "duration": 354,
    "start_time": "2023-08-24T11:45:44.730Z"
   },
   {
    "duration": 170,
    "start_time": "2023-08-24T11:45:45.088Z"
   },
   {
    "duration": 337,
    "start_time": "2023-08-24T11:45:45.271Z"
   },
   {
    "duration": 16,
    "start_time": "2023-08-24T11:45:45.610Z"
   },
   {
    "duration": 5,
    "start_time": "2023-08-24T11:45:45.628Z"
   },
   {
    "duration": 33,
    "start_time": "2023-08-24T11:45:45.635Z"
   },
   {
    "duration": 13,
    "start_time": "2023-08-24T11:45:45.671Z"
   },
   {
    "duration": 34,
    "start_time": "2023-08-24T11:45:45.687Z"
   },
   {
    "duration": 31,
    "start_time": "2023-08-24T11:45:45.723Z"
   },
   {
    "duration": 37,
    "start_time": "2023-08-24T11:45:45.756Z"
   },
   {
    "duration": 25,
    "start_time": "2023-08-24T11:45:45.796Z"
   },
   {
    "duration": 31,
    "start_time": "2023-08-24T11:45:45.824Z"
   },
   {
    "duration": 49,
    "start_time": "2023-08-24T11:45:45.856Z"
   },
   {
    "duration": 31,
    "start_time": "2023-08-24T11:45:45.907Z"
   },
   {
    "duration": 13,
    "start_time": "2023-08-24T11:45:45.940Z"
   },
   {
    "duration": 30,
    "start_time": "2023-08-24T11:45:45.954Z"
   },
   {
    "duration": 15,
    "start_time": "2023-08-24T11:45:45.987Z"
   },
   {
    "duration": 1059,
    "start_time": "2023-08-24T11:45:46.004Z"
   },
   {
    "duration": 22,
    "start_time": "2023-08-24T11:45:47.067Z"
   },
   {
    "duration": 999,
    "start_time": "2023-08-24T11:45:47.092Z"
   },
   {
    "duration": 13,
    "start_time": "2023-08-24T11:45:48.093Z"
   },
   {
    "duration": 2812,
    "start_time": "2023-08-24T11:45:48.108Z"
   },
   {
    "duration": 16,
    "start_time": "2023-08-24T11:45:50.922Z"
   },
   {
    "duration": 506,
    "start_time": "2023-08-24T11:45:50.940Z"
   },
   {
    "duration": 547,
    "start_time": "2023-08-24T11:45:51.449Z"
   },
   {
    "duration": 9,
    "start_time": "2023-08-24T11:45:51.998Z"
   },
   {
    "duration": 1073,
    "start_time": "2023-08-24T11:45:52.009Z"
   },
   {
    "duration": 12,
    "start_time": "2023-08-24T11:45:53.091Z"
   },
   {
    "duration": 948,
    "start_time": "2023-08-24T11:45:53.105Z"
   },
   {
    "duration": 38,
    "start_time": "2023-08-24T11:45:54.056Z"
   },
   {
    "duration": 10,
    "start_time": "2023-08-24T11:45:54.102Z"
   },
   {
    "duration": 1059,
    "start_time": "2023-08-24T11:45:54.114Z"
   },
   {
    "duration": 11,
    "start_time": "2023-08-24T11:45:55.177Z"
   },
   {
    "duration": 13,
    "start_time": "2023-08-24T11:45:55.196Z"
   },
   {
    "duration": 20,
    "start_time": "2023-08-24T11:45:55.212Z"
   },
   {
    "duration": 13,
    "start_time": "2023-08-24T11:45:55.234Z"
   },
   {
    "duration": 48,
    "start_time": "2023-08-24T11:45:55.249Z"
   },
   {
    "duration": 6,
    "start_time": "2023-08-24T11:45:55.299Z"
   },
   {
    "duration": 37,
    "start_time": "2023-08-24T11:45:55.307Z"
   },
   {
    "duration": 40,
    "start_time": "2023-08-24T11:45:55.346Z"
   },
   {
    "duration": 15,
    "start_time": "2023-08-24T11:45:55.388Z"
   },
   {
    "duration": 10758,
    "start_time": "2023-08-24T11:45:55.406Z"
   },
   {
    "duration": 10953,
    "start_time": "2023-08-24T11:46:06.167Z"
   },
   {
    "duration": 48595,
    "start_time": "2023-08-24T11:46:17.122Z"
   },
   {
    "duration": 39238,
    "start_time": "2023-08-24T11:47:05.719Z"
   },
   {
    "duration": 22043,
    "start_time": "2023-08-24T11:47:44.959Z"
   },
   {
    "duration": 7899,
    "start_time": "2023-08-24T11:48:07.004Z"
   },
   {
    "duration": 2990,
    "start_time": "2023-08-24T11:48:14.906Z"
   },
   {
    "duration": 474,
    "start_time": "2023-08-24T11:48:17.900Z"
   },
   {
    "duration": 128,
    "start_time": "2023-08-24T11:48:18.376Z"
   },
   {
    "duration": 97,
    "start_time": "2023-08-24T11:48:18.592Z"
   },
   {
    "duration": 4,
    "start_time": "2023-08-24T11:48:18.692Z"
   },
   {
    "duration": 7,
    "start_time": "2023-08-24T11:48:18.698Z"
   },
   {
    "duration": 15,
    "start_time": "2023-08-24T11:48:18.706Z"
   },
   {
    "duration": 472,
    "start_time": "2023-08-24T11:48:44.430Z"
   },
   {
    "duration": 2126,
    "start_time": "2023-08-25T12:02:45.041Z"
   },
   {
    "duration": 2413,
    "start_time": "2023-08-25T12:02:47.169Z"
   },
   {
    "duration": 4,
    "start_time": "2023-08-25T12:02:49.584Z"
   },
   {
    "duration": 311,
    "start_time": "2023-08-25T12:02:49.589Z"
   },
   {
    "duration": 173,
    "start_time": "2023-08-25T12:02:49.902Z"
   },
   {
    "duration": 309,
    "start_time": "2023-08-25T12:02:50.077Z"
   },
   {
    "duration": 17,
    "start_time": "2023-08-25T12:02:50.388Z"
   },
   {
    "duration": 95,
    "start_time": "2023-08-25T12:02:50.407Z"
   },
   {
    "duration": 82,
    "start_time": "2023-08-25T12:02:50.504Z"
   },
   {
    "duration": 51,
    "start_time": "2023-08-25T12:02:50.587Z"
   },
   {
    "duration": 70,
    "start_time": "2023-08-25T12:02:50.641Z"
   },
   {
    "duration": 28,
    "start_time": "2023-08-25T12:02:50.713Z"
   },
   {
    "duration": 50,
    "start_time": "2023-08-25T12:02:50.743Z"
   },
   {
    "duration": 51,
    "start_time": "2023-08-25T12:02:50.797Z"
   },
   {
    "duration": 34,
    "start_time": "2023-08-25T12:02:50.850Z"
   },
   {
    "duration": 195,
    "start_time": "2023-08-25T12:02:50.886Z"
   },
   {
    "duration": 54,
    "start_time": "2023-08-25T12:02:51.083Z"
   },
   {
    "duration": 21,
    "start_time": "2023-08-25T12:02:51.141Z"
   },
   {
    "duration": 21,
    "start_time": "2023-08-25T12:02:51.163Z"
   },
   {
    "duration": 18,
    "start_time": "2023-08-25T12:02:51.187Z"
   },
   {
    "duration": 1005,
    "start_time": "2023-08-25T12:02:51.207Z"
   },
   {
    "duration": 30,
    "start_time": "2023-08-25T12:02:52.215Z"
   },
   {
    "duration": 843,
    "start_time": "2023-08-25T12:02:52.247Z"
   },
   {
    "duration": 15,
    "start_time": "2023-08-25T12:02:53.092Z"
   },
   {
    "duration": 1050,
    "start_time": "2023-08-25T12:02:53.109Z"
   },
   {
    "duration": 11,
    "start_time": "2023-08-25T12:02:54.161Z"
   },
   {
    "duration": 612,
    "start_time": "2023-08-25T12:02:54.175Z"
   },
   {
    "duration": 507,
    "start_time": "2023-08-25T12:02:54.788Z"
   },
   {
    "duration": 8,
    "start_time": "2023-08-25T12:02:55.298Z"
   },
   {
    "duration": 1073,
    "start_time": "2023-08-25T12:02:55.308Z"
   },
   {
    "duration": 8,
    "start_time": "2023-08-25T12:02:56.383Z"
   },
   {
    "duration": 780,
    "start_time": "2023-08-25T12:02:56.393Z"
   },
   {
    "duration": 22,
    "start_time": "2023-08-25T12:02:57.175Z"
   },
   {
    "duration": 27,
    "start_time": "2023-08-25T12:02:57.200Z"
   },
   {
    "duration": 877,
    "start_time": "2023-08-25T12:02:57.229Z"
   },
   {
    "duration": 3,
    "start_time": "2023-08-25T12:02:58.108Z"
   },
   {
    "duration": 12,
    "start_time": "2023-08-25T12:02:58.113Z"
   },
   {
    "duration": 6,
    "start_time": "2023-08-25T12:02:58.127Z"
   },
   {
    "duration": 9,
    "start_time": "2023-08-25T12:02:58.135Z"
   },
   {
    "duration": 26,
    "start_time": "2023-08-25T12:02:58.146Z"
   },
   {
    "duration": 5,
    "start_time": "2023-08-25T12:02:58.177Z"
   },
   {
    "duration": 65,
    "start_time": "2023-08-25T12:02:58.184Z"
   },
   {
    "duration": 29,
    "start_time": "2023-08-25T12:02:58.251Z"
   },
   {
    "duration": 19,
    "start_time": "2023-08-25T12:02:58.282Z"
   },
   {
    "duration": 10085,
    "start_time": "2023-08-25T12:02:58.303Z"
   },
   {
    "duration": 9767,
    "start_time": "2023-08-25T12:03:08.391Z"
   },
   {
    "duration": 48161,
    "start_time": "2023-08-25T12:03:18.161Z"
   },
   {
    "duration": 41552,
    "start_time": "2023-08-25T12:04:06.331Z"
   },
   {
    "duration": 23290,
    "start_time": "2023-08-25T12:04:47.885Z"
   },
   {
    "duration": 4285,
    "start_time": "2023-08-25T12:05:11.177Z"
   },
   {
    "duration": 2101,
    "start_time": "2023-08-25T12:05:15.524Z"
   },
   {
    "duration": 334,
    "start_time": "2023-08-25T12:05:17.627Z"
   },
   {
    "duration": 261,
    "start_time": "2023-08-25T12:05:17.963Z"
   },
   {
    "duration": 23,
    "start_time": "2023-08-25T12:05:18.226Z"
   },
   {
    "duration": 4,
    "start_time": "2023-08-25T12:05:18.252Z"
   },
   {
    "duration": 11,
    "start_time": "2023-08-25T12:05:18.258Z"
   },
   {
    "duration": 11,
    "start_time": "2023-08-25T12:05:18.270Z"
   },
   {
    "duration": 281,
    "start_time": "2023-08-25T12:06:28.252Z"
   },
   {
    "duration": 496,
    "start_time": "2023-08-25T12:06:40.183Z"
   },
   {
    "duration": 475,
    "start_time": "2023-08-25T12:07:27.577Z"
   },
   {
    "duration": 730,
    "start_time": "2023-08-25T12:08:01.542Z"
   },
   {
    "duration": 640,
    "start_time": "2023-08-25T12:08:48.936Z"
   },
   {
    "duration": 583,
    "start_time": "2023-08-25T12:09:31.393Z"
   },
   {
    "duration": 616,
    "start_time": "2023-08-25T12:10:15.921Z"
   },
   {
    "duration": 713,
    "start_time": "2023-08-25T12:10:28.960Z"
   },
   {
    "duration": 1801,
    "start_time": "2023-08-25T12:10:54.465Z"
   },
   {
    "duration": 905,
    "start_time": "2023-08-25T12:10:56.269Z"
   },
   {
    "duration": 3,
    "start_time": "2023-08-25T12:10:57.176Z"
   },
   {
    "duration": 291,
    "start_time": "2023-08-25T12:10:57.181Z"
   },
   {
    "duration": 145,
    "start_time": "2023-08-25T12:10:57.474Z"
   },
   {
    "duration": 387,
    "start_time": "2023-08-25T12:10:57.621Z"
   },
   {
    "duration": 22,
    "start_time": "2023-08-25T12:10:58.011Z"
   },
   {
    "duration": 5,
    "start_time": "2023-08-25T12:10:58.035Z"
   },
   {
    "duration": 11,
    "start_time": "2023-08-25T12:10:58.042Z"
   },
   {
    "duration": 9,
    "start_time": "2023-08-25T12:10:58.057Z"
   },
   {
    "duration": 29,
    "start_time": "2023-08-25T12:10:58.068Z"
   },
   {
    "duration": 31,
    "start_time": "2023-08-25T12:10:58.099Z"
   },
   {
    "duration": 32,
    "start_time": "2023-08-25T12:10:58.132Z"
   },
   {
    "duration": 21,
    "start_time": "2023-08-25T12:10:58.166Z"
   },
   {
    "duration": 19,
    "start_time": "2023-08-25T12:10:58.189Z"
   },
   {
    "duration": 50,
    "start_time": "2023-08-25T12:10:58.210Z"
   },
   {
    "duration": 22,
    "start_time": "2023-08-25T12:10:58.263Z"
   },
   {
    "duration": 133,
    "start_time": "2023-08-25T12:10:58.288Z"
   },
   {
    "duration": 99,
    "start_time": "2023-08-25T12:10:58.423Z"
   },
   {
    "duration": 34,
    "start_time": "2023-08-25T12:10:58.524Z"
   },
   {
    "duration": 1025,
    "start_time": "2023-08-25T12:10:58.561Z"
   },
   {
    "duration": 12,
    "start_time": "2023-08-25T12:10:59.588Z"
   },
   {
    "duration": 871,
    "start_time": "2023-08-25T12:10:59.602Z"
   },
   {
    "duration": 18,
    "start_time": "2023-08-25T12:11:00.475Z"
   },
   {
    "duration": 1022,
    "start_time": "2023-08-25T12:11:00.495Z"
   },
   {
    "duration": 18,
    "start_time": "2023-08-25T12:11:01.519Z"
   },
   {
    "duration": 19,
    "start_time": "2023-08-25T12:11:01.542Z"
   },
   {
    "duration": 575,
    "start_time": "2023-08-25T12:11:01.565Z"
   },
   {
    "duration": 9,
    "start_time": "2023-08-25T12:11:02.143Z"
   },
   {
    "duration": 940,
    "start_time": "2023-08-25T12:11:02.155Z"
   },
   {
    "duration": 11,
    "start_time": "2023-08-25T12:11:03.098Z"
   },
   {
    "duration": 1058,
    "start_time": "2023-08-25T12:11:03.112Z"
   },
   {
    "duration": 17,
    "start_time": "2023-08-25T12:11:04.172Z"
   },
   {
    "duration": 18,
    "start_time": "2023-08-25T12:11:04.191Z"
   },
   {
    "duration": 874,
    "start_time": "2023-08-25T12:11:04.211Z"
   },
   {
    "duration": 3,
    "start_time": "2023-08-25T12:11:05.087Z"
   },
   {
    "duration": 42,
    "start_time": "2023-08-25T12:11:05.091Z"
   },
   {
    "duration": 28,
    "start_time": "2023-08-25T12:11:05.136Z"
   },
   {
    "duration": 35,
    "start_time": "2023-08-25T12:11:05.166Z"
   },
   {
    "duration": 74,
    "start_time": "2023-08-25T12:11:05.204Z"
   },
   {
    "duration": 4,
    "start_time": "2023-08-25T12:11:05.280Z"
   },
   {
    "duration": 74,
    "start_time": "2023-08-25T12:11:05.287Z"
   },
   {
    "duration": 21,
    "start_time": "2023-08-25T12:11:05.366Z"
   },
   {
    "duration": 59,
    "start_time": "2023-08-25T12:11:05.390Z"
   },
   {
    "duration": 10342,
    "start_time": "2023-08-25T12:11:05.457Z"
   },
   {
    "duration": 10271,
    "start_time": "2023-08-25T12:11:15.801Z"
   },
   {
    "duration": 1622,
    "start_time": "2023-08-25T12:11:44.783Z"
   },
   {
    "duration": 939,
    "start_time": "2023-08-25T12:11:46.407Z"
   },
   {
    "duration": 4,
    "start_time": "2023-08-25T12:11:47.351Z"
   },
   {
    "duration": 282,
    "start_time": "2023-08-25T12:11:47.360Z"
   },
   {
    "duration": 177,
    "start_time": "2023-08-25T12:11:47.645Z"
   },
   {
    "duration": 274,
    "start_time": "2023-08-25T12:11:47.825Z"
   },
   {
    "duration": 12,
    "start_time": "2023-08-25T12:11:48.101Z"
   },
   {
    "duration": 10,
    "start_time": "2023-08-25T12:11:48.130Z"
   },
   {
    "duration": 41,
    "start_time": "2023-08-25T12:11:48.153Z"
   },
   {
    "duration": 48,
    "start_time": "2023-08-25T12:11:48.197Z"
   },
   {
    "duration": 11,
    "start_time": "2023-08-25T12:11:48.251Z"
   },
   {
    "duration": 38,
    "start_time": "2023-08-25T12:11:48.265Z"
   },
   {
    "duration": 38,
    "start_time": "2023-08-25T12:11:48.306Z"
   },
   {
    "duration": 30,
    "start_time": "2023-08-25T12:11:48.346Z"
   },
   {
    "duration": 79,
    "start_time": "2023-08-25T12:11:48.377Z"
   },
   {
    "duration": 34,
    "start_time": "2023-08-25T12:11:48.458Z"
   },
   {
    "duration": 14,
    "start_time": "2023-08-25T12:11:48.494Z"
   },
   {
    "duration": 6,
    "start_time": "2023-08-25T12:11:48.510Z"
   },
   {
    "duration": 19,
    "start_time": "2023-08-25T12:11:48.518Z"
   },
   {
    "duration": 18,
    "start_time": "2023-08-25T12:11:48.540Z"
   },
   {
    "duration": 884,
    "start_time": "2023-08-25T12:11:48.560Z"
   },
   {
    "duration": 19,
    "start_time": "2023-08-25T12:11:49.445Z"
   },
   {
    "duration": 774,
    "start_time": "2023-08-25T12:11:49.466Z"
   },
   {
    "duration": 14,
    "start_time": "2023-08-25T12:11:50.245Z"
   },
   {
    "duration": 1048,
    "start_time": "2023-08-25T12:11:50.261Z"
   },
   {
    "duration": 21,
    "start_time": "2023-08-25T12:11:51.312Z"
   },
   {
    "duration": 534,
    "start_time": "2023-08-25T12:11:51.334Z"
   },
   {
    "duration": 8,
    "start_time": "2023-08-25T12:11:51.872Z"
   },
   {
    "duration": 760,
    "start_time": "2023-08-25T12:11:51.882Z"
   },
   {
    "duration": 9,
    "start_time": "2023-08-25T12:11:52.645Z"
   },
   {
    "duration": 919,
    "start_time": "2023-08-25T12:11:52.657Z"
   },
   {
    "duration": 19,
    "start_time": "2023-08-25T12:11:53.578Z"
   },
   {
    "duration": 25,
    "start_time": "2023-08-25T12:11:53.599Z"
   },
   {
    "duration": 733,
    "start_time": "2023-08-25T12:11:53.643Z"
   },
   {
    "duration": 4,
    "start_time": "2023-08-25T12:11:54.378Z"
   },
   {
    "duration": 12,
    "start_time": "2023-08-25T12:11:54.383Z"
   },
   {
    "duration": 16,
    "start_time": "2023-08-25T12:11:54.396Z"
   },
   {
    "duration": 5,
    "start_time": "2023-08-25T12:11:54.414Z"
   },
   {
    "duration": 37,
    "start_time": "2023-08-25T12:11:54.421Z"
   },
   {
    "duration": 5,
    "start_time": "2023-08-25T12:11:54.459Z"
   },
   {
    "duration": 25,
    "start_time": "2023-08-25T12:11:54.465Z"
   },
   {
    "duration": 43,
    "start_time": "2023-08-25T12:11:54.492Z"
   },
   {
    "duration": 27,
    "start_time": "2023-08-25T12:11:54.537Z"
   },
   {
    "duration": 9920,
    "start_time": "2023-08-25T12:11:54.566Z"
   },
   {
    "duration": 10096,
    "start_time": "2023-08-25T12:12:04.488Z"
   },
   {
    "duration": 47413,
    "start_time": "2023-08-25T12:12:14.585Z"
   },
   {
    "duration": 1675,
    "start_time": "2023-08-25T12:13:16.838Z"
   },
   {
    "duration": 867,
    "start_time": "2023-08-25T12:13:18.515Z"
   },
   {
    "duration": 3,
    "start_time": "2023-08-25T12:13:19.383Z"
   },
   {
    "duration": 439,
    "start_time": "2023-08-25T12:13:19.388Z"
   },
   {
    "duration": 142,
    "start_time": "2023-08-25T12:13:19.830Z"
   },
   {
    "duration": 296,
    "start_time": "2023-08-25T12:13:19.974Z"
   },
   {
    "duration": 15,
    "start_time": "2023-08-25T12:13:20.272Z"
   },
   {
    "duration": 110,
    "start_time": "2023-08-25T12:13:20.290Z"
   },
   {
    "duration": 56,
    "start_time": "2023-08-25T12:13:20.401Z"
   },
   {
    "duration": 43,
    "start_time": "2023-08-25T12:13:20.459Z"
   },
   {
    "duration": 55,
    "start_time": "2023-08-25T12:13:20.503Z"
   },
   {
    "duration": 45,
    "start_time": "2023-08-25T12:13:20.559Z"
   },
   {
    "duration": 38,
    "start_time": "2023-08-25T12:13:20.606Z"
   },
   {
    "duration": 59,
    "start_time": "2023-08-25T12:13:20.647Z"
   },
   {
    "duration": 32,
    "start_time": "2023-08-25T12:13:20.707Z"
   },
   {
    "duration": 43,
    "start_time": "2023-08-25T12:13:20.741Z"
   },
   {
    "duration": 81,
    "start_time": "2023-08-25T12:13:20.785Z"
   },
   {
    "duration": 68,
    "start_time": "2023-08-25T12:13:20.868Z"
   },
   {
    "duration": 17,
    "start_time": "2023-08-25T12:13:20.940Z"
   },
   {
    "duration": 28,
    "start_time": "2023-08-25T12:13:20.958Z"
   },
   {
    "duration": 850,
    "start_time": "2023-08-25T12:13:20.988Z"
   },
   {
    "duration": 12,
    "start_time": "2023-08-25T12:13:21.840Z"
   },
   {
    "duration": 820,
    "start_time": "2023-08-25T12:13:21.854Z"
   },
   {
    "duration": 10,
    "start_time": "2023-08-25T12:13:22.676Z"
   },
   {
    "duration": 883,
    "start_time": "2023-08-25T12:13:22.687Z"
   },
   {
    "duration": 11,
    "start_time": "2023-08-25T12:13:23.572Z"
   },
   {
    "duration": 498,
    "start_time": "2023-08-25T12:13:23.585Z"
   },
   {
    "duration": 7,
    "start_time": "2023-08-25T12:13:24.084Z"
   },
   {
    "duration": 809,
    "start_time": "2023-08-25T12:13:24.093Z"
   },
   {
    "duration": 20,
    "start_time": "2023-08-25T12:13:24.904Z"
   },
   {
    "duration": 876,
    "start_time": "2023-08-25T12:13:24.928Z"
   },
   {
    "duration": 37,
    "start_time": "2023-08-25T12:13:25.806Z"
   },
   {
    "duration": 58,
    "start_time": "2023-08-25T12:13:25.845Z"
   },
   {
    "duration": 862,
    "start_time": "2023-08-25T12:13:25.904Z"
   },
   {
    "duration": 3,
    "start_time": "2023-08-25T12:13:26.767Z"
   },
   {
    "duration": 12,
    "start_time": "2023-08-25T12:13:26.772Z"
   },
   {
    "duration": 6,
    "start_time": "2023-08-25T12:13:26.785Z"
   },
   {
    "duration": 4,
    "start_time": "2023-08-25T12:13:26.793Z"
   },
   {
    "duration": 42,
    "start_time": "2023-08-25T12:13:26.799Z"
   },
   {
    "duration": 3,
    "start_time": "2023-08-25T12:13:26.843Z"
   },
   {
    "duration": 65,
    "start_time": "2023-08-25T12:13:26.850Z"
   },
   {
    "duration": 29,
    "start_time": "2023-08-25T12:13:26.916Z"
   },
   {
    "duration": 21,
    "start_time": "2023-08-25T12:13:26.947Z"
   },
   {
    "duration": 9308,
    "start_time": "2023-08-25T12:13:26.970Z"
   },
   {
    "duration": 9221,
    "start_time": "2023-08-25T12:13:36.280Z"
   },
   {
    "duration": 45901,
    "start_time": "2023-08-25T12:13:45.503Z"
   },
   {
    "duration": 37931,
    "start_time": "2023-08-25T12:14:31.406Z"
   },
   {
    "duration": 21418,
    "start_time": "2023-08-25T12:15:09.339Z"
   },
   {
    "duration": 5678,
    "start_time": "2023-08-25T12:15:30.759Z"
   },
   {
    "duration": 4213,
    "start_time": "2023-08-25T12:15:36.446Z"
   },
   {
    "duration": 616,
    "start_time": "2023-08-25T12:15:40.724Z"
   },
   {
    "duration": 181,
    "start_time": "2023-08-25T12:15:41.351Z"
   },
   {
    "duration": 88,
    "start_time": "2023-08-25T12:15:41.556Z"
   },
   {
    "duration": 8,
    "start_time": "2023-08-25T12:15:41.646Z"
   },
   {
    "duration": 3,
    "start_time": "2023-08-25T12:15:41.656Z"
   },
   {
    "duration": 10,
    "start_time": "2023-08-25T12:15:41.661Z"
   },
   {
    "duration": 1638,
    "start_time": "2023-08-25T12:16:33.265Z"
   },
   {
    "duration": 891,
    "start_time": "2023-08-25T12:16:34.905Z"
   },
   {
    "duration": 3,
    "start_time": "2023-08-25T12:16:35.798Z"
   },
   {
    "duration": 299,
    "start_time": "2023-08-25T12:16:35.803Z"
   },
   {
    "duration": 173,
    "start_time": "2023-08-25T12:16:36.103Z"
   },
   {
    "duration": 308,
    "start_time": "2023-08-25T12:16:36.278Z"
   },
   {
    "duration": 13,
    "start_time": "2023-08-25T12:16:36.588Z"
   },
   {
    "duration": 4,
    "start_time": "2023-08-25T12:16:36.602Z"
   },
   {
    "duration": 29,
    "start_time": "2023-08-25T12:16:36.607Z"
   },
   {
    "duration": 10,
    "start_time": "2023-08-25T12:16:36.642Z"
   },
   {
    "duration": 7,
    "start_time": "2023-08-25T12:16:36.654Z"
   },
   {
    "duration": 9,
    "start_time": "2023-08-25T12:16:36.663Z"
   },
   {
    "duration": 21,
    "start_time": "2023-08-25T12:16:36.674Z"
   },
   {
    "duration": 7,
    "start_time": "2023-08-25T12:16:36.697Z"
   },
   {
    "duration": 11,
    "start_time": "2023-08-25T12:16:36.705Z"
   },
   {
    "duration": 28,
    "start_time": "2023-08-25T12:16:36.718Z"
   },
   {
    "duration": 21,
    "start_time": "2023-08-25T12:16:36.747Z"
   },
   {
    "duration": 8,
    "start_time": "2023-08-25T12:16:36.770Z"
   },
   {
    "duration": 9,
    "start_time": "2023-08-25T12:16:36.779Z"
   },
   {
    "duration": 7,
    "start_time": "2023-08-25T12:16:36.790Z"
   },
   {
    "duration": 879,
    "start_time": "2023-08-25T12:16:36.826Z"
   },
   {
    "duration": 28,
    "start_time": "2023-08-25T12:16:37.707Z"
   },
   {
    "duration": 736,
    "start_time": "2023-08-25T12:16:37.741Z"
   },
   {
    "duration": 11,
    "start_time": "2023-08-25T12:16:38.480Z"
   },
   {
    "duration": 911,
    "start_time": "2023-08-25T12:16:38.493Z"
   },
   {
    "duration": 28,
    "start_time": "2023-08-25T12:16:39.406Z"
   },
   {
    "duration": 499,
    "start_time": "2023-08-25T12:16:39.436Z"
   },
   {
    "duration": 10,
    "start_time": "2023-08-25T12:16:39.941Z"
   },
   {
    "duration": 756,
    "start_time": "2023-08-25T12:16:39.954Z"
   },
   {
    "duration": 26,
    "start_time": "2023-08-25T12:16:40.712Z"
   },
   {
    "duration": 876,
    "start_time": "2023-08-25T12:16:40.742Z"
   },
   {
    "duration": 13,
    "start_time": "2023-08-25T12:16:41.623Z"
   },
   {
    "duration": 4,
    "start_time": "2023-08-25T12:16:41.644Z"
   },
   {
    "duration": 7,
    "start_time": "2023-08-25T12:16:41.649Z"
   },
   {
    "duration": 5,
    "start_time": "2023-08-25T12:16:41.658Z"
   },
   {
    "duration": 31,
    "start_time": "2023-08-25T12:16:41.665Z"
   },
   {
    "duration": 4,
    "start_time": "2023-08-25T12:16:41.697Z"
   },
   {
    "duration": 50,
    "start_time": "2023-08-25T12:16:41.703Z"
   },
   {
    "duration": 22,
    "start_time": "2023-08-25T12:16:41.755Z"
   },
   {
    "duration": 12,
    "start_time": "2023-08-25T12:16:41.779Z"
   },
   {
    "duration": 10005,
    "start_time": "2023-08-25T12:16:41.793Z"
   },
   {
    "duration": 9764,
    "start_time": "2023-08-25T12:16:51.799Z"
   },
   {
    "duration": 47161,
    "start_time": "2023-08-25T12:17:01.566Z"
   },
   {
    "duration": 39263,
    "start_time": "2023-08-25T12:17:48.729Z"
   },
   {
    "duration": 21451,
    "start_time": "2023-08-25T12:18:27.994Z"
   },
   {
    "duration": 6189,
    "start_time": "2023-08-25T12:18:49.451Z"
   },
   {
    "duration": 3607,
    "start_time": "2023-08-25T12:18:55.642Z"
   },
   {
    "duration": 814,
    "start_time": "2023-08-25T12:18:59.258Z"
   },
   {
    "duration": 288,
    "start_time": "2023-08-25T12:19:00.075Z"
   },
   {
    "duration": 57,
    "start_time": "2023-08-25T12:19:00.375Z"
   },
   {
    "duration": 41,
    "start_time": "2023-08-25T12:19:00.444Z"
   },
   {
    "duration": 12,
    "start_time": "2023-08-25T12:19:00.536Z"
   },
   {
    "duration": 33,
    "start_time": "2023-08-25T12:19:00.553Z"
   },
   {
    "duration": 1514,
    "start_time": "2023-08-25T12:25:30.301Z"
   },
   {
    "duration": 859,
    "start_time": "2023-08-25T12:25:31.817Z"
   },
   {
    "duration": 4,
    "start_time": "2023-08-25T12:25:32.677Z"
   },
   {
    "duration": 320,
    "start_time": "2023-08-25T12:25:32.682Z"
   },
   {
    "duration": 153,
    "start_time": "2023-08-25T12:25:33.004Z"
   },
   {
    "duration": 279,
    "start_time": "2023-08-25T12:25:33.160Z"
   },
   {
    "duration": 20,
    "start_time": "2023-08-25T12:25:33.441Z"
   },
   {
    "duration": 8,
    "start_time": "2023-08-25T12:25:33.463Z"
   },
   {
    "duration": 13,
    "start_time": "2023-08-25T12:25:33.473Z"
   },
   {
    "duration": 7,
    "start_time": "2023-08-25T12:25:33.489Z"
   },
   {
    "duration": 11,
    "start_time": "2023-08-25T12:25:33.498Z"
   },
   {
    "duration": 26,
    "start_time": "2023-08-25T12:25:33.510Z"
   },
   {
    "duration": 14,
    "start_time": "2023-08-25T12:25:33.538Z"
   },
   {
    "duration": 10,
    "start_time": "2023-08-25T12:25:33.555Z"
   },
   {
    "duration": 3,
    "start_time": "2023-08-25T12:25:33.567Z"
   },
   {
    "duration": 19,
    "start_time": "2023-08-25T12:25:33.572Z"
   },
   {
    "duration": 15,
    "start_time": "2023-08-25T12:25:33.592Z"
   },
   {
    "duration": 19,
    "start_time": "2023-08-25T12:25:33.630Z"
   },
   {
    "duration": 11,
    "start_time": "2023-08-25T12:25:33.652Z"
   },
   {
    "duration": 7,
    "start_time": "2023-08-25T12:25:33.665Z"
   },
   {
    "duration": 859,
    "start_time": "2023-08-25T12:25:33.673Z"
   },
   {
    "duration": 22,
    "start_time": "2023-08-25T12:25:34.534Z"
   },
   {
    "duration": 735,
    "start_time": "2023-08-25T12:25:34.558Z"
   },
   {
    "duration": 11,
    "start_time": "2023-08-25T12:25:35.294Z"
   },
   {
    "duration": 1014,
    "start_time": "2023-08-25T12:25:35.306Z"
   },
   {
    "duration": 18,
    "start_time": "2023-08-25T12:25:36.329Z"
   },
   {
    "duration": 491,
    "start_time": "2023-08-25T12:25:36.351Z"
   },
   {
    "duration": 13,
    "start_time": "2023-08-25T12:25:36.846Z"
   },
   {
    "duration": 788,
    "start_time": "2023-08-25T12:25:36.861Z"
   },
   {
    "duration": 8,
    "start_time": "2023-08-25T12:25:37.650Z"
   },
   {
    "duration": 918,
    "start_time": "2023-08-25T12:25:37.660Z"
   },
   {
    "duration": 3,
    "start_time": "2023-08-25T12:25:38.580Z"
   },
   {
    "duration": 38,
    "start_time": "2023-08-25T12:25:38.585Z"
   },
   {
    "duration": 22,
    "start_time": "2023-08-25T12:25:38.627Z"
   },
   {
    "duration": 25,
    "start_time": "2023-08-25T12:25:38.652Z"
   },
   {
    "duration": 55,
    "start_time": "2023-08-25T12:25:38.678Z"
   },
   {
    "duration": 14,
    "start_time": "2023-08-25T12:25:38.736Z"
   },
   {
    "duration": 28,
    "start_time": "2023-08-25T12:25:38.755Z"
   },
   {
    "duration": 22,
    "start_time": "2023-08-25T12:25:38.785Z"
   },
   {
    "duration": 47,
    "start_time": "2023-08-25T12:25:38.809Z"
   },
   {
    "duration": 4,
    "start_time": "2023-08-25T12:25:38.858Z"
   },
   {
    "duration": 47762,
    "start_time": "2023-08-25T12:25:38.863Z"
   },
   {
    "duration": 217933,
    "start_time": "2023-08-25T12:26:26.632Z"
   },
   {
    "duration": 5360,
    "start_time": "2023-08-25T12:30:04.567Z"
   },
   {
    "duration": 3192,
    "start_time": "2023-08-25T12:30:09.935Z"
   },
   {
    "duration": 609,
    "start_time": "2023-08-25T12:30:13.129Z"
   },
   {
    "duration": 181,
    "start_time": "2023-08-25T12:30:13.745Z"
   },
   {
    "duration": 16,
    "start_time": "2023-08-25T12:30:13.928Z"
   },
   {
    "duration": 6,
    "start_time": "2023-08-25T12:30:13.946Z"
   },
   {
    "duration": 8,
    "start_time": "2023-08-25T12:30:13.957Z"
   },
   {
    "duration": 70,
    "start_time": "2023-08-25T12:30:13.967Z"
   },
   {
    "duration": 20398,
    "start_time": "2023-08-25T12:33:05.199Z"
   },
   {
    "duration": 82911,
    "start_time": "2023-08-25T12:38:03.598Z"
   },
   {
    "duration": 48122,
    "start_time": "2023-08-25T12:40:42.411Z"
   },
   {
    "duration": 20053,
    "start_time": "2023-08-25T12:41:35.109Z"
   },
   {
    "duration": 6,
    "start_time": "2023-08-25T12:42:44.262Z"
   },
   {
    "duration": 324579,
    "start_time": "2023-08-25T12:43:13.750Z"
   },
   {
    "duration": 1601,
    "start_time": "2023-08-25T12:53:21.120Z"
   },
   {
    "duration": 826,
    "start_time": "2023-08-25T12:53:22.724Z"
   },
   {
    "duration": 4,
    "start_time": "2023-08-25T12:53:23.552Z"
   },
   {
    "duration": 326,
    "start_time": "2023-08-25T12:53:23.558Z"
   },
   {
    "duration": 144,
    "start_time": "2023-08-25T12:53:23.886Z"
   },
   {
    "duration": 270,
    "start_time": "2023-08-25T12:53:24.032Z"
   },
   {
    "duration": 21,
    "start_time": "2023-08-25T12:53:24.304Z"
   },
   {
    "duration": 10,
    "start_time": "2023-08-25T12:53:24.329Z"
   },
   {
    "duration": 63,
    "start_time": "2023-08-25T12:53:24.344Z"
   },
   {
    "duration": 66,
    "start_time": "2023-08-25T12:53:24.410Z"
   },
   {
    "duration": 57,
    "start_time": "2023-08-25T12:53:24.477Z"
   },
   {
    "duration": 13,
    "start_time": "2023-08-25T12:53:24.540Z"
   },
   {
    "duration": 36,
    "start_time": "2023-08-25T12:53:24.555Z"
   },
   {
    "duration": 10,
    "start_time": "2023-08-25T12:53:24.593Z"
   },
   {
    "duration": 12,
    "start_time": "2023-08-25T12:53:24.604Z"
   },
   {
    "duration": 47,
    "start_time": "2023-08-25T12:53:24.618Z"
   },
   {
    "duration": 30,
    "start_time": "2023-08-25T12:53:24.667Z"
   },
   {
    "duration": 11,
    "start_time": "2023-08-25T12:53:24.699Z"
   },
   {
    "duration": 41,
    "start_time": "2023-08-25T12:53:24.713Z"
   },
   {
    "duration": 10,
    "start_time": "2023-08-25T12:53:24.756Z"
   },
   {
    "duration": 846,
    "start_time": "2023-08-25T12:53:24.768Z"
   },
   {
    "duration": 24,
    "start_time": "2023-08-25T12:53:25.615Z"
   },
   {
    "duration": 849,
    "start_time": "2023-08-25T12:53:25.642Z"
   },
   {
    "duration": 14,
    "start_time": "2023-08-25T12:53:26.493Z"
   },
   {
    "duration": 965,
    "start_time": "2023-08-25T12:53:26.510Z"
   },
   {
    "duration": 12,
    "start_time": "2023-08-25T12:53:27.477Z"
   },
   {
    "duration": 558,
    "start_time": "2023-08-25T12:53:27.491Z"
   },
   {
    "duration": 7,
    "start_time": "2023-08-25T12:53:28.053Z"
   },
   {
    "duration": 786,
    "start_time": "2023-08-25T12:53:28.062Z"
   },
   {
    "duration": 9,
    "start_time": "2023-08-25T12:53:28.850Z"
   },
   {
    "duration": 935,
    "start_time": "2023-08-25T12:53:28.860Z"
   },
   {
    "duration": 5,
    "start_time": "2023-08-25T12:53:29.797Z"
   },
   {
    "duration": 6,
    "start_time": "2023-08-25T12:53:29.804Z"
   },
   {
    "duration": 13,
    "start_time": "2023-08-25T12:53:29.831Z"
   },
   {
    "duration": 5,
    "start_time": "2023-08-25T12:53:29.848Z"
   },
   {
    "duration": 44,
    "start_time": "2023-08-25T12:53:29.858Z"
   },
   {
    "duration": 6,
    "start_time": "2023-08-25T12:53:29.905Z"
   },
   {
    "duration": 50,
    "start_time": "2023-08-25T12:53:29.913Z"
   },
   {
    "duration": 26,
    "start_time": "2023-08-25T12:53:29.964Z"
   },
   {
    "duration": 33,
    "start_time": "2023-08-25T12:53:29.992Z"
   },
   {
    "duration": 30,
    "start_time": "2023-08-25T12:53:30.027Z"
   },
   {
    "duration": 47930,
    "start_time": "2023-08-25T12:53:30.060Z"
   },
   {
    "duration": 20137,
    "start_time": "2023-08-25T12:54:17.992Z"
   },
   {
    "duration": 10,
    "start_time": "2023-08-25T12:54:38.136Z"
   },
   {
    "duration": 1784,
    "start_time": "2023-08-25T12:59:52.517Z"
   },
   {
    "duration": 884,
    "start_time": "2023-08-25T12:59:54.303Z"
   },
   {
    "duration": 4,
    "start_time": "2023-08-25T12:59:55.189Z"
   },
   {
    "duration": 300,
    "start_time": "2023-08-25T12:59:55.195Z"
   },
   {
    "duration": 159,
    "start_time": "2023-08-25T12:59:55.497Z"
   },
   {
    "duration": 368,
    "start_time": "2023-08-25T12:59:55.657Z"
   },
   {
    "duration": 22,
    "start_time": "2023-08-25T12:59:56.027Z"
   },
   {
    "duration": 18,
    "start_time": "2023-08-25T12:59:56.054Z"
   },
   {
    "duration": 6,
    "start_time": "2023-08-25T12:59:56.074Z"
   },
   {
    "duration": 9,
    "start_time": "2023-08-25T12:59:56.085Z"
   },
   {
    "duration": 14,
    "start_time": "2023-08-25T12:59:56.096Z"
   },
   {
    "duration": 33,
    "start_time": "2023-08-25T12:59:56.112Z"
   },
   {
    "duration": 20,
    "start_time": "2023-08-25T12:59:56.154Z"
   },
   {
    "duration": 9,
    "start_time": "2023-08-25T12:59:56.176Z"
   },
   {
    "duration": 4,
    "start_time": "2023-08-25T12:59:56.189Z"
   },
   {
    "duration": 18,
    "start_time": "2023-08-25T12:59:56.195Z"
   },
   {
    "duration": 27,
    "start_time": "2023-08-25T12:59:56.215Z"
   },
   {
    "duration": 14,
    "start_time": "2023-08-25T12:59:56.244Z"
   },
   {
    "duration": 11,
    "start_time": "2023-08-25T12:59:56.262Z"
   },
   {
    "duration": 10,
    "start_time": "2023-08-25T12:59:56.275Z"
   },
   {
    "duration": 898,
    "start_time": "2023-08-25T12:59:56.286Z"
   },
   {
    "duration": 13,
    "start_time": "2023-08-25T12:59:57.185Z"
   },
   {
    "duration": 794,
    "start_time": "2023-08-25T12:59:57.200Z"
   },
   {
    "duration": 14,
    "start_time": "2023-08-25T12:59:57.996Z"
   },
   {
    "duration": 939,
    "start_time": "2023-08-25T12:59:58.025Z"
   },
   {
    "duration": 11,
    "start_time": "2023-08-25T12:59:58.966Z"
   },
   {
    "duration": 569,
    "start_time": "2023-08-25T12:59:58.978Z"
   },
   {
    "duration": 11,
    "start_time": "2023-08-25T12:59:59.551Z"
   },
   {
    "duration": 839,
    "start_time": "2023-08-25T12:59:59.565Z"
   },
   {
    "duration": 10,
    "start_time": "2023-08-25T13:00:00.407Z"
   },
   {
    "duration": 1063,
    "start_time": "2023-08-25T13:00:00.426Z"
   },
   {
    "duration": 4,
    "start_time": "2023-08-25T13:00:01.491Z"
   },
   {
    "duration": 67,
    "start_time": "2023-08-25T13:00:01.496Z"
   },
   {
    "duration": 58,
    "start_time": "2023-08-25T13:00:01.565Z"
   },
   {
    "duration": 68,
    "start_time": "2023-08-25T13:00:01.626Z"
   },
   {
    "duration": 64,
    "start_time": "2023-08-25T13:00:01.696Z"
   },
   {
    "duration": 43,
    "start_time": "2023-08-25T13:00:01.764Z"
   },
   {
    "duration": 81,
    "start_time": "2023-08-25T13:00:01.809Z"
   },
   {
    "duration": 116,
    "start_time": "2023-08-25T13:00:01.891Z"
   },
   {
    "duration": 46,
    "start_time": "2023-08-25T13:00:02.009Z"
   },
   {
    "duration": 27,
    "start_time": "2023-08-25T13:00:02.057Z"
   },
   {
    "duration": 48459,
    "start_time": "2023-08-25T13:00:02.086Z"
   },
   {
    "duration": 20138,
    "start_time": "2023-08-25T13:00:50.546Z"
   },
   {
    "duration": 4,
    "start_time": "2023-08-25T13:01:10.686Z"
   },
   {
    "duration": 113877,
    "start_time": "2023-08-25T13:01:10.691Z"
   },
   {
    "duration": 1523,
    "start_time": "2023-08-25T13:03:11.950Z"
   },
   {
    "duration": 885,
    "start_time": "2023-08-25T13:03:13.475Z"
   },
   {
    "duration": 3,
    "start_time": "2023-08-25T13:03:14.362Z"
   },
   {
    "duration": 385,
    "start_time": "2023-08-25T13:03:14.366Z"
   },
   {
    "duration": 131,
    "start_time": "2023-08-25T13:03:14.753Z"
   },
   {
    "duration": 309,
    "start_time": "2023-08-25T13:03:14.886Z"
   },
   {
    "duration": 14,
    "start_time": "2023-08-25T13:03:15.196Z"
   },
   {
    "duration": 44,
    "start_time": "2023-08-25T13:03:15.212Z"
   },
   {
    "duration": 14,
    "start_time": "2023-08-25T13:03:15.258Z"
   },
   {
    "duration": 29,
    "start_time": "2023-08-25T13:03:15.274Z"
   },
   {
    "duration": 43,
    "start_time": "2023-08-25T13:03:15.305Z"
   },
   {
    "duration": 57,
    "start_time": "2023-08-25T13:03:15.350Z"
   },
   {
    "duration": 49,
    "start_time": "2023-08-25T13:03:15.408Z"
   },
   {
    "duration": 32,
    "start_time": "2023-08-25T13:03:15.461Z"
   },
   {
    "duration": 49,
    "start_time": "2023-08-25T13:03:15.495Z"
   },
   {
    "duration": 27,
    "start_time": "2023-08-25T13:03:15.550Z"
   },
   {
    "duration": 88,
    "start_time": "2023-08-25T13:03:15.580Z"
   },
   {
    "duration": 74,
    "start_time": "2023-08-25T13:03:15.670Z"
   },
   {
    "duration": 246,
    "start_time": "2023-08-25T13:03:15.747Z"
   },
   {
    "duration": 103,
    "start_time": "2023-08-25T13:03:15.995Z"
   },
   {
    "duration": 1125,
    "start_time": "2023-08-25T13:03:16.101Z"
   },
   {
    "duration": 23,
    "start_time": "2023-08-25T13:03:17.233Z"
   },
   {
    "duration": 831,
    "start_time": "2023-08-25T13:03:17.263Z"
   },
   {
    "duration": 10,
    "start_time": "2023-08-25T13:03:18.097Z"
   },
   {
    "duration": 949,
    "start_time": "2023-08-25T13:03:18.109Z"
   },
   {
    "duration": 13,
    "start_time": "2023-08-25T13:03:19.060Z"
   },
   {
    "duration": 536,
    "start_time": "2023-08-25T13:03:19.074Z"
   },
   {
    "duration": 21,
    "start_time": "2023-08-25T13:03:19.612Z"
   },
   {
    "duration": 761,
    "start_time": "2023-08-25T13:03:19.641Z"
   },
   {
    "duration": 20,
    "start_time": "2023-08-25T13:03:20.405Z"
   },
   {
    "duration": 896,
    "start_time": "2023-08-25T13:03:20.426Z"
   },
   {
    "duration": 6,
    "start_time": "2023-08-25T13:03:21.324Z"
   },
   {
    "duration": 83,
    "start_time": "2023-08-25T13:03:21.332Z"
   },
   {
    "duration": 86,
    "start_time": "2023-08-25T13:03:21.417Z"
   },
   {
    "duration": 90,
    "start_time": "2023-08-25T13:03:21.505Z"
   },
   {
    "duration": 57,
    "start_time": "2023-08-25T13:03:21.597Z"
   },
   {
    "duration": 6,
    "start_time": "2023-08-25T13:03:21.658Z"
   },
   {
    "duration": 34,
    "start_time": "2023-08-25T13:03:21.666Z"
   },
   {
    "duration": 53,
    "start_time": "2023-08-25T13:03:21.701Z"
   },
   {
    "duration": 32,
    "start_time": "2023-08-25T13:03:21.757Z"
   },
   {
    "duration": 22,
    "start_time": "2023-08-25T13:03:21.793Z"
   },
   {
    "duration": 47606,
    "start_time": "2023-08-25T13:03:21.817Z"
   },
   {
    "duration": 20266,
    "start_time": "2023-08-25T13:04:09.425Z"
   },
   {
    "duration": 4,
    "start_time": "2023-08-25T13:04:29.692Z"
   },
   {
    "duration": 147253,
    "start_time": "2023-08-25T13:04:29.697Z"
   },
   {
    "duration": 62523,
    "start_time": "2023-08-25T13:06:56.952Z"
   },
   {
    "duration": 4,
    "start_time": "2023-08-25T13:07:59.477Z"
   },
   {
    "duration": 6968,
    "start_time": "2023-08-25T13:07:59.483Z"
   },
   {
    "duration": 2696,
    "start_time": "2023-08-25T13:08:06.459Z"
   },
   {
    "duration": 427,
    "start_time": "2023-08-25T13:08:09.226Z"
   },
   {
    "duration": 195,
    "start_time": "2023-08-25T13:08:09.662Z"
   },
   {
    "duration": 12,
    "start_time": "2023-08-25T13:08:09.926Z"
   },
   {
    "duration": 38,
    "start_time": "2023-08-25T13:08:09.944Z"
   },
   {
    "duration": 27,
    "start_time": "2023-08-25T13:08:09.984Z"
   },
   {
    "duration": 52,
    "start_time": "2023-08-25T13:08:10.013Z"
   },
   {
    "duration": 3,
    "start_time": "2023-08-25T13:08:33.409Z"
   },
   {
    "duration": 2654,
    "start_time": "2023-08-25T13:08:35.979Z"
   },
   {
    "duration": 2936,
    "start_time": "2023-08-25T13:10:14.507Z"
   },
   {
    "duration": 2119,
    "start_time": "2023-08-25T13:10:28.553Z"
   },
   {
    "duration": 831,
    "start_time": "2023-08-25T13:11:45.797Z"
   },
   {
    "duration": 6,
    "start_time": "2023-08-25T13:12:40.133Z"
   }
  ],
  "kernelspec": {
   "display_name": "Python 3 (ipykernel)",
   "language": "python",
   "name": "python3"
  },
  "language_info": {
   "codemirror_mode": {
    "name": "ipython",
    "version": 3
   },
   "file_extension": ".py",
   "mimetype": "text/x-python",
   "name": "python",
   "nbconvert_exporter": "python",
   "pygments_lexer": "ipython3",
   "version": "3.9.5"
  },
  "toc": {
   "base_numbering": 1,
   "nav_menu": {},
   "number_sections": true,
   "sideBar": true,
   "skip_h1_title": true,
   "title_cell": "Содержание",
   "title_sidebar": "Contents",
   "toc_cell": true,
   "toc_position": {},
   "toc_section_display": true,
   "toc_window_display": true
  }
 },
 "nbformat": 4,
 "nbformat_minor": 2
}
