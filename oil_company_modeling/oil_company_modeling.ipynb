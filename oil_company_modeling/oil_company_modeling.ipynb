{
 "cells": [
  {
   "cell_type": "markdown",
   "metadata": {},
   "source": [
    "Привет! меня зовут Люман Аблаев. Сегодня я проверю твой проект.\n",
    "<br> Дальнейшее общение будет происходить на \"ты\" если это не вызывает никаких проблем.\n",
    "<br> Желательно реагировать на красные комментарии ('исправил', 'не понятно как исправить ошибку', ...)\n",
    "<br> Пожалуйста, не удаляй комментарии ревьюера, так как они повышают качество повторного ревью.\n",
    "\n",
    "Комментарии будут в <font color='green'>зеленой</font>, <font color='blue'>синей</font> или <font color='red'>красной</font> рамках:\n",
    "\n",
    "\n",
    "<div class=\"alert alert-block alert-success\">\n",
    "<b>Успех:</b> Если все сделано отлично\n",
    "</div>\n",
    "\n",
    "<div class=\"alert alert-block alert-info\">\n",
    "<b>Совет: </b> Если можно немного улучшить\n",
    "</div>\n",
    "\n",
    "<div class=\"alert alert-block alert-danger\">\n",
    "<b>Ошибка:</b> Если требуются исправления. Работа не может быть принята с красными комментариями.\n",
    "</div>\n",
    "\n",
    "-------------------\n",
    "\n",
    "Будет очень хорошо, если ты будешь помечать свои действия следующим образом:\n",
    "<div class=\"alert alert-block alert-warning\">\n",
    "<b>Комментарий студента:</b> ..\n",
    "</div>\n",
    "<div class=\"alert alert-block alert-warning\">\n",
    "<b>Изменения:</b> Были внесены следующие изменения ...\n",
    "</div>\n",
    "\n",
    "<font color='orange' style='font-size:24px; font-weight:bold'>Общее впечатление</font>\n",
    "* Спасибо за  качественную работу, было интересно ее проверять.\n",
    "- Я оставил некоторые советы надеюсь они будут полезными или интересными.\n",
    "\n",
    "- Техника бутстрап применилась корректно, было проведено тщательное исследование и выбран правильный регион!\n",
    "- Отправляю проект назад, чтобы у тебя была возможность задать вопросы, если они у тебя есть. Если их нет, то можешь просто отправить проект еще раз и я его зачту\n"
   ]
  },
  {
   "cell_type": "markdown",
   "metadata": {},
   "source": [
    "<div class=\"alert alert-block alert-warning\">\n",
    "<b>Комментарий студента: Привет! Приятно познакомиться)</b> ..\n",
    "</div>"
   ]
  },
  {
   "cell_type": "markdown",
   "metadata": {},
   "source": [
    "<div class=\"alert alert-block alert-success\">\n",
    "<b>Ревьювер[2]:</b>  Рад был быть полезен. Удачи в дальнейшем обучении!\n",
    "</div>\n",
    "\n"
   ]
  },
  {
   "cell_type": "markdown",
   "metadata": {},
   "source": [
    "# Выбор локации для скважины"
   ]
  },
  {
   "cell_type": "markdown",
   "metadata": {},
   "source": [
    "Допустим, вы работаете в добывающей компании «ГлавРосГосНефть». Нужно решить, где бурить новую скважину.\n",
    "\n",
    "Вам предоставлены пробы нефти в трёх регионах: в каждом 10 000 месторождений, где измерили качество нефти и объём её запасов. Постройте модель машинного обучения, которая поможет определить регион, где добыча принесёт наибольшую прибыль. Проанализируйте возможную прибыль и риски техникой *Bootstrap.*\n",
    "\n",
    "Шаги для выбора локации:\n",
    "\n",
    "- В избранном регионе ищут месторождения, для каждого определяют значения признаков;\n",
    "- Строят модель и оценивают объём запасов;\n",
    "- Выбирают месторождения с самым высокими оценками значений. Количество месторождений зависит от бюджета компании и стоимости разработки одной скважины;\n",
    "- Прибыль равна суммарной прибыли отобранных месторождений."
   ]
  },
  {
   "cell_type": "markdown",
   "metadata": {},
   "source": [
    "###### Цель исследования:\n",
    "Рассчитать, в каком из трех регионов добычи нефти развивать прибыльнее всего.\n",
    "\n",
    "###### Ход исследования:\n",
    "1. Открыть и изучить предоставленные данные и подготовить их к исследованию.\n",
    "2. Обучить и проверить модель для каждого региона.\n",
    "3. Рассчитать достаточный объём сырья для безубыточной разработки новой скважины. \n",
    "4. Рассчитать прибыль по выбранным скважинам и предсказаниям модели.\n",
    "5. Посчитать риски и прибыль для каждого региона.\n",
    "6. Сделать вывод. Предложить регион для разработки скважин и обосновать выбор."
   ]
  },
  {
   "cell_type": "markdown",
   "metadata": {},
   "source": [
    "## Загрузка и подготовка данных"
   ]
  },
  {
   "cell_type": "markdown",
   "metadata": {},
   "source": [
    "Подготовим библиотеки"
   ]
  },
  {
   "cell_type": "code",
   "execution_count": 1,
   "metadata": {},
   "outputs": [],
   "source": [
    "import pandas as pd\n",
    "import scipy.stats as st\n",
    "from sklearn.model_selection import train_test_split\n",
    "from sklearn.linear_model import LinearRegression\n",
    "from sklearn.metrics import mean_squared_error\n",
    "from numpy.random import RandomState\n"
   ]
  },
  {
   "cell_type": "markdown",
   "metadata": {},
   "source": [
    "\n",
    "<div class=\"alert alert-block alert-success\">\n",
    "<b>Успех:</b> Импорты  на месте\n",
    "</div>\n"
   ]
  },
  {
   "cell_type": "markdown",
   "metadata": {},
   "source": [
    "Загрузим данные и изучим их."
   ]
  },
  {
   "cell_type": "markdown",
   "metadata": {},
   "source": [
    "1. Изучим первый датасет."
   ]
  },
  {
   "cell_type": "code",
   "execution_count": 2,
   "metadata": {},
   "outputs": [
    {
     "name": "stdout",
     "output_type": "stream",
     "text": [
      "      id        f0        f1        f2     product\n",
      "0  txEyH  0.705745 -0.497823  1.221170  105.280062\n",
      "1  2acmU  1.334711 -0.340164  4.365080   73.037750\n",
      "2  409Wp  1.022732  0.151990  1.419926   85.265647\n",
      "3  iJLyR -0.032172  0.139033  2.978566  168.620776\n",
      "4  Xdl7t  1.988431  0.155413  4.751769  154.036647\n",
      "5  wX4Hy  0.969570  0.489775 -0.735383   64.741541\n",
      "6  tL6pL  0.645075  0.530656  1.780266   49.055285\n",
      "7  BYPU6 -0.400648  0.808337 -5.624670   72.943292\n",
      "8  j9Oui  0.643105 -0.551583  2.372141  113.356160\n",
      "9  OLuZU  2.173381  0.563698  9.441852  127.910945\n",
      "<class 'pandas.core.frame.DataFrame'>\n",
      "RangeIndex: 100000 entries, 0 to 99999\n",
      "Data columns (total 5 columns):\n",
      " #   Column   Non-Null Count   Dtype  \n",
      "---  ------   --------------   -----  \n",
      " 0   id       100000 non-null  object \n",
      " 1   f0       100000 non-null  float64\n",
      " 2   f1       100000 non-null  float64\n",
      " 3   f2       100000 non-null  float64\n",
      " 4   product  100000 non-null  float64\n",
      "dtypes: float64(4), object(1)\n",
      "memory usage: 3.8+ MB\n",
      "None\n"
     ]
    }
   ],
   "source": [
    "data_0 = pd.read_csv('/datasets/geo_data_0.csv')\n",
    "print(data_0.head(10))\n",
    "print(data_0.info())"
   ]
  },
  {
   "cell_type": "markdown",
   "metadata": {},
   "source": [
    "На первый взгляд данные в норме, соответствуют заявленным в документации, пропусков в них нет. Проверим на наличие явных и неявных дубликатов."
   ]
  },
  {
   "cell_type": "code",
   "execution_count": 3,
   "metadata": {},
   "outputs": [
    {
     "data": {
      "text/plain": [
       "0"
      ]
     },
     "execution_count": 3,
     "metadata": {},
     "output_type": "execute_result"
    }
   ],
   "source": [
    "data_0.duplicated().sum()"
   ]
  },
  {
   "cell_type": "code",
   "execution_count": 4,
   "metadata": {},
   "outputs": [
    {
     "data": {
      "text/html": [
       "<div>\n",
       "<style scoped>\n",
       "    .dataframe tbody tr th:only-of-type {\n",
       "        vertical-align: middle;\n",
       "    }\n",
       "\n",
       "    .dataframe tbody tr th {\n",
       "        vertical-align: top;\n",
       "    }\n",
       "\n",
       "    .dataframe thead th {\n",
       "        text-align: right;\n",
       "    }\n",
       "</style>\n",
       "<table border=\"1\" class=\"dataframe\">\n",
       "  <thead>\n",
       "    <tr style=\"text-align: right;\">\n",
       "      <th></th>\n",
       "      <th>id</th>\n",
       "      <th>f0</th>\n",
       "      <th>f1</th>\n",
       "      <th>f2</th>\n",
       "      <th>product</th>\n",
       "    </tr>\n",
       "  </thead>\n",
       "  <tbody>\n",
       "    <tr>\n",
       "      <th>931</th>\n",
       "      <td>HZww2</td>\n",
       "      <td>0.755284</td>\n",
       "      <td>0.368511</td>\n",
       "      <td>1.863211</td>\n",
       "      <td>30.681774</td>\n",
       "    </tr>\n",
       "    <tr>\n",
       "      <th>1364</th>\n",
       "      <td>bxg6G</td>\n",
       "      <td>0.411645</td>\n",
       "      <td>0.856830</td>\n",
       "      <td>-3.653440</td>\n",
       "      <td>73.604260</td>\n",
       "    </tr>\n",
       "    <tr>\n",
       "      <th>1949</th>\n",
       "      <td>QcMuo</td>\n",
       "      <td>0.506563</td>\n",
       "      <td>-0.323775</td>\n",
       "      <td>-2.215583</td>\n",
       "      <td>75.496502</td>\n",
       "    </tr>\n",
       "    <tr>\n",
       "      <th>3389</th>\n",
       "      <td>A5aEY</td>\n",
       "      <td>-0.039949</td>\n",
       "      <td>0.156872</td>\n",
       "      <td>0.209861</td>\n",
       "      <td>89.249364</td>\n",
       "    </tr>\n",
       "    <tr>\n",
       "      <th>7530</th>\n",
       "      <td>HZww2</td>\n",
       "      <td>1.061194</td>\n",
       "      <td>-0.373969</td>\n",
       "      <td>10.430210</td>\n",
       "      <td>158.828695</td>\n",
       "    </tr>\n",
       "    <tr>\n",
       "      <th>16633</th>\n",
       "      <td>fiKDv</td>\n",
       "      <td>0.157341</td>\n",
       "      <td>1.028359</td>\n",
       "      <td>5.585586</td>\n",
       "      <td>95.817889</td>\n",
       "    </tr>\n",
       "    <tr>\n",
       "      <th>21426</th>\n",
       "      <td>Tdehs</td>\n",
       "      <td>0.829407</td>\n",
       "      <td>0.298807</td>\n",
       "      <td>-0.049563</td>\n",
       "      <td>96.035308</td>\n",
       "    </tr>\n",
       "    <tr>\n",
       "      <th>41724</th>\n",
       "      <td>bxg6G</td>\n",
       "      <td>-0.823752</td>\n",
       "      <td>0.546319</td>\n",
       "      <td>3.630479</td>\n",
       "      <td>93.007798</td>\n",
       "    </tr>\n",
       "    <tr>\n",
       "      <th>42529</th>\n",
       "      <td>AGS9W</td>\n",
       "      <td>1.454747</td>\n",
       "      <td>-0.479651</td>\n",
       "      <td>0.683380</td>\n",
       "      <td>126.370504</td>\n",
       "    </tr>\n",
       "    <tr>\n",
       "      <th>51970</th>\n",
       "      <td>A5aEY</td>\n",
       "      <td>-0.180335</td>\n",
       "      <td>0.935548</td>\n",
       "      <td>-2.094773</td>\n",
       "      <td>33.020205</td>\n",
       "    </tr>\n",
       "    <tr>\n",
       "      <th>60140</th>\n",
       "      <td>TtcGQ</td>\n",
       "      <td>0.569276</td>\n",
       "      <td>-0.104876</td>\n",
       "      <td>6.440215</td>\n",
       "      <td>85.350186</td>\n",
       "    </tr>\n",
       "    <tr>\n",
       "      <th>63593</th>\n",
       "      <td>QcMuo</td>\n",
       "      <td>0.635635</td>\n",
       "      <td>-0.473422</td>\n",
       "      <td>0.862670</td>\n",
       "      <td>64.578675</td>\n",
       "    </tr>\n",
       "    <tr>\n",
       "      <th>64022</th>\n",
       "      <td>74z30</td>\n",
       "      <td>0.741456</td>\n",
       "      <td>0.459229</td>\n",
       "      <td>5.153109</td>\n",
       "      <td>140.771492</td>\n",
       "    </tr>\n",
       "    <tr>\n",
       "      <th>66136</th>\n",
       "      <td>74z30</td>\n",
       "      <td>1.084962</td>\n",
       "      <td>-0.312358</td>\n",
       "      <td>6.990771</td>\n",
       "      <td>127.643327</td>\n",
       "    </tr>\n",
       "    <tr>\n",
       "      <th>69163</th>\n",
       "      <td>AGS9W</td>\n",
       "      <td>-0.933795</td>\n",
       "      <td>0.116194</td>\n",
       "      <td>-3.655896</td>\n",
       "      <td>19.230453</td>\n",
       "    </tr>\n",
       "    <tr>\n",
       "      <th>75715</th>\n",
       "      <td>Tdehs</td>\n",
       "      <td>0.112079</td>\n",
       "      <td>0.430296</td>\n",
       "      <td>3.218993</td>\n",
       "      <td>60.964018</td>\n",
       "    </tr>\n",
       "    <tr>\n",
       "      <th>89582</th>\n",
       "      <td>bsk9y</td>\n",
       "      <td>0.398908</td>\n",
       "      <td>-0.400253</td>\n",
       "      <td>10.122376</td>\n",
       "      <td>163.433078</td>\n",
       "    </tr>\n",
       "    <tr>\n",
       "      <th>90815</th>\n",
       "      <td>fiKDv</td>\n",
       "      <td>0.049883</td>\n",
       "      <td>0.841313</td>\n",
       "      <td>6.394613</td>\n",
       "      <td>137.346586</td>\n",
       "    </tr>\n",
       "    <tr>\n",
       "      <th>92341</th>\n",
       "      <td>TtcGQ</td>\n",
       "      <td>0.110711</td>\n",
       "      <td>1.022689</td>\n",
       "      <td>0.911381</td>\n",
       "      <td>101.318008</td>\n",
       "    </tr>\n",
       "    <tr>\n",
       "      <th>97785</th>\n",
       "      <td>bsk9y</td>\n",
       "      <td>0.378429</td>\n",
       "      <td>0.005837</td>\n",
       "      <td>0.160827</td>\n",
       "      <td>160.637302</td>\n",
       "    </tr>\n",
       "  </tbody>\n",
       "</table>\n",
       "</div>"
      ],
      "text/plain": [
       "          id        f0        f1         f2     product\n",
       "931    HZww2  0.755284  0.368511   1.863211   30.681774\n",
       "1364   bxg6G  0.411645  0.856830  -3.653440   73.604260\n",
       "1949   QcMuo  0.506563 -0.323775  -2.215583   75.496502\n",
       "3389   A5aEY -0.039949  0.156872   0.209861   89.249364\n",
       "7530   HZww2  1.061194 -0.373969  10.430210  158.828695\n",
       "16633  fiKDv  0.157341  1.028359   5.585586   95.817889\n",
       "21426  Tdehs  0.829407  0.298807  -0.049563   96.035308\n",
       "41724  bxg6G -0.823752  0.546319   3.630479   93.007798\n",
       "42529  AGS9W  1.454747 -0.479651   0.683380  126.370504\n",
       "51970  A5aEY -0.180335  0.935548  -2.094773   33.020205\n",
       "60140  TtcGQ  0.569276 -0.104876   6.440215   85.350186\n",
       "63593  QcMuo  0.635635 -0.473422   0.862670   64.578675\n",
       "64022  74z30  0.741456  0.459229   5.153109  140.771492\n",
       "66136  74z30  1.084962 -0.312358   6.990771  127.643327\n",
       "69163  AGS9W -0.933795  0.116194  -3.655896   19.230453\n",
       "75715  Tdehs  0.112079  0.430296   3.218993   60.964018\n",
       "89582  bsk9y  0.398908 -0.400253  10.122376  163.433078\n",
       "90815  fiKDv  0.049883  0.841313   6.394613  137.346586\n",
       "92341  TtcGQ  0.110711  1.022689   0.911381  101.318008\n",
       "97785  bsk9y  0.378429  0.005837   0.160827  160.637302"
      ]
     },
     "execution_count": 4,
     "metadata": {},
     "output_type": "execute_result"
    }
   ],
   "source": [
    "data_0[data_0['id'].duplicated(keep=False)]"
   ]
  },
  {
   "cell_type": "code",
   "execution_count": 5,
   "metadata": {},
   "outputs": [
    {
     "data": {
      "text/plain": [
       "id         10\n",
       "f0         10\n",
       "f1         10\n",
       "f2         10\n",
       "product    10\n",
       "dtype: int64"
      ]
     },
     "execution_count": 5,
     "metadata": {},
     "output_type": "execute_result"
    }
   ],
   "source": [
    "data_0[data_0['id'].duplicated()].count()"
   ]
  },
  {
   "cell_type": "markdown",
   "metadata": {},
   "source": [
    "В датасете обнаружены дубликаты - записи о некоторых скважинах встречаются в данных дважды, таких данных немного (всего 10 строк). Удалим их и оставим только уникальные строки."
   ]
  },
  {
   "cell_type": "code",
   "execution_count": 6,
   "metadata": {},
   "outputs": [
    {
     "name": "stdout",
     "output_type": "stream",
     "text": [
      "<class 'pandas.core.frame.DataFrame'>\n",
      "Int64Index: 99990 entries, 0 to 99999\n",
      "Data columns (total 5 columns):\n",
      " #   Column   Non-Null Count  Dtype  \n",
      "---  ------   --------------  -----  \n",
      " 0   id       99990 non-null  object \n",
      " 1   f0       99990 non-null  float64\n",
      " 2   f1       99990 non-null  float64\n",
      " 3   f2       99990 non-null  float64\n",
      " 4   product  99990 non-null  float64\n",
      "dtypes: float64(4), object(1)\n",
      "memory usage: 4.6+ MB\n"
     ]
    }
   ],
   "source": [
    "data_0 = data_0.drop_duplicates(subset='id')\n",
    "data_0.info()"
   ]
  },
  {
   "cell_type": "markdown",
   "metadata": {},
   "source": [
    "Первый датасет изучен, дубликаты устранены."
   ]
  },
  {
   "cell_type": "markdown",
   "metadata": {},
   "source": [
    "2. Загрузим и подготовим второй датасет."
   ]
  },
  {
   "cell_type": "code",
   "execution_count": 7,
   "metadata": {},
   "outputs": [
    {
     "name": "stdout",
     "output_type": "stream",
     "text": [
      "      id         f0         f1        f2     product\n",
      "0  kBEdx -15.001348  -8.276000 -0.005876    3.179103\n",
      "1  62mP7  14.272088  -3.475083  0.999183   26.953261\n",
      "2  vyE1P   6.263187  -5.948386  5.001160  134.766305\n",
      "3  KcrkZ -13.081196 -11.506057  4.999415  137.945408\n",
      "4  AHL4O  12.702195  -8.147433  5.004363  134.766305\n",
      "5  HHckp  -3.327590  -2.205276  3.003647   84.038886\n",
      "6  h5Ujo -11.142655 -10.133399  4.002382  110.992147\n",
      "7  muH9x   4.234715  -0.001354  2.004588   53.906522\n",
      "8  YiRkx  13.355129  -0.332068  4.998647  134.766305\n",
      "9  jG6Gi   1.069227 -11.025667  4.997844  137.945408\n",
      "<class 'pandas.core.frame.DataFrame'>\n",
      "RangeIndex: 100000 entries, 0 to 99999\n",
      "Data columns (total 5 columns):\n",
      " #   Column   Non-Null Count   Dtype  \n",
      "---  ------   --------------   -----  \n",
      " 0   id       100000 non-null  object \n",
      " 1   f0       100000 non-null  float64\n",
      " 2   f1       100000 non-null  float64\n",
      " 3   f2       100000 non-null  float64\n",
      " 4   product  100000 non-null  float64\n",
      "dtypes: float64(4), object(1)\n",
      "memory usage: 3.8+ MB\n",
      "None\n"
     ]
    }
   ],
   "source": [
    "data_1 = pd.read_csv('/datasets/geo_data_1.csv')\n",
    "print(data_1.head(10))\n",
    "print(data_1.info())"
   ]
  },
  {
   "cell_type": "markdown",
   "metadata": {},
   "source": [
    "Данные совпадают с заявленными в документации. Пропусков нет. Проверим на дубликаты."
   ]
  },
  {
   "cell_type": "code",
   "execution_count": 8,
   "metadata": {},
   "outputs": [
    {
     "data": {
      "text/plain": [
       "0"
      ]
     },
     "execution_count": 8,
     "metadata": {},
     "output_type": "execute_result"
    }
   ],
   "source": [
    "data_1.duplicated().sum()"
   ]
  },
  {
   "cell_type": "code",
   "execution_count": 9,
   "metadata": {},
   "outputs": [
    {
     "data": {
      "text/html": [
       "<div>\n",
       "<style scoped>\n",
       "    .dataframe tbody tr th:only-of-type {\n",
       "        vertical-align: middle;\n",
       "    }\n",
       "\n",
       "    .dataframe tbody tr th {\n",
       "        vertical-align: top;\n",
       "    }\n",
       "\n",
       "    .dataframe thead th {\n",
       "        text-align: right;\n",
       "    }\n",
       "</style>\n",
       "<table border=\"1\" class=\"dataframe\">\n",
       "  <thead>\n",
       "    <tr style=\"text-align: right;\">\n",
       "      <th></th>\n",
       "      <th>id</th>\n",
       "      <th>f0</th>\n",
       "      <th>f1</th>\n",
       "      <th>f2</th>\n",
       "      <th>product</th>\n",
       "    </tr>\n",
       "  </thead>\n",
       "  <tbody>\n",
       "    <tr>\n",
       "      <th>1305</th>\n",
       "      <td>LHZR0</td>\n",
       "      <td>11.170835</td>\n",
       "      <td>-1.945066</td>\n",
       "      <td>3.002872</td>\n",
       "      <td>80.859783</td>\n",
       "    </tr>\n",
       "    <tr>\n",
       "      <th>2721</th>\n",
       "      <td>bfPNe</td>\n",
       "      <td>-9.494442</td>\n",
       "      <td>-5.463692</td>\n",
       "      <td>4.006042</td>\n",
       "      <td>110.992147</td>\n",
       "    </tr>\n",
       "    <tr>\n",
       "      <th>5849</th>\n",
       "      <td>5ltQ6</td>\n",
       "      <td>-3.435401</td>\n",
       "      <td>-12.296043</td>\n",
       "      <td>1.999796</td>\n",
       "      <td>57.085625</td>\n",
       "    </tr>\n",
       "    <tr>\n",
       "      <th>41906</th>\n",
       "      <td>LHZR0</td>\n",
       "      <td>-8.989672</td>\n",
       "      <td>-4.286607</td>\n",
       "      <td>2.009139</td>\n",
       "      <td>57.085625</td>\n",
       "    </tr>\n",
       "    <tr>\n",
       "      <th>47591</th>\n",
       "      <td>wt4Uk</td>\n",
       "      <td>-9.091098</td>\n",
       "      <td>-8.109279</td>\n",
       "      <td>-0.002314</td>\n",
       "      <td>3.179103</td>\n",
       "    </tr>\n",
       "    <tr>\n",
       "      <th>82178</th>\n",
       "      <td>bfPNe</td>\n",
       "      <td>-6.202799</td>\n",
       "      <td>-4.820045</td>\n",
       "      <td>2.995107</td>\n",
       "      <td>84.038886</td>\n",
       "    </tr>\n",
       "    <tr>\n",
       "      <th>82873</th>\n",
       "      <td>wt4Uk</td>\n",
       "      <td>10.259972</td>\n",
       "      <td>-9.376355</td>\n",
       "      <td>4.994297</td>\n",
       "      <td>134.766305</td>\n",
       "    </tr>\n",
       "    <tr>\n",
       "      <th>84461</th>\n",
       "      <td>5ltQ6</td>\n",
       "      <td>18.213839</td>\n",
       "      <td>2.191999</td>\n",
       "      <td>3.993869</td>\n",
       "      <td>107.813044</td>\n",
       "    </tr>\n",
       "  </tbody>\n",
       "</table>\n",
       "</div>"
      ],
      "text/plain": [
       "          id         f0         f1        f2     product\n",
       "1305   LHZR0  11.170835  -1.945066  3.002872   80.859783\n",
       "2721   bfPNe  -9.494442  -5.463692  4.006042  110.992147\n",
       "5849   5ltQ6  -3.435401 -12.296043  1.999796   57.085625\n",
       "41906  LHZR0  -8.989672  -4.286607  2.009139   57.085625\n",
       "47591  wt4Uk  -9.091098  -8.109279 -0.002314    3.179103\n",
       "82178  bfPNe  -6.202799  -4.820045  2.995107   84.038886\n",
       "82873  wt4Uk  10.259972  -9.376355  4.994297  134.766305\n",
       "84461  5ltQ6  18.213839   2.191999  3.993869  107.813044"
      ]
     },
     "execution_count": 9,
     "metadata": {},
     "output_type": "execute_result"
    }
   ],
   "source": [
    "data_1[data_1['id'].duplicated(keep=False)]"
   ]
  },
  {
   "cell_type": "code",
   "execution_count": 10,
   "metadata": {},
   "outputs": [
    {
     "data": {
      "text/plain": [
       "id         4\n",
       "f0         4\n",
       "f1         4\n",
       "f2         4\n",
       "product    4\n",
       "dtype: int64"
      ]
     },
     "execution_count": 10,
     "metadata": {},
     "output_type": "execute_result"
    }
   ],
   "source": [
    "data_1[data_1['id'].duplicated()].count()"
   ]
  },
  {
   "cell_type": "code",
   "execution_count": 11,
   "metadata": {},
   "outputs": [
    {
     "name": "stdout",
     "output_type": "stream",
     "text": [
      "<class 'pandas.core.frame.DataFrame'>\n",
      "Int64Index: 99996 entries, 0 to 99999\n",
      "Data columns (total 5 columns):\n",
      " #   Column   Non-Null Count  Dtype  \n",
      "---  ------   --------------  -----  \n",
      " 0   id       99996 non-null  object \n",
      " 1   f0       99996 non-null  float64\n",
      " 2   f1       99996 non-null  float64\n",
      " 3   f2       99996 non-null  float64\n",
      " 4   product  99996 non-null  float64\n",
      "dtypes: float64(4), object(1)\n",
      "memory usage: 4.6+ MB\n"
     ]
    }
   ],
   "source": [
    "data_1 = data_1.drop_duplicates(subset='id')\n",
    "data_1.info()"
   ]
  },
  {
   "cell_type": "markdown",
   "metadata": {},
   "source": [
    "В ходе исследования данных были обнаружены 4 неявных дубликата - 4 записи с повторяющимся id скважин. Удалили их, как и в первом датасете, оставили только данные о скважинах с уникальным id."
   ]
  },
  {
   "cell_type": "markdown",
   "metadata": {},
   "source": [
    "3. Аналогично изучим третий датасет."
   ]
  },
  {
   "cell_type": "code",
   "execution_count": 12,
   "metadata": {},
   "outputs": [
    {
     "name": "stdout",
     "output_type": "stream",
     "text": [
      "      id        f0        f1        f2     product\n",
      "0  fwXo0 -1.146987  0.963328 -0.828965   27.758673\n",
      "1  WJtFt  0.262778  0.269839 -2.530187   56.069697\n",
      "2  ovLUW  0.194587  0.289035 -5.586433   62.871910\n",
      "3  q6cA6  2.236060 -0.553760  0.930038  114.572842\n",
      "4  WPMUX -0.515993  1.716266  5.899011  149.600746\n",
      "5  LzZXx -0.758092  0.710691  2.585887   90.222465\n",
      "6  WBHRv -0.574891  0.317727  1.773745   45.641478\n",
      "7  XO8fn -1.906649 -2.458350 -0.177097   72.480640\n",
      "8  ybmQ5  1.776292 -0.279356  3.004156  106.616832\n",
      "9  OilcN -1.214452 -0.439314  5.922514   52.954532\n",
      "<class 'pandas.core.frame.DataFrame'>\n",
      "RangeIndex: 100000 entries, 0 to 99999\n",
      "Data columns (total 5 columns):\n",
      " #   Column   Non-Null Count   Dtype  \n",
      "---  ------   --------------   -----  \n",
      " 0   id       100000 non-null  object \n",
      " 1   f0       100000 non-null  float64\n",
      " 2   f1       100000 non-null  float64\n",
      " 3   f2       100000 non-null  float64\n",
      " 4   product  100000 non-null  float64\n",
      "dtypes: float64(4), object(1)\n",
      "memory usage: 3.8+ MB\n",
      "None\n"
     ]
    }
   ],
   "source": [
    "data_2 = pd.read_csv('/datasets/geo_data_2.csv')\n",
    "print(data_2.head(10))\n",
    "print(data_2.info())"
   ]
  },
  {
   "cell_type": "markdown",
   "metadata": {},
   "source": [
    "Данные совпадают с заявленными, пропусков нет, проверим на дубликаты."
   ]
  },
  {
   "cell_type": "code",
   "execution_count": 13,
   "metadata": {},
   "outputs": [
    {
     "data": {
      "text/plain": [
       "0"
      ]
     },
     "execution_count": 13,
     "metadata": {},
     "output_type": "execute_result"
    }
   ],
   "source": [
    "data_2.duplicated().sum()"
   ]
  },
  {
   "cell_type": "code",
   "execution_count": 14,
   "metadata": {},
   "outputs": [
    {
     "data": {
      "text/html": [
       "<div>\n",
       "<style scoped>\n",
       "    .dataframe tbody tr th:only-of-type {\n",
       "        vertical-align: middle;\n",
       "    }\n",
       "\n",
       "    .dataframe tbody tr th {\n",
       "        vertical-align: top;\n",
       "    }\n",
       "\n",
       "    .dataframe thead th {\n",
       "        text-align: right;\n",
       "    }\n",
       "</style>\n",
       "<table border=\"1\" class=\"dataframe\">\n",
       "  <thead>\n",
       "    <tr style=\"text-align: right;\">\n",
       "      <th></th>\n",
       "      <th>id</th>\n",
       "      <th>f0</th>\n",
       "      <th>f1</th>\n",
       "      <th>f2</th>\n",
       "      <th>product</th>\n",
       "    </tr>\n",
       "  </thead>\n",
       "  <tbody>\n",
       "    <tr>\n",
       "      <th>11449</th>\n",
       "      <td>VF7Jo</td>\n",
       "      <td>2.122656</td>\n",
       "      <td>-0.858275</td>\n",
       "      <td>5.746001</td>\n",
       "      <td>181.716817</td>\n",
       "    </tr>\n",
       "    <tr>\n",
       "      <th>28039</th>\n",
       "      <td>xCHr8</td>\n",
       "      <td>1.633027</td>\n",
       "      <td>0.368135</td>\n",
       "      <td>-2.378367</td>\n",
       "      <td>6.120525</td>\n",
       "    </tr>\n",
       "    <tr>\n",
       "      <th>43233</th>\n",
       "      <td>xCHr8</td>\n",
       "      <td>-0.847066</td>\n",
       "      <td>2.101796</td>\n",
       "      <td>5.597130</td>\n",
       "      <td>184.388641</td>\n",
       "    </tr>\n",
       "    <tr>\n",
       "      <th>44378</th>\n",
       "      <td>Vcm5J</td>\n",
       "      <td>-1.229484</td>\n",
       "      <td>-2.439204</td>\n",
       "      <td>1.222909</td>\n",
       "      <td>137.968290</td>\n",
       "    </tr>\n",
       "    <tr>\n",
       "      <th>45404</th>\n",
       "      <td>KUPhW</td>\n",
       "      <td>0.231846</td>\n",
       "      <td>-1.698941</td>\n",
       "      <td>4.990775</td>\n",
       "      <td>11.716299</td>\n",
       "    </tr>\n",
       "    <tr>\n",
       "      <th>49564</th>\n",
       "      <td>VF7Jo</td>\n",
       "      <td>-0.883115</td>\n",
       "      <td>0.560537</td>\n",
       "      <td>0.723601</td>\n",
       "      <td>136.233420</td>\n",
       "    </tr>\n",
       "    <tr>\n",
       "      <th>55967</th>\n",
       "      <td>KUPhW</td>\n",
       "      <td>1.211150</td>\n",
       "      <td>3.176408</td>\n",
       "      <td>5.543540</td>\n",
       "      <td>132.831802</td>\n",
       "    </tr>\n",
       "    <tr>\n",
       "      <th>95090</th>\n",
       "      <td>Vcm5J</td>\n",
       "      <td>2.587702</td>\n",
       "      <td>1.986875</td>\n",
       "      <td>2.482245</td>\n",
       "      <td>92.327572</td>\n",
       "    </tr>\n",
       "  </tbody>\n",
       "</table>\n",
       "</div>"
      ],
      "text/plain": [
       "          id        f0        f1        f2     product\n",
       "11449  VF7Jo  2.122656 -0.858275  5.746001  181.716817\n",
       "28039  xCHr8  1.633027  0.368135 -2.378367    6.120525\n",
       "43233  xCHr8 -0.847066  2.101796  5.597130  184.388641\n",
       "44378  Vcm5J -1.229484 -2.439204  1.222909  137.968290\n",
       "45404  KUPhW  0.231846 -1.698941  4.990775   11.716299\n",
       "49564  VF7Jo -0.883115  0.560537  0.723601  136.233420\n",
       "55967  KUPhW  1.211150  3.176408  5.543540  132.831802\n",
       "95090  Vcm5J  2.587702  1.986875  2.482245   92.327572"
      ]
     },
     "execution_count": 14,
     "metadata": {},
     "output_type": "execute_result"
    }
   ],
   "source": [
    "data_2[data_2['id'].duplicated(keep=False)]"
   ]
  },
  {
   "cell_type": "code",
   "execution_count": 15,
   "metadata": {},
   "outputs": [
    {
     "data": {
      "text/plain": [
       "id         4\n",
       "f0         4\n",
       "f1         4\n",
       "f2         4\n",
       "product    4\n",
       "dtype: int64"
      ]
     },
     "execution_count": 15,
     "metadata": {},
     "output_type": "execute_result"
    }
   ],
   "source": [
    "data_2[data_2['id'].duplicated()].count()"
   ]
  },
  {
   "cell_type": "code",
   "execution_count": 16,
   "metadata": {},
   "outputs": [
    {
     "name": "stdout",
     "output_type": "stream",
     "text": [
      "<class 'pandas.core.frame.DataFrame'>\n",
      "Int64Index: 99996 entries, 0 to 99999\n",
      "Data columns (total 5 columns):\n",
      " #   Column   Non-Null Count  Dtype  \n",
      "---  ------   --------------  -----  \n",
      " 0   id       99996 non-null  object \n",
      " 1   f0       99996 non-null  float64\n",
      " 2   f1       99996 non-null  float64\n",
      " 3   f2       99996 non-null  float64\n",
      " 4   product  99996 non-null  float64\n",
      "dtypes: float64(4), object(1)\n",
      "memory usage: 4.6+ MB\n"
     ]
    }
   ],
   "source": [
    "data_2 = data_2.drop_duplicates(subset='id')\n",
    "data_2.info()"
   ]
  },
  {
   "cell_type": "markdown",
   "metadata": {},
   "source": [
    "Были обнаружены 4 дубликата с повторяющимся индентификатором скважин. Удалили их, оставив только уникальные скважины."
   ]
  },
  {
   "cell_type": "markdown",
   "metadata": {},
   "source": [
    "Вывод: данные во всех трех датасетах были изучены, они действительно содержат информацию, заявленную в документах. Пропусков обнаружено не было. Во всех трех датасетах были обнаружены дубликаты некоторых скважин, их количество оказалось несущественно мало по отношению ко всему объему данных, поэтому было принято решение их удалить без вреда для модели и ее качества, оставив только уникальные данные."
   ]
  },
  {
   "cell_type": "markdown",
   "metadata": {},
   "source": [
    "\n",
    "\n",
    "<div class=\"alert alert-block alert-success\">\n",
    "<b>Успех:</b> Данные осмотрены, но можно было бы еще как минимум изучить корреляции, так как мы планируем использовать линейные модели, а для них это важно. \n",
    "</div>\n",
    "\n",
    "\n",
    "<div class=\"alert alert-block alert-info\">\n",
    "<b>Совет:</b>  Советую обратить внимание на библиотеки sweetviz и pandas_profiling помогут в проведении более тщательного EDA анализа. Исследовательский анализ можно делать и с помощью ручного вызова функций дефолтных библиотек. Данные библиотеки хороши для максимизации комфорта презентации результатов анализа бизнес-пользователям.  \n",
    "\n",
    "Очень просты в использоовании, на вход кладется датафрейм: pandas_profiling.ProfileReport(df) \n",
    "</div>\n"
   ]
  },
  {
   "cell_type": "markdown",
   "metadata": {},
   "source": [
    "<div class=\"alert alert-block alert-warning\">\n",
    "<b>Комментарий студента:</b> Спасибо за совет.\n",
    "</div>"
   ]
  },
  {
   "cell_type": "markdown",
   "metadata": {},
   "source": [
    "<div class=\"alert alert-block alert-success\">\n",
    "    \n",
    "<b>Успех[2]:</b> Главное во время обучения не злоупотреблять, чтобы руки не забыл как делать EDA анализ)\n",
    "</div>\n"
   ]
  },
  {
   "cell_type": "markdown",
   "metadata": {},
   "source": [
    "## Обучение и проверка модели"
   ]
  },
  {
   "cell_type": "markdown",
   "metadata": {},
   "source": [
    "1. Разобъем каждый датасет на обучающую и валидационную выборки в соотношении 75:25."
   ]
  },
  {
   "cell_type": "code",
   "execution_count": 17,
   "metadata": {},
   "outputs": [
    {
     "name": "stdout",
     "output_type": "stream",
     "text": [
      "(74992, 3)\n",
      "(74992,)\n",
      "(24998, 3)\n",
      "(24998,)\n"
     ]
    }
   ],
   "source": [
    "#создадим две переменные, содержащие признаки и целевой признак, из признаков также исключим столбец с id скважины, \n",
    "#для обучения модели оннам не нужен.\n",
    "features_0 = data_0.drop(['id', 'product'], axis=1)\n",
    "target_0 = data_0['product']\n",
    "\n",
    "#разобъем датасет на обучающую и валидационную выборки\n",
    "features_train_0, features_valid_0, target_train_0, target_valid_0 = train_test_split(features_0, target_0, \n",
    "                                                                              test_size=0.25, \n",
    "                                                                              random_state=12345)\n",
    "\n",
    "print(features_train_0.shape)\n",
    "print(target_train_0.shape)\n",
    "\n",
    "print(features_valid_0.shape)\n",
    "print(target_valid_0.shape)"
   ]
  },
  {
   "cell_type": "code",
   "execution_count": 18,
   "metadata": {},
   "outputs": [
    {
     "name": "stdout",
     "output_type": "stream",
     "text": [
      "(74997, 3)\n",
      "(74997,)\n",
      "(24999, 3)\n",
      "(24999,)\n"
     ]
    }
   ],
   "source": [
    "#создадим две переменные, содержащие признаки и целевой признак, из признаков также исключим столбец с id скважины, \n",
    "#для обучения модели оннам не нужен.\n",
    "features_1 = data_1.drop(['id', 'product'], axis=1)\n",
    "target_1 = data_1['product']\n",
    "\n",
    "#разобъем датасет на обучающую и валидационную выборки\n",
    "features_train_1, features_valid_1, target_train_1, target_valid_1 = train_test_split(features_1, target_1, \n",
    "                                                                              test_size=0.25, \n",
    "                                                                              random_state=12345)\n",
    "\n",
    "print(features_train_1.shape)\n",
    "print(target_train_1.shape)\n",
    "\n",
    "print(features_valid_1.shape)\n",
    "print(target_valid_1.shape)"
   ]
  },
  {
   "cell_type": "code",
   "execution_count": 19,
   "metadata": {},
   "outputs": [
    {
     "name": "stdout",
     "output_type": "stream",
     "text": [
      "(74997, 3)\n",
      "(74997,)\n",
      "(24999, 3)\n",
      "(24999,)\n"
     ]
    }
   ],
   "source": [
    "#создадим две переменные, содержащие признаки и целевой признак, из признаков также исключим столбец с id скважины, \n",
    "#для обучения модели оннам не нужен.\n",
    "features_2 = data_2.drop(['id', 'product'], axis=1)\n",
    "target_2 = data_2['product']\n",
    "\n",
    "#разобъем датасет на обучающую и валидационную выборки\n",
    "features_train_2, features_valid_2, target_train_2, target_valid_2 = train_test_split(features_2, target_2, \n",
    "                                                                              test_size=0.25, \n",
    "                                                                              random_state=12345)\n",
    "\n",
    "print(features_train_2.shape)\n",
    "print(target_train_2.shape)\n",
    "\n",
    "print(features_valid_2.shape)\n",
    "print(target_valid_2.shape)"
   ]
  },
  {
   "cell_type": "markdown",
   "metadata": {},
   "source": [
    "2. Обучим модель и сделаем предсказания на валидационной выборке. Для обучения будем использовать Линейную регрессию по условию задачи."
   ]
  },
  {
   "cell_type": "code",
   "execution_count": 20,
   "metadata": {},
   "outputs": [
    {
     "name": "stdout",
     "output_type": "stream",
     "text": [
      "Первый регион\n",
      "MSE =  1432.8895312377324\n",
      "RMSE =  37.853527328872964\n",
      "Средний запас предсказанного сырья 92.78915638280621\n"
     ]
    }
   ],
   "source": [
    "model_0 = LinearRegression()\n",
    "#Обучим модель на тренировочной выборке\n",
    "model_0.fit(features_train_0, target_train_0)\n",
    "#получим предсказания модели на валидационной выборке и сохраним их в отдельную переменную\n",
    "predicted_valid_0 = pd.Series(model_0.predict(features_valid_0), index=features_valid_0.index)\n",
    "# Сделаем расчет метрик MSE  и RMSE\n",
    "mse_0 = mean_squared_error(target_valid_0, predicted_valid_0)\n",
    "rmse_0 = mse_0 ** 0.5\n",
    "#Посчитаем средний запас предсказанного сырья\n",
    "mean_predicted_valid_0 = predicted_valid_0.mean()\n",
    "\n",
    "print(\"Первый регион\")\n",
    "print(\"MSE = \", mse_0)\n",
    "print(\"RMSE = \", rmse_0)\n",
    "print(\"Средний запас предсказанного сырья\", mean_predicted_valid_0)\n"
   ]
  },
  {
   "cell_type": "code",
   "execution_count": 21,
   "metadata": {},
   "outputs": [
    {
     "name": "stdout",
     "output_type": "stream",
     "text": [
      "Второй регион\n",
      "MSE =  0.7957697318650314\n",
      "RMSE =  0.892059264771703\n",
      "Средний запас предсказанного сырья 69.17831957030432\n"
     ]
    }
   ],
   "source": [
    "model_1 = LinearRegression()\n",
    "#Обучим модель на тренировочной выборке\n",
    "model_1.fit(features_train_1, target_train_1)\n",
    "#получим предсказания модели на валидационной выборке и сохраним их в отдельную переменную\n",
    "predicted_valid_1 = pd.Series(model_1.predict(features_valid_1), index=features_valid_1.index)\n",
    "# Сделаем расчет метрик MSE  и RMSE\n",
    "mse_1 = mean_squared_error(target_valid_1, predicted_valid_1)\n",
    "rmse_1 = mse_1 ** 0.5\n",
    "#Посчитаем средний запас предсказанного сырья\n",
    "mean_predicted_valid_1 = predicted_valid_1.mean()\n",
    "\n",
    "print(\"Второй регион\")\n",
    "print(\"MSE = \", mse_1)\n",
    "print(\"RMSE = \", rmse_1)\n",
    "print(\"Средний запас предсказанного сырья\", mean_predicted_valid_1)\n"
   ]
  },
  {
   "cell_type": "code",
   "execution_count": 22,
   "metadata": {},
   "outputs": [
    {
     "name": "stdout",
     "output_type": "stream",
     "text": [
      "Третий регион\n",
      "MSE =  1606.0738119304278\n",
      "RMSE =  40.07585073246016\n",
      "Средний запас предсказанного сырья 94.86572480562035\n"
     ]
    }
   ],
   "source": [
    "model_2 = LinearRegression()\n",
    "#Обучим модель на тренировочной выборке\n",
    "model_2.fit(features_train_2, target_train_2)\n",
    "#получим предсказания модели на валидационной выборке и сохраним их в отдельную переменную\n",
    "predicted_valid_2 = pd.Series(model_2.predict(features_valid_2), index=features_valid_2.index)\n",
    "# Сделаем расчет метрик MSE  и RMSE\n",
    "mse_2 = mean_squared_error(target_valid_2, predicted_valid_2)\n",
    "rmse_2 = mse_2 ** 0.5\n",
    "#Посчитаем средний запас предсказанного сырья\n",
    "mean_predicted_valid_2 = predicted_valid_2.mean()\n",
    "\n",
    "print(\"Третий регион\")\n",
    "print(\"MSE = \", mse_2)\n",
    "print(\"RMSE = \", rmse_2)\n",
    "print(\"Средний запас предсказанного сырья\", mean_predicted_valid_2)"
   ]
  },
  {
   "cell_type": "markdown",
   "metadata": {},
   "source": [
    "Вывод: Во втором регионе модель сделала самые качественные предсказания, RMSE этой модели оказалось даже меньше 1 - 0.89. В первом и третьем регионах эта метрика получилась очень высокой - 37,9 и 40 , т.е. модель в среднем ошибается на 37,9 и 40 тыс. баррелей соответственно.\n",
    "\n",
    "Однако, средний запас предсказанного сырья во втором регионе оказался самым низким - 69.2 тыс. баррелей, в отличие от первого и третьего регионов - 92,79 и 94,87 соответственно. \n",
    "\n",
    "Кажется, что развивать первый и третий регионы будет прибыльнее, если смотреть только на объемы предсказанного сырья, с другой стороны, опираясь на качество модели и показатель RMSE есть большая вероятность не получить ожидаемых объемов. Тогда как во втором месторождении предсказания куда более стабильны."
   ]
  },
  {
   "cell_type": "markdown",
   "metadata": {},
   "source": [
    "\n",
    "<div class=\"alert alert-block alert-success\">\n",
    "<b>Успех:</b> Шаг проделан хорошо, все метрики посчитаны корректно\n",
    "</div> \n",
    "\n",
    "\n",
    "<div class=\"alert alert-block alert-info\">\n",
    "<b>Совет: </b>  Можно было бы использовать циклы/функции и избежать дублирования кода. Дублирование кода, часто приводит к глупым ошибкам, которые тяжело отследить.\n",
    "</div>"
   ]
  },
  {
   "cell_type": "markdown",
   "metadata": {},
   "source": [
    "<div class=\"alert alert-block alert-warning\">\n",
    "<b>Комментарий студента:</b> Учту в последующих проектах.\n",
    "</div>"
   ]
  },
  {
   "cell_type": "markdown",
   "metadata": {},
   "source": [
    "\n",
    "<div class=\"alert alert-block alert-success\">\n",
    "    \n",
    "<b>Успех[2]:</b> 👍\n",
    "</div>"
   ]
  },
  {
   "cell_type": "markdown",
   "metadata": {},
   "source": [
    "## Подготовка к расчёту прибыли"
   ]
  },
  {
   "cell_type": "markdown",
   "metadata": {},
   "source": [
    "1. В условии задачи нам даны некоторые ключевые значения для расчетов. Сохраним их в переменных"
   ]
  },
  {
   "cell_type": "code",
   "execution_count": 23,
   "metadata": {},
   "outputs": [],
   "source": [
    "#Бюджет на разработку скважин в регионе — 10 млрд рублей\n",
    "budget_rub = 10000000000\n",
    "#Общее количество исследуемых точек\n",
    "research_field_num = 500\n",
    "#Количество лучших точек для разработки\n",
    "best_field_num = 200\n",
    "#Доход с каждой единицы продукта составляет 450 тыс. рублей\n",
    "income_rub = 450000\n",
    "#Максимальная вероятность убытков - 2.5%\n",
    "max_loss = 0.025"
   ]
  },
  {
   "cell_type": "markdown",
   "metadata": {},
   "source": [
    "\n",
    "\n",
    "<div class=\"alert alert-block alert-info\">\n",
    "    \n",
    "<b>Совет:</b> Константы принято записывать в ВЕРХНЕМ РЕГИСТРЕ =) Читем здесь https://pythonworld.ru/osnovy/pep-8-rukovodstvo-po-napisaniyu-koda-na-python.html#section-29\n",
    "    \n",
    "А большие значе"
   ]
  },
  {
   "cell_type": "markdown",
   "metadata": {},
   "source": [
    "<div class=\"alert alert-block alert-warning\">\n",
    "<b>Комментарий студента:</b> спасибо, что обратил мое внимание.. Кажется, что я этого не знала...\n",
    "</div>"
   ]
  },
  {
   "cell_type": "markdown",
   "metadata": {},
   "source": [
    "2. Рассчитаем достаточный объём сырья для безубыточной разработки новой скважины. Сравним полученный объём сырья со средним запасом в каждом регионе. "
   ]
  },
  {
   "cell_type": "code",
   "execution_count": 24,
   "metadata": {},
   "outputs": [
    {
     "data": {
      "text/plain": [
       "111.11111111111111"
      ]
     },
     "execution_count": 24,
     "metadata": {},
     "output_type": "execute_result"
    }
   ],
   "source": [
    "budget_per_field = budget_rub / best_field_num #рассчитаем бюджет, выделенный на разработку 1 скважины\n",
    "min_product_amount = budget_per_field / income_rub #Рассчитаем достаточный объём сырья для безубыточной разработки новой скважины\n",
    "min_product_amount"
   ]
  },
  {
   "cell_type": "code",
   "execution_count": 25,
   "metadata": {},
   "outputs": [
    {
     "name": "stdout",
     "output_type": "stream",
     "text": [
      "Минимальный объём сырья для безубыточной разработки новой скважины: 111.11111111111111\n",
      "Средний запас в первом регионе: 92.15820490940044\n",
      "Средний запас во втором регионе: 69.18604400957675\n",
      "Средний запас в третьем регионе: 94.7851093536914\n"
     ]
    }
   ],
   "source": [
    "print(\"Минимальный объём сырья для безубыточной разработки новой скважины:\", min_product_amount)\n",
    "print(\"Средний запас в первом регионе:\", target_valid_0.mean())\n",
    "print(\"Средний запас во втором регионе:\", target_valid_1.mean())\n",
    "print(\"Средний запас в третьем регионе:\", target_valid_2.mean())"
   ]
  },
  {
   "cell_type": "markdown",
   "metadata": {},
   "source": [
    "Исходя из полученных данных, минимальный объем сырья для прибыльной разработки скважины - 111,11 тыс. баррелей, ни один из регионов не достиг данной цифры. На первы взгляд кажется, что все три региона будут убыточными, но мы взяли среднее по всем скважинам. Нужно выбрать 200 скважин с максимальной прибыльностью, чтобы более точно оценить месторождения."
   ]
  },
  {
   "cell_type": "markdown",
   "metadata": {},
   "source": [
    "\n",
    "\n",
    "<div class=\"alert alert-block alert-success\">\n",
    "<b>Успех:</b> Значение для безубыточной разработки посчитано верно, с выводом согласен  \n",
    "</div>"
   ]
  },
  {
   "cell_type": "markdown",
   "metadata": {},
   "source": [
    "3. Напишем функцию для расчёта прибыли по выбранным скважинам и предсказаниям модели:"
   ]
  },
  {
   "cell_type": "code",
   "execution_count": 26,
   "metadata": {},
   "outputs": [],
   "source": [
    "def find_profit(target_valid, predicted_valid):\n",
    "    predicted = predicted_valid.sort_values(ascending = False).head(200) #выбираем 200 скважин с наибольшим предсказанным количеством сырья \n",
    "    real_product_amount = target_valid[predicted.index].sum() #суммируем реальный объем сырья этих предсказанных 200 скважин\n",
    "    profit = (income_rub * real_product_amount - budget_rub) / 1000000000 #вычисляем прибыль с этих 200 скважин (млрд)\n",
    "    return profit\n",
    "    "
   ]
  },
  {
   "cell_type": "markdown",
   "metadata": {},
   "source": [
    "\n",
    "<div class=\"alert alert-block alert-success\">\n",
    "<b>Успех:</b> Ф-ция для подсчета прибыли определена верно\n",
    "</div>\n"
   ]
  },
  {
   "cell_type": "code",
   "execution_count": 27,
   "metadata": {},
   "outputs": [
    {
     "data": {
      "text/plain": [
       "3.3651872377002867"
      ]
     },
     "execution_count": 27,
     "metadata": {},
     "output_type": "execute_result"
    }
   ],
   "source": [
    "find_profit(target_valid_0, predicted_valid_0)"
   ]
  },
  {
   "cell_type": "code",
   "execution_count": 28,
   "metadata": {},
   "outputs": [
    {
     "data": {
      "text/plain": [
       "2.4150866966815108"
      ]
     },
     "execution_count": 28,
     "metadata": {},
     "output_type": "execute_result"
    }
   ],
   "source": [
    "find_profit(target_valid_1, predicted_valid_1)"
   ]
  },
  {
   "cell_type": "code",
   "execution_count": 29,
   "metadata": {},
   "outputs": [
    {
     "data": {
      "text/plain": [
       "2.5012838532820627"
      ]
     },
     "execution_count": 29,
     "metadata": {},
     "output_type": "execute_result"
    }
   ],
   "source": [
    "find_profit(target_valid_2, predicted_valid_2)"
   ]
  },
  {
   "cell_type": "markdown",
   "metadata": {},
   "source": [
    "Исходя из расчетов, наиболее прибыльным оказался первый регион - его прибыль свыше 3-х млрд рублей, тогда как в двух других регионах это около 2.5 млрд."
   ]
  },
  {
   "cell_type": "markdown",
   "metadata": {},
   "source": [
    "## Расчёт прибыли и рисков "
   ]
  },
  {
   "cell_type": "markdown",
   "metadata": {},
   "source": [
    "Посчитаем риски и прибыль для каждого региона:"
   ]
  },
  {
   "cell_type": "code",
   "execution_count": 34,
   "metadata": {},
   "outputs": [],
   "source": [
    "state = RandomState(12345)\n",
    "def bootstrap(target, predictions):\n",
    "    values = []\n",
    "    lost = 0\n",
    "    for i in range(1000):\n",
    "        target_subsample = target.sample(n=500, replace=True, random_state=state)\n",
    "        probs_subsample = predictions[target_subsample.index]\n",
    "        profit = find_profit(target_subsample, probs_subsample)\n",
    "        if profit < 0:\n",
    "            lost +=1\n",
    "        values.append(profit)\n",
    "        \n",
    "    values = pd.Series(values)\n",
    "    lower = values.quantile(max_loss)\n",
    "    upper = values.quantile(1-max_loss)\n",
    "    confidence_interval = st.t.interval(0.95, len(values)-1, values.mean(), values.sem())\n",
    "    mean = values.mean()\n",
    "    \n",
    "    print(\"Средняя выручка:\", mean)\n",
    "    print(\"Доверительный интервал:\", confidence_interval)\n",
    "    print(\"Вероятность убытка:\", lost / 1000)"
   ]
  },
  {
   "cell_type": "markdown",
   "metadata": {},
   "source": [
    "\n",
    "<div class=\"alert alert-block alert-success\">\n",
    "<b>Успех:</b> С бутстрапом тоже все в порядке, метрики считаются верным образом!  \n",
    "</div>\n",
    "\n",
    "<div class=\"alert alert-block alert-info\">\n",
    "<b>Совет: </b>\n",
    "    \n",
    "- Риски можно лаконично считать в 1 строку: `(values < 0).mean() * 100`\n",
    "   \n",
    "- Вызывая **`st.t.interval(...)`**, ты находишь 95%-доверительный интервал для значения **`средней прибыли`**, то есть промежуток, в котором с большой вероятностью при проведении аналогичных экспериментов окажется **`средняя прибыль`**. По заданию требовалось оценить 95%-доверительный интервал для значения **`прибыли`**, то есть найти такой промежуток, в котором с большой вероятностью окажется **`прибыль`**, случайно выбранного месторождения данного региона. Нижняя граница этого интервала – это 2.5%-квантиль полученных значений прибыли, верхняя граница – 97.5%-квантиль.\n",
    "- Это не средняя выручка у тебя, а средняя прибыль     \n",
    "                                                        \n",
    "</div>\n"
   ]
  },
  {
   "cell_type": "code",
   "execution_count": 35,
   "metadata": {},
   "outputs": [
    {
     "name": "stdout",
     "output_type": "stream",
     "text": [
      "Средняя выручка: 0.5856522724429932\n",
      "Доверительный интервал: (0.5659593801225693, 0.6053451647634172)\n",
      "Вероятность убытка: 0.028\n"
     ]
    }
   ],
   "source": [
    "bootstrap(target_valid_0, predicted_valid_0)"
   ]
  },
  {
   "cell_type": "code",
   "execution_count": 36,
   "metadata": {},
   "outputs": [
    {
     "name": "stdout",
     "output_type": "stream",
     "text": [
      "Средняя выручка: 0.6851300146691893\n",
      "Доверительный интервал: (0.668434083841639, 0.7018259454967396)\n",
      "Вероятность убытка: 0.001\n"
     ]
    }
   ],
   "source": [
    "bootstrap(target_valid_1, predicted_valid_1)"
   ]
  },
  {
   "cell_type": "code",
   "execution_count": 37,
   "metadata": {},
   "outputs": [
    {
     "name": "stdout",
     "output_type": "stream",
     "text": [
      "Средняя выручка: 0.5231644372384128\n",
      "Доверительный интервал: (0.5031849692124908, 0.5431439052643348)\n",
      "Вероятность убытка: 0.058\n"
     ]
    }
   ],
   "source": [
    "bootstrap(target_valid_2, predicted_valid_2)"
   ]
  },
  {
   "cell_type": "markdown",
   "metadata": {},
   "source": [
    "Вывод: Исходя из полученных данных, единственный регион, который проходит по оценки рисков - это второй регион, где вероятность убытка менее 2,5%.Кроме того, средняя выручка во втором регионе выше, чем в остальных. Таким образом, нужно выбрать именно этот регион для развития."
   ]
  },
  {
   "cell_type": "markdown",
   "metadata": {},
   "source": [
    "## Общий вывод\n",
    "\n",
    "#### Этап 1. Изучение и предобработка данных.\n",
    "В ходе данного этапа были открыты файли и изучены данные в них. Данные были проверены на пропуски и дубликаты. Были удалены строки с дублирующимися индентификаторами скважин.\n",
    "\n",
    "\n",
    "#### Этап 2. Обучение и проверка модели для каждого региона.\n",
    "Данные были разбиты на обучающую и валидационную выборку в соотношении 75:25. Модель была обучена и протестирована на обучающих данных. Лучше всего модель показала себя на данных второго региона, предскаазния были наиболее точными, а метрика RMSE наиболее низкой.\n",
    "\n",
    "#### Этап 3. Расчет прибыли\n",
    "Все ключевые значения для расчетов были сохранены в отдельные переменные. \n",
    "Был рассчитан достаточный объём сырья для безубыточной разработки новой скважины, он составил 111,11 тыс. баррелей.\n",
    "Была написана функция для расчёта прибыли по выбранным скважинам и предсказаниям модели.\n",
    "\n",
    "#### Этап 4. Посчитаны риски и прибыль для каждого региона\n",
    "Исходя из расчетов для развития нужно выбрать второй регион, т.к. Вероятность убытков там значительно ниже, чем в других регионах, также у этого региона самая высокая средняя выручка, и относительно небольшой доверительный интервал.\n"
   ]
  },
  {
   "cell_type": "markdown",
   "metadata": {},
   "source": [
    "\n",
    "<div class=\"alert alert-block alert-success\">\n",
    "<b>Успех:</b> Отлично, проведено детальное исследование и был выбран правильный регион!\n",
    "</div>\n",
    "\n",
    "\n",
    "\n",
    "<div class=\"alert alert-block alert-info\">\n",
    "<b>Совет: </b> Если интересно изучить тему бутстрапа глубже - я оставлю  ниже несколько интересных и полезных ссылок по теме:\n",
    "        \n",
    "1. \"Bootstrap Hypothesis Testing in Statistics with Example\" \n",
    "        \n",
    "https://www.youtube.com/watch?v=9STZ7MxkNVg\n",
    "        \n",
    "2. \"How to Calculate Bootstrap Confidence Intervals For Machine Learning Results in Python\" \n",
    "        \n",
    "https://machinelearningmastery.com/calculate-bootstrap-confidence-intervals-machine-learning-results-python/\n",
    "        \n",
    "3. \"A Gentle Introduction to the Bootstrap Method\" \n",
    "\n",
    "https://machinelearningmastery.com/a-gentle-introduction-to-the-bootstrap-method/\n",
    "        \n",
    "4. \"An Introduction to the Bootstrap Method\" \n",
    "        \n",
    "https://towardsdatascience.com/an-introduction-to-the-bootstrap-method-58bcb51b4d60#:~:text=The%20basic%20idea%20of%20bootstrap,population%20mean)%20on%20sample%20data.&amp;text=A%20sample%20from%20population%20with%20sample%20size%20n\n",
    "        \n",
    "5. \"Bootstrapping and Resampling in Statistics with Example\" \n",
    "        \n",
    "        \n",
    "https://www.youtube.com/watch?v=O_Fj4q8lgmc\n",
    "\n",
    "6. Также одна из программ на рынке по этой теме управлненеческого моделирования - AnyLogic - интересный продукт. Можешь видео из интернета посмотреть по какому-нибудь примеру с её использованием. Тогда тема управленческого моделирования и бутстрапа может по-другому лечь.\n",
    "</div>\n"
   ]
  },
  {
   "cell_type": "markdown",
   "metadata": {},
   "source": [
    "<div class=\"alert alert-block alert-warning\">\n",
    "<b>Комментарий студента:</b> Спасибо, обязательно загляну в эти материалы. Если честно, тема бутстрапа показалась мне довольно запутанной.\n",
    "</div>"
   ]
  },
  {
   "cell_type": "markdown",
   "metadata": {},
   "source": [
    "<div class=\"alert alert-block alert-success\">\n",
    "    \n",
    "<b>Успех[2]:</b> 🤝 Думаю со временем все станет на свои места\n",
    "</div>\n",
    "\n"
   ]
  },
  {
   "cell_type": "markdown",
   "metadata": {},
   "source": [
    "## Чек-лист готовности проекта"
   ]
  },
  {
   "cell_type": "markdown",
   "metadata": {},
   "source": [
    "Поставьте 'x' в выполненных пунктах. Далее нажмите Shift+Enter."
   ]
  },
  {
   "cell_type": "markdown",
   "metadata": {},
   "source": [
    "- [x]  Jupyter Notebook открыт\n",
    "- [ ]  Весь код выполняется без ошибок\n",
    "- [ ]  Ячейки с кодом расположены в порядке исполнения\n",
    "- [ ]  Выполнен шаг 1: данные подготовлены\n",
    "- [ ]  Выполнен шаг 2: модели обучены и проверены\n",
    "    - [ ]  Данные корректно разбиты на обучающую и валидационную выборки\n",
    "    - [ ]  Модели обучены, предсказания сделаны\n",
    "    - [ ]  Предсказания и правильные ответы на валидационной выборке сохранены\n",
    "    - [ ]  На экране напечатаны результаты\n",
    "    - [ ]  Сделаны выводы\n",
    "- [ ]  Выполнен шаг 3: проведена подготовка к расчёту прибыли\n",
    "    - [ ]  Для всех ключевых значений созданы константы Python\n",
    "    - [ ]  Посчитано минимальное среднее количество продукта в месторождениях региона, достаточное для разработки\n",
    "    - [ ]  По предыдущему пункту сделаны выводы\n",
    "    - [ ]  Написана функция расчёта прибыли\n",
    "- [ ]  Выполнен шаг 4: посчитаны риски и прибыль\n",
    "    - [ ]  Проведена процедура *Bootstrap*\n",
    "    - [ ]  Все параметры бутстрепа соответствуют условию\n",
    "    - [ ]  Найдены все нужные величины\n",
    "    - [ ]  Предложен регион для разработки месторождения\n",
    "    - [ ]  Выбор региона обоснован"
   ]
  },
  {
   "cell_type": "code",
   "execution_count": null,
   "metadata": {},
   "outputs": [],
   "source": []
  }
 ],
 "metadata": {
  "ExecuteTimeLog": [
   {
    "duration": 1151,
    "start_time": "2023-08-14T08:42:33.497Z"
   },
   {
    "duration": 523,
    "start_time": "2023-08-14T08:44:17.328Z"
   },
   {
    "duration": 155,
    "start_time": "2023-08-14T08:44:50.874Z"
   },
   {
    "duration": 158,
    "start_time": "2023-08-14T08:48:01.637Z"
   },
   {
    "duration": 65,
    "start_time": "2023-08-14T08:49:18.099Z"
   },
   {
    "duration": 39,
    "start_time": "2023-08-14T08:50:18.434Z"
   },
   {
    "duration": 44,
    "start_time": "2023-08-14T08:50:54.775Z"
   },
   {
    "duration": 27,
    "start_time": "2023-08-14T08:51:12.220Z"
   },
   {
    "duration": 20,
    "start_time": "2023-08-14T08:51:24.860Z"
   },
   {
    "duration": 26,
    "start_time": "2023-08-14T08:51:48.921Z"
   },
   {
    "duration": 46,
    "start_time": "2023-08-14T08:51:55.106Z"
   },
   {
    "duration": 27,
    "start_time": "2023-08-14T08:56:36.898Z"
   },
   {
    "duration": 26,
    "start_time": "2023-08-14T09:00:31.372Z"
   },
   {
    "duration": 285,
    "start_time": "2023-08-14T09:05:04.108Z"
   },
   {
    "duration": 70,
    "start_time": "2023-08-14T09:06:14.565Z"
   },
   {
    "duration": 39,
    "start_time": "2023-08-14T09:06:40.076Z"
   },
   {
    "duration": 24,
    "start_time": "2023-08-14T09:07:05.191Z"
   },
   {
    "duration": 23,
    "start_time": "2023-08-14T09:07:28.990Z"
   },
   {
    "duration": 257,
    "start_time": "2023-08-14T09:10:01.641Z"
   },
   {
    "duration": 61,
    "start_time": "2023-08-14T09:10:44.301Z"
   },
   {
    "duration": 31,
    "start_time": "2023-08-14T09:10:45.152Z"
   },
   {
    "duration": 25,
    "start_time": "2023-08-14T09:10:45.779Z"
   },
   {
    "duration": 55,
    "start_time": "2023-08-14T09:10:56.903Z"
   },
   {
    "duration": 35,
    "start_time": "2023-08-14T09:11:17.671Z"
   },
   {
    "duration": 21,
    "start_time": "2023-08-14T09:11:41.760Z"
   },
   {
    "duration": 23,
    "start_time": "2023-08-14T09:12:00.201Z"
   },
   {
    "duration": 16,
    "start_time": "2023-08-14T09:29:34.870Z"
   },
   {
    "duration": 20,
    "start_time": "2023-08-14T09:30:28.362Z"
   },
   {
    "duration": 1152,
    "start_time": "2023-08-14T09:31:08.170Z"
   },
   {
    "duration": 192,
    "start_time": "2023-08-14T09:31:09.324Z"
   },
   {
    "duration": 63,
    "start_time": "2023-08-14T09:31:09.519Z"
   },
   {
    "duration": 60,
    "start_time": "2023-08-14T09:31:09.585Z"
   },
   {
    "duration": 36,
    "start_time": "2023-08-14T09:31:09.647Z"
   },
   {
    "duration": 62,
    "start_time": "2023-08-14T09:31:09.684Z"
   },
   {
    "duration": 179,
    "start_time": "2023-08-14T09:31:09.747Z"
   },
   {
    "duration": 62,
    "start_time": "2023-08-14T09:31:09.929Z"
   },
   {
    "duration": 58,
    "start_time": "2023-08-14T09:31:09.993Z"
   },
   {
    "duration": 58,
    "start_time": "2023-08-14T09:31:10.054Z"
   },
   {
    "duration": 49,
    "start_time": "2023-08-14T09:31:10.113Z"
   },
   {
    "duration": 168,
    "start_time": "2023-08-14T09:31:10.164Z"
   },
   {
    "duration": 62,
    "start_time": "2023-08-14T09:31:10.334Z"
   },
   {
    "duration": 51,
    "start_time": "2023-08-14T09:31:10.397Z"
   },
   {
    "duration": 37,
    "start_time": "2023-08-14T09:31:10.450Z"
   },
   {
    "duration": 35,
    "start_time": "2023-08-14T09:31:10.490Z"
   },
   {
    "duration": 29,
    "start_time": "2023-08-14T09:31:10.527Z"
   },
   {
    "duration": 20,
    "start_time": "2023-08-14T09:31:10.558Z"
   },
   {
    "duration": 16,
    "start_time": "2023-08-14T09:31:30.151Z"
   },
   {
    "duration": 5,
    "start_time": "2023-08-14T09:33:03.222Z"
   },
   {
    "duration": 22,
    "start_time": "2023-08-14T09:33:08.377Z"
   },
   {
    "duration": 4,
    "start_time": "2023-08-14T09:33:11.456Z"
   },
   {
    "duration": 127,
    "start_time": "2023-08-14T09:33:24.464Z"
   },
   {
    "duration": 5,
    "start_time": "2023-08-14T09:33:25.764Z"
   },
   {
    "duration": 22,
    "start_time": "2023-08-14T09:33:34.826Z"
   },
   {
    "duration": 3,
    "start_time": "2023-08-14T09:33:39.125Z"
   },
   {
    "duration": 1242,
    "start_time": "2023-08-14T09:34:04.430Z"
   },
   {
    "duration": 217,
    "start_time": "2023-08-14T09:34:05.674Z"
   },
   {
    "duration": 91,
    "start_time": "2023-08-14T09:34:05.896Z"
   },
   {
    "duration": 176,
    "start_time": "2023-08-14T09:34:05.990Z"
   },
   {
    "duration": 78,
    "start_time": "2023-08-14T09:34:06.168Z"
   },
   {
    "duration": 50,
    "start_time": "2023-08-14T09:34:06.248Z"
   },
   {
    "duration": 239,
    "start_time": "2023-08-14T09:34:06.299Z"
   },
   {
    "duration": 69,
    "start_time": "2023-08-14T09:34:06.540Z"
   },
   {
    "duration": 108,
    "start_time": "2023-08-14T09:34:06.613Z"
   },
   {
    "duration": 72,
    "start_time": "2023-08-14T09:34:06.725Z"
   },
   {
    "duration": 68,
    "start_time": "2023-08-14T09:34:06.799Z"
   },
   {
    "duration": 216,
    "start_time": "2023-08-14T09:34:06.869Z"
   },
   {
    "duration": 69,
    "start_time": "2023-08-14T09:34:07.087Z"
   },
   {
    "duration": 57,
    "start_time": "2023-08-14T09:34:07.158Z"
   },
   {
    "duration": 63,
    "start_time": "2023-08-14T09:34:07.217Z"
   },
   {
    "duration": 76,
    "start_time": "2023-08-14T09:34:07.282Z"
   },
   {
    "duration": 70,
    "start_time": "2023-08-14T09:34:07.361Z"
   },
   {
    "duration": 51,
    "start_time": "2023-08-14T09:34:07.432Z"
   },
   {
    "duration": 83,
    "start_time": "2023-08-14T09:34:07.485Z"
   },
   {
    "duration": 24,
    "start_time": "2023-08-14T09:36:02.929Z"
   },
   {
    "duration": 5,
    "start_time": "2023-08-14T09:36:05.604Z"
   },
   {
    "duration": 118,
    "start_time": "2023-08-14T09:36:21.979Z"
   },
   {
    "duration": 1291,
    "start_time": "2023-08-14T09:36:35.048Z"
   },
   {
    "duration": 0,
    "start_time": "2023-08-14T09:36:36.341Z"
   },
   {
    "duration": 1311,
    "start_time": "2023-08-14T09:36:52.735Z"
   },
   {
    "duration": 193,
    "start_time": "2023-08-14T09:36:54.048Z"
   },
   {
    "duration": 75,
    "start_time": "2023-08-14T09:36:54.243Z"
   },
   {
    "duration": 52,
    "start_time": "2023-08-14T09:36:54.319Z"
   },
   {
    "duration": 47,
    "start_time": "2023-08-14T09:36:54.374Z"
   },
   {
    "duration": 55,
    "start_time": "2023-08-14T09:36:54.423Z"
   },
   {
    "duration": 173,
    "start_time": "2023-08-14T09:36:54.481Z"
   },
   {
    "duration": 70,
    "start_time": "2023-08-14T09:36:54.656Z"
   },
   {
    "duration": 42,
    "start_time": "2023-08-14T09:36:54.728Z"
   },
   {
    "duration": 49,
    "start_time": "2023-08-14T09:36:54.772Z"
   },
   {
    "duration": 41,
    "start_time": "2023-08-14T09:36:54.823Z"
   },
   {
    "duration": 193,
    "start_time": "2023-08-14T09:36:54.866Z"
   },
   {
    "duration": 97,
    "start_time": "2023-08-14T09:36:55.061Z"
   },
   {
    "duration": 59,
    "start_time": "2023-08-14T09:36:55.161Z"
   },
   {
    "duration": 56,
    "start_time": "2023-08-14T09:36:55.222Z"
   },
   {
    "duration": 39,
    "start_time": "2023-08-14T09:36:55.280Z"
   },
   {
    "duration": 52,
    "start_time": "2023-08-14T09:36:55.321Z"
   },
   {
    "duration": 33,
    "start_time": "2023-08-14T09:36:55.375Z"
   },
   {
    "duration": 41,
    "start_time": "2023-08-14T09:36:55.411Z"
   },
   {
    "duration": 21,
    "start_time": "2023-08-14T09:38:50.333Z"
   },
   {
    "duration": 149,
    "start_time": "2023-08-14T09:38:55.480Z"
   },
   {
    "duration": 14,
    "start_time": "2023-08-14T09:39:13.103Z"
   },
   {
    "duration": 1224,
    "start_time": "2023-08-14T09:41:26.077Z"
   },
   {
    "duration": 193,
    "start_time": "2023-08-14T09:41:27.303Z"
   },
   {
    "duration": 78,
    "start_time": "2023-08-14T09:41:27.499Z"
   },
   {
    "duration": 64,
    "start_time": "2023-08-14T09:41:27.579Z"
   },
   {
    "duration": 101,
    "start_time": "2023-08-14T09:41:27.645Z"
   },
   {
    "duration": 57,
    "start_time": "2023-08-14T09:41:27.748Z"
   },
   {
    "duration": 190,
    "start_time": "2023-08-14T09:41:27.807Z"
   },
   {
    "duration": 66,
    "start_time": "2023-08-14T09:41:27.999Z"
   },
   {
    "duration": 59,
    "start_time": "2023-08-14T09:41:28.067Z"
   },
   {
    "duration": 62,
    "start_time": "2023-08-14T09:41:28.128Z"
   },
   {
    "duration": 72,
    "start_time": "2023-08-14T09:41:28.192Z"
   },
   {
    "duration": 287,
    "start_time": "2023-08-14T09:41:28.266Z"
   },
   {
    "duration": 82,
    "start_time": "2023-08-14T09:41:28.555Z"
   },
   {
    "duration": 71,
    "start_time": "2023-08-14T09:41:28.641Z"
   },
   {
    "duration": 159,
    "start_time": "2023-08-14T09:41:28.714Z"
   },
   {
    "duration": 143,
    "start_time": "2023-08-14T09:41:28.875Z"
   },
   {
    "duration": 71,
    "start_time": "2023-08-14T09:41:29.020Z"
   },
   {
    "duration": 83,
    "start_time": "2023-08-14T09:41:29.093Z"
   },
   {
    "duration": 139,
    "start_time": "2023-08-14T09:41:29.179Z"
   },
   {
    "duration": 34,
    "start_time": "2023-08-14T09:42:10.225Z"
   },
   {
    "duration": 45,
    "start_time": "2023-08-14T09:42:37.421Z"
   },
   {
    "duration": 43,
    "start_time": "2023-08-14T09:42:57.425Z"
   },
   {
    "duration": 50,
    "start_time": "2023-08-14T09:43:13.804Z"
   },
   {
    "duration": 19,
    "start_time": "2023-08-14T09:43:21.143Z"
   },
   {
    "duration": 17,
    "start_time": "2023-08-14T09:43:24.561Z"
   },
   {
    "duration": 21,
    "start_time": "2023-08-14T09:44:19.064Z"
   },
   {
    "duration": 24,
    "start_time": "2023-08-14T09:47:35.539Z"
   },
   {
    "duration": 107,
    "start_time": "2023-08-14T09:58:01.826Z"
   },
   {
    "duration": 20,
    "start_time": "2023-08-14T10:01:11.370Z"
   },
   {
    "duration": 20,
    "start_time": "2023-08-14T10:04:26.441Z"
   },
   {
    "duration": 25,
    "start_time": "2023-08-14T10:06:35.503Z"
   },
   {
    "duration": 4,
    "start_time": "2023-08-14T10:35:36.923Z"
   },
   {
    "duration": 4,
    "start_time": "2023-08-14T10:39:33.414Z"
   },
   {
    "duration": 5,
    "start_time": "2023-08-14T10:45:25.232Z"
   },
   {
    "duration": 7,
    "start_time": "2023-08-14T10:49:51.392Z"
   },
   {
    "duration": 3,
    "start_time": "2023-08-14T10:58:11.301Z"
   },
   {
    "duration": 4,
    "start_time": "2023-08-14T10:58:24.372Z"
   },
   {
    "duration": 3,
    "start_time": "2023-08-14T11:04:14.309Z"
   },
   {
    "duration": 6,
    "start_time": "2023-08-14T11:14:02.410Z"
   },
   {
    "duration": 110,
    "start_time": "2023-08-14T11:15:19.795Z"
   },
   {
    "duration": 4,
    "start_time": "2023-08-14T11:16:23.395Z"
   },
   {
    "duration": 14,
    "start_time": "2023-08-14T11:16:24.044Z"
   },
   {
    "duration": 1388,
    "start_time": "2023-08-14T11:16:40.722Z"
   },
   {
    "duration": 183,
    "start_time": "2023-08-14T11:16:42.114Z"
   },
   {
    "duration": 69,
    "start_time": "2023-08-14T11:16:42.298Z"
   },
   {
    "duration": 56,
    "start_time": "2023-08-14T11:16:42.369Z"
   },
   {
    "duration": 22,
    "start_time": "2023-08-14T11:16:42.428Z"
   },
   {
    "duration": 63,
    "start_time": "2023-08-14T11:16:42.452Z"
   },
   {
    "duration": 155,
    "start_time": "2023-08-14T11:16:42.517Z"
   },
   {
    "duration": 73,
    "start_time": "2023-08-14T11:16:42.674Z"
   },
   {
    "duration": 38,
    "start_time": "2023-08-14T11:16:42.748Z"
   },
   {
    "duration": 38,
    "start_time": "2023-08-14T11:16:42.788Z"
   },
   {
    "duration": 52,
    "start_time": "2023-08-14T11:16:42.828Z"
   },
   {
    "duration": 169,
    "start_time": "2023-08-14T11:16:42.882Z"
   },
   {
    "duration": 74,
    "start_time": "2023-08-14T11:16:43.053Z"
   },
   {
    "duration": 41,
    "start_time": "2023-08-14T11:16:43.130Z"
   },
   {
    "duration": 46,
    "start_time": "2023-08-14T11:16:43.173Z"
   },
   {
    "duration": 53,
    "start_time": "2023-08-14T11:16:43.221Z"
   },
   {
    "duration": 17,
    "start_time": "2023-08-14T11:16:43.276Z"
   },
   {
    "duration": 20,
    "start_time": "2023-08-14T11:16:43.310Z"
   },
   {
    "duration": 21,
    "start_time": "2023-08-14T11:16:43.333Z"
   },
   {
    "duration": 66,
    "start_time": "2023-08-14T11:16:43.356Z"
   },
   {
    "duration": 21,
    "start_time": "2023-08-14T11:16:43.508Z"
   },
   {
    "duration": 208,
    "start_time": "2023-08-14T11:16:43.531Z"
   },
   {
    "duration": 70,
    "start_time": "2023-08-14T11:16:43.741Z"
   },
   {
    "duration": 143,
    "start_time": "2023-08-14T11:16:43.815Z"
   },
   {
    "duration": 11,
    "start_time": "2023-08-14T11:16:43.961Z"
   },
   {
    "duration": 10,
    "start_time": "2023-08-14T11:16:43.974Z"
   },
   {
    "duration": 16,
    "start_time": "2023-08-14T11:16:43.986Z"
   },
   {
    "duration": 127,
    "start_time": "2023-08-14T11:16:44.004Z"
   },
   {
    "duration": 4,
    "start_time": "2023-08-14T11:23:06.632Z"
   },
   {
    "duration": 13,
    "start_time": "2023-08-14T11:23:08.369Z"
   },
   {
    "duration": 3,
    "start_time": "2023-08-14T11:23:33.290Z"
   },
   {
    "duration": 5,
    "start_time": "2023-08-14T11:23:41.792Z"
   },
   {
    "duration": 16,
    "start_time": "2023-08-14T11:23:42.528Z"
   },
   {
    "duration": 3,
    "start_time": "2023-08-14T11:23:56.381Z"
   },
   {
    "duration": 13,
    "start_time": "2023-08-14T11:23:56.943Z"
   },
   {
    "duration": 5,
    "start_time": "2023-08-14T11:24:40.521Z"
   },
   {
    "duration": 25,
    "start_time": "2023-08-14T11:24:41.008Z"
   },
   {
    "duration": 4,
    "start_time": "2023-08-14T11:25:43.970Z"
   },
   {
    "duration": 14,
    "start_time": "2023-08-14T11:25:44.681Z"
   },
   {
    "duration": 3,
    "start_time": "2023-08-14T11:25:56.385Z"
   },
   {
    "duration": 5,
    "start_time": "2023-08-14T11:26:03.711Z"
   },
   {
    "duration": 14,
    "start_time": "2023-08-14T11:26:04.268Z"
   },
   {
    "duration": 4,
    "start_time": "2023-08-14T11:34:03.521Z"
   },
   {
    "duration": 15,
    "start_time": "2023-08-14T11:34:04.162Z"
   },
   {
    "duration": 17,
    "start_time": "2023-08-14T11:41:16.168Z"
   },
   {
    "duration": 20,
    "start_time": "2023-08-14T11:41:24.410Z"
   },
   {
    "duration": 18,
    "start_time": "2023-08-14T11:41:44.821Z"
   },
   {
    "duration": 19,
    "start_time": "2023-08-14T11:42:04.399Z"
   },
   {
    "duration": 4,
    "start_time": "2023-08-14T11:42:12.669Z"
   },
   {
    "duration": 16,
    "start_time": "2023-08-14T11:42:13.322Z"
   },
   {
    "duration": 3,
    "start_time": "2023-08-14T11:42:28.622Z"
   },
   {
    "duration": 16,
    "start_time": "2023-08-14T11:42:29.322Z"
   },
   {
    "duration": 4,
    "start_time": "2023-08-14T11:43:17.677Z"
   },
   {
    "duration": 11,
    "start_time": "2023-08-14T11:43:18.107Z"
   },
   {
    "duration": 5,
    "start_time": "2023-08-14T11:48:30.220Z"
   },
   {
    "duration": 9,
    "start_time": "2023-08-14T11:48:30.823Z"
   },
   {
    "duration": 4,
    "start_time": "2023-08-14T11:49:08.182Z"
   },
   {
    "duration": 11,
    "start_time": "2023-08-14T11:49:08.810Z"
   },
   {
    "duration": 4,
    "start_time": "2023-08-14T11:50:45.470Z"
   },
   {
    "duration": 9,
    "start_time": "2023-08-14T11:50:45.863Z"
   },
   {
    "duration": 10,
    "start_time": "2023-08-14T11:51:01.497Z"
   },
   {
    "duration": 9,
    "start_time": "2023-08-14T11:51:15.390Z"
   },
   {
    "duration": 4,
    "start_time": "2023-08-14T11:54:28.588Z"
   },
   {
    "duration": 3,
    "start_time": "2023-08-14T12:04:04.378Z"
   },
   {
    "duration": 8,
    "start_time": "2023-08-14T12:27:22.096Z"
   },
   {
    "duration": 7,
    "start_time": "2023-08-14T12:28:37.543Z"
   },
   {
    "duration": 26,
    "start_time": "2023-08-14T12:29:13.025Z"
   },
   {
    "duration": 1249,
    "start_time": "2023-08-14T12:29:32.924Z"
   },
   {
    "duration": 179,
    "start_time": "2023-08-14T12:29:34.175Z"
   },
   {
    "duration": 82,
    "start_time": "2023-08-14T12:29:34.358Z"
   },
   {
    "duration": 43,
    "start_time": "2023-08-14T12:29:34.443Z"
   },
   {
    "duration": 41,
    "start_time": "2023-08-14T12:29:34.488Z"
   },
   {
    "duration": 316,
    "start_time": "2023-08-14T12:29:34.531Z"
   },
   {
    "duration": 193,
    "start_time": "2023-08-14T12:29:34.849Z"
   },
   {
    "duration": 77,
    "start_time": "2023-08-14T12:29:35.044Z"
   },
   {
    "duration": 40,
    "start_time": "2023-08-14T12:29:35.123Z"
   },
   {
    "duration": 79,
    "start_time": "2023-08-14T12:29:35.164Z"
   },
   {
    "duration": 128,
    "start_time": "2023-08-14T12:29:35.245Z"
   },
   {
    "duration": 204,
    "start_time": "2023-08-14T12:29:35.375Z"
   },
   {
    "duration": 78,
    "start_time": "2023-08-14T12:29:35.582Z"
   },
   {
    "duration": 48,
    "start_time": "2023-08-14T12:29:35.662Z"
   },
   {
    "duration": 66,
    "start_time": "2023-08-14T12:29:35.713Z"
   },
   {
    "duration": 103,
    "start_time": "2023-08-14T12:29:35.782Z"
   },
   {
    "duration": 19,
    "start_time": "2023-08-14T12:29:35.887Z"
   },
   {
    "duration": 53,
    "start_time": "2023-08-14T12:29:35.909Z"
   },
   {
    "duration": 25,
    "start_time": "2023-08-14T12:29:35.965Z"
   },
   {
    "duration": 99,
    "start_time": "2023-08-14T12:29:35.993Z"
   },
   {
    "duration": 126,
    "start_time": "2023-08-14T12:29:36.134Z"
   },
   {
    "duration": 230,
    "start_time": "2023-08-14T12:29:36.262Z"
   },
   {
    "duration": 171,
    "start_time": "2023-08-14T12:29:36.495Z"
   },
   {
    "duration": 90,
    "start_time": "2023-08-14T12:29:36.667Z"
   },
   {
    "duration": 86,
    "start_time": "2023-08-14T12:29:36.758Z"
   },
   {
    "duration": 54,
    "start_time": "2023-08-14T12:29:36.846Z"
   },
   {
    "duration": 50,
    "start_time": "2023-08-14T12:29:36.902Z"
   },
   {
    "duration": 191,
    "start_time": "2023-08-14T12:29:36.954Z"
   },
   {
    "duration": 105,
    "start_time": "2023-08-14T12:29:37.147Z"
   },
   {
    "duration": 168,
    "start_time": "2023-08-14T12:29:37.255Z"
   },
   {
    "duration": 388,
    "start_time": "2023-08-14T12:29:37.425Z"
   },
   {
    "duration": 22,
    "start_time": "2023-08-14T12:31:36.704Z"
   },
   {
    "duration": 33,
    "start_time": "2023-08-14T12:31:42.200Z"
   },
   {
    "duration": 8,
    "start_time": "2023-08-14T12:31:57.779Z"
   },
   {
    "duration": 24,
    "start_time": "2023-08-14T12:31:58.599Z"
   },
   {
    "duration": 6,
    "start_time": "2023-08-14T12:33:18.532Z"
   },
   {
    "duration": 29,
    "start_time": "2023-08-14T12:33:23.445Z"
   },
   {
    "duration": 6,
    "start_time": "2023-08-14T12:33:35.651Z"
   },
   {
    "duration": 25,
    "start_time": "2023-08-14T12:33:36.224Z"
   },
   {
    "duration": 155,
    "start_time": "2023-08-14T12:39:09.894Z"
   },
   {
    "duration": 15,
    "start_time": "2023-08-14T12:40:01.075Z"
   },
   {
    "duration": 16,
    "start_time": "2023-08-14T12:40:19.604Z"
   },
   {
    "duration": 16,
    "start_time": "2023-08-14T12:40:45.729Z"
   },
   {
    "duration": 14,
    "start_time": "2023-08-14T12:40:59.638Z"
   },
   {
    "duration": 7,
    "start_time": "2023-08-14T12:41:23.121Z"
   },
   {
    "duration": 21,
    "start_time": "2023-08-14T12:41:25.676Z"
   },
   {
    "duration": 6,
    "start_time": "2023-08-14T12:48:26.344Z"
   },
   {
    "duration": 1190,
    "start_time": "2023-08-14T12:48:31.722Z"
   },
   {
    "duration": 186,
    "start_time": "2023-08-14T12:48:32.914Z"
   },
   {
    "duration": 66,
    "start_time": "2023-08-14T12:48:33.102Z"
   },
   {
    "duration": 48,
    "start_time": "2023-08-14T12:48:33.171Z"
   },
   {
    "duration": 31,
    "start_time": "2023-08-14T12:48:33.222Z"
   },
   {
    "duration": 63,
    "start_time": "2023-08-14T12:48:33.255Z"
   },
   {
    "duration": 157,
    "start_time": "2023-08-14T12:48:33.320Z"
   },
   {
    "duration": 66,
    "start_time": "2023-08-14T12:48:33.479Z"
   },
   {
    "duration": 34,
    "start_time": "2023-08-14T12:48:33.547Z"
   },
   {
    "duration": 48,
    "start_time": "2023-08-14T12:48:33.584Z"
   },
   {
    "duration": 58,
    "start_time": "2023-08-14T12:48:33.634Z"
   },
   {
    "duration": 161,
    "start_time": "2023-08-14T12:48:33.694Z"
   },
   {
    "duration": 66,
    "start_time": "2023-08-14T12:48:33.856Z"
   },
   {
    "duration": 42,
    "start_time": "2023-08-14T12:48:33.924Z"
   },
   {
    "duration": 78,
    "start_time": "2023-08-14T12:48:33.968Z"
   },
   {
    "duration": 86,
    "start_time": "2023-08-14T12:48:34.048Z"
   },
   {
    "duration": 17,
    "start_time": "2023-08-14T12:48:34.136Z"
   },
   {
    "duration": 30,
    "start_time": "2023-08-14T12:48:34.155Z"
   },
   {
    "duration": 44,
    "start_time": "2023-08-14T12:48:34.187Z"
   },
   {
    "duration": 75,
    "start_time": "2023-08-14T12:48:34.233Z"
   },
   {
    "duration": 123,
    "start_time": "2023-08-14T12:48:34.311Z"
   },
   {
    "duration": 184,
    "start_time": "2023-08-14T12:48:34.436Z"
   },
   {
    "duration": 110,
    "start_time": "2023-08-14T12:48:34.625Z"
   },
   {
    "duration": 8,
    "start_time": "2023-08-14T12:48:34.737Z"
   },
   {
    "duration": 9,
    "start_time": "2023-08-14T12:48:34.747Z"
   },
   {
    "duration": 11,
    "start_time": "2023-08-14T12:48:34.758Z"
   },
   {
    "duration": 15,
    "start_time": "2023-08-14T12:48:34.770Z"
   },
   {
    "duration": 9,
    "start_time": "2023-08-14T12:48:34.790Z"
   },
   {
    "duration": 11,
    "start_time": "2023-08-14T12:48:34.801Z"
   },
   {
    "duration": 10,
    "start_time": "2023-08-14T12:48:34.815Z"
   },
   {
    "duration": 143,
    "start_time": "2023-08-14T12:48:34.827Z"
   },
   {
    "duration": 6,
    "start_time": "2023-08-14T12:54:00.141Z"
   },
   {
    "duration": 1386,
    "start_time": "2023-08-14T12:54:00.776Z"
   },
   {
    "duration": 1301,
    "start_time": "2023-08-14T12:55:12.299Z"
   },
   {
    "duration": 1288,
    "start_time": "2023-08-14T12:55:27.408Z"
   },
   {
    "duration": 11,
    "start_time": "2023-08-14T12:55:38.304Z"
   },
   {
    "duration": 1311,
    "start_time": "2023-08-14T12:55:38.988Z"
   },
   {
    "duration": 1306,
    "start_time": "2023-08-14T12:55:40.301Z"
   },
   {
    "duration": 1391,
    "start_time": "2023-08-14T12:55:41.610Z"
   },
   {
    "duration": 6,
    "start_time": "2023-08-14T13:01:05.366Z"
   },
   {
    "duration": 1384,
    "start_time": "2023-08-14T13:01:06.040Z"
   },
   {
    "duration": 1354,
    "start_time": "2023-08-14T13:01:08.682Z"
   },
   {
    "duration": 1299,
    "start_time": "2023-08-14T13:01:10.792Z"
   },
   {
    "duration": 1217,
    "start_time": "2023-08-14T13:02:44.975Z"
   },
   {
    "duration": 230,
    "start_time": "2023-08-14T13:02:46.195Z"
   },
   {
    "duration": 86,
    "start_time": "2023-08-14T13:02:46.427Z"
   },
   {
    "duration": 68,
    "start_time": "2023-08-14T13:02:46.515Z"
   },
   {
    "duration": 35,
    "start_time": "2023-08-14T13:02:46.586Z"
   },
   {
    "duration": 65,
    "start_time": "2023-08-14T13:02:46.622Z"
   },
   {
    "duration": 172,
    "start_time": "2023-08-14T13:02:46.688Z"
   },
   {
    "duration": 73,
    "start_time": "2023-08-14T13:02:46.862Z"
   },
   {
    "duration": 38,
    "start_time": "2023-08-14T13:02:46.938Z"
   },
   {
    "duration": 33,
    "start_time": "2023-08-14T13:02:46.978Z"
   },
   {
    "duration": 73,
    "start_time": "2023-08-14T13:02:47.014Z"
   },
   {
    "duration": 174,
    "start_time": "2023-08-14T13:02:47.089Z"
   },
   {
    "duration": 73,
    "start_time": "2023-08-14T13:02:47.265Z"
   },
   {
    "duration": 36,
    "start_time": "2023-08-14T13:02:47.341Z"
   },
   {
    "duration": 33,
    "start_time": "2023-08-14T13:02:47.379Z"
   },
   {
    "duration": 67,
    "start_time": "2023-08-14T13:02:47.414Z"
   },
   {
    "duration": 17,
    "start_time": "2023-08-14T13:02:47.483Z"
   },
   {
    "duration": 29,
    "start_time": "2023-08-14T13:02:47.502Z"
   },
   {
    "duration": 35,
    "start_time": "2023-08-14T13:02:47.535Z"
   },
   {
    "duration": 51,
    "start_time": "2023-08-14T13:02:47.572Z"
   },
   {
    "duration": 190,
    "start_time": "2023-08-14T13:02:47.627Z"
   },
   {
    "duration": 126,
    "start_time": "2023-08-14T13:02:47.822Z"
   },
   {
    "duration": 63,
    "start_time": "2023-08-14T13:02:47.950Z"
   },
   {
    "duration": 6,
    "start_time": "2023-08-14T13:02:48.015Z"
   },
   {
    "duration": 314,
    "start_time": "2023-08-14T13:02:48.023Z"
   },
   {
    "duration": 230,
    "start_time": "2023-08-14T13:02:48.339Z"
   },
   {
    "duration": 37,
    "start_time": "2023-08-14T13:02:48.571Z"
   },
   {
    "duration": 63,
    "start_time": "2023-08-14T13:02:48.610Z"
   },
   {
    "duration": 100,
    "start_time": "2023-08-14T13:02:48.675Z"
   },
   {
    "duration": 38,
    "start_time": "2023-08-14T13:02:48.777Z"
   },
   {
    "duration": 1473,
    "start_time": "2023-08-14T13:02:48.822Z"
   },
   {
    "duration": 1276,
    "start_time": "2023-08-14T13:02:50.297Z"
   },
   {
    "duration": 1265,
    "start_time": "2023-08-14T13:02:51.575Z"
   },
   {
    "duration": 6,
    "start_time": "2023-08-14T13:04:40.088Z"
   },
   {
    "duration": 1294,
    "start_time": "2023-08-14T13:04:40.644Z"
   },
   {
    "duration": 1301,
    "start_time": "2023-08-14T13:04:41.940Z"
   },
   {
    "duration": 1259,
    "start_time": "2023-08-14T13:04:43.243Z"
   },
   {
    "duration": 94,
    "start_time": "2023-08-15T09:36:27.170Z"
   }
  ],
  "kernelspec": {
   "display_name": "Python 3 (ipykernel)",
   "language": "python",
   "name": "python3"
  },
  "language_info": {
   "codemirror_mode": {
    "name": "ipython",
    "version": 3
   },
   "file_extension": ".py",
   "mimetype": "text/x-python",
   "name": "python",
   "nbconvert_exporter": "python",
   "pygments_lexer": "ipython3",
   "version": "3.9.5"
  },
  "toc": {
   "base_numbering": 1,
   "nav_menu": {},
   "number_sections": true,
   "sideBar": true,
   "skip_h1_title": true,
   "title_cell": "Table of Contents",
   "title_sidebar": "Contents",
   "toc_cell": false,
   "toc_position": {},
   "toc_section_display": true,
   "toc_window_display": false
  }
 },
 "nbformat": 4,
 "nbformat_minor": 2
}
