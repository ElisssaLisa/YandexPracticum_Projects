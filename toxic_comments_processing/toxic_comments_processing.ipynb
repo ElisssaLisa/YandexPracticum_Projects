{
 "cells": [
  {
   "cell_type": "markdown",
   "metadata": {
    "toc": true
   },
   "source": [
    "<h1>Содержание<span class=\"tocSkip\"></span></h1>\n",
    "<div class=\"toc\"><ul class=\"toc-item\"><li><span><a href=\"#Подготовка\" data-toc-modified-id=\"Подготовка-1\"><span class=\"toc-item-num\">1&nbsp;&nbsp;</span>Подготовка</a></span></li><li><span><a href=\"#Обучение\" data-toc-modified-id=\"Обучение-2\"><span class=\"toc-item-num\">2&nbsp;&nbsp;</span>Обучение</a></span><ul class=\"toc-item\"><li><span><a href=\"#Обучим-модели-с-помощью-Pipeline\" data-toc-modified-id=\"Обучим-модели-с-помощью-Pipeline-2.1\"><span class=\"toc-item-num\">2.1&nbsp;&nbsp;</span>Обучим модели с помощью Pipeline</a></span><ul class=\"toc-item\"><li><span><a href=\"#Логистическая-регрессия(LogisticRegression)\" data-toc-modified-id=\"Логистическая-регрессия(LogisticRegression)-2.1.1\"><span class=\"toc-item-num\">2.1.1&nbsp;&nbsp;</span>Логистическая регрессия(LogisticRegression)</a></span></li><li><span><a href=\"#Решающее-дерево(DecisionTreeClassifier)\" data-toc-modified-id=\"Решающее-дерево(DecisionTreeClassifier)-2.1.2\"><span class=\"toc-item-num\">2.1.2&nbsp;&nbsp;</span>Решающее дерево(DecisionTreeClassifier)</a></span></li><li><span><a href=\"#Случайный-лес(RandomForestClassifier)\" data-toc-modified-id=\"Случайный-лес(RandomForestClassifier)-2.1.3\"><span class=\"toc-item-num\">2.1.3&nbsp;&nbsp;</span>Случайный лес(RandomForestClassifier)</a></span></li></ul></li><li><span><a href=\"#Протестируем-лучшую-модель\" data-toc-modified-id=\"Протестируем-лучшую-модель-2.2\"><span class=\"toc-item-num\">2.2&nbsp;&nbsp;</span>Протестируем лучшую модель</a></span></li></ul></li><li><span><a href=\"#Выводы\" data-toc-modified-id=\"Выводы-3\"><span class=\"toc-item-num\">3&nbsp;&nbsp;</span>Выводы</a></span></li><li><span><a href=\"#Общий-вывод\" data-toc-modified-id=\"Общий-вывод-4\"><span class=\"toc-item-num\">4&nbsp;&nbsp;</span>Общий вывод</a></span><ul class=\"toc-item\"><li><ul class=\"toc-item\"><li><span><a href=\"#Этап-1.-Подготовка-данных.\" data-toc-modified-id=\"Этап-1.-Подготовка-данных.-4.0.1\"><span class=\"toc-item-num\">4.0.1&nbsp;&nbsp;</span>Этап 1. Подготовка данных.</a></span></li><li><span><a href=\"#Этап-2.-Обучение-моделей\" data-toc-modified-id=\"Этап-2.-Обучение-моделей-4.0.2\"><span class=\"toc-item-num\">4.0.2&nbsp;&nbsp;</span>Этап 2. Обучение моделей</a></span></li><li><span><a href=\"#Этап-3.-Тестирование\" data-toc-modified-id=\"Этап-3.-Тестирование-4.0.3\"><span class=\"toc-item-num\">4.0.3&nbsp;&nbsp;</span>Этап 3. Тестирование</a></span></li></ul></li></ul></li><li><span><a href=\"#Чек-лист-проверки\" data-toc-modified-id=\"Чек-лист-проверки-5\"><span class=\"toc-item-num\">5&nbsp;&nbsp;</span>Чек-лист проверки</a></span></li></ul></div>"
   ]
  },
  {
   "cell_type": "markdown",
   "metadata": {},
   "source": [
    "# Проект для «Викишоп»"
   ]
  },
  {
   "cell_type": "markdown",
   "metadata": {},
   "source": [
    "Интернет-магазин «Викишоп» запускает новый сервис. Теперь пользователи могут редактировать и дополнять описания товаров, как в вики-сообществах. То есть клиенты предлагают свои правки и комментируют изменения других. Магазину нужен инструмент, который будет искать токсичные комментарии и отправлять их на модерацию. \n",
    "\n",
    "Обучите модель классифицировать комментарии на позитивные и негативные. В вашем распоряжении набор данных с разметкой о токсичности правок.\n",
    "\n",
    "Постройте модель со значением метрики качества *F1* не меньше 0.75. \n",
    "\n",
    "**Инструкция по выполнению проекта**\n",
    "\n",
    "1. Загрузите и подготовьте данные.\n",
    "2. Обучите разные модели. \n",
    "3. Сделайте выводы.\n",
    "\n",
    "Для выполнения проекта применять *BERT* необязательно, но вы можете попробовать.\n",
    "\n",
    "**Описание данных**\n",
    "\n",
    "Данные находятся в файле `toxic_comments.csv`. Столбец *text* в нём содержит текст комментария, а *toxic* — целевой признак."
   ]
  },
  {
   "cell_type": "markdown",
   "metadata": {},
   "source": [
    "###### Цель исследования:\n",
    "Построить модель для определения токсичности комментариев.\n",
    "\n",
    "###### Ход исследования:\n",
    "1. Открыть и изучить предоставленные данные и подготовить их к исследованию.\n",
    "2. Подготовить выборки для обучения моделей. \n",
    "3. Обучить разные модели с учетом подбора гиперпараметров.\n",
    "4. Проанализировать качество моделей.\n",
    "5. Проверить лучшую модель на тестовых данных."
   ]
  },
  {
   "cell_type": "markdown",
   "metadata": {},
   "source": [
    "## Подготовка"
   ]
  },
  {
   "cell_type": "markdown",
   "metadata": {},
   "source": [
    "Импортируем все необходимые библиотеки."
   ]
  },
  {
   "cell_type": "code",
   "execution_count": 1,
   "metadata": {},
   "outputs": [
    {
     "name": "stderr",
     "output_type": "stream",
     "text": [
      "[nltk_data] Downloading package stopwords to /home/jovyan/nltk_data...\n",
      "[nltk_data]   Package stopwords is already up-to-date!\n",
      "[nltk_data] Downloading package averaged_perceptron_tagger to\n",
      "[nltk_data]     /home/jovyan/nltk_data...\n",
      "[nltk_data]   Package averaged_perceptron_tagger is already up-to-\n",
      "[nltk_data]       date!\n"
     ]
    }
   ],
   "source": [
    "import pandas as pd\n",
    "import matplotlib.pyplot as plt\n",
    "import re\n",
    "\n",
    "import nltk \n",
    "from nltk.tokenize import word_tokenize\n",
    "from nltk.corpus import wordnet\n",
    "from nltk.stem import WordNetLemmatizer\n",
    "from nltk.corpus import stopwords as nltk_stopwords\n",
    "nltk.download('stopwords')\n",
    "stop_words = set(nltk_stopwords.words('english'))\n",
    "nltk.download('averaged_perceptron_tagger')\n",
    "\n",
    "from sklearn.feature_extraction.text import TfidfVectorizer\n",
    "from sklearn.metrics import f1_score\n",
    "from sklearn.linear_model import LogisticRegression\n",
    "from sklearn.tree import DecisionTreeClassifier\n",
    "from lightgbm import LGBMClassifier\n",
    "from sklearn.model_selection import train_test_split, GridSearchCV, cross_val_score\n",
    "from sklearn.ensemble import RandomForestClassifier\n",
    "from sklearn.utils import shuffle\n",
    "from sklearn.pipeline import Pipeline"
   ]
  },
  {
   "cell_type": "markdown",
   "metadata": {},
   "source": [
    "ОТкроем и изучим данные."
   ]
  },
  {
   "cell_type": "code",
   "execution_count": 2,
   "metadata": {},
   "outputs": [
    {
     "data": {
      "text/html": [
       "<div>\n",
       "<style scoped>\n",
       "    .dataframe tbody tr th:only-of-type {\n",
       "        vertical-align: middle;\n",
       "    }\n",
       "\n",
       "    .dataframe tbody tr th {\n",
       "        vertical-align: top;\n",
       "    }\n",
       "\n",
       "    .dataframe thead th {\n",
       "        text-align: right;\n",
       "    }\n",
       "</style>\n",
       "<table border=\"1\" class=\"dataframe\">\n",
       "  <thead>\n",
       "    <tr style=\"text-align: right;\">\n",
       "      <th></th>\n",
       "      <th>Unnamed: 0</th>\n",
       "      <th>text</th>\n",
       "      <th>toxic</th>\n",
       "    </tr>\n",
       "  </thead>\n",
       "  <tbody>\n",
       "    <tr>\n",
       "      <th>0</th>\n",
       "      <td>0</td>\n",
       "      <td>Explanation\\nWhy the edits made under my usern...</td>\n",
       "      <td>0</td>\n",
       "    </tr>\n",
       "    <tr>\n",
       "      <th>1</th>\n",
       "      <td>1</td>\n",
       "      <td>D'aww! He matches this background colour I'm s...</td>\n",
       "      <td>0</td>\n",
       "    </tr>\n",
       "    <tr>\n",
       "      <th>2</th>\n",
       "      <td>2</td>\n",
       "      <td>Hey man, I'm really not trying to edit war. It...</td>\n",
       "      <td>0</td>\n",
       "    </tr>\n",
       "    <tr>\n",
       "      <th>3</th>\n",
       "      <td>3</td>\n",
       "      <td>\"\\nMore\\nI can't make any real suggestions on ...</td>\n",
       "      <td>0</td>\n",
       "    </tr>\n",
       "    <tr>\n",
       "      <th>4</th>\n",
       "      <td>4</td>\n",
       "      <td>You, sir, are my hero. Any chance you remember...</td>\n",
       "      <td>0</td>\n",
       "    </tr>\n",
       "  </tbody>\n",
       "</table>\n",
       "</div>"
      ],
      "text/plain": [
       "   Unnamed: 0                                               text  toxic\n",
       "0           0  Explanation\\nWhy the edits made under my usern...      0\n",
       "1           1  D'aww! He matches this background colour I'm s...      0\n",
       "2           2  Hey man, I'm really not trying to edit war. It...      0\n",
       "3           3  \"\\nMore\\nI can't make any real suggestions on ...      0\n",
       "4           4  You, sir, are my hero. Any chance you remember...      0"
      ]
     },
     "metadata": {},
     "output_type": "display_data"
    },
    {
     "data": {
      "text/html": [
       "<div>\n",
       "<style scoped>\n",
       "    .dataframe tbody tr th:only-of-type {\n",
       "        vertical-align: middle;\n",
       "    }\n",
       "\n",
       "    .dataframe tbody tr th {\n",
       "        vertical-align: top;\n",
       "    }\n",
       "\n",
       "    .dataframe thead th {\n",
       "        text-align: right;\n",
       "    }\n",
       "</style>\n",
       "<table border=\"1\" class=\"dataframe\">\n",
       "  <thead>\n",
       "    <tr style=\"text-align: right;\">\n",
       "      <th></th>\n",
       "      <th>Unnamed: 0</th>\n",
       "      <th>toxic</th>\n",
       "    </tr>\n",
       "  </thead>\n",
       "  <tbody>\n",
       "    <tr>\n",
       "      <th>count</th>\n",
       "      <td>159292.000000</td>\n",
       "      <td>159292.000000</td>\n",
       "    </tr>\n",
       "    <tr>\n",
       "      <th>mean</th>\n",
       "      <td>79725.697242</td>\n",
       "      <td>0.101612</td>\n",
       "    </tr>\n",
       "    <tr>\n",
       "      <th>std</th>\n",
       "      <td>46028.837471</td>\n",
       "      <td>0.302139</td>\n",
       "    </tr>\n",
       "    <tr>\n",
       "      <th>min</th>\n",
       "      <td>0.000000</td>\n",
       "      <td>0.000000</td>\n",
       "    </tr>\n",
       "    <tr>\n",
       "      <th>25%</th>\n",
       "      <td>39872.750000</td>\n",
       "      <td>0.000000</td>\n",
       "    </tr>\n",
       "    <tr>\n",
       "      <th>50%</th>\n",
       "      <td>79721.500000</td>\n",
       "      <td>0.000000</td>\n",
       "    </tr>\n",
       "    <tr>\n",
       "      <th>75%</th>\n",
       "      <td>119573.250000</td>\n",
       "      <td>0.000000</td>\n",
       "    </tr>\n",
       "    <tr>\n",
       "      <th>max</th>\n",
       "      <td>159450.000000</td>\n",
       "      <td>1.000000</td>\n",
       "    </tr>\n",
       "  </tbody>\n",
       "</table>\n",
       "</div>"
      ],
      "text/plain": [
       "          Unnamed: 0          toxic\n",
       "count  159292.000000  159292.000000\n",
       "mean    79725.697242       0.101612\n",
       "std     46028.837471       0.302139\n",
       "min         0.000000       0.000000\n",
       "25%     39872.750000       0.000000\n",
       "50%     79721.500000       0.000000\n",
       "75%    119573.250000       0.000000\n",
       "max    159450.000000       1.000000"
      ]
     },
     "metadata": {},
     "output_type": "display_data"
    },
    {
     "name": "stdout",
     "output_type": "stream",
     "text": [
      "<class 'pandas.core.frame.DataFrame'>\n",
      "RangeIndex: 159292 entries, 0 to 159291\n",
      "Data columns (total 3 columns):\n",
      " #   Column      Non-Null Count   Dtype \n",
      "---  ------      --------------   ----- \n",
      " 0   Unnamed: 0  159292 non-null  int64 \n",
      " 1   text        159292 non-null  object\n",
      " 2   toxic       159292 non-null  int64 \n",
      "dtypes: int64(2), object(1)\n",
      "memory usage: 3.6+ MB\n"
     ]
    }
   ],
   "source": [
    "data = pd.read_csv('/datasets/toxic_comments.csv')\n",
    "display(data.head())\n",
    "display(data.describe())\n",
    "data.info()"
   ]
  },
  {
   "cell_type": "markdown",
   "metadata": {},
   "source": [
    "Видим, что данные содержат почти 160 тысяч строк и 3 столбца. Пропуски в данных отсутствуют. Столбец Unnamed: 0 не содержит важной для нас информации, поэтому удалим его."
   ]
  },
  {
   "cell_type": "code",
   "execution_count": 3,
   "metadata": {},
   "outputs": [
    {
     "data": {
      "text/html": [
       "<div>\n",
       "<style scoped>\n",
       "    .dataframe tbody tr th:only-of-type {\n",
       "        vertical-align: middle;\n",
       "    }\n",
       "\n",
       "    .dataframe tbody tr th {\n",
       "        vertical-align: top;\n",
       "    }\n",
       "\n",
       "    .dataframe thead th {\n",
       "        text-align: right;\n",
       "    }\n",
       "</style>\n",
       "<table border=\"1\" class=\"dataframe\">\n",
       "  <thead>\n",
       "    <tr style=\"text-align: right;\">\n",
       "      <th></th>\n",
       "      <th>text</th>\n",
       "      <th>toxic</th>\n",
       "    </tr>\n",
       "  </thead>\n",
       "  <tbody>\n",
       "    <tr>\n",
       "      <th>0</th>\n",
       "      <td>Explanation\\nWhy the edits made under my usern...</td>\n",
       "      <td>0</td>\n",
       "    </tr>\n",
       "    <tr>\n",
       "      <th>1</th>\n",
       "      <td>D'aww! He matches this background colour I'm s...</td>\n",
       "      <td>0</td>\n",
       "    </tr>\n",
       "    <tr>\n",
       "      <th>2</th>\n",
       "      <td>Hey man, I'm really not trying to edit war. It...</td>\n",
       "      <td>0</td>\n",
       "    </tr>\n",
       "    <tr>\n",
       "      <th>3</th>\n",
       "      <td>\"\\nMore\\nI can't make any real suggestions on ...</td>\n",
       "      <td>0</td>\n",
       "    </tr>\n",
       "    <tr>\n",
       "      <th>4</th>\n",
       "      <td>You, sir, are my hero. Any chance you remember...</td>\n",
       "      <td>0</td>\n",
       "    </tr>\n",
       "  </tbody>\n",
       "</table>\n",
       "</div>"
      ],
      "text/plain": [
       "                                                text  toxic\n",
       "0  Explanation\\nWhy the edits made under my usern...      0\n",
       "1  D'aww! He matches this background colour I'm s...      0\n",
       "2  Hey man, I'm really not trying to edit war. It...      0\n",
       "3  \"\\nMore\\nI can't make any real suggestions on ...      0\n",
       "4  You, sir, are my hero. Any chance you remember...      0"
      ]
     },
     "execution_count": 3,
     "metadata": {},
     "output_type": "execute_result"
    }
   ],
   "source": [
    "data = data.drop('Unnamed: 0', axis=1)\n",
    "data.head()"
   ]
  },
  {
   "cell_type": "markdown",
   "metadata": {},
   "source": [
    "Проверим данные на дубликаты."
   ]
  },
  {
   "cell_type": "code",
   "execution_count": 4,
   "metadata": {},
   "outputs": [
    {
     "data": {
      "text/plain": [
       "0"
      ]
     },
     "execution_count": 4,
     "metadata": {},
     "output_type": "execute_result"
    }
   ],
   "source": [
    "data.duplicated().sum()"
   ]
  },
  {
   "cell_type": "markdown",
   "metadata": {},
   "source": [
    "Перед нами задача классификации, поэтому нужно проверить баланс классов."
   ]
  },
  {
   "cell_type": "code",
   "execution_count": 5,
   "metadata": {},
   "outputs": [
    {
     "data": {
      "image/png": "[encoded data removed]",
      "text/plain": [
       "<Figure size 432x288 with 1 Axes>"
      ]
     },
     "metadata": {
      "needs_background": "light"
     },
     "output_type": "display_data"
    }
   ],
   "source": [
    "data['toxic'].value_counts(normalize=True).plot(kind='bar')\n",
    "plt.title('Баланс классов');"
   ]
  },
  {
   "cell_type": "markdown",
   "metadata": {},
   "source": [
    "На графике отчетливо видно, что 0 класс преобладает, соответственно нужно будет поработать с этим дисбалансом."
   ]
  },
  {
   "cell_type": "markdown",
   "metadata": {},
   "source": [
    "Также видно, что комментарии в столбце text не подготовлены, в них присутствуют знаки препинания, разделители строк, данные не приведены к единому регистру. Также необходимо лемматизировать текст и удалить стоп-слова. Напишем функцию, которая очистит и подготовит датасет к дальнейшей работе."
   ]
  },
  {
   "cell_type": "code",
   "execution_count": 6,
   "metadata": {},
   "outputs": [],
   "source": [
    "# напишем функцию по очистке текста\n",
    "def clear_text(text):\n",
    "    text = text.lower()\n",
    "    text = re.sub(r\"[^a-zA-Z']\", ' ', text)   \n",
    "    text = ' '.join(text.split())\n",
    "    return text"
   ]
  },
  {
   "cell_type": "code",
   "execution_count": 7,
   "metadata": {},
   "outputs": [
    {
     "data": {
      "text/html": [
       "<div>\n",
       "<style scoped>\n",
       "    .dataframe tbody tr th:only-of-type {\n",
       "        vertical-align: middle;\n",
       "    }\n",
       "\n",
       "    .dataframe tbody tr th {\n",
       "        vertical-align: top;\n",
       "    }\n",
       "\n",
       "    .dataframe thead th {\n",
       "        text-align: right;\n",
       "    }\n",
       "</style>\n",
       "<table border=\"1\" class=\"dataframe\">\n",
       "  <thead>\n",
       "    <tr style=\"text-align: right;\">\n",
       "      <th></th>\n",
       "      <th>text</th>\n",
       "      <th>toxic</th>\n",
       "    </tr>\n",
       "  </thead>\n",
       "  <tbody>\n",
       "    <tr>\n",
       "      <th>0</th>\n",
       "      <td>explanation why the edits made under my userna...</td>\n",
       "      <td>0</td>\n",
       "    </tr>\n",
       "    <tr>\n",
       "      <th>1</th>\n",
       "      <td>d'aww he matches this background colour i'm se...</td>\n",
       "      <td>0</td>\n",
       "    </tr>\n",
       "    <tr>\n",
       "      <th>2</th>\n",
       "      <td>hey man i'm really not trying to edit war it's...</td>\n",
       "      <td>0</td>\n",
       "    </tr>\n",
       "    <tr>\n",
       "      <th>3</th>\n",
       "      <td>more i can't make any real suggestions on impr...</td>\n",
       "      <td>0</td>\n",
       "    </tr>\n",
       "    <tr>\n",
       "      <th>4</th>\n",
       "      <td>you sir are my hero any chance you remember wh...</td>\n",
       "      <td>0</td>\n",
       "    </tr>\n",
       "  </tbody>\n",
       "</table>\n",
       "</div>"
      ],
      "text/plain": [
       "                                                text  toxic\n",
       "0  explanation why the edits made under my userna...      0\n",
       "1  d'aww he matches this background colour i'm se...      0\n",
       "2  hey man i'm really not trying to edit war it's...      0\n",
       "3  more i can't make any real suggestions on impr...      0\n",
       "4  you sir are my hero any chance you remember wh...      0"
      ]
     },
     "execution_count": 7,
     "metadata": {},
     "output_type": "execute_result"
    }
   ],
   "source": [
    "data['text'] = data['text'].apply(clear_text) \n",
    "data.head()"
   ]
  },
  {
   "cell_type": "code",
   "execution_count": 8,
   "metadata": {},
   "outputs": [],
   "source": [
    "# напишем функцию для POS-тегирования - определения части речи \n",
    "def get_wordnet_pos(word):\n",
    "    tag = nltk.pos_tag([word])[0][1][0].upper()\n",
    "    tag_dict = {\"J\": wordnet.ADJ,               \n",
    "                \"N\": wordnet.NOUN,              \n",
    "                \"V\": wordnet.VERB,              \n",
    "                \"R\": wordnet.ADV                \n",
    "               }  \n",
    "    return tag_dict.get(tag, wordnet.NOUN)\n",
    "\n",
    "# инициализируем лемматайзер \n",
    "lemmatizer = WordNetLemmatizer()\n",
    "\n",
    "# напишем функцию лемматизации\n",
    "def lemm_text(text):\n",
    "    text = [lemmatizer.lemmatize(w, get_wordnet_pos(w)) for w in nltk.word_tokenize(text)]\n",
    "    return text\n"
   ]
  },
  {
   "cell_type": "code",
   "execution_count": 9,
   "metadata": {},
   "outputs": [
    {
     "data": {
      "text/html": [
       "<div>\n",
       "<style scoped>\n",
       "    .dataframe tbody tr th:only-of-type {\n",
       "        vertical-align: middle;\n",
       "    }\n",
       "\n",
       "    .dataframe tbody tr th {\n",
       "        vertical-align: top;\n",
       "    }\n",
       "\n",
       "    .dataframe thead th {\n",
       "        text-align: right;\n",
       "    }\n",
       "</style>\n",
       "<table border=\"1\" class=\"dataframe\">\n",
       "  <thead>\n",
       "    <tr style=\"text-align: right;\">\n",
       "      <th></th>\n",
       "      <th>text</th>\n",
       "      <th>toxic</th>\n",
       "    </tr>\n",
       "  </thead>\n",
       "  <tbody>\n",
       "    <tr>\n",
       "      <th>0</th>\n",
       "      <td>[explanation, why, the, edits, make, under, my...</td>\n",
       "      <td>0</td>\n",
       "    </tr>\n",
       "    <tr>\n",
       "      <th>1</th>\n",
       "      <td>[d'aww, he, match, this, background, colour, i...</td>\n",
       "      <td>0</td>\n",
       "    </tr>\n",
       "    <tr>\n",
       "      <th>2</th>\n",
       "      <td>[hey, man, i, 'm, really, not, try, to, edit, ...</td>\n",
       "      <td>0</td>\n",
       "    </tr>\n",
       "    <tr>\n",
       "      <th>3</th>\n",
       "      <td>[more, i, ca, n't, make, any, real, suggestion...</td>\n",
       "      <td>0</td>\n",
       "    </tr>\n",
       "    <tr>\n",
       "      <th>4</th>\n",
       "      <td>[you, sir, be, my, hero, any, chance, you, rem...</td>\n",
       "      <td>0</td>\n",
       "    </tr>\n",
       "  </tbody>\n",
       "</table>\n",
       "</div>"
      ],
      "text/plain": [
       "                                                text  toxic\n",
       "0  [explanation, why, the, edits, make, under, my...      0\n",
       "1  [d'aww, he, match, this, background, colour, i...      0\n",
       "2  [hey, man, i, 'm, really, not, try, to, edit, ...      0\n",
       "3  [more, i, ca, n't, make, any, real, suggestion...      0\n",
       "4  [you, sir, be, my, hero, any, chance, you, rem...      0"
      ]
     },
     "execution_count": 9,
     "metadata": {},
     "output_type": "execute_result"
    }
   ],
   "source": [
    "data['text'] = data['text'].apply(lemm_text)\n",
    "data.head()"
   ]
  },
  {
   "cell_type": "code",
   "execution_count": 10,
   "metadata": {},
   "outputs": [
    {
     "data": {
      "text/html": [
       "<div>\n",
       "<style scoped>\n",
       "    .dataframe tbody tr th:only-of-type {\n",
       "        vertical-align: middle;\n",
       "    }\n",
       "\n",
       "    .dataframe tbody tr th {\n",
       "        vertical-align: top;\n",
       "    }\n",
       "\n",
       "    .dataframe thead th {\n",
       "        text-align: right;\n",
       "    }\n",
       "</style>\n",
       "<table border=\"1\" class=\"dataframe\">\n",
       "  <thead>\n",
       "    <tr style=\"text-align: right;\">\n",
       "      <th></th>\n",
       "      <th>text</th>\n",
       "      <th>toxic</th>\n",
       "    </tr>\n",
       "  </thead>\n",
       "  <tbody>\n",
       "    <tr>\n",
       "      <th>0</th>\n",
       "      <td>explanation why the edits make under my userna...</td>\n",
       "      <td>0</td>\n",
       "    </tr>\n",
       "    <tr>\n",
       "      <th>1</th>\n",
       "      <td>d'aww he match this background colour i 'm see...</td>\n",
       "      <td>0</td>\n",
       "    </tr>\n",
       "    <tr>\n",
       "      <th>2</th>\n",
       "      <td>hey man i 'm really not try to edit war it 's ...</td>\n",
       "      <td>0</td>\n",
       "    </tr>\n",
       "    <tr>\n",
       "      <th>3</th>\n",
       "      <td>more i ca n't make any real suggestion on impr...</td>\n",
       "      <td>0</td>\n",
       "    </tr>\n",
       "    <tr>\n",
       "      <th>4</th>\n",
       "      <td>you sir be my hero any chance you remember wha...</td>\n",
       "      <td>0</td>\n",
       "    </tr>\n",
       "  </tbody>\n",
       "</table>\n",
       "</div>"
      ],
      "text/plain": [
       "                                                text  toxic\n",
       "0  explanation why the edits make under my userna...      0\n",
       "1  d'aww he match this background colour i 'm see...      0\n",
       "2  hey man i 'm really not try to edit war it 's ...      0\n",
       "3  more i ca n't make any real suggestion on impr...      0\n",
       "4  you sir be my hero any chance you remember wha...      0"
      ]
     },
     "execution_count": 10,
     "metadata": {},
     "output_type": "execute_result"
    }
   ],
   "source": [
    "data['text'] = data.text.apply(' '.join)\n",
    "data.head()"
   ]
  },
  {
   "cell_type": "code",
   "execution_count": 11,
   "metadata": {},
   "outputs": [
    {
     "data": {
      "text/plain": [
       "1261"
      ]
     },
     "execution_count": 11,
     "metadata": {},
     "output_type": "execute_result"
    }
   ],
   "source": [
    "# снова проверим данные на дубликаты\n",
    "data.duplicated().sum()"
   ]
  },
  {
   "cell_type": "code",
   "execution_count": 12,
   "metadata": {},
   "outputs": [],
   "source": [
    "# удалим появившиеся дубликаты\n",
    "data = data.drop_duplicates()"
   ]
  },
  {
   "cell_type": "code",
   "execution_count": 13,
   "metadata": {},
   "outputs": [
    {
     "data": {
      "text/plain": [
       "0"
      ]
     },
     "execution_count": 13,
     "metadata": {},
     "output_type": "execute_result"
    }
   ],
   "source": [
    "data.duplicated().sum()"
   ]
  },
  {
   "cell_type": "markdown",
   "metadata": {},
   "source": [
    "Вывод: данные загружены и изучены - в ходе проверки не обнаружились пропуски или дубликаты. Но был выявлен дисбаланс классов, с которым предстоит поработать. Текстовые комментарии предобработаны - данные очистили от знаков препинания, разделителей, привели к нижнему регистру, лемматизировали, удалили стоп-слова. Данные готовы к дальнейшей работе с моделями."
   ]
  },
  {
   "cell_type": "markdown",
   "metadata": {},
   "source": [
    "## Обучение"
   ]
  },
  {
   "cell_type": "markdown",
   "metadata": {},
   "source": [
    "1. Подготовим признаки и таргет. Разделим данные на обучающую и тестовую выборки в соотношении 9:1"
   ]
  },
  {
   "cell_type": "code",
   "execution_count": 14,
   "metadata": {},
   "outputs": [
    {
     "data": {
      "text/plain": [
       "(158031, 1)"
      ]
     },
     "metadata": {},
     "output_type": "display_data"
    },
    {
     "data": {
      "text/plain": [
       "(158031,)"
      ]
     },
     "metadata": {},
     "output_type": "display_data"
    }
   ],
   "source": [
    "features = data.drop(['toxic'], axis=1) \n",
    "target = data['toxic']\n",
    "\n",
    "display(features.shape)\n",
    "display(target.shape)"
   ]
  },
  {
   "cell_type": "code",
   "execution_count": 15,
   "metadata": {},
   "outputs": [
    {
     "data": {
      "text/plain": [
       "(142227, 1)"
      ]
     },
     "metadata": {},
     "output_type": "display_data"
    },
    {
     "data": {
      "text/plain": [
       "(142227,)"
      ]
     },
     "metadata": {},
     "output_type": "display_data"
    },
    {
     "data": {
      "text/plain": [
       "(15804, 1)"
      ]
     },
     "metadata": {},
     "output_type": "display_data"
    },
    {
     "data": {
      "text/plain": [
       "(15804,)"
      ]
     },
     "metadata": {},
     "output_type": "display_data"
    }
   ],
   "source": [
    "features_train, features_test, target_train, target_test = train_test_split(features, \n",
    "                                                                              target, \n",
    "                                                                              test_size=0.1, \n",
    "                                                                              random_state=12345)\n",
    "\n",
    "display(features_train.shape)\n",
    "display(target_train.shape)\n",
    "display(features_test.shape)\n",
    "display(target_test.shape)"
   ]
  },
  {
   "cell_type": "markdown",
   "metadata": {},
   "source": [
    "### Обучим модели с помощью Pipeline "
   ]
  },
  {
   "cell_type": "markdown",
   "metadata": {},
   "source": [
    "#### Логистическая регрессия(LogisticRegression)"
   ]
  },
  {
   "cell_type": "code",
   "execution_count": 16,
   "metadata": {},
   "outputs": [
    {
     "name": "stderr",
     "output_type": "stream",
     "text": [
      "/opt/conda/lib/python3.9/site-packages/sklearn/linear_model/_logistic.py:763: ConvergenceWarning: lbfgs failed to converge (status=1):\n",
      "STOP: TOTAL NO. of ITERATIONS REACHED LIMIT.\n",
      "\n",
      "Increase the number of iterations (max_iter) or scale the data as shown in:\n",
      "    https://scikit-learn.org/stable/modules/preprocessing.html\n",
      "Please also refer to the documentation for alternative solver options:\n",
      "    https://scikit-learn.org/stable/modules/linear_model.html#logistic-regression\n",
      "  n_iter_i = _check_optimize_result(\n",
      "/opt/conda/lib/python3.9/site-packages/sklearn/linear_model/_logistic.py:763: ConvergenceWarning: lbfgs failed to converge (status=1):\n",
      "STOP: TOTAL NO. of ITERATIONS REACHED LIMIT.\n",
      "\n",
      "Increase the number of iterations (max_iter) or scale the data as shown in:\n",
      "    https://scikit-learn.org/stable/modules/preprocessing.html\n",
      "Please also refer to the documentation for alternative solver options:\n",
      "    https://scikit-learn.org/stable/modules/linear_model.html#logistic-regression\n",
      "  n_iter_i = _check_optimize_result(\n",
      "/opt/conda/lib/python3.9/site-packages/sklearn/linear_model/_logistic.py:763: ConvergenceWarning: lbfgs failed to converge (status=1):\n",
      "STOP: TOTAL NO. of ITERATIONS REACHED LIMIT.\n",
      "\n",
      "Increase the number of iterations (max_iter) or scale the data as shown in:\n",
      "    https://scikit-learn.org/stable/modules/preprocessing.html\n",
      "Please also refer to the documentation for alternative solver options:\n",
      "    https://scikit-learn.org/stable/modules/linear_model.html#logistic-regression\n",
      "  n_iter_i = _check_optimize_result(\n",
      "/opt/conda/lib/python3.9/site-packages/sklearn/linear_model/_logistic.py:763: ConvergenceWarning: lbfgs failed to converge (status=1):\n",
      "STOP: TOTAL NO. of ITERATIONS REACHED LIMIT.\n",
      "\n",
      "Increase the number of iterations (max_iter) or scale the data as shown in:\n",
      "    https://scikit-learn.org/stable/modules/preprocessing.html\n",
      "Please also refer to the documentation for alternative solver options:\n",
      "    https://scikit-learn.org/stable/modules/linear_model.html#logistic-regression\n",
      "  n_iter_i = _check_optimize_result(\n",
      "/opt/conda/lib/python3.9/site-packages/sklearn/linear_model/_logistic.py:763: ConvergenceWarning: lbfgs failed to converge (status=1):\n",
      "STOP: TOTAL NO. of ITERATIONS REACHED LIMIT.\n",
      "\n",
      "Increase the number of iterations (max_iter) or scale the data as shown in:\n",
      "    https://scikit-learn.org/stable/modules/preprocessing.html\n",
      "Please also refer to the documentation for alternative solver options:\n",
      "    https://scikit-learn.org/stable/modules/linear_model.html#logistic-regression\n",
      "  n_iter_i = _check_optimize_result(\n",
      "/opt/conda/lib/python3.9/site-packages/sklearn/linear_model/_logistic.py:763: ConvergenceWarning: lbfgs failed to converge (status=1):\n",
      "STOP: TOTAL NO. of ITERATIONS REACHED LIMIT.\n",
      "\n",
      "Increase the number of iterations (max_iter) or scale the data as shown in:\n",
      "    https://scikit-learn.org/stable/modules/preprocessing.html\n",
      "Please also refer to the documentation for alternative solver options:\n",
      "    https://scikit-learn.org/stable/modules/linear_model.html#logistic-regression\n",
      "  n_iter_i = _check_optimize_result(\n",
      "/opt/conda/lib/python3.9/site-packages/sklearn/linear_model/_logistic.py:763: ConvergenceWarning: lbfgs failed to converge (status=1):\n",
      "STOP: TOTAL NO. of ITERATIONS REACHED LIMIT.\n",
      "\n",
      "Increase the number of iterations (max_iter) or scale the data as shown in:\n",
      "    https://scikit-learn.org/stable/modules/preprocessing.html\n",
      "Please also refer to the documentation for alternative solver options:\n",
      "    https://scikit-learn.org/stable/modules/linear_model.html#logistic-regression\n",
      "  n_iter_i = _check_optimize_result(\n",
      "/opt/conda/lib/python3.9/site-packages/sklearn/linear_model/_logistic.py:763: ConvergenceWarning: lbfgs failed to converge (status=1):\n",
      "STOP: TOTAL NO. of ITERATIONS REACHED LIMIT.\n",
      "\n",
      "Increase the number of iterations (max_iter) or scale the data as shown in:\n",
      "    https://scikit-learn.org/stable/modules/preprocessing.html\n",
      "Please also refer to the documentation for alternative solver options:\n",
      "    https://scikit-learn.org/stable/modules/linear_model.html#logistic-regression\n",
      "  n_iter_i = _check_optimize_result(\n",
      "/opt/conda/lib/python3.9/site-packages/sklearn/linear_model/_logistic.py:763: ConvergenceWarning: lbfgs failed to converge (status=1):\n",
      "STOP: TOTAL NO. of ITERATIONS REACHED LIMIT.\n",
      "\n",
      "Increase the number of iterations (max_iter) or scale the data as shown in:\n",
      "    https://scikit-learn.org/stable/modules/preprocessing.html\n",
      "Please also refer to the documentation for alternative solver options:\n",
      "    https://scikit-learn.org/stable/modules/linear_model.html#logistic-regression\n",
      "  n_iter_i = _check_optimize_result(\n",
      "/opt/conda/lib/python3.9/site-packages/sklearn/linear_model/_logistic.py:763: ConvergenceWarning: lbfgs failed to converge (status=1):\n",
      "STOP: TOTAL NO. of ITERATIONS REACHED LIMIT.\n",
      "\n",
      "Increase the number of iterations (max_iter) or scale the data as shown in:\n",
      "    https://scikit-learn.org/stable/modules/preprocessing.html\n",
      "Please also refer to the documentation for alternative solver options:\n",
      "    https://scikit-learn.org/stable/modules/linear_model.html#logistic-regression\n",
      "  n_iter_i = _check_optimize_result(\n",
      "/opt/conda/lib/python3.9/site-packages/sklearn/linear_model/_logistic.py:763: ConvergenceWarning: lbfgs failed to converge (status=1):\n",
      "STOP: TOTAL NO. of ITERATIONS REACHED LIMIT.\n",
      "\n",
      "Increase the number of iterations (max_iter) or scale the data as shown in:\n",
      "    https://scikit-learn.org/stable/modules/preprocessing.html\n",
      "Please also refer to the documentation for alternative solver options:\n",
      "    https://scikit-learn.org/stable/modules/linear_model.html#logistic-regression\n",
      "  n_iter_i = _check_optimize_result(\n",
      "/opt/conda/lib/python3.9/site-packages/sklearn/linear_model/_logistic.py:763: ConvergenceWarning: lbfgs failed to converge (status=1):\n",
      "STOP: TOTAL NO. of ITERATIONS REACHED LIMIT.\n",
      "\n",
      "Increase the number of iterations (max_iter) or scale the data as shown in:\n",
      "    https://scikit-learn.org/stable/modules/preprocessing.html\n",
      "Please also refer to the documentation for alternative solver options:\n",
      "    https://scikit-learn.org/stable/modules/linear_model.html#logistic-regression\n",
      "  n_iter_i = _check_optimize_result(\n"
     ]
    },
    {
     "name": "stdout",
     "output_type": "stream",
     "text": [
      "Наилучшие параметры: {'lr__C': 10, 'vect__max_features': 30000}\n",
      "f1: 0.7692706970441358\n"
     ]
    },
    {
     "name": "stderr",
     "output_type": "stream",
     "text": [
      "/opt/conda/lib/python3.9/site-packages/sklearn/linear_model/_logistic.py:763: ConvergenceWarning: lbfgs failed to converge (status=1):\n",
      "STOP: TOTAL NO. of ITERATIONS REACHED LIMIT.\n",
      "\n",
      "Increase the number of iterations (max_iter) or scale the data as shown in:\n",
      "    https://scikit-learn.org/stable/modules/preprocessing.html\n",
      "Please also refer to the documentation for alternative solver options:\n",
      "    https://scikit-learn.org/stable/modules/linear_model.html#logistic-regression\n",
      "  n_iter_i = _check_optimize_result(\n"
     ]
    }
   ],
   "source": [
    "pipe_lr = Pipeline([('vect', TfidfVectorizer(stop_words=stop_words)),\n",
    "                   ('lr', LogisticRegression(random_state=12345))])\n",
    "\n",
    "param_grid = {\n",
    "\"vect__max_features\": (30000, 50000),\n",
    "\"lr__C\": range (5,15,5)\n",
    "}\n",
    "\n",
    "grid = GridSearchCV(pipe_lr, param_grid, cv=3, scoring = 'f1')\n",
    "\n",
    "grid.fit(features_train['text'], target_train)\n",
    "\n",
    "\n",
    "print(\"Наилучшие параметры:\", grid.best_params_)\n",
    "print(\"f1:\", grid.best_score_ )"
   ]
  },
  {
   "cell_type": "markdown",
   "metadata": {},
   "source": [
    "#### Решающее дерево(DecisionTreeClassifier)"
   ]
  },
  {
   "cell_type": "code",
   "execution_count": 17,
   "metadata": {},
   "outputs": [
    {
     "name": "stdout",
     "output_type": "stream",
     "text": [
      "Наилучшие параметры: {'dtc__max_depth': 19}\n",
      "f1: 0.6515808339095549\n"
     ]
    }
   ],
   "source": [
    "pipe_dtc = Pipeline([('vect', TfidfVectorizer(stop_words=stop_words, max_features=30000)),\n",
    "                   ('dtc', DecisionTreeClassifier(random_state=12345))])\n",
    "\n",
    "param_grid_dtc = {\n",
    "\"dtc__max_depth\": range (5,20)\n",
    "}\n",
    "\n",
    "grid_dtc = GridSearchCV(pipe_dtc, param_grid_dtc, cv=3, scoring = 'f1')\n",
    "\n",
    "grid_dtc.fit(features_train['text'], target_train)\n",
    "\n",
    "\n",
    "print(\"Наилучшие параметры:\", grid_dtc.best_params_)\n",
    "print(\"f1:\", grid_dtc.best_score_ )\n"
   ]
  },
  {
   "cell_type": "markdown",
   "metadata": {},
   "source": [
    "#### Случайный лес(RandomForestClassifier)"
   ]
  },
  {
   "cell_type": "code",
   "execution_count": 18,
   "metadata": {},
   "outputs": [
    {
     "name": "stdout",
     "output_type": "stream",
     "text": [
      "Наилучшие параметры: {'rfc__n_estimators': 90}\n",
      "f1: 0.7313353216840989\n"
     ]
    }
   ],
   "source": [
    "pipe_rfc = Pipeline([('vect', TfidfVectorizer(stop_words=stop_words, max_features=30000)),\n",
    "                   ('rfc', RandomForestClassifier(random_state=12345))])\n",
    "\n",
    "param_grid_rfc = {\n",
    "\"rfc__n_estimators\": range (50,100,10)\n",
    "}\n",
    "\n",
    "grid_rfc = GridSearchCV(pipe_rfc, param_grid_rfc, cv=3, scoring = 'f1')\n",
    "\n",
    "grid_rfc.fit(features_train['text'], target_train)\n",
    "\n",
    "\n",
    "print(\"Наилучшие параметры:\", grid_rfc.best_params_)\n",
    "print(\"f1:\", grid_rfc.best_score_ )\n"
   ]
  },
  {
   "cell_type": "markdown",
   "metadata": {},
   "source": [
    "### Протестируем лучшую модель"
   ]
  },
  {
   "cell_type": "markdown",
   "metadata": {},
   "source": [
    "Наиболее высокий результат показала модель логистической регресии. Проверим ее на тестовой выборке."
   ]
  },
  {
   "cell_type": "code",
   "execution_count": 19,
   "metadata": {},
   "outputs": [
    {
     "name": "stderr",
     "output_type": "stream",
     "text": [
      "/opt/conda/lib/python3.9/site-packages/sklearn/linear_model/_logistic.py:763: ConvergenceWarning: lbfgs failed to converge (status=1):\n",
      "STOP: TOTAL NO. of ITERATIONS REACHED LIMIT.\n",
      "\n",
      "Increase the number of iterations (max_iter) or scale the data as shown in:\n",
      "    https://scikit-learn.org/stable/modules/preprocessing.html\n",
      "Please also refer to the documentation for alternative solver options:\n",
      "    https://scikit-learn.org/stable/modules/linear_model.html#logistic-regression\n",
      "  n_iter_i = _check_optimize_result(\n"
     ]
    },
    {
     "name": "stdout",
     "output_type": "stream",
     "text": [
      "F1 на тестовой выборке 0.775320970042796\n"
     ]
    }
   ],
   "source": [
    "best_model = Pipeline([('vect', TfidfVectorizer(stop_words=stop_words, \n",
    "                                                max_features=grid.best_params_[\"vect__max_features\"])),\n",
    "                   ('lr', LogisticRegression(random_state=12345, C=grid.best_params_[\"lr__C\"]))])\n",
    "\n",
    "best_model.fit(features_train['text'], target_train)\n",
    "predictions_test = best_model.predict(features_test['text'])\n",
    "\n",
    "print('F1 на тестовой выборке', f1_score(target_test, predictions_test))\n"
   ]
  },

  {
   "cell_type": "markdown",
   "metadata": {},
   "source": [
    "## Выводы"
   ]
  },
  {
   "cell_type": "markdown",
   "metadata": {},
   "source": [
    "В результате исследования наилучшей моделью оказалась логистическая регрессия, которая показала качество на тесте F1 = 0.77"
   ]
  },
  {
   "cell_type": "markdown",
   "metadata": {},
   "source": [
    "## Общий вывод"
   ]
  },
  {
   "cell_type": "markdown",
   "metadata": {},
   "source": [
    "#### Этап 1. Подготовка данных.\n",
    "В ходе этого этапа был открыт файл и изучены данные. Была проведена проверка на пропуски и дубликаты. В ходе подготовки данных был обнаружен дисбаланс классов. Также тексты комментариев были предобработаны - очищены, лемматизированы, удалены стоп-слова.\n",
    "\n",
    "#### Этап 2. Обучение моделей\n",
    "Для обучения моделей был использован pipeline из векторайзера и модели и подбор параметров с помощью GridSearchCV.  \n",
    "\n",
    "Были обучены три модели -  Логистическая регрессия, Дерево решений и Модель случайного леса - и были найдены наиболее подходящие гиперпараметры, благодаря которым модели выдавали наилучшее качество. Также качество моделей проверили на тестовой выборке.\n",
    "\n",
    "#### Этап 3. Тестирование\n",
    "Наилучший результат показала модель Логистической регресии.\n",
    "Модель была протестирована, и показала значение F1 0.77, что удоблетворяет условиям заказчика."
   ]
  },
  {
   "cell_type": "markdown",
   "metadata": {},
   "source": [
    "## Чек-лист проверки"
   ]
  },
  {
   "cell_type": "markdown",
   "metadata": {},
   "source": [
    "- [x]  Jupyter Notebook открыт\n",
    "- [ ]  Весь код выполняется без ошибок\n",
    "- [ ]  Ячейки с кодом расположены в порядке исполнения\n",
    "- [ ]  Данные загружены и подготовлены\n",
    "- [ ]  Модели обучены\n",
    "- [ ]  Значение метрики *F1* не меньше 0.75\n",
    "- [ ]  Выводы написаны"
   ]
  },
  {
   "cell_type": "markdown",
   "metadata": {},
   "source": []
  },
  {
   "cell_type": "markdown",
   "metadata": {},
   "source": []
  }
 ],
 "metadata": {
  "ExecuteTimeLog": [
   {
    "duration": 431,
    "start_time": "2023-10-16T12:48:42.845Z"
   },
   {
    "duration": 2788,
    "start_time": "2023-10-16T12:50:14.773Z"
   },
   {
    "duration": 1217,
    "start_time": "2023-10-16T12:52:34.374Z"
   },
   {
    "duration": 1034,
    "start_time": "2023-10-16T12:52:50.924Z"
   },
   {
    "duration": 1010,
    "start_time": "2023-10-16T12:53:40.282Z"
   },
   {
    "duration": 982,
    "start_time": "2023-10-16T12:54:06.507Z"
   },
   {
    "duration": 27,
    "start_time": "2023-10-16T12:57:39.506Z"
   },
   {
    "duration": 26,
    "start_time": "2023-10-16T12:57:43.369Z"
   },
   {
    "duration": 19,
    "start_time": "2023-10-16T12:57:49.769Z"
   },
   {
    "duration": 226,
    "start_time": "2023-10-16T12:59:23.737Z"
   },
   {
    "duration": 9,
    "start_time": "2023-10-16T13:01:28.389Z"
   },
   {
    "duration": 458,
    "start_time": "2023-10-16T13:02:52.526Z"
   },
   {
    "duration": 124,
    "start_time": "2023-10-16T13:04:29.317Z"
   },
   {
    "duration": 1312,
    "start_time": "2023-10-16T13:15:24.978Z"
   },
   {
    "duration": 5,
    "start_time": "2023-10-16T13:26:00.239Z"
   },
   {
    "duration": 2564,
    "start_time": "2023-10-16T13:27:00.296Z"
   },
   {
    "duration": 80,
    "start_time": "2023-10-16T13:31:07.126Z"
   },
   {
    "duration": 14,
    "start_time": "2023-10-16T13:31:19.292Z"
   },
   {
    "duration": 7,
    "start_time": "2023-10-16T13:31:49.610Z"
   },
   {
    "duration": 4,
    "start_time": "2023-10-16T13:36:32.814Z"
   },
   {
    "duration": 1838,
    "start_time": "2023-10-16T13:37:37.815Z"
   },
   {
    "duration": 1119,
    "start_time": "2023-10-16T13:37:39.655Z"
   },
   {
    "duration": 26,
    "start_time": "2023-10-16T13:37:40.776Z"
   },
   {
    "duration": 263,
    "start_time": "2023-10-16T13:37:40.804Z"
   },
   {
    "duration": 128,
    "start_time": "2023-10-16T13:37:41.069Z"
   },
   {
    "duration": 4,
    "start_time": "2023-10-16T13:37:41.198Z"
   },
   {
    "duration": 2430,
    "start_time": "2023-10-16T13:37:41.204Z"
   },
   {
    "duration": 3,
    "start_time": "2023-10-16T13:37:43.636Z"
   },
   {
    "duration": 1826,
    "start_time": "2023-10-16T13:43:36.458Z"
   },
   {
    "duration": 1105,
    "start_time": "2023-10-16T13:43:38.286Z"
   },
   {
    "duration": 19,
    "start_time": "2023-10-16T13:43:39.393Z"
   },
   {
    "duration": 273,
    "start_time": "2023-10-16T13:43:39.414Z"
   },
   {
    "duration": 127,
    "start_time": "2023-10-16T13:43:39.689Z"
   },
   {
    "duration": 4,
    "start_time": "2023-10-16T13:43:39.817Z"
   },
   {
    "duration": 2554,
    "start_time": "2023-10-16T13:43:39.823Z"
   },
   {
    "duration": 3,
    "start_time": "2023-10-16T13:43:42.379Z"
   },
   {
    "duration": 1862,
    "start_time": "2023-10-16T13:47:34.842Z"
   },
   {
    "duration": 1101,
    "start_time": "2023-10-16T13:47:36.707Z"
   },
   {
    "duration": 18,
    "start_time": "2023-10-16T13:47:37.812Z"
   },
   {
    "duration": 295,
    "start_time": "2023-10-16T13:47:37.848Z"
   },
   {
    "duration": 128,
    "start_time": "2023-10-16T13:47:38.147Z"
   },
   {
    "duration": 4,
    "start_time": "2023-10-16T13:47:38.277Z"
   },
   {
    "duration": 2499,
    "start_time": "2023-10-16T13:47:38.283Z"
   },
   {
    "duration": 3,
    "start_time": "2023-10-16T13:47:40.784Z"
   },
   {
    "duration": 2463,
    "start_time": "2023-10-16T13:47:40.789Z"
   },
   {
    "duration": 1864,
    "start_time": "2023-10-16T13:53:25.818Z"
   },
   {
    "duration": 1129,
    "start_time": "2023-10-16T13:53:27.684Z"
   },
   {
    "duration": 19,
    "start_time": "2023-10-16T13:53:28.815Z"
   },
   {
    "duration": 283,
    "start_time": "2023-10-16T13:53:28.837Z"
   },
   {
    "duration": 156,
    "start_time": "2023-10-16T13:53:29.122Z"
   },
   {
    "duration": 3,
    "start_time": "2023-10-16T13:53:29.280Z"
   },
   {
    "duration": 2747,
    "start_time": "2023-10-16T13:53:29.286Z"
   },
   {
    "duration": 4,
    "start_time": "2023-10-16T13:53:32.035Z"
   },
   {
    "duration": 2667,
    "start_time": "2023-10-16T13:53:32.047Z"
   },
   {
    "duration": 2285,
    "start_time": "2023-10-16T13:54:13.665Z"
   },
   {
    "duration": 1538,
    "start_time": "2023-10-16T14:01:21.526Z"
   },
   {
    "duration": 6,
    "start_time": "2023-10-16T14:03:43.652Z"
   },
   {
    "duration": 3343,
    "start_time": "2023-10-16T14:06:20.801Z"
   },
   {
    "duration": 2717,
    "start_time": "2023-10-16T14:06:24.147Z"
   },
   {
    "duration": 19,
    "start_time": "2023-10-16T14:06:26.866Z"
   },
   {
    "duration": 255,
    "start_time": "2023-10-16T14:06:26.887Z"
   },
   {
    "duration": 124,
    "start_time": "2023-10-16T14:06:27.146Z"
   },
   {
    "duration": 4,
    "start_time": "2023-10-16T14:06:27.272Z"
   },
   {
    "duration": 2439,
    "start_time": "2023-10-16T14:06:27.278Z"
   },
   {
    "duration": 42960,
    "start_time": "2023-10-16T14:06:29.719Z"
   },
   {
    "duration": 8,
    "start_time": "2023-10-16T14:07:12.681Z"
   },
   {
    "duration": 4,
    "start_time": "2023-10-16T14:10:55.429Z"
   },
   {
    "duration": 4,
    "start_time": "2023-10-16T14:11:05.924Z"
   },
   {
    "duration": 727,
    "start_time": "2023-10-16T14:11:50.377Z"
   },
   {
    "duration": 3,
    "start_time": "2023-10-16T14:12:25.896Z"
   },
   {
    "duration": 1906,
    "start_time": "2023-10-16T14:13:03.240Z"
   },
   {
    "duration": 1154,
    "start_time": "2023-10-16T14:13:05.149Z"
   },
   {
    "duration": 19,
    "start_time": "2023-10-16T14:13:06.305Z"
   },
   {
    "duration": 270,
    "start_time": "2023-10-16T14:13:06.326Z"
   },
   {
    "duration": 131,
    "start_time": "2023-10-16T14:13:06.598Z"
   },
   {
    "duration": 4,
    "start_time": "2023-10-16T14:13:06.731Z"
   },
   {
    "duration": 2535,
    "start_time": "2023-10-16T14:13:06.736Z"
   },
   {
    "duration": 4,
    "start_time": "2023-10-16T14:13:09.272Z"
   },
   {
    "duration": 93117,
    "start_time": "2023-10-16T14:13:09.277Z"
   },
   {
    "duration": 5,
    "start_time": "2023-10-16T14:17:54.907Z"
   },
   {
    "duration": 1749,
    "start_time": "2023-10-16T14:17:55.874Z"
   },
   {
    "duration": 3,
    "start_time": "2023-10-16T14:19:43.586Z"
   },
   {
    "duration": 1795,
    "start_time": "2023-10-16T14:19:43.778Z"
   },
   {
    "duration": 642,
    "start_time": "2023-10-16T14:20:01.162Z"
   },
   {
    "duration": 10,
    "start_time": "2023-10-16T14:20:25.236Z"
   },
   {
    "duration": 3,
    "start_time": "2023-10-16T14:20:32.842Z"
   },
   {
    "duration": 1795,
    "start_time": "2023-10-16T14:21:11.953Z"
   },
   {
    "duration": 1099,
    "start_time": "2023-10-16T14:21:13.750Z"
   },
   {
    "duration": 18,
    "start_time": "2023-10-16T14:21:14.851Z"
   },
   {
    "duration": 257,
    "start_time": "2023-10-16T14:21:14.871Z"
   },
   {
    "duration": 129,
    "start_time": "2023-10-16T14:21:15.130Z"
   },
   {
    "duration": 4,
    "start_time": "2023-10-16T14:21:15.261Z"
   },
   {
    "duration": 2545,
    "start_time": "2023-10-16T14:21:15.266Z"
   },
   {
    "duration": 4,
    "start_time": "2023-10-16T14:21:17.812Z"
   },
   {
    "duration": 1919,
    "start_time": "2023-10-16T14:27:55.949Z"
   },
   {
    "duration": 1085,
    "start_time": "2023-10-16T14:27:57.870Z"
   },
   {
    "duration": 19,
    "start_time": "2023-10-16T14:27:58.957Z"
   },
   {
    "duration": 274,
    "start_time": "2023-10-16T14:27:58.977Z"
   },
   {
    "duration": 124,
    "start_time": "2023-10-16T14:27:59.253Z"
   },
   {
    "duration": 3,
    "start_time": "2023-10-16T14:27:59.379Z"
   },
   {
    "duration": 2512,
    "start_time": "2023-10-16T14:27:59.384Z"
   },
   {
    "duration": 3,
    "start_time": "2023-10-16T14:28:01.898Z"
   },
   {
    "duration": 2567,
    "start_time": "2023-10-16T14:28:01.903Z"
   },
   {
    "duration": 2039,
    "start_time": "2023-10-16T14:30:53.734Z"
   },
   {
    "duration": 1135,
    "start_time": "2023-10-16T14:30:55.776Z"
   },
   {
    "duration": 34,
    "start_time": "2023-10-16T14:30:56.912Z"
   },
   {
    "duration": 271,
    "start_time": "2023-10-16T14:30:56.948Z"
   },
   {
    "duration": 132,
    "start_time": "2023-10-16T14:30:57.221Z"
   },
   {
    "duration": 4,
    "start_time": "2023-10-16T14:30:57.354Z"
   },
   {
    "duration": 2527,
    "start_time": "2023-10-16T14:30:57.360Z"
   },
   {
    "duration": 92649,
    "start_time": "2023-10-16T14:30:59.889Z"
   },
   {
    "duration": 10,
    "start_time": "2023-10-16T14:32:32.540Z"
   },
   {
    "duration": 6,
    "start_time": "2023-10-16T14:43:02.898Z"
   },
   {
    "duration": 1850,
    "start_time": "2023-10-16T14:46:12.921Z"
   },
   {
    "duration": 1127,
    "start_time": "2023-10-16T14:46:14.773Z"
   },
   {
    "duration": 23,
    "start_time": "2023-10-16T14:46:15.904Z"
   },
   {
    "duration": 263,
    "start_time": "2023-10-16T14:46:15.948Z"
   },
   {
    "duration": 139,
    "start_time": "2023-10-16T14:46:16.214Z"
   },
   {
    "duration": 142,
    "start_time": "2023-10-16T14:46:16.355Z"
   },
   {
    "duration": 0,
    "start_time": "2023-10-16T14:46:16.498Z"
   },
   {
    "duration": 0,
    "start_time": "2023-10-16T14:46:16.500Z"
   },
   {
    "duration": 0,
    "start_time": "2023-10-16T14:46:16.502Z"
   },
   {
    "duration": 1893,
    "start_time": "2023-10-16T14:47:07.812Z"
   },
   {
    "duration": 1119,
    "start_time": "2023-10-16T14:47:09.708Z"
   },
   {
    "duration": 29,
    "start_time": "2023-10-16T14:47:10.829Z"
   },
   {
    "duration": 251,
    "start_time": "2023-10-16T14:47:10.860Z"
   },
   {
    "duration": 124,
    "start_time": "2023-10-16T14:47:11.114Z"
   },
   {
    "duration": 81685,
    "start_time": "2023-10-16T14:47:11.240Z"
   },
   {
    "duration": 10,
    "start_time": "2023-10-16T14:48:32.927Z"
   },
   {
    "duration": 143137,
    "start_time": "2023-10-16T14:48:32.939Z"
   },
   {
    "duration": 11,
    "start_time": "2023-10-16T14:50:56.078Z"
   },
   {
    "duration": 1864,
    "start_time": "2023-10-16T14:56:22.909Z"
   },
   {
    "duration": 1179,
    "start_time": "2023-10-16T14:56:24.775Z"
   },
   {
    "duration": 19,
    "start_time": "2023-10-16T14:56:25.956Z"
   },
   {
    "duration": 269,
    "start_time": "2023-10-16T14:56:25.977Z"
   },
   {
    "duration": 133,
    "start_time": "2023-10-16T14:56:26.248Z"
   },
   {
    "duration": 1875,
    "start_time": "2023-10-16T14:57:43.542Z"
   },
   {
    "duration": 1136,
    "start_time": "2023-10-16T14:57:45.419Z"
   },
   {
    "duration": 20,
    "start_time": "2023-10-16T14:57:46.558Z"
   },
   {
    "duration": 272,
    "start_time": "2023-10-16T14:57:46.581Z"
   },
   {
    "duration": 137,
    "start_time": "2023-10-16T14:57:46.855Z"
   },
   {
    "duration": 84981,
    "start_time": "2023-10-16T14:57:46.993Z"
   },
   {
    "duration": 10,
    "start_time": "2023-10-16T14:59:11.976Z"
   },
   {
    "duration": 155,
    "start_time": "2023-10-16T14:59:11.988Z"
   },
   {
    "duration": 0,
    "start_time": "2023-10-16T14:59:12.147Z"
   },
   {
    "duration": 0,
    "start_time": "2023-10-16T14:59:12.148Z"
   },
   {
    "duration": 227,
    "start_time": "2023-10-16T15:00:19.309Z"
   },
   {
    "duration": 921,
    "start_time": "2023-10-16T15:00:53.256Z"
   },
   {
    "duration": 950,
    "start_time": "2023-10-16T15:01:03.872Z"
   },
   {
    "duration": 14,
    "start_time": "2023-10-16T15:01:24.743Z"
   },
   {
    "duration": 953,
    "start_time": "2023-10-16T15:01:30.277Z"
   },
   {
    "duration": 1890,
    "start_time": "2023-10-16T15:01:42.083Z"
   },
   {
    "duration": 1119,
    "start_time": "2023-10-16T15:01:43.975Z"
   },
   {
    "duration": 21,
    "start_time": "2023-10-16T15:01:45.098Z"
   },
   {
    "duration": 297,
    "start_time": "2023-10-16T15:01:45.122Z"
   },
   {
    "duration": 132,
    "start_time": "2023-10-16T15:01:45.421Z"
   },
   {
    "duration": 81951,
    "start_time": "2023-10-16T15:01:45.555Z"
   },
   {
    "duration": 10,
    "start_time": "2023-10-16T15:03:07.507Z"
   },
   {
    "duration": 225,
    "start_time": "2023-10-16T15:03:07.519Z"
   },
   {
    "duration": 15,
    "start_time": "2023-10-16T15:05:36.118Z"
   },
   {
    "duration": 67,
    "start_time": "2023-10-16T15:05:36.146Z"
   },
   {
    "duration": 3904,
    "start_time": "2023-10-16T15:12:31.540Z"
   },
   {
    "duration": 32,
    "start_time": "2023-10-16T15:14:26.767Z"
   },
   {
    "duration": 65,
    "start_time": "2023-10-16T15:18:17.375Z"
   },
   {
    "duration": 6,
    "start_time": "2023-10-16T15:18:35.977Z"
   },
   {
    "duration": 6,
    "start_time": "2023-10-16T15:19:06.561Z"
   },
   {
    "duration": 6,
    "start_time": "2023-10-16T15:19:33.224Z"
   },
   {
    "duration": 9,
    "start_time": "2023-10-16T15:20:44.016Z"
   },
   {
    "duration": 4407,
    "start_time": "2023-10-16T15:24:04.382Z"
   },
   {
    "duration": 1065,
    "start_time": "2023-10-16T15:24:08.791Z"
   },
   {
    "duration": 20,
    "start_time": "2023-10-16T15:24:09.858Z"
   },
   {
    "duration": 271,
    "start_time": "2023-10-16T15:24:09.879Z"
   },
   {
    "duration": 131,
    "start_time": "2023-10-16T15:24:10.153Z"
   },
   {
    "duration": 83500,
    "start_time": "2023-10-16T15:24:10.285Z"
   },
   {
    "duration": 10,
    "start_time": "2023-10-16T15:25:33.787Z"
   },
   {
    "duration": 230,
    "start_time": "2023-10-16T15:25:33.798Z"
   },
   {
    "duration": 74,
    "start_time": "2023-10-16T15:25:34.030Z"
   },
   {
    "duration": 73,
    "start_time": "2023-10-16T15:25:34.105Z"
   },
   {
    "duration": 7,
    "start_time": "2023-10-16T15:25:34.180Z"
   },
   {
    "duration": 8,
    "start_time": "2023-10-16T15:25:34.188Z"
   },
   {
    "duration": 24,
    "start_time": "2023-10-16T15:25:34.199Z"
   },
   {
    "duration": 2599,
    "start_time": "2023-10-16T15:32:01.367Z"
   },
   {
    "duration": 35,
    "start_time": "2023-10-16T15:35:17.947Z"
   },
   {
    "duration": 112,
    "start_time": "2023-10-16T15:35:23.449Z"
   },
   {
    "duration": 2516,
    "start_time": "2023-10-16T15:39:39.429Z"
   },
   {
    "duration": 10,
    "start_time": "2023-10-16T15:43:03.242Z"
   },
   {
    "duration": 1684,
    "start_time": "2023-10-16T15:45:49.038Z"
   },
   {
    "duration": 4371,
    "start_time": "2023-10-16T15:56:26.633Z"
   },
   {
    "duration": 1047,
    "start_time": "2023-10-16T15:56:31.007Z"
   },
   {
    "duration": 20,
    "start_time": "2023-10-16T15:56:32.056Z"
   },
   {
    "duration": 291,
    "start_time": "2023-10-16T15:56:32.078Z"
   },
   {
    "duration": 142,
    "start_time": "2023-10-16T15:56:32.371Z"
   },
   {
    "duration": 83018,
    "start_time": "2023-10-16T15:56:32.515Z"
   },
   {
    "duration": 12,
    "start_time": "2023-10-16T15:57:55.535Z"
   },
   {
    "duration": 235,
    "start_time": "2023-10-16T15:57:55.549Z"
   },
   {
    "duration": 77,
    "start_time": "2023-10-16T15:57:55.786Z"
   },
   {
    "duration": 64,
    "start_time": "2023-10-16T15:57:55.866Z"
   },
   {
    "duration": 20,
    "start_time": "2023-10-16T15:57:55.932Z"
   },
   {
    "duration": 11,
    "start_time": "2023-10-16T15:57:55.954Z"
   },
   {
    "duration": 24,
    "start_time": "2023-10-16T15:57:55.967Z"
   },
   {
    "duration": 9,
    "start_time": "2023-10-16T15:57:55.993Z"
   },
   {
    "duration": 181,
    "start_time": "2023-10-16T15:57:56.004Z"
   },
   {
    "duration": 18,
    "start_time": "2023-10-16T16:00:50.619Z"
   },
   {
    "duration": 17,
    "start_time": "2023-10-16T16:14:02.273Z"
   },
   {
    "duration": 16,
    "start_time": "2023-10-16T16:14:13.999Z"
   },
   {
    "duration": 19,
    "start_time": "2023-10-16T16:18:25.175Z"
   },
   {
    "duration": 18,
    "start_time": "2023-10-16T16:24:00.705Z"
   },
   {
    "duration": 4640,
    "start_time": "2023-10-16T16:24:11.393Z"
   },
   {
    "duration": 1057,
    "start_time": "2023-10-16T16:24:16.035Z"
   },
   {
    "duration": 20,
    "start_time": "2023-10-16T16:24:17.094Z"
   },
   {
    "duration": 293,
    "start_time": "2023-10-16T16:24:17.116Z"
   },
   {
    "duration": 133,
    "start_time": "2023-10-16T16:24:17.410Z"
   },
   {
    "duration": 82121,
    "start_time": "2023-10-16T16:24:17.547Z"
   },
   {
    "duration": 9,
    "start_time": "2023-10-16T16:25:39.670Z"
   },
   {
    "duration": 226,
    "start_time": "2023-10-16T16:25:39.681Z"
   },
   {
    "duration": 75,
    "start_time": "2023-10-16T16:25:39.908Z"
   },
   {
    "duration": 71,
    "start_time": "2023-10-16T16:25:39.985Z"
   },
   {
    "duration": 5,
    "start_time": "2023-10-16T16:25:40.058Z"
   },
   {
    "duration": 24,
    "start_time": "2023-10-16T16:25:40.064Z"
   },
   {
    "duration": 31,
    "start_time": "2023-10-16T16:25:40.089Z"
   },
   {
    "duration": 67,
    "start_time": "2023-10-16T16:25:40.122Z"
   },
   {
    "duration": 166,
    "start_time": "2023-10-16T16:25:40.191Z"
   },
   {
    "duration": 97,
    "start_time": "2023-10-16T16:28:23.108Z"
   },
   {
    "duration": 10760,
    "start_time": "2023-10-16T16:28:41.458Z"
   },
   {
    "duration": 92632,
    "start_time": "2023-10-16T16:29:34.122Z"
   },
   {
    "duration": 173324,
    "start_time": "2023-10-16T16:37:49.510Z"
   },
   {
    "duration": 4453,
    "start_time": "2023-10-16T16:53:49.327Z"
   },
   {
    "duration": 1018,
    "start_time": "2023-10-16T16:53:53.783Z"
   },
   {
    "duration": 18,
    "start_time": "2023-10-16T16:53:54.803Z"
   },
   {
    "duration": 254,
    "start_time": "2023-10-16T16:53:54.822Z"
   },
   {
    "duration": 136,
    "start_time": "2023-10-16T16:53:55.079Z"
   },
   {
    "duration": 81689,
    "start_time": "2023-10-16T16:53:55.217Z"
   },
   {
    "duration": 9,
    "start_time": "2023-10-16T16:55:16.909Z"
   },
   {
    "duration": 251,
    "start_time": "2023-10-16T16:55:16.920Z"
   },
   {
    "duration": 77,
    "start_time": "2023-10-16T16:55:17.173Z"
   },
   {
    "duration": 65,
    "start_time": "2023-10-16T16:55:17.251Z"
   },
   {
    "duration": 5,
    "start_time": "2023-10-16T16:55:17.317Z"
   },
   {
    "duration": 50,
    "start_time": "2023-10-16T16:55:17.324Z"
   },
   {
    "duration": 21,
    "start_time": "2023-10-16T16:55:17.376Z"
   },
   {
    "duration": 11013,
    "start_time": "2023-10-16T16:55:17.401Z"
   },
   {
    "duration": 104343,
    "start_time": "2023-10-16T16:55:28.416Z"
   },
   {
    "duration": 173399,
    "start_time": "2023-10-16T16:57:12.761Z"
   },
   {
    "duration": 4826,
    "start_time": "2023-10-16T17:18:36.288Z"
   },
   {
    "duration": 1113,
    "start_time": "2023-10-16T17:18:41.117Z"
   },
   {
    "duration": 31,
    "start_time": "2023-10-16T17:18:42.231Z"
   },
   {
    "duration": 281,
    "start_time": "2023-10-16T17:18:42.265Z"
   },
   {
    "duration": 142,
    "start_time": "2023-10-16T17:18:42.548Z"
   },
   {
    "duration": 90067,
    "start_time": "2023-10-16T17:18:42.692Z"
   },
   {
    "duration": 11,
    "start_time": "2023-10-16T17:20:12.761Z"
   },
   {
    "duration": 242,
    "start_time": "2023-10-16T17:20:12.774Z"
   },
   {
    "duration": 80,
    "start_time": "2023-10-16T17:20:13.018Z"
   },
   {
    "duration": 66,
    "start_time": "2023-10-16T17:20:13.101Z"
   },
   {
    "duration": 8,
    "start_time": "2023-10-16T17:20:13.170Z"
   },
   {
    "duration": 25,
    "start_time": "2023-10-16T17:20:13.180Z"
   },
   {
    "duration": 8,
    "start_time": "2023-10-16T17:20:13.208Z"
   },
   {
    "duration": 12173,
    "start_time": "2023-10-16T17:20:13.218Z"
   },
   {
    "duration": 117077,
    "start_time": "2023-10-16T17:20:25.393Z"
   },
   {
    "duration": 181947,
    "start_time": "2023-10-16T17:22:22.472Z"
   },
   {
    "duration": 5279,
    "start_time": "2023-10-17T06:27:09.497Z"
   },
   {
    "duration": 2450,
    "start_time": "2023-10-17T06:27:14.779Z"
   },
   {
    "duration": 18,
    "start_time": "2023-10-17T06:27:17.231Z"
   },
   {
    "duration": 242,
    "start_time": "2023-10-17T06:27:17.252Z"
   },
   {
    "duration": 128,
    "start_time": "2023-10-17T06:27:17.500Z"
   },
   {
    "duration": 73000,
    "start_time": "2023-10-17T06:27:17.630Z"
   },
   {
    "duration": 10,
    "start_time": "2023-10-17T06:28:30.631Z"
   },
   {
    "duration": 246,
    "start_time": "2023-10-17T06:28:30.642Z"
   },
   {
    "duration": 75,
    "start_time": "2023-10-17T06:28:30.890Z"
   },
   {
    "duration": 83,
    "start_time": "2023-10-17T06:28:30.967Z"
   },
   {
    "duration": 6,
    "start_time": "2023-10-17T06:28:31.053Z"
   },
   {
    "duration": 53,
    "start_time": "2023-10-17T06:28:31.061Z"
   },
   {
    "duration": 50,
    "start_time": "2023-10-17T06:28:31.116Z"
   },
   {
    "duration": 10687,
    "start_time": "2023-10-17T06:28:31.169Z"
   },
   {
    "duration": 111443,
    "start_time": "2023-10-17T06:28:41.858Z"
   },
   {
    "duration": 157319,
    "start_time": "2023-10-17T06:30:33.303Z"
   },
   {
    "duration": 4261,
    "start_time": "2023-10-17T06:56:45.686Z"
   },
   {
    "duration": 969,
    "start_time": "2023-10-17T06:56:49.950Z"
   },
   {
    "duration": 18,
    "start_time": "2023-10-17T06:56:50.921Z"
   },
   {
    "duration": 292,
    "start_time": "2023-10-17T06:56:50.941Z"
   },
   {
    "duration": 116,
    "start_time": "2023-10-17T06:56:51.235Z"
   },
   {
    "duration": 73697,
    "start_time": "2023-10-17T06:56:51.353Z"
   },
   {
    "duration": 9,
    "start_time": "2023-10-17T06:58:05.051Z"
   },
   {
    "duration": 206,
    "start_time": "2023-10-17T06:58:05.062Z"
   },
   {
    "duration": 72,
    "start_time": "2023-10-17T06:58:05.269Z"
   },
   {
    "duration": 58,
    "start_time": "2023-10-17T06:58:05.343Z"
   },
   {
    "duration": 5,
    "start_time": "2023-10-17T06:58:05.403Z"
   },
   {
    "duration": 11,
    "start_time": "2023-10-17T06:58:05.409Z"
   },
   {
    "duration": 15,
    "start_time": "2023-10-17T06:58:05.421Z"
   },
   {
    "duration": 9866,
    "start_time": "2023-10-17T06:58:05.438Z"
   },
   {
    "duration": 100209,
    "start_time": "2023-10-17T06:58:15.306Z"
   },
   {
    "duration": 161602,
    "start_time": "2023-10-17T06:59:55.518Z"
   },
   {
    "duration": 4266,
    "start_time": "2023-10-17T08:01:28.785Z"
   },
   {
    "duration": 962,
    "start_time": "2023-10-17T08:01:33.053Z"
   },
   {
    "duration": 18,
    "start_time": "2023-10-17T08:01:34.017Z"
   },
   {
    "duration": 254,
    "start_time": "2023-10-17T08:01:34.037Z"
   },
   {
    "duration": 121,
    "start_time": "2023-10-17T08:01:34.294Z"
   },
   {
    "duration": 74806,
    "start_time": "2023-10-17T08:01:34.417Z"
   },
   {
    "duration": 10,
    "start_time": "2023-10-17T08:02:49.225Z"
   },
   {
    "duration": 219,
    "start_time": "2023-10-17T08:02:49.237Z"
   },
   {
    "duration": 72,
    "start_time": "2023-10-17T08:02:49.457Z"
   },
   {
    "duration": 71,
    "start_time": "2023-10-17T08:02:49.530Z"
   },
   {
    "duration": 5,
    "start_time": "2023-10-17T08:02:49.603Z"
   },
   {
    "duration": 14,
    "start_time": "2023-10-17T08:02:49.610Z"
   },
   {
    "duration": 18,
    "start_time": "2023-10-17T08:02:49.626Z"
   },
   {
    "duration": 10179,
    "start_time": "2023-10-17T08:02:49.646Z"
   },
   {
    "duration": 100476,
    "start_time": "2023-10-17T08:02:59.827Z"
   },
   {
    "duration": 160945,
    "start_time": "2023-10-17T08:04:40.305Z"
   },
   {
    "duration": 4345,
    "start_time": "2023-10-17T08:20:33.490Z"
   },
   {
    "duration": 1004,
    "start_time": "2023-10-17T08:20:37.837Z"
   },
   {
    "duration": 20,
    "start_time": "2023-10-17T08:20:38.845Z"
   },
   {
    "duration": 290,
    "start_time": "2023-10-17T08:20:38.867Z"
   },
   {
    "duration": 120,
    "start_time": "2023-10-17T08:20:39.160Z"
   },
   {
    "duration": 75131,
    "start_time": "2023-10-17T08:20:39.282Z"
   },
   {
    "duration": 9,
    "start_time": "2023-10-17T08:21:54.415Z"
   },
   {
    "duration": 235,
    "start_time": "2023-10-17T08:21:54.426Z"
   },
   {
    "duration": 83,
    "start_time": "2023-10-17T08:21:54.663Z"
   },
   {
    "duration": 75,
    "start_time": "2023-10-17T08:21:54.748Z"
   },
   {
    "duration": 5,
    "start_time": "2023-10-17T08:21:54.825Z"
   },
   {
    "duration": 6,
    "start_time": "2023-10-17T08:21:54.831Z"
   },
   {
    "duration": 7,
    "start_time": "2023-10-17T08:21:54.839Z"
   },
   {
    "duration": 10079,
    "start_time": "2023-10-17T08:21:54.848Z"
   },
   {
    "duration": 105387,
    "start_time": "2023-10-17T08:22:04.929Z"
   },
   {
    "duration": 160417,
    "start_time": "2023-10-17T08:23:50.318Z"
   },
   {
    "duration": 213319,
    "start_time": "2023-10-17T08:26:30.737Z"
   },
   {
    "duration": 3,
    "start_time": "2023-10-17T08:30:04.058Z"
   },
   {
    "duration": 4280,
    "start_time": "2023-10-17T08:40:19.666Z"
   },
   {
    "duration": 1077,
    "start_time": "2023-10-17T08:40:23.948Z"
   },
   {
    "duration": 19,
    "start_time": "2023-10-17T08:40:25.027Z"
   },
   {
    "duration": 254,
    "start_time": "2023-10-17T08:40:25.048Z"
   },
   {
    "duration": 126,
    "start_time": "2023-10-17T08:40:25.305Z"
   },
   {
    "duration": 75201,
    "start_time": "2023-10-17T08:40:25.432Z"
   },
   {
    "duration": 11,
    "start_time": "2023-10-17T08:41:40.635Z"
   },
   {
    "duration": 232,
    "start_time": "2023-10-17T08:41:40.647Z"
   },
   {
    "duration": 71,
    "start_time": "2023-10-17T08:41:40.881Z"
   },
   {
    "duration": 67,
    "start_time": "2023-10-17T08:41:40.954Z"
   },
   {
    "duration": 6,
    "start_time": "2023-10-17T08:41:41.023Z"
   },
   {
    "duration": 18,
    "start_time": "2023-10-17T08:41:41.031Z"
   },
   {
    "duration": 24,
    "start_time": "2023-10-17T08:41:41.051Z"
   },
   {
    "duration": 10094,
    "start_time": "2023-10-17T08:41:41.078Z"
   },
   {
    "duration": 98727,
    "start_time": "2023-10-17T08:41:51.174Z"
   },
   {
    "duration": 160877,
    "start_time": "2023-10-17T08:43:29.903Z"
   },
   {
    "duration": 213915,
    "start_time": "2023-10-17T08:46:10.782Z"
   },
   {
    "duration": 4546,
    "start_time": "2023-10-17T08:59:51.971Z"
   },
   {
    "duration": 983,
    "start_time": "2023-10-17T08:59:56.519Z"
   },
   {
    "duration": 19,
    "start_time": "2023-10-17T08:59:57.503Z"
   },
   {
    "duration": 305,
    "start_time": "2023-10-17T08:59:57.524Z"
   },
   {
    "duration": 118,
    "start_time": "2023-10-17T08:59:57.832Z"
   },
   {
    "duration": 74485,
    "start_time": "2023-10-17T08:59:57.951Z"
   },
   {
    "duration": 11,
    "start_time": "2023-10-17T09:01:12.437Z"
   },
   {
    "duration": 225,
    "start_time": "2023-10-17T09:01:12.450Z"
   },
   {
    "duration": 69,
    "start_time": "2023-10-17T09:01:12.676Z"
   },
   {
    "duration": 73,
    "start_time": "2023-10-17T09:01:12.747Z"
   },
   {
    "duration": 4,
    "start_time": "2023-10-17T09:01:12.822Z"
   },
   {
    "duration": 23,
    "start_time": "2023-10-17T09:01:12.828Z"
   },
   {
    "duration": 14,
    "start_time": "2023-10-17T09:01:12.852Z"
   },
   {
    "duration": 10101,
    "start_time": "2023-10-17T09:01:12.868Z"
   },
   {
    "duration": 97344,
    "start_time": "2023-10-17T09:01:22.971Z"
   },
   {
    "duration": 159270,
    "start_time": "2023-10-17T09:03:00.317Z"
   },
   {
    "duration": 212122,
    "start_time": "2023-10-17T09:05:39.588Z"
   },
   {
    "duration": 3,
    "start_time": "2023-10-17T09:09:11.712Z"
   },
   {
    "duration": 99986,
    "start_time": "2023-10-17T09:10:28.616Z"
   },
   {
    "duration": 43991,
    "start_time": "2023-10-17T09:15:30.420Z"
   },
   {
    "duration": 169943,
    "start_time": "2023-10-17T09:17:53.876Z"
   },
   {
    "duration": 4355,
    "start_time": "2023-10-17T09:23:03.489Z"
   },
   {
    "duration": 214456,
    "start_time": "2023-10-17T09:25:28.805Z"
   },
   {
    "duration": 2782,
    "start_time": "2023-10-17T09:32:04.285Z"
   },
   {
    "duration": 4205,
    "start_time": "2023-10-17T09:46:12.596Z"
   },
   {
    "duration": 965,
    "start_time": "2023-10-17T09:46:16.803Z"
   },
   {
    "duration": 31,
    "start_time": "2023-10-17T09:46:17.770Z"
   },
   {
    "duration": 242,
    "start_time": "2023-10-17T09:46:17.803Z"
   },
   {
    "duration": 117,
    "start_time": "2023-10-17T09:46:18.047Z"
   },
   {
    "duration": 74599,
    "start_time": "2023-10-17T09:46:18.165Z"
   },
   {
    "duration": 10,
    "start_time": "2023-10-17T09:47:32.766Z"
   },
   {
    "duration": 257,
    "start_time": "2023-10-17T09:47:32.778Z"
   },
   {
    "duration": 75,
    "start_time": "2023-10-17T09:47:33.036Z"
   },
   {
    "duration": 61,
    "start_time": "2023-10-17T09:47:33.113Z"
   },
   {
    "duration": 25,
    "start_time": "2023-10-17T09:47:33.176Z"
   },
   {
    "duration": 8,
    "start_time": "2023-10-17T09:47:33.203Z"
   },
   {
    "duration": 7,
    "start_time": "2023-10-17T09:47:33.213Z"
   },
   {
    "duration": 10150,
    "start_time": "2023-10-17T09:47:33.221Z"
   },
   {
    "duration": 111829,
    "start_time": "2023-10-17T09:47:43.373Z"
   },
   {
    "duration": 163999,
    "start_time": "2023-10-17T09:49:35.203Z"
   },
   {
    "duration": 210755,
    "start_time": "2023-10-17T09:52:19.204Z"
   },
   {
    "duration": 3,
    "start_time": "2023-10-17T09:55:49.961Z"
   },
   {
    "duration": 93936,
    "start_time": "2023-10-17T09:55:49.966Z"
   },
   {
    "duration": 48203,
    "start_time": "2023-10-17T09:57:23.903Z"
   },
   {
    "duration": 168923,
    "start_time": "2023-10-17T09:58:12.108Z"
   },
   {
    "duration": 4810,
    "start_time": "2023-10-17T10:01:01.033Z"
   },
   {
    "duration": 217044,
    "start_time": "2023-10-17T10:01:05.844Z"
   },
   {
    "duration": 2994,
    "start_time": "2023-10-17T10:04:42.890Z"
   },
   {
    "duration": 3,
    "start_time": "2023-10-17T10:04:45.886Z"
   },
   {
    "duration": 2465,
    "start_time": "2023-10-17T10:18:36.409Z"
   },
   {
    "duration": 70,
    "start_time": "2023-10-17T10:19:14.273Z"
   },
   {
    "duration": 3,
    "start_time": "2023-10-17T10:19:29.331Z"
   },
   {
    "duration": 104,
    "start_time": "2023-10-17T10:21:40.924Z"
   },
   {
    "duration": 108,
    "start_time": "2023-10-17T10:22:00.223Z"
   },
   {
    "duration": 49,
    "start_time": "2023-10-17T10:23:35.734Z"
   },
   {
    "duration": 4347,
    "start_time": "2023-10-17T10:23:53.208Z"
   },
   {
    "duration": 98,
    "start_time": "2023-10-17T10:24:06.366Z"
   },
   {
    "duration": 13,
    "start_time": "2023-10-17T10:24:16.652Z"
   },
   {
    "duration": 4145,
    "start_time": "2023-10-17T10:24:25.090Z"
   },
   {
    "duration": 2521,
    "start_time": "2023-10-17T10:24:29.237Z"
   },
   {
    "duration": 19,
    "start_time": "2023-10-17T10:24:31.760Z"
   },
   {
    "duration": 273,
    "start_time": "2023-10-17T10:24:31.781Z"
   },
   {
    "duration": 117,
    "start_time": "2023-10-17T10:24:32.057Z"
   },
   {
    "duration": 76492,
    "start_time": "2023-10-17T10:24:32.175Z"
   },
   {
    "duration": 10,
    "start_time": "2023-10-17T10:25:48.669Z"
   },
   {
    "duration": 231,
    "start_time": "2023-10-17T10:25:48.681Z"
   },
   {
    "duration": 66,
    "start_time": "2023-10-17T10:25:48.914Z"
   },
   {
    "duration": 74,
    "start_time": "2023-10-17T10:25:48.982Z"
   },
   {
    "duration": 5,
    "start_time": "2023-10-17T10:25:49.058Z"
   },
   {
    "duration": 40,
    "start_time": "2023-10-17T10:25:49.064Z"
   },
   {
    "duration": 25,
    "start_time": "2023-10-17T10:25:49.106Z"
   },
   {
    "duration": 10217,
    "start_time": "2023-10-17T10:25:49.134Z"
   },
   {
    "duration": 105449,
    "start_time": "2023-10-17T10:25:59.352Z"
   },
   {
    "duration": 160308,
    "start_time": "2023-10-17T10:27:44.804Z"
   },
   {
    "duration": 215002,
    "start_time": "2023-10-17T10:30:25.114Z"
   },
   {
    "duration": 3,
    "start_time": "2023-10-17T10:34:00.118Z"
   },
   {
    "duration": 90684,
    "start_time": "2023-10-17T10:34:00.122Z"
   },
   {
    "duration": 43007,
    "start_time": "2023-10-17T10:35:30.809Z"
   },
   {
    "duration": 165323,
    "start_time": "2023-10-17T10:36:13.819Z"
   },
   {
    "duration": 4607,
    "start_time": "2023-10-17T10:38:59.143Z"
   },
   {
    "duration": 218910,
    "start_time": "2023-10-17T10:39:03.751Z"
   },
   {
    "duration": 2862,
    "start_time": "2023-10-17T10:42:42.663Z"
   },
   {
    "duration": 3,
    "start_time": "2023-10-17T10:42:45.527Z"
   },
   {
    "duration": 53,
    "start_time": "2023-10-17T10:42:45.532Z"
   },
   {
    "duration": 17,
    "start_time": "2023-10-17T10:42:45.587Z"
   },
   {
    "duration": 161,
    "start_time": "2023-10-17T10:42:45.606Z"
   },
   {
    "duration": 4307,
    "start_time": "2023-10-17T10:43:33.870Z"
   },
   {
    "duration": 2481,
    "start_time": "2023-10-17T10:43:38.180Z"
   },
   {
    "duration": 19,
    "start_time": "2023-10-17T10:43:40.663Z"
   },
   {
    "duration": 250,
    "start_time": "2023-10-17T10:43:40.684Z"
   },
   {
    "duration": 125,
    "start_time": "2023-10-17T10:43:40.936Z"
   },
   {
    "duration": 75258,
    "start_time": "2023-10-17T10:43:41.063Z"
   },
   {
    "duration": 9,
    "start_time": "2023-10-17T10:44:56.323Z"
   },
   {
    "duration": 254,
    "start_time": "2023-10-17T10:44:56.333Z"
   },
   {
    "duration": 75,
    "start_time": "2023-10-17T10:44:56.589Z"
   },
   {
    "duration": 71,
    "start_time": "2023-10-17T10:44:56.666Z"
   },
   {
    "duration": 5,
    "start_time": "2023-10-17T10:44:56.739Z"
   },
   {
    "duration": 14,
    "start_time": "2023-10-17T10:44:56.745Z"
   },
   {
    "duration": 10,
    "start_time": "2023-10-17T10:44:56.760Z"
   },
   {
    "duration": 9931,
    "start_time": "2023-10-17T10:44:56.773Z"
   },
   {
    "duration": 74899,
    "start_time": "2023-10-17T10:45:06.706Z"
   },
   {
    "duration": 163480,
    "start_time": "2023-10-17T10:46:21.607Z"
   },
   {
    "duration": 214604,
    "start_time": "2023-10-17T10:49:05.089Z"
   },
   {
    "duration": 3,
    "start_time": "2023-10-17T10:52:39.701Z"
   },
   {
    "duration": 61704,
    "start_time": "2023-10-17T10:52:39.705Z"
   },
   {
    "duration": 47293,
    "start_time": "2023-10-17T10:53:41.411Z"
   },
   {
    "duration": 170562,
    "start_time": "2023-10-17T10:54:28.707Z"
   },
   {
    "duration": 4862,
    "start_time": "2023-10-17T10:57:19.271Z"
   },
   {
    "duration": 218676,
    "start_time": "2023-10-17T10:57:24.136Z"
   },
   {
    "duration": 2980,
    "start_time": "2023-10-17T11:01:02.814Z"
   },
   {
    "duration": 6,
    "start_time": "2023-10-17T11:01:05.796Z"
   },
   {
    "duration": 301,
    "start_time": "2023-10-17T11:01:05.804Z"
   },
   {
    "duration": 43,
    "start_time": "2023-10-17T11:01:06.107Z"
   },
   {
    "duration": 139,
    "start_time": "2023-10-17T11:01:06.153Z"
   },
   {
    "duration": 4474,
    "start_time": "2023-10-17T11:02:00.707Z"
   },
   {
    "duration": 2513,
    "start_time": "2023-10-17T11:02:07.092Z"
   },
   {
    "duration": 22,
    "start_time": "2023-10-17T11:02:14.075Z"
   },
   {
    "duration": 229,
    "start_time": "2023-10-17T11:02:18.151Z"
   },
   {
    "duration": 111,
    "start_time": "2023-10-17T11:02:22.176Z"
   },
   {
    "duration": 74807,
    "start_time": "2023-10-17T11:02:25.876Z"
   },
   {
    "duration": 17,
    "start_time": "2023-10-17T11:03:40.686Z"
   },
   {
    "duration": 4258,
    "start_time": "2023-10-17T11:04:30.424Z"
   },
   {
    "duration": 996,
    "start_time": "2023-10-17T11:04:34.685Z"
   },
   {
    "duration": 27,
    "start_time": "2023-10-17T11:04:35.683Z"
   },
   {
    "duration": 390,
    "start_time": "2023-10-17T11:04:35.712Z"
   },
   {
    "duration": 120,
    "start_time": "2023-10-17T11:04:36.103Z"
   },
   {
    "duration": 75396,
    "start_time": "2023-10-17T11:04:36.225Z"
   },
   {
    "duration": 10,
    "start_time": "2023-10-17T11:05:51.623Z"
   },
   {
    "duration": 231,
    "start_time": "2023-10-17T11:05:51.634Z"
   },
   {
    "duration": 72,
    "start_time": "2023-10-17T11:05:51.867Z"
   },
   {
    "duration": 63,
    "start_time": "2023-10-17T11:05:51.941Z"
   },
   {
    "duration": 5,
    "start_time": "2023-10-17T11:05:52.006Z"
   },
   {
    "duration": 15,
    "start_time": "2023-10-17T11:05:52.013Z"
   },
   {
    "duration": 16,
    "start_time": "2023-10-17T11:05:52.030Z"
   },
   {
    "duration": 9989,
    "start_time": "2023-10-17T11:05:52.048Z"
   },
   {
    "duration": 2,
    "start_time": "2023-10-17T11:06:02.039Z"
   },
   {
    "duration": 52,
    "start_time": "2023-10-17T11:06:02.043Z"
   },
   {
    "duration": 64,
    "start_time": "2023-10-17T11:06:02.097Z"
   },
   {
    "duration": 63,
    "start_time": "2023-10-17T11:06:02.163Z"
   },
   {
    "duration": 66479,
    "start_time": "2023-10-17T11:06:02.228Z"
   },
   {
    "duration": 45196,
    "start_time": "2023-10-17T11:07:08.709Z"
   },
   {
    "duration": 166119,
    "start_time": "2023-10-17T11:07:53.907Z"
   },
   {
    "duration": 4554,
    "start_time": "2023-10-17T11:10:40.028Z"
   },
   {
    "duration": 216067,
    "start_time": "2023-10-17T11:10:44.584Z"
   },
   {
    "duration": 2894,
    "start_time": "2023-10-17T11:14:20.654Z"
   },
   {
    "duration": 3,
    "start_time": "2023-10-17T11:14:23.552Z"
   },
   {
    "duration": 62,
    "start_time": "2023-10-17T11:14:23.557Z"
   },
   {
    "duration": 4,
    "start_time": "2023-10-17T11:14:23.621Z"
   },
   {
    "duration": 122,
    "start_time": "2023-10-17T11:14:23.628Z"
   },
   {
    "duration": 4460,
    "start_time": "2023-10-17T11:16:31.547Z"
   },
   {
    "duration": 2519,
    "start_time": "2023-10-17T11:16:36.009Z"
   },
   {
    "duration": 24,
    "start_time": "2023-10-17T11:16:38.531Z"
   },
   {
    "duration": 283,
    "start_time": "2023-10-17T11:16:38.557Z"
   },
   {
    "duration": 128,
    "start_time": "2023-10-17T11:16:38.843Z"
   },
   {
    "duration": 75540,
    "start_time": "2023-10-17T11:16:38.973Z"
   },
   {
    "duration": 10,
    "start_time": "2023-10-17T11:17:54.515Z"
   },
   {
    "duration": 266,
    "start_time": "2023-10-17T11:17:54.526Z"
   },
   {
    "duration": 76,
    "start_time": "2023-10-17T11:17:54.794Z"
   },
   {
    "duration": 69,
    "start_time": "2023-10-17T11:17:54.873Z"
   },
   {
    "duration": 7,
    "start_time": "2023-10-17T11:17:54.944Z"
   },
   {
    "duration": 28,
    "start_time": "2023-10-17T11:17:54.953Z"
   },
   {
    "duration": 11,
    "start_time": "2023-10-17T11:17:54.984Z"
   },
   {
    "duration": 3,
    "start_time": "2023-10-17T11:17:55.004Z"
   },
   {
    "duration": 30,
    "start_time": "2023-10-17T11:17:55.008Z"
   },
   {
    "duration": 24,
    "start_time": "2023-10-17T11:17:55.041Z"
   },
   {
    "duration": 22,
    "start_time": "2023-10-17T11:17:55.067Z"
   },
   {
    "duration": 30,
    "start_time": "2023-10-17T11:17:55.092Z"
   },
   {
    "duration": 17,
    "start_time": "2023-10-17T11:17:55.125Z"
   },
   {
    "duration": 5,
    "start_time": "2023-10-17T11:17:55.144Z"
   },
   {
    "duration": 16,
    "start_time": "2023-10-17T11:17:55.150Z"
   },
   {
    "duration": 19,
    "start_time": "2023-10-17T11:17:55.167Z"
   },
   {
    "duration": 30,
    "start_time": "2023-10-17T11:17:55.188Z"
   },
   {
    "duration": 31,
    "start_time": "2023-10-17T11:17:55.220Z"
   },
   {
    "duration": 29,
    "start_time": "2023-10-17T11:17:55.253Z"
   },
   {
    "duration": 74,
    "start_time": "2023-10-17T11:17:55.284Z"
   },
   {
    "duration": 3,
    "start_time": "2023-10-17T11:17:55.360Z"
   },
   {
    "duration": 142,
    "start_time": "2023-10-17T11:17:55.365Z"
   },
   {
    "duration": 4508,
    "start_time": "2023-10-17T11:18:56.041Z"
   },
   {
    "duration": 2528,
    "start_time": "2023-10-17T11:19:00.551Z"
   },
   {
    "duration": 28,
    "start_time": "2023-10-17T11:19:03.081Z"
   },
   {
    "duration": 256,
    "start_time": "2023-10-17T11:19:03.112Z"
   },
   {
    "duration": 118,
    "start_time": "2023-10-17T11:19:03.370Z"
   },
   {
    "duration": 75094,
    "start_time": "2023-10-17T11:19:03.490Z"
   },
   {
    "duration": 17,
    "start_time": "2023-10-17T11:20:18.586Z"
   },
   {
    "duration": 259,
    "start_time": "2023-10-17T11:20:18.604Z"
   },
   {
    "duration": 74,
    "start_time": "2023-10-17T11:20:18.865Z"
   },
   {
    "duration": 62,
    "start_time": "2023-10-17T11:20:18.942Z"
   },
   {
    "duration": 5,
    "start_time": "2023-10-17T11:20:19.007Z"
   },
   {
    "duration": 15,
    "start_time": "2023-10-17T11:20:19.013Z"
   },
   {
    "duration": 23,
    "start_time": "2023-10-17T11:20:19.029Z"
   },
   {
    "duration": 25,
    "start_time": "2023-10-17T11:20:19.054Z"
   },
   {
    "duration": 14,
    "start_time": "2023-10-17T11:20:19.081Z"
   },
   {
    "duration": 12,
    "start_time": "2023-10-17T11:20:19.096Z"
   },
   {
    "duration": 23,
    "start_time": "2023-10-17T11:20:19.109Z"
   },
   {
    "duration": 14,
    "start_time": "2023-10-17T11:20:19.134Z"
   },
   {
    "duration": 75,
    "start_time": "2023-10-17T11:20:19.150Z"
   },
   {
    "duration": 83,
    "start_time": "2023-10-17T11:20:19.227Z"
   },
   {
    "duration": 74,
    "start_time": "2023-10-17T11:20:19.313Z"
   },
   {
    "duration": 42,
    "start_time": "2023-10-17T11:20:19.389Z"
   },
   {
    "duration": 31,
    "start_time": "2023-10-17T11:20:19.433Z"
   },
   {
    "duration": 26,
    "start_time": "2023-10-17T11:20:19.466Z"
   },
   {
    "duration": 14,
    "start_time": "2023-10-17T11:20:19.494Z"
   },
   {
    "duration": 59,
    "start_time": "2023-10-17T11:20:19.510Z"
   },
   {
    "duration": 4,
    "start_time": "2023-10-17T11:20:19.571Z"
   },
   {
    "duration": 131,
    "start_time": "2023-10-17T11:20:19.578Z"
   },
   {
    "duration": 12782,
    "start_time": "2023-10-17T11:20:19.711Z"
   },
   {
    "duration": 136,
    "start_time": "2023-10-17T11:22:17.012Z"
   },
   {
    "duration": 135027,
    "start_time": "2023-10-17T11:23:17.983Z"
   },
   {
    "duration": 225093,
    "start_time": "2023-10-17T11:26:56.955Z"
   },
   {
    "duration": 5665,
    "start_time": "2023-10-17T11:31:51.329Z"
   },
   {
    "duration": 50546,
    "start_time": "2023-10-17T11:32:54.764Z"
   },
   {
    "duration": 302819,
    "start_time": "2023-10-17T11:35:12.639Z"
   },
   {
    "duration": 2452,
    "start_time": "2023-10-17T11:41:18.864Z"
   },
   {
    "duration": 16,
    "start_time": "2023-10-17T11:44:08.427Z"
   },
   {
    "duration": 5418,
    "start_time": "2023-10-17T15:09:41.306Z"
   },
   {
    "duration": 4137,
    "start_time": "2023-10-17T15:16:09.483Z"
   },
   {
    "duration": 2303,
    "start_time": "2023-10-17T15:16:13.622Z"
   },
   {
    "duration": 17,
    "start_time": "2023-10-17T15:16:15.926Z"
   },
   {
    "duration": 222,
    "start_time": "2023-10-17T15:16:15.945Z"
   },
   {
    "duration": 111,
    "start_time": "2023-10-17T15:16:16.168Z"
   },
   {
    "duration": 71919,
    "start_time": "2023-10-17T15:16:16.281Z"
   },
   {
    "duration": 10,
    "start_time": "2023-10-17T15:17:28.202Z"
   },
   {
    "duration": 191,
    "start_time": "2023-10-17T15:17:28.213Z"
   },
   {
    "duration": 60,
    "start_time": "2023-10-17T15:17:28.406Z"
   },
   {
    "duration": 49,
    "start_time": "2023-10-17T15:17:28.468Z"
   },
   {
    "duration": 5,
    "start_time": "2023-10-17T15:17:28.519Z"
   },
   {
    "duration": 23,
    "start_time": "2023-10-17T15:17:28.525Z"
   },
   {
    "duration": 15,
    "start_time": "2023-10-17T15:17:28.550Z"
   },
   {
    "duration": 8,
    "start_time": "2023-10-17T15:17:28.567Z"
   },
   {
    "duration": 9,
    "start_time": "2023-10-17T15:17:28.576Z"
   },
   {
    "duration": 5,
    "start_time": "2023-10-17T15:17:28.587Z"
   },
   {
    "duration": 29,
    "start_time": "2023-10-17T15:17:28.594Z"
   },
   {
    "duration": 19,
    "start_time": "2023-10-17T15:17:28.625Z"
   },
   {
    "duration": 9,
    "start_time": "2023-10-17T15:17:28.645Z"
   },
   {
    "duration": 13,
    "start_time": "2023-10-17T15:17:28.656Z"
   },
   {
    "duration": 8,
    "start_time": "2023-10-17T15:17:28.670Z"
   },
   {
    "duration": 23,
    "start_time": "2023-10-17T15:17:28.680Z"
   },
   {
    "duration": 20,
    "start_time": "2023-10-17T15:17:28.704Z"
   },
   {
    "duration": 16,
    "start_time": "2023-10-17T15:17:28.726Z"
   },
   {
    "duration": 10,
    "start_time": "2023-10-17T15:17:28.744Z"
   },
   {
    "duration": 61,
    "start_time": "2023-10-17T15:17:28.756Z"
   },
   {
    "duration": 3,
    "start_time": "2023-10-17T15:17:28.819Z"
   },
   {
    "duration": 128,
    "start_time": "2023-10-17T15:17:28.825Z"
   },
   {
    "duration": 11973,
    "start_time": "2023-10-17T15:17:28.955Z"
   },
   {
    "duration": 130336,
    "start_time": "2023-10-17T15:17:40.930Z"
   },
   {
    "duration": 47581,
    "start_time": "2023-10-17T15:19:51.267Z"
   },
   {
    "duration": 217573,
    "start_time": "2023-10-17T15:20:38.850Z"
   },
   {
    "duration": 5147,
    "start_time": "2023-10-17T15:24:16.425Z"
   },
   {
    "duration": 287924,
    "start_time": "2023-10-17T15:24:21.574Z"
   },
   {
    "duration": 2165,
    "start_time": "2023-10-17T15:29:09.500Z"
   },
   {
    "duration": 14,
    "start_time": "2023-10-17T15:29:11.667Z"
   },
   {
    "duration": 6144,
    "start_time": "2023-10-18T07:05:01.314Z"
   },
   {
    "duration": 2467,
    "start_time": "2023-10-18T07:05:07.459Z"
   },
   {
    "duration": 18,
    "start_time": "2023-10-18T07:05:09.928Z"
   },
   {
    "duration": 246,
    "start_time": "2023-10-18T07:05:09.949Z"
   },
   {
    "duration": 134,
    "start_time": "2023-10-18T07:05:10.196Z"
   },
   {
    "duration": 79515,
    "start_time": "2023-10-18T07:05:10.332Z"
   },
   {
    "duration": 11,
    "start_time": "2023-10-18T07:06:29.849Z"
   },
   {
    "duration": 199,
    "start_time": "2023-10-18T07:06:29.862Z"
   },
   {
    "duration": 55,
    "start_time": "2023-10-18T07:06:30.063Z"
   },
   {
    "duration": 70,
    "start_time": "2023-10-18T07:06:30.122Z"
   },
   {
    "duration": 6,
    "start_time": "2023-10-18T07:06:30.194Z"
   },
   {
    "duration": 37,
    "start_time": "2023-10-18T07:06:30.202Z"
   },
   {
    "duration": 127,
    "start_time": "2023-10-18T07:06:30.241Z"
   },
   {
    "duration": 31,
    "start_time": "2023-10-18T07:06:30.370Z"
   },
   {
    "duration": 72,
    "start_time": "2023-10-18T07:06:30.404Z"
   },
   {
    "duration": 88,
    "start_time": "2023-10-18T07:06:30.477Z"
   },
   {
    "duration": 80,
    "start_time": "2023-10-18T07:06:30.567Z"
   },
   {
    "duration": 67,
    "start_time": "2023-10-18T07:06:30.648Z"
   },
   {
    "duration": 111,
    "start_time": "2023-10-18T07:06:30.718Z"
   },
   {
    "duration": 119,
    "start_time": "2023-10-18T07:06:30.831Z"
   },
   {
    "duration": 34,
    "start_time": "2023-10-18T07:06:30.952Z"
   },
   {
    "duration": 73,
    "start_time": "2023-10-18T07:06:30.988Z"
   },
   {
    "duration": 73,
    "start_time": "2023-10-18T07:06:31.063Z"
   },
   {
    "duration": 52,
    "start_time": "2023-10-18T07:06:31.137Z"
   },
   {
    "duration": 29,
    "start_time": "2023-10-18T07:06:31.191Z"
   },
   {
    "duration": 29,
    "start_time": "2023-10-18T07:06:31.222Z"
   },
   {
    "duration": 66,
    "start_time": "2023-10-18T07:06:31.253Z"
   },
   {
    "duration": 40,
    "start_time": "2023-10-18T07:06:31.322Z"
   },
   {
    "duration": 35,
    "start_time": "2023-10-18T07:06:31.364Z"
   },
   {
    "duration": 39,
    "start_time": "2023-10-18T07:06:31.401Z"
   },
   {
    "duration": 34,
    "start_time": "2023-10-18T07:06:31.443Z"
   },
   {
    "duration": 74,
    "start_time": "2023-10-18T07:06:31.479Z"
   },
   {
    "duration": 52,
    "start_time": "2023-10-18T07:06:31.554Z"
   },
   {
    "duration": 25,
    "start_time": "2023-10-18T07:06:31.608Z"
   },
   {
    "duration": 39,
    "start_time": "2023-10-18T07:06:31.634Z"
   },
   {
    "duration": 71,
    "start_time": "2023-10-18T07:06:31.675Z"
   },
   {
    "duration": 2450,
    "start_time": "2023-10-18T07:18:14.871Z"
   },
   {
    "duration": 1011,
    "start_time": "2023-10-18T07:18:21.406Z"
   },
   {
    "duration": 21,
    "start_time": "2023-10-18T07:18:26.152Z"
   },
   {
    "duration": 244,
    "start_time": "2023-10-18T07:18:30.746Z"
   },
   {
    "duration": 112,
    "start_time": "2023-10-18T07:18:33.622Z"
   },
   {
    "duration": 4,
    "start_time": "2023-10-18T07:18:39.729Z"
   },
   {
    "duration": 2555,
    "start_time": "2023-10-18T07:18:43.377Z"
   },
   {
    "duration": 3,
    "start_time": "2023-10-18T07:18:58.615Z"
   },
   {
    "duration": 3853,
    "start_time": "2023-10-18T07:18:59.306Z"
   },
   {
    "duration": 4,
    "start_time": "2023-10-18T07:19:29.191Z"
   },
   {
    "duration": 3879,
    "start_time": "2023-10-18T07:19:30.014Z"
   },
   {
    "duration": 3,
    "start_time": "2023-10-18T07:19:45.824Z"
   },
   {
    "duration": 3773,
    "start_time": "2023-10-18T07:19:47.449Z"
   },
   {
    "duration": 3,
    "start_time": "2023-10-18T07:19:57.665Z"
   },
   {
    "duration": 3884,
    "start_time": "2023-10-18T07:19:58.569Z"
   },
   {
    "duration": 2362,
    "start_time": "2023-10-18T07:22:08.803Z"
   },
   {
    "duration": 7,
    "start_time": "2023-10-18T07:28:02.259Z"
   },
   {
    "duration": 554,
    "start_time": "2023-10-18T07:28:45.689Z"
   },
   {
    "duration": 5887,
    "start_time": "2023-10-18T10:05:51.539Z"
   },
   {
    "duration": 3509,
    "start_time": "2023-10-18T10:05:57.428Z"
   },
   {
    "duration": 23,
    "start_time": "2023-10-18T10:06:00.940Z"
   },
   {
    "duration": 307,
    "start_time": "2023-10-18T10:06:00.965Z"
   },
   {
    "duration": 139,
    "start_time": "2023-10-18T10:06:01.273Z"
   },
   {
    "duration": 4,
    "start_time": "2023-10-18T10:06:01.414Z"
   },
   {
    "duration": 4489,
    "start_time": "2023-10-18T10:06:01.419Z"
   },
   {
    "duration": 5,
    "start_time": "2023-10-18T10:06:05.909Z"
   },
   {
    "duration": 580,
    "start_time": "2023-10-18T10:06:05.916Z"
   },
   {
    "duration": 0,
    "start_time": "2023-10-18T10:06:06.499Z"
   },
   {
    "duration": 0,
    "start_time": "2023-10-18T10:06:06.500Z"
   },
   {
    "duration": 0,
    "start_time": "2023-10-18T10:06:06.502Z"
   },
   {
    "duration": 0,
    "start_time": "2023-10-18T10:06:06.503Z"
   },
   {
    "duration": 0,
    "start_time": "2023-10-18T10:06:06.504Z"
   },
   {
    "duration": 0,
    "start_time": "2023-10-18T10:06:06.505Z"
   },
   {
    "duration": 0,
    "start_time": "2023-10-18T10:06:06.506Z"
   },
   {
    "duration": 0,
    "start_time": "2023-10-18T10:06:06.507Z"
   },
   {
    "duration": 0,
    "start_time": "2023-10-18T10:06:06.509Z"
   },
   {
    "duration": 0,
    "start_time": "2023-10-18T10:06:06.510Z"
   },
   {
    "duration": 0,
    "start_time": "2023-10-18T10:06:06.511Z"
   },
   {
    "duration": 0,
    "start_time": "2023-10-18T10:06:06.512Z"
   },
   {
    "duration": 0,
    "start_time": "2023-10-18T10:06:06.513Z"
   },
   {
    "duration": 0,
    "start_time": "2023-10-18T10:06:06.514Z"
   },
   {
    "duration": 0,
    "start_time": "2023-10-18T10:06:06.516Z"
   },
   {
    "duration": 0,
    "start_time": "2023-10-18T10:06:06.517Z"
   },
   {
    "duration": 0,
    "start_time": "2023-10-18T10:06:06.519Z"
   },
   {
    "duration": 0,
    "start_time": "2023-10-18T10:06:06.520Z"
   },
   {
    "duration": 0,
    "start_time": "2023-10-18T10:06:06.521Z"
   },
   {
    "duration": 0,
    "start_time": "2023-10-18T10:06:06.522Z"
   },
   {
    "duration": 1,
    "start_time": "2023-10-18T10:06:06.523Z"
   },
   {
    "duration": 1,
    "start_time": "2023-10-18T10:06:06.524Z"
   },
   {
    "duration": 0,
    "start_time": "2023-10-18T10:06:06.526Z"
   },
   {
    "duration": 0,
    "start_time": "2023-10-18T10:06:06.527Z"
   },
   {
    "duration": 0,
    "start_time": "2023-10-18T10:06:06.528Z"
   },
   {
    "duration": 0,
    "start_time": "2023-10-18T10:06:06.530Z"
   },
   {
    "duration": 0,
    "start_time": "2023-10-18T10:06:06.531Z"
   },
   {
    "duration": 0,
    "start_time": "2023-10-18T10:06:06.557Z"
   },
   {
    "duration": 1,
    "start_time": "2023-10-18T10:06:06.558Z"
   },
   {
    "duration": 0,
    "start_time": "2023-10-18T10:06:06.560Z"
   },
   {
    "duration": 0,
    "start_time": "2023-10-18T10:06:06.561Z"
   },
   {
    "duration": 2849,
    "start_time": "2023-10-18T10:06:52.647Z"
   },
   {
    "duration": 6,
    "start_time": "2023-10-18T10:07:15.506Z"
   },
   {
    "duration": 1208917,
    "start_time": "2023-10-18T10:07:16.600Z"
   },
   {
    "duration": 16,
    "start_time": "2023-10-18T10:28:48.626Z"
   },
   {
    "duration": 775,
    "start_time": "2023-10-18T10:29:00.242Z"
   },
   {
    "duration": 211,
    "start_time": "2023-10-18T10:32:50.013Z"
   },
   {
    "duration": 198,
    "start_time": "2023-10-18T10:33:22.031Z"
   },
   {
    "duration": 224,
    "start_time": "2023-10-18T10:36:43.856Z"
   },
   {
    "duration": 204,
    "start_time": "2023-10-18T10:36:55.309Z"
   },
   {
    "duration": 216,
    "start_time": "2023-10-18T10:37:03.735Z"
   },
   {
    "duration": 200,
    "start_time": "2023-10-18T10:37:06.309Z"
   },
   {
    "duration": 14,
    "start_time": "2023-10-18T10:38:33.724Z"
   },
   {
    "duration": 16,
    "start_time": "2023-10-18T10:40:16.972Z"
   },
   {
    "duration": 39,
    "start_time": "2023-10-18T10:41:50.937Z"
   },
   {
    "duration": 39,
    "start_time": "2023-10-18T10:42:11.849Z"
   },
   {
    "duration": 44,
    "start_time": "2023-10-18T10:42:59.864Z"
   },
   {
    "duration": 40,
    "start_time": "2023-10-18T10:43:06.901Z"
   },
   {
    "duration": 41,
    "start_time": "2023-10-18T10:43:18.663Z"
   },
   {
    "duration": 39,
    "start_time": "2023-10-18T10:43:42.701Z"
   },
   {
    "duration": 41,
    "start_time": "2023-10-18T10:43:57.640Z"
   },
   {
    "duration": 40,
    "start_time": "2023-10-18T10:44:04.834Z"
   },
   {
    "duration": 37,
    "start_time": "2023-10-18T10:44:13.325Z"
   },
   {
    "duration": 41,
    "start_time": "2023-10-18T10:45:15.105Z"
   },
   {
    "duration": 39,
    "start_time": "2023-10-18T10:45:57.632Z"
   },
   {
    "duration": 8055,
    "start_time": "2023-10-18T10:48:46.347Z"
   },
   {
    "duration": 7,
    "start_time": "2023-10-18T10:50:53.466Z"
   },
   {
    "duration": 5205,
    "start_time": "2023-10-18T10:52:21.517Z"
   },
   {
    "duration": 70587,
    "start_time": "2023-10-18T10:52:58.533Z"
   },
   {
    "duration": 101429,
    "start_time": "2023-10-18T10:54:42.204Z"
   },
   {
    "duration": 3868,
    "start_time": "2023-10-18T10:59:56.801Z"
   },
   {
    "duration": 78626,
    "start_time": "2023-10-18T11:01:21.774Z"
   },
   {
    "duration": 108054,
    "start_time": "2023-10-18T11:03:17.716Z"
   },
   {
    "duration": 1781,
    "start_time": "2023-10-18T11:10:07.905Z"
   },
   {
    "duration": 119,
    "start_time": "2023-10-18T11:11:25.601Z"
   },
   {
    "duration": 44,
    "start_time": "2023-10-18T11:11:43.994Z"
   },
   {
    "duration": 118,
    "start_time": "2023-10-18T11:12:28.525Z"
   },
   {
    "duration": 13,
    "start_time": "2023-10-18T11:14:51.805Z"
   },
   {
    "duration": 1960,
    "start_time": "2023-10-18T11:15:18.908Z"
   },
   {
    "duration": 15,
    "start_time": "2023-10-18T11:15:44.311Z"
   },
   {
    "duration": 594,
    "start_time": "2023-10-18T11:15:53.110Z"
   },
   {
    "duration": 7744,
    "start_time": "2023-10-18T11:19:15.412Z"
   },
   {
    "duration": 23510,
    "start_time": "2023-10-18T11:22:24.814Z"
   },
   {
    "duration": 281,
    "start_time": "2023-10-18T11:27:11.632Z"
   },
   {
    "duration": 292,
    "start_time": "2023-10-18T11:27:26.835Z"
   },
   {
    "duration": 669,
    "start_time": "2023-10-18T11:30:47.114Z"
   },
   {
    "duration": 217,
    "start_time": "2023-10-18T11:30:56.001Z"
   },
   {
    "duration": 19,
    "start_time": "2023-10-18T11:32:50.416Z"
   },
   {
    "duration": 34,
    "start_time": "2023-10-18T11:32:51.350Z"
   },
   {
    "duration": 158,
    "start_time": "2023-10-18T11:33:51.015Z"
   },
   {
    "duration": 20,
    "start_time": "2023-10-18T11:35:39.819Z"
   },
   {
    "duration": 26,
    "start_time": "2023-10-18T11:36:18.065Z"
   },
   {
    "duration": 21,
    "start_time": "2023-10-18T11:36:51.434Z"
   },
   {
    "duration": 19,
    "start_time": "2023-10-18T11:37:43.875Z"
   },
   {
    "duration": 22,
    "start_time": "2023-10-18T11:37:57.510Z"
   },
   {
    "duration": 7124,
    "start_time": "2023-10-18T11:38:08.641Z"
   },
   {
    "duration": 23,
    "start_time": "2023-10-18T11:39:49.267Z"
   },
   {
    "duration": 70,
    "start_time": "2023-10-18T11:42:28.160Z"
   },
   {
    "duration": 65,
    "start_time": "2023-10-18T11:42:44.502Z"
   },
   {
    "duration": 89,
    "start_time": "2023-10-18T11:45:04.116Z"
   },
   {
    "duration": 20,
    "start_time": "2023-10-18T11:49:22.250Z"
   },
   {
    "duration": 19,
    "start_time": "2023-10-18T11:50:05.801Z"
   },
   {
    "duration": 17,
    "start_time": "2023-10-18T11:57:15.816Z"
   },
   {
    "duration": 50,
    "start_time": "2023-10-18T12:04:49.663Z"
   },
   {
    "duration": 48,
    "start_time": "2023-10-18T12:05:40.217Z"
   },
   {
    "duration": 13,
    "start_time": "2023-10-18T12:06:07.725Z"
   },
   {
    "duration": 58,
    "start_time": "2023-10-18T12:07:47.505Z"
   },
   {
    "duration": 2551,
    "start_time": "2023-10-18T15:09:31.521Z"
   },
   {
    "duration": 3604,
    "start_time": "2023-10-18T15:09:38.387Z"
   },
   {
    "duration": 19,
    "start_time": "2023-10-18T15:09:47.187Z"
   },
   {
    "duration": 232,
    "start_time": "2023-10-18T15:09:52.686Z"
   },
   {
    "duration": 113,
    "start_time": "2023-10-18T15:09:55.587Z"
   },
   {
    "duration": 3,
    "start_time": "2023-10-18T15:09:59.733Z"
   },
   {
    "duration": 5399,
    "start_time": "2023-10-18T15:10:04.357Z"
   },
   {
    "duration": 5,
    "start_time": "2023-10-18T15:10:13.114Z"
   },
   {
    "duration": 4,
    "start_time": "2023-10-18T15:10:49.305Z"
   },
   {
    "duration": 3793,
    "start_time": "2023-10-18T15:10:50.738Z"
   },
   {
    "duration": 4,
    "start_time": "2023-10-18T15:10:58.084Z"
   },
   {
    "duration": 1892,
    "start_time": "2023-10-18T15:25:19.558Z"
   },
   {
    "duration": 1066,
    "start_time": "2023-10-18T15:25:21.453Z"
   },
   {
    "duration": 42,
    "start_time": "2023-10-18T15:25:22.522Z"
   },
   {
    "duration": 268,
    "start_time": "2023-10-18T15:25:22.567Z"
   },
   {
    "duration": 123,
    "start_time": "2023-10-18T15:25:22.837Z"
   },
   {
    "duration": 3,
    "start_time": "2023-10-18T15:25:22.962Z"
   },
   {
    "duration": 4449,
    "start_time": "2023-10-18T15:25:22.966Z"
   },
   {
    "duration": 4,
    "start_time": "2023-10-18T15:25:27.416Z"
   },
   {
    "duration": 1227466,
    "start_time": "2023-10-18T15:25:27.422Z"
   },
   {
    "duration": 629,
    "start_time": "2023-10-18T15:45:54.892Z"
   },
   {
    "duration": 194,
    "start_time": "2023-10-18T15:45:55.523Z"
   },
   {
    "duration": 201,
    "start_time": "2023-10-18T15:45:55.719Z"
   },
   {
    "duration": 195,
    "start_time": "2023-10-18T15:45:55.922Z"
   },
   {
    "duration": 26,
    "start_time": "2023-10-18T15:45:56.119Z"
   },
   {
    "duration": 30,
    "start_time": "2023-10-18T15:45:56.147Z"
   },
   {
    "duration": 214,
    "start_time": "2023-10-18T15:45:56.179Z"
   },
   {
    "duration": 0,
    "start_time": "2023-10-18T15:45:56.395Z"
   },
   {
    "duration": 0,
    "start_time": "2023-10-18T15:45:56.396Z"
   },
   {
    "duration": 0,
    "start_time": "2023-10-18T15:45:56.397Z"
   },
   {
    "duration": 0,
    "start_time": "2023-10-18T15:45:56.399Z"
   },
   {
    "duration": 0,
    "start_time": "2023-10-18T15:45:56.400Z"
   },
   {
    "duration": 0,
    "start_time": "2023-10-18T15:45:56.401Z"
   },
   {
    "duration": 0,
    "start_time": "2023-10-18T15:45:56.403Z"
   },
   {
    "duration": 0,
    "start_time": "2023-10-18T15:45:56.405Z"
   },
   {
    "duration": 0,
    "start_time": "2023-10-18T15:45:56.406Z"
   },
   {
    "duration": 0,
    "start_time": "2023-10-18T15:45:56.408Z"
   },
   {
    "duration": 0,
    "start_time": "2023-10-18T15:45:56.409Z"
   },
   {
    "duration": 0,
    "start_time": "2023-10-18T15:45:56.411Z"
   },
   {
    "duration": 0,
    "start_time": "2023-10-18T15:45:56.413Z"
   },
   {
    "duration": 0,
    "start_time": "2023-10-18T15:45:56.414Z"
   },
   {
    "duration": 0,
    "start_time": "2023-10-18T15:45:56.416Z"
   },
   {
    "duration": 0,
    "start_time": "2023-10-18T15:45:56.446Z"
   },
   {
    "duration": 257,
    "start_time": "2023-10-18T16:00:11.354Z"
   },
   {
    "duration": 1816,
    "start_time": "2023-10-18T16:46:48.613Z"
   },
   {
    "duration": 1035,
    "start_time": "2023-10-18T16:46:50.431Z"
   },
   {
    "duration": 17,
    "start_time": "2023-10-18T16:46:51.468Z"
   },
   {
    "duration": 264,
    "start_time": "2023-10-18T16:46:51.487Z"
   },
   {
    "duration": 113,
    "start_time": "2023-10-18T16:46:51.753Z"
   },
   {
    "duration": 4,
    "start_time": "2023-10-18T16:46:51.868Z"
   },
   {
    "duration": 4157,
    "start_time": "2023-10-18T16:46:51.873Z"
   },
   {
    "duration": 5,
    "start_time": "2023-10-18T16:46:56.031Z"
   },
   {
    "duration": 1104836,
    "start_time": "2023-10-18T16:46:56.044Z"
   },
   {
    "duration": 595,
    "start_time": "2023-10-18T17:05:20.882Z"
   },
   {
    "duration": 190,
    "start_time": "2023-10-18T17:05:21.479Z"
   },
   {
    "duration": 192,
    "start_time": "2023-10-18T17:05:21.671Z"
   },
   {
    "duration": 177,
    "start_time": "2023-10-18T17:05:21.865Z"
   },
   {
    "duration": 12,
    "start_time": "2023-10-18T17:05:22.043Z"
   },
   {
    "duration": 26,
    "start_time": "2023-10-18T17:05:22.056Z"
   },
   {
    "duration": 526668,
    "start_time": "2023-10-18T17:05:22.084Z"
   },
   {
    "duration": 6973,
    "start_time": "2023-10-18T17:14:08.761Z"
   },
   {
    "duration": 5,
    "start_time": "2023-10-18T17:14:15.735Z"
   },
   {
    "duration": 3511,
    "start_time": "2023-10-18T17:14:15.741Z"
   },
   {
    "duration": 58884,
    "start_time": "2023-10-18T17:14:19.257Z"
   },
   {
    "duration": 85972,
    "start_time": "2023-10-18T17:15:18.144Z"
   },
   {
    "duration": 4015,
    "start_time": "2023-10-18T17:16:44.118Z"
   },
   {
    "duration": 66529,
    "start_time": "2023-10-18T17:16:48.135Z"
   },
   {
    "duration": 93668,
    "start_time": "2023-10-18T17:17:54.666Z"
   },
   {
    "duration": 113,
    "start_time": "2023-10-18T17:19:28.336Z"
   },
   {
    "duration": 37,
    "start_time": "2023-10-18T17:19:28.455Z"
   },
   {
    "duration": 115,
    "start_time": "2023-10-18T17:19:28.494Z"
   },
   {
    "duration": 1679,
    "start_time": "2023-10-18T17:19:28.613Z"
   },
   {
    "duration": 999,
    "start_time": "2023-10-18T17:19:30.294Z"
   },
   {
    "duration": 7091,
    "start_time": "2023-10-18T17:19:31.295Z"
   },
   {
    "duration": 20009,
    "start_time": "2023-10-18T17:19:38.388Z"
   },
   {
    "duration": 362,
    "start_time": "2023-10-18T17:19:58.399Z"
   },
   {
    "duration": 184,
    "start_time": "2023-10-18T17:20:31.526Z"
   },
   {
    "duration": 542801,
    "start_time": "2023-10-18T17:21:22.100Z"
   },
   {
    "duration": 494464,
    "start_time": "2023-10-18T17:43:08.433Z"
   },
   {
    "duration": 13,
    "start_time": "2023-10-18T17:55:08.554Z"
   },
   {
    "duration": 2544023,
    "start_time": "2023-10-18T17:55:19.658Z"
   },
   {
    "duration": 3773,
    "start_time": "2023-10-19T08:10:45.661Z"
   },
   {
    "duration": 2513,
    "start_time": "2023-10-19T08:10:49.436Z"
   },
   {
    "duration": 19,
    "start_time": "2023-10-19T08:10:51.950Z"
   },
   {
    "duration": 241,
    "start_time": "2023-10-19T08:10:51.972Z"
   },
   {
    "duration": 121,
    "start_time": "2023-10-19T08:10:52.215Z"
   },
   {
    "duration": 5,
    "start_time": "2023-10-19T08:10:52.338Z"
   },
   {
    "duration": 4167,
    "start_time": "2023-10-19T08:10:52.345Z"
   },
   {
    "duration": 10,
    "start_time": "2023-10-19T08:10:56.513Z"
   },
   {
    "duration": 1124473,
    "start_time": "2023-10-19T08:10:56.526Z"
   },
   {
    "duration": 631,
    "start_time": "2023-10-19T08:29:41.002Z"
   },
   {
    "duration": 186,
    "start_time": "2023-10-19T08:29:41.635Z"
   },
   {
    "duration": 191,
    "start_time": "2023-10-19T08:29:41.824Z"
   },
   {
    "duration": 185,
    "start_time": "2023-10-19T08:29:42.016Z"
   },
   {
    "duration": 13,
    "start_time": "2023-10-19T08:29:42.202Z"
   },
   {
    "duration": 52,
    "start_time": "2023-10-19T08:29:42.223Z"
   },
   {
    "duration": 484247,
    "start_time": "2023-10-19T08:29:42.277Z"
   },
   {
    "duration": 462923,
    "start_time": "2023-10-19T08:37:46.526Z"
   },
   {
    "duration": 2601847,
    "start_time": "2023-10-19T08:45:29.451Z"
   },
   {
    "duration": 2448,
    "start_time": "2023-10-19T13:32:43.722Z"
   },
   {
    "duration": 2507,
    "start_time": "2023-10-19T13:32:46.173Z"
   },
   {
    "duration": 28,
    "start_time": "2023-10-19T13:32:48.684Z"
   },
   {
    "duration": 273,
    "start_time": "2023-10-19T13:32:48.714Z"
   },
   {
    "duration": 114,
    "start_time": "2023-10-19T13:32:48.988Z"
   },
   {
    "duration": 3,
    "start_time": "2023-10-19T13:32:49.106Z"
   },
   {
    "duration": 4181,
    "start_time": "2023-10-19T13:32:49.111Z"
   },
   {
    "duration": 5,
    "start_time": "2023-10-19T13:32:53.293Z"
   },
   {
    "duration": 1206367,
    "start_time": "2023-10-19T13:32:53.307Z"
   },
   {
    "duration": 647,
    "start_time": "2023-10-19T13:52:59.676Z"
   },
   {
    "duration": 185,
    "start_time": "2023-10-19T13:53:00.325Z"
   },
   {
    "duration": 188,
    "start_time": "2023-10-19T13:53:00.512Z"
   },
   {
    "duration": 208,
    "start_time": "2023-10-19T13:53:00.706Z"
   },
   {
    "duration": 13,
    "start_time": "2023-10-19T13:53:00.916Z"
   },
   {
    "duration": 280,
    "start_time": "2023-10-19T13:53:00.930Z"
   },
   {
    "duration": 513860,
    "start_time": "2023-10-19T13:53:01.211Z"
   },
   {
    "duration": 499261,
    "start_time": "2023-10-19T14:01:35.073Z"
   },
   {
    "duration": 2588510,
    "start_time": "2023-10-19T14:09:54.336Z"
   },
   {
    "duration": 40350,
    "start_time": "2023-10-19T14:53:09.389Z"
   },
   {
    "duration": 1905,
    "start_time": "2023-10-19T14:54:38.705Z"
   },
   {
    "duration": 1020,
    "start_time": "2023-10-19T14:54:40.612Z"
   },
   {
    "duration": 16,
    "start_time": "2023-10-19T14:54:41.633Z"
   },
   {
    "duration": 235,
    "start_time": "2023-10-19T14:54:41.651Z"
   },
   {
    "duration": 117,
    "start_time": "2023-10-19T14:54:41.888Z"
   },
   {
    "duration": 4,
    "start_time": "2023-10-19T14:54:42.007Z"
   },
   {
    "duration": 3898,
    "start_time": "2023-10-19T14:54:42.013Z"
   },
   {
    "duration": 4,
    "start_time": "2023-10-19T14:54:45.913Z"
   },
   {
    "duration": 1099092,
    "start_time": "2023-10-19T14:54:45.919Z"
   },
   {
    "duration": 630,
    "start_time": "2023-10-19T15:13:05.014Z"
   },
   {
    "duration": 191,
    "start_time": "2023-10-19T15:13:05.645Z"
   },
   {
    "duration": 208,
    "start_time": "2023-10-19T15:13:05.838Z"
   },
   {
    "duration": 184,
    "start_time": "2023-10-19T15:13:06.048Z"
   },
   {
    "duration": 11,
    "start_time": "2023-10-19T15:13:06.234Z"
   },
   {
    "duration": 57,
    "start_time": "2023-10-19T15:13:06.247Z"
   },
   {
    "duration": 471902,
    "start_time": "2023-10-19T15:13:06.306Z"
   },
   {
    "duration": 452346,
    "start_time": "2023-10-19T15:20:58.209Z"
   },
   {
    "duration": 2397572,
    "start_time": "2023-10-19T15:28:30.557Z"
   },
   {
    "duration": 41138,
    "start_time": "2023-10-19T16:08:28.131Z"
   }
  ],
  "kernelspec": {
   "display_name": "Python 3 (ipykernel)",
   "language": "python",
   "name": "python3"
  },
  "language_info": {
   "codemirror_mode": {
    "name": "ipython",
    "version": 3
   },
   "file_extension": ".py",
   "mimetype": "text/x-python",
   "name": "python",
   "nbconvert_exporter": "python",
   "pygments_lexer": "ipython3",
   "version": "3.9.5"
  },
  "toc": {
   "base_numbering": 1,
   "nav_menu": {},
   "number_sections": true,
   "sideBar": true,
   "skip_h1_title": true,
   "title_cell": "Содержание",
   "title_sidebar": "Contents",
   "toc_cell": true,
   "toc_position": {
    "height": "calc(100% - 180px)",
    "left": "10px",
    "top": "150px",
    "width": "302.391px"
   },
   "toc_section_display": true,
   "toc_window_display": true
  }
 },
 "nbformat": 4,
 "nbformat_minor": 2
}
