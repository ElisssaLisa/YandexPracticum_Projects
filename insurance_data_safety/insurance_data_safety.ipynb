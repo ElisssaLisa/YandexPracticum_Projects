{
 "cells": [
  {
   "cell_type": "markdown",
   "metadata": {
    "toc": true
   },
   "source": [
    "<h1>Содержание<span class=\"tocSkip\"></span></h1>\n",
    "<div class=\"toc\"><ul class=\"toc-item\"><li><span><a href=\"#Загрузка-данных\" data-toc-modified-id=\"Загрузка-данных-1\"><span class=\"toc-item-num\">1&nbsp;&nbsp;</span>Загрузка данных</a></span></li><li><span><a href=\"#Умножение-матриц\" data-toc-modified-id=\"Умножение-матриц-2\"><span class=\"toc-item-num\">2&nbsp;&nbsp;</span>Умножение матриц</a></span></li><li><span><a href=\"#Алгоритм-преобразования\" data-toc-modified-id=\"Алгоритм-преобразования-3\"><span class=\"toc-item-num\">3&nbsp;&nbsp;</span>Алгоритм преобразования</a></span></li><li><span><a href=\"#Проверка-алгоритма\" data-toc-modified-id=\"Проверка-алгоритма-4\"><span class=\"toc-item-num\">4&nbsp;&nbsp;</span>Проверка алгоритма</a></span></li><li><span><a href=\"#Общий-вывод\" data-toc-modified-id=\"Общий-вывод-5\"><span class=\"toc-item-num\">5&nbsp;&nbsp;</span>Общий вывод</a></span><ul class=\"toc-item\"><li><ul class=\"toc-item\"><li><span><a href=\"#Этап-1.-Изучение-и-предобработка-данных.\" data-toc-modified-id=\"Этап-1.-Изучение-и-предобработка-данных.-5.0.1\"><span class=\"toc-item-num\">5.0.1&nbsp;&nbsp;</span>Этап 1. Изучение и предобработка данных.</a></span></li><li><span><a href=\"#Этап-2.-Умножение-матриц.\" data-toc-modified-id=\"Этап-2.-Умножение-матриц.-5.0.2\"><span class=\"toc-item-num\">5.0.2&nbsp;&nbsp;</span>Этап 2. Умножение матриц.</a></span></li><li><span><a href=\"#Этап-3.-Алгоритм-преобразования.\" data-toc-modified-id=\"Этап-3.-Алгоритм-преобразования.-5.0.3\"><span class=\"toc-item-num\">5.0.3&nbsp;&nbsp;</span>Этап 3. Алгоритм преобразования.</a></span></li></ul></li></ul></li><li><span><a href=\"#Чек-лист-проверки\" data-toc-modified-id=\"Чек-лист-проверки-6\"><span class=\"toc-item-num\">6&nbsp;&nbsp;</span>Чек-лист проверки</a></span></li></ul></div>"
   ]
  },
  {
   "cell_type": "markdown",
   "metadata": {},
   "source": [
    "# Защита персональных данных клиентов"
   ]
  },
  {
   "cell_type": "markdown",
   "metadata": {},
   "source": [
    "Вам нужно защитить данные клиентов страховой компании «Хоть потоп». Разработайте такой метод преобразования данных, чтобы по ним было сложно восстановить персональную информацию. Обоснуйте корректность его работы.\n",
    "\n",
    "Нужно защитить данные, чтобы при преобразовании качество моделей машинного обучения не ухудшилось. Подбирать наилучшую модель не требуется."
   ]
  },
  {
   "cell_type": "markdown",
   "metadata": {},
   "source": [
    "###### Цель исследования:\n",
    "Защитить данные клиентов страховой компании «Хоть потоп».\n",
    "\n",
    "###### Ход исследования:\n",
    "1. Открыть и изучить предоставленные данные и подготовить их к исследованию.\n",
    "2. Теоретически проверить, изменится ли качество линейной регрессии при умножении признаков на обратимую матрицу. Обосновать решение.\n",
    "3. Предложите алгоритм преобразования данных для решения задачи.\n",
    "4. Запрограммировать этот алгоритм. Проверить, что качество линейной регрессии не отличается до и после преобразования (используя метрику R2).\n",
    "6. Сделать вывод. "
   ]
  },
  {
   "cell_type": "markdown",
   "metadata": {},
   "source": [
    "## Загрузка данных"
   ]
  },
  {
   "cell_type": "markdown",
   "metadata": {},
   "source": [
    "1. Импортируем библиотеки, которые понадобятся в ходе работы."
   ]
  },
  {
   "cell_type": "code",
   "execution_count": 1,
   "metadata": {},
   "outputs": [],
   "source": [
    "import pandas as pd\n",
    "import numpy as np\n",
    "from sklearn.model_selection import train_test_split\n",
    "from sklearn.linear_model import LinearRegression\n",
    "from sklearn.metrics import r2_score"
   ]
  },
  {
   "cell_type": "markdown",
   "metadata": {},
   "source": [
    "2. Загрузим датасет и изучим информацию о нем."
   ]
  },
  {
   "cell_type": "code",
   "execution_count": 2,
   "metadata": {},
   "outputs": [
    {
     "name": "stdout",
     "output_type": "stream",
     "text": [
      "   Пол  Возраст  Зарплата  Члены семьи  Страховые выплаты\n",
      "0    1     41.0   49600.0            1                  0\n",
      "1    0     46.0   38000.0            1                  1\n",
      "2    0     29.0   21000.0            0                  0\n",
      "3    0     21.0   41700.0            2                  0\n",
      "4    1     28.0   26100.0            0                  0\n",
      "5    1     43.0   41000.0            2                  1\n",
      "6    1     39.0   39700.0            2                  0\n",
      "7    1     25.0   38600.0            4                  0\n",
      "8    1     36.0   49700.0            1                  0\n",
      "9    1     32.0   51700.0            1                  0\n",
      "<class 'pandas.core.frame.DataFrame'>\n",
      "RangeIndex: 5000 entries, 0 to 4999\n",
      "Data columns (total 5 columns):\n",
      " #   Column             Non-Null Count  Dtype  \n",
      "---  ------             --------------  -----  \n",
      " 0   Пол                5000 non-null   int64  \n",
      " 1   Возраст            5000 non-null   float64\n",
      " 2   Зарплата           5000 non-null   float64\n",
      " 3   Члены семьи        5000 non-null   int64  \n",
      " 4   Страховые выплаты  5000 non-null   int64  \n",
      "dtypes: float64(2), int64(3)\n",
      "memory usage: 195.4 KB\n",
      "None\n",
      "               Пол      Возраст      Зарплата  Члены семьи  Страховые выплаты\n",
      "count  5000.000000  5000.000000   5000.000000  5000.000000        5000.000000\n",
      "mean      0.499000    30.952800  39916.360000     1.194200           0.148000\n",
      "std       0.500049     8.440807   9900.083569     1.091387           0.463183\n",
      "min       0.000000    18.000000   5300.000000     0.000000           0.000000\n",
      "25%       0.000000    24.000000  33300.000000     0.000000           0.000000\n",
      "50%       0.000000    30.000000  40200.000000     1.000000           0.000000\n",
      "75%       1.000000    37.000000  46600.000000     2.000000           0.000000\n",
      "max       1.000000    65.000000  79000.000000     6.000000           5.000000\n"
     ]
    }
   ],
   "source": [
    "data = pd.read_csv('/datasets/insurance.csv')\n",
    "print(data.head(10))\n",
    "print(data.info())\n",
    "print(data.describe())"
   ]
  },
  {
   "cell_type": "markdown",
   "metadata": {},
   "source": [
    "В целом данные выглядят адекватно(информация в таблице содержится согласно документации), пропусков не обнаружено. Типы данных тоже в норме. Проверим на явные дубликаты. "
   ]
  },
  {
   "cell_type": "code",
   "execution_count": 3,
   "metadata": {},
   "outputs": [
    {
     "data": {
      "text/plain": [
       "153"
      ]
     },
     "execution_count": 3,
     "metadata": {},
     "output_type": "execute_result"
    }
   ],
   "source": [
    "data.duplicated().sum()"
   ]
  },
  {
   "cell_type": "markdown",
   "metadata": {},
   "source": [
    "В ходе проверки обнаружены дубликаты. Полное совпадение данных очень подозрительно и, скорее всего, маловероятно, поэтому считаю, что дубликаты лучше удалить."
   ]
  },
  {
   "cell_type": "code",
   "execution_count": 4,
   "metadata": {},
   "outputs": [
    {
     "data": {
      "text/plain": [
       "153"
      ]
     },
     "execution_count": 4,
     "metadata": {},
     "output_type": "execute_result"
    }
   ],
   "source": [
    "data.drop_duplicates()\n",
    "data.duplicated().sum()"
   ]
  },
  {
   "cell_type": "code",
   "execution_count": 5,
   "metadata": {},
   "outputs": [
    {
     "name": "stdout",
     "output_type": "stream",
     "text": [
      "<class 'pandas.core.frame.DataFrame'>\n",
      "RangeIndex: 5000 entries, 0 to 4999\n",
      "Data columns (total 5 columns):\n",
      " #   Column             Non-Null Count  Dtype  \n",
      "---  ------             --------------  -----  \n",
      " 0   Пол                5000 non-null   int64  \n",
      " 1   Возраст            5000 non-null   float64\n",
      " 2   Зарплата           5000 non-null   float64\n",
      " 3   Члены семьи        5000 non-null   int64  \n",
      " 4   Страховые выплаты  5000 non-null   int64  \n",
      "dtypes: float64(2), int64(3)\n",
      "memory usage: 195.4 KB\n"
     ]
    }
   ],
   "source": [
    "data.info()"
   ]
  },
  {
   "cell_type": "markdown",
   "metadata": {},
   "source": [
    "Вывод: В ходе первичного исследования данных были обнаружены полные дубликаты. Строки с дублирующимися данными были удалены. Масштабирование признаков и проверку на баланс классов проводить не будем, т.к. нет задачи добиться максимального качества модели, нужно лишь проверить влияние на качество модели линейной регресии умножения признаков на обратимую матрицу. В остальном данные готовы для дальнейших исследований."
   ]
  },
  {
   "cell_type": "markdown",
   "metadata": {},
   "source": [
    "## Умножение матриц"
   ]
  },
  {
   "cell_type": "markdown",
   "metadata": {},
   "source": [
    "Обозначения:\n",
    "\n",
    "- $X$ — матрица признаков (нулевой столбец состоит из единиц)\n",
    "\n",
    "- $y$ — вектор целевого признака\n",
    "\n",
    "- $P$ — матрица, на которую умножаются признаки\n",
    "\n",
    "- $w$ — вектор весов линейной регрессии (нулевой элемент равен сдвигу)"
   ]
  },
  {
   "cell_type": "markdown",
   "metadata": {},
   "source": [
    "Предсказания:\n",
    "\n",
    "$$\n",
    "a = Xw\n",
    "$$\n",
    "\n",
    "Задача обучения:\n",
    "\n",
    "$$\n",
    "w = \\arg\\min_w MSE(Xw, y)\n",
    "$$\n",
    "\n",
    "Формула обучения:\n",
    "\n",
    "$$\n",
    "w = (X^T X)^{-1} X^T y\n",
    "$$"
   ]
  },
  {
   "cell_type": "markdown",
   "metadata": {},
   "source": [
    "**Ответ:** Не изменится\n",
    "\n",
    "**Обоснование:** В данном случае, нам нужно доказать, что если матрицу признаков (X) умножить на обратимую матрицу (P), то качество линейной регрессии не изменится, а значит \n",
    "$$\n",
    "a = a_P = Xw = Xw_P\n",
    "$$\n",
    "\n",
    "\n",
    "Т.к. $ a = Xw = X(X^T X)^{-1} X^T y $ , нужно доказать, что $ X(X^T X)^{-1} X^T y = XP((XP)^T XP)^{-1} (XP)^T y $\n",
    "\n",
    "\n",
    "Для этого еще раз выпишем формулу, в которой мы домножили матрицу признаков (Х) на обратимую мартицу (Р):\n",
    "$$\n",
    "XP((XP)^T XP)^{-1} (XP)^T y = XP(X^T P^T XP)^{-1} X^T P^T y\n",
    "$$\n",
    "\n",
    "мы знаем, что по свойствам матриц, произведение матрицы $P$ на обратную мартицу $P^{-1}$будет равно единичной мартице Е. А при умножении матрицы Х на единичную получится эта же матрица Х. Поэтому вынесем за скобки значения, которые мы сможем сократить:\n",
    "$$\n",
    "XP(X^T P^T XP)^{-1} X^T P^T y = XPP^{-1} (X^T X)^{-1} (P^T)^{-1} X^T P^T y = \n",
    "= XE(X^T X)^{-1} X^T E y = X(X^T X)^{-1} X^T y\n",
    "$$\n",
    "\n",
    "Таким образом мы получили:\n",
    "$$\n",
    "XP((XP)^T XP)^{-1} (XP)^T y = X(X^T X)^{-1} X^T y = Xw = a\n",
    "$$\n",
    "\n",
    "При умножении признаков на обратимую матрицу параметры линейной регресии не изменятся, соответственно не изменится и качество. "
   ]
  },
  {
   "cell_type": "markdown",
   "metadata": {},
   "source": [
    "## Алгоритм преобразования"
   ]
  },
  {
   "cell_type": "markdown",
   "metadata": {},
   "source": [
    "**Алгоритм**\n",
    "\n",
    "Для того, чтобы защитить данные клиентов страховой компании «Хоть потоп», мы зашифруем их, умножив на произвольную обратимую квадратную матрицу. Важно будет учесть следующие моменты:\n",
    "- произвольная матрица должна содержать количество строк равное количеству признаков в нашей таблице;\n",
    "- необходимо проверить, является ли случайная матрица обратимой, во избежание конфузов."
   ]
  },
  {
   "cell_type": "markdown",
   "metadata": {},
   "source": [
    "**Обоснование**\n",
    "\n",
    "В предыдущем пункте мы уже доказали, что умножение признаков на обратимую матрицу никак не повлияет на качество модели линейной регрессии, поэтому можем приступать к шифрованию данных и проверки этоого алгоритма."
   ]
  },
  {
   "cell_type": "markdown",
   "metadata": {},
   "source": [
    "## Проверка алгоритма"
   ]
  },
  {
   "cell_type": "markdown",
   "metadata": {},
   "source": [
    "1. Разделим нашу таблицу на признаки и целевой признак (столбец Страховые выплаты)"
   ]
  },
  {
   "cell_type": "code",
   "execution_count": 6,
   "metadata": {},
   "outputs": [
    {
     "name": "stdout",
     "output_type": "stream",
     "text": [
      "(5000, 4)\n",
      "(5000,)\n"
     ]
    }
   ],
   "source": [
    "features = data.drop('Страховые выплаты', axis=1)\n",
    "target = data['Страховые выплаты']\n",
    "print(features.shape)\n",
    "print(target.shape)"
   ]
  },
  {
   "cell_type": "markdown",
   "metadata": {},
   "source": [
    "2. Разделим данные на обучающую и тестовую выборки"
   ]
  },
  {
   "cell_type": "code",
   "execution_count": 7,
   "metadata": {},
   "outputs": [],
   "source": [
    "features_train, features_test, target_train, target_test = train_test_split(features, target, \n",
    "                                                                            test_size=0.25, random_state=12345) "
   ]
  },
  {
   "cell_type": "code",
   "execution_count": 8,
   "metadata": {},
   "outputs": [
    {
     "name": "stdout",
     "output_type": "stream",
     "text": [
      "(3750, 4)\n",
      "(3750,)\n"
     ]
    }
   ],
   "source": [
    "print(features_train.shape)\n",
    "print(target_train.shape)"
   ]
  },
  {
   "cell_type": "code",
   "execution_count": 9,
   "metadata": {},
   "outputs": [
    {
     "name": "stdout",
     "output_type": "stream",
     "text": [
      "(1250, 4)\n",
      "(1250,)\n"
     ]
    }
   ],
   "source": [
    "print(features_test.shape)\n",
    "print(target_test.shape)"
   ]
  },
  {
   "cell_type": "markdown",
   "metadata": {},
   "source": [
    "3. Обучим модель на исходных данных и вычислим показатель качества модели, используя метрику R2"
   ]
  },
  {
   "cell_type": "code",
   "execution_count": 10,
   "metadata": {},
   "outputs": [
    {
     "name": "stdout",
     "output_type": "stream",
     "text": [
      "Метрика R2 исходных данных: -0.2869270212348396\n"
     ]
    }
   ],
   "source": [
    "model = LinearRegression()\n",
    "model.fit(features_train, target_train)\n",
    "predictions = model.predict(features_test)\n",
    "print('Метрика R2 исходных данных:', r2_score(predictions, target_test))"
   ]
  },
  {
   "cell_type": "markdown",
   "metadata": {},
   "source": [
    "Качество модели получилось очень низкое, но в данном случае, нам это не так важно. Наша цель - убедиться, что при шифровке данных, метрика не изменится."
   ]
  },
  {
   "cell_type": "markdown",
   "metadata": {},
   "source": [
    "4. Подготовим данные для шифрования:"
   ]
  },
  {
   "cell_type": "code",
   "execution_count": 11,
   "metadata": {},
   "outputs": [
    {
     "data": {
      "text/plain": [
       "array([[1.00e+00, 4.10e+01, 4.96e+04, 1.00e+00],\n",
       "       [0.00e+00, 4.60e+01, 3.80e+04, 1.00e+00],\n",
       "       [0.00e+00, 2.90e+01, 2.10e+04, 0.00e+00],\n",
       "       ...,\n",
       "       [0.00e+00, 2.00e+01, 3.39e+04, 2.00e+00],\n",
       "       [1.00e+00, 2.20e+01, 3.27e+04, 3.00e+00],\n",
       "       [1.00e+00, 2.80e+01, 4.06e+04, 1.00e+00]])"
      ]
     },
     "execution_count": 11,
     "metadata": {},
     "output_type": "execute_result"
    }
   ],
   "source": [
    "# преобразуем признаки в матрицу\n",
    "features_matrix = features.values\n",
    "features_matrix"
   ]
  },
  {
   "cell_type": "code",
   "execution_count": 12,
   "metadata": {},
   "outputs": [
    {
     "data": {
      "text/plain": [
       "array([[-0.05245211, -0.69005572, -0.42068942, -0.29179579],\n",
       "       [ 1.01176823, -1.36426529, -0.07305482,  0.19985994],\n",
       "       [-1.20472425,  1.76693156, -0.06930627,  1.35018487],\n",
       "       [-2.19873042,  1.02589579,  0.95080617, -1.70987103]])"
      ]
     },
     "execution_count": 12,
     "metadata": {},
     "output_type": "execute_result"
    }
   ],
   "source": [
    "# Создадим рандомную квадратную матрицу с количеством строк, равным количеству признаков\n",
    "random_matrix = np.random.normal(size=(4, 4))\n",
    "random_matrix"
   ]
  },
  {
   "cell_type": "code",
   "execution_count": 13,
   "metadata": {},
   "outputs": [
    {
     "data": {
      "text/plain": [
       "array([[-0.76551666, -0.73844803, -0.61356109, -0.44016918],\n",
       "       [-0.50677967, -1.2091372 , -0.36593506, -0.34380481],\n",
       "       [-1.38718327,  1.38556237,  0.2033495 ,  0.55925392],\n",
       "       [-0.09104826,  0.99457831,  0.68250186,  0.08588223]])"
      ]
     },
     "execution_count": 13,
     "metadata": {},
     "output_type": "execute_result"
    }
   ],
   "source": [
    "# Проверим полученную матрицу на обратимость (если матрица не обратима, код выдаст ошибку)\n",
    "np.linalg.inv(random_matrix)"
   ]
  },
  {
   "cell_type": "code",
   "execution_count": 14,
   "metadata": {},
   "outputs": [
    {
     "data": {
      "text/plain": [
       "array([[-59715.0913194 ,  87584.20619696,  -3440.05634496,\n",
       "         66975.36197809],\n",
       "       [-45735.17876484,  67081.66886352,  -2636.04814567,\n",
       "         51314.50862007],\n",
       "       [-25269.86790113,  37065.9990064 ,  -1457.55035378,\n",
       "         28359.67813855],\n",
       "       ...,\n",
       "       [-40824.31405802,  59873.74627256,  -2349.04218887,\n",
       "         45771.84443722],\n",
       "       [-39378.87260809,  57751.0357135 ,  -2265.49065238,\n",
       "         44150.02065026],\n",
       "       [-48885.72608648,  71699.55763153,  -2815.35016202,\n",
       "         54821.09999875]])"
      ]
     },
     "execution_count": 14,
     "metadata": {},
     "output_type": "execute_result"
    }
   ],
   "source": [
    "# Умножим матрицу признаков на сгенерированную случайную матрицу\n",
    "features_matrix_encoded = np.dot(features_matrix, random_matrix)\n",
    "features_matrix_encoded"
   ]
  },
  {
   "cell_type": "code",
   "execution_count": 15,
   "metadata": {},
   "outputs": [
    {
     "data": {
      "text/html": [
       "<div>\n",
       "<style scoped>\n",
       "    .dataframe tbody tr th:only-of-type {\n",
       "        vertical-align: middle;\n",
       "    }\n",
       "\n",
       "    .dataframe tbody tr th {\n",
       "        vertical-align: top;\n",
       "    }\n",
       "\n",
       "    .dataframe thead th {\n",
       "        text-align: right;\n",
       "    }\n",
       "</style>\n",
       "<table border=\"1\" class=\"dataframe\">\n",
       "  <thead>\n",
       "    <tr style=\"text-align: right;\">\n",
       "      <th></th>\n",
       "      <th>0</th>\n",
       "      <th>1</th>\n",
       "      <th>2</th>\n",
       "      <th>3</th>\n",
       "    </tr>\n",
       "  </thead>\n",
       "  <tbody>\n",
       "    <tr>\n",
       "      <th>0</th>\n",
       "      <td>-59715.091319</td>\n",
       "      <td>87584.206197</td>\n",
       "      <td>-3440.056345</td>\n",
       "      <td>66975.361978</td>\n",
       "    </tr>\n",
       "    <tr>\n",
       "      <th>1</th>\n",
       "      <td>-45735.178765</td>\n",
       "      <td>67081.668864</td>\n",
       "      <td>-2636.048146</td>\n",
       "      <td>51314.508620</td>\n",
       "    </tr>\n",
       "    <tr>\n",
       "      <th>2</th>\n",
       "      <td>-25269.867901</td>\n",
       "      <td>37065.999006</td>\n",
       "      <td>-1457.550354</td>\n",
       "      <td>28359.678139</td>\n",
       "    </tr>\n",
       "    <tr>\n",
       "      <th>3</th>\n",
       "      <td>-50220.151414</td>\n",
       "      <td>73654.448153</td>\n",
       "      <td>-2889.704185</td>\n",
       "      <td>56303.486257</td>\n",
       "    </tr>\n",
       "    <tr>\n",
       "      <th>4</th>\n",
       "      <td>-31415.025779</td>\n",
       "      <td>46078.024157</td>\n",
       "      <td>-1811.359988</td>\n",
       "      <td>35245.129303</td>\n",
       "    </tr>\n",
       "  </tbody>\n",
       "</table>\n",
       "</div>"
      ],
      "text/plain": [
       "              0             1            2             3\n",
       "0 -59715.091319  87584.206197 -3440.056345  66975.361978\n",
       "1 -45735.178765  67081.668864 -2636.048146  51314.508620\n",
       "2 -25269.867901  37065.999006 -1457.550354  28359.678139\n",
       "3 -50220.151414  73654.448153 -2889.704185  56303.486257\n",
       "4 -31415.025779  46078.024157 -1811.359988  35245.129303"
      ]
     },
     "execution_count": 15,
     "metadata": {},
     "output_type": "execute_result"
    }
   ],
   "source": [
    "# Преобразуем полученную зашифрованную матрицу в DataFrame\n",
    "features_encoded = pd.DataFrame(features_matrix_encoded)\n",
    "features_encoded.head()"
   ]
  },
  {
   "cell_type": "code",
   "execution_count": 16,
   "metadata": {},
   "outputs": [],
   "source": [
    "# Разделим зашифрованные данные на обучающую и тестовую выборки, в той же пропорции, что и делили исходные данные\n",
    "# целевой признак у нас уже подготовлен\n",
    "features_encoded_train, features_encoded_test = train_test_split(features_encoded, test_size=0.25, \n",
    "                                                                 random_state=12345) "
   ]
  },
  {
   "cell_type": "code",
   "execution_count": 17,
   "metadata": {},
   "outputs": [
    {
     "name": "stdout",
     "output_type": "stream",
     "text": [
      "(3750, 4)\n",
      "(1250, 4)\n"
     ]
    }
   ],
   "source": [
    "print(features_encoded_train.shape)\n",
    "print(features_encoded_test.shape)"
   ]
  },
  {
   "cell_type": "code",
   "execution_count": 18,
   "metadata": {},
   "outputs": [
    {
     "name": "stdout",
     "output_type": "stream",
     "text": [
      "Метрика R2 преобразованных данных: -0.2869270212305002\n"
     ]
    }
   ],
   "source": [
    "# Обучим модель на преобразованных данных и вычислим показатель качества модели, используя метрику R2\n",
    "model_encoded = LinearRegression()\n",
    "model_encoded.fit(features_encoded_train, target_train)\n",
    "predictions_encoded = model_encoded.predict(features_encoded_test)\n",
    "print('Метрика R2 преобразованных данных:', r2_score(predictions_encoded, target_test))"
   ]
  },
  {
   "cell_type": "code",
   "execution_count": 19,
   "metadata": {},
   "outputs": [
    {
     "name": "stdout",
     "output_type": "stream",
     "text": [
      "Метрика R2 исходных данных: -0.2869270212348396\n",
      "Метрика R2 преобразованных данных: -0.2869270212305002\n"
     ]
    }
   ],
   "source": [
    "# Сравним полученные метрики\n",
    "print('Метрика R2 исходных данных:', r2_score(predictions, target_test))\n",
    "print('Метрика R2 преобразованных данных:', r2_score(predictions_encoded, target_test))"
   ]
  },
  {
   "cell_type": "markdown",
   "metadata": {},
   "source": [
    "Вывод: Значение метрики качества модели - R2 - совпало в исходных и преобразованных данных(с небольшой погрешностью). На практике мы получили тот же результат, как и в теоретических расчетах выше. "
   ]
  },
  {
   "cell_type": "markdown",
   "metadata": {},
   "source": [
    "## Общий вывод\n",
    "\n",
    "#### Этап 1. Изучение и предобработка данных.\n",
    "В ходе данного этапа был открыт файл и изучены данные в нем. Были удалены, обнаруженные в ходе изучения, дубликаты. В остальном данные соответствовали документации.\n",
    "\n",
    "\n",
    "#### Этап 2. Умножение матриц.\n",
    "В ходе этого этапа математически было доказано отсутствие влияния на качество модели линейной регресии умножения признаков на обратимую матрицу. \n",
    "\n",
    "#### Этап 3. Алгоритм преобразования.\n",
    "\n",
    "Был предложен алгоритм преобразования - умножение признаков на случайную обратимую квадратную матрицу. А так же этот алгоритм был проверен на практике. В результате метрики R2 у модели, обученной на исходных данных, и у модели, обученной на преобразованных данных, получилась равны."
   ]
  },
  {
   "cell_type": "markdown",
   "metadata": {},
   "source": [
    "## Чек-лист проверки"
   ]
  },
  {
   "cell_type": "markdown",
   "metadata": {},
   "source": [
    "Поставьте 'x' в выполненных пунктах. Далее нажмите Shift+Enter."
   ]
  },
  {
   "cell_type": "markdown",
   "metadata": {},
   "source": [
    "- [x]  Jupyter Notebook открыт\n",
    "- [ ]  Весь код выполняется без ошибок\n",
    "- [ ]  Ячейки с кодом расположены в порядке исполнения\n",
    "- [ ]  Выполнен шаг 1: данные загружены\n",
    "- [ ]  Выполнен шаг 2: получен ответ на вопрос об умножении матриц\n",
    "    - [ ]  Указан правильный вариант ответа\n",
    "    - [ ]  Вариант обоснован\n",
    "- [ ]  Выполнен шаг 3: предложен алгоритм преобразования\n",
    "    - [ ]  Алгоритм описан\n",
    "    - [ ]  Алгоритм обоснован\n",
    "- [ ]  Выполнен шаг 4: алгоритм проверен\n",
    "    - [ ]  Алгоритм реализован\n",
    "    - [ ]  Проведено сравнение качества моделей до и после преобразования"
   ]
  },
  {
   "cell_type": "code",
   "execution_count": null,
   "metadata": {},
   "outputs": [],
   "source": []
  }
 ],
 "metadata": {
  "ExecuteTimeLog": [
   {
    "duration": 476,
    "start_time": "2023-09-08T11:01:34.022Z"
   },
   {
    "duration": 119,
    "start_time": "2023-09-08T11:03:52.420Z"
   },
   {
    "duration": 56,
    "start_time": "2023-09-08T11:05:59.670Z"
   },
   {
    "duration": 14,
    "start_time": "2023-09-08T11:09:47.088Z"
   },
   {
    "duration": 8,
    "start_time": "2023-09-08T11:15:22.795Z"
   },
   {
    "duration": 16,
    "start_time": "2023-09-08T11:15:34.698Z"
   },
   {
    "duration": 9,
    "start_time": "2023-09-08T11:18:15.280Z"
   },
   {
    "duration": 15,
    "start_time": "2023-09-08T11:18:16.122Z"
   },
   {
    "duration": 5,
    "start_time": "2023-09-08T12:03:32.759Z"
   },
   {
    "duration": 6,
    "start_time": "2023-09-08T12:04:14.073Z"
   },
   {
    "duration": 713,
    "start_time": "2023-09-08T12:07:49.060Z"
   },
   {
    "duration": 6,
    "start_time": "2023-09-08T12:11:15.559Z"
   },
   {
    "duration": 3,
    "start_time": "2023-09-08T12:11:26.014Z"
   },
   {
    "duration": 3,
    "start_time": "2023-09-08T12:11:46.691Z"
   },
   {
    "duration": 125,
    "start_time": "2023-09-08T12:25:36.542Z"
   },
   {
    "duration": 26,
    "start_time": "2023-09-08T12:25:49.089Z"
   },
   {
    "duration": 1202,
    "start_time": "2023-09-08T12:25:57.076Z"
   },
   {
    "duration": 58,
    "start_time": "2023-09-08T12:25:58.280Z"
   },
   {
    "duration": 11,
    "start_time": "2023-09-08T12:25:58.339Z"
   },
   {
    "duration": 55,
    "start_time": "2023-09-08T12:25:58.352Z"
   },
   {
    "duration": 27,
    "start_time": "2023-09-08T12:25:58.409Z"
   },
   {
    "duration": 12,
    "start_time": "2023-09-08T12:25:58.438Z"
   },
   {
    "duration": 25,
    "start_time": "2023-09-08T12:25:58.453Z"
   },
   {
    "duration": 17,
    "start_time": "2023-09-08T12:25:58.480Z"
   },
   {
    "duration": 19,
    "start_time": "2023-09-08T12:25:58.498Z"
   },
   {
    "duration": 37,
    "start_time": "2023-09-08T12:25:58.519Z"
   },
   {
    "duration": 5,
    "start_time": "2023-09-08T12:29:51.417Z"
   },
   {
    "duration": 4,
    "start_time": "2023-09-08T12:36:12.243Z"
   },
   {
    "duration": 4,
    "start_time": "2023-09-08T12:36:18.632Z"
   },
   {
    "duration": 118,
    "start_time": "2023-09-08T12:38:15.070Z"
   },
   {
    "duration": 171,
    "start_time": "2023-09-08T12:38:21.967Z"
   },
   {
    "duration": 85,
    "start_time": "2023-09-08T12:38:32.671Z"
   },
   {
    "duration": 1206,
    "start_time": "2023-09-08T12:40:34.173Z"
   },
   {
    "duration": 67,
    "start_time": "2023-09-08T12:40:35.381Z"
   },
   {
    "duration": 22,
    "start_time": "2023-09-08T12:40:35.450Z"
   },
   {
    "duration": 9,
    "start_time": "2023-09-08T12:40:35.473Z"
   },
   {
    "duration": 18,
    "start_time": "2023-09-08T12:40:35.484Z"
   },
   {
    "duration": 4,
    "start_time": "2023-09-08T12:40:35.505Z"
   },
   {
    "duration": 8,
    "start_time": "2023-09-08T12:40:35.511Z"
   },
   {
    "duration": 27,
    "start_time": "2023-09-08T12:40:35.520Z"
   },
   {
    "duration": 11,
    "start_time": "2023-09-08T12:40:35.552Z"
   },
   {
    "duration": 11,
    "start_time": "2023-09-08T12:40:35.565Z"
   },
   {
    "duration": 5,
    "start_time": "2023-09-08T12:40:35.577Z"
   },
   {
    "duration": 77,
    "start_time": "2023-09-08T12:40:35.583Z"
   },
   {
    "duration": 5,
    "start_time": "2023-09-08T12:40:41.571Z"
   },
   {
    "duration": 5,
    "start_time": "2023-09-08T12:41:48.799Z"
   },
   {
    "duration": 6,
    "start_time": "2023-09-08T12:46:52.498Z"
   },
   {
    "duration": 14,
    "start_time": "2023-09-08T12:48:37.969Z"
   },
   {
    "duration": 6,
    "start_time": "2023-09-08T12:51:10.597Z"
   },
   {
    "duration": 4,
    "start_time": "2023-09-08T12:52:00.779Z"
   },
   {
    "duration": 8,
    "start_time": "2023-09-08T12:53:48.568Z"
   },
   {
    "duration": 10,
    "start_time": "2023-09-08T12:54:09.779Z"
   },
   {
    "duration": 1147,
    "start_time": "2023-09-08T12:54:18.332Z"
   },
   {
    "duration": 57,
    "start_time": "2023-09-08T12:54:19.481Z"
   },
   {
    "duration": 10,
    "start_time": "2023-09-08T12:54:19.540Z"
   },
   {
    "duration": 21,
    "start_time": "2023-09-08T12:54:19.551Z"
   },
   {
    "duration": 36,
    "start_time": "2023-09-08T12:54:19.574Z"
   },
   {
    "duration": 37,
    "start_time": "2023-09-08T12:54:19.612Z"
   },
   {
    "duration": 85,
    "start_time": "2023-09-08T12:54:19.651Z"
   },
   {
    "duration": 28,
    "start_time": "2023-09-08T12:54:19.738Z"
   },
   {
    "duration": 40,
    "start_time": "2023-09-08T12:54:19.768Z"
   },
   {
    "duration": 11,
    "start_time": "2023-09-08T12:54:19.810Z"
   },
   {
    "duration": 41,
    "start_time": "2023-09-08T12:54:19.823Z"
   },
   {
    "duration": 20,
    "start_time": "2023-09-08T12:54:19.866Z"
   },
   {
    "duration": 36,
    "start_time": "2023-09-08T12:54:19.887Z"
   },
   {
    "duration": 9,
    "start_time": "2023-09-08T12:54:19.926Z"
   },
   {
    "duration": 101,
    "start_time": "2023-09-08T12:54:19.948Z"
   },
   {
    "duration": 20,
    "start_time": "2023-09-08T12:54:20.051Z"
   },
   {
    "duration": 18,
    "start_time": "2023-09-08T12:54:20.073Z"
   },
   {
    "duration": 32,
    "start_time": "2023-09-08T12:54:20.092Z"
   },
   {
    "duration": 6,
    "start_time": "2023-09-08T12:56:56.035Z"
   },
   {
    "duration": 3,
    "start_time": "2023-09-08T12:56:56.670Z"
   },
   {
    "duration": 9,
    "start_time": "2023-09-08T12:57:28.258Z"
   },
   {
    "duration": 1223,
    "start_time": "2023-09-08T12:58:15.209Z"
   },
   {
    "duration": 56,
    "start_time": "2023-09-08T12:58:16.434Z"
   },
   {
    "duration": 10,
    "start_time": "2023-09-08T12:58:16.492Z"
   },
   {
    "duration": 7,
    "start_time": "2023-09-08T12:58:16.504Z"
   },
   {
    "duration": 20,
    "start_time": "2023-09-08T12:58:16.513Z"
   },
   {
    "duration": 5,
    "start_time": "2023-09-08T12:58:16.535Z"
   },
   {
    "duration": 5,
    "start_time": "2023-09-08T12:58:16.547Z"
   },
   {
    "duration": 12,
    "start_time": "2023-09-08T12:58:16.553Z"
   },
   {
    "duration": 18,
    "start_time": "2023-09-08T12:58:16.567Z"
   },
   {
    "duration": 18,
    "start_time": "2023-09-08T12:58:16.587Z"
   },
   {
    "duration": 5,
    "start_time": "2023-09-08T12:58:16.607Z"
   },
   {
    "duration": 18,
    "start_time": "2023-09-08T12:58:16.614Z"
   },
   {
    "duration": 9,
    "start_time": "2023-09-08T12:58:16.634Z"
   },
   {
    "duration": 7,
    "start_time": "2023-09-08T12:58:16.653Z"
   },
   {
    "duration": 93,
    "start_time": "2023-09-08T12:58:16.662Z"
   },
   {
    "duration": 11,
    "start_time": "2023-09-08T12:58:16.764Z"
   },
   {
    "duration": 73,
    "start_time": "2023-09-08T12:58:16.776Z"
   },
   {
    "duration": 15,
    "start_time": "2023-09-08T12:58:16.850Z"
   },
   {
    "duration": 10,
    "start_time": "2023-09-08T12:59:11.745Z"
   },
   {
    "duration": 1155,
    "start_time": "2023-09-08T13:22:58.920Z"
   },
   {
    "duration": 74,
    "start_time": "2023-09-08T13:23:00.077Z"
   },
   {
    "duration": 12,
    "start_time": "2023-09-08T13:23:00.154Z"
   },
   {
    "duration": 56,
    "start_time": "2023-09-08T13:23:00.168Z"
   },
   {
    "duration": 45,
    "start_time": "2023-09-08T13:23:00.226Z"
   },
   {
    "duration": 18,
    "start_time": "2023-09-08T13:23:00.273Z"
   },
   {
    "duration": 29,
    "start_time": "2023-09-08T13:23:00.293Z"
   },
   {
    "duration": 47,
    "start_time": "2023-09-08T13:23:00.324Z"
   },
   {
    "duration": 44,
    "start_time": "2023-09-08T13:23:00.374Z"
   },
   {
    "duration": 33,
    "start_time": "2023-09-08T13:23:00.422Z"
   },
   {
    "duration": 28,
    "start_time": "2023-09-08T13:23:00.457Z"
   },
   {
    "duration": 49,
    "start_time": "2023-09-08T13:23:00.486Z"
   },
   {
    "duration": 25,
    "start_time": "2023-09-08T13:23:00.537Z"
   },
   {
    "duration": 86,
    "start_time": "2023-09-08T13:23:00.564Z"
   },
   {
    "duration": 103,
    "start_time": "2023-09-08T13:23:00.652Z"
   },
   {
    "duration": 26,
    "start_time": "2023-09-08T13:23:00.757Z"
   },
   {
    "duration": 37,
    "start_time": "2023-09-08T13:23:00.785Z"
   },
   {
    "duration": 50,
    "start_time": "2023-09-08T13:23:00.823Z"
   },
   {
    "duration": 6,
    "start_time": "2023-09-08T13:24:27.850Z"
   },
   {
    "duration": 2693,
    "start_time": "2023-09-08T13:50:54.421Z"
   },
   {
    "duration": 111,
    "start_time": "2023-09-08T13:50:57.117Z"
   },
   {
    "duration": 12,
    "start_time": "2023-09-08T13:50:57.230Z"
   },
   {
    "duration": 9,
    "start_time": "2023-09-08T13:50:57.245Z"
   },
   {
    "duration": 25,
    "start_time": "2023-09-08T13:50:57.256Z"
   },
   {
    "duration": 4,
    "start_time": "2023-09-08T13:50:57.284Z"
   },
   {
    "duration": 30,
    "start_time": "2023-09-08T13:50:57.290Z"
   },
   {
    "duration": 21,
    "start_time": "2023-09-08T13:50:57.322Z"
   },
   {
    "duration": 17,
    "start_time": "2023-09-08T13:50:57.345Z"
   },
   {
    "duration": 38,
    "start_time": "2023-09-08T13:50:57.365Z"
   },
   {
    "duration": 27,
    "start_time": "2023-09-08T13:50:57.405Z"
   },
   {
    "duration": 37,
    "start_time": "2023-09-08T13:50:57.433Z"
   },
   {
    "duration": 24,
    "start_time": "2023-09-08T13:50:57.472Z"
   },
   {
    "duration": 83,
    "start_time": "2023-09-08T13:50:57.498Z"
   },
   {
    "duration": 17,
    "start_time": "2023-09-08T13:50:57.584Z"
   },
   {
    "duration": 16,
    "start_time": "2023-09-08T13:50:57.682Z"
   },
   {
    "duration": 7,
    "start_time": "2023-09-08T13:50:57.700Z"
   },
   {
    "duration": 26,
    "start_time": "2023-09-08T13:50:57.708Z"
   },
   {
    "duration": 7,
    "start_time": "2023-09-08T13:50:57.736Z"
   }
  ],
  "kernelspec": {
   "display_name": "Python 3 (ipykernel)",
   "language": "python",
   "name": "python3"
  },
  "language_info": {
   "codemirror_mode": {
    "name": "ipython",
    "version": 3
   },
   "file_extension": ".py",
   "mimetype": "text/x-python",
   "name": "python",
   "nbconvert_exporter": "python",
   "pygments_lexer": "ipython3",
   "version": "3.9.5"
  },
  "toc": {
   "base_numbering": 1,
   "nav_menu": {},
   "number_sections": true,
   "sideBar": true,
   "skip_h1_title": true,
   "title_cell": "Содержание",
   "title_sidebar": "Contents",
   "toc_cell": true,
   "toc_position": {},
   "toc_section_display": true,
   "toc_window_display": false
  }
 },
 "nbformat": 4,
 "nbformat_minor": 2
}
