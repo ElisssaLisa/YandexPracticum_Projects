{
 "cells": [
  {
   "cell_type": "markdown",
   "metadata": {},
   "source": [
    "## Исследование данных интернет-магазина «Стримчик»\n",
    "\n",
    "###### Цель исследования:\n",
    "1. Изучить общую информацию о магазине:\n",
    "    - сколько игр выпускалось в разные годы \n",
    "    - как менялись продажи по платформам\n",
    "    - какие платформы лидируют по продажам? Выберать несколько потенциально прибыльных платформ\n",
    "    - как влияют на продажи внутри одной популярной платформы отзывы пользователей и критиков\n",
    "    - какие жанры игр самые прибыльные\n",
    "2. Составить портрет пользователя каждого региона.\n",
    "3. Проверить гипотезы:\n",
    "    3.1 Средние пользовательские рейтинги платформ Xbox One и PC одинаковые.\n",
    "    3.2 Средние пользовательские рейтинги жанров Action и Sports разные.\n",
    "\n",
    "###### Ход исследования:\n",
    "\n",
    "Данные о продажах игр я получу из файла: /datasets/games.csv. О качестве данных ничего не известно, поэтому прежде чем приступать к анализу, понадобится обзор данных.\n",
    "\n",
    "Я проверю данные на ошибки, дубликаты, пропуски, оценю влияние пропусков на ход исследования и заполню их по необхоимости, также преобразую необходимые столбцы в нужный тип. Далее приступлю к исследованию данных.\n",
    "\n",
    "Таким образом мое исследование пройдет в несколько этапов:\n",
    "- Обзор данных.\n",
    "- Предобработка данных. \n",
    "- Исследовательский анализ данных.\n",
    "- Составление портрета пользователя.\n",
    "- Проверка гипотез.\n",
    "- Вывод."
   ]
  },
  {
   "cell_type": "code",
   "execution_count": 1,
   "metadata": {},
   "outputs": [],
   "source": [
    "import pandas as pd\n",
    "from matplotlib import pyplot as plt\n",
    "from scipy import stats as st\n",
    "import seaborn as sns"
   ]
  },
  {
   "cell_type": "markdown",
   "metadata": {},
   "source": [
    "#### Шаг. Загрузка данных"
   ]
  },
  {
   "cell_type": "markdown",
   "metadata": {},
   "source": [
    "Загрузим данные из датасета и изучим их."
   ]
  },
  {
   "cell_type": "code",
   "execution_count": 2,
   "metadata": {},
   "outputs": [
    {
     "data": {
      "text/html": [
       "<div>\n",
       "<style scoped>\n",
       "    .dataframe tbody tr th:only-of-type {\n",
       "        vertical-align: middle;\n",
       "    }\n",
       "\n",
       "    .dataframe tbody tr th {\n",
       "        vertical-align: top;\n",
       "    }\n",
       "\n",
       "    .dataframe thead th {\n",
       "        text-align: right;\n",
       "    }\n",
       "</style>\n",
       "<table border=\"1\" class=\"dataframe\">\n",
       "  <thead>\n",
       "    <tr style=\"text-align: right;\">\n",
       "      <th></th>\n",
       "      <th>Name</th>\n",
       "      <th>Platform</th>\n",
       "      <th>Year_of_Release</th>\n",
       "      <th>Genre</th>\n",
       "      <th>NA_sales</th>\n",
       "      <th>EU_sales</th>\n",
       "      <th>JP_sales</th>\n",
       "      <th>Other_sales</th>\n",
       "      <th>Critic_Score</th>\n",
       "      <th>User_Score</th>\n",
       "      <th>Rating</th>\n",
       "    </tr>\n",
       "  </thead>\n",
       "  <tbody>\n",
       "    <tr>\n",
       "      <th>0</th>\n",
       "      <td>Wii Sports</td>\n",
       "      <td>Wii</td>\n",
       "      <td>2006.0</td>\n",
       "      <td>Sports</td>\n",
       "      <td>41.36</td>\n",
       "      <td>28.96</td>\n",
       "      <td>3.77</td>\n",
       "      <td>8.45</td>\n",
       "      <td>76.0</td>\n",
       "      <td>8</td>\n",
       "      <td>E</td>\n",
       "    </tr>\n",
       "    <tr>\n",
       "      <th>1</th>\n",
       "      <td>Super Mario Bros.</td>\n",
       "      <td>NES</td>\n",
       "      <td>1985.0</td>\n",
       "      <td>Platform</td>\n",
       "      <td>29.08</td>\n",
       "      <td>3.58</td>\n",
       "      <td>6.81</td>\n",
       "      <td>0.77</td>\n",
       "      <td>NaN</td>\n",
       "      <td>NaN</td>\n",
       "      <td>NaN</td>\n",
       "    </tr>\n",
       "    <tr>\n",
       "      <th>2</th>\n",
       "      <td>Mario Kart Wii</td>\n",
       "      <td>Wii</td>\n",
       "      <td>2008.0</td>\n",
       "      <td>Racing</td>\n",
       "      <td>15.68</td>\n",
       "      <td>12.76</td>\n",
       "      <td>3.79</td>\n",
       "      <td>3.29</td>\n",
       "      <td>82.0</td>\n",
       "      <td>8.3</td>\n",
       "      <td>E</td>\n",
       "    </tr>\n",
       "    <tr>\n",
       "      <th>3</th>\n",
       "      <td>Wii Sports Resort</td>\n",
       "      <td>Wii</td>\n",
       "      <td>2009.0</td>\n",
       "      <td>Sports</td>\n",
       "      <td>15.61</td>\n",
       "      <td>10.93</td>\n",
       "      <td>3.28</td>\n",
       "      <td>2.95</td>\n",
       "      <td>80.0</td>\n",
       "      <td>8</td>\n",
       "      <td>E</td>\n",
       "    </tr>\n",
       "    <tr>\n",
       "      <th>4</th>\n",
       "      <td>Pokemon Red/Pokemon Blue</td>\n",
       "      <td>GB</td>\n",
       "      <td>1996.0</td>\n",
       "      <td>Role-Playing</td>\n",
       "      <td>11.27</td>\n",
       "      <td>8.89</td>\n",
       "      <td>10.22</td>\n",
       "      <td>1.00</td>\n",
       "      <td>NaN</td>\n",
       "      <td>NaN</td>\n",
       "      <td>NaN</td>\n",
       "    </tr>\n",
       "    <tr>\n",
       "      <th>5</th>\n",
       "      <td>Tetris</td>\n",
       "      <td>GB</td>\n",
       "      <td>1989.0</td>\n",
       "      <td>Puzzle</td>\n",
       "      <td>23.20</td>\n",
       "      <td>2.26</td>\n",
       "      <td>4.22</td>\n",
       "      <td>0.58</td>\n",
       "      <td>NaN</td>\n",
       "      <td>NaN</td>\n",
       "      <td>NaN</td>\n",
       "    </tr>\n",
       "    <tr>\n",
       "      <th>6</th>\n",
       "      <td>New Super Mario Bros.</td>\n",
       "      <td>DS</td>\n",
       "      <td>2006.0</td>\n",
       "      <td>Platform</td>\n",
       "      <td>11.28</td>\n",
       "      <td>9.14</td>\n",
       "      <td>6.50</td>\n",
       "      <td>2.88</td>\n",
       "      <td>89.0</td>\n",
       "      <td>8.5</td>\n",
       "      <td>E</td>\n",
       "    </tr>\n",
       "    <tr>\n",
       "      <th>7</th>\n",
       "      <td>Wii Play</td>\n",
       "      <td>Wii</td>\n",
       "      <td>2006.0</td>\n",
       "      <td>Misc</td>\n",
       "      <td>13.96</td>\n",
       "      <td>9.18</td>\n",
       "      <td>2.93</td>\n",
       "      <td>2.84</td>\n",
       "      <td>58.0</td>\n",
       "      <td>6.6</td>\n",
       "      <td>E</td>\n",
       "    </tr>\n",
       "    <tr>\n",
       "      <th>8</th>\n",
       "      <td>New Super Mario Bros. Wii</td>\n",
       "      <td>Wii</td>\n",
       "      <td>2009.0</td>\n",
       "      <td>Platform</td>\n",
       "      <td>14.44</td>\n",
       "      <td>6.94</td>\n",
       "      <td>4.70</td>\n",
       "      <td>2.24</td>\n",
       "      <td>87.0</td>\n",
       "      <td>8.4</td>\n",
       "      <td>E</td>\n",
       "    </tr>\n",
       "    <tr>\n",
       "      <th>9</th>\n",
       "      <td>Duck Hunt</td>\n",
       "      <td>NES</td>\n",
       "      <td>1984.0</td>\n",
       "      <td>Shooter</td>\n",
       "      <td>26.93</td>\n",
       "      <td>0.63</td>\n",
       "      <td>0.28</td>\n",
       "      <td>0.47</td>\n",
       "      <td>NaN</td>\n",
       "      <td>NaN</td>\n",
       "      <td>NaN</td>\n",
       "    </tr>\n",
       "    <tr>\n",
       "      <th>10</th>\n",
       "      <td>Nintendogs</td>\n",
       "      <td>DS</td>\n",
       "      <td>2005.0</td>\n",
       "      <td>Simulation</td>\n",
       "      <td>9.05</td>\n",
       "      <td>10.95</td>\n",
       "      <td>1.93</td>\n",
       "      <td>2.74</td>\n",
       "      <td>NaN</td>\n",
       "      <td>NaN</td>\n",
       "      <td>NaN</td>\n",
       "    </tr>\n",
       "    <tr>\n",
       "      <th>11</th>\n",
       "      <td>Mario Kart DS</td>\n",
       "      <td>DS</td>\n",
       "      <td>2005.0</td>\n",
       "      <td>Racing</td>\n",
       "      <td>9.71</td>\n",
       "      <td>7.47</td>\n",
       "      <td>4.13</td>\n",
       "      <td>1.90</td>\n",
       "      <td>91.0</td>\n",
       "      <td>8.6</td>\n",
       "      <td>E</td>\n",
       "    </tr>\n",
       "    <tr>\n",
       "      <th>12</th>\n",
       "      <td>Pokemon Gold/Pokemon Silver</td>\n",
       "      <td>GB</td>\n",
       "      <td>1999.0</td>\n",
       "      <td>Role-Playing</td>\n",
       "      <td>9.00</td>\n",
       "      <td>6.18</td>\n",
       "      <td>7.20</td>\n",
       "      <td>0.71</td>\n",
       "      <td>NaN</td>\n",
       "      <td>NaN</td>\n",
       "      <td>NaN</td>\n",
       "    </tr>\n",
       "    <tr>\n",
       "      <th>13</th>\n",
       "      <td>Wii Fit</td>\n",
       "      <td>Wii</td>\n",
       "      <td>2007.0</td>\n",
       "      <td>Sports</td>\n",
       "      <td>8.92</td>\n",
       "      <td>8.03</td>\n",
       "      <td>3.60</td>\n",
       "      <td>2.15</td>\n",
       "      <td>80.0</td>\n",
       "      <td>7.7</td>\n",
       "      <td>E</td>\n",
       "    </tr>\n",
       "    <tr>\n",
       "      <th>14</th>\n",
       "      <td>Kinect Adventures!</td>\n",
       "      <td>X360</td>\n",
       "      <td>2010.0</td>\n",
       "      <td>Misc</td>\n",
       "      <td>15.00</td>\n",
       "      <td>4.89</td>\n",
       "      <td>0.24</td>\n",
       "      <td>1.69</td>\n",
       "      <td>61.0</td>\n",
       "      <td>6.3</td>\n",
       "      <td>E</td>\n",
       "    </tr>\n",
       "    <tr>\n",
       "      <th>15</th>\n",
       "      <td>Wii Fit Plus</td>\n",
       "      <td>Wii</td>\n",
       "      <td>2009.0</td>\n",
       "      <td>Sports</td>\n",
       "      <td>9.01</td>\n",
       "      <td>8.49</td>\n",
       "      <td>2.53</td>\n",
       "      <td>1.77</td>\n",
       "      <td>80.0</td>\n",
       "      <td>7.4</td>\n",
       "      <td>E</td>\n",
       "    </tr>\n",
       "    <tr>\n",
       "      <th>16</th>\n",
       "      <td>Grand Theft Auto V</td>\n",
       "      <td>PS3</td>\n",
       "      <td>2013.0</td>\n",
       "      <td>Action</td>\n",
       "      <td>7.02</td>\n",
       "      <td>9.09</td>\n",
       "      <td>0.98</td>\n",
       "      <td>3.96</td>\n",
       "      <td>97.0</td>\n",
       "      <td>8.2</td>\n",
       "      <td>M</td>\n",
       "    </tr>\n",
       "    <tr>\n",
       "      <th>17</th>\n",
       "      <td>Grand Theft Auto: San Andreas</td>\n",
       "      <td>PS2</td>\n",
       "      <td>2004.0</td>\n",
       "      <td>Action</td>\n",
       "      <td>9.43</td>\n",
       "      <td>0.40</td>\n",
       "      <td>0.41</td>\n",
       "      <td>10.57</td>\n",
       "      <td>95.0</td>\n",
       "      <td>9</td>\n",
       "      <td>M</td>\n",
       "    </tr>\n",
       "    <tr>\n",
       "      <th>18</th>\n",
       "      <td>Super Mario World</td>\n",
       "      <td>SNES</td>\n",
       "      <td>1990.0</td>\n",
       "      <td>Platform</td>\n",
       "      <td>12.78</td>\n",
       "      <td>3.75</td>\n",
       "      <td>3.54</td>\n",
       "      <td>0.55</td>\n",
       "      <td>NaN</td>\n",
       "      <td>NaN</td>\n",
       "      <td>NaN</td>\n",
       "    </tr>\n",
       "    <tr>\n",
       "      <th>19</th>\n",
       "      <td>Brain Age: Train Your Brain in Minutes a Day</td>\n",
       "      <td>DS</td>\n",
       "      <td>2005.0</td>\n",
       "      <td>Misc</td>\n",
       "      <td>4.74</td>\n",
       "      <td>9.20</td>\n",
       "      <td>4.16</td>\n",
       "      <td>2.04</td>\n",
       "      <td>77.0</td>\n",
       "      <td>7.9</td>\n",
       "      <td>E</td>\n",
       "    </tr>\n",
       "  </tbody>\n",
       "</table>\n",
       "</div>"
      ],
      "text/plain": [
       "                                            Name Platform  Year_of_Release  \\\n",
       "0                                     Wii Sports      Wii           2006.0   \n",
       "1                              Super Mario Bros.      NES           1985.0   \n",
       "2                                 Mario Kart Wii      Wii           2008.0   \n",
       "3                              Wii Sports Resort      Wii           2009.0   \n",
       "4                       Pokemon Red/Pokemon Blue       GB           1996.0   \n",
       "5                                         Tetris       GB           1989.0   \n",
       "6                          New Super Mario Bros.       DS           2006.0   \n",
       "7                                       Wii Play      Wii           2006.0   \n",
       "8                      New Super Mario Bros. Wii      Wii           2009.0   \n",
       "9                                      Duck Hunt      NES           1984.0   \n",
       "10                                    Nintendogs       DS           2005.0   \n",
       "11                                 Mario Kart DS       DS           2005.0   \n",
       "12                   Pokemon Gold/Pokemon Silver       GB           1999.0   \n",
       "13                                       Wii Fit      Wii           2007.0   \n",
       "14                            Kinect Adventures!     X360           2010.0   \n",
       "15                                  Wii Fit Plus      Wii           2009.0   \n",
       "16                            Grand Theft Auto V      PS3           2013.0   \n",
       "17                 Grand Theft Auto: San Andreas      PS2           2004.0   \n",
       "18                             Super Mario World     SNES           1990.0   \n",
       "19  Brain Age: Train Your Brain in Minutes a Day       DS           2005.0   \n",
       "\n",
       "           Genre  NA_sales  EU_sales  JP_sales  Other_sales  Critic_Score  \\\n",
       "0         Sports     41.36     28.96      3.77         8.45          76.0   \n",
       "1       Platform     29.08      3.58      6.81         0.77           NaN   \n",
       "2         Racing     15.68     12.76      3.79         3.29          82.0   \n",
       "3         Sports     15.61     10.93      3.28         2.95          80.0   \n",
       "4   Role-Playing     11.27      8.89     10.22         1.00           NaN   \n",
       "5         Puzzle     23.20      2.26      4.22         0.58           NaN   \n",
       "6       Platform     11.28      9.14      6.50         2.88          89.0   \n",
       "7           Misc     13.96      9.18      2.93         2.84          58.0   \n",
       "8       Platform     14.44      6.94      4.70         2.24          87.0   \n",
       "9        Shooter     26.93      0.63      0.28         0.47           NaN   \n",
       "10    Simulation      9.05     10.95      1.93         2.74           NaN   \n",
       "11        Racing      9.71      7.47      4.13         1.90          91.0   \n",
       "12  Role-Playing      9.00      6.18      7.20         0.71           NaN   \n",
       "13        Sports      8.92      8.03      3.60         2.15          80.0   \n",
       "14          Misc     15.00      4.89      0.24         1.69          61.0   \n",
       "15        Sports      9.01      8.49      2.53         1.77          80.0   \n",
       "16        Action      7.02      9.09      0.98         3.96          97.0   \n",
       "17        Action      9.43      0.40      0.41        10.57          95.0   \n",
       "18      Platform     12.78      3.75      3.54         0.55           NaN   \n",
       "19          Misc      4.74      9.20      4.16         2.04          77.0   \n",
       "\n",
       "   User_Score Rating  \n",
       "0           8      E  \n",
       "1         NaN    NaN  \n",
       "2         8.3      E  \n",
       "3           8      E  \n",
       "4         NaN    NaN  \n",
       "5         NaN    NaN  \n",
       "6         8.5      E  \n",
       "7         6.6      E  \n",
       "8         8.4      E  \n",
       "9         NaN    NaN  \n",
       "10        NaN    NaN  \n",
       "11        8.6      E  \n",
       "12        NaN    NaN  \n",
       "13        7.7      E  \n",
       "14        6.3      E  \n",
       "15        7.4      E  \n",
       "16        8.2      M  \n",
       "17          9      M  \n",
       "18        NaN    NaN  \n",
       "19        7.9      E  "
      ]
     },
     "execution_count": 2,
     "metadata": {},
     "output_type": "execute_result"
    }
   ],
   "source": [
    "data = pd.read_csv('/datasets/games.csv')\n",
    "data.head(20)"
   ]
  },
  {
   "cell_type": "markdown",
   "metadata": {},
   "source": [
    "Уже видим, что в данных наблюдаются пропуски, нужно будет их обработать. Также нужно будет привести названия столбцов к нижнему регистру."
   ]
  },
  {
   "cell_type": "code",
   "execution_count": 3,
   "metadata": {},
   "outputs": [
    {
     "name": "stdout",
     "output_type": "stream",
     "text": [
      "<class 'pandas.core.frame.DataFrame'>\n",
      "RangeIndex: 16715 entries, 0 to 16714\n",
      "Data columns (total 11 columns):\n",
      " #   Column           Non-Null Count  Dtype  \n",
      "---  ------           --------------  -----  \n",
      " 0   Name             16713 non-null  object \n",
      " 1   Platform         16715 non-null  object \n",
      " 2   Year_of_Release  16446 non-null  float64\n",
      " 3   Genre            16713 non-null  object \n",
      " 4   NA_sales         16715 non-null  float64\n",
      " 5   EU_sales         16715 non-null  float64\n",
      " 6   JP_sales         16715 non-null  float64\n",
      " 7   Other_sales      16715 non-null  float64\n",
      " 8   Critic_Score     8137 non-null   float64\n",
      " 9   User_Score       10014 non-null  object \n",
      " 10  Rating           9949 non-null   object \n",
      "dtypes: float64(6), object(5)\n",
      "memory usage: 1.4+ MB\n"
     ]
    }
   ],
   "source": [
    "data.info()"
   ]
  },
  {
   "cell_type": "markdown",
   "metadata": {},
   "source": [
    "Исходя из общей информации, необходимо будет изменить тип данных в столбцах Year_of_Release - переведем в int(год - целое число), столбец User_Score содержит оценки пользователей, преобразуем в тип float."
   ]
  },
  {
   "cell_type": "markdown",
   "metadata": {},
   "source": [
    "Посмотрим, с чем можеn быть связан тип object с столбце User_Score"
   ]
  },
  {
   "cell_type": "code",
   "execution_count": 4,
   "metadata": {},
   "outputs": [
    {
     "data": {
      "text/plain": [
       "array(['8', nan, '8.3', '8.5', '6.6', '8.4', '8.6', '7.7', '6.3', '7.4',\n",
       "       '8.2', '9', '7.9', '8.1', '8.7', '7.1', '3.4', '5.3', '4.8', '3.2',\n",
       "       '8.9', '6.4', '7.8', '7.5', '2.6', '7.2', '9.2', '7', '7.3', '4.3',\n",
       "       '7.6', '5.7', '5', '9.1', '6.5', 'tbd', '8.8', '6.9', '9.4', '6.8',\n",
       "       '6.1', '6.7', '5.4', '4', '4.9', '4.5', '9.3', '6.2', '4.2', '6',\n",
       "       '3.7', '4.1', '5.8', '5.6', '5.5', '4.4', '4.6', '5.9', '3.9',\n",
       "       '3.1', '2.9', '5.2', '3.3', '4.7', '5.1', '3.5', '2.5', '1.9', '3',\n",
       "       '2.7', '2.2', '2', '9.5', '2.1', '3.6', '2.8', '1.8', '3.8', '0',\n",
       "       '1.6', '9.6', '2.4', '1.7', '1.1', '0.3', '1.5', '0.7', '1.2',\n",
       "       '2.3', '0.5', '1.3', '0.2', '0.6', '1.4', '0.9', '1', '9.7'],\n",
       "      dtype=object)"
      ]
     },
     "execution_count": 4,
     "metadata": {},
     "output_type": "execute_result"
    }
   ],
   "source": [
    "data['User_Score'].unique()"
   ]
  },
  {
   "cell_type": "markdown",
   "metadata": {},
   "source": [
    "Здесь помимо чисел и пропусков есть такая строка, как 'tbd' - предполагаю, что это обозначает \"подлежит уточнению\", по сути это тот же пропуск. Перед преобразованием типа данных нужно будет такие значения тоже заменить."
   ]
  },
  {
   "cell_type": "markdown",
   "metadata": {},
   "source": [
    "Вывод: датасеты первоночально изучены, в них действительно содержится информация, заявленная в документах."
   ]
  },
  {
   "cell_type": "markdown",
   "metadata": {},
   "source": [
    "#### Шаг. Предобработка данных"
   ]
  },
  {
   "cell_type": "markdown",
   "metadata": {},
   "source": [
    "1. Приведем к нижнему регистру названия столбцов"
   ]
  },
  {
   "cell_type": "code",
   "execution_count": 5,
   "metadata": {},
   "outputs": [
    {
     "data": {
      "text/html": [
       "<div>\n",
       "<style scoped>\n",
       "    .dataframe tbody tr th:only-of-type {\n",
       "        vertical-align: middle;\n",
       "    }\n",
       "\n",
       "    .dataframe tbody tr th {\n",
       "        vertical-align: top;\n",
       "    }\n",
       "\n",
       "    .dataframe thead th {\n",
       "        text-align: right;\n",
       "    }\n",
       "</style>\n",
       "<table border=\"1\" class=\"dataframe\">\n",
       "  <thead>\n",
       "    <tr style=\"text-align: right;\">\n",
       "      <th></th>\n",
       "      <th>name</th>\n",
       "      <th>platform</th>\n",
       "      <th>year_of_release</th>\n",
       "      <th>genre</th>\n",
       "      <th>na_sales</th>\n",
       "      <th>eu_sales</th>\n",
       "      <th>jp_sales</th>\n",
       "      <th>other_sales</th>\n",
       "      <th>critic_score</th>\n",
       "      <th>user_score</th>\n",
       "      <th>rating</th>\n",
       "    </tr>\n",
       "  </thead>\n",
       "  <tbody>\n",
       "    <tr>\n",
       "      <th>0</th>\n",
       "      <td>Wii Sports</td>\n",
       "      <td>Wii</td>\n",
       "      <td>2006.0</td>\n",
       "      <td>Sports</td>\n",
       "      <td>41.36</td>\n",
       "      <td>28.96</td>\n",
       "      <td>3.77</td>\n",
       "      <td>8.45</td>\n",
       "      <td>76.0</td>\n",
       "      <td>8</td>\n",
       "      <td>E</td>\n",
       "    </tr>\n",
       "    <tr>\n",
       "      <th>1</th>\n",
       "      <td>Super Mario Bros.</td>\n",
       "      <td>NES</td>\n",
       "      <td>1985.0</td>\n",
       "      <td>Platform</td>\n",
       "      <td>29.08</td>\n",
       "      <td>3.58</td>\n",
       "      <td>6.81</td>\n",
       "      <td>0.77</td>\n",
       "      <td>NaN</td>\n",
       "      <td>NaN</td>\n",
       "      <td>NaN</td>\n",
       "    </tr>\n",
       "    <tr>\n",
       "      <th>2</th>\n",
       "      <td>Mario Kart Wii</td>\n",
       "      <td>Wii</td>\n",
       "      <td>2008.0</td>\n",
       "      <td>Racing</td>\n",
       "      <td>15.68</td>\n",
       "      <td>12.76</td>\n",
       "      <td>3.79</td>\n",
       "      <td>3.29</td>\n",
       "      <td>82.0</td>\n",
       "      <td>8.3</td>\n",
       "      <td>E</td>\n",
       "    </tr>\n",
       "    <tr>\n",
       "      <th>3</th>\n",
       "      <td>Wii Sports Resort</td>\n",
       "      <td>Wii</td>\n",
       "      <td>2009.0</td>\n",
       "      <td>Sports</td>\n",
       "      <td>15.61</td>\n",
       "      <td>10.93</td>\n",
       "      <td>3.28</td>\n",
       "      <td>2.95</td>\n",
       "      <td>80.0</td>\n",
       "      <td>8</td>\n",
       "      <td>E</td>\n",
       "    </tr>\n",
       "    <tr>\n",
       "      <th>4</th>\n",
       "      <td>Pokemon Red/Pokemon Blue</td>\n",
       "      <td>GB</td>\n",
       "      <td>1996.0</td>\n",
       "      <td>Role-Playing</td>\n",
       "      <td>11.27</td>\n",
       "      <td>8.89</td>\n",
       "      <td>10.22</td>\n",
       "      <td>1.00</td>\n",
       "      <td>NaN</td>\n",
       "      <td>NaN</td>\n",
       "      <td>NaN</td>\n",
       "    </tr>\n",
       "  </tbody>\n",
       "</table>\n",
       "</div>"
      ],
      "text/plain": [
       "                       name platform  year_of_release         genre  na_sales  \\\n",
       "0                Wii Sports      Wii           2006.0        Sports     41.36   \n",
       "1         Super Mario Bros.      NES           1985.0      Platform     29.08   \n",
       "2            Mario Kart Wii      Wii           2008.0        Racing     15.68   \n",
       "3         Wii Sports Resort      Wii           2009.0        Sports     15.61   \n",
       "4  Pokemon Red/Pokemon Blue       GB           1996.0  Role-Playing     11.27   \n",
       "\n",
       "   eu_sales  jp_sales  other_sales  critic_score user_score rating  \n",
       "0     28.96      3.77         8.45          76.0          8      E  \n",
       "1      3.58      6.81         0.77           NaN        NaN    NaN  \n",
       "2     12.76      3.79         3.29          82.0        8.3      E  \n",
       "3     10.93      3.28         2.95          80.0          8      E  \n",
       "4      8.89     10.22         1.00           NaN        NaN    NaN  "
      ]
     },
     "execution_count": 5,
     "metadata": {},
     "output_type": "execute_result"
    }
   ],
   "source": [
    "data.columns = data.columns.str.lower()\n",
    "data.head()"
   ]
  },
  {
   "cell_type": "markdown",
   "metadata": {},
   "source": [
    "2. Проверим данные на наличие пропущенных значений."
   ]
  },
  {
   "cell_type": "code",
   "execution_count": 6,
   "metadata": {},
   "outputs": [
    {
     "data": {
      "text/plain": [
       "name                  2\n",
       "platform              0\n",
       "year_of_release     269\n",
       "genre                 2\n",
       "na_sales              0\n",
       "eu_sales              0\n",
       "jp_sales              0\n",
       "other_sales           0\n",
       "critic_score       8578\n",
       "user_score         6701\n",
       "rating             6766\n",
       "dtype: int64"
      ]
     },
     "execution_count": 6,
     "metadata": {},
     "output_type": "execute_result"
    }
   ],
   "source": [
    "data.isna().sum()"
   ]
  },
  {
   "cell_type": "markdown",
   "metadata": {},
   "source": [
    "Отсутствие названий игр не влияет на наше исследование, поэтому оставим пропуски как есть."
   ]
  },
  {
   "cell_type": "markdown",
   "metadata": {},
   "source": [
    "Пропуски в столбце \"год выпуска\" и \"жанр\" для нас критичны, придется удалить эти строки, т.к. восстановлению эти данные не подлежат."
   ]
  },
  {
   "cell_type": "code",
   "execution_count": 7,
   "metadata": {},
   "outputs": [
    {
     "data": {
      "text/plain": [
       "name                  0\n",
       "platform              0\n",
       "year_of_release       0\n",
       "genre                 0\n",
       "na_sales              0\n",
       "eu_sales              0\n",
       "jp_sales              0\n",
       "other_sales           0\n",
       "critic_score       8461\n",
       "user_score         6605\n",
       "rating             6676\n",
       "dtype: int64"
      ]
     },
     "execution_count": 7,
     "metadata": {},
     "output_type": "execute_result"
    }
   ],
   "source": [
    "data = data.dropna(subset=['year_of_release', 'genre'])\n",
    "data.isna().sum()"
   ]
  },
  {
   "cell_type": "markdown",
   "metadata": {},
   "source": [
    "Столбец Rating содержит рейтинг от организации ESRB, который попределяет возрастную категорию игры. Пропусков много, потерять такой большой объем данных, где содержатся другая важная нам информация, мы не можем. Эти данные нет возможности восстановить, поэтому оставим пропуски без изменений"
   ]
  },
  {
   "cell_type": "markdown",
   "metadata": {},
   "source": [
    "Пропуски в столбцах critic_score и user_score - оценки критиков и пользователей соответственно - оставим без изменений, восстановить их мы не сможем. Скорее всего пропуски возникли по техническим причинам. "
   ]
  },
  {
   "cell_type": "markdown",
   "metadata": {},
   "source": [
    "3. Приведем данные к нужному типу."
   ]
  },
  {
   "cell_type": "markdown",
   "metadata": {},
   "source": [
    "Стоолбец year_of_release приведем к типу int"
   ]
  },
  {
   "cell_type": "code",
   "execution_count": 8,
   "metadata": {},
   "outputs": [],
   "source": [
    "data['year_of_release'] = data['year_of_release'].astype('int')"
   ]
  },
  {
   "cell_type": "markdown",
   "metadata": {},
   "source": [
    "В столбце с оценками пользователей заменим 'tbd'(данные уточняются) на nan, т.к. это тоже пропущенные значения, которые могут помещать нам изменить тип ячеек. Затем изменим тип на float."
   ]
  },
  {
   "cell_type": "markdown",
   "metadata": {},
   "source": [
    "Посмотрим, за какой период предоставленны данные."
   ]
  },
  {
   "cell_type": "code",
   "execution_count": 9,
   "metadata": {},
   "outputs": [
    {
     "data": {
      "text/plain": [
       "1980"
      ]
     },
     "execution_count": 9,
     "metadata": {},
     "output_type": "execute_result"
    }
   ],
   "source": [
    "data['year_of_release'].min()"
   ]
  },
  {
   "cell_type": "code",
   "execution_count": 10,
   "metadata": {},
   "outputs": [
    {
     "data": {
      "text/plain": [
       "2016"
      ]
     },
     "execution_count": 10,
     "metadata": {},
     "output_type": "execute_result"
    }
   ],
   "source": [
    "data['year_of_release'].max()"
   ]
  },
  {
   "cell_type": "markdown",
   "metadata": {},
   "source": [
    "Данные предоставлены за период с 1980 по 2016 годы."
   ]
  },
  {
   "cell_type": "code",
   "execution_count": 11,
   "metadata": {},
   "outputs": [],
   "source": [
    "data['user_score'] = data['user_score'].replace('tbd', )"
   ]
  },
  {
   "cell_type": "code",
   "execution_count": 12,
   "metadata": {},
   "outputs": [],
   "source": [
    "data['user_score'] = data['user_score'].astype('float')"
   ]
  },
  {
   "cell_type": "code",
   "execution_count": 13,
   "metadata": {},
   "outputs": [
    {
     "name": "stdout",
     "output_type": "stream",
     "text": [
      "<class 'pandas.core.frame.DataFrame'>\n",
      "Int64Index: 16444 entries, 0 to 16714\n",
      "Data columns (total 11 columns):\n",
      " #   Column           Non-Null Count  Dtype  \n",
      "---  ------           --------------  -----  \n",
      " 0   name             16444 non-null  object \n",
      " 1   platform         16444 non-null  object \n",
      " 2   year_of_release  16444 non-null  int64  \n",
      " 3   genre            16444 non-null  object \n",
      " 4   na_sales         16444 non-null  float64\n",
      " 5   eu_sales         16444 non-null  float64\n",
      " 6   jp_sales         16444 non-null  float64\n",
      " 7   other_sales      16444 non-null  float64\n",
      " 8   critic_score     7983 non-null   float64\n",
      " 9   user_score       8610 non-null   float64\n",
      " 10  rating           9768 non-null   object \n",
      "dtypes: float64(6), int64(1), object(4)\n",
      "memory usage: 1.5+ MB\n"
     ]
    }
   ],
   "source": [
    "data.info()"
   ]
  },
  {
   "cell_type": "markdown",
   "metadata": {},
   "source": [
    "3. Посчитаем суммарные продажи во всех регионах и запишим их в отдельный столбец."
   ]
  },
  {
   "cell_type": "code",
   "execution_count": 14,
   "metadata": {},
   "outputs": [
    {
     "data": {
      "text/html": [
       "<div>\n",
       "<style scoped>\n",
       "    .dataframe tbody tr th:only-of-type {\n",
       "        vertical-align: middle;\n",
       "    }\n",
       "\n",
       "    .dataframe tbody tr th {\n",
       "        vertical-align: top;\n",
       "    }\n",
       "\n",
       "    .dataframe thead th {\n",
       "        text-align: right;\n",
       "    }\n",
       "</style>\n",
       "<table border=\"1\" class=\"dataframe\">\n",
       "  <thead>\n",
       "    <tr style=\"text-align: right;\">\n",
       "      <th></th>\n",
       "      <th>name</th>\n",
       "      <th>platform</th>\n",
       "      <th>year_of_release</th>\n",
       "      <th>genre</th>\n",
       "      <th>na_sales</th>\n",
       "      <th>eu_sales</th>\n",
       "      <th>jp_sales</th>\n",
       "      <th>other_sales</th>\n",
       "      <th>critic_score</th>\n",
       "      <th>user_score</th>\n",
       "      <th>rating</th>\n",
       "      <th>all_sales</th>\n",
       "    </tr>\n",
       "  </thead>\n",
       "  <tbody>\n",
       "    <tr>\n",
       "      <th>0</th>\n",
       "      <td>Wii Sports</td>\n",
       "      <td>Wii</td>\n",
       "      <td>2006</td>\n",
       "      <td>Sports</td>\n",
       "      <td>41.36</td>\n",
       "      <td>28.96</td>\n",
       "      <td>3.77</td>\n",
       "      <td>8.45</td>\n",
       "      <td>76.0</td>\n",
       "      <td>8.0</td>\n",
       "      <td>E</td>\n",
       "      <td>82.54</td>\n",
       "    </tr>\n",
       "    <tr>\n",
       "      <th>1</th>\n",
       "      <td>Super Mario Bros.</td>\n",
       "      <td>NES</td>\n",
       "      <td>1985</td>\n",
       "      <td>Platform</td>\n",
       "      <td>29.08</td>\n",
       "      <td>3.58</td>\n",
       "      <td>6.81</td>\n",
       "      <td>0.77</td>\n",
       "      <td>NaN</td>\n",
       "      <td>NaN</td>\n",
       "      <td>NaN</td>\n",
       "      <td>40.24</td>\n",
       "    </tr>\n",
       "    <tr>\n",
       "      <th>2</th>\n",
       "      <td>Mario Kart Wii</td>\n",
       "      <td>Wii</td>\n",
       "      <td>2008</td>\n",
       "      <td>Racing</td>\n",
       "      <td>15.68</td>\n",
       "      <td>12.76</td>\n",
       "      <td>3.79</td>\n",
       "      <td>3.29</td>\n",
       "      <td>82.0</td>\n",
       "      <td>8.3</td>\n",
       "      <td>E</td>\n",
       "      <td>35.52</td>\n",
       "    </tr>\n",
       "    <tr>\n",
       "      <th>3</th>\n",
       "      <td>Wii Sports Resort</td>\n",
       "      <td>Wii</td>\n",
       "      <td>2009</td>\n",
       "      <td>Sports</td>\n",
       "      <td>15.61</td>\n",
       "      <td>10.93</td>\n",
       "      <td>3.28</td>\n",
       "      <td>2.95</td>\n",
       "      <td>80.0</td>\n",
       "      <td>8.0</td>\n",
       "      <td>E</td>\n",
       "      <td>32.77</td>\n",
       "    </tr>\n",
       "    <tr>\n",
       "      <th>4</th>\n",
       "      <td>Pokemon Red/Pokemon Blue</td>\n",
       "      <td>GB</td>\n",
       "      <td>1996</td>\n",
       "      <td>Role-Playing</td>\n",
       "      <td>11.27</td>\n",
       "      <td>8.89</td>\n",
       "      <td>10.22</td>\n",
       "      <td>1.00</td>\n",
       "      <td>NaN</td>\n",
       "      <td>NaN</td>\n",
       "      <td>NaN</td>\n",
       "      <td>31.38</td>\n",
       "    </tr>\n",
       "    <tr>\n",
       "      <th>5</th>\n",
       "      <td>Tetris</td>\n",
       "      <td>GB</td>\n",
       "      <td>1989</td>\n",
       "      <td>Puzzle</td>\n",
       "      <td>23.20</td>\n",
       "      <td>2.26</td>\n",
       "      <td>4.22</td>\n",
       "      <td>0.58</td>\n",
       "      <td>NaN</td>\n",
       "      <td>NaN</td>\n",
       "      <td>NaN</td>\n",
       "      <td>30.26</td>\n",
       "    </tr>\n",
       "    <tr>\n",
       "      <th>6</th>\n",
       "      <td>New Super Mario Bros.</td>\n",
       "      <td>DS</td>\n",
       "      <td>2006</td>\n",
       "      <td>Platform</td>\n",
       "      <td>11.28</td>\n",
       "      <td>9.14</td>\n",
       "      <td>6.50</td>\n",
       "      <td>2.88</td>\n",
       "      <td>89.0</td>\n",
       "      <td>8.5</td>\n",
       "      <td>E</td>\n",
       "      <td>29.80</td>\n",
       "    </tr>\n",
       "    <tr>\n",
       "      <th>7</th>\n",
       "      <td>Wii Play</td>\n",
       "      <td>Wii</td>\n",
       "      <td>2006</td>\n",
       "      <td>Misc</td>\n",
       "      <td>13.96</td>\n",
       "      <td>9.18</td>\n",
       "      <td>2.93</td>\n",
       "      <td>2.84</td>\n",
       "      <td>58.0</td>\n",
       "      <td>6.6</td>\n",
       "      <td>E</td>\n",
       "      <td>28.91</td>\n",
       "    </tr>\n",
       "    <tr>\n",
       "      <th>8</th>\n",
       "      <td>New Super Mario Bros. Wii</td>\n",
       "      <td>Wii</td>\n",
       "      <td>2009</td>\n",
       "      <td>Platform</td>\n",
       "      <td>14.44</td>\n",
       "      <td>6.94</td>\n",
       "      <td>4.70</td>\n",
       "      <td>2.24</td>\n",
       "      <td>87.0</td>\n",
       "      <td>8.4</td>\n",
       "      <td>E</td>\n",
       "      <td>28.32</td>\n",
       "    </tr>\n",
       "    <tr>\n",
       "      <th>9</th>\n",
       "      <td>Duck Hunt</td>\n",
       "      <td>NES</td>\n",
       "      <td>1984</td>\n",
       "      <td>Shooter</td>\n",
       "      <td>26.93</td>\n",
       "      <td>0.63</td>\n",
       "      <td>0.28</td>\n",
       "      <td>0.47</td>\n",
       "      <td>NaN</td>\n",
       "      <td>NaN</td>\n",
       "      <td>NaN</td>\n",
       "      <td>28.31</td>\n",
       "    </tr>\n",
       "  </tbody>\n",
       "</table>\n",
       "</div>"
      ],
      "text/plain": [
       "                        name platform  year_of_release         genre  \\\n",
       "0                 Wii Sports      Wii             2006        Sports   \n",
       "1          Super Mario Bros.      NES             1985      Platform   \n",
       "2             Mario Kart Wii      Wii             2008        Racing   \n",
       "3          Wii Sports Resort      Wii             2009        Sports   \n",
       "4   Pokemon Red/Pokemon Blue       GB             1996  Role-Playing   \n",
       "5                     Tetris       GB             1989        Puzzle   \n",
       "6      New Super Mario Bros.       DS             2006      Platform   \n",
       "7                   Wii Play      Wii             2006          Misc   \n",
       "8  New Super Mario Bros. Wii      Wii             2009      Platform   \n",
       "9                  Duck Hunt      NES             1984       Shooter   \n",
       "\n",
       "   na_sales  eu_sales  jp_sales  other_sales  critic_score  user_score rating  \\\n",
       "0     41.36     28.96      3.77         8.45          76.0         8.0      E   \n",
       "1     29.08      3.58      6.81         0.77           NaN         NaN    NaN   \n",
       "2     15.68     12.76      3.79         3.29          82.0         8.3      E   \n",
       "3     15.61     10.93      3.28         2.95          80.0         8.0      E   \n",
       "4     11.27      8.89     10.22         1.00           NaN         NaN    NaN   \n",
       "5     23.20      2.26      4.22         0.58           NaN         NaN    NaN   \n",
       "6     11.28      9.14      6.50         2.88          89.0         8.5      E   \n",
       "7     13.96      9.18      2.93         2.84          58.0         6.6      E   \n",
       "8     14.44      6.94      4.70         2.24          87.0         8.4      E   \n",
       "9     26.93      0.63      0.28         0.47           NaN         NaN    NaN   \n",
       "\n",
       "   all_sales  \n",
       "0      82.54  \n",
       "1      40.24  \n",
       "2      35.52  \n",
       "3      32.77  \n",
       "4      31.38  \n",
       "5      30.26  \n",
       "6      29.80  \n",
       "7      28.91  \n",
       "8      28.32  \n",
       "9      28.31  "
      ]
     },
     "execution_count": 14,
     "metadata": {},
     "output_type": "execute_result"
    }
   ],
   "source": [
    "data['all_sales'] = data['na_sales'] + data['eu_sales'] + data['jp_sales'] + data['other_sales']\n",
    "data.head(10)"
   ]
  },
  {
   "cell_type": "markdown",
   "metadata": {},
   "source": [
    "4. Проверим данные на явные и неявные дубликаты."
   ]
  },
  {
   "cell_type": "code",
   "execution_count": 15,
   "metadata": {},
   "outputs": [
    {
     "data": {
      "text/plain": [
       "0"
      ]
     },
     "execution_count": 15,
     "metadata": {},
     "output_type": "execute_result"
    }
   ],
   "source": [
    "data.duplicated().sum()"
   ]
  },
  {
   "cell_type": "markdown",
   "metadata": {},
   "source": [
    "Явные дубликаты отсутствуют."
   ]
  },
  {
   "cell_type": "code",
   "execution_count": 16,
   "metadata": {},
   "outputs": [
    {
     "data": {
      "text/html": [
       "<div>\n",
       "<style scoped>\n",
       "    .dataframe tbody tr th:only-of-type {\n",
       "        vertical-align: middle;\n",
       "    }\n",
       "\n",
       "    .dataframe tbody tr th {\n",
       "        vertical-align: top;\n",
       "    }\n",
       "\n",
       "    .dataframe thead th {\n",
       "        text-align: right;\n",
       "    }\n",
       "</style>\n",
       "<table border=\"1\" class=\"dataframe\">\n",
       "  <thead>\n",
       "    <tr style=\"text-align: right;\">\n",
       "      <th></th>\n",
       "      <th>name</th>\n",
       "      <th>platform</th>\n",
       "      <th>year_of_release</th>\n",
       "      <th>genre</th>\n",
       "      <th>na_sales</th>\n",
       "      <th>eu_sales</th>\n",
       "      <th>jp_sales</th>\n",
       "      <th>other_sales</th>\n",
       "      <th>critic_score</th>\n",
       "      <th>user_score</th>\n",
       "      <th>rating</th>\n",
       "      <th>all_sales</th>\n",
       "    </tr>\n",
       "  </thead>\n",
       "  <tbody>\n",
       "    <tr>\n",
       "      <th>604</th>\n",
       "      <td>Madden NFL 13</td>\n",
       "      <td>PS3</td>\n",
       "      <td>2012</td>\n",
       "      <td>Sports</td>\n",
       "      <td>2.11</td>\n",
       "      <td>0.22</td>\n",
       "      <td>0.0</td>\n",
       "      <td>0.23</td>\n",
       "      <td>83.0</td>\n",
       "      <td>5.5</td>\n",
       "      <td>E</td>\n",
       "      <td>2.56</td>\n",
       "    </tr>\n",
       "    <tr>\n",
       "      <th>16230</th>\n",
       "      <td>Madden NFL 13</td>\n",
       "      <td>PS3</td>\n",
       "      <td>2012</td>\n",
       "      <td>Sports</td>\n",
       "      <td>0.00</td>\n",
       "      <td>0.01</td>\n",
       "      <td>0.0</td>\n",
       "      <td>0.00</td>\n",
       "      <td>83.0</td>\n",
       "      <td>5.5</td>\n",
       "      <td>E</td>\n",
       "      <td>0.01</td>\n",
       "    </tr>\n",
       "  </tbody>\n",
       "</table>\n",
       "</div>"
      ],
      "text/plain": [
       "                name platform  year_of_release   genre  na_sales  eu_sales  \\\n",
       "604    Madden NFL 13      PS3             2012  Sports      2.11      0.22   \n",
       "16230  Madden NFL 13      PS3             2012  Sports      0.00      0.01   \n",
       "\n",
       "       jp_sales  other_sales  critic_score  user_score rating  all_sales  \n",
       "604         0.0         0.23          83.0         5.5      E       2.56  \n",
       "16230       0.0         0.00          83.0         5.5      E       0.01  "
      ]
     },
     "execution_count": 16,
     "metadata": {},
     "output_type": "execute_result"
    }
   ],
   "source": [
    "data[data[['name', 'platform','year_of_release']].duplicated(keep=False)]"
   ]
  },
  {
   "cell_type": "markdown",
   "metadata": {},
   "source": [
    "Найдены строки с неявными дубликатами."
   ]
  },
  {
   "cell_type": "code",
   "execution_count": 17,
   "metadata": {},
   "outputs": [
    {
     "data": {
      "text/html": [
       "<div>\n",
       "<style scoped>\n",
       "    .dataframe tbody tr th:only-of-type {\n",
       "        vertical-align: middle;\n",
       "    }\n",
       "\n",
       "    .dataframe tbody tr th {\n",
       "        vertical-align: top;\n",
       "    }\n",
       "\n",
       "    .dataframe thead th {\n",
       "        text-align: right;\n",
       "    }\n",
       "</style>\n",
       "<table border=\"1\" class=\"dataframe\">\n",
       "  <thead>\n",
       "    <tr style=\"text-align: right;\">\n",
       "      <th></th>\n",
       "      <th>name</th>\n",
       "      <th>platform</th>\n",
       "      <th>year_of_release</th>\n",
       "    </tr>\n",
       "  </thead>\n",
       "  <tbody>\n",
       "    <tr>\n",
       "      <th>0</th>\n",
       "      <td>Wii Sports</td>\n",
       "      <td>Wii</td>\n",
       "      <td>2006</td>\n",
       "    </tr>\n",
       "    <tr>\n",
       "      <th>1</th>\n",
       "      <td>Super Mario Bros.</td>\n",
       "      <td>NES</td>\n",
       "      <td>1985</td>\n",
       "    </tr>\n",
       "    <tr>\n",
       "      <th>2</th>\n",
       "      <td>Mario Kart Wii</td>\n",
       "      <td>Wii</td>\n",
       "      <td>2008</td>\n",
       "    </tr>\n",
       "    <tr>\n",
       "      <th>3</th>\n",
       "      <td>Wii Sports Resort</td>\n",
       "      <td>Wii</td>\n",
       "      <td>2009</td>\n",
       "    </tr>\n",
       "    <tr>\n",
       "      <th>4</th>\n",
       "      <td>Pokemon Red/Pokemon Blue</td>\n",
       "      <td>GB</td>\n",
       "      <td>1996</td>\n",
       "    </tr>\n",
       "    <tr>\n",
       "      <th>...</th>\n",
       "      <td>...</td>\n",
       "      <td>...</td>\n",
       "      <td>...</td>\n",
       "    </tr>\n",
       "    <tr>\n",
       "      <th>16710</th>\n",
       "      <td>Samurai Warriors: Sanada Maru</td>\n",
       "      <td>PS3</td>\n",
       "      <td>2016</td>\n",
       "    </tr>\n",
       "    <tr>\n",
       "      <th>16711</th>\n",
       "      <td>LMA Manager 2007</td>\n",
       "      <td>X360</td>\n",
       "      <td>2006</td>\n",
       "    </tr>\n",
       "    <tr>\n",
       "      <th>16712</th>\n",
       "      <td>Haitaka no Psychedelica</td>\n",
       "      <td>PSV</td>\n",
       "      <td>2016</td>\n",
       "    </tr>\n",
       "    <tr>\n",
       "      <th>16713</th>\n",
       "      <td>Spirits &amp; Spells</td>\n",
       "      <td>GBA</td>\n",
       "      <td>2003</td>\n",
       "    </tr>\n",
       "    <tr>\n",
       "      <th>16714</th>\n",
       "      <td>Winning Post 8 2016</td>\n",
       "      <td>PSV</td>\n",
       "      <td>2016</td>\n",
       "    </tr>\n",
       "  </tbody>\n",
       "</table>\n",
       "<p>16443 rows × 3 columns</p>\n",
       "</div>"
      ],
      "text/plain": [
       "                                name platform  year_of_release\n",
       "0                         Wii Sports      Wii             2006\n",
       "1                  Super Mario Bros.      NES             1985\n",
       "2                     Mario Kart Wii      Wii             2008\n",
       "3                  Wii Sports Resort      Wii             2009\n",
       "4           Pokemon Red/Pokemon Blue       GB             1996\n",
       "...                              ...      ...              ...\n",
       "16710  Samurai Warriors: Sanada Maru      PS3             2016\n",
       "16711               LMA Manager 2007     X360             2006\n",
       "16712        Haitaka no Psychedelica      PSV             2016\n",
       "16713               Spirits & Spells      GBA             2003\n",
       "16714            Winning Post 8 2016      PSV             2016\n",
       "\n",
       "[16443 rows x 3 columns]"
      ]
     },
     "execution_count": 17,
     "metadata": {},
     "output_type": "execute_result"
    }
   ],
   "source": [
    "data[['name', 'platform','year_of_release']].drop_duplicates()"
   ]
  },
  {
   "cell_type": "markdown",
   "metadata": {},
   "source": [
    "Вывод: Данные предобработаны и готовы к дальнейшим исследованиям.\n",
    "В ходе предобработки были выполнены следующие действия:\n",
    "- названия столбцов приведены к нижнему регистру\n",
    "- обработаны пропуски\n",
    "- изменены типы данных в некоторых столбцах (year_of_release, user_score)\n",
    "- добавлен новый стлбец с продажами по всем регионам\n",
    "- найдены и удалены дубликаты"
   ]
  },
  {
   "cell_type": "markdown",
   "metadata": {},
   "source": [
    "#### Шаг. Иследовательский анализ данных"
   ]
  },
  {
   "cell_type": "markdown",
   "metadata": {},
   "source": [
    "1. Посмотрим, сколько игр выпускалось в разные годы."
   ]
  },
  {
   "cell_type": "code",
   "execution_count": 18,
   "metadata": {},
   "outputs": [],
   "source": [
    "years = data['year_of_release'].value_counts()"
   ]
  },
  {
   "cell_type": "code",
   "execution_count": 19,
   "metadata": {},
   "outputs": [
    {
     "data": {
      "text/plain": [
       "<AxesSubplot:title={'center':'Количество игр, выпущенных в разные годы'}>"
      ]
     },
     "execution_count": 19,
     "metadata": {},
     "output_type": "execute_result"
    },
    {
     "data": {
      "image/png": "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\n",
      "text/plain": [
       "<Figure size 432x288 with 1 Axes>"
      ]
     },
     "metadata": {
      "needs_background": "light"
     },
     "output_type": "display_data"
    }
   ],
   "source": [
    "years.plot(title='Количество игр, выпущенных в разные годы', kind='bar')"
   ]
  },
  {
   "cell_type": "markdown",
   "metadata": {},
   "source": [
    "Пик выпуска игр приходится на 2008-2009 годы. С 1980 по 1993 игры почти не выпускались. С 1994 года график идет вверх, начинается активное развитие игровой индустрии. С 2012 по 2016 годы выпуск игр снизился почти в 2 раза по сравнению с 2008-2009. Не все эти данные важны для исследования, думаю, до 1994 года однозначно можно не учитывать, выборка слишком малнькая для того, чтобы делать выводы."
   ]
  },
  {
   "cell_type": "markdown",
   "metadata": {},
   "source": [
    "2. Посмотрим, как менялись продажи по платформам. Для найдем платформы с наибольшими суммарными продажами"
   ]
  },
  {
   "cell_type": "code",
   "execution_count": 20,
   "metadata": {},
   "outputs": [],
   "source": [
    "platforms = data.groupby('platform')['all_sales'].sum().sort_values(ascending=False)"
   ]
  },
  {
   "cell_type": "code",
   "execution_count": 21,
   "metadata": {},
   "outputs": [
    {
     "data": {
      "text/plain": [
       "<AxesSubplot:title={'center':'Суммарные продажи игр на платформах за весь период'}, xlabel='platform'>"
      ]
     },
     "execution_count": 21,
     "metadata": {},
     "output_type": "execute_result"
    },
    {
     "data": {
      "image/png": "iVBORw0KGgoAAAANSUhEUgAAAYsAAAEnCAYAAABYPm8eAAAAOXRFWHRTb2Z0d2FyZQBNYXRwbG90bGliIHZlcnNpb24zLjMuNCwgaHR0cHM6Ly9tYXRwbG90bGliLm9yZy8QVMy6AAAACXBIWXMAAAsTAAALEwEAmpwYAAAzIElEQVR4nO3dd5wdZb3H8c+X0KWEkBAhIQQFRIoCRprKRfBewQYqeEWUwAVjAWneK9ULKiAqSgdFWhCpKoKIKEKwcGmhBghIxEBCDYQSQKTkd/94npOdnczZOWfP7mYTvu/Xa1875TnTzsz8njZzFBGYmZn1ZLEFvQFmZjb4OViYmVktBwszM6vlYGFmZrUcLMzMrJaDhZmZ1XKwMDOzWgMaLCR9TtJkSS9KelzS7yS9fyC3wWxRJelISecv6O2wRdOABQtJBwInAMcAI4ExwGnADgO1DWZm1ksR0e9/wIrAi8DOTea/FXgZWLkwbRNgFrAEsDsQwAGF+R/J047K41vn8RMLadbL084vTLsUeAJ4HvgzsH5h3rnAj4FrgDnAn4A1CvMDWKswfhRwbh4em+cvXrF/M4Gt8/BiwMHA34FngEuAYU2Oy9bA3HzsGn9vALvn+bsDNwCn5P25H9i28PnVgCuA2cA04Iul5X+otPy5wIfyvJWAK/N38GweHl3Yh18CJ1cdG2B/4EZgmTw+vbDc5YAngb822eduxxHYtOJ7Lh+TrxbWcwhwX97mc4Clm6xn9/I2lL6nTfM+PAc8no/xkjXbXNym14Aje0jzBrBX3bqA3+T0L5U+/+M8/9+Bh4EpwAXA70jn7VPAvqVr8Lz8fT4MHA4s1uJ5dD3wKrBKYdolpe/8o8AdwAvAjNK+/yfwD2CFPL496RocUXEs3w48QLr+nmx873XrqLl25gC3ABsU5m8O/F8+5nc1vvc8b1g+dx4jnUe/LixzZov3vOL657t2c5r/Aqbmdfye+e81+wIPAU8DPyh9X38tpP1GTt+4xpYiZcwfy38nAEsV0i+e079E17l6VN0+DVTJYgtgaeCyqpkR8QTphPxMYfIXgIsi4rU8Pg0YX5i/F+lAF80Ctpe0VA9pfgesDawC3A78vDR/V+A7wHDgzor5nfoasCPwb6Sb+bPAqT2kfywilmv8kW4qRZuRAs9w4AjgV5KG5XkXkW6AqwE7AcdI2qbwWQEPF5b9SGHeYqQLZg1SKfCfpJsJETEX+Dzwnlxi7Fqg9EngK8DHI+KfFfvzP6STs1U/AB4tTet2TCLitMK8XYEPk24665Buir3xBnAA6bhuAWwLfLXmM0MLx/Li0rzGtbZinv+XVtYVER/P6dcvrePLkpYhnZ/7AtsAGwAbARNI59eRkt6VP3cyKWC8Lc/bDdijsA09nUfkeeMBJA0nHduil/Iyh5Ju6l+RtGPeh4tJN+aTJK0MnEUKlLPmP4Q8RcoIrkC6oe8lacO6dTTxWD52Q0kB4ci8/aOA35Iye8OA/wZ+KWlE/tzPgGVJx3wV4Pge1tGTpteupB2AQ4FPASNI58OFpc9/EhhHyjjvQAou3eTvaF9S0Gs4jHTsNgLeTcqMFK8D5f/r5e1q6R43UMFiZeDpiHi9hzQTSTcgJA0BdiF9aQ1PAtMlbSFpJOkmdktpGa8CVwGfkrQkKQfz62KCiDg7IuZExL9IJ8+7Ja1YSPLbiPhznn8YsIWk1dva2559GTgsImYWtmEnSYv3cnlPASdExGv5onwA+Gje5vcBB0XEKxFxJ3Am6WJrWIZ0zOYTEc9ExC8j4uWImAMcTbrJNOb/E/gEcIikT+fJm5Fyr5+IiKfLy5T0VmBP4Eet7Jikj5FO7D+2kj47JSJmRMTsvM27tPHZeSLitoi4KSJej4jpwE8o7H8vLAnMjYg3+nBdmwMvRsTl+cb7K+DaiHggIqaSSpWfytfTZ4FD8rk/HfghKUPWUHkeFeafV0i/G92vTSLi+oiYEhFzI+Ju0o2vuA97kwLa9cBvIuLKqh3K2/f3SFlgka77x1pcRzOLAUNIJXlI95mrIuKqvKxrgMnARyStSrpvfDkins3H408trKNdXwa+GxFT833xGGAjSWsU0nwvImZHxCOk0kHVuXwocDapRNiwK/DtiHgqnxffovt3vUz+X3ntNzNQweIZYHjNDfFyYD1Ja5KK1s9HRDkYnEkqLYwnnbxVziTdkHYErqZwQCQNkXSspL9LeoFUbQEpN9UwozEQES+SqnBWK8y/XdJzkp4j5UjKnpb0rKSpkj5fMX8N4LLCMqaScpYjm+xPnUfzhdXwcN7e1YDZ+UZfnDeqMP5WUmlsPpKWlfQTSQ/nY/VnYGi+8TRsQqoSOCGPn0IqNm9DtSNIOdzZLezXEOC7pCJ2O2YUhhvHopnNG99D/i7mpZW0jqQrJT2R9/8Yup8n7RpGKkXOp4N1jaTJ95c9RfqOh5Oqcx8uzCufC83Oo4ZZwN8kfYB04+l2/UnaTNIkSbMkPU+6Gc7bh4h4jlQFvAEpUDUlaUxexjTgr6RqpNp1VFgtf69zSAHg5Dx9DWDn0nf/fmBVYHXSdVP5XTWWma/xOyR9uKd96cEawImF9c8mBcfid9LjuZwDy2dIpe9u28j833Xxs28lVZE9QxsGKljcCPyLdAOvFBGvkOpBP086GX9Wkex3pNzy+CbziYh7SEXIw0mBo+hzpOLch0hF8rF5ugpp5pUiJC1HusgfK8zfJCKGRsRQ4LiKTRgeESsB+wDn5mUUzQC2bywj/y0dEeWqllaNklTc/jF01VUOk7R8aV5xPRuTiudVvg68A9gsIlYAtsrTBSBpaVIHhQl0VR/um4ePyKWIonVI1UMntrhf44EHIuKmFtM3FEuBjWPRzE3F76GU9nRS3f3aef8Ppft50q51gL81mdfbdc2i55vlKqSc+dOkqr9irrV8LjQ7j4rOJN1wp1VUIV1AKsmsHhErktr+5i1P0kakapQLgZN62qmIeCQvYxSp5LBnK+uo8Fj+XpchtRP+Mk+fAfysdA2+JSKOzfOGSRpas8xh+VhM7GlfejAD+FJpG5aJiP8rpKk7l78DfL+UISSnK3/Xxc9uDNwfEYOvZBERzwP/C5wqaceca11C0vaSvl9Ieh6p8eYTVASDXIT/HqnBuqfc6THAHyPi3tL05UlB6xlSQDmm4rMfkfT+XI31HdINZUZFujrPkk7k8sn8Y+DoRnFT0ohcf9lbqwD75uO5M/BOUhF7Bqme+LuSls5113sC5+f1NtoxyvWkDcuT2imey/WiR5TmfxO4MSKujYhGXeyNEfFA3scTSukPJxWNX2lxvw4jNVa3a29Jo/M2H8b8bQetWp5UanpR0rqkdpheyVWC+1GqEu2Ddd1EKu19PNe3fxLYVtI7JL2DdB39Jl83l5DOu+XzuXcg+VzIKs+j0vr+QGrnq6rDX56UI39F0qakjFlj/5fO6zqU1E4ySlJl+0/hu4NUdTeEdB72uI6e5BLTG3QF1vOBj0v6cK5tWFrS1pJGR8TjpEzpaZJWysdjqybLfI7e30N/TKrCXR9A0or5uBf9T96GxvlTPJfXIlX7/qRi2RcCh+d7y3DSvbdx3S9JKpE1u+6b6m09edsi4oeSniDdNH5OKhreRqpXbqS5QdJc4PaIeLjJcs5pYV1XknrvlJ1Hyt0+Sir2fZP5L8wLSDfGLUgXRlVVUk+m5wzaK8CEiJjTPcPGiaQA8od8w36KdBJc3uZ6Gm4mNdg/TcpF7hQRjeLlLqSTstGr44iIaNT/TydVTVxd2L5lSb1vliHd7C/Iy32MVHWwI4Ck9UiBp9HwWPZd4C5J20XE1Xna0zSvOqxyZUQ82Eb6hgtIN7XVSMf0qF4sA1IV4xmkarA7SN9Rs+q1Or/Pf80aSnu1roh4SdJupO/4OeBuUo73p6SegN+NiMk5+ddIOeGHSOfmT0l13Q09nUeN9c2lopE1+yrwQ0mnkHpjXUJqWIZ0PsyIiNMBcvXsJEnXVHzHGwI/zgHjBVInjUbGsad1VFlN0ouknj8zG9seETNyBu37pJvmG6T2z8a94Auk7+p+UsCaRKqGBXirpJl5+AW6Sj1tiYjLcq3DRTl4P0/qhXlpIdnlpHvkiqSemmcV5o0EvhZdHYCKjiJ1ELg7j19K13VwJamn1maSDs7TlgJC0u8jotjxoht1r6Zc8CRdB1wQEeUqpIFY97mkrnG97UEzoCTtTupV0vaDjZKmR8TYiul/jIgP9cHmDThJ00nHo50G8UWGpCNJXVnbyuB0ch5Z/5AUpGrJaX283OtJ3Xenl6YfTuqOe32zzw5YyaIVkt5LVzcx61+PN5neU4OpmS3cZgFVvVJfIFXRNzVogoWkiaRqjv0qGmysj0XEFk2m96qrqZkNfhFRbhdpTO+x0wEMwmooMzMbfPzWWTMzq+VgYWZmtQZNm0WV4cOHx9ixYxf0ZpiZLVRuu+22pyNiRH3K1g3qYDF27FgmT55cn9DMzOaRVPmcWidcDWVmZrUcLMzMrJaDhZmZ1XKwMDOzWg4WZmZWy8HCzMxqOViYmVktBwszM6s1qB/KKxp78G8rp08/9qOV083MrO+4ZGFmZrVqg4WksyU9JemewrQfSLpf0t2SLiv+uLmkQyRNk/SApA8Xpm+Xp00r/JyfmZktBFopWZwLbFeadg2wQUS8C/gbcAjM+23mzwLr58+cln8QfQhwKrA96beBd8lpzcxsIVAbLCLiz8Ds0rQ/RETjp/luAkbn4R2AiyLiXxHxD2AasGn+mxYRD0XEq6QfYfdPp5qZLST6os3iv4Df5eFRwIzCvJl5WrPpZma2EOgoWEg6jPTj3z/vm80BSRMkTZY0edasWX21WDMz60Cvg4Wk3YGPAbtG1w95PwqsXkg2Ok9rNn0+EXFGRIyLiHEjRvTpb3eYmVkv9SpYSNoO+AbwiYh4uTDrCuCzkpaStCawNnALcCuwtqQ1JS1JagS/orNNNzOzgVL7UJ6kC4GtgeGSZgJHkHo/LQVcIwngpoj4ckTcK+kS4D5S9dTeEfFGXs4+wO+BIcDZEXFvP+yPmZn1g9pgERG7VEw+q4f0RwNHV0y/Criqra0zM7NBwU9wm5lZLQcLMzOr5WBhZma1HCzMzKyWg4WZmdVysDAzs1oOFmZmVsvBwszMajlYmJlZLQcLMzOr5WBhZma1HCzMzKyWg4WZmdVysDAzs1oOFmZmVsvBwszMajlYmJlZLQcLMzOr5WBhZma1HCzMzKyWg4WZmdVysDAzs1oOFmZmVsvBwszMajlYmJlZrdpgIelsSU9JuqcwbZikayQ9mP+vlKdL0kmSpkm6W9Imhc+Mz+kflDS+f3bHzMz6Qysli3OB7UrTDgaujYi1gWvzOMD2wNr5bwJwOqTgAhwBbAZsChzRCDBmZjb41QaLiPgzMLs0eQdgYh6eCOxYmH5eJDcBQyWtCnwYuCYiZkfEs8A1zB+AzMxskOptm8XIiHg8Dz8BjMzDo4AZhXQz87Rm0+cjaYKkyZImz5o1q5ebZ2ZmfanjBu6ICCD6YFsayzsjIsZFxLgRI0b01WLNzKwDvQ0WT+bqJfL/p/L0R4HVC+lG52nNppuZ2UKgt8HiCqDRo2k8cHlh+m65V9TmwPO5uur3wH9IWik3bP9HnmZmZguBxesSSLoQ2BoYLmkmqVfTscAlkvYEHgY+k5NfBXwEmAa8DOwBEBGzJX0HuDWn+3ZElBvNzcxskKoNFhGxS5NZ21akDWDvJss5Gzi7ra0zM7NBwU9wm5lZrdqSxcJo7MG/nW/a9GM/ugC2xMxs0eCShZmZ1XKwMDOzWg4WZmZWy8HCzMxqLZIN3O1wY7iZWT2XLMzMrJaDhZmZ1XKwMDOzWg4WZmZWy8HCzMxqOViYmVmtN33X2Xa4m62ZvVm5ZGFmZrUcLMzMrJaDhZmZ1XKwMDOzWg4WZmZWy8HCzMxqOViYmVktBwszM6vlYGFmZrUcLMzMrFZHwULSAZLulXSPpAslLS1pTUk3S5om6WJJS+a0S+XxaXn+2D7ZAzMz63e9DhaSRgH7AuMiYgNgCPBZ4HvA8RGxFvAssGf+yJ7As3n68TmdmZktBDqthlocWEbS4sCywOPANsAv8vyJwI55eIc8Tp6/rSR1uH4zMxsAvQ4WEfEocBzwCClIPA/cBjwXEa/nZDOBUXl4FDAjf/b1nH7l3q7fzMwGTq9fUS5pJVJpYU3gOeBSYLtON0jSBGACwJgxYzpd3AJR9Spz8OvMzWzh1Uk11IeAf0TErIh4DfgV8D5gaK6WAhgNPJqHHwVWB8jzVwSeKS80Is6IiHERMW7EiBEdbJ6ZmfWVToLFI8DmkpbNbQ/bAvcBk4CdcprxwOV5+Io8Tp5/XUREB+s3M7MB0kmbxc2khurbgSl5WWcABwEHSppGapM4K3/kLGDlPP1A4OAOttvMzAZQRz+rGhFHAEeUJj8EbFqR9hVg507WZ2ZmC4af4DYzs1oOFmZmVsvBwszMajlYmJlZLQcLMzOr5WBhZma1HCzMzKxWR89ZWOf8HikzWxi4ZGFmZrUcLMzMrJaDhZmZ1XKwMDOzWg4WZmZWy8HCzMxqOViYmVktBwszM6vlYGFmZrUcLMzMrJaDhZmZ1XKwMDOzWg4WZmZWy8HCzMxqOViYmVktBwszM6vlYGFmZrU6ChaShkr6haT7JU2VtIWkYZKukfRg/r9STitJJ0maJuluSZv0zS6YmVl/67RkcSJwdUSsC7wbmAocDFwbEWsD1+ZxgO2BtfPfBOD0DtdtZmYDpNfBQtKKwFbAWQAR8WpEPAfsAEzMySYCO+bhHYDzIrkJGCpp1d6u38zMBk4nJYs1gVnAOZLukHSmpLcAIyPi8ZzmCWBkHh4FzCh8fmaeZmZmg1wnwWJxYBPg9IjYGHiJrionACIigGhnoZImSJosafKsWbM62DwzM+srnQSLmcDMiLg5j/+CFDyebFQv5f9P5fmPAqsXPj86T+smIs6IiHERMW7EiBEdbJ6ZmfWVXgeLiHgCmCHpHXnStsB9wBXA+DxtPHB5Hr4C2C33itoceL5QXWVmZoPY4h1+/mvAzyUtCTwE7EEKQJdI2hN4GPhMTnsV8BFgGvByTmtmZguBjoJFRNwJjKuYtW1F2gD27mR9Zma2YPgJbjMzq+VgYWZmtRwszMysloOFmZnVcrAwM7NaDhZmZlbLwcLMzGo5WJiZWS0HCzMzq+VgYWZmtRwszMysloOFmZnVcrAwM7NaDhZmZlbLwcLMzGo5WJiZWS0HCzMzq+VgYWZmtRwszMysloOFmZnVcrAwM7NaDhZmZlbLwcLMzGo5WJiZWa2Og4WkIZLukHRlHl9T0s2Spkm6WNKSefpSeXxanj+203WbmdnA6IuSxX7A1ML494DjI2It4Flgzzx9T+DZPP34nM7MzBYCHQULSaOBjwJn5nEB2wC/yEkmAjvm4R3yOHn+tjm9mZkNcp2WLE4AvgHMzeMrA89FxOt5fCYwKg+PAmYA5PnP5/RmZjbI9TpYSPoY8FRE3NaH24OkCZImS5o8a9asvly0mZn1Uicli/cBn5A0HbiIVP10IjBU0uI5zWjg0Tz8KLA6QJ6/IvBMeaERcUZEjIuIcSNGjOhg88zMrK/0OlhExCERMToixgKfBa6LiF2BScBOOdl44PI8fEUeJ8+/LiKit+s3M7OB0x/PWRwEHChpGqlN4qw8/Sxg5Tz9QODgfli3mZn1g8Xrk9SLiOuB6/PwQ8CmFWleAXbui/WZmdnA8hPcZmZWy8HCzMxqOViYmVktBwszM6vlYGFmZrUcLMzMrJaDhZmZ1XKwMDOzWg4WZmZWy8HCzMxq9cnrPmxgjD34t/NNm37sRztOa2ZWxyULMzOr5WBhZma1HCzMzKyW2yzM7RtmVsslCzMzq+VgYWZmtRwszMysloOFmZnVcgO3tayqIRyqG8PbSWtmg5+DhS1w/fVkunt5mfUdV0OZmVktBwszM6vlYGFmZrUcLMzMrFavg4Wk1SVNknSfpHsl7ZenD5N0jaQH8/+V8nRJOknSNEl3S9qkr3bCzMz6Vye9oV4Hvh4Rt0taHrhN0jXA7sC1EXGspIOBg4GDgO2BtfPfZsDp+b/ZAuVuvmb1el2yiIjHI+L2PDwHmAqMAnYAJuZkE4Ed8/AOwHmR3AQMlbRqb9dvZmYDp0/aLCSNBTYGbgZGRsTjedYTwMg8PAqYUfjYzDzNzMwGuY4fypO0HPBLYP+IeEHSvHkREZKizeVNACYAjBkzptPNM+tTnT7F7qotW1h1VLKQtAQpUPw8In6VJz/ZqF7K/5/K0x8FVi98fHSe1k1EnBER4yJi3IgRIzrZPDMz6yOd9IYScBYwNSJ+VJh1BTA+D48HLi9M3y33itoceL5QXWVmZoNYJ9VQ7wO+AEyRdGeedihwLHCJpD2Bh4HP5HlXAR8BpgEvA3t0sG4zMxtAvQ4WEfFXQE1mb1uRPoC9e7s+MzNbcPwEt5mZ1XKwMDOzWv49C7NBwN1sbbBzycLMzGo5WJiZWS0HCzMzq+VgYWZmtRwszMysloOFmZnVcrAwM7NaDhZmZlbLwcLMzGo5WJiZWS0HCzMzq+V3Q5ktZPweKVsQHCzMFlHt/F64WR1XQ5mZWS0HCzMzq+VgYWZmtdxmYWZu37BaLlmYmVktBwszM6vlYGFmZrXcZmFmbfFDgW9ODhZm1m8cWBYdA14NJWk7SQ9Imibp4IFev5mZtW9ASxaShgCnAv8OzARulXRFRNw3kNthZoOPSyGD20CXLDYFpkXEQxHxKnARsMMAb4OZmbVJETFwK5N2AraLiL3y+BeAzSJin0KaCcCEPPoO4IGKRQ0Hnm5xta2m7Y9lDoa0C3r9/ZV2Qa+/v9Iu6PX3V9oFvf7+Srug198s7RoRMaLFz7cmIgbsD9gJOLMw/gXglF4sZ3Jfp+2PZQ6GtAt6/d4v79dgWL/3q/O/ga6GehRYvTA+Ok8zM7NBbKCDxa3A2pLWlLQk8FngigHeBjMza9OA9oaKiNcl7QP8HhgCnB0R9/ZiUWf0Q9r+WOZgSLug199faRf0+vsr7YJef3+lXdDr76+0C3r97abttQFt4DYzs4WT3w1lZma1HCzMzKyWg4WZmdVaJIOFpGGShi3o7RhMJL13QW/Dm4GkpSXN9zCUpBGSll4Q29QXcseU/ljuQnG8JH2ycU/J23aepCmSLpY0uofPLS1pg/zXr/sjqV87LA36Bu78Pqm9SM9kXB0RNxTmHR4RR+XhMcD3gW2B5wABKwDXAQdHxPTC55YF9gECOJnUhfdTwP3AtyPixULaz0fE+ZIOrNq+iPhRabmvRcRrefwdwEeAhyPiV6X9ei8wIyKeyOO7AZ8GHgaOjIjZNcflbxGxTk2a9YBd8t9zETGuMG9t4Djg7cAU4L8jovKZl3a2VdJawMji95Snvw94IiL+nseHA3sDzwJnAz8APgD8Hfh6REwrbethwGzgR8BPga2AacBeEXFrIW3L30GTfT0mIg7tYP/PIJ2n5e/7k8B/RMRXKta5DnB6Pm4bSHoX8InGuV1Ity7p9Tij8qRHgSsiYmohzRTSed0QpKd7JwHHRcQrpWXeB1wAXNj4bpocl9sjYpNm80tp/7eH2RER3ymk7c3xGgqsnUf/FhHPV6RZgXQ8H8zjOwPL5Nm/j4gn8/Q1SNfG83n8g8COpO/2lEivJULSfRGxXh6+GLgJuBT4ELBrRPx7af2LA8cA/5WXJdIzZucAhzXOz5x2feDtEXFFHj8eWDHPPiUibi+k/Q2wT0Q8XFrfh4ATImKD8rHoKwtDyeInwL8BzwAnSfpRYd6nCsMXA5cBb42ItSNiLWBV4Nekd1AVnQuMBNYEfguMI92sRLpoi96S/y/f5K/oamAszLtp3gi8Ddhb0ncr9qtxIm4FHAucBzxPqSucpDmSXsh/cyTNAd7emF5KO1bSIZLuBn4GfAX4UDFQZGcDV5JuereTgmYzLW8rcALwAvN7Ic9ruABYinTR3wI8RHrC/0rgzNJnzwH+D3gMuDlv+8rAfwOnlNK2/B1IOqn0dzLw1cZ4L/f/PVVBKSIuIwW4Kj8FDgFey2nvJmVgitt6EOk8Ful43ZKHLyy9vfljwMcLf58gHafhVH/Hu5DO8T9IukXSAZJWa7KdrXqp4i+APYGDSmlbPl6SlpJ0LjCddNx/CkyXdHZ+bqvoOOB9hfHvAu/Ny/xWYfol5Gtc0kakAPAI8G7gtEK6IYXhtSLi+IiYGRHnAlWv1fgBMAxYMyLekwPt24GheduKjqX76zo+TLovTQLKgfciYJKkwyQtIWk1SZcARwPjK7aj7wzEY+Kd/AF3F4YXJ50kvyLdaO4ozHuwh2U8WBq/M/8X8ARdJSwV19eLbZ1SGP4OcGoeXrI4L0+7qzB8KimH2m37CuMnkW5OIwvT/lGx/huBe4FvAms3S9dkHbf3sF/tbOutLR6fuwrH/JGabbuzMDytJm0738EM4HxgN9KFNh6Y1Rju5f5P7WH/K+c1jlnpfC4v92/AEhWfXbKnc7+U9o6a+ZsDx5NulpOALxbmvU4K+OW/OcALPSxzeeBw4B/A94BVenu8gG8DPweWLy3/POA75X0lX9cVx/avheHi/eU44Pt5eLHSvJ/k9S8D/BD4ZJ7+QeBPFdv+YHH9helDyt8Xpdd1ADdVbWth2op5e6aRSi0TqtbV138LQ8liXo4hIl6PiAnAnaTqpeUK6W6TdJqkzXK0XS0Pn0Y6ceYT6chflf83xrvVy0n6Rv5/ckVO9KTyIgvD2wDX5OW+CswtpR1SqGPcNu9PQ7e6x4jYFziRlIvcV9Ji5e3MniRdPCPpyu00q2dcWtLGkjaRtAmwTGm8V9tKyjk1s0xh+I28b41qkqLysSqOl0st5bTtfAfr5XVvB1wTEROBORExMQ83tLP/T0natDStUZU1qzw9e1rS2xvbrvTCzcdLaeYCVTn+VSv2q5ker/eIuCkiDiAFz6F0L7VNiYgVKv6Wj4gVystSajc8CribdIw2iYiDIuKpUtJ2jtenSAFsTmGb5wBfBT5ZSrt447rOvlAYHlpcVWF4G+DavNzyMd2HdJwfAHYGfplL+F8sLbuwaTHftRcRbzD/Nbl8Kc3mhdFVKpa9HukN3rcA/yJd7/3+gPXC8Et5kyVtFxFXNyZExLclPUb3KqPdSMXcb1Gq0wXOqljmchHxYkT8V2NivmDnlNIulU/mu0hVEaK5uyUdl9e7FvCHvNyhFWkvBP4k6Wngn8Bfctq1SNUb3UTEbblech/gT8B8jWURsaOkFUkX1ZG5rn+opE0j4pZS8idI9f9V40G6cHqzrZMlfTEiflqcKGkv4LbCpLdJuoJ0PBvD5PE1S8t8Z65WE6n67e5C2reV0rb8HeQbzf6S3gP8XNJvqb6htrP//wNckqtLGvs7jlRa+c+KZUNquzkDWFfSo6Rc+OdLafYHrpX0IKlEBDAm72Pxrc1V7Qor5eX9ucn6GzfnXUjVkv8g5VwvbZa+9Nklonsd/A9I5+AZwIZRaAOs0Ox47UapKg6YGxEvlxcQES9KKt+A50p6a+R2poi4J2/bKLoH1+tyNc4TpON0XU63KrnqMX/+NeBI0nW1IikYPdPDft0nabeIOK84UdLnSW2jRY9J2iwibi6l3ZxU9VqcdhawMfDViLhR0ltI97y7JO0fEX/oYZs6MugbuAeaJBVzBPnGsyXwTlIu6QZS/fn/RakRWtIywH6k3N7ZEXFXnr4lqQHrZ6X0m+e0f4iIl/K0dYDlotCoVbGNqwIbR8RVNfuyCukG9VlgTESs3lP6mmW1tK2SRpLajl6l+8W/JKno3mgk/reK1TSOuyLiT4VlrtHDpo2JiL8U0rb1HRQ+J1IOdYuIKN+o2/qu8nHfG9gg79O9pIbKZiWLxufeAixWzDmX5i9GylEWM0O35txqI82k0seC1N53PXBG8aae0x9DOkdmk+rDL46ImRXrPjQijimMi5Sh+BzwsYgYWZg3l5TjfZ3uuWiRctzdSiL5nPkq6XhB1/F6qpTuLmBrqjNskyLi3YW0nyedB1+nq2ZhE1JV00mN80DSAaRz8w3ggoh4LE/fmFRl9vuKdXUjad2IuL80bRSpuvyfdL8OliFdB48W0m5KanM9l9R+CPAeYHfgM8WMXt7ek4rfeZ6+IXBaRHygbnt7a9AHC7XYE0Wp98SfImK2Ule840gnx32k3jUz211maTuWJH3ZWwJb5L/nIveQqEg/AqDZDUKpG92XSTnDKcBZEfF6J8egJ5LWiEIPil4egw2BdfPo1EZurcn6Pkjh4o+I60rzdwBGR8SpefwWUtVZAAdFxKWFtA8BPwZ+2LhI8g3mh8C60b2X1woRUdXAjqQxEfFID9u8AqnB/aGIeLYwfZvG9ktaMyL+UZj3qSg00Nbs1zci4hcV612KdOzHUijtR8S3S+nE/MHilqrqjlYp9Vy6MHKvoRbSb04KEDuSGnD3JvXIeranz7W47LprZjqpVFAVLCIi3lZKvx1wKLB+nnQPcGxE/K6QpuXMYA/b/UhEjGkyb5vC+u+LiGubpFuFVEJcn64MxqkVAXPxZveJfhf93CjS6R8p0g7Lw1uRimWfJjVe/qKQ7r7C8MXAAaTutruT6qPbXmbpMyuS6ra/A/wRmAycU0oj4AhSXetsUrfQWcD/VizvYlLj6pdIPbZO7INjMDyvf19Se87ppAvkclIPjl4dg7zv15O6tV6Wt/fvpEbQFUpplyZVmZyS923xJvt0A7B6YfxOUg+nMcC1pbQrkapFppBys/uRgtrepJx4t/0qDJeXc3tp/HxgeB7+MKlh94952Ts3WWZ5GeXxqv0aVrVfhTRX5/PhG6Sc8NdJGZximv8gNWj+jtRb7Mz8uWmkLqaNdJ/P/w+s+qtY93tJPQgb47vl8+WkxvmRpx9DarS9ltSVfWWad57YpjC8ZmnepyqumSPpumZm0+Sa6c8/UuliS1LPsV+SrofiPeWkJn8n03MD/4akNo6dgQ2apNkB2LswfgupKvAhYKcezu+TB/IYLQxtFkOiK8L/J6ko/UtSA9OdxXSF4bUiolE/fK6k/Xu5TJT6ga9Pasu4mZTr+FFU56QOAN4PbBo59ynpbcDpkg6IiOMLadeLiA1zmrNIJ0inx+ACUhBrdEc9h9Qw/gHSzWXr3hwDUgCZTLoJzM3bvBipy9/RwNcKaSeSuoD+BdielGPbv2KfloyIGYXxv0aqA34mV8fMk4/1lyTtR7qZPwZsHhXVJXTPdZYfzCznSN8dEY3G9SOArSJiutIzINfSVWdf/Fx5GeXxqv2aDcwu71fB6IjYrsm8hhNJXaCnd1u5tCZwFek4Q/eu3q34CelZgWK34K8BG5HaHHbK6fYi9cg6HfhNRPyrop2goVGqh3TjLbajHE6qnmk4gNTFtfaakfRhUk+obqUzSZ8m3bCvKUxr+VmPbBnSc1kr5r/HSJmThj1IQfxfFcvbpTwht2tcTnq2otHetqGkR4Adonvp9xt0b59ZklQNtRzpGi7ub/F8K3YN7n8DGZl6GfHvIedOSQ1DWxXnFYZb7trW6jLz+NWkG+W5pC5qG0J1NzVS3ejwiukjKHVbpCaH2stj0E531HaOwX1UlBBIVSbl7o1TSvMr94tSF9jSvL+Xxofm7/dOUg77BHIpo+Kz7ZQC7iWXjIC/UiilkKrOerPMlverML3RENzTdfBgk+9gyZ7WWfdHi92CSZmx7UiZgZmkZ3geb7JNd1QNNxtv45q5ARhRkXY4cGNp2tcr/v6XVGp8sXTsbyBd598iZXBWqljHdcCWTY7hPyqmnUQKmsVzajHSg8Mnl9LeWho/pTB8U2le03Oxv/8WhpJFqz1R9iE95dv4ze4DJL0E/Ib5u7a13LslIrbLdcXrk4qpXwc2kDSbdIIeUUi+RHTlVIvLmCVpidLkd6vrgTqRuq6+QHUjYKvbO687ak5bVO4K2E4Pn1ejop400u+TlHNar5Xmlz/WcLOqe019iflLWbeTHpDaO2/HH5QeoDpN0sMRUczZraL0tL0Kw+Tx8sNT3yI94HQq6YZxqVKvrA+Sbh4N7fTcame/Gt4P7JHbZv5F1znwrkKas4FbJV1E995Q/0mht5+kb0TE95UeMJwv5x+pG3bRkEI9+LakDFFDsf3kDdIxuTq3sXyMlDGbKem6iPhccTVNhqvG27lmloqK9oyIeLqiNPrDxrCk5UlVl3uQGvF/WEg6hvTM1oOkNqCZpDdAlO0EvFIxnYgonwOQSmvvikIX3IiYK+lQupdYIFWzFpdXfLVK+ZxdV817BpbPmT416Bu4of1eQ2qha1u7y8zzR5OKfluSLpaVI2JoYX7TVyL0NK8VrWyvpOdI3SNFqnpqdJUU8P6IWKndZeZp95OK2lVVMOdHxDsLad8gPbHbmL8M8DKlIJgb9H5NujkWe4AsBewY+XUMOe3oqK5yonxjlnREVbqGiCg+vYtS9+K9gHVIN8eZwK+j0AtG1T23isss9txqeb8Kn1mjyXLLr3R4J9Wv+7ivkOabpB8XexcVXb2j+/MjSDqM9DqUp0k3zk1yZmMtYGJEvC+nq+oQsROpfeH6KPQya+c8bOeakfQ3UvXt66V0S5DaF9YuTR9GaqvZlVQiOjEqqo9LmcEtSR0zqjKDLZN0Z0Rs1Mo8ST8nHcOqDMbWxcxQs3OloXzO9KVBHyzUXq+htwJExBO5Z8UHgAei9Gt8bS5zX7pOotfIPSXy35RizqF0o+y2GGDpiCjnlFrS6vY2uak1vuByd9R2jsH1zN8LJRrjEfHBNnepuOxib5H5ek0trNrZL6WeY8W0k1pcx8rlDJF60bunxYzI7aQ2k9m5beMiuto23hkROxWW18552PI1I+lY0gNo+xS2czlSlc+siDiokLb4rMep0fOzHo3PNM0Mav5ebjfTlevv1nsvz28ng9VOxqmld6/1h4UhWFxM9wbThyNiv4p0XwIOJn0Z3yP1grqHVMT/fkSc1e4yc9ofkS+4iCg/VTsg2jgG5RO6p+6oLR+DnH4z0kNRtyq9+Gw7UntFj896DDS19xK7ltIqPbvQ7EKJiNi2/S0FdfXFf4Wuvvjvobov/rGkFwE+rfQQ4aWkasclgd2KN+CcvqWu3m1kRO6K/BxDrrabFRFH5vFyTrnl87AdSk/RH0UqCTZy0GNI1XDfjO4PBrb0rEermUFJNwCfjdx5QakTyLakDgXnlM+B3mSwWslgSLoSOCQippSmbwgcExEfL3+mrywMwWJKdPUaWpzUr3y+YqvS2zY3I11oD5N6RD0haSXSAzsbtbvMwaKNY9DyCd3OMchVO9uTqmmuIfX1vx74d9IbPI/uo13tmKSvV0x+C+np/pUjYrl20+abc9nmpF4sT0VEr17/Luky4PJIL6MrTt8N+HRE7FCYVvy+JpGe2bg1lwAuiNKLInNV7BaknPIWpE4CUyJij1K6VjMi9wAbRWqHuh+YEBF/bsyLwttO272xtipXhTXaFNYi9e77OKmDxpHNSk41y2wpMyjp1uL3LOmUyG0Lkm6K7q/oaKTp8wxWeTtK8+adI/0iBrA1vTd/tNhriO49MO5qNq+dZQ6WvzaOQa96VdQdA1KOcwiwLOndTI0eRMvQwYsXB+C49fgSu96kJb0B+Y+k3lPbd7h9D7Q6D5hKV++18ndZ7IHWUu+eJp/tqffaYXm5l1N4SR/ppn1Db8/DNo9X289H9eG51FYvN1JX7JtIPSm/S+qK/U1S+81hHWxHTy9M7XWvuFb+FobeUK32GpqrrnfUfLTx4VzMLr/vp52eSINBq9vbTq+Kdo7B65F6w7ws6e+R+4hHxD9zcX9QqWjY3CSaPGHcalqlPv6Hk6o2jo4W2xVqVL7YT+kZliGlyacBV+XqqKslnUiqwtqG1KW4odXePQ0t9V6LiKMlXUtX20ajSmIxuj9nA+2dh+1o59mgvtZuL7edSO05S5HeOzU6Il7IbUo3k55P6o1W373W5wZ9sIiI8kXTzP7kusno3nNmZbo/1NLOMgeFNra35RO6zWPwqqRlI73EbV6VTK7qGFTBQm28xK7VtJJuJd3kfkB6DTwqvLAveniPV40rJf0U2D+6GmzfQnpN+G+LCSPi5FzV+hW6em6tTWoYPaqQrp2u3tBGpiEibirvQET8rWK/etN9uBUtdfPtJwcAv5b0OSoaoSvS91cGa3/gMkm7UvHutQ6WW2vQt1m0Sm28P2hR1U6vijaXu1REzPfkqtKTzqtGqbFtQWq1YbOdtLmxsumzAxFRfENvO9u6FumVKHvQ/dfUJpLaMv5SSr8uqdvszdH91xy7vZW5ML3Hrt79pR/Pw5a6+fYH5W68krYlvSIceujlptRb6oMR8bKkxaKroXxFUhtqR22kqnn3Wn9YlILFSqRXFWxJegBnQ1L1wveB02P+99MvslrpVWGtU3or6IzIDaCSxpPqyqfTy4bVvJyHSE+mnw40+s8/Qzpnyy9I3Jf0LqyppOqN/SLi8jxv3vMIrfbuGQj9cR6ql29q7oP13hERG7eRvl8yWGqjy3tfW2SCRYPS+4OOp+f3B5m1TG08Y9DmclciNX6+j64MzgGk6q5uGZxcBbVFpN9uGEuqWv1ZRJxYvJG12rvH2iNpJt1//6WbiGg6r4+3o9x7bXpE7D8Q6x70bRatUvpxm++Rus9uRyqu/k7Sfs5ZW4f6pWE1N6R/Wa29IHGxRtVTpJcdbg38QumJ3nmt0hFxYMVnrXNDSC/2a/r+mgHSzgtI+9QiEyxo7/1BZu3ol4bVNjM4T0raKCLuhHm/Dvcx0juj+q9vvTU8HqXfF1lAWn33Wp9blILFVuUcWb6wtpT0xQWzSbaIaOsncNvQTgZnN1JD/Dz5M7tJ+kkH22CtWdAlioYF1u1/kWuzMOsP/dGwqjZekGgLlqRhve3IsKhwsDAzs1qVT5CamZkVOViYmVktBwt705N0vaQen/CXtL+kZQvjO0uaqvQGWLNFnoOFWWv2J711t2FP4IvR4g8/Kb0G3myh5RPY3jTyk89Xk17AtglwL6lLajHN6cB7Sa9f/0VEHJFfobEa6fe6nwYmkX5U6yyl3+P+JumVHeNI3VsPjIhJknYnvahwOdKzGueQXjr3FtJLAI8jvQDuC6T3KH3kzd7jxgYvlyzszeYdwGmRftbyBeCrpfmH5XcyvQv4N0nvioiTSE9XfzAiPpgfzpoM7BoR/0N6Z1PkJ2t3ASbmd/hACko7RUTjp0Y3IAWQ95JeU/1yflXHjZQCl9lg4mBhbzYzouv3i88nlRCKPpPfBXUH6SV461Hv/XlZRMT9pDfIrpPnXVMqLUyKiDkRMYv0QN9v8vQpwNg298VswLgayt5syg8WzRuXtCbw38B7I+JZSecCS9OZl0rjxTeRzi2Mz8XXow1iLlnYm80YSVvk4c+Rfh61YQXSzf35/Fso2xfmzSH99GqVv5B+aa/xVPcY4IG+3GizBc3Bwt5sHgD2ljSV9POfpzdmRMRdpOqn+4ELSK/6bjiD9HOmVV1lTwMWy68RvxjYveq3DMwWZn7dh71p5N5QV0bEBnVpzaw7lyzMzKyWSxZmZlbLJQszM6vlYGFmZrUcLMzMrJaDhZmZ1XKwMDOzWg4WZmZW6/8B8/L4AYZf5GgAAAAASUVORK5CYII=\n",
      "text/plain": [
       "<Figure size 432x288 with 1 Axes>"
      ]
     },
     "metadata": {
      "needs_background": "light"
     },
     "output_type": "display_data"
    }
   ],
   "source": [
    "platforms.plot(title='Суммарные продажи игр на платформах за весь период', kind='bar')"
   ]
  },
  {
   "cell_type": "markdown",
   "metadata": {},
   "source": [
    "По графику видно, что платформы с наибольшими суммарными продажами - PS2, X360, PS3, Wii, DS"
   ]
  },
  {
   "cell_type": "markdown",
   "metadata": {},
   "source": [
    "Построим распределения по годам, по самым популярным платформам."
   ]
  },
  {
   "cell_type": "code",
   "execution_count": 22,
   "metadata": {},
   "outputs": [
    {
     "data": {
      "text/plain": [
       "<AxesSubplot:>"
      ]
     },
     "execution_count": 22,
     "metadata": {},
     "output_type": "execute_result"
    },
    {
     "data": {
      "image/png": "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\n",
      "text/plain": [
       "<Figure size 432x288 with 1 Axes>"
      ]
     },
     "metadata": {
      "needs_background": "light"
     },
     "output_type": "display_data"
    }
   ],
   "source": [
    "data[data['platform'] == 'PS2']['year_of_release'].hist(bins=50, range=(1980, 2016))"
   ]
  },
  {
   "cell_type": "code",
   "execution_count": 23,
   "metadata": {},
   "outputs": [
    {
     "data": {
      "text/plain": [
       "count    2127.000000\n",
       "mean     2004.583921\n",
       "std         2.567689\n",
       "min      2000.000000\n",
       "25%      2002.000000\n",
       "50%      2005.000000\n",
       "75%      2007.000000\n",
       "max      2011.000000\n",
       "Name: year_of_release, dtype: float64"
      ]
     },
     "execution_count": 23,
     "metadata": {},
     "output_type": "execute_result"
    }
   ],
   "source": [
    "data[data['platform'] == 'PS2']['year_of_release'].describe()"
   ]
  },
  {
   "cell_type": "markdown",
   "metadata": {},
   "source": [
    "Платформа PS2 выпускала игры с 2000 по 2011 год. Большая часть игр была выпущена в период 2002-2007 годы."
   ]
  },
  {
   "cell_type": "code",
   "execution_count": 24,
   "metadata": {},
   "outputs": [
    {
     "data": {
      "text/plain": [
       "<AxesSubplot:>"
      ]
     },
     "execution_count": 24,
     "metadata": {},
     "output_type": "execute_result"
    },
    {
     "data": {
      "image/png": "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\n",
      "text/plain": [
       "<Figure size 432x288 with 1 Axes>"
      ]
     },
     "metadata": {
      "needs_background": "light"
     },
     "output_type": "display_data"
    }
   ],
   "source": [
    "data[data['platform'] == 'X360']['year_of_release'].hist(bins=50, range=(1980, 2016))"
   ]
  },
  {
   "cell_type": "code",
   "execution_count": 25,
   "metadata": {},
   "outputs": [
    {
     "data": {
      "text/plain": [
       "count    1232.000000\n",
       "mean     2009.880682\n",
       "std         2.458339\n",
       "min      2005.000000\n",
       "25%      2008.000000\n",
       "50%      2010.000000\n",
       "75%      2011.000000\n",
       "max      2016.000000\n",
       "Name: year_of_release, dtype: float64"
      ]
     },
     "execution_count": 25,
     "metadata": {},
     "output_type": "execute_result"
    }
   ],
   "source": [
    "data[data['platform'] == 'X360']['year_of_release'].describe()"
   ]
  },
  {
   "cell_type": "markdown",
   "metadata": {},
   "source": [
    "Платформа X360 выпускала игры с 2005 по 2016 год, основная часть с 2008 - 2011"
   ]
  },
  {
   "cell_type": "code",
   "execution_count": 26,
   "metadata": {},
   "outputs": [
    {
     "data": {
      "text/plain": [
       "<AxesSubplot:>"
      ]
     },
     "execution_count": 26,
     "metadata": {},
     "output_type": "execute_result"
    },
    {
     "data": {
      "image/png": "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\n",
      "text/plain": [
       "<Figure size 432x288 with 1 Axes>"
      ]
     },
     "metadata": {
      "needs_background": "light"
     },
     "output_type": "display_data"
    }
   ],
   "source": [
    "data[data['platform'] == 'PS3']['year_of_release'].hist(bins=50, range=(1980, 2016))"
   ]
  },
  {
   "cell_type": "code",
   "execution_count": 27,
   "metadata": {},
   "outputs": [
    {
     "data": {
      "text/plain": [
       "count    1306.000000\n",
       "mean     2010.840735\n",
       "std         2.459616\n",
       "min      2006.000000\n",
       "25%      2009.000000\n",
       "50%      2011.000000\n",
       "75%      2013.000000\n",
       "max      2016.000000\n",
       "Name: year_of_release, dtype: float64"
      ]
     },
     "execution_count": 27,
     "metadata": {},
     "output_type": "execute_result"
    }
   ],
   "source": [
    "data[data['platform'] == 'PS3']['year_of_release'].describe()"
   ]
  },
  {
   "cell_type": "markdown",
   "metadata": {},
   "source": [
    "Платформа PS3 выпускала игры с 2006 по 2016 год, Основная часть пришлась на 2009-2013 годы"
   ]
  },
  {
   "cell_type": "code",
   "execution_count": 28,
   "metadata": {},
   "outputs": [
    {
     "data": {
      "text/plain": [
       "<AxesSubplot:>"
      ]
     },
     "execution_count": 28,
     "metadata": {},
     "output_type": "execute_result"
    },
    {
     "data": {
      "image/png": "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\n",
      "text/plain": [
       "<Figure size 432x288 with 1 Axes>"
      ]
     },
     "metadata": {
      "needs_background": "light"
     },
     "output_type": "display_data"
    }
   ],
   "source": [
    "data[data['platform'] == 'Wii']['year_of_release'].hist(bins=50, range=(1980, 2016))"
   ]
  },
  {
   "cell_type": "code",
   "execution_count": 29,
   "metadata": {},
   "outputs": [
    {
     "data": {
      "text/plain": [
       "count    1286.000000\n",
       "mean     2008.966563\n",
       "std         1.542034\n",
       "min      2006.000000\n",
       "25%      2008.000000\n",
       "50%      2009.000000\n",
       "75%      2010.000000\n",
       "max      2016.000000\n",
       "Name: year_of_release, dtype: float64"
      ]
     },
     "execution_count": 29,
     "metadata": {},
     "output_type": "execute_result"
    }
   ],
   "source": [
    "data[data['platform'] == 'Wii']['year_of_release'].describe()"
   ]
  },
  {
   "cell_type": "markdown",
   "metadata": {},
   "source": [
    "Платформа Wii выпускала игры с 2006 по 2016. Основную часть в период 2008-2010"
   ]
  },
  {
   "cell_type": "code",
   "execution_count": 30,
   "metadata": {},
   "outputs": [
    {
     "data": {
      "text/plain": [
       "<AxesSubplot:>"
      ]
     },
     "execution_count": 30,
     "metadata": {},
     "output_type": "execute_result"
    },
    {
     "data": {
      "image/png": "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\n",
      "text/plain": [
       "<Figure size 432x288 with 1 Axes>"
      ]
     },
     "metadata": {
      "needs_background": "light"
     },
     "output_type": "display_data"
    }
   ],
   "source": [
    "data[data['platform'] == 'DS']['year_of_release'].hist(bins=50, range=(1980, 2016))"
   ]
  },
  {
   "cell_type": "code",
   "execution_count": 31,
   "metadata": {},
   "outputs": [
    {
     "data": {
      "text/plain": [
       "count    2121.000000\n",
       "mean     2008.185290\n",
       "std         1.778565\n",
       "min      1985.000000\n",
       "25%      2007.000000\n",
       "50%      2008.000000\n",
       "75%      2009.000000\n",
       "max      2013.000000\n",
       "Name: year_of_release, dtype: float64"
      ]
     },
     "execution_count": 31,
     "metadata": {},
     "output_type": "execute_result"
    }
   ],
   "source": [
    "data[data['platform'] == 'DS']['year_of_release'].describe()"
   ]
  },
  {
   "cell_type": "markdown",
   "metadata": {},
   "source": [
    "Платформа DS выпускала игры с 1985 по 2013. Основную часть в период 2007-2009"
   ]
  },
  {
   "cell_type": "markdown",
   "metadata": {},
   "source": [
    "В среднем срок жизни платформы примерно 10 лет. Но, на мой взгляд, 10 лет слишком большой период, за который технологии в индустрии игр очень сильно меняются, требования к играм у пользователя также повышаются, поэтому предлагаю за актуальный период взять последние 3 года - 2013 -2016 г."
   ]
  },
  {
   "cell_type": "code",
   "execution_count": 32,
   "metadata": {},
   "outputs": [
    {
     "data": {
      "text/html": [
       "<div>\n",
       "<style scoped>\n",
       "    .dataframe tbody tr th:only-of-type {\n",
       "        vertical-align: middle;\n",
       "    }\n",
       "\n",
       "    .dataframe tbody tr th {\n",
       "        vertical-align: top;\n",
       "    }\n",
       "\n",
       "    .dataframe thead th {\n",
       "        text-align: right;\n",
       "    }\n",
       "</style>\n",
       "<table border=\"1\" class=\"dataframe\">\n",
       "  <thead>\n",
       "    <tr style=\"text-align: right;\">\n",
       "      <th></th>\n",
       "      <th>name</th>\n",
       "      <th>platform</th>\n",
       "      <th>year_of_release</th>\n",
       "      <th>genre</th>\n",
       "      <th>na_sales</th>\n",
       "      <th>eu_sales</th>\n",
       "      <th>jp_sales</th>\n",
       "      <th>other_sales</th>\n",
       "      <th>critic_score</th>\n",
       "      <th>user_score</th>\n",
       "      <th>rating</th>\n",
       "      <th>all_sales</th>\n",
       "    </tr>\n",
       "  </thead>\n",
       "  <tbody>\n",
       "    <tr>\n",
       "      <th>16</th>\n",
       "      <td>Grand Theft Auto V</td>\n",
       "      <td>PS3</td>\n",
       "      <td>2013</td>\n",
       "      <td>Action</td>\n",
       "      <td>7.02</td>\n",
       "      <td>9.09</td>\n",
       "      <td>0.98</td>\n",
       "      <td>3.96</td>\n",
       "      <td>97.0</td>\n",
       "      <td>8.2</td>\n",
       "      <td>M</td>\n",
       "      <td>21.05</td>\n",
       "    </tr>\n",
       "    <tr>\n",
       "      <th>23</th>\n",
       "      <td>Grand Theft Auto V</td>\n",
       "      <td>X360</td>\n",
       "      <td>2013</td>\n",
       "      <td>Action</td>\n",
       "      <td>9.66</td>\n",
       "      <td>5.14</td>\n",
       "      <td>0.06</td>\n",
       "      <td>1.41</td>\n",
       "      <td>97.0</td>\n",
       "      <td>8.1</td>\n",
       "      <td>M</td>\n",
       "      <td>16.27</td>\n",
       "    </tr>\n",
       "    <tr>\n",
       "      <th>31</th>\n",
       "      <td>Call of Duty: Black Ops 3</td>\n",
       "      <td>PS4</td>\n",
       "      <td>2015</td>\n",
       "      <td>Shooter</td>\n",
       "      <td>6.03</td>\n",
       "      <td>5.86</td>\n",
       "      <td>0.36</td>\n",
       "      <td>2.38</td>\n",
       "      <td>NaN</td>\n",
       "      <td>NaN</td>\n",
       "      <td>NaN</td>\n",
       "      <td>14.63</td>\n",
       "    </tr>\n",
       "    <tr>\n",
       "      <th>33</th>\n",
       "      <td>Pokemon X/Pokemon Y</td>\n",
       "      <td>3DS</td>\n",
       "      <td>2013</td>\n",
       "      <td>Role-Playing</td>\n",
       "      <td>5.28</td>\n",
       "      <td>4.19</td>\n",
       "      <td>4.35</td>\n",
       "      <td>0.78</td>\n",
       "      <td>NaN</td>\n",
       "      <td>NaN</td>\n",
       "      <td>NaN</td>\n",
       "      <td>14.60</td>\n",
       "    </tr>\n",
       "    <tr>\n",
       "      <th>42</th>\n",
       "      <td>Grand Theft Auto V</td>\n",
       "      <td>PS4</td>\n",
       "      <td>2014</td>\n",
       "      <td>Action</td>\n",
       "      <td>3.96</td>\n",
       "      <td>6.31</td>\n",
       "      <td>0.38</td>\n",
       "      <td>1.97</td>\n",
       "      <td>97.0</td>\n",
       "      <td>8.3</td>\n",
       "      <td>M</td>\n",
       "      <td>12.62</td>\n",
       "    </tr>\n",
       "    <tr>\n",
       "      <th>47</th>\n",
       "      <td>Pokemon Omega Ruby/Pokemon Alpha Sapphire</td>\n",
       "      <td>3DS</td>\n",
       "      <td>2014</td>\n",
       "      <td>Role-Playing</td>\n",
       "      <td>4.35</td>\n",
       "      <td>3.49</td>\n",
       "      <td>3.10</td>\n",
       "      <td>0.74</td>\n",
       "      <td>NaN</td>\n",
       "      <td>NaN</td>\n",
       "      <td>NaN</td>\n",
       "      <td>11.68</td>\n",
       "    </tr>\n",
       "    <tr>\n",
       "      <th>60</th>\n",
       "      <td>Call of Duty: Ghosts</td>\n",
       "      <td>X360</td>\n",
       "      <td>2013</td>\n",
       "      <td>Shooter</td>\n",
       "      <td>6.73</td>\n",
       "      <td>2.56</td>\n",
       "      <td>0.04</td>\n",
       "      <td>0.91</td>\n",
       "      <td>73.0</td>\n",
       "      <td>2.6</td>\n",
       "      <td>M</td>\n",
       "      <td>10.24</td>\n",
       "    </tr>\n",
       "    <tr>\n",
       "      <th>69</th>\n",
       "      <td>Call of Duty: Ghosts</td>\n",
       "      <td>PS3</td>\n",
       "      <td>2013</td>\n",
       "      <td>Shooter</td>\n",
       "      <td>4.10</td>\n",
       "      <td>3.63</td>\n",
       "      <td>0.38</td>\n",
       "      <td>1.25</td>\n",
       "      <td>71.0</td>\n",
       "      <td>2.6</td>\n",
       "      <td>M</td>\n",
       "      <td>9.36</td>\n",
       "    </tr>\n",
       "    <tr>\n",
       "      <th>72</th>\n",
       "      <td>Minecraft</td>\n",
       "      <td>X360</td>\n",
       "      <td>2013</td>\n",
       "      <td>Misc</td>\n",
       "      <td>5.70</td>\n",
       "      <td>2.65</td>\n",
       "      <td>0.02</td>\n",
       "      <td>0.81</td>\n",
       "      <td>NaN</td>\n",
       "      <td>NaN</td>\n",
       "      <td>NaN</td>\n",
       "      <td>9.18</td>\n",
       "    </tr>\n",
       "    <tr>\n",
       "      <th>77</th>\n",
       "      <td>FIFA 16</td>\n",
       "      <td>PS4</td>\n",
       "      <td>2015</td>\n",
       "      <td>Sports</td>\n",
       "      <td>1.12</td>\n",
       "      <td>6.12</td>\n",
       "      <td>0.06</td>\n",
       "      <td>1.28</td>\n",
       "      <td>82.0</td>\n",
       "      <td>4.3</td>\n",
       "      <td>E</td>\n",
       "      <td>8.58</td>\n",
       "    </tr>\n",
       "  </tbody>\n",
       "</table>\n",
       "</div>"
      ],
      "text/plain": [
       "                                         name platform  year_of_release  \\\n",
       "16                         Grand Theft Auto V      PS3             2013   \n",
       "23                         Grand Theft Auto V     X360             2013   \n",
       "31                  Call of Duty: Black Ops 3      PS4             2015   \n",
       "33                        Pokemon X/Pokemon Y      3DS             2013   \n",
       "42                         Grand Theft Auto V      PS4             2014   \n",
       "47  Pokemon Omega Ruby/Pokemon Alpha Sapphire      3DS             2014   \n",
       "60                       Call of Duty: Ghosts     X360             2013   \n",
       "69                       Call of Duty: Ghosts      PS3             2013   \n",
       "72                                  Minecraft     X360             2013   \n",
       "77                                    FIFA 16      PS4             2015   \n",
       "\n",
       "           genre  na_sales  eu_sales  jp_sales  other_sales  critic_score  \\\n",
       "16        Action      7.02      9.09      0.98         3.96          97.0   \n",
       "23        Action      9.66      5.14      0.06         1.41          97.0   \n",
       "31       Shooter      6.03      5.86      0.36         2.38           NaN   \n",
       "33  Role-Playing      5.28      4.19      4.35         0.78           NaN   \n",
       "42        Action      3.96      6.31      0.38         1.97          97.0   \n",
       "47  Role-Playing      4.35      3.49      3.10         0.74           NaN   \n",
       "60       Shooter      6.73      2.56      0.04         0.91          73.0   \n",
       "69       Shooter      4.10      3.63      0.38         1.25          71.0   \n",
       "72          Misc      5.70      2.65      0.02         0.81           NaN   \n",
       "77        Sports      1.12      6.12      0.06         1.28          82.0   \n",
       "\n",
       "    user_score rating  all_sales  \n",
       "16         8.2      M      21.05  \n",
       "23         8.1      M      16.27  \n",
       "31         NaN    NaN      14.63  \n",
       "33         NaN    NaN      14.60  \n",
       "42         8.3      M      12.62  \n",
       "47         NaN    NaN      11.68  \n",
       "60         2.6      M      10.24  \n",
       "69         2.6      M       9.36  \n",
       "72         NaN    NaN       9.18  \n",
       "77         4.3      E       8.58  "
      ]
     },
     "execution_count": 32,
     "metadata": {},
     "output_type": "execute_result"
    }
   ],
   "source": [
    "actual_data = data[data['year_of_release'] >= 2013]\n",
    "actual_data.head(10)"
   ]
  },
  {
   "cell_type": "markdown",
   "metadata": {},
   "source": [
    "Посмотрим, какие платформы лидируют по продажам"
   ]
  },
  {
   "cell_type": "code",
   "execution_count": 33,
   "metadata": {},
   "outputs": [],
   "source": [
    "platforms_actual = actual_data.groupby('platform')['all_sales'].sum().sort_values(ascending=False)"
   ]
  },
  {
   "cell_type": "code",
   "execution_count": 34,
   "metadata": {},
   "outputs": [
    {
     "data": {
      "text/plain": [
       "<AxesSubplot:title={'center':'Суммарные продажи игр на платформах за актуальный период'}, xlabel='platform'>"
      ]
     },
     "execution_count": 34,
     "metadata": {},
     "output_type": "execute_result"
    },
    {
     "data": {
      "image/png": "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\n",
      "text/plain": [
       "<Figure size 432x288 with 1 Axes>"
      ]
     },
     "metadata": {
      "needs_background": "light"
     },
     "output_type": "display_data"
    }
   ],
   "source": [
    "platforms_actual.plot(title='Суммарные продажи игр на платформах за актуальный период', kind='bar')"
   ]
  },
  {
   "cell_type": "markdown",
   "metadata": {},
   "source": [
    "Наиболее популярные платформы - PS4, PS3, XOne. Эти платформы являются потенциально прибыльными. Их популярность растет, тогда как популярность более старых моделей снижается."
   ]
  },
  {
   "cell_type": "markdown",
   "metadata": {},
   "source": [
    "3. Построим график «ящик с усами» по глобальным продажам игр в разбивке по платформам."
   ]
  },
  {
   "cell_type": "code",
   "execution_count": 35,
   "metadata": {},
   "outputs": [
    {
     "data": {
      "text/plain": [
       "(0.0, 3.0)"
      ]
     },
     "execution_count": 35,
     "metadata": {},
     "output_type": "execute_result"
    },
    {
     "data": {
      "image/png": "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\n",
      "text/plain": [
       "<Figure size 432x288 with 1 Axes>"
      ]
     },
     "metadata": {
      "needs_background": "light"
     },
     "output_type": "display_data"
    }
   ],
   "source": [
    "plt.boxplot(x=actual_data[actual_data['platform'] == 'PS4']['all_sales'])\n",
    "plt.ylim(0, 3)"
   ]
  },
  {
   "cell_type": "code",
   "execution_count": 36,
   "metadata": {},
   "outputs": [
    {
     "data": {
      "text/plain": [
       "count    392.000000\n",
       "mean       0.801378\n",
       "std        1.609456\n",
       "min        0.010000\n",
       "25%        0.060000\n",
       "50%        0.200000\n",
       "75%        0.730000\n",
       "max       14.630000\n",
       "Name: all_sales, dtype: float64"
      ]
     },
     "execution_count": 36,
     "metadata": {},
     "output_type": "execute_result"
    }
   ],
   "source": [
    "actual_data[actual_data['platform'] == 'PS4']['all_sales'].describe()"
   ]
  },
  {
   "cell_type": "code",
   "execution_count": 37,
   "metadata": {},
   "outputs": [
    {
     "data": {
      "text/plain": [
       "(0.0, 3.0)"
      ]
     },
     "execution_count": 37,
     "metadata": {},
     "output_type": "execute_result"
    },
    {
     "data": {
      "image/png": "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\n",
      "text/plain": [
       "<Figure size 432x288 with 1 Axes>"
      ]
     },
     "metadata": {
      "needs_background": "light"
     },
     "output_type": "display_data"
    }
   ],
   "source": [
    "plt.boxplot(x=actual_data[actual_data['platform'] == 'PS3']['all_sales'])\n",
    "plt.ylim(0, 3)"
   ]
  },
  {
   "cell_type": "code",
   "execution_count": 38,
   "metadata": {},
   "outputs": [
    {
     "data": {
      "text/plain": [
       "count    345.000000\n",
       "mean       0.525884\n",
       "std        1.451939\n",
       "min        0.010000\n",
       "25%        0.040000\n",
       "50%        0.150000\n",
       "75%        0.510000\n",
       "max       21.050000\n",
       "Name: all_sales, dtype: float64"
      ]
     },
     "execution_count": 38,
     "metadata": {},
     "output_type": "execute_result"
    }
   ],
   "source": [
    "actual_data[actual_data['platform'] == 'PS3']['all_sales'].describe()"
   ]
  },
  {
   "cell_type": "code",
   "execution_count": 39,
   "metadata": {},
   "outputs": [
    {
     "data": {
      "text/plain": [
       "(0.0, 3.0)"
      ]
     },
     "execution_count": 39,
     "metadata": {},
     "output_type": "execute_result"
    },
    {
     "data": {
      "image/png": "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\n",
      "text/plain": [
       "<Figure size 432x288 with 1 Axes>"
      ]
     },
     "metadata": {
      "needs_background": "light"
     },
     "output_type": "display_data"
    }
   ],
   "source": [
    "plt.boxplot(x=actual_data[actual_data['platform'] == 'XOne']['all_sales'])\n",
    "plt.ylim(0, 3)"
   ]
  },
  {
   "cell_type": "code",
   "execution_count": 40,
   "metadata": {},
   "outputs": [
    {
     "data": {
      "text/plain": [
       "count    247.000000\n",
       "mean       0.645020\n",
       "std        1.036139\n",
       "min        0.010000\n",
       "25%        0.060000\n",
       "50%        0.220000\n",
       "75%        0.685000\n",
       "max        7.390000\n",
       "Name: all_sales, dtype: float64"
      ]
     },
     "execution_count": 40,
     "metadata": {},
     "output_type": "execute_result"
    }
   ],
   "source": [
    "actual_data[actual_data['platform'] == 'XOne']['all_sales'].describe()"
   ]
  },
  {
   "cell_type": "code",
   "execution_count": 41,
   "metadata": {},
   "outputs": [
    {
     "data": {
      "text/plain": [
       "(0.0, 2.0)"
      ]
     },
     "execution_count": 41,
     "metadata": {},
     "output_type": "execute_result"
    },
    {
     "data": {
      "image/png": "iVBORw0KGgoAAAANSUhEUgAAAXoAAAD8CAYAAAB5Pm/hAAAAOXRFWHRTb2Z0d2FyZQBNYXRwbG90bGliIHZlcnNpb24zLjMuNCwgaHR0cHM6Ly9tYXRwbG90bGliLm9yZy8QVMy6AAAACXBIWXMAAAsTAAALEwEAmpwYAAAWzUlEQVR4nO3df3Bd5X3n8ffHsmwhQ4NkC2/GFoYtTJHxEie5Y8rggWh2Q+ywtd1pZ9Yq7dL6h9wOYrdh2BiqmdI44xlQmeluXFjH1BrcDoj+oMl4W1xgiktWTWktJy4J9pJ4nWQtTSc2FkmwFP+Q9N0/dOxemyvdI+tKV/f485q5o3ue55x7vjcTf+7hec4PRQRmZpZds8pdgJmZTS0HvZlZxjnozcwyzkFvZpZxDnozs4xz0JuZZVzRoJfUKGm/pMOS3pH0XwusI0lfknRU0tuSPpHX96Ck7yavB0v9BczMbHwqdh69pI8CH42Ib0i6DjgIrIuIw3nrfBZ4GPgscCfwPyLiTkn1QA+QAyLZ9pMR8f6UfBszM/uQokf0EfEvEfGN5P0HwBFg0WWrrQX+OEa9BVyf/EB8Bng9IvqTcH8dWFXSb2BmZuOaPZGVJd0EfBz4x8u6FgHH85Z7k7ax2gt9divQCjBv3rxP3nbbbRMpzWzKvP3224yMjFBVVcW5c+eYM2cOw8PDzJo1izvuuKPc5ZkBcPDgwfcioqFQX+qgl3Qt8DLw2xHxk1IVd0FE7AJ2AeRyuejp6Sn1LsyuyMMPP8yzzz5LfX09J06cuPh3y5Yt7Nixo9zlmQEg6Qdj9aU660ZSNaMh/0JE/GWBVfqAxrzlxUnbWO1mFWP//v08/vjjzJ8/H4D58+fz+OOPs3///jJXZpZOmslYAXuA/oj47THWuR9o418nY78UESuSydiDwIWzcL7B6GRs/3j79BG9zSRVVVWcOXOG6urqi23nz5+npqaG4eHhMlZm9q8kHYyIXKG+NEM3dwO/BnxL0qGk7XeAGwEiYifwCqMhfxQYBH4j6euX9EXgQLLdtmIhbzbTNDU10d3dTXNz88W27u5umpqayliVWXpFgz4iugEVWSeAh8bo6wQ6r6g6sxmgvb2djRs3snv3blauXEl3dzcbN25k+/bt5S7NLJUJnXVjdjVqaWnh61//OqtXr+bs2bPMnTuXzZs309LSUu7SzFLxLRDMiujq6mLPnj2MjIwAMDIywp49e+jq6ipzZWbpOOjNimhra2NwcJAnn3ySgYEBnnzySQYHB2lrayt3aWapeOjGrIj+/n46Ojp45JFHAHjkkUcYHh7m85//fJkrM0vHR/RmKbz33nssW7aMqqoqli1bxnvvvVfuksxSK3oefTn4PHqbSWbPns3IyAgLFy7kxIkT3HDDDfzwhz9k1qxZDA0Nlbs8M2D88+h9RG9WRE1NDRHB2bNnGRkZ4ezZs0QENTU15S7NLBUHvVkRAwMDrFmzhsHBQQAGBwdZs2YNAwMDZa7MLB0HvVkKS5cu5ZZbbmHWrFnccsstLF26tNwlmaXmoDcror6+no6ODjZs2MAHH3zAhg0b6OjooL6+vtylmaXiyVizIhobGzlx4gTnzp272DZnzhxuuOEGjh8/Ps6WZtPHk7Fmk9Db28vQ0BALFy5EEgsXLmRoaIje3t5yl2aWioPerAhJNDc3s2DBAiSxYMECmpubGb2Dt9nM5ytjzYqICN544w0WLlwIwKlTpzh8+DAzcdjTrBAf0ZulMHv2bE6dOsXIyAinTp1i9mwfI1nlcNCbpXD+/Hk2bdrEj370IzZt2sT58+fLXZJZag56sxTuuusuOjs7uf766+ns7OSuu+4qd0lmqTnozVI4duwY+/bt49y5c+zbt49jx46VuySz1IoONErqBP4jcCIilhXo/2/AA3mf1wQ0JM+L/T7wATAMDI11jqfZTLZ48WJOnz7Nhg0b+MEPfsCSJUs4e/YsixcvLndpZqmkOaJ/Hlg1VmdE/H5ELI+I5cDjwJuXPQC8Oel3yFtF6ujoYHh4mL6+PiKCvr4+hoeH6ejoKHdpZqmkeTj41yTdlPLzWgA/X80y58yZMxcnYD0Ra5WmZGP0kmoZPfJ/Oa85gNckHZTUWqp9mU2nzZs3c/78eerq6pg1axZ1dXWcP3+ezZs3l7s0s1RKORn7C8DfXzZsszIiPgGsBh6SdM9YG0tqldQjqefkyZMlLMtscgYGBrjuuut4+eWXOXPmDC+//DLXXXedb1NsFaOUQb+ey4ZtIqIv+XsC+AqwYqyNI2JXROQiItfQ0FDCsswmb+vWrTQ3N1NdXU1zczNbt24td0lmqaW6e2UyRv9Xhc66Sfo/AnwPaIyIgaRtHjArIj5I3r8ObIuIvym2P9+90qbDdN6rxrdLsKk23t0r05xe2QV8ClggqRd4AqgGiIidyWq/CLx2IeQTC4GvJP+YZgMvpgl5s+mSNnyvvfbagsM08+bN4/Tp06Uuy6zk0px105JinecZPQ0zv+0Y8LErLcxsprj77rt57bXXCrabVQJfGWtWxJtvvskDDzzA7bffDsDtt9/OAw88wJtvvlnmyszS8ROmzIqQxMDAALW1tUgiIhgcHGTevHkee7cZw0+YMpuEuXPnsnPnzkvadu7cydy5c8tUkdnEOOjNiti8eTOPPvoo1dXVAFRXV/Poo4/6gimrGA56s5QuDNN4uMYqjYPerIjnnnuOp59+mqGhIQCGhoZ4+umnee6558pcmVk6now1K8KTsVYJJnXBlNnVbu7cubS2tnLo0CEAli1bxvLlyz0ZaxXDQzdmRdx777288MIL3HPP6D357rnnHl544QXuvffeMldmlo6D3qyIvr4+1q1bR2dnJwCdnZ2sW7eOvr6+Mldmlo6HbsyKOHLkCN/85jeprq5G0sWHkNTU1JS7NLNUfERvVkRTUxPd3d2XtHV3d9PU1FSmiswmxkFvVkR7ezsbN25k//79AOzfv5+NGzfS3t5e5srM0vHQjVkRLS2jN3B9+OGHL/7dvn37xXazmc7n0dtVyw8esSzxefRmBVxJ+F64YMqskniM3sws4xz0ZmYZ56A3M8u4okEvqVPSCUnfHqP/U5J+LOlQ8vrdvL5Vkt6VdFTSY6Us3MzM0klzRP88sKrIOv87IpYnr20AkqqAZ4DVwFKgRdLSyRRrZmYTVzToI+JrQP8VfPYK4GhEHIuIc8BLwNor+BwzM5uEUo3R3yXpnyXtk3R70rYIOJ63Tm/SVpCkVkk9knpOnjxZorLMzKwUQf8NYElEfAzYAXz1Sj4kInZFRC4icg0NDSUoy6x0urq6WLZsGTB6P/qurq4yV2SW3qSDPiJ+EhGnk/evANWSFgB9QGPeqouTNrOK0tXVRXt7Ozt27ABgx44dtLe3O+ytYkw66CX9GyXXkktakXzmKeAAcKukmyXNAdYDeye7P7Pptn37dnbv3k1zczMAzc3N7N69m+3bt5e5MrN0it4CQVIX8ClggaRe4AmgGiAidgK/DPyWpCHgp8D6GL1GfEhSG/AqUAV0RsQ7U/ItzKbQkSNHWLly5SVtK1eu5MiRI2WqyGxiigZ9RIx7i76I+EPgD8foewV45cpKM5sZmpqa+MIXvsBXv/pVYHSMft26db4fvVUMXxlrVkRzczNPPfUUGzZsAGDDhg089dRTF4dyzGY6B71ZEfv372fr1q2XPDN269atFx9EYjbT+X70ZkVUVVVx5syZi8+MjYiLz4wdHh4ud3lmwPj3o/cRvVkRfmasVToHvVkRfmasVTo/YcqsCD8z1iqdx+jNJsCPErSZymP0ZmZXMQe9WQq+qZlVMge9WRG+qZlVOge9WRG+qZlVOk/GmhXhC6asEngy1mwSfMGUVToHvVkRvmDKKp2D3qyIlpYW7r//flavXg3A6tWruf/++33BlFUMB71ZEV1dXezZs4eRkREARkZG2LNnj8+6sYrhoDcroq2tjdOnTzN//nwA5s+fz+nTp2lraytzZWbpOOjNiujv76e2tpaamhoAampqqK2tpb+/v8yVmaVTNOgldUo6IenbY/Q/IOltSd+S9HVJH8vr+37SfkiSz5c0MyuDNEf0zwOrxun/HnBvRPw74IvArsv6myNi+Vjnd5pVgsHBwUvuXjk4OFjmiszSS3XBlKSbgL+KiGVF1qsDvh0Ri5Ll7wO5iHhvIkX5gimbSSQBoxdODQ8PX/wL+E6WNmNM5wVTG4F9ecsBvCbpoKTW8TaU1CqpR1LPyZMnS1yW2eRcCPuxls1mspIFvaRmRoN+a17zyoj4BLAaeEjSPWNtHxG7IiIXEbmGhoZSlWU2abNnz6a2tpbGxkYAGhsbqa2tZfZsP7fHKkNJgl7SHcAfAWsj4tSF9ojoS/6eAL4CrCjF/sym0/DwMNdcc80lbddcc43vc2MVY9JBL+lG4C+BX4uI7+S1z5N03YX3wH1AwTN3zGaypUuXsmXLFubNmwfAvHnz2LJlC0uXLi1zZWbppDm9sgv4B+DnJPVK2ijpNyX9ZrLK7wLzgWcvO41yIdAt6Z+BfwL+OiL+Zgq+g9mUam9v58UXX7zkfvQvvvii73VjFaPoIGNEjHtDj4jYBGwq0H4M+NiHtzCrLH44uFU634/erlrTeebMTPx3Ztky3umVPm3ArlpXEr4XHjxiVkl8rxszs4xz0JuZZZyD3sws4xz0ZmYZ56A3M8s4B72ZWcY56M3MMs5Bb2aWcQ56M7OMc9CbmWWcg97MLOMc9GZmGeegNzPLOAe9mVnGOejNzDLOQW9mlnGpgl5Sp6QTkgo+3FujviTpqKS3JX0ir+9BSd9NXg+WqnAzM0sn7RH988CqcfpXA7cmr1bgfwJIqgeeAO4EVgBPSKq70mLNzGziUgV9RHwN6B9nlbXAH8eot4DrJX0U+AzwekT0R8T7wOuM/4NhZmYlVqox+kXA8bzl3qRtrPYPkdQqqUdSz8mTJ0tUlpmZzZjJ2IjYFRG5iMg1NDSUuxwzs8woVdD3AY15y4uTtrHazcxsmpQq6PcC/zk5++bngR9HxL8ArwL3SapLJmHvS9rMzGyazE6zkqQu4FPAAkm9jJ5JUw0QETuBV4DPAkeBQeA3kr5+SV8EDiQftS0ixpvUNTOzEksV9BHRUqQ/gIfG6OsEOidempmZlcKMmYw1M7Op4aA3M8s4B72ZWcY56M3MMs5Bb2aWcQ56M7OMc9CbmWWcg97MLOMc9GZmGeegNzPLOAe9mVnGOejNzDLOQW9mlnEOejOzjHPQm5llnIPezCzjHPRmZhnnoDczy7hUQS9plaR3JR2V9FiB/j+QdCh5fUfSj/L6hvP69pawdjMzS6HoM2MlVQHPAJ8GeoEDkvZGxOEL60TE5/LWfxj4eN5H/DQilpesYjMzm5A0R/QrgKMRcSwizgEvAWvHWb8F6CpFcWZmNnlpgn4RcDxvuTdp+xBJS4CbgTfymmsk9Uh6S9K6sXYiqTVZr+fkyZMpyjIzszRKPRm7HviLiBjOa1sSETngV4D/LulnC20YEbsiIhcRuYaGhhKXZWZ29UoT9H1AY97y4qStkPVcNmwTEX3J32PA33Hp+L1ZydTX1yNpSl/AlO+jvr6+zP9LWtYUnYwFDgC3SrqZ0YBfz+jR+SUk3QbUAf+Q11YHDEbEWUkLgLuBjlIUbna5999/n4iY0n1ImpZ9mJVS0aCPiCFJbcCrQBXQGRHvSNoG9ETEhVMm1wMvxaX/CpqAL0saYfS/Hp7MP1vHzMymnqb66ORK5HK56OnpKXcZVmGm62g7C/uw7JF0MJkP/RBfGWtmlnFpxujNKsZ0jG97DN0qjYPeMiULwyr+IbFS89CNmVnGOejNzDLOQW9mlnEOejOzjHPQm5llnIPezCzjHPRmZhnnoDczyzgHvZlZxjnozcwyzkFvZpZxDnozs4xz0JuZZZyD3sws4xz0ZmYZlyroJa2S9K6ko5IeK9D/65JOSjqUvDbl9T0o6bvJ68FSFm9mZsUVffCIpCrgGeDTQC9wQNLeAg/5/tOIaLts23rgCSAHBHAw2fb9klRvZmZFpXnC1ArgaEQcA5D0ErAWuDzoC/kM8HpE9Cfbvg6sArqurFyz8flRgmYfliboFwHH85Z7gTsLrPdLku4BvgN8LiKOj7HtokI7kdQKtALceOONKcoy+7CpfszfdPAPiZVaqSZj/xdwU0TcAbwO7JnoB0TErojIRUSuoaGhRGWZmVmaoO8DGvOWFydtF0XEqYg4myz+EfDJtNuamdnUShP0B4BbJd0saQ6wHtibv4Kkj+YtrgGOJO9fBe6TVCepDrgvaTMzs2lSdIw+IoYktTEa0FVAZ0S8I2kb0BMRe4H/ImkNMAT0A7+ebNsv6YuM/lgAbLswMWtmZtNDM3HyKpfLRU9PT7nLsAojKTOTsVn4Hja9JB2MiFyhPl8Za2aWcQ56M7OMc9CbmWWcg97MLOMc9GZmGeegNzPLOAe9mVnGOejNzDLOQW9mlnEOejOzjHPQm5llnIPezCzjHPRmZhnnoDczyzgHvZlZxjnozcwyzkFvZpZxDnozs4xLFfSSVkl6V9JRSY8V6H9E0mFJb0v6W0lL8vqGJR1KXnsv39bMzKZW0YeDS6oCngE+DfQCByTtjYjDeat9E8hFxKCk3wI6gP+U9P00IpaXtmwzM0srzRH9CuBoRByLiHPAS8Da/BUiYn9EDCaLbwGLS1ummZldqTRBvwg4nrfcm7SNZSOwL2+5RlKPpLckrZt4iWZmNhlFh24mQtKvAjng3rzmJRHRJ+nfAm9I+lZE/N8C27YCrQA33nhjKcsyM7uqpTmi7wMa85YXJ22XkPQfgHZgTUScvdAeEX3J32PA3wEfL7STiNgVEbmIyDU0NKT+AmZmNr40QX8AuFXSzZLmAOuBS86ekfRx4MuMhvyJvPY6SXOT9wuAu4H8SVwzM5tiRYduImJIUhvwKlAFdEbEO5K2AT0RsRf4feBa4M8lAfy/iFgDNAFfljTC6I/Kk5edrWNWMvHEz8DvfaTcZUxaPPEz5S7BMkYRUe4aPiSXy0VPT0+5y7AKI4mZ+P/nicrK97DpJelgROQK9ZV0MtasnHxEb1aYg94yQ1/4SSaOhCURv1fuKixLfK8bM7OMc9CbmWWcg97MLOM8Rm+Z4clYs8Ic9JYZnow1K8xDN2ZmGeegNzPLOAe9mVnGOejNzDLOQW9mlnEOejOzjHPQm5llnIPezCzjfMGUZUry4Bszy+Ogt0yZ6itjp+OhIP6xslJz0FumTEdITvU+6urqpvTz7erjoLfMmI773Pgxf1aJUk3GSlol6V1JRyU9VqB/rqQ/Tfr/UdJNeX2PJ+3vSvpMCWs3M7MUiga9pCrgGWA1sBRokbT0stU2Au9HxC3AHwBPJdsuBdYDtwOrgGeTzzMzs2mS5oh+BXA0Io5FxDngJWDtZeusBfYk7/8C+PcaHchcC7wUEWcj4nvA0eTzzMpO0oRfk9nOrFzSjNEvAo7nLfcCd461TkQMSfoxMD9pf+uybRcV2omkVqA1WTwt6d0UtZlNt9uA/zPRjRz2Ng2WjNUxYyZjI2IXsKvcdZiNR9JwROTKXYfZRKQZuukDGvOWFydtBdeRNBv4CHAq5bZmZjaF0gT9AeBWSTdLmsPo5Orey9bZCzyYvP9l4I0YPQdtL7A+OSvnZuBW4J9KU7qZmaVRdOgmGXNvA14FqoDOiHhH0jagJyL2AruBP5F0FOhn9MeAZL0/Aw4DQ8BDETE8Rd/FbDocKHcBZhMlX/xhZpZtvnulmVnGOejNzDLOQW+WgqQfSwpJI+WuxWyiHPRm6XQC7eUuwuxKOOjNUoiIzwHfKXcdZlfCQW9mlnEOejOzjHPQm5llnIPezCzjfGWsWQqSBoDavKa/j4iV5arHbCIc9GZmGeehGzOzjHPQm5llnIPezCzjHPRmZhnnoDczyzgHvZlZxjnozcwy7v8DkP61G3wy0tMAAAAASUVORK5CYII=\n",
      "text/plain": [
       "<Figure size 432x288 with 1 Axes>"
      ]
     },
     "metadata": {
      "needs_background": "light"
     },
     "output_type": "display_data"
    }
   ],
   "source": [
    "plt.boxplot(x=actual_data[actual_data['platform'] == 'PS4']['all_sales'])\n",
    "plt.boxplot(x=actual_data[actual_data['platform'] == 'PS3']['all_sales'])\n",
    "plt.boxplot(x=actual_data[actual_data['platform'] == 'XOne']['all_sales'])\n",
    "plt.ylim(0, 2)"
   ]
  },
  {
   "cell_type": "code",
   "execution_count": 42,
   "metadata": {},
   "outputs": [],
   "source": [
    "# sns.boxplot(x=actual_data.query('platform == \"PS4\" and \"PS3\" and \"XOne\"'), y='all_sales', data=actual_data)"
   ]
  },
  {
   "cell_type": "code",
   "execution_count": 43,
   "metadata": {},
   "outputs": [],
   "source": [
    "# sns.boxplot(y=\"platform\", x=\"all_sales\", data=actual_data[actual_data['platform'].isin(platforms_actual.head(3))]"
   ]
  },
  {
   "cell_type": "markdown",
   "metadata": {},
   "source": [
    "За период 2013-2016 годы средняя выручка по платформам составила:\n",
    "1. PS4 - 60 тыс.-730 тыс. за игру. Также мы видим много выбросов на графике - это особо популярные игры, доходность которых превосходит 75% квантиль. Рекорд по доходности у этой платформы был больше 14,5 млн.\n",
    "2. PS3 - 40-510 тыс. за игру. Есть так же особо популярные игры. Рекорд по доходности составил 21 млн.\n",
    "3. XOne - 60-658 тыс. в среднем за игру. Также есть выбросы -особо популярные игры. Рекорд по доходности составил более 7 млн.\n",
    "\n",
    "Игры на PS4 - более успешные. Средняя выручка игр составила от 60 тыс до 730 тыс за выбранный период, тогда как у остальных платформ выручка меньше. У всех трех платформ есть очень популярные игры, которые бьют рекорды по выручке, но это скорее исключения, а не правила, поэтом в данном случае лучше ориентироваться на выручку с основной массы игр."
   ]
  },
  {
   "cell_type": "code",
   "execution_count": 44,
   "metadata": {},
   "outputs": [
    {
     "data": {
      "image/png": "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\n",
      "text/plain": [
       "<Figure size 936x576 with 1 Axes>"
      ]
     },
     "metadata": {
      "needs_background": "light"
     },
     "output_type": "display_data"
    }
   ],
   "source": [
    "#Код ревьюера\n",
    "plt.figure(figsize=(13, 8))\n",
    "(sns.boxplot(data = actual_data, y = 'all_sales', x='platform')\n",
    "    .set(title = 'Название графика', xlabel = 'Платформы', ylabel = 'Продажи', ylim=(0, 3)))\n",
    "\n",
    "plt.show()"
   ]
  },
  {
   "cell_type": "markdown",
   "metadata": {},
   "source": [
    "4. Посмотрим, как влияют на продажи внутри одной популярной платформы отзывы пользователей и критиков (возьмем платформу PS3)."
   ]
  },
  {
   "cell_type": "code",
   "execution_count": 45,
   "metadata": {},
   "outputs": [
    {
     "data": {
      "text/html": [
       "<div>\n",
       "<style scoped>\n",
       "    .dataframe tbody tr th:only-of-type {\n",
       "        vertical-align: middle;\n",
       "    }\n",
       "\n",
       "    .dataframe tbody tr th {\n",
       "        vertical-align: top;\n",
       "    }\n",
       "\n",
       "    .dataframe thead th {\n",
       "        text-align: right;\n",
       "    }\n",
       "</style>\n",
       "<table border=\"1\" class=\"dataframe\">\n",
       "  <thead>\n",
       "    <tr style=\"text-align: right;\">\n",
       "      <th></th>\n",
       "      <th>critic_score</th>\n",
       "      <th>user_score</th>\n",
       "      <th>all_sales</th>\n",
       "    </tr>\n",
       "  </thead>\n",
       "  <tbody>\n",
       "    <tr>\n",
       "      <th>31</th>\n",
       "      <td>NaN</td>\n",
       "      <td>NaN</td>\n",
       "      <td>14.63</td>\n",
       "    </tr>\n",
       "    <tr>\n",
       "      <th>42</th>\n",
       "      <td>97.0</td>\n",
       "      <td>8.3</td>\n",
       "      <td>12.62</td>\n",
       "    </tr>\n",
       "    <tr>\n",
       "      <th>77</th>\n",
       "      <td>82.0</td>\n",
       "      <td>4.3</td>\n",
       "      <td>8.58</td>\n",
       "    </tr>\n",
       "    <tr>\n",
       "      <th>87</th>\n",
       "      <td>NaN</td>\n",
       "      <td>NaN</td>\n",
       "      <td>7.98</td>\n",
       "    </tr>\n",
       "    <tr>\n",
       "      <th>92</th>\n",
       "      <td>83.0</td>\n",
       "      <td>5.7</td>\n",
       "      <td>7.66</td>\n",
       "    </tr>\n",
       "    <tr>\n",
       "      <th>94</th>\n",
       "      <td>85.0</td>\n",
       "      <td>5.0</td>\n",
       "      <td>7.60</td>\n",
       "    </tr>\n",
       "    <tr>\n",
       "      <th>105</th>\n",
       "      <td>87.0</td>\n",
       "      <td>6.5</td>\n",
       "      <td>7.17</td>\n",
       "    </tr>\n",
       "    <tr>\n",
       "      <th>143</th>\n",
       "      <td>82.0</td>\n",
       "      <td>5.7</td>\n",
       "      <td>6.08</td>\n",
       "    </tr>\n",
       "    <tr>\n",
       "      <th>154</th>\n",
       "      <td>76.0</td>\n",
       "      <td>6.1</td>\n",
       "      <td>5.64</td>\n",
       "    </tr>\n",
       "    <tr>\n",
       "      <th>171</th>\n",
       "      <td>93.0</td>\n",
       "      <td>7.9</td>\n",
       "      <td>5.39</td>\n",
       "    </tr>\n",
       "  </tbody>\n",
       "</table>\n",
       "</div>"
      ],
      "text/plain": [
       "     critic_score  user_score  all_sales\n",
       "31            NaN         NaN      14.63\n",
       "42           97.0         8.3      12.62\n",
       "77           82.0         4.3       8.58\n",
       "87            NaN         NaN       7.98\n",
       "92           83.0         5.7       7.66\n",
       "94           85.0         5.0       7.60\n",
       "105          87.0         6.5       7.17\n",
       "143          82.0         5.7       6.08\n",
       "154          76.0         6.1       5.64\n",
       "171          93.0         7.9       5.39"
      ]
     },
     "execution_count": 45,
     "metadata": {},
     "output_type": "execute_result"
    }
   ],
   "source": [
    "PS4_ratings = actual_data.query('platform == \"PS4\"')\n",
    "PS4_ratings = PS4_ratings[['critic_score', 'user_score', 'all_sales']]\n",
    "PS4_ratings.head(10)"
   ]
  },
  {
   "cell_type": "code",
   "execution_count": 46,
   "metadata": {},
   "outputs": [
    {
     "data": {
      "text/plain": [
       "array([[<AxesSubplot:xlabel='critic_score', ylabel='critic_score'>,\n",
       "        <AxesSubplot:xlabel='user_score', ylabel='critic_score'>,\n",
       "        <AxesSubplot:xlabel='all_sales', ylabel='critic_score'>],\n",
       "       [<AxesSubplot:xlabel='critic_score', ylabel='user_score'>,\n",
       "        <AxesSubplot:xlabel='user_score', ylabel='user_score'>,\n",
       "        <AxesSubplot:xlabel='all_sales', ylabel='user_score'>],\n",
       "       [<AxesSubplot:xlabel='critic_score', ylabel='all_sales'>,\n",
       "        <AxesSubplot:xlabel='user_score', ylabel='all_sales'>,\n",
       "        <AxesSubplot:xlabel='all_sales', ylabel='all_sales'>]],\n",
       "      dtype=object)"
      ]
     },
     "execution_count": 46,
     "metadata": {},
     "output_type": "execute_result"
    },
    {
     "data": {
      "image/png": "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\n",
      "text/plain": [
       "<Figure size 1080x1080 with 9 Axes>"
      ]
     },
     "metadata": {
      "needs_background": "light"
     },
     "output_type": "display_data"
    }
   ],
   "source": [
    "pd.plotting.scatter_matrix(PS4_ratings, figsize=(15, 15))"
   ]
  },
  {
   "cell_type": "code",
   "execution_count": 47,
   "metadata": {},
   "outputs": [
    {
     "data": {
      "text/html": [
       "<div>\n",
       "<style scoped>\n",
       "    .dataframe tbody tr th:only-of-type {\n",
       "        vertical-align: middle;\n",
       "    }\n",
       "\n",
       "    .dataframe tbody tr th {\n",
       "        vertical-align: top;\n",
       "    }\n",
       "\n",
       "    .dataframe thead th {\n",
       "        text-align: right;\n",
       "    }\n",
       "</style>\n",
       "<table border=\"1\" class=\"dataframe\">\n",
       "  <thead>\n",
       "    <tr style=\"text-align: right;\">\n",
       "      <th></th>\n",
       "      <th>critic_score</th>\n",
       "      <th>user_score</th>\n",
       "      <th>all_sales</th>\n",
       "    </tr>\n",
       "  </thead>\n",
       "  <tbody>\n",
       "    <tr>\n",
       "      <th>critic_score</th>\n",
       "      <td>1.000000</td>\n",
       "      <td>0.556037</td>\n",
       "      <td>0.406568</td>\n",
       "    </tr>\n",
       "    <tr>\n",
       "      <th>user_score</th>\n",
       "      <td>0.556037</td>\n",
       "      <td>1.000000</td>\n",
       "      <td>-0.027428</td>\n",
       "    </tr>\n",
       "    <tr>\n",
       "      <th>all_sales</th>\n",
       "      <td>0.406568</td>\n",
       "      <td>-0.027428</td>\n",
       "      <td>1.000000</td>\n",
       "    </tr>\n",
       "  </tbody>\n",
       "</table>\n",
       "</div>"
      ],
      "text/plain": [
       "              critic_score  user_score  all_sales\n",
       "critic_score      1.000000    0.556037   0.406568\n",
       "user_score        0.556037    1.000000  -0.027428\n",
       "all_sales         0.406568   -0.027428   1.000000"
      ]
     },
     "execution_count": 47,
     "metadata": {},
     "output_type": "execute_result"
    }
   ],
   "source": [
    "PS4_ratings.corr()"
   ]
  },
  {
   "cell_type": "markdown",
   "metadata": {},
   "source": [
    "На продажи игр на PS4 больше влияет оценка критиков, оценка пользователей влияет совсем незначительно."
   ]
  },
  {
   "cell_type": "markdown",
   "metadata": {},
   "source": [
    "5. Посмотрим, какая корреляция на других платформах"
   ]
  },
  {
   "cell_type": "code",
   "execution_count": 48,
   "metadata": {},
   "outputs": [
    {
     "data": {
      "text/html": [
       "<div>\n",
       "<style scoped>\n",
       "    .dataframe tbody tr th:only-of-type {\n",
       "        vertical-align: middle;\n",
       "    }\n",
       "\n",
       "    .dataframe tbody tr th {\n",
       "        vertical-align: top;\n",
       "    }\n",
       "\n",
       "    .dataframe thead th {\n",
       "        text-align: right;\n",
       "    }\n",
       "</style>\n",
       "<table border=\"1\" class=\"dataframe\">\n",
       "  <thead>\n",
       "    <tr style=\"text-align: right;\">\n",
       "      <th></th>\n",
       "      <th>critic_score</th>\n",
       "      <th>user_score</th>\n",
       "      <th>all_sales</th>\n",
       "    </tr>\n",
       "  </thead>\n",
       "  <tbody>\n",
       "    <tr>\n",
       "      <th>critic_score</th>\n",
       "      <td>1.000000</td>\n",
       "      <td>0.599920</td>\n",
       "      <td>0.334285</td>\n",
       "    </tr>\n",
       "    <tr>\n",
       "      <th>user_score</th>\n",
       "      <td>0.599920</td>\n",
       "      <td>1.000000</td>\n",
       "      <td>-0.004617</td>\n",
       "    </tr>\n",
       "    <tr>\n",
       "      <th>all_sales</th>\n",
       "      <td>0.334285</td>\n",
       "      <td>-0.004617</td>\n",
       "      <td>1.000000</td>\n",
       "    </tr>\n",
       "  </tbody>\n",
       "</table>\n",
       "</div>"
      ],
      "text/plain": [
       "              critic_score  user_score  all_sales\n",
       "critic_score      1.000000    0.599920   0.334285\n",
       "user_score        0.599920    1.000000  -0.004617\n",
       "all_sales         0.334285   -0.004617   1.000000"
      ]
     },
     "execution_count": 48,
     "metadata": {},
     "output_type": "execute_result"
    }
   ],
   "source": [
    "PS3_ratings = actual_data.query('platform == \"PS3\"')\n",
    "PS3_ratings = PS3_ratings[['critic_score', 'user_score', 'all_sales']]\n",
    "PS3_ratings.corr()"
   ]
  },
  {
   "cell_type": "code",
   "execution_count": 49,
   "metadata": {},
   "outputs": [
    {
     "data": {
      "text/html": [
       "<div>\n",
       "<style scoped>\n",
       "    .dataframe tbody tr th:only-of-type {\n",
       "        vertical-align: middle;\n",
       "    }\n",
       "\n",
       "    .dataframe tbody tr th {\n",
       "        vertical-align: top;\n",
       "    }\n",
       "\n",
       "    .dataframe thead th {\n",
       "        text-align: right;\n",
       "    }\n",
       "</style>\n",
       "<table border=\"1\" class=\"dataframe\">\n",
       "  <thead>\n",
       "    <tr style=\"text-align: right;\">\n",
       "      <th></th>\n",
       "      <th>critic_score</th>\n",
       "      <th>user_score</th>\n",
       "      <th>all_sales</th>\n",
       "    </tr>\n",
       "  </thead>\n",
       "  <tbody>\n",
       "    <tr>\n",
       "      <th>critic_score</th>\n",
       "      <td>1.000000</td>\n",
       "      <td>0.453023</td>\n",
       "      <td>0.416998</td>\n",
       "    </tr>\n",
       "    <tr>\n",
       "      <th>user_score</th>\n",
       "      <td>0.453023</td>\n",
       "      <td>1.000000</td>\n",
       "      <td>-0.070505</td>\n",
       "    </tr>\n",
       "    <tr>\n",
       "      <th>all_sales</th>\n",
       "      <td>0.416998</td>\n",
       "      <td>-0.070505</td>\n",
       "      <td>1.000000</td>\n",
       "    </tr>\n",
       "  </tbody>\n",
       "</table>\n",
       "</div>"
      ],
      "text/plain": [
       "              critic_score  user_score  all_sales\n",
       "critic_score      1.000000    0.453023   0.416998\n",
       "user_score        0.453023    1.000000  -0.070505\n",
       "all_sales         0.416998   -0.070505   1.000000"
      ]
     },
     "execution_count": 49,
     "metadata": {},
     "output_type": "execute_result"
    }
   ],
   "source": [
    "XOne_ratings = actual_data.query('platform == \"XOne\"')\n",
    "XOne_ratings = XOne_ratings[['critic_score', 'user_score', 'all_sales']]\n",
    "XOne_ratings.corr()"
   ]
  },
  {
   "cell_type": "markdown",
   "metadata": {},
   "source": [
    "На других популярных платформах ситуация аналогичная - оценка критиков влияет на продажи больше, чем оценка игроков."
   ]
  },
  {
   "cell_type": "markdown",
   "metadata": {},
   "source": [
    "6. Рассмотрим влияние жанра на прибыльность игр. Какие жанры наиболее популярны, а соответственно и прибыльны."
   ]
  },
  {
   "cell_type": "markdown",
   "metadata": {},
   "source": [
    "Создадим сводную таблицу с жанрами и прибылью игр по жанрам. Отсортируем по убыванию."
   ]
  },
  {
   "cell_type": "code",
   "execution_count": 50,
   "metadata": {},
   "outputs": [
    {
     "data": {
      "text/html": [
       "<div>\n",
       "<style scoped>\n",
       "    .dataframe tbody tr th:only-of-type {\n",
       "        vertical-align: middle;\n",
       "    }\n",
       "\n",
       "    .dataframe tbody tr th {\n",
       "        vertical-align: top;\n",
       "    }\n",
       "\n",
       "    .dataframe thead th {\n",
       "        text-align: right;\n",
       "    }\n",
       "</style>\n",
       "<table border=\"1\" class=\"dataframe\">\n",
       "  <thead>\n",
       "    <tr style=\"text-align: right;\">\n",
       "      <th></th>\n",
       "      <th>all_sales</th>\n",
       "    </tr>\n",
       "    <tr>\n",
       "      <th>genre</th>\n",
       "      <th></th>\n",
       "    </tr>\n",
       "  </thead>\n",
       "  <tbody>\n",
       "    <tr>\n",
       "      <th>Action</th>\n",
       "      <td>321.87</td>\n",
       "    </tr>\n",
       "    <tr>\n",
       "      <th>Shooter</th>\n",
       "      <td>232.98</td>\n",
       "    </tr>\n",
       "    <tr>\n",
       "      <th>Sports</th>\n",
       "      <td>150.65</td>\n",
       "    </tr>\n",
       "    <tr>\n",
       "      <th>Role-Playing</th>\n",
       "      <td>145.89</td>\n",
       "    </tr>\n",
       "    <tr>\n",
       "      <th>Misc</th>\n",
       "      <td>62.82</td>\n",
       "    </tr>\n",
       "    <tr>\n",
       "      <th>Platform</th>\n",
       "      <td>42.63</td>\n",
       "    </tr>\n",
       "    <tr>\n",
       "      <th>Racing</th>\n",
       "      <td>39.89</td>\n",
       "    </tr>\n",
       "    <tr>\n",
       "      <th>Fighting</th>\n",
       "      <td>35.31</td>\n",
       "    </tr>\n",
       "    <tr>\n",
       "      <th>Adventure</th>\n",
       "      <td>23.64</td>\n",
       "    </tr>\n",
       "    <tr>\n",
       "      <th>Simulation</th>\n",
       "      <td>21.76</td>\n",
       "    </tr>\n",
       "    <tr>\n",
       "      <th>Strategy</th>\n",
       "      <td>10.08</td>\n",
       "    </tr>\n",
       "    <tr>\n",
       "      <th>Puzzle</th>\n",
       "      <td>3.17</td>\n",
       "    </tr>\n",
       "  </tbody>\n",
       "</table>\n",
       "</div>"
      ],
      "text/plain": [
       "              all_sales\n",
       "genre                  \n",
       "Action           321.87\n",
       "Shooter          232.98\n",
       "Sports           150.65\n",
       "Role-Playing     145.89\n",
       "Misc              62.82\n",
       "Platform          42.63\n",
       "Racing            39.89\n",
       "Fighting          35.31\n",
       "Adventure         23.64\n",
       "Simulation        21.76\n",
       "Strategy          10.08\n",
       "Puzzle             3.17"
      ]
     },
     "execution_count": 50,
     "metadata": {},
     "output_type": "execute_result"
    }
   ],
   "source": [
    "genre_table = pd.pivot_table(actual_data, index='genre', values='all_sales', aggfunc='sum')\n",
    "genre_table.sort_values(by='all_sales', ascending=False)"
   ]
  },
  {
   "cell_type": "code",
   "execution_count": 51,
   "metadata": {},
   "outputs": [
    {
     "data": {
      "text/html": [
       "<div>\n",
       "<style scoped>\n",
       "    .dataframe tbody tr th:only-of-type {\n",
       "        vertical-align: middle;\n",
       "    }\n",
       "\n",
       "    .dataframe tbody tr th {\n",
       "        vertical-align: top;\n",
       "    }\n",
       "\n",
       "    .dataframe thead th {\n",
       "        text-align: right;\n",
       "    }\n",
       "</style>\n",
       "<table border=\"1\" class=\"dataframe\">\n",
       "  <thead>\n",
       "    <tr style=\"text-align: right;\">\n",
       "      <th></th>\n",
       "      <th>all_sales</th>\n",
       "    </tr>\n",
       "    <tr>\n",
       "      <th>genre</th>\n",
       "      <th></th>\n",
       "    </tr>\n",
       "  </thead>\n",
       "  <tbody>\n",
       "    <tr>\n",
       "      <th>Shooter</th>\n",
       "      <td>0.450</td>\n",
       "    </tr>\n",
       "    <tr>\n",
       "      <th>Sports</th>\n",
       "      <td>0.240</td>\n",
       "    </tr>\n",
       "    <tr>\n",
       "      <th>Platform</th>\n",
       "      <td>0.225</td>\n",
       "    </tr>\n",
       "    <tr>\n",
       "      <th>Role-Playing</th>\n",
       "      <td>0.125</td>\n",
       "    </tr>\n",
       "    <tr>\n",
       "      <th>Fighting</th>\n",
       "      <td>0.125</td>\n",
       "    </tr>\n",
       "    <tr>\n",
       "      <th>Racing</th>\n",
       "      <td>0.120</td>\n",
       "    </tr>\n",
       "    <tr>\n",
       "      <th>Action</th>\n",
       "      <td>0.110</td>\n",
       "    </tr>\n",
       "    <tr>\n",
       "      <th>Simulation</th>\n",
       "      <td>0.100</td>\n",
       "    </tr>\n",
       "    <tr>\n",
       "      <th>Misc</th>\n",
       "      <td>0.100</td>\n",
       "    </tr>\n",
       "    <tr>\n",
       "      <th>Strategy</th>\n",
       "      <td>0.080</td>\n",
       "    </tr>\n",
       "    <tr>\n",
       "      <th>Puzzle</th>\n",
       "      <td>0.060</td>\n",
       "    </tr>\n",
       "    <tr>\n",
       "      <th>Adventure</th>\n",
       "      <td>0.030</td>\n",
       "    </tr>\n",
       "  </tbody>\n",
       "</table>\n",
       "</div>"
      ],
      "text/plain": [
       "              all_sales\n",
       "genre                  \n",
       "Shooter           0.450\n",
       "Sports            0.240\n",
       "Platform          0.225\n",
       "Role-Playing      0.125\n",
       "Fighting          0.125\n",
       "Racing            0.120\n",
       "Action            0.110\n",
       "Simulation        0.100\n",
       "Misc              0.100\n",
       "Strategy          0.080\n",
       "Puzzle            0.060\n",
       "Adventure         0.030"
      ]
     },
     "execution_count": 51,
     "metadata": {},
     "output_type": "execute_result"
    }
   ],
   "source": [
    "pd.pivot_table(actual_data, index='genre', values='all_sales', aggfunc='median').sort_values(by='all_sales', ascending=False)"
   ]
  },
  {
   "cell_type": "code",
   "execution_count": 52,
   "metadata": {},
   "outputs": [
    {
     "data": {
      "text/html": [
       "<div>\n",
       "<style scoped>\n",
       "    .dataframe tbody tr th:only-of-type {\n",
       "        vertical-align: middle;\n",
       "    }\n",
       "\n",
       "    .dataframe tbody tr th {\n",
       "        vertical-align: top;\n",
       "    }\n",
       "\n",
       "    .dataframe thead th {\n",
       "        text-align: right;\n",
       "    }\n",
       "</style>\n",
       "<table border=\"1\" class=\"dataframe\">\n",
       "  <thead>\n",
       "    <tr style=\"text-align: right;\">\n",
       "      <th></th>\n",
       "      <th>all_sales</th>\n",
       "    </tr>\n",
       "    <tr>\n",
       "      <th>genre</th>\n",
       "      <th></th>\n",
       "    </tr>\n",
       "  </thead>\n",
       "  <tbody>\n",
       "    <tr>\n",
       "      <th>Shooter</th>\n",
       "      <td>1.245882</td>\n",
       "    </tr>\n",
       "    <tr>\n",
       "      <th>Sports</th>\n",
       "      <td>0.703972</td>\n",
       "    </tr>\n",
       "    <tr>\n",
       "      <th>Platform</th>\n",
       "      <td>0.576081</td>\n",
       "    </tr>\n",
       "    <tr>\n",
       "      <th>Role-Playing</th>\n",
       "      <td>0.499623</td>\n",
       "    </tr>\n",
       "    <tr>\n",
       "      <th>Racing</th>\n",
       "      <td>0.469294</td>\n",
       "    </tr>\n",
       "    <tr>\n",
       "      <th>Fighting</th>\n",
       "      <td>0.441375</td>\n",
       "    </tr>\n",
       "    <tr>\n",
       "      <th>Action</th>\n",
       "      <td>0.420196</td>\n",
       "    </tr>\n",
       "    <tr>\n",
       "      <th>Misc</th>\n",
       "      <td>0.405290</td>\n",
       "    </tr>\n",
       "    <tr>\n",
       "      <th>Simulation</th>\n",
       "      <td>0.350968</td>\n",
       "    </tr>\n",
       "    <tr>\n",
       "      <th>Puzzle</th>\n",
       "      <td>0.186471</td>\n",
       "    </tr>\n",
       "    <tr>\n",
       "      <th>Strategy</th>\n",
       "      <td>0.180000</td>\n",
       "    </tr>\n",
       "    <tr>\n",
       "      <th>Adventure</th>\n",
       "      <td>0.096490</td>\n",
       "    </tr>\n",
       "  </tbody>\n",
       "</table>\n",
       "</div>"
      ],
      "text/plain": [
       "              all_sales\n",
       "genre                  \n",
       "Shooter        1.245882\n",
       "Sports         0.703972\n",
       "Platform       0.576081\n",
       "Role-Playing   0.499623\n",
       "Racing         0.469294\n",
       "Fighting       0.441375\n",
       "Action         0.420196\n",
       "Misc           0.405290\n",
       "Simulation     0.350968\n",
       "Puzzle         0.186471\n",
       "Strategy       0.180000\n",
       "Adventure      0.096490"
      ]
     },
     "execution_count": 52,
     "metadata": {},
     "output_type": "execute_result"
    }
   ],
   "source": [
    "pd.pivot_table(actual_data, index='genre', values='all_sales', aggfunc='mean').sort_values(by='all_sales', ascending=False)"
   ]
  },
  {
   "cell_type": "markdown",
   "metadata": {},
   "source": [
    "Самые популярные и прибыльные жанры за актуальный период - Экшн, Шутры, Спортивные и Ролевые игры. Головоломки и стратегии - самые непопулярные, предполагаю, в виду затянутости процесса игры, отсутствия быстрых действий/реакций и трудности в прохождении."
   ]
  },
  {
   "cell_type": "markdown",
   "metadata": {},
   "source": [
    "Вывод: На 2017 год ожидается подьем продаж на платформах PS4, PS3, и X0ne. Наиболее прибыльными будут игры в жанрах Экшн, Шутры, Спортивные и Ролевые игры."
   ]
  },
  {
   "cell_type": "markdown",
   "metadata": {},
   "source": [
    "#### Шаг. Составление портрета пользователя каждого региона."
   ]
  },
  {
   "cell_type": "markdown",
   "metadata": {},
   "source": [
    "1. Определим портрет пользователя из Северной Америки."
   ]
  },
  {
   "cell_type": "markdown",
   "metadata": {},
   "source": [
    "Самые популярные платформы (топ-5) для пользователелей из Северной Америки."
   ]
  },
  {
   "cell_type": "code",
   "execution_count": 53,
   "metadata": {},
   "outputs": [
    {
     "data": {
      "text/html": [
       "<div>\n",
       "<style scoped>\n",
       "    .dataframe tbody tr th:only-of-type {\n",
       "        vertical-align: middle;\n",
       "    }\n",
       "\n",
       "    .dataframe tbody tr th {\n",
       "        vertical-align: top;\n",
       "    }\n",
       "\n",
       "    .dataframe thead th {\n",
       "        text-align: right;\n",
       "    }\n",
       "</style>\n",
       "<table border=\"1\" class=\"dataframe\">\n",
       "  <thead>\n",
       "    <tr style=\"text-align: right;\">\n",
       "      <th></th>\n",
       "      <th>na_sales</th>\n",
       "    </tr>\n",
       "    <tr>\n",
       "      <th>platform</th>\n",
       "      <th></th>\n",
       "    </tr>\n",
       "  </thead>\n",
       "  <tbody>\n",
       "    <tr>\n",
       "      <th>PS4</th>\n",
       "      <td>108.74</td>\n",
       "    </tr>\n",
       "    <tr>\n",
       "      <th>XOne</th>\n",
       "      <td>93.12</td>\n",
       "    </tr>\n",
       "    <tr>\n",
       "      <th>X360</th>\n",
       "      <td>81.66</td>\n",
       "    </tr>\n",
       "    <tr>\n",
       "      <th>PS3</th>\n",
       "      <td>63.50</td>\n",
       "    </tr>\n",
       "    <tr>\n",
       "      <th>3DS</th>\n",
       "      <td>38.20</td>\n",
       "    </tr>\n",
       "    <tr>\n",
       "      <th>WiiU</th>\n",
       "      <td>29.21</td>\n",
       "    </tr>\n",
       "    <tr>\n",
       "      <th>PC</th>\n",
       "      <td>11.11</td>\n",
       "    </tr>\n",
       "    <tr>\n",
       "      <th>Wii</th>\n",
       "      <td>6.56</td>\n",
       "    </tr>\n",
       "    <tr>\n",
       "      <th>PSV</th>\n",
       "      <td>5.04</td>\n",
       "    </tr>\n",
       "    <tr>\n",
       "      <th>DS</th>\n",
       "      <td>0.57</td>\n",
       "    </tr>\n",
       "  </tbody>\n",
       "</table>\n",
       "</div>"
      ],
      "text/plain": [
       "          na_sales\n",
       "platform          \n",
       "PS4         108.74\n",
       "XOne         93.12\n",
       "X360         81.66\n",
       "PS3          63.50\n",
       "3DS          38.20\n",
       "WiiU         29.21\n",
       "PC           11.11\n",
       "Wii           6.56\n",
       "PSV           5.04\n",
       "DS            0.57"
      ]
     },
     "execution_count": 53,
     "metadata": {},
     "output_type": "execute_result"
    }
   ],
   "source": [
    "pd.pivot_table(actual_data.query('na_sales > 0'), index='platform', values='na_sales', aggfunc='sum').sort_values('na_sales', ascending=False)"
   ]
  },
  {
   "cell_type": "markdown",
   "metadata": {},
   "source": [
    "В Северной Америке ТОП-5 игровых платформ - PS4, XOne, X360, PS3, 3DS. В стране наибольшая конкуренция между японской компанией Sony и американским Xbox."
   ]
  },
  {
   "cell_type": "markdown",
   "metadata": {},
   "source": [
    "Самые популярные жанры (топ-5) в Северной Америке."
   ]
  },
  {
   "cell_type": "code",
   "execution_count": 54,
   "metadata": {},
   "outputs": [
    {
     "data": {
      "text/html": [
       "<div>\n",
       "<style scoped>\n",
       "    .dataframe tbody tr th:only-of-type {\n",
       "        vertical-align: middle;\n",
       "    }\n",
       "\n",
       "    .dataframe tbody tr th {\n",
       "        vertical-align: top;\n",
       "    }\n",
       "\n",
       "    .dataframe thead th {\n",
       "        text-align: right;\n",
       "    }\n",
       "</style>\n",
       "<table border=\"1\" class=\"dataframe\">\n",
       "  <thead>\n",
       "    <tr style=\"text-align: right;\">\n",
       "      <th></th>\n",
       "      <th>na_sales</th>\n",
       "    </tr>\n",
       "    <tr>\n",
       "      <th>genre</th>\n",
       "      <th></th>\n",
       "    </tr>\n",
       "  </thead>\n",
       "  <tbody>\n",
       "    <tr>\n",
       "      <th>Action</th>\n",
       "      <td>126.05</td>\n",
       "    </tr>\n",
       "    <tr>\n",
       "      <th>Shooter</th>\n",
       "      <td>109.74</td>\n",
       "    </tr>\n",
       "    <tr>\n",
       "      <th>Sports</th>\n",
       "      <td>65.27</td>\n",
       "    </tr>\n",
       "    <tr>\n",
       "      <th>Role-Playing</th>\n",
       "      <td>46.40</td>\n",
       "    </tr>\n",
       "    <tr>\n",
       "      <th>Misc</th>\n",
       "      <td>27.49</td>\n",
       "    </tr>\n",
       "    <tr>\n",
       "      <th>Platform</th>\n",
       "      <td>18.14</td>\n",
       "    </tr>\n",
       "    <tr>\n",
       "      <th>Fighting</th>\n",
       "      <td>15.55</td>\n",
       "    </tr>\n",
       "    <tr>\n",
       "      <th>Racing</th>\n",
       "      <td>12.96</td>\n",
       "    </tr>\n",
       "    <tr>\n",
       "      <th>Adventure</th>\n",
       "      <td>7.14</td>\n",
       "    </tr>\n",
       "    <tr>\n",
       "      <th>Simulation</th>\n",
       "      <td>4.86</td>\n",
       "    </tr>\n",
       "    <tr>\n",
       "      <th>Strategy</th>\n",
       "      <td>3.28</td>\n",
       "    </tr>\n",
       "    <tr>\n",
       "      <th>Puzzle</th>\n",
       "      <td>0.83</td>\n",
       "    </tr>\n",
       "  </tbody>\n",
       "</table>\n",
       "</div>"
      ],
      "text/plain": [
       "              na_sales\n",
       "genre                 \n",
       "Action          126.05\n",
       "Shooter         109.74\n",
       "Sports           65.27\n",
       "Role-Playing     46.40\n",
       "Misc             27.49\n",
       "Platform         18.14\n",
       "Fighting         15.55\n",
       "Racing           12.96\n",
       "Adventure         7.14\n",
       "Simulation        4.86\n",
       "Strategy          3.28\n",
       "Puzzle            0.83"
      ]
     },
     "execution_count": 54,
     "metadata": {},
     "output_type": "execute_result"
    }
   ],
   "source": [
    "pd.pivot_table(actual_data.query('na_sales > 0'), index='genre', values='na_sales', aggfunc='sum').sort_values('na_sales', ascending=False)"
   ]
  },
  {
   "cell_type": "markdown",
   "metadata": {},
   "source": [
    "Наиболее популярные жанры - Action, Shooter, Sports, Role-Playing и Misc"
   ]
  },
  {
   "cell_type": "markdown",
   "metadata": {},
   "source": [
    "Рейтинг ESRB у популярных игр В северной Америке."
   ]
  },
  {
   "cell_type": "code",
   "execution_count": 55,
   "metadata": {},
   "outputs": [
    {
     "data": {
      "text/html": [
       "<div>\n",
       "<style scoped>\n",
       "    .dataframe tbody tr th:only-of-type {\n",
       "        vertical-align: middle;\n",
       "    }\n",
       "\n",
       "    .dataframe tbody tr th {\n",
       "        vertical-align: top;\n",
       "    }\n",
       "\n",
       "    .dataframe thead th {\n",
       "        text-align: right;\n",
       "    }\n",
       "</style>\n",
       "<table border=\"1\" class=\"dataframe\">\n",
       "  <thead>\n",
       "    <tr style=\"text-align: right;\">\n",
       "      <th></th>\n",
       "      <th>na_sales</th>\n",
       "    </tr>\n",
       "    <tr>\n",
       "      <th>rating</th>\n",
       "      <th></th>\n",
       "    </tr>\n",
       "  </thead>\n",
       "  <tbody>\n",
       "    <tr>\n",
       "      <th>M</th>\n",
       "      <td>165.21</td>\n",
       "    </tr>\n",
       "    <tr>\n",
       "      <th>E</th>\n",
       "      <td>79.05</td>\n",
       "    </tr>\n",
       "    <tr>\n",
       "      <th>E10+</th>\n",
       "      <td>54.24</td>\n",
       "    </tr>\n",
       "    <tr>\n",
       "      <th>T</th>\n",
       "      <td>49.79</td>\n",
       "    </tr>\n",
       "  </tbody>\n",
       "</table>\n",
       "</div>"
      ],
      "text/plain": [
       "        na_sales\n",
       "rating          \n",
       "M         165.21\n",
       "E          79.05\n",
       "E10+       54.24\n",
       "T          49.79"
      ]
     },
     "execution_count": 55,
     "metadata": {},
     "output_type": "execute_result"
    }
   ],
   "source": [
    "pd.pivot_table(actual_data.query('na_sales > 0'), index='rating', values='na_sales', aggfunc='sum').sort_values('na_sales', ascending=False)"
   ]
  },
  {
   "cell_type": "markdown",
   "metadata": {},
   "source": [
    "Самую большую долю занимают игры с рейтингом М - для лиц старше 17 лет. Рынок игр ориентирован на взрослую аудиторию."
   ]
  },
  {
   "cell_type": "markdown",
   "metadata": {},
   "source": [
    "2. Определим портрет пользователя из Европы."
   ]
  },
  {
   "cell_type": "markdown",
   "metadata": {},
   "source": [
    "Самые популярные платформы (топ-5) для пользователелей из Европы."
   ]
  },
  {
   "cell_type": "code",
   "execution_count": 56,
   "metadata": {},
   "outputs": [
    {
     "data": {
      "text/html": [
       "<div>\n",
       "<style scoped>\n",
       "    .dataframe tbody tr th:only-of-type {\n",
       "        vertical-align: middle;\n",
       "    }\n",
       "\n",
       "    .dataframe tbody tr th {\n",
       "        vertical-align: top;\n",
       "    }\n",
       "\n",
       "    .dataframe thead th {\n",
       "        text-align: right;\n",
       "    }\n",
       "</style>\n",
       "<table border=\"1\" class=\"dataframe\">\n",
       "  <thead>\n",
       "    <tr style=\"text-align: right;\">\n",
       "      <th></th>\n",
       "      <th>eu_sales</th>\n",
       "    </tr>\n",
       "    <tr>\n",
       "      <th>platform</th>\n",
       "      <th></th>\n",
       "    </tr>\n",
       "  </thead>\n",
       "  <tbody>\n",
       "    <tr>\n",
       "      <th>PS4</th>\n",
       "      <td>141.09</td>\n",
       "    </tr>\n",
       "    <tr>\n",
       "      <th>PS3</th>\n",
       "      <td>67.81</td>\n",
       "    </tr>\n",
       "    <tr>\n",
       "      <th>XOne</th>\n",
       "      <td>51.59</td>\n",
       "    </tr>\n",
       "    <tr>\n",
       "      <th>X360</th>\n",
       "      <td>42.52</td>\n",
       "    </tr>\n",
       "    <tr>\n",
       "      <th>3DS</th>\n",
       "      <td>30.96</td>\n",
       "    </tr>\n",
       "    <tr>\n",
       "      <th>PC</th>\n",
       "      <td>25.36</td>\n",
       "    </tr>\n",
       "    <tr>\n",
       "      <th>WiiU</th>\n",
       "      <td>19.85</td>\n",
       "    </tr>\n",
       "    <tr>\n",
       "      <th>PSV</th>\n",
       "      <td>6.10</td>\n",
       "    </tr>\n",
       "    <tr>\n",
       "      <th>Wii</th>\n",
       "      <td>5.93</td>\n",
       "    </tr>\n",
       "    <tr>\n",
       "      <th>DS</th>\n",
       "      <td>0.85</td>\n",
       "    </tr>\n",
       "    <tr>\n",
       "      <th>PSP</th>\n",
       "      <td>0.17</td>\n",
       "    </tr>\n",
       "  </tbody>\n",
       "</table>\n",
       "</div>"
      ],
      "text/plain": [
       "          eu_sales\n",
       "platform          \n",
       "PS4         141.09\n",
       "PS3          67.81\n",
       "XOne         51.59\n",
       "X360         42.52\n",
       "3DS          30.96\n",
       "PC           25.36\n",
       "WiiU         19.85\n",
       "PSV           6.10\n",
       "Wii           5.93\n",
       "DS            0.85\n",
       "PSP           0.17"
      ]
     },
     "execution_count": 56,
     "metadata": {},
     "output_type": "execute_result"
    }
   ],
   "source": [
    "pd.pivot_table(actual_data.query('eu_sales > 0'), index='platform', values='eu_sales', aggfunc='sum').sort_values('eu_sales', ascending=False)"
   ]
  },
  {
   "cell_type": "markdown",
   "metadata": {},
   "source": [
    "В Европе ТОП-5 игровых платформ - PS4, PS3, XOne, X360, 3DS. Те же платформы, что и у пользователей из Северной Америки, отличается только места этих платформ в рейтинге."
   ]
  },
  {
   "cell_type": "markdown",
   "metadata": {},
   "source": [
    "Самые популярные жанры (топ-5) в Европе."
   ]
  },
  {
   "cell_type": "code",
   "execution_count": 57,
   "metadata": {},
   "outputs": [
    {
     "data": {
      "text/html": [
       "<div>\n",
       "<style scoped>\n",
       "    .dataframe tbody tr th:only-of-type {\n",
       "        vertical-align: middle;\n",
       "    }\n",
       "\n",
       "    .dataframe tbody tr th {\n",
       "        vertical-align: top;\n",
       "    }\n",
       "\n",
       "    .dataframe thead th {\n",
       "        text-align: right;\n",
       "    }\n",
       "</style>\n",
       "<table border=\"1\" class=\"dataframe\">\n",
       "  <thead>\n",
       "    <tr style=\"text-align: right;\">\n",
       "      <th></th>\n",
       "      <th>eu_sales</th>\n",
       "    </tr>\n",
       "    <tr>\n",
       "      <th>genre</th>\n",
       "      <th></th>\n",
       "    </tr>\n",
       "  </thead>\n",
       "  <tbody>\n",
       "    <tr>\n",
       "      <th>Action</th>\n",
       "      <td>118.13</td>\n",
       "    </tr>\n",
       "    <tr>\n",
       "      <th>Shooter</th>\n",
       "      <td>87.86</td>\n",
       "    </tr>\n",
       "    <tr>\n",
       "      <th>Sports</th>\n",
       "      <td>60.52</td>\n",
       "    </tr>\n",
       "    <tr>\n",
       "      <th>Role-Playing</th>\n",
       "      <td>36.97</td>\n",
       "    </tr>\n",
       "    <tr>\n",
       "      <th>Racing</th>\n",
       "      <td>20.19</td>\n",
       "    </tr>\n",
       "    <tr>\n",
       "      <th>Misc</th>\n",
       "      <td>20.04</td>\n",
       "    </tr>\n",
       "    <tr>\n",
       "      <th>Platform</th>\n",
       "      <td>15.58</td>\n",
       "    </tr>\n",
       "    <tr>\n",
       "      <th>Simulation</th>\n",
       "      <td>10.92</td>\n",
       "    </tr>\n",
       "    <tr>\n",
       "      <th>Fighting</th>\n",
       "      <td>8.55</td>\n",
       "    </tr>\n",
       "    <tr>\n",
       "      <th>Adventure</th>\n",
       "      <td>8.25</td>\n",
       "    </tr>\n",
       "    <tr>\n",
       "      <th>Strategy</th>\n",
       "      <td>4.22</td>\n",
       "    </tr>\n",
       "    <tr>\n",
       "      <th>Puzzle</th>\n",
       "      <td>1.00</td>\n",
       "    </tr>\n",
       "  </tbody>\n",
       "</table>\n",
       "</div>"
      ],
      "text/plain": [
       "              eu_sales\n",
       "genre                 \n",
       "Action          118.13\n",
       "Shooter          87.86\n",
       "Sports           60.52\n",
       "Role-Playing     36.97\n",
       "Racing           20.19\n",
       "Misc             20.04\n",
       "Platform         15.58\n",
       "Simulation       10.92\n",
       "Fighting          8.55\n",
       "Adventure         8.25\n",
       "Strategy          4.22\n",
       "Puzzle            1.00"
      ]
     },
     "execution_count": 57,
     "metadata": {},
     "output_type": "execute_result"
    }
   ],
   "source": [
    "pd.pivot_table(actual_data.query('eu_sales > 0'), index='genre', values='eu_sales', aggfunc='sum').sort_values('eu_sales', ascending=False)"
   ]
  },
  {
   "cell_type": "markdown",
   "metadata": {},
   "source": [
    "Первые 4 места по популярности занимают жанры - Action, Shooter, Sports и Role-Playing - как и у Северо-американцев. На 5 месте Racing. Получается гонки популярнее в Европе , чем в Сев.Америке."
   ]
  },
  {
   "cell_type": "markdown",
   "metadata": {},
   "source": [
    "Рейтинг ESRB у популярных игр в Европе"
   ]
  },
  {
   "cell_type": "code",
   "execution_count": 58,
   "metadata": {},
   "outputs": [
    {
     "data": {
      "text/html": [
       "<div>\n",
       "<style scoped>\n",
       "    .dataframe tbody tr th:only-of-type {\n",
       "        vertical-align: middle;\n",
       "    }\n",
       "\n",
       "    .dataframe tbody tr th {\n",
       "        vertical-align: top;\n",
       "    }\n",
       "\n",
       "    .dataframe thead th {\n",
       "        text-align: right;\n",
       "    }\n",
       "</style>\n",
       "<table border=\"1\" class=\"dataframe\">\n",
       "  <thead>\n",
       "    <tr style=\"text-align: right;\">\n",
       "      <th></th>\n",
       "      <th>eu_sales</th>\n",
       "    </tr>\n",
       "    <tr>\n",
       "      <th>rating</th>\n",
       "      <th></th>\n",
       "    </tr>\n",
       "  </thead>\n",
       "  <tbody>\n",
       "    <tr>\n",
       "      <th>M</th>\n",
       "      <td>145.32</td>\n",
       "    </tr>\n",
       "    <tr>\n",
       "      <th>E</th>\n",
       "      <td>83.36</td>\n",
       "    </tr>\n",
       "    <tr>\n",
       "      <th>E10+</th>\n",
       "      <td>42.69</td>\n",
       "    </tr>\n",
       "    <tr>\n",
       "      <th>T</th>\n",
       "      <td>41.95</td>\n",
       "    </tr>\n",
       "  </tbody>\n",
       "</table>\n",
       "</div>"
      ],
      "text/plain": [
       "        eu_sales\n",
       "rating          \n",
       "M         145.32\n",
       "E          83.36\n",
       "E10+       42.69\n",
       "T          41.95"
      ]
     },
     "execution_count": 58,
     "metadata": {},
     "output_type": "execute_result"
    }
   ],
   "source": [
    "pd.pivot_table(actual_data.query('eu_sales > 0'), index='rating', values='eu_sales', aggfunc='sum').sort_values('eu_sales', ascending=False)"
   ]
  },
  {
   "cell_type": "markdown",
   "metadata": {},
   "source": [
    "Аналогично американскому пользователю, большая доля у игр категории М (17+). Рынок ориентирован на врослую аудиторию."
   ]
  },
  {
   "cell_type": "markdown",
   "metadata": {},
   "source": [
    "3. Определим портрет пользователя из Японии."
   ]
  },
  {
   "cell_type": "markdown",
   "metadata": {},
   "source": [
    "Самые популярные платформы (топ-5) для пользователелей из Японии."
   ]
  },
  {
   "cell_type": "code",
   "execution_count": 59,
   "metadata": {},
   "outputs": [
    {
     "data": {
      "text/html": [
       "<div>\n",
       "<style scoped>\n",
       "    .dataframe tbody tr th:only-of-type {\n",
       "        vertical-align: middle;\n",
       "    }\n",
       "\n",
       "    .dataframe tbody tr th {\n",
       "        vertical-align: top;\n",
       "    }\n",
       "\n",
       "    .dataframe thead th {\n",
       "        text-align: right;\n",
       "    }\n",
       "</style>\n",
       "<table border=\"1\" class=\"dataframe\">\n",
       "  <thead>\n",
       "    <tr style=\"text-align: right;\">\n",
       "      <th></th>\n",
       "      <th>jp_sales</th>\n",
       "    </tr>\n",
       "    <tr>\n",
       "      <th>platform</th>\n",
       "      <th></th>\n",
       "    </tr>\n",
       "  </thead>\n",
       "  <tbody>\n",
       "    <tr>\n",
       "      <th>3DS</th>\n",
       "      <td>67.81</td>\n",
       "    </tr>\n",
       "    <tr>\n",
       "      <th>PS3</th>\n",
       "      <td>23.35</td>\n",
       "    </tr>\n",
       "    <tr>\n",
       "      <th>PSV</th>\n",
       "      <td>18.59</td>\n",
       "    </tr>\n",
       "    <tr>\n",
       "      <th>PS4</th>\n",
       "      <td>15.96</td>\n",
       "    </tr>\n",
       "    <tr>\n",
       "      <th>WiiU</th>\n",
       "      <td>10.88</td>\n",
       "    </tr>\n",
       "    <tr>\n",
       "      <th>PSP</th>\n",
       "      <td>3.29</td>\n",
       "    </tr>\n",
       "    <tr>\n",
       "      <th>X360</th>\n",
       "      <td>0.51</td>\n",
       "    </tr>\n",
       "    <tr>\n",
       "      <th>XOne</th>\n",
       "      <td>0.34</td>\n",
       "    </tr>\n",
       "    <tr>\n",
       "      <th>Wii</th>\n",
       "      <td>0.05</td>\n",
       "    </tr>\n",
       "  </tbody>\n",
       "</table>\n",
       "</div>"
      ],
      "text/plain": [
       "          jp_sales\n",
       "platform          \n",
       "3DS          67.81\n",
       "PS3          23.35\n",
       "PSV          18.59\n",
       "PS4          15.96\n",
       "WiiU         10.88\n",
       "PSP           3.29\n",
       "X360          0.51\n",
       "XOne          0.34\n",
       "Wii           0.05"
      ]
     },
     "execution_count": 59,
     "metadata": {},
     "output_type": "execute_result"
    }
   ],
   "source": [
    "pd.pivot_table(actual_data.query('jp_sales > 0'), index='platform', values='jp_sales', aggfunc='sum').sort_values('jp_sales', ascending=False)"
   ]
  },
  {
   "cell_type": "markdown",
   "metadata": {},
   "source": [
    "В Японии наиболее популярны платформы 3DS, PS3, PSV, PS4, WiiU. На японском рынке присутствует конкуренция между японскими проиводителями Nintendo и Sony, но совершенно не пользуется популярностью американская платформа Xbox."
   ]
  },
  {
   "cell_type": "markdown",
   "metadata": {},
   "source": [
    "Самые популярные жанры (топ-5) в Японии."
   ]
  },
  {
   "cell_type": "code",
   "execution_count": 60,
   "metadata": {},
   "outputs": [
    {
     "data": {
      "text/html": [
       "<div>\n",
       "<style scoped>\n",
       "    .dataframe tbody tr th:only-of-type {\n",
       "        vertical-align: middle;\n",
       "    }\n",
       "\n",
       "    .dataframe tbody tr th {\n",
       "        vertical-align: top;\n",
       "    }\n",
       "\n",
       "    .dataframe thead th {\n",
       "        text-align: right;\n",
       "    }\n",
       "</style>\n",
       "<table border=\"1\" class=\"dataframe\">\n",
       "  <thead>\n",
       "    <tr style=\"text-align: right;\">\n",
       "      <th></th>\n",
       "      <th>jp_sales</th>\n",
       "    </tr>\n",
       "    <tr>\n",
       "      <th>genre</th>\n",
       "      <th></th>\n",
       "    </tr>\n",
       "  </thead>\n",
       "  <tbody>\n",
       "    <tr>\n",
       "      <th>Role-Playing</th>\n",
       "      <td>51.04</td>\n",
       "    </tr>\n",
       "    <tr>\n",
       "      <th>Action</th>\n",
       "      <td>40.49</td>\n",
       "    </tr>\n",
       "    <tr>\n",
       "      <th>Misc</th>\n",
       "      <td>9.20</td>\n",
       "    </tr>\n",
       "    <tr>\n",
       "      <th>Fighting</th>\n",
       "      <td>7.65</td>\n",
       "    </tr>\n",
       "    <tr>\n",
       "      <th>Shooter</th>\n",
       "      <td>6.61</td>\n",
       "    </tr>\n",
       "    <tr>\n",
       "      <th>Adventure</th>\n",
       "      <td>5.82</td>\n",
       "    </tr>\n",
       "    <tr>\n",
       "      <th>Sports</th>\n",
       "      <td>5.41</td>\n",
       "    </tr>\n",
       "    <tr>\n",
       "      <th>Platform</th>\n",
       "      <td>4.79</td>\n",
       "    </tr>\n",
       "    <tr>\n",
       "      <th>Simulation</th>\n",
       "      <td>4.52</td>\n",
       "    </tr>\n",
       "    <tr>\n",
       "      <th>Racing</th>\n",
       "      <td>2.30</td>\n",
       "    </tr>\n",
       "    <tr>\n",
       "      <th>Strategy</th>\n",
       "      <td>1.77</td>\n",
       "    </tr>\n",
       "    <tr>\n",
       "      <th>Puzzle</th>\n",
       "      <td>1.18</td>\n",
       "    </tr>\n",
       "  </tbody>\n",
       "</table>\n",
       "</div>"
      ],
      "text/plain": [
       "              jp_sales\n",
       "genre                 \n",
       "Role-Playing     51.04\n",
       "Action           40.49\n",
       "Misc              9.20\n",
       "Fighting          7.65\n",
       "Shooter           6.61\n",
       "Adventure         5.82\n",
       "Sports            5.41\n",
       "Platform          4.79\n",
       "Simulation        4.52\n",
       "Racing            2.30\n",
       "Strategy          1.77\n",
       "Puzzle            1.18"
      ]
     },
     "execution_count": 60,
     "metadata": {},
     "output_type": "execute_result"
    }
   ],
   "source": [
    "pd.pivot_table(actual_data.query('jp_sales > 0'), index='genre', values='jp_sales', aggfunc='sum').sort_values('jp_sales', ascending=False)"
   ]
  },
  {
   "cell_type": "markdown",
   "metadata": {},
   "source": [
    "Топ-5 жанров в Японии - Role-Playing, Action, Misc, Fighting, Shooter."
   ]
  },
  {
   "cell_type": "markdown",
   "metadata": {},
   "source": [
    "Рейтинг ESRB у популярных игр в Японии"
   ]
  },
  {
   "cell_type": "code",
   "execution_count": 61,
   "metadata": {},
   "outputs": [
    {
     "data": {
      "text/html": [
       "<div>\n",
       "<style scoped>\n",
       "    .dataframe tbody tr th:only-of-type {\n",
       "        vertical-align: middle;\n",
       "    }\n",
       "\n",
       "    .dataframe tbody tr th {\n",
       "        vertical-align: top;\n",
       "    }\n",
       "\n",
       "    .dataframe thead th {\n",
       "        text-align: right;\n",
       "    }\n",
       "</style>\n",
       "<table border=\"1\" class=\"dataframe\">\n",
       "  <thead>\n",
       "    <tr style=\"text-align: right;\">\n",
       "      <th></th>\n",
       "      <th>jp_sales</th>\n",
       "    </tr>\n",
       "    <tr>\n",
       "      <th>rating</th>\n",
       "      <th></th>\n",
       "    </tr>\n",
       "  </thead>\n",
       "  <tbody>\n",
       "    <tr>\n",
       "      <th>T</th>\n",
       "      <td>20.59</td>\n",
       "    </tr>\n",
       "    <tr>\n",
       "      <th>E</th>\n",
       "      <td>15.14</td>\n",
       "    </tr>\n",
       "    <tr>\n",
       "      <th>M</th>\n",
       "      <td>14.11</td>\n",
       "    </tr>\n",
       "    <tr>\n",
       "      <th>E10+</th>\n",
       "      <td>5.89</td>\n",
       "    </tr>\n",
       "  </tbody>\n",
       "</table>\n",
       "</div>"
      ],
      "text/plain": [
       "        jp_sales\n",
       "rating          \n",
       "T          20.59\n",
       "E          15.14\n",
       "M          14.11\n",
       "E10+        5.89"
      ]
     },
     "execution_count": 61,
     "metadata": {},
     "output_type": "execute_result"
    }
   ],
   "source": [
    "pd.pivot_table(actual_data.query('jp_sales > 0'), index='rating', values='jp_sales', aggfunc='sum').sort_values('jp_sales', ascending=False)"
   ]
  },
  {
   "cell_type": "markdown",
   "metadata": {},
   "source": [
    "В Японии наиболее популярны игры с категорией Т -  для лиц старше 13 лет. Японский рынок игр ориентирован на боле молодую аудиторию - детей и подростков."
   ]
  },
  {
   "cell_type": "markdown",
   "metadata": {},
   "source": [
    "Вывод:\n",
    "1. Портреты Американского и европейского пользователя схожи, в топе находятся одни и те же платформы (от производителй Sony  они популярны по всем исследуемым регионам) и американской компании Xbox. Жанры игр тоже схожи, как и возрастной рейтинг.\n",
    "2. На Японском рынке преобладают игровые платформы от японских компаний, так же как и рынок игр отличаетя - он ориентирован больше не на врослую аудиторию, а на новое поколение - детей и подростков."
   ]
  },
  {
   "cell_type": "markdown",
   "metadata": {},
   "source": [
    "#### Шаг. Проверка гипотез."
   ]
  },
  {
   "cell_type": "markdown",
   "metadata": {},
   "source": [
    "##### Гипотеза 1. Средние пользовательские рейтинги платформ Xbox One и PC одинаковые\n",
    "\n"
   ]
  },
  {
   "cell_type": "markdown",
   "metadata": {},
   "source": [
    "Нулевая гипотеза - Средние пользовательские рейтинги платформ Xbox One и PC равны. Альтернативная  - Средние пользовательские рейтинги платформ Xbox One и PC не равны.\n",
    "Для проверки выберем метод st.ttest_ind, т.к. мы проверяем двустрорннюю гипотезу о равенстве двух выборок.\n",
    "Также предварительно уберем из выборки пропущенные значения."
   ]
  },
  {
   "cell_type": "code",
   "execution_count": 62,
   "metadata": {},
   "outputs": [
    {
     "name": "stdout",
     "output_type": "stream",
     "text": [
      "p-значение: 0.16097023533449153\n",
      "Не получилось отвергнуть нулевую гипотезу\n"
     ]
    }
   ],
   "source": [
    "user_rating_XOne = actual_data[actual_data['platform'] == \"XOne\"]['user_score'].dropna()\n",
    "user_rating_PC = actual_data[actual_data['platform'] == \"PC\"]['user_score'].dropna()\n",
    "alpha = 0.01\n",
    "results = st.ttest_ind(user_rating_XOne, user_rating_PC, equal_var=False)\n",
    "print('p-значение:', results.pvalue)\n",
    "if (results.pvalue < alpha):\n",
    "    print(\"Отвергаем нулевую гипотезу\")\n",
    "else:\n",
    "    print(\"Не получилось отвергнуть нулевую гипотезу\")"
   ]
  },
  {
   "cell_type": "markdown",
   "metadata": {},
   "source": [
    "Принемаем нулевую гипотезу о том, что рейтинги платформ Xbox One и PC равны."
   ]
  },
  {
   "cell_type": "markdown",
   "metadata": {},
   "source": [
    "##### Гипотеза 2. Средние пользовательские рейтинги жанров Action  и Sports  разные."
   ]
  },
  {
   "cell_type": "markdown",
   "metadata": {},
   "source": [
    "Нулевая гипотеза - Средние пользовательские рейтинги жанров Action  и Sports  равны. Альтернативная - Средние пользовательские рейтинги жанров Action  и Sports не равны."
   ]
  },
  {
   "cell_type": "code",
   "execution_count": 63,
   "metadata": {},
   "outputs": [
    {
     "name": "stdout",
     "output_type": "stream",
     "text": [
      "p-значение: 7.631940781789286e-19\n",
      "Отвергаем нулевую гипотезу\n"
     ]
    }
   ],
   "source": [
    "user_rating_action = actual_data[actual_data['genre'] == \"Action\"]['user_score'].dropna()\n",
    "user_rating_sports = actual_data[actual_data['genre'] == \"Sports\"]['user_score'].dropna()\n",
    "alpha = 0.01\n",
    "results = st.ttest_ind(user_rating_action, user_rating_sports, equal_var=False)\n",
    "print('p-значение:', results.pvalue)\n",
    "if (results.pvalue < alpha):\n",
    "    print(\"Отвергаем нулевую гипотезу\")\n",
    "else:\n",
    "    print(\"Не получилось отвергнуть нулевую гипотезу\")"
   ]
  },
  {
   "cell_type": "markdown",
   "metadata": {},
   "source": [
    "Таким образом мы отвергаем нулевую гипотезу о равенстве средних пользовательских рейтингов жанров Action и Sports. Рейтинги жанров Action и Sports разные."
   ]
  },
  {
   "cell_type": "markdown",
   "metadata": {},
   "source": [
    "### Общий вывод"
   ]
  },
  {
   "cell_type": "markdown",
   "metadata": {},
   "source": [
    "#### Этап 1. Предобработка данных.\n",
    "Прежде чем анализировать данные, необходимо было их проверить на наличие пропусков и привести в состояние, подходящее для анализа. В данном этапе были проведены следующие действия:\n",
    "- Приведение к нижнему регистру названий столбцов\n",
    "- Поиск и обработка пропущенных значений.\n",
    "- Изменения типов данных.\n",
    "\n",
    "#### Этап 2. Исследование данных в соответствии с поставленными вопросами.\n",
    "\n",
    "##### Выделен актуальный период для исследования \n",
    "Для исследования взяли выборку с 2013 по 2016 г.\n",
    "\n",
    "##### Выбераны несколько потенциально прибыльных платформ.\n",
    "Наиболее популярные платформы - PS4, PS3, XOne. Эти платформы являются потенциально прибыльными. \n",
    "\n",
    "##### Посмотрели, как влияют на продажи внутри одной популярной платформы отзывы пользователей и критиков.\n",
    "Отзывы критиков влияют на продаже значительно больше, чем отзывы пользователей. Игроки больше доверяют профессиональной оценке о качестве игры.\n",
    "\n",
    "##### Определили самые прибыльные жанры\n",
    "Самые популярные и прибыльные жанры за актуальный период - Shooter, Sports, Platform, Role-Playing.. Головоломки и стратегии - самые непопулярные, предполагаю, в виду затянутости процесса игры, отсутствия быстрых действий/реакций и трудности в прохождении.\n",
    "\n",
    "#### Этап 3. Составление портрета пользователя каждого региона\n",
    "1. Американский пользователь:\n",
    "ТОП-5 платформ: PS4, XOne, X360, PS3, 3DS\n",
    "ТОП-5 жанров: Action, Shooter, Sports, Role-Playing и Misc\n",
    "Преобладающий рейтинг ESRB: М - для лиц старше 17 лет\n",
    "\n",
    "2. Европейский пользователь:\n",
    "ТОП-5 платформ: PS4, PS3, XOne, X360, 3DS\n",
    "ТОП-5 жанров: Action, Shooter, Sports, Role-Playing и Racing\n",
    "Преобладающий рейтинг ESRB: М - для лиц старше 17 лет\n",
    "\n",
    "3. Японский пользователь:\n",
    "ТОП-5 платформ: 3DS, PS3, PSV, PS4, WiiU\n",
    "ТОП-5 жанров: Role-Playing, Action, Misc, Fighting, Shooter\n",
    "Преобладающий рейтинг ESRB: Т - для лиц старше 13 лет\n",
    "\n",
    "    Портреты Американского и европейского пользователя схожи, в топе находятся одни и те же платформы (от производителй Sony они популярны по всем исследуемым регионам) и американской компании Xbox. Жанры игр тоже схожи, как и возрастной рейтинг.\n",
    "    На Японском рынке преобладают игровые платформы от японских компаний, так же как и рынок игр отличаетя - он ориентирован больше не на врослую аудиторию, а на новое поколение - детей и подростков.\n",
    "\n",
    "#### Этап 4. Проверка гипотез.\n",
    "\n",
    "1. Средние пользовательские рейтинги платформ Xbox One и PC одинаковые.\n",
    "Гипотеза подтвердилась. \n",
    "\n",
    "2. Средние пользовательские рейтинги жанров Action  и Sports  разные.\n",
    "Гипотеза подтвердилась.\n",
    "\n",
    "В разработке игр на 2017 год нужно учитывать платформу - делать ставку на популярные и активно развивающиеся платформы, такие как PS4, PS3, XOne. Разрабатывать игру в популярном жанре - Экшн, Шутры, Спортивные и Ролевые игры. Учитывать рынок, под который будет выпущена игра. Предпочтения пользователей зависят от региона.\n",
    "    "
   ]
  },
 ],
 "metadata": {
  "ExecuteTimeLog": [
   {
    "duration": 74,
    "start_time": "2023-06-26T09:27:35.429Z"
   },
   {
    "duration": 392,
    "start_time": "2023-06-26T09:27:45.017Z"
   },
   {
    "duration": 233,
    "start_time": "2023-06-26T09:27:46.425Z"
   },
   {
    "duration": 20,
    "start_time": "2023-06-26T09:31:29.557Z"
   },
   {
    "duration": 14,
    "start_time": "2023-06-26T09:43:03.137Z"
   },
   {
    "duration": 51,
    "start_time": "2023-06-26T09:47:32.902Z"
   },
   {
    "duration": 9,
    "start_time": "2023-06-26T09:49:17.353Z"
   },
   {
    "duration": 5,
    "start_time": "2023-06-26T09:54:36.855Z"
   },
   {
    "duration": 13,
    "start_time": "2023-06-26T09:57:40.630Z"
   },
   {
    "duration": 8,
    "start_time": "2023-06-26T09:57:51.613Z"
   },
   {
    "duration": 21,
    "start_time": "2023-06-26T09:58:02.379Z"
   },
   {
    "duration": 18,
    "start_time": "2023-06-26T09:58:41.560Z"
   },
   {
    "duration": 9,
    "start_time": "2023-06-26T10:10:00.259Z"
   },
   {
    "duration": 23,
    "start_time": "2023-06-26T10:10:35.499Z"
   },
   {
    "duration": 21,
    "start_time": "2023-06-26T10:10:55.666Z"
   },
   {
    "duration": 18,
    "start_time": "2023-06-26T10:11:08.514Z"
   },
   {
    "duration": 456,
    "start_time": "2023-06-26T10:11:24.996Z"
   },
   {
    "duration": 95,
    "start_time": "2023-06-26T10:11:25.454Z"
   },
   {
    "duration": 17,
    "start_time": "2023-06-26T10:11:25.551Z"
   },
   {
    "duration": 25,
    "start_time": "2023-06-26T10:11:25.571Z"
   },
   {
    "duration": 22,
    "start_time": "2023-06-26T10:11:25.600Z"
   },
   {
    "duration": 5,
    "start_time": "2023-06-26T10:11:25.624Z"
   },
   {
    "duration": 42,
    "start_time": "2023-06-26T10:11:25.631Z"
   },
   {
    "duration": 25,
    "start_time": "2023-06-26T10:11:25.675Z"
   },
   {
    "duration": 26,
    "start_time": "2023-06-26T10:11:42.665Z"
   },
   {
    "duration": 5,
    "start_time": "2023-06-26T10:15:24.738Z"
   },
   {
    "duration": 7,
    "start_time": "2023-06-26T10:15:33.702Z"
   },
   {
    "duration": 150,
    "start_time": "2023-06-26T10:45:23.661Z"
   },
   {
    "duration": 126,
    "start_time": "2023-06-26T10:45:31.883Z"
   },
   {
    "duration": 118,
    "start_time": "2023-06-26T10:45:45.546Z"
   },
   {
    "duration": 107,
    "start_time": "2023-06-26T10:56:45.600Z"
   },
   {
    "duration": 16,
    "start_time": "2023-06-26T11:34:07.867Z"
   },
   {
    "duration": 1318,
    "start_time": "2023-06-26T11:48:23.115Z"
   },
   {
    "duration": 1238,
    "start_time": "2023-06-26T11:48:54.701Z"
   },
   {
    "duration": 428,
    "start_time": "2023-06-26T11:49:01.348Z"
   },
   {
    "duration": 83,
    "start_time": "2023-06-26T11:49:01.784Z"
   },
   {
    "duration": 24,
    "start_time": "2023-06-26T11:49:01.869Z"
   },
   {
    "duration": 25,
    "start_time": "2023-06-26T11:49:01.896Z"
   },
   {
    "duration": 41,
    "start_time": "2023-06-26T11:49:01.923Z"
   },
   {
    "duration": 47,
    "start_time": "2023-06-26T11:49:01.966Z"
   },
   {
    "duration": 33,
    "start_time": "2023-06-26T11:49:02.014Z"
   },
   {
    "duration": 57,
    "start_time": "2023-06-26T11:49:02.049Z"
   },
   {
    "duration": 136,
    "start_time": "2023-06-26T11:49:02.108Z"
   },
   {
    "duration": 375,
    "start_time": "2023-06-26T12:03:04.404Z"
   },
   {
    "duration": 86,
    "start_time": "2023-06-26T12:03:04.781Z"
   },
   {
    "duration": 14,
    "start_time": "2023-06-26T12:03:04.869Z"
   },
   {
    "duration": 7,
    "start_time": "2023-06-26T12:03:04.885Z"
   },
   {
    "duration": 19,
    "start_time": "2023-06-26T12:03:04.894Z"
   },
   {
    "duration": 13,
    "start_time": "2023-06-26T12:03:04.915Z"
   },
   {
    "duration": 54,
    "start_time": "2023-06-26T12:03:04.929Z"
   },
   {
    "duration": 136,
    "start_time": "2023-06-26T12:03:04.985Z"
   },
   {
    "duration": 4,
    "start_time": "2023-06-26T12:19:06.819Z"
   },
   {
    "duration": 13,
    "start_time": "2023-06-26T12:19:29.446Z"
   },
   {
    "duration": 49,
    "start_time": "2023-06-27T04:15:54.693Z"
   },
   {
    "duration": 415,
    "start_time": "2023-06-27T04:16:02.467Z"
   },
   {
    "duration": 130,
    "start_time": "2023-06-27T04:16:02.884Z"
   },
   {
    "duration": 15,
    "start_time": "2023-06-27T04:16:03.015Z"
   },
   {
    "duration": 9,
    "start_time": "2023-06-27T04:16:03.032Z"
   },
   {
    "duration": 19,
    "start_time": "2023-06-27T04:16:03.043Z"
   },
   {
    "duration": 12,
    "start_time": "2023-06-27T04:16:03.063Z"
   },
   {
    "duration": 39,
    "start_time": "2023-06-27T04:16:03.076Z"
   },
   {
    "duration": 4,
    "start_time": "2023-06-27T04:16:03.117Z"
   },
   {
    "duration": 64,
    "start_time": "2023-06-27T04:21:37.733Z"
   },
   {
    "duration": 5,
    "start_time": "2023-06-27T04:22:02.225Z"
   },
   {
    "duration": 10,
    "start_time": "2023-06-27T04:22:17.876Z"
   },
   {
    "duration": 5,
    "start_time": "2023-06-27T04:22:56.672Z"
   },
   {
    "duration": 13,
    "start_time": "2023-06-27T04:23:11.023Z"
   },
   {
    "duration": 14,
    "start_time": "2023-06-27T04:27:25.435Z"
   },
   {
    "duration": 6,
    "start_time": "2023-06-27T04:29:11.128Z"
   },
   {
    "duration": 23,
    "start_time": "2023-06-27T04:35:08.274Z"
   },
   {
    "duration": 0,
    "start_time": "2023-06-27T04:36:25.143Z"
   },
   {
    "duration": 3375,
    "start_time": "2023-06-27T04:36:27.863Z"
   },
   {
    "duration": 30,
    "start_time": "2023-06-27T04:36:49.591Z"
   },
   {
    "duration": 28,
    "start_time": "2023-06-27T04:37:01.399Z"
   },
   {
    "duration": 4,
    "start_time": "2023-06-27T04:40:19.401Z"
   },
   {
    "duration": 769,
    "start_time": "2023-06-27T04:41:13.785Z"
   },
   {
    "duration": 192,
    "start_time": "2023-06-27T04:44:06.384Z"
   },
   {
    "duration": 641,
    "start_time": "2023-06-27T04:44:47.642Z"
   },
   {
    "duration": 97,
    "start_time": "2023-06-27T04:44:48.286Z"
   },
   {
    "duration": 18,
    "start_time": "2023-06-27T04:44:48.385Z"
   },
   {
    "duration": 25,
    "start_time": "2023-06-27T04:44:48.408Z"
   },
   {
    "duration": 27,
    "start_time": "2023-06-27T04:44:48.435Z"
   },
   {
    "duration": 19,
    "start_time": "2023-06-27T04:44:48.464Z"
   },
   {
    "duration": 30,
    "start_time": "2023-06-27T04:44:48.486Z"
   },
   {
    "duration": 5,
    "start_time": "2023-06-27T04:44:48.518Z"
   },
   {
    "duration": 9,
    "start_time": "2023-06-27T04:44:48.525Z"
   },
   {
    "duration": 8,
    "start_time": "2023-06-27T04:44:48.538Z"
   },
   {
    "duration": 21,
    "start_time": "2023-06-27T04:44:48.548Z"
   },
   {
    "duration": 51,
    "start_time": "2023-06-27T04:44:48.571Z"
   },
   {
    "duration": 4,
    "start_time": "2023-06-27T04:44:48.624Z"
   },
   {
    "duration": 349,
    "start_time": "2023-06-27T04:44:48.630Z"
   },
   {
    "duration": 214,
    "start_time": "2023-06-27T04:44:48.981Z"
   },
   {
    "duration": 225,
    "start_time": "2023-06-27T04:45:02.415Z"
   },
   {
    "duration": 5,
    "start_time": "2023-06-27T04:49:42.095Z"
   },
   {
    "duration": 4,
    "start_time": "2023-06-27T04:49:53.087Z"
   },
   {
    "duration": 78,
    "start_time": "2023-06-27T04:53:15.753Z"
   },
   {
    "duration": 358,
    "start_time": "2023-06-27T04:53:30.025Z"
   },
   {
    "duration": 5,
    "start_time": "2023-06-27T05:00:00.225Z"
   },
   {
    "duration": 267,
    "start_time": "2023-06-27T05:00:35.344Z"
   },
   {
    "duration": 7,
    "start_time": "2023-06-27T05:09:58.168Z"
   },
   {
    "duration": 323,
    "start_time": "2023-06-27T05:10:20.273Z"
   },
   {
    "duration": 279,
    "start_time": "2023-06-27T05:11:00.577Z"
   },
   {
    "duration": 261,
    "start_time": "2023-06-27T05:11:06.728Z"
   },
   {
    "duration": 7,
    "start_time": "2023-06-27T05:12:05.640Z"
   },
   {
    "duration": 276,
    "start_time": "2023-06-27T05:12:13.680Z"
   },
   {
    "duration": 332,
    "start_time": "2023-06-27T05:12:19.736Z"
   },
   {
    "duration": 263,
    "start_time": "2023-06-27T05:17:34.449Z"
   },
   {
    "duration": 268,
    "start_time": "2023-06-27T05:17:43.824Z"
   },
   {
    "duration": 252,
    "start_time": "2023-06-27T05:18:01.290Z"
   },
   {
    "duration": 195,
    "start_time": "2023-06-27T05:18:09.257Z"
   },
   {
    "duration": 141,
    "start_time": "2023-06-27T05:18:26.521Z"
   },
   {
    "duration": 197,
    "start_time": "2023-06-27T05:18:38.699Z"
   },
   {
    "duration": 12,
    "start_time": "2023-06-27T05:20:15.899Z"
   },
   {
    "duration": 199,
    "start_time": "2023-06-27T05:22:57.995Z"
   },
   {
    "duration": 10,
    "start_time": "2023-06-27T05:23:18.443Z"
   },
   {
    "duration": 314,
    "start_time": "2023-06-27T05:24:31.955Z"
   },
   {
    "duration": 11,
    "start_time": "2023-06-27T05:24:48.651Z"
   },
   {
    "duration": 236,
    "start_time": "2023-06-27T05:26:00.778Z"
   },
   {
    "duration": 12,
    "start_time": "2023-06-27T05:26:14.731Z"
   },
   {
    "duration": 302,
    "start_time": "2023-06-27T05:28:30.499Z"
   },
   {
    "duration": 16,
    "start_time": "2023-06-27T05:28:52.706Z"
   },
   {
    "duration": 28,
    "start_time": "2023-06-27T05:38:05.675Z"
   },
   {
    "duration": 9,
    "start_time": "2023-06-27T05:42:32.780Z"
   },
   {
    "duration": 11,
    "start_time": "2023-06-27T05:42:54.195Z"
   },
   {
    "duration": 6,
    "start_time": "2023-06-27T05:43:02.035Z"
   },
   {
    "duration": 234,
    "start_time": "2023-06-27T05:43:03.900Z"
   },
   {
    "duration": 4,
    "start_time": "2023-06-27T05:56:29.275Z"
   },
   {
    "duration": 291,
    "start_time": "2023-06-27T05:56:38.353Z"
   },
   {
    "duration": 102,
    "start_time": "2023-06-27T05:57:42.434Z"
   },
   {
    "duration": 188,
    "start_time": "2023-06-27T06:01:15.268Z"
   },
   {
    "duration": 34,
    "start_time": "2023-06-27T06:10:05.419Z"
   },
   {
    "duration": 9,
    "start_time": "2023-06-27T06:10:08.498Z"
   },
   {
    "duration": 284,
    "start_time": "2023-06-27T06:10:13.176Z"
   },
   {
    "duration": 129,
    "start_time": "2023-06-27T06:11:06.348Z"
   },
   {
    "duration": 108,
    "start_time": "2023-06-27T06:11:16.463Z"
   },
   {
    "duration": 145,
    "start_time": "2023-06-27T06:14:41.583Z"
   },
   {
    "duration": 10,
    "start_time": "2023-06-27T06:17:16.290Z"
   },
   {
    "duration": 16,
    "start_time": "2023-06-27T06:17:55.490Z"
   },
   {
    "duration": 15,
    "start_time": "2023-06-27T06:18:15.517Z"
   },
   {
    "duration": 717,
    "start_time": "2023-06-27T06:18:58.238Z"
   },
   {
    "duration": 83,
    "start_time": "2023-06-27T06:18:58.957Z"
   },
   {
    "duration": 15,
    "start_time": "2023-06-27T06:18:59.042Z"
   },
   {
    "duration": 5,
    "start_time": "2023-06-27T06:18:59.059Z"
   },
   {
    "duration": 45,
    "start_time": "2023-06-27T06:18:59.066Z"
   },
   {
    "duration": 34,
    "start_time": "2023-06-27T06:18:59.112Z"
   },
   {
    "duration": 17,
    "start_time": "2023-06-27T06:18:59.148Z"
   },
   {
    "duration": 6,
    "start_time": "2023-06-27T06:18:59.167Z"
   },
   {
    "duration": 15,
    "start_time": "2023-06-27T06:18:59.175Z"
   },
   {
    "duration": 17,
    "start_time": "2023-06-27T06:18:59.195Z"
   },
   {
    "duration": 47,
    "start_time": "2023-06-27T06:18:59.214Z"
   },
   {
    "duration": 15,
    "start_time": "2023-06-27T06:18:59.264Z"
   },
   {
    "duration": 49,
    "start_time": "2023-06-27T06:18:59.281Z"
   },
   {
    "duration": 56,
    "start_time": "2023-06-27T06:18:59.332Z"
   },
   {
    "duration": 5,
    "start_time": "2023-06-27T06:18:59.390Z"
   },
   {
    "duration": 388,
    "start_time": "2023-06-27T06:18:59.396Z"
   },
   {
    "duration": 6,
    "start_time": "2023-06-27T06:18:59.785Z"
   },
   {
    "duration": 306,
    "start_time": "2023-06-27T06:18:59.801Z"
   },
   {
    "duration": 282,
    "start_time": "2023-06-27T06:19:00.112Z"
   },
   {
    "duration": 28,
    "start_time": "2023-06-27T06:19:00.396Z"
   },
   {
    "duration": 290,
    "start_time": "2023-06-27T06:19:00.426Z"
   },
   {
    "duration": 16,
    "start_time": "2023-06-27T06:19:00.719Z"
   },
   {
    "duration": 252,
    "start_time": "2023-06-27T06:19:00.737Z"
   },
   {
    "duration": 30,
    "start_time": "2023-06-27T06:19:00.991Z"
   },
   {
    "duration": 246,
    "start_time": "2023-06-27T06:19:01.023Z"
   },
   {
    "duration": 12,
    "start_time": "2023-06-27T06:19:01.271Z"
   },
   {
    "duration": 270,
    "start_time": "2023-06-27T06:19:01.289Z"
   },
   {
    "duration": 15,
    "start_time": "2023-06-27T06:19:01.563Z"
   },
   {
    "duration": 83,
    "start_time": "2023-06-27T06:19:01.580Z"
   },
   {
    "duration": 6,
    "start_time": "2023-06-27T06:19:01.665Z"
   },
   {
    "duration": 283,
    "start_time": "2023-06-27T06:19:01.673Z"
   },
   {
    "duration": 142,
    "start_time": "2023-06-27T06:19:01.958Z"
   },
   {
    "duration": 12,
    "start_time": "2023-06-27T06:19:02.104Z"
   },
   {
    "duration": 119,
    "start_time": "2023-06-27T06:19:02.118Z"
   },
   {
    "duration": 11,
    "start_time": "2023-06-27T06:19:02.239Z"
   },
   {
    "duration": 201,
    "start_time": "2023-06-27T06:19:02.252Z"
   },
   {
    "duration": 14,
    "start_time": "2023-06-27T06:19:02.456Z"
   },
   {
    "duration": 111,
    "start_time": "2023-06-27T06:28:14.132Z"
   },
   {
    "duration": 10,
    "start_time": "2023-06-27T06:28:22.683Z"
   },
   {
    "duration": 175,
    "start_time": "2023-06-27T06:28:40.011Z"
   },
   {
    "duration": 16,
    "start_time": "2023-06-27T06:28:49.995Z"
   },
   {
    "duration": 108,
    "start_time": "2023-06-27T06:29:03.816Z"
   },
   {
    "duration": 17,
    "start_time": "2023-06-27T06:30:34.390Z"
   },
   {
    "duration": 97,
    "start_time": "2023-06-27T06:37:26.428Z"
   },
   {
    "duration": 110,
    "start_time": "2023-06-27T06:37:36.371Z"
   },
   {
    "duration": 107,
    "start_time": "2023-06-27T06:37:50.731Z"
   },
   {
    "duration": 130,
    "start_time": "2023-06-27T06:37:58.995Z"
   },
   {
    "duration": 21,
    "start_time": "2023-06-27T06:41:19.922Z"
   },
   {
    "duration": 16,
    "start_time": "2023-06-27T06:42:58.493Z"
   },
   {
    "duration": 16,
    "start_time": "2023-06-27T06:43:29.928Z"
   },
   {
    "duration": 861,
    "start_time": "2023-06-27T06:45:22.266Z"
   },
   {
    "duration": 15,
    "start_time": "2023-06-27T06:50:23.939Z"
   },
   {
    "duration": 22,
    "start_time": "2023-06-27T06:50:57.292Z"
   },
   {
    "duration": 30,
    "start_time": "2023-06-27T07:00:01.094Z"
   },
   {
    "duration": 737,
    "start_time": "2023-06-27T07:08:08.627Z"
   },
   {
    "duration": 91,
    "start_time": "2023-06-27T07:08:09.366Z"
   },
   {
    "duration": 18,
    "start_time": "2023-06-27T07:08:09.459Z"
   },
   {
    "duration": 7,
    "start_time": "2023-06-27T07:08:09.479Z"
   },
   {
    "duration": 47,
    "start_time": "2023-06-27T07:08:09.504Z"
   },
   {
    "duration": 25,
    "start_time": "2023-06-27T07:08:09.553Z"
   },
   {
    "duration": 18,
    "start_time": "2023-06-27T07:08:09.579Z"
   },
   {
    "duration": 6,
    "start_time": "2023-06-27T07:08:09.599Z"
   },
   {
    "duration": 39,
    "start_time": "2023-06-27T07:08:09.607Z"
   },
   {
    "duration": 11,
    "start_time": "2023-06-27T07:08:09.647Z"
   },
   {
    "duration": 11,
    "start_time": "2023-06-27T07:08:09.660Z"
   },
   {
    "duration": 27,
    "start_time": "2023-06-27T07:08:09.673Z"
   },
   {
    "duration": 41,
    "start_time": "2023-06-27T07:08:09.708Z"
   },
   {
    "duration": 23,
    "start_time": "2023-06-27T07:08:09.752Z"
   },
   {
    "duration": 3,
    "start_time": "2023-06-27T07:08:09.777Z"
   },
   {
    "duration": 383,
    "start_time": "2023-06-27T07:08:09.782Z"
   },
   {
    "duration": 5,
    "start_time": "2023-06-27T07:08:10.167Z"
   },
   {
    "duration": 365,
    "start_time": "2023-06-27T07:08:10.173Z"
   },
   {
    "duration": 348,
    "start_time": "2023-06-27T07:08:10.541Z"
   },
   {
    "duration": 22,
    "start_time": "2023-06-27T07:08:10.892Z"
   },
   {
    "duration": 257,
    "start_time": "2023-06-27T07:08:10.916Z"
   },
   {
    "duration": 12,
    "start_time": "2023-06-27T07:08:11.175Z"
   },
   {
    "duration": 246,
    "start_time": "2023-06-27T07:08:11.189Z"
   },
   {
    "duration": 12,
    "start_time": "2023-06-27T07:08:11.437Z"
   },
   {
    "duration": 260,
    "start_time": "2023-06-27T07:08:11.450Z"
   },
   {
    "duration": 24,
    "start_time": "2023-06-27T07:08:11.712Z"
   },
   {
    "duration": 223,
    "start_time": "2023-06-27T07:08:11.738Z"
   },
   {
    "duration": 12,
    "start_time": "2023-06-27T07:08:11.963Z"
   },
   {
    "duration": 51,
    "start_time": "2023-06-27T07:08:11.977Z"
   },
   {
    "duration": 13,
    "start_time": "2023-06-27T07:08:12.030Z"
   },
   {
    "duration": 198,
    "start_time": "2023-06-27T07:08:12.044Z"
   },
   {
    "duration": 131,
    "start_time": "2023-06-27T07:08:12.244Z"
   },
   {
    "duration": 10,
    "start_time": "2023-06-27T07:08:12.377Z"
   },
   {
    "duration": 149,
    "start_time": "2023-06-27T07:08:12.388Z"
   },
   {
    "duration": 17,
    "start_time": "2023-06-27T07:08:12.540Z"
   },
   {
    "duration": 286,
    "start_time": "2023-06-27T07:08:12.559Z"
   },
   {
    "duration": 12,
    "start_time": "2023-06-27T07:08:12.854Z"
   },
   {
    "duration": 18,
    "start_time": "2023-06-27T07:08:12.868Z"
   },
   {
    "duration": 1134,
    "start_time": "2023-06-27T07:08:12.888Z"
   },
   {
    "duration": 13,
    "start_time": "2023-06-27T07:08:14.025Z"
   },
   {
    "duration": 26,
    "start_time": "2023-06-27T07:08:14.043Z"
   },
   {
    "duration": 13,
    "start_time": "2023-06-27T07:08:14.073Z"
   },
   {
    "duration": 17,
    "start_time": "2023-06-27T07:08:14.088Z"
   },
   {
    "duration": 27,
    "start_time": "2023-06-27T07:30:14.997Z"
   },
   {
    "duration": 18,
    "start_time": "2023-06-27T07:33:45.512Z"
   },
   {
    "duration": 18,
    "start_time": "2023-06-27T07:39:33.422Z"
   },
   {
    "duration": 17,
    "start_time": "2023-06-27T07:42:54.855Z"
   },
   {
    "duration": 94,
    "start_time": "2023-06-27T07:45:18.518Z"
   },
   {
    "duration": 18,
    "start_time": "2023-06-27T07:45:36.662Z"
   },
   {
    "duration": 16,
    "start_time": "2023-06-27T07:45:49.530Z"
   },
   {
    "duration": 17,
    "start_time": "2023-06-27T07:48:07.327Z"
   },
   {
    "duration": 18,
    "start_time": "2023-06-27T07:50:10.863Z"
   },
   {
    "duration": 21,
    "start_time": "2023-06-27T07:57:38.724Z"
   },
   {
    "duration": 16,
    "start_time": "2023-06-27T07:59:56.080Z"
   },
   {
    "duration": 1174,
    "start_time": "2023-06-27T08:16:08.104Z"
   },
   {
    "duration": 73,
    "start_time": "2023-06-27T08:16:09.280Z"
   },
   {
    "duration": 15,
    "start_time": "2023-06-27T08:16:09.355Z"
   },
   {
    "duration": 6,
    "start_time": "2023-06-27T08:16:09.371Z"
   },
   {
    "duration": 30,
    "start_time": "2023-06-27T08:16:09.380Z"
   },
   {
    "duration": 13,
    "start_time": "2023-06-27T08:16:09.411Z"
   },
   {
    "duration": 18,
    "start_time": "2023-06-27T08:16:09.426Z"
   },
   {
    "duration": 4,
    "start_time": "2023-06-27T08:16:09.446Z"
   },
   {
    "duration": 7,
    "start_time": "2023-06-27T08:16:09.451Z"
   },
   {
    "duration": 6,
    "start_time": "2023-06-27T08:16:09.459Z"
   },
   {
    "duration": 8,
    "start_time": "2023-06-27T08:16:09.467Z"
   },
   {
    "duration": 27,
    "start_time": "2023-06-27T08:16:09.476Z"
   },
   {
    "duration": 14,
    "start_time": "2023-06-27T08:16:09.504Z"
   },
   {
    "duration": 19,
    "start_time": "2023-06-27T08:16:09.522Z"
   },
   {
    "duration": 6,
    "start_time": "2023-06-27T08:16:09.543Z"
   },
   {
    "duration": 340,
    "start_time": "2023-06-27T08:16:09.550Z"
   },
   {
    "duration": 12,
    "start_time": "2023-06-27T08:16:09.891Z"
   },
   {
    "duration": 271,
    "start_time": "2023-06-27T08:16:09.904Z"
   },
   {
    "duration": 197,
    "start_time": "2023-06-27T08:16:10.177Z"
   },
   {
    "duration": 15,
    "start_time": "2023-06-27T08:16:10.376Z"
   },
   {
    "duration": 275,
    "start_time": "2023-06-27T08:16:10.402Z"
   },
   {
    "duration": 10,
    "start_time": "2023-06-27T08:16:10.679Z"
   },
   {
    "duration": 197,
    "start_time": "2023-06-27T08:16:10.691Z"
   },
   {
    "duration": 19,
    "start_time": "2023-06-27T08:16:10.889Z"
   },
   {
    "duration": 200,
    "start_time": "2023-06-27T08:16:10.910Z"
   },
   {
    "duration": 10,
    "start_time": "2023-06-27T08:16:11.111Z"
   },
   {
    "duration": 288,
    "start_time": "2023-06-27T08:16:11.122Z"
   },
   {
    "duration": 11,
    "start_time": "2023-06-27T08:16:11.411Z"
   },
   {
    "duration": 19,
    "start_time": "2023-06-27T08:16:11.423Z"
   },
   {
    "duration": 5,
    "start_time": "2023-06-27T08:16:11.443Z"
   },
   {
    "duration": 189,
    "start_time": "2023-06-27T08:16:11.449Z"
   },
   {
    "duration": 122,
    "start_time": "2023-06-27T08:16:11.640Z"
   },
   {
    "duration": 11,
    "start_time": "2023-06-27T08:16:11.764Z"
   },
   {
    "duration": 105,
    "start_time": "2023-06-27T08:16:11.777Z"
   },
   {
    "duration": 23,
    "start_time": "2023-06-27T08:16:11.884Z"
   },
   {
    "duration": 122,
    "start_time": "2023-06-27T08:16:11.909Z"
   },
   {
    "duration": 10,
    "start_time": "2023-06-27T08:16:12.033Z"
   },
   {
    "duration": 19,
    "start_time": "2023-06-27T08:16:12.044Z"
   },
   {
    "duration": 738,
    "start_time": "2023-06-27T08:16:12.064Z"
   },
   {
    "duration": 9,
    "start_time": "2023-06-27T08:16:12.804Z"
   },
   {
    "duration": 16,
    "start_time": "2023-06-27T08:16:12.817Z"
   },
   {
    "duration": 15,
    "start_time": "2023-06-27T08:16:12.834Z"
   },
   {
    "duration": 16,
    "start_time": "2023-06-27T08:16:12.850Z"
   },
   {
    "duration": 38,
    "start_time": "2023-06-27T08:16:12.868Z"
   },
   {
    "duration": 15,
    "start_time": "2023-06-27T08:16:12.908Z"
   },
   {
    "duration": 15,
    "start_time": "2023-06-27T08:16:12.925Z"
   },
   {
    "duration": 25,
    "start_time": "2023-06-27T08:16:12.942Z"
   },
   {
    "duration": 36,
    "start_time": "2023-06-27T08:16:12.969Z"
   },
   {
    "duration": 20,
    "start_time": "2023-06-27T08:16:13.007Z"
   },
   {
    "duration": 19,
    "start_time": "2023-06-27T08:16:13.028Z"
   },
   {
    "duration": 16,
    "start_time": "2023-06-27T08:16:13.048Z"
   },
   {
    "duration": 41,
    "start_time": "2023-06-27T08:16:13.066Z"
   },
   {
    "duration": 99,
    "start_time": "2023-06-27T08:28:52.327Z"
   },
   {
    "duration": 15,
    "start_time": "2023-06-27T08:29:01.432Z"
   },
   {
    "duration": 1145,
    "start_time": "2023-06-27T08:29:06.743Z"
   },
   {
    "duration": 79,
    "start_time": "2023-06-27T08:29:07.890Z"
   },
   {
    "duration": 15,
    "start_time": "2023-06-27T08:29:07.971Z"
   },
   {
    "duration": 14,
    "start_time": "2023-06-27T08:29:07.989Z"
   },
   {
    "duration": 37,
    "start_time": "2023-06-27T08:29:08.005Z"
   },
   {
    "duration": 16,
    "start_time": "2023-06-27T08:29:08.044Z"
   },
   {
    "duration": 16,
    "start_time": "2023-06-27T08:29:08.062Z"
   },
   {
    "duration": 6,
    "start_time": "2023-06-27T08:29:08.079Z"
   },
   {
    "duration": 17,
    "start_time": "2023-06-27T08:29:08.086Z"
   },
   {
    "duration": 4,
    "start_time": "2023-06-27T08:29:08.107Z"
   },
   {
    "duration": 17,
    "start_time": "2023-06-27T08:29:08.113Z"
   },
   {
    "duration": 12,
    "start_time": "2023-06-27T08:29:08.132Z"
   },
   {
    "duration": 23,
    "start_time": "2023-06-27T08:29:08.146Z"
   },
   {
    "duration": 19,
    "start_time": "2023-06-27T08:29:08.170Z"
   },
   {
    "duration": 10,
    "start_time": "2023-06-27T08:29:08.191Z"
   },
   {
    "duration": 310,
    "start_time": "2023-06-27T08:29:08.203Z"
   },
   {
    "duration": 6,
    "start_time": "2023-06-27T08:29:08.514Z"
   },
   {
    "duration": 264,
    "start_time": "2023-06-27T08:29:08.521Z"
   },
   {
    "duration": 202,
    "start_time": "2023-06-27T08:29:08.787Z"
   },
   {
    "duration": 17,
    "start_time": "2023-06-27T08:29:08.991Z"
   },
   {
    "duration": 216,
    "start_time": "2023-06-27T08:29:09.009Z"
   },
   {
    "duration": 12,
    "start_time": "2023-06-27T08:29:09.227Z"
   },
   {
    "duration": 200,
    "start_time": "2023-06-27T08:29:09.241Z"
   },
   {
    "duration": 11,
    "start_time": "2023-06-27T08:29:09.442Z"
   },
   {
    "duration": 211,
    "start_time": "2023-06-27T08:29:09.455Z"
   },
   {
    "duration": 11,
    "start_time": "2023-06-27T08:29:09.667Z"
   },
   {
    "duration": 275,
    "start_time": "2023-06-27T08:29:09.680Z"
   },
   {
    "duration": 10,
    "start_time": "2023-06-27T08:29:09.959Z"
   },
   {
    "duration": 37,
    "start_time": "2023-06-27T08:29:09.970Z"
   },
   {
    "duration": 21,
    "start_time": "2023-06-27T08:29:10.009Z"
   },
   {
    "duration": 170,
    "start_time": "2023-06-27T08:29:10.032Z"
   },
   {
    "duration": 109,
    "start_time": "2023-06-27T08:29:10.204Z"
   },
   {
    "duration": 9,
    "start_time": "2023-06-27T08:29:10.314Z"
   },
   {
    "duration": 119,
    "start_time": "2023-06-27T08:29:10.325Z"
   },
   {
    "duration": 12,
    "start_time": "2023-06-27T08:29:10.446Z"
   },
   {
    "duration": 150,
    "start_time": "2023-06-27T08:29:10.460Z"
   },
   {
    "duration": 11,
    "start_time": "2023-06-27T08:29:10.613Z"
   },
   {
    "duration": 31,
    "start_time": "2023-06-27T08:29:10.626Z"
   },
   {
    "duration": 771,
    "start_time": "2023-06-27T08:29:10.659Z"
   },
   {
    "duration": 10,
    "start_time": "2023-06-27T08:29:11.433Z"
   },
   {
    "duration": 22,
    "start_time": "2023-06-27T08:29:11.444Z"
   },
   {
    "duration": 16,
    "start_time": "2023-06-27T08:29:11.468Z"
   },
   {
    "duration": 27,
    "start_time": "2023-06-27T08:29:11.486Z"
   },
   {
    "duration": 18,
    "start_time": "2023-06-27T08:29:11.515Z"
   },
   {
    "duration": 16,
    "start_time": "2023-06-27T08:29:11.535Z"
   },
   {
    "duration": 19,
    "start_time": "2023-06-27T08:29:11.552Z"
   },
   {
    "duration": 39,
    "start_time": "2023-06-27T08:29:11.572Z"
   },
   {
    "duration": 15,
    "start_time": "2023-06-27T08:29:11.613Z"
   },
   {
    "duration": 19,
    "start_time": "2023-06-27T08:29:11.630Z"
   },
   {
    "duration": 15,
    "start_time": "2023-06-27T08:29:11.651Z"
   },
   {
    "duration": 44,
    "start_time": "2023-06-27T08:29:11.667Z"
   },
   {
    "duration": 15,
    "start_time": "2023-06-27T08:29:11.713Z"
   },
   {
    "duration": 116,
    "start_time": "2023-06-27T08:29:11.730Z"
   },
   {
    "duration": 18,
    "start_time": "2023-06-27T08:29:52.905Z"
   },
   {
    "duration": 16,
    "start_time": "2023-06-27T08:29:59.026Z"
   },
   {
    "duration": 102,
    "start_time": "2023-06-27T08:34:02.318Z"
   },
   {
    "duration": 16,
    "start_time": "2023-06-27T08:35:01.492Z"
   },
   {
    "duration": 13,
    "start_time": "2023-06-27T08:36:48.465Z"
   },
   {
    "duration": 24,
    "start_time": "2023-06-27T08:38:36.707Z"
   },
   {
    "duration": 21,
    "start_time": "2023-06-27T08:38:46.112Z"
   },
   {
    "duration": 14,
    "start_time": "2023-06-27T08:38:56.454Z"
   },
   {
    "duration": 9,
    "start_time": "2023-06-27T08:40:24.140Z"
   },
   {
    "duration": 12,
    "start_time": "2023-06-27T09:04:56.148Z"
   },
   {
    "duration": 19,
    "start_time": "2023-06-27T09:06:30.307Z"
   },
   {
    "duration": 1711,
    "start_time": "2023-06-27T09:06:53.018Z"
   },
   {
    "duration": 123,
    "start_time": "2023-06-27T09:06:54.731Z"
   },
   {
    "duration": 15,
    "start_time": "2023-06-27T09:06:54.857Z"
   },
   {
    "duration": 12,
    "start_time": "2023-06-27T09:06:54.874Z"
   },
   {
    "duration": 32,
    "start_time": "2023-06-27T09:06:54.889Z"
   },
   {
    "duration": 30,
    "start_time": "2023-06-27T09:06:54.923Z"
   },
   {
    "duration": 19,
    "start_time": "2023-06-27T09:06:54.954Z"
   },
   {
    "duration": 5,
    "start_time": "2023-06-27T09:06:54.974Z"
   },
   {
    "duration": 19,
    "start_time": "2023-06-27T09:06:54.980Z"
   },
   {
    "duration": 35,
    "start_time": "2023-06-27T09:06:55.001Z"
   },
   {
    "duration": 9,
    "start_time": "2023-06-27T09:06:55.038Z"
   },
   {
    "duration": 15,
    "start_time": "2023-06-27T09:06:55.049Z"
   },
   {
    "duration": 20,
    "start_time": "2023-06-27T09:06:55.066Z"
   },
   {
    "duration": 28,
    "start_time": "2023-06-27T09:06:55.090Z"
   },
   {
    "duration": 18,
    "start_time": "2023-06-27T09:06:55.121Z"
   },
   {
    "duration": 396,
    "start_time": "2023-06-27T09:06:55.141Z"
   },
   {
    "duration": 6,
    "start_time": "2023-06-27T09:06:55.540Z"
   },
   {
    "duration": 343,
    "start_time": "2023-06-27T09:06:55.547Z"
   },
   {
    "duration": 270,
    "start_time": "2023-06-27T09:06:55.892Z"
   },
   {
    "duration": 11,
    "start_time": "2023-06-27T09:06:56.164Z"
   },
   {
    "duration": 278,
    "start_time": "2023-06-27T09:06:56.176Z"
   },
   {
    "duration": 11,
    "start_time": "2023-06-27T09:06:56.456Z"
   },
   {
    "duration": 256,
    "start_time": "2023-06-27T09:06:56.469Z"
   },
   {
    "duration": 14,
    "start_time": "2023-06-27T09:06:56.731Z"
   },
   {
    "duration": 249,
    "start_time": "2023-06-27T09:06:56.747Z"
   },
   {
    "duration": 20,
    "start_time": "2023-06-27T09:06:57.005Z"
   },
   {
    "duration": 330,
    "start_time": "2023-06-27T09:06:57.027Z"
   },
   {
    "duration": 11,
    "start_time": "2023-06-27T09:06:57.359Z"
   },
   {
    "duration": 55,
    "start_time": "2023-06-27T09:06:57.371Z"
   },
   {
    "duration": 6,
    "start_time": "2023-06-27T09:06:57.429Z"
   },
   {
    "duration": 219,
    "start_time": "2023-06-27T09:06:57.437Z"
   },
   {
    "duration": 136,
    "start_time": "2023-06-27T09:06:57.658Z"
   },
   {
    "duration": 17,
    "start_time": "2023-06-27T09:06:57.818Z"
   },
   {
    "duration": 126,
    "start_time": "2023-06-27T09:06:57.837Z"
   },
   {
    "duration": 10,
    "start_time": "2023-06-27T09:06:57.966Z"
   },
   {
    "duration": 156,
    "start_time": "2023-06-27T09:06:57.978Z"
   },
   {
    "duration": 13,
    "start_time": "2023-06-27T09:06:58.136Z"
   },
   {
    "duration": 28,
    "start_time": "2023-06-27T09:06:58.151Z"
   },
   {
    "duration": 962,
    "start_time": "2023-06-27T09:06:58.181Z"
   },
   {
    "duration": 13,
    "start_time": "2023-06-27T09:06:59.145Z"
   },
   {
    "duration": 28,
    "start_time": "2023-06-27T09:06:59.163Z"
   },
   {
    "duration": 60,
    "start_time": "2023-06-27T09:06:59.193Z"
   },
   {
    "duration": 29,
    "start_time": "2023-06-27T09:06:59.255Z"
   },
   {
    "duration": 27,
    "start_time": "2023-06-27T09:06:59.286Z"
   },
   {
    "duration": 44,
    "start_time": "2023-06-27T09:06:59.316Z"
   },
   {
    "duration": 32,
    "start_time": "2023-06-27T09:06:59.362Z"
   },
   {
    "duration": 58,
    "start_time": "2023-06-27T09:06:59.396Z"
   },
   {
    "duration": 38,
    "start_time": "2023-06-27T09:06:59.456Z"
   },
   {
    "duration": 42,
    "start_time": "2023-06-27T09:06:59.496Z"
   },
   {
    "duration": 40,
    "start_time": "2023-06-27T09:06:59.540Z"
   },
   {
    "duration": 16,
    "start_time": "2023-06-27T09:06:59.582Z"
   },
   {
    "duration": 34,
    "start_time": "2023-06-27T09:06:59.600Z"
   },
   {
    "duration": 9,
    "start_time": "2023-06-27T09:06:59.637Z"
   },
   {
    "duration": 12,
    "start_time": "2023-06-27T09:06:59.648Z"
   },
   {
    "duration": 10,
    "start_time": "2023-06-27T09:08:59.034Z"
   },
   {
    "duration": 13,
    "start_time": "2023-06-27T09:09:06.423Z"
   },
   {
    "duration": 1375,
    "start_time": "2023-06-27T09:31:45.532Z"
   },
   {
    "duration": 85,
    "start_time": "2023-06-27T09:31:46.925Z"
   },
   {
    "duration": 29,
    "start_time": "2023-06-27T09:31:47.012Z"
   },
   {
    "duration": 14,
    "start_time": "2023-06-27T09:31:47.043Z"
   },
   {
    "duration": 48,
    "start_time": "2023-06-27T09:31:47.060Z"
   },
   {
    "duration": 45,
    "start_time": "2023-06-27T09:31:47.110Z"
   },
   {
    "duration": 17,
    "start_time": "2023-06-27T09:31:47.157Z"
   },
   {
    "duration": 5,
    "start_time": "2023-06-27T09:31:47.176Z"
   },
   {
    "duration": 18,
    "start_time": "2023-06-27T09:31:47.182Z"
   },
   {
    "duration": 50,
    "start_time": "2023-06-27T09:31:47.202Z"
   },
   {
    "duration": 9,
    "start_time": "2023-06-27T09:31:47.253Z"
   },
   {
    "duration": 9,
    "start_time": "2023-06-27T09:31:47.263Z"
   },
   {
    "duration": 16,
    "start_time": "2023-06-27T09:31:47.273Z"
   },
   {
    "duration": 23,
    "start_time": "2023-06-27T09:31:47.293Z"
   },
   {
    "duration": 33,
    "start_time": "2023-06-27T09:31:47.318Z"
   },
   {
    "duration": 432,
    "start_time": "2023-06-27T09:31:47.353Z"
   },
   {
    "duration": 6,
    "start_time": "2023-06-27T09:31:47.787Z"
   },
   {
    "duration": 397,
    "start_time": "2023-06-27T09:31:47.802Z"
   },
   {
    "duration": 265,
    "start_time": "2023-06-27T09:31:48.208Z"
   },
   {
    "duration": 16,
    "start_time": "2023-06-27T09:31:48.476Z"
   },
   {
    "duration": 264,
    "start_time": "2023-06-27T09:31:48.495Z"
   },
   {
    "duration": 10,
    "start_time": "2023-06-27T09:31:48.761Z"
   },
   {
    "duration": 296,
    "start_time": "2023-06-27T09:31:48.772Z"
   },
   {
    "duration": 15,
    "start_time": "2023-06-27T09:31:49.071Z"
   },
   {
    "duration": 345,
    "start_time": "2023-06-27T09:31:49.088Z"
   },
   {
    "duration": 14,
    "start_time": "2023-06-27T09:31:49.436Z"
   },
   {
    "duration": 349,
    "start_time": "2023-06-27T09:31:49.453Z"
   },
   {
    "duration": 37,
    "start_time": "2023-06-27T09:31:49.804Z"
   },
   {
    "duration": 25,
    "start_time": "2023-06-27T09:31:49.842Z"
   },
   {
    "duration": 6,
    "start_time": "2023-06-27T09:31:49.869Z"
   },
   {
    "duration": 243,
    "start_time": "2023-06-27T09:31:49.876Z"
   },
   {
    "duration": 127,
    "start_time": "2023-06-27T09:31:50.129Z"
   },
   {
    "duration": 14,
    "start_time": "2023-06-27T09:31:50.258Z"
   },
   {
    "duration": 398,
    "start_time": "2023-06-27T09:31:50.274Z"
   },
   {
    "duration": 14,
    "start_time": "2023-06-27T09:31:50.674Z"
   },
   {
    "duration": 188,
    "start_time": "2023-06-27T09:31:50.690Z"
   },
   {
    "duration": 12,
    "start_time": "2023-06-27T09:31:50.881Z"
   },
   {
    "duration": 40,
    "start_time": "2023-06-27T09:31:50.895Z"
   },
   {
    "duration": 1018,
    "start_time": "2023-06-27T09:31:50.937Z"
   },
   {
    "duration": 10,
    "start_time": "2023-06-27T09:31:51.957Z"
   },
   {
    "duration": 20,
    "start_time": "2023-06-27T09:31:51.971Z"
   },
   {
    "duration": 157,
    "start_time": "2023-06-27T09:31:51.992Z"
   },
   {
    "duration": 32,
    "start_time": "2023-06-27T09:31:52.151Z"
   },
   {
    "duration": 74,
    "start_time": "2023-06-27T09:31:52.184Z"
   },
   {
    "duration": 24,
    "start_time": "2023-06-27T09:31:52.260Z"
   },
   {
    "duration": 28,
    "start_time": "2023-06-27T09:31:52.287Z"
   },
   {
    "duration": 58,
    "start_time": "2023-06-27T09:31:52.319Z"
   },
   {
    "duration": 20,
    "start_time": "2023-06-27T09:31:52.379Z"
   },
   {
    "duration": 40,
    "start_time": "2023-06-27T09:31:52.409Z"
   },
   {
    "duration": 19,
    "start_time": "2023-06-27T09:31:52.451Z"
   },
   {
    "duration": 19,
    "start_time": "2023-06-27T09:31:52.471Z"
   },
   {
    "duration": 36,
    "start_time": "2023-06-27T09:31:52.492Z"
   },
   {
    "duration": 20,
    "start_time": "2023-06-27T09:31:52.533Z"
   },
   {
    "duration": 28,
    "start_time": "2023-06-27T09:31:52.554Z"
   },
   {
    "duration": 1030,
    "start_time": "2023-06-27T09:51:36.896Z"
   },
   {
    "duration": 69,
    "start_time": "2023-06-27T09:51:37.928Z"
   },
   {
    "duration": 13,
    "start_time": "2023-06-27T09:51:37.999Z"
   },
   {
    "duration": 8,
    "start_time": "2023-06-27T09:51:38.013Z"
   },
   {
    "duration": 13,
    "start_time": "2023-06-27T09:51:38.023Z"
   },
   {
    "duration": 10,
    "start_time": "2023-06-27T09:51:38.037Z"
   },
   {
    "duration": 22,
    "start_time": "2023-06-27T09:51:38.048Z"
   },
   {
    "duration": 5,
    "start_time": "2023-06-27T09:51:38.072Z"
   },
   {
    "duration": 22,
    "start_time": "2023-06-27T09:51:38.078Z"
   },
   {
    "duration": 4,
    "start_time": "2023-06-27T09:51:38.103Z"
   },
   {
    "duration": 26,
    "start_time": "2023-06-27T09:51:38.108Z"
   },
   {
    "duration": 19,
    "start_time": "2023-06-27T09:51:38.136Z"
   },
   {
    "duration": 12,
    "start_time": "2023-06-27T09:51:38.156Z"
   },
   {
    "duration": 18,
    "start_time": "2023-06-27T09:51:38.169Z"
   },
   {
    "duration": 4,
    "start_time": "2023-06-27T09:51:38.189Z"
   },
   {
    "duration": 253,
    "start_time": "2023-06-27T09:51:38.195Z"
   },
   {
    "duration": 4,
    "start_time": "2023-06-27T09:51:38.450Z"
   },
   {
    "duration": 210,
    "start_time": "2023-06-27T09:51:38.455Z"
   },
   {
    "duration": 172,
    "start_time": "2023-06-27T09:51:38.667Z"
   },
   {
    "duration": 9,
    "start_time": "2023-06-27T09:51:38.841Z"
   },
   {
    "duration": 169,
    "start_time": "2023-06-27T09:51:38.851Z"
   },
   {
    "duration": 8,
    "start_time": "2023-06-27T09:51:39.022Z"
   },
   {
    "duration": 154,
    "start_time": "2023-06-27T09:51:39.031Z"
   },
   {
    "duration": 16,
    "start_time": "2023-06-27T09:51:39.186Z"
   },
   {
    "duration": 158,
    "start_time": "2023-06-27T09:51:39.204Z"
   },
   {
    "duration": 8,
    "start_time": "2023-06-27T09:51:39.364Z"
   },
   {
    "duration": 219,
    "start_time": "2023-06-27T09:51:39.373Z"
   },
   {
    "duration": 8,
    "start_time": "2023-06-27T09:51:39.599Z"
   },
   {
    "duration": 14,
    "start_time": "2023-06-27T09:51:39.609Z"
   },
   {
    "duration": 4,
    "start_time": "2023-06-27T09:51:39.624Z"
   },
   {
    "duration": 146,
    "start_time": "2023-06-27T09:51:39.629Z"
   },
   {
    "duration": 83,
    "start_time": "2023-06-27T09:51:39.777Z"
   },
   {
    "duration": 7,
    "start_time": "2023-06-27T09:51:39.862Z"
   },
   {
    "duration": 83,
    "start_time": "2023-06-27T09:51:39.871Z"
   },
   {
    "duration": 7,
    "start_time": "2023-06-27T09:51:39.956Z"
   },
   {
    "duration": 91,
    "start_time": "2023-06-27T09:51:39.965Z"
   },
   {
    "duration": 8,
    "start_time": "2023-06-27T09:51:40.058Z"
   },
   {
    "duration": 14,
    "start_time": "2023-06-27T09:51:40.067Z"
   },
   {
    "duration": 620,
    "start_time": "2023-06-27T09:51:40.083Z"
   },
   {
    "duration": 8,
    "start_time": "2023-06-27T09:51:40.704Z"
   },
   {
    "duration": 60,
    "start_time": "2023-06-27T09:51:40.713Z"
   },
   {
    "duration": 13,
    "start_time": "2023-06-27T09:51:40.775Z"
   },
   {
    "duration": 12,
    "start_time": "2023-06-27T09:51:40.789Z"
   },
   {
    "duration": 12,
    "start_time": "2023-06-27T09:51:40.802Z"
   },
   {
    "duration": 12,
    "start_time": "2023-06-27T09:51:40.815Z"
   },
   {
    "duration": 13,
    "start_time": "2023-06-27T09:51:40.828Z"
   },
   {
    "duration": 13,
    "start_time": "2023-06-27T09:51:40.842Z"
   },
   {
    "duration": 13,
    "start_time": "2023-06-27T09:51:40.855Z"
   },
   {
    "duration": 41,
    "start_time": "2023-06-27T09:51:40.869Z"
   },
   {
    "duration": 13,
    "start_time": "2023-06-27T09:51:40.911Z"
   },
   {
    "duration": 12,
    "start_time": "2023-06-27T09:51:40.925Z"
   },
   {
    "duration": 22,
    "start_time": "2023-06-27T09:51:40.939Z"
   },
   {
    "duration": 10,
    "start_time": "2023-06-27T09:51:40.962Z"
   },
   {
    "duration": 22,
    "start_time": "2023-06-27T09:51:40.973Z"
   },
   {
    "duration": 216,
    "start_time": "2023-06-27T09:57:52.619Z"
   },
   {
    "duration": 240,
    "start_time": "2023-06-27T09:57:57.719Z"
   },
   {
    "duration": 46,
    "start_time": "2023-06-28T04:14:07.656Z"
   },
   {
    "duration": 1231,
    "start_time": "2023-06-28T04:14:13.001Z"
   },
   {
    "duration": 111,
    "start_time": "2023-06-28T04:14:14.233Z"
   },
   {
    "duration": 13,
    "start_time": "2023-06-28T04:14:14.346Z"
   },
   {
    "duration": 6,
    "start_time": "2023-06-28T04:14:14.360Z"
   },
   {
    "duration": 24,
    "start_time": "2023-06-28T04:14:14.368Z"
   },
   {
    "duration": 10,
    "start_time": "2023-06-28T04:14:14.394Z"
   },
   {
    "duration": 27,
    "start_time": "2023-06-28T04:14:14.405Z"
   },
   {
    "duration": 4,
    "start_time": "2023-06-28T04:14:14.433Z"
   },
   {
    "duration": 6,
    "start_time": "2023-06-28T04:14:14.439Z"
   },
   {
    "duration": 8,
    "start_time": "2023-06-28T04:14:14.446Z"
   },
   {
    "duration": 12,
    "start_time": "2023-06-28T04:14:14.455Z"
   },
   {
    "duration": 16,
    "start_time": "2023-06-28T04:14:14.468Z"
   },
   {
    "duration": 16,
    "start_time": "2023-06-28T04:14:14.485Z"
   },
   {
    "duration": 15,
    "start_time": "2023-06-28T04:14:14.504Z"
   },
   {
    "duration": 21,
    "start_time": "2023-06-28T04:14:14.521Z"
   },
   {
    "duration": 6,
    "start_time": "2023-06-28T04:14:14.543Z"
   },
   {
    "duration": 291,
    "start_time": "2023-06-28T04:14:14.551Z"
   },
   {
    "duration": 5,
    "start_time": "2023-06-28T04:14:14.844Z"
   },
   {
    "duration": 244,
    "start_time": "2023-06-28T04:14:14.850Z"
   },
   {
    "duration": 163,
    "start_time": "2023-06-28T04:14:15.095Z"
   },
   {
    "duration": 9,
    "start_time": "2023-06-28T04:14:15.260Z"
   },
   {
    "duration": 187,
    "start_time": "2023-06-28T04:14:15.271Z"
   },
   {
    "duration": 9,
    "start_time": "2023-06-28T04:14:15.460Z"
   },
   {
    "duration": 175,
    "start_time": "2023-06-28T04:14:15.470Z"
   },
   {
    "duration": 9,
    "start_time": "2023-06-28T04:14:15.647Z"
   },
   {
    "duration": 182,
    "start_time": "2023-06-28T04:14:15.657Z"
   },
   {
    "duration": 9,
    "start_time": "2023-06-28T04:14:15.841Z"
   },
   {
    "duration": 232,
    "start_time": "2023-06-28T04:14:15.851Z"
   },
   {
    "duration": 10,
    "start_time": "2023-06-28T04:14:16.084Z"
   },
   {
    "duration": 18,
    "start_time": "2023-06-28T04:14:16.095Z"
   },
   {
    "duration": 18,
    "start_time": "2023-06-28T04:14:16.114Z"
   },
   {
    "duration": 144,
    "start_time": "2023-06-28T04:14:16.133Z"
   },
   {
    "duration": 94,
    "start_time": "2023-06-28T04:14:16.278Z"
   },
   {
    "duration": 8,
    "start_time": "2023-06-28T04:14:16.373Z"
   },
   {
    "duration": 88,
    "start_time": "2023-06-28T04:14:16.382Z"
   },
   {
    "duration": 8,
    "start_time": "2023-06-28T04:14:16.471Z"
   },
   {
    "duration": 97,
    "start_time": "2023-06-28T04:14:16.480Z"
   },
   {
    "duration": 8,
    "start_time": "2023-06-28T04:14:16.578Z"
   },
   {
    "duration": 17,
    "start_time": "2023-06-28T04:14:16.587Z"
   },
   {
    "duration": 662,
    "start_time": "2023-06-28T04:14:16.606Z"
   },
   {
    "duration": 7,
    "start_time": "2023-06-28T04:14:17.272Z"
   },
   {
    "duration": 12,
    "start_time": "2023-06-28T04:14:17.280Z"
   },
   {
    "duration": 10,
    "start_time": "2023-06-28T04:14:17.293Z"
   },
   {
    "duration": 13,
    "start_time": "2023-06-28T04:14:17.304Z"
   },
   {
    "duration": 18,
    "start_time": "2023-06-28T04:14:17.332Z"
   },
   {
    "duration": 14,
    "start_time": "2023-06-28T04:14:17.351Z"
   },
   {
    "duration": 13,
    "start_time": "2023-06-28T04:14:17.367Z"
   },
   {
    "duration": 14,
    "start_time": "2023-06-28T04:14:17.382Z"
   },
   {
    "duration": 47,
    "start_time": "2023-06-28T04:14:17.397Z"
   },
   {
    "duration": 14,
    "start_time": "2023-06-28T04:14:17.445Z"
   },
   {
    "duration": 15,
    "start_time": "2023-06-28T04:14:17.460Z"
   },
   {
    "duration": 14,
    "start_time": "2023-06-28T04:14:17.476Z"
   },
   {
    "duration": 15,
    "start_time": "2023-06-28T04:14:17.491Z"
   },
   {
    "duration": 7,
    "start_time": "2023-06-28T04:14:17.531Z"
   },
   {
    "duration": 10,
    "start_time": "2023-06-28T04:14:17.540Z"
   },
   {
    "duration": 18,
    "start_time": "2023-06-28T04:14:52.351Z"
   },
   {
    "duration": 16,
    "start_time": "2023-06-28T04:23:20.614Z"
   },
   {
    "duration": 1165,
    "start_time": "2023-06-28T04:27:46.405Z"
   },
   {
    "duration": 73,
    "start_time": "2023-06-28T04:27:47.572Z"
   },
   {
    "duration": 13,
    "start_time": "2023-06-28T04:27:47.647Z"
   },
   {
    "duration": 13,
    "start_time": "2023-06-28T04:27:47.662Z"
   },
   {
    "duration": 15,
    "start_time": "2023-06-28T04:27:47.677Z"
   },
   {
    "duration": 15,
    "start_time": "2023-06-28T04:27:47.694Z"
   },
   {
    "duration": 29,
    "start_time": "2023-06-28T04:27:47.710Z"
   },
   {
    "duration": 4,
    "start_time": "2023-06-28T04:27:47.741Z"
   },
   {
    "duration": 7,
    "start_time": "2023-06-28T04:27:47.746Z"
   },
   {
    "duration": 6,
    "start_time": "2023-06-28T04:27:47.755Z"
   },
   {
    "duration": 15,
    "start_time": "2023-06-28T04:27:47.763Z"
   },
   {
    "duration": 12,
    "start_time": "2023-06-28T04:27:47.779Z"
   },
   {
    "duration": 30,
    "start_time": "2023-06-28T04:27:47.793Z"
   },
   {
    "duration": 19,
    "start_time": "2023-06-28T04:27:47.825Z"
   },
   {
    "duration": 19,
    "start_time": "2023-06-28T04:27:47.846Z"
   },
   {
    "duration": 17,
    "start_time": "2023-06-28T04:27:47.866Z"
   },
   {
    "duration": 14,
    "start_time": "2023-06-28T04:27:47.884Z"
   },
   {
    "duration": 4,
    "start_time": "2023-06-28T04:27:47.899Z"
   },
   {
    "duration": 300,
    "start_time": "2023-06-28T04:27:47.904Z"
   },
   {
    "duration": 5,
    "start_time": "2023-06-28T04:27:48.205Z"
   },
   {
    "duration": 251,
    "start_time": "2023-06-28T04:27:48.211Z"
   },
   {
    "duration": 204,
    "start_time": "2023-06-28T04:27:48.464Z"
   },
   {
    "duration": 8,
    "start_time": "2023-06-28T04:27:48.670Z"
   },
   {
    "duration": 186,
    "start_time": "2023-06-28T04:27:48.680Z"
   },
   {
    "duration": 9,
    "start_time": "2023-06-28T04:27:48.868Z"
   },
   {
    "duration": 180,
    "start_time": "2023-06-28T04:27:48.878Z"
   },
   {
    "duration": 9,
    "start_time": "2023-06-28T04:27:49.059Z"
   },
   {
    "duration": 177,
    "start_time": "2023-06-28T04:27:49.071Z"
   },
   {
    "duration": 9,
    "start_time": "2023-06-28T04:27:49.249Z"
   },
   {
    "duration": 272,
    "start_time": "2023-06-28T04:27:49.259Z"
   },
   {
    "duration": 8,
    "start_time": "2023-06-28T04:27:49.533Z"
   },
   {
    "duration": 34,
    "start_time": "2023-06-28T04:27:49.543Z"
   },
   {
    "duration": 16,
    "start_time": "2023-06-28T04:27:49.579Z"
   },
   {
    "duration": 181,
    "start_time": "2023-06-28T04:27:49.596Z"
   },
   {
    "duration": 104,
    "start_time": "2023-06-28T04:27:49.779Z"
   },
   {
    "duration": 54,
    "start_time": "2023-06-28T04:27:49.884Z"
   },
   {
    "duration": 82,
    "start_time": "2023-06-28T04:27:49.939Z"
   },
   {
    "duration": 11,
    "start_time": "2023-06-28T04:27:50.023Z"
   },
   {
    "duration": 111,
    "start_time": "2023-06-28T04:27:50.036Z"
   },
   {
    "duration": 8,
    "start_time": "2023-06-28T04:27:50.148Z"
   },
   {
    "duration": 27,
    "start_time": "2023-06-28T04:27:50.157Z"
   },
   {
    "duration": 698,
    "start_time": "2023-06-28T04:27:50.186Z"
   },
   {
    "duration": 8,
    "start_time": "2023-06-28T04:27:50.886Z"
   },
   {
    "duration": 14,
    "start_time": "2023-06-28T04:27:50.895Z"
   },
   {
    "duration": 10,
    "start_time": "2023-06-28T04:27:50.910Z"
   },
   {
    "duration": 13,
    "start_time": "2023-06-28T04:27:50.921Z"
   },
   {
    "duration": 13,
    "start_time": "2023-06-28T04:27:50.935Z"
   },
   {
    "duration": 26,
    "start_time": "2023-06-28T04:27:50.949Z"
   },
   {
    "duration": 22,
    "start_time": "2023-06-28T04:27:50.976Z"
   },
   {
    "duration": 14,
    "start_time": "2023-06-28T04:27:50.999Z"
   },
   {
    "duration": 26,
    "start_time": "2023-06-28T04:27:51.014Z"
   },
   {
    "duration": 78,
    "start_time": "2023-06-28T04:27:51.042Z"
   },
   {
    "duration": 17,
    "start_time": "2023-06-28T04:27:51.122Z"
   },
   {
    "duration": 30,
    "start_time": "2023-06-28T04:27:51.141Z"
   },
   {
    "duration": 12,
    "start_time": "2023-06-28T04:27:51.173Z"
   },
   {
    "duration": 12,
    "start_time": "2023-06-28T04:27:51.186Z"
   },
   {
    "duration": 10,
    "start_time": "2023-06-28T04:27:51.200Z"
   },
   {
    "duration": 6,
    "start_time": "2023-06-28T04:31:59.497Z"
   },
   {
    "duration": 230,
    "start_time": "2023-06-28T04:32:00.107Z"
   },
   {
    "duration": 5,
    "start_time": "2023-06-28T04:32:17.634Z"
   },
   {
    "duration": 305,
    "start_time": "2023-06-28T04:32:18.647Z"
   },
   {
    "duration": 6,
    "start_time": "2023-06-28T04:33:44.435Z"
   },
   {
    "duration": 149,
    "start_time": "2023-06-28T04:33:45.063Z"
   },
   {
    "duration": 98,
    "start_time": "2023-06-28T04:37:36.006Z"
   },
   {
    "duration": 119,
    "start_time": "2023-06-28T04:37:42.694Z"
   },
   {
    "duration": 107,
    "start_time": "2023-06-28T04:37:53.639Z"
   },
   {
    "duration": 107,
    "start_time": "2023-06-28T04:38:03.498Z"
   },
   {
    "duration": 1610,
    "start_time": "2023-06-28T04:47:25.605Z"
   },
   {
    "duration": 16,
    "start_time": "2023-06-28T04:47:49.754Z"
   },
   {
    "duration": 13,
    "start_time": "2023-06-28T04:49:05.234Z"
   },
   {
    "duration": 9,
    "start_time": "2023-06-28T04:49:40.942Z"
   },
   {
    "duration": 461,
    "start_time": "2023-06-28T04:49:47.498Z"
   },
   {
    "duration": 1138,
    "start_time": "2023-06-28T04:53:50.494Z"
   },
   {
    "duration": 68,
    "start_time": "2023-06-28T04:53:51.634Z"
   },
   {
    "duration": 12,
    "start_time": "2023-06-28T04:53:51.703Z"
   },
   {
    "duration": 6,
    "start_time": "2023-06-28T04:53:51.717Z"
   },
   {
    "duration": 17,
    "start_time": "2023-06-28T04:53:51.724Z"
   },
   {
    "duration": 12,
    "start_time": "2023-06-28T04:53:51.743Z"
   },
   {
    "duration": 25,
    "start_time": "2023-06-28T04:53:51.756Z"
   },
   {
    "duration": 9,
    "start_time": "2023-06-28T04:53:51.782Z"
   },
   {
    "duration": 6,
    "start_time": "2023-06-28T04:53:51.792Z"
   },
   {
    "duration": 14,
    "start_time": "2023-06-28T04:53:51.800Z"
   },
   {
    "duration": 10,
    "start_time": "2023-06-28T04:53:51.815Z"
   },
   {
    "duration": 11,
    "start_time": "2023-06-28T04:53:51.826Z"
   },
   {
    "duration": 25,
    "start_time": "2023-06-28T04:53:51.839Z"
   },
   {
    "duration": 19,
    "start_time": "2023-06-28T04:53:51.865Z"
   },
   {
    "duration": 13,
    "start_time": "2023-06-28T04:53:51.885Z"
   },
   {
    "duration": 15,
    "start_time": "2023-06-28T04:53:51.899Z"
   },
   {
    "duration": 19,
    "start_time": "2023-06-28T04:53:51.916Z"
   },
   {
    "duration": 2,
    "start_time": "2023-06-28T04:53:51.937Z"
   },
   {
    "duration": 272,
    "start_time": "2023-06-28T04:53:51.941Z"
   },
   {
    "duration": 4,
    "start_time": "2023-06-28T04:53:52.215Z"
   },
   {
    "duration": 242,
    "start_time": "2023-06-28T04:53:52.220Z"
   },
   {
    "duration": 170,
    "start_time": "2023-06-28T04:53:52.464Z"
   },
   {
    "duration": 9,
    "start_time": "2023-06-28T04:53:52.636Z"
   },
   {
    "duration": 192,
    "start_time": "2023-06-28T04:53:52.647Z"
   },
   {
    "duration": 9,
    "start_time": "2023-06-28T04:53:52.840Z"
   },
   {
    "duration": 165,
    "start_time": "2023-06-28T04:53:52.851Z"
   },
   {
    "duration": 15,
    "start_time": "2023-06-28T04:53:53.017Z"
   },
   {
    "duration": 247,
    "start_time": "2023-06-28T04:53:53.035Z"
   },
   {
    "duration": 8,
    "start_time": "2023-06-28T04:53:53.284Z"
   },
   {
    "duration": 202,
    "start_time": "2023-06-28T04:53:53.293Z"
   },
   {
    "duration": 11,
    "start_time": "2023-06-28T04:53:53.496Z"
   },
   {
    "duration": 16,
    "start_time": "2023-06-28T04:53:53.531Z"
   },
   {
    "duration": 11,
    "start_time": "2023-06-28T04:53:53.548Z"
   },
   {
    "duration": 229,
    "start_time": "2023-06-28T04:53:53.560Z"
   },
   {
    "duration": 125,
    "start_time": "2023-06-28T04:53:53.790Z"
   },
   {
    "duration": 19,
    "start_time": "2023-06-28T04:53:53.916Z"
   },
   {
    "duration": 87,
    "start_time": "2023-06-28T04:53:53.936Z"
   },
   {
    "duration": 14,
    "start_time": "2023-06-28T04:53:54.025Z"
   },
   {
    "duration": 100,
    "start_time": "2023-06-28T04:53:54.041Z"
   },
   {
    "duration": 8,
    "start_time": "2023-06-28T04:53:54.143Z"
   },
   {
    "duration": 109,
    "start_time": "2023-06-28T04:53:54.152Z"
   },
   {
    "duration": 12,
    "start_time": "2023-06-28T04:53:54.263Z"
   },
   {
    "duration": 701,
    "start_time": "2023-06-28T04:53:54.276Z"
   },
   {
    "duration": 8,
    "start_time": "2023-06-28T04:53:54.979Z"
   },
   {
    "duration": 13,
    "start_time": "2023-06-28T04:53:54.988Z"
   },
   {
    "duration": 9,
    "start_time": "2023-06-28T04:53:55.003Z"
   },
   {
    "duration": 20,
    "start_time": "2023-06-28T04:53:55.013Z"
   },
   {
    "duration": 101,
    "start_time": "2023-06-28T04:53:55.035Z"
   },
   {
    "duration": 14,
    "start_time": "2023-06-28T04:53:55.138Z"
   },
   {
    "duration": 13,
    "start_time": "2023-06-28T04:53:55.153Z"
   },
   {
    "duration": 24,
    "start_time": "2023-06-28T04:53:55.168Z"
   },
   {
    "duration": 14,
    "start_time": "2023-06-28T04:53:55.193Z"
   },
   {
    "duration": 33,
    "start_time": "2023-06-28T04:53:55.208Z"
   },
   {
    "duration": 17,
    "start_time": "2023-06-28T04:53:55.243Z"
   },
   {
    "duration": 13,
    "start_time": "2023-06-28T04:53:55.262Z"
   },
   {
    "duration": 13,
    "start_time": "2023-06-28T04:53:55.276Z"
   },
   {
    "duration": 6,
    "start_time": "2023-06-28T04:53:55.290Z"
   },
   {
    "duration": 7,
    "start_time": "2023-06-28T04:53:55.297Z"
   },
   {
    "duration": 113,
    "start_time": "2023-06-28T04:55:00.509Z"
   },
   {
    "duration": 103,
    "start_time": "2023-06-28T04:57:54.896Z"
   },
   {
    "duration": 91,
    "start_time": "2023-06-28T04:59:10.430Z"
   },
   {
    "duration": 83,
    "start_time": "2023-06-28T04:59:19.294Z"
   },
   {
    "duration": 83,
    "start_time": "2023-06-28T04:59:30.002Z"
   },
   {
    "duration": 84,
    "start_time": "2023-06-28T04:59:40.654Z"
   },
   {
    "duration": 3,
    "start_time": "2023-06-28T05:22:04.879Z"
   },
   {
    "duration": 10,
    "start_time": "2023-06-28T05:22:17.721Z"
   },
   {
    "duration": 10,
    "start_time": "2023-06-28T05:22:34.327Z"
   },
   {
    "duration": 15,
    "start_time": "2023-06-28T05:22:48.523Z"
   },
   {
    "duration": 12,
    "start_time": "2023-06-28T05:25:40.284Z"
   },
   {
    "duration": 12,
    "start_time": "2023-06-28T05:25:47.136Z"
   },
   {
    "duration": 12,
    "start_time": "2023-06-28T05:26:09.580Z"
   },
   {
    "duration": 17,
    "start_time": "2023-06-28T05:26:34.554Z"
   },
   {
    "duration": 10,
    "start_time": "2023-06-28T05:29:20.229Z"
   },
   {
    "duration": 10,
    "start_time": "2023-06-28T05:29:48.162Z"
   },
   {
    "duration": 14,
    "start_time": "2023-06-28T05:30:55.829Z"
   },
   {
    "duration": 13,
    "start_time": "2023-06-28T05:31:04.427Z"
   },
   {
    "duration": 208,
    "start_time": "2023-06-28T05:32:05.352Z"
   },
   {
    "duration": 256,
    "start_time": "2023-06-28T05:32:15.786Z"
   },
   {
    "duration": 119,
    "start_time": "2023-06-28T05:32:24.226Z"
   },
   {
    "duration": 351,
    "start_time": "2023-06-28T05:33:51.728Z"
   },
   {
    "duration": 100,
    "start_time": "2023-06-28T05:34:00.985Z"
   },
   {
    "duration": 715,
    "start_time": "2023-06-28T05:35:02.001Z"
   },
   {
    "duration": 161,
    "start_time": "2023-06-28T05:35:51.045Z"
   },
   {
    "duration": 13,
    "start_time": "2023-06-28T05:44:10.530Z"
   },
   {
    "duration": 82,
    "start_time": "2023-06-28T05:44:55.361Z"
   },
   {
    "duration": 101,
    "start_time": "2023-06-28T05:46:19.786Z"
   },
   {
    "duration": 12,
    "start_time": "2023-06-28T05:47:22.257Z"
   },
   {
    "duration": 15,
    "start_time": "2023-06-28T05:48:32.469Z"
   },
   {
    "duration": 14,
    "start_time": "2023-06-28T05:52:10.978Z"
   },
   {
    "duration": 18,
    "start_time": "2023-06-28T05:52:16.210Z"
   },
   {
    "duration": 7,
    "start_time": "2023-06-28T05:59:25.057Z"
   },
   {
    "duration": 7,
    "start_time": "2023-06-28T06:00:03.177Z"
   },
   {
    "duration": 7,
    "start_time": "2023-06-28T06:00:25.161Z"
   },
   {
    "duration": 8,
    "start_time": "2023-06-28T06:01:24.820Z"
   },
   {
    "duration": 1186,
    "start_time": "2023-06-28T06:06:33.946Z"
   },
   {
    "duration": 71,
    "start_time": "2023-06-28T06:06:35.134Z"
   },
   {
    "duration": 13,
    "start_time": "2023-06-28T06:06:35.207Z"
   },
   {
    "duration": 10,
    "start_time": "2023-06-28T06:06:35.222Z"
   },
   {
    "duration": 30,
    "start_time": "2023-06-28T06:06:35.234Z"
   },
   {
    "duration": 37,
    "start_time": "2023-06-28T06:06:35.266Z"
   },
   {
    "duration": 24,
    "start_time": "2023-06-28T06:06:35.305Z"
   },
   {
    "duration": 13,
    "start_time": "2023-06-28T06:06:35.330Z"
   },
   {
    "duration": 32,
    "start_time": "2023-06-28T06:06:35.344Z"
   },
   {
    "duration": 15,
    "start_time": "2023-06-28T06:06:35.379Z"
   },
   {
    "duration": 33,
    "start_time": "2023-06-28T06:06:35.396Z"
   },
   {
    "duration": 24,
    "start_time": "2023-06-28T06:06:35.430Z"
   },
   {
    "duration": 22,
    "start_time": "2023-06-28T06:06:35.456Z"
   },
   {
    "duration": 29,
    "start_time": "2023-06-28T06:06:35.480Z"
   },
   {
    "duration": 32,
    "start_time": "2023-06-28T06:06:35.511Z"
   },
   {
    "duration": 18,
    "start_time": "2023-06-28T06:06:35.545Z"
   },
   {
    "duration": 25,
    "start_time": "2023-06-28T06:06:35.565Z"
   },
   {
    "duration": 4,
    "start_time": "2023-06-28T06:06:35.592Z"
   },
   {
    "duration": 297,
    "start_time": "2023-06-28T06:06:35.597Z"
   },
   {
    "duration": 5,
    "start_time": "2023-06-28T06:06:35.896Z"
   },
   {
    "duration": 256,
    "start_time": "2023-06-28T06:06:35.902Z"
   },
   {
    "duration": 188,
    "start_time": "2023-06-28T06:06:36.160Z"
   },
   {
    "duration": 10,
    "start_time": "2023-06-28T06:06:36.350Z"
   },
   {
    "duration": 200,
    "start_time": "2023-06-28T06:06:36.361Z"
   },
   {
    "duration": 10,
    "start_time": "2023-06-28T06:06:36.562Z"
   },
   {
    "duration": 182,
    "start_time": "2023-06-28T06:06:36.573Z"
   },
   {
    "duration": 9,
    "start_time": "2023-06-28T06:06:36.756Z"
   },
   {
    "duration": 255,
    "start_time": "2023-06-28T06:06:36.769Z"
   },
   {
    "duration": 11,
    "start_time": "2023-06-28T06:06:37.031Z"
   },
   {
    "duration": 210,
    "start_time": "2023-06-28T06:06:37.043Z"
   },
   {
    "duration": 9,
    "start_time": "2023-06-28T06:06:37.254Z"
   },
   {
    "duration": 18,
    "start_time": "2023-06-28T06:06:37.265Z"
   },
   {
    "duration": 11,
    "start_time": "2023-06-28T06:06:37.285Z"
   },
   {
    "duration": 158,
    "start_time": "2023-06-28T06:06:37.297Z"
   },
   {
    "duration": 99,
    "start_time": "2023-06-28T06:06:37.457Z"
   },
   {
    "duration": 8,
    "start_time": "2023-06-28T06:06:37.558Z"
   },
   {
    "duration": 119,
    "start_time": "2023-06-28T06:06:37.568Z"
   },
   {
    "duration": 17,
    "start_time": "2023-06-28T06:06:37.689Z"
   },
   {
    "duration": 113,
    "start_time": "2023-06-28T06:06:37.711Z"
   },
   {
    "duration": 13,
    "start_time": "2023-06-28T06:06:37.826Z"
   },
   {
    "duration": 134,
    "start_time": "2023-06-28T06:06:37.841Z"
   },
   {
    "duration": 118,
    "start_time": "2023-06-28T06:06:37.976Z"
   },
   {
    "duration": 0,
    "start_time": "2023-06-28T06:06:38.096Z"
   },
   {
    "duration": 0,
    "start_time": "2023-06-28T06:06:38.097Z"
   },
   {
    "duration": 0,
    "start_time": "2023-06-28T06:06:38.098Z"
   },
   {
    "duration": 0,
    "start_time": "2023-06-28T06:06:38.099Z"
   },
   {
    "duration": 0,
    "start_time": "2023-06-28T06:06:38.100Z"
   },
   {
    "duration": 0,
    "start_time": "2023-06-28T06:06:38.101Z"
   },
   {
    "duration": 0,
    "start_time": "2023-06-28T06:06:38.102Z"
   },
   {
    "duration": 0,
    "start_time": "2023-06-28T06:06:38.103Z"
   },
   {
    "duration": 0,
    "start_time": "2023-06-28T06:06:38.104Z"
   },
   {
    "duration": 0,
    "start_time": "2023-06-28T06:06:38.105Z"
   },
   {
    "duration": 0,
    "start_time": "2023-06-28T06:06:38.105Z"
   },
   {
    "duration": 0,
    "start_time": "2023-06-28T06:06:38.106Z"
   },
   {
    "duration": 0,
    "start_time": "2023-06-28T06:06:38.107Z"
   },
   {
    "duration": 0,
    "start_time": "2023-06-28T06:06:38.131Z"
   },
   {
    "duration": 0,
    "start_time": "2023-06-28T06:06:38.132Z"
   },
   {
    "duration": 0,
    "start_time": "2023-06-28T06:06:38.134Z"
   },
   {
    "duration": 0,
    "start_time": "2023-06-28T06:06:38.135Z"
   },
   {
    "duration": 0,
    "start_time": "2023-06-28T06:06:38.136Z"
   },
   {
    "duration": 0,
    "start_time": "2023-06-28T06:06:38.137Z"
   },
   {
    "duration": 0,
    "start_time": "2023-06-28T06:06:38.138Z"
   },
   {
    "duration": 1152,
    "start_time": "2023-06-28T06:07:27.870Z"
   },
   {
    "duration": 75,
    "start_time": "2023-06-28T06:07:29.024Z"
   },
   {
    "duration": 13,
    "start_time": "2023-06-28T06:07:29.101Z"
   },
   {
    "duration": 18,
    "start_time": "2023-06-28T06:07:29.116Z"
   },
   {
    "duration": 27,
    "start_time": "2023-06-28T06:07:29.136Z"
   },
   {
    "duration": 27,
    "start_time": "2023-06-28T06:07:29.165Z"
   },
   {
    "duration": 33,
    "start_time": "2023-06-28T06:07:29.193Z"
   },
   {
    "duration": 17,
    "start_time": "2023-06-28T06:07:29.228Z"
   },
   {
    "duration": 22,
    "start_time": "2023-06-28T06:07:29.247Z"
   },
   {
    "duration": 6,
    "start_time": "2023-06-28T06:07:29.271Z"
   },
   {
    "duration": 6,
    "start_time": "2023-06-28T06:07:29.279Z"
   },
   {
    "duration": 12,
    "start_time": "2023-06-28T06:07:29.286Z"
   },
   {
    "duration": 21,
    "start_time": "2023-06-28T06:07:29.300Z"
   },
   {
    "duration": 17,
    "start_time": "2023-06-28T06:07:29.322Z"
   },
   {
    "duration": 46,
    "start_time": "2023-06-28T06:07:29.340Z"
   },
   {
    "duration": 18,
    "start_time": "2023-06-28T06:07:29.388Z"
   },
   {
    "duration": 15,
    "start_time": "2023-06-28T06:07:29.408Z"
   },
   {
    "duration": 3,
    "start_time": "2023-06-28T06:07:29.424Z"
   },
   {
    "duration": 284,
    "start_time": "2023-06-28T06:07:29.429Z"
   },
   {
    "duration": 6,
    "start_time": "2023-06-28T06:07:29.714Z"
   },
   {
    "duration": 241,
    "start_time": "2023-06-28T06:07:29.732Z"
   },
   {
    "duration": 186,
    "start_time": "2023-06-28T06:07:29.974Z"
   },
   {
    "duration": 10,
    "start_time": "2023-06-28T06:07:30.161Z"
   },
   {
    "duration": 257,
    "start_time": "2023-06-28T06:07:30.173Z"
   },
   {
    "duration": 10,
    "start_time": "2023-06-28T06:07:30.431Z"
   },
   {
    "duration": 207,
    "start_time": "2023-06-28T06:07:30.442Z"
   },
   {
    "duration": 10,
    "start_time": "2023-06-28T06:07:30.650Z"
   },
   {
    "duration": 290,
    "start_time": "2023-06-28T06:07:30.664Z"
   },
   {
    "duration": 10,
    "start_time": "2023-06-28T06:07:30.956Z"
   },
   {
    "duration": 234,
    "start_time": "2023-06-28T06:07:30.967Z"
   },
   {
    "duration": 10,
    "start_time": "2023-06-28T06:07:31.202Z"
   },
   {
    "duration": 38,
    "start_time": "2023-06-28T06:07:31.214Z"
   },
   {
    "duration": 9,
    "start_time": "2023-06-28T06:07:31.254Z"
   },
   {
    "duration": 200,
    "start_time": "2023-06-28T06:07:31.264Z"
   },
   {
    "duration": 99,
    "start_time": "2023-06-28T06:07:31.465Z"
   },
   {
    "duration": 8,
    "start_time": "2023-06-28T06:07:31.566Z"
   },
   {
    "duration": 131,
    "start_time": "2023-06-28T06:07:31.576Z"
   },
   {
    "duration": 23,
    "start_time": "2023-06-28T06:07:31.709Z"
   },
   {
    "duration": 110,
    "start_time": "2023-06-28T06:07:31.733Z"
   },
   {
    "duration": 9,
    "start_time": "2023-06-28T06:07:31.844Z"
   },
   {
    "duration": 140,
    "start_time": "2023-06-28T06:07:31.855Z"
   },
   {
    "duration": 113,
    "start_time": "2023-06-28T06:07:31.997Z"
   },
   {
    "duration": 0,
    "start_time": "2023-06-28T06:07:32.111Z"
   },
   {
    "duration": 0,
    "start_time": "2023-06-28T06:07:32.113Z"
   },
   {
    "duration": 0,
    "start_time": "2023-06-28T06:07:32.113Z"
   },
   {
    "duration": 0,
    "start_time": "2023-06-28T06:07:32.115Z"
   },
   {
    "duration": 0,
    "start_time": "2023-06-28T06:07:32.116Z"
   },
   {
    "duration": 0,
    "start_time": "2023-06-28T06:07:32.117Z"
   },
   {
    "duration": 0,
    "start_time": "2023-06-28T06:07:32.118Z"
   },
   {
    "duration": 0,
    "start_time": "2023-06-28T06:07:32.131Z"
   },
   {
    "duration": 0,
    "start_time": "2023-06-28T06:07:32.132Z"
   },
   {
    "duration": 0,
    "start_time": "2023-06-28T06:07:32.133Z"
   },
   {
    "duration": 1,
    "start_time": "2023-06-28T06:07:32.134Z"
   },
   {
    "duration": 0,
    "start_time": "2023-06-28T06:07:32.135Z"
   },
   {
    "duration": 0,
    "start_time": "2023-06-28T06:07:32.136Z"
   },
   {
    "duration": 0,
    "start_time": "2023-06-28T06:07:32.137Z"
   },
   {
    "duration": 0,
    "start_time": "2023-06-28T06:07:32.138Z"
   },
   {
    "duration": 0,
    "start_time": "2023-06-28T06:07:32.139Z"
   },
   {
    "duration": 0,
    "start_time": "2023-06-28T06:07:32.140Z"
   },
   {
    "duration": 0,
    "start_time": "2023-06-28T06:07:32.141Z"
   },
   {
    "duration": 0,
    "start_time": "2023-06-28T06:07:32.142Z"
   },
   {
    "duration": 0,
    "start_time": "2023-06-28T06:07:32.143Z"
   },
   {
    "duration": 12,
    "start_time": "2023-06-28T06:07:46.677Z"
   },
   {
    "duration": 695,
    "start_time": "2023-06-28T06:07:50.242Z"
   },
   {
    "duration": 8,
    "start_time": "2023-06-28T06:07:54.514Z"
   },
   {
    "duration": 13,
    "start_time": "2023-06-28T06:07:56.884Z"
   },
   {
    "duration": 12,
    "start_time": "2023-06-28T06:07:58.745Z"
   },
   {
    "duration": 14,
    "start_time": "2023-06-28T06:08:01.677Z"
   },
   {
    "duration": 13,
    "start_time": "2023-06-28T06:08:04.858Z"
   },
   {
    "duration": 101,
    "start_time": "2023-06-28T06:08:07.301Z"
   },
   {
    "duration": 15,
    "start_time": "2023-06-28T06:08:13.081Z"
   },
   {
    "duration": 18,
    "start_time": "2023-06-28T06:08:16.849Z"
   },
   {
    "duration": 18,
    "start_time": "2023-06-28T06:08:19.802Z"
   },
   {
    "duration": 20,
    "start_time": "2023-06-28T06:08:23.139Z"
   },
   {
    "duration": 14,
    "start_time": "2023-06-28T06:08:25.810Z"
   },
   {
    "duration": 14,
    "start_time": "2023-06-28T06:08:28.145Z"
   },
   {
    "duration": 17,
    "start_time": "2023-06-28T06:08:32.679Z"
   },
   {
    "duration": 16,
    "start_time": "2023-06-28T06:08:35.028Z"
   },
   {
    "duration": 14,
    "start_time": "2023-06-28T06:08:37.468Z"
   },
   {
    "duration": 8,
    "start_time": "2023-06-28T06:08:42.985Z"
   },
   {
    "duration": 10,
    "start_time": "2023-06-28T06:08:46.427Z"
   },
   {
    "duration": 1647,
    "start_time": "2023-06-28T07:37:36.046Z"
   },
   {
    "duration": 231,
    "start_time": "2023-06-28T07:37:37.698Z"
   },
   {
    "duration": 16,
    "start_time": "2023-06-28T07:37:37.931Z"
   },
   {
    "duration": 12,
    "start_time": "2023-06-28T07:37:37.951Z"
   },
   {
    "duration": 29,
    "start_time": "2023-06-28T07:37:37.965Z"
   },
   {
    "duration": 23,
    "start_time": "2023-06-28T07:37:37.997Z"
   },
   {
    "duration": 56,
    "start_time": "2023-06-28T07:37:38.022Z"
   },
   {
    "duration": 6,
    "start_time": "2023-06-28T07:37:38.080Z"
   },
   {
    "duration": 6,
    "start_time": "2023-06-28T07:37:38.088Z"
   },
   {
    "duration": 5,
    "start_time": "2023-06-28T07:37:38.097Z"
   },
   {
    "duration": 7,
    "start_time": "2023-06-28T07:37:38.104Z"
   },
   {
    "duration": 7,
    "start_time": "2023-06-28T07:37:38.114Z"
   },
   {
    "duration": 49,
    "start_time": "2023-06-28T07:37:38.124Z"
   },
   {
    "duration": 20,
    "start_time": "2023-06-28T07:37:38.175Z"
   },
   {
    "duration": 17,
    "start_time": "2023-06-28T07:37:38.197Z"
   },
   {
    "duration": 57,
    "start_time": "2023-06-28T07:37:38.216Z"
   },
   {
    "duration": 17,
    "start_time": "2023-06-28T07:37:38.275Z"
   },
   {
    "duration": 3,
    "start_time": "2023-06-28T07:37:38.294Z"
   },
   {
    "duration": 403,
    "start_time": "2023-06-28T07:37:38.299Z"
   },
   {
    "duration": 8,
    "start_time": "2023-06-28T07:37:38.704Z"
   },
   {
    "duration": 326,
    "start_time": "2023-06-28T07:37:38.714Z"
   },
   {
    "duration": 238,
    "start_time": "2023-06-28T07:37:39.042Z"
   },
   {
    "duration": 10,
    "start_time": "2023-06-28T07:37:39.282Z"
   },
   {
    "duration": 269,
    "start_time": "2023-06-28T07:37:39.294Z"
   },
   {
    "duration": 15,
    "start_time": "2023-06-28T07:37:39.566Z"
   },
   {
    "duration": 234,
    "start_time": "2023-06-28T07:37:39.583Z"
   },
   {
    "duration": 11,
    "start_time": "2023-06-28T07:37:39.819Z"
   },
   {
    "duration": 336,
    "start_time": "2023-06-28T07:37:39.835Z"
   },
   {
    "duration": 13,
    "start_time": "2023-06-28T07:37:40.173Z"
   },
   {
    "duration": 257,
    "start_time": "2023-06-28T07:37:40.187Z"
   },
   {
    "duration": 20,
    "start_time": "2023-06-28T07:37:40.447Z"
   },
   {
    "duration": 31,
    "start_time": "2023-06-28T07:37:40.470Z"
   },
   {
    "duration": 6,
    "start_time": "2023-06-28T07:37:40.503Z"
   },
   {
    "duration": 218,
    "start_time": "2023-06-28T07:37:40.511Z"
   },
   {
    "duration": 132,
    "start_time": "2023-06-28T07:37:40.731Z"
   },
   {
    "duration": 12,
    "start_time": "2023-06-28T07:37:40.866Z"
   },
   {
    "duration": 160,
    "start_time": "2023-06-28T07:37:40.880Z"
   },
   {
    "duration": 24,
    "start_time": "2023-06-28T07:37:41.042Z"
   },
   {
    "duration": 132,
    "start_time": "2023-06-28T07:37:41.068Z"
   },
   {
    "duration": 13,
    "start_time": "2023-06-28T07:37:41.202Z"
   },
   {
    "duration": 185,
    "start_time": "2023-06-28T07:37:41.217Z"
   },
   {
    "duration": 151,
    "start_time": "2023-06-28T07:37:41.403Z"
   },
   {
    "duration": 0,
    "start_time": "2023-06-28T07:37:41.558Z"
   },
   {
    "duration": 0,
    "start_time": "2023-06-28T07:37:41.561Z"
   },
   {
    "duration": 0,
    "start_time": "2023-06-28T07:37:41.563Z"
   },
   {
    "duration": 0,
    "start_time": "2023-06-28T07:37:41.565Z"
   },
   {
    "duration": 0,
    "start_time": "2023-06-28T07:37:41.566Z"
   },
   {
    "duration": 0,
    "start_time": "2023-06-28T07:37:41.568Z"
   },
   {
    "duration": 0,
    "start_time": "2023-06-28T07:37:41.569Z"
   },
   {
    "duration": 0,
    "start_time": "2023-06-28T07:37:41.571Z"
   },
   {
    "duration": 0,
    "start_time": "2023-06-28T07:37:41.572Z"
   },
   {
    "duration": 0,
    "start_time": "2023-06-28T07:37:41.574Z"
   },
   {
    "duration": 0,
    "start_time": "2023-06-28T07:37:41.576Z"
   },
   {
    "duration": 0,
    "start_time": "2023-06-28T07:37:41.578Z"
   },
   {
    "duration": 0,
    "start_time": "2023-06-28T07:37:41.580Z"
   },
   {
    "duration": 0,
    "start_time": "2023-06-28T07:37:41.581Z"
   },
   {
    "duration": 0,
    "start_time": "2023-06-28T07:37:41.582Z"
   },
   {
    "duration": 0,
    "start_time": "2023-06-28T07:37:41.584Z"
   },
   {
    "duration": 0,
    "start_time": "2023-06-28T07:37:41.586Z"
   },
   {
    "duration": 0,
    "start_time": "2023-06-28T07:37:41.587Z"
   },
   {
    "duration": 0,
    "start_time": "2023-06-28T07:37:41.589Z"
   },
   {
    "duration": 0,
    "start_time": "2023-06-28T07:37:41.592Z"
   },
   {
    "duration": 17,
    "start_time": "2023-06-28T07:39:53.772Z"
   },
   {
    "duration": 1358,
    "start_time": "2023-06-28T07:40:09.269Z"
   },
   {
    "duration": 88,
    "start_time": "2023-06-28T07:40:10.629Z"
   },
   {
    "duration": 15,
    "start_time": "2023-06-28T07:40:10.719Z"
   },
   {
    "duration": 25,
    "start_time": "2023-06-28T07:40:10.737Z"
   },
   {
    "duration": 18,
    "start_time": "2023-06-28T07:40:10.767Z"
   },
   {
    "duration": 15,
    "start_time": "2023-06-28T07:40:10.787Z"
   },
   {
    "duration": 16,
    "start_time": "2023-06-28T07:40:10.804Z"
   },
   {
    "duration": 4,
    "start_time": "2023-06-28T07:40:10.822Z"
   },
   {
    "duration": 9,
    "start_time": "2023-06-28T07:40:10.855Z"
   },
   {
    "duration": 37,
    "start_time": "2023-06-28T07:40:10.868Z"
   },
   {
    "duration": 19,
    "start_time": "2023-06-28T07:40:10.907Z"
   },
   {
    "duration": 19,
    "start_time": "2023-06-28T07:40:10.929Z"
   },
   {
    "duration": 24,
    "start_time": "2023-06-28T07:40:10.951Z"
   },
   {
    "duration": 19,
    "start_time": "2023-06-28T07:40:10.978Z"
   },
   {
    "duration": 22,
    "start_time": "2023-06-28T07:40:10.999Z"
   },
   {
    "duration": 55,
    "start_time": "2023-06-28T07:40:11.023Z"
   },
   {
    "duration": 17,
    "start_time": "2023-06-28T07:40:11.080Z"
   },
   {
    "duration": 4,
    "start_time": "2023-06-28T07:40:11.099Z"
   },
   {
    "duration": 434,
    "start_time": "2023-06-28T07:40:11.104Z"
   },
   {
    "duration": 15,
    "start_time": "2023-06-28T07:40:11.540Z"
   },
   {
    "duration": 322,
    "start_time": "2023-06-28T07:40:11.557Z"
   },
   {
    "duration": 231,
    "start_time": "2023-06-28T07:40:11.881Z"
   },
   {
    "duration": 12,
    "start_time": "2023-06-28T07:40:12.113Z"
   },
   {
    "duration": 265,
    "start_time": "2023-06-28T07:40:12.127Z"
   },
   {
    "duration": 12,
    "start_time": "2023-06-28T07:40:12.394Z"
   },
   {
    "duration": 220,
    "start_time": "2023-06-28T07:40:12.408Z"
   },
   {
    "duration": 11,
    "start_time": "2023-06-28T07:40:12.630Z"
   },
   {
    "duration": 297,
    "start_time": "2023-06-28T07:40:12.664Z"
   },
   {
    "duration": 13,
    "start_time": "2023-06-28T07:40:12.967Z"
   },
   {
    "duration": 234,
    "start_time": "2023-06-28T07:40:12.982Z"
   },
   {
    "duration": 12,
    "start_time": "2023-06-28T07:40:13.218Z"
   },
   {
    "duration": 42,
    "start_time": "2023-06-28T07:40:13.232Z"
   },
   {
    "duration": 4,
    "start_time": "2023-06-28T07:40:13.276Z"
   },
   {
    "duration": 188,
    "start_time": "2023-06-28T07:40:13.282Z"
   },
   {
    "duration": 120,
    "start_time": "2023-06-28T07:40:13.472Z"
   },
   {
    "duration": 9,
    "start_time": "2023-06-28T07:40:13.593Z"
   },
   {
    "duration": 120,
    "start_time": "2023-06-28T07:40:13.603Z"
   },
   {
    "duration": 8,
    "start_time": "2023-06-28T07:40:13.725Z"
   },
   {
    "duration": 107,
    "start_time": "2023-06-28T07:40:13.735Z"
   },
   {
    "duration": 17,
    "start_time": "2023-06-28T07:40:13.853Z"
   },
   {
    "duration": 152,
    "start_time": "2023-06-28T07:40:13.872Z"
   },
   {
    "duration": 2,
    "start_time": "2023-06-28T07:40:14.026Z"
   },
   {
    "duration": 134,
    "start_time": "2023-06-28T07:40:14.029Z"
   },
   {
    "duration": 0,
    "start_time": "2023-06-28T07:40:14.166Z"
   },
   {
    "duration": 0,
    "start_time": "2023-06-28T07:40:14.168Z"
   },
   {
    "duration": 0,
    "start_time": "2023-06-28T07:40:14.170Z"
   },
   {
    "duration": 0,
    "start_time": "2023-06-28T07:40:14.170Z"
   },
   {
    "duration": 0,
    "start_time": "2023-06-28T07:40:14.171Z"
   },
   {
    "duration": 0,
    "start_time": "2023-06-28T07:40:14.173Z"
   },
   {
    "duration": 0,
    "start_time": "2023-06-28T07:40:14.174Z"
   },
   {
    "duration": 0,
    "start_time": "2023-06-28T07:40:14.175Z"
   },
   {
    "duration": 0,
    "start_time": "2023-06-28T07:40:14.176Z"
   },
   {
    "duration": 0,
    "start_time": "2023-06-28T07:40:14.177Z"
   },
   {
    "duration": 0,
    "start_time": "2023-06-28T07:40:14.178Z"
   },
   {
    "duration": 0,
    "start_time": "2023-06-28T07:40:14.179Z"
   },
   {
    "duration": 0,
    "start_time": "2023-06-28T07:40:14.180Z"
   },
   {
    "duration": 0,
    "start_time": "2023-06-28T07:40:14.181Z"
   },
   {
    "duration": 0,
    "start_time": "2023-06-28T07:40:14.182Z"
   },
   {
    "duration": 0,
    "start_time": "2023-06-28T07:40:14.183Z"
   },
   {
    "duration": 0,
    "start_time": "2023-06-28T07:40:14.184Z"
   },
   {
    "duration": 0,
    "start_time": "2023-06-28T07:40:14.185Z"
   },
   {
    "duration": 0,
    "start_time": "2023-06-28T07:40:14.186Z"
   },
   {
    "duration": 0,
    "start_time": "2023-06-28T07:40:14.187Z"
   },
   {
    "duration": 1490,
    "start_time": "2023-06-28T07:40:32.153Z"
   },
   {
    "duration": 85,
    "start_time": "2023-06-28T07:40:33.645Z"
   },
   {
    "duration": 16,
    "start_time": "2023-06-28T07:40:33.732Z"
   },
   {
    "duration": 9,
    "start_time": "2023-06-28T07:40:33.751Z"
   },
   {
    "duration": 23,
    "start_time": "2023-06-28T07:40:33.764Z"
   },
   {
    "duration": 16,
    "start_time": "2023-06-28T07:40:33.789Z"
   },
   {
    "duration": 16,
    "start_time": "2023-06-28T07:40:33.806Z"
   },
   {
    "duration": 4,
    "start_time": "2023-06-28T07:40:33.824Z"
   },
   {
    "duration": 5,
    "start_time": "2023-06-28T07:40:33.829Z"
   },
   {
    "duration": 14,
    "start_time": "2023-06-28T07:40:33.858Z"
   },
   {
    "duration": 8,
    "start_time": "2023-06-28T07:40:33.875Z"
   },
   {
    "duration": 11,
    "start_time": "2023-06-28T07:40:33.885Z"
   },
   {
    "duration": 22,
    "start_time": "2023-06-28T07:40:33.898Z"
   },
   {
    "duration": 41,
    "start_time": "2023-06-28T07:40:33.922Z"
   },
   {
    "duration": 29,
    "start_time": "2023-06-28T07:40:33.966Z"
   },
   {
    "duration": 23,
    "start_time": "2023-06-28T07:40:33.997Z"
   },
   {
    "duration": 37,
    "start_time": "2023-06-28T07:40:34.022Z"
   },
   {
    "duration": 5,
    "start_time": "2023-06-28T07:40:34.063Z"
   },
   {
    "duration": 412,
    "start_time": "2023-06-28T07:40:34.071Z"
   },
   {
    "duration": 7,
    "start_time": "2023-06-28T07:40:34.484Z"
   },
   {
    "duration": 315,
    "start_time": "2023-06-28T07:40:34.493Z"
   },
   {
    "duration": 263,
    "start_time": "2023-06-28T07:40:34.810Z"
   },
   {
    "duration": 12,
    "start_time": "2023-06-28T07:40:35.076Z"
   },
   {
    "duration": 242,
    "start_time": "2023-06-28T07:40:35.090Z"
   },
   {
    "duration": 26,
    "start_time": "2023-06-28T07:40:35.333Z"
   },
   {
    "duration": 242,
    "start_time": "2023-06-28T07:40:35.361Z"
   },
   {
    "duration": 11,
    "start_time": "2023-06-28T07:40:35.604Z"
   },
   {
    "duration": 315,
    "start_time": "2023-06-28T07:40:35.619Z"
   },
   {
    "duration": 10,
    "start_time": "2023-06-28T07:40:35.936Z"
   },
   {
    "duration": 239,
    "start_time": "2023-06-28T07:40:35.954Z"
   },
   {
    "duration": 12,
    "start_time": "2023-06-28T07:40:36.195Z"
   },
   {
    "duration": 21,
    "start_time": "2023-06-28T07:40:36.209Z"
   },
   {
    "duration": 26,
    "start_time": "2023-06-28T07:40:36.231Z"
   },
   {
    "duration": 209,
    "start_time": "2023-06-28T07:40:36.261Z"
   },
   {
    "duration": 122,
    "start_time": "2023-06-28T07:40:36.473Z"
   },
   {
    "duration": 10,
    "start_time": "2023-06-28T07:40:36.597Z"
   },
   {
    "duration": 134,
    "start_time": "2023-06-28T07:40:36.608Z"
   },
   {
    "duration": 14,
    "start_time": "2023-06-28T07:40:36.745Z"
   },
   {
    "duration": 124,
    "start_time": "2023-06-28T07:40:36.762Z"
   },
   {
    "duration": 10,
    "start_time": "2023-06-28T07:40:36.888Z"
   },
   {
    "duration": 171,
    "start_time": "2023-06-28T07:40:36.899Z"
   },
   {
    "duration": 2,
    "start_time": "2023-06-28T07:40:37.072Z"
   },
   {
    "duration": 7,
    "start_time": "2023-06-28T07:40:37.076Z"
   },
   {
    "duration": 139,
    "start_time": "2023-06-28T07:40:37.084Z"
   },
   {
    "duration": 0,
    "start_time": "2023-06-28T07:40:37.224Z"
   },
   {
    "duration": 0,
    "start_time": "2023-06-28T07:40:37.226Z"
   },
   {
    "duration": 0,
    "start_time": "2023-06-28T07:40:37.227Z"
   },
   {
    "duration": 0,
    "start_time": "2023-06-28T07:40:37.228Z"
   },
   {
    "duration": 0,
    "start_time": "2023-06-28T07:40:37.229Z"
   },
   {
    "duration": 0,
    "start_time": "2023-06-28T07:40:37.230Z"
   },
   {
    "duration": 0,
    "start_time": "2023-06-28T07:40:37.231Z"
   },
   {
    "duration": 0,
    "start_time": "2023-06-28T07:40:37.232Z"
   },
   {
    "duration": 0,
    "start_time": "2023-06-28T07:40:37.233Z"
   },
   {
    "duration": 0,
    "start_time": "2023-06-28T07:40:37.255Z"
   },
   {
    "duration": 0,
    "start_time": "2023-06-28T07:40:37.258Z"
   },
   {
    "duration": 0,
    "start_time": "2023-06-28T07:40:37.259Z"
   },
   {
    "duration": 0,
    "start_time": "2023-06-28T07:40:37.262Z"
   },
   {
    "duration": 0,
    "start_time": "2023-06-28T07:40:37.264Z"
   },
   {
    "duration": 0,
    "start_time": "2023-06-28T07:40:37.265Z"
   },
   {
    "duration": 0,
    "start_time": "2023-06-28T07:40:37.267Z"
   },
   {
    "duration": 0,
    "start_time": "2023-06-28T07:40:37.269Z"
   },
   {
    "duration": 0,
    "start_time": "2023-06-28T07:40:37.271Z"
   },
   {
    "duration": 0,
    "start_time": "2023-06-28T07:40:37.272Z"
   },
   {
    "duration": 307,
    "start_time": "2023-06-28T07:40:50.741Z"
   },
   {
    "duration": 1472,
    "start_time": "2023-06-28T07:40:55.867Z"
   },
   {
    "duration": 100,
    "start_time": "2023-06-28T07:40:57.342Z"
   },
   {
    "duration": 28,
    "start_time": "2023-06-28T07:40:57.444Z"
   },
   {
    "duration": 29,
    "start_time": "2023-06-28T07:40:57.475Z"
   },
   {
    "duration": 36,
    "start_time": "2023-06-28T07:40:57.505Z"
   },
   {
    "duration": 27,
    "start_time": "2023-06-28T07:40:57.543Z"
   },
   {
    "duration": 21,
    "start_time": "2023-06-28T07:40:57.572Z"
   },
   {
    "duration": 37,
    "start_time": "2023-06-28T07:40:57.594Z"
   },
   {
    "duration": 11,
    "start_time": "2023-06-28T07:40:57.633Z"
   },
   {
    "duration": 21,
    "start_time": "2023-06-28T07:40:57.647Z"
   },
   {
    "duration": 24,
    "start_time": "2023-06-28T07:40:57.670Z"
   },
   {
    "duration": 15,
    "start_time": "2023-06-28T07:40:57.696Z"
   },
   {
    "duration": 24,
    "start_time": "2023-06-28T07:40:57.713Z"
   },
   {
    "duration": 27,
    "start_time": "2023-06-28T07:40:57.739Z"
   },
   {
    "duration": 16,
    "start_time": "2023-06-28T07:40:57.768Z"
   },
   {
    "duration": 19,
    "start_time": "2023-06-28T07:40:57.786Z"
   },
   {
    "duration": 15,
    "start_time": "2023-06-28T07:40:57.807Z"
   },
   {
    "duration": 3,
    "start_time": "2023-06-28T07:40:57.824Z"
   },
   {
    "duration": 369,
    "start_time": "2023-06-28T07:40:57.854Z"
   },
   {
    "duration": 7,
    "start_time": "2023-06-28T07:40:58.225Z"
   },
   {
    "duration": 315,
    "start_time": "2023-06-28T07:40:58.233Z"
   },
   {
    "duration": 209,
    "start_time": "2023-06-28T07:40:58.553Z"
   },
   {
    "duration": 12,
    "start_time": "2023-06-28T07:40:58.765Z"
   },
   {
    "duration": 237,
    "start_time": "2023-06-28T07:40:58.778Z"
   },
   {
    "duration": 11,
    "start_time": "2023-06-28T07:40:59.016Z"
   },
   {
    "duration": 217,
    "start_time": "2023-06-28T07:40:59.028Z"
   },
   {
    "duration": 23,
    "start_time": "2023-06-28T07:40:59.246Z"
   },
   {
    "duration": 301,
    "start_time": "2023-06-28T07:40:59.273Z"
   },
   {
    "duration": 10,
    "start_time": "2023-06-28T07:40:59.576Z"
   },
   {
    "duration": 235,
    "start_time": "2023-06-28T07:40:59.588Z"
   },
   {
    "duration": 11,
    "start_time": "2023-06-28T07:40:59.825Z"
   },
   {
    "duration": 39,
    "start_time": "2023-06-28T07:40:59.837Z"
   },
   {
    "duration": 6,
    "start_time": "2023-06-28T07:40:59.878Z"
   },
   {
    "duration": 203,
    "start_time": "2023-06-28T07:40:59.886Z"
   },
   {
    "duration": 141,
    "start_time": "2023-06-28T07:41:00.091Z"
   },
   {
    "duration": 10,
    "start_time": "2023-06-28T07:41:00.234Z"
   },
   {
    "duration": 138,
    "start_time": "2023-06-28T07:41:00.245Z"
   },
   {
    "duration": 13,
    "start_time": "2023-06-28T07:41:00.385Z"
   },
   {
    "duration": 143,
    "start_time": "2023-06-28T07:41:00.400Z"
   },
   {
    "duration": 25,
    "start_time": "2023-06-28T07:41:00.545Z"
   },
   {
    "duration": 161,
    "start_time": "2023-06-28T07:41:00.574Z"
   },
   {
    "duration": 3,
    "start_time": "2023-06-28T07:41:00.737Z"
   },
   {
    "duration": 22,
    "start_time": "2023-06-28T07:41:00.755Z"
   },
   {
    "duration": 343,
    "start_time": "2023-06-28T07:41:00.779Z"
   },
   {
    "duration": 16,
    "start_time": "2023-06-28T07:41:01.124Z"
   },
   {
    "duration": 965,
    "start_time": "2023-06-28T07:41:01.158Z"
   },
   {
    "duration": 9,
    "start_time": "2023-06-28T07:41:02.125Z"
   },
   {
    "duration": 42,
    "start_time": "2023-06-28T07:41:02.136Z"
   },
   {
    "duration": 45,
    "start_time": "2023-06-28T07:41:02.180Z"
   },
   {
    "duration": 40,
    "start_time": "2023-06-28T07:41:02.227Z"
   },
   {
    "duration": 39,
    "start_time": "2023-06-28T07:41:02.270Z"
   },
   {
    "duration": 38,
    "start_time": "2023-06-28T07:41:02.311Z"
   },
   {
    "duration": 42,
    "start_time": "2023-06-28T07:41:02.351Z"
   },
   {
    "duration": 45,
    "start_time": "2023-06-28T07:41:02.395Z"
   },
   {
    "duration": 63,
    "start_time": "2023-06-28T07:41:02.441Z"
   },
   {
    "duration": 30,
    "start_time": "2023-06-28T07:41:02.506Z"
   },
   {
    "duration": 37,
    "start_time": "2023-06-28T07:41:02.537Z"
   },
   {
    "duration": 28,
    "start_time": "2023-06-28T07:41:02.576Z"
   },
   {
    "duration": 29,
    "start_time": "2023-06-28T07:41:02.606Z"
   },
   {
    "duration": 29,
    "start_time": "2023-06-28T07:41:02.636Z"
   },
   {
    "duration": 30,
    "start_time": "2023-06-28T07:41:02.667Z"
   },
   {
    "duration": 15,
    "start_time": "2023-06-28T07:41:02.699Z"
   },
   {
    "duration": 72,
    "start_time": "2023-06-28T07:41:02.716Z"
   },
   {
    "duration": 354,
    "start_time": "2023-06-28T07:41:33.879Z"
   },
   {
    "duration": 8,
    "start_time": "2023-06-28T07:44:19.400Z"
   },
   {
    "duration": 1322,
    "start_time": "2023-06-28T07:44:24.740Z"
   },
   {
    "duration": 79,
    "start_time": "2023-06-28T07:44:26.068Z"
   },
   {
    "duration": 25,
    "start_time": "2023-06-28T07:44:26.150Z"
   },
   {
    "duration": 6,
    "start_time": "2023-06-28T07:44:26.178Z"
   },
   {
    "duration": 18,
    "start_time": "2023-06-28T07:44:26.186Z"
   },
   {
    "duration": 15,
    "start_time": "2023-06-28T07:44:26.206Z"
   },
   {
    "duration": 42,
    "start_time": "2023-06-28T07:44:26.223Z"
   },
   {
    "duration": 6,
    "start_time": "2023-06-28T07:44:26.268Z"
   },
   {
    "duration": 18,
    "start_time": "2023-06-28T07:44:26.276Z"
   },
   {
    "duration": 5,
    "start_time": "2023-06-28T07:44:26.298Z"
   },
   {
    "duration": 5,
    "start_time": "2023-06-28T07:44:26.305Z"
   },
   {
    "duration": 6,
    "start_time": "2023-06-28T07:44:26.312Z"
   },
   {
    "duration": 44,
    "start_time": "2023-06-28T07:44:26.320Z"
   },
   {
    "duration": 34,
    "start_time": "2023-06-28T07:44:26.366Z"
   },
   {
    "duration": 21,
    "start_time": "2023-06-28T07:44:26.402Z"
   },
   {
    "duration": 52,
    "start_time": "2023-06-28T07:44:26.425Z"
   },
   {
    "duration": 17,
    "start_time": "2023-06-28T07:44:26.480Z"
   },
   {
    "duration": 4,
    "start_time": "2023-06-28T07:44:26.499Z"
   },
   {
    "duration": 410,
    "start_time": "2023-06-28T07:44:26.505Z"
   },
   {
    "duration": 6,
    "start_time": "2023-06-28T07:44:26.917Z"
   },
   {
    "duration": 318,
    "start_time": "2023-06-28T07:44:26.924Z"
   },
   {
    "duration": 278,
    "start_time": "2023-06-28T07:44:27.244Z"
   },
   {
    "duration": 12,
    "start_time": "2023-06-28T07:44:27.524Z"
   },
   {
    "duration": 241,
    "start_time": "2023-06-28T07:44:27.538Z"
   },
   {
    "duration": 11,
    "start_time": "2023-06-28T07:44:27.781Z"
   },
   {
    "duration": 230,
    "start_time": "2023-06-28T07:44:27.794Z"
   },
   {
    "duration": 11,
    "start_time": "2023-06-28T07:44:28.026Z"
   },
   {
    "duration": 288,
    "start_time": "2023-06-28T07:44:28.054Z"
   },
   {
    "duration": 18,
    "start_time": "2023-06-28T07:44:28.344Z"
   },
   {
    "duration": 230,
    "start_time": "2023-06-28T07:44:28.364Z"
   },
   {
    "duration": 10,
    "start_time": "2023-06-28T07:44:28.596Z"
   },
   {
    "duration": 18,
    "start_time": "2023-06-28T07:44:28.608Z"
   },
   {
    "duration": 37,
    "start_time": "2023-06-28T07:44:28.628Z"
   },
   {
    "duration": 176,
    "start_time": "2023-06-28T07:44:28.669Z"
   },
   {
    "duration": 123,
    "start_time": "2023-06-28T07:44:28.855Z"
   },
   {
    "duration": 9,
    "start_time": "2023-06-28T07:44:28.980Z"
   },
   {
    "duration": 119,
    "start_time": "2023-06-28T07:44:28.991Z"
   },
   {
    "duration": 11,
    "start_time": "2023-06-28T07:44:29.112Z"
   },
   {
    "duration": 129,
    "start_time": "2023-06-28T07:44:29.125Z"
   },
   {
    "duration": 15,
    "start_time": "2023-06-28T07:44:29.261Z"
   },
   {
    "duration": 161,
    "start_time": "2023-06-28T07:44:29.279Z"
   },
   {
    "duration": 2,
    "start_time": "2023-06-28T07:44:29.442Z"
   },
   {
    "duration": 7,
    "start_time": "2023-06-28T07:44:29.453Z"
   },
   {
    "duration": 308,
    "start_time": "2023-06-28T07:44:29.469Z"
   },
   {
    "duration": 14,
    "start_time": "2023-06-28T07:44:29.778Z"
   },
   {
    "duration": 998,
    "start_time": "2023-06-28T07:44:29.793Z"
   },
   {
    "duration": 9,
    "start_time": "2023-06-28T07:44:30.793Z"
   },
   {
    "duration": 98,
    "start_time": "2023-06-28T07:44:30.803Z"
   },
   {
    "duration": 41,
    "start_time": "2023-06-28T07:44:30.903Z"
   },
   {
    "duration": 49,
    "start_time": "2023-06-28T07:44:30.945Z"
   },
   {
    "duration": 41,
    "start_time": "2023-06-28T07:44:30.995Z"
   },
   {
    "duration": 44,
    "start_time": "2023-06-28T07:44:31.038Z"
   },
   {
    "duration": 99,
    "start_time": "2023-06-28T07:44:31.084Z"
   },
   {
    "duration": 41,
    "start_time": "2023-06-28T07:44:31.185Z"
   },
   {
    "duration": 48,
    "start_time": "2023-06-28T07:44:31.228Z"
   },
   {
    "duration": 32,
    "start_time": "2023-06-28T07:44:31.278Z"
   },
   {
    "duration": 54,
    "start_time": "2023-06-28T07:44:31.312Z"
   },
   {
    "duration": 17,
    "start_time": "2023-06-28T07:44:31.371Z"
   },
   {
    "duration": 32,
    "start_time": "2023-06-28T07:44:31.390Z"
   },
   {
    "duration": 47,
    "start_time": "2023-06-28T07:44:31.424Z"
   },
   {
    "duration": 38,
    "start_time": "2023-06-28T07:44:31.473Z"
   },
   {
    "duration": 33,
    "start_time": "2023-06-28T07:44:31.513Z"
   },
   {
    "duration": 27,
    "start_time": "2023-06-28T07:44:31.548Z"
   },
   {
    "duration": 18,
    "start_time": "2023-06-28T07:44:36.453Z"
   },
   {
    "duration": 1367,
    "start_time": "2023-06-28T07:44:42.933Z"
   },
   {
    "duration": 93,
    "start_time": "2023-06-28T07:44:44.302Z"
   },
   {
    "duration": 27,
    "start_time": "2023-06-28T07:44:44.398Z"
   },
   {
    "duration": 7,
    "start_time": "2023-06-28T07:44:44.428Z"
   },
   {
    "duration": 42,
    "start_time": "2023-06-28T07:44:44.437Z"
   },
   {
    "duration": 21,
    "start_time": "2023-06-28T07:44:44.482Z"
   },
   {
    "duration": 37,
    "start_time": "2023-06-28T07:44:44.506Z"
   },
   {
    "duration": 7,
    "start_time": "2023-06-28T07:44:44.558Z"
   },
   {
    "duration": 12,
    "start_time": "2023-06-28T07:44:44.567Z"
   },
   {
    "duration": 16,
    "start_time": "2023-06-28T07:44:44.583Z"
   },
   {
    "duration": 22,
    "start_time": "2023-06-28T07:44:44.601Z"
   },
   {
    "duration": 12,
    "start_time": "2023-06-28T07:44:44.625Z"
   },
   {
    "duration": 27,
    "start_time": "2023-06-28T07:44:44.640Z"
   },
   {
    "duration": 25,
    "start_time": "2023-06-28T07:44:44.675Z"
   },
   {
    "duration": 26,
    "start_time": "2023-06-28T07:44:44.703Z"
   },
   {
    "duration": 60,
    "start_time": "2023-06-28T07:44:44.732Z"
   },
   {
    "duration": 22,
    "start_time": "2023-06-28T07:44:44.795Z"
   },
   {
    "duration": 13,
    "start_time": "2023-06-28T07:44:44.820Z"
   },
   {
    "duration": 507,
    "start_time": "2023-06-28T07:44:44.835Z"
   },
   {
    "duration": 26,
    "start_time": "2023-06-28T07:44:45.345Z"
   },
   {
    "duration": 331,
    "start_time": "2023-06-28T07:44:45.377Z"
   },
   {
    "duration": 251,
    "start_time": "2023-06-28T07:44:45.710Z"
   },
   {
    "duration": 12,
    "start_time": "2023-06-28T07:44:45.970Z"
   },
   {
    "duration": 270,
    "start_time": "2023-06-28T07:44:45.983Z"
   },
   {
    "duration": 20,
    "start_time": "2023-06-28T07:44:46.266Z"
   },
   {
    "duration": 255,
    "start_time": "2023-06-28T07:44:46.288Z"
   },
   {
    "duration": 26,
    "start_time": "2023-06-28T07:44:46.545Z"
   },
   {
    "duration": 328,
    "start_time": "2023-06-28T07:44:46.575Z"
   },
   {
    "duration": 11,
    "start_time": "2023-06-28T07:44:46.905Z"
   },
   {
    "duration": 261,
    "start_time": "2023-06-28T07:44:46.918Z"
   },
   {
    "duration": 15,
    "start_time": "2023-06-28T07:44:47.181Z"
   },
   {
    "duration": 43,
    "start_time": "2023-06-28T07:44:47.198Z"
   },
   {
    "duration": 18,
    "start_time": "2023-06-28T07:44:47.244Z"
   },
   {
    "duration": 237,
    "start_time": "2023-06-28T07:44:47.264Z"
   },
   {
    "duration": 155,
    "start_time": "2023-06-28T07:44:47.503Z"
   },
   {
    "duration": 12,
    "start_time": "2023-06-28T07:44:47.660Z"
   },
   {
    "duration": 154,
    "start_time": "2023-06-28T07:44:47.674Z"
   },
   {
    "duration": 13,
    "start_time": "2023-06-28T07:44:47.830Z"
   },
   {
    "duration": 144,
    "start_time": "2023-06-28T07:44:47.854Z"
   },
   {
    "duration": 10,
    "start_time": "2023-06-28T07:44:48.000Z"
   },
   {
    "duration": 175,
    "start_time": "2023-06-28T07:44:48.012Z"
   },
   {
    "duration": 3,
    "start_time": "2023-06-28T07:44:48.189Z"
   },
   {
    "duration": 17,
    "start_time": "2023-06-28T07:44:48.193Z"
   },
   {
    "duration": 338,
    "start_time": "2023-06-28T07:44:48.212Z"
   },
   {
    "duration": 21,
    "start_time": "2023-06-28T07:44:48.554Z"
   },
   {
    "duration": 1022,
    "start_time": "2023-06-28T07:44:48.577Z"
   },
   {
    "duration": 10,
    "start_time": "2023-06-28T07:44:49.600Z"
   },
   {
    "duration": 20,
    "start_time": "2023-06-28T07:44:49.612Z"
   },
   {
    "duration": 20,
    "start_time": "2023-06-28T07:44:49.633Z"
   },
   {
    "duration": 24,
    "start_time": "2023-06-28T07:44:49.655Z"
   },
   {
    "duration": 14,
    "start_time": "2023-06-28T07:44:49.681Z"
   },
   {
    "duration": 18,
    "start_time": "2023-06-28T07:44:49.697Z"
   },
   {
    "duration": 37,
    "start_time": "2023-06-28T07:44:49.717Z"
   },
   {
    "duration": 22,
    "start_time": "2023-06-28T07:44:49.756Z"
   },
   {
    "duration": 15,
    "start_time": "2023-06-28T07:44:49.780Z"
   },
   {
    "duration": 16,
    "start_time": "2023-06-28T07:44:49.796Z"
   },
   {
    "duration": 44,
    "start_time": "2023-06-28T07:44:49.814Z"
   },
   {
    "duration": 20,
    "start_time": "2023-06-28T07:44:49.860Z"
   },
   {
    "duration": 16,
    "start_time": "2023-06-28T07:44:49.883Z"
   },
   {
    "duration": 16,
    "start_time": "2023-06-28T07:44:49.901Z"
   },
   {
    "duration": 56,
    "start_time": "2023-06-28T07:44:49.918Z"
   },
   {
    "duration": 7,
    "start_time": "2023-06-28T07:44:49.976Z"
   },
   {
    "duration": 29,
    "start_time": "2023-06-28T07:44:49.985Z"
   },
   {
    "duration": 4,
    "start_time": "2023-06-28T07:56:55.378Z"
   },
   {
    "duration": 8,
    "start_time": "2023-06-28T07:57:56.162Z"
   },
   {
    "duration": 1403,
    "start_time": "2023-06-28T08:51:16.974Z"
   },
   {
    "duration": 83,
    "start_time": "2023-06-28T08:51:18.379Z"
   },
   {
    "duration": 23,
    "start_time": "2023-06-28T08:51:18.468Z"
   },
   {
    "duration": 10,
    "start_time": "2023-06-28T08:51:18.494Z"
   },
   {
    "duration": 18,
    "start_time": "2023-06-28T08:51:18.506Z"
   },
   {
    "duration": 39,
    "start_time": "2023-06-28T08:51:18.526Z"
   },
   {
    "duration": 19,
    "start_time": "2023-06-28T08:51:18.566Z"
   },
   {
    "duration": 4,
    "start_time": "2023-06-28T08:51:18.587Z"
   },
   {
    "duration": 7,
    "start_time": "2023-06-28T08:51:18.593Z"
   },
   {
    "duration": 6,
    "start_time": "2023-06-28T08:51:18.602Z"
   },
   {
    "duration": 7,
    "start_time": "2023-06-28T08:51:18.612Z"
   },
   {
    "duration": 38,
    "start_time": "2023-06-28T08:51:18.621Z"
   },
   {
    "duration": 21,
    "start_time": "2023-06-28T08:51:18.661Z"
   },
   {
    "duration": 21,
    "start_time": "2023-06-28T08:51:18.686Z"
   },
   {
    "duration": 59,
    "start_time": "2023-06-28T08:51:18.710Z"
   },
   {
    "duration": 30,
    "start_time": "2023-06-28T08:51:18.772Z"
   },
   {
    "duration": 17,
    "start_time": "2023-06-28T08:51:18.804Z"
   },
   {
    "duration": 4,
    "start_time": "2023-06-28T08:51:18.823Z"
   },
   {
    "duration": 387,
    "start_time": "2023-06-28T08:51:18.828Z"
   },
   {
    "duration": 6,
    "start_time": "2023-06-28T08:51:19.217Z"
   },
   {
    "duration": 324,
    "start_time": "2023-06-28T08:51:19.225Z"
   },
   {
    "duration": 251,
    "start_time": "2023-06-28T08:51:19.550Z"
   },
   {
    "duration": 13,
    "start_time": "2023-06-28T08:51:19.804Z"
   },
   {
    "duration": 279,
    "start_time": "2023-06-28T08:51:19.819Z"
   },
   {
    "duration": 12,
    "start_time": "2023-06-28T08:51:20.100Z"
   },
   {
    "duration": 231,
    "start_time": "2023-06-28T08:51:20.116Z"
   },
   {
    "duration": 14,
    "start_time": "2023-06-28T08:51:20.349Z"
   },
   {
    "duration": 313,
    "start_time": "2023-06-28T08:51:20.365Z"
   },
   {
    "duration": 15,
    "start_time": "2023-06-28T08:51:20.681Z"
   },
   {
    "duration": 227,
    "start_time": "2023-06-28T08:51:20.698Z"
   },
   {
    "duration": 13,
    "start_time": "2023-06-28T08:51:20.927Z"
   },
   {
    "duration": 30,
    "start_time": "2023-06-28T08:51:20.957Z"
   },
   {
    "duration": 19,
    "start_time": "2023-06-28T08:51:20.989Z"
   },
   {
    "duration": 274,
    "start_time": "2023-06-28T08:51:21.010Z"
   },
   {
    "duration": 123,
    "start_time": "2023-06-28T08:51:21.287Z"
   },
   {
    "duration": 11,
    "start_time": "2023-06-28T08:51:21.413Z"
   },
   {
    "duration": 140,
    "start_time": "2023-06-28T08:51:21.426Z"
   },
   {
    "duration": 14,
    "start_time": "2023-06-28T08:51:21.568Z"
   },
   {
    "duration": 140,
    "start_time": "2023-06-28T08:51:21.585Z"
   },
   {
    "duration": 11,
    "start_time": "2023-06-28T08:51:21.727Z"
   },
   {
    "duration": 170,
    "start_time": "2023-06-28T08:51:21.758Z"
   },
   {
    "duration": 2,
    "start_time": "2023-06-28T08:51:21.930Z"
   },
   {
    "duration": 35,
    "start_time": "2023-06-28T08:51:21.934Z"
   },
   {
    "duration": 352,
    "start_time": "2023-06-28T08:51:21.971Z"
   },
   {
    "duration": 16,
    "start_time": "2023-06-28T08:51:22.325Z"
   },
   {
    "duration": 981,
    "start_time": "2023-06-28T08:51:22.359Z"
   },
   {
    "duration": 22,
    "start_time": "2023-06-28T08:51:23.342Z"
   },
   {
    "duration": 42,
    "start_time": "2023-06-28T08:51:23.366Z"
   },
   {
    "duration": 42,
    "start_time": "2023-06-28T08:51:23.410Z"
   },
   {
    "duration": 35,
    "start_time": "2023-06-28T08:51:23.462Z"
   },
   {
    "duration": 16,
    "start_time": "2023-06-28T08:51:23.499Z"
   },
   {
    "duration": 66,
    "start_time": "2023-06-28T08:51:23.517Z"
   },
   {
    "duration": 24,
    "start_time": "2023-06-28T08:51:23.584Z"
   },
   {
    "duration": 27,
    "start_time": "2023-06-28T08:51:23.610Z"
   },
   {
    "duration": 24,
    "start_time": "2023-06-28T08:51:23.638Z"
   },
   {
    "duration": 39,
    "start_time": "2023-06-28T08:51:23.664Z"
   },
   {
    "duration": 19,
    "start_time": "2023-06-28T08:51:23.706Z"
   },
   {
    "duration": 25,
    "start_time": "2023-06-28T08:51:23.727Z"
   },
   {
    "duration": 32,
    "start_time": "2023-06-28T08:51:23.754Z"
   },
   {
    "duration": 21,
    "start_time": "2023-06-28T08:51:23.788Z"
   },
   {
    "duration": 27,
    "start_time": "2023-06-28T08:51:23.811Z"
   },
   {
    "duration": 21,
    "start_time": "2023-06-28T08:51:23.840Z"
   },
   {
    "duration": 37,
    "start_time": "2023-06-28T08:51:23.863Z"
   }
  ],
  "kernelspec": {
   "display_name": "Python 3 (ipykernel)",
   "language": "python",
   "name": "python3"
  },
  "language_info": {
   "codemirror_mode": {
    "name": "ipython",
    "version": 3
   },
   "file_extension": ".py",
   "mimetype": "text/x-python",
   "name": "python",
   "nbconvert_exporter": "python",
   "pygments_lexer": "ipython3",
   "version": "3.9.5"
  },
  "toc": {
   "base_numbering": 1,
   "nav_menu": {},
   "number_sections": true,
   "sideBar": true,
   "skip_h1_title": true,
   "title_cell": "Table of Contents",
   "title_sidebar": "Contents",
   "toc_cell": false,
   "toc_position": {},
   "toc_section_display": true,
   "toc_window_display": false
  }
 },
 "nbformat": 4,
 "nbformat_minor": 2
}
