{
 "cells": [
  {
   "cell_type": "markdown",
   "id": "fd518e2b",
   "metadata": {},
   "source": [
    "# Проект: телекоммуникации"
   ]
  },
  {
   "cell_type": "markdown",
   "id": "81cbe931",
   "metadata": {},
   "source": [
    "Оператор связи «ТелеДом» хочет бороться с оттоком клиентов. Для этого его сотрудники начнут предлагать промокоды и специальные условия всем, кто планирует отказаться от услуг связи. Чтобы заранее находить таких пользователей, «ТелеДому» нужна модель, которая будет предсказывать, разорвёт ли абонент договор. Команда оператора собрала персональные данные о некоторых клиентах, информацию об их тарифах и услугах. Ваша задача — обучить на этих данных модель для прогноза оттока клиентов."
   ]
  },
  {
   "cell_type": "markdown",
   "id": "91d7680e",
   "metadata": {},
   "source": [
    "#### Цель исследования:\n",
    "Подготовить модель машинного обучения для предсказания оттока клиентов. Проанализировать признаки, которые в большей степени влияют на разрыв договора, чтобы заранее находить таких пользователей и разарабобать стратегию их удержания.\n",
    "\n",
    "#### Ход исследования:\n",
    "1. Открыть и изучить предоставленные данные и подготовить их к исследованию. В нашем распоряжении 4 датасета, два из которых содержат данные о контрактах т персональную информацию обо всех клиентах, другие два предоставляют информацию о клиентах, кользующихся определенными пакетами - интернетом и стационарной телефонной связью. Информация о договорах актуальна на 1 февраля 2020 года.\n",
    "2. Объединить данные из четырех датасетов.\n",
    "3. Провести анализ полученного датасета и подготовить его к обучению.\n",
    "4. Обучить несколько моделей и оценить их качество. Выбрать лучшую модель.\n",
    "5. Проверить лучшую модель на тестовой выборке.\n",
    "6. Сделать вывод."
   ]
  },
  {
   "cell_type": "markdown",
   "id": "5bf8a99d",
   "metadata": {},
   "source": [
    "## Загрузка данных"
   ]
  },
  {
   "cell_type": "code",
   "execution_count": 1,
   "id": "af29fa27",
   "metadata": {},
   "outputs": [
    {
     "name": "stdout",
     "output_type": "stream",
     "text": [
      "Requirement already satisfied: phik in /opt/conda/lib/python3.9/site-packages (0.12.3)\n",
      "Requirement already satisfied: pandas>=0.25.1 in /opt/conda/lib/python3.9/site-packages (from phik) (1.2.4)\n",
      "Requirement already satisfied: scipy>=1.5.2 in /opt/conda/lib/python3.9/site-packages (from phik) (1.9.1)\n",
      "Requirement already satisfied: numpy>=1.18.0 in /opt/conda/lib/python3.9/site-packages (from phik) (1.21.1)\n",
      "Requirement already satisfied: matplotlib>=2.2.3 in /opt/conda/lib/python3.9/site-packages (from phik) (3.3.4)\n",
      "Requirement already satisfied: joblib>=0.14.1 in /opt/conda/lib/python3.9/site-packages (from phik) (1.3.2)\n",
      "Requirement already satisfied: kiwisolver>=1.0.1 in /opt/conda/lib/python3.9/site-packages (from matplotlib>=2.2.3->phik) (1.4.4)\n",
      "Requirement already satisfied: pillow>=6.2.0 in /opt/conda/lib/python3.9/site-packages (from matplotlib>=2.2.3->phik) (8.4.0)\n",
      "Requirement already satisfied: cycler>=0.10 in /opt/conda/lib/python3.9/site-packages (from matplotlib>=2.2.3->phik) (0.11.0)\n",
      "Requirement already satisfied: pyparsing!=2.0.4,!=2.1.2,!=2.1.6,>=2.0.3 in /opt/conda/lib/python3.9/site-packages (from matplotlib>=2.2.3->phik) (2.4.7)\n",
      "Requirement already satisfied: python-dateutil>=2.1 in /opt/conda/lib/python3.9/site-packages (from matplotlib>=2.2.3->phik) (2.8.1)\n",
      "Requirement already satisfied: pytz>=2017.3 in /opt/conda/lib/python3.9/site-packages (from pandas>=0.25.1->phik) (2021.1)\n",
      "Requirement already satisfied: six>=1.5 in /opt/conda/lib/python3.9/site-packages (from python-dateutil>=2.1->matplotlib>=2.2.3->phik) (1.16.0)\n"
     ]
    }
   ],
   "source": [
    "!pip install phik"
   ]
  },
  {
   "cell_type": "code",
   "execution_count": 2,
   "id": "b99fc7cb",
   "metadata": {},
   "outputs": [
    {
     "name": "stdout",
     "output_type": "stream",
     "text": [
      "Requirement already satisfied: scikit-learn in /opt/conda/lib/python3.9/site-packages (1.3.2)\n",
      "Requirement already satisfied: scipy>=1.5.0 in /opt/conda/lib/python3.9/site-packages (from scikit-learn) (1.9.1)\n",
      "Requirement already satisfied: joblib>=1.1.1 in /opt/conda/lib/python3.9/site-packages (from scikit-learn) (1.3.2)\n",
      "Requirement already satisfied: numpy<2.0,>=1.17.3 in /opt/conda/lib/python3.9/site-packages (from scikit-learn) (1.21.1)\n",
      "Requirement already satisfied: threadpoolctl>=2.0.0 in /opt/conda/lib/python3.9/site-packages (from scikit-learn) (3.1.0)\n"
     ]
    }
   ],
   "source": [
    "!pip install --upgrade scikit-learn"
   ]
  },
  {
   "cell_type": "code",
   "execution_count": 77,
   "id": "f8e5ae51",
   "metadata": {},
   "outputs": [],
   "source": [
    "# Имортируем необходимые библиотеки\n",
    "import pandas as pd\n",
    "import seaborn as sns\n",
    "import matplotlib.pyplot as plt\n",
    "import phik\n",
    "import numpy as np\n",
    "\n",
    "from sklearn.model_selection import train_test_split\n",
    "from sklearn.preprocessing import OneHotEncoder, OrdinalEncoder, StandardScaler\n",
    "\n",
    "from sklearn.linear_model import LogisticRegression\n",
    "from sklearn.ensemble import RandomForestClassifier \n",
    "from lightgbm import LGBMClassifier \n",
    "from sklearn.dummy import DummyClassifier\n",
    "\n",
    "from sklearn.metrics import roc_auc_score, accuracy_score, confusion_matrix, ConfusionMatrixDisplay\n",
    "from sklearn.model_selection import cross_val_score, GridSearchCV, cross_validate\n",
    "\n",
    "\n",
    "RANDOM_STATE = 111223"
   ]
  },
  {
   "cell_type": "code",
   "execution_count": 4,
   "id": "100a0941",
   "metadata": {},
   "outputs": [],
   "source": [
    "# Функция для получения первичной информации о датасете\n",
    "def data_info(df):\n",
    "    print('Размеры таблицы:', df.shape)\n",
    "    print(df.head())\n",
    "    print(df.info())"
   ]
  },
  {
   "cell_type": "code",
   "execution_count": 5,
   "id": "be85dbae",
   "metadata": {},
   "outputs": [],
   "source": [
    "# Загрузим данные\n",
    "data_contract = pd.read_csv('/datasets/contract_new.csv')\n",
    "data_personal = pd.read_csv('/datasets/personal_new.csv')\n",
    "data_internet = pd.read_csv('/datasets/internet_new.csv')\n",
    "data_phone = pd.read_csv('/datasets/phone_new.csv')"
   ]
  },
  {
   "cell_type": "code",
   "execution_count": 6,
   "id": "d1a922f9",
   "metadata": {},
   "outputs": [
    {
     "name": "stdout",
     "output_type": "stream",
     "text": [
      "Размеры таблицы: (7043, 8)\n",
      "   customerID   BeginDate EndDate            Type PaperlessBilling  \\\n",
      "0  7590-VHVEG  2020-01-01      No  Month-to-month              Yes   \n",
      "1  5575-GNVDE  2017-04-01      No        One year               No   \n",
      "2  3668-QPYBK  2019-10-01      No  Month-to-month              Yes   \n",
      "3  7795-CFOCW  2016-05-01      No        One year               No   \n",
      "4  9237-HQITU  2019-09-01      No  Month-to-month              Yes   \n",
      "\n",
      "               PaymentMethod  MonthlyCharges TotalCharges  \n",
      "0           Electronic check           29.85        31.04  \n",
      "1               Mailed check           56.95      2071.84  \n",
      "2               Mailed check           53.85       226.17  \n",
      "3  Bank transfer (automatic)           42.30       1960.6  \n",
      "4           Electronic check           70.70        353.5  \n",
      "<class 'pandas.core.frame.DataFrame'>\n",
      "RangeIndex: 7043 entries, 0 to 7042\n",
      "Data columns (total 8 columns):\n",
      " #   Column            Non-Null Count  Dtype  \n",
      "---  ------            --------------  -----  \n",
      " 0   customerID        7043 non-null   object \n",
      " 1   BeginDate         7043 non-null   object \n",
      " 2   EndDate           7043 non-null   object \n",
      " 3   Type              7043 non-null   object \n",
      " 4   PaperlessBilling  7043 non-null   object \n",
      " 5   PaymentMethod     7043 non-null   object \n",
      " 6   MonthlyCharges    7043 non-null   float64\n",
      " 7   TotalCharges      7043 non-null   object \n",
      "dtypes: float64(1), object(7)\n",
      "memory usage: 440.3+ KB\n",
      "None\n"
     ]
    }
   ],
   "source": [
    "data_info(data_contract)"
   ]
  },
  {
   "cell_type": "code",
   "execution_count": 7,
   "id": "5209bdab",
   "metadata": {},
   "outputs": [
    {
     "name": "stdout",
     "output_type": "stream",
     "text": [
      "Размеры таблицы: (7043, 5)\n",
      "   customerID  gender  SeniorCitizen Partner Dependents\n",
      "0  7590-VHVEG  Female              0     Yes         No\n",
      "1  5575-GNVDE    Male              0      No         No\n",
      "2  3668-QPYBK    Male              0      No         No\n",
      "3  7795-CFOCW    Male              0      No         No\n",
      "4  9237-HQITU  Female              0      No         No\n",
      "<class 'pandas.core.frame.DataFrame'>\n",
      "RangeIndex: 7043 entries, 0 to 7042\n",
      "Data columns (total 5 columns):\n",
      " #   Column         Non-Null Count  Dtype \n",
      "---  ------         --------------  ----- \n",
      " 0   customerID     7043 non-null   object\n",
      " 1   gender         7043 non-null   object\n",
      " 2   SeniorCitizen  7043 non-null   int64 \n",
      " 3   Partner        7043 non-null   object\n",
      " 4   Dependents     7043 non-null   object\n",
      "dtypes: int64(1), object(4)\n",
      "memory usage: 275.2+ KB\n",
      "None\n"
     ]
    }
   ],
   "source": [
    "data_info(data_personal)"
   ]
  },
  {
   "cell_type": "code",
   "execution_count": 8,
   "id": "abdb2feb",
   "metadata": {},
   "outputs": [
    {
     "name": "stdout",
     "output_type": "stream",
     "text": [
      "Размеры таблицы: (5517, 8)\n",
      "   customerID InternetService OnlineSecurity OnlineBackup DeviceProtection  \\\n",
      "0  7590-VHVEG             DSL             No          Yes               No   \n",
      "1  5575-GNVDE             DSL            Yes           No              Yes   \n",
      "2  3668-QPYBK             DSL            Yes          Yes               No   \n",
      "3  7795-CFOCW             DSL            Yes           No              Yes   \n",
      "4  9237-HQITU     Fiber optic             No           No               No   \n",
      "\n",
      "  TechSupport StreamingTV StreamingMovies  \n",
      "0          No          No              No  \n",
      "1          No          No              No  \n",
      "2          No          No              No  \n",
      "3         Yes          No              No  \n",
      "4          No          No              No  \n",
      "<class 'pandas.core.frame.DataFrame'>\n",
      "RangeIndex: 5517 entries, 0 to 5516\n",
      "Data columns (total 8 columns):\n",
      " #   Column            Non-Null Count  Dtype \n",
      "---  ------            --------------  ----- \n",
      " 0   customerID        5517 non-null   object\n",
      " 1   InternetService   5517 non-null   object\n",
      " 2   OnlineSecurity    5517 non-null   object\n",
      " 3   OnlineBackup      5517 non-null   object\n",
      " 4   DeviceProtection  5517 non-null   object\n",
      " 5   TechSupport       5517 non-null   object\n",
      " 6   StreamingTV       5517 non-null   object\n",
      " 7   StreamingMovies   5517 non-null   object\n",
      "dtypes: object(8)\n",
      "memory usage: 344.9+ KB\n",
      "None\n"
     ]
    }
   ],
   "source": [
    "data_info(data_internet)"
   ]
  },
  {
   "cell_type": "code",
   "execution_count": 9,
   "id": "301ec921",
   "metadata": {},
   "outputs": [
    {
     "name": "stdout",
     "output_type": "stream",
     "text": [
      "Размеры таблицы: (6361, 2)\n",
      "   customerID MultipleLines\n",
      "0  5575-GNVDE            No\n",
      "1  3668-QPYBK            No\n",
      "2  9237-HQITU            No\n",
      "3  9305-CDSKC           Yes\n",
      "4  1452-KIOVK           Yes\n",
      "<class 'pandas.core.frame.DataFrame'>\n",
      "RangeIndex: 6361 entries, 0 to 6360\n",
      "Data columns (total 2 columns):\n",
      " #   Column         Non-Null Count  Dtype \n",
      "---  ------         --------------  ----- \n",
      " 0   customerID     6361 non-null   object\n",
      " 1   MultipleLines  6361 non-null   object\n",
      "dtypes: object(2)\n",
      "memory usage: 99.5+ KB\n",
      "None\n"
     ]
    }
   ],
   "source": [
    "data_info(data_phone)"
   ]
  },
  {
   "cell_type": "markdown",
   "id": "4905e8cb",
   "metadata": {},
   "source": [
    "**Вывод:**\n",
    "данные загружены, на первый взгляд, все корректно и соответствует документации. Пропуски в таблицах отсутствуют. Требуется предобработка - в некоторых столбцах, возможно, понадобится заменить тип данных, проверить данные на дубликаты, а так же выявить ключевой признак (ушел клиент из компании или нет). Ниже рассмотрим каждую таблицу подробнее."
   ]
  },
  {
   "cell_type": "markdown",
   "id": "acff5c5f",
   "metadata": {},
   "source": [
    "## Исследовательский анализ и предобработка данных"
   ]
  },
  {
   "cell_type": "markdown",
   "id": "128d005f",
   "metadata": {},
   "source": [
    "### Файл contract_new.csv"
   ]
  },
  {
   "cell_type": "code",
   "execution_count": 10,
   "id": "0e54573c",
   "metadata": {},
   "outputs": [
    {
     "name": "stdout",
     "output_type": "stream",
     "text": [
      "Размеры таблицы: (7043, 8)\n",
      "   customerID   BeginDate EndDate            Type PaperlessBilling  \\\n",
      "0  7590-VHVEG  2020-01-01      No  Month-to-month              Yes   \n",
      "1  5575-GNVDE  2017-04-01      No        One year               No   \n",
      "2  3668-QPYBK  2019-10-01      No  Month-to-month              Yes   \n",
      "3  7795-CFOCW  2016-05-01      No        One year               No   \n",
      "4  9237-HQITU  2019-09-01      No  Month-to-month              Yes   \n",
      "\n",
      "               PaymentMethod  MonthlyCharges TotalCharges  \n",
      "0           Electronic check           29.85        31.04  \n",
      "1               Mailed check           56.95      2071.84  \n",
      "2               Mailed check           53.85       226.17  \n",
      "3  Bank transfer (automatic)           42.30       1960.6  \n",
      "4           Electronic check           70.70        353.5  \n",
      "<class 'pandas.core.frame.DataFrame'>\n",
      "RangeIndex: 7043 entries, 0 to 7042\n",
      "Data columns (total 8 columns):\n",
      " #   Column            Non-Null Count  Dtype  \n",
      "---  ------            --------------  -----  \n",
      " 0   customerID        7043 non-null   object \n",
      " 1   BeginDate         7043 non-null   object \n",
      " 2   EndDate           7043 non-null   object \n",
      " 3   Type              7043 non-null   object \n",
      " 4   PaperlessBilling  7043 non-null   object \n",
      " 5   PaymentMethod     7043 non-null   object \n",
      " 6   MonthlyCharges    7043 non-null   float64\n",
      " 7   TotalCharges      7043 non-null   object \n",
      "dtypes: float64(1), object(7)\n",
      "memory usage: 440.3+ KB\n",
      "None\n"
     ]
    }
   ],
   "source": [
    "# еще раз рассмотрим основную информацию о датасете\n",
    "data_info(data_contract)"
   ]
  },
  {
   "cell_type": "markdown",
   "id": "f45d117b",
   "metadata": {},
   "source": [
    "Первая таблица содержит данные о контрактах клиентов. Всего 7043 строки и 8 столбцов. Практически все данные имеют тип object. \n",
    "Предварительно видны следующие моменты:\n",
    "- На основании данных из EndDate сделаем целевой признак(target) для модели.\n",
    "- Есть данные о начале (BeginDate) и окончании (EndDate) договоров, можем проследить их длительность и сформировать новый признак для обучения.\n",
    "- Сами столбцы BeginDate и EndDate, содержащие даты, нам не понадобятся для обучения и могут вводить модель в заблуждение, их в последствии нужно будет исключить.\n",
    "- Столбец TotalCharges, содержит информацию об общих расходах абонента, нужно будет поменять тип данных на float."
   ]
  },
  {
   "cell_type": "code",
   "execution_count": 11,
   "id": "622a7be5",
   "metadata": {},
   "outputs": [
    {
     "data": {
      "text/plain": [
       "0"
      ]
     },
     "execution_count": 11,
     "metadata": {},
     "output_type": "execute_result"
    }
   ],
   "source": [
    "# Проверим данные на дубликаты\n",
    "data_contract.duplicated().sum()"
   ]
  },
  {
   "cell_type": "markdown",
   "id": "54750fd4",
   "metadata": {},
   "source": [
    "Поподробнее изучим столбец EndDate, содержащий информацию о дате окончания договора."
   ]
  },
  {
   "cell_type": "code",
   "execution_count": 12,
   "id": "e722ed8d",
   "metadata": {},
   "outputs": [
    {
     "data": {
      "text/plain": [
       "array(['No', '2017-05-01', '2016-03-01', '2018-09-01', '2018-11-01',\n",
       "       '2018-12-01', '2019-08-01', '2018-07-01', '2017-09-01',\n",
       "       '2015-09-01', '2016-07-01', '2016-06-01', '2018-03-01',\n",
       "       '2019-02-01', '2018-06-01', '2019-06-01', '2020-01-01',\n",
       "       '2019-11-01', '2016-09-01', '2015-06-01', '2016-12-01',\n",
       "       '2019-05-01', '2019-04-01', '2017-06-01', '2017-08-01',\n",
       "       '2018-04-01', '2018-08-01', '2018-02-01', '2019-07-01',\n",
       "       '2015-12-01', '2014-06-01', '2018-10-01', '2019-01-01',\n",
       "       '2017-07-01', '2017-12-01', '2018-05-01', '2015-11-01',\n",
       "       '2019-10-01', '2019-03-01', '2016-02-01', '2016-10-01',\n",
       "       '2018-01-01', '2017-11-01', '2015-10-01', '2019-12-01',\n",
       "       '2015-07-01', '2017-04-01', '2015-02-01', '2017-03-01',\n",
       "       '2016-05-01', '2016-11-01', '2015-08-01', '2019-09-01',\n",
       "       '2017-10-01', '2017-02-01', '2016-08-01', '2016-04-01',\n",
       "       '2015-05-01', '2014-09-01', '2014-10-01', '2017-01-01',\n",
       "       '2015-03-01', '2015-01-01', '2016-01-01', '2015-04-01',\n",
       "       '2014-12-01', '2014-11-01'], dtype=object)"
      ]
     },
     "execution_count": 12,
     "metadata": {},
     "output_type": "execute_result"
    }
   ],
   "source": [
    "data_contract['EndDate'].unique()"
   ]
  },
  {
   "cell_type": "markdown",
   "id": "23fe5b12",
   "metadata": {},
   "source": [
    "Здесь содержатся даты окончания договора и строка 'No', свидетельствующая о том, что человек все еще является клиентом компании. На основании этих данных добавим новую колонку к таблице, где 1 - клиент ушел(в строке содержится дата) и 0 - клиент остался(в строке содержится 'No')."
   ]
  },
  {
   "cell_type": "code",
   "execution_count": 13,
   "id": "3552e07c",
   "metadata": {},
   "outputs": [
    {
     "data": {
      "text/html": [
       "<div>\n",
       "<style scoped>\n",
       "    .dataframe tbody tr th:only-of-type {\n",
       "        vertical-align: middle;\n",
       "    }\n",
       "\n",
       "    .dataframe tbody tr th {\n",
       "        vertical-align: top;\n",
       "    }\n",
       "\n",
       "    .dataframe thead th {\n",
       "        text-align: right;\n",
       "    }\n",
       "</style>\n",
       "<table border=\"1\" class=\"dataframe\">\n",
       "  <thead>\n",
       "    <tr style=\"text-align: right;\">\n",
       "      <th></th>\n",
       "      <th>customerID</th>\n",
       "      <th>BeginDate</th>\n",
       "      <th>EndDate</th>\n",
       "      <th>Type</th>\n",
       "      <th>PaperlessBilling</th>\n",
       "      <th>PaymentMethod</th>\n",
       "      <th>MonthlyCharges</th>\n",
       "      <th>TotalCharges</th>\n",
       "      <th>exited</th>\n",
       "    </tr>\n",
       "  </thead>\n",
       "  <tbody>\n",
       "    <tr>\n",
       "      <th>0</th>\n",
       "      <td>7590-VHVEG</td>\n",
       "      <td>2020-01-01</td>\n",
       "      <td>No</td>\n",
       "      <td>Month-to-month</td>\n",
       "      <td>Yes</td>\n",
       "      <td>Electronic check</td>\n",
       "      <td>29.85</td>\n",
       "      <td>31.04</td>\n",
       "      <td>0</td>\n",
       "    </tr>\n",
       "    <tr>\n",
       "      <th>1</th>\n",
       "      <td>5575-GNVDE</td>\n",
       "      <td>2017-04-01</td>\n",
       "      <td>No</td>\n",
       "      <td>One year</td>\n",
       "      <td>No</td>\n",
       "      <td>Mailed check</td>\n",
       "      <td>56.95</td>\n",
       "      <td>2071.84</td>\n",
       "      <td>0</td>\n",
       "    </tr>\n",
       "    <tr>\n",
       "      <th>2</th>\n",
       "      <td>3668-QPYBK</td>\n",
       "      <td>2019-10-01</td>\n",
       "      <td>No</td>\n",
       "      <td>Month-to-month</td>\n",
       "      <td>Yes</td>\n",
       "      <td>Mailed check</td>\n",
       "      <td>53.85</td>\n",
       "      <td>226.17</td>\n",
       "      <td>0</td>\n",
       "    </tr>\n",
       "    <tr>\n",
       "      <th>3</th>\n",
       "      <td>7795-CFOCW</td>\n",
       "      <td>2016-05-01</td>\n",
       "      <td>No</td>\n",
       "      <td>One year</td>\n",
       "      <td>No</td>\n",
       "      <td>Bank transfer (automatic)</td>\n",
       "      <td>42.30</td>\n",
       "      <td>1960.6</td>\n",
       "      <td>0</td>\n",
       "    </tr>\n",
       "    <tr>\n",
       "      <th>4</th>\n",
       "      <td>9237-HQITU</td>\n",
       "      <td>2019-09-01</td>\n",
       "      <td>No</td>\n",
       "      <td>Month-to-month</td>\n",
       "      <td>Yes</td>\n",
       "      <td>Electronic check</td>\n",
       "      <td>70.70</td>\n",
       "      <td>353.5</td>\n",
       "      <td>0</td>\n",
       "    </tr>\n",
       "  </tbody>\n",
       "</table>\n",
       "</div>"
      ],
      "text/plain": [
       "   customerID   BeginDate EndDate            Type PaperlessBilling  \\\n",
       "0  7590-VHVEG  2020-01-01      No  Month-to-month              Yes   \n",
       "1  5575-GNVDE  2017-04-01      No        One year               No   \n",
       "2  3668-QPYBK  2019-10-01      No  Month-to-month              Yes   \n",
       "3  7795-CFOCW  2016-05-01      No        One year               No   \n",
       "4  9237-HQITU  2019-09-01      No  Month-to-month              Yes   \n",
       "\n",
       "               PaymentMethod  MonthlyCharges TotalCharges  exited  \n",
       "0           Electronic check           29.85        31.04       0  \n",
       "1               Mailed check           56.95      2071.84       0  \n",
       "2               Mailed check           53.85       226.17       0  \n",
       "3  Bank transfer (automatic)           42.30       1960.6       0  \n",
       "4           Electronic check           70.70        353.5       0  "
      ]
     },
     "execution_count": 13,
     "metadata": {},
     "output_type": "execute_result"
    }
   ],
   "source": [
    "# добавим в таблицу столбец exited с информацией о том, покинул клиент компанию или нет.\n",
    "def categorize_type(row):\n",
    "    if row['EndDate'] == 'No':\n",
    "        return 0\n",
    "    else:\n",
    "        return 1\n",
    "data_contract['exited'] = data_contract.apply(categorize_type, axis=1)\n",
    "data_contract.head()"
   ]
  },
  {
   "cell_type": "markdown",
   "id": "5e2ac2a9",
   "metadata": {},
   "source": [
    "Целевой признак создан. Создадим еще один признак - длительность контракта ('contract_duration'). Для этого приведем столбцы BeginDate и EndDate к типу datetime, а 'No' заменим на '2020-02-01', т.к. именно на эту дату актуальны данные."
   ]
  },
  {
   "cell_type": "code",
   "execution_count": 14,
   "id": "7761f473",
   "metadata": {},
   "outputs": [],
   "source": [
    "# замена 'No' на '2020-02-01'\n",
    "data_contract.loc[data_contract['EndDate'] == 'No', 'EndDate'] = '2020-02-01'"
   ]
  },
  {
   "cell_type": "code",
   "execution_count": 15,
   "id": "f13f03cf",
   "metadata": {},
   "outputs": [
    {
     "data": {
      "text/html": [
       "<div>\n",
       "<style scoped>\n",
       "    .dataframe tbody tr th:only-of-type {\n",
       "        vertical-align: middle;\n",
       "    }\n",
       "\n",
       "    .dataframe tbody tr th {\n",
       "        vertical-align: top;\n",
       "    }\n",
       "\n",
       "    .dataframe thead th {\n",
       "        text-align: right;\n",
       "    }\n",
       "</style>\n",
       "<table border=\"1\" class=\"dataframe\">\n",
       "  <thead>\n",
       "    <tr style=\"text-align: right;\">\n",
       "      <th></th>\n",
       "      <th>customerID</th>\n",
       "      <th>BeginDate</th>\n",
       "      <th>EndDate</th>\n",
       "      <th>Type</th>\n",
       "      <th>PaperlessBilling</th>\n",
       "      <th>PaymentMethod</th>\n",
       "      <th>MonthlyCharges</th>\n",
       "      <th>TotalCharges</th>\n",
       "      <th>exited</th>\n",
       "      <th>contract_duration</th>\n",
       "    </tr>\n",
       "  </thead>\n",
       "  <tbody>\n",
       "    <tr>\n",
       "      <th>0</th>\n",
       "      <td>7590-VHVEG</td>\n",
       "      <td>2020-01-01</td>\n",
       "      <td>2020-02-01</td>\n",
       "      <td>Month-to-month</td>\n",
       "      <td>Yes</td>\n",
       "      <td>Electronic check</td>\n",
       "      <td>29.85</td>\n",
       "      <td>31.04</td>\n",
       "      <td>0</td>\n",
       "      <td>31</td>\n",
       "    </tr>\n",
       "    <tr>\n",
       "      <th>1</th>\n",
       "      <td>5575-GNVDE</td>\n",
       "      <td>2017-04-01</td>\n",
       "      <td>2020-02-01</td>\n",
       "      <td>One year</td>\n",
       "      <td>No</td>\n",
       "      <td>Mailed check</td>\n",
       "      <td>56.95</td>\n",
       "      <td>2071.84</td>\n",
       "      <td>0</td>\n",
       "      <td>1036</td>\n",
       "    </tr>\n",
       "    <tr>\n",
       "      <th>2</th>\n",
       "      <td>3668-QPYBK</td>\n",
       "      <td>2019-10-01</td>\n",
       "      <td>2020-02-01</td>\n",
       "      <td>Month-to-month</td>\n",
       "      <td>Yes</td>\n",
       "      <td>Mailed check</td>\n",
       "      <td>53.85</td>\n",
       "      <td>226.17</td>\n",
       "      <td>0</td>\n",
       "      <td>123</td>\n",
       "    </tr>\n",
       "    <tr>\n",
       "      <th>3</th>\n",
       "      <td>7795-CFOCW</td>\n",
       "      <td>2016-05-01</td>\n",
       "      <td>2020-02-01</td>\n",
       "      <td>One year</td>\n",
       "      <td>No</td>\n",
       "      <td>Bank transfer (automatic)</td>\n",
       "      <td>42.30</td>\n",
       "      <td>1960.6</td>\n",
       "      <td>0</td>\n",
       "      <td>1371</td>\n",
       "    </tr>\n",
       "    <tr>\n",
       "      <th>4</th>\n",
       "      <td>9237-HQITU</td>\n",
       "      <td>2019-09-01</td>\n",
       "      <td>2020-02-01</td>\n",
       "      <td>Month-to-month</td>\n",
       "      <td>Yes</td>\n",
       "      <td>Electronic check</td>\n",
       "      <td>70.70</td>\n",
       "      <td>353.5</td>\n",
       "      <td>0</td>\n",
       "      <td>153</td>\n",
       "    </tr>\n",
       "  </tbody>\n",
       "</table>\n",
       "</div>"
      ],
      "text/plain": [
       "   customerID  BeginDate    EndDate            Type PaperlessBilling  \\\n",
       "0  7590-VHVEG 2020-01-01 2020-02-01  Month-to-month              Yes   \n",
       "1  5575-GNVDE 2017-04-01 2020-02-01        One year               No   \n",
       "2  3668-QPYBK 2019-10-01 2020-02-01  Month-to-month              Yes   \n",
       "3  7795-CFOCW 2016-05-01 2020-02-01        One year               No   \n",
       "4  9237-HQITU 2019-09-01 2020-02-01  Month-to-month              Yes   \n",
       "\n",
       "               PaymentMethod  MonthlyCharges TotalCharges  exited  \\\n",
       "0           Electronic check           29.85        31.04       0   \n",
       "1               Mailed check           56.95      2071.84       0   \n",
       "2               Mailed check           53.85       226.17       0   \n",
       "3  Bank transfer (automatic)           42.30       1960.6       0   \n",
       "4           Electronic check           70.70        353.5       0   \n",
       "\n",
       "   contract_duration  \n",
       "0                 31  \n",
       "1               1036  \n",
       "2                123  \n",
       "3               1371  \n",
       "4                153  "
      ]
     },
     "execution_count": 15,
     "metadata": {},
     "output_type": "execute_result"
    }
   ],
   "source": [
    "# изменение типа данных столбца 'EndDate'\n",
    "data_contract['EndDate'] = pd.to_datetime(data_contract['EndDate'], format='%Y-%m-%d')\n",
    "\n",
    "# изменение типа данных столбца 'BeginDate'\n",
    "data_contract['BeginDate'] = pd.to_datetime(data_contract['BeginDate'], format='%Y-%m-%d')\n",
    "\n",
    "# создание нового признака 'contract_duration' в днях\n",
    "data_contract['contract_duration'] = (data_contract['EndDate'] - data_contract['BeginDate']).dt.days\n",
    "\n",
    "data_contract.head()"
   ]
  },
  {
   "cell_type": "markdown",
   "id": "99785a78",
   "metadata": {},
   "source": [
    "Изменим тип данных для столбца TotalCharges, но перед этим изучим данные в нем. Странно, что тип данных в этом столбце object, возможно есть пустые или содержащие буквенные символы строки."
   ]
  },
  {
   "cell_type": "code",
   "execution_count": 16,
   "id": "338cd559",
   "metadata": {},
   "outputs": [
    {
     "data": {
      "text/plain": [
       "array(['31.04', '2071.84', '226.17', ..., '325.6', '520.8', '7251.82'],\n",
       "      dtype=object)"
      ]
     },
     "execution_count": 16,
     "metadata": {},
     "output_type": "execute_result"
    }
   ],
   "source": [
    "data_contract['TotalCharges'].unique()"
   ]
  },
  {
   "cell_type": "code",
   "execution_count": 17,
   "id": "80196df5",
   "metadata": {},
   "outputs": [
    {
     "data": {
      "text/plain": [
       "array([' '], dtype=object)"
      ]
     },
     "execution_count": 17,
     "metadata": {},
     "output_type": "execute_result"
    }
   ],
   "source": [
    "data_contract.loc[data_contract['TotalCharges'].str.contains(' |,|[a-z]|[A-Z]|[а-я]|[А-Я]')]['TotalCharges'].unique()"
   ]
  },
  {
   "cell_type": "code",
   "execution_count": 18,
   "id": "a008c0c3",
   "metadata": {},
   "outputs": [
    {
     "data": {
      "text/html": [
       "<div>\n",
       "<style scoped>\n",
       "    .dataframe tbody tr th:only-of-type {\n",
       "        vertical-align: middle;\n",
       "    }\n",
       "\n",
       "    .dataframe tbody tr th {\n",
       "        vertical-align: top;\n",
       "    }\n",
       "\n",
       "    .dataframe thead th {\n",
       "        text-align: right;\n",
       "    }\n",
       "</style>\n",
       "<table border=\"1\" class=\"dataframe\">\n",
       "  <thead>\n",
       "    <tr style=\"text-align: right;\">\n",
       "      <th></th>\n",
       "      <th>customerID</th>\n",
       "      <th>BeginDate</th>\n",
       "      <th>EndDate</th>\n",
       "      <th>Type</th>\n",
       "      <th>PaperlessBilling</th>\n",
       "      <th>PaymentMethod</th>\n",
       "      <th>MonthlyCharges</th>\n",
       "      <th>TotalCharges</th>\n",
       "      <th>exited</th>\n",
       "      <th>contract_duration</th>\n",
       "    </tr>\n",
       "  </thead>\n",
       "  <tbody>\n",
       "    <tr>\n",
       "      <th>488</th>\n",
       "      <td>4472-LVYGI</td>\n",
       "      <td>2020-02-01</td>\n",
       "      <td>2020-02-01</td>\n",
       "      <td>Two year</td>\n",
       "      <td>Yes</td>\n",
       "      <td>Bank transfer (automatic)</td>\n",
       "      <td>52.55</td>\n",
       "      <td></td>\n",
       "      <td>0</td>\n",
       "      <td>0</td>\n",
       "    </tr>\n",
       "    <tr>\n",
       "      <th>753</th>\n",
       "      <td>3115-CZMZD</td>\n",
       "      <td>2020-02-01</td>\n",
       "      <td>2020-02-01</td>\n",
       "      <td>Two year</td>\n",
       "      <td>No</td>\n",
       "      <td>Mailed check</td>\n",
       "      <td>20.25</td>\n",
       "      <td></td>\n",
       "      <td>0</td>\n",
       "      <td>0</td>\n",
       "    </tr>\n",
       "    <tr>\n",
       "      <th>936</th>\n",
       "      <td>5709-LVOEQ</td>\n",
       "      <td>2020-02-01</td>\n",
       "      <td>2020-02-01</td>\n",
       "      <td>Two year</td>\n",
       "      <td>No</td>\n",
       "      <td>Mailed check</td>\n",
       "      <td>80.85</td>\n",
       "      <td></td>\n",
       "      <td>0</td>\n",
       "      <td>0</td>\n",
       "    </tr>\n",
       "    <tr>\n",
       "      <th>1082</th>\n",
       "      <td>4367-NUYAO</td>\n",
       "      <td>2020-02-01</td>\n",
       "      <td>2020-02-01</td>\n",
       "      <td>Two year</td>\n",
       "      <td>No</td>\n",
       "      <td>Mailed check</td>\n",
       "      <td>25.75</td>\n",
       "      <td></td>\n",
       "      <td>0</td>\n",
       "      <td>0</td>\n",
       "    </tr>\n",
       "    <tr>\n",
       "      <th>1340</th>\n",
       "      <td>1371-DWPAZ</td>\n",
       "      <td>2020-02-01</td>\n",
       "      <td>2020-02-01</td>\n",
       "      <td>Two year</td>\n",
       "      <td>No</td>\n",
       "      <td>Credit card (automatic)</td>\n",
       "      <td>56.05</td>\n",
       "      <td></td>\n",
       "      <td>0</td>\n",
       "      <td>0</td>\n",
       "    </tr>\n",
       "    <tr>\n",
       "      <th>3331</th>\n",
       "      <td>7644-OMVMY</td>\n",
       "      <td>2020-02-01</td>\n",
       "      <td>2020-02-01</td>\n",
       "      <td>Two year</td>\n",
       "      <td>No</td>\n",
       "      <td>Mailed check</td>\n",
       "      <td>19.85</td>\n",
       "      <td></td>\n",
       "      <td>0</td>\n",
       "      <td>0</td>\n",
       "    </tr>\n",
       "    <tr>\n",
       "      <th>3826</th>\n",
       "      <td>3213-VVOLG</td>\n",
       "      <td>2020-02-01</td>\n",
       "      <td>2020-02-01</td>\n",
       "      <td>Two year</td>\n",
       "      <td>No</td>\n",
       "      <td>Mailed check</td>\n",
       "      <td>25.35</td>\n",
       "      <td></td>\n",
       "      <td>0</td>\n",
       "      <td>0</td>\n",
       "    </tr>\n",
       "    <tr>\n",
       "      <th>4380</th>\n",
       "      <td>2520-SGTTA</td>\n",
       "      <td>2020-02-01</td>\n",
       "      <td>2020-02-01</td>\n",
       "      <td>Two year</td>\n",
       "      <td>No</td>\n",
       "      <td>Mailed check</td>\n",
       "      <td>20.00</td>\n",
       "      <td></td>\n",
       "      <td>0</td>\n",
       "      <td>0</td>\n",
       "    </tr>\n",
       "    <tr>\n",
       "      <th>5218</th>\n",
       "      <td>2923-ARZLG</td>\n",
       "      <td>2020-02-01</td>\n",
       "      <td>2020-02-01</td>\n",
       "      <td>One year</td>\n",
       "      <td>Yes</td>\n",
       "      <td>Mailed check</td>\n",
       "      <td>19.70</td>\n",
       "      <td></td>\n",
       "      <td>0</td>\n",
       "      <td>0</td>\n",
       "    </tr>\n",
       "    <tr>\n",
       "      <th>6670</th>\n",
       "      <td>4075-WKNIU</td>\n",
       "      <td>2020-02-01</td>\n",
       "      <td>2020-02-01</td>\n",
       "      <td>Two year</td>\n",
       "      <td>No</td>\n",
       "      <td>Mailed check</td>\n",
       "      <td>73.35</td>\n",
       "      <td></td>\n",
       "      <td>0</td>\n",
       "      <td>0</td>\n",
       "    </tr>\n",
       "    <tr>\n",
       "      <th>6754</th>\n",
       "      <td>2775-SEFEE</td>\n",
       "      <td>2020-02-01</td>\n",
       "      <td>2020-02-01</td>\n",
       "      <td>Two year</td>\n",
       "      <td>Yes</td>\n",
       "      <td>Bank transfer (automatic)</td>\n",
       "      <td>61.90</td>\n",
       "      <td></td>\n",
       "      <td>0</td>\n",
       "      <td>0</td>\n",
       "    </tr>\n",
       "  </tbody>\n",
       "</table>\n",
       "</div>"
      ],
      "text/plain": [
       "      customerID  BeginDate    EndDate      Type PaperlessBilling  \\\n",
       "488   4472-LVYGI 2020-02-01 2020-02-01  Two year              Yes   \n",
       "753   3115-CZMZD 2020-02-01 2020-02-01  Two year               No   \n",
       "936   5709-LVOEQ 2020-02-01 2020-02-01  Two year               No   \n",
       "1082  4367-NUYAO 2020-02-01 2020-02-01  Two year               No   \n",
       "1340  1371-DWPAZ 2020-02-01 2020-02-01  Two year               No   \n",
       "3331  7644-OMVMY 2020-02-01 2020-02-01  Two year               No   \n",
       "3826  3213-VVOLG 2020-02-01 2020-02-01  Two year               No   \n",
       "4380  2520-SGTTA 2020-02-01 2020-02-01  Two year               No   \n",
       "5218  2923-ARZLG 2020-02-01 2020-02-01  One year              Yes   \n",
       "6670  4075-WKNIU 2020-02-01 2020-02-01  Two year               No   \n",
       "6754  2775-SEFEE 2020-02-01 2020-02-01  Two year              Yes   \n",
       "\n",
       "                  PaymentMethod  MonthlyCharges TotalCharges  exited  \\\n",
       "488   Bank transfer (automatic)           52.55                    0   \n",
       "753                Mailed check           20.25                    0   \n",
       "936                Mailed check           80.85                    0   \n",
       "1082               Mailed check           25.75                    0   \n",
       "1340    Credit card (automatic)           56.05                    0   \n",
       "3331               Mailed check           19.85                    0   \n",
       "3826               Mailed check           25.35                    0   \n",
       "4380               Mailed check           20.00                    0   \n",
       "5218               Mailed check           19.70                    0   \n",
       "6670               Mailed check           73.35                    0   \n",
       "6754  Bank transfer (automatic)           61.90                    0   \n",
       "\n",
       "      contract_duration  \n",
       "488                   0  \n",
       "753                   0  \n",
       "936                   0  \n",
       "1082                  0  \n",
       "1340                  0  \n",
       "3331                  0  \n",
       "3826                  0  \n",
       "4380                  0  \n",
       "5218                  0  \n",
       "6670                  0  \n",
       "6754                  0  "
      ]
     },
     "execution_count": 18,
     "metadata": {},
     "output_type": "execute_result"
    }
   ],
   "source": [
    "data_contract.loc[data_contract['TotalCharges'].str.contains(' ')]"
   ]
  },
  {
   "cell_type": "markdown",
   "id": "e44032c1",
   "metadata": {},
   "source": [
    "Действительно обнаружились пустые строки. Причем это данные по абонентам, которые оформили контракт на услуги 2020-02-01 в дату, в которую были предоставлены данные. Скорее всего оплата еще не произошла, абонент еще не начал пользоваться услугами. В таком случае заполним эти строки 0, и преобразуем данные в тип float."
   ]
  },
  {
   "cell_type": "code",
   "execution_count": 19,
   "id": "8b2ab91a",
   "metadata": {},
   "outputs": [],
   "source": [
    "data_contract.loc[data_contract['TotalCharges'] == ' ', 'TotalCharges'] = 0\n",
    "data_contract['TotalCharges'] = data_contract['TotalCharges'].astype('float64')"
   ]
  },
  {
   "cell_type": "markdown",
   "id": "a6ebc5b3",
   "metadata": {},
   "source": [
    "С признаками закончили, теперь можно удалить столбцы BeginDate и EndDate."
   ]
  },
  {
   "cell_type": "code",
   "execution_count": 20,
   "id": "9a0c289b",
   "metadata": {},
   "outputs": [
    {
     "data": {
      "text/html": [
       "<div>\n",
       "<style scoped>\n",
       "    .dataframe tbody tr th:only-of-type {\n",
       "        vertical-align: middle;\n",
       "    }\n",
       "\n",
       "    .dataframe tbody tr th {\n",
       "        vertical-align: top;\n",
       "    }\n",
       "\n",
       "    .dataframe thead th {\n",
       "        text-align: right;\n",
       "    }\n",
       "</style>\n",
       "<table border=\"1\" class=\"dataframe\">\n",
       "  <thead>\n",
       "    <tr style=\"text-align: right;\">\n",
       "      <th></th>\n",
       "      <th>customerID</th>\n",
       "      <th>Type</th>\n",
       "      <th>PaperlessBilling</th>\n",
       "      <th>PaymentMethod</th>\n",
       "      <th>MonthlyCharges</th>\n",
       "      <th>TotalCharges</th>\n",
       "      <th>exited</th>\n",
       "      <th>contract_duration</th>\n",
       "    </tr>\n",
       "  </thead>\n",
       "  <tbody>\n",
       "    <tr>\n",
       "      <th>0</th>\n",
       "      <td>7590-VHVEG</td>\n",
       "      <td>Month-to-month</td>\n",
       "      <td>Yes</td>\n",
       "      <td>Electronic check</td>\n",
       "      <td>29.85</td>\n",
       "      <td>31.04</td>\n",
       "      <td>0</td>\n",
       "      <td>31</td>\n",
       "    </tr>\n",
       "    <tr>\n",
       "      <th>1</th>\n",
       "      <td>5575-GNVDE</td>\n",
       "      <td>One year</td>\n",
       "      <td>No</td>\n",
       "      <td>Mailed check</td>\n",
       "      <td>56.95</td>\n",
       "      <td>2071.84</td>\n",
       "      <td>0</td>\n",
       "      <td>1036</td>\n",
       "    </tr>\n",
       "    <tr>\n",
       "      <th>2</th>\n",
       "      <td>3668-QPYBK</td>\n",
       "      <td>Month-to-month</td>\n",
       "      <td>Yes</td>\n",
       "      <td>Mailed check</td>\n",
       "      <td>53.85</td>\n",
       "      <td>226.17</td>\n",
       "      <td>0</td>\n",
       "      <td>123</td>\n",
       "    </tr>\n",
       "    <tr>\n",
       "      <th>3</th>\n",
       "      <td>7795-CFOCW</td>\n",
       "      <td>One year</td>\n",
       "      <td>No</td>\n",
       "      <td>Bank transfer (automatic)</td>\n",
       "      <td>42.30</td>\n",
       "      <td>1960.60</td>\n",
       "      <td>0</td>\n",
       "      <td>1371</td>\n",
       "    </tr>\n",
       "    <tr>\n",
       "      <th>4</th>\n",
       "      <td>9237-HQITU</td>\n",
       "      <td>Month-to-month</td>\n",
       "      <td>Yes</td>\n",
       "      <td>Electronic check</td>\n",
       "      <td>70.70</td>\n",
       "      <td>353.50</td>\n",
       "      <td>0</td>\n",
       "      <td>153</td>\n",
       "    </tr>\n",
       "  </tbody>\n",
       "</table>\n",
       "</div>"
      ],
      "text/plain": [
       "   customerID            Type PaperlessBilling              PaymentMethod  \\\n",
       "0  7590-VHVEG  Month-to-month              Yes           Electronic check   \n",
       "1  5575-GNVDE        One year               No               Mailed check   \n",
       "2  3668-QPYBK  Month-to-month              Yes               Mailed check   \n",
       "3  7795-CFOCW        One year               No  Bank transfer (automatic)   \n",
       "4  9237-HQITU  Month-to-month              Yes           Electronic check   \n",
       "\n",
       "   MonthlyCharges  TotalCharges  exited  contract_duration  \n",
       "0           29.85         31.04       0                 31  \n",
       "1           56.95       2071.84       0               1036  \n",
       "2           53.85        226.17       0                123  \n",
       "3           42.30       1960.60       0               1371  \n",
       "4           70.70        353.50       0                153  "
      ]
     },
     "metadata": {},
     "output_type": "display_data"
    },
    {
     "name": "stdout",
     "output_type": "stream",
     "text": [
      "<class 'pandas.core.frame.DataFrame'>\n",
      "RangeIndex: 7043 entries, 0 to 7042\n",
      "Data columns (total 8 columns):\n",
      " #   Column             Non-Null Count  Dtype  \n",
      "---  ------             --------------  -----  \n",
      " 0   customerID         7043 non-null   object \n",
      " 1   Type               7043 non-null   object \n",
      " 2   PaperlessBilling   7043 non-null   object \n",
      " 3   PaymentMethod      7043 non-null   object \n",
      " 4   MonthlyCharges     7043 non-null   float64\n",
      " 5   TotalCharges       7043 non-null   float64\n",
      " 6   exited             7043 non-null   int64  \n",
      " 7   contract_duration  7043 non-null   int64  \n",
      "dtypes: float64(2), int64(2), object(4)\n",
      "memory usage: 440.3+ KB\n"
     ]
    }
   ],
   "source": [
    "data_contract = data_contract.drop(['BeginDate', 'EndDate'], axis=1)\n",
    "\n",
    "display(data_contract.head())\n",
    "data_contract.info()"
   ]
  },
  {
   "cell_type": "markdown",
   "id": "e0d50016",
   "metadata": {},
   "source": [
    "Проверим оставшиеся столбцы на уникальные значения."
   ]
  },
  {
   "cell_type": "code",
   "execution_count": 21,
   "id": "ca14ede2",
   "metadata": {},
   "outputs": [
    {
     "data": {
      "text/plain": [
       "array(['Month-to-month', 'One year', 'Two year'], dtype=object)"
      ]
     },
     "metadata": {},
     "output_type": "display_data"
    },
    {
     "data": {
      "text/plain": [
       "array(['Yes', 'No'], dtype=object)"
      ]
     },
     "metadata": {},
     "output_type": "display_data"
    },
    {
     "data": {
      "text/plain": [
       "array(['Electronic check', 'Mailed check', 'Bank transfer (automatic)',\n",
       "       'Credit card (automatic)'], dtype=object)"
      ]
     },
     "execution_count": 21,
     "metadata": {},
     "output_type": "execute_result"
    }
   ],
   "source": [
    "display(data_contract['Type'].unique())\n",
    "display(data_contract['PaperlessBilling'].unique())\n",
    "data_contract['PaymentMethod'].unique()"
   ]
  },
  {
   "cell_type": "markdown",
   "id": "c0cec33e",
   "metadata": {},
   "source": [
    "**Вывод:**\n",
    "Датасет data_contract предобработан, дубликатов не обнаружено. Созданы новые признаки - длительность контракта и целевой признак (ушел клиент или остался). Столбец TotalCharges приведен к типу float64, пустые строки заменены на 0. Также удалены признаки, содержащие даты."
   ]
  },
  {
   "cell_type": "markdown",
   "id": "3bf7062f",
   "metadata": {},
   "source": [
    "### Файл personal_new.csv"
   ]
  },
  {
   "cell_type": "code",
   "execution_count": 22,
   "id": "05e333bd",
   "metadata": {},
   "outputs": [
    {
     "name": "stdout",
     "output_type": "stream",
     "text": [
      "Размеры таблицы: (7043, 5)\n",
      "   customerID  gender  SeniorCitizen Partner Dependents\n",
      "0  7590-VHVEG  Female              0     Yes         No\n",
      "1  5575-GNVDE    Male              0      No         No\n",
      "2  3668-QPYBK    Male              0      No         No\n",
      "3  7795-CFOCW    Male              0      No         No\n",
      "4  9237-HQITU  Female              0      No         No\n",
      "<class 'pandas.core.frame.DataFrame'>\n",
      "RangeIndex: 7043 entries, 0 to 7042\n",
      "Data columns (total 5 columns):\n",
      " #   Column         Non-Null Count  Dtype \n",
      "---  ------         --------------  ----- \n",
      " 0   customerID     7043 non-null   object\n",
      " 1   gender         7043 non-null   object\n",
      " 2   SeniorCitizen  7043 non-null   int64 \n",
      " 3   Partner        7043 non-null   object\n",
      " 4   Dependents     7043 non-null   object\n",
      "dtypes: int64(1), object(4)\n",
      "memory usage: 275.2+ KB\n",
      "None\n"
     ]
    }
   ],
   "source": [
    "# еще раз рассмотрим основную информацию о датасете\n",
    "data_info(data_personal)"
   ]
  },
  {
   "cell_type": "code",
   "execution_count": 23,
   "id": "26c4ce86",
   "metadata": {},
   "outputs": [
    {
     "data": {
      "text/plain": [
       "0"
      ]
     },
     "execution_count": 23,
     "metadata": {},
     "output_type": "execute_result"
    }
   ],
   "source": [
    "# Проверим данные на дубликаты\n",
    "data_personal.duplicated().sum()"
   ]
  },
  {
   "cell_type": "markdown",
   "id": "4001fff1",
   "metadata": {},
   "source": [
    "Рассмотрим, какие уникальные значения содержат столбцы датасета"
   ]
  },
  {
   "cell_type": "code",
   "execution_count": 24,
   "id": "f6adb2e7",
   "metadata": {},
   "outputs": [
    {
     "name": "stdout",
     "output_type": "stream",
     "text": [
      "Столбец customerID содержит следующие уникальные значения:['7590-VHVEG' '5575-GNVDE' '3668-QPYBK' ... '4801-JZAZL' '8361-LTMKD'\n",
      " '3186-AJIEK']\n",
      "--------------------------\n",
      "Столбец gender содержит следующие уникальные значения:['Female' 'Male']\n",
      "--------------------------\n",
      "Столбец SeniorCitizen содержит следующие уникальные значения:[0 1]\n",
      "--------------------------\n",
      "Столбец Partner содержит следующие уникальные значения:['Yes' 'No']\n",
      "--------------------------\n",
      "Столбец Dependents содержит следующие уникальные значения:['No' 'Yes']\n",
      "--------------------------\n"
     ]
    }
   ],
   "source": [
    "for i in data_personal.columns:\n",
    "    print(f'Столбец {i} содержит следующие уникальные значения:{data_personal[i].unique()}')\n",
    "    print('--------------------------')"
   ]
  },
  {
   "cell_type": "markdown",
   "id": "472075af",
   "metadata": {},
   "source": [
    "Столбец SeniorCitizen содержит отличные от других категориальных признаков. Также отличается и тип данных. Приведем его к типу object."
   ]
  },
  {
   "cell_type": "code",
   "execution_count": 25,
   "id": "61082630",
   "metadata": {},
   "outputs": [
    {
     "name": "stdout",
     "output_type": "stream",
     "text": [
      "<class 'pandas.core.frame.DataFrame'>\n",
      "RangeIndex: 7043 entries, 0 to 7042\n",
      "Data columns (total 5 columns):\n",
      " #   Column         Non-Null Count  Dtype \n",
      "---  ------         --------------  ----- \n",
      " 0   customerID     7043 non-null   object\n",
      " 1   gender         7043 non-null   object\n",
      " 2   SeniorCitizen  7043 non-null   object\n",
      " 3   Partner        7043 non-null   object\n",
      " 4   Dependents     7043 non-null   object\n",
      "dtypes: object(5)\n",
      "memory usage: 275.2+ KB\n"
     ]
    }
   ],
   "source": [
    "data_personal['SeniorCitizen'] = data_personal['SeniorCitizen'].astype('object')\n",
    "data_personal.info()"
   ]
  },
  {
   "cell_type": "markdown",
   "id": "957a5cad",
   "metadata": {},
   "source": [
    "**Вывод:**\n",
    "Датасет data_personal состоит из 7043 строк и 5 столбцов, и содержит персональные данные клиентов. Дубликатов обнаружено не было, пропусков тоже. Категориальный бинарный признак SeniorCitizen был преобразован в тип object."
   ]
  },
  {
   "cell_type": "markdown",
   "id": "5decde89",
   "metadata": {},
   "source": [
    "### Файл internet_new.csv"
   ]
  },
  {
   "cell_type": "code",
   "execution_count": 26,
   "id": "863f7030",
   "metadata": {},
   "outputs": [
    {
     "name": "stdout",
     "output_type": "stream",
     "text": [
      "Размеры таблицы: (5517, 8)\n",
      "   customerID InternetService OnlineSecurity OnlineBackup DeviceProtection  \\\n",
      "0  7590-VHVEG             DSL             No          Yes               No   \n",
      "1  5575-GNVDE             DSL            Yes           No              Yes   \n",
      "2  3668-QPYBK             DSL            Yes          Yes               No   \n",
      "3  7795-CFOCW             DSL            Yes           No              Yes   \n",
      "4  9237-HQITU     Fiber optic             No           No               No   \n",
      "\n",
      "  TechSupport StreamingTV StreamingMovies  \n",
      "0          No          No              No  \n",
      "1          No          No              No  \n",
      "2          No          No              No  \n",
      "3         Yes          No              No  \n",
      "4          No          No              No  \n",
      "<class 'pandas.core.frame.DataFrame'>\n",
      "RangeIndex: 5517 entries, 0 to 5516\n",
      "Data columns (total 8 columns):\n",
      " #   Column            Non-Null Count  Dtype \n",
      "---  ------            --------------  ----- \n",
      " 0   customerID        5517 non-null   object\n",
      " 1   InternetService   5517 non-null   object\n",
      " 2   OnlineSecurity    5517 non-null   object\n",
      " 3   OnlineBackup      5517 non-null   object\n",
      " 4   DeviceProtection  5517 non-null   object\n",
      " 5   TechSupport       5517 non-null   object\n",
      " 6   StreamingTV       5517 non-null   object\n",
      " 7   StreamingMovies   5517 non-null   object\n",
      "dtypes: object(8)\n",
      "memory usage: 344.9+ KB\n",
      "None\n"
     ]
    }
   ],
   "source": [
    "# еще раз рассмотрим основную информацию о датасете\n",
    "data_info(data_internet)"
   ]
  },
  {
   "cell_type": "markdown",
   "id": "2bfb4cf5",
   "metadata": {},
   "source": [
    "Датасет содержит 5517 строк и 8 столбцов с данными о клиентах, использующие интернет услуги компании. Пропуски на первый взгляд отсутствуют."
   ]
  },
  {
   "cell_type": "code",
   "execution_count": 27,
   "id": "d198fef0",
   "metadata": {},
   "outputs": [
    {
     "data": {
      "text/plain": [
       "0"
      ]
     },
     "execution_count": 27,
     "metadata": {},
     "output_type": "execute_result"
    }
   ],
   "source": [
    "# Проверим данные на дубликаты\n",
    "data_internet.duplicated().sum()"
   ]
  },
  {
   "cell_type": "code",
   "execution_count": 28,
   "id": "9dd2dbb7",
   "metadata": {},
   "outputs": [
    {
     "name": "stdout",
     "output_type": "stream",
     "text": [
      "Столбец customerID содержит следующие уникальные значения:['7590-VHVEG' '5575-GNVDE' '3668-QPYBK' ... '4801-JZAZL' '8361-LTMKD'\n",
      " '3186-AJIEK']\n",
      "--------------------------\n",
      "Столбец InternetService содержит следующие уникальные значения:['DSL' 'Fiber optic']\n",
      "--------------------------\n",
      "Столбец OnlineSecurity содержит следующие уникальные значения:['No' 'Yes']\n",
      "--------------------------\n",
      "Столбец OnlineBackup содержит следующие уникальные значения:['Yes' 'No']\n",
      "--------------------------\n",
      "Столбец DeviceProtection содержит следующие уникальные значения:['No' 'Yes']\n",
      "--------------------------\n",
      "Столбец TechSupport содержит следующие уникальные значения:['No' 'Yes']\n",
      "--------------------------\n",
      "Столбец StreamingTV содержит следующие уникальные значения:['No' 'Yes']\n",
      "--------------------------\n",
      "Столбец StreamingMovies содержит следующие уникальные значения:['No' 'Yes']\n",
      "--------------------------\n"
     ]
    }
   ],
   "source": [
    "# Проверим уникальные значения в каждом столбце\n",
    "for i in data_internet.columns:\n",
    "    print(f'Столбец {i} содержит следующие уникальные значения:{data_internet[i].unique()}')\n",
    "    print('--------------------------')"
   ]
  },
  {
   "cell_type": "markdown",
   "id": "c4228053",
   "metadata": {},
   "source": [
    "**Вывод:**\n",
    "Датасет data_personal состоит из 5517 строк и 8 столбцов, и содержит данные о клиентах, использующих интернет услуги компании. Дубликатов обнаружено не было, пропусков тоже. В дополнительной предобработке не нуждаются."
   ]
  },
  {
   "cell_type": "markdown",
   "id": "0b6a3d01",
   "metadata": {},
   "source": [
    "### Файл phone_new.csv"
   ]
  },
  {
   "cell_type": "code",
   "execution_count": 29,
   "id": "3e4345b0",
   "metadata": {},
   "outputs": [
    {
     "name": "stdout",
     "output_type": "stream",
     "text": [
      "Размеры таблицы: (6361, 2)\n",
      "   customerID MultipleLines\n",
      "0  5575-GNVDE            No\n",
      "1  3668-QPYBK            No\n",
      "2  9237-HQITU            No\n",
      "3  9305-CDSKC           Yes\n",
      "4  1452-KIOVK           Yes\n",
      "<class 'pandas.core.frame.DataFrame'>\n",
      "RangeIndex: 6361 entries, 0 to 6360\n",
      "Data columns (total 2 columns):\n",
      " #   Column         Non-Null Count  Dtype \n",
      "---  ------         --------------  ----- \n",
      " 0   customerID     6361 non-null   object\n",
      " 1   MultipleLines  6361 non-null   object\n",
      "dtypes: object(2)\n",
      "memory usage: 99.5+ KB\n",
      "None\n"
     ]
    }
   ],
   "source": [
    "# еще раз рассмотрим основную информацию о датасете\n",
    "data_info(data_phone)"
   ]
  },
  {
   "cell_type": "markdown",
   "id": "95e05c98",
   "metadata": {},
   "source": [
    "Датасет содержит 6361 строку и 2 столбца с данными о клиентах, использующие услуги стационарной телефонной связи. Пропуски на первый взгляд отсутствуют."
   ]
  },
  {
   "cell_type": "code",
   "execution_count": 30,
   "id": "e6bc01b8",
   "metadata": {},
   "outputs": [
    {
     "data": {
      "text/plain": [
       "0"
      ]
     },
     "execution_count": 30,
     "metadata": {},
     "output_type": "execute_result"
    }
   ],
   "source": [
    "# Проверим данные на дубликаты\n",
    "data_phone.duplicated().sum()"
   ]
  },
  {
   "cell_type": "code",
   "execution_count": 31,
   "id": "acbc61a1",
   "metadata": {},
   "outputs": [
    {
     "name": "stdout",
     "output_type": "stream",
     "text": [
      "Столбец customerID содержит следующие уникальные значения:['5575-GNVDE' '3668-QPYBK' '9237-HQITU' ... '2234-XADUH' '8361-LTMKD'\n",
      " '3186-AJIEK']\n",
      "--------------------------\n",
      "Столбец MultipleLines содержит следующие уникальные значения:['No' 'Yes']\n",
      "--------------------------\n"
     ]
    }
   ],
   "source": [
    "# Проверим уникальные значения в каждом столбце\n",
    "for i in data_phone.columns:\n",
    "    print(f'Столбец {i} содержит следующие уникальные значения:{data_phone[i].unique()}')\n",
    "    print('--------------------------')"
   ]
  },
  {
   "cell_type": "markdown",
   "id": "228a179c",
   "metadata": {},
   "source": [
    "**Вывод:**\n",
    "Датасет data_phone состоит из 6361 строки и 2 столбцов, и содержит данные о клиентах, использующих услуги стационарной телефонной связи. Дубликатов обнаружено не было, пропусков тоже. В дополнительной предобработке не нуждаются."
   ]
  },
  {
   "cell_type": "markdown",
   "id": "813197d6",
   "metadata": {},
   "source": [
    "## Объединение данных"
   ]
  },
  {
   "cell_type": "markdown",
   "id": "5f5c6c02",
   "metadata": {},
   "source": [
    "Объединение таблиц будем производить по общему ключу customerID (идентификатор клиента)"
   ]
  },
  {
   "cell_type": "code",
   "execution_count": 32,
   "id": "07dd5a24",
   "metadata": {},
   "outputs": [
    {
     "name": "stdout",
     "output_type": "stream",
     "text": [
      "Размер таблицы data_contract: (7043, 8)\n",
      "Размер таблицы data_personal: (7043, 5)\n",
      "Размер таблицы data_internet: (5517, 8)\n",
      "Размер таблицы data_phone: (6361, 2)\n"
     ]
    }
   ],
   "source": [
    "# Рассмотрим размеры каждой из таблиц\n",
    "print(f'Размер таблицы data_contract: {data_contract.shape}')\n",
    "print(f'Размер таблицы data_personal: {data_personal.shape}')\n",
    "print(f'Размер таблицы data_internet: {data_internet.shape}')\n",
    "print(f'Размер таблицы data_phone: {data_phone.shape}')"
   ]
  },
  {
   "cell_type": "markdown",
   "id": "ab479d92",
   "metadata": {},
   "source": [
    "Первые две таблицы по условиям задачи должны иметь полную информацию обо всех клиентах. Не должно быть такого, что клиент присутствует в первой таблице, но не присутствует во второй. Значит, после их объединения, итоговая таблица должна содержать 7043 строки.  "
   ]
  },
  {
   "cell_type": "code",
   "execution_count": 33,
   "id": "33c11b10",
   "metadata": {},
   "outputs": [
    {
     "data": {
      "text/plain": [
       "(7043, 12)"
      ]
     },
     "metadata": {},
     "output_type": "display_data"
    },
    {
     "data": {
      "text/html": [
       "<div>\n",
       "<style scoped>\n",
       "    .dataframe tbody tr th:only-of-type {\n",
       "        vertical-align: middle;\n",
       "    }\n",
       "\n",
       "    .dataframe tbody tr th {\n",
       "        vertical-align: top;\n",
       "    }\n",
       "\n",
       "    .dataframe thead th {\n",
       "        text-align: right;\n",
       "    }\n",
       "</style>\n",
       "<table border=\"1\" class=\"dataframe\">\n",
       "  <thead>\n",
       "    <tr style=\"text-align: right;\">\n",
       "      <th></th>\n",
       "      <th>customerID</th>\n",
       "      <th>Type</th>\n",
       "      <th>PaperlessBilling</th>\n",
       "      <th>PaymentMethod</th>\n",
       "      <th>MonthlyCharges</th>\n",
       "      <th>TotalCharges</th>\n",
       "      <th>exited</th>\n",
       "      <th>contract_duration</th>\n",
       "      <th>gender</th>\n",
       "      <th>SeniorCitizen</th>\n",
       "      <th>Partner</th>\n",
       "      <th>Dependents</th>\n",
       "    </tr>\n",
       "  </thead>\n",
       "  <tbody>\n",
       "    <tr>\n",
       "      <th>0</th>\n",
       "      <td>7590-VHVEG</td>\n",
       "      <td>Month-to-month</td>\n",
       "      <td>Yes</td>\n",
       "      <td>Electronic check</td>\n",
       "      <td>29.85</td>\n",
       "      <td>31.04</td>\n",
       "      <td>0</td>\n",
       "      <td>31</td>\n",
       "      <td>Female</td>\n",
       "      <td>0</td>\n",
       "      <td>Yes</td>\n",
       "      <td>No</td>\n",
       "    </tr>\n",
       "    <tr>\n",
       "      <th>1</th>\n",
       "      <td>5575-GNVDE</td>\n",
       "      <td>One year</td>\n",
       "      <td>No</td>\n",
       "      <td>Mailed check</td>\n",
       "      <td>56.95</td>\n",
       "      <td>2071.84</td>\n",
       "      <td>0</td>\n",
       "      <td>1036</td>\n",
       "      <td>Male</td>\n",
       "      <td>0</td>\n",
       "      <td>No</td>\n",
       "      <td>No</td>\n",
       "    </tr>\n",
       "    <tr>\n",
       "      <th>2</th>\n",
       "      <td>3668-QPYBK</td>\n",
       "      <td>Month-to-month</td>\n",
       "      <td>Yes</td>\n",
       "      <td>Mailed check</td>\n",
       "      <td>53.85</td>\n",
       "      <td>226.17</td>\n",
       "      <td>0</td>\n",
       "      <td>123</td>\n",
       "      <td>Male</td>\n",
       "      <td>0</td>\n",
       "      <td>No</td>\n",
       "      <td>No</td>\n",
       "    </tr>\n",
       "    <tr>\n",
       "      <th>3</th>\n",
       "      <td>7795-CFOCW</td>\n",
       "      <td>One year</td>\n",
       "      <td>No</td>\n",
       "      <td>Bank transfer (automatic)</td>\n",
       "      <td>42.30</td>\n",
       "      <td>1960.60</td>\n",
       "      <td>0</td>\n",
       "      <td>1371</td>\n",
       "      <td>Male</td>\n",
       "      <td>0</td>\n",
       "      <td>No</td>\n",
       "      <td>No</td>\n",
       "    </tr>\n",
       "    <tr>\n",
       "      <th>4</th>\n",
       "      <td>9237-HQITU</td>\n",
       "      <td>Month-to-month</td>\n",
       "      <td>Yes</td>\n",
       "      <td>Electronic check</td>\n",
       "      <td>70.70</td>\n",
       "      <td>353.50</td>\n",
       "      <td>0</td>\n",
       "      <td>153</td>\n",
       "      <td>Female</td>\n",
       "      <td>0</td>\n",
       "      <td>No</td>\n",
       "      <td>No</td>\n",
       "    </tr>\n",
       "  </tbody>\n",
       "</table>\n",
       "</div>"
      ],
      "text/plain": [
       "   customerID            Type PaperlessBilling              PaymentMethod  \\\n",
       "0  7590-VHVEG  Month-to-month              Yes           Electronic check   \n",
       "1  5575-GNVDE        One year               No               Mailed check   \n",
       "2  3668-QPYBK  Month-to-month              Yes               Mailed check   \n",
       "3  7795-CFOCW        One year               No  Bank transfer (automatic)   \n",
       "4  9237-HQITU  Month-to-month              Yes           Electronic check   \n",
       "\n",
       "   MonthlyCharges  TotalCharges  exited  contract_duration  gender  \\\n",
       "0           29.85         31.04       0                 31  Female   \n",
       "1           56.95       2071.84       0               1036    Male   \n",
       "2           53.85        226.17       0                123    Male   \n",
       "3           42.30       1960.60       0               1371    Male   \n",
       "4           70.70        353.50       0                153  Female   \n",
       "\n",
       "  SeniorCitizen Partner Dependents  \n",
       "0             0     Yes         No  \n",
       "1             0      No         No  \n",
       "2             0      No         No  \n",
       "3             0      No         No  \n",
       "4             0      No         No  "
      ]
     },
     "execution_count": 33,
     "metadata": {},
     "output_type": "execute_result"
    }
   ],
   "source": [
    "data_full = data_contract.merge(data_personal, on='customerID', how='outer')\n",
    "display(data_full.shape)\n",
    "data_full.head()"
   ]
  },
  {
   "cell_type": "markdown",
   "id": "3bf4044d",
   "metadata": {},
   "source": [
    "Присоединение произошло корректно, присоединим еще 2 таблицы."
   ]
  },
  {
   "cell_type": "code",
   "execution_count": 34,
   "id": "93f7280a",
   "metadata": {},
   "outputs": [
    {
     "data": {
      "text/plain": [
       "(7043, 20)"
      ]
     },
     "metadata": {},
     "output_type": "display_data"
    },
    {
     "data": {
      "text/html": [
       "<div>\n",
       "<style scoped>\n",
       "    .dataframe tbody tr th:only-of-type {\n",
       "        vertical-align: middle;\n",
       "    }\n",
       "\n",
       "    .dataframe tbody tr th {\n",
       "        vertical-align: top;\n",
       "    }\n",
       "\n",
       "    .dataframe thead th {\n",
       "        text-align: right;\n",
       "    }\n",
       "</style>\n",
       "<table border=\"1\" class=\"dataframe\">\n",
       "  <thead>\n",
       "    <tr style=\"text-align: right;\">\n",
       "      <th></th>\n",
       "      <th>customerID</th>\n",
       "      <th>Type</th>\n",
       "      <th>PaperlessBilling</th>\n",
       "      <th>PaymentMethod</th>\n",
       "      <th>MonthlyCharges</th>\n",
       "      <th>TotalCharges</th>\n",
       "      <th>exited</th>\n",
       "      <th>contract_duration</th>\n",
       "      <th>gender</th>\n",
       "      <th>SeniorCitizen</th>\n",
       "      <th>Partner</th>\n",
       "      <th>Dependents</th>\n",
       "      <th>InternetService</th>\n",
       "      <th>OnlineSecurity</th>\n",
       "      <th>OnlineBackup</th>\n",
       "      <th>DeviceProtection</th>\n",
       "      <th>TechSupport</th>\n",
       "      <th>StreamingTV</th>\n",
       "      <th>StreamingMovies</th>\n",
       "      <th>MultipleLines</th>\n",
       "    </tr>\n",
       "  </thead>\n",
       "  <tbody>\n",
       "    <tr>\n",
       "      <th>0</th>\n",
       "      <td>7590-VHVEG</td>\n",
       "      <td>Month-to-month</td>\n",
       "      <td>Yes</td>\n",
       "      <td>Electronic check</td>\n",
       "      <td>29.85</td>\n",
       "      <td>31.04</td>\n",
       "      <td>0</td>\n",
       "      <td>31</td>\n",
       "      <td>Female</td>\n",
       "      <td>0</td>\n",
       "      <td>Yes</td>\n",
       "      <td>No</td>\n",
       "      <td>DSL</td>\n",
       "      <td>No</td>\n",
       "      <td>Yes</td>\n",
       "      <td>No</td>\n",
       "      <td>No</td>\n",
       "      <td>No</td>\n",
       "      <td>No</td>\n",
       "      <td>NaN</td>\n",
       "    </tr>\n",
       "    <tr>\n",
       "      <th>1</th>\n",
       "      <td>5575-GNVDE</td>\n",
       "      <td>One year</td>\n",
       "      <td>No</td>\n",
       "      <td>Mailed check</td>\n",
       "      <td>56.95</td>\n",
       "      <td>2071.84</td>\n",
       "      <td>0</td>\n",
       "      <td>1036</td>\n",
       "      <td>Male</td>\n",
       "      <td>0</td>\n",
       "      <td>No</td>\n",
       "      <td>No</td>\n",
       "      <td>DSL</td>\n",
       "      <td>Yes</td>\n",
       "      <td>No</td>\n",
       "      <td>Yes</td>\n",
       "      <td>No</td>\n",
       "      <td>No</td>\n",
       "      <td>No</td>\n",
       "      <td>No</td>\n",
       "    </tr>\n",
       "    <tr>\n",
       "      <th>2</th>\n",
       "      <td>3668-QPYBK</td>\n",
       "      <td>Month-to-month</td>\n",
       "      <td>Yes</td>\n",
       "      <td>Mailed check</td>\n",
       "      <td>53.85</td>\n",
       "      <td>226.17</td>\n",
       "      <td>0</td>\n",
       "      <td>123</td>\n",
       "      <td>Male</td>\n",
       "      <td>0</td>\n",
       "      <td>No</td>\n",
       "      <td>No</td>\n",
       "      <td>DSL</td>\n",
       "      <td>Yes</td>\n",
       "      <td>Yes</td>\n",
       "      <td>No</td>\n",
       "      <td>No</td>\n",
       "      <td>No</td>\n",
       "      <td>No</td>\n",
       "      <td>No</td>\n",
       "    </tr>\n",
       "    <tr>\n",
       "      <th>3</th>\n",
       "      <td>7795-CFOCW</td>\n",
       "      <td>One year</td>\n",
       "      <td>No</td>\n",
       "      <td>Bank transfer (automatic)</td>\n",
       "      <td>42.30</td>\n",
       "      <td>1960.60</td>\n",
       "      <td>0</td>\n",
       "      <td>1371</td>\n",
       "      <td>Male</td>\n",
       "      <td>0</td>\n",
       "      <td>No</td>\n",
       "      <td>No</td>\n",
       "      <td>DSL</td>\n",
       "      <td>Yes</td>\n",
       "      <td>No</td>\n",
       "      <td>Yes</td>\n",
       "      <td>Yes</td>\n",
       "      <td>No</td>\n",
       "      <td>No</td>\n",
       "      <td>NaN</td>\n",
       "    </tr>\n",
       "    <tr>\n",
       "      <th>4</th>\n",
       "      <td>9237-HQITU</td>\n",
       "      <td>Month-to-month</td>\n",
       "      <td>Yes</td>\n",
       "      <td>Electronic check</td>\n",
       "      <td>70.70</td>\n",
       "      <td>353.50</td>\n",
       "      <td>0</td>\n",
       "      <td>153</td>\n",
       "      <td>Female</td>\n",
       "      <td>0</td>\n",
       "      <td>No</td>\n",
       "      <td>No</td>\n",
       "      <td>Fiber optic</td>\n",
       "      <td>No</td>\n",
       "      <td>No</td>\n",
       "      <td>No</td>\n",
       "      <td>No</td>\n",
       "      <td>No</td>\n",
       "      <td>No</td>\n",
       "      <td>No</td>\n",
       "    </tr>\n",
       "  </tbody>\n",
       "</table>\n",
       "</div>"
      ],
      "text/plain": [
       "   customerID            Type PaperlessBilling              PaymentMethod  \\\n",
       "0  7590-VHVEG  Month-to-month              Yes           Electronic check   \n",
       "1  5575-GNVDE        One year               No               Mailed check   \n",
       "2  3668-QPYBK  Month-to-month              Yes               Mailed check   \n",
       "3  7795-CFOCW        One year               No  Bank transfer (automatic)   \n",
       "4  9237-HQITU  Month-to-month              Yes           Electronic check   \n",
       "\n",
       "   MonthlyCharges  TotalCharges  exited  contract_duration  gender  \\\n",
       "0           29.85         31.04       0                 31  Female   \n",
       "1           56.95       2071.84       0               1036    Male   \n",
       "2           53.85        226.17       0                123    Male   \n",
       "3           42.30       1960.60       0               1371    Male   \n",
       "4           70.70        353.50       0                153  Female   \n",
       "\n",
       "  SeniorCitizen Partner Dependents InternetService OnlineSecurity  \\\n",
       "0             0     Yes         No             DSL             No   \n",
       "1             0      No         No             DSL            Yes   \n",
       "2             0      No         No             DSL            Yes   \n",
       "3             0      No         No             DSL            Yes   \n",
       "4             0      No         No     Fiber optic             No   \n",
       "\n",
       "  OnlineBackup DeviceProtection TechSupport StreamingTV StreamingMovies  \\\n",
       "0          Yes               No          No          No              No   \n",
       "1           No              Yes          No          No              No   \n",
       "2          Yes               No          No          No              No   \n",
       "3           No              Yes         Yes          No              No   \n",
       "4           No               No          No          No              No   \n",
       "\n",
       "  MultipleLines  \n",
       "0           NaN  \n",
       "1            No  \n",
       "2            No  \n",
       "3           NaN  \n",
       "4            No  "
      ]
     },
     "metadata": {},
     "output_type": "display_data"
    },
    {
     "name": "stdout",
     "output_type": "stream",
     "text": [
      "<class 'pandas.core.frame.DataFrame'>\n",
      "Int64Index: 7043 entries, 0 to 7042\n",
      "Data columns (total 20 columns):\n",
      " #   Column             Non-Null Count  Dtype  \n",
      "---  ------             --------------  -----  \n",
      " 0   customerID         7043 non-null   object \n",
      " 1   Type               7043 non-null   object \n",
      " 2   PaperlessBilling   7043 non-null   object \n",
      " 3   PaymentMethod      7043 non-null   object \n",
      " 4   MonthlyCharges     7043 non-null   float64\n",
      " 5   TotalCharges       7043 non-null   float64\n",
      " 6   exited             7043 non-null   int64  \n",
      " 7   contract_duration  7043 non-null   int64  \n",
      " 8   gender             7043 non-null   object \n",
      " 9   SeniorCitizen      7043 non-null   object \n",
      " 10  Partner            7043 non-null   object \n",
      " 11  Dependents         7043 non-null   object \n",
      " 12  InternetService    5517 non-null   object \n",
      " 13  OnlineSecurity     5517 non-null   object \n",
      " 14  OnlineBackup       5517 non-null   object \n",
      " 15  DeviceProtection   5517 non-null   object \n",
      " 16  TechSupport        5517 non-null   object \n",
      " 17  StreamingTV        5517 non-null   object \n",
      " 18  StreamingMovies    5517 non-null   object \n",
      " 19  MultipleLines      6361 non-null   object \n",
      "dtypes: float64(2), int64(2), object(16)\n",
      "memory usage: 1.1+ MB\n"
     ]
    }
   ],
   "source": [
    "data_full = data_full.merge(data_internet, on='customerID', how='outer')\n",
    "data_full = data_full.merge(data_phone, on='customerID', how='outer')\n",
    "\n",
    "display(data_full.shape)\n",
    "display(data_full.head())\n",
    "data_full.info()"
   ]
  },
  {
   "cell_type": "code",
   "execution_count": 35,
   "id": "892ba1a9",
   "metadata": {},
   "outputs": [
    {
     "data": {
      "text/plain": [
       "0"
      ]
     },
     "execution_count": 35,
     "metadata": {},
     "output_type": "execute_result"
    }
   ],
   "source": [
    "# Проверим данные на дубликаты\n",
    "data_full.duplicated().sum()"
   ]
  },
  {
   "cell_type": "markdown",
   "id": "ae35b221",
   "metadata": {},
   "source": [
    "Объединение прошло успешно, данные не потеряли, новых пользователей, которых нет в двух первых таблицах, не приобрели. Однако, после объединения возникли пропуски в признаках из таблиц internet и phone, что ожидаемо, т.к. не все клиенты пользуются обоими пакетами услуг."
   ]
  },
  {
   "cell_type": "markdown",
   "id": "e4bc79f5",
   "metadata": {},
   "source": [
    "## Исследовательский анализ и предобработка данных объединённого датафрейма."
   ]
  },
  {
   "cell_type": "markdown",
   "id": "b4928fce",
   "metadata": {},
   "source": [
    "###### Обработка пропусков."
   ]
  },
  {
   "cell_type": "code",
   "execution_count": 36,
   "id": "9af329cb",
   "metadata": {},
   "outputs": [
    {
     "data": {
      "text/plain": [
       "customerID              0\n",
       "Type                    0\n",
       "PaperlessBilling        0\n",
       "PaymentMethod           0\n",
       "MonthlyCharges          0\n",
       "TotalCharges            0\n",
       "exited                  0\n",
       "contract_duration       0\n",
       "gender                  0\n",
       "SeniorCitizen           0\n",
       "Partner                 0\n",
       "Dependents              0\n",
       "InternetService      1526\n",
       "OnlineSecurity       1526\n",
       "OnlineBackup         1526\n",
       "DeviceProtection     1526\n",
       "TechSupport          1526\n",
       "StreamingTV          1526\n",
       "StreamingMovies      1526\n",
       "MultipleLines         682\n",
       "dtype: int64"
      ]
     },
     "execution_count": 36,
     "metadata": {},
     "output_type": "execute_result"
    }
   ],
   "source": [
    "# Посмотрим на количество пропусков в столбцах\n",
    "data_full.isna().sum()"
   ]
  },
  {
   "cell_type": "markdown",
   "id": "0ba7a477",
   "metadata": {},
   "source": [
    "Пропусков получилось немало, но восстановлению они не подлежат, т.к. пропуск означает, что клиент попросту не пользуется данным пакетом, а значит и услугами, которые в него входят. Заменить их на 'No' будет также некорректно, поэтому заменим их на значение 'unknown'."
   ]
  },
  {
   "cell_type": "code",
   "execution_count": 37,
   "id": "388516af",
   "metadata": {},
   "outputs": [],
   "source": [
    "data_full = data_full.fillna('unknown')"
   ]
  },
  {
   "cell_type": "code",
   "execution_count": 38,
   "id": "49a00359",
   "metadata": {},
   "outputs": [
    {
     "data": {
      "text/plain": [
       "customerID           0\n",
       "Type                 0\n",
       "PaperlessBilling     0\n",
       "PaymentMethod        0\n",
       "MonthlyCharges       0\n",
       "TotalCharges         0\n",
       "exited               0\n",
       "contract_duration    0\n",
       "gender               0\n",
       "SeniorCitizen        0\n",
       "Partner              0\n",
       "Dependents           0\n",
       "InternetService      0\n",
       "OnlineSecurity       0\n",
       "OnlineBackup         0\n",
       "DeviceProtection     0\n",
       "TechSupport          0\n",
       "StreamingTV          0\n",
       "StreamingMovies      0\n",
       "MultipleLines        0\n",
       "dtype: int64"
      ]
     },
     "execution_count": 38,
     "metadata": {},
     "output_type": "execute_result"
    }
   ],
   "source": [
    "data_full.isna().sum()"
   ]
  },
  {
   "cell_type": "code",
   "execution_count": 39,
   "id": "9f89b7b9",
   "metadata": {},
   "outputs": [
    {
     "name": "stdout",
     "output_type": "stream",
     "text": [
      "<class 'pandas.core.frame.DataFrame'>\n",
      "Int64Index: 7043 entries, 0 to 7042\n",
      "Data columns (total 20 columns):\n",
      " #   Column             Non-Null Count  Dtype  \n",
      "---  ------             --------------  -----  \n",
      " 0   customerID         7043 non-null   object \n",
      " 1   Type               7043 non-null   object \n",
      " 2   PaperlessBilling   7043 non-null   object \n",
      " 3   PaymentMethod      7043 non-null   object \n",
      " 4   MonthlyCharges     7043 non-null   float64\n",
      " 5   TotalCharges       7043 non-null   float64\n",
      " 6   exited             7043 non-null   int64  \n",
      " 7   contract_duration  7043 non-null   int64  \n",
      " 8   gender             7043 non-null   object \n",
      " 9   SeniorCitizen      7043 non-null   int64  \n",
      " 10  Partner            7043 non-null   object \n",
      " 11  Dependents         7043 non-null   object \n",
      " 12  InternetService    7043 non-null   object \n",
      " 13  OnlineSecurity     7043 non-null   object \n",
      " 14  OnlineBackup       7043 non-null   object \n",
      " 15  DeviceProtection   7043 non-null   object \n",
      " 16  TechSupport        7043 non-null   object \n",
      " 17  StreamingTV        7043 non-null   object \n",
      " 18  StreamingMovies    7043 non-null   object \n",
      " 19  MultipleLines      7043 non-null   object \n",
      "dtypes: float64(2), int64(3), object(15)\n",
      "memory usage: 1.1+ MB\n"
     ]
    }
   ],
   "source": [
    "data_full.info()"
   ]
  },
  {
   "cell_type": "code",
   "execution_count": 40,
   "id": "7fee822d",
   "metadata": {},
   "outputs": [
    {
     "data": {
      "text/plain": [
       "array([0, 1])"
      ]
     },
     "execution_count": 40,
     "metadata": {},
     "output_type": "execute_result"
    }
   ],
   "source": [
    "data_full['SeniorCitizen'].unique()"
   ]
  },
  {
   "cell_type": "code",
   "execution_count": 41,
   "id": "ede38275",
   "metadata": {},
   "outputs": [
    {
     "name": "stdout",
     "output_type": "stream",
     "text": [
      "<class 'pandas.core.frame.DataFrame'>\n",
      "Int64Index: 7043 entries, 0 to 7042\n",
      "Data columns (total 20 columns):\n",
      " #   Column             Non-Null Count  Dtype  \n",
      "---  ------             --------------  -----  \n",
      " 0   customerID         7043 non-null   object \n",
      " 1   Type               7043 non-null   object \n",
      " 2   PaperlessBilling   7043 non-null   object \n",
      " 3   PaymentMethod      7043 non-null   object \n",
      " 4   MonthlyCharges     7043 non-null   float64\n",
      " 5   TotalCharges       7043 non-null   float64\n",
      " 6   exited             7043 non-null   int64  \n",
      " 7   contract_duration  7043 non-null   int64  \n",
      " 8   gender             7043 non-null   object \n",
      " 9   SeniorCitizen      7043 non-null   object \n",
      " 10  Partner            7043 non-null   object \n",
      " 11  Dependents         7043 non-null   object \n",
      " 12  InternetService    7043 non-null   object \n",
      " 13  OnlineSecurity     7043 non-null   object \n",
      " 14  OnlineBackup       7043 non-null   object \n",
      " 15  DeviceProtection   7043 non-null   object \n",
      " 16  TechSupport        7043 non-null   object \n",
      " 17  StreamingTV        7043 non-null   object \n",
      " 18  StreamingMovies    7043 non-null   object \n",
      " 19  MultipleLines      7043 non-null   object \n",
      "dtypes: float64(2), int64(2), object(16)\n",
      "memory usage: 1.1+ MB\n"
     ]
    }
   ],
   "source": [
    "data_full['SeniorCitizen'] = data_full['SeniorCitizen'].astype('object')\n",
    "data_full.info()"
   ]
  },
  {
   "cell_type": "markdown",
   "id": "65750d92",
   "metadata": {},
   "source": [
    "Теперь пропуски в таблице отсутствуют."
   ]
  },
  {
   "cell_type": "markdown",
   "id": "b8ba623a",
   "metadata": {},
   "source": [
    "Также необходимо удалить столбец customerID, он нам не понадобится для обучения."
   ]
  },
  {
   "cell_type": "code",
   "execution_count": 42,
   "id": "d66da28c",
   "metadata": {},
   "outputs": [
    {
     "data": {
      "text/html": [
       "<div>\n",
       "<style scoped>\n",
       "    .dataframe tbody tr th:only-of-type {\n",
       "        vertical-align: middle;\n",
       "    }\n",
       "\n",
       "    .dataframe tbody tr th {\n",
       "        vertical-align: top;\n",
       "    }\n",
       "\n",
       "    .dataframe thead th {\n",
       "        text-align: right;\n",
       "    }\n",
       "</style>\n",
       "<table border=\"1\" class=\"dataframe\">\n",
       "  <thead>\n",
       "    <tr style=\"text-align: right;\">\n",
       "      <th></th>\n",
       "      <th>Type</th>\n",
       "      <th>PaperlessBilling</th>\n",
       "      <th>PaymentMethod</th>\n",
       "      <th>MonthlyCharges</th>\n",
       "      <th>TotalCharges</th>\n",
       "      <th>exited</th>\n",
       "      <th>contract_duration</th>\n",
       "      <th>gender</th>\n",
       "      <th>SeniorCitizen</th>\n",
       "      <th>Partner</th>\n",
       "      <th>Dependents</th>\n",
       "      <th>InternetService</th>\n",
       "      <th>OnlineSecurity</th>\n",
       "      <th>OnlineBackup</th>\n",
       "      <th>DeviceProtection</th>\n",
       "      <th>TechSupport</th>\n",
       "      <th>StreamingTV</th>\n",
       "      <th>StreamingMovies</th>\n",
       "      <th>MultipleLines</th>\n",
       "    </tr>\n",
       "  </thead>\n",
       "  <tbody>\n",
       "    <tr>\n",
       "      <th>0</th>\n",
       "      <td>Month-to-month</td>\n",
       "      <td>Yes</td>\n",
       "      <td>Electronic check</td>\n",
       "      <td>29.85</td>\n",
       "      <td>31.04</td>\n",
       "      <td>0</td>\n",
       "      <td>31</td>\n",
       "      <td>Female</td>\n",
       "      <td>0</td>\n",
       "      <td>Yes</td>\n",
       "      <td>No</td>\n",
       "      <td>DSL</td>\n",
       "      <td>No</td>\n",
       "      <td>Yes</td>\n",
       "      <td>No</td>\n",
       "      <td>No</td>\n",
       "      <td>No</td>\n",
       "      <td>No</td>\n",
       "      <td>unknown</td>\n",
       "    </tr>\n",
       "    <tr>\n",
       "      <th>1</th>\n",
       "      <td>One year</td>\n",
       "      <td>No</td>\n",
       "      <td>Mailed check</td>\n",
       "      <td>56.95</td>\n",
       "      <td>2071.84</td>\n",
       "      <td>0</td>\n",
       "      <td>1036</td>\n",
       "      <td>Male</td>\n",
       "      <td>0</td>\n",
       "      <td>No</td>\n",
       "      <td>No</td>\n",
       "      <td>DSL</td>\n",
       "      <td>Yes</td>\n",
       "      <td>No</td>\n",
       "      <td>Yes</td>\n",
       "      <td>No</td>\n",
       "      <td>No</td>\n",
       "      <td>No</td>\n",
       "      <td>No</td>\n",
       "    </tr>\n",
       "    <tr>\n",
       "      <th>2</th>\n",
       "      <td>Month-to-month</td>\n",
       "      <td>Yes</td>\n",
       "      <td>Mailed check</td>\n",
       "      <td>53.85</td>\n",
       "      <td>226.17</td>\n",
       "      <td>0</td>\n",
       "      <td>123</td>\n",
       "      <td>Male</td>\n",
       "      <td>0</td>\n",
       "      <td>No</td>\n",
       "      <td>No</td>\n",
       "      <td>DSL</td>\n",
       "      <td>Yes</td>\n",
       "      <td>Yes</td>\n",
       "      <td>No</td>\n",
       "      <td>No</td>\n",
       "      <td>No</td>\n",
       "      <td>No</td>\n",
       "      <td>No</td>\n",
       "    </tr>\n",
       "    <tr>\n",
       "      <th>3</th>\n",
       "      <td>One year</td>\n",
       "      <td>No</td>\n",
       "      <td>Bank transfer (automatic)</td>\n",
       "      <td>42.30</td>\n",
       "      <td>1960.60</td>\n",
       "      <td>0</td>\n",
       "      <td>1371</td>\n",
       "      <td>Male</td>\n",
       "      <td>0</td>\n",
       "      <td>No</td>\n",
       "      <td>No</td>\n",
       "      <td>DSL</td>\n",
       "      <td>Yes</td>\n",
       "      <td>No</td>\n",
       "      <td>Yes</td>\n",
       "      <td>Yes</td>\n",
       "      <td>No</td>\n",
       "      <td>No</td>\n",
       "      <td>unknown</td>\n",
       "    </tr>\n",
       "    <tr>\n",
       "      <th>4</th>\n",
       "      <td>Month-to-month</td>\n",
       "      <td>Yes</td>\n",
       "      <td>Electronic check</td>\n",
       "      <td>70.70</td>\n",
       "      <td>353.50</td>\n",
       "      <td>0</td>\n",
       "      <td>153</td>\n",
       "      <td>Female</td>\n",
       "      <td>0</td>\n",
       "      <td>No</td>\n",
       "      <td>No</td>\n",
       "      <td>Fiber optic</td>\n",
       "      <td>No</td>\n",
       "      <td>No</td>\n",
       "      <td>No</td>\n",
       "      <td>No</td>\n",
       "      <td>No</td>\n",
       "      <td>No</td>\n",
       "      <td>No</td>\n",
       "    </tr>\n",
       "  </tbody>\n",
       "</table>\n",
       "</div>"
      ],
      "text/plain": [
       "             Type PaperlessBilling              PaymentMethod  MonthlyCharges  \\\n",
       "0  Month-to-month              Yes           Electronic check           29.85   \n",
       "1        One year               No               Mailed check           56.95   \n",
       "2  Month-to-month              Yes               Mailed check           53.85   \n",
       "3        One year               No  Bank transfer (automatic)           42.30   \n",
       "4  Month-to-month              Yes           Electronic check           70.70   \n",
       "\n",
       "   TotalCharges  exited  contract_duration  gender SeniorCitizen Partner  \\\n",
       "0         31.04       0                 31  Female             0     Yes   \n",
       "1       2071.84       0               1036    Male             0      No   \n",
       "2        226.17       0                123    Male             0      No   \n",
       "3       1960.60       0               1371    Male             0      No   \n",
       "4        353.50       0                153  Female             0      No   \n",
       "\n",
       "  Dependents InternetService OnlineSecurity OnlineBackup DeviceProtection  \\\n",
       "0         No             DSL             No          Yes               No   \n",
       "1         No             DSL            Yes           No              Yes   \n",
       "2         No             DSL            Yes          Yes               No   \n",
       "3         No             DSL            Yes           No              Yes   \n",
       "4         No     Fiber optic             No           No               No   \n",
       "\n",
       "  TechSupport StreamingTV StreamingMovies MultipleLines  \n",
       "0          No          No              No       unknown  \n",
       "1          No          No              No            No  \n",
       "2          No          No              No            No  \n",
       "3         Yes          No              No       unknown  \n",
       "4          No          No              No            No  "
      ]
     },
     "execution_count": 42,
     "metadata": {},
     "output_type": "execute_result"
    }
   ],
   "source": [
    "data_full = data_full.drop('customerID', axis=1)\n",
    "data_full.head()"
   ]
  },
  {
   "cell_type": "code",
   "execution_count": 43,
   "id": "1bec62c9",
   "metadata": {},
   "outputs": [
    {
     "data": {
      "text/plain": [
       "4"
      ]
     },
     "execution_count": 43,
     "metadata": {},
     "output_type": "execute_result"
    }
   ],
   "source": [
    "# Проверим данные на дубликаты\n",
    "data_full.duplicated().sum()"
   ]
  },
  {
   "cell_type": "code",
   "execution_count": 44,
   "id": "d7d4a9f8",
   "metadata": {},
   "outputs": [
    {
     "name": "stdout",
     "output_type": "stream",
     "text": [
      "<class 'pandas.core.frame.DataFrame'>\n",
      "RangeIndex: 7039 entries, 0 to 7038\n",
      "Data columns (total 19 columns):\n",
      " #   Column             Non-Null Count  Dtype  \n",
      "---  ------             --------------  -----  \n",
      " 0   Type               7039 non-null   object \n",
      " 1   PaperlessBilling   7039 non-null   object \n",
      " 2   PaymentMethod      7039 non-null   object \n",
      " 3   MonthlyCharges     7039 non-null   float64\n",
      " 4   TotalCharges       7039 non-null   float64\n",
      " 5   exited             7039 non-null   int64  \n",
      " 6   contract_duration  7039 non-null   int64  \n",
      " 7   gender             7039 non-null   object \n",
      " 8   SeniorCitizen      7039 non-null   object \n",
      " 9   Partner            7039 non-null   object \n",
      " 10  Dependents         7039 non-null   object \n",
      " 11  InternetService    7039 non-null   object \n",
      " 12  OnlineSecurity     7039 non-null   object \n",
      " 13  OnlineBackup       7039 non-null   object \n",
      " 14  DeviceProtection   7039 non-null   object \n",
      " 15  TechSupport        7039 non-null   object \n",
      " 16  StreamingTV        7039 non-null   object \n",
      " 17  StreamingMovies    7039 non-null   object \n",
      " 18  MultipleLines      7039 non-null   object \n",
      "dtypes: float64(2), int64(2), object(15)\n",
      "memory usage: 1.0+ MB\n"
     ]
    }
   ],
   "source": [
    "# Удалим найденные дубликаты\n",
    "data_full = data_full.drop_duplicates().reset_index(drop=True)\n",
    "data_full.info()"
   ]
  },
  {
   "cell_type": "markdown",
   "id": "4ec8fc00",
   "metadata": {},
   "source": [
    "###### Исследование корреляции признаков."
   ]
  },
  {
   "cell_type": "markdown",
   "id": "c02016e9",
   "metadata": {},
   "source": [
    "Исследуем корреляцию признаков с помощью библиотеки phik. Я планирую использовать линейную модель, для которой мультиколлинеарность будет проблемой. "
   ]
  },
  {
   "cell_type": "code",
   "execution_count": 45,
   "id": "bedbcb79",
   "metadata": {},
   "outputs": [
    {
     "data": {
      "text/html": [
       "<div>\n",
       "<style scoped>\n",
       "    .dataframe tbody tr th:only-of-type {\n",
       "        vertical-align: middle;\n",
       "    }\n",
       "\n",
       "    .dataframe tbody tr th {\n",
       "        vertical-align: top;\n",
       "    }\n",
       "\n",
       "    .dataframe thead th {\n",
       "        text-align: right;\n",
       "    }\n",
       "</style>\n",
       "<table border=\"1\" class=\"dataframe\">\n",
       "  <thead>\n",
       "    <tr style=\"text-align: right;\">\n",
       "      <th></th>\n",
       "      <th>Type</th>\n",
       "      <th>PaperlessBilling</th>\n",
       "      <th>PaymentMethod</th>\n",
       "      <th>MonthlyCharges</th>\n",
       "      <th>TotalCharges</th>\n",
       "      <th>exited</th>\n",
       "      <th>contract_duration</th>\n",
       "      <th>gender</th>\n",
       "      <th>SeniorCitizen</th>\n",
       "      <th>Partner</th>\n",
       "      <th>Dependents</th>\n",
       "      <th>InternetService</th>\n",
       "      <th>OnlineSecurity</th>\n",
       "      <th>OnlineBackup</th>\n",
       "      <th>DeviceProtection</th>\n",
       "      <th>TechSupport</th>\n",
       "      <th>StreamingTV</th>\n",
       "      <th>StreamingMovies</th>\n",
       "      <th>MultipleLines</th>\n",
       "    </tr>\n",
       "  </thead>\n",
       "  <tbody>\n",
       "    <tr>\n",
       "      <th>Type</th>\n",
       "      <td>1.000000</td>\n",
       "      <td>0.107076</td>\n",
       "      <td>0.277436</td>\n",
       "      <td>0.388268</td>\n",
       "      <td>0.470487</td>\n",
       "      <td>0.094073</td>\n",
       "      <td>0.633814</td>\n",
       "      <td>0.000000</td>\n",
       "      <td>0.086227</td>\n",
       "      <td>0.179447</td>\n",
       "      <td>0.147569</td>\n",
       "      <td>0.505769</td>\n",
       "      <td>0.637001</td>\n",
       "      <td>0.581839</td>\n",
       "      <td>0.631674</td>\n",
       "      <td>0.671733</td>\n",
       "      <td>0.549790</td>\n",
       "      <td>0.553779</td>\n",
       "      <td>0.243135</td>\n",
       "    </tr>\n",
       "    <tr>\n",
       "      <th>PaperlessBilling</th>\n",
       "      <td>0.107076</td>\n",
       "      <td>1.000000</td>\n",
       "      <td>0.369684</td>\n",
       "      <td>0.467047</td>\n",
       "      <td>0.201023</td>\n",
       "      <td>0.083159</td>\n",
       "      <td>0.025643</td>\n",
       "      <td>0.000000</td>\n",
       "      <td>0.241965</td>\n",
       "      <td>0.013973</td>\n",
       "      <td>0.173503</td>\n",
       "      <td>0.231074</td>\n",
       "      <td>0.207967</td>\n",
       "      <td>0.194901</td>\n",
       "      <td>0.195274</td>\n",
       "      <td>0.200237</td>\n",
       "      <td>0.204304</td>\n",
       "      <td>0.201824</td>\n",
       "      <td>0.099860</td>\n",
       "    </tr>\n",
       "    <tr>\n",
       "      <th>PaymentMethod</th>\n",
       "      <td>0.277436</td>\n",
       "      <td>0.369684</td>\n",
       "      <td>1.000000</td>\n",
       "      <td>0.398895</td>\n",
       "      <td>0.335398</td>\n",
       "      <td>0.214624</td>\n",
       "      <td>0.350860</td>\n",
       "      <td>0.000000</td>\n",
       "      <td>0.292447</td>\n",
       "      <td>0.242734</td>\n",
       "      <td>0.225051</td>\n",
       "      <td>0.323494</td>\n",
       "      <td>0.315245</td>\n",
       "      <td>0.292835</td>\n",
       "      <td>0.297348</td>\n",
       "      <td>0.317163</td>\n",
       "      <td>0.283987</td>\n",
       "      <td>0.284979</td>\n",
       "      <td>0.174813</td>\n",
       "    </tr>\n",
       "    <tr>\n",
       "      <th>MonthlyCharges</th>\n",
       "      <td>0.388268</td>\n",
       "      <td>0.467047</td>\n",
       "      <td>0.398895</td>\n",
       "      <td>1.000000</td>\n",
       "      <td>0.710537</td>\n",
       "      <td>0.226314</td>\n",
       "      <td>0.387011</td>\n",
       "      <td>0.010465</td>\n",
       "      <td>0.304860</td>\n",
       "      <td>0.203157</td>\n",
       "      <td>0.185158</td>\n",
       "      <td>0.918980</td>\n",
       "      <td>0.812553</td>\n",
       "      <td>0.818785</td>\n",
       "      <td>0.827209</td>\n",
       "      <td>0.816578</td>\n",
       "      <td>0.864636</td>\n",
       "      <td>0.863575</td>\n",
       "      <td>0.709954</td>\n",
       "    </tr>\n",
       "    <tr>\n",
       "      <th>TotalCharges</th>\n",
       "      <td>0.470487</td>\n",
       "      <td>0.201023</td>\n",
       "      <td>0.335398</td>\n",
       "      <td>0.710537</td>\n",
       "      <td>1.000000</td>\n",
       "      <td>0.302751</td>\n",
       "      <td>0.848304</td>\n",
       "      <td>0.000000</td>\n",
       "      <td>0.135556</td>\n",
       "      <td>0.381439</td>\n",
       "      <td>0.083553</td>\n",
       "      <td>0.489766</td>\n",
       "      <td>0.516243</td>\n",
       "      <td>0.550290</td>\n",
       "      <td>0.558149</td>\n",
       "      <td>0.527539</td>\n",
       "      <td>0.555088</td>\n",
       "      <td>0.553798</td>\n",
       "      <td>0.467550</td>\n",
       "    </tr>\n",
       "    <tr>\n",
       "      <th>exited</th>\n",
       "      <td>0.094073</td>\n",
       "      <td>0.083159</td>\n",
       "      <td>0.214624</td>\n",
       "      <td>0.226314</td>\n",
       "      <td>0.302751</td>\n",
       "      <td>1.000000</td>\n",
       "      <td>0.374361</td>\n",
       "      <td>0.009029</td>\n",
       "      <td>0.085995</td>\n",
       "      <td>0.226776</td>\n",
       "      <td>0.046841</td>\n",
       "      <td>0.056527</td>\n",
       "      <td>0.058587</td>\n",
       "      <td>0.089683</td>\n",
       "      <td>0.085582</td>\n",
       "      <td>0.051437</td>\n",
       "      <td>0.078503</td>\n",
       "      <td>0.086546</td>\n",
       "      <td>0.105152</td>\n",
       "    </tr>\n",
       "    <tr>\n",
       "      <th>contract_duration</th>\n",
       "      <td>0.633814</td>\n",
       "      <td>0.025643</td>\n",
       "      <td>0.350860</td>\n",
       "      <td>0.387011</td>\n",
       "      <td>0.848304</td>\n",
       "      <td>0.374361</td>\n",
       "      <td>1.000000</td>\n",
       "      <td>0.000000</td>\n",
       "      <td>0.063165</td>\n",
       "      <td>0.452940</td>\n",
       "      <td>0.198278</td>\n",
       "      <td>0.060400</td>\n",
       "      <td>0.346201</td>\n",
       "      <td>0.366058</td>\n",
       "      <td>0.374602</td>\n",
       "      <td>0.353258</td>\n",
       "      <td>0.306524</td>\n",
       "      <td>0.307153</td>\n",
       "      <td>0.346654</td>\n",
       "    </tr>\n",
       "    <tr>\n",
       "      <th>gender</th>\n",
       "      <td>0.000000</td>\n",
       "      <td>0.000000</td>\n",
       "      <td>0.000000</td>\n",
       "      <td>0.010465</td>\n",
       "      <td>0.000000</td>\n",
       "      <td>0.009029</td>\n",
       "      <td>0.000000</td>\n",
       "      <td>1.000000</td>\n",
       "      <td>0.000000</td>\n",
       "      <td>0.000000</td>\n",
       "      <td>0.000000</td>\n",
       "      <td>0.000000</td>\n",
       "      <td>0.001951</td>\n",
       "      <td>0.000000</td>\n",
       "      <td>0.000000</td>\n",
       "      <td>0.000000</td>\n",
       "      <td>0.000000</td>\n",
       "      <td>0.000000</td>\n",
       "      <td>0.000000</td>\n",
       "    </tr>\n",
       "    <tr>\n",
       "      <th>SeniorCitizen</th>\n",
       "      <td>0.086227</td>\n",
       "      <td>0.241965</td>\n",
       "      <td>0.292447</td>\n",
       "      <td>0.304860</td>\n",
       "      <td>0.135556</td>\n",
       "      <td>0.085995</td>\n",
       "      <td>0.063165</td>\n",
       "      <td>0.000000</td>\n",
       "      <td>1.000000</td>\n",
       "      <td>0.017018</td>\n",
       "      <td>0.324714</td>\n",
       "      <td>0.160675</td>\n",
       "      <td>0.127201</td>\n",
       "      <td>0.109890</td>\n",
       "      <td>0.110070</td>\n",
       "      <td>0.135167</td>\n",
       "      <td>0.111622</td>\n",
       "      <td>0.113693</td>\n",
       "      <td>0.087972</td>\n",
       "    </tr>\n",
       "    <tr>\n",
       "      <th>Partner</th>\n",
       "      <td>0.179447</td>\n",
       "      <td>0.013973</td>\n",
       "      <td>0.242734</td>\n",
       "      <td>0.203157</td>\n",
       "      <td>0.381439</td>\n",
       "      <td>0.226776</td>\n",
       "      <td>0.452940</td>\n",
       "      <td>0.000000</td>\n",
       "      <td>0.017018</td>\n",
       "      <td>1.000000</td>\n",
       "      <td>0.652047</td>\n",
       "      <td>0.000000</td>\n",
       "      <td>0.091110</td>\n",
       "      <td>0.091936</td>\n",
       "      <td>0.100019</td>\n",
       "      <td>0.076228</td>\n",
       "      <td>0.082180</td>\n",
       "      <td>0.077434</td>\n",
       "      <td>0.085937</td>\n",
       "    </tr>\n",
       "    <tr>\n",
       "      <th>Dependents</th>\n",
       "      <td>0.147569</td>\n",
       "      <td>0.173503</td>\n",
       "      <td>0.225051</td>\n",
       "      <td>0.185158</td>\n",
       "      <td>0.083553</td>\n",
       "      <td>0.046841</td>\n",
       "      <td>0.198278</td>\n",
       "      <td>0.000000</td>\n",
       "      <td>0.324714</td>\n",
       "      <td>0.652047</td>\n",
       "      <td>1.000000</td>\n",
       "      <td>0.108940</td>\n",
       "      <td>0.117447</td>\n",
       "      <td>0.098101</td>\n",
       "      <td>0.094952</td>\n",
       "      <td>0.110011</td>\n",
       "      <td>0.088606</td>\n",
       "      <td>0.085140</td>\n",
       "      <td>0.011466</td>\n",
       "    </tr>\n",
       "    <tr>\n",
       "      <th>InternetService</th>\n",
       "      <td>0.505769</td>\n",
       "      <td>0.231074</td>\n",
       "      <td>0.323494</td>\n",
       "      <td>0.918980</td>\n",
       "      <td>0.489766</td>\n",
       "      <td>0.056527</td>\n",
       "      <td>0.060400</td>\n",
       "      <td>0.000000</td>\n",
       "      <td>0.160675</td>\n",
       "      <td>0.000000</td>\n",
       "      <td>0.108940</td>\n",
       "      <td>1.000000</td>\n",
       "      <td>0.949513</td>\n",
       "      <td>0.942843</td>\n",
       "      <td>0.942812</td>\n",
       "      <td>0.948928</td>\n",
       "      <td>0.946707</td>\n",
       "      <td>0.946288</td>\n",
       "      <td>0.739759</td>\n",
       "    </tr>\n",
       "    <tr>\n",
       "      <th>OnlineSecurity</th>\n",
       "      <td>0.637001</td>\n",
       "      <td>0.207967</td>\n",
       "      <td>0.315245</td>\n",
       "      <td>0.812553</td>\n",
       "      <td>0.516243</td>\n",
       "      <td>0.058587</td>\n",
       "      <td>0.346201</td>\n",
       "      <td>0.001951</td>\n",
       "      <td>0.127201</td>\n",
       "      <td>0.091110</td>\n",
       "      <td>0.117447</td>\n",
       "      <td>0.949513</td>\n",
       "      <td>1.000000</td>\n",
       "      <td>0.947213</td>\n",
       "      <td>0.946777</td>\n",
       "      <td>0.952636</td>\n",
       "      <td>0.943079</td>\n",
       "      <td>0.943245</td>\n",
       "      <td>0.540177</td>\n",
       "    </tr>\n",
       "    <tr>\n",
       "      <th>OnlineBackup</th>\n",
       "      <td>0.581839</td>\n",
       "      <td>0.194901</td>\n",
       "      <td>0.292835</td>\n",
       "      <td>0.818785</td>\n",
       "      <td>0.550290</td>\n",
       "      <td>0.089683</td>\n",
       "      <td>0.366058</td>\n",
       "      <td>0.000000</td>\n",
       "      <td>0.109890</td>\n",
       "      <td>0.091936</td>\n",
       "      <td>0.098101</td>\n",
       "      <td>0.942843</td>\n",
       "      <td>0.947213</td>\n",
       "      <td>1.000000</td>\n",
       "      <td>0.947477</td>\n",
       "      <td>0.947745</td>\n",
       "      <td>0.945782</td>\n",
       "      <td>0.945388</td>\n",
       "      <td>0.562821</td>\n",
       "    </tr>\n",
       "    <tr>\n",
       "      <th>DeviceProtection</th>\n",
       "      <td>0.631674</td>\n",
       "      <td>0.195274</td>\n",
       "      <td>0.297348</td>\n",
       "      <td>0.827209</td>\n",
       "      <td>0.558149</td>\n",
       "      <td>0.085582</td>\n",
       "      <td>0.374602</td>\n",
       "      <td>0.000000</td>\n",
       "      <td>0.110070</td>\n",
       "      <td>0.100019</td>\n",
       "      <td>0.094952</td>\n",
       "      <td>0.942812</td>\n",
       "      <td>0.946777</td>\n",
       "      <td>0.947477</td>\n",
       "      <td>1.000000</td>\n",
       "      <td>0.950235</td>\n",
       "      <td>0.952853</td>\n",
       "      <td>0.953706</td>\n",
       "      <td>0.564502</td>\n",
       "    </tr>\n",
       "    <tr>\n",
       "      <th>TechSupport</th>\n",
       "      <td>0.671733</td>\n",
       "      <td>0.200237</td>\n",
       "      <td>0.317163</td>\n",
       "      <td>0.816578</td>\n",
       "      <td>0.527539</td>\n",
       "      <td>0.051437</td>\n",
       "      <td>0.353258</td>\n",
       "      <td>0.000000</td>\n",
       "      <td>0.135167</td>\n",
       "      <td>0.076228</td>\n",
       "      <td>0.110011</td>\n",
       "      <td>0.948928</td>\n",
       "      <td>0.952636</td>\n",
       "      <td>0.947745</td>\n",
       "      <td>0.950235</td>\n",
       "      <td>1.000000</td>\n",
       "      <td>0.946385</td>\n",
       "      <td>0.946408</td>\n",
       "      <td>0.541003</td>\n",
       "    </tr>\n",
       "    <tr>\n",
       "      <th>StreamingTV</th>\n",
       "      <td>0.549790</td>\n",
       "      <td>0.204304</td>\n",
       "      <td>0.283987</td>\n",
       "      <td>0.864636</td>\n",
       "      <td>0.555088</td>\n",
       "      <td>0.078503</td>\n",
       "      <td>0.306524</td>\n",
       "      <td>0.000000</td>\n",
       "      <td>0.111622</td>\n",
       "      <td>0.082180</td>\n",
       "      <td>0.088606</td>\n",
       "      <td>0.946707</td>\n",
       "      <td>0.943079</td>\n",
       "      <td>0.945782</td>\n",
       "      <td>0.952853</td>\n",
       "      <td>0.946385</td>\n",
       "      <td>1.000000</td>\n",
       "      <td>0.965297</td>\n",
       "      <td>0.585944</td>\n",
       "    </tr>\n",
       "    <tr>\n",
       "      <th>StreamingMovies</th>\n",
       "      <td>0.553779</td>\n",
       "      <td>0.201824</td>\n",
       "      <td>0.284979</td>\n",
       "      <td>0.863575</td>\n",
       "      <td>0.553798</td>\n",
       "      <td>0.086546</td>\n",
       "      <td>0.307153</td>\n",
       "      <td>0.000000</td>\n",
       "      <td>0.113693</td>\n",
       "      <td>0.077434</td>\n",
       "      <td>0.085140</td>\n",
       "      <td>0.946288</td>\n",
       "      <td>0.943245</td>\n",
       "      <td>0.945388</td>\n",
       "      <td>0.953706</td>\n",
       "      <td>0.946408</td>\n",
       "      <td>0.965297</td>\n",
       "      <td>1.000000</td>\n",
       "      <td>0.586713</td>\n",
       "    </tr>\n",
       "    <tr>\n",
       "      <th>MultipleLines</th>\n",
       "      <td>0.243135</td>\n",
       "      <td>0.099860</td>\n",
       "      <td>0.174813</td>\n",
       "      <td>0.709954</td>\n",
       "      <td>0.467550</td>\n",
       "      <td>0.105152</td>\n",
       "      <td>0.346654</td>\n",
       "      <td>0.000000</td>\n",
       "      <td>0.087972</td>\n",
       "      <td>0.085937</td>\n",
       "      <td>0.011466</td>\n",
       "      <td>0.739759</td>\n",
       "      <td>0.540177</td>\n",
       "      <td>0.562821</td>\n",
       "      <td>0.564502</td>\n",
       "      <td>0.541003</td>\n",
       "      <td>0.585944</td>\n",
       "      <td>0.586713</td>\n",
       "      <td>1.000000</td>\n",
       "    </tr>\n",
       "  </tbody>\n",
       "</table>\n",
       "</div>"
      ],
      "text/plain": [
       "                       Type  PaperlessBilling  PaymentMethod  MonthlyCharges  \\\n",
       "Type               1.000000          0.107076       0.277436        0.388268   \n",
       "PaperlessBilling   0.107076          1.000000       0.369684        0.467047   \n",
       "PaymentMethod      0.277436          0.369684       1.000000        0.398895   \n",
       "MonthlyCharges     0.388268          0.467047       0.398895        1.000000   \n",
       "TotalCharges       0.470487          0.201023       0.335398        0.710537   \n",
       "exited             0.094073          0.083159       0.214624        0.226314   \n",
       "contract_duration  0.633814          0.025643       0.350860        0.387011   \n",
       "gender             0.000000          0.000000       0.000000        0.010465   \n",
       "SeniorCitizen      0.086227          0.241965       0.292447        0.304860   \n",
       "Partner            0.179447          0.013973       0.242734        0.203157   \n",
       "Dependents         0.147569          0.173503       0.225051        0.185158   \n",
       "InternetService    0.505769          0.231074       0.323494        0.918980   \n",
       "OnlineSecurity     0.637001          0.207967       0.315245        0.812553   \n",
       "OnlineBackup       0.581839          0.194901       0.292835        0.818785   \n",
       "DeviceProtection   0.631674          0.195274       0.297348        0.827209   \n",
       "TechSupport        0.671733          0.200237       0.317163        0.816578   \n",
       "StreamingTV        0.549790          0.204304       0.283987        0.864636   \n",
       "StreamingMovies    0.553779          0.201824       0.284979        0.863575   \n",
       "MultipleLines      0.243135          0.099860       0.174813        0.709954   \n",
       "\n",
       "                   TotalCharges    exited  contract_duration    gender  \\\n",
       "Type                   0.470487  0.094073           0.633814  0.000000   \n",
       "PaperlessBilling       0.201023  0.083159           0.025643  0.000000   \n",
       "PaymentMethod          0.335398  0.214624           0.350860  0.000000   \n",
       "MonthlyCharges         0.710537  0.226314           0.387011  0.010465   \n",
       "TotalCharges           1.000000  0.302751           0.848304  0.000000   \n",
       "exited                 0.302751  1.000000           0.374361  0.009029   \n",
       "contract_duration      0.848304  0.374361           1.000000  0.000000   \n",
       "gender                 0.000000  0.009029           0.000000  1.000000   \n",
       "SeniorCitizen          0.135556  0.085995           0.063165  0.000000   \n",
       "Partner                0.381439  0.226776           0.452940  0.000000   \n",
       "Dependents             0.083553  0.046841           0.198278  0.000000   \n",
       "InternetService        0.489766  0.056527           0.060400  0.000000   \n",
       "OnlineSecurity         0.516243  0.058587           0.346201  0.001951   \n",
       "OnlineBackup           0.550290  0.089683           0.366058  0.000000   \n",
       "DeviceProtection       0.558149  0.085582           0.374602  0.000000   \n",
       "TechSupport            0.527539  0.051437           0.353258  0.000000   \n",
       "StreamingTV            0.555088  0.078503           0.306524  0.000000   \n",
       "StreamingMovies        0.553798  0.086546           0.307153  0.000000   \n",
       "MultipleLines          0.467550  0.105152           0.346654  0.000000   \n",
       "\n",
       "                   SeniorCitizen   Partner  Dependents  InternetService  \\\n",
       "Type                    0.086227  0.179447    0.147569         0.505769   \n",
       "PaperlessBilling        0.241965  0.013973    0.173503         0.231074   \n",
       "PaymentMethod           0.292447  0.242734    0.225051         0.323494   \n",
       "MonthlyCharges          0.304860  0.203157    0.185158         0.918980   \n",
       "TotalCharges            0.135556  0.381439    0.083553         0.489766   \n",
       "exited                  0.085995  0.226776    0.046841         0.056527   \n",
       "contract_duration       0.063165  0.452940    0.198278         0.060400   \n",
       "gender                  0.000000  0.000000    0.000000         0.000000   \n",
       "SeniorCitizen           1.000000  0.017018    0.324714         0.160675   \n",
       "Partner                 0.017018  1.000000    0.652047         0.000000   \n",
       "Dependents              0.324714  0.652047    1.000000         0.108940   \n",
       "InternetService         0.160675  0.000000    0.108940         1.000000   \n",
       "OnlineSecurity          0.127201  0.091110    0.117447         0.949513   \n",
       "OnlineBackup            0.109890  0.091936    0.098101         0.942843   \n",
       "DeviceProtection        0.110070  0.100019    0.094952         0.942812   \n",
       "TechSupport             0.135167  0.076228    0.110011         0.948928   \n",
       "StreamingTV             0.111622  0.082180    0.088606         0.946707   \n",
       "StreamingMovies         0.113693  0.077434    0.085140         0.946288   \n",
       "MultipleLines           0.087972  0.085937    0.011466         0.739759   \n",
       "\n",
       "                   OnlineSecurity  OnlineBackup  DeviceProtection  \\\n",
       "Type                     0.637001      0.581839          0.631674   \n",
       "PaperlessBilling         0.207967      0.194901          0.195274   \n",
       "PaymentMethod            0.315245      0.292835          0.297348   \n",
       "MonthlyCharges           0.812553      0.818785          0.827209   \n",
       "TotalCharges             0.516243      0.550290          0.558149   \n",
       "exited                   0.058587      0.089683          0.085582   \n",
       "contract_duration        0.346201      0.366058          0.374602   \n",
       "gender                   0.001951      0.000000          0.000000   \n",
       "SeniorCitizen            0.127201      0.109890          0.110070   \n",
       "Partner                  0.091110      0.091936          0.100019   \n",
       "Dependents               0.117447      0.098101          0.094952   \n",
       "InternetService          0.949513      0.942843          0.942812   \n",
       "OnlineSecurity           1.000000      0.947213          0.946777   \n",
       "OnlineBackup             0.947213      1.000000          0.947477   \n",
       "DeviceProtection         0.946777      0.947477          1.000000   \n",
       "TechSupport              0.952636      0.947745          0.950235   \n",
       "StreamingTV              0.943079      0.945782          0.952853   \n",
       "StreamingMovies          0.943245      0.945388          0.953706   \n",
       "MultipleLines            0.540177      0.562821          0.564502   \n",
       "\n",
       "                   TechSupport  StreamingTV  StreamingMovies  MultipleLines  \n",
       "Type                  0.671733     0.549790         0.553779       0.243135  \n",
       "PaperlessBilling      0.200237     0.204304         0.201824       0.099860  \n",
       "PaymentMethod         0.317163     0.283987         0.284979       0.174813  \n",
       "MonthlyCharges        0.816578     0.864636         0.863575       0.709954  \n",
       "TotalCharges          0.527539     0.555088         0.553798       0.467550  \n",
       "exited                0.051437     0.078503         0.086546       0.105152  \n",
       "contract_duration     0.353258     0.306524         0.307153       0.346654  \n",
       "gender                0.000000     0.000000         0.000000       0.000000  \n",
       "SeniorCitizen         0.135167     0.111622         0.113693       0.087972  \n",
       "Partner               0.076228     0.082180         0.077434       0.085937  \n",
       "Dependents            0.110011     0.088606         0.085140       0.011466  \n",
       "InternetService       0.948928     0.946707         0.946288       0.739759  \n",
       "OnlineSecurity        0.952636     0.943079         0.943245       0.540177  \n",
       "OnlineBackup          0.947745     0.945782         0.945388       0.562821  \n",
       "DeviceProtection      0.950235     0.952853         0.953706       0.564502  \n",
       "TechSupport           1.000000     0.946385         0.946408       0.541003  \n",
       "StreamingTV           0.946385     1.000000         0.965297       0.585944  \n",
       "StreamingMovies       0.946408     0.965297         1.000000       0.586713  \n",
       "MultipleLines         0.541003     0.585944         0.586713       1.000000  "
      ]
     },
     "execution_count": 45,
     "metadata": {},
     "output_type": "execute_result"
    }
   ],
   "source": [
    "corr = data_full.phik_matrix(interval_cols=['MonthlyCharges', 'TotalCharges', 'contract_duration'])\n",
    "corr"
   ]
  },
  {
   "cell_type": "code",
   "execution_count": 46,
   "id": "9a1903d0",
   "metadata": {},
   "outputs": [
    {
     "data": {
      "image/png": "[encoded data removed]",
      "text/plain": [
       "<Figure size 864x720 with 2 Axes>"
      ]
     },
     "metadata": {
      "needs_background": "light"
     },
     "output_type": "display_data"
    }
   ],
   "source": [
    "plt.figure(figsize = (12, 10))\n",
    "sns.heatmap(corr.round(2), cmap='coolwarm', center=0, annot=True);"
   ]
  },
  {
   "cell_type": "markdown",
   "id": "4b0c00da",
   "metadata": {},
   "source": [
    "Прослеживается высокая зависимость между некоторыми предикторами - 0.9 и выше. Удалим по одному предиктору из пары сильно скоррелированных предикторов, оставим те, связь которых с таргетом выше. Удалим столбцы: InternetService( высокая корреляция с MonthlyCharges\tи другими признаками из интернет пакета, и низкая с таргетом), OnlineSecurity, OnlineBackup, DeviceProtection, TechSupport, StreamingTV, StreamingMovies - по той же причине (высокая корреляция с расходами за месяц и очень маленькая с таргетом. Также удалим TotalCharges, т.к. есть явная высокая корреляция с новым признаком contract_duration (выбрала на основе наибольшей корреляции с таргетом)"
   ]
  },
  {
   "cell_type": "markdown",
   "id": "a84b4e85",
   "metadata": {},
   "source": [
    "На графике видно, что сильная зависимость, между таргетом (exited) и другими признаками отсутствует. Однако корреляция между таргетом и двумя признаками - полом(gender) клиента и наличием детей(Dependents) близка к 0 , значит зависимости между этими признаками нет. Этоти признаки можно удалить.\n",
    "Остальные признаки, хоть и тоже в большинстве своем не показали высокую степень зависимости с таргетом, я оставляю, чтобы у моделей было достаточно информации для обучения."
   ]
  },
  {
   "cell_type": "code",
   "execution_count": 47,
   "id": "9b9977fc",
   "metadata": {},
   "outputs": [
    {
     "data": {
      "text/html": [
       "<div>\n",
       "<style scoped>\n",
       "    .dataframe tbody tr th:only-of-type {\n",
       "        vertical-align: middle;\n",
       "    }\n",
       "\n",
       "    .dataframe tbody tr th {\n",
       "        vertical-align: top;\n",
       "    }\n",
       "\n",
       "    .dataframe thead th {\n",
       "        text-align: right;\n",
       "    }\n",
       "</style>\n",
       "<table border=\"1\" class=\"dataframe\">\n",
       "  <thead>\n",
       "    <tr style=\"text-align: right;\">\n",
       "      <th></th>\n",
       "      <th>Type</th>\n",
       "      <th>PaperlessBilling</th>\n",
       "      <th>PaymentMethod</th>\n",
       "      <th>MonthlyCharges</th>\n",
       "      <th>exited</th>\n",
       "      <th>contract_duration</th>\n",
       "      <th>SeniorCitizen</th>\n",
       "      <th>Partner</th>\n",
       "      <th>MultipleLines</th>\n",
       "    </tr>\n",
       "  </thead>\n",
       "  <tbody>\n",
       "    <tr>\n",
       "      <th>0</th>\n",
       "      <td>Month-to-month</td>\n",
       "      <td>Yes</td>\n",
       "      <td>Electronic check</td>\n",
       "      <td>29.85</td>\n",
       "      <td>0</td>\n",
       "      <td>31</td>\n",
       "      <td>0</td>\n",
       "      <td>Yes</td>\n",
       "      <td>unknown</td>\n",
       "    </tr>\n",
       "    <tr>\n",
       "      <th>1</th>\n",
       "      <td>One year</td>\n",
       "      <td>No</td>\n",
       "      <td>Mailed check</td>\n",
       "      <td>56.95</td>\n",
       "      <td>0</td>\n",
       "      <td>1036</td>\n",
       "      <td>0</td>\n",
       "      <td>No</td>\n",
       "      <td>No</td>\n",
       "    </tr>\n",
       "    <tr>\n",
       "      <th>2</th>\n",
       "      <td>Month-to-month</td>\n",
       "      <td>Yes</td>\n",
       "      <td>Mailed check</td>\n",
       "      <td>53.85</td>\n",
       "      <td>0</td>\n",
       "      <td>123</td>\n",
       "      <td>0</td>\n",
       "      <td>No</td>\n",
       "      <td>No</td>\n",
       "    </tr>\n",
       "    <tr>\n",
       "      <th>3</th>\n",
       "      <td>One year</td>\n",
       "      <td>No</td>\n",
       "      <td>Bank transfer (automatic)</td>\n",
       "      <td>42.30</td>\n",
       "      <td>0</td>\n",
       "      <td>1371</td>\n",
       "      <td>0</td>\n",
       "      <td>No</td>\n",
       "      <td>unknown</td>\n",
       "    </tr>\n",
       "    <tr>\n",
       "      <th>4</th>\n",
       "      <td>Month-to-month</td>\n",
       "      <td>Yes</td>\n",
       "      <td>Electronic check</td>\n",
       "      <td>70.70</td>\n",
       "      <td>0</td>\n",
       "      <td>153</td>\n",
       "      <td>0</td>\n",
       "      <td>No</td>\n",
       "      <td>No</td>\n",
       "    </tr>\n",
       "  </tbody>\n",
       "</table>\n",
       "</div>"
      ],
      "text/plain": [
       "             Type PaperlessBilling              PaymentMethod  MonthlyCharges  \\\n",
       "0  Month-to-month              Yes           Electronic check           29.85   \n",
       "1        One year               No               Mailed check           56.95   \n",
       "2  Month-to-month              Yes               Mailed check           53.85   \n",
       "3        One year               No  Bank transfer (automatic)           42.30   \n",
       "4  Month-to-month              Yes           Electronic check           70.70   \n",
       "\n",
       "   exited  contract_duration SeniorCitizen Partner MultipleLines  \n",
       "0       0                 31             0     Yes       unknown  \n",
       "1       0               1036             0      No            No  \n",
       "2       0                123             0      No            No  \n",
       "3       0               1371             0      No       unknown  \n",
       "4       0                153             0      No            No  "
      ]
     },
     "execution_count": 47,
     "metadata": {},
     "output_type": "execute_result"
    }
   ],
   "source": [
    "data_full = data_full.drop(['gender', 'Dependents', 'InternetService', 'OnlineSecurity', \n",
    "                            'OnlineBackup', 'DeviceProtection', 'TechSupport', \n",
    "                            'StreamingTV', 'StreamingMovies', 'TotalCharges'], axis=1)\n",
    "data_full.head()"
   ]
  },
  {
   "cell_type": "code",
   "execution_count": 48,
   "id": "18e2aac7",
   "metadata": {},
   "outputs": [
    {
     "data": {
      "text/plain": [
       "55"
      ]
     },
     "execution_count": 48,
     "metadata": {},
     "output_type": "execute_result"
    }
   ],
   "source": [
    "data_full.duplicated().sum()"
   ]
  },
  {
   "cell_type": "code",
   "execution_count": 49,
   "id": "77687844",
   "metadata": {},
   "outputs": [
    {
     "name": "stdout",
     "output_type": "stream",
     "text": [
      "<class 'pandas.core.frame.DataFrame'>\n",
      "RangeIndex: 6984 entries, 0 to 6983\n",
      "Data columns (total 9 columns):\n",
      " #   Column             Non-Null Count  Dtype  \n",
      "---  ------             --------------  -----  \n",
      " 0   Type               6984 non-null   object \n",
      " 1   PaperlessBilling   6984 non-null   object \n",
      " 2   PaymentMethod      6984 non-null   object \n",
      " 3   MonthlyCharges     6984 non-null   float64\n",
      " 4   exited             6984 non-null   int64  \n",
      " 5   contract_duration  6984 non-null   int64  \n",
      " 6   SeniorCitizen      6984 non-null   object \n",
      " 7   Partner            6984 non-null   object \n",
      " 8   MultipleLines      6984 non-null   object \n",
      "dtypes: float64(1), int64(2), object(6)\n",
      "memory usage: 491.2+ KB\n"
     ]
    }
   ],
   "source": [
    "data_full = data_full.drop_duplicates().reset_index(drop=True)\n",
    "data_full.info()"
   ]
  },
  {
   "cell_type": "code",
   "execution_count": 50,
   "id": "c1b4efab",
   "metadata": {},
   "outputs": [
    {
     "data": {
      "image/png": "[encoded data removed]",
      "text/plain": [
       "<Figure size 864x720 with 2 Axes>"
      ]
     },
     "metadata": {
      "needs_background": "light"
     },
     "output_type": "display_data"
    }
   ],
   "source": [
    "corr_new = data_full.phik_matrix(interval_cols=['MonthlyCharges', 'TotalCharges', 'contract_duration'])\n",
    "plt.figure(figsize = (12, 10))\n",
    "sns.heatmap(corr_new.round(2), cmap='coolwarm', center=0, annot=True);"
   ]
  },
  {
   "cell_type": "markdown",
   "id": "17eeadf5",
   "metadata": {},
   "source": [
    "Наиболее высокая зависимость целевой переменной наблюдается от признаков TotalCharges и contract_duration. посмотрим также на зависимость таргета от непрерывных признаков с помощью корреляции Пирсона."
   ]
  },
  {
   "cell_type": "code",
   "execution_count": 51,
   "id": "387e80ba",
   "metadata": {},
   "outputs": [
    {
     "data": {
      "image/png": "[encoded data removed]",
      "text/plain": [
       "<Figure size 576x360 with 2 Axes>"
      ]
     },
     "metadata": {
      "needs_background": "light"
     },
     "output_type": "display_data"
    }
   ],
   "source": [
    "plt.figure(figsize = (8, 5))\n",
    "sns.heatmap(data_full.corr(), annot=True);"
   ]
  },
  {
   "cell_type": "markdown",
   "id": "7a7ac84c",
   "metadata": {},
   "source": [
    "Здесь мы видим, что наибольшая зависимость целевого признака наблюдается от признака MonthlyCharges (расходов за месяц). Корреляция положительная, значит с ростом расходов за месяц растет и вероятность ухода клиента."
   ]
  },
  {
   "cell_type": "markdown",
   "id": "ea77c954",
   "metadata": {},
   "source": [
    "###### Исследование баланса классов"
   ]
  },
  {
   "cell_type": "code",
   "execution_count": 52,
   "id": "428d4fad",
   "metadata": {},
   "outputs": [
    {
     "data": {
      "image/png": "[encoded data removed]",
      "text/plain": [
       "<Figure size 432x288 with 1 Axes>"
      ]
     },
     "metadata": {
      "needs_background": "light"
     },
     "output_type": "display_data"
    }
   ],
   "source": [
    "plt.title(\"Баланс классов целевого признака\")\n",
    "plt.xlabel(\"Класс\")\n",
    "plt.ylabel(\"Количество представителей класса\")\n",
    "data_full['exited'].value_counts().plot(kind='bar');"
   ]
  },
  {
   "cell_type": "code",
   "execution_count": 53,
   "id": "a0d12c5a",
   "metadata": {},
   "outputs": [
    {
     "data": {
      "text/plain": [
       "0    0.842354\n",
       "1    0.157646\n",
       "Name: exited, dtype: float64"
      ]
     },
     "execution_count": 53,
     "metadata": {},
     "output_type": "execute_result"
    }
   ],
   "source": [
    "data_full['exited'].value_counts(normalize=True)"
   ]
  },
  {
   "cell_type": "code",
   "execution_count": 54,
   "id": "fabd744e",
   "metadata": {},
   "outputs": [
    {
     "name": "stdout",
     "output_type": "stream",
     "text": [
      "Столбец Type содержит следующие уникальные значения:['Month-to-month' 'One year' 'Two year']\n",
      "--------------------------\n",
      "Столбец PaperlessBilling содержит следующие уникальные значения:['Yes' 'No']\n",
      "--------------------------\n",
      "Столбец PaymentMethod содержит следующие уникальные значения:['Electronic check' 'Mailed check' 'Bank transfer (automatic)'\n",
      " 'Credit card (automatic)']\n",
      "--------------------------\n",
      "Столбец MonthlyCharges содержит следующие уникальные значения:[29.85 56.95 53.85 ... 63.1  44.2  78.7 ]\n",
      "--------------------------\n",
      "Столбец exited содержит следующие уникальные значения:[0 1]\n",
      "--------------------------\n",
      "Столбец contract_duration содержит следующие уникальные значения:[  31 1036  123 1371  153  337  671  306  945  882  396  488 1767 1614\n",
      "  761  670 1584 2163  641   92  365 1492 1523 2191  610 1706   62  822\n",
      " 1764  245 1401 1095  427 1948  518 1918 2102 1310 1826  580 2010 1432\n",
      " 1246  549 1949 1888  914 1279  276 1067 1461  883  881  792 1157 1581\n",
      " 1280  973 1248  184  215 1006  853 2041  702 1737 1857 1979  457  884\n",
      " 1431  485 1034  975 1551  700  942 1734 1798  730 1340 1216  943 1066\n",
      " 1096 1645 1642  273 1553 1219  303 1126 1887 2071  426 2040  911 2132\n",
      " 1736  640 1489 1675 1218 1522 1186  608  214   59   61    0 1035 1341\n",
      " 1917 1676 1795 1155  913  182  820 1430  976  579  669  486  668  760\n",
      " 1611  912 1552  275 2038 1187 1068 1003 1127 1124  274 1705  305 1308\n",
      " 1491  762  335 1185  425  609 1004 2283 1005  181  489  304 1247 1065\n",
      "  550  854 2070 1370  334  213  122  851  395  546  578  548  946  638\n",
      " 1007  456  487 1372 1582 1064  972  974 1673 1217 1156  823 1765 1369\n",
      "  791 1643  759  458 1249 1037 1644  852  790   28  212 1338  699  243\n",
      "  183  515  731  366 1583 1188  850  577 1277  519  517 1400  915  151\n",
      "  242 1278  607  393 1735 1339 1158 1704   30  944 1520  639  701 1125\n",
      " 1311 2314 2068  672  121 1612  611 1399  454 1309  424   90 1550  547\n",
      " 1915  336  516  821 2129  789   91  397 1402  703  244 2253  793]\n",
      "--------------------------\n",
      "Столбец SeniorCitizen содержит следующие уникальные значения:[0 1]\n",
      "--------------------------\n",
      "Столбец Partner содержит следующие уникальные значения:['Yes' 'No']\n",
      "--------------------------\n",
      "Столбец MultipleLines содержит следующие уникальные значения:['unknown' 'No' 'Yes']\n",
      "--------------------------\n"
     ]
    }
   ],
   "source": [
    "for i in data_full.columns:\n",
    "    print(f'Столбец {i} содержит следующие уникальные значения:{data_full[i].unique()}')\n",
    "    print('--------------------------')"
   ]
  },
  {
   "cell_type": "markdown",
   "id": "d9ccf1e9",
   "metadata": {},
   "source": [
    "На графике четко виден большой дисбаланс классов, примено 85/15. Устранять этот дисбаланс не будем, т.к. планируем пользоваться  метрикой AUC-ROC, которая не чувствительна к дисбалансу. Да и уменьшение/увеличение выборки, как способ борьбы с дисбалансом, могут привести к нежелательным последствиям: данных будет либо очень мало, либо произойдет утечка на кросс-валидации."
   ]
  },
  {
   "cell_type": "markdown",
   "id": "3a2faae9",
   "metadata": {},
   "source": [
    "**Вывод:**\n",
    "В результате анализа и предобработки объединенного датасета были сделаны следующие шаги:\n",
    "1. Найденные пропуски, заполнены константным значением. Причиной образования пропусков послужила объединение - не все клиенты компании используют оба тарифных пакета - интернет и стационарную телефонную связь.\n",
    "2. Была изучена корреляция признаков от целевого признака. В результате были удалены два признака 'gender'(пол) и 'Dependents'(наличие детей), т.к. их влияние на таргет оказалось ничтожно мало, и не будет играть большой роли в построении предсказаний моделью.\n",
    "3. Был изучен баланс классов. "
   ]
  },
  {
   "cell_type": "markdown",
   "id": "d4aa10da",
   "metadata": {},
   "source": [
    "## Подготовка данных"
   ]
  },
  {
   "cell_type": "markdown",
   "id": "7b156506",
   "metadata": {},
   "source": [
    "Применим кодирование категориальных признаков. Будем использовать OHE для линейных моделей и Ordinal Encoding для \"деревянных\" моделей."
   ]
  },
  {
   "cell_type": "code",
   "execution_count": 55,
   "id": "c2a05333",
   "metadata": {},
   "outputs": [
    {
     "data": {
      "text/plain": [
       "Index(['Type', 'PaperlessBilling', 'PaymentMethod', 'SeniorCitizen', 'Partner',\n",
       "       'MultipleLines'],\n",
       "      dtype='object')"
      ]
     },
     "execution_count": 55,
     "metadata": {},
     "output_type": "execute_result"
    }
   ],
   "source": [
    "object_columns = data_full.select_dtypes(include=['object']).columns\n",
    "object_columns"
   ]
  },
  {
   "cell_type": "markdown",
   "id": "b90e90b3",
   "metadata": {},
   "source": [
    "Разделим данние на признаки и таргет."
   ]
  },
  {
   "cell_type": "code",
   "execution_count": 56,
   "id": "a5231f07",
   "metadata": {},
   "outputs": [
    {
     "data": {
      "text/plain": [
       "(6984, 8)"
      ]
     },
     "metadata": {},
     "output_type": "display_data"
    },
    {
     "data": {
      "text/plain": [
       "(6984,)"
      ]
     },
     "metadata": {},
     "output_type": "display_data"
    }
   ],
   "source": [
    "features = data_full.drop('exited', axis=1)\n",
    "target = data_full['exited']\n",
    "\n",
    "display(features.shape)\n",
    "display(target.shape)"
   ]
  },
  {
   "cell_type": "markdown",
   "id": "dc6da479",
   "metadata": {},
   "source": [
    "Обучать модели будем с помощью кросс-валидации, поэтом валидационная выборка нам не понадобится. Разделим данные на обучающую и тестовую выборки в соотношении 3:1."
   ]
  },
  {
   "cell_type": "code",
   "execution_count": 57,
   "id": "30807aad",
   "metadata": {},
   "outputs": [
    {
     "data": {
      "text/plain": [
       "(5238, 8)"
      ]
     },
     "metadata": {},
     "output_type": "display_data"
    },
    {
     "data": {
      "text/plain": [
       "(5238,)"
      ]
     },
     "metadata": {},
     "output_type": "display_data"
    },
    {
     "data": {
      "text/plain": [
       "(1746, 8)"
      ]
     },
     "metadata": {},
     "output_type": "display_data"
    },
    {
     "data": {
      "text/plain": [
       "(1746,)"
      ]
     },
     "metadata": {},
     "output_type": "display_data"
    }
   ],
   "source": [
    "# Разделим данные на тренировочную и тестовую выборки.\n",
    "# Чтобы соотношение классов в обоих выборках было равное, укажем параметр stratify\n",
    "features_train, features_test, target_train, target_test = train_test_split(features, \n",
    "                                                                            target, \n",
    "                                                                            test_size=.25, \n",
    "                                                                            stratify=target, \n",
    "                                                                            random_state=RANDOM_STATE)\n",
    "\n",
    "display(features_train.shape)\n",
    "display(target_train.shape)\n",
    "display(features_test.shape)\n",
    "display(target_test.shape)"
   ]
  },
  {
   "cell_type": "code",
   "execution_count": 58,
   "id": "ca32b138",
   "metadata": {},
   "outputs": [
    {
     "data": {
      "text/plain": [
       "(5238, 8)"
      ]
     },
     "metadata": {},
     "output_type": "display_data"
    },
    {
     "data": {
      "text/plain": [
       "(5238,)"
      ]
     },
     "metadata": {},
     "output_type": "display_data"
    },
    {
     "data": {
      "text/plain": [
       "(1746, 8)"
      ]
     },
     "metadata": {},
     "output_type": "display_data"
    },
    {
     "data": {
      "text/plain": [
       "(1746,)"
      ]
     },
     "metadata": {},
     "output_type": "display_data"
    }
   ],
   "source": [
    "features_train = features_train.reset_index(drop=True)\n",
    "features_test = features_test.reset_index(drop=True)\n",
    "target_train = target_train.reset_index(drop=True)\n",
    "target_test = target_test.reset_index(drop=True)\n",
    "\n",
    "display(features_train.shape)\n",
    "display(target_train.shape)\n",
    "display(features_test.shape)\n",
    "display(target_test.shape)"
   ]
  },
  {
   "cell_type": "code",
   "execution_count": 59,
   "id": "40a36846",
   "metadata": {},
   "outputs": [],
   "source": [
    "encoder_ohe = OneHotEncoder(drop='first', sparse_output = False)"
   ]
  },
  {
   "cell_type": "code",
   "execution_count": 60,
   "id": "00224643",
   "metadata": {},
   "outputs": [
    {
     "data": {
      "text/html": [
       "<div>\n",
       "<style scoped>\n",
       "    .dataframe tbody tr th:only-of-type {\n",
       "        vertical-align: middle;\n",
       "    }\n",
       "\n",
       "    .dataframe tbody tr th {\n",
       "        vertical-align: top;\n",
       "    }\n",
       "\n",
       "    .dataframe thead th {\n",
       "        text-align: right;\n",
       "    }\n",
       "</style>\n",
       "<table border=\"1\" class=\"dataframe\">\n",
       "  <thead>\n",
       "    <tr style=\"text-align: right;\">\n",
       "      <th></th>\n",
       "      <th>MonthlyCharges</th>\n",
       "      <th>contract_duration</th>\n",
       "      <th>Type_One year</th>\n",
       "      <th>Type_Two year</th>\n",
       "      <th>PaperlessBilling_Yes</th>\n",
       "      <th>PaymentMethod_Credit card (automatic)</th>\n",
       "      <th>PaymentMethod_Electronic check</th>\n",
       "      <th>PaymentMethod_Mailed check</th>\n",
       "      <th>SeniorCitizen_1</th>\n",
       "      <th>Partner_Yes</th>\n",
       "      <th>MultipleLines_Yes</th>\n",
       "      <th>MultipleLines_unknown</th>\n",
       "    </tr>\n",
       "  </thead>\n",
       "  <tbody>\n",
       "    <tr>\n",
       "      <th>0</th>\n",
       "      <td>80.65</td>\n",
       "      <td>2102</td>\n",
       "      <td>0.0</td>\n",
       "      <td>1.0</td>\n",
       "      <td>0.0</td>\n",
       "      <td>0.0</td>\n",
       "      <td>0.0</td>\n",
       "      <td>0.0</td>\n",
       "      <td>0.0</td>\n",
       "      <td>1.0</td>\n",
       "      <td>0.0</td>\n",
       "      <td>0.0</td>\n",
       "    </tr>\n",
       "    <tr>\n",
       "      <th>1</th>\n",
       "      <td>101.40</td>\n",
       "      <td>1158</td>\n",
       "      <td>0.0</td>\n",
       "      <td>0.0</td>\n",
       "      <td>1.0</td>\n",
       "      <td>1.0</td>\n",
       "      <td>0.0</td>\n",
       "      <td>0.0</td>\n",
       "      <td>1.0</td>\n",
       "      <td>0.0</td>\n",
       "      <td>1.0</td>\n",
       "      <td>0.0</td>\n",
       "    </tr>\n",
       "    <tr>\n",
       "      <th>2</th>\n",
       "      <td>101.90</td>\n",
       "      <td>577</td>\n",
       "      <td>0.0</td>\n",
       "      <td>0.0</td>\n",
       "      <td>1.0</td>\n",
       "      <td>0.0</td>\n",
       "      <td>0.0</td>\n",
       "      <td>0.0</td>\n",
       "      <td>0.0</td>\n",
       "      <td>0.0</td>\n",
       "      <td>1.0</td>\n",
       "      <td>0.0</td>\n",
       "    </tr>\n",
       "    <tr>\n",
       "      <th>3</th>\n",
       "      <td>60.00</td>\n",
       "      <td>245</td>\n",
       "      <td>0.0</td>\n",
       "      <td>0.0</td>\n",
       "      <td>1.0</td>\n",
       "      <td>0.0</td>\n",
       "      <td>1.0</td>\n",
       "      <td>0.0</td>\n",
       "      <td>0.0</td>\n",
       "      <td>0.0</td>\n",
       "      <td>0.0</td>\n",
       "      <td>0.0</td>\n",
       "    </tr>\n",
       "    <tr>\n",
       "      <th>4</th>\n",
       "      <td>24.90</td>\n",
       "      <td>62</td>\n",
       "      <td>0.0</td>\n",
       "      <td>0.0</td>\n",
       "      <td>1.0</td>\n",
       "      <td>1.0</td>\n",
       "      <td>0.0</td>\n",
       "      <td>0.0</td>\n",
       "      <td>0.0</td>\n",
       "      <td>0.0</td>\n",
       "      <td>0.0</td>\n",
       "      <td>1.0</td>\n",
       "    </tr>\n",
       "  </tbody>\n",
       "</table>\n",
       "</div>"
      ],
      "text/plain": [
       "   MonthlyCharges  contract_duration  Type_One year  Type_Two year  \\\n",
       "0           80.65               2102            0.0            1.0   \n",
       "1          101.40               1158            0.0            0.0   \n",
       "2          101.90                577            0.0            0.0   \n",
       "3           60.00                245            0.0            0.0   \n",
       "4           24.90                 62            0.0            0.0   \n",
       "\n",
       "   PaperlessBilling_Yes  PaymentMethod_Credit card (automatic)  \\\n",
       "0                   0.0                                    0.0   \n",
       "1                   1.0                                    1.0   \n",
       "2                   1.0                                    0.0   \n",
       "3                   1.0                                    0.0   \n",
       "4                   1.0                                    1.0   \n",
       "\n",
       "   PaymentMethod_Electronic check  PaymentMethod_Mailed check  \\\n",
       "0                             0.0                         0.0   \n",
       "1                             0.0                         0.0   \n",
       "2                             0.0                         0.0   \n",
       "3                             1.0                         0.0   \n",
       "4                             0.0                         0.0   \n",
       "\n",
       "   SeniorCitizen_1  Partner_Yes  MultipleLines_Yes  MultipleLines_unknown  \n",
       "0              0.0          1.0                0.0                    0.0  \n",
       "1              1.0          0.0                1.0                    0.0  \n",
       "2              0.0          0.0                1.0                    0.0  \n",
       "3              0.0          0.0                0.0                    0.0  \n",
       "4              0.0          0.0                0.0                    1.0  "
      ]
     },
     "metadata": {},
     "output_type": "display_data"
    },
    {
     "name": "stdout",
     "output_type": "stream",
     "text": [
      "<class 'pandas.core.frame.DataFrame'>\n",
      "RangeIndex: 5238 entries, 0 to 5237\n",
      "Data columns (total 12 columns):\n",
      " #   Column                                 Non-Null Count  Dtype  \n",
      "---  ------                                 --------------  -----  \n",
      " 0   MonthlyCharges                         5238 non-null   float64\n",
      " 1   contract_duration                      5238 non-null   int64  \n",
      " 2   Type_One year                          5238 non-null   float64\n",
      " 3   Type_Two year                          5238 non-null   float64\n",
      " 4   PaperlessBilling_Yes                   5238 non-null   float64\n",
      " 5   PaymentMethod_Credit card (automatic)  5238 non-null   float64\n",
      " 6   PaymentMethod_Electronic check         5238 non-null   float64\n",
      " 7   PaymentMethod_Mailed check             5238 non-null   float64\n",
      " 8   SeniorCitizen_1                        5238 non-null   float64\n",
      " 9   Partner_Yes                            5238 non-null   float64\n",
      " 10  MultipleLines_Yes                      5238 non-null   float64\n",
      " 11  MultipleLines_unknown                  5238 non-null   float64\n",
      "dtypes: float64(11), int64(1)\n",
      "memory usage: 491.2 KB\n"
     ]
    },
    {
     "data": {
      "text/html": [
       "<div>\n",
       "<style scoped>\n",
       "    .dataframe tbody tr th:only-of-type {\n",
       "        vertical-align: middle;\n",
       "    }\n",
       "\n",
       "    .dataframe tbody tr th {\n",
       "        vertical-align: top;\n",
       "    }\n",
       "\n",
       "    .dataframe thead th {\n",
       "        text-align: right;\n",
       "    }\n",
       "</style>\n",
       "<table border=\"1\" class=\"dataframe\">\n",
       "  <thead>\n",
       "    <tr style=\"text-align: right;\">\n",
       "      <th></th>\n",
       "      <th>MonthlyCharges</th>\n",
       "      <th>contract_duration</th>\n",
       "      <th>Type_One year</th>\n",
       "      <th>Type_Two year</th>\n",
       "      <th>PaperlessBilling_Yes</th>\n",
       "      <th>PaymentMethod_Credit card (automatic)</th>\n",
       "      <th>PaymentMethod_Electronic check</th>\n",
       "      <th>PaymentMethod_Mailed check</th>\n",
       "      <th>SeniorCitizen_1</th>\n",
       "      <th>Partner_Yes</th>\n",
       "      <th>MultipleLines_Yes</th>\n",
       "      <th>MultipleLines_unknown</th>\n",
       "    </tr>\n",
       "  </thead>\n",
       "  <tbody>\n",
       "    <tr>\n",
       "      <th>0</th>\n",
       "      <td>80.35</td>\n",
       "      <td>1523</td>\n",
       "      <td>0.0</td>\n",
       "      <td>0.0</td>\n",
       "      <td>0.0</td>\n",
       "      <td>0.0</td>\n",
       "      <td>1.0</td>\n",
       "      <td>0.0</td>\n",
       "      <td>1.0</td>\n",
       "      <td>1.0</td>\n",
       "      <td>1.0</td>\n",
       "      <td>0.0</td>\n",
       "    </tr>\n",
       "    <tr>\n",
       "      <th>1</th>\n",
       "      <td>59.55</td>\n",
       "      <td>2041</td>\n",
       "      <td>0.0</td>\n",
       "      <td>1.0</td>\n",
       "      <td>1.0</td>\n",
       "      <td>0.0</td>\n",
       "      <td>1.0</td>\n",
       "      <td>0.0</td>\n",
       "      <td>0.0</td>\n",
       "      <td>1.0</td>\n",
       "      <td>0.0</td>\n",
       "      <td>1.0</td>\n",
       "    </tr>\n",
       "    <tr>\n",
       "      <th>2</th>\n",
       "      <td>45.10</td>\n",
       "      <td>62</td>\n",
       "      <td>0.0</td>\n",
       "      <td>0.0</td>\n",
       "      <td>0.0</td>\n",
       "      <td>0.0</td>\n",
       "      <td>1.0</td>\n",
       "      <td>0.0</td>\n",
       "      <td>1.0</td>\n",
       "      <td>0.0</td>\n",
       "      <td>0.0</td>\n",
       "      <td>0.0</td>\n",
       "    </tr>\n",
       "    <tr>\n",
       "      <th>3</th>\n",
       "      <td>84.90</td>\n",
       "      <td>1095</td>\n",
       "      <td>0.0</td>\n",
       "      <td>0.0</td>\n",
       "      <td>1.0</td>\n",
       "      <td>0.0</td>\n",
       "      <td>1.0</td>\n",
       "      <td>0.0</td>\n",
       "      <td>0.0</td>\n",
       "      <td>0.0</td>\n",
       "      <td>1.0</td>\n",
       "      <td>0.0</td>\n",
       "    </tr>\n",
       "    <tr>\n",
       "      <th>4</th>\n",
       "      <td>54.50</td>\n",
       "      <td>1157</td>\n",
       "      <td>0.0</td>\n",
       "      <td>0.0</td>\n",
       "      <td>0.0</td>\n",
       "      <td>0.0</td>\n",
       "      <td>1.0</td>\n",
       "      <td>0.0</td>\n",
       "      <td>0.0</td>\n",
       "      <td>1.0</td>\n",
       "      <td>0.0</td>\n",
       "      <td>0.0</td>\n",
       "    </tr>\n",
       "  </tbody>\n",
       "</table>\n",
       "</div>"
      ],
      "text/plain": [
       "   MonthlyCharges  contract_duration  Type_One year  Type_Two year  \\\n",
       "0           80.35               1523            0.0            0.0   \n",
       "1           59.55               2041            0.0            1.0   \n",
       "2           45.10                 62            0.0            0.0   \n",
       "3           84.90               1095            0.0            0.0   \n",
       "4           54.50               1157            0.0            0.0   \n",
       "\n",
       "   PaperlessBilling_Yes  PaymentMethod_Credit card (automatic)  \\\n",
       "0                   0.0                                    0.0   \n",
       "1                   1.0                                    0.0   \n",
       "2                   0.0                                    0.0   \n",
       "3                   1.0                                    0.0   \n",
       "4                   0.0                                    0.0   \n",
       "\n",
       "   PaymentMethod_Electronic check  PaymentMethod_Mailed check  \\\n",
       "0                             1.0                         0.0   \n",
       "1                             1.0                         0.0   \n",
       "2                             1.0                         0.0   \n",
       "3                             1.0                         0.0   \n",
       "4                             1.0                         0.0   \n",
       "\n",
       "   SeniorCitizen_1  Partner_Yes  MultipleLines_Yes  MultipleLines_unknown  \n",
       "0              1.0          1.0                1.0                    0.0  \n",
       "1              0.0          1.0                0.0                    1.0  \n",
       "2              1.0          0.0                0.0                    0.0  \n",
       "3              0.0          0.0                1.0                    0.0  \n",
       "4              0.0          1.0                0.0                    0.0  "
      ]
     },
     "metadata": {},
     "output_type": "display_data"
    },
    {
     "name": "stdout",
     "output_type": "stream",
     "text": [
      "<class 'pandas.core.frame.DataFrame'>\n",
      "RangeIndex: 1746 entries, 0 to 1745\n",
      "Data columns (total 12 columns):\n",
      " #   Column                                 Non-Null Count  Dtype  \n",
      "---  ------                                 --------------  -----  \n",
      " 0   MonthlyCharges                         1746 non-null   float64\n",
      " 1   contract_duration                      1746 non-null   int64  \n",
      " 2   Type_One year                          1746 non-null   float64\n",
      " 3   Type_Two year                          1746 non-null   float64\n",
      " 4   PaperlessBilling_Yes                   1746 non-null   float64\n",
      " 5   PaymentMethod_Credit card (automatic)  1746 non-null   float64\n",
      " 6   PaymentMethod_Electronic check         1746 non-null   float64\n",
      " 7   PaymentMethod_Mailed check             1746 non-null   float64\n",
      " 8   SeniorCitizen_1                        1746 non-null   float64\n",
      " 9   Partner_Yes                            1746 non-null   float64\n",
      " 10  MultipleLines_Yes                      1746 non-null   float64\n",
      " 11  MultipleLines_unknown                  1746 non-null   float64\n",
      "dtypes: float64(11), int64(1)\n",
      "memory usage: 163.8 KB\n"
     ]
    }
   ],
   "source": [
    "encoded_features_train_ohe = pd.DataFrame(encoder_ohe.fit_transform(features_train[object_columns]))\n",
    "encoded_features_train_ohe.columns = encoder_ohe.get_feature_names_out(object_columns)\n",
    "features_train_ohe = features_train.join(encoded_features_train_ohe)\n",
    "features_train_ohe.drop(object_columns, axis = 1, inplace = True)\n",
    "\n",
    "encoded_features_test_ohe = pd.DataFrame(encoder_ohe.transform(features_test[object_columns]))\n",
    "encoded_features_test_ohe.columns = encoder_ohe.get_feature_names_out(object_columns)\n",
    "features_test_ohe = features_test.join(encoded_features_test_ohe)\n",
    "features_test_ohe.drop(object_columns, axis = 1, inplace = True)\n",
    "\n",
    "display(features_train_ohe.head())\n",
    "features_train_ohe.info()\n",
    "\n",
    "display(features_test_ohe.head())\n",
    "features_test_ohe.info()"
   ]
  },
  {
   "cell_type": "markdown",
   "id": "6fa53528",
   "metadata": {},
   "source": [
    "Масштабируем непрерывные признаки с помощью StandardScaler()"
   ]
  },
  {
   "cell_type": "code",
   "execution_count": 61,
   "id": "e47e91bc",
   "metadata": {},
   "outputs": [
    {
     "data": {
      "text/plain": [
       "Index(['MonthlyCharges', 'contract_duration'], dtype='object')"
      ]
     },
     "execution_count": 61,
     "metadata": {},
     "output_type": "execute_result"
    }
   ],
   "source": [
    "numeric_columns = features.select_dtypes(include=['int64', 'float64' ]).columns\n",
    "numeric_columns"
   ]
  },
  {
   "cell_type": "code",
   "execution_count": 62,
   "id": "a5964b7c",
   "metadata": {},
   "outputs": [
    {
     "data": {
      "text/plain": [
       "(5238, 12)"
      ]
     },
     "metadata": {},
     "output_type": "display_data"
    },
    {
     "data": {
      "text/html": [
       "<div>\n",
       "<style scoped>\n",
       "    .dataframe tbody tr th:only-of-type {\n",
       "        vertical-align: middle;\n",
       "    }\n",
       "\n",
       "    .dataframe tbody tr th {\n",
       "        vertical-align: top;\n",
       "    }\n",
       "\n",
       "    .dataframe thead th {\n",
       "        text-align: right;\n",
       "    }\n",
       "</style>\n",
       "<table border=\"1\" class=\"dataframe\">\n",
       "  <thead>\n",
       "    <tr style=\"text-align: right;\">\n",
       "      <th></th>\n",
       "      <th>MonthlyCharges</th>\n",
       "      <th>contract_duration</th>\n",
       "      <th>Type_One year</th>\n",
       "      <th>Type_Two year</th>\n",
       "      <th>PaperlessBilling_Yes</th>\n",
       "      <th>PaymentMethod_Credit card (automatic)</th>\n",
       "      <th>PaymentMethod_Electronic check</th>\n",
       "      <th>PaymentMethod_Mailed check</th>\n",
       "      <th>SeniorCitizen_1</th>\n",
       "      <th>Partner_Yes</th>\n",
       "      <th>MultipleLines_Yes</th>\n",
       "      <th>MultipleLines_unknown</th>\n",
       "    </tr>\n",
       "  </thead>\n",
       "  <tbody>\n",
       "    <tr>\n",
       "      <th>0</th>\n",
       "      <td>0.524224</td>\n",
       "      <td>1.765531</td>\n",
       "      <td>0.0</td>\n",
       "      <td>1.0</td>\n",
       "      <td>0.0</td>\n",
       "      <td>0.0</td>\n",
       "      <td>0.0</td>\n",
       "      <td>0.0</td>\n",
       "      <td>0.0</td>\n",
       "      <td>1.0</td>\n",
       "      <td>0.0</td>\n",
       "      <td>0.0</td>\n",
       "    </tr>\n",
       "    <tr>\n",
       "      <th>1</th>\n",
       "      <td>1.214358</td>\n",
       "      <td>0.378102</td>\n",
       "      <td>0.0</td>\n",
       "      <td>0.0</td>\n",
       "      <td>1.0</td>\n",
       "      <td>1.0</td>\n",
       "      <td>0.0</td>\n",
       "      <td>0.0</td>\n",
       "      <td>1.0</td>\n",
       "      <td>0.0</td>\n",
       "      <td>1.0</td>\n",
       "      <td>0.0</td>\n",
       "    </tr>\n",
       "    <tr>\n",
       "      <th>2</th>\n",
       "      <td>1.230988</td>\n",
       "      <td>-0.475814</td>\n",
       "      <td>0.0</td>\n",
       "      <td>0.0</td>\n",
       "      <td>1.0</td>\n",
       "      <td>0.0</td>\n",
       "      <td>0.0</td>\n",
       "      <td>0.0</td>\n",
       "      <td>0.0</td>\n",
       "      <td>0.0</td>\n",
       "      <td>1.0</td>\n",
       "      <td>0.0</td>\n",
       "    </tr>\n",
       "    <tr>\n",
       "      <th>3</th>\n",
       "      <td>-0.162584</td>\n",
       "      <td>-0.963766</td>\n",
       "      <td>0.0</td>\n",
       "      <td>0.0</td>\n",
       "      <td>1.0</td>\n",
       "      <td>0.0</td>\n",
       "      <td>1.0</td>\n",
       "      <td>0.0</td>\n",
       "      <td>0.0</td>\n",
       "      <td>0.0</td>\n",
       "      <td>0.0</td>\n",
       "      <td>0.0</td>\n",
       "    </tr>\n",
       "    <tr>\n",
       "      <th>4</th>\n",
       "      <td>-1.329992</td>\n",
       "      <td>-1.232727</td>\n",
       "      <td>0.0</td>\n",
       "      <td>0.0</td>\n",
       "      <td>1.0</td>\n",
       "      <td>1.0</td>\n",
       "      <td>0.0</td>\n",
       "      <td>0.0</td>\n",
       "      <td>0.0</td>\n",
       "      <td>0.0</td>\n",
       "      <td>0.0</td>\n",
       "      <td>1.0</td>\n",
       "    </tr>\n",
       "  </tbody>\n",
       "</table>\n",
       "</div>"
      ],
      "text/plain": [
       "   MonthlyCharges  contract_duration  Type_One year  Type_Two year  \\\n",
       "0        0.524224           1.765531            0.0            1.0   \n",
       "1        1.214358           0.378102            0.0            0.0   \n",
       "2        1.230988          -0.475814            0.0            0.0   \n",
       "3       -0.162584          -0.963766            0.0            0.0   \n",
       "4       -1.329992          -1.232727            0.0            0.0   \n",
       "\n",
       "   PaperlessBilling_Yes  PaymentMethod_Credit card (automatic)  \\\n",
       "0                   0.0                                    0.0   \n",
       "1                   1.0                                    1.0   \n",
       "2                   1.0                                    0.0   \n",
       "3                   1.0                                    0.0   \n",
       "4                   1.0                                    1.0   \n",
       "\n",
       "   PaymentMethod_Electronic check  PaymentMethod_Mailed check  \\\n",
       "0                             0.0                         0.0   \n",
       "1                             0.0                         0.0   \n",
       "2                             0.0                         0.0   \n",
       "3                             1.0                         0.0   \n",
       "4                             0.0                         0.0   \n",
       "\n",
       "   SeniorCitizen_1  Partner_Yes  MultipleLines_Yes  MultipleLines_unknown  \n",
       "0              0.0          1.0                0.0                    0.0  \n",
       "1              1.0          0.0                1.0                    0.0  \n",
       "2              0.0          0.0                1.0                    0.0  \n",
       "3              0.0          0.0                0.0                    0.0  \n",
       "4              0.0          0.0                0.0                    1.0  "
      ]
     },
     "metadata": {},
     "output_type": "display_data"
    },
    {
     "data": {
      "text/plain": [
       "(1746, 12)"
      ]
     },
     "metadata": {},
     "output_type": "display_data"
    },
    {
     "data": {
      "text/html": [
       "<div>\n",
       "<style scoped>\n",
       "    .dataframe tbody tr th:only-of-type {\n",
       "        vertical-align: middle;\n",
       "    }\n",
       "\n",
       "    .dataframe tbody tr th {\n",
       "        vertical-align: top;\n",
       "    }\n",
       "\n",
       "    .dataframe thead th {\n",
       "        text-align: right;\n",
       "    }\n",
       "</style>\n",
       "<table border=\"1\" class=\"dataframe\">\n",
       "  <thead>\n",
       "    <tr style=\"text-align: right;\">\n",
       "      <th></th>\n",
       "      <th>MonthlyCharges</th>\n",
       "      <th>contract_duration</th>\n",
       "      <th>Type_One year</th>\n",
       "      <th>Type_Two year</th>\n",
       "      <th>PaperlessBilling_Yes</th>\n",
       "      <th>PaymentMethod_Credit card (automatic)</th>\n",
       "      <th>PaymentMethod_Electronic check</th>\n",
       "      <th>PaymentMethod_Mailed check</th>\n",
       "      <th>SeniorCitizen_1</th>\n",
       "      <th>Partner_Yes</th>\n",
       "      <th>MultipleLines_Yes</th>\n",
       "      <th>MultipleLines_unknown</th>\n",
       "    </tr>\n",
       "  </thead>\n",
       "  <tbody>\n",
       "    <tr>\n",
       "      <th>0</th>\n",
       "      <td>0.514246</td>\n",
       "      <td>0.914555</td>\n",
       "      <td>0.0</td>\n",
       "      <td>0.0</td>\n",
       "      <td>0.0</td>\n",
       "      <td>0.0</td>\n",
       "      <td>1.0</td>\n",
       "      <td>0.0</td>\n",
       "      <td>1.0</td>\n",
       "      <td>1.0</td>\n",
       "      <td>1.0</td>\n",
       "      <td>0.0</td>\n",
       "    </tr>\n",
       "    <tr>\n",
       "      <th>1</th>\n",
       "      <td>-0.177551</td>\n",
       "      <td>1.675877</td>\n",
       "      <td>0.0</td>\n",
       "      <td>1.0</td>\n",
       "      <td>1.0</td>\n",
       "      <td>0.0</td>\n",
       "      <td>1.0</td>\n",
       "      <td>0.0</td>\n",
       "      <td>0.0</td>\n",
       "      <td>1.0</td>\n",
       "      <td>0.0</td>\n",
       "      <td>1.0</td>\n",
       "    </tr>\n",
       "    <tr>\n",
       "      <th>2</th>\n",
       "      <td>-0.658150</td>\n",
       "      <td>-1.232727</td>\n",
       "      <td>0.0</td>\n",
       "      <td>0.0</td>\n",
       "      <td>0.0</td>\n",
       "      <td>0.0</td>\n",
       "      <td>1.0</td>\n",
       "      <td>0.0</td>\n",
       "      <td>1.0</td>\n",
       "      <td>0.0</td>\n",
       "      <td>0.0</td>\n",
       "      <td>0.0</td>\n",
       "    </tr>\n",
       "    <tr>\n",
       "      <th>3</th>\n",
       "      <td>0.665577</td>\n",
       "      <td>0.285508</td>\n",
       "      <td>0.0</td>\n",
       "      <td>0.0</td>\n",
       "      <td>1.0</td>\n",
       "      <td>0.0</td>\n",
       "      <td>1.0</td>\n",
       "      <td>0.0</td>\n",
       "      <td>0.0</td>\n",
       "      <td>0.0</td>\n",
       "      <td>1.0</td>\n",
       "      <td>0.0</td>\n",
       "    </tr>\n",
       "    <tr>\n",
       "      <th>4</th>\n",
       "      <td>-0.345511</td>\n",
       "      <td>0.376632</td>\n",
       "      <td>0.0</td>\n",
       "      <td>0.0</td>\n",
       "      <td>0.0</td>\n",
       "      <td>0.0</td>\n",
       "      <td>1.0</td>\n",
       "      <td>0.0</td>\n",
       "      <td>0.0</td>\n",
       "      <td>1.0</td>\n",
       "      <td>0.0</td>\n",
       "      <td>0.0</td>\n",
       "    </tr>\n",
       "  </tbody>\n",
       "</table>\n",
       "</div>"
      ],
      "text/plain": [
       "   MonthlyCharges  contract_duration  Type_One year  Type_Two year  \\\n",
       "0        0.514246           0.914555            0.0            0.0   \n",
       "1       -0.177551           1.675877            0.0            1.0   \n",
       "2       -0.658150          -1.232727            0.0            0.0   \n",
       "3        0.665577           0.285508            0.0            0.0   \n",
       "4       -0.345511           0.376632            0.0            0.0   \n",
       "\n",
       "   PaperlessBilling_Yes  PaymentMethod_Credit card (automatic)  \\\n",
       "0                   0.0                                    0.0   \n",
       "1                   1.0                                    0.0   \n",
       "2                   0.0                                    0.0   \n",
       "3                   1.0                                    0.0   \n",
       "4                   0.0                                    0.0   \n",
       "\n",
       "   PaymentMethod_Electronic check  PaymentMethod_Mailed check  \\\n",
       "0                             1.0                         0.0   \n",
       "1                             1.0                         0.0   \n",
       "2                             1.0                         0.0   \n",
       "3                             1.0                         0.0   \n",
       "4                             1.0                         0.0   \n",
       "\n",
       "   SeniorCitizen_1  Partner_Yes  MultipleLines_Yes  MultipleLines_unknown  \n",
       "0              1.0          1.0                1.0                    0.0  \n",
       "1              0.0          1.0                0.0                    1.0  \n",
       "2              1.0          0.0                0.0                    0.0  \n",
       "3              0.0          0.0                1.0                    0.0  \n",
       "4              0.0          1.0                0.0                    0.0  "
      ]
     },
     "metadata": {},
     "output_type": "display_data"
    }
   ],
   "source": [
    "scaler = StandardScaler()\n",
    "scaler.fit(features_train_ohe[numeric_columns])\n",
    "features_train_ohe[numeric_columns] = scaler.transform(features_train_ohe[numeric_columns])\n",
    "features_test_ohe[numeric_columns] = scaler.transform(features_test_ohe[numeric_columns])\n",
    "\n",
    "display(features_train_ohe.shape)\n",
    "display(features_train_ohe.head())\n",
    "display(features_test_ohe.shape)\n",
    "display(features_test_ohe.head())"
   ]
  },
  {
   "cell_type": "markdown",
   "id": "778bc2ca",
   "metadata": {},
   "source": [
    "Подготовим данные с помощью Ordinal Encoder"
   ]
  },
  {
   "cell_type": "code",
   "execution_count": 63,
   "id": "17b4ebb9",
   "metadata": {},
   "outputs": [],
   "source": [
    "features_train_ord = features_train.copy()\n",
    "features_test_ord = features_test.copy()"
   ]
  },
  {
   "cell_type": "code",
   "execution_count": 64,
   "id": "c4b217b1",
   "metadata": {},
   "outputs": [],
   "source": [
    "encoder_ord = OrdinalEncoder(handle_unknown='use_encoded_value', unknown_value=-1)"
   ]
  },
  {
   "cell_type": "code",
   "execution_count": 65,
   "id": "4dab152c",
   "metadata": {},
   "outputs": [
    {
     "data": {
      "text/plain": [
       "(5238, 8)"
      ]
     },
     "metadata": {},
     "output_type": "display_data"
    },
    {
     "data": {
      "text/html": [
       "<div>\n",
       "<style scoped>\n",
       "    .dataframe tbody tr th:only-of-type {\n",
       "        vertical-align: middle;\n",
       "    }\n",
       "\n",
       "    .dataframe tbody tr th {\n",
       "        vertical-align: top;\n",
       "    }\n",
       "\n",
       "    .dataframe thead th {\n",
       "        text-align: right;\n",
       "    }\n",
       "</style>\n",
       "<table border=\"1\" class=\"dataframe\">\n",
       "  <thead>\n",
       "    <tr style=\"text-align: right;\">\n",
       "      <th></th>\n",
       "      <th>Type</th>\n",
       "      <th>PaperlessBilling</th>\n",
       "      <th>PaymentMethod</th>\n",
       "      <th>MonthlyCharges</th>\n",
       "      <th>contract_duration</th>\n",
       "      <th>SeniorCitizen</th>\n",
       "      <th>Partner</th>\n",
       "      <th>MultipleLines</th>\n",
       "    </tr>\n",
       "  </thead>\n",
       "  <tbody>\n",
       "    <tr>\n",
       "      <th>0</th>\n",
       "      <td>2.0</td>\n",
       "      <td>0.0</td>\n",
       "      <td>0.0</td>\n",
       "      <td>80.65</td>\n",
       "      <td>2102</td>\n",
       "      <td>0.0</td>\n",
       "      <td>1.0</td>\n",
       "      <td>0.0</td>\n",
       "    </tr>\n",
       "    <tr>\n",
       "      <th>1</th>\n",
       "      <td>0.0</td>\n",
       "      <td>1.0</td>\n",
       "      <td>1.0</td>\n",
       "      <td>101.40</td>\n",
       "      <td>1158</td>\n",
       "      <td>1.0</td>\n",
       "      <td>0.0</td>\n",
       "      <td>1.0</td>\n",
       "    </tr>\n",
       "    <tr>\n",
       "      <th>2</th>\n",
       "      <td>0.0</td>\n",
       "      <td>1.0</td>\n",
       "      <td>0.0</td>\n",
       "      <td>101.90</td>\n",
       "      <td>577</td>\n",
       "      <td>0.0</td>\n",
       "      <td>0.0</td>\n",
       "      <td>1.0</td>\n",
       "    </tr>\n",
       "    <tr>\n",
       "      <th>3</th>\n",
       "      <td>0.0</td>\n",
       "      <td>1.0</td>\n",
       "      <td>2.0</td>\n",
       "      <td>60.00</td>\n",
       "      <td>245</td>\n",
       "      <td>0.0</td>\n",
       "      <td>0.0</td>\n",
       "      <td>0.0</td>\n",
       "    </tr>\n",
       "    <tr>\n",
       "      <th>4</th>\n",
       "      <td>0.0</td>\n",
       "      <td>1.0</td>\n",
       "      <td>1.0</td>\n",
       "      <td>24.90</td>\n",
       "      <td>62</td>\n",
       "      <td>0.0</td>\n",
       "      <td>0.0</td>\n",
       "      <td>2.0</td>\n",
       "    </tr>\n",
       "  </tbody>\n",
       "</table>\n",
       "</div>"
      ],
      "text/plain": [
       "   Type  PaperlessBilling  PaymentMethod  MonthlyCharges  contract_duration  \\\n",
       "0   2.0               0.0            0.0           80.65               2102   \n",
       "1   0.0               1.0            1.0          101.40               1158   \n",
       "2   0.0               1.0            0.0          101.90                577   \n",
       "3   0.0               1.0            2.0           60.00                245   \n",
       "4   0.0               1.0            1.0           24.90                 62   \n",
       "\n",
       "   SeniorCitizen  Partner  MultipleLines  \n",
       "0            0.0      1.0            0.0  \n",
       "1            1.0      0.0            1.0  \n",
       "2            0.0      0.0            1.0  \n",
       "3            0.0      0.0            0.0  \n",
       "4            0.0      0.0            2.0  "
      ]
     },
     "metadata": {},
     "output_type": "display_data"
    },
    {
     "data": {
      "text/plain": [
       "(1746, 8)"
      ]
     },
     "metadata": {},
     "output_type": "display_data"
    },
    {
     "data": {
      "text/html": [
       "<div>\n",
       "<style scoped>\n",
       "    .dataframe tbody tr th:only-of-type {\n",
       "        vertical-align: middle;\n",
       "    }\n",
       "\n",
       "    .dataframe tbody tr th {\n",
       "        vertical-align: top;\n",
       "    }\n",
       "\n",
       "    .dataframe thead th {\n",
       "        text-align: right;\n",
       "    }\n",
       "</style>\n",
       "<table border=\"1\" class=\"dataframe\">\n",
       "  <thead>\n",
       "    <tr style=\"text-align: right;\">\n",
       "      <th></th>\n",
       "      <th>Type</th>\n",
       "      <th>PaperlessBilling</th>\n",
       "      <th>PaymentMethod</th>\n",
       "      <th>MonthlyCharges</th>\n",
       "      <th>contract_duration</th>\n",
       "      <th>SeniorCitizen</th>\n",
       "      <th>Partner</th>\n",
       "      <th>MultipleLines</th>\n",
       "    </tr>\n",
       "  </thead>\n",
       "  <tbody>\n",
       "    <tr>\n",
       "      <th>0</th>\n",
       "      <td>0.0</td>\n",
       "      <td>0.0</td>\n",
       "      <td>2.0</td>\n",
       "      <td>80.35</td>\n",
       "      <td>1523</td>\n",
       "      <td>1.0</td>\n",
       "      <td>1.0</td>\n",
       "      <td>1.0</td>\n",
       "    </tr>\n",
       "    <tr>\n",
       "      <th>1</th>\n",
       "      <td>2.0</td>\n",
       "      <td>1.0</td>\n",
       "      <td>2.0</td>\n",
       "      <td>59.55</td>\n",
       "      <td>2041</td>\n",
       "      <td>0.0</td>\n",
       "      <td>1.0</td>\n",
       "      <td>2.0</td>\n",
       "    </tr>\n",
       "    <tr>\n",
       "      <th>2</th>\n",
       "      <td>0.0</td>\n",
       "      <td>0.0</td>\n",
       "      <td>2.0</td>\n",
       "      <td>45.10</td>\n",
       "      <td>62</td>\n",
       "      <td>1.0</td>\n",
       "      <td>0.0</td>\n",
       "      <td>0.0</td>\n",
       "    </tr>\n",
       "    <tr>\n",
       "      <th>3</th>\n",
       "      <td>0.0</td>\n",
       "      <td>1.0</td>\n",
       "      <td>2.0</td>\n",
       "      <td>84.90</td>\n",
       "      <td>1095</td>\n",
       "      <td>0.0</td>\n",
       "      <td>0.0</td>\n",
       "      <td>1.0</td>\n",
       "    </tr>\n",
       "    <tr>\n",
       "      <th>4</th>\n",
       "      <td>0.0</td>\n",
       "      <td>0.0</td>\n",
       "      <td>2.0</td>\n",
       "      <td>54.50</td>\n",
       "      <td>1157</td>\n",
       "      <td>0.0</td>\n",
       "      <td>1.0</td>\n",
       "      <td>0.0</td>\n",
       "    </tr>\n",
       "  </tbody>\n",
       "</table>\n",
       "</div>"
      ],
      "text/plain": [
       "   Type  PaperlessBilling  PaymentMethod  MonthlyCharges  contract_duration  \\\n",
       "0   0.0               0.0            2.0           80.35               1523   \n",
       "1   2.0               1.0            2.0           59.55               2041   \n",
       "2   0.0               0.0            2.0           45.10                 62   \n",
       "3   0.0               1.0            2.0           84.90               1095   \n",
       "4   0.0               0.0            2.0           54.50               1157   \n",
       "\n",
       "   SeniorCitizen  Partner  MultipleLines  \n",
       "0            1.0      1.0            1.0  \n",
       "1            0.0      1.0            2.0  \n",
       "2            1.0      0.0            0.0  \n",
       "3            0.0      0.0            1.0  \n",
       "4            0.0      1.0            0.0  "
      ]
     },
     "metadata": {},
     "output_type": "display_data"
    }
   ],
   "source": [
    "encoder_ord.fit(features_train[object_columns])\n",
    "features_train_ord[object_columns] = encoder_ord.transform(features_train_ord[object_columns])\n",
    "features_test_ord[object_columns] = encoder_ord.transform(features_test_ord[object_columns])\n",
    "\n",
    "display(features_train_ord.shape)\n",
    "display(features_train_ord.head())\n",
    "display(features_test_ord.shape)\n",
    "display(features_test_ord.head())"
   ]
  },
  {
   "cell_type": "code",
   "execution_count": 66,
   "id": "33fcc844",
   "metadata": {},
   "outputs": [
    {
     "data": {
      "text/plain": [
       "(5238, 8)"
      ]
     },
     "metadata": {},
     "output_type": "display_data"
    },
    {
     "data": {
      "text/html": [
       "<div>\n",
       "<style scoped>\n",
       "    .dataframe tbody tr th:only-of-type {\n",
       "        vertical-align: middle;\n",
       "    }\n",
       "\n",
       "    .dataframe tbody tr th {\n",
       "        vertical-align: top;\n",
       "    }\n",
       "\n",
       "    .dataframe thead th {\n",
       "        text-align: right;\n",
       "    }\n",
       "</style>\n",
       "<table border=\"1\" class=\"dataframe\">\n",
       "  <thead>\n",
       "    <tr style=\"text-align: right;\">\n",
       "      <th></th>\n",
       "      <th>Type</th>\n",
       "      <th>PaperlessBilling</th>\n",
       "      <th>PaymentMethod</th>\n",
       "      <th>MonthlyCharges</th>\n",
       "      <th>contract_duration</th>\n",
       "      <th>SeniorCitizen</th>\n",
       "      <th>Partner</th>\n",
       "      <th>MultipleLines</th>\n",
       "    </tr>\n",
       "  </thead>\n",
       "  <tbody>\n",
       "    <tr>\n",
       "      <th>0</th>\n",
       "      <td>2.0</td>\n",
       "      <td>0.0</td>\n",
       "      <td>0.0</td>\n",
       "      <td>0.524224</td>\n",
       "      <td>1.765531</td>\n",
       "      <td>0.0</td>\n",
       "      <td>1.0</td>\n",
       "      <td>0.0</td>\n",
       "    </tr>\n",
       "    <tr>\n",
       "      <th>1</th>\n",
       "      <td>0.0</td>\n",
       "      <td>1.0</td>\n",
       "      <td>1.0</td>\n",
       "      <td>1.214358</td>\n",
       "      <td>0.378102</td>\n",
       "      <td>1.0</td>\n",
       "      <td>0.0</td>\n",
       "      <td>1.0</td>\n",
       "    </tr>\n",
       "    <tr>\n",
       "      <th>2</th>\n",
       "      <td>0.0</td>\n",
       "      <td>1.0</td>\n",
       "      <td>0.0</td>\n",
       "      <td>1.230988</td>\n",
       "      <td>-0.475814</td>\n",
       "      <td>0.0</td>\n",
       "      <td>0.0</td>\n",
       "      <td>1.0</td>\n",
       "    </tr>\n",
       "    <tr>\n",
       "      <th>3</th>\n",
       "      <td>0.0</td>\n",
       "      <td>1.0</td>\n",
       "      <td>2.0</td>\n",
       "      <td>-0.162584</td>\n",
       "      <td>-0.963766</td>\n",
       "      <td>0.0</td>\n",
       "      <td>0.0</td>\n",
       "      <td>0.0</td>\n",
       "    </tr>\n",
       "    <tr>\n",
       "      <th>4</th>\n",
       "      <td>0.0</td>\n",
       "      <td>1.0</td>\n",
       "      <td>1.0</td>\n",
       "      <td>-1.329992</td>\n",
       "      <td>-1.232727</td>\n",
       "      <td>0.0</td>\n",
       "      <td>0.0</td>\n",
       "      <td>2.0</td>\n",
       "    </tr>\n",
       "  </tbody>\n",
       "</table>\n",
       "</div>"
      ],
      "text/plain": [
       "   Type  PaperlessBilling  PaymentMethod  MonthlyCharges  contract_duration  \\\n",
       "0   2.0               0.0            0.0        0.524224           1.765531   \n",
       "1   0.0               1.0            1.0        1.214358           0.378102   \n",
       "2   0.0               1.0            0.0        1.230988          -0.475814   \n",
       "3   0.0               1.0            2.0       -0.162584          -0.963766   \n",
       "4   0.0               1.0            1.0       -1.329992          -1.232727   \n",
       "\n",
       "   SeniorCitizen  Partner  MultipleLines  \n",
       "0            0.0      1.0            0.0  \n",
       "1            1.0      0.0            1.0  \n",
       "2            0.0      0.0            1.0  \n",
       "3            0.0      0.0            0.0  \n",
       "4            0.0      0.0            2.0  "
      ]
     },
     "metadata": {},
     "output_type": "display_data"
    },
    {
     "data": {
      "text/plain": [
       "(1746, 8)"
      ]
     },
     "metadata": {},
     "output_type": "display_data"
    },
    {
     "data": {
      "text/html": [
       "<div>\n",
       "<style scoped>\n",
       "    .dataframe tbody tr th:only-of-type {\n",
       "        vertical-align: middle;\n",
       "    }\n",
       "\n",
       "    .dataframe tbody tr th {\n",
       "        vertical-align: top;\n",
       "    }\n",
       "\n",
       "    .dataframe thead th {\n",
       "        text-align: right;\n",
       "    }\n",
       "</style>\n",
       "<table border=\"1\" class=\"dataframe\">\n",
       "  <thead>\n",
       "    <tr style=\"text-align: right;\">\n",
       "      <th></th>\n",
       "      <th>Type</th>\n",
       "      <th>PaperlessBilling</th>\n",
       "      <th>PaymentMethod</th>\n",
       "      <th>MonthlyCharges</th>\n",
       "      <th>contract_duration</th>\n",
       "      <th>SeniorCitizen</th>\n",
       "      <th>Partner</th>\n",
       "      <th>MultipleLines</th>\n",
       "    </tr>\n",
       "  </thead>\n",
       "  <tbody>\n",
       "    <tr>\n",
       "      <th>0</th>\n",
       "      <td>0.0</td>\n",
       "      <td>0.0</td>\n",
       "      <td>2.0</td>\n",
       "      <td>0.514246</td>\n",
       "      <td>0.914555</td>\n",
       "      <td>1.0</td>\n",
       "      <td>1.0</td>\n",
       "      <td>1.0</td>\n",
       "    </tr>\n",
       "    <tr>\n",
       "      <th>1</th>\n",
       "      <td>2.0</td>\n",
       "      <td>1.0</td>\n",
       "      <td>2.0</td>\n",
       "      <td>-0.177551</td>\n",
       "      <td>1.675877</td>\n",
       "      <td>0.0</td>\n",
       "      <td>1.0</td>\n",
       "      <td>2.0</td>\n",
       "    </tr>\n",
       "    <tr>\n",
       "      <th>2</th>\n",
       "      <td>0.0</td>\n",
       "      <td>0.0</td>\n",
       "      <td>2.0</td>\n",
       "      <td>-0.658150</td>\n",
       "      <td>-1.232727</td>\n",
       "      <td>1.0</td>\n",
       "      <td>0.0</td>\n",
       "      <td>0.0</td>\n",
       "    </tr>\n",
       "    <tr>\n",
       "      <th>3</th>\n",
       "      <td>0.0</td>\n",
       "      <td>1.0</td>\n",
       "      <td>2.0</td>\n",
       "      <td>0.665577</td>\n",
       "      <td>0.285508</td>\n",
       "      <td>0.0</td>\n",
       "      <td>0.0</td>\n",
       "      <td>1.0</td>\n",
       "    </tr>\n",
       "    <tr>\n",
       "      <th>4</th>\n",
       "      <td>0.0</td>\n",
       "      <td>0.0</td>\n",
       "      <td>2.0</td>\n",
       "      <td>-0.345511</td>\n",
       "      <td>0.376632</td>\n",
       "      <td>0.0</td>\n",
       "      <td>1.0</td>\n",
       "      <td>0.0</td>\n",
       "    </tr>\n",
       "  </tbody>\n",
       "</table>\n",
       "</div>"
      ],
      "text/plain": [
       "   Type  PaperlessBilling  PaymentMethod  MonthlyCharges  contract_duration  \\\n",
       "0   0.0               0.0            2.0        0.514246           0.914555   \n",
       "1   2.0               1.0            2.0       -0.177551           1.675877   \n",
       "2   0.0               0.0            2.0       -0.658150          -1.232727   \n",
       "3   0.0               1.0            2.0        0.665577           0.285508   \n",
       "4   0.0               0.0            2.0       -0.345511           0.376632   \n",
       "\n",
       "   SeniorCitizen  Partner  MultipleLines  \n",
       "0            1.0      1.0            1.0  \n",
       "1            0.0      1.0            2.0  \n",
       "2            1.0      0.0            0.0  \n",
       "3            0.0      0.0            1.0  \n",
       "4            0.0      1.0            0.0  "
      ]
     },
     "metadata": {},
     "output_type": "display_data"
    }
   ],
   "source": [
    "# Масштабируем признаки\n",
    "scaler = StandardScaler()\n",
    "scaler.fit(features_train_ord[numeric_columns])\n",
    "features_train_ord[numeric_columns] = scaler.transform(features_train_ord[numeric_columns])\n",
    "features_test_ord[numeric_columns] = scaler.transform(features_test_ord[numeric_columns])\n",
    "\n",
    "display(features_train_ord.shape)\n",
    "display(features_train_ord.head())\n",
    "display(features_test_ord.shape)\n",
    "display(features_test_ord.head())"
   ]
  },
  {
   "cell_type": "markdown",
   "id": "080d7766",
   "metadata": {},
   "source": [
    "**Вывод:**\n",
    "Подготовлены признаки для дальнейшей передачи их моделям. Для линейной модели применили метод кодирования категориальных признаков OHE, для деревянных - порядковое кодирование. Также полученные признаки были масштабироваан."
   ]
  },
  {
   "cell_type": "markdown",
   "id": "4f0d2b68",
   "metadata": {},
   "source": [
    "## Обучение моделей машинного обучения."
   ]
  },
  {
   "cell_type": "markdown",
   "id": "9b3017db",
   "metadata": {},
   "source": [
    "###### LogisticRegression"
   ]
  },
  {
   "cell_type": "code",
   "execution_count": 67,
   "id": "506a8588",
   "metadata": {},
   "outputs": [
    {
     "name": "stdout",
     "output_type": "stream",
     "text": [
      "ROC-AUC: 0.7430066176876553\n",
      "Accuracy: 0.8547148523225209\n"
     ]
    }
   ],
   "source": [
    "model_lr = LogisticRegression(random_state=RANDOM_STATE)\n",
    "cross_val_lr = cross_validate(model_lr, \n",
    "                             features_train_ohe, \n",
    "                             target_train, \n",
    "                             cv=5, \n",
    "                             scoring=['roc_auc', 'accuracy'])\n",
    "roc_auc = cross_val_lr['test_roc_auc'].mean()\n",
    "accuracy = cross_val_lr['test_accuracy'].mean()\n",
    "\n",
    "print('ROC-AUC:', roc_auc)\n",
    "print('Accuracy:',accuracy)"
   ]
  },
  {
   "cell_type": "markdown",
   "id": "492669f7",
   "metadata": {},
   "source": [
    "В результате кросс-валидации мы получили значение метрики roc_auc 0.74. Accuracy получилась довольно высокой 0.85,но опираться на этот показатель будет неправильно, т.к. метрика не устойчива к дисбалансу классов. "
   ]
  },
  {
   "cell_type": "markdown",
   "id": "5da1ba20",
   "metadata": {},
   "source": [
    "Проанализируем важность признаков для обучения нашей линейной модели."
   ]
  },
  {
   "cell_type": "code",
   "execution_count": 68,
   "id": "7158e703",
   "metadata": {},
   "outputs": [
    {
     "data": {
      "text/html": [
       "<div>\n",
       "<style scoped>\n",
       "    .dataframe tbody tr th:only-of-type {\n",
       "        vertical-align: middle;\n",
       "    }\n",
       "\n",
       "    .dataframe tbody tr th {\n",
       "        vertical-align: top;\n",
       "    }\n",
       "\n",
       "    .dataframe thead th {\n",
       "        text-align: right;\n",
       "    }\n",
       "</style>\n",
       "<table border=\"1\" class=\"dataframe\">\n",
       "  <thead>\n",
       "    <tr style=\"text-align: right;\">\n",
       "      <th></th>\n",
       "      <th>importance</th>\n",
       "    </tr>\n",
       "  </thead>\n",
       "  <tbody>\n",
       "    <tr>\n",
       "      <th>PaymentMethod_Mailed check</th>\n",
       "      <td>-0.932855</td>\n",
       "    </tr>\n",
       "    <tr>\n",
       "      <th>contract_duration</th>\n",
       "      <td>-0.898095</td>\n",
       "    </tr>\n",
       "    <tr>\n",
       "      <th>PaymentMethod_Electronic check</th>\n",
       "      <td>-0.314457</td>\n",
       "    </tr>\n",
       "    <tr>\n",
       "      <th>PaymentMethod_Credit card (automatic)</th>\n",
       "      <td>-0.043829</td>\n",
       "    </tr>\n",
       "    <tr>\n",
       "      <th>PaperlessBilling_Yes</th>\n",
       "      <td>0.230299</td>\n",
       "    </tr>\n",
       "    <tr>\n",
       "      <th>SeniorCitizen_1</th>\n",
       "      <td>0.256142</td>\n",
       "    </tr>\n",
       "    <tr>\n",
       "      <th>MonthlyCharges</th>\n",
       "      <td>0.390839</td>\n",
       "    </tr>\n",
       "    <tr>\n",
       "      <th>MultipleLines_unknown</th>\n",
       "      <td>0.703075</td>\n",
       "    </tr>\n",
       "    <tr>\n",
       "      <th>MultipleLines_Yes</th>\n",
       "      <td>0.747698</td>\n",
       "    </tr>\n",
       "    <tr>\n",
       "      <th>Partner_Yes</th>\n",
       "      <td>0.788074</td>\n",
       "    </tr>\n",
       "    <tr>\n",
       "      <th>Type_One year</th>\n",
       "      <td>1.418401</td>\n",
       "    </tr>\n",
       "    <tr>\n",
       "      <th>Type_Two year</th>\n",
       "      <td>1.889367</td>\n",
       "    </tr>\n",
       "  </tbody>\n",
       "</table>\n",
       "</div>"
      ],
      "text/plain": [
       "                                       importance\n",
       "PaymentMethod_Mailed check              -0.932855\n",
       "contract_duration                       -0.898095\n",
       "PaymentMethod_Electronic check          -0.314457\n",
       "PaymentMethod_Credit card (automatic)   -0.043829\n",
       "PaperlessBilling_Yes                     0.230299\n",
       "SeniorCitizen_1                          0.256142\n",
       "MonthlyCharges                           0.390839\n",
       "MultipleLines_unknown                    0.703075\n",
       "MultipleLines_Yes                        0.747698\n",
       "Partner_Yes                              0.788074\n",
       "Type_One year                            1.418401\n",
       "Type_Two year                            1.889367"
      ]
     },
     "execution_count": 68,
     "metadata": {},
     "output_type": "execute_result"
    }
   ],
   "source": [
    "model_lr = LogisticRegression(random_state=RANDOM_STATE)\n",
    "model_lr.fit(features_train_ohe, target_train)\n",
    "features_importance = pd.DataFrame(model_lr.coef_, columns=features_train_ohe.columns).T\n",
    "features_importance.columns = ['importance']\n",
    "features_importance.sort_values(by='importance')"
   ]
  },
  {
   "cell_type": "markdown",
   "id": "4d137aa3",
   "metadata": {},
   "source": [
    "В результате мы получили, что признак contract_duration имеет довольно большой вес в предсказании. Модель считает, что чем выше этот показатель, тем меньше вероятность ухода клиента. А тип оплаты раз в два года или в год, наоборот повышает такую вероятность."
   ]
  },
  {
   "cell_type": "markdown",
   "id": "1cb86a45",
   "metadata": {},
   "source": [
    "###### RandomForestClassifier"
   ]
  },
  {
   "cell_type": "code",
   "execution_count": 69,
   "id": "d740ba99",
   "metadata": {},
   "outputs": [],
   "source": [
    "model_forest = RandomForestClassifier(random_state=RANDOM_STATE)\n",
    "params_forest = {'n_estimators': range (50, 100, 10),\n",
    "          'max_depth': range (2, 7, 1)\n",
    "          }"
   ]
  },
  {
   "cell_type": "code",
   "execution_count": 70,
   "id": "9b4a9af3",
   "metadata": {},
   "outputs": [
    {
     "name": "stdout",
     "output_type": "stream",
     "text": [
      "Наилучшие параметры: {'max_depth': 6, 'n_estimators': 90}\n",
      "ROC-AUC: 0.8274666243737123\n"
     ]
    }
   ],
   "source": [
    "grid = GridSearchCV(estimator=model_forest, param_grid=params_forest, cv=5, scoring = 'roc_auc')\n",
    "\n",
    "grid.fit(features_train_ord, target_train)\n",
    "\n",
    "best = grid.best_estimator_\n",
    "\n",
    "print(\"Наилучшие параметры:\", grid.best_params_)\n",
    "print(\"ROC-AUC:\", grid.best_score_)\n"
   ]
  },
  {
   "cell_type": "code",
   "execution_count": 71,
   "id": "57b21466",
   "metadata": {},
   "outputs": [
    {
     "data": {
      "text/html": [
       "<div>\n",
       "<style scoped>\n",
       "    .dataframe tbody tr th:only-of-type {\n",
       "        vertical-align: middle;\n",
       "    }\n",
       "\n",
       "    .dataframe tbody tr th {\n",
       "        vertical-align: top;\n",
       "    }\n",
       "\n",
       "    .dataframe thead th {\n",
       "        text-align: right;\n",
       "    }\n",
       "</style>\n",
       "<table border=\"1\" class=\"dataframe\">\n",
       "  <thead>\n",
       "    <tr style=\"text-align: right;\">\n",
       "      <th></th>\n",
       "      <th>importance</th>\n",
       "    </tr>\n",
       "  </thead>\n",
       "  <tbody>\n",
       "    <tr>\n",
       "      <th>SeniorCitizen</th>\n",
       "      <td>0.013032</td>\n",
       "    </tr>\n",
       "    <tr>\n",
       "      <th>PaperlessBilling</th>\n",
       "      <td>0.018252</td>\n",
       "    </tr>\n",
       "    <tr>\n",
       "      <th>PaymentMethod</th>\n",
       "      <td>0.063184</td>\n",
       "    </tr>\n",
       "    <tr>\n",
       "      <th>MultipleLines</th>\n",
       "      <td>0.070456</td>\n",
       "    </tr>\n",
       "    <tr>\n",
       "      <th>Partner</th>\n",
       "      <td>0.083482</td>\n",
       "    </tr>\n",
       "    <tr>\n",
       "      <th>Type</th>\n",
       "      <td>0.113892</td>\n",
       "    </tr>\n",
       "    <tr>\n",
       "      <th>MonthlyCharges</th>\n",
       "      <td>0.211030</td>\n",
       "    </tr>\n",
       "    <tr>\n",
       "      <th>contract_duration</th>\n",
       "      <td>0.426672</td>\n",
       "    </tr>\n",
       "  </tbody>\n",
       "</table>\n",
       "</div>"
      ],
      "text/plain": [
       "                   importance\n",
       "SeniorCitizen        0.013032\n",
       "PaperlessBilling     0.018252\n",
       "PaymentMethod        0.063184\n",
       "MultipleLines        0.070456\n",
       "Partner              0.083482\n",
       "Type                 0.113892\n",
       "MonthlyCharges       0.211030\n",
       "contract_duration    0.426672"
      ]
     },
     "execution_count": 71,
     "metadata": {},
     "output_type": "execute_result"
    }
   ],
   "source": [
    "features_importance_rfc = pd.DataFrame(best.feature_importances_, \n",
    "                                       index=features_train_ord.columns, \n",
    "                                       columns = ['importance']).sort_values(by='importance')\n",
    "features_importance_rfc"
   ]
  },
  {
   "cell_type": "markdown",
   "id": "0c293bb5",
   "metadata": {},
   "source": [
    "Используя модель случайного леса, мы получили метрику ROC-AUC выше, чем у линейной модели - 0.82. Наиболее важным признаком в процессе обучения модели оказался contract_duration. "
   ]
  },
  {
   "cell_type": "markdown",
   "id": "85fea6e8",
   "metadata": {},
   "source": [
    "###### LightGBMClassifier"
   ]
  },
  {
   "cell_type": "code",
   "execution_count": 72,
   "id": "c5fa8f2e",
   "metadata": {},
   "outputs": [],
   "source": [
    "model_lgbm = LGBMClassifier(random_state=RANDOM_STATE)\n",
    " \n",
    "params_lgbm = {'n_estimators': range (50, 100, 10),\n",
    "          'max_depth': range (2, 7, 1),\n",
    "          'learning_rate': [0.05, 0.1, 0.3]\n",
    "          }"
   ]
  },
  {
   "cell_type": "code",
   "execution_count": 73,
   "id": "36db17dd",
   "metadata": {},
   "outputs": [
    {
     "name": "stdout",
     "output_type": "stream",
     "text": [
      "Наилучшие параметры: {'learning_rate': 0.3, 'max_depth': 6, 'n_estimators': 90}\n",
      "ROC-AUC: 0.9000454141230676\n",
      "Accuracy: 0.9747995418098511\n"
     ]
    }
   ],
   "source": [
    "grid_lgbm = GridSearchCV(estimator=model_lgbm, param_grid=params_lgbm, cv=5, scoring = 'roc_auc')\n",
    "\n",
    "grid_lgbm.fit(features_train_ord, target_train)\n",
    "\n",
    "best_lgbm = grid_lgbm.best_estimator_\n",
    "\n",
    "print(\"Наилучшие параметры:\", grid_lgbm.best_params_)\n",
    "print(\"ROC-AUC:\", grid_lgbm.best_score_)"
   ]
  },
  {
   "cell_type": "code",
   "execution_count": 74,
   "id": "16b96d8d",
   "metadata": {},
   "outputs": [
    {
     "data": {
      "text/html": [
       "<div>\n",
       "<style scoped>\n",
       "    .dataframe tbody tr th:only-of-type {\n",
       "        vertical-align: middle;\n",
       "    }\n",
       "\n",
       "    .dataframe tbody tr th {\n",
       "        vertical-align: top;\n",
       "    }\n",
       "\n",
       "    .dataframe thead th {\n",
       "        text-align: right;\n",
       "    }\n",
       "</style>\n",
       "<table border=\"1\" class=\"dataframe\">\n",
       "  <thead>\n",
       "    <tr style=\"text-align: right;\">\n",
       "      <th></th>\n",
       "      <th>importance</th>\n",
       "    </tr>\n",
       "  </thead>\n",
       "  <tbody>\n",
       "    <tr>\n",
       "      <th>SeniorCitizen</th>\n",
       "      <td>24</td>\n",
       "    </tr>\n",
       "    <tr>\n",
       "      <th>PaperlessBilling</th>\n",
       "      <td>44</td>\n",
       "    </tr>\n",
       "    <tr>\n",
       "      <th>MultipleLines</th>\n",
       "      <td>63</td>\n",
       "    </tr>\n",
       "    <tr>\n",
       "      <th>Partner</th>\n",
       "      <td>77</td>\n",
       "    </tr>\n",
       "    <tr>\n",
       "      <th>Type</th>\n",
       "      <td>114</td>\n",
       "    </tr>\n",
       "    <tr>\n",
       "      <th>PaymentMethod</th>\n",
       "      <td>125</td>\n",
       "    </tr>\n",
       "    <tr>\n",
       "      <th>MonthlyCharges</th>\n",
       "      <td>708</td>\n",
       "    </tr>\n",
       "    <tr>\n",
       "      <th>contract_duration</th>\n",
       "      <td>996</td>\n",
       "    </tr>\n",
       "  </tbody>\n",
       "</table>\n",
       "</div>"
      ],
      "text/plain": [
       "                   importance\n",
       "SeniorCitizen              24\n",
       "PaperlessBilling           44\n",
       "MultipleLines              63\n",
       "Partner                    77\n",
       "Type                      114\n",
       "PaymentMethod             125\n",
       "MonthlyCharges            708\n",
       "contract_duration         996"
      ]
     },
     "execution_count": 74,
     "metadata": {},
     "output_type": "execute_result"
    }
   ],
   "source": [
    "features_importance_lgbm = pd.DataFrame(best_lgbm.feature_importances_, \n",
    "                                       index=features_train_ord.columns, \n",
    "                                       columns = ['importance']).sort_values(by='importance')\n",
    "features_importance_lgbm"
   ]
  },
  {
   "cell_type": "markdown",
   "id": "b6195567",
   "metadata": {},
   "source": [
    "Используя модель LGBM, мы получили метрику ROC-AUC выше, чем у предыдущих моделей - 0.90. Наиболее важными признаками в процессе обучения модели также оказались contract_duration, MonthlyCharges."
   ]
  },
  {
   "cell_type": "markdown",
   "id": "00f20cd2",
   "metadata": {},
   "source": [
    "**Вывод:**\n",
    "В результате лучше всего себя показала модель LightGBMClassifier с параметрами 'learning_rate': 0.3, 'max_depth': 6, 'n_estimators': 90. Проверим ее на тестовой выборке."
   ]
  },
  {
   "cell_type": "markdown",
   "id": "03186228",
   "metadata": {},
   "source": [
    "## Тест лучшей модели."
   ]
  },
  {
   "cell_type": "code",
   "execution_count": 75,
   "id": "183c30fb",
   "metadata": {},
   "outputs": [
    {
     "name": "stdout",
     "output_type": "stream",
     "text": [
      "ROC-AUC: 0.8967603979976515\n",
      "Accuracy: 0.9106529209621993\n"
     ]
    }
   ],
   "source": [
    "probabilities = best_lgbm.predict_proba(features_test_ord)\n",
    "probabilities_one = probabilities[:, 1]\n",
    "\n",
    "conf_matrix = confusion_matrix(target_test, best_lgbm.predict(features_test_ord))\n",
    "\n",
    "print(\"ROC-AUC:\", roc_auc_score(target_test, probabilities_one))\n",
    "print(\"Accuracy:\", accuracy_score(target_test, best_lgbm.predict(features_test_ord)))"
   ]
  },
  {
   "cell_type": "code",
   "execution_count": 76,
   "id": "cfe90b38",
   "metadata": {},
   "outputs": [
    {
     "name": "stdout",
     "output_type": "stream",
     "text": [
      "Матрица ошибок: [[1437   34]\n",
      " [ 122  153]]\n"
     ]
    },
    {
     "data": {
      "image/png": "[encoded data removed]",
      "text/plain": [
       "<Figure size 432x288 with 2 Axes>"
      ]
     },
     "metadata": {
      "needs_background": "light"
     },
     "output_type": "display_data"
    }
   ],
   "source": [
    "print(\"Матрица ошибок:\", conf_matrix)\n",
    "\n",
    "ConfusionMatrixDisplay(conf_matrix, display_labels=[\"0\", \"1\"]).plot()\n",
    "plt.title('Confusion matrix')\n",
    "plt.show()"
   ]
  },
  {
   "cell_type": "markdown",
   "id": "1914196d",
   "metadata": {},
   "source": [
    "Accuracy в данном случае описывает точность предсказания. Он рассчитывается как отношение количества правильных прогнозов к их общему количеству. \n",
    "\n",
    "Модель  LGBM показала Accuracy 0.91 - это высокий показатель. Но на него не стоит ориентироваться, это связано с тем, что классы не сбалансированы, ушедших клиентов значительно меньше. В таком случае модель будет предсказывать больший класс чаще, соответственно и \"угадывать\" будет чаще, но при этом только 0 класс(которого больше), а 1 класс она может предсказывать плохо. \n",
    "\n",
    "\n",
    "Рассмотрим матрицу ошибок:\n",
    "\n",
    "Модель правильно предсказала, что клиент останется в 1437 случаях из 1471 (98%), и ошиблась в 34 случаях (2%).\n",
    "Модель правильно предсказала, что клиент уйдет в 153 случаях из 275 (56%), и ошиблась в 122 случаях (44%)."
   ]
  },
  {
   "cell_type": "markdown",
   "id": "c3093a4c",
   "metadata": {},
   "source": [
    "Проверим модель на адекdатность с помощью DummyClassifier. DummyClassifier не учитывает никаких особенностей данных и использует случайные значения для классификации - в нашем случае везде предсказывает превалирующий класс(0)."
   ]
  },
  {
   "cell_type": "code",
   "execution_count": 83,
   "id": "0548b9c3",
   "metadata": {},
   "outputs": [
    {
     "name": "stdout",
     "output_type": "stream",
     "text": [
      "Accuracy на Dummy модели: 0.8424971363115693\n",
      "Матрица ошибок Dummy модели: [[1471    0]\n",
      " [ 275    0]]\n"
     ]
    },
    {
     "data": {
      "image/png": "[encoded data removed]",
      "text/plain": [
       "<Figure size 432x288 with 2 Axes>"
      ]
     },
     "metadata": {
      "needs_background": "light"
     },
     "output_type": "display_data"
    }
   ],
   "source": [
    "dummy_clf = DummyClassifier(strategy=\"most_frequent\", random_state=RANDOM_STATE)\n",
    "dummy_clf.fit(features_train_ord, target_train)\n",
    "print('Accuracy на Dummy модели:', dummy_clf.score(features_test_ord, target_test))\n",
    "\n",
    "conf_matrix_dummy = confusion_matrix(target_test, dummy_clf.predict(features_test_ord))\n",
    "print('Матрица ошибок Dummy модели:', conf_matrix_dummy)\n",
    "\n",
    "ConfusionMatrixDisplay(conf_matrix_dummy, display_labels=[\"0\", \"1\"]).plot()\n",
    "plt.title('Confusion matrix Dummy')\n",
    "plt.show()"
   ]
  },
  {
   "cell_type": "markdown",
   "id": "e2793f97",
   "metadata": {},
   "source": [
    "Случайная модель показала значение Accuracy 0.84 - на 84% модель предсказывает верно. Однако, такая модель предсказывает верно только больший класс - 0, а класс 1 она всегода предсказывает неверно. "
   ]
  },
  {
   "cell_type": "markdown",
   "id": "90e25669",
   "metadata": {},
   "source": [
    "**Вывод:**\n",
    "Лучшая из полученных моделей отработала хорошо. Метрика ROC-AUC показала 0.89 на тесте, это достаточно высокий показатель.\n",
    "На основании матрицы ошибок можно сделать вывод, что модель хорошо предсказывает 0 класс - клиетов, которые не расторгнут договор, ошибаясь примерно в 2% случаев. 1 класс - ушедших пользователей, модель определяет хуже и в 44% случаев ошибается."
   ]
  },
  {
   "cell_type": "markdown",
   "id": "55de7500",
   "metadata": {},
   "source": [
    "## Общий вывод."
   ]
  },
  {
   "cell_type": "markdown",
   "id": "a77943b0",
   "metadata": {},
   "source": [
    "##### Этап 1. Подготовка данных.\n",
    "- В ходе этого этапа был открыты файлы (4 датасета), предоставленные заказчиком  и изучены данные. Была проведена проверка на пропуски и дубликаты. \n",
    "- Созданы новые признаки - длительность контракта и целевой признак (ушел клиент или остался). Столбец TotalCharges приведен к типу float64. Также удалены признаки, содержащие даты. Категориальный бинарный признак SeniorCitizen был преобразован в тип object.\n",
    "- Далее 4 датасета были объеденины. \n",
    "\n",
    "В результате анализа и предобработки объединенного датасета были сделаны следующие шаги:\n",
    "1. Найденные пропуски, заполнены константным значением. Причиной образования пропусков послужила объединение - не все клиенты компании используют оба тарифных пакета - интернет и стационарную телефонную связь.\n",
    "2. Была изучена корреляция признаков от целевого признака. В результате были удалены два признака 'gender'(пол) и 'Dependents'(наличие детей), т.к. их влияние на таргет оказалось ничтожно мало, и не играет большой роли в построении предсказаний моделью.\n",
    "3. Был изучен баланс классов. Дисбаланс оказался очень большой - 85/15. Было принято решение ничего с ним не делать, т.к. метрика ROC-AUC не чувствительна к дисбалансу. Уменьшение или увеличение выборки для баланса классов - не подходящая стратегия в данном исследовании. При подборе гиперпараметров проверили влияние class_weight='balanced', в результате лучшие показатели метрики получились без балансировки модели.\n",
    "\n",
    "##### Этап 2. Обучение моделей\n",
    "Были обучены три модели - LightGBM, Логистическая регрессия и Модель случайного леса - и были найдены наиболее подходящие гиперпараметры, благодаря которым модели выдавали наилучшее качество.\n",
    "\n",
    "Лучшей моделью стала LightGBMClassifier, ее ROC-AUC показала на кросс-валидации 0.87. Параметры модели: 'class_weight': None, 'learning_rate': 0.3, 'max_depth': 10, 'n_estimators': 90. Наиболее важными признаками в процессе обучения модели также оказались contract_duration, MonthlyCharges, TotalCharges.\n",
    "\n",
    "##### Этап 3. Тестирование\n",
    "Модель LightGBM с наилучшими параметрами была протестирована, и показала значение ROC-AUC 0.90, что удовлетворяет условиям заказчика. модель хорошо предсказывает 0 класс - клиетов, которые не расторгнут договор, ошибаясь примерно в 3% случаев. 1 класс - ушедших пользователей, модель определяет хуже и в 44% случаев ошибается. Это связано с тем, что ушедших пользователей совсем немного, относительно остальных(дисбаланс), модели не хватает данных для обучения. И тем не менее она неплохо справилась.\n",
    "\n",
    "##### Этап 4. Рекоммендации заказчику.\n",
    "Корреляция между таргетом и остальными признаками довольно мала, сложно понять, из-за чего именно уходят клиенты. Наибольшая корреляция наблюдалась с такими признаками как длительность контракта, и суммой, потраченной клиетном за все время. т.е. чем дольше человек пользуется услугами компании, тем меньше вероятность ухода. Возможно, стоит задуматься о создании дополнительной системы лояльности для новых пользователей, чтобы они превращались в верных клиентов."
   ]
  }
 ],
 "metadata": {
  "ExecuteTimeLog": [
   {
    "duration": 438,
    "start_time": "2023-12-11T14:45:56.670Z"
   },
   {
    "duration": 3,
    "start_time": "2023-12-11T14:48:27.567Z"
   },
   {
    "duration": 342,
    "start_time": "2023-12-11T14:52:20.120Z"
   },
   {
    "duration": 141,
    "start_time": "2023-12-11T14:52:48.981Z"
   },
   {
    "duration": 24,
    "start_time": "2023-12-11T14:53:03.814Z"
   },
   {
    "duration": 20,
    "start_time": "2023-12-11T14:54:21.700Z"
   },
   {
    "duration": 9,
    "start_time": "2023-12-11T14:56:14.233Z"
   },
   {
    "duration": 434,
    "start_time": "2023-12-11T14:58:17.060Z"
   },
   {
    "duration": 3,
    "start_time": "2023-12-11T14:58:17.496Z"
   },
   {
    "duration": 100,
    "start_time": "2023-12-11T14:58:17.500Z"
   },
   {
    "duration": 18,
    "start_time": "2023-12-11T14:58:17.602Z"
   },
   {
    "duration": 21,
    "start_time": "2023-12-11T14:58:17.622Z"
   },
   {
    "duration": 34,
    "start_time": "2023-12-11T14:58:17.645Z"
   },
   {
    "duration": 21,
    "start_time": "2023-12-11T14:58:17.681Z"
   },
   {
    "duration": 19,
    "start_time": "2023-12-11T15:07:15.357Z"
   },
   {
    "duration": 431,
    "start_time": "2023-12-12T09:51:18.201Z"
   },
   {
    "duration": 3,
    "start_time": "2023-12-12T09:51:18.634Z"
   },
   {
    "duration": 347,
    "start_time": "2023-12-12T09:51:18.638Z"
   },
   {
    "duration": 18,
    "start_time": "2023-12-12T09:51:18.987Z"
   },
   {
    "duration": 55,
    "start_time": "2023-12-12T09:51:19.007Z"
   },
   {
    "duration": 16,
    "start_time": "2023-12-12T09:51:19.064Z"
   },
   {
    "duration": 12,
    "start_time": "2023-12-12T09:51:19.082Z"
   },
   {
    "duration": 24,
    "start_time": "2023-12-12T09:51:19.095Z"
   },
   {
    "duration": 10,
    "start_time": "2023-12-12T09:54:02.186Z"
   },
   {
    "duration": 12,
    "start_time": "2023-12-12T10:19:23.740Z"
   },
   {
    "duration": 57,
    "start_time": "2023-12-12T10:23:09.639Z"
   },
   {
    "duration": 22,
    "start_time": "2023-12-12T10:38:16.170Z"
   },
   {
    "duration": 137,
    "start_time": "2023-12-12T10:38:31.718Z"
   },
   {
    "duration": 46,
    "start_time": "2023-12-12T10:38:44.196Z"
   },
   {
    "duration": 52,
    "start_time": "2023-12-12T10:39:47.989Z"
   },
   {
    "duration": 50,
    "start_time": "2023-12-12T10:40:12.567Z"
   },
   {
    "duration": 22,
    "start_time": "2023-12-12T10:42:12.055Z"
   },
   {
    "duration": 5,
    "start_time": "2023-12-12T10:49:48.867Z"
   },
   {
    "duration": 9,
    "start_time": "2023-12-12T10:53:30.766Z"
   },
   {
    "duration": 11,
    "start_time": "2023-12-12T10:54:35.755Z"
   },
   {
    "duration": 9,
    "start_time": "2023-12-12T10:55:09.563Z"
   },
   {
    "duration": 9,
    "start_time": "2023-12-12T10:59:58.688Z"
   },
   {
    "duration": 15,
    "start_time": "2023-12-12T11:00:59.855Z"
   },
   {
    "duration": 14,
    "start_time": "2023-12-12T11:01:46.793Z"
   },
   {
    "duration": 405,
    "start_time": "2023-12-12T11:02:57.216Z"
   },
   {
    "duration": 3,
    "start_time": "2023-12-12T11:02:57.623Z"
   },
   {
    "duration": 116,
    "start_time": "2023-12-12T11:02:57.628Z"
   },
   {
    "duration": 18,
    "start_time": "2023-12-12T11:02:57.746Z"
   },
   {
    "duration": 42,
    "start_time": "2023-12-12T11:02:57.766Z"
   },
   {
    "duration": 45,
    "start_time": "2023-12-12T11:02:57.810Z"
   },
   {
    "duration": 75,
    "start_time": "2023-12-12T11:02:57.857Z"
   },
   {
    "duration": 64,
    "start_time": "2023-12-12T11:02:57.934Z"
   },
   {
    "duration": 31,
    "start_time": "2023-12-12T11:02:58.001Z"
   },
   {
    "duration": 20,
    "start_time": "2023-12-12T11:02:58.033Z"
   },
   {
    "duration": 91,
    "start_time": "2023-12-12T11:02:58.055Z"
   },
   {
    "duration": 22,
    "start_time": "2023-12-12T11:02:58.148Z"
   },
   {
    "duration": 2,
    "start_time": "2023-12-12T11:02:58.172Z"
   },
   {
    "duration": 21,
    "start_time": "2023-12-12T11:02:58.177Z"
   },
   {
    "duration": 37,
    "start_time": "2023-12-12T11:02:58.199Z"
   },
   {
    "duration": 19,
    "start_time": "2023-12-12T11:02:58.237Z"
   },
   {
    "duration": 7,
    "start_time": "2023-12-12T11:10:38.755Z"
   },
   {
    "duration": 5,
    "start_time": "2023-12-12T11:12:09.211Z"
   },
   {
    "duration": 73,
    "start_time": "2023-12-12T11:12:45.393Z"
   },
   {
    "duration": 437,
    "start_time": "2023-12-12T11:13:06.580Z"
   },
   {
    "duration": 3,
    "start_time": "2023-12-12T11:13:07.019Z"
   },
   {
    "duration": 123,
    "start_time": "2023-12-12T11:13:07.023Z"
   },
   {
    "duration": 20,
    "start_time": "2023-12-12T11:13:07.148Z"
   },
   {
    "duration": 29,
    "start_time": "2023-12-12T11:13:07.172Z"
   },
   {
    "duration": 30,
    "start_time": "2023-12-12T11:13:07.203Z"
   },
   {
    "duration": 53,
    "start_time": "2023-12-12T11:13:07.235Z"
   },
   {
    "duration": 37,
    "start_time": "2023-12-12T11:13:07.289Z"
   },
   {
    "duration": 36,
    "start_time": "2023-12-12T11:13:07.328Z"
   },
   {
    "duration": 4,
    "start_time": "2023-12-12T11:13:07.366Z"
   },
   {
    "duration": 140,
    "start_time": "2023-12-12T11:13:07.372Z"
   },
   {
    "duration": 22,
    "start_time": "2023-12-12T11:13:07.513Z"
   },
   {
    "duration": 21,
    "start_time": "2023-12-12T11:13:07.537Z"
   },
   {
    "duration": 24,
    "start_time": "2023-12-12T11:13:07.560Z"
   },
   {
    "duration": 41,
    "start_time": "2023-12-12T11:13:07.585Z"
   },
   {
    "duration": 17,
    "start_time": "2023-12-12T11:13:07.627Z"
   },
   {
    "duration": 51,
    "start_time": "2023-12-12T11:13:07.646Z"
   },
   {
    "duration": 74,
    "start_time": "2023-12-12T11:17:15.203Z"
   },
   {
    "duration": 776,
    "start_time": "2023-12-12T11:17:25.449Z"
   },
   {
    "duration": 6,
    "start_time": "2023-12-12T11:18:27.662Z"
   },
   {
    "duration": 8,
    "start_time": "2023-12-12T11:18:51.052Z"
   },
   {
    "duration": 15,
    "start_time": "2023-12-12T11:23:24.748Z"
   },
   {
    "duration": 6,
    "start_time": "2023-12-12T11:26:25.181Z"
   },
   {
    "duration": 9,
    "start_time": "2023-12-12T11:28:23.044Z"
   },
   {
    "duration": 7,
    "start_time": "2023-12-12T11:28:35.102Z"
   },
   {
    "duration": 775,
    "start_time": "2023-12-12T11:29:29.078Z"
   },
   {
    "duration": 11,
    "start_time": "2023-12-12T11:30:08.427Z"
   },
   {
    "duration": 8,
    "start_time": "2023-12-12T11:31:39.068Z"
   },
   {
    "duration": 9,
    "start_time": "2023-12-12T11:32:41.139Z"
   },
   {
    "duration": 7,
    "start_time": "2023-12-12T11:36:25.640Z"
   },
   {
    "duration": 17,
    "start_time": "2023-12-12T11:36:59.257Z"
   },
   {
    "duration": 16,
    "start_time": "2023-12-12T11:37:15.307Z"
   },
   {
    "duration": 14,
    "start_time": "2023-12-12T11:42:13.424Z"
   },
   {
    "duration": 8,
    "start_time": "2023-12-12T11:44:29.242Z"
   },
   {
    "duration": 6,
    "start_time": "2023-12-12T11:45:47.225Z"
   },
   {
    "duration": 8,
    "start_time": "2023-12-12T11:46:52.033Z"
   },
   {
    "duration": 12,
    "start_time": "2023-12-12T11:55:20.411Z"
   },
   {
    "duration": 6,
    "start_time": "2023-12-12T11:57:19.172Z"
   },
   {
    "duration": 5,
    "start_time": "2023-12-12T11:57:38.896Z"
   },
   {
    "duration": 5,
    "start_time": "2023-12-12T12:14:42.376Z"
   },
   {
    "duration": 13,
    "start_time": "2023-12-12T12:23:49.708Z"
   },
   {
    "duration": 12,
    "start_time": "2023-12-12T12:24:08.587Z"
   },
   {
    "duration": 23,
    "start_time": "2023-12-12T12:24:39.466Z"
   },
   {
    "duration": 44,
    "start_time": "2023-12-12T12:28:14.621Z"
   },
   {
    "duration": 37,
    "start_time": "2023-12-12T12:31:05.831Z"
   },
   {
    "duration": 61,
    "start_time": "2023-12-12T12:32:18.050Z"
   },
   {
    "duration": 455,
    "start_time": "2023-12-12T12:32:29.977Z"
   },
   {
    "duration": 4,
    "start_time": "2023-12-12T12:32:30.434Z"
   },
   {
    "duration": 205,
    "start_time": "2023-12-12T12:32:30.440Z"
   },
   {
    "duration": 19,
    "start_time": "2023-12-12T12:32:30.647Z"
   },
   {
    "duration": 69,
    "start_time": "2023-12-12T12:32:30.669Z"
   },
   {
    "duration": 185,
    "start_time": "2023-12-12T12:32:30.739Z"
   },
   {
    "duration": 90,
    "start_time": "2023-12-12T12:32:30.925Z"
   },
   {
    "duration": 114,
    "start_time": "2023-12-12T12:32:31.017Z"
   },
   {
    "duration": 121,
    "start_time": "2023-12-12T12:32:31.132Z"
   },
   {
    "duration": 152,
    "start_time": "2023-12-12T12:32:31.255Z"
   },
   {
    "duration": 140,
    "start_time": "2023-12-12T12:32:31.408Z"
   },
   {
    "duration": 59,
    "start_time": "2023-12-12T12:32:31.550Z"
   },
   {
    "duration": 43,
    "start_time": "2023-12-12T12:32:31.611Z"
   },
   {
    "duration": 132,
    "start_time": "2023-12-12T12:32:31.657Z"
   },
   {
    "duration": 94,
    "start_time": "2023-12-12T12:32:31.790Z"
   },
   {
    "duration": 30,
    "start_time": "2023-12-12T12:32:31.886Z"
   },
   {
    "duration": 98,
    "start_time": "2023-12-12T12:32:31.919Z"
   },
   {
    "duration": 91,
    "start_time": "2023-12-12T12:32:32.019Z"
   },
   {
    "duration": 73,
    "start_time": "2023-12-12T12:32:32.111Z"
   },
   {
    "duration": 41,
    "start_time": "2023-12-12T12:32:32.185Z"
   },
   {
    "duration": 10,
    "start_time": "2023-12-12T12:32:32.227Z"
   },
   {
    "duration": 9,
    "start_time": "2023-12-12T12:32:32.238Z"
   },
   {
    "duration": 48,
    "start_time": "2023-12-12T12:32:32.248Z"
   },
   {
    "duration": 33,
    "start_time": "2023-12-12T12:32:32.298Z"
   },
   {
    "duration": 23,
    "start_time": "2023-12-12T12:32:32.333Z"
   },
   {
    "duration": 13,
    "start_time": "2023-12-12T12:32:32.358Z"
   },
   {
    "duration": 11,
    "start_time": "2023-12-12T12:32:32.373Z"
   },
   {
    "duration": 29,
    "start_time": "2023-12-12T12:32:32.386Z"
   },
   {
    "duration": 6,
    "start_time": "2023-12-12T12:32:32.417Z"
   },
   {
    "duration": 12,
    "start_time": "2023-12-12T12:32:32.424Z"
   },
   {
    "duration": 34,
    "start_time": "2023-12-12T12:32:32.437Z"
   },
   {
    "duration": 53,
    "start_time": "2023-12-12T12:32:32.473Z"
   },
   {
    "duration": 12,
    "start_time": "2023-12-12T12:36:10.541Z"
   },
   {
    "duration": 12,
    "start_time": "2023-12-12T12:43:25.634Z"
   },
   {
    "duration": 12,
    "start_time": "2023-12-12T12:43:29.927Z"
   },
   {
    "duration": 14,
    "start_time": "2023-12-12T12:43:40.136Z"
   },
   {
    "duration": 957,
    "start_time": "2023-12-12T13:40:55.304Z"
   },
   {
    "duration": 112,
    "start_time": "2023-12-12T13:41:54.765Z"
   },
   {
    "duration": 3667,
    "start_time": "2023-12-12T13:42:31.173Z"
   },
   {
    "duration": 41,
    "start_time": "2023-12-12T13:42:38.593Z"
   },
   {
    "duration": 5442,
    "start_time": "2023-12-12T14:00:51.880Z"
   },
   {
    "duration": 2454,
    "start_time": "2023-12-12T14:01:39.902Z"
   },
   {
    "duration": 2402,
    "start_time": "2023-12-12T14:02:15.709Z"
   },
   {
    "duration": 2484,
    "start_time": "2023-12-12T14:05:57.190Z"
   },
   {
    "duration": 2368,
    "start_time": "2023-12-12T14:06:11.800Z"
   },
   {
    "duration": 23,
    "start_time": "2023-12-12T14:08:41.648Z"
   },
   {
    "duration": 1150,
    "start_time": "2023-12-12T14:08:51.175Z"
   },
   {
    "duration": 2321,
    "start_time": "2023-12-12T14:08:53.307Z"
   },
   {
    "duration": 18,
    "start_time": "2023-12-12T14:12:54.789Z"
   },
   {
    "duration": 576,
    "start_time": "2023-12-12T14:16:56.661Z"
   },
   {
    "duration": 2177,
    "start_time": "2023-12-12T14:17:04.530Z"
   },
   {
    "duration": 3041,
    "start_time": "2023-12-13T12:17:47.491Z"
   },
   {
    "duration": 1327,
    "start_time": "2023-12-13T12:17:50.534Z"
   },
   {
    "duration": 4,
    "start_time": "2023-12-13T12:17:51.862Z"
   },
   {
    "duration": 324,
    "start_time": "2023-12-13T12:17:51.868Z"
   },
   {
    "duration": 17,
    "start_time": "2023-12-13T12:17:52.194Z"
   },
   {
    "duration": 13,
    "start_time": "2023-12-13T12:17:52.212Z"
   },
   {
    "duration": 34,
    "start_time": "2023-12-13T12:17:52.227Z"
   },
   {
    "duration": 41,
    "start_time": "2023-12-13T12:17:52.262Z"
   },
   {
    "duration": 14,
    "start_time": "2023-12-13T12:17:52.305Z"
   },
   {
    "duration": 20,
    "start_time": "2023-12-13T12:17:52.321Z"
   },
   {
    "duration": 5,
    "start_time": "2023-12-13T12:17:52.343Z"
   },
   {
    "duration": 55,
    "start_time": "2023-12-13T12:17:52.349Z"
   },
   {
    "duration": 19,
    "start_time": "2023-12-13T12:17:52.406Z"
   },
   {
    "duration": 18,
    "start_time": "2023-12-13T12:17:52.427Z"
   },
   {
    "duration": 22,
    "start_time": "2023-12-13T12:17:52.447Z"
   },
   {
    "duration": 24,
    "start_time": "2023-12-13T12:17:52.471Z"
   },
   {
    "duration": 25,
    "start_time": "2023-12-13T12:17:52.496Z"
   },
   {
    "duration": 36,
    "start_time": "2023-12-13T12:17:52.522Z"
   },
   {
    "duration": 20,
    "start_time": "2023-12-13T12:17:52.559Z"
   },
   {
    "duration": 13,
    "start_time": "2023-12-13T12:17:52.580Z"
   },
   {
    "duration": 9,
    "start_time": "2023-12-13T12:17:52.594Z"
   },
   {
    "duration": 8,
    "start_time": "2023-12-13T12:17:52.604Z"
   },
   {
    "duration": 6,
    "start_time": "2023-12-13T12:17:52.614Z"
   },
   {
    "duration": 16,
    "start_time": "2023-12-13T12:17:52.621Z"
   },
   {
    "duration": 39,
    "start_time": "2023-12-13T12:17:52.638Z"
   },
   {
    "duration": 21,
    "start_time": "2023-12-13T12:17:52.678Z"
   },
   {
    "duration": 21,
    "start_time": "2023-12-13T12:17:52.701Z"
   },
   {
    "duration": 37,
    "start_time": "2023-12-13T12:17:52.725Z"
   },
   {
    "duration": 9,
    "start_time": "2023-12-13T12:17:52.763Z"
   },
   {
    "duration": 4,
    "start_time": "2023-12-13T12:17:52.773Z"
   },
   {
    "duration": 6,
    "start_time": "2023-12-13T12:17:52.779Z"
   },
   {
    "duration": 38,
    "start_time": "2023-12-13T12:17:52.786Z"
   },
   {
    "duration": 49,
    "start_time": "2023-12-13T12:17:52.826Z"
   },
   {
    "duration": 10,
    "start_time": "2023-12-13T12:17:52.877Z"
   },
   {
    "duration": 60,
    "start_time": "2023-12-13T12:17:52.889Z"
   },
   {
    "duration": 25,
    "start_time": "2023-12-13T12:17:52.950Z"
   },
   {
    "duration": 19,
    "start_time": "2023-12-13T12:17:52.977Z"
   },
   {
    "duration": 988,
    "start_time": "2023-12-13T12:17:52.997Z"
   },
   {
    "duration": 2176,
    "start_time": "2023-12-13T12:17:53.987Z"
   },
   {
    "duration": 21,
    "start_time": "2023-12-13T12:17:56.164Z"
   },
   {
    "duration": 1101,
    "start_time": "2023-12-13T12:19:32.574Z"
   },
   {
    "duration": 1952,
    "start_time": "2023-12-13T12:19:43.956Z"
   },
   {
    "duration": 1751,
    "start_time": "2023-12-13T12:24:23.220Z"
   },
   {
    "duration": 2391,
    "start_time": "2023-12-13T12:26:06.890Z"
   },
   {
    "duration": 1144,
    "start_time": "2023-12-13T12:26:09.283Z"
   },
   {
    "duration": 3,
    "start_time": "2023-12-13T12:26:10.428Z"
   },
   {
    "duration": 142,
    "start_time": "2023-12-13T12:26:10.432Z"
   },
   {
    "duration": 17,
    "start_time": "2023-12-13T12:26:10.577Z"
   },
   {
    "duration": 28,
    "start_time": "2023-12-13T12:26:10.595Z"
   },
   {
    "duration": 24,
    "start_time": "2023-12-13T12:26:10.626Z"
   },
   {
    "duration": 32,
    "start_time": "2023-12-13T12:26:10.652Z"
   },
   {
    "duration": 41,
    "start_time": "2023-12-13T12:26:10.687Z"
   },
   {
    "duration": 17,
    "start_time": "2023-12-13T12:26:10.731Z"
   },
   {
    "duration": 17,
    "start_time": "2023-12-13T12:26:10.750Z"
   },
   {
    "duration": 89,
    "start_time": "2023-12-13T12:26:10.770Z"
   },
   {
    "duration": 20,
    "start_time": "2023-12-13T12:26:10.860Z"
   },
   {
    "duration": 13,
    "start_time": "2023-12-13T12:26:10.883Z"
   },
   {
    "duration": 28,
    "start_time": "2023-12-13T12:26:10.898Z"
   },
   {
    "duration": 29,
    "start_time": "2023-12-13T12:26:10.928Z"
   },
   {
    "duration": 9,
    "start_time": "2023-12-13T12:26:10.958Z"
   },
   {
    "duration": 44,
    "start_time": "2023-12-13T12:26:10.969Z"
   },
   {
    "duration": 9,
    "start_time": "2023-12-13T12:26:11.015Z"
   },
   {
    "duration": 36,
    "start_time": "2023-12-13T12:26:11.026Z"
   },
   {
    "duration": 10,
    "start_time": "2023-12-13T12:26:11.063Z"
   },
   {
    "duration": 23,
    "start_time": "2023-12-13T12:26:11.075Z"
   },
   {
    "duration": 20,
    "start_time": "2023-12-13T12:26:11.099Z"
   },
   {
    "duration": 28,
    "start_time": "2023-12-13T12:26:11.120Z"
   },
   {
    "duration": 30,
    "start_time": "2023-12-13T12:26:11.149Z"
   },
   {
    "duration": 36,
    "start_time": "2023-12-13T12:26:11.181Z"
   },
   {
    "duration": 13,
    "start_time": "2023-12-13T12:26:11.219Z"
   },
   {
    "duration": 30,
    "start_time": "2023-12-13T12:26:11.234Z"
   },
   {
    "duration": 25,
    "start_time": "2023-12-13T12:26:11.266Z"
   },
   {
    "duration": 21,
    "start_time": "2023-12-13T12:26:11.293Z"
   },
   {
    "duration": 53,
    "start_time": "2023-12-13T12:26:11.315Z"
   },
   {
    "duration": 76,
    "start_time": "2023-12-13T12:26:11.369Z"
   },
   {
    "duration": 48,
    "start_time": "2023-12-13T12:26:11.446Z"
   },
   {
    "duration": 27,
    "start_time": "2023-12-13T12:26:11.495Z"
   },
   {
    "duration": 73,
    "start_time": "2023-12-13T12:26:11.524Z"
   },
   {
    "duration": 30,
    "start_time": "2023-12-13T12:26:11.599Z"
   },
   {
    "duration": 66,
    "start_time": "2023-12-13T12:26:11.630Z"
   },
   {
    "duration": 1066,
    "start_time": "2023-12-13T12:26:11.698Z"
   },
   {
    "duration": 1993,
    "start_time": "2023-12-13T12:26:12.766Z"
   },
   {
    "duration": 18,
    "start_time": "2023-12-13T12:26:14.761Z"
   },
   {
    "duration": 97,
    "start_time": "2023-12-13T12:28:22.525Z"
   },
   {
    "duration": 16,
    "start_time": "2023-12-13T12:28:48.189Z"
   },
   {
    "duration": 2324,
    "start_time": "2023-12-13T12:29:02.160Z"
   },
   {
    "duration": 1104,
    "start_time": "2023-12-13T12:29:04.486Z"
   },
   {
    "duration": 3,
    "start_time": "2023-12-13T12:29:05.591Z"
   },
   {
    "duration": 122,
    "start_time": "2023-12-13T12:29:05.596Z"
   },
   {
    "duration": 16,
    "start_time": "2023-12-13T12:29:05.721Z"
   },
   {
    "duration": 12,
    "start_time": "2023-12-13T12:29:05.739Z"
   },
   {
    "duration": 17,
    "start_time": "2023-12-13T12:29:05.753Z"
   },
   {
    "duration": 11,
    "start_time": "2023-12-13T12:29:05.771Z"
   },
   {
    "duration": 14,
    "start_time": "2023-12-13T12:29:05.783Z"
   },
   {
    "duration": 11,
    "start_time": "2023-12-13T12:29:05.799Z"
   },
   {
    "duration": 5,
    "start_time": "2023-12-13T12:29:05.811Z"
   },
   {
    "duration": 102,
    "start_time": "2023-12-13T12:29:05.818Z"
   },
   {
    "duration": 22,
    "start_time": "2023-12-13T12:29:05.922Z"
   },
   {
    "duration": 19,
    "start_time": "2023-12-13T12:29:05.947Z"
   },
   {
    "duration": 15,
    "start_time": "2023-12-13T12:29:05.968Z"
   },
   {
    "duration": 16,
    "start_time": "2023-12-13T12:29:05.984Z"
   },
   {
    "duration": 8,
    "start_time": "2023-12-13T12:29:06.002Z"
   },
   {
    "duration": 30,
    "start_time": "2023-12-13T12:29:06.012Z"
   },
   {
    "duration": 24,
    "start_time": "2023-12-13T12:29:06.044Z"
   },
   {
    "duration": 14,
    "start_time": "2023-12-13T12:29:06.070Z"
   },
   {
    "duration": 25,
    "start_time": "2023-12-13T12:29:06.085Z"
   },
   {
    "duration": 18,
    "start_time": "2023-12-13T12:29:06.112Z"
   },
   {
    "duration": 7,
    "start_time": "2023-12-13T12:29:06.131Z"
   },
   {
    "duration": 14,
    "start_time": "2023-12-13T12:29:06.139Z"
   },
   {
    "duration": 16,
    "start_time": "2023-12-13T12:29:06.154Z"
   },
   {
    "duration": 7,
    "start_time": "2023-12-13T12:29:06.171Z"
   },
   {
    "duration": 10,
    "start_time": "2023-12-13T12:29:06.179Z"
   },
   {
    "duration": 14,
    "start_time": "2023-12-13T12:29:06.190Z"
   },
   {
    "duration": 23,
    "start_time": "2023-12-13T12:29:06.205Z"
   },
   {
    "duration": 16,
    "start_time": "2023-12-13T12:29:06.229Z"
   },
   {
    "duration": 4,
    "start_time": "2023-12-13T12:29:06.246Z"
   },
   {
    "duration": 28,
    "start_time": "2023-12-13T12:29:06.251Z"
   },
   {
    "duration": 40,
    "start_time": "2023-12-13T12:29:06.280Z"
   },
   {
    "duration": 10,
    "start_time": "2023-12-13T12:29:06.321Z"
   },
   {
    "duration": 36,
    "start_time": "2023-12-13T12:29:06.332Z"
   },
   {
    "duration": 12,
    "start_time": "2023-12-13T12:29:06.369Z"
   },
   {
    "duration": 20,
    "start_time": "2023-12-13T12:29:06.382Z"
   },
   {
    "duration": 976,
    "start_time": "2023-12-13T12:29:06.403Z"
   },
   {
    "duration": 1943,
    "start_time": "2023-12-13T12:29:07.380Z"
   },
   {
    "duration": 99,
    "start_time": "2023-12-13T12:29:09.324Z"
   },
   {
    "duration": 16,
    "start_time": "2023-12-13T12:30:35.248Z"
   },
   {
    "duration": 336,
    "start_time": "2023-12-13T12:41:54.664Z"
   },
   {
    "duration": 315,
    "start_time": "2023-12-13T12:42:07.518Z"
   },
   {
    "duration": 342,
    "start_time": "2023-12-13T12:42:14.045Z"
   },
   {
    "duration": 16,
    "start_time": "2023-12-13T12:53:08.730Z"
   },
   {
    "duration": 2323,
    "start_time": "2023-12-13T12:53:17.023Z"
   },
   {
    "duration": 1175,
    "start_time": "2023-12-13T12:53:19.349Z"
   },
   {
    "duration": 3,
    "start_time": "2023-12-13T12:53:20.525Z"
   },
   {
    "duration": 146,
    "start_time": "2023-12-13T12:53:20.531Z"
   },
   {
    "duration": 18,
    "start_time": "2023-12-13T12:53:20.679Z"
   },
   {
    "duration": 35,
    "start_time": "2023-12-13T12:53:20.698Z"
   },
   {
    "duration": 53,
    "start_time": "2023-12-13T12:53:20.734Z"
   },
   {
    "duration": 26,
    "start_time": "2023-12-13T12:53:20.788Z"
   },
   {
    "duration": 38,
    "start_time": "2023-12-13T12:53:20.816Z"
   },
   {
    "duration": 15,
    "start_time": "2023-12-13T12:53:20.857Z"
   },
   {
    "duration": 21,
    "start_time": "2023-12-13T12:53:20.873Z"
   },
   {
    "duration": 79,
    "start_time": "2023-12-13T12:53:20.896Z"
   },
   {
    "duration": 19,
    "start_time": "2023-12-13T12:53:20.977Z"
   },
   {
    "duration": 14,
    "start_time": "2023-12-13T12:53:20.998Z"
   },
   {
    "duration": 27,
    "start_time": "2023-12-13T12:53:21.014Z"
   },
   {
    "duration": 21,
    "start_time": "2023-12-13T12:53:21.043Z"
   },
   {
    "duration": 21,
    "start_time": "2023-12-13T12:53:21.065Z"
   },
   {
    "duration": 40,
    "start_time": "2023-12-13T12:53:21.087Z"
   },
   {
    "duration": 20,
    "start_time": "2023-12-13T12:53:21.128Z"
   },
   {
    "duration": 38,
    "start_time": "2023-12-13T12:53:21.149Z"
   },
   {
    "duration": 23,
    "start_time": "2023-12-13T12:53:21.188Z"
   },
   {
    "duration": 34,
    "start_time": "2023-12-13T12:53:21.213Z"
   },
   {
    "duration": 48,
    "start_time": "2023-12-13T12:53:21.248Z"
   },
   {
    "duration": 27,
    "start_time": "2023-12-13T12:53:21.297Z"
   },
   {
    "duration": 41,
    "start_time": "2023-12-13T12:53:21.325Z"
   },
   {
    "duration": 31,
    "start_time": "2023-12-13T12:53:21.367Z"
   },
   {
    "duration": 21,
    "start_time": "2023-12-13T12:53:21.399Z"
   },
   {
    "duration": 28,
    "start_time": "2023-12-13T12:53:21.423Z"
   },
   {
    "duration": 30,
    "start_time": "2023-12-13T12:53:21.453Z"
   },
   {
    "duration": 40,
    "start_time": "2023-12-13T12:53:21.485Z"
   },
   {
    "duration": 27,
    "start_time": "2023-12-13T12:53:21.526Z"
   },
   {
    "duration": 35,
    "start_time": "2023-12-13T12:53:21.555Z"
   },
   {
    "duration": 55,
    "start_time": "2023-12-13T12:53:21.592Z"
   },
   {
    "duration": 11,
    "start_time": "2023-12-13T12:53:21.648Z"
   },
   {
    "duration": 21,
    "start_time": "2023-12-13T12:53:21.660Z"
   },
   {
    "duration": 15,
    "start_time": "2023-12-13T12:53:21.682Z"
   },
   {
    "duration": 37,
    "start_time": "2023-12-13T12:53:21.698Z"
   },
   {
    "duration": 1026,
    "start_time": "2023-12-13T12:53:21.736Z"
   },
   {
    "duration": 2090,
    "start_time": "2023-12-13T12:53:22.765Z"
   },
   {
    "duration": 17,
    "start_time": "2023-12-13T12:53:24.856Z"
   },
   {
    "duration": 342,
    "start_time": "2023-12-13T12:53:24.875Z"
   },
   {
    "duration": 7,
    "start_time": "2023-12-13T13:01:23.186Z"
   },
   {
    "duration": 111,
    "start_time": "2023-12-13T13:02:14.022Z"
   },
   {
    "duration": 110,
    "start_time": "2023-12-13T13:04:50.995Z"
   },
   {
    "duration": 197,
    "start_time": "2023-12-13T13:06:23.707Z"
   },
   {
    "duration": 16,
    "start_time": "2023-12-13T13:11:12.090Z"
   },
   {
    "duration": 13,
    "start_time": "2023-12-13T13:12:53.561Z"
   },
   {
    "duration": 2450,
    "start_time": "2023-12-13T13:12:57.725Z"
   },
   {
    "duration": 1261,
    "start_time": "2023-12-13T13:13:00.178Z"
   },
   {
    "duration": 3,
    "start_time": "2023-12-13T13:13:01.440Z"
   },
   {
    "duration": 129,
    "start_time": "2023-12-13T13:13:01.445Z"
   },
   {
    "duration": 18,
    "start_time": "2023-12-13T13:13:01.577Z"
   },
   {
    "duration": 68,
    "start_time": "2023-12-13T13:13:01.596Z"
   },
   {
    "duration": 42,
    "start_time": "2023-12-13T13:13:01.666Z"
   },
   {
    "duration": 19,
    "start_time": "2023-12-13T13:13:01.710Z"
   },
   {
    "duration": 25,
    "start_time": "2023-12-13T13:13:01.731Z"
   },
   {
    "duration": 34,
    "start_time": "2023-12-13T13:13:01.758Z"
   },
   {
    "duration": 43,
    "start_time": "2023-12-13T13:13:01.794Z"
   },
   {
    "duration": 79,
    "start_time": "2023-12-13T13:13:01.839Z"
   },
   {
    "duration": 21,
    "start_time": "2023-12-13T13:13:01.919Z"
   },
   {
    "duration": 10,
    "start_time": "2023-12-13T13:13:01.943Z"
   },
   {
    "duration": 29,
    "start_time": "2023-12-13T13:13:01.966Z"
   },
   {
    "duration": 32,
    "start_time": "2023-12-13T13:13:01.997Z"
   },
   {
    "duration": 22,
    "start_time": "2023-12-13T13:13:02.031Z"
   },
   {
    "duration": 64,
    "start_time": "2023-12-13T13:13:02.054Z"
   },
   {
    "duration": 34,
    "start_time": "2023-12-13T13:13:02.119Z"
   },
   {
    "duration": 36,
    "start_time": "2023-12-13T13:13:02.155Z"
   },
   {
    "duration": 22,
    "start_time": "2023-12-13T13:13:02.192Z"
   },
   {
    "duration": 22,
    "start_time": "2023-12-13T13:13:02.215Z"
   },
   {
    "duration": 14,
    "start_time": "2023-12-13T13:13:02.239Z"
   },
   {
    "duration": 24,
    "start_time": "2023-12-13T13:13:02.254Z"
   },
   {
    "duration": 36,
    "start_time": "2023-12-13T13:13:02.279Z"
   },
   {
    "duration": 22,
    "start_time": "2023-12-13T13:13:02.317Z"
   },
   {
    "duration": 21,
    "start_time": "2023-12-13T13:13:02.341Z"
   },
   {
    "duration": 22,
    "start_time": "2023-12-13T13:13:02.364Z"
   },
   {
    "duration": 21,
    "start_time": "2023-12-13T13:13:02.388Z"
   },
   {
    "duration": 21,
    "start_time": "2023-12-13T13:13:02.411Z"
   },
   {
    "duration": 19,
    "start_time": "2023-12-13T13:13:02.434Z"
   },
   {
    "duration": 31,
    "start_time": "2023-12-13T13:13:02.454Z"
   },
   {
    "duration": 49,
    "start_time": "2023-12-13T13:13:02.487Z"
   },
   {
    "duration": 39,
    "start_time": "2023-12-13T13:13:02.537Z"
   },
   {
    "duration": 17,
    "start_time": "2023-12-13T13:13:02.577Z"
   },
   {
    "duration": 25,
    "start_time": "2023-12-13T13:13:02.596Z"
   },
   {
    "duration": 27,
    "start_time": "2023-12-13T13:13:02.623Z"
   },
   {
    "duration": 14,
    "start_time": "2023-12-13T13:13:02.652Z"
   },
   {
    "duration": 30,
    "start_time": "2023-12-13T13:13:02.668Z"
   },
   {
    "duration": 1285,
    "start_time": "2023-12-13T13:13:02.700Z"
   },
   {
    "duration": 2131,
    "start_time": "2023-12-13T13:13:03.988Z"
   },
   {
    "duration": 16,
    "start_time": "2023-12-13T13:13:06.121Z"
   },
   {
    "duration": 336,
    "start_time": "2023-12-13T13:13:06.139Z"
   },
   {
    "duration": 128,
    "start_time": "2023-12-13T13:13:06.477Z"
   },
   {
    "duration": 5,
    "start_time": "2023-12-13T13:13:06.607Z"
   },
   {
    "duration": 397,
    "start_time": "2023-12-13T13:29:32.264Z"
   },
   {
    "duration": 8,
    "start_time": "2023-12-13T13:31:30.281Z"
   },
   {
    "duration": 2372,
    "start_time": "2023-12-13T13:31:38.596Z"
   },
   {
    "duration": 1430,
    "start_time": "2023-12-13T13:31:40.970Z"
   },
   {
    "duration": 3,
    "start_time": "2023-12-13T13:31:42.402Z"
   },
   {
    "duration": 107,
    "start_time": "2023-12-13T13:31:42.408Z"
   },
   {
    "duration": 18,
    "start_time": "2023-12-13T13:31:42.516Z"
   },
   {
    "duration": 12,
    "start_time": "2023-12-13T13:31:42.536Z"
   },
   {
    "duration": 30,
    "start_time": "2023-12-13T13:31:42.550Z"
   },
   {
    "duration": 35,
    "start_time": "2023-12-13T13:31:42.581Z"
   },
   {
    "duration": 40,
    "start_time": "2023-12-13T13:31:42.618Z"
   },
   {
    "duration": 18,
    "start_time": "2023-12-13T13:31:42.660Z"
   },
   {
    "duration": 18,
    "start_time": "2023-12-13T13:31:42.680Z"
   },
   {
    "duration": 56,
    "start_time": "2023-12-13T13:31:42.700Z"
   },
   {
    "duration": 22,
    "start_time": "2023-12-13T13:31:42.757Z"
   },
   {
    "duration": 5,
    "start_time": "2023-12-13T13:31:42.783Z"
   },
   {
    "duration": 10,
    "start_time": "2023-12-13T13:31:42.790Z"
   },
   {
    "duration": 16,
    "start_time": "2023-12-13T13:31:42.802Z"
   },
   {
    "duration": 6,
    "start_time": "2023-12-13T13:31:42.820Z"
   },
   {
    "duration": 51,
    "start_time": "2023-12-13T13:31:42.827Z"
   },
   {
    "duration": 8,
    "start_time": "2023-12-13T13:31:42.880Z"
   },
   {
    "duration": 14,
    "start_time": "2023-12-13T13:31:42.889Z"
   },
   {
    "duration": 8,
    "start_time": "2023-12-13T13:31:42.904Z"
   },
   {
    "duration": 7,
    "start_time": "2023-12-13T13:31:42.914Z"
   },
   {
    "duration": 46,
    "start_time": "2023-12-13T13:31:42.923Z"
   },
   {
    "duration": 14,
    "start_time": "2023-12-13T13:31:42.971Z"
   },
   {
    "duration": 30,
    "start_time": "2023-12-13T13:31:42.987Z"
   },
   {
    "duration": 15,
    "start_time": "2023-12-13T13:31:43.019Z"
   },
   {
    "duration": 8,
    "start_time": "2023-12-13T13:31:43.036Z"
   },
   {
    "duration": 25,
    "start_time": "2023-12-13T13:31:43.046Z"
   },
   {
    "duration": 7,
    "start_time": "2023-12-13T13:31:43.073Z"
   },
   {
    "duration": 4,
    "start_time": "2023-12-13T13:31:43.082Z"
   },
   {
    "duration": 5,
    "start_time": "2023-12-13T13:31:43.087Z"
   },
   {
    "duration": 32,
    "start_time": "2023-12-13T13:31:43.093Z"
   },
   {
    "duration": 71,
    "start_time": "2023-12-13T13:31:43.126Z"
   },
   {
    "duration": 14,
    "start_time": "2023-12-13T13:31:43.198Z"
   },
   {
    "duration": 15,
    "start_time": "2023-12-13T13:31:43.214Z"
   },
   {
    "duration": 10,
    "start_time": "2023-12-13T13:31:43.231Z"
   },
   {
    "duration": 11,
    "start_time": "2023-12-13T13:31:43.266Z"
   },
   {
    "duration": 14,
    "start_time": "2023-12-13T13:31:43.278Z"
   },
   {
    "duration": 20,
    "start_time": "2023-12-13T13:31:43.294Z"
   },
   {
    "duration": 1060,
    "start_time": "2023-12-13T13:31:43.315Z"
   },
   {
    "duration": 2131,
    "start_time": "2023-12-13T13:31:44.380Z"
   },
   {
    "duration": 17,
    "start_time": "2023-12-13T13:31:46.512Z"
   },
   {
    "duration": 345,
    "start_time": "2023-12-13T13:31:46.531Z"
   },
   {
    "duration": 123,
    "start_time": "2023-12-13T13:31:46.877Z"
   },
   {
    "duration": 6,
    "start_time": "2023-12-13T13:31:47.002Z"
   },
   {
    "duration": 37,
    "start_time": "2023-12-13T13:31:47.009Z"
   },
   {
    "duration": 6,
    "start_time": "2023-12-13T14:19:38.363Z"
   },
   {
    "duration": 6,
    "start_time": "2023-12-13T14:19:48.893Z"
   },
   {
    "duration": 115,
    "start_time": "2023-12-13T14:21:14.762Z"
   },
   {
    "duration": 12,
    "start_time": "2023-12-13T14:21:51.257Z"
   },
   {
    "duration": 90,
    "start_time": "2023-12-13T14:22:11.626Z"
   },
   {
    "duration": 3,
    "start_time": "2023-12-13T14:22:22.090Z"
   },
   {
    "duration": 12,
    "start_time": "2023-12-13T14:22:30.523Z"
   },
   {
    "duration": 6,
    "start_time": "2023-12-13T14:28:51.954Z"
   },
   {
    "duration": 13,
    "start_time": "2023-12-13T14:30:49.292Z"
   },
   {
    "duration": 2346,
    "start_time": "2023-12-13T14:30:57.121Z"
   },
   {
    "duration": 1480,
    "start_time": "2023-12-13T14:30:59.469Z"
   },
   {
    "duration": 3,
    "start_time": "2023-12-13T14:31:00.951Z"
   },
   {
    "duration": 130,
    "start_time": "2023-12-13T14:31:00.955Z"
   },
   {
    "duration": 17,
    "start_time": "2023-12-13T14:31:01.088Z"
   },
   {
    "duration": 40,
    "start_time": "2023-12-13T14:31:01.107Z"
   },
   {
    "duration": 67,
    "start_time": "2023-12-13T14:31:01.148Z"
   },
   {
    "duration": 63,
    "start_time": "2023-12-13T14:31:01.217Z"
   },
   {
    "duration": 65,
    "start_time": "2023-12-13T14:31:01.282Z"
   },
   {
    "duration": 33,
    "start_time": "2023-12-13T14:31:01.348Z"
   },
   {
    "duration": 65,
    "start_time": "2023-12-13T14:31:01.383Z"
   },
   {
    "duration": 99,
    "start_time": "2023-12-13T14:31:01.450Z"
   },
   {
    "duration": 31,
    "start_time": "2023-12-13T14:31:01.551Z"
   },
   {
    "duration": 44,
    "start_time": "2023-12-13T14:31:01.586Z"
   },
   {
    "duration": 45,
    "start_time": "2023-12-13T14:31:01.632Z"
   },
   {
    "duration": 69,
    "start_time": "2023-12-13T14:31:01.678Z"
   },
   {
    "duration": 67,
    "start_time": "2023-12-13T14:31:01.748Z"
   },
   {
    "duration": 100,
    "start_time": "2023-12-13T14:31:01.817Z"
   },
   {
    "duration": 21,
    "start_time": "2023-12-13T14:31:01.918Z"
   },
   {
    "duration": 55,
    "start_time": "2023-12-13T14:31:01.941Z"
   },
   {
    "duration": 21,
    "start_time": "2023-12-13T14:31:01.998Z"
   },
   {
    "duration": 40,
    "start_time": "2023-12-13T14:31:02.021Z"
   },
   {
    "duration": 27,
    "start_time": "2023-12-13T14:31:02.063Z"
   },
   {
    "duration": 79,
    "start_time": "2023-12-13T14:31:02.092Z"
   },
   {
    "duration": 44,
    "start_time": "2023-12-13T14:31:02.173Z"
   },
   {
    "duration": 30,
    "start_time": "2023-12-13T14:31:02.218Z"
   },
   {
    "duration": 24,
    "start_time": "2023-12-13T14:31:02.250Z"
   },
   {
    "duration": 39,
    "start_time": "2023-12-13T14:31:02.276Z"
   },
   {
    "duration": 34,
    "start_time": "2023-12-13T14:31:02.317Z"
   },
   {
    "duration": 24,
    "start_time": "2023-12-13T14:31:02.353Z"
   },
   {
    "duration": 52,
    "start_time": "2023-12-13T14:31:02.379Z"
   },
   {
    "duration": 58,
    "start_time": "2023-12-13T14:31:02.433Z"
   },
   {
    "duration": 46,
    "start_time": "2023-12-13T14:31:02.493Z"
   },
   {
    "duration": 16,
    "start_time": "2023-12-13T14:31:02.541Z"
   },
   {
    "duration": 27,
    "start_time": "2023-12-13T14:31:02.565Z"
   },
   {
    "duration": 35,
    "start_time": "2023-12-13T14:31:02.594Z"
   },
   {
    "duration": 46,
    "start_time": "2023-12-13T14:31:02.630Z"
   },
   {
    "duration": 48,
    "start_time": "2023-12-13T14:31:02.677Z"
   },
   {
    "duration": 1059,
    "start_time": "2023-12-13T14:31:02.726Z"
   },
   {
    "duration": 2045,
    "start_time": "2023-12-13T14:31:03.786Z"
   },
   {
    "duration": 17,
    "start_time": "2023-12-13T14:31:05.835Z"
   },
   {
    "duration": 343,
    "start_time": "2023-12-13T14:31:05.853Z"
   },
   {
    "duration": 121,
    "start_time": "2023-12-13T14:31:06.198Z"
   },
   {
    "duration": 5,
    "start_time": "2023-12-13T14:31:06.321Z"
   },
   {
    "duration": 22,
    "start_time": "2023-12-13T14:31:06.327Z"
   },
   {
    "duration": 130,
    "start_time": "2023-12-13T14:31:06.350Z"
   },
   {
    "duration": 0,
    "start_time": "2023-12-13T14:31:06.482Z"
   },
   {
    "duration": 0,
    "start_time": "2023-12-13T14:31:06.483Z"
   },
   {
    "duration": 40,
    "start_time": "2023-12-13T14:32:41.644Z"
   },
   {
    "duration": 266,
    "start_time": "2023-12-13T14:33:02.442Z"
   },
   {
    "duration": 259,
    "start_time": "2023-12-13T14:38:54.720Z"
   },
   {
    "duration": 52,
    "start_time": "2023-12-13T14:39:35.150Z"
   },
   {
    "duration": 39,
    "start_time": "2023-12-13T14:40:28.135Z"
   },
   {
    "duration": 39,
    "start_time": "2023-12-13T14:41:27.503Z"
   },
   {
    "duration": 41,
    "start_time": "2023-12-13T14:45:03.703Z"
   },
   {
    "duration": 2317,
    "start_time": "2023-12-13T14:45:14.824Z"
   },
   {
    "duration": 1416,
    "start_time": "2023-12-13T14:45:17.143Z"
   },
   {
    "duration": 7,
    "start_time": "2023-12-13T14:45:18.560Z"
   },
   {
    "duration": 101,
    "start_time": "2023-12-13T14:45:18.569Z"
   },
   {
    "duration": 15,
    "start_time": "2023-12-13T14:45:18.672Z"
   },
   {
    "duration": 13,
    "start_time": "2023-12-13T14:45:18.689Z"
   },
   {
    "duration": 31,
    "start_time": "2023-12-13T14:45:18.703Z"
   },
   {
    "duration": 45,
    "start_time": "2023-12-13T14:45:18.735Z"
   },
   {
    "duration": 36,
    "start_time": "2023-12-13T14:45:18.782Z"
   },
   {
    "duration": 42,
    "start_time": "2023-12-13T14:45:18.819Z"
   },
   {
    "duration": 21,
    "start_time": "2023-12-13T14:45:18.863Z"
   },
   {
    "duration": 84,
    "start_time": "2023-12-13T14:45:18.885Z"
   },
   {
    "duration": 18,
    "start_time": "2023-12-13T14:45:18.970Z"
   },
   {
    "duration": 29,
    "start_time": "2023-12-13T14:45:18.991Z"
   },
   {
    "duration": 24,
    "start_time": "2023-12-13T14:45:19.022Z"
   },
   {
    "duration": 32,
    "start_time": "2023-12-13T14:45:19.047Z"
   },
   {
    "duration": 41,
    "start_time": "2023-12-13T14:45:19.080Z"
   },
   {
    "duration": 27,
    "start_time": "2023-12-13T14:45:19.122Z"
   },
   {
    "duration": 10,
    "start_time": "2023-12-13T14:45:19.150Z"
   },
   {
    "duration": 30,
    "start_time": "2023-12-13T14:45:19.162Z"
   },
   {
    "duration": 25,
    "start_time": "2023-12-13T14:45:19.193Z"
   },
   {
    "duration": 21,
    "start_time": "2023-12-13T14:45:19.219Z"
   },
   {
    "duration": 12,
    "start_time": "2023-12-13T14:45:19.242Z"
   },
   {
    "duration": 16,
    "start_time": "2023-12-13T14:45:19.255Z"
   },
   {
    "duration": 32,
    "start_time": "2023-12-13T14:45:19.272Z"
   },
   {
    "duration": 41,
    "start_time": "2023-12-13T14:45:19.306Z"
   },
   {
    "duration": 30,
    "start_time": "2023-12-13T14:45:19.349Z"
   },
   {
    "duration": 43,
    "start_time": "2023-12-13T14:45:19.381Z"
   },
   {
    "duration": 21,
    "start_time": "2023-12-13T14:45:19.425Z"
   },
   {
    "duration": 40,
    "start_time": "2023-12-13T14:45:19.447Z"
   },
   {
    "duration": 13,
    "start_time": "2023-12-13T14:45:19.490Z"
   },
   {
    "duration": 51,
    "start_time": "2023-12-13T14:45:19.505Z"
   },
   {
    "duration": 52,
    "start_time": "2023-12-13T14:45:19.558Z"
   },
   {
    "duration": 13,
    "start_time": "2023-12-13T14:45:19.612Z"
   },
   {
    "duration": 38,
    "start_time": "2023-12-13T14:45:19.626Z"
   },
   {
    "duration": 27,
    "start_time": "2023-12-13T14:45:19.665Z"
   },
   {
    "duration": 42,
    "start_time": "2023-12-13T14:45:19.694Z"
   },
   {
    "duration": 31,
    "start_time": "2023-12-13T14:45:19.738Z"
   },
   {
    "duration": 1015,
    "start_time": "2023-12-13T14:45:19.770Z"
   },
   {
    "duration": 2012,
    "start_time": "2023-12-13T14:45:20.787Z"
   },
   {
    "duration": 16,
    "start_time": "2023-12-13T14:45:22.802Z"
   },
   {
    "duration": 327,
    "start_time": "2023-12-13T14:45:22.820Z"
   },
   {
    "duration": 122,
    "start_time": "2023-12-13T14:45:23.149Z"
   },
   {
    "duration": 5,
    "start_time": "2023-12-13T14:45:23.273Z"
   },
   {
    "duration": 10,
    "start_time": "2023-12-13T14:45:23.279Z"
   },
   {
    "duration": 160,
    "start_time": "2023-12-13T14:45:23.291Z"
   },
   {
    "duration": 0,
    "start_time": "2023-12-13T14:45:23.452Z"
   },
   {
    "duration": 0,
    "start_time": "2023-12-13T14:45:23.453Z"
   },
   {
    "duration": 42,
    "start_time": "2023-12-13T14:47:08.685Z"
   },
   {
    "duration": 37,
    "start_time": "2023-12-13T14:49:05.003Z"
   },
   {
    "duration": 37,
    "start_time": "2023-12-13T14:50:37.774Z"
   },
   {
    "duration": 39,
    "start_time": "2023-12-13T14:51:08.721Z"
   },
   {
    "duration": 37,
    "start_time": "2023-12-13T14:52:20.172Z"
   },
   {
    "duration": 2325,
    "start_time": "2023-12-13T14:58:04.422Z"
   },
   {
    "duration": 1424,
    "start_time": "2023-12-13T14:58:06.749Z"
   },
   {
    "duration": 3,
    "start_time": "2023-12-13T14:58:08.175Z"
   },
   {
    "duration": 100,
    "start_time": "2023-12-13T14:58:08.180Z"
   },
   {
    "duration": 17,
    "start_time": "2023-12-13T14:58:08.282Z"
   },
   {
    "duration": 13,
    "start_time": "2023-12-13T14:58:08.300Z"
   },
   {
    "duration": 24,
    "start_time": "2023-12-13T14:58:08.314Z"
   },
   {
    "duration": 11,
    "start_time": "2023-12-13T14:58:08.339Z"
   },
   {
    "duration": 29,
    "start_time": "2023-12-13T14:58:08.352Z"
   },
   {
    "duration": 15,
    "start_time": "2023-12-13T14:58:08.383Z"
   },
   {
    "duration": 4,
    "start_time": "2023-12-13T14:58:08.400Z"
   },
   {
    "duration": 69,
    "start_time": "2023-12-13T14:58:08.405Z"
   },
   {
    "duration": 21,
    "start_time": "2023-12-13T14:58:08.475Z"
   },
   {
    "duration": 5,
    "start_time": "2023-12-13T14:58:08.497Z"
   },
   {
    "duration": 17,
    "start_time": "2023-12-13T14:58:08.504Z"
   },
   {
    "duration": 23,
    "start_time": "2023-12-13T14:58:08.522Z"
   },
   {
    "duration": 20,
    "start_time": "2023-12-13T14:58:08.549Z"
   },
   {
    "duration": 27,
    "start_time": "2023-12-13T14:58:08.571Z"
   },
   {
    "duration": 7,
    "start_time": "2023-12-13T14:58:08.599Z"
   },
   {
    "duration": 14,
    "start_time": "2023-12-13T14:58:08.608Z"
   },
   {
    "duration": 7,
    "start_time": "2023-12-13T14:58:08.623Z"
   },
   {
    "duration": 19,
    "start_time": "2023-12-13T14:58:08.631Z"
   },
   {
    "duration": 9,
    "start_time": "2023-12-13T14:58:08.665Z"
   },
   {
    "duration": 13,
    "start_time": "2023-12-13T14:58:08.675Z"
   },
   {
    "duration": 27,
    "start_time": "2023-12-13T14:58:08.690Z"
   },
   {
    "duration": 7,
    "start_time": "2023-12-13T14:58:08.719Z"
   },
   {
    "duration": 17,
    "start_time": "2023-12-13T14:58:08.728Z"
   },
   {
    "duration": 23,
    "start_time": "2023-12-13T14:58:08.748Z"
   },
   {
    "duration": 6,
    "start_time": "2023-12-13T14:58:08.772Z"
   },
   {
    "duration": 19,
    "start_time": "2023-12-13T14:58:08.779Z"
   },
   {
    "duration": 6,
    "start_time": "2023-12-13T14:58:08.800Z"
   },
   {
    "duration": 24,
    "start_time": "2023-12-13T14:58:08.807Z"
   },
   {
    "duration": 49,
    "start_time": "2023-12-13T14:58:08.833Z"
   },
   {
    "duration": 13,
    "start_time": "2023-12-13T14:58:08.883Z"
   },
   {
    "duration": 10,
    "start_time": "2023-12-13T14:58:08.898Z"
   },
   {
    "duration": 12,
    "start_time": "2023-12-13T14:58:08.909Z"
   },
   {
    "duration": 44,
    "start_time": "2023-12-13T14:58:08.922Z"
   },
   {
    "duration": 25,
    "start_time": "2023-12-13T14:58:08.968Z"
   },
   {
    "duration": 1015,
    "start_time": "2023-12-13T14:58:08.994Z"
   },
   {
    "duration": 2012,
    "start_time": "2023-12-13T14:58:10.011Z"
   },
   {
    "duration": 20,
    "start_time": "2023-12-13T14:58:12.024Z"
   },
   {
    "duration": 324,
    "start_time": "2023-12-13T14:58:12.045Z"
   },
   {
    "duration": 118,
    "start_time": "2023-12-13T14:58:12.370Z"
   },
   {
    "duration": 5,
    "start_time": "2023-12-13T14:58:12.490Z"
   },
   {
    "duration": 22,
    "start_time": "2023-12-13T14:58:12.496Z"
   },
   {
    "duration": 151,
    "start_time": "2023-12-13T14:58:12.520Z"
   },
   {
    "duration": 0,
    "start_time": "2023-12-13T14:58:12.672Z"
   },
   {
    "duration": 0,
    "start_time": "2023-12-13T14:58:12.673Z"
   },
   {
    "duration": 51,
    "start_time": "2023-12-13T15:00:56.833Z"
   },
   {
    "duration": 56,
    "start_time": "2023-12-13T15:03:33.810Z"
   },
   {
    "duration": 62,
    "start_time": "2023-12-13T15:04:12.461Z"
   },
   {
    "duration": 6,
    "start_time": "2023-12-13T15:10:23.587Z"
   },
   {
    "duration": 11,
    "start_time": "2023-12-13T15:11:31.209Z"
   },
   {
    "duration": 9,
    "start_time": "2023-12-13T15:15:46.557Z"
   },
   {
    "duration": 3,
    "start_time": "2023-12-13T15:16:19.950Z"
   },
   {
    "duration": 19,
    "start_time": "2023-12-13T15:16:25.737Z"
   },
   {
    "duration": 11,
    "start_time": "2023-12-13T15:16:42.561Z"
   },
   {
    "duration": 177,
    "start_time": "2023-12-13T15:24:46.554Z"
   },
   {
    "duration": 84,
    "start_time": "2023-12-13T15:24:57.700Z"
   },
   {
    "duration": 94,
    "start_time": "2023-12-13T15:25:10.349Z"
   },
   {
    "duration": 122,
    "start_time": "2023-12-13T15:25:20.155Z"
   },
   {
    "duration": 10,
    "start_time": "2023-12-13T15:25:40.379Z"
   },
   {
    "duration": 4,
    "start_time": "2023-12-13T15:26:09.655Z"
   },
   {
    "duration": 48,
    "start_time": "2023-12-13T15:26:17.178Z"
   },
   {
    "duration": 56,
    "start_time": "2023-12-13T15:26:48.571Z"
   },
   {
    "duration": 13,
    "start_time": "2023-12-13T15:29:08.844Z"
   },
   {
    "duration": 16,
    "start_time": "2023-12-13T15:30:22.961Z"
   },
   {
    "duration": 3980,
    "start_time": "2023-12-14T12:58:59.533Z"
   },
   {
    "duration": 1628,
    "start_time": "2023-12-14T12:59:03.515Z"
   },
   {
    "duration": 3,
    "start_time": "2023-12-14T12:59:05.145Z"
   },
   {
    "duration": 418,
    "start_time": "2023-12-14T12:59:05.150Z"
   },
   {
    "duration": 16,
    "start_time": "2023-12-14T12:59:05.570Z"
   },
   {
    "duration": 33,
    "start_time": "2023-12-14T12:59:05.588Z"
   },
   {
    "duration": 38,
    "start_time": "2023-12-14T12:59:05.622Z"
   },
   {
    "duration": 52,
    "start_time": "2023-12-14T12:59:05.661Z"
   },
   {
    "duration": 43,
    "start_time": "2023-12-14T12:59:05.715Z"
   },
   {
    "duration": 40,
    "start_time": "2023-12-14T12:59:05.760Z"
   },
   {
    "duration": 11,
    "start_time": "2023-12-14T12:59:05.802Z"
   },
   {
    "duration": 74,
    "start_time": "2023-12-14T12:59:05.815Z"
   },
   {
    "duration": 17,
    "start_time": "2023-12-14T12:59:05.890Z"
   },
   {
    "duration": 27,
    "start_time": "2023-12-14T12:59:05.908Z"
   },
   {
    "duration": 45,
    "start_time": "2023-12-14T12:59:05.937Z"
   },
   {
    "duration": 36,
    "start_time": "2023-12-14T12:59:05.983Z"
   },
   {
    "duration": 36,
    "start_time": "2023-12-14T12:59:06.021Z"
   },
   {
    "duration": 77,
    "start_time": "2023-12-14T12:59:06.058Z"
   },
   {
    "duration": 22,
    "start_time": "2023-12-14T12:59:06.136Z"
   },
   {
    "duration": 76,
    "start_time": "2023-12-14T12:59:06.159Z"
   },
   {
    "duration": 28,
    "start_time": "2023-12-14T12:59:06.237Z"
   },
   {
    "duration": 17,
    "start_time": "2023-12-14T12:59:06.267Z"
   },
   {
    "duration": 27,
    "start_time": "2023-12-14T12:59:06.285Z"
   },
   {
    "duration": 55,
    "start_time": "2023-12-14T12:59:06.314Z"
   },
   {
    "duration": 48,
    "start_time": "2023-12-14T12:59:06.371Z"
   },
   {
    "duration": 34,
    "start_time": "2023-12-14T12:59:06.420Z"
   },
   {
    "duration": 19,
    "start_time": "2023-12-14T12:59:06.455Z"
   },
   {
    "duration": 10,
    "start_time": "2023-12-14T12:59:06.478Z"
   },
   {
    "duration": 5,
    "start_time": "2023-12-14T12:59:06.490Z"
   },
   {
    "duration": 9,
    "start_time": "2023-12-14T12:59:06.496Z"
   },
   {
    "duration": 13,
    "start_time": "2023-12-14T12:59:06.506Z"
   },
   {
    "duration": 24,
    "start_time": "2023-12-14T12:59:06.520Z"
   },
   {
    "duration": 36,
    "start_time": "2023-12-14T12:59:06.547Z"
   },
   {
    "duration": 13,
    "start_time": "2023-12-14T12:59:06.584Z"
   },
   {
    "duration": 9,
    "start_time": "2023-12-14T12:59:06.598Z"
   },
   {
    "duration": 39,
    "start_time": "2023-12-14T12:59:06.608Z"
   },
   {
    "duration": 9,
    "start_time": "2023-12-14T12:59:06.649Z"
   },
   {
    "duration": 34,
    "start_time": "2023-12-14T12:59:06.660Z"
   },
   {
    "duration": 902,
    "start_time": "2023-12-14T12:59:06.696Z"
   },
   {
    "duration": 1854,
    "start_time": "2023-12-14T12:59:07.600Z"
   },
   {
    "duration": 14,
    "start_time": "2023-12-14T12:59:09.456Z"
   },
   {
    "duration": 298,
    "start_time": "2023-12-14T12:59:09.471Z"
   },
   {
    "duration": 116,
    "start_time": "2023-12-14T12:59:09.771Z"
   },
   {
    "duration": 4,
    "start_time": "2023-12-14T12:59:09.889Z"
   },
   {
    "duration": 30,
    "start_time": "2023-12-14T12:59:09.894Z"
   },
   {
    "duration": 95,
    "start_time": "2023-12-14T12:59:09.925Z"
   },
   {
    "duration": 23,
    "start_time": "2023-12-14T12:59:10.021Z"
   },
   {
    "duration": 63,
    "start_time": "2023-12-14T12:59:10.045Z"
   },
   {
    "duration": 75,
    "start_time": "2023-12-14T12:59:10.109Z"
   },
   {
    "duration": 68,
    "start_time": "2023-12-14T12:59:10.186Z"
   },
   {
    "duration": 11,
    "start_time": "2023-12-14T12:59:10.256Z"
   },
   {
    "duration": 21,
    "start_time": "2023-12-14T12:59:10.268Z"
   },
   {
    "duration": 4,
    "start_time": "2023-12-14T13:28:22.354Z"
   },
   {
    "duration": 4,
    "start_time": "2023-12-14T13:29:59.577Z"
   },
   {
    "duration": 1855,
    "start_time": "2023-12-14T13:41:04.402Z"
   },
   {
    "duration": 3,
    "start_time": "2023-12-14T14:14:06.239Z"
   },
   {
    "duration": 1560,
    "start_time": "2023-12-14T14:16:52.264Z"
   },
   {
    "duration": 1232,
    "start_time": "2023-12-14T14:17:53.718Z"
   },
   {
    "duration": 14,
    "start_time": "2023-12-14T14:18:26.417Z"
   },
   {
    "duration": 1299,
    "start_time": "2023-12-14T14:18:36.453Z"
   },
   {
    "duration": 1552,
    "start_time": "2023-12-14T14:25:25.105Z"
   },
   {
    "duration": 1300,
    "start_time": "2023-12-14T14:27:16.252Z"
   },
   {
    "duration": 1363,
    "start_time": "2023-12-14T14:27:35.986Z"
   },
   {
    "duration": 144,
    "start_time": "2023-12-14T14:31:04.607Z"
   },
   {
    "duration": 2766,
    "start_time": "2023-12-14T14:37:02.744Z"
   },
   {
    "duration": 1417,
    "start_time": "2023-12-14T14:37:05.512Z"
   },
   {
    "duration": 3,
    "start_time": "2023-12-14T14:37:06.930Z"
   },
   {
    "duration": 96,
    "start_time": "2023-12-14T14:37:06.935Z"
   },
   {
    "duration": 15,
    "start_time": "2023-12-14T14:37:07.032Z"
   },
   {
    "duration": 13,
    "start_time": "2023-12-14T14:37:07.048Z"
   },
   {
    "duration": 16,
    "start_time": "2023-12-14T14:37:07.062Z"
   },
   {
    "duration": 12,
    "start_time": "2023-12-14T14:37:07.079Z"
   },
   {
    "duration": 16,
    "start_time": "2023-12-14T14:37:07.092Z"
   },
   {
    "duration": 31,
    "start_time": "2023-12-14T14:37:07.110Z"
   },
   {
    "duration": 5,
    "start_time": "2023-12-14T14:37:07.143Z"
   },
   {
    "duration": 62,
    "start_time": "2023-12-14T14:37:07.150Z"
   },
   {
    "duration": 17,
    "start_time": "2023-12-14T14:37:07.213Z"
   },
   {
    "duration": 18,
    "start_time": "2023-12-14T14:37:07.231Z"
   },
   {
    "duration": 12,
    "start_time": "2023-12-14T14:37:07.251Z"
   },
   {
    "duration": 22,
    "start_time": "2023-12-14T14:37:07.264Z"
   },
   {
    "duration": 34,
    "start_time": "2023-12-14T14:37:07.287Z"
   },
   {
    "duration": 39,
    "start_time": "2023-12-14T14:37:07.322Z"
   },
   {
    "duration": 36,
    "start_time": "2023-12-14T14:37:07.363Z"
   },
   {
    "duration": 73,
    "start_time": "2023-12-14T14:37:07.400Z"
   },
   {
    "duration": 6,
    "start_time": "2023-12-14T14:37:07.475Z"
   },
   {
    "duration": 6,
    "start_time": "2023-12-14T14:37:07.482Z"
   },
   {
    "duration": 18,
    "start_time": "2023-12-14T14:37:07.489Z"
   },
   {
    "duration": 12,
    "start_time": "2023-12-14T14:37:07.508Z"
   },
   {
    "duration": 11,
    "start_time": "2023-12-14T14:37:07.521Z"
   },
   {
    "duration": 12,
    "start_time": "2023-12-14T14:37:07.534Z"
   },
   {
    "duration": 7,
    "start_time": "2023-12-14T14:37:07.547Z"
   },
   {
    "duration": 9,
    "start_time": "2023-12-14T14:37:07.557Z"
   },
   {
    "duration": 9,
    "start_time": "2023-12-14T14:37:07.567Z"
   },
   {
    "duration": 5,
    "start_time": "2023-12-14T14:37:07.577Z"
   },
   {
    "duration": 4,
    "start_time": "2023-12-14T14:37:07.583Z"
   },
   {
    "duration": 27,
    "start_time": "2023-12-14T14:37:07.588Z"
   },
   {
    "duration": 66,
    "start_time": "2023-12-14T14:37:07.616Z"
   },
   {
    "duration": 13,
    "start_time": "2023-12-14T14:37:07.683Z"
   },
   {
    "duration": 11,
    "start_time": "2023-12-14T14:37:07.698Z"
   },
   {
    "duration": 38,
    "start_time": "2023-12-14T14:37:07.711Z"
   },
   {
    "duration": 9,
    "start_time": "2023-12-14T14:37:07.751Z"
   },
   {
    "duration": 24,
    "start_time": "2023-12-14T14:37:07.761Z"
   },
   {
    "duration": 904,
    "start_time": "2023-12-14T14:37:07.787Z"
   },
   {
    "duration": 1790,
    "start_time": "2023-12-14T14:37:08.692Z"
   },
   {
    "duration": 14,
    "start_time": "2023-12-14T14:37:10.484Z"
   },
   {
    "duration": 298,
    "start_time": "2023-12-14T14:37:10.499Z"
   },
   {
    "duration": 119,
    "start_time": "2023-12-14T14:37:10.798Z"
   },
   {
    "duration": 4,
    "start_time": "2023-12-14T14:37:10.919Z"
   },
   {
    "duration": 47,
    "start_time": "2023-12-14T14:37:10.925Z"
   },
   {
    "duration": 84,
    "start_time": "2023-12-14T14:37:10.973Z"
   },
   {
    "duration": 5,
    "start_time": "2023-12-14T14:37:11.058Z"
   },
   {
    "duration": 39,
    "start_time": "2023-12-14T14:37:11.064Z"
   },
   {
    "duration": 31,
    "start_time": "2023-12-14T14:37:11.105Z"
   },
   {
    "duration": 48,
    "start_time": "2023-12-14T14:37:11.137Z"
   },
   {
    "duration": 12,
    "start_time": "2023-12-14T14:37:11.186Z"
   },
   {
    "duration": 19,
    "start_time": "2023-12-14T14:37:11.200Z"
   },
   {
    "duration": 1532,
    "start_time": "2023-12-14T14:37:11.220Z"
   },
   {
    "duration": 0,
    "start_time": "2023-12-14T14:37:12.754Z"
   },
   {
    "duration": 161,
    "start_time": "2023-12-14T14:37:19.689Z"
   },
   {
    "duration": 246,
    "start_time": "2023-12-14T14:37:31.308Z"
   },
   {
    "duration": 303,
    "start_time": "2023-12-14T14:40:05.446Z"
   },
   {
    "duration": 289,
    "start_time": "2023-12-14T14:44:35.566Z"
   },
   {
    "duration": 12,
    "start_time": "2023-12-14T14:45:06.563Z"
   },
   {
    "duration": 615,
    "start_time": "2023-12-14T14:46:19.480Z"
   },
   {
    "duration": 10,
    "start_time": "2023-12-14T14:46:53.268Z"
   },
   {
    "duration": 10,
    "start_time": "2023-12-14T14:47:00.402Z"
   },
   {
    "duration": 10,
    "start_time": "2023-12-14T14:47:09.597Z"
   },
   {
    "duration": 328,
    "start_time": "2023-12-14T14:48:09.119Z"
   },
   {
    "duration": 237,
    "start_time": "2023-12-14T14:48:17.318Z"
   },
   {
    "duration": 15,
    "start_time": "2023-12-14T14:52:16.397Z"
   },
   {
    "duration": 5,
    "start_time": "2023-12-14T14:54:04.169Z"
   },
   {
    "duration": 9,
    "start_time": "2023-12-14T14:54:13.252Z"
   },
   {
    "duration": 11,
    "start_time": "2023-12-14T14:54:31.317Z"
   },
   {
    "duration": 11,
    "start_time": "2023-12-14T14:54:52.408Z"
   },
   {
    "duration": 9,
    "start_time": "2023-12-14T14:55:16.343Z"
   },
   {
    "duration": 15,
    "start_time": "2023-12-14T14:55:51.502Z"
   },
   {
    "duration": 7,
    "start_time": "2023-12-14T14:56:09.087Z"
   },
   {
    "duration": 15,
    "start_time": "2023-12-14T14:56:25.984Z"
   },
   {
    "duration": 2717,
    "start_time": "2023-12-14T14:56:36.015Z"
   },
   {
    "duration": 1358,
    "start_time": "2023-12-14T14:56:38.734Z"
   },
   {
    "duration": 3,
    "start_time": "2023-12-14T14:56:40.093Z"
   },
   {
    "duration": 129,
    "start_time": "2023-12-14T14:56:40.097Z"
   },
   {
    "duration": 15,
    "start_time": "2023-12-14T14:56:40.228Z"
   },
   {
    "duration": 22,
    "start_time": "2023-12-14T14:56:40.244Z"
   },
   {
    "duration": 12,
    "start_time": "2023-12-14T14:56:40.267Z"
   },
   {
    "duration": 11,
    "start_time": "2023-12-14T14:56:40.281Z"
   },
   {
    "duration": 12,
    "start_time": "2023-12-14T14:56:40.294Z"
   },
   {
    "duration": 21,
    "start_time": "2023-12-14T14:56:40.309Z"
   },
   {
    "duration": 7,
    "start_time": "2023-12-14T14:56:40.332Z"
   },
   {
    "duration": 60,
    "start_time": "2023-12-14T14:56:40.340Z"
   },
   {
    "duration": 18,
    "start_time": "2023-12-14T14:56:40.401Z"
   },
   {
    "duration": 4,
    "start_time": "2023-12-14T14:56:40.421Z"
   },
   {
    "duration": 24,
    "start_time": "2023-12-14T14:56:40.426Z"
   },
   {
    "duration": 16,
    "start_time": "2023-12-14T14:56:40.451Z"
   },
   {
    "duration": 5,
    "start_time": "2023-12-14T14:56:40.469Z"
   },
   {
    "duration": 20,
    "start_time": "2023-12-14T14:56:40.475Z"
   },
   {
    "duration": 6,
    "start_time": "2023-12-14T14:56:40.497Z"
   },
   {
    "duration": 12,
    "start_time": "2023-12-14T14:56:40.504Z"
   },
   {
    "duration": 42,
    "start_time": "2023-12-14T14:56:40.517Z"
   },
   {
    "duration": 7,
    "start_time": "2023-12-14T14:56:40.560Z"
   },
   {
    "duration": 5,
    "start_time": "2023-12-14T14:56:40.568Z"
   },
   {
    "duration": 11,
    "start_time": "2023-12-14T14:56:40.574Z"
   },
   {
    "duration": 12,
    "start_time": "2023-12-14T14:56:40.586Z"
   },
   {
    "duration": 11,
    "start_time": "2023-12-14T14:56:40.599Z"
   },
   {
    "duration": 38,
    "start_time": "2023-12-14T14:56:40.611Z"
   },
   {
    "duration": 9,
    "start_time": "2023-12-14T14:56:40.652Z"
   },
   {
    "duration": 38,
    "start_time": "2023-12-14T14:56:40.662Z"
   },
   {
    "duration": 5,
    "start_time": "2023-12-14T14:56:40.701Z"
   },
   {
    "duration": 8,
    "start_time": "2023-12-14T14:56:40.707Z"
   },
   {
    "duration": 23,
    "start_time": "2023-12-14T14:56:40.717Z"
   },
   {
    "duration": 36,
    "start_time": "2023-12-14T14:56:40.742Z"
   },
   {
    "duration": 11,
    "start_time": "2023-12-14T14:56:40.779Z"
   },
   {
    "duration": 9,
    "start_time": "2023-12-14T14:56:40.791Z"
   },
   {
    "duration": 11,
    "start_time": "2023-12-14T14:56:40.801Z"
   },
   {
    "duration": 18,
    "start_time": "2023-12-14T14:56:40.813Z"
   },
   {
    "duration": 31,
    "start_time": "2023-12-14T14:56:40.832Z"
   },
   {
    "duration": 903,
    "start_time": "2023-12-14T14:56:40.865Z"
   },
   {
    "duration": 1820,
    "start_time": "2023-12-14T14:56:41.770Z"
   },
   {
    "duration": 15,
    "start_time": "2023-12-14T14:56:43.592Z"
   },
   {
    "duration": 303,
    "start_time": "2023-12-14T14:56:43.608Z"
   },
   {
    "duration": 116,
    "start_time": "2023-12-14T14:56:43.912Z"
   },
   {
    "duration": 5,
    "start_time": "2023-12-14T14:56:44.030Z"
   },
   {
    "duration": 18,
    "start_time": "2023-12-14T14:56:44.036Z"
   },
   {
    "duration": 63,
    "start_time": "2023-12-14T14:56:44.055Z"
   },
   {
    "duration": 6,
    "start_time": "2023-12-14T14:56:44.119Z"
   },
   {
    "duration": 29,
    "start_time": "2023-12-14T14:56:44.127Z"
   },
   {
    "duration": 15,
    "start_time": "2023-12-14T14:56:44.158Z"
   },
   {
    "duration": 47,
    "start_time": "2023-12-14T14:56:44.174Z"
   },
   {
    "duration": 33,
    "start_time": "2023-12-14T14:56:44.223Z"
   },
   {
    "duration": 23,
    "start_time": "2023-12-14T14:56:44.257Z"
   },
   {
    "duration": 1773,
    "start_time": "2023-12-14T14:56:44.282Z"
   },
   {
    "duration": 0,
    "start_time": "2023-12-14T14:56:46.057Z"
   },
   {
    "duration": 0,
    "start_time": "2023-12-14T14:56:46.059Z"
   },
   {
    "duration": 1284,
    "start_time": "2023-12-14T14:56:54.373Z"
   },
   {
    "duration": 300,
    "start_time": "2023-12-14T14:56:57.255Z"
   },
   {
    "duration": 7,
    "start_time": "2023-12-14T14:57:01.447Z"
   },
   {
    "duration": 253,
    "start_time": "2023-12-14T14:57:15.696Z"
   },
   {
    "duration": 267,
    "start_time": "2023-12-14T14:58:10.887Z"
   },
   {
    "duration": 313,
    "start_time": "2023-12-14T14:59:24.637Z"
   },
   {
    "duration": 128,
    "start_time": "2023-12-14T14:59:39.829Z"
   },
   {
    "duration": 217,
    "start_time": "2023-12-14T15:05:24.440Z"
   },
   {
    "duration": 478,
    "start_time": "2023-12-14T15:05:33.673Z"
   },
   {
    "duration": 286,
    "start_time": "2023-12-14T15:06:00.063Z"
   },
   {
    "duration": 240,
    "start_time": "2023-12-14T15:06:58.609Z"
   },
   {
    "duration": 268,
    "start_time": "2023-12-14T15:07:24.079Z"
   },
   {
    "duration": 161,
    "start_time": "2023-12-14T15:09:53.296Z"
   },
   {
    "duration": 292,
    "start_time": "2023-12-14T15:10:30.657Z"
   },
   {
    "duration": 1500,
    "start_time": "2023-12-14T15:15:42.348Z"
   },
   {
    "duration": 3180,
    "start_time": "2023-12-15T11:11:01.461Z"
   },
   {
    "duration": 1582,
    "start_time": "2023-12-15T11:11:04.643Z"
   },
   {
    "duration": 2,
    "start_time": "2023-12-15T11:11:06.227Z"
   },
   {
    "duration": 336,
    "start_time": "2023-12-15T11:11:06.231Z"
   },
   {
    "duration": 18,
    "start_time": "2023-12-15T11:11:06.569Z"
   },
   {
    "duration": 12,
    "start_time": "2023-12-15T11:11:06.588Z"
   },
   {
    "duration": 22,
    "start_time": "2023-12-15T11:11:06.601Z"
   },
   {
    "duration": 11,
    "start_time": "2023-12-15T11:11:06.624Z"
   },
   {
    "duration": 14,
    "start_time": "2023-12-15T11:11:06.636Z"
   },
   {
    "duration": 16,
    "start_time": "2023-12-15T11:11:06.652Z"
   },
   {
    "duration": 4,
    "start_time": "2023-12-15T11:11:06.670Z"
   },
   {
    "duration": 71,
    "start_time": "2023-12-15T11:11:06.676Z"
   },
   {
    "duration": 20,
    "start_time": "2023-12-15T11:11:06.748Z"
   },
   {
    "duration": 4,
    "start_time": "2023-12-15T11:11:06.771Z"
   },
   {
    "duration": 9,
    "start_time": "2023-12-15T11:11:06.777Z"
   },
   {
    "duration": 43,
    "start_time": "2023-12-15T11:11:06.788Z"
   },
   {
    "duration": 6,
    "start_time": "2023-12-15T11:11:06.833Z"
   },
   {
    "duration": 19,
    "start_time": "2023-12-15T11:11:06.842Z"
   },
   {
    "duration": 8,
    "start_time": "2023-12-15T11:11:06.862Z"
   },
   {
    "duration": 46,
    "start_time": "2023-12-15T11:11:06.871Z"
   },
   {
    "duration": 7,
    "start_time": "2023-12-15T11:11:06.919Z"
   },
   {
    "duration": 6,
    "start_time": "2023-12-15T11:11:06.928Z"
   },
   {
    "duration": 6,
    "start_time": "2023-12-15T11:11:06.935Z"
   },
   {
    "duration": 12,
    "start_time": "2023-12-15T11:11:06.942Z"
   },
   {
    "duration": 12,
    "start_time": "2023-12-15T11:11:06.956Z"
   },
   {
    "duration": 45,
    "start_time": "2023-12-15T11:11:06.970Z"
   },
   {
    "duration": 8,
    "start_time": "2023-12-15T11:11:07.017Z"
   },
   {
    "duration": 10,
    "start_time": "2023-12-15T11:11:07.026Z"
   },
   {
    "duration": 5,
    "start_time": "2023-12-15T11:11:07.038Z"
   },
   {
    "duration": 13,
    "start_time": "2023-12-15T11:11:07.045Z"
   },
   {
    "duration": 4,
    "start_time": "2023-12-15T11:11:07.059Z"
   },
   {
    "duration": 51,
    "start_time": "2023-12-15T11:11:07.064Z"
   },
   {
    "duration": 44,
    "start_time": "2023-12-15T11:11:07.117Z"
   },
   {
    "duration": 15,
    "start_time": "2023-12-15T11:11:07.163Z"
   },
   {
    "duration": 35,
    "start_time": "2023-12-15T11:11:07.180Z"
   },
   {
    "duration": 11,
    "start_time": "2023-12-15T11:11:07.216Z"
   },
   {
    "duration": 12,
    "start_time": "2023-12-15T11:11:07.229Z"
   },
   {
    "duration": 18,
    "start_time": "2023-12-15T11:11:07.242Z"
   },
   {
    "duration": 1054,
    "start_time": "2023-12-15T11:11:07.261Z"
   },
   {
    "duration": 2098,
    "start_time": "2023-12-15T11:11:08.317Z"
   },
   {
    "duration": 16,
    "start_time": "2023-12-15T11:11:10.419Z"
   },
   {
    "duration": 294,
    "start_time": "2023-12-15T11:11:10.437Z"
   },
   {
    "duration": 125,
    "start_time": "2023-12-15T11:11:10.733Z"
   },
   {
    "duration": 6,
    "start_time": "2023-12-15T11:11:10.859Z"
   },
   {
    "duration": 21,
    "start_time": "2023-12-15T11:11:10.866Z"
   },
   {
    "duration": 79,
    "start_time": "2023-12-15T11:11:10.888Z"
   },
   {
    "duration": 6,
    "start_time": "2023-12-15T11:11:10.968Z"
   },
   {
    "duration": 12,
    "start_time": "2023-12-15T11:11:10.975Z"
   },
   {
    "duration": 38,
    "start_time": "2023-12-15T11:11:10.988Z"
   },
   {
    "duration": 57,
    "start_time": "2023-12-15T11:11:11.027Z"
   },
   {
    "duration": 35,
    "start_time": "2023-12-15T11:11:11.086Z"
   },
   {
    "duration": 15,
    "start_time": "2023-12-15T11:11:11.123Z"
   },
   {
    "duration": 2081,
    "start_time": "2023-12-15T11:11:11.140Z"
   },
   {
    "duration": 598,
    "start_time": "2023-12-15T11:11:13.225Z"
   },
   {
    "duration": 205,
    "start_time": "2023-12-15T11:11:13.824Z"
   },
   {
    "duration": 14470,
    "start_time": "2023-12-15T11:12:13.990Z"
   },
   {
    "duration": 18387,
    "start_time": "2023-12-15T11:20:00.293Z"
   },
   {
    "duration": 19503,
    "start_time": "2023-12-15T11:20:35.109Z"
   },
   {
    "duration": 18323,
    "start_time": "2023-12-15T11:21:03.246Z"
   },
   {
    "duration": 18602,
    "start_time": "2023-12-15T11:21:29.663Z"
   },
   {
    "duration": 19949,
    "start_time": "2023-12-15T11:24:31.766Z"
   },
   {
    "duration": 13,
    "start_time": "2023-12-15T11:29:36.044Z"
   },
   {
    "duration": 12,
    "start_time": "2023-12-15T11:30:05.263Z"
   },
   {
    "duration": 18433,
    "start_time": "2023-12-15T11:30:54.560Z"
   },
   {
    "duration": 18705,
    "start_time": "2023-12-15T11:31:26.723Z"
   },
   {
    "duration": 13,
    "start_time": "2023-12-15T11:32:02.339Z"
   },
   {
    "duration": 18371,
    "start_time": "2023-12-15T11:32:17.064Z"
   },
   {
    "duration": 18364,
    "start_time": "2023-12-15T11:34:28.364Z"
   },
   {
    "duration": 19395,
    "start_time": "2023-12-15T11:40:45.453Z"
   },
   {
    "duration": 19700,
    "start_time": "2023-12-15T11:41:52.335Z"
   },
   {
    "duration": 14437,
    "start_time": "2023-12-15T11:53:50.747Z"
   },
   {
    "duration": 695738,
    "start_time": "2023-12-15T11:54:26.844Z"
   },
   {
    "duration": 22818,
    "start_time": "2023-12-15T12:06:21.346Z"
   },
   {
    "duration": 347,
    "start_time": "2023-12-15T12:09:46.453Z"
   },
   {
    "duration": 367,
    "start_time": "2023-12-15T12:10:51.822Z"
   },
   {
    "duration": 387,
    "start_time": "2023-12-15T12:12:04.439Z"
   },
   {
    "duration": 386,
    "start_time": "2023-12-15T12:12:48.243Z"
   },
   {
    "duration": 10,
    "start_time": "2023-12-15T12:14:18.146Z"
   },
   {
    "duration": 398,
    "start_time": "2023-12-15T12:15:06.100Z"
   },
   {
    "duration": 403,
    "start_time": "2023-12-15T12:15:43.329Z"
   },
   {
    "duration": 393,
    "start_time": "2023-12-15T12:16:02.758Z"
   },
   {
    "duration": 400,
    "start_time": "2023-12-15T12:16:12.124Z"
   },
   {
    "duration": 399,
    "start_time": "2023-12-15T12:17:24.171Z"
   },
   {
    "duration": 406,
    "start_time": "2023-12-15T12:18:01.201Z"
   },
   {
    "duration": 408,
    "start_time": "2023-12-15T12:18:29.022Z"
   },
   {
    "duration": 42039,
    "start_time": "2023-12-15T12:32:12.113Z"
   },
   {
    "duration": 312,
    "start_time": "2023-12-15T12:33:06.979Z"
   },
   {
    "duration": 395832,
    "start_time": "2023-12-15T12:34:24.787Z"
   },
   {
    "duration": 40199,
    "start_time": "2023-12-15T12:44:11.609Z"
   },
   {
    "duration": 2682,
    "start_time": "2023-12-15T13:18:34.411Z"
   },
   {
    "duration": 1546,
    "start_time": "2023-12-15T13:18:37.095Z"
   },
   {
    "duration": 2,
    "start_time": "2023-12-15T13:18:38.643Z"
   },
   {
    "duration": 107,
    "start_time": "2023-12-15T13:18:38.647Z"
   },
   {
    "duration": 18,
    "start_time": "2023-12-15T13:18:38.755Z"
   },
   {
    "duration": 17,
    "start_time": "2023-12-15T13:18:38.775Z"
   },
   {
    "duration": 15,
    "start_time": "2023-12-15T13:18:38.793Z"
   },
   {
    "duration": 18,
    "start_time": "2023-12-15T13:18:38.810Z"
   },
   {
    "duration": 17,
    "start_time": "2023-12-15T13:18:38.831Z"
   },
   {
    "duration": 23,
    "start_time": "2023-12-15T13:18:38.851Z"
   },
   {
    "duration": 9,
    "start_time": "2023-12-15T13:18:38.876Z"
   },
   {
    "duration": 69,
    "start_time": "2023-12-15T13:18:38.887Z"
   },
   {
    "duration": 20,
    "start_time": "2023-12-15T13:18:38.958Z"
   },
   {
    "duration": 11,
    "start_time": "2023-12-15T13:18:38.979Z"
   },
   {
    "duration": 17,
    "start_time": "2023-12-15T13:18:38.991Z"
   },
   {
    "duration": 27,
    "start_time": "2023-12-15T13:18:39.014Z"
   },
   {
    "duration": 6,
    "start_time": "2023-12-15T13:18:39.043Z"
   },
   {
    "duration": 24,
    "start_time": "2023-12-15T13:18:39.051Z"
   },
   {
    "duration": 11,
    "start_time": "2023-12-15T13:18:39.077Z"
   },
   {
    "duration": 37,
    "start_time": "2023-12-15T13:18:39.090Z"
   },
   {
    "duration": 10,
    "start_time": "2023-12-15T13:18:39.129Z"
   },
   {
    "duration": 13,
    "start_time": "2023-12-15T13:18:39.140Z"
   },
   {
    "duration": 55,
    "start_time": "2023-12-15T13:18:39.154Z"
   },
   {
    "duration": 31,
    "start_time": "2023-12-15T13:18:39.210Z"
   },
   {
    "duration": 14,
    "start_time": "2023-12-15T13:18:39.243Z"
   },
   {
    "duration": 16,
    "start_time": "2023-12-15T13:18:39.259Z"
   },
   {
    "duration": 9,
    "start_time": "2023-12-15T13:18:39.277Z"
   },
   {
    "duration": 23,
    "start_time": "2023-12-15T13:18:39.290Z"
   },
   {
    "duration": 12,
    "start_time": "2023-12-15T13:18:39.315Z"
   },
   {
    "duration": 5,
    "start_time": "2023-12-15T13:18:39.330Z"
   },
   {
    "duration": 9,
    "start_time": "2023-12-15T13:18:39.337Z"
   },
   {
    "duration": 27,
    "start_time": "2023-12-15T13:18:39.347Z"
   },
   {
    "duration": 79,
    "start_time": "2023-12-15T13:18:39.376Z"
   },
   {
    "duration": 15,
    "start_time": "2023-12-15T13:18:39.456Z"
   },
   {
    "duration": 10,
    "start_time": "2023-12-15T13:18:39.473Z"
   },
   {
    "duration": 33,
    "start_time": "2023-12-15T13:18:39.484Z"
   },
   {
    "duration": 18,
    "start_time": "2023-12-15T13:18:39.519Z"
   },
   {
    "duration": 19,
    "start_time": "2023-12-15T13:18:39.538Z"
   },
   {
    "duration": 1169,
    "start_time": "2023-12-15T13:18:39.559Z"
   },
   {
    "duration": 2253,
    "start_time": "2023-12-15T13:18:40.730Z"
   },
   {
    "duration": 18,
    "start_time": "2023-12-15T13:18:42.984Z"
   },
   {
    "duration": 347,
    "start_time": "2023-12-15T13:18:43.004Z"
   },
   {
    "duration": 128,
    "start_time": "2023-12-15T13:18:43.352Z"
   },
   {
    "duration": 6,
    "start_time": "2023-12-15T13:18:43.481Z"
   },
   {
    "duration": 15,
    "start_time": "2023-12-15T13:18:43.488Z"
   },
   {
    "duration": 91,
    "start_time": "2023-12-15T13:18:43.504Z"
   },
   {
    "duration": 7,
    "start_time": "2023-12-15T13:18:43.596Z"
   },
   {
    "duration": 29,
    "start_time": "2023-12-15T13:18:43.604Z"
   },
   {
    "duration": 17,
    "start_time": "2023-12-15T13:18:43.635Z"
   },
   {
    "duration": 89,
    "start_time": "2023-12-15T13:18:43.653Z"
   },
   {
    "duration": 14,
    "start_time": "2023-12-15T13:18:43.743Z"
   },
   {
    "duration": 14,
    "start_time": "2023-12-15T13:18:43.759Z"
   },
   {
    "duration": 1941,
    "start_time": "2023-12-15T13:18:43.775Z"
   },
   {
    "duration": 512,
    "start_time": "2023-12-15T13:18:45.719Z"
   },
   {
    "duration": 42848,
    "start_time": "2023-12-15T13:18:46.316Z"
   },
   {
    "duration": 331,
    "start_time": "2023-12-15T13:19:29.165Z"
   },
   {
    "duration": 415717,
    "start_time": "2023-12-15T13:19:29.498Z"
   },
   {
    "duration": 8,
    "start_time": "2023-12-15T14:05:23.197Z"
   },
   {
    "duration": 16,
    "start_time": "2023-12-15T14:05:44.361Z"
   },
   {
    "duration": 175,
    "start_time": "2023-12-15T14:24:17.819Z"
   },
   {
    "duration": 173,
    "start_time": "2023-12-15T14:26:15.047Z"
   },
   {
    "duration": 46,
    "start_time": "2023-12-15T14:40:57.485Z"
   },
   {
    "duration": 82,
    "start_time": "2023-12-15T14:41:35.350Z"
   },
   {
    "duration": 63,
    "start_time": "2023-12-15T14:42:24.774Z"
   },
   {
    "duration": 118,
    "start_time": "2023-12-15T14:43:32.810Z"
   },
   {
    "duration": 117,
    "start_time": "2023-12-15T14:43:54.720Z"
   },
   {
    "duration": 116,
    "start_time": "2023-12-15T14:44:22.119Z"
   },
   {
    "duration": 16,
    "start_time": "2023-12-15T14:44:49.055Z"
   },
   {
    "duration": 25,
    "start_time": "2023-12-15T14:45:05.201Z"
   },
   {
    "duration": 52,
    "start_time": "2023-12-15T14:45:13.168Z"
   },
   {
    "duration": 114,
    "start_time": "2023-12-15T14:45:39.815Z"
   },
   {
    "duration": 132,
    "start_time": "2023-12-15T14:46:11.710Z"
   },
   {
    "duration": 74,
    "start_time": "2023-12-15T14:47:21.264Z"
   },
   {
    "duration": 108,
    "start_time": "2023-12-15T14:48:30.134Z"
   },
   {
    "duration": 77,
    "start_time": "2023-12-15T14:48:47.564Z"
   },
   {
    "duration": 38,
    "start_time": "2023-12-15T14:49:25.293Z"
   },
   {
    "duration": 2,
    "start_time": "2023-12-15T14:50:37.849Z"
   },
   {
    "duration": 8,
    "start_time": "2023-12-15T14:50:41.665Z"
   },
   {
    "duration": 63,
    "start_time": "2023-12-15T14:50:44.576Z"
   },
   {
    "duration": 58,
    "start_time": "2023-12-15T14:53:39.880Z"
   },
   {
    "duration": 2586,
    "start_time": "2023-12-15T14:53:56.871Z"
   },
   {
    "duration": 1444,
    "start_time": "2023-12-15T14:53:59.459Z"
   },
   {
    "duration": 3,
    "start_time": "2023-12-15T14:54:00.905Z"
   },
   {
    "duration": 140,
    "start_time": "2023-12-15T14:54:00.910Z"
   },
   {
    "duration": 17,
    "start_time": "2023-12-15T14:54:01.052Z"
   },
   {
    "duration": 39,
    "start_time": "2023-12-15T14:54:01.070Z"
   },
   {
    "duration": 33,
    "start_time": "2023-12-15T14:54:01.111Z"
   },
   {
    "duration": 61,
    "start_time": "2023-12-15T14:54:01.145Z"
   },
   {
    "duration": 52,
    "start_time": "2023-12-15T14:54:01.207Z"
   },
   {
    "duration": 30,
    "start_time": "2023-12-15T14:54:01.262Z"
   },
   {
    "duration": 45,
    "start_time": "2023-12-15T14:54:01.294Z"
   },
   {
    "duration": 145,
    "start_time": "2023-12-15T14:54:01.340Z"
   },
   {
    "duration": 21,
    "start_time": "2023-12-15T14:54:01.487Z"
   },
   {
    "duration": 28,
    "start_time": "2023-12-15T14:54:01.510Z"
   },
   {
    "duration": 46,
    "start_time": "2023-12-15T14:54:01.540Z"
   },
   {
    "duration": 95,
    "start_time": "2023-12-15T14:54:01.588Z"
   },
   {
    "duration": 76,
    "start_time": "2023-12-15T14:54:01.684Z"
   },
   {
    "duration": 48,
    "start_time": "2023-12-15T14:54:01.761Z"
   },
   {
    "duration": 20,
    "start_time": "2023-12-15T14:54:01.812Z"
   },
   {
    "duration": 37,
    "start_time": "2023-12-15T14:54:01.834Z"
   },
   {
    "duration": 30,
    "start_time": "2023-12-15T14:54:01.872Z"
   },
   {
    "duration": 33,
    "start_time": "2023-12-15T14:54:01.903Z"
   },
   {
    "duration": 17,
    "start_time": "2023-12-15T14:54:01.937Z"
   },
   {
    "duration": 25,
    "start_time": "2023-12-15T14:54:01.956Z"
   },
   {
    "duration": 33,
    "start_time": "2023-12-15T14:54:01.983Z"
   },
   {
    "duration": 37,
    "start_time": "2023-12-15T14:54:02.018Z"
   },
   {
    "duration": 67,
    "start_time": "2023-12-15T14:54:02.056Z"
   },
   {
    "duration": 35,
    "start_time": "2023-12-15T14:54:02.130Z"
   },
   {
    "duration": 33,
    "start_time": "2023-12-15T14:54:02.168Z"
   },
   {
    "duration": 30,
    "start_time": "2023-12-15T14:54:02.203Z"
   },
   {
    "duration": 27,
    "start_time": "2023-12-15T14:54:02.236Z"
   },
   {
    "duration": 45,
    "start_time": "2023-12-15T14:54:02.266Z"
   },
   {
    "duration": 49,
    "start_time": "2023-12-15T14:54:02.313Z"
   },
   {
    "duration": 13,
    "start_time": "2023-12-15T14:54:02.364Z"
   },
   {
    "duration": 36,
    "start_time": "2023-12-15T14:54:02.379Z"
   },
   {
    "duration": 29,
    "start_time": "2023-12-15T14:54:02.416Z"
   },
   {
    "duration": 17,
    "start_time": "2023-12-15T14:54:02.446Z"
   },
   {
    "duration": 18,
    "start_time": "2023-12-15T14:54:02.465Z"
   },
   {
    "duration": 1024,
    "start_time": "2023-12-15T14:54:02.485Z"
   },
   {
    "duration": 2180,
    "start_time": "2023-12-15T14:54:03.515Z"
   },
   {
    "duration": 19,
    "start_time": "2023-12-15T14:54:05.696Z"
   },
   {
    "duration": 326,
    "start_time": "2023-12-15T14:54:05.717Z"
   },
   {
    "duration": 130,
    "start_time": "2023-12-15T14:54:06.045Z"
   },
   {
    "duration": 6,
    "start_time": "2023-12-15T14:54:06.177Z"
   },
   {
    "duration": 17,
    "start_time": "2023-12-15T14:54:06.185Z"
   },
   {
    "duration": 83,
    "start_time": "2023-12-15T14:54:06.204Z"
   },
   {
    "duration": 6,
    "start_time": "2023-12-15T14:54:06.288Z"
   },
   {
    "duration": 28,
    "start_time": "2023-12-15T14:54:06.296Z"
   },
   {
    "duration": 16,
    "start_time": "2023-12-15T14:54:06.326Z"
   },
   {
    "duration": 85,
    "start_time": "2023-12-15T14:54:06.344Z"
   },
   {
    "duration": 15,
    "start_time": "2023-12-15T14:54:06.431Z"
   },
   {
    "duration": 32,
    "start_time": "2023-12-15T14:54:06.448Z"
   },
   {
    "duration": 2135,
    "start_time": "2023-12-15T14:54:06.481Z"
   },
   {
    "duration": 1005,
    "start_time": "2023-12-15T14:54:08.619Z"
   },
   {
    "duration": 42102,
    "start_time": "2023-12-15T14:54:09.715Z"
   },
   {
    "duration": 21,
    "start_time": "2023-12-15T14:54:51.819Z"
   },
   {
    "duration": 1255874,
    "start_time": "2023-12-15T14:54:51.841Z"
   },
   {
    "duration": 13,
    "start_time": "2023-12-15T15:15:47.718Z"
   },
   {
    "duration": 103,
    "start_time": "2023-12-15T15:15:47.732Z"
   },
   {
    "duration": 3,
    "start_time": "2023-12-15T15:15:47.836Z"
   },
   {
    "duration": 69,
    "start_time": "2023-12-15T15:18:45.150Z"
   },
   {
    "duration": 375,
    "start_time": "2023-12-15T15:19:13.119Z"
   },
   {
    "duration": 370,
    "start_time": "2023-12-15T15:20:49.024Z"
   },
   {
    "duration": 505,
    "start_time": "2023-12-15T15:22:35.330Z"
   },
   {
    "duration": 312,
    "start_time": "2023-12-15T15:23:34.182Z"
   },
   {
    "duration": 427,
    "start_time": "2023-12-15T15:23:46.880Z"
   },
   {
    "duration": 204,
    "start_time": "2023-12-15T15:24:39.302Z"
   },
   {
    "duration": 6,
    "start_time": "2023-12-15T15:25:12.618Z"
   },
   {
    "duration": 409,
    "start_time": "2023-12-15T15:25:18.078Z"
   },
   {
    "duration": 408,
    "start_time": "2023-12-15T15:26:55.391Z"
   },
   {
    "duration": 8,
    "start_time": "2023-12-15T15:32:51.241Z"
   },
   {
    "duration": 4,
    "start_time": "2023-12-15T15:33:21.896Z"
   },
   {
    "duration": 255,
    "start_time": "2023-12-15T15:33:27.084Z"
   },
   {
    "duration": 152,
    "start_time": "2023-12-15T15:33:54.717Z"
   },
   {
    "duration": 207,
    "start_time": "2023-12-15T15:35:16.034Z"
   },
   {
    "duration": 35,
    "start_time": "2023-12-15T15:35:23.193Z"
   },
   {
    "duration": 228,
    "start_time": "2023-12-15T15:35:30.649Z"
   },
   {
    "duration": 106,
    "start_time": "2023-12-15T15:36:05.932Z"
   },
   {
    "duration": 339,
    "start_time": "2023-12-15T15:36:28.509Z"
   },
   {
    "duration": 55,
    "start_time": "2023-12-18T09:18:48.016Z"
   },
   {
    "duration": 38,
    "start_time": "2023-12-18T09:19:16.211Z"
   },
   {
    "duration": 3149,
    "start_time": "2023-12-18T09:19:45.706Z"
   },
   {
    "duration": 1532,
    "start_time": "2023-12-18T09:19:48.857Z"
   },
   {
    "duration": 3,
    "start_time": "2023-12-18T09:19:55.456Z"
   },
   {
    "duration": 354,
    "start_time": "2023-12-18T09:19:56.632Z"
   },
   {
    "duration": 17,
    "start_time": "2023-12-18T09:20:03.719Z"
   },
   {
    "duration": 12,
    "start_time": "2023-12-18T09:20:06.938Z"
   },
   {
    "duration": 18,
    "start_time": "2023-12-18T09:20:08.208Z"
   },
   {
    "duration": 14,
    "start_time": "2023-12-18T09:20:11.754Z"
   },
   {
    "duration": 14,
    "start_time": "2023-12-18T09:20:21.498Z"
   },
   {
    "duration": 11,
    "start_time": "2023-12-18T09:20:26.973Z"
   },
   {
    "duration": 4,
    "start_time": "2023-12-18T09:20:38.722Z"
   },
   {
    "duration": 53,
    "start_time": "2023-12-18T09:20:42.995Z"
   },
   {
    "duration": 4,
    "start_time": "2023-12-18T09:20:51.856Z"
   },
   {
    "duration": 18,
    "start_time": "2023-12-18T09:21:03.863Z"
   },
   {
    "duration": 5,
    "start_time": "2023-12-18T09:21:28.162Z"
   },
   {
    "duration": 10,
    "start_time": "2023-12-18T09:21:40.537Z"
   },
   {
    "duration": 17,
    "start_time": "2023-12-18T09:21:48.396Z"
   },
   {
    "duration": 7,
    "start_time": "2023-12-18T09:22:01.162Z"
   },
   {
    "duration": 19,
    "start_time": "2023-12-18T09:22:12.535Z"
   },
   {
    "duration": 7,
    "start_time": "2023-12-18T09:22:23.327Z"
   },
   {
    "duration": 13,
    "start_time": "2023-12-18T09:22:43.989Z"
   },
   {
    "duration": 9,
    "start_time": "2023-12-18T09:22:46.903Z"
   },
   {
    "duration": 7,
    "start_time": "2023-12-18T09:22:50.796Z"
   },
   {
    "duration": 11,
    "start_time": "2023-12-18T09:32:04.251Z"
   },
   {
    "duration": 10,
    "start_time": "2023-12-18T09:32:11.117Z"
   },
   {
    "duration": 7,
    "start_time": "2023-12-18T09:32:17.551Z"
   },
   {
    "duration": 12,
    "start_time": "2023-12-18T09:32:37.402Z"
   },
   {
    "duration": 5,
    "start_time": "2023-12-18T09:35:27.771Z"
   },
   {
    "duration": 14,
    "start_time": "2023-12-18T09:35:30.932Z"
   },
   {
    "duration": 5,
    "start_time": "2023-12-18T09:35:39.781Z"
   },
   {
    "duration": 13,
    "start_time": "2023-12-18T09:35:42.334Z"
   },
   {
    "duration": 5,
    "start_time": "2023-12-18T09:36:03.009Z"
   },
   {
    "duration": 13,
    "start_time": "2023-12-18T09:36:05.421Z"
   },
   {
    "duration": 5,
    "start_time": "2023-12-18T09:36:46.378Z"
   },
   {
    "duration": 11,
    "start_time": "2023-12-18T09:37:07.093Z"
   },
   {
    "duration": 5,
    "start_time": "2023-12-18T09:37:10.337Z"
   },
   {
    "duration": 19,
    "start_time": "2023-12-18T09:41:05.085Z"
   },
   {
    "duration": 7,
    "start_time": "2023-12-18T09:41:08.398Z"
   },
   {
    "duration": 7,
    "start_time": "2023-12-18T09:41:10.504Z"
   },
   {
    "duration": 10,
    "start_time": "2023-12-18T09:41:17.702Z"
   },
   {
    "duration": 5,
    "start_time": "2023-12-18T09:41:20.860Z"
   },
   {
    "duration": 5,
    "start_time": "2023-12-18T09:41:24.870Z"
   },
   {
    "duration": 4,
    "start_time": "2023-12-18T09:41:33.126Z"
   },
   {
    "duration": 20,
    "start_time": "2023-12-18T09:41:37.212Z"
   },
   {
    "duration": 42,
    "start_time": "2023-12-18T09:41:42.989Z"
   },
   {
    "duration": 13,
    "start_time": "2023-12-18T09:41:47.453Z"
   },
   {
    "duration": 11,
    "start_time": "2023-12-18T09:41:54.123Z"
   },
   {
    "duration": 12,
    "start_time": "2023-12-18T09:46:10.254Z"
   },
   {
    "duration": 11,
    "start_time": "2023-12-18T09:46:10.933Z"
   },
   {
    "duration": 29,
    "start_time": "2023-12-18T09:46:36.087Z"
   },
   {
    "duration": 13,
    "start_time": "2023-12-18T09:47:10.257Z"
   },
   {
    "duration": 110,
    "start_time": "2023-12-18T09:47:14.753Z"
   },
   {
    "duration": 91,
    "start_time": "2023-12-18T09:47:33.135Z"
   },
   {
    "duration": 14,
    "start_time": "2023-12-18T09:47:39.599Z"
   },
   {
    "duration": 13,
    "start_time": "2023-12-18T09:47:40.522Z"
   },
   {
    "duration": 14,
    "start_time": "2023-12-18T09:47:41.604Z"
   },
   {
    "duration": 15,
    "start_time": "2023-12-18T09:47:43.540Z"
   },
   {
    "duration": 15,
    "start_time": "2023-12-18T09:47:48.301Z"
   },
   {
    "duration": 9,
    "start_time": "2023-12-18T09:47:51.943Z"
   },
   {
    "duration": 4,
    "start_time": "2023-12-18T09:47:54.333Z"
   },
   {
    "duration": 51,
    "start_time": "2023-12-18T09:47:56.978Z"
   },
   {
    "duration": 4,
    "start_time": "2023-12-18T09:48:05.071Z"
   },
   {
    "duration": 17,
    "start_time": "2023-12-18T09:48:07.225Z"
   },
   {
    "duration": 4,
    "start_time": "2023-12-18T09:48:11.306Z"
   },
   {
    "duration": 8,
    "start_time": "2023-12-18T09:48:11.956Z"
   },
   {
    "duration": 15,
    "start_time": "2023-12-18T09:48:13.084Z"
   },
   {
    "duration": 6,
    "start_time": "2023-12-18T09:48:16.358Z"
   },
   {
    "duration": 18,
    "start_time": "2023-12-18T09:48:19.013Z"
   },
   {
    "duration": 8,
    "start_time": "2023-12-18T09:48:22.116Z"
   },
   {
    "duration": 12,
    "start_time": "2023-12-18T09:48:25.434Z"
   },
   {
    "duration": 6,
    "start_time": "2023-12-18T09:49:05.327Z"
   },
   {
    "duration": 7,
    "start_time": "2023-12-18T09:49:08.076Z"
   },
   {
    "duration": 15,
    "start_time": "2023-12-18T09:49:13.936Z"
   },
   {
    "duration": 13,
    "start_time": "2023-12-18T09:49:18.266Z"
   },
   {
    "duration": 7,
    "start_time": "2023-12-18T09:49:21.444Z"
   },
   {
    "duration": 7,
    "start_time": "2023-12-18T09:49:22.888Z"
   },
   {
    "duration": 10,
    "start_time": "2023-12-18T09:49:25.991Z"
   },
   {
    "duration": 8,
    "start_time": "2023-12-18T09:49:28.888Z"
   },
   {
    "duration": 5,
    "start_time": "2023-12-18T09:49:30.471Z"
   },
   {
    "duration": 3,
    "start_time": "2023-12-18T09:49:34.206Z"
   },
   {
    "duration": 20,
    "start_time": "2023-12-18T09:49:36.658Z"
   },
   {
    "duration": 40,
    "start_time": "2023-12-18T09:49:39.925Z"
   },
   {
    "duration": 14,
    "start_time": "2023-12-18T09:49:44.014Z"
   },
   {
    "duration": 15,
    "start_time": "2023-12-18T09:49:51.371Z"
   },
   {
    "duration": 13,
    "start_time": "2023-12-18T09:49:56.125Z"
   },
   {
    "duration": 13,
    "start_time": "2023-12-18T09:49:58.559Z"
   },
   {
    "duration": 18,
    "start_time": "2023-12-18T09:50:02.877Z"
   },
   {
    "duration": 13,
    "start_time": "2023-12-18T09:50:22.336Z"
   },
   {
    "duration": 21,
    "start_time": "2023-12-18T09:51:20.069Z"
   },
   {
    "duration": 21,
    "start_time": "2023-12-18T09:51:24.289Z"
   },
   {
    "duration": 11,
    "start_time": "2023-12-18T09:51:52.138Z"
   },
   {
    "duration": 22,
    "start_time": "2023-12-18T09:51:53.821Z"
   },
   {
    "duration": 22,
    "start_time": "2023-12-18T09:52:51.222Z"
   },
   {
    "duration": 926,
    "start_time": "2023-12-18T09:53:47.396Z"
   },
   {
    "duration": 1978,
    "start_time": "2023-12-18T09:53:50.995Z"
   },
   {
    "duration": 1810,
    "start_time": "2023-12-18T09:54:17.691Z"
   },
   {
    "duration": 2018,
    "start_time": "2023-12-18T10:03:17.975Z"
   },
   {
    "duration": 13,
    "start_time": "2023-12-18T10:08:55.062Z"
   },
   {
    "duration": 2046,
    "start_time": "2023-12-18T10:10:03.157Z"
   },
   {
    "duration": 1105,
    "start_time": "2023-12-18T10:10:36.888Z"
   },
   {
    "duration": 356,
    "start_time": "2023-12-18T10:11:14.885Z"
   },
   {
    "duration": 2180,
    "start_time": "2023-12-18T10:12:31.714Z"
   },
   {
    "duration": 1434,
    "start_time": "2023-12-18T10:12:33.896Z"
   },
   {
    "duration": 2,
    "start_time": "2023-12-18T10:12:35.332Z"
   },
   {
    "duration": 126,
    "start_time": "2023-12-18T10:12:35.336Z"
   },
   {
    "duration": 17,
    "start_time": "2023-12-18T10:12:35.464Z"
   },
   {
    "duration": 13,
    "start_time": "2023-12-18T10:12:35.482Z"
   },
   {
    "duration": 15,
    "start_time": "2023-12-18T10:12:35.496Z"
   },
   {
    "duration": 14,
    "start_time": "2023-12-18T10:12:35.512Z"
   },
   {
    "duration": 14,
    "start_time": "2023-12-18T10:12:35.527Z"
   },
   {
    "duration": 18,
    "start_time": "2023-12-18T10:12:35.543Z"
   },
   {
    "duration": 5,
    "start_time": "2023-12-18T10:12:35.562Z"
   },
   {
    "duration": 63,
    "start_time": "2023-12-18T10:12:35.568Z"
   },
   {
    "duration": 3,
    "start_time": "2023-12-18T10:12:35.633Z"
   },
   {
    "duration": 22,
    "start_time": "2023-12-18T10:12:35.638Z"
   },
   {
    "duration": 4,
    "start_time": "2023-12-18T10:12:35.661Z"
   },
   {
    "duration": 18,
    "start_time": "2023-12-18T10:12:35.666Z"
   },
   {
    "duration": 32,
    "start_time": "2023-12-18T10:12:35.685Z"
   },
   {
    "duration": 7,
    "start_time": "2023-12-18T10:12:35.718Z"
   },
   {
    "duration": 19,
    "start_time": "2023-12-18T10:12:35.727Z"
   },
   {
    "duration": 6,
    "start_time": "2023-12-18T10:12:35.747Z"
   },
   {
    "duration": 12,
    "start_time": "2023-12-18T10:12:35.755Z"
   },
   {
    "duration": 34,
    "start_time": "2023-12-18T10:12:35.768Z"
   },
   {
    "duration": 7,
    "start_time": "2023-12-18T10:12:35.804Z"
   },
   {
    "duration": 12,
    "start_time": "2023-12-18T10:12:35.812Z"
   },
   {
    "duration": 14,
    "start_time": "2023-12-18T10:12:35.825Z"
   },
   {
    "duration": 18,
    "start_time": "2023-12-18T10:12:35.841Z"
   },
   {
    "duration": 14,
    "start_time": "2023-12-18T10:12:35.861Z"
   },
   {
    "duration": 13,
    "start_time": "2023-12-18T10:12:35.898Z"
   },
   {
    "duration": 27,
    "start_time": "2023-12-18T10:12:35.912Z"
   },
   {
    "duration": 6,
    "start_time": "2023-12-18T10:12:35.940Z"
   },
   {
    "duration": 17,
    "start_time": "2023-12-18T10:12:35.948Z"
   },
   {
    "duration": 21,
    "start_time": "2023-12-18T10:12:35.966Z"
   },
   {
    "duration": 39,
    "start_time": "2023-12-18T10:12:35.988Z"
   },
   {
    "duration": 13,
    "start_time": "2023-12-18T10:12:36.028Z"
   },
   {
    "duration": 15,
    "start_time": "2023-12-18T10:12:36.042Z"
   },
   {
    "duration": 25,
    "start_time": "2023-12-18T10:12:36.058Z"
   },
   {
    "duration": 18,
    "start_time": "2023-12-18T10:12:36.085Z"
   },
   {
    "duration": 17,
    "start_time": "2023-12-18T10:12:36.104Z"
   },
   {
    "duration": 12,
    "start_time": "2023-12-18T10:12:36.123Z"
   },
   {
    "duration": 21,
    "start_time": "2023-12-18T10:12:36.136Z"
   },
   {
    "duration": 941,
    "start_time": "2023-12-18T10:12:36.159Z"
   },
   {
    "duration": 2015,
    "start_time": "2023-12-18T10:12:37.102Z"
   },
   {
    "duration": 12,
    "start_time": "2023-12-18T10:12:39.119Z"
   },
   {
    "duration": 1065,
    "start_time": "2023-12-18T10:12:39.132Z"
   },
   {
    "duration": 349,
    "start_time": "2023-12-18T10:12:40.199Z"
   },
   {
    "duration": 117,
    "start_time": "2023-12-18T10:12:40.549Z"
   },
   {
    "duration": 6,
    "start_time": "2023-12-18T10:12:40.667Z"
   },
   {
    "duration": 9,
    "start_time": "2023-12-18T10:12:40.675Z"
   },
   {
    "duration": 42,
    "start_time": "2023-12-18T10:12:40.685Z"
   },
   {
    "duration": 45,
    "start_time": "2023-12-18T10:12:40.729Z"
   },
   {
    "duration": 5,
    "start_time": "2023-12-18T10:12:40.776Z"
   },
   {
    "duration": 12,
    "start_time": "2023-12-18T10:12:40.783Z"
   },
   {
    "duration": 36,
    "start_time": "2023-12-18T10:12:40.796Z"
   },
   {
    "duration": 2,
    "start_time": "2023-12-18T10:12:40.834Z"
   },
   {
    "duration": 42,
    "start_time": "2023-12-18T10:12:40.838Z"
   },
   {
    "duration": 13,
    "start_time": "2023-12-18T10:12:40.881Z"
   },
   {
    "duration": 28,
    "start_time": "2023-12-18T10:12:40.895Z"
   },
   {
    "duration": 15,
    "start_time": "2023-12-18T10:12:40.924Z"
   },
   {
    "duration": 111,
    "start_time": "2023-12-18T10:12:40.940Z"
   },
   {
    "duration": 0,
    "start_time": "2023-12-18T10:12:41.052Z"
   },
   {
    "duration": 0,
    "start_time": "2023-12-18T10:12:41.054Z"
   },
   {
    "duration": 0,
    "start_time": "2023-12-18T10:12:41.054Z"
   },
   {
    "duration": 0,
    "start_time": "2023-12-18T10:12:41.056Z"
   },
   {
    "duration": 0,
    "start_time": "2023-12-18T10:12:41.057Z"
   },
   {
    "duration": 0,
    "start_time": "2023-12-18T10:12:41.058Z"
   },
   {
    "duration": 1,
    "start_time": "2023-12-18T10:12:41.058Z"
   },
   {
    "duration": 0,
    "start_time": "2023-12-18T10:12:41.060Z"
   },
   {
    "duration": 96,
    "start_time": "2023-12-18T10:15:48.595Z"
   },
   {
    "duration": 16,
    "start_time": "2023-12-18T10:15:49.949Z"
   },
   {
    "duration": 14,
    "start_time": "2023-12-18T10:15:50.341Z"
   },
   {
    "duration": 14,
    "start_time": "2023-12-18T10:15:50.497Z"
   },
   {
    "duration": 10,
    "start_time": "2023-12-18T10:15:50.656Z"
   },
   {
    "duration": 14,
    "start_time": "2023-12-18T10:15:51.434Z"
   },
   {
    "duration": 10,
    "start_time": "2023-12-18T10:15:51.995Z"
   },
   {
    "duration": 5,
    "start_time": "2023-12-18T10:15:52.292Z"
   },
   {
    "duration": 51,
    "start_time": "2023-12-18T10:15:53.199Z"
   },
   {
    "duration": 4,
    "start_time": "2023-12-18T10:15:54.472Z"
   },
   {
    "duration": 18,
    "start_time": "2023-12-18T10:15:55.717Z"
   },
   {
    "duration": 4,
    "start_time": "2023-12-18T10:15:56.587Z"
   },
   {
    "duration": 9,
    "start_time": "2023-12-18T10:15:56.940Z"
   },
   {
    "duration": 15,
    "start_time": "2023-12-18T10:15:57.316Z"
   },
   {
    "duration": 6,
    "start_time": "2023-12-18T10:15:59.313Z"
   },
   {
    "duration": 19,
    "start_time": "2023-12-18T10:16:00.763Z"
   },
   {
    "duration": 10,
    "start_time": "2023-12-18T10:16:05.379Z"
   },
   {
    "duration": 12,
    "start_time": "2023-12-18T10:16:07.651Z"
   },
   {
    "duration": 7,
    "start_time": "2023-12-18T10:16:08.661Z"
   },
   {
    "duration": 6,
    "start_time": "2023-12-18T10:16:10.581Z"
   },
   {
    "duration": 11,
    "start_time": "2023-12-18T10:16:14.177Z"
   },
   {
    "duration": 13,
    "start_time": "2023-12-18T10:16:23.109Z"
   },
   {
    "duration": 11,
    "start_time": "2023-12-18T10:16:25.359Z"
   },
   {
    "duration": 8,
    "start_time": "2023-12-18T10:16:26.119Z"
   },
   {
    "duration": 11,
    "start_time": "2023-12-18T10:16:28.147Z"
   },
   {
    "duration": 5,
    "start_time": "2023-12-18T10:16:29.323Z"
   },
   {
    "duration": 5,
    "start_time": "2023-12-18T10:16:29.841Z"
   },
   {
    "duration": 4,
    "start_time": "2023-12-18T10:16:33.539Z"
   },
   {
    "duration": 20,
    "start_time": "2023-12-18T10:16:38.977Z"
   },
   {
    "duration": 45,
    "start_time": "2023-12-18T10:16:55.295Z"
   },
   {
    "duration": 15,
    "start_time": "2023-12-18T10:17:01.664Z"
   },
   {
    "duration": 12,
    "start_time": "2023-12-18T10:17:07.734Z"
   },
   {
    "duration": 14,
    "start_time": "2023-12-18T10:17:16.587Z"
   },
   {
    "duration": 12,
    "start_time": "2023-12-18T10:17:17.771Z"
   },
   {
    "duration": 19,
    "start_time": "2023-12-18T10:17:25.299Z"
   },
   {
    "duration": 15,
    "start_time": "2023-12-18T10:17:28.871Z"
   },
   {
    "duration": 21,
    "start_time": "2023-12-18T10:17:31.637Z"
   },
   {
    "duration": 15,
    "start_time": "2023-12-18T10:18:51.213Z"
   },
   {
    "duration": 939,
    "start_time": "2023-12-18T10:19:59.187Z"
   },
   {
    "duration": 1973,
    "start_time": "2023-12-18T10:20:01.876Z"
   },
   {
    "duration": 14,
    "start_time": "2023-12-18T10:20:08.941Z"
   },
   {
    "duration": 314,
    "start_time": "2023-12-18T10:20:12.286Z"
   },
   {
    "duration": 222,
    "start_time": "2023-12-18T10:21:30.021Z"
   },
   {
    "duration": 6,
    "start_time": "2023-12-18T10:21:32.378Z"
   },
   {
    "duration": 8,
    "start_time": "2023-12-18T10:22:13.615Z"
   },
   {
    "duration": 16,
    "start_time": "2023-12-18T10:22:52.456Z"
   },
   {
    "duration": 1115,
    "start_time": "2023-12-18T10:23:13.337Z"
   },
   {
    "duration": 293,
    "start_time": "2023-12-18T10:23:17.420Z"
   },
   {
    "duration": 6,
    "start_time": "2023-12-18T10:24:12.711Z"
   },
   {
    "duration": 7,
    "start_time": "2023-12-18T10:26:09.713Z"
   },
   {
    "duration": 14,
    "start_time": "2023-12-18T10:27:26.409Z"
   },
   {
    "duration": 7,
    "start_time": "2023-12-18T10:27:50.015Z"
   },
   {
    "duration": 12,
    "start_time": "2023-12-18T10:27:52.466Z"
   },
   {
    "duration": 12,
    "start_time": "2023-12-18T10:28:24.476Z"
   },
   {
    "duration": 2,
    "start_time": "2023-12-18T10:30:37.411Z"
   },
   {
    "duration": 68,
    "start_time": "2023-12-18T10:36:19.800Z"
   },
   {
    "duration": 11,
    "start_time": "2023-12-18T10:36:27.533Z"
   },
   {
    "duration": 12,
    "start_time": "2023-12-18T10:37:28.326Z"
   },
   {
    "duration": 6098,
    "start_time": "2023-12-18T10:38:48.816Z"
   },
   {
    "duration": 4,
    "start_time": "2023-12-18T10:38:58.384Z"
   },
   {
    "duration": 19,
    "start_time": "2023-12-18T10:39:15.027Z"
   },
   {
    "duration": 9,
    "start_time": "2023-12-18T10:41:31.986Z"
   },
   {
    "duration": 12,
    "start_time": "2023-12-18T10:41:36.415Z"
   },
   {
    "duration": 3,
    "start_time": "2023-12-18T10:43:29.913Z"
   },
   {
    "duration": 45,
    "start_time": "2023-12-18T10:46:54.654Z"
   },
   {
    "duration": 74,
    "start_time": "2023-12-18T10:49:37.659Z"
   },
   {
    "duration": 39,
    "start_time": "2023-12-18T10:50:30.847Z"
   },
   {
    "duration": 4,
    "start_time": "2023-12-18T10:50:58.425Z"
   },
   {
    "duration": 44,
    "start_time": "2023-12-18T10:51:00.885Z"
   },
   {
    "duration": 7,
    "start_time": "2023-12-18T10:51:47.226Z"
   },
   {
    "duration": 13,
    "start_time": "2023-12-18T10:51:48.895Z"
   },
   {
    "duration": 3,
    "start_time": "2023-12-18T10:51:51.641Z"
   },
   {
    "duration": 37,
    "start_time": "2023-12-18T10:51:54.138Z"
   },
   {
    "duration": 2472,
    "start_time": "2023-12-18T10:52:29.286Z"
   },
   {
    "duration": 2883,
    "start_time": "2023-12-18T10:52:31.760Z"
   },
   {
    "duration": 1440,
    "start_time": "2023-12-18T10:52:34.645Z"
   },
   {
    "duration": 3,
    "start_time": "2023-12-18T10:52:36.087Z"
   },
   {
    "duration": 141,
    "start_time": "2023-12-18T10:52:36.092Z"
   },
   {
    "duration": 18,
    "start_time": "2023-12-18T10:52:36.235Z"
   },
   {
    "duration": 11,
    "start_time": "2023-12-18T10:52:36.255Z"
   },
   {
    "duration": 36,
    "start_time": "2023-12-18T10:52:36.268Z"
   },
   {
    "duration": 26,
    "start_time": "2023-12-18T10:52:36.305Z"
   },
   {
    "duration": 23,
    "start_time": "2023-12-18T10:52:36.335Z"
   },
   {
    "duration": 13,
    "start_time": "2023-12-18T10:52:36.360Z"
   },
   {
    "duration": 3,
    "start_time": "2023-12-18T10:52:36.375Z"
   },
   {
    "duration": 65,
    "start_time": "2023-12-18T10:52:36.380Z"
   },
   {
    "duration": 4,
    "start_time": "2023-12-18T10:52:36.446Z"
   },
   {
    "duration": 20,
    "start_time": "2023-12-18T10:52:36.451Z"
   },
   {
    "duration": 10,
    "start_time": "2023-12-18T10:52:36.472Z"
   },
   {
    "duration": 13,
    "start_time": "2023-12-18T10:52:36.483Z"
   },
   {
    "duration": 17,
    "start_time": "2023-12-18T10:52:36.499Z"
   },
   {
    "duration": 9,
    "start_time": "2023-12-18T10:52:36.518Z"
   },
   {
    "duration": 30,
    "start_time": "2023-12-18T10:52:36.528Z"
   },
   {
    "duration": 7,
    "start_time": "2023-12-18T10:52:36.559Z"
   },
   {
    "duration": 12,
    "start_time": "2023-12-18T10:52:36.568Z"
   },
   {
    "duration": 8,
    "start_time": "2023-12-18T10:52:36.599Z"
   },
   {
    "duration": 23,
    "start_time": "2023-12-18T10:52:36.608Z"
   },
   {
    "duration": 14,
    "start_time": "2023-12-18T10:52:36.633Z"
   },
   {
    "duration": 15,
    "start_time": "2023-12-18T10:52:36.648Z"
   },
   {
    "duration": 15,
    "start_time": "2023-12-18T10:52:36.665Z"
   },
   {
    "duration": 20,
    "start_time": "2023-12-18T10:52:36.684Z"
   },
   {
    "duration": 12,
    "start_time": "2023-12-18T10:52:36.705Z"
   },
   {
    "duration": 14,
    "start_time": "2023-12-18T10:52:36.719Z"
   },
   {
    "duration": 9,
    "start_time": "2023-12-18T10:52:36.735Z"
   },
   {
    "duration": 11,
    "start_time": "2023-12-18T10:52:36.746Z"
   },
   {
    "duration": 24,
    "start_time": "2023-12-18T10:52:36.758Z"
   },
   {
    "duration": 68,
    "start_time": "2023-12-18T10:52:36.783Z"
   },
   {
    "duration": 13,
    "start_time": "2023-12-18T10:52:36.853Z"
   },
   {
    "duration": 34,
    "start_time": "2023-12-18T10:52:36.868Z"
   },
   {
    "duration": 14,
    "start_time": "2023-12-18T10:52:36.905Z"
   },
   {
    "duration": 17,
    "start_time": "2023-12-18T10:52:36.922Z"
   },
   {
    "duration": 20,
    "start_time": "2023-12-18T10:52:36.940Z"
   },
   {
    "duration": 13,
    "start_time": "2023-12-18T10:52:36.962Z"
   },
   {
    "duration": 49,
    "start_time": "2023-12-18T10:52:36.976Z"
   },
   {
    "duration": 19,
    "start_time": "2023-12-18T10:52:37.027Z"
   },
   {
    "duration": 1049,
    "start_time": "2023-12-18T10:52:37.047Z"
   },
   {
    "duration": 2260,
    "start_time": "2023-12-18T10:52:38.097Z"
   },
   {
    "duration": 13,
    "start_time": "2023-12-18T10:52:40.359Z"
   },
   {
    "duration": 9,
    "start_time": "2023-12-18T10:52:40.374Z"
   },
   {
    "duration": 16,
    "start_time": "2023-12-18T10:52:40.384Z"
   },
   {
    "duration": 1176,
    "start_time": "2023-12-18T10:52:40.402Z"
   },
   {
    "duration": 345,
    "start_time": "2023-12-18T10:52:41.580Z"
   },
   {
    "duration": 155,
    "start_time": "2023-12-18T10:52:41.927Z"
   },
   {
    "duration": 6,
    "start_time": "2023-12-18T10:52:42.083Z"
   },
   {
    "duration": 20,
    "start_time": "2023-12-18T10:52:42.099Z"
   },
   {
    "duration": 14,
    "start_time": "2023-12-18T10:52:42.120Z"
   },
   {
    "duration": 15,
    "start_time": "2023-12-18T10:52:42.136Z"
   },
   {
    "duration": 2,
    "start_time": "2023-12-18T10:52:42.153Z"
   },
   {
    "duration": 142,
    "start_time": "2023-12-18T10:52:42.157Z"
   },
   {
    "duration": 0,
    "start_time": "2023-12-18T10:52:42.301Z"
   },
   {
    "duration": 0,
    "start_time": "2023-12-18T10:52:42.302Z"
   },
   {
    "duration": 0,
    "start_time": "2023-12-18T10:52:42.304Z"
   },
   {
    "duration": 0,
    "start_time": "2023-12-18T10:52:42.305Z"
   },
   {
    "duration": 0,
    "start_time": "2023-12-18T10:52:42.307Z"
   },
   {
    "duration": 0,
    "start_time": "2023-12-18T10:52:42.308Z"
   },
   {
    "duration": 0,
    "start_time": "2023-12-18T10:52:42.310Z"
   },
   {
    "duration": 0,
    "start_time": "2023-12-18T10:52:42.311Z"
   },
   {
    "duration": 0,
    "start_time": "2023-12-18T10:52:42.314Z"
   },
   {
    "duration": 0,
    "start_time": "2023-12-18T10:52:42.315Z"
   },
   {
    "duration": 0,
    "start_time": "2023-12-18T10:52:42.317Z"
   },
   {
    "duration": 0,
    "start_time": "2023-12-18T10:52:42.319Z"
   },
   {
    "duration": 0,
    "start_time": "2023-12-18T10:52:42.320Z"
   },
   {
    "duration": 0,
    "start_time": "2023-12-18T10:52:42.321Z"
   },
   {
    "duration": 0,
    "start_time": "2023-12-18T10:52:42.322Z"
   },
   {
    "duration": 0,
    "start_time": "2023-12-18T10:52:42.323Z"
   },
   {
    "duration": 41,
    "start_time": "2023-12-18T10:53:04.755Z"
   },
   {
    "duration": 102,
    "start_time": "2023-12-18T11:00:01.780Z"
   },
   {
    "duration": 17,
    "start_time": "2023-12-18T11:00:04.841Z"
   },
   {
    "duration": 12,
    "start_time": "2023-12-18T11:00:05.281Z"
   },
   {
    "duration": 16,
    "start_time": "2023-12-18T11:00:05.956Z"
   },
   {
    "duration": 15,
    "start_time": "2023-12-18T11:00:06.401Z"
   },
   {
    "duration": 18,
    "start_time": "2023-12-18T11:00:09.833Z"
   },
   {
    "duration": 9,
    "start_time": "2023-12-18T11:00:11.764Z"
   },
   {
    "duration": 5,
    "start_time": "2023-12-18T11:00:12.915Z"
   },
   {
    "duration": 60,
    "start_time": "2023-12-18T11:00:14.182Z"
   },
   {
    "duration": 4,
    "start_time": "2023-12-18T11:00:15.945Z"
   },
   {
    "duration": 20,
    "start_time": "2023-12-18T11:00:18.032Z"
   },
   {
    "duration": 5,
    "start_time": "2023-12-18T11:00:20.915Z"
   },
   {
    "duration": 8,
    "start_time": "2023-12-18T11:00:21.979Z"
   },
   {
    "duration": 17,
    "start_time": "2023-12-18T11:00:22.889Z"
   },
   {
    "duration": 5,
    "start_time": "2023-12-18T11:00:26.573Z"
   },
   {
    "duration": 23,
    "start_time": "2023-12-18T11:00:28.601Z"
   },
   {
    "duration": 12,
    "start_time": "2023-12-18T11:00:40.285Z"
   },
   {
    "duration": 12,
    "start_time": "2023-12-18T11:00:43.185Z"
   },
   {
    "duration": 8,
    "start_time": "2023-12-18T11:00:43.900Z"
   },
   {
    "duration": 9,
    "start_time": "2023-12-18T11:00:45.395Z"
   },
   {
    "duration": 12,
    "start_time": "2023-12-18T11:00:50.159Z"
   },
   {
    "duration": 13,
    "start_time": "2023-12-18T11:00:53.458Z"
   },
   {
    "duration": 11,
    "start_time": "2023-12-18T11:00:54.399Z"
   },
   {
    "duration": 8,
    "start_time": "2023-12-18T11:00:55.066Z"
   },
   {
    "duration": 11,
    "start_time": "2023-12-18T11:01:00.151Z"
   },
   {
    "duration": 6,
    "start_time": "2023-12-18T11:01:01.531Z"
   },
   {
    "duration": 5,
    "start_time": "2023-12-18T11:01:02.033Z"
   },
   {
    "duration": 5,
    "start_time": "2023-12-18T11:01:07.539Z"
   },
   {
    "duration": 21,
    "start_time": "2023-12-18T11:01:11.293Z"
   },
   {
    "duration": 51,
    "start_time": "2023-12-18T11:01:28.571Z"
   },
   {
    "duration": 20,
    "start_time": "2023-12-18T11:02:01.565Z"
   },
   {
    "duration": 10,
    "start_time": "2023-12-18T11:02:11.465Z"
   },
   {
    "duration": 12,
    "start_time": "2023-12-18T11:02:16.930Z"
   },
   {
    "duration": 12,
    "start_time": "2023-12-18T11:02:18.912Z"
   },
   {
    "duration": 17,
    "start_time": "2023-12-18T11:02:22.713Z"
   },
   {
    "duration": 13,
    "start_time": "2023-12-18T11:02:26.757Z"
   },
   {
    "duration": 36,
    "start_time": "2023-12-18T11:02:29.295Z"
   },
   {
    "duration": 9,
    "start_time": "2023-12-18T11:04:04.955Z"
   },
   {
    "duration": 93,
    "start_time": "2023-12-18T11:04:14.741Z"
   },
   {
    "duration": 14,
    "start_time": "2023-12-18T11:04:15.785Z"
   },
   {
    "duration": 12,
    "start_time": "2023-12-18T11:04:16.253Z"
   },
   {
    "duration": 13,
    "start_time": "2023-12-18T11:04:16.997Z"
   },
   {
    "duration": 10,
    "start_time": "2023-12-18T11:04:17.429Z"
   },
   {
    "duration": 14,
    "start_time": "2023-12-18T11:04:19.075Z"
   },
   {
    "duration": 9,
    "start_time": "2023-12-18T11:04:19.386Z"
   },
   {
    "duration": 4,
    "start_time": "2023-12-18T11:04:19.708Z"
   },
   {
    "duration": 51,
    "start_time": "2023-12-18T11:04:20.030Z"
   },
   {
    "duration": 4,
    "start_time": "2023-12-18T11:04:21.236Z"
   },
   {
    "duration": 16,
    "start_time": "2023-12-18T11:04:21.580Z"
   },
   {
    "duration": 5,
    "start_time": "2023-12-18T11:04:22.740Z"
   },
   {
    "duration": 8,
    "start_time": "2023-12-18T11:04:22.907Z"
   },
   {
    "duration": 15,
    "start_time": "2023-12-18T11:04:23.110Z"
   },
   {
    "duration": 5,
    "start_time": "2023-12-18T11:04:24.267Z"
   },
   {
    "duration": 21,
    "start_time": "2023-12-18T11:04:25.759Z"
   },
   {
    "duration": 9,
    "start_time": "2023-12-18T11:04:27.200Z"
   },
   {
    "duration": 13,
    "start_time": "2023-12-18T11:04:30.106Z"
   },
   {
    "duration": 7,
    "start_time": "2023-12-18T11:04:30.302Z"
   },
   {
    "duration": 7,
    "start_time": "2023-12-18T11:04:30.633Z"
   },
   {
    "duration": 11,
    "start_time": "2023-12-18T11:04:30.948Z"
   },
   {
    "duration": 14,
    "start_time": "2023-12-18T11:04:33.695Z"
   },
   {
    "duration": 7,
    "start_time": "2023-12-18T11:04:34.080Z"
   },
   {
    "duration": 7,
    "start_time": "2023-12-18T11:04:34.692Z"
   },
   {
    "duration": 11,
    "start_time": "2023-12-18T11:04:35.819Z"
   },
   {
    "duration": 5,
    "start_time": "2023-12-18T11:04:39.329Z"
   },
   {
    "duration": 5,
    "start_time": "2023-12-18T11:04:39.713Z"
   },
   {
    "duration": 3,
    "start_time": "2023-12-18T11:04:45.381Z"
   },
   {
    "duration": 20,
    "start_time": "2023-12-18T11:04:49.126Z"
   },
   {
    "duration": 42,
    "start_time": "2023-12-18T11:04:51.376Z"
   },
   {
    "duration": 14,
    "start_time": "2023-12-18T11:04:55.348Z"
   },
   {
    "duration": 10,
    "start_time": "2023-12-18T11:05:03.451Z"
   },
   {
    "duration": 12,
    "start_time": "2023-12-18T11:05:09.726Z"
   },
   {
    "duration": 12,
    "start_time": "2023-12-18T11:05:13.222Z"
   },
   {
    "duration": 16,
    "start_time": "2023-12-18T11:05:30.907Z"
   },
   {
    "duration": 19,
    "start_time": "2023-12-18T11:07:40.112Z"
   },
   {
    "duration": 13,
    "start_time": "2023-12-18T11:07:42.894Z"
   },
   {
    "duration": 22,
    "start_time": "2023-12-18T11:07:44.719Z"
   },
   {
    "duration": 14,
    "start_time": "2023-12-18T11:07:47.987Z"
   },
   {
    "duration": 951,
    "start_time": "2023-12-18T11:07:55.377Z"
   },
   {
    "duration": 1914,
    "start_time": "2023-12-18T11:07:56.329Z"
   },
   {
    "duration": 14,
    "start_time": "2023-12-18T11:08:01.893Z"
   },
   {
    "duration": 9,
    "start_time": "2023-12-18T11:08:04.281Z"
   },
   {
    "duration": 16,
    "start_time": "2023-12-18T11:08:04.801Z"
   },
   {
    "duration": 1155,
    "start_time": "2023-12-18T11:08:06.626Z"
   },
   {
    "duration": 253,
    "start_time": "2023-12-18T11:08:11.835Z"
   },
   {
    "duration": 97,
    "start_time": "2023-12-18T11:08:18.295Z"
   },
   {
    "duration": 5,
    "start_time": "2023-12-18T11:08:21.777Z"
   },
   {
    "duration": 6,
    "start_time": "2023-12-18T11:08:27.661Z"
   },
   {
    "duration": 7,
    "start_time": "2023-12-18T11:08:33.714Z"
   },
   {
    "duration": 11,
    "start_time": "2023-12-18T11:08:36.319Z"
   },
   {
    "duration": 3,
    "start_time": "2023-12-18T11:08:39.657Z"
   },
   {
    "duration": 37,
    "start_time": "2023-12-18T11:08:42.096Z"
   },
   {
    "duration": 109,
    "start_time": "2023-12-18T11:11:49.342Z"
   },
   {
    "duration": 15,
    "start_time": "2023-12-18T11:11:49.976Z"
   },
   {
    "duration": 14,
    "start_time": "2023-12-18T11:11:50.140Z"
   },
   {
    "duration": 14,
    "start_time": "2023-12-18T11:11:50.296Z"
   },
   {
    "duration": 11,
    "start_time": "2023-12-18T11:11:50.447Z"
   },
   {
    "duration": 15,
    "start_time": "2023-12-18T11:11:51.754Z"
   },
   {
    "duration": 10,
    "start_time": "2023-12-18T11:11:52.279Z"
   },
   {
    "duration": 4,
    "start_time": "2023-12-18T11:11:52.562Z"
   },
   {
    "duration": 57,
    "start_time": "2023-12-18T11:11:52.868Z"
   },
   {
    "duration": 4,
    "start_time": "2023-12-18T11:11:54.090Z"
   },
   {
    "duration": 17,
    "start_time": "2023-12-18T11:11:54.495Z"
   },
   {
    "duration": 5,
    "start_time": "2023-12-18T11:11:56.064Z"
   },
   {
    "duration": 12,
    "start_time": "2023-12-18T11:11:56.245Z"
   },
   {
    "duration": 15,
    "start_time": "2023-12-18T11:11:56.472Z"
   },
   {
    "duration": 6,
    "start_time": "2023-12-18T11:11:58.955Z"
   },
   {
    "duration": 20,
    "start_time": "2023-12-18T11:12:02.379Z"
   },
   {
    "duration": 9,
    "start_time": "2023-12-18T11:12:03.446Z"
   },
   {
    "duration": 13,
    "start_time": "2023-12-18T11:12:05.366Z"
   },
   {
    "duration": 7,
    "start_time": "2023-12-18T11:12:05.845Z"
   },
   {
    "duration": 6,
    "start_time": "2023-12-18T11:12:07.457Z"
   },
   {
    "duration": 11,
    "start_time": "2023-12-18T11:12:09.488Z"
   },
   {
    "duration": 15,
    "start_time": "2023-12-18T11:12:12.622Z"
   },
   {
    "duration": 8,
    "start_time": "2023-12-18T11:12:13.781Z"
   },
   {
    "duration": 7,
    "start_time": "2023-12-18T11:12:14.478Z"
   },
   {
    "duration": 10,
    "start_time": "2023-12-18T11:12:16.641Z"
   },
   {
    "duration": 6,
    "start_time": "2023-12-18T11:12:17.072Z"
   },
   {
    "duration": 5,
    "start_time": "2023-12-18T11:12:18.004Z"
   },
   {
    "duration": 4,
    "start_time": "2023-12-18T11:12:22.862Z"
   },
   {
    "duration": 20,
    "start_time": "2023-12-18T11:12:25.771Z"
   },
   {
    "duration": 40,
    "start_time": "2023-12-18T11:12:31.144Z"
   },
   {
    "duration": 14,
    "start_time": "2023-12-18T11:12:35.183Z"
   },
   {
    "duration": 10,
    "start_time": "2023-12-18T11:12:38.407Z"
   },
   {
    "duration": 11,
    "start_time": "2023-12-18T11:12:42.515Z"
   },
   {
    "duration": 11,
    "start_time": "2023-12-18T11:12:43.350Z"
   },
   {
    "duration": 17,
    "start_time": "2023-12-18T11:12:50.880Z"
   },
   {
    "duration": 12,
    "start_time": "2023-12-18T11:12:57.039Z"
   },
   {
    "duration": 23,
    "start_time": "2023-12-18T11:13:20.196Z"
   },
   {
    "duration": 15,
    "start_time": "2023-12-18T11:13:25.726Z"
   },
   {
    "duration": 936,
    "start_time": "2023-12-18T11:13:41.662Z"
   },
   {
    "duration": 1899,
    "start_time": "2023-12-18T11:13:42.600Z"
   },
   {
    "duration": 13,
    "start_time": "2023-12-18T11:13:52.405Z"
   },
   {
    "duration": 9,
    "start_time": "2023-12-18T11:13:56.462Z"
   },
   {
    "duration": 16,
    "start_time": "2023-12-18T11:14:13.655Z"
   },
   {
    "duration": 1073,
    "start_time": "2023-12-18T11:14:20.817Z"
   },
   {
    "duration": 313,
    "start_time": "2023-12-18T11:14:25.159Z"
   },
   {
    "duration": 222,
    "start_time": "2023-12-18T11:14:30.557Z"
   },
   {
    "duration": 5,
    "start_time": "2023-12-18T11:14:32.956Z"
   },
   {
    "duration": 6,
    "start_time": "2023-12-18T11:14:36.755Z"
   },
   {
    "duration": 6,
    "start_time": "2023-12-18T11:14:39.326Z"
   },
   {
    "duration": 12,
    "start_time": "2023-12-18T11:14:41.597Z"
   },
   {
    "duration": 3,
    "start_time": "2023-12-18T11:14:47.423Z"
   },
   {
    "duration": 38,
    "start_time": "2023-12-18T11:14:49.558Z"
   },
   {
    "duration": 99,
    "start_time": "2023-12-18T11:24:49.279Z"
   },
   {
    "duration": 17,
    "start_time": "2023-12-18T11:24:49.584Z"
   },
   {
    "duration": 14,
    "start_time": "2023-12-18T11:24:49.741Z"
   },
   {
    "duration": 15,
    "start_time": "2023-12-18T11:24:49.882Z"
   },
   {
    "duration": 11,
    "start_time": "2023-12-18T11:24:50.016Z"
   },
   {
    "duration": 15,
    "start_time": "2023-12-18T11:24:51.066Z"
   },
   {
    "duration": 11,
    "start_time": "2023-12-18T11:24:51.410Z"
   },
   {
    "duration": 5,
    "start_time": "2023-12-18T11:24:51.716Z"
   },
   {
    "duration": 52,
    "start_time": "2023-12-18T11:24:52.034Z"
   },
   {
    "duration": 4,
    "start_time": "2023-12-18T11:24:52.725Z"
   },
   {
    "duration": 18,
    "start_time": "2023-12-18T11:24:53.155Z"
   },
   {
    "duration": 5,
    "start_time": "2023-12-18T11:24:54.365Z"
   },
   {
    "duration": 12,
    "start_time": "2023-12-18T11:24:54.699Z"
   },
   {
    "duration": 15,
    "start_time": "2023-12-18T11:24:54.921Z"
   },
   {
    "duration": 6,
    "start_time": "2023-12-18T11:24:55.374Z"
   },
   {
    "duration": 20,
    "start_time": "2023-12-18T11:24:56.651Z"
   },
   {
    "duration": 7,
    "start_time": "2023-12-18T11:24:57.576Z"
   },
   {
    "duration": 12,
    "start_time": "2023-12-18T11:24:58.757Z"
   },
   {
    "duration": 7,
    "start_time": "2023-12-18T11:24:58.937Z"
   },
   {
    "duration": 6,
    "start_time": "2023-12-18T11:24:59.291Z"
   },
   {
    "duration": 11,
    "start_time": "2023-12-18T11:24:59.619Z"
   },
   {
    "duration": 15,
    "start_time": "2023-12-18T11:25:00.685Z"
   },
   {
    "duration": 8,
    "start_time": "2023-12-18T11:25:01.830Z"
   },
   {
    "duration": 7,
    "start_time": "2023-12-18T11:25:02.120Z"
   },
   {
    "duration": 13,
    "start_time": "2023-12-18T11:25:03.492Z"
   },
   {
    "duration": 5,
    "start_time": "2023-12-18T11:25:04.744Z"
   },
   {
    "duration": 5,
    "start_time": "2023-12-18T11:25:05.143Z"
   },
   {
    "duration": 4,
    "start_time": "2023-12-18T11:25:07.119Z"
   },
   {
    "duration": 21,
    "start_time": "2023-12-18T11:25:08.108Z"
   },
   {
    "duration": 47,
    "start_time": "2023-12-18T11:25:10.087Z"
   },
   {
    "duration": 15,
    "start_time": "2023-12-18T11:25:10.769Z"
   },
   {
    "duration": 12,
    "start_time": "2023-12-18T11:25:15.611Z"
   },
   {
    "duration": 19,
    "start_time": "2023-12-18T11:25:21.002Z"
   },
   {
    "duration": 11,
    "start_time": "2023-12-18T11:25:23.187Z"
   },
   {
    "duration": 16,
    "start_time": "2023-12-18T11:25:40.526Z"
   },
   {
    "duration": 5,
    "start_time": "2023-12-18T11:26:03.800Z"
   },
   {
    "duration": 18,
    "start_time": "2023-12-18T11:26:50.483Z"
   },
   {
    "duration": 18,
    "start_time": "2023-12-18T11:26:54.885Z"
   },
   {
    "duration": 13,
    "start_time": "2023-12-18T11:26:58.708Z"
   },
   {
    "duration": 25,
    "start_time": "2023-12-18T11:27:00.845Z"
   },
   {
    "duration": 949,
    "start_time": "2023-12-18T11:27:13.638Z"
   },
   {
    "duration": 2101,
    "start_time": "2023-12-18T11:27:14.588Z"
   },
   {
    "duration": 14,
    "start_time": "2023-12-18T11:27:23.917Z"
   },
   {
    "duration": 10,
    "start_time": "2023-12-18T11:27:26.706Z"
   },
   {
    "duration": 18,
    "start_time": "2023-12-18T11:27:27.610Z"
   },
   {
    "duration": 1121,
    "start_time": "2023-12-18T11:27:32.341Z"
   },
   {
    "duration": 269,
    "start_time": "2023-12-18T11:27:36.939Z"
   },
   {
    "duration": 102,
    "start_time": "2023-12-18T11:27:50.525Z"
   },
   {
    "duration": 7,
    "start_time": "2023-12-18T11:27:53.227Z"
   },
   {
    "duration": 6,
    "start_time": "2023-12-18T11:27:57.073Z"
   },
   {
    "duration": 6,
    "start_time": "2023-12-18T11:27:59.337Z"
   },
   {
    "duration": 12,
    "start_time": "2023-12-18T11:28:01.193Z"
   },
   {
    "duration": 3,
    "start_time": "2023-12-18T11:28:03.864Z"
   },
   {
    "duration": 41,
    "start_time": "2023-12-18T11:28:06.678Z"
   },
   {
    "duration": 2,
    "start_time": "2023-12-18T11:28:22.235Z"
   },
   {
    "duration": 1799,
    "start_time": "2023-12-18T11:28:24.483Z"
   },
   {
    "duration": 44,
    "start_time": "2023-12-18T11:28:39.737Z"
   },
   {
    "duration": 3,
    "start_time": "2023-12-18T11:28:46.934Z"
   },
   {
    "duration": 37,
    "start_time": "2023-12-18T11:28:49.255Z"
   },
   {
    "duration": 3,
    "start_time": "2023-12-18T11:29:14.826Z"
   },
   {
    "duration": 39,
    "start_time": "2023-12-18T11:29:17.435Z"
   },
   {
    "duration": 15,
    "start_time": "2023-12-18T11:30:31.734Z"
   },
   {
    "duration": 16,
    "start_time": "2023-12-18T11:40:10.507Z"
   },
   {
    "duration": 12,
    "start_time": "2023-12-18T11:40:20.588Z"
   },
   {
    "duration": 4,
    "start_time": "2023-12-18T11:41:54.091Z"
   },
   {
    "duration": 8,
    "start_time": "2023-12-18T11:42:02.388Z"
   },
   {
    "duration": 3,
    "start_time": "2023-12-18T11:42:06.331Z"
   },
   {
    "duration": 38,
    "start_time": "2023-12-18T11:42:08.387Z"
   },
   {
    "duration": 6,
    "start_time": "2023-12-18T11:44:00.325Z"
   },
   {
    "duration": 12,
    "start_time": "2023-12-18T11:44:03.309Z"
   },
   {
    "duration": 20,
    "start_time": "2023-12-18T11:44:36.357Z"
   },
   {
    "duration": 9,
    "start_time": "2023-12-18T11:44:46.678Z"
   },
   {
    "duration": 21,
    "start_time": "2023-12-18T11:44:52.750Z"
   },
   {
    "duration": 31,
    "start_time": "2023-12-18T11:49:57.956Z"
   },
   {
    "duration": 67,
    "start_time": "2023-12-18T11:50:08.829Z"
   },
   {
    "duration": 6,
    "start_time": "2023-12-18T11:55:02.466Z"
   },
   {
    "duration": 15,
    "start_time": "2023-12-18T11:55:45.404Z"
   },
   {
    "duration": 14,
    "start_time": "2023-12-18T11:57:14.275Z"
   },
   {
    "duration": 16,
    "start_time": "2023-12-18T12:04:02.705Z"
   },
   {
    "duration": 21,
    "start_time": "2023-12-18T12:05:02.355Z"
   },
   {
    "duration": 18,
    "start_time": "2023-12-18T12:05:29.961Z"
   },
   {
    "duration": 26,
    "start_time": "2023-12-18T12:05:43.571Z"
   },
   {
    "duration": 58,
    "start_time": "2023-12-18T12:06:33.137Z"
   },
   {
    "duration": 15,
    "start_time": "2023-12-18T12:07:41.376Z"
   },
   {
    "duration": 15,
    "start_time": "2023-12-18T12:14:59.249Z"
   },
   {
    "duration": 14,
    "start_time": "2023-12-18T12:15:11.624Z"
   },
   {
    "duration": 34,
    "start_time": "2023-12-18T12:15:59.731Z"
   },
   {
    "duration": 33,
    "start_time": "2023-12-18T12:16:15.389Z"
   },
   {
    "duration": 37,
    "start_time": "2023-12-18T12:17:11.248Z"
   },
   {
    "duration": 41,
    "start_time": "2023-12-18T12:17:58.605Z"
   },
   {
    "duration": 38,
    "start_time": "2023-12-18T12:18:24.724Z"
   },
   {
    "duration": 55,
    "start_time": "2023-12-18T12:18:59.763Z"
   },
   {
    "duration": 5,
    "start_time": "2023-12-18T12:19:06.625Z"
   },
   {
    "duration": 37,
    "start_time": "2023-12-18T12:19:07.861Z"
   },
   {
    "duration": 55,
    "start_time": "2023-12-18T12:19:40.784Z"
   },
   {
    "duration": 96,
    "start_time": "2023-12-18T12:22:28.077Z"
   },
   {
    "duration": 15,
    "start_time": "2023-12-18T12:22:28.375Z"
   },
   {
    "duration": 12,
    "start_time": "2023-12-18T12:22:28.502Z"
   },
   {
    "duration": 14,
    "start_time": "2023-12-18T12:22:28.665Z"
   },
   {
    "duration": 12,
    "start_time": "2023-12-18T12:22:28.837Z"
   },
   {
    "duration": 15,
    "start_time": "2023-12-18T12:22:29.620Z"
   },
   {
    "duration": 9,
    "start_time": "2023-12-18T12:22:29.895Z"
   },
   {
    "duration": 4,
    "start_time": "2023-12-18T12:22:30.201Z"
   },
   {
    "duration": 53,
    "start_time": "2023-12-18T12:22:30.537Z"
   },
   {
    "duration": 4,
    "start_time": "2023-12-18T12:22:31.016Z"
   },
   {
    "duration": 19,
    "start_time": "2023-12-18T12:22:31.329Z"
   },
   {
    "duration": 5,
    "start_time": "2023-12-18T12:22:31.806Z"
   },
   {
    "duration": 9,
    "start_time": "2023-12-18T12:22:31.979Z"
   },
   {
    "duration": 15,
    "start_time": "2023-12-18T12:22:32.152Z"
   },
   {
    "duration": 6,
    "start_time": "2023-12-18T12:22:32.470Z"
   },
   {
    "duration": 18,
    "start_time": "2023-12-18T12:22:32.965Z"
   },
   {
    "duration": 7,
    "start_time": "2023-12-18T12:22:33.302Z"
   },
   {
    "duration": 13,
    "start_time": "2023-12-18T12:22:33.896Z"
   },
   {
    "duration": 7,
    "start_time": "2023-12-18T12:22:34.084Z"
   },
   {
    "duration": 6,
    "start_time": "2023-12-18T12:22:34.446Z"
   },
   {
    "duration": 12,
    "start_time": "2023-12-18T12:22:35.182Z"
   },
   {
    "duration": 13,
    "start_time": "2023-12-18T12:22:35.756Z"
   },
   {
    "duration": 11,
    "start_time": "2023-12-18T12:22:36.185Z"
   },
   {
    "duration": 8,
    "start_time": "2023-12-18T12:22:36.450Z"
   },
   {
    "duration": 10,
    "start_time": "2023-12-18T12:22:37.015Z"
   },
   {
    "duration": 6,
    "start_time": "2023-12-18T12:22:37.375Z"
   },
   {
    "duration": 4,
    "start_time": "2023-12-18T12:22:37.571Z"
   },
   {
    "duration": 4,
    "start_time": "2023-12-18T12:22:38.864Z"
   },
   {
    "duration": 19,
    "start_time": "2023-12-18T12:22:39.194Z"
   },
   {
    "duration": 41,
    "start_time": "2023-12-18T12:22:39.601Z"
   },
   {
    "duration": 14,
    "start_time": "2023-12-18T12:22:39.836Z"
   },
   {
    "duration": 10,
    "start_time": "2023-12-18T12:22:41.574Z"
   },
   {
    "duration": 12,
    "start_time": "2023-12-18T12:22:42.654Z"
   },
   {
    "duration": 17,
    "start_time": "2023-12-18T12:22:42.850Z"
   },
   {
    "duration": 16,
    "start_time": "2023-12-18T12:22:43.266Z"
   },
   {
    "duration": 4,
    "start_time": "2023-12-18T12:22:43.697Z"
   },
   {
    "duration": 16,
    "start_time": "2023-12-18T12:22:44.027Z"
   },
   {
    "duration": 17,
    "start_time": "2023-12-18T12:22:45.633Z"
   },
   {
    "duration": 14,
    "start_time": "2023-12-18T12:22:45.968Z"
   },
   {
    "duration": 24,
    "start_time": "2023-12-18T12:22:46.237Z"
   },
   {
    "duration": 933,
    "start_time": "2023-12-18T12:22:49.067Z"
   },
   {
    "duration": 1888,
    "start_time": "2023-12-18T12:22:50.002Z"
   },
   {
    "duration": 16,
    "start_time": "2023-12-18T12:22:51.892Z"
   },
   {
    "duration": 11,
    "start_time": "2023-12-18T12:22:51.910Z"
   },
   {
    "duration": 17,
    "start_time": "2023-12-18T12:22:52.270Z"
   },
   {
    "duration": 1065,
    "start_time": "2023-12-18T12:22:52.873Z"
   },
   {
    "duration": 277,
    "start_time": "2023-12-18T12:22:53.940Z"
   },
   {
    "duration": 101,
    "start_time": "2023-12-18T12:22:58.083Z"
   },
   {
    "duration": 5,
    "start_time": "2023-12-18T12:22:58.749Z"
   },
   {
    "duration": 11,
    "start_time": "2023-12-18T12:22:59.226Z"
   },
   {
    "duration": 6,
    "start_time": "2023-12-18T12:23:03.674Z"
   },
   {
    "duration": 6,
    "start_time": "2023-12-18T12:23:05.599Z"
   },
   {
    "duration": 12,
    "start_time": "2023-12-18T12:23:06.856Z"
   },
   {
    "duration": 9,
    "start_time": "2023-12-18T12:23:08.345Z"
   },
   {
    "duration": 2,
    "start_time": "2023-12-18T12:23:08.839Z"
   },
   {
    "duration": 61,
    "start_time": "2023-12-18T12:23:11.652Z"
   },
   {
    "duration": 6,
    "start_time": "2023-12-18T12:23:15.624Z"
   },
   {
    "duration": 37,
    "start_time": "2023-12-18T12:23:22.238Z"
   },
   {
    "duration": 2,
    "start_time": "2023-12-18T12:24:19.215Z"
   },
   {
    "duration": 3,
    "start_time": "2023-12-18T12:24:48.536Z"
   },
   {
    "duration": 3,
    "start_time": "2023-12-18T12:34:18.225Z"
   },
   {
    "duration": 2,
    "start_time": "2023-12-18T12:34:18.696Z"
   },
   {
    "duration": 18,
    "start_time": "2023-12-18T12:35:03.400Z"
   },
   {
    "duration": 15,
    "start_time": "2023-12-18T12:35:59.130Z"
   },
   {
    "duration": 44,
    "start_time": "2023-12-18T12:36:37.588Z"
   },
   {
    "duration": 32,
    "start_time": "2023-12-18T12:39:06.619Z"
   },
   {
    "duration": 1286,
    "start_time": "2023-12-18T12:39:51.717Z"
   },
   {
    "duration": 200,
    "start_time": "2023-12-18T12:40:16.000Z"
   },
   {
    "duration": 13,
    "start_time": "2023-12-18T12:42:42.174Z"
   },
   {
    "duration": 3,
    "start_time": "2023-12-18T12:42:47.241Z"
   },
   {
    "duration": 46237,
    "start_time": "2023-12-18T12:42:49.325Z"
   },
   {
    "duration": 3,
    "start_time": "2023-12-18T12:44:58.259Z"
   },
   {
    "duration": 50834,
    "start_time": "2023-12-18T12:45:01.938Z"
   },
   {
    "duration": 4,
    "start_time": "2023-12-18T12:48:15.611Z"
   },
   {
    "duration": 25850,
    "start_time": "2023-12-18T12:48:18.423Z"
   },
   {
    "duration": 13,
    "start_time": "2023-12-18T12:49:07.473Z"
   },
   {
    "duration": 4,
    "start_time": "2023-12-18T12:50:09.045Z"
   },
   {
    "duration": 2213,
    "start_time": "2023-12-18T12:52:32.483Z"
   },
   {
    "duration": 2668,
    "start_time": "2023-12-18T12:52:34.698Z"
   },
   {
    "duration": 1232,
    "start_time": "2023-12-18T12:52:37.367Z"
   },
   {
    "duration": 2,
    "start_time": "2023-12-18T12:52:38.601Z"
   },
   {
    "duration": 99,
    "start_time": "2023-12-18T12:52:38.605Z"
   },
   {
    "duration": 16,
    "start_time": "2023-12-18T12:52:38.706Z"
   },
   {
    "duration": 13,
    "start_time": "2023-12-18T12:52:38.724Z"
   },
   {
    "duration": 13,
    "start_time": "2023-12-18T12:52:38.738Z"
   },
   {
    "duration": 22,
    "start_time": "2023-12-18T12:52:38.753Z"
   },
   {
    "duration": 30,
    "start_time": "2023-12-18T12:52:38.778Z"
   },
   {
    "duration": 11,
    "start_time": "2023-12-18T12:52:38.809Z"
   },
   {
    "duration": 5,
    "start_time": "2023-12-18T12:52:38.821Z"
   },
   {
    "duration": 72,
    "start_time": "2023-12-18T12:52:38.828Z"
   },
   {
    "duration": 5,
    "start_time": "2023-12-18T12:52:38.901Z"
   },
   {
    "duration": 19,
    "start_time": "2023-12-18T12:52:38.907Z"
   },
   {
    "duration": 5,
    "start_time": "2023-12-18T12:52:38.927Z"
   },
   {
    "duration": 24,
    "start_time": "2023-12-18T12:52:38.933Z"
   },
   {
    "duration": 27,
    "start_time": "2023-12-18T12:52:38.958Z"
   },
   {
    "duration": 13,
    "start_time": "2023-12-18T12:52:38.986Z"
   },
   {
    "duration": 19,
    "start_time": "2023-12-18T12:52:39.000Z"
   },
   {
    "duration": 7,
    "start_time": "2023-12-18T12:52:39.020Z"
   },
   {
    "duration": 14,
    "start_time": "2023-12-18T12:52:39.028Z"
   },
   {
    "duration": 11,
    "start_time": "2023-12-18T12:52:39.043Z"
   },
   {
    "duration": 6,
    "start_time": "2023-12-18T12:52:39.056Z"
   },
   {
    "duration": 42,
    "start_time": "2023-12-18T12:52:39.063Z"
   },
   {
    "duration": 14,
    "start_time": "2023-12-18T12:52:39.107Z"
   },
   {
    "duration": 6,
    "start_time": "2023-12-18T12:52:39.123Z"
   },
   {
    "duration": 7,
    "start_time": "2023-12-18T12:52:39.133Z"
   },
   {
    "duration": 11,
    "start_time": "2023-12-18T12:52:39.141Z"
   },
   {
    "duration": 4,
    "start_time": "2023-12-18T12:52:39.153Z"
   },
   {
    "duration": 6,
    "start_time": "2023-12-18T12:52:39.158Z"
   },
   {
    "duration": 34,
    "start_time": "2023-12-18T12:52:39.165Z"
   },
   {
    "duration": 31,
    "start_time": "2023-12-18T12:52:39.201Z"
   },
   {
    "duration": 40,
    "start_time": "2023-12-18T12:52:39.234Z"
   },
   {
    "duration": 25,
    "start_time": "2023-12-18T12:52:39.276Z"
   },
   {
    "duration": 10,
    "start_time": "2023-12-18T12:52:39.303Z"
   },
   {
    "duration": 16,
    "start_time": "2023-12-18T12:52:39.315Z"
   },
   {
    "duration": 11,
    "start_time": "2023-12-18T12:52:39.332Z"
   },
   {
    "duration": 16,
    "start_time": "2023-12-18T12:52:39.345Z"
   },
   {
    "duration": 3,
    "start_time": "2023-12-18T12:52:39.363Z"
   },
   {
    "duration": 45,
    "start_time": "2023-12-18T12:52:39.367Z"
   },
   {
    "duration": 21,
    "start_time": "2023-12-18T12:52:39.413Z"
   },
   {
    "duration": 14,
    "start_time": "2023-12-18T12:52:39.435Z"
   },
   {
    "duration": 23,
    "start_time": "2023-12-18T12:52:39.450Z"
   },
   {
    "duration": 955,
    "start_time": "2023-12-18T12:52:39.474Z"
   },
   {
    "duration": 1991,
    "start_time": "2023-12-18T12:52:40.430Z"
   },
   {
    "duration": 14,
    "start_time": "2023-12-18T12:52:42.422Z"
   },
   {
    "duration": 9,
    "start_time": "2023-12-18T12:52:42.437Z"
   },
   {
    "duration": 16,
    "start_time": "2023-12-18T12:52:42.447Z"
   },
   {
    "duration": 1060,
    "start_time": "2023-12-18T12:52:42.465Z"
   },
   {
    "duration": 290,
    "start_time": "2023-12-18T12:52:43.527Z"
   },
   {
    "duration": 113,
    "start_time": "2023-12-18T12:52:43.818Z"
   },
   {
    "duration": 5,
    "start_time": "2023-12-18T12:52:43.933Z"
   },
   {
    "duration": 17,
    "start_time": "2023-12-18T12:52:43.940Z"
   },
   {
    "duration": 16,
    "start_time": "2023-12-18T12:52:43.959Z"
   },
   {
    "duration": 15,
    "start_time": "2023-12-18T12:52:43.977Z"
   },
   {
    "duration": 16,
    "start_time": "2023-12-18T12:52:43.999Z"
   },
   {
    "duration": 27,
    "start_time": "2023-12-18T12:52:44.016Z"
   },
   {
    "duration": 13,
    "start_time": "2023-12-18T12:52:44.045Z"
   },
   {
    "duration": 76,
    "start_time": "2023-12-18T12:52:44.059Z"
   },
   {
    "duration": 4,
    "start_time": "2023-12-18T12:52:44.137Z"
   },
   {
    "duration": 60,
    "start_time": "2023-12-18T12:52:44.142Z"
   },
   {
    "duration": 3,
    "start_time": "2023-12-18T12:52:44.203Z"
   },
   {
    "duration": 11,
    "start_time": "2023-12-18T12:52:44.208Z"
   },
   {
    "duration": 70,
    "start_time": "2023-12-18T12:52:44.220Z"
   },
   {
    "duration": 35,
    "start_time": "2023-12-18T12:52:44.292Z"
   },
   {
    "duration": 1374,
    "start_time": "2023-12-18T12:52:44.329Z"
   },
   {
    "duration": 305,
    "start_time": "2023-12-18T12:52:45.705Z"
   },
   {
    "duration": 90,
    "start_time": "2023-12-18T12:52:46.011Z"
   },
   {
    "duration": 24849,
    "start_time": "2023-12-18T12:52:46.103Z"
   },
   {
    "duration": 12,
    "start_time": "2023-12-18T12:53:10.953Z"
   },
   {
    "duration": 10,
    "start_time": "2023-12-18T12:53:10.966Z"
   },
   {
    "duration": 208133,
    "start_time": "2023-12-18T12:53:10.977Z"
   },
   {
    "duration": 7,
    "start_time": "2023-12-18T12:56:39.112Z"
   },
   {
    "duration": 180,
    "start_time": "2023-12-18T12:56:39.121Z"
   },
   {
    "duration": 0,
    "start_time": "2023-12-18T12:56:39.304Z"
   },
   {
    "duration": 3,
    "start_time": "2023-12-18T12:57:42.389Z"
   },
   {
    "duration": 159856,
    "start_time": "2023-12-18T12:57:46.844Z"
   },
   {
    "duration": 58,
    "start_time": "2023-12-18T13:03:03.241Z"
   },
   {
    "duration": 96,
    "start_time": "2023-12-18T13:03:14.922Z"
   },
   {
    "duration": 2245,
    "start_time": "2023-12-18T13:05:58.932Z"
   },
   {
    "duration": 2656,
    "start_time": "2023-12-18T13:06:01.180Z"
   },
   {
    "duration": 1179,
    "start_time": "2023-12-18T13:06:03.838Z"
   },
   {
    "duration": 10,
    "start_time": "2023-12-18T13:06:05.020Z"
   },
   {
    "duration": 129,
    "start_time": "2023-12-18T13:06:05.032Z"
   },
   {
    "duration": 17,
    "start_time": "2023-12-18T13:06:05.162Z"
   },
   {
    "duration": 12,
    "start_time": "2023-12-18T13:06:05.181Z"
   },
   {
    "duration": 29,
    "start_time": "2023-12-18T13:06:05.194Z"
   },
   {
    "duration": 28,
    "start_time": "2023-12-18T13:06:05.224Z"
   },
   {
    "duration": 26,
    "start_time": "2023-12-18T13:06:05.254Z"
   },
   {
    "duration": 10,
    "start_time": "2023-12-18T13:06:05.281Z"
   },
   {
    "duration": 5,
    "start_time": "2023-12-18T13:06:05.292Z"
   },
   {
    "duration": 60,
    "start_time": "2023-12-18T13:06:05.298Z"
   },
   {
    "duration": 4,
    "start_time": "2023-12-18T13:06:05.359Z"
   },
   {
    "duration": 40,
    "start_time": "2023-12-18T13:06:05.364Z"
   },
   {
    "duration": 7,
    "start_time": "2023-12-18T13:06:05.406Z"
   },
   {
    "duration": 19,
    "start_time": "2023-12-18T13:06:05.414Z"
   },
   {
    "duration": 26,
    "start_time": "2023-12-18T13:06:05.434Z"
   },
   {
    "duration": 8,
    "start_time": "2023-12-18T13:06:05.461Z"
   },
   {
    "duration": 23,
    "start_time": "2023-12-18T13:06:05.470Z"
   },
   {
    "duration": 6,
    "start_time": "2023-12-18T13:06:05.494Z"
   },
   {
    "duration": 23,
    "start_time": "2023-12-18T13:06:05.502Z"
   },
   {
    "duration": 8,
    "start_time": "2023-12-18T13:06:05.526Z"
   },
   {
    "duration": 6,
    "start_time": "2023-12-18T13:06:05.535Z"
   },
   {
    "duration": 15,
    "start_time": "2023-12-18T13:06:05.542Z"
   },
   {
    "duration": 11,
    "start_time": "2023-12-18T13:06:05.559Z"
   },
   {
    "duration": 30,
    "start_time": "2023-12-18T13:06:05.572Z"
   },
   {
    "duration": 13,
    "start_time": "2023-12-18T13:06:05.606Z"
   },
   {
    "duration": 53,
    "start_time": "2023-12-18T13:06:05.620Z"
   },
   {
    "duration": 11,
    "start_time": "2023-12-18T13:06:05.674Z"
   },
   {
    "duration": 13,
    "start_time": "2023-12-18T13:06:05.687Z"
   },
   {
    "duration": 4,
    "start_time": "2023-12-18T13:06:05.702Z"
   },
   {
    "duration": 84,
    "start_time": "2023-12-18T13:06:05.707Z"
   },
   {
    "duration": 39,
    "start_time": "2023-12-18T13:06:05.792Z"
   },
   {
    "duration": 13,
    "start_time": "2023-12-18T13:06:05.832Z"
   },
   {
    "duration": 10,
    "start_time": "2023-12-18T13:06:05.847Z"
   },
   {
    "duration": 12,
    "start_time": "2023-12-18T13:06:05.858Z"
   },
   {
    "duration": 34,
    "start_time": "2023-12-18T13:06:05.872Z"
   },
   {
    "duration": 23,
    "start_time": "2023-12-18T13:06:05.908Z"
   },
   {
    "duration": 25,
    "start_time": "2023-12-18T13:06:05.932Z"
   },
   {
    "duration": 21,
    "start_time": "2023-12-18T13:06:05.958Z"
   },
   {
    "duration": 18,
    "start_time": "2023-12-18T13:06:05.981Z"
   },
   {
    "duration": 12,
    "start_time": "2023-12-18T13:06:06.001Z"
   },
   {
    "duration": 37,
    "start_time": "2023-12-18T13:06:06.014Z"
   },
   {
    "duration": 917,
    "start_time": "2023-12-18T13:06:06.053Z"
   },
   {
    "duration": 2070,
    "start_time": "2023-12-18T13:06:06.971Z"
   },
   {
    "duration": 12,
    "start_time": "2023-12-18T13:06:09.042Z"
   },
   {
    "duration": 29,
    "start_time": "2023-12-18T13:06:09.055Z"
   },
   {
    "duration": 22,
    "start_time": "2023-12-18T13:06:09.085Z"
   },
   {
    "duration": 913,
    "start_time": "2023-12-18T13:06:09.109Z"
   },
   {
    "duration": 247,
    "start_time": "2023-12-18T13:06:10.024Z"
   },
   {
    "duration": 118,
    "start_time": "2023-12-18T13:06:10.272Z"
   },
   {
    "duration": 9,
    "start_time": "2023-12-18T13:06:10.391Z"
   },
   {
    "duration": 16,
    "start_time": "2023-12-18T13:06:10.402Z"
   },
   {
    "duration": 17,
    "start_time": "2023-12-18T13:06:10.420Z"
   },
   {
    "duration": 16,
    "start_time": "2023-12-18T13:06:10.439Z"
   },
   {
    "duration": 18,
    "start_time": "2023-12-18T13:06:10.457Z"
   },
   {
    "duration": 9,
    "start_time": "2023-12-18T13:06:10.477Z"
   },
   {
    "duration": 3,
    "start_time": "2023-12-18T13:06:10.487Z"
   },
   {
    "duration": 59,
    "start_time": "2023-12-18T13:06:10.499Z"
   },
   {
    "duration": 6,
    "start_time": "2023-12-18T13:06:10.560Z"
   },
   {
    "duration": 63,
    "start_time": "2023-12-18T13:06:10.567Z"
   },
   {
    "duration": 3,
    "start_time": "2023-12-18T13:06:10.632Z"
   },
   {
    "duration": 33,
    "start_time": "2023-12-18T13:06:10.637Z"
   },
   {
    "duration": 42,
    "start_time": "2023-12-18T13:06:10.672Z"
   },
   {
    "duration": 29,
    "start_time": "2023-12-18T13:06:10.715Z"
   },
   {
    "duration": 1273,
    "start_time": "2023-12-18T13:06:10.746Z"
   },
   {
    "duration": 300,
    "start_time": "2023-12-18T13:06:12.100Z"
   },
   {
    "duration": 3,
    "start_time": "2023-12-18T13:06:12.403Z"
   },
   {
    "duration": 19081,
    "start_time": "2023-12-18T13:06:12.408Z"
   },
   {
    "duration": 16,
    "start_time": "2023-12-18T13:06:31.490Z"
   },
   {
    "duration": 17,
    "start_time": "2023-12-18T13:06:31.507Z"
   },
   {
    "duration": 153379,
    "start_time": "2023-12-18T13:06:31.526Z"
   },
   {
    "duration": 7,
    "start_time": "2023-12-18T13:09:04.906Z"
   },
   {
    "duration": 89,
    "start_time": "2023-12-18T13:09:04.914Z"
   },
   {
    "duration": 192,
    "start_time": "2023-12-18T13:09:05.005Z"
   },
   {
    "duration": 4,
    "start_time": "2023-12-18T13:20:10.919Z"
   },
   {
    "duration": 111,
    "start_time": "2023-12-18T13:52:36.408Z"
   },
   {
    "duration": 7,
    "start_time": "2023-12-18T13:52:59.945Z"
   },
   {
    "duration": 5,
    "start_time": "2023-12-18T13:54:22.692Z"
   },
   {
    "duration": 16,
    "start_time": "2023-12-18T14:28:47.855Z"
   },
   {
    "duration": 7,
    "start_time": "2023-12-18T14:29:03.006Z"
   },
   {
    "duration": 143,
    "start_time": "2023-12-18T14:31:25.865Z"
   }
  ],
  "kernelspec": {
   "display_name": "Python 3 (ipykernel)",
   "language": "python",
   "name": "python3"
  },
  "language_info": {
   "codemirror_mode": {
    "name": "ipython",
    "version": 3
   },
   "file_extension": ".py",
   "mimetype": "text/x-python",
   "name": "python",
   "nbconvert_exporter": "python",
   "pygments_lexer": "ipython3",
   "version": "3.9.18"
  },
  "toc": {
   "base_numbering": 1,
   "nav_menu": {},
   "number_sections": true,
   "sideBar": true,
   "skip_h1_title": true,
   "title_cell": "Table of Contents",
   "title_sidebar": "Contents",
   "toc_cell": false,
   "toc_position": {},
   "toc_section_display": true,
   "toc_window_display": true
  }
 },
 "nbformat": 4,
 "nbformat_minor": 5
}
