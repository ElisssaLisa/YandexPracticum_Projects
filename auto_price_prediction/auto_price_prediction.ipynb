{
 "cells": [
  {
   "cell_type": "markdown",
   "metadata": {},
   "source": [
    "<div style=\"border:solid Chocolate 2px; padding: 40px\">\n",
    "\n",
    "<b> Елизавета, привет!👋</b> \n",
    "\n",
    "Меня зовут Кирилл Васильев, я буду ревьюером твоего проекта. Я предлагаю общаться на «ты», но если привычнее на «вы», просто скажи об этом! \n",
    "\n",
    "Я буду оставлять комментарии в твоем проекте. Пожалуйста, не удаляй их, они могут быть полезны в случае повторной проверки.\n",
    "\n",
    "Свои комментарии я буду обозначать <font color='green'>зеленым</font>, <font color='gold'>желтым</font> и <font color='red'>красным</font> цветами, например:\n",
    "  \n",
    "<br/>\n",
    "\n",
    "<div class=\"alert alert-success\">\n",
    "<h2> Комментарий ревьюера <a class=\"tocSkip\"> </h2>\n",
    "\n",
    "<b>Все отлично!👍:</b> В случае, если решение на отдельном шаге является полностью правильным. Здесь же я могу давать советы и предложения.\n",
    "</div>\n",
    "\n",
    "<br/>\n",
    "\n",
    "<div class=\"alert alert-warning\">\n",
    "    <h2> Комментарий ревьюера <a class=\"tocSkip\"> </h2>\n",
    "    \n",
    "<b>Некоторые замечания и рекомендации💡:</b> В случае, когда решение на отдельном шаге станет еще лучше, если внести небольшие коррективы.\n",
    "</div> \n",
    "\n",
    "\n",
    "<br/>\n",
    "<div class=\"alert alert-block alert-danger\">\n",
    "<h2> Комментарий ревьюера <a class=\"tocSkip\"></h2>\n",
    "\n",
    "     \n",
    "<b>На доработку🤔:</b>\n",
    " В случае, когда решение на отдельном шаге требует существенной переработки и внесения правок. Напоминаю, что проект не может быть принят с первого раза, если ревью содержит комментарии, рекомендующие доработать шаги.\n",
    "</div>\n",
    "\n",
    "<br/>\n",
    "<div class=\"alert alert-info\">\n",
    "Рекомендую для твоих комментариев использовать синий или любой другой цветной фон. Я постараюсь ничего не пропустить, но если комментарии будут выделены, то это мне очень поможет!\n",
    "</div>\n",
    "    \n",
    "Увидев у тебя неточность, в первый раз я лишь укажу на ее наличие и дам тебе возможность самостоятельно найти и исправить ее. На реальной работе твой руководитель будет поступать также. Но если ты пока не справишься с такой задачей - при следующей проверке я дам более точную подсказку."
   ]
  },
  {
   "cell_type": "markdown",
   "metadata": {},
   "source": [
    "<div style=\"background: #B0E0E6; padding: 5px; border: 1px solid SteelBlue; border-radius: 5px;\">\n",
    "    <font color='4682B4'><u><b>КОММЕНТАРИЙ СТУДЕНТА</b></u></font>\n",
    "    <br />\n",
    "    <font color='4682B4'>Привет! Спасибо, что уделил время моему проекту. Постараюсь исправить все недочеты. </font>\n",
    "</div>"
   ]
  },
  {
   "cell_type": "markdown",
   "metadata": {},
   "source": [
    "\n",
    "<div class=\"alert alert-success\">\n",
    "<h2> Комментарий ревьюера #2 <a class=\"tocSkip\"> </h2>\n",
    "\n",
    "👍 Cнова привет. Спасибо за заметное оформление твоих комментариев.\n",
    "</div>\n"
   ]
  },
  {
   "cell_type": "markdown",
   "metadata": {},
   "source": [
    "# Определение стоимости автомобилей"
   ]
  },
  {
   "cell_type": "markdown",
   "metadata": {},
   "source": [
    "Сервис по продаже автомобилей с пробегом «Не бит, не крашен» разрабатывает приложение для привлечения новых клиентов. В нём можно быстро узнать рыночную стоимость своего автомобиля. В вашем распоряжении исторические данные: технические характеристики, комплектации и цены автомобилей. Вам нужно построить модель для определения стоимости. \n",
    "\n",
    "Заказчику важны:\n",
    "\n",
    "- качество предсказания;\n",
    "- скорость предсказания;\n",
    "- время обучения."
   ]
  },
  {
   "cell_type": "markdown",
   "metadata": {},
   "source": [
    "###### Цель исследования:\n",
    "Построить модель для определения стоимости автомобилей с пробегом.\n",
    "\n",
    "###### Ход исследования:\n",
    "1. Открыть и изучить предоставленные данные и подготовить их к исследованию.\n",
    "2. Подготовить выборки для обучения моделей. \n",
    "3. Обучить разные модели с учетом подбора гиперпараметров.\n",
    "4. Проанализировать время обучения, время предсказания и качество моделей.\n",
    "5. Найти лучшую модель, соответствующую критериям заказчика."
   ]
  },
  {
   "cell_type": "markdown",
   "metadata": {},
   "source": [
    "## Подготовка данных"
   ]
  },
  {
   "cell_type": "markdown",
   "metadata": {},
   "source": [
    "Импортируем необходимые библиотеки."
   ]
  },
  {
   "cell_type": "code",
   "execution_count": 1,
   "metadata": {},
   "outputs": [
    {
     "name": "stdout",
     "output_type": "stream",
     "text": [
      "Requirement already satisfied: scikit-learn==1.1.3 in /opt/conda/lib/python3.9/site-packages (1.1.3)\n",
      "Requirement already satisfied: scipy>=1.3.2 in /opt/conda/lib/python3.9/site-packages (from scikit-learn==1.1.3) (1.9.1)\n",
      "Requirement already satisfied: joblib>=1.0.0 in /opt/conda/lib/python3.9/site-packages (from scikit-learn==1.1.3) (1.1.0)\n",
      "Requirement already satisfied: numpy>=1.17.3 in /opt/conda/lib/python3.9/site-packages (from scikit-learn==1.1.3) (1.21.1)\n",
      "Requirement already satisfied: threadpoolctl>=2.0.0 in /opt/conda/lib/python3.9/site-packages (from scikit-learn==1.1.3) (3.1.0)\n"
     ]
    }
   ],
   "source": [
    "!pip install scikit-learn==1.1.3\n",
    "import pandas as pd\n",
    "import numpy as np\n",
    "from sklearn.preprocessing import OrdinalEncoder, StandardScaler, OneHotEncoder\n",
    "from sklearn.model_selection import train_test_split, GridSearchCV, cross_val_score\n",
    "from lightgbm import LGBMRegressor\n",
    "from sklearn.linear_model import LinearRegression\n",
    "from sklearn.ensemble import RandomForestRegressor\n",
    "from sklearn.metrics import mean_squared_error\n"
   ]
  },
  {
   "cell_type": "markdown",
   "metadata": {},
   "source": [
    "<div class=\"alert alert-warning\">\n",
    "<h2> Комментарий ревьюера <a class=\"tocSkip\"> </h2>\n",
    "    \n",
    "<b>Некоторые замечания и рекомендации💡:</b> \n",
    "    \n",
    "Если загружаем несколько функций из одного пакета, то удобнее записать все через запятую. По аналогии:\n",
    "    \n",
    "`from sklearn.model_selection import train_test_split, GridSearchCV`\n",
    "      \n",
    "        \n",
    "</div>\n",
    "    "
   ]
  },
  {
   "cell_type": "markdown",
   "metadata": {},
   "source": [
    "<div style=\"background: #B0E0E6; padding: 5px; border: 1px solid SteelBlue; border-radius: 5px;\">\n",
    "    <font color='4682B4'><u><b>КОММЕНТАРИЙ СТУДЕНТА</b></u></font>\n",
    "    <br />\n",
    "    <font color='4682B4'>Поправила. Абсолютно с этим согласна, поторопилась и не заметила) </font>\n",
    "</div>"
   ]
  },
  {
   "cell_type": "markdown",
   "metadata": {},
   "source": [
    "<div class=\"alert alert-success\">\n",
    "<h2> Комментарий ревьюера #2 <a class=\"tocSkip\"> </h2>\n",
    "\n",
    "👍 На самом деле так просто удобнее, есть ненавязчивые рекомендации так делать, но в целом в DS сообществе этому следуют не все. \n",
    "</div>"
   ]
  },
  {
   "cell_type": "markdown",
   "metadata": {},
   "source": [
    "Откроем файл с данными и изучем его."
   ]
  },
  {
   "cell_type": "code",
   "execution_count": 2,
   "metadata": {},
   "outputs": [
    {
     "data": {
      "text/html": [
       "<div>\n",
       "<style scoped>\n",
       "    .dataframe tbody tr th:only-of-type {\n",
       "        vertical-align: middle;\n",
       "    }\n",
       "\n",
       "    .dataframe tbody tr th {\n",
       "        vertical-align: top;\n",
       "    }\n",
       "\n",
       "    .dataframe thead th {\n",
       "        text-align: right;\n",
       "    }\n",
       "</style>\n",
       "<table border=\"1\" class=\"dataframe\">\n",
       "  <thead>\n",
       "    <tr style=\"text-align: right;\">\n",
       "      <th></th>\n",
       "      <th>DateCrawled</th>\n",
       "      <th>Price</th>\n",
       "      <th>VehicleType</th>\n",
       "      <th>RegistrationYear</th>\n",
       "      <th>Gearbox</th>\n",
       "      <th>Power</th>\n",
       "      <th>Model</th>\n",
       "      <th>Kilometer</th>\n",
       "      <th>RegistrationMonth</th>\n",
       "      <th>FuelType</th>\n",
       "      <th>Brand</th>\n",
       "      <th>Repaired</th>\n",
       "      <th>DateCreated</th>\n",
       "      <th>NumberOfPictures</th>\n",
       "      <th>PostalCode</th>\n",
       "      <th>LastSeen</th>\n",
       "    </tr>\n",
       "  </thead>\n",
       "  <tbody>\n",
       "    <tr>\n",
       "      <th>0</th>\n",
       "      <td>2016-03-24 11:52:17</td>\n",
       "      <td>480</td>\n",
       "      <td>NaN</td>\n",
       "      <td>1993</td>\n",
       "      <td>manual</td>\n",
       "      <td>0</td>\n",
       "      <td>golf</td>\n",
       "      <td>150000</td>\n",
       "      <td>0</td>\n",
       "      <td>petrol</td>\n",
       "      <td>volkswagen</td>\n",
       "      <td>NaN</td>\n",
       "      <td>2016-03-24 00:00:00</td>\n",
       "      <td>0</td>\n",
       "      <td>70435</td>\n",
       "      <td>2016-04-07 03:16:57</td>\n",
       "    </tr>\n",
       "    <tr>\n",
       "      <th>1</th>\n",
       "      <td>2016-03-24 10:58:45</td>\n",
       "      <td>18300</td>\n",
       "      <td>coupe</td>\n",
       "      <td>2011</td>\n",
       "      <td>manual</td>\n",
       "      <td>190</td>\n",
       "      <td>NaN</td>\n",
       "      <td>125000</td>\n",
       "      <td>5</td>\n",
       "      <td>gasoline</td>\n",
       "      <td>audi</td>\n",
       "      <td>yes</td>\n",
       "      <td>2016-03-24 00:00:00</td>\n",
       "      <td>0</td>\n",
       "      <td>66954</td>\n",
       "      <td>2016-04-07 01:46:50</td>\n",
       "    </tr>\n",
       "    <tr>\n",
       "      <th>2</th>\n",
       "      <td>2016-03-14 12:52:21</td>\n",
       "      <td>9800</td>\n",
       "      <td>suv</td>\n",
       "      <td>2004</td>\n",
       "      <td>auto</td>\n",
       "      <td>163</td>\n",
       "      <td>grand</td>\n",
       "      <td>125000</td>\n",
       "      <td>8</td>\n",
       "      <td>gasoline</td>\n",
       "      <td>jeep</td>\n",
       "      <td>NaN</td>\n",
       "      <td>2016-03-14 00:00:00</td>\n",
       "      <td>0</td>\n",
       "      <td>90480</td>\n",
       "      <td>2016-04-05 12:47:46</td>\n",
       "    </tr>\n",
       "    <tr>\n",
       "      <th>3</th>\n",
       "      <td>2016-03-17 16:54:04</td>\n",
       "      <td>1500</td>\n",
       "      <td>small</td>\n",
       "      <td>2001</td>\n",
       "      <td>manual</td>\n",
       "      <td>75</td>\n",
       "      <td>golf</td>\n",
       "      <td>150000</td>\n",
       "      <td>6</td>\n",
       "      <td>petrol</td>\n",
       "      <td>volkswagen</td>\n",
       "      <td>no</td>\n",
       "      <td>2016-03-17 00:00:00</td>\n",
       "      <td>0</td>\n",
       "      <td>91074</td>\n",
       "      <td>2016-03-17 17:40:17</td>\n",
       "    </tr>\n",
       "    <tr>\n",
       "      <th>4</th>\n",
       "      <td>2016-03-31 17:25:20</td>\n",
       "      <td>3600</td>\n",
       "      <td>small</td>\n",
       "      <td>2008</td>\n",
       "      <td>manual</td>\n",
       "      <td>69</td>\n",
       "      <td>fabia</td>\n",
       "      <td>90000</td>\n",
       "      <td>7</td>\n",
       "      <td>gasoline</td>\n",
       "      <td>skoda</td>\n",
       "      <td>no</td>\n",
       "      <td>2016-03-31 00:00:00</td>\n",
       "      <td>0</td>\n",
       "      <td>60437</td>\n",
       "      <td>2016-04-06 10:17:21</td>\n",
       "    </tr>\n",
       "    <tr>\n",
       "      <th>5</th>\n",
       "      <td>2016-04-04 17:36:23</td>\n",
       "      <td>650</td>\n",
       "      <td>sedan</td>\n",
       "      <td>1995</td>\n",
       "      <td>manual</td>\n",
       "      <td>102</td>\n",
       "      <td>3er</td>\n",
       "      <td>150000</td>\n",
       "      <td>10</td>\n",
       "      <td>petrol</td>\n",
       "      <td>bmw</td>\n",
       "      <td>yes</td>\n",
       "      <td>2016-04-04 00:00:00</td>\n",
       "      <td>0</td>\n",
       "      <td>33775</td>\n",
       "      <td>2016-04-06 19:17:07</td>\n",
       "    </tr>\n",
       "    <tr>\n",
       "      <th>6</th>\n",
       "      <td>2016-04-01 20:48:51</td>\n",
       "      <td>2200</td>\n",
       "      <td>convertible</td>\n",
       "      <td>2004</td>\n",
       "      <td>manual</td>\n",
       "      <td>109</td>\n",
       "      <td>2_reihe</td>\n",
       "      <td>150000</td>\n",
       "      <td>8</td>\n",
       "      <td>petrol</td>\n",
       "      <td>peugeot</td>\n",
       "      <td>no</td>\n",
       "      <td>2016-04-01 00:00:00</td>\n",
       "      <td>0</td>\n",
       "      <td>67112</td>\n",
       "      <td>2016-04-05 18:18:39</td>\n",
       "    </tr>\n",
       "    <tr>\n",
       "      <th>7</th>\n",
       "      <td>2016-03-21 18:54:38</td>\n",
       "      <td>0</td>\n",
       "      <td>sedan</td>\n",
       "      <td>1980</td>\n",
       "      <td>manual</td>\n",
       "      <td>50</td>\n",
       "      <td>other</td>\n",
       "      <td>40000</td>\n",
       "      <td>7</td>\n",
       "      <td>petrol</td>\n",
       "      <td>volkswagen</td>\n",
       "      <td>no</td>\n",
       "      <td>2016-03-21 00:00:00</td>\n",
       "      <td>0</td>\n",
       "      <td>19348</td>\n",
       "      <td>2016-03-25 16:47:58</td>\n",
       "    </tr>\n",
       "    <tr>\n",
       "      <th>8</th>\n",
       "      <td>2016-04-04 23:42:13</td>\n",
       "      <td>14500</td>\n",
       "      <td>bus</td>\n",
       "      <td>2014</td>\n",
       "      <td>manual</td>\n",
       "      <td>125</td>\n",
       "      <td>c_max</td>\n",
       "      <td>30000</td>\n",
       "      <td>8</td>\n",
       "      <td>petrol</td>\n",
       "      <td>ford</td>\n",
       "      <td>NaN</td>\n",
       "      <td>2016-04-04 00:00:00</td>\n",
       "      <td>0</td>\n",
       "      <td>94505</td>\n",
       "      <td>2016-04-04 23:42:13</td>\n",
       "    </tr>\n",
       "    <tr>\n",
       "      <th>9</th>\n",
       "      <td>2016-03-17 10:53:50</td>\n",
       "      <td>999</td>\n",
       "      <td>small</td>\n",
       "      <td>1998</td>\n",
       "      <td>manual</td>\n",
       "      <td>101</td>\n",
       "      <td>golf</td>\n",
       "      <td>150000</td>\n",
       "      <td>0</td>\n",
       "      <td>NaN</td>\n",
       "      <td>volkswagen</td>\n",
       "      <td>NaN</td>\n",
       "      <td>2016-03-17 00:00:00</td>\n",
       "      <td>0</td>\n",
       "      <td>27472</td>\n",
       "      <td>2016-03-31 17:17:06</td>\n",
       "    </tr>\n",
       "  </tbody>\n",
       "</table>\n",
       "</div>"
      ],
      "text/plain": [
       "           DateCrawled  Price  VehicleType  RegistrationYear Gearbox  Power  \\\n",
       "0  2016-03-24 11:52:17    480          NaN              1993  manual      0   \n",
       "1  2016-03-24 10:58:45  18300        coupe              2011  manual    190   \n",
       "2  2016-03-14 12:52:21   9800          suv              2004    auto    163   \n",
       "3  2016-03-17 16:54:04   1500        small              2001  manual     75   \n",
       "4  2016-03-31 17:25:20   3600        small              2008  manual     69   \n",
       "5  2016-04-04 17:36:23    650        sedan              1995  manual    102   \n",
       "6  2016-04-01 20:48:51   2200  convertible              2004  manual    109   \n",
       "7  2016-03-21 18:54:38      0        sedan              1980  manual     50   \n",
       "8  2016-04-04 23:42:13  14500          bus              2014  manual    125   \n",
       "9  2016-03-17 10:53:50    999        small              1998  manual    101   \n",
       "\n",
       "     Model  Kilometer  RegistrationMonth  FuelType       Brand Repaired  \\\n",
       "0     golf     150000                  0    petrol  volkswagen      NaN   \n",
       "1      NaN     125000                  5  gasoline        audi      yes   \n",
       "2    grand     125000                  8  gasoline        jeep      NaN   \n",
       "3     golf     150000                  6    petrol  volkswagen       no   \n",
       "4    fabia      90000                  7  gasoline       skoda       no   \n",
       "5      3er     150000                 10    petrol         bmw      yes   \n",
       "6  2_reihe     150000                  8    petrol     peugeot       no   \n",
       "7    other      40000                  7    petrol  volkswagen       no   \n",
       "8    c_max      30000                  8    petrol        ford      NaN   \n",
       "9     golf     150000                  0       NaN  volkswagen      NaN   \n",
       "\n",
       "           DateCreated  NumberOfPictures  PostalCode             LastSeen  \n",
       "0  2016-03-24 00:00:00                 0       70435  2016-04-07 03:16:57  \n",
       "1  2016-03-24 00:00:00                 0       66954  2016-04-07 01:46:50  \n",
       "2  2016-03-14 00:00:00                 0       90480  2016-04-05 12:47:46  \n",
       "3  2016-03-17 00:00:00                 0       91074  2016-03-17 17:40:17  \n",
       "4  2016-03-31 00:00:00                 0       60437  2016-04-06 10:17:21  \n",
       "5  2016-04-04 00:00:00                 0       33775  2016-04-06 19:17:07  \n",
       "6  2016-04-01 00:00:00                 0       67112  2016-04-05 18:18:39  \n",
       "7  2016-03-21 00:00:00                 0       19348  2016-03-25 16:47:58  \n",
       "8  2016-04-04 00:00:00                 0       94505  2016-04-04 23:42:13  \n",
       "9  2016-03-17 00:00:00                 0       27472  2016-03-31 17:17:06  "
      ]
     },
     "execution_count": 2,
     "metadata": {},
     "output_type": "execute_result"
    }
   ],
   "source": [
    "data_oridinal = pd.read_csv('/datasets/autos.csv')\n",
    "data_oridinal.head(10)"
   ]
  },
  {
   "cell_type": "code",
   "execution_count": 3,
   "metadata": {},
   "outputs": [
    {
     "name": "stdout",
     "output_type": "stream",
     "text": [
      "<class 'pandas.core.frame.DataFrame'>\n",
      "RangeIndex: 354369 entries, 0 to 354368\n",
      "Data columns (total 16 columns):\n",
      " #   Column             Non-Null Count   Dtype \n",
      "---  ------             --------------   ----- \n",
      " 0   DateCrawled        354369 non-null  object\n",
      " 1   Price              354369 non-null  int64 \n",
      " 2   VehicleType        316879 non-null  object\n",
      " 3   RegistrationYear   354369 non-null  int64 \n",
      " 4   Gearbox            334536 non-null  object\n",
      " 5   Power              354369 non-null  int64 \n",
      " 6   Model              334664 non-null  object\n",
      " 7   Kilometer          354369 non-null  int64 \n",
      " 8   RegistrationMonth  354369 non-null  int64 \n",
      " 9   FuelType           321474 non-null  object\n",
      " 10  Brand              354369 non-null  object\n",
      " 11  Repaired           283215 non-null  object\n",
      " 12  DateCreated        354369 non-null  object\n",
      " 13  NumberOfPictures   354369 non-null  int64 \n",
      " 14  PostalCode         354369 non-null  int64 \n",
      " 15  LastSeen           354369 non-null  object\n",
      "dtypes: int64(7), object(9)\n",
      "memory usage: 43.3+ MB\n"
     ]
    },
    {
     "data": {
      "text/plain": [
       "None"
      ]
     },
     "metadata": {},
     "output_type": "display_data"
    },
    {
     "data": {
      "text/html": [
       "<div>\n",
       "<style scoped>\n",
       "    .dataframe tbody tr th:only-of-type {\n",
       "        vertical-align: middle;\n",
       "    }\n",
       "\n",
       "    .dataframe tbody tr th {\n",
       "        vertical-align: top;\n",
       "    }\n",
       "\n",
       "    .dataframe thead th {\n",
       "        text-align: right;\n",
       "    }\n",
       "</style>\n",
       "<table border=\"1\" class=\"dataframe\">\n",
       "  <thead>\n",
       "    <tr style=\"text-align: right;\">\n",
       "      <th></th>\n",
       "      <th>Price</th>\n",
       "      <th>RegistrationYear</th>\n",
       "      <th>Power</th>\n",
       "      <th>Kilometer</th>\n",
       "      <th>RegistrationMonth</th>\n",
       "      <th>NumberOfPictures</th>\n",
       "      <th>PostalCode</th>\n",
       "    </tr>\n",
       "  </thead>\n",
       "  <tbody>\n",
       "    <tr>\n",
       "      <th>count</th>\n",
       "      <td>354369.000000</td>\n",
       "      <td>354369.000000</td>\n",
       "      <td>354369.000000</td>\n",
       "      <td>354369.000000</td>\n",
       "      <td>354369.000000</td>\n",
       "      <td>354369.0</td>\n",
       "      <td>354369.000000</td>\n",
       "    </tr>\n",
       "    <tr>\n",
       "      <th>mean</th>\n",
       "      <td>4416.656776</td>\n",
       "      <td>2004.234448</td>\n",
       "      <td>110.094337</td>\n",
       "      <td>128211.172535</td>\n",
       "      <td>5.714645</td>\n",
       "      <td>0.0</td>\n",
       "      <td>50508.689087</td>\n",
       "    </tr>\n",
       "    <tr>\n",
       "      <th>std</th>\n",
       "      <td>4514.158514</td>\n",
       "      <td>90.227958</td>\n",
       "      <td>189.850405</td>\n",
       "      <td>37905.341530</td>\n",
       "      <td>3.726421</td>\n",
       "      <td>0.0</td>\n",
       "      <td>25783.096248</td>\n",
       "    </tr>\n",
       "    <tr>\n",
       "      <th>min</th>\n",
       "      <td>0.000000</td>\n",
       "      <td>1000.000000</td>\n",
       "      <td>0.000000</td>\n",
       "      <td>5000.000000</td>\n",
       "      <td>0.000000</td>\n",
       "      <td>0.0</td>\n",
       "      <td>1067.000000</td>\n",
       "    </tr>\n",
       "    <tr>\n",
       "      <th>25%</th>\n",
       "      <td>1050.000000</td>\n",
       "      <td>1999.000000</td>\n",
       "      <td>69.000000</td>\n",
       "      <td>125000.000000</td>\n",
       "      <td>3.000000</td>\n",
       "      <td>0.0</td>\n",
       "      <td>30165.000000</td>\n",
       "    </tr>\n",
       "    <tr>\n",
       "      <th>50%</th>\n",
       "      <td>2700.000000</td>\n",
       "      <td>2003.000000</td>\n",
       "      <td>105.000000</td>\n",
       "      <td>150000.000000</td>\n",
       "      <td>6.000000</td>\n",
       "      <td>0.0</td>\n",
       "      <td>49413.000000</td>\n",
       "    </tr>\n",
       "    <tr>\n",
       "      <th>75%</th>\n",
       "      <td>6400.000000</td>\n",
       "      <td>2008.000000</td>\n",
       "      <td>143.000000</td>\n",
       "      <td>150000.000000</td>\n",
       "      <td>9.000000</td>\n",
       "      <td>0.0</td>\n",
       "      <td>71083.000000</td>\n",
       "    </tr>\n",
       "    <tr>\n",
       "      <th>max</th>\n",
       "      <td>20000.000000</td>\n",
       "      <td>9999.000000</td>\n",
       "      <td>20000.000000</td>\n",
       "      <td>150000.000000</td>\n",
       "      <td>12.000000</td>\n",
       "      <td>0.0</td>\n",
       "      <td>99998.000000</td>\n",
       "    </tr>\n",
       "  </tbody>\n",
       "</table>\n",
       "</div>"
      ],
      "text/plain": [
       "               Price  RegistrationYear          Power      Kilometer  \\\n",
       "count  354369.000000     354369.000000  354369.000000  354369.000000   \n",
       "mean     4416.656776       2004.234448     110.094337  128211.172535   \n",
       "std      4514.158514         90.227958     189.850405   37905.341530   \n",
       "min         0.000000       1000.000000       0.000000    5000.000000   \n",
       "25%      1050.000000       1999.000000      69.000000  125000.000000   \n",
       "50%      2700.000000       2003.000000     105.000000  150000.000000   \n",
       "75%      6400.000000       2008.000000     143.000000  150000.000000   \n",
       "max     20000.000000       9999.000000   20000.000000  150000.000000   \n",
       "\n",
       "       RegistrationMonth  NumberOfPictures     PostalCode  \n",
       "count      354369.000000          354369.0  354369.000000  \n",
       "mean            5.714645               0.0   50508.689087  \n",
       "std             3.726421               0.0   25783.096248  \n",
       "min             0.000000               0.0    1067.000000  \n",
       "25%             3.000000               0.0   30165.000000  \n",
       "50%             6.000000               0.0   49413.000000  \n",
       "75%             9.000000               0.0   71083.000000  \n",
       "max            12.000000               0.0   99998.000000  "
      ]
     },
     "metadata": {},
     "output_type": "display_data"
    },
    {
     "data": {
      "text/plain": [
       "DateCrawled              0\n",
       "Price                    0\n",
       "VehicleType          37490\n",
       "RegistrationYear         0\n",
       "Gearbox              19833\n",
       "Power                    0\n",
       "Model                19705\n",
       "Kilometer                0\n",
       "RegistrationMonth        0\n",
       "FuelType             32895\n",
       "Brand                    0\n",
       "Repaired             71154\n",
       "DateCreated              0\n",
       "NumberOfPictures         0\n",
       "PostalCode               0\n",
       "LastSeen                 0\n",
       "dtype: int64"
      ]
     },
     "metadata": {},
     "output_type": "display_data"
    }
   ],
   "source": [
    "display(data_oridinal.info())\n",
    "display(data_oridinal.describe())\n",
    "display(data_oridinal.isna().sum())"
   ]
  },
  {
   "cell_type": "markdown",
   "metadata": {},
   "source": [
    "На основании полученной информации о данных, можно сделать вывод, что:\n",
    "- В таблице действительно содержится информация, указанная в документах к ней;\n",
    "- В столбцах VehicleType, Gearbox, Model , FuelType, Repaired содержатся пропуски;\n",
    "- В некоторых столбцах присутствуют аномальные значения( например цена - 0 евро, год регистрации не может быть 1000 или 9999, максимальная мощность автомобиля не может быть 20000 л.с.)\n",
    "- В таблице есть неинформативные столбцы, которые можно удалить - DateCrawled, RegistrationMonth, DateCreated, LastSeen, NumberOfPictures, PostalCode"
   ]
  },
  {
   "cell_type": "markdown",
   "metadata": {},
   "source": [
    "<div class=\"alert alert-success\">\n",
    "<h2> Комментарий ревьюера <a class=\"tocSkip\"> </h2>\n",
    "\n",
    "👍 Отлично. По всем пунктам согласен.\n",
    "</div> "
   ]
  },
  {
   "cell_type": "markdown",
   "metadata": {},
   "source": [
    "### Удалим неинформативные столбцы."
   ]
  },
  {
   "cell_type": "code",
   "execution_count": 4,
   "metadata": {},
   "outputs": [
    {
     "name": "stdout",
     "output_type": "stream",
     "text": [
      "<class 'pandas.core.frame.DataFrame'>\n",
      "RangeIndex: 354369 entries, 0 to 354368\n",
      "Data columns (total 10 columns):\n",
      " #   Column            Non-Null Count   Dtype \n",
      "---  ------            --------------   ----- \n",
      " 0   Price             354369 non-null  int64 \n",
      " 1   VehicleType       316879 non-null  object\n",
      " 2   RegistrationYear  354369 non-null  int64 \n",
      " 3   Gearbox           334536 non-null  object\n",
      " 4   Power             354369 non-null  int64 \n",
      " 5   Model             334664 non-null  object\n",
      " 6   Kilometer         354369 non-null  int64 \n",
      " 7   FuelType          321474 non-null  object\n",
      " 8   Brand             354369 non-null  object\n",
      " 9   Repaired          283215 non-null  object\n",
      "dtypes: int64(4), object(6)\n",
      "memory usage: 27.0+ MB\n"
     ]
    }
   ],
   "source": [
    "data = data_oridinal.drop(['DateCrawled', 'RegistrationMonth','DateCreated', \n",
    "                           'LastSeen', 'NumberOfPictures', 'PostalCode'], axis=1)\n",
    "data.info()"
   ]
  },
  {
   "cell_type": "markdown",
   "metadata": {},
   "source": [
    "### Обработка пропусков."
   ]
  },
  {
   "cell_type": "code",
   "execution_count": 5,
   "metadata": {},
   "outputs": [
    {
     "data": {
      "text/plain": [
       "Price               0.000000\n",
       "VehicleType         0.105794\n",
       "RegistrationYear    0.000000\n",
       "Gearbox             0.055967\n",
       "Power               0.000000\n",
       "Model               0.055606\n",
       "Kilometer           0.000000\n",
       "FuelType            0.092827\n",
       "Brand               0.000000\n",
       "Repaired            0.200791\n",
       "dtype: float64"
      ]
     },
     "execution_count": 5,
     "metadata": {},
     "output_type": "execute_result"
    }
   ],
   "source": [
    "data.isna().mean()"
   ]
  },
  {
   "cell_type": "markdown",
   "metadata": {},
   "source": [
    "В некоторых столбцах доля пропусков достигает аж 20%, при этом все пропуски категориальные - тип кузова, тип коробки передач, модель автомобиля, тип топлива и была ли машина в ремонте. В данном случае, не совсем понятно, как восстановить данные и есть риск восстановить их некорректно, что негативно повлияет на предсказание модели, поэтому заменим все пропуски на unknown."
   ]
  },
  {
   "cell_type": "markdown",
   "metadata": {},
   "source": [
    "<div class=\"alert alert-success\">\n",
    "<h2> Комментарий ревьюера <a class=\"tocSkip\"> </h2>\n",
    " \n",
    "👍 Хорошая логичная аргументация и реализация.\n",
    "</div>  \n",
    "    "
   ]
  },
  {
   "cell_type": "code",
   "execution_count": 6,
   "metadata": {},
   "outputs": [
    {
     "data": {
      "text/plain": [
       "Price               0\n",
       "VehicleType         0\n",
       "RegistrationYear    0\n",
       "Gearbox             0\n",
       "Power               0\n",
       "Model               0\n",
       "Kilometer           0\n",
       "FuelType            0\n",
       "Brand               0\n",
       "Repaired            0\n",
       "dtype: int64"
      ]
     },
     "execution_count": 6,
     "metadata": {},
     "output_type": "execute_result"
    }
   ],
   "source": [
    "data.fillna('unknown', inplace=True)\n",
    "data.isna().sum()"
   ]
  },
  {
   "cell_type": "markdown",
   "metadata": {},
   "source": [
    "### Обработка аномалий"
   ]
  },
  {
   "cell_type": "markdown",
   "metadata": {},
   "source": [
    "1. Посмотрим распределение данных в столбце Цена и удалим аномалии"
   ]
  },
  {
   "cell_type": "code",
   "execution_count": 7,
   "metadata": {},
   "outputs": [
    {
     "data": {
      "text/plain": [
       "<AxesSubplot:>"
      ]
     },
     "metadata": {},
     "output_type": "display_data"
    },
    {
     "data": {
      "text/plain": [
       "0        10772\n",
       "500       5670\n",
       "1500      5394\n",
       "1000      4649\n",
       "1200      4594\n",
       "         ...  \n",
       "13180        1\n",
       "10879        1\n",
       "2683         1\n",
       "634          1\n",
       "8188         1\n",
       "Name: Price, Length: 3731, dtype: int64"
      ]
     },
     "metadata": {},
     "output_type": "display_data"
    },
    {
     "data": {
      "image/png": "[encoded data removed]",
      "text/plain": [
       "<Figure size 720x720 with 1 Axes>"
      ]
     },
     "metadata": {
      "needs_background": "light"
     },
     "output_type": "display_data"
    }
   ],
   "source": [
    "display(data['Price'].hist(bins=100, figsize=(10,10)))\n",
    "display(data['Price'].value_counts())"
   ]
  },
  {
   "cell_type": "markdown",
   "metadata": {},
   "source": [
    "<div class=\"alert alert-warning\">\n",
    "<h2> Комментарий ревьюера <a class=\"tocSkip\"> </h2>\n",
    "    \n",
    "<b>Некоторые замечания и рекомендации💡:</b> \n",
    "\n",
    "Графики в проекте нужно подписать.\n",
    "       \n",
    "</div> \n"
   ]
  },
  {
   "cell_type": "markdown",
   "metadata": {},
   "source": [
    "Цена машины не может быть 0 евро, либо это может значит что-то вроде \"цена договорная\" и т.п. Это будет сбивать нашу будущую модель, поэтому считаю, что строки с такими аномалиями лучше удалить (их не так много относительно общего количества данных)."
   ]
  },
  {
   "cell_type": "code",
   "execution_count": 8,
   "metadata": {
    "scrolled": true
   },
   "outputs": [
    {
     "data": {
      "text/plain": [
       "500      5670\n",
       "1500     5394\n",
       "1000     4649\n",
       "1200     4594\n",
       "2500     4438\n",
       "         ... \n",
       "13225       1\n",
       "15272       1\n",
       "7016        1\n",
       "837         1\n",
       "8188        1\n",
       "Name: Price, Length: 3695, dtype: int64"
      ]
     },
     "execution_count": 8,
     "metadata": {},
     "output_type": "execute_result"
    }
   ],
   "source": [
    "data = data.loc[data['Price'] >= 50]\n",
    "data['Price'].value_counts()"
   ]
  },
  {
   "cell_type": "markdown",
   "metadata": {},
   "source": [
    "<div class=\"alert alert-block alert-danger\">\n",
    "<h2> Комментарий ревьюера <a class=\"tocSkip\"></h2>\n",
    "  \n",
    "<b>На доработку🤔:</b>\n",
    " \n",
    "Абсолютно верная аргументация. Да, ноль будет сбивать, но по этой же логике будет сбивать стоимость и в 1 евро. Не очень приятная ситуация будет для продавца, если модель скажет, что оценивает его любимую машину в 1 евро. \n",
    "    \n",
    "Рекомендую взять некоторый более реалистичный минимум цен. Например, в 50 евро. За эту стоимость вполне уже могут продавать что-то близкое к металлолому.\n",
    "\n",
    "</div>\n"
   ]
  },
  {
   "cell_type": "markdown",
   "metadata": {},
   "source": [
    "<div style=\"background: #B0E0E6; padding: 5px; border: 1px solid SteelBlue; border-radius: 5px;\">\n",
    "    <font color='4682B4'><u><b>КОММЕНТАРИЙ СТУДЕНТА</b></u></font>\n",
    "    <br />\n",
    "    <font color='4682B4'>Согласна, исправила.</font>\n",
    "</div>"
   ]
  },
  {
   "cell_type": "markdown",
   "metadata": {},
   "source": [
    "2. Обработаем аномалии в столбце RegistrationYear"
   ]
  },
  {
   "cell_type": "code",
   "execution_count": 9,
   "metadata": {},
   "outputs": [
    {
     "data": {
      "text/plain": [
       "array([1993, 2011, 2004, 2001, 2008, 1995, 2014, 1998, 2005, 1910, 2016,\n",
       "       2007, 2009, 2002, 2018, 1997, 1990, 2017, 1981, 2003, 1994, 1991,\n",
       "       1984, 2006, 1999, 2012, 2010, 2000, 1992, 2013, 1996, 1985, 1989,\n",
       "       2015, 1982, 1976, 1983, 1973, 1969, 1971, 1987, 1986, 1988, 1980,\n",
       "       1970, 1965, 1945, 1925, 1974, 1979, 1955, 1978, 1972, 1968, 1977,\n",
       "       1961, 1966, 1975, 1963, 1964, 1960, 1958, 1967, 1956, 3200, 1000,\n",
       "       1941, 9999, 8888, 1500, 2200, 4100, 1962, 1929, 1957, 1940, 3000,\n",
       "       2066, 1949, 2019, 1937, 1951, 1800, 1959, 1953, 1954, 1234, 8000,\n",
       "       5300, 9000, 2900, 6000, 5900, 5911, 1400, 5000, 1950, 4000, 1948,\n",
       "       1952, 8500, 1932, 1255, 3700, 3800, 4800, 1942, 7000, 1935, 1933,\n",
       "       1936, 1923, 2290, 1930, 1001, 9450, 1944, 2500, 1943, 1938, 1934,\n",
       "       1928, 5555, 5600, 1600, 1111, 2222, 1039, 1300, 2800, 1931, 4500,\n",
       "       1602, 7800, 1947, 1927, 7100, 8200, 1946])"
      ]
     },
     "execution_count": 9,
     "metadata": {},
     "output_type": "execute_result"
    }
   ],
   "source": [
    "# посмотрим, какие вообще значения присутствуют в этом столбце\n",
    "data['RegistrationYear'].unique()"
   ]
  },
  {
   "cell_type": "code",
   "execution_count": 10,
   "metadata": {},
   "outputs": [
    {
     "data": {
      "text/plain": [
       "13704"
      ]
     },
     "execution_count": 10,
     "metadata": {},
     "output_type": "execute_result"
    }
   ],
   "source": [
    "data.RegistrationYear[data.RegistrationYear > 2016].count()"
   ]
  },
  {
   "cell_type": "markdown",
   "metadata": {},
   "source": [
    "<div class=\"alert alert-block alert-danger\">\n",
    "<h2><s> Комментарий ревьюера <a class=\"tocSkip\"></h2>\n",
    "  \n",
    "<b>На доработку🤔:</b>\n",
    " \n",
    "И снова логично, но есть нюанс. У нас выше в удаленной колонке был год сбора данных - 2016. Соответственно, все годы позже − аномальны и подлежат удалению.\n",
    "\n",
    "</div>\n"
   ]
  },
  {
   "cell_type": "markdown",
   "metadata": {},
   "source": [
    "<div style=\"background: #B0E0E6; padding: 5px; border: 1px solid SteelBlue; border-radius: 5px;\">\n",
    "    <font color='4682B4'><u><b>КОММЕНТАРИЙ СТУДЕНТА</b></u></font>\n",
    "    <br />\n",
    "    <font color='4682B4'>Исправила.</font>\n",
    "</div>"
   ]
  },
  {
   "cell_type": "code",
   "execution_count": 11,
   "metadata": {
    "scrolled": true
   },
   "outputs": [
    {
     "data": {
      "text/plain": [
       "1130"
      ]
     },
     "execution_count": 11,
     "metadata": {},
     "output_type": "execute_result"
    }
   ],
   "source": [
    "data.RegistrationYear[data.RegistrationYear < 1970].count()"
   ]
  },
  {
   "cell_type": "markdown",
   "metadata": {},
   "source": [
    "<div class=\"alert alert-block alert-danger\">\n",
    "<h2><s> Комментарий ревьюера <a class=\"tocSkip\"></h2>\n",
    "  \n",
    "<b>На доработку🤔:</b>\n",
    " \n",
    "А здесь не соглашусь. Машины старше определенного года выпуска будут продаваться как раритет и там будет совсем другое ценообразование. Думаю, что 1970-е годы - неплохой период для старта. \n",
    "    \n",
    "Можно также посмотреть по гистограмме, с какого года данные в таблице у нас не единичны. \n",
    "</div>\n"
   ]
  },
  {
   "cell_type": "markdown",
   "metadata": {},
   "source": [
    "<div style=\"background: #B0E0E6; padding: 5px; border: 1px solid SteelBlue; border-radius: 5px;\">\n",
    "    <font color='4682B4'><u><b>КОММЕНТАРИЙ СТУДЕНТА</b></u></font>\n",
    "    <br />\n",
    "    <font color='4682B4'>Тоже исправила. Согласна с комментариями.</font>\n",
    "</div>"
   ]
  },
  {
   "cell_type": "markdown",
   "metadata": {},
   "source": [
    "<div class=\"alert alert-success\">\n",
    "<h2> Комментарий ревьюера #2 <a class=\"tocSkip\"> </h2>\n",
    "\n",
    "👍 Теперь все отлично.\n",
    "</div>\n",
    " "
   ]
  },
  {
   "cell_type": "markdown",
   "metadata": {},
   "source": [
    "Так как в таблице содержатся данные не старше 2016 года, то данные за период дальше 2016 года существовать не могут, так же как и данные ранее 1970. Удалим их."
   ]
  },
  {
   "cell_type": "code",
   "execution_count": 12,
   "metadata": {},
   "outputs": [
    {
     "data": {
      "text/plain": [
       "array([1993, 2011, 2004, 2001, 2008, 1995, 2014, 1998, 2005, 2016, 2007,\n",
       "       2009, 2002, 1997, 1990, 1981, 2003, 1994, 1991, 1984, 2006, 1999,\n",
       "       2012, 2010, 2000, 1992, 2013, 1996, 1985, 1989, 2015, 1982, 1976,\n",
       "       1983, 1973, 1971, 1987, 1986, 1988, 1980, 1970, 1974, 1979, 1978,\n",
       "       1972, 1977, 1975])"
      ]
     },
     "execution_count": 12,
     "metadata": {},
     "output_type": "execute_result"
    }
   ],
   "source": [
    "data = data.loc[(data['RegistrationYear'] <= 2016) & (data['RegistrationYear'] >= 1970)]\n",
    "data['RegistrationYear'].unique()"
   ]
  },
  {
   "cell_type": "markdown",
   "metadata": {},
   "source": [
    "3. Столбец Мощность(Power) тоже содержит аномалии. Избавимся и от них."
   ]
  },
  {
   "cell_type": "code",
   "execution_count": 13,
   "metadata": {},
   "outputs": [
    {
     "data": {
      "text/plain": [
       "0       31697\n",
       "75      22042\n",
       "60      14710\n",
       "150     13685\n",
       "101     12383\n",
       "        ...  \n",
       "1339        1\n",
       "416         1\n",
       "6045        1\n",
       "671         1\n",
       "6006        1\n",
       "Name: Power, Length: 677, dtype: int64"
      ]
     },
     "execution_count": 13,
     "metadata": {},
     "output_type": "execute_result"
    }
   ],
   "source": [
    "data['Power'].value_counts()"
   ]
  },
  {
   "cell_type": "code",
   "execution_count": 14,
   "metadata": {},
   "outputs": [
    {
     "data": {
      "text/plain": [
       "100"
      ]
     },
     "execution_count": 14,
     "metadata": {},
     "output_type": "execute_result"
    }
   ],
   "source": [
    "data.Power[data.Power > 2000].count()"
   ]
  },
  {
   "cell_type": "code",
   "execution_count": 15,
   "metadata": {},
   "outputs": [
    {
     "data": {
      "text/plain": [
       "32032"
      ]
     },
     "execution_count": 15,
     "metadata": {},
     "output_type": "execute_result"
    }
   ],
   "source": [
    "data.Power[data.Power < 20].count()"
   ]
  },
  {
   "cell_type": "markdown",
   "metadata": {},
   "source": [
    "Максимальная мощность автомобиля на данный момент 2000 л.с., все значения, больше этого показателя придется удалить, как и предложения со слишком низкими показателями мощности."
   ]
  },
  {
   "cell_type": "code",
   "execution_count": 16,
   "metadata": {},
   "outputs": [
    {
     "name": "stdout",
     "output_type": "stream",
     "text": [
      "<class 'pandas.core.frame.DataFrame'>\n",
      "Int64Index: 294980 entries, 1 to 354368\n",
      "Data columns (total 10 columns):\n",
      " #   Column            Non-Null Count   Dtype \n",
      "---  ------            --------------   ----- \n",
      " 0   Price             294980 non-null  int64 \n",
      " 1   VehicleType       294980 non-null  object\n",
      " 2   RegistrationYear  294980 non-null  int64 \n",
      " 3   Gearbox           294980 non-null  object\n",
      " 4   Power             294980 non-null  int64 \n",
      " 5   Model             294980 non-null  object\n",
      " 6   Kilometer         294980 non-null  int64 \n",
      " 7   FuelType          294980 non-null  object\n",
      " 8   Brand             294980 non-null  object\n",
      " 9   Repaired          294980 non-null  object\n",
      "dtypes: int64(4), object(6)\n",
      "memory usage: 24.8+ MB\n"
     ]
    }
   ],
   "source": [
    "data = data.loc[(data['Power'] <= 2000) & (data['Power'] >= 20)]\n",
    "data.info()"
   ]
  },
  {
   "cell_type": "markdown",
   "metadata": {},
   "source": [
    "<div class=\"alert alert-block alert-danger\">\n",
    "<h2><s> Комментарий ревьюера <a class=\"tocSkip\"></h2>\n",
    "  \n",
    "<b>На доработку🤔:</b>\n",
    " \n",
    "По нижней границе. Тут тоже машины с 1 л.с. не сильно более реалистичны, чем с 0 л.с. Я бы поставил границу в 20 л.с. минимум. \n",
    "    \n",
    "По верхней - в целом можно согласиться, это максимум для спорткаров. Однако если уж быть точным, то в нашей таблице вряд ли будут машины (если соотносить по модели и году выпуска) с мощностью больше 500 л.с.\n",
    "\n",
    "</div>\n"
   ]
  },
  {
   "cell_type": "markdown",
   "metadata": {},
   "source": [
    "<div style=\"background: #B0E0E6; padding: 5px; border: 1px solid SteelBlue; border-radius: 5px;\">\n",
    "    <font color='4682B4'><u><b>КОММЕНТАРИЙ СТУДЕНТА</b></u></font>\n",
    "    <br />\n",
    "    <font color='4682B4'>Исправила. </font>\n",
    "</div>"
   ]
  },
  {
   "cell_type": "markdown",
   "metadata": {},
   "source": [
    "Остальные столбцы в обработке аномалий не нуждаются."
   ]
  },
  {
   "cell_type": "markdown",
   "metadata": {},
   "source": [
    "### Проверка на дубликаты"
   ]
  },
  {
   "cell_type": "code",
   "execution_count": 17,
   "metadata": {},
   "outputs": [
    {
     "data": {
      "text/plain": [
       "39006"
      ]
     },
     "execution_count": 17,
     "metadata": {},
     "output_type": "execute_result"
    }
   ],
   "source": [
    "data.duplicated().sum()"
   ]
  },
  {
   "cell_type": "code",
   "execution_count": 18,
   "metadata": {},
   "outputs": [
    {
     "data": {
      "text/plain": [
       "0"
      ]
     },
     "execution_count": 18,
     "metadata": {},
     "output_type": "execute_result"
    }
   ],
   "source": [
    "data = data.drop_duplicates().reset_index(drop=True)\n",
    "data.duplicated().sum()"
   ]
  },
  {
   "cell_type": "code",
   "execution_count": 19,
   "metadata": {},
   "outputs": [
    {
     "name": "stdout",
     "output_type": "stream",
     "text": [
      "<class 'pandas.core.frame.DataFrame'>\n",
      "RangeIndex: 255974 entries, 0 to 255973\n",
      "Data columns (total 10 columns):\n",
      " #   Column            Non-Null Count   Dtype \n",
      "---  ------            --------------   ----- \n",
      " 0   Price             255974 non-null  int64 \n",
      " 1   VehicleType       255974 non-null  object\n",
      " 2   RegistrationYear  255974 non-null  int64 \n",
      " 3   Gearbox           255974 non-null  object\n",
      " 4   Power             255974 non-null  int64 \n",
      " 5   Model             255974 non-null  object\n",
      " 6   Kilometer         255974 non-null  int64 \n",
      " 7   FuelType          255974 non-null  object\n",
      " 8   Brand             255974 non-null  object\n",
      " 9   Repaired          255974 non-null  object\n",
      "dtypes: int64(4), object(6)\n",
      "memory usage: 19.5+ MB\n"
     ]
    }
   ],
   "source": [
    "data.info()"
   ]
  },
  {
   "cell_type": "markdown",
   "metadata": {},
   "source": [
    "Удалили явные дубликаты и обновили индексы после удаления."
   ]
  },
  {
   "cell_type": "markdown",
   "metadata": {},
   "source": [
    "### Вывод:\n",
    "Данные изучены. Проведена предобработка данных - обработаны пропущенные значения и аномалии, из таболицы удалены неинформативные столбцы, удалены дубликаты."
   ]
  },
  {
   "cell_type": "markdown",
   "metadata": {},
   "source": [
    "<div class=\"alert alert-warning\">\n",
    "<h2> Комментарий ревьюера <a class=\"tocSkip\"> </h2>\n",
    "    \n",
    "<b>Некоторые замечания и рекомендации💡:</b> \n",
    "    \n",
    "Я бы еще немного покопался в данных. Рекомендую посмотреть на то, какие у нас есть категории в колонках.\n",
    "\n",
    "'gasoline', 'petrol' - это разные названия бензина. Эти категории можно сгруппировать.\n",
    "       \n",
    "В пробеге у нас всего 13 значений − полезно воспринимать этот признак как категориальный.\n",
    "\n",
    "</div> \n"
   ]
  },
  {
   "cell_type": "markdown",
   "metadata": {},
   "source": [
    "<div style=\"background: #B0E0E6; padding: 5px; border: 1px solid SteelBlue; border-radius: 5px;\">\n",
    "    <font color='4682B4'><u><b>КОММЕНТАРИЙ СТУДЕНТА</b></u></font>\n",
    "    <br />\n",
    "    <font color='4682B4'>Думала над тем, чтобы объединить 'gasoline'и 'petrol', но решила этого не делать, исходя из того, что вдруг в этом разделении сознательно заложен какой-то принцип, и я тем самым сделаю только хуже для данных. \n",
    "    Что касается пробега, интересное замечание, мне в голову не приходило, что его можно воспринимать как категориальный признак. Сасибо за наводку.</font>\n",
    "</div>"
   ]
  },
  {
   "cell_type": "markdown",
   "metadata": {},
   "source": [
    "<div class=\"alert alert-success\">\n",
    "<h2> Комментарий ревьюера #2 <a class=\"tocSkip\"> </h2>\n",
    "\n",
    "👍 Отчасти да, например, если по разному названию бензина мы можем восстановить страну, а по стране будет некоторая корреляция с ценой. Но это все нужно проверять.\n",
    "</div>\n",
    " "
   ]
  },
  {
   "cell_type": "markdown",
   "metadata": {},
   "source": []
  },
  {
   "cell_type": "markdown",
   "metadata": {},
   "source": [
    "## Обучение моделей"
   ]
  },
  {
   "cell_type": "markdown",
   "metadata": {},
   "source": [
    "### Подготовка признаков\n",
    "\n",
    "Перед тем, как приступить к обучению моделей, необходимо подготовить признаки  - преобразовать категориальные в численные. Для этого будем использовать 2 техники - OHE и Ordinal Encoding (т.к. Ordinal Encoding больше подходит для модели случайного леса, которую мы будем использовать). "
   ]
  },
  {
   "cell_type": "code",
   "execution_count": 20,
   "metadata": {},
   "outputs": [
    {
     "name": "stdout",
     "output_type": "stream",
     "text": [
      "(255974,)\n",
      "(255974, 9)\n"
     ]
    }
   ],
   "source": [
    "# Разделим данные на обучающую и тестовую выборки\n",
    "target = data['Price']\n",
    "features = data.drop('Price', axis=1)\n",
    "\n",
    "print(target.shape)\n",
    "print(features.shape)"
   ]
  },
  {
   "cell_type": "code",
   "execution_count": 21,
   "metadata": {},
   "outputs": [
    {
     "name": "stdout",
     "output_type": "stream",
     "text": [
      "(191980, 9)\n",
      "(63994, 9)\n",
      "(191980,)\n",
      "(63994,)\n"
     ]
    }
   ],
   "source": [
    "features_train, features_test, target_train, target_test = train_test_split(features, target, test_size=0.25, \n",
    "                                                                            random_state=12345)\n",
    "print(features_train.shape)\n",
    "print(features_test.shape)\n",
    "print(target_train.shape)\n",
    "print(target_test.shape)"
   ]
  },
  {
   "cell_type": "code",
   "execution_count": 22,
   "metadata": {},
   "outputs": [
    {
     "name": "stdout",
     "output_type": "stream",
     "text": [
      "['VehicleType', 'Gearbox', 'Model', 'FuelType', 'Brand', 'Repaired']\n"
     ]
    }
   ],
   "source": [
    "# Выберем для кодирования только категориальные признаки\n",
    "cat_features = features_train.select_dtypes(include='object').columns.to_list()\n",
    "print(cat_features)"
   ]
  },
  {
   "cell_type": "code",
   "execution_count": 23,
   "metadata": {},
   "outputs": [],
   "source": [
    "# Вводим новые переменные для закодированных признаков\n",
    "features_train_ohe = features_train.copy()\n",
    "features_test_ohe = features_test.copy()"
   ]
  },
  {
   "cell_type": "code",
   "execution_count": 24,
   "metadata": {},
   "outputs": [
    {
     "name": "stderr",
     "output_type": "stream",
     "text": [
      "/opt/conda/lib/python3.9/site-packages/sklearn/preprocessing/_encoders.py:188: UserWarning: Found unknown categories in columns [2] during transform. These unknown categories will be encoded as all zeros\n",
      "  warnings.warn(\n"
     ]
    },
    {
     "name": "stdout",
     "output_type": "stream",
     "text": [
      "        RegistrationYear  Power  Kilometer  VehicleType_convertible  \\\n",
      "190560              2008     90     150000                      0.0   \n",
      "249587              2006    105     150000                      0.0   \n",
      "70428               1999     65     125000                      0.0   \n",
      "125622              2010     75      90000                      0.0   \n",
      "33384               1993    115     150000                      0.0   \n",
      "\n",
      "        VehicleType_coupe  VehicleType_other  VehicleType_sedan  \\\n",
      "190560                0.0                0.0                0.0   \n",
      "249587                0.0                0.0                0.0   \n",
      "70428                 0.0                0.0                0.0   \n",
      "125622                0.0                0.0                0.0   \n",
      "33384                 0.0                0.0                1.0   \n",
      "\n",
      "        VehicleType_small  VehicleType_suv  VehicleType_unknown  ...  \\\n",
      "190560                0.0              0.0                  0.0  ...   \n",
      "249587                1.0              0.0                  0.0  ...   \n",
      "70428                 1.0              0.0                  0.0  ...   \n",
      "125622                0.0              0.0                  0.0  ...   \n",
      "33384                 0.0              0.0                  0.0  ...   \n",
      "\n",
      "        Brand_smart  Brand_sonstige_autos  Brand_subaru  Brand_suzuki  \\\n",
      "190560          0.0                   0.0           0.0           0.0   \n",
      "249587          0.0                   0.0           0.0           0.0   \n",
      "70428           0.0                   0.0           0.0           0.0   \n",
      "125622          0.0                   0.0           0.0           0.0   \n",
      "33384           0.0                   0.0           0.0           0.0   \n",
      "\n",
      "        Brand_toyota  Brand_trabant  Brand_volkswagen  Brand_volvo  \\\n",
      "190560           0.0            0.0               0.0          0.0   \n",
      "249587           0.0            0.0               0.0          0.0   \n",
      "70428            0.0            0.0               0.0          0.0   \n",
      "125622           0.0            0.0               0.0          0.0   \n",
      "33384            0.0            0.0               1.0          0.0   \n",
      "\n",
      "        Repaired_unknown  Repaired_yes  \n",
      "190560               0.0           0.0  \n",
      "249587               0.0           0.0  \n",
      "70428                0.0           0.0  \n",
      "125622               0.0           0.0  \n",
      "33384                1.0           0.0  \n",
      "\n",
      "[5 rows x 309 columns]\n",
      "        RegistrationYear  Power  Kilometer  VehicleType_convertible  \\\n",
      "144112              2005    175     150000                      0.0   \n",
      "143152              2003    150     150000                      0.0   \n",
      "25256               2010    140     100000                      1.0   \n",
      "120205              2002    110     150000                      0.0   \n",
      "161731              2014    156      10000                      0.0   \n",
      "\n",
      "        VehicleType_coupe  VehicleType_other  VehicleType_sedan  \\\n",
      "144112                0.0                0.0                1.0   \n",
      "143152                0.0                0.0                1.0   \n",
      "25256                 0.0                0.0                0.0   \n",
      "120205                0.0                0.0                1.0   \n",
      "161731                0.0                0.0                0.0   \n",
      "\n",
      "        VehicleType_small  VehicleType_suv  VehicleType_unknown  ...  \\\n",
      "144112                0.0              0.0                  0.0  ...   \n",
      "143152                0.0              0.0                  0.0  ...   \n",
      "25256                 0.0              0.0                  0.0  ...   \n",
      "120205                0.0              0.0                  0.0  ...   \n",
      "161731                1.0              0.0                  0.0  ...   \n",
      "\n",
      "        Brand_smart  Brand_sonstige_autos  Brand_subaru  Brand_suzuki  \\\n",
      "144112          0.0                   0.0           0.0           0.0   \n",
      "143152          0.0                   0.0           0.0           0.0   \n",
      "25256           0.0                   0.0           0.0           0.0   \n",
      "120205          0.0                   0.0           0.0           0.0   \n",
      "161731          0.0                   0.0           0.0           0.0   \n",
      "\n",
      "        Brand_toyota  Brand_trabant  Brand_volkswagen  Brand_volvo  \\\n",
      "144112           0.0            0.0               0.0          0.0   \n",
      "143152           0.0            0.0               0.0          0.0   \n",
      "25256            0.0            0.0               0.0          0.0   \n",
      "120205           1.0            0.0               0.0          0.0   \n",
      "161731           0.0            0.0               0.0          0.0   \n",
      "\n",
      "        Repaired_unknown  Repaired_yes  \n",
      "144112               0.0           0.0  \n",
      "143152               0.0           0.0  \n",
      "25256                0.0           0.0  \n",
      "120205               0.0           0.0  \n",
      "161731               0.0           0.0  \n",
      "\n",
      "[5 rows x 309 columns]\n",
      "(191980, 309)\n",
      "(63994, 309)\n"
     ]
    }
   ],
   "source": [
    "encoder_ohe = OneHotEncoder(drop='first', handle_unknown='ignore', sparse=False)\n",
    "\n",
    "# Обучаем энкодер на обучающей выборке \n",
    "encoder_ohe.fit(features_train_ohe[cat_features])\n",
    "\n",
    "# Добавляем закодированные признаки в features_train_ohe и удаляем незакодированные\n",
    "features_train_ohe[encoder_ohe.get_feature_names_out()] = encoder_ohe.transform(features_train_ohe[cat_features])\n",
    "features_train_ohe = features_train_ohe.drop(cat_features, axis=1)\n",
    "\n",
    "# Аналогичным образом кодируем тестовую выборку\n",
    "features_test_ohe[encoder_ohe.get_feature_names_out()] = encoder_ohe.transform(features_test_ohe[cat_features])\n",
    "features_test_ohe = features_test_ohe.drop(cat_features, axis=1)\n",
    "\n",
    "print(features_train_ohe.head())\n",
    "print(features_test_ohe.head())\n",
    "print(features_train_ohe.shape)\n",
    "print(features_test_ohe.shape)"
   ]
  },
  {
   "cell_type": "code",
   "execution_count": 25,
   "metadata": {},
   "outputs": [
    {
     "name": "stdout",
     "output_type": "stream",
     "text": [
      "(191980,)\n",
      "(63994,)\n"
     ]
    }
   ],
   "source": [
    "target_train_ohe = target_train.copy()\n",
    "target_test_ohe = target_test.copy()\n",
    "\n",
    "print(target_train_ohe.shape)\n",
    "print(target_test_ohe.shape)"
   ]
  },
  {
   "cell_type": "code",
   "execution_count": 26,
   "metadata": {},
   "outputs": [],
   "source": [
    "# data_ohe = pd.get_dummies(data, drop_first=True)\n",
    "# data_ohe.head()"
   ]
  },
  {
   "cell_type": "markdown",
   "metadata": {},
   "source": [
    "<div class=\"alert alert-warning\">\n",
    "<h2> Комментарий ревьюера <a class=\"tocSkip\"> </h2>\n",
    "    \n",
    "<b>Некоторые замечания и рекомендации💡:</b> \n",
    "\n",
    "В тренажере давался пример использования прямого кодирования с помощью get_dummies, однако это далеко не самый оптимальный вариант. Он подходит для анализа данных, но в машинном обучении может служить причиной ошибок при обучении моделей.\n",
    "    \n",
    "Можно использовать класс <a href=\"https://scikit-learn.org/stable/modules/generated/sklearn.preprocessing.OneHotEncoder.html\">OHE из sklearn</a>. Он точно понадобится в будущих проектах, можно потренироваться сейчас. \n",
    "\n",
    "Практикум подготовил инструкцию, как использовать OHE: https://colab.research.google.com/drive/1_gAMXcQKoCShB_l8FNtYEejMnosm9mvt?usp=sharing \n",
    "\n",
    "\n",
    "Есть загвоздка, что нам нужно будет одновременно использовать параметры drop='first' и handle_unknown='ignore’.  в OHE, а на платформе такое сочетание может выдавать ошибку (в части случаев). Если ошибка появляется, необходимо загрузить нужную версию сайкит-лерна. Для этого:\n",
    "\n",
    "1. В отдельной строке в самом начале проекта запускаем такую команду:\n",
    " `!pip install scikit-learn==1.1.3`\n",
    "     \n",
    "2. Находим в меню юпитера кнопку `Kernel`, нажимаем и выбираем Restart&Run all \n",
    "\n",
    "\n",
    "И сразу уточню, что OHE мы используем уже после разделения выборок на обучающую, валидационную и тестовую. Обучаем на трейне, применяем ко всем. Кодируем после разбиения по аналогии с масштабированием. Посмотреть поподробнее также <a href=\"https://stackoverflow.com/questions/55525195/do-i-have-to-do-one-hot-encoding-separately-for-train-and-test-dataset\">можно здесь</a> .\n",
    "      \n",
    "</div> "
   ]
  },
  {
   "cell_type": "markdown",
   "metadata": {},
   "source": [
    "<div style=\"background: #B0E0E6; padding: 5px; border: 1px solid SteelBlue; border-radius: 5px;\">\n",
    "    <font color='4682B4'><u><b>КОММЕНТАРИЙ СТУДЕНТА</b></u></font>\n",
    "    <br />\n",
    "    <font color='4682B4'>Закоментировала предыдущий код и воспользовалась твоей наводкой на OHE из sklearn. Единственное, смущает предупреждение, которое появляется после выполнения кода. Я все верно делаю?</font>\n",
    "</div>"
   ]
  },
  {
   "cell_type": "markdown",
   "metadata": {},
   "source": [
    "<div class=\"alert alert-success\">\n",
    "<h2> Комментарий ревьюера #2 <a class=\"tocSkip\"> </h2>\n",
    "\n",
    "👍 Сейчас уже не вижу предупреждений.\n",
    "    \n",
    "А так предупреждения можно убрать. `warnings.filterwarnings('ignore')` после `import warnings`.\n",
    "\n",
    "Или `pd.options.mode.chained_assignment = None`  - этот вариант будет, если предупреждение ругается на ссылки на «слайсы».\n",
    "\n",
    "</div>\n",
    " "
   ]
  },
  {
   "cell_type": "code",
   "execution_count": 27,
   "metadata": {},
   "outputs": [],
   "source": [
    "# Вводим новые переменные для закодированных признаков\n",
    "features_train_ordinal = features_train.copy()\n",
    "features_test_ordinal = features_test.copy()"
   ]
  },
  {
   "cell_type": "code",
   "execution_count": 28,
   "metadata": {},
   "outputs": [
    {
     "name": "stdout",
     "output_type": "stream",
     "text": [
      "        VehicleType  RegistrationYear  Gearbox  Power  Model  Kilometer  \\\n",
      "190560          0.0              2008      1.0     90  237.0     150000   \n",
      "249587          5.0              2006      1.0    105   42.0     150000   \n",
      "70428           5.0              1999      1.0     65   83.0     125000   \n",
      "125622          8.0              2010      1.0     75  142.0      90000   \n",
      "33384           4.0              1993      1.0    115  226.0     150000   \n",
      "\n",
      "        FuelType  Brand  Repaired  \n",
      "190560       2.0   24.0       0.0  \n",
      "249587       6.0   24.0       0.0  \n",
      "70428        6.0   24.0       0.0  \n",
      "125622       6.0    6.0       0.0  \n",
      "33384        6.0   38.0       1.0  \n",
      "        VehicleType  RegistrationYear  Gearbox  Power  Model  Kilometer  \\\n",
      "144112          4.0              2005      1.0    175  233.0     150000   \n",
      "143152          4.0              2003      0.0    150   95.0     150000   \n",
      "25256           1.0              2010      1.0    140   10.0     100000   \n",
      "120205          4.0              2002      1.0    110   82.0     150000   \n",
      "161731          5.0              2014      1.0    156  166.0      10000   \n",
      "\n",
      "        FuelType  Brand  Repaired  \n",
      "144112       4.0   24.0       0.0  \n",
      "143152       2.0   20.0       0.0  \n",
      "25256        2.0   25.0       0.0  \n",
      "120205       6.0   36.0       0.0  \n",
      "161731       6.0    5.0       0.0  \n",
      "(191980, 9)\n",
      "(63992, 9)\n",
      "(191980,)\n",
      "(63992,)\n"
     ]
    }
   ],
   "source": [
    "encoder_ordinal = OrdinalEncoder(handle_unknown='use_encoded_value', unknown_value=np.nan)\n",
    "\n",
    "features_train_ordinal[cat_features] = encoder_ordinal.fit_transform(features_train[cat_features])\n",
    "target_train_ordinal = target_train.copy()\n",
    "\n",
    "features_test_ordinal[cat_features] = encoder_ordinal.transform(features_test[cat_features]) \n",
    "features_test_ordinal = features_test_ordinal.dropna()\n",
    "target_test_ordinal = target_test[features_test_ordinal.index]\n",
    "\n",
    "print(features_train_ordinal.head())\n",
    "print(features_test_ordinal.head())\n",
    "print(features_train_ordinal.shape)\n",
    "print(features_test_ordinal.shape)\n",
    "print(target_train_ordinal.shape)\n",
    "print(target_test_ordinal.shape)"
   ]
  },
  {
   "cell_type": "markdown",
   "metadata": {},
   "source": [
    "<div class=\"alert alert-block alert-danger\">\n",
    "<h2><s> Комментарий ревьюера <a class=\"tocSkip\"></h2>\n",
    "  \n",
    "<b>На доработку🤔:</b>\n",
    " \n",
    "В кодирование стоит определять только категориальные признаки. Чтобы избегать утечки таргета, стоит кодировать после разделения на выборки.\n",
    "    \n",
    "По аналогии:\n",
    "    \n",
    "```\n",
    "encoder_ord = OrdinalEncoder(handle_unknown='use_encoded_value', unknown_value=np.nan)\n",
    "\n",
    "features_train_ord = features_train.copy()\n",
    "features_train_ord[cat_columns] = encoder_ord.fit_transform(features_train[cat_columns])\n",
    "target_train_ord = target_train.copy()\n",
    "\n",
    "features_valid_ord = features_valid.copy()\n",
    "features_valid_ord[cat_columns] = encoder_ord.transform(features_valid[cat_columns])\n",
    "features_valid_ord = features_valid_ord.dropna()\n",
    "target_valid_ord = target_valid[features_valid_ord.index]    \n",
    "    \n",
    "```\n",
    "    \n",
    "handle_unknown='use_encoded_value' - мы используем для того, чтобы помечать категории, которые не встретятся в тренировочной выборке (на которой обучили энкодер), но встретятся в тестовой. Чтобы код не падал, заменяем там кодировку пропусками, а затем дропаем эти строки.\n",
    "\n",
    "</div>\n"
   ]
  },
  {
   "cell_type": "markdown",
   "metadata": {},
   "source": [
    "<div style=\"background: #B0E0E6; padding: 5px; border: 1px solid SteelBlue; border-radius: 5px;\">\n",
    "    <font color='4682B4'><u><b>КОММЕНТАРИЙ СТУДЕНТА</b></u></font>\n",
    "    <br />\n",
    "    <font color='4682B4'>Спасибо на наводку на новые параметры в OrdinalEncoder! Исправила по твоей рекоммендации. Единственное, у меня после такого кодирования в тестовой выборке дропнулись две строки, в отличие от кодирования OHE. Получается, что это категории, которые не встретились в обучающей, но встретились в тестовой. Это никак негативно не повлияет на дальнейшее обучение моделей?</font>\n",
    "</div>"
   ]
  },
  {
   "cell_type": "markdown",
   "metadata": {},
   "source": [
    "<div class=\"alert alert-success\">\n",
    "<h2> Комментарий ревьюера #2 <a class=\"tocSkip\"> </h2>\n",
    "\n",
    "👍 Нет. Мы так и заложили, что мы их будем дропать. В реальных данных подобные случаи будем пропускать и скорее всего либо обрабатывать отдельно, либо заполнять константой.\n",
    "</div>\n",
    "  "
   ]
  },
  {
   "cell_type": "markdown",
   "metadata": {},
   "source": [
    "Закодировали тпаблицу. Теперь необходимо разделить каждую на признаки и целевой признак и разделить их на обучающую и тестовую выборки."
   ]
  },
  {
   "cell_type": "code",
   "execution_count": 29,
   "metadata": {},
   "outputs": [],
   "source": [
    "#target_ohe = data_ohe['Price']\n",
    "#features_ohe = data_ohe.drop('Price', axis=1)\n",
    "\n",
    "#print(target_ohe.shape)\n",
    "#print(features_ohe.shape)"
   ]
  },
  {
   "cell_type": "code",
   "execution_count": 30,
   "metadata": {},
   "outputs": [],
   "source": [
    "#features_train_ohe, features_test_ohe, target_train_ohe, target_test_ohe = train_test_split(features_ohe, target_ohe, \n",
    "                                                                                            #test_size=0.25, random_state=12345)\n",
    "#print(features_train_ohe.shape)\n",
    "#print(features_test_ohe.shape)\n",
    "#print(target_train_ohe.shape)\n",
    "#print(target_test_ohe.shape)"
   ]
  },
  {
   "cell_type": "code",
   "execution_count": 31,
   "metadata": {},
   "outputs": [],
   "source": [
    "#target_ordinal = data_ordinal['Price']\n",
    "#features_ordinal = data_ordinal.drop('Price', axis=1)\n",
    "\n",
    "#print(target_ordinal.shape)\n",
    "#print(features_ordinal.shape)"
   ]
  },
  {
   "cell_type": "code",
   "execution_count": 32,
   "metadata": {},
   "outputs": [],
   "source": [
    "#features_train_ordinal, features_test_ordinal, target_train_ordinal, target_test_ordinal = train_test_split(features_ordinal, \n",
    "                                                                                                            #target_ordinal, \n",
    "                                                                                                            #test_size=0.25, \n",
    "                                                                                                            #random_state=12345)\n",
    "#print(features_train_ordinal.shape)\n",
    "#print(features_test_ordinal.shape)\n",
    "#print(target_train_ordinal.shape)\n",
    "#print(target_test_ordinal.shape)"
   ]
  },
  {
   "cell_type": "markdown",
   "metadata": {},
   "source": [
    "<div class=\"alert alert-success\"> \n",
    "<h2> Комментарий ревьюера <a class=\"tocSkip\"> </h2>\n",
    "\n",
    "👍 Согласен\n",
    "</div>  "
   ]
  },
  {
   "cell_type": "markdown",
   "metadata": {},
   "source": [
    "<div style=\"background: #B0E0E6; padding: 5px; border: 1px solid SteelBlue; border-radius: 5px;\">\n",
    "    <font color='4682B4'><u><b>КОММЕНТАРИЙ СТУДЕНТА</b></u></font>\n",
    "    <br />\n",
    "    <font color='4682B4'>Код выше закоментировала за ненадобностью.</font>\n",
    "</div>"
   ]
  },
  {
   "cell_type": "markdown",
   "metadata": {},
   "source": [
    "Далее необходимо провести масштабирование признаков."
   ]
  },
  {
   "cell_type": "code",
   "execution_count": 33,
   "metadata": {},
   "outputs": [],
   "source": [
    "scaler = StandardScaler()\n",
    "scaler.fit(features_train_ohe)\n",
    "features_train_ohe = scaler.transform(features_train_ohe)\n",
    "features_test_ohe = scaler.transform(features_test_ohe)"
   ]
  },
  {
   "cell_type": "code",
   "execution_count": 34,
   "metadata": {},
   "outputs": [],
   "source": [
    "scaler = StandardScaler()\n",
    "scaler.fit(features_train_ordinal)\n",
    "features_train_ordinal = scaler.transform(features_train_ordinal)\n",
    "features_test_ordinal = scaler.transform(features_test_ordinal)"
   ]
  },
  {
   "cell_type": "markdown",
   "metadata": {},
   "source": [
    "Признаки готовы к обучению моделей. Для обучения возмем модели - LightGBM, Линейную регрессию и Модель случайного леса."
   ]
  },
  {
   "cell_type": "markdown",
   "metadata": {},
   "source": [
    "\n",
    "<div class=\"alert alert-success\">\n",
    "<h2> Комментарий ревьюера <a class=\"tocSkip\"> </h2>\n",
    "\n",
    "👍 Здесь все корректно.\n",
    "</div> \n"
   ]
  },
  {
   "cell_type": "markdown",
   "metadata": {},
   "source": [
    "### Модель LightGBM"
   ]
  },
  {
   "cell_type": "code",
   "execution_count": 35,
   "metadata": {},
   "outputs": [
    {
     "name": "stdout",
     "output_type": "stream",
     "text": [
      "Наилучшие параметры: {'learning_rate': 0.3, 'max_depth': 10, 'n_estimators': 90}\n",
      "RMSE: 1645.1013600445272\n"
     ]
    }
   ],
   "source": [
    "model_lgbm = LGBMRegressor(random_state=12345)\n",
    "\n",
    "# Подготовим параметры для нашей модели \n",
    "params = {'n_estimators': range (50, 100, 10),\n",
    "          'max_depth': range (5, 15, 5),\n",
    "          'learning_rate': [0.05, 0.1, 0.3]\n",
    "          }\n",
    "\n",
    "\n",
    "# Для подбора наилучших параметров будем использовать GridSearchCV \n",
    "grid = GridSearchCV(estimator=model_lgbm, param_grid=params, cv=3, scoring = 'neg_mean_squared_error')\n",
    "\n",
    "grid.fit(features_train_ordinal, target_train_ordinal)\n",
    "\n",
    "print(\"Наилучшие параметры:\", grid.best_params_)\n",
    "print(\"RMSE:\", (grid.best_score_ * -1)**0.5)"
   ]
  },
  {
   "cell_type": "code",
   "execution_count": null,
   "metadata": {},
   "outputs": [],
   "source": [
    "model_lgbm = LGBMRegressor(random_state=12345,\n",
    "                          n_estimators=90,\n",
    "                          max_depth=10,\n",
    "                          learning_rate=0.3)\n",
    "model_lgbm.fit(features_train_ordinal, target_train_ordinal)\n",
    "\n",
    "cross_val_lgbm = cross_val_score(model_lgbm, \n",
    "                             features_train_ordinal, \n",
    "                             target_train_ordinal, \n",
    "                             cv=3, \n",
    "                             scoring='neg_mean_squared_error')\n",
    "\n",
    "rmse = (cross_val_lgbm.mean() * -1) ** 0.5\n",
    "print(\"RMSE LightGBM:\", rmse)"
   ]
  },
  {
   "cell_type": "markdown",
   "metadata": {},
   "source": [
    "<div class=\"alert alert-warning\">\n",
    "<h2> Комментарий ревьюера <a class=\"tocSkip\"> </h2>\n",
    "    \n",
    "<b>Некоторые замечания и рекомендации💡:</b> \n",
    " \n",
    "По коду согласен. По результату - нужно поправить кодирование и перепроверить.\n",
    "    \n",
    "Пока результат нереалистичен.\n",
    "</div>  \n",
    "    \n",
    "      "
   ]
  },
  {
   "cell_type": "markdown",
   "metadata": {},
   "source": [
    "<div class=\"alert alert-success\">\n",
    "<h2> Комментарий ревьюера #2 <a class=\"tocSkip\"> </h2>\n",
    "\n",
    "👍 Вот теперь все супер.\n",
    "</div>\n",
    "  "
   ]
  },
  {
   "cell_type": "markdown",
   "metadata": {},
   "source": [
    "### Модель Линейной регресии"
   ]
  },
  {
   "cell_type": "code",
   "execution_count": null,
   "metadata": {},
   "outputs": [],
   "source": [
    "model = LinearRegression()\n",
    "model.fit(features_train_ohe, target_train_ohe)\n",
    "predictions = model.predict(features_train_ohe)\n",
    "rmse = mean_squared_error(target_train_ohe, predictions)**0.5\n",
    "print(\"RMSE:\", rmse)"
   ]
  },
  {
   "cell_type": "markdown",
   "metadata": {},
   "source": [
    "<div class=\"alert alert-success\">\n",
    "<h2> Комментарий ревьюера <a class=\"tocSkip\"> </h2>\n",
    "\n",
    "👍 Здесь все корректно.\n",
    "</div> \n",
    " \n",
    "     "
   ]
  },
  {
   "cell_type": "markdown",
   "metadata": {},
   "source": [
    "### Модель Случайного леса"
   ]
  },
  {
   "cell_type": "code",
   "execution_count": null,
   "metadata": {},
   "outputs": [],
   "source": [
    "model_forest = RandomForestRegressor(random_state=12345)\n",
    "params_forest = {'n_estimators': range (50, 100, 10),\n",
    "          'max_depth': range (5, 15, 5),\n",
    "          'min_samples_split': range (2,10,2)\n",
    "          }\n",
    "\n",
    "grid = GridSearchCV(estimator=model_forest, param_grid=params_forest, cv=3, scoring = 'neg_mean_squared_error')\n",
    "\n",
    "grid.fit(features_train_ordinal, target_train_ordinal)\n",
    "\n",
    "print(\"Наилучшие параметры:\", grid.best_params_)\n",
    "print(\"RMSE:\", (grid.best_score_ *-1)**0.5)"
   ]
  },
  {
   "cell_type": "markdown",
   "metadata": {},
   "source": [
    "в результате мы получили наилучшие параметры модели. Изучим время обучения, время предсказания и качество моделей на кросс-валидации. Затем проверим лучшуй по всем показателям модель на тестовой выборке."
   ]
  },
  {
   "cell_type": "markdown",
   "metadata": {},
   "source": [
    "<div class=\"alert alert-block alert-danger\">\n",
    "<h2><s> Комментарий ревьюера <a class=\"tocSkip\"></h2>\n",
    "  \n",
    "<b>На доработку🤔:</b>\n",
    " \n",
    "Tестирование − финальная проверка качества модели. Лучшую модель мы выбираем на этапе исследования. Здесь мы смотрим на качество по кросс-валидации и на время обучения+время предсказания моделей. Тестирование дает представление о том, какое ожидаемое качество модель продемонстрирует после внедрения, но не более того.\n",
    "\n",
    "</div>\n"
   ]
  },
  {
   "cell_type": "markdown",
   "metadata": {},
   "source": [
    "<div style=\"background: #B0E0E6; padding: 5px; border: 1px solid SteelBlue; border-radius: 5px;\">\n",
    "    <font color='4682B4'><u><b>КОММЕНТАРИЙ СТУДЕНТА</b></u></font>\n",
    "    <br />\n",
    "    <font color='4682B4'>Исправила, сделала расчет качества (RMSE) на кросс-валидации и затем проверила наилучшую модель на тестовой выборке. </font>\n",
    "</div>\n"
   ]
  },
  {
   "cell_type": "markdown",
   "metadata": {},
   "source": [
    "## Анализ моделей"
   ]
  },
  {
   "cell_type": "markdown",
   "metadata": {},
   "source": [
    "### Модель LightGBM"
   ]
  },
  {
   "cell_type": "markdown",
   "metadata": {},
   "source": [
    "Найдем время обучения модели "
   ]
  },
  {
   "cell_type": "code",
   "execution_count": null,
   "metadata": {},
   "outputs": [],
   "source": [
    "%%time\n",
    "\n",
    "model_lgbm = LGBMRegressor(random_state=12345,\n",
    "                          n_estimators=90,\n",
    "                          max_depth=10,\n",
    "                          learning_rate=0.3)\n",
    "model_lgbm.fit(features_train_ordinal, target_train_ordinal)"
   ]
  },
  {
   "cell_type": "markdown",
   "metadata": {},
   "source": [
    "Найдем время предсказания модели на тестовой выборке и RMSE"
   ]
  },
  {
   "cell_type": "code",
   "execution_count": null,
   "metadata": {},
   "outputs": [],
   "source": [
    "%%time\n",
    "\n",
    "predictions = model_lgbm.predict(features_test_ordinal)"
   ]
  },
  {
   "cell_type": "code",
   "execution_count": null,
   "metadata": {},
   "outputs": [],
   "source": [
    "cross_val_lgbm = cross_val_score(model_lgbm, \n",
    "                             features_train_ordinal, \n",
    "                             target_train_ordinal, \n",
    "                             cv=5, \n",
    "                             scoring='neg_mean_squared_error')\n",
    "\n",
    "rmse = (cross_val_lgbm.mean() * -1) ** 0.5\n",
    "print(\"RMSE LightGBM:\", rmse)"
   ]
  },
  {
   "cell_type": "markdown",
   "metadata": {},
   "source": [
    "### Модель Линейной регресии"
   ]
  },
  {
   "cell_type": "markdown",
   "metadata": {},
   "source": [
    "Найдем время обучения модели "
   ]
  },
  {
   "cell_type": "code",
   "execution_count": null,
   "metadata": {},
   "outputs": [],
   "source": [
    "%%time\n",
    "\n",
    "model = LinearRegression()\n",
    "model.fit(features_train_ohe, target_train_ohe)"
   ]
  },
  {
   "cell_type": "markdown",
   "metadata": {},
   "source": [
    "Найдем время предсказания модели на тестовой выборке и RMSE"
   ]
  },
  {
   "cell_type": "code",
   "execution_count": null,
   "metadata": {},
   "outputs": [],
   "source": [
    "%%time\n",
    "\n",
    "predictions = model.predict(features_test_ohe)"
   ]
  },
  {
   "cell_type": "code",
   "execution_count": null,
   "metadata": {},
   "outputs": [],
   "source": [
    "cross_val_lr = cross_val_score(model, \n",
    "                             features_train_ohe, \n",
    "                             target_train_ohe, \n",
    "                             cv=5, \n",
    "                             scoring='neg_mean_squared_error')\n",
    "\n",
    "rmse = (cross_val_lr.mean() * -1) ** 0.5\n",
    "print(\"RMSE LinearRegression:\", rmse)"
   ]
  },
  {
   "cell_type": "markdown",
   "metadata": {},
   "source": [
    "### Модель Случайного леса"
   ]
  },
  {
   "cell_type": "markdown",
   "metadata": {},
   "source": [
    "Найдем время обучения модели"
   ]
  },
  {
   "cell_type": "code",
   "execution_count": null,
   "metadata": {},
   "outputs": [],
   "source": [
    "%%time\n",
    "\n",
    "model_forest = RandomForestRegressor(random_state=12345,\n",
    "                                     n_estimators=90,\n",
    "                                     max_depth=10,\n",
    "                                     min_samples_split=4)\n",
    "model_forest.fit(features_train_ordinal, target_train_ordinal)"
   ]
  },
  {
   "cell_type": "markdown",
   "metadata": {},
   "source": [
    "Найдем время предсказания модели на тестовой выборке и RMSE"
   ]
  },
  {
   "cell_type": "code",
   "execution_count": null,
   "metadata": {},
   "outputs": [],
   "source": [
    "%%time\n",
    "\n",
    "predictions = model_forest.predict(features_test_ordinal)"
   ]
  },
  {
   "cell_type": "code",
   "execution_count": null,
   "metadata": {},
   "outputs": [],
   "source": [
    "cross_val_forest = cross_val_score(model_forest, \n",
    "                             features_train_ordinal, \n",
    "                             target_train_ordinal, \n",
    "                             cv=5, \n",
    "                             scoring='neg_mean_squared_error')\n",
    "\n",
    "rmse = (cross_val_forest.mean() * -1) ** 0.5\n",
    "print(\"RMSE LightGBM:\", rmse)"
   ]
  },
  {
   "cell_type": "markdown",
   "metadata": {},
   "source": [
    "Внесем данные в таблицу для наглядности."
   ]
  },
  {
   "cell_type": "code",
   "execution_count": null,
   "metadata": {},
   "outputs": [],
   "source": [
    "models = [['LightGBM', 3.2, 0.397, 1639.45], ['LinearRegression', 20, 0.018, 4329.01],\n",
    "         ['Forest', 21.8, 0.481, 1880.00]] \n",
    "    \n",
    "df = pd.DataFrame(models, columns =['модель', 'обучение, сек', 'предсказание, сек', 'rmse']) \n",
    "df "
   ]
  },
  {
   "cell_type": "markdown",
   "metadata": {},
   "source": [
    "Проверим качество наилучшей модели на тестовой выборке."
   ]
  },
  {
   "cell_type": "code",
   "execution_count": null,
   "metadata": {},
   "outputs": [],
   "source": [
    "model_lgbm = LGBMRegressor(random_state=12345,\n",
    "                          n_estimators=90,\n",
    "                          max_depth=10,\n",
    "                          learning_rate=0.3)\n",
    "model_lgbm.fit(features_train_ordinal, target_train_ordinal)\n",
    "\n",
    "predictions = model_lgbm.predict(features_test_ordinal)\n",
    "\n",
    "\n",
    "rmse = mean_squared_error(target_test_ordinal, predictions)**0.5\n",
    "print(\"Итоговый RMSE\", rmse)"
   ]
  },
  {
   "cell_type": "markdown",
   "metadata": {},
   "source": [
    "Вывод: Наиболее быстрой и качественной моделью оказалась Модель LightGBM - скорость ее обучения составила менее 5 секунд, а RMSE - 1639,5. Данная модель также показала хорошее качество и на тестовой выборке - RMSE 1634,8."
   ]
  },
  {
   "cell_type": "markdown",
   "metadata": {},
   "source": [
    " \n",
    "<div class=\"alert alert-warning\">\n",
    "<h2> Комментарий ревьюера <a class=\"tocSkip\"> </h2>\n",
    "    \n",
    "<b>Некоторые замечания и рекомендации💡:</b> \n",
    "\n",
    "Важно сначала выбрать финальную модель, а затем ее протестировать. Подбирать модель на тестовой выборке будет ошибочно.\n",
    "       \n",
    "</div> \n",
    "  "
   ]
  },
  {
   "cell_type": "markdown",
   "metadata": {},
   "source": [
    "<div style=\"background: #B0E0E6; padding: 5px; border: 1px solid SteelBlue; border-radius: 5px;\">\n",
    "    <font color='4682B4'><u><b>КОММЕНТАРИЙ СТУДЕНТА</b></u></font>\n",
    "    <br />\n",
    "    <font color='4682B4'>Исправила. Появился вопрос, можно ли как-то сделать сравнительную таблицу более универсальной? чтобы не вносить в таблицу цифры, а чтоб время в таблице заполнялось автоматически, например, если какие-то параметры модели нужно будет изменить? </font>\n",
    "</div>\n"
   ]
  },
  {
   "cell_type": "markdown",
   "metadata": {},
   "source": [
    "<div class=\"alert alert-success\">\n",
    "<h2> Комментарий ревьюера #2 <a class=\"tocSkip\"> </h2>\n",
    "\n",
    "👍 Да, например, если брать время исполнения кода из кросс-валидации и сохранять в переменные, а затем из переменных собирать таблицу. Буквально недавно увидел такой вариант в одной из работ. \n",
    "    \n",
    "```\n",
    "# допустим, сделали кросс-валидацию. Дальше через cv_results_ получаем время и передаем его в переменную.\n",
    "    \n",
    "results_ridge = gs_ridge.cv_results_\n",
    "best_index_ridge = gs_ridge.best_index_\n",
    "\n",
    "ridge_fit_time = results_ridge['mean_fit_time'][best_index_ridge]\n",
    "ridge_score_time = results_ridge['mean_score_time'][best_index_ridge]\n",
    "ridge_RMSE = results_ridge['mean_test_score'][best_index_ridge] * -1\n",
    "\n",
    "print(f\"Fit time: {ridge_fit_time}, Predict time: {ridge_score_time}, Best RMSE: {ridge_RMSE}\")\n",
    "\n",
    "    \n",
    "    \n",
    "```\n",
    "</div>\n",
    "  "
   ]
  },
  {
   "cell_type": "markdown",
   "metadata": {},
   "source": [
    "## Общий вывод"
   ]
  },
  {
   "cell_type": "markdown",
   "metadata": {},
   "source": [
    "#### Этап 1. Подготовка данных.\n",
    "В ходе этого этапа был открыт файл и изучены данные. Они действительно соответствовали документации. Была проведена проверка на пропуски и дубликаты. Пропуски не подлежали восстановлению и были удалены, дубликаты так же были удалены. В ходе подготовки данных для передачи их модели мы так же избавились от аномалий и неинформативных столбцов.\n",
    "\n",
    "#### Этап 2. Обучение моделей\n",
    "Для обучения моделей были преобразованы признаки. Категориальные признаки были преобразованы в численные, также данные масштабированны, чтобы не вводить в заблуждение модель.\n",
    "\n",
    "Были обучены три модели - LightGBM, Линейную регрессию и Модель случайного леса - и были найдены наиболее подходящие гиперпараметры, благодаря которым модели выдавали наилучшее качество.\n",
    "\n",
    "#### Этап 3. Анализ моделей\n",
    "В ходе этого этапа был произведен анализ времени обучения и предсказания каждой модели, а так же их качество на тестовой выборке. В результате наиболее быстрой и качественной показала себя модель LightGBM - скорость ее обучения составила менее 5 секунд, а RMSE - 1639,5.\n"
   ]
  },
  {
   "cell_type": "markdown",
   "metadata": {},
   "source": [
    " <div class=\"alert alert-warning\">\n",
    "<h2> Комментарий ревьюера <a class=\"tocSkip\"> </h2>\n",
    "    \n",
    "<b>Некоторые замечания и рекомендации💡:</b> \n",
    "\n",
    "Выводы необходимо будет перепроверить и синхронизировать с решениями по коду.\n",
    "       \n",
    "</div>"
   ]
  },
  {
   "cell_type": "markdown",
   "metadata": {},
   "source": [
    "<div style=\"border:solid Chocolate 2px; padding: 40px\">\n",
    "\n",
    "**Общий вывод по проверке**\n",
    "\n",
    "У тебя получился хороший проект. Неплохой выбор моделей для обучения, много верных решений. Однако есть и что доработать.\n",
    "    \n",
    "* Важно уточнить по границам с аномалиями. Необходимо удалить все нереалистичные данные. \n",
    "* Необходимо поправить по порядковому кодированию: здесь не стоит подавать в кодирование признаки кроме категориальных. Само кодирование проводим после разделения на выборки.\n",
    "* Лучшую модель выбираем до тестирования. Мы можем замерять время предсказания моделей на тестовой выборке, но сам результат при выборе финальной модели не учитываем. Ориентируемся на результат по кросс-валидации.\n",
    "    \n",
    "    \n",
    "    \n",
    "**Желаю удачи и жду твой проект на повторное ревью!**😉\n",
    "\n",
    "</div>"
   ]
  },
  {
   "cell_type": "markdown",
   "metadata": {},
   "source": [
    "<div style=\"border:solid Chocolate 2px; padding: 40px\">\n",
    "\n",
    "**Комментарий ко второй проверке**\n",
    "\n",
    "Спасибо за доработку. Критичных комментариев нет. \n",
    "    \n",
    "Если что-то пропустил или остались вопросы, напиши на телеграм @kriill\n",
    "\n",
    "Желаю удачи в дальнейшей учебе!\n",
    "\n",
    "</div>\n"
   ]
  },
  {
   "cell_type": "markdown",
   "metadata": {},
   "source": [
    "## Чек-лист проверки"
   ]
  },
  {
   "cell_type": "markdown",
   "metadata": {},
   "source": [
    "Поставьте 'x' в выполненных пунктах. Далее нажмите Shift+Enter."
   ]
  },
  {
   "cell_type": "markdown",
   "metadata": {},
   "source": [
    "- [x]  Jupyter Notebook открыт\n",
    "- [ ]  Весь код выполняется без ошибок\n",
    "- [ ]  Ячейки с кодом расположены в порядке исполнения\n",
    "- [ ]  Выполнена загрузка и подготовка данных\n",
    "- [ ]  Выполнено обучение моделей\n",
    "- [ ]  Есть анализ скорости работы и качества моделей"
   ]
  },
  {
   "cell_type": "code",
   "execution_count": null,
   "metadata": {},
   "outputs": [],
   "source": []
  }
 ],
 "metadata": {
  "ExecuteTimeLog": [
   {
    "duration": 54,
    "start_time": "2023-09-22T11:48:57.213Z"
   },
   {
    "duration": 420,
    "start_time": "2023-09-22T11:49:04.095Z"
   },
   {
    "duration": 1283,
    "start_time": "2023-09-22T11:49:04.518Z"
   },
   {
    "duration": 150,
    "start_time": "2023-09-22T11:50:25.854Z"
   },
   {
    "duration": 404,
    "start_time": "2023-09-22T11:55:14.708Z"
   },
   {
    "duration": 402,
    "start_time": "2023-09-22T12:10:21.759Z"
   },
   {
    "duration": 921,
    "start_time": "2023-09-22T12:10:22.163Z"
   },
   {
    "duration": 415,
    "start_time": "2023-09-22T12:10:23.086Z"
   },
   {
    "duration": 104,
    "start_time": "2023-09-22T12:10:23.503Z"
   },
   {
    "duration": 23,
    "start_time": "2023-09-22T12:10:46.592Z"
   },
   {
    "duration": 126,
    "start_time": "2023-09-22T12:11:09.618Z"
   },
   {
    "duration": 126,
    "start_time": "2023-09-22T12:11:52.425Z"
   },
   {
    "duration": 161,
    "start_time": "2023-09-22T12:15:33.681Z"
   },
   {
    "duration": 93,
    "start_time": "2023-09-22T12:26:16.386Z"
   },
   {
    "duration": 183,
    "start_time": "2023-09-22T12:37:19.022Z"
   },
   {
    "duration": 218,
    "start_time": "2023-09-22T12:38:23.367Z"
   },
   {
    "duration": 624,
    "start_time": "2023-09-22T12:42:32.728Z"
   },
   {
    "duration": 160,
    "start_time": "2023-09-22T12:42:47.251Z"
   },
   {
    "duration": 165,
    "start_time": "2023-09-22T12:42:51.415Z"
   },
   {
    "duration": 167,
    "start_time": "2023-09-22T12:43:24.675Z"
   },
   {
    "duration": 229,
    "start_time": "2023-09-22T12:43:33.021Z"
   },
   {
    "duration": 249,
    "start_time": "2023-09-22T12:49:24.678Z"
   },
   {
    "duration": 1380,
    "start_time": "2023-09-22T12:49:32.842Z"
   },
   {
    "duration": 261,
    "start_time": "2023-09-22T12:49:41.607Z"
   },
   {
    "duration": 154,
    "start_time": "2023-09-22T12:50:47.842Z"
   },
   {
    "duration": 288,
    "start_time": "2023-09-22T12:51:57.133Z"
   },
   {
    "duration": 66,
    "start_time": "2023-09-22T12:53:18.421Z"
   },
   {
    "duration": 37,
    "start_time": "2023-09-22T12:53:35.847Z"
   },
   {
    "duration": 6,
    "start_time": "2023-09-22T12:56:43.897Z"
   },
   {
    "duration": 19,
    "start_time": "2023-09-22T12:57:13.748Z"
   },
   {
    "duration": 11,
    "start_time": "2023-09-22T12:57:44.395Z"
   },
   {
    "duration": 6,
    "start_time": "2023-09-22T12:58:02.774Z"
   },
   {
    "duration": 8,
    "start_time": "2023-09-22T12:59:54.135Z"
   },
   {
    "duration": 17,
    "start_time": "2023-09-22T13:00:30.181Z"
   },
   {
    "duration": 125,
    "start_time": "2023-09-22T13:00:48.491Z"
   },
   {
    "duration": 6,
    "start_time": "2023-09-22T13:01:10.250Z"
   },
   {
    "duration": 6,
    "start_time": "2023-09-22T13:01:41.461Z"
   },
   {
    "duration": 5,
    "start_time": "2023-09-22T13:02:13.006Z"
   },
   {
    "duration": 7,
    "start_time": "2023-09-22T13:02:20.808Z"
   },
   {
    "duration": 6,
    "start_time": "2023-09-22T13:03:05.321Z"
   },
   {
    "duration": 32,
    "start_time": "2023-09-22T13:07:12.231Z"
   },
   {
    "duration": 8,
    "start_time": "2023-09-22T13:11:27.831Z"
   },
   {
    "duration": 5,
    "start_time": "2023-09-22T13:12:14.757Z"
   },
   {
    "duration": 8,
    "start_time": "2023-09-22T13:12:41.073Z"
   },
   {
    "duration": 22,
    "start_time": "2023-09-22T13:18:22.262Z"
   },
   {
    "duration": 100,
    "start_time": "2023-09-22T13:18:35.470Z"
   },
   {
    "duration": 128,
    "start_time": "2023-09-22T13:20:44.922Z"
   },
   {
    "duration": 377,
    "start_time": "2023-09-22T13:44:40.079Z"
   },
   {
    "duration": 910,
    "start_time": "2023-09-22T13:44:40.458Z"
   },
   {
    "duration": 394,
    "start_time": "2023-09-22T13:44:41.370Z"
   },
   {
    "duration": 127,
    "start_time": "2023-09-22T13:44:41.765Z"
   },
   {
    "duration": 94,
    "start_time": "2023-09-22T13:44:41.895Z"
   },
   {
    "duration": 211,
    "start_time": "2023-09-22T13:44:41.991Z"
   },
   {
    "duration": 585,
    "start_time": "2023-09-22T13:44:42.204Z"
   },
   {
    "duration": 89,
    "start_time": "2023-09-22T13:44:42.791Z"
   },
   {
    "duration": 6,
    "start_time": "2023-09-22T13:44:42.881Z"
   },
   {
    "duration": 10,
    "start_time": "2023-09-22T13:44:42.888Z"
   },
   {
    "duration": 31,
    "start_time": "2023-09-22T13:44:42.900Z"
   },
   {
    "duration": 48,
    "start_time": "2023-09-22T13:44:42.932Z"
   },
   {
    "duration": 11,
    "start_time": "2023-09-22T13:44:42.982Z"
   },
   {
    "duration": 14,
    "start_time": "2023-09-22T13:44:42.995Z"
   },
   {
    "duration": 15,
    "start_time": "2023-09-22T13:44:43.011Z"
   },
   {
    "duration": 136,
    "start_time": "2023-09-22T13:44:43.028Z"
   },
   {
    "duration": 122,
    "start_time": "2023-09-22T13:48:41.322Z"
   },
   {
    "duration": 293,
    "start_time": "2023-09-22T13:49:47.280Z"
   },
   {
    "duration": 295,
    "start_time": "2023-09-22T13:49:51.990Z"
   },
   {
    "duration": 306,
    "start_time": "2023-09-22T13:50:10.096Z"
   },
   {
    "duration": 88,
    "start_time": "2023-09-22T13:50:25.596Z"
   },
   {
    "duration": 427,
    "start_time": "2023-09-22T13:51:27.794Z"
   },
   {
    "duration": 962,
    "start_time": "2023-09-22T13:51:28.223Z"
   },
   {
    "duration": 429,
    "start_time": "2023-09-22T13:51:29.187Z"
   },
   {
    "duration": 152,
    "start_time": "2023-09-22T13:51:29.618Z"
   },
   {
    "duration": 116,
    "start_time": "2023-09-22T13:51:29.772Z"
   },
   {
    "duration": 229,
    "start_time": "2023-09-22T13:51:29.890Z"
   },
   {
    "duration": 651,
    "start_time": "2023-09-22T13:51:30.121Z"
   },
   {
    "duration": 92,
    "start_time": "2023-09-22T13:51:30.774Z"
   },
   {
    "duration": 13,
    "start_time": "2023-09-22T13:51:30.868Z"
   },
   {
    "duration": 45,
    "start_time": "2023-09-22T13:51:30.884Z"
   },
   {
    "duration": 57,
    "start_time": "2023-09-22T13:51:30.930Z"
   },
   {
    "duration": 104,
    "start_time": "2023-09-22T13:51:30.989Z"
   },
   {
    "duration": 18,
    "start_time": "2023-09-22T13:51:31.095Z"
   },
   {
    "duration": 68,
    "start_time": "2023-09-22T13:51:31.115Z"
   },
   {
    "duration": 61,
    "start_time": "2023-09-22T13:51:31.185Z"
   },
   {
    "duration": 186,
    "start_time": "2023-09-22T13:51:31.248Z"
   },
   {
    "duration": 163,
    "start_time": "2023-09-22T13:51:31.436Z"
   },
   {
    "duration": 297,
    "start_time": "2023-09-22T13:51:31.601Z"
   },
   {
    "duration": 91,
    "start_time": "2023-09-22T13:51:31.900Z"
   },
   {
    "duration": 389,
    "start_time": "2023-09-25T11:52:59.259Z"
   },
   {
    "duration": 2899,
    "start_time": "2023-09-25T11:52:59.650Z"
   },
   {
    "duration": 360,
    "start_time": "2023-09-25T11:53:02.550Z"
   },
   {
    "duration": 112,
    "start_time": "2023-09-25T11:53:02.912Z"
   },
   {
    "duration": 96,
    "start_time": "2023-09-25T11:53:03.026Z"
   },
   {
    "duration": 183,
    "start_time": "2023-09-25T11:53:03.123Z"
   },
   {
    "duration": 689,
    "start_time": "2023-09-25T11:53:03.308Z"
   },
   {
    "duration": 110,
    "start_time": "2023-09-25T11:53:03.999Z"
   },
   {
    "duration": 7,
    "start_time": "2023-09-25T11:53:04.111Z"
   },
   {
    "duration": 22,
    "start_time": "2023-09-25T11:53:04.122Z"
   },
   {
    "duration": 6,
    "start_time": "2023-09-25T11:53:04.146Z"
   },
   {
    "duration": 35,
    "start_time": "2023-09-25T11:53:04.154Z"
   },
   {
    "duration": 11,
    "start_time": "2023-09-25T11:53:04.191Z"
   },
   {
    "duration": 5,
    "start_time": "2023-09-25T11:53:04.204Z"
   },
   {
    "duration": 41,
    "start_time": "2023-09-25T11:53:04.210Z"
   },
   {
    "duration": 119,
    "start_time": "2023-09-25T11:53:04.253Z"
   },
   {
    "duration": 119,
    "start_time": "2023-09-25T11:53:04.374Z"
   },
   {
    "duration": 268,
    "start_time": "2023-09-25T11:53:04.494Z"
   },
   {
    "duration": 67,
    "start_time": "2023-09-25T11:53:04.764Z"
   },
   {
    "duration": 472,
    "start_time": "2023-09-25T12:04:44.379Z"
   },
   {
    "duration": 702,
    "start_time": "2023-09-25T12:11:32.070Z"
   },
   {
    "duration": 537,
    "start_time": "2023-09-25T12:13:09.962Z"
   },
   {
    "duration": 160,
    "start_time": "2023-09-25T12:20:21.560Z"
   },
   {
    "duration": 16,
    "start_time": "2023-09-25T12:20:58.959Z"
   },
   {
    "duration": 229,
    "start_time": "2023-09-25T12:22:42.666Z"
   },
   {
    "duration": 94,
    "start_time": "2023-09-25T12:23:52.188Z"
   },
   {
    "duration": 13,
    "start_time": "2023-09-25T12:24:04.080Z"
   },
   {
    "duration": 1036,
    "start_time": "2023-09-25T12:24:12.387Z"
   },
   {
    "duration": 923,
    "start_time": "2023-09-25T12:24:13.425Z"
   },
   {
    "duration": 373,
    "start_time": "2023-09-25T12:24:14.350Z"
   },
   {
    "duration": 126,
    "start_time": "2023-09-25T12:24:14.724Z"
   },
   {
    "duration": 101,
    "start_time": "2023-09-25T12:24:14.852Z"
   },
   {
    "duration": 198,
    "start_time": "2023-09-25T12:24:14.954Z"
   },
   {
    "duration": 551,
    "start_time": "2023-09-25T12:24:15.154Z"
   },
   {
    "duration": 82,
    "start_time": "2023-09-25T12:24:15.707Z"
   },
   {
    "duration": 7,
    "start_time": "2023-09-25T12:24:15.791Z"
   },
   {
    "duration": 4,
    "start_time": "2023-09-25T12:24:15.800Z"
   },
   {
    "duration": 5,
    "start_time": "2023-09-25T12:24:15.806Z"
   },
   {
    "duration": 49,
    "start_time": "2023-09-25T12:24:15.812Z"
   },
   {
    "duration": 7,
    "start_time": "2023-09-25T12:24:15.863Z"
   },
   {
    "duration": 4,
    "start_time": "2023-09-25T12:24:15.872Z"
   },
   {
    "duration": 9,
    "start_time": "2023-09-25T12:24:15.878Z"
   },
   {
    "duration": 128,
    "start_time": "2023-09-25T12:24:15.888Z"
   },
   {
    "duration": 130,
    "start_time": "2023-09-25T12:24:16.018Z"
   },
   {
    "duration": 279,
    "start_time": "2023-09-25T12:24:16.150Z"
   },
   {
    "duration": 74,
    "start_time": "2023-09-25T12:24:16.430Z"
   },
   {
    "duration": 490,
    "start_time": "2023-09-25T12:24:16.506Z"
   },
   {
    "duration": 525,
    "start_time": "2023-09-25T12:24:16.998Z"
   },
   {
    "duration": 168,
    "start_time": "2023-09-25T12:24:17.525Z"
   },
   {
    "duration": 241,
    "start_time": "2023-09-25T12:24:17.695Z"
   },
   {
    "duration": 98,
    "start_time": "2023-09-25T12:24:17.938Z"
   },
   {
    "duration": 9,
    "start_time": "2023-09-25T12:24:54.910Z"
   },
   {
    "duration": 34,
    "start_time": "2023-09-25T12:27:13.370Z"
   },
   {
    "duration": 3,
    "start_time": "2023-09-25T12:28:44.594Z"
   },
   {
    "duration": 2167,
    "start_time": "2023-09-25T12:36:47.720Z"
   },
   {
    "duration": 1445,
    "start_time": "2023-09-25T12:37:28.319Z"
   },
   {
    "duration": 1484,
    "start_time": "2023-09-25T12:39:52.617Z"
   },
   {
    "duration": 61,
    "start_time": "2023-09-25T12:40:26.627Z"
   },
   {
    "duration": 58,
    "start_time": "2023-09-25T12:48:25.598Z"
   },
   {
    "duration": 3,
    "start_time": "2023-09-25T12:50:31.560Z"
   },
   {
    "duration": 3,
    "start_time": "2023-09-25T13:03:56.028Z"
   },
   {
    "duration": 63,
    "start_time": "2023-09-25T13:29:09.649Z"
   },
   {
    "duration": 1254,
    "start_time": "2023-09-25T13:34:47.949Z"
   },
   {
    "duration": 868,
    "start_time": "2023-09-25T13:34:49.205Z"
   },
   {
    "duration": 400,
    "start_time": "2023-09-25T13:34:50.074Z"
   },
   {
    "duration": 131,
    "start_time": "2023-09-25T13:34:50.476Z"
   },
   {
    "duration": 118,
    "start_time": "2023-09-25T13:34:50.610Z"
   },
   {
    "duration": 196,
    "start_time": "2023-09-25T13:34:50.730Z"
   },
   {
    "duration": 497,
    "start_time": "2023-09-25T13:34:50.928Z"
   },
   {
    "duration": 78,
    "start_time": "2023-09-25T13:34:51.427Z"
   },
   {
    "duration": 6,
    "start_time": "2023-09-25T13:34:51.507Z"
   },
   {
    "duration": 16,
    "start_time": "2023-09-25T13:34:51.514Z"
   },
   {
    "duration": 20,
    "start_time": "2023-09-25T13:34:51.532Z"
   },
   {
    "duration": 33,
    "start_time": "2023-09-25T13:34:51.554Z"
   },
   {
    "duration": 8,
    "start_time": "2023-09-25T13:34:51.589Z"
   },
   {
    "duration": 17,
    "start_time": "2023-09-25T13:34:51.600Z"
   },
   {
    "duration": 33,
    "start_time": "2023-09-25T13:34:51.618Z"
   },
   {
    "duration": 131,
    "start_time": "2023-09-25T13:34:51.652Z"
   },
   {
    "duration": 139,
    "start_time": "2023-09-25T13:34:51.785Z"
   },
   {
    "duration": 291,
    "start_time": "2023-09-25T13:34:51.925Z"
   },
   {
    "duration": 91,
    "start_time": "2023-09-25T13:34:52.218Z"
   },
   {
    "duration": 536,
    "start_time": "2023-09-25T13:34:52.311Z"
   },
   {
    "duration": 551,
    "start_time": "2023-09-25T13:34:52.849Z"
   },
   {
    "duration": 165,
    "start_time": "2023-09-25T13:34:53.402Z"
   },
   {
    "duration": 236,
    "start_time": "2023-09-25T13:34:53.569Z"
   },
   {
    "duration": 14,
    "start_time": "2023-09-25T13:34:53.807Z"
   },
   {
    "duration": 56,
    "start_time": "2023-09-25T13:34:53.823Z"
   },
   {
    "duration": 2329,
    "start_time": "2023-09-25T13:34:53.881Z"
   },
   {
    "duration": 69,
    "start_time": "2023-09-25T13:34:56.212Z"
   },
   {
    "duration": 356065,
    "start_time": "2023-09-25T13:34:56.282Z"
   },
   {
    "duration": 17280,
    "start_time": "2023-09-25T13:46:23.473Z"
   },
   {
    "duration": 108,
    "start_time": "2023-09-25T13:48:51.553Z"
   },
   {
    "duration": 1266,
    "start_time": "2023-09-25T14:02:22.164Z"
   },
   {
    "duration": 982,
    "start_time": "2023-09-25T14:02:23.433Z"
   },
   {
    "duration": 393,
    "start_time": "2023-09-25T14:02:24.417Z"
   },
   {
    "duration": 126,
    "start_time": "2023-09-25T14:02:24.811Z"
   },
   {
    "duration": 112,
    "start_time": "2023-09-25T14:02:24.939Z"
   },
   {
    "duration": 206,
    "start_time": "2023-09-25T14:02:25.053Z"
   },
   {
    "duration": 507,
    "start_time": "2023-09-25T14:02:25.261Z"
   },
   {
    "duration": 92,
    "start_time": "2023-09-25T14:02:25.770Z"
   },
   {
    "duration": 8,
    "start_time": "2023-09-25T14:02:25.864Z"
   },
   {
    "duration": 6,
    "start_time": "2023-09-25T14:02:25.874Z"
   },
   {
    "duration": 7,
    "start_time": "2023-09-25T14:02:25.882Z"
   },
   {
    "duration": 41,
    "start_time": "2023-09-25T14:02:25.891Z"
   },
   {
    "duration": 17,
    "start_time": "2023-09-25T14:02:25.944Z"
   },
   {
    "duration": 5,
    "start_time": "2023-09-25T14:02:25.964Z"
   },
   {
    "duration": 8,
    "start_time": "2023-09-25T14:02:25.970Z"
   },
   {
    "duration": 125,
    "start_time": "2023-09-25T14:02:25.979Z"
   },
   {
    "duration": 147,
    "start_time": "2023-09-25T14:02:26.105Z"
   },
   {
    "duration": 307,
    "start_time": "2023-09-25T14:02:26.253Z"
   },
   {
    "duration": 69,
    "start_time": "2023-09-25T14:02:26.562Z"
   },
   {
    "duration": 529,
    "start_time": "2023-09-25T14:02:26.633Z"
   },
   {
    "duration": 562,
    "start_time": "2023-09-25T14:02:27.164Z"
   },
   {
    "duration": 170,
    "start_time": "2023-09-25T14:02:27.728Z"
   },
   {
    "duration": 251,
    "start_time": "2023-09-25T14:02:27.900Z"
   },
   {
    "duration": 18,
    "start_time": "2023-09-25T14:02:28.162Z"
   },
   {
    "duration": 71,
    "start_time": "2023-09-25T14:02:28.182Z"
   },
   {
    "duration": 2256,
    "start_time": "2023-09-25T14:02:28.258Z"
   },
   {
    "duration": 74,
    "start_time": "2023-09-25T14:02:30.516Z"
   },
   {
    "duration": 398568,
    "start_time": "2023-09-25T14:02:30.591Z"
   },
   {
    "duration": 20482,
    "start_time": "2023-09-25T14:09:09.161Z"
   },
   {
    "duration": 190,
    "start_time": "2023-09-25T14:09:29.646Z"
   },
   {
    "duration": 79,
    "start_time": "2023-09-25T14:12:13.167Z"
   },
   {
    "duration": 1241,
    "start_time": "2023-09-25T14:19:42.726Z"
   },
   {
    "duration": 952,
    "start_time": "2023-09-25T14:19:43.969Z"
   },
   {
    "duration": 405,
    "start_time": "2023-09-25T14:19:44.923Z"
   },
   {
    "duration": 125,
    "start_time": "2023-09-25T14:19:45.329Z"
   },
   {
    "duration": 94,
    "start_time": "2023-09-25T14:19:45.456Z"
   },
   {
    "duration": 193,
    "start_time": "2023-09-25T14:19:45.552Z"
   },
   {
    "duration": 490,
    "start_time": "2023-09-25T14:19:45.746Z"
   },
   {
    "duration": 83,
    "start_time": "2023-09-25T14:19:46.237Z"
   },
   {
    "duration": 7,
    "start_time": "2023-09-25T14:19:46.322Z"
   },
   {
    "duration": 7,
    "start_time": "2023-09-25T14:19:46.344Z"
   },
   {
    "duration": 7,
    "start_time": "2023-09-25T14:19:46.353Z"
   },
   {
    "duration": 31,
    "start_time": "2023-09-25T14:19:46.361Z"
   },
   {
    "duration": 9,
    "start_time": "2023-09-25T14:19:46.394Z"
   },
   {
    "duration": 6,
    "start_time": "2023-09-25T14:19:46.444Z"
   },
   {
    "duration": 9,
    "start_time": "2023-09-25T14:19:46.451Z"
   },
   {
    "duration": 118,
    "start_time": "2023-09-25T14:19:46.462Z"
   },
   {
    "duration": 139,
    "start_time": "2023-09-25T14:19:46.582Z"
   },
   {
    "duration": 272,
    "start_time": "2023-09-25T14:19:46.723Z"
   },
   {
    "duration": 79,
    "start_time": "2023-09-25T14:19:46.996Z"
   },
   {
    "duration": 494,
    "start_time": "2023-09-25T14:19:47.077Z"
   },
   {
    "duration": 564,
    "start_time": "2023-09-25T14:19:47.573Z"
   },
   {
    "duration": 167,
    "start_time": "2023-09-25T14:19:48.139Z"
   },
   {
    "duration": 253,
    "start_time": "2023-09-25T14:19:48.307Z"
   },
   {
    "duration": 9,
    "start_time": "2023-09-25T14:19:48.562Z"
   },
   {
    "duration": 43,
    "start_time": "2023-09-25T14:19:48.572Z"
   },
   {
    "duration": 2233,
    "start_time": "2023-09-25T14:19:48.617Z"
   },
   {
    "duration": 61,
    "start_time": "2023-09-25T14:19:50.852Z"
   },
   {
    "duration": 1243,
    "start_time": "2023-09-25T14:29:51.620Z"
   },
   {
    "duration": 912,
    "start_time": "2023-09-25T14:29:52.865Z"
   },
   {
    "duration": 463,
    "start_time": "2023-09-25T14:29:53.779Z"
   },
   {
    "duration": 157,
    "start_time": "2023-09-25T14:29:54.245Z"
   },
   {
    "duration": 93,
    "start_time": "2023-09-25T14:29:54.404Z"
   },
   {
    "duration": 205,
    "start_time": "2023-09-25T14:29:54.498Z"
   },
   {
    "duration": 527,
    "start_time": "2023-09-25T14:29:54.705Z"
   },
   {
    "duration": 80,
    "start_time": "2023-09-25T14:29:55.234Z"
   },
   {
    "duration": 5,
    "start_time": "2023-09-25T14:29:55.316Z"
   },
   {
    "duration": 22,
    "start_time": "2023-09-25T14:29:55.323Z"
   },
   {
    "duration": 6,
    "start_time": "2023-09-25T14:29:55.346Z"
   },
   {
    "duration": 42,
    "start_time": "2023-09-25T14:29:55.354Z"
   },
   {
    "duration": 7,
    "start_time": "2023-09-25T14:29:55.398Z"
   },
   {
    "duration": 4,
    "start_time": "2023-09-25T14:29:55.408Z"
   },
   {
    "duration": 8,
    "start_time": "2023-09-25T14:29:55.413Z"
   },
   {
    "duration": 137,
    "start_time": "2023-09-25T14:29:55.422Z"
   },
   {
    "duration": 139,
    "start_time": "2023-09-25T14:29:55.561Z"
   },
   {
    "duration": 293,
    "start_time": "2023-09-25T14:29:55.702Z"
   },
   {
    "duration": 83,
    "start_time": "2023-09-25T14:29:55.996Z"
   },
   {
    "duration": 526,
    "start_time": "2023-09-25T14:29:56.080Z"
   },
   {
    "duration": 599,
    "start_time": "2023-09-25T14:29:56.607Z"
   },
   {
    "duration": 178,
    "start_time": "2023-09-25T14:29:57.207Z"
   },
   {
    "duration": 254,
    "start_time": "2023-09-25T14:29:57.386Z"
   },
   {
    "duration": 11,
    "start_time": "2023-09-25T14:29:57.644Z"
   },
   {
    "duration": 37,
    "start_time": "2023-09-25T14:29:57.656Z"
   },
   {
    "duration": 2310,
    "start_time": "2023-09-25T14:29:57.695Z"
   },
   {
    "duration": 73,
    "start_time": "2023-09-25T14:30:00.007Z"
   },
   {
    "duration": 468871,
    "start_time": "2023-09-25T14:30:00.082Z"
   },
   {
    "duration": 167,
    "start_time": "2023-09-25T14:37:48.955Z"
   },
   {
    "duration": 0,
    "start_time": "2023-09-25T14:37:49.123Z"
   },
   {
    "duration": 1451,
    "start_time": "2023-09-25T16:37:26.802Z"
   },
   {
    "duration": 1339,
    "start_time": "2023-09-25T16:37:35.058Z"
   },
   {
    "duration": 1262,
    "start_time": "2023-09-25T16:37:36.399Z"
   },
   {
    "duration": 410,
    "start_time": "2023-09-25T16:37:37.663Z"
   },
   {
    "duration": 143,
    "start_time": "2023-09-25T16:37:38.075Z"
   },
   {
    "duration": 133,
    "start_time": "2023-09-25T16:37:38.222Z"
   },
   {
    "duration": 213,
    "start_time": "2023-09-25T16:37:38.357Z"
   },
   {
    "duration": 794,
    "start_time": "2023-09-25T16:37:38.572Z"
   },
   {
    "duration": 95,
    "start_time": "2023-09-25T16:37:39.368Z"
   },
   {
    "duration": 6,
    "start_time": "2023-09-25T16:37:39.465Z"
   },
   {
    "duration": 9,
    "start_time": "2023-09-25T16:37:39.473Z"
   },
   {
    "duration": 6,
    "start_time": "2023-09-25T16:37:39.484Z"
   },
   {
    "duration": 56,
    "start_time": "2023-09-25T16:37:39.491Z"
   },
   {
    "duration": 10,
    "start_time": "2023-09-25T16:37:39.549Z"
   },
   {
    "duration": 5,
    "start_time": "2023-09-25T16:37:39.562Z"
   },
   {
    "duration": 13,
    "start_time": "2023-09-25T16:37:39.568Z"
   },
   {
    "duration": 141,
    "start_time": "2023-09-25T16:37:39.583Z"
   },
   {
    "duration": 158,
    "start_time": "2023-09-25T16:37:39.726Z"
   },
   {
    "duration": 320,
    "start_time": "2023-09-25T16:37:39.886Z"
   },
   {
    "duration": 87,
    "start_time": "2023-09-25T16:37:40.208Z"
   },
   {
    "duration": 584,
    "start_time": "2023-09-25T16:37:40.296Z"
   },
   {
    "duration": 636,
    "start_time": "2023-09-25T16:37:40.882Z"
   },
   {
    "duration": 174,
    "start_time": "2023-09-25T16:37:41.520Z"
   },
   {
    "duration": 261,
    "start_time": "2023-09-25T16:37:41.696Z"
   },
   {
    "duration": 14,
    "start_time": "2023-09-25T16:37:41.959Z"
   },
   {
    "duration": 64,
    "start_time": "2023-09-25T16:37:41.975Z"
   },
   {
    "duration": 2329,
    "start_time": "2023-09-25T16:37:42.040Z"
   },
   {
    "duration": 67,
    "start_time": "2023-09-25T16:37:44.371Z"
   },
   {
    "duration": 2060308,
    "start_time": "2023-09-25T16:37:44.446Z"
   },
   {
    "duration": 40596,
    "start_time": "2023-09-25T17:12:04.756Z"
   },
   {
    "duration": 1300550,
    "start_time": "2023-09-25T17:12:45.355Z"
   },
   {
    "duration": 29342,
    "start_time": "2023-09-25T17:51:12.512Z"
   },
   {
    "duration": 4,
    "start_time": "2023-09-25T17:56:03.406Z"
   },
   {
    "duration": 4,
    "start_time": "2023-09-25T17:56:41.370Z"
   },
   {
    "duration": 4,
    "start_time": "2023-09-25T17:57:09.767Z"
   },
   {
    "duration": 51,
    "start_time": "2023-09-25T17:57:50.861Z"
   },
   {
    "duration": 500,
    "start_time": "2023-09-25T18:00:58.973Z"
   },
   {
    "duration": 8,
    "start_time": "2023-09-25T18:01:09.669Z"
   },
   {
    "duration": 23090,
    "start_time": "2023-09-25T18:02:09.464Z"
   },
   {
    "duration": 109,
    "start_time": "2023-09-25T18:03:48.348Z"
   },
   {
    "duration": 51,
    "start_time": "2023-09-25T18:04:27.559Z"
   },
   {
    "duration": 91,
    "start_time": "2023-09-25T18:04:29.506Z"
   },
   {
    "duration": 9784,
    "start_time": "2023-09-25T18:05:22.083Z"
   },
   {
    "duration": 398,
    "start_time": "2023-09-25T18:05:35.664Z"
   },
   {
    "duration": 23945,
    "start_time": "2023-09-25T18:05:46.903Z"
   },
   {
    "duration": 69,
    "start_time": "2023-09-25T18:06:14.279Z"
   },
   {
    "duration": 25911,
    "start_time": "2023-09-25T18:08:36.671Z"
   },
   {
    "duration": 613,
    "start_time": "2023-09-25T18:09:29.659Z"
   },
   {
    "duration": 11,
    "start_time": "2023-09-25T18:19:27.361Z"
   },
   {
    "duration": 961,
    "start_time": "2023-09-25T18:51:53.399Z"
   },
   {
    "duration": 838,
    "start_time": "2023-09-25T18:51:54.362Z"
   },
   {
    "duration": 363,
    "start_time": "2023-09-25T18:51:55.202Z"
   },
   {
    "duration": 118,
    "start_time": "2023-09-25T18:51:55.566Z"
   },
   {
    "duration": 91,
    "start_time": "2023-09-25T18:51:55.686Z"
   },
   {
    "duration": 231,
    "start_time": "2023-09-25T18:51:55.779Z"
   },
   {
    "duration": 520,
    "start_time": "2023-09-25T18:51:56.012Z"
   },
   {
    "duration": 82,
    "start_time": "2023-09-25T18:51:56.534Z"
   },
   {
    "duration": 6,
    "start_time": "2023-09-25T18:51:56.617Z"
   },
   {
    "duration": 24,
    "start_time": "2023-09-25T18:51:56.624Z"
   },
   {
    "duration": 12,
    "start_time": "2023-09-25T18:51:56.651Z"
   },
   {
    "duration": 28,
    "start_time": "2023-09-25T18:51:56.665Z"
   },
   {
    "duration": 9,
    "start_time": "2023-09-25T18:51:56.695Z"
   },
   {
    "duration": 5,
    "start_time": "2023-09-25T18:51:56.707Z"
   },
   {
    "duration": 20,
    "start_time": "2023-09-25T18:51:56.714Z"
   },
   {
    "duration": 112,
    "start_time": "2023-09-25T18:51:56.735Z"
   },
   {
    "duration": 129,
    "start_time": "2023-09-25T18:51:56.848Z"
   },
   {
    "duration": 267,
    "start_time": "2023-09-25T18:51:56.978Z"
   },
   {
    "duration": 78,
    "start_time": "2023-09-25T18:51:57.246Z"
   },
   {
    "duration": 508,
    "start_time": "2023-09-25T18:51:57.326Z"
   },
   {
    "duration": 525,
    "start_time": "2023-09-25T18:51:57.836Z"
   },
   {
    "duration": 159,
    "start_time": "2023-09-25T18:51:58.363Z"
   },
   {
    "duration": 241,
    "start_time": "2023-09-25T18:51:58.524Z"
   },
   {
    "duration": 13,
    "start_time": "2023-09-25T18:51:58.766Z"
   },
   {
    "duration": 47,
    "start_time": "2023-09-25T18:51:58.780Z"
   },
   {
    "duration": 1734,
    "start_time": "2023-09-25T18:51:58.829Z"
   },
   {
    "duration": 53,
    "start_time": "2023-09-25T18:52:00.565Z"
   },
   {
    "duration": 1437,
    "start_time": "2023-09-26T12:02:37.823Z"
   },
   {
    "duration": 1676,
    "start_time": "2023-09-26T12:02:53.858Z"
   },
   {
    "duration": 565,
    "start_time": "2023-09-26T12:03:00.872Z"
   },
   {
    "duration": 54,
    "start_time": "2023-09-26T12:04:30.520Z"
   },
   {
    "duration": 167,
    "start_time": "2023-09-26T12:04:47.928Z"
   },
   {
    "duration": 173,
    "start_time": "2023-09-26T12:04:53.006Z"
   },
   {
    "duration": 398,
    "start_time": "2023-09-26T12:04:57.970Z"
   },
   {
    "duration": 817,
    "start_time": "2023-09-26T12:05:04.690Z"
   },
   {
    "duration": 488,
    "start_time": "2023-09-26T12:07:11.606Z"
   },
   {
    "duration": 448,
    "start_time": "2023-09-26T12:10:33.559Z"
   },
   {
    "duration": 86,
    "start_time": "2023-09-26T12:11:21.733Z"
   },
   {
    "duration": 6,
    "start_time": "2023-09-26T12:11:47.056Z"
   },
   {
    "duration": 4,
    "start_time": "2023-09-26T12:11:59.013Z"
   },
   {
    "duration": 53,
    "start_time": "2023-09-26T12:12:23.316Z"
   },
   {
    "duration": 6,
    "start_time": "2023-09-26T12:13:19.520Z"
   },
   {
    "duration": 9,
    "start_time": "2023-09-26T12:13:44.099Z"
   },
   {
    "duration": 5,
    "start_time": "2023-09-26T12:13:59.131Z"
   },
   {
    "duration": 41,
    "start_time": "2023-09-26T12:16:26.152Z"
   },
   {
    "duration": 12,
    "start_time": "2023-09-26T12:16:32.442Z"
   },
   {
    "duration": 8,
    "start_time": "2023-09-26T12:17:10.522Z"
   },
   {
    "duration": 145,
    "start_time": "2023-09-26T12:17:33.688Z"
   },
   {
    "duration": 133,
    "start_time": "2023-09-26T12:18:41.559Z"
   },
   {
    "duration": 307,
    "start_time": "2023-09-26T12:18:44.598Z"
   },
   {
    "duration": 83,
    "start_time": "2023-09-26T12:18:46.318Z"
   },
   {
    "duration": 13,
    "start_time": "2023-09-26T12:28:52.723Z"
   },
   {
    "duration": 69,
    "start_time": "2023-09-26T12:30:24.812Z"
   },
   {
    "duration": 4,
    "start_time": "2023-09-26T12:31:33.571Z"
   },
   {
    "duration": 3,
    "start_time": "2023-09-26T12:36:49.928Z"
   },
   {
    "duration": 15,
    "start_time": "2023-09-26T12:41:32.382Z"
   },
   {
    "duration": 11,
    "start_time": "2023-09-26T12:56:21.353Z"
   },
   {
    "duration": 12,
    "start_time": "2023-09-26T12:56:26.067Z"
   },
   {
    "duration": 21,
    "start_time": "2023-09-26T12:56:26.748Z"
   },
   {
    "duration": 14,
    "start_time": "2023-09-26T12:57:06.765Z"
   },
   {
    "duration": 12,
    "start_time": "2023-09-26T12:57:07.636Z"
   },
   {
    "duration": 17,
    "start_time": "2023-09-26T12:57:08.742Z"
   },
   {
    "duration": 7337,
    "start_time": "2023-09-26T12:58:39.482Z"
   },
   {
    "duration": 29,
    "start_time": "2023-09-26T12:58:52.282Z"
   },
   {
    "duration": 3359,
    "start_time": "2023-09-26T12:59:26.442Z"
   },
   {
    "duration": 948,
    "start_time": "2023-09-26T12:59:29.803Z"
   },
   {
    "duration": 427,
    "start_time": "2023-09-26T12:59:30.759Z"
   },
   {
    "duration": 145,
    "start_time": "2023-09-26T12:59:31.188Z"
   },
   {
    "duration": 116,
    "start_time": "2023-09-26T12:59:31.335Z"
   },
   {
    "duration": 211,
    "start_time": "2023-09-26T12:59:31.453Z"
   },
   {
    "duration": 535,
    "start_time": "2023-09-26T12:59:31.666Z"
   },
   {
    "duration": 104,
    "start_time": "2023-09-26T12:59:32.204Z"
   },
   {
    "duration": 8,
    "start_time": "2023-09-26T12:59:32.310Z"
   },
   {
    "duration": 52,
    "start_time": "2023-09-26T12:59:32.322Z"
   },
   {
    "duration": 39,
    "start_time": "2023-09-26T12:59:32.376Z"
   },
   {
    "duration": 62,
    "start_time": "2023-09-26T12:59:32.417Z"
   },
   {
    "duration": 25,
    "start_time": "2023-09-26T12:59:32.484Z"
   },
   {
    "duration": 31,
    "start_time": "2023-09-26T12:59:32.511Z"
   },
   {
    "duration": 34,
    "start_time": "2023-09-26T12:59:32.544Z"
   },
   {
    "duration": 174,
    "start_time": "2023-09-26T12:59:32.580Z"
   },
   {
    "duration": 142,
    "start_time": "2023-09-26T12:59:32.762Z"
   },
   {
    "duration": 286,
    "start_time": "2023-09-26T12:59:32.905Z"
   },
   {
    "duration": 87,
    "start_time": "2023-09-26T12:59:33.192Z"
   },
   {
    "duration": 15,
    "start_time": "2023-09-26T12:59:33.281Z"
   },
   {
    "duration": 96,
    "start_time": "2023-09-26T12:59:33.298Z"
   },
   {
    "duration": 14,
    "start_time": "2023-09-26T12:59:33.396Z"
   },
   {
    "duration": 50,
    "start_time": "2023-09-26T12:59:33.413Z"
   },
   {
    "duration": 718,
    "start_time": "2023-09-26T12:59:33.465Z"
   },
   {
    "duration": 0,
    "start_time": "2023-09-26T12:59:34.185Z"
   },
   {
    "duration": 0,
    "start_time": "2023-09-26T12:59:34.186Z"
   },
   {
    "duration": 0,
    "start_time": "2023-09-26T12:59:34.187Z"
   },
   {
    "duration": 0,
    "start_time": "2023-09-26T12:59:34.188Z"
   },
   {
    "duration": 0,
    "start_time": "2023-09-26T12:59:34.189Z"
   },
   {
    "duration": 0,
    "start_time": "2023-09-26T12:59:34.190Z"
   },
   {
    "duration": 0,
    "start_time": "2023-09-26T12:59:34.191Z"
   },
   {
    "duration": 0,
    "start_time": "2023-09-26T12:59:34.193Z"
   },
   {
    "duration": 0,
    "start_time": "2023-09-26T12:59:34.194Z"
   },
   {
    "duration": 0,
    "start_time": "2023-09-26T12:59:34.195Z"
   },
   {
    "duration": 0,
    "start_time": "2023-09-26T12:59:34.196Z"
   },
   {
    "duration": 0,
    "start_time": "2023-09-26T12:59:34.198Z"
   },
   {
    "duration": 0,
    "start_time": "2023-09-26T12:59:34.198Z"
   },
   {
    "duration": 0,
    "start_time": "2023-09-26T12:59:34.200Z"
   },
   {
    "duration": 0,
    "start_time": "2023-09-26T12:59:34.201Z"
   },
   {
    "duration": 0,
    "start_time": "2023-09-26T12:59:34.202Z"
   },
   {
    "duration": 0,
    "start_time": "2023-09-26T12:59:34.203Z"
   },
   {
    "duration": 0,
    "start_time": "2023-09-26T12:59:34.205Z"
   },
   {
    "duration": 157,
    "start_time": "2023-09-26T13:03:21.512Z"
   },
   {
    "duration": 64121,
    "start_time": "2023-09-26T13:03:27.603Z"
   },
   {
    "duration": 3301,
    "start_time": "2023-09-26T13:05:02.921Z"
   },
   {
    "duration": 859,
    "start_time": "2023-09-26T13:05:06.224Z"
   },
   {
    "duration": 377,
    "start_time": "2023-09-26T13:05:07.086Z"
   },
   {
    "duration": 118,
    "start_time": "2023-09-26T13:05:07.465Z"
   },
   {
    "duration": 100,
    "start_time": "2023-09-26T13:05:07.585Z"
   },
   {
    "duration": 206,
    "start_time": "2023-09-26T13:05:07.686Z"
   },
   {
    "duration": 504,
    "start_time": "2023-09-26T13:05:07.894Z"
   },
   {
    "duration": 86,
    "start_time": "2023-09-26T13:05:08.400Z"
   },
   {
    "duration": 6,
    "start_time": "2023-09-26T13:05:08.488Z"
   },
   {
    "duration": 29,
    "start_time": "2023-09-26T13:05:08.496Z"
   },
   {
    "duration": 15,
    "start_time": "2023-09-26T13:05:08.527Z"
   },
   {
    "duration": 37,
    "start_time": "2023-09-26T13:05:08.543Z"
   },
   {
    "duration": 7,
    "start_time": "2023-09-26T13:05:08.582Z"
   },
   {
    "duration": 26,
    "start_time": "2023-09-26T13:05:08.591Z"
   },
   {
    "duration": 17,
    "start_time": "2023-09-26T13:05:08.619Z"
   },
   {
    "duration": 120,
    "start_time": "2023-09-26T13:05:08.638Z"
   },
   {
    "duration": 129,
    "start_time": "2023-09-26T13:05:08.760Z"
   },
   {
    "duration": 307,
    "start_time": "2023-09-26T13:05:08.891Z"
   },
   {
    "duration": 87,
    "start_time": "2023-09-26T13:05:09.201Z"
   },
   {
    "duration": 27,
    "start_time": "2023-09-26T13:05:09.289Z"
   },
   {
    "duration": 68,
    "start_time": "2023-09-26T13:05:09.318Z"
   },
   {
    "duration": 11,
    "start_time": "2023-09-26T13:05:09.388Z"
   },
   {
    "duration": 42,
    "start_time": "2023-09-26T13:05:09.401Z"
   },
   {
    "duration": 62848,
    "start_time": "2023-09-26T13:05:09.445Z"
   },
   {
    "duration": 2,
    "start_time": "2023-09-26T13:06:12.295Z"
   },
   {
    "duration": 524,
    "start_time": "2023-09-26T13:06:12.299Z"
   },
   {
    "duration": 3,
    "start_time": "2023-09-26T13:06:12.825Z"
   },
   {
    "duration": 82,
    "start_time": "2023-09-26T13:06:12.831Z"
   },
   {
    "duration": 0,
    "start_time": "2023-09-26T13:06:12.914Z"
   },
   {
    "duration": 0,
    "start_time": "2023-09-26T13:06:12.915Z"
   },
   {
    "duration": 0,
    "start_time": "2023-09-26T13:06:12.916Z"
   },
   {
    "duration": 0,
    "start_time": "2023-09-26T13:06:12.917Z"
   },
   {
    "duration": 0,
    "start_time": "2023-09-26T13:06:12.918Z"
   },
   {
    "duration": 0,
    "start_time": "2023-09-26T13:06:12.920Z"
   },
   {
    "duration": 0,
    "start_time": "2023-09-26T13:06:12.921Z"
   },
   {
    "duration": 1,
    "start_time": "2023-09-26T13:06:12.922Z"
   },
   {
    "duration": 0,
    "start_time": "2023-09-26T13:06:12.924Z"
   },
   {
    "duration": 0,
    "start_time": "2023-09-26T13:06:12.925Z"
   },
   {
    "duration": 0,
    "start_time": "2023-09-26T13:06:12.926Z"
   },
   {
    "duration": 0,
    "start_time": "2023-09-26T13:06:12.927Z"
   },
   {
    "duration": 0,
    "start_time": "2023-09-26T13:06:12.928Z"
   },
   {
    "duration": 0,
    "start_time": "2023-09-26T13:06:12.929Z"
   },
   {
    "duration": 9,
    "start_time": "2023-09-26T13:11:18.874Z"
   },
   {
    "duration": 153,
    "start_time": "2023-09-26T13:19:45.023Z"
   },
   {
    "duration": 2258,
    "start_time": "2023-09-26T13:20:28.149Z"
   },
   {
    "duration": 729,
    "start_time": "2023-09-26T13:20:38.701Z"
   },
   {
    "duration": 703,
    "start_time": "2023-09-26T13:22:58.696Z"
   },
   {
    "duration": 654,
    "start_time": "2023-09-26T13:23:31.416Z"
   },
   {
    "duration": 3131,
    "start_time": "2023-09-26T13:26:50.185Z"
   },
   {
    "duration": 899,
    "start_time": "2023-09-26T13:26:53.318Z"
   },
   {
    "duration": 418,
    "start_time": "2023-09-26T13:26:54.218Z"
   },
   {
    "duration": 124,
    "start_time": "2023-09-26T13:26:54.643Z"
   },
   {
    "duration": 92,
    "start_time": "2023-09-26T13:26:54.770Z"
   },
   {
    "duration": 180,
    "start_time": "2023-09-26T13:26:54.864Z"
   },
   {
    "duration": 496,
    "start_time": "2023-09-26T13:26:55.046Z"
   },
   {
    "duration": 76,
    "start_time": "2023-09-26T13:26:55.543Z"
   },
   {
    "duration": 5,
    "start_time": "2023-09-26T13:26:55.621Z"
   },
   {
    "duration": 20,
    "start_time": "2023-09-26T13:26:55.628Z"
   },
   {
    "duration": 18,
    "start_time": "2023-09-26T13:26:55.650Z"
   },
   {
    "duration": 34,
    "start_time": "2023-09-26T13:26:55.670Z"
   },
   {
    "duration": 8,
    "start_time": "2023-09-26T13:26:55.705Z"
   },
   {
    "duration": 10,
    "start_time": "2023-09-26T13:26:55.716Z"
   },
   {
    "duration": 16,
    "start_time": "2023-09-26T13:26:55.728Z"
   },
   {
    "duration": 108,
    "start_time": "2023-09-26T13:26:55.746Z"
   },
   {
    "duration": 123,
    "start_time": "2023-09-26T13:26:55.856Z"
   },
   {
    "duration": 267,
    "start_time": "2023-09-26T13:26:55.981Z"
   },
   {
    "duration": 70,
    "start_time": "2023-09-26T13:26:56.250Z"
   },
   {
    "duration": 25,
    "start_time": "2023-09-26T13:26:56.322Z"
   },
   {
    "duration": 61,
    "start_time": "2023-09-26T13:26:56.348Z"
   },
   {
    "duration": 10,
    "start_time": "2023-09-26T13:26:56.411Z"
   },
   {
    "duration": 101,
    "start_time": "2023-09-26T13:26:56.423Z"
   },
   {
    "duration": 62726,
    "start_time": "2023-09-26T13:26:56.526Z"
   },
   {
    "duration": 2,
    "start_time": "2023-09-26T13:27:59.255Z"
   },
   {
    "duration": 67,
    "start_time": "2023-09-26T13:27:59.259Z"
   },
   {
    "duration": 796,
    "start_time": "2023-09-26T13:27:59.328Z"
   },
   {
    "duration": 3,
    "start_time": "2023-09-26T13:28:00.125Z"
   },
   {
    "duration": 53,
    "start_time": "2023-09-26T13:28:00.129Z"
   },
   {
    "duration": 137,
    "start_time": "2023-09-26T13:28:00.183Z"
   },
   {
    "duration": 0,
    "start_time": "2023-09-26T13:28:00.322Z"
   },
   {
    "duration": 0,
    "start_time": "2023-09-26T13:28:00.323Z"
   },
   {
    "duration": 0,
    "start_time": "2023-09-26T13:28:00.324Z"
   },
   {
    "duration": 0,
    "start_time": "2023-09-26T13:28:00.325Z"
   },
   {
    "duration": 0,
    "start_time": "2023-09-26T13:28:00.326Z"
   },
   {
    "duration": 0,
    "start_time": "2023-09-26T13:28:00.327Z"
   },
   {
    "duration": 0,
    "start_time": "2023-09-26T13:28:00.328Z"
   },
   {
    "duration": 0,
    "start_time": "2023-09-26T13:28:00.329Z"
   },
   {
    "duration": 0,
    "start_time": "2023-09-26T13:28:00.330Z"
   },
   {
    "duration": 0,
    "start_time": "2023-09-26T13:28:00.343Z"
   },
   {
    "duration": 0,
    "start_time": "2023-09-26T13:28:00.345Z"
   },
   {
    "duration": 0,
    "start_time": "2023-09-26T13:28:00.346Z"
   },
   {
    "duration": 0,
    "start_time": "2023-09-26T13:28:00.347Z"
   },
   {
    "duration": 4,
    "start_time": "2023-09-26T13:33:26.836Z"
   },
   {
    "duration": 1492,
    "start_time": "2023-09-26T13:35:34.132Z"
   },
   {
    "duration": 41,
    "start_time": "2023-09-26T13:35:35.626Z"
   },
   {
    "duration": 869140,
    "start_time": "2023-09-26T13:35:44.106Z"
   },
   {
    "duration": 19098,
    "start_time": "2023-09-26T13:50:29.351Z"
   },
   {
    "duration": 1065995,
    "start_time": "2023-09-26T13:50:53.237Z"
   },
   {
    "duration": 2298,
    "start_time": "2023-09-26T14:08:42.155Z"
   },
   {
    "duration": 3291,
    "start_time": "2023-09-26T14:14:09.189Z"
   },
   {
    "duration": 900,
    "start_time": "2023-09-26T14:14:12.483Z"
   },
   {
    "duration": 398,
    "start_time": "2023-09-26T14:14:13.384Z"
   },
   {
    "duration": 144,
    "start_time": "2023-09-26T14:14:13.784Z"
   },
   {
    "duration": 102,
    "start_time": "2023-09-26T14:14:13.930Z"
   },
   {
    "duration": 248,
    "start_time": "2023-09-26T14:14:14.034Z"
   },
   {
    "duration": 578,
    "start_time": "2023-09-26T14:14:14.284Z"
   },
   {
    "duration": 87,
    "start_time": "2023-09-26T14:14:14.863Z"
   },
   {
    "duration": 9,
    "start_time": "2023-09-26T14:14:14.952Z"
   },
   {
    "duration": 20,
    "start_time": "2023-09-26T14:14:14.963Z"
   },
   {
    "duration": 39,
    "start_time": "2023-09-26T14:14:14.985Z"
   },
   {
    "duration": 87,
    "start_time": "2023-09-26T14:14:15.026Z"
   },
   {
    "duration": 11,
    "start_time": "2023-09-26T14:14:15.114Z"
   },
   {
    "duration": 43,
    "start_time": "2023-09-26T14:14:15.128Z"
   },
   {
    "duration": 28,
    "start_time": "2023-09-26T14:14:15.174Z"
   },
   {
    "duration": 110,
    "start_time": "2023-09-26T14:14:15.205Z"
   },
   {
    "duration": 122,
    "start_time": "2023-09-26T14:14:15.317Z"
   },
   {
    "duration": 271,
    "start_time": "2023-09-26T14:14:15.443Z"
   },
   {
    "duration": 73,
    "start_time": "2023-09-26T14:14:15.715Z"
   },
   {
    "duration": 47,
    "start_time": "2023-09-26T14:14:15.789Z"
   },
   {
    "duration": 71,
    "start_time": "2023-09-26T14:14:15.837Z"
   },
   {
    "duration": 11,
    "start_time": "2023-09-26T14:14:15.910Z"
   },
   {
    "duration": 43,
    "start_time": "2023-09-26T14:14:15.922Z"
   },
   {
    "duration": 64537,
    "start_time": "2023-09-26T14:14:15.967Z"
   },
   {
    "duration": 4,
    "start_time": "2023-09-26T14:15:20.506Z"
   },
   {
    "duration": 36,
    "start_time": "2023-09-26T14:15:20.512Z"
   },
   {
    "duration": 38,
    "start_time": "2023-09-26T14:15:20.550Z"
   },
   {
    "duration": 793,
    "start_time": "2023-09-26T14:15:20.590Z"
   },
   {
    "duration": 3,
    "start_time": "2023-09-26T14:15:21.384Z"
   },
   {
    "duration": 19,
    "start_time": "2023-09-26T14:15:21.388Z"
   },
   {
    "duration": 17,
    "start_time": "2023-09-26T14:15:21.409Z"
   },
   {
    "duration": 21,
    "start_time": "2023-09-26T14:15:21.427Z"
   },
   {
    "duration": 1497,
    "start_time": "2023-09-26T14:15:21.451Z"
   },
   {
    "duration": 46,
    "start_time": "2023-09-26T14:15:22.950Z"
   },
   {
    "duration": 1519363,
    "start_time": "2023-09-26T14:15:22.997Z"
   },
   {
    "duration": 19387,
    "start_time": "2023-09-26T14:40:42.362Z"
   },
   {
    "duration": 1044484,
    "start_time": "2023-09-26T14:41:01.751Z"
   },
   {
    "duration": 3216,
    "start_time": "2023-09-26T14:58:26.237Z"
   },
   {
    "duration": 401,
    "start_time": "2023-09-26T14:58:29.454Z"
   },
   {
    "duration": 20002,
    "start_time": "2023-09-26T14:58:29.857Z"
   },
   {
    "duration": 87,
    "start_time": "2023-09-26T14:58:49.863Z"
   },
   {
    "duration": 21969,
    "start_time": "2023-09-26T14:58:50.043Z"
   },
   {
    "duration": 484,
    "start_time": "2023-09-26T14:59:12.014Z"
   },
   {
    "duration": 11,
    "start_time": "2023-09-26T14:59:12.501Z"
   },
   {
    "duration": 17317,
    "start_time": "2023-09-26T15:51:56.838Z"
   },
   {
    "duration": 15664,
    "start_time": "2023-09-26T15:52:55.381Z"
   },
   {
    "duration": 40,
    "start_time": "2023-09-26T15:53:32.304Z"
   },
   {
    "duration": 88368,
    "start_time": "2023-09-26T15:54:55.983Z"
   },
   {
    "duration": 21767,
    "start_time": "2023-09-26T15:56:27.527Z"
   },
   {
    "duration": 485,
    "start_time": "2023-09-26T15:56:55.157Z"
   },
   {
    "duration": 88211,
    "start_time": "2023-09-26T15:58:02.206Z"
   },
   {
    "duration": 10,
    "start_time": "2023-09-26T16:01:00.304Z"
   },
   {
    "duration": 3925,
    "start_time": "2023-09-26T16:03:40.126Z"
   },
   {
    "duration": 11122,
    "start_time": "2023-10-10T11:04:40.641Z"
   },
   {
    "duration": 1150,
    "start_time": "2023-10-10T11:04:51.765Z"
   },
   {
    "duration": 384,
    "start_time": "2023-10-10T11:04:52.917Z"
   },
   {
    "duration": 166,
    "start_time": "2023-10-10T11:04:53.304Z"
   },
   {
    "duration": 202,
    "start_time": "2023-10-10T11:04:53.472Z"
   },
   {
    "duration": 222,
    "start_time": "2023-10-10T11:04:53.675Z"
   },
   {
    "duration": 499,
    "start_time": "2023-10-10T11:04:53.900Z"
   },
   {
    "duration": 84,
    "start_time": "2023-10-10T11:04:54.401Z"
   },
   {
    "duration": 8,
    "start_time": "2023-10-10T11:04:54.487Z"
   },
   {
    "duration": 67,
    "start_time": "2023-10-10T11:04:54.497Z"
   },
   {
    "duration": 53,
    "start_time": "2023-10-10T11:04:54.565Z"
   },
   {
    "duration": 90,
    "start_time": "2023-10-10T11:04:54.619Z"
   },
   {
    "duration": 46,
    "start_time": "2023-10-10T11:04:54.710Z"
   },
   {
    "duration": 48,
    "start_time": "2023-10-10T11:04:54.758Z"
   },
   {
    "duration": 69,
    "start_time": "2023-10-10T11:04:54.807Z"
   },
   {
    "duration": 144,
    "start_time": "2023-10-10T11:04:54.878Z"
   },
   {
    "duration": 119,
    "start_time": "2023-10-10T11:04:55.024Z"
   },
   {
    "duration": 261,
    "start_time": "2023-10-10T11:04:55.149Z"
   },
   {
    "duration": 69,
    "start_time": "2023-10-10T11:04:55.412Z"
   },
   {
    "duration": 25,
    "start_time": "2023-10-10T11:04:55.482Z"
   },
   {
    "duration": 58,
    "start_time": "2023-10-10T11:04:55.508Z"
   },
   {
    "duration": 10,
    "start_time": "2023-10-10T11:04:55.568Z"
   },
   {
    "duration": 22,
    "start_time": "2023-10-10T11:04:55.580Z"
   },
   {
    "duration": 65107,
    "start_time": "2023-10-10T11:04:55.604Z"
   },
   {
    "duration": 3,
    "start_time": "2023-10-10T11:06:00.713Z"
   },
   {
    "duration": 62,
    "start_time": "2023-10-10T11:06:00.718Z"
   },
   {
    "duration": 48,
    "start_time": "2023-10-10T11:06:00.781Z"
   },
   {
    "duration": 775,
    "start_time": "2023-10-10T11:06:00.833Z"
   },
   {
    "duration": 3,
    "start_time": "2023-10-10T11:06:01.610Z"
   },
   {
    "duration": 159,
    "start_time": "2023-10-10T11:06:01.614Z"
   },
   {
    "duration": 143,
    "start_time": "2023-10-10T11:06:01.774Z"
   },
   {
    "duration": 128,
    "start_time": "2023-10-10T11:06:01.918Z"
   },
   {
    "duration": 1584,
    "start_time": "2023-10-10T11:06:02.047Z"
   },
   {
    "duration": 45,
    "start_time": "2023-10-10T11:06:03.632Z"
   },
   {
    "duration": 3078,
    "start_time": "2023-10-10T11:11:07.267Z"
   },
   {
    "duration": 806,
    "start_time": "2023-10-10T11:11:10.347Z"
   },
   {
    "duration": 348,
    "start_time": "2023-10-10T11:11:11.154Z"
   },
   {
    "duration": 114,
    "start_time": "2023-10-10T11:11:11.503Z"
   },
   {
    "duration": 90,
    "start_time": "2023-10-10T11:11:11.619Z"
   },
   {
    "duration": 174,
    "start_time": "2023-10-10T11:11:11.711Z"
   },
   {
    "duration": 456,
    "start_time": "2023-10-10T11:11:11.886Z"
   },
   {
    "duration": 84,
    "start_time": "2023-10-10T11:11:12.344Z"
   },
   {
    "duration": 7,
    "start_time": "2023-10-10T11:11:12.429Z"
   },
   {
    "duration": 9,
    "start_time": "2023-10-10T11:11:12.449Z"
   },
   {
    "duration": 9,
    "start_time": "2023-10-10T11:11:12.459Z"
   },
   {
    "duration": 49,
    "start_time": "2023-10-10T11:11:12.470Z"
   },
   {
    "duration": 20,
    "start_time": "2023-10-10T11:11:12.520Z"
   },
   {
    "duration": 15,
    "start_time": "2023-10-10T11:11:12.543Z"
   },
   {
    "duration": 28,
    "start_time": "2023-10-10T11:11:12.559Z"
   },
   {
    "duration": 116,
    "start_time": "2023-10-10T11:11:12.588Z"
   },
   {
    "duration": 168,
    "start_time": "2023-10-10T11:11:12.706Z"
   },
   {
    "duration": 264,
    "start_time": "2023-10-10T11:11:12.875Z"
   },
   {
    "duration": 73,
    "start_time": "2023-10-10T11:11:13.141Z"
   },
   {
    "duration": 12,
    "start_time": "2023-10-10T11:11:13.216Z"
   },
   {
    "duration": 76,
    "start_time": "2023-10-10T11:11:13.229Z"
   },
   {
    "duration": 13,
    "start_time": "2023-10-10T11:11:13.306Z"
   },
   {
    "duration": 68,
    "start_time": "2023-10-10T11:11:13.320Z"
   },
   {
    "duration": 64097,
    "start_time": "2023-10-10T11:11:13.390Z"
   },
   {
    "duration": 5,
    "start_time": "2023-10-10T11:12:17.488Z"
   },
   {
    "duration": 30,
    "start_time": "2023-10-10T11:12:17.494Z"
   },
   {
    "duration": 23,
    "start_time": "2023-10-10T11:12:17.526Z"
   },
   {
    "duration": 780,
    "start_time": "2023-10-10T11:12:17.551Z"
   },
   {
    "duration": 2,
    "start_time": "2023-10-10T11:12:18.333Z"
   },
   {
    "duration": 58,
    "start_time": "2023-10-10T11:12:18.336Z"
   },
   {
    "duration": 21,
    "start_time": "2023-10-10T11:12:18.396Z"
   },
   {
    "duration": 34,
    "start_time": "2023-10-10T11:12:18.419Z"
   },
   {
    "duration": 1504,
    "start_time": "2023-10-10T11:12:18.455Z"
   },
   {
    "duration": 43,
    "start_time": "2023-10-10T11:12:19.961Z"
   },
   {
    "duration": 351651,
    "start_time": "2023-10-10T11:12:20.006Z"
   }
  ],
  "kernelspec": {
   "display_name": "Python 3 (ipykernel)",
   "language": "python",
   "name": "python3"
  },
  "language_info": {
   "codemirror_mode": {
    "name": "ipython",
    "version": 3
   },
   "file_extension": ".py",
   "mimetype": "text/x-python",
   "name": "python",
   "nbconvert_exporter": "python",
   "pygments_lexer": "ipython3",
   "version": "3.9.5"
  },
  "toc": {
   "base_numbering": 1,
   "nav_menu": {},
   "number_sections": true,
   "sideBar": true,
   "skip_h1_title": true,
   "title_cell": "Table of Contents",
   "title_sidebar": "Contents",
   "toc_cell": false,
   "toc_position": {},
   "toc_section_display": true,
   "toc_window_display": false
  }
 },
 "nbformat": 4,
 "nbformat_minor": 2
}
