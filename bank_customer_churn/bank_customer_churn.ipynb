{
 "cells": [
  {
   "cell_type": "markdown",
   "metadata": {
    "toc": true
   },
   "source": [
    "<h1>Содержание<span class=\"tocSkip\"></span></h1>\n",
    "<div class=\"toc\"><ul class=\"toc-item\"><li><span><a href=\"#Подготовка-данных\" data-toc-modified-id=\"Подготовка-данных-1\"><span class=\"toc-item-num\">1&nbsp;&nbsp;</span>Подготовка данных</a></span></li><li><span><a href=\"#Исследование-задачи\" data-toc-modified-id=\"Исследование-задачи-2\"><span class=\"toc-item-num\">2&nbsp;&nbsp;</span>Исследование задачи</a></span><ul class=\"toc-item\"><li><span><a href=\"#1.-Проверим-целевой-признак-на-баланс-классов.\" data-toc-modified-id=\"1.-Проверим-целевой-признак-на-баланс-классов.-2.1\"><span class=\"toc-item-num\">2.1&nbsp;&nbsp;</span>1. Проверим целевой признак на баланс классов.</a></span></li><li><span><a href=\"#2.-Обучим-модели-без-учета-дисбаланса.\" data-toc-modified-id=\"2.-Обучим-модели-без-учета-дисбаланса.-2.2\"><span class=\"toc-item-num\">2.2&nbsp;&nbsp;</span>2. Обучим модели без учета дисбаланса.</a></span><ul class=\"toc-item\"><li><span><a href=\"#Модель-1.-Решающее-дерево(DecisionTreeClassifier)\" data-toc-modified-id=\"Модель-1.-Решающее-дерево(DecisionTreeClassifier)-2.2.1\"><span class=\"toc-item-num\">2.2.1&nbsp;&nbsp;</span>Модель 1. Решающее дерево(DecisionTreeClassifier)</a></span></li><li><span><a href=\"#Модель-2.-Случайный-лес(RandomForestClassifier)\" data-toc-modified-id=\"Модель-2.-Случайный-лес(RandomForestClassifier)-2.2.2\"><span class=\"toc-item-num\">2.2.2&nbsp;&nbsp;</span>Модель 2. Случайный лес(RandomForestClassifier)</a></span></li><li><span><a href=\"#Модель-3.-Логистическая-регрессия(LogisticRegression)\" data-toc-modified-id=\"Модель-3.-Логистическая-регрессия(LogisticRegression)-2.2.3\"><span class=\"toc-item-num\">2.2.3&nbsp;&nbsp;</span>Модель 3. Логистическая регрессия(LogisticRegression)</a></span></li></ul></li></ul></li><li><span><a href=\"#Борьба-с-дисбалансом\" data-toc-modified-id=\"Борьба-с-дисбалансом-3\"><span class=\"toc-item-num\">3&nbsp;&nbsp;</span>Борьба с дисбалансом</a></span><ul class=\"toc-item\"><li><ul class=\"toc-item\"><li><span><a href=\"#Взвешивание-классов.\" data-toc-modified-id=\"Взвешивание-классов.-3.0.1\"><span class=\"toc-item-num\">3.0.1&nbsp;&nbsp;</span>Взвешивание классов.</a></span></li><li><span><a href=\"#Увеличение-выборки.\" data-toc-modified-id=\"Увеличение-выборки.-3.0.2\"><span class=\"toc-item-num\">3.0.2&nbsp;&nbsp;</span>Увеличение выборки.</a></span></li><li><span><a href=\"#Уменьшение-выборки.\" data-toc-modified-id=\"Уменьшение-выборки.-3.0.3\"><span class=\"toc-item-num\">3.0.3&nbsp;&nbsp;</span>Уменьшение выборки.</a></span></li><li><span><a href=\"#Вывод:\" data-toc-modified-id=\"Вывод:-3.0.4\"><span class=\"toc-item-num\">3.0.4&nbsp;&nbsp;</span>Вывод:</a></span></li></ul></li></ul></li><li><span><a href=\"#Тестирование-модели\" data-toc-modified-id=\"Тестирование-модели-4\"><span class=\"toc-item-num\">4&nbsp;&nbsp;</span>Тестирование модели</a></span></li><li><span><a href=\"#Общий-вывод\" data-toc-modified-id=\"Общий-вывод-5\"><span class=\"toc-item-num\">5&nbsp;&nbsp;</span>Общий вывод</a></span><ul class=\"toc-item\"><li><ul class=\"toc-item\"><li><span><a href=\"#Этап-1.-Изучение-и-предобработка-данных.\" data-toc-modified-id=\"Этап-1.-Изучение-и-предобработка-данных.-5.0.1\"><span class=\"toc-item-num\">5.0.1&nbsp;&nbsp;</span>Этап 1. Изучение и предобработка данных.</a></span></li><li><span><a href=\"#Этап-2.-Исследование-баланса-классов,-обучение-моделей-без-учёта-дисбаланса.\" data-toc-modified-id=\"Этап-2.-Исследование-баланса-классов,-обучение-моделей-без-учёта-дисбаланса.-5.0.2\"><span class=\"toc-item-num\">5.0.2&nbsp;&nbsp;</span>Этап 2. Исследование баланса классов, обучение моделей без учёта дисбаланса.</a></span></li><li><span><a href=\"#Этап-3.-Улучшение-качества-моделей,-учитывая-дисбаланс-классов.\" data-toc-modified-id=\"Этап-3.-Улучшение-качества-моделей,-учитывая-дисбаланс-классов.-5.0.3\"><span class=\"toc-item-num\">5.0.3&nbsp;&nbsp;</span>Этап 3. Улучшение качества моделей, учитывая дисбаланс классов.</a></span></li><li><span><a href=\"#Этап-4.-Проверка-качества-модели-на-тестовой-выборке.\" data-toc-modified-id=\"Этап-4.-Проверка-качества-модели-на-тестовой-выборке.-5.0.4\"><span class=\"toc-item-num\">5.0.4&nbsp;&nbsp;</span>Этап 4. Проверка качества модели на тестовой выборке.</a></span></li></ul></li></ul></li><li><span><a href=\"#Чек-лист-готовности-проекта\" data-toc-modified-id=\"Чек-лист-готовности-проекта-6\"><span class=\"toc-item-num\">6&nbsp;&nbsp;</span>Чек-лист готовности проекта</a></span></li></ul></div>"
   ]
  },
  {
   "cell_type": "markdown",
   "metadata": {},
   "source": [
    "# Отток клиентов"
   ]
  },
  {
   "cell_type": "markdown",
   "metadata": {},
   "source": [
    "Из «Бета-Банка» стали уходить клиенты. Каждый месяц. Немного, но заметно. Банковские маркетологи посчитали: сохранять текущих клиентов дешевле, чем привлекать новых.\n",
    "\n",
    "Нужно спрогнозировать, уйдёт клиент из банка в ближайшее время или нет. Вам предоставлены исторические данные о поведении клиентов и расторжении договоров с банком. \n",
    "\n",
    "Постройте модель с предельно большим значением *F1*-меры. Чтобы сдать проект успешно, нужно довести метрику до 0.59. Проверьте *F1*-меру на тестовой выборке самостоятельно.\n",
    "\n",
    "Дополнительно измеряйте *AUC-ROC*, сравнивайте её значение с *F1*-мерой.\n",
    "\n",
    "Источник данных: [https://www.kaggle.com/barelydedicated/bank-customer-churn-modeling](https://www.kaggle.com/barelydedicated/bank-customer-churn-modeling)"
   ]
  },
  {
   "cell_type": "markdown",
   "metadata": {},
   "source": [
    "###### Цель исследования:\n",
    "Спрогнозировать, уйдёт клиент из банка в ближайшее время или нет.\n",
    "\n",
    "###### Ход исследования:\n",
    "1. Открыть и изучить предоставленные данные и подготовить их к исследованию.\n",
    "2. Исследовать баланс классов. \n",
    "3. Обучить модель без учета баланса классов, описать выводы.\n",
    "4. Улучшить качество модели, учитывая дисбаланс классов. \n",
    "5. Обучить разные модели и найти лучшую. \n",
    "6. Провести финальное тестирование.\n",
    "7. Сделать вывод."
   ]
  },
  {
   "cell_type": "markdown",
   "metadata": {},
   "source": [
    "## Подготовка данных"
   ]
  },
  {
   "cell_type": "markdown",
   "metadata": {},
   "source": [
    "Подготовим библиотеки"
   ]
  },
  {
   "cell_type": "code",
   "execution_count": 1,
   "metadata": {},
   "outputs": [
    {
     "name": "stdout",
     "output_type": "stream",
     "text": [
      "Requirement already satisfied: fast_ml in /opt/conda/lib/python3.9/site-packages (3.68)\r\n"
     ]
    }
   ],
   "source": [
    "!pip install fast_ml\n",
    "import pandas as pd\n",
    "from sklearn.model_selection import train_test_split\n",
    "from sklearn.preprocessing import StandardScaler\n",
    "from fast_ml.model_development import train_valid_test_split\n",
    "from sklearn.linear_model import LogisticRegression\n",
    "from sklearn.tree import DecisionTreeClassifier\n",
    "from sklearn.ensemble import RandomForestClassifier\n",
    "from sklearn.metrics import accuracy_score\n",
    "from sklearn.metrics import f1_score\n",
    "from sklearn.metrics import recall_score\n",
    "from sklearn.metrics import precision_score\n",
    "from sklearn.metrics import confusion_matrix\n",
    "from sklearn.metrics import roc_curve\n",
    "from sklearn.metrics import roc_auc_score\n",
    "from sklearn.utils import shuffle"
   ]
  },
  {
   "cell_type": "markdown",
   "metadata": {},
   "source": [
    "Откроем и изучим датасет"
   ]
  },
  {
   "cell_type": "code",
   "execution_count": 2,
   "metadata": {
    "scrolled": true
   },
   "outputs": [
    {
     "data": {
      "text/html": [
       "<div>\n",
       "<style scoped>\n",
       "    .dataframe tbody tr th:only-of-type {\n",
       "        vertical-align: middle;\n",
       "    }\n",
       "\n",
       "    .dataframe tbody tr th {\n",
       "        vertical-align: top;\n",
       "    }\n",
       "\n",
       "    .dataframe thead th {\n",
       "        text-align: right;\n",
       "    }\n",
       "</style>\n",
       "<table border=\"1\" class=\"dataframe\">\n",
       "  <thead>\n",
       "    <tr style=\"text-align: right;\">\n",
       "      <th></th>\n",
       "      <th>RowNumber</th>\n",
       "      <th>CustomerId</th>\n",
       "      <th>Surname</th>\n",
       "      <th>CreditScore</th>\n",
       "      <th>Geography</th>\n",
       "      <th>Gender</th>\n",
       "      <th>Age</th>\n",
       "      <th>Tenure</th>\n",
       "      <th>Balance</th>\n",
       "      <th>NumOfProducts</th>\n",
       "      <th>HasCrCard</th>\n",
       "      <th>IsActiveMember</th>\n",
       "      <th>EstimatedSalary</th>\n",
       "      <th>Exited</th>\n",
       "    </tr>\n",
       "  </thead>\n",
       "  <tbody>\n",
       "    <tr>\n",
       "      <th>0</th>\n",
       "      <td>1</td>\n",
       "      <td>15634602</td>\n",
       "      <td>Hargrave</td>\n",
       "      <td>619</td>\n",
       "      <td>France</td>\n",
       "      <td>Female</td>\n",
       "      <td>42</td>\n",
       "      <td>2.0</td>\n",
       "      <td>0.00</td>\n",
       "      <td>1</td>\n",
       "      <td>1</td>\n",
       "      <td>1</td>\n",
       "      <td>101348.88</td>\n",
       "      <td>1</td>\n",
       "    </tr>\n",
       "    <tr>\n",
       "      <th>1</th>\n",
       "      <td>2</td>\n",
       "      <td>15647311</td>\n",
       "      <td>Hill</td>\n",
       "      <td>608</td>\n",
       "      <td>Spain</td>\n",
       "      <td>Female</td>\n",
       "      <td>41</td>\n",
       "      <td>1.0</td>\n",
       "      <td>83807.86</td>\n",
       "      <td>1</td>\n",
       "      <td>0</td>\n",
       "      <td>1</td>\n",
       "      <td>112542.58</td>\n",
       "      <td>0</td>\n",
       "    </tr>\n",
       "    <tr>\n",
       "      <th>2</th>\n",
       "      <td>3</td>\n",
       "      <td>15619304</td>\n",
       "      <td>Onio</td>\n",
       "      <td>502</td>\n",
       "      <td>France</td>\n",
       "      <td>Female</td>\n",
       "      <td>42</td>\n",
       "      <td>8.0</td>\n",
       "      <td>159660.80</td>\n",
       "      <td>3</td>\n",
       "      <td>1</td>\n",
       "      <td>0</td>\n",
       "      <td>113931.57</td>\n",
       "      <td>1</td>\n",
       "    </tr>\n",
       "    <tr>\n",
       "      <th>3</th>\n",
       "      <td>4</td>\n",
       "      <td>15701354</td>\n",
       "      <td>Boni</td>\n",
       "      <td>699</td>\n",
       "      <td>France</td>\n",
       "      <td>Female</td>\n",
       "      <td>39</td>\n",
       "      <td>1.0</td>\n",
       "      <td>0.00</td>\n",
       "      <td>2</td>\n",
       "      <td>0</td>\n",
       "      <td>0</td>\n",
       "      <td>93826.63</td>\n",
       "      <td>0</td>\n",
       "    </tr>\n",
       "    <tr>\n",
       "      <th>4</th>\n",
       "      <td>5</td>\n",
       "      <td>15737888</td>\n",
       "      <td>Mitchell</td>\n",
       "      <td>850</td>\n",
       "      <td>Spain</td>\n",
       "      <td>Female</td>\n",
       "      <td>43</td>\n",
       "      <td>2.0</td>\n",
       "      <td>125510.82</td>\n",
       "      <td>1</td>\n",
       "      <td>1</td>\n",
       "      <td>1</td>\n",
       "      <td>79084.10</td>\n",
       "      <td>0</td>\n",
       "    </tr>\n",
       "    <tr>\n",
       "      <th>5</th>\n",
       "      <td>6</td>\n",
       "      <td>15574012</td>\n",
       "      <td>Chu</td>\n",
       "      <td>645</td>\n",
       "      <td>Spain</td>\n",
       "      <td>Male</td>\n",
       "      <td>44</td>\n",
       "      <td>8.0</td>\n",
       "      <td>113755.78</td>\n",
       "      <td>2</td>\n",
       "      <td>1</td>\n",
       "      <td>0</td>\n",
       "      <td>149756.71</td>\n",
       "      <td>1</td>\n",
       "    </tr>\n",
       "    <tr>\n",
       "      <th>6</th>\n",
       "      <td>7</td>\n",
       "      <td>15592531</td>\n",
       "      <td>Bartlett</td>\n",
       "      <td>822</td>\n",
       "      <td>France</td>\n",
       "      <td>Male</td>\n",
       "      <td>50</td>\n",
       "      <td>7.0</td>\n",
       "      <td>0.00</td>\n",
       "      <td>2</td>\n",
       "      <td>1</td>\n",
       "      <td>1</td>\n",
       "      <td>10062.80</td>\n",
       "      <td>0</td>\n",
       "    </tr>\n",
       "    <tr>\n",
       "      <th>7</th>\n",
       "      <td>8</td>\n",
       "      <td>15656148</td>\n",
       "      <td>Obinna</td>\n",
       "      <td>376</td>\n",
       "      <td>Germany</td>\n",
       "      <td>Female</td>\n",
       "      <td>29</td>\n",
       "      <td>4.0</td>\n",
       "      <td>115046.74</td>\n",
       "      <td>4</td>\n",
       "      <td>1</td>\n",
       "      <td>0</td>\n",
       "      <td>119346.88</td>\n",
       "      <td>1</td>\n",
       "    </tr>\n",
       "    <tr>\n",
       "      <th>8</th>\n",
       "      <td>9</td>\n",
       "      <td>15792365</td>\n",
       "      <td>He</td>\n",
       "      <td>501</td>\n",
       "      <td>France</td>\n",
       "      <td>Male</td>\n",
       "      <td>44</td>\n",
       "      <td>4.0</td>\n",
       "      <td>142051.07</td>\n",
       "      <td>2</td>\n",
       "      <td>0</td>\n",
       "      <td>1</td>\n",
       "      <td>74940.50</td>\n",
       "      <td>0</td>\n",
       "    </tr>\n",
       "    <tr>\n",
       "      <th>9</th>\n",
       "      <td>10</td>\n",
       "      <td>15592389</td>\n",
       "      <td>H?</td>\n",
       "      <td>684</td>\n",
       "      <td>France</td>\n",
       "      <td>Male</td>\n",
       "      <td>27</td>\n",
       "      <td>2.0</td>\n",
       "      <td>134603.88</td>\n",
       "      <td>1</td>\n",
       "      <td>1</td>\n",
       "      <td>1</td>\n",
       "      <td>71725.73</td>\n",
       "      <td>0</td>\n",
       "    </tr>\n",
       "    <tr>\n",
       "      <th>10</th>\n",
       "      <td>11</td>\n",
       "      <td>15767821</td>\n",
       "      <td>Bearce</td>\n",
       "      <td>528</td>\n",
       "      <td>France</td>\n",
       "      <td>Male</td>\n",
       "      <td>31</td>\n",
       "      <td>6.0</td>\n",
       "      <td>102016.72</td>\n",
       "      <td>2</td>\n",
       "      <td>0</td>\n",
       "      <td>0</td>\n",
       "      <td>80181.12</td>\n",
       "      <td>0</td>\n",
       "    </tr>\n",
       "    <tr>\n",
       "      <th>11</th>\n",
       "      <td>12</td>\n",
       "      <td>15737173</td>\n",
       "      <td>Andrews</td>\n",
       "      <td>497</td>\n",
       "      <td>Spain</td>\n",
       "      <td>Male</td>\n",
       "      <td>24</td>\n",
       "      <td>3.0</td>\n",
       "      <td>0.00</td>\n",
       "      <td>2</td>\n",
       "      <td>1</td>\n",
       "      <td>0</td>\n",
       "      <td>76390.01</td>\n",
       "      <td>0</td>\n",
       "    </tr>\n",
       "    <tr>\n",
       "      <th>12</th>\n",
       "      <td>13</td>\n",
       "      <td>15632264</td>\n",
       "      <td>Kay</td>\n",
       "      <td>476</td>\n",
       "      <td>France</td>\n",
       "      <td>Female</td>\n",
       "      <td>34</td>\n",
       "      <td>10.0</td>\n",
       "      <td>0.00</td>\n",
       "      <td>2</td>\n",
       "      <td>1</td>\n",
       "      <td>0</td>\n",
       "      <td>26260.98</td>\n",
       "      <td>0</td>\n",
       "    </tr>\n",
       "    <tr>\n",
       "      <th>13</th>\n",
       "      <td>14</td>\n",
       "      <td>15691483</td>\n",
       "      <td>Chin</td>\n",
       "      <td>549</td>\n",
       "      <td>France</td>\n",
       "      <td>Female</td>\n",
       "      <td>25</td>\n",
       "      <td>5.0</td>\n",
       "      <td>0.00</td>\n",
       "      <td>2</td>\n",
       "      <td>0</td>\n",
       "      <td>0</td>\n",
       "      <td>190857.79</td>\n",
       "      <td>0</td>\n",
       "    </tr>\n",
       "    <tr>\n",
       "      <th>14</th>\n",
       "      <td>15</td>\n",
       "      <td>15600882</td>\n",
       "      <td>Scott</td>\n",
       "      <td>635</td>\n",
       "      <td>Spain</td>\n",
       "      <td>Female</td>\n",
       "      <td>35</td>\n",
       "      <td>7.0</td>\n",
       "      <td>0.00</td>\n",
       "      <td>2</td>\n",
       "      <td>1</td>\n",
       "      <td>1</td>\n",
       "      <td>65951.65</td>\n",
       "      <td>0</td>\n",
       "    </tr>\n",
       "    <tr>\n",
       "      <th>15</th>\n",
       "      <td>16</td>\n",
       "      <td>15643966</td>\n",
       "      <td>Goforth</td>\n",
       "      <td>616</td>\n",
       "      <td>Germany</td>\n",
       "      <td>Male</td>\n",
       "      <td>45</td>\n",
       "      <td>3.0</td>\n",
       "      <td>143129.41</td>\n",
       "      <td>2</td>\n",
       "      <td>0</td>\n",
       "      <td>1</td>\n",
       "      <td>64327.26</td>\n",
       "      <td>0</td>\n",
       "    </tr>\n",
       "    <tr>\n",
       "      <th>16</th>\n",
       "      <td>17</td>\n",
       "      <td>15737452</td>\n",
       "      <td>Romeo</td>\n",
       "      <td>653</td>\n",
       "      <td>Germany</td>\n",
       "      <td>Male</td>\n",
       "      <td>58</td>\n",
       "      <td>1.0</td>\n",
       "      <td>132602.88</td>\n",
       "      <td>1</td>\n",
       "      <td>1</td>\n",
       "      <td>0</td>\n",
       "      <td>5097.67</td>\n",
       "      <td>1</td>\n",
       "    </tr>\n",
       "    <tr>\n",
       "      <th>17</th>\n",
       "      <td>18</td>\n",
       "      <td>15788218</td>\n",
       "      <td>Henderson</td>\n",
       "      <td>549</td>\n",
       "      <td>Spain</td>\n",
       "      <td>Female</td>\n",
       "      <td>24</td>\n",
       "      <td>9.0</td>\n",
       "      <td>0.00</td>\n",
       "      <td>2</td>\n",
       "      <td>1</td>\n",
       "      <td>1</td>\n",
       "      <td>14406.41</td>\n",
       "      <td>0</td>\n",
       "    </tr>\n",
       "    <tr>\n",
       "      <th>18</th>\n",
       "      <td>19</td>\n",
       "      <td>15661507</td>\n",
       "      <td>Muldrow</td>\n",
       "      <td>587</td>\n",
       "      <td>Spain</td>\n",
       "      <td>Male</td>\n",
       "      <td>45</td>\n",
       "      <td>6.0</td>\n",
       "      <td>0.00</td>\n",
       "      <td>1</td>\n",
       "      <td>0</td>\n",
       "      <td>0</td>\n",
       "      <td>158684.81</td>\n",
       "      <td>0</td>\n",
       "    </tr>\n",
       "    <tr>\n",
       "      <th>19</th>\n",
       "      <td>20</td>\n",
       "      <td>15568982</td>\n",
       "      <td>Hao</td>\n",
       "      <td>726</td>\n",
       "      <td>France</td>\n",
       "      <td>Female</td>\n",
       "      <td>24</td>\n",
       "      <td>6.0</td>\n",
       "      <td>0.00</td>\n",
       "      <td>2</td>\n",
       "      <td>1</td>\n",
       "      <td>1</td>\n",
       "      <td>54724.03</td>\n",
       "      <td>0</td>\n",
       "    </tr>\n",
       "  </tbody>\n",
       "</table>\n",
       "</div>"
      ],
      "text/plain": [
       "    RowNumber  CustomerId    Surname  CreditScore Geography  Gender  Age  \\\n",
       "0           1    15634602   Hargrave          619    France  Female   42   \n",
       "1           2    15647311       Hill          608     Spain  Female   41   \n",
       "2           3    15619304       Onio          502    France  Female   42   \n",
       "3           4    15701354       Boni          699    France  Female   39   \n",
       "4           5    15737888   Mitchell          850     Spain  Female   43   \n",
       "5           6    15574012        Chu          645     Spain    Male   44   \n",
       "6           7    15592531   Bartlett          822    France    Male   50   \n",
       "7           8    15656148     Obinna          376   Germany  Female   29   \n",
       "8           9    15792365         He          501    France    Male   44   \n",
       "9          10    15592389         H?          684    France    Male   27   \n",
       "10         11    15767821     Bearce          528    France    Male   31   \n",
       "11         12    15737173    Andrews          497     Spain    Male   24   \n",
       "12         13    15632264        Kay          476    France  Female   34   \n",
       "13         14    15691483       Chin          549    France  Female   25   \n",
       "14         15    15600882      Scott          635     Spain  Female   35   \n",
       "15         16    15643966    Goforth          616   Germany    Male   45   \n",
       "16         17    15737452      Romeo          653   Germany    Male   58   \n",
       "17         18    15788218  Henderson          549     Spain  Female   24   \n",
       "18         19    15661507    Muldrow          587     Spain    Male   45   \n",
       "19         20    15568982        Hao          726    France  Female   24   \n",
       "\n",
       "    Tenure    Balance  NumOfProducts  HasCrCard  IsActiveMember  \\\n",
       "0      2.0       0.00              1          1               1   \n",
       "1      1.0   83807.86              1          0               1   \n",
       "2      8.0  159660.80              3          1               0   \n",
       "3      1.0       0.00              2          0               0   \n",
       "4      2.0  125510.82              1          1               1   \n",
       "5      8.0  113755.78              2          1               0   \n",
       "6      7.0       0.00              2          1               1   \n",
       "7      4.0  115046.74              4          1               0   \n",
       "8      4.0  142051.07              2          0               1   \n",
       "9      2.0  134603.88              1          1               1   \n",
       "10     6.0  102016.72              2          0               0   \n",
       "11     3.0       0.00              2          1               0   \n",
       "12    10.0       0.00              2          1               0   \n",
       "13     5.0       0.00              2          0               0   \n",
       "14     7.0       0.00              2          1               1   \n",
       "15     3.0  143129.41              2          0               1   \n",
       "16     1.0  132602.88              1          1               0   \n",
       "17     9.0       0.00              2          1               1   \n",
       "18     6.0       0.00              1          0               0   \n",
       "19     6.0       0.00              2          1               1   \n",
       "\n",
       "    EstimatedSalary  Exited  \n",
       "0         101348.88       1  \n",
       "1         112542.58       0  \n",
       "2         113931.57       1  \n",
       "3          93826.63       0  \n",
       "4          79084.10       0  \n",
       "5         149756.71       1  \n",
       "6          10062.80       0  \n",
       "7         119346.88       1  \n",
       "8          74940.50       0  \n",
       "9          71725.73       0  \n",
       "10         80181.12       0  \n",
       "11         76390.01       0  \n",
       "12         26260.98       0  \n",
       "13        190857.79       0  \n",
       "14         65951.65       0  \n",
       "15         64327.26       0  \n",
       "16          5097.67       1  \n",
       "17         14406.41       0  \n",
       "18        158684.81       0  \n",
       "19         54724.03       0  "
      ]
     },
     "execution_count": 2,
     "metadata": {},
     "output_type": "execute_result"
    }
   ],
   "source": [
    "df = pd.read_csv('/datasets/Churn.csv')\n",
    "df.head(20)"
   ]
  },
  {
   "cell_type": "code",
   "execution_count": 3,
   "metadata": {},
   "outputs": [
    {
     "name": "stdout",
     "output_type": "stream",
     "text": [
      "<class 'pandas.core.frame.DataFrame'>\n",
      "RangeIndex: 10000 entries, 0 to 9999\n",
      "Data columns (total 14 columns):\n",
      " #   Column           Non-Null Count  Dtype  \n",
      "---  ------           --------------  -----  \n",
      " 0   RowNumber        10000 non-null  int64  \n",
      " 1   CustomerId       10000 non-null  int64  \n",
      " 2   Surname          10000 non-null  object \n",
      " 3   CreditScore      10000 non-null  int64  \n",
      " 4   Geography        10000 non-null  object \n",
      " 5   Gender           10000 non-null  object \n",
      " 6   Age              10000 non-null  int64  \n",
      " 7   Tenure           9091 non-null   float64\n",
      " 8   Balance          10000 non-null  float64\n",
      " 9   NumOfProducts    10000 non-null  int64  \n",
      " 10  HasCrCard        10000 non-null  int64  \n",
      " 11  IsActiveMember   10000 non-null  int64  \n",
      " 12  EstimatedSalary  10000 non-null  float64\n",
      " 13  Exited           10000 non-null  int64  \n",
      "dtypes: float64(3), int64(8), object(3)\n",
      "memory usage: 1.1+ MB\n"
     ]
    }
   ],
   "source": [
    "df.info()"
   ]
  },
  {
   "cell_type": "code",
   "execution_count": 4,
   "metadata": {},
   "outputs": [
    {
     "data": {
      "text/plain": [
       "RowNumber            0\n",
       "CustomerId           0\n",
       "Surname              0\n",
       "CreditScore          0\n",
       "Geography            0\n",
       "Gender               0\n",
       "Age                  0\n",
       "Tenure             909\n",
       "Balance              0\n",
       "NumOfProducts        0\n",
       "HasCrCard            0\n",
       "IsActiveMember       0\n",
       "EstimatedSalary      0\n",
       "Exited               0\n",
       "dtype: int64"
      ]
     },
     "execution_count": 4,
     "metadata": {},
     "output_type": "execute_result"
    }
   ],
   "source": [
    "df.isna().sum()"
   ]
  },
  {
   "cell_type": "markdown",
   "metadata": {},
   "source": [
    "1. Необходимо привести названия стобцов к нижнему регистру и поставить знак \"_\" в названиях некоторых столбцов для разделения слов "
   ]
  },
  {
   "cell_type": "code",
   "execution_count": 5,
   "metadata": {},
   "outputs": [
    {
     "data": {
      "text/html": [
       "<div>\n",
       "<style scoped>\n",
       "    .dataframe tbody tr th:only-of-type {\n",
       "        vertical-align: middle;\n",
       "    }\n",
       "\n",
       "    .dataframe tbody tr th {\n",
       "        vertical-align: top;\n",
       "    }\n",
       "\n",
       "    .dataframe thead th {\n",
       "        text-align: right;\n",
       "    }\n",
       "</style>\n",
       "<table border=\"1\" class=\"dataframe\">\n",
       "  <thead>\n",
       "    <tr style=\"text-align: right;\">\n",
       "      <th></th>\n",
       "      <th>rownumber</th>\n",
       "      <th>customerid</th>\n",
       "      <th>surname</th>\n",
       "      <th>creditscore</th>\n",
       "      <th>geography</th>\n",
       "      <th>gender</th>\n",
       "      <th>age</th>\n",
       "      <th>tenure</th>\n",
       "      <th>balance</th>\n",
       "      <th>numofproducts</th>\n",
       "      <th>hascrcard</th>\n",
       "      <th>isactivemember</th>\n",
       "      <th>estimatedsalary</th>\n",
       "      <th>exited</th>\n",
       "    </tr>\n",
       "  </thead>\n",
       "  <tbody>\n",
       "    <tr>\n",
       "      <th>0</th>\n",
       "      <td>1</td>\n",
       "      <td>15634602</td>\n",
       "      <td>Hargrave</td>\n",
       "      <td>619</td>\n",
       "      <td>France</td>\n",
       "      <td>Female</td>\n",
       "      <td>42</td>\n",
       "      <td>2.0</td>\n",
       "      <td>0.00</td>\n",
       "      <td>1</td>\n",
       "      <td>1</td>\n",
       "      <td>1</td>\n",
       "      <td>101348.88</td>\n",
       "      <td>1</td>\n",
       "    </tr>\n",
       "    <tr>\n",
       "      <th>1</th>\n",
       "      <td>2</td>\n",
       "      <td>15647311</td>\n",
       "      <td>Hill</td>\n",
       "      <td>608</td>\n",
       "      <td>Spain</td>\n",
       "      <td>Female</td>\n",
       "      <td>41</td>\n",
       "      <td>1.0</td>\n",
       "      <td>83807.86</td>\n",
       "      <td>1</td>\n",
       "      <td>0</td>\n",
       "      <td>1</td>\n",
       "      <td>112542.58</td>\n",
       "      <td>0</td>\n",
       "    </tr>\n",
       "    <tr>\n",
       "      <th>2</th>\n",
       "      <td>3</td>\n",
       "      <td>15619304</td>\n",
       "      <td>Onio</td>\n",
       "      <td>502</td>\n",
       "      <td>France</td>\n",
       "      <td>Female</td>\n",
       "      <td>42</td>\n",
       "      <td>8.0</td>\n",
       "      <td>159660.80</td>\n",
       "      <td>3</td>\n",
       "      <td>1</td>\n",
       "      <td>0</td>\n",
       "      <td>113931.57</td>\n",
       "      <td>1</td>\n",
       "    </tr>\n",
       "    <tr>\n",
       "      <th>3</th>\n",
       "      <td>4</td>\n",
       "      <td>15701354</td>\n",
       "      <td>Boni</td>\n",
       "      <td>699</td>\n",
       "      <td>France</td>\n",
       "      <td>Female</td>\n",
       "      <td>39</td>\n",
       "      <td>1.0</td>\n",
       "      <td>0.00</td>\n",
       "      <td>2</td>\n",
       "      <td>0</td>\n",
       "      <td>0</td>\n",
       "      <td>93826.63</td>\n",
       "      <td>0</td>\n",
       "    </tr>\n",
       "    <tr>\n",
       "      <th>4</th>\n",
       "      <td>5</td>\n",
       "      <td>15737888</td>\n",
       "      <td>Mitchell</td>\n",
       "      <td>850</td>\n",
       "      <td>Spain</td>\n",
       "      <td>Female</td>\n",
       "      <td>43</td>\n",
       "      <td>2.0</td>\n",
       "      <td>125510.82</td>\n",
       "      <td>1</td>\n",
       "      <td>1</td>\n",
       "      <td>1</td>\n",
       "      <td>79084.10</td>\n",
       "      <td>0</td>\n",
       "    </tr>\n",
       "  </tbody>\n",
       "</table>\n",
       "</div>"
      ],
      "text/plain": [
       "   rownumber  customerid   surname  creditscore geography  gender  age  \\\n",
       "0          1    15634602  Hargrave          619    France  Female   42   \n",
       "1          2    15647311      Hill          608     Spain  Female   41   \n",
       "2          3    15619304      Onio          502    France  Female   42   \n",
       "3          4    15701354      Boni          699    France  Female   39   \n",
       "4          5    15737888  Mitchell          850     Spain  Female   43   \n",
       "\n",
       "   tenure    balance  numofproducts  hascrcard  isactivemember  \\\n",
       "0     2.0       0.00              1          1               1   \n",
       "1     1.0   83807.86              1          0               1   \n",
       "2     8.0  159660.80              3          1               0   \n",
       "3     1.0       0.00              2          0               0   \n",
       "4     2.0  125510.82              1          1               1   \n",
       "\n",
       "   estimatedsalary  exited  \n",
       "0        101348.88       1  \n",
       "1        112542.58       0  \n",
       "2        113931.57       1  \n",
       "3         93826.63       0  \n",
       "4         79084.10       0  "
      ]
     },
     "execution_count": 5,
     "metadata": {},
     "output_type": "execute_result"
    }
   ],
   "source": [
    "df.columns = df.columns.str.lower()\n",
    "df.head()"
   ]
  },
  {
   "cell_type": "code",
   "execution_count": 6,
   "metadata": {},
   "outputs": [
    {
     "data": {
      "text/html": [
       "<div>\n",
       "<style scoped>\n",
       "    .dataframe tbody tr th:only-of-type {\n",
       "        vertical-align: middle;\n",
       "    }\n",
       "\n",
       "    .dataframe tbody tr th {\n",
       "        vertical-align: top;\n",
       "    }\n",
       "\n",
       "    .dataframe thead th {\n",
       "        text-align: right;\n",
       "    }\n",
       "</style>\n",
       "<table border=\"1\" class=\"dataframe\">\n",
       "  <thead>\n",
       "    <tr style=\"text-align: right;\">\n",
       "      <th></th>\n",
       "      <th>row_number</th>\n",
       "      <th>customer_id</th>\n",
       "      <th>surname</th>\n",
       "      <th>credit_score</th>\n",
       "      <th>geography</th>\n",
       "      <th>gender</th>\n",
       "      <th>age</th>\n",
       "      <th>tenure</th>\n",
       "      <th>balance</th>\n",
       "      <th>num_of_products</th>\n",
       "      <th>has_cr_card</th>\n",
       "      <th>is_active_member</th>\n",
       "      <th>estimated_salary</th>\n",
       "      <th>exited</th>\n",
       "    </tr>\n",
       "  </thead>\n",
       "  <tbody>\n",
       "    <tr>\n",
       "      <th>0</th>\n",
       "      <td>1</td>\n",
       "      <td>15634602</td>\n",
       "      <td>Hargrave</td>\n",
       "      <td>619</td>\n",
       "      <td>France</td>\n",
       "      <td>Female</td>\n",
       "      <td>42</td>\n",
       "      <td>2.0</td>\n",
       "      <td>0.00</td>\n",
       "      <td>1</td>\n",
       "      <td>1</td>\n",
       "      <td>1</td>\n",
       "      <td>101348.88</td>\n",
       "      <td>1</td>\n",
       "    </tr>\n",
       "    <tr>\n",
       "      <th>1</th>\n",
       "      <td>2</td>\n",
       "      <td>15647311</td>\n",
       "      <td>Hill</td>\n",
       "      <td>608</td>\n",
       "      <td>Spain</td>\n",
       "      <td>Female</td>\n",
       "      <td>41</td>\n",
       "      <td>1.0</td>\n",
       "      <td>83807.86</td>\n",
       "      <td>1</td>\n",
       "      <td>0</td>\n",
       "      <td>1</td>\n",
       "      <td>112542.58</td>\n",
       "      <td>0</td>\n",
       "    </tr>\n",
       "    <tr>\n",
       "      <th>2</th>\n",
       "      <td>3</td>\n",
       "      <td>15619304</td>\n",
       "      <td>Onio</td>\n",
       "      <td>502</td>\n",
       "      <td>France</td>\n",
       "      <td>Female</td>\n",
       "      <td>42</td>\n",
       "      <td>8.0</td>\n",
       "      <td>159660.80</td>\n",
       "      <td>3</td>\n",
       "      <td>1</td>\n",
       "      <td>0</td>\n",
       "      <td>113931.57</td>\n",
       "      <td>1</td>\n",
       "    </tr>\n",
       "    <tr>\n",
       "      <th>3</th>\n",
       "      <td>4</td>\n",
       "      <td>15701354</td>\n",
       "      <td>Boni</td>\n",
       "      <td>699</td>\n",
       "      <td>France</td>\n",
       "      <td>Female</td>\n",
       "      <td>39</td>\n",
       "      <td>1.0</td>\n",
       "      <td>0.00</td>\n",
       "      <td>2</td>\n",
       "      <td>0</td>\n",
       "      <td>0</td>\n",
       "      <td>93826.63</td>\n",
       "      <td>0</td>\n",
       "    </tr>\n",
       "    <tr>\n",
       "      <th>4</th>\n",
       "      <td>5</td>\n",
       "      <td>15737888</td>\n",
       "      <td>Mitchell</td>\n",
       "      <td>850</td>\n",
       "      <td>Spain</td>\n",
       "      <td>Female</td>\n",
       "      <td>43</td>\n",
       "      <td>2.0</td>\n",
       "      <td>125510.82</td>\n",
       "      <td>1</td>\n",
       "      <td>1</td>\n",
       "      <td>1</td>\n",
       "      <td>79084.10</td>\n",
       "      <td>0</td>\n",
       "    </tr>\n",
       "  </tbody>\n",
       "</table>\n",
       "</div>"
      ],
      "text/plain": [
       "   row_number  customer_id   surname  credit_score geography  gender  age  \\\n",
       "0           1     15634602  Hargrave           619    France  Female   42   \n",
       "1           2     15647311      Hill           608     Spain  Female   41   \n",
       "2           3     15619304      Onio           502    France  Female   42   \n",
       "3           4     15701354      Boni           699    France  Female   39   \n",
       "4           5     15737888  Mitchell           850     Spain  Female   43   \n",
       "\n",
       "   tenure    balance  num_of_products  has_cr_card  is_active_member  \\\n",
       "0     2.0       0.00                1            1                 1   \n",
       "1     1.0   83807.86                1            0                 1   \n",
       "2     8.0  159660.80                3            1                 0   \n",
       "3     1.0       0.00                2            0                 0   \n",
       "4     2.0  125510.82                1            1                 1   \n",
       "\n",
       "   estimated_salary  exited  \n",
       "0         101348.88       1  \n",
       "1         112542.58       0  \n",
       "2         113931.57       1  \n",
       "3          93826.63       0  \n",
       "4          79084.10       0  "
      ]
     },
     "execution_count": 6,
     "metadata": {},
     "output_type": "execute_result"
    }
   ],
   "source": [
    "df = df.rename(columns={'rownumber':'row_number', 'customerid':'customer_id', 'creditscore':'credit_score', \n",
    "                        'numofproducts':'num_of_products', 'hascrcard':'has_cr_card', \n",
    "                        'isactivemember':'is_active_member', 'estimatedsalary':'estimated_salary'})\n",
    "df.head()"
   ]
  },
  {
   "cell_type": "markdown",
   "metadata": {},
   "source": [
    "2. Исходя из первичных исследований, видно, что в данных есть пропуски в столбце Tenure, который содержит информацию о том, сколько лет человек является клиентом банка. В данном случае будет некорректно заменять чем-либо эти пропуски, т.к. логически сложно проследить зависимость срока, в течение которого человек является клиентом банка, от других показателей. Заменить 0 тоже считаю некорректным, это будет значить, что человек не является клиентом банка, а такое вряд ли возможно. скорее всего пропуски возникли по техническим проблемам. Кроме того, пропущенных данных не так много - менее 10%. Удалим данные с пропусками, чтобы они не помешали нашей модели обучиться."
   ]
  },
  {
   "cell_type": "code",
   "execution_count": 7,
   "metadata": {},
   "outputs": [
    {
     "name": "stdout",
     "output_type": "stream",
     "text": [
      "<class 'pandas.core.frame.DataFrame'>\n",
      "Int64Index: 9091 entries, 0 to 9998\n",
      "Data columns (total 14 columns):\n",
      " #   Column            Non-Null Count  Dtype  \n",
      "---  ------            --------------  -----  \n",
      " 0   row_number        9091 non-null   int64  \n",
      " 1   customer_id       9091 non-null   int64  \n",
      " 2   surname           9091 non-null   object \n",
      " 3   credit_score      9091 non-null   int64  \n",
      " 4   geography         9091 non-null   object \n",
      " 5   gender            9091 non-null   object \n",
      " 6   age               9091 non-null   int64  \n",
      " 7   tenure            9091 non-null   float64\n",
      " 8   balance           9091 non-null   float64\n",
      " 9   num_of_products   9091 non-null   int64  \n",
      " 10  has_cr_card       9091 non-null   int64  \n",
      " 11  is_active_member  9091 non-null   int64  \n",
      " 12  estimated_salary  9091 non-null   float64\n",
      " 13  exited            9091 non-null   int64  \n",
      "dtypes: float64(3), int64(8), object(3)\n",
      "memory usage: 1.0+ MB\n"
     ]
    }
   ],
   "source": [
    "df = df.dropna()\n",
    "df.info()"
   ]
  },
  {
   "cell_type": "markdown",
   "metadata": {},
   "source": [
    "3. Проверим данные на наличие явных дубликатов."
   ]
  },
  {
   "cell_type": "code",
   "execution_count": 8,
   "metadata": {},
   "outputs": [
    {
     "data": {
      "text/plain": [
       "0"
      ]
     },
     "execution_count": 8,
     "metadata": {},
     "output_type": "execute_result"
    }
   ],
   "source": [
    "df.duplicated().sum()"
   ]
  },
  {
   "cell_type": "code",
   "execution_count": 9,
   "metadata": {},
   "outputs": [
    {
     "data": {
      "text/html": [
       "<div>\n",
       "<style scoped>\n",
       "    .dataframe tbody tr th:only-of-type {\n",
       "        vertical-align: middle;\n",
       "    }\n",
       "\n",
       "    .dataframe tbody tr th {\n",
       "        vertical-align: top;\n",
       "    }\n",
       "\n",
       "    .dataframe thead th {\n",
       "        text-align: right;\n",
       "    }\n",
       "</style>\n",
       "<table border=\"1\" class=\"dataframe\">\n",
       "  <thead>\n",
       "    <tr style=\"text-align: right;\">\n",
       "      <th></th>\n",
       "      <th>row_number</th>\n",
       "      <th>customer_id</th>\n",
       "      <th>surname</th>\n",
       "      <th>credit_score</th>\n",
       "      <th>geography</th>\n",
       "      <th>gender</th>\n",
       "      <th>age</th>\n",
       "      <th>tenure</th>\n",
       "      <th>balance</th>\n",
       "      <th>num_of_products</th>\n",
       "      <th>has_cr_card</th>\n",
       "      <th>is_active_member</th>\n",
       "      <th>estimated_salary</th>\n",
       "      <th>exited</th>\n",
       "    </tr>\n",
       "  </thead>\n",
       "  <tbody>\n",
       "  </tbody>\n",
       "</table>\n",
       "</div>"
      ],
      "text/plain": [
       "Empty DataFrame\n",
       "Columns: [row_number, customer_id, surname, credit_score, geography, gender, age, tenure, balance, num_of_products, has_cr_card, is_active_member, estimated_salary, exited]\n",
       "Index: []"
      ]
     },
     "execution_count": 9,
     "metadata": {},
     "output_type": "execute_result"
    }
   ],
   "source": [
    "df[df[['surname', 'customer_id','gender']].duplicated(keep=False)]"
   ]
  },
  {
   "cell_type": "markdown",
   "metadata": {},
   "source": [
    "Явные дубликаты отсутствуют."
   ]
  },
  {
   "cell_type": "markdown",
   "metadata": {},
   "source": [
    "4. Проверим на наличие неявных дубликатов. Для этого проверим уникальные значения в столбцt с названиями стран."
   ]
  },
  {
   "cell_type": "code",
   "execution_count": 10,
   "metadata": {},
   "outputs": [
    {
     "data": {
      "text/plain": [
       "array(['France', 'Spain', 'Germany'], dtype=object)"
      ]
     },
     "execution_count": 10,
     "metadata": {},
     "output_type": "execute_result"
    }
   ],
   "source": [
    "df['geography'].unique()"
   ]
  },
  {
   "cell_type": "markdown",
   "metadata": {},
   "source": [
    "5. На всякий случай проверим уникальные значения в солбцах с полом, возрастом и фактом ухода клиента (целевой признак). Делаем это для того, чтобы убедиться в отсутствии аномалий."
   ]
  },
  {
   "cell_type": "code",
   "execution_count": 11,
   "metadata": {},
   "outputs": [
    {
     "data": {
      "text/plain": [
       "array(['Female', 'Male'], dtype=object)"
      ]
     },
     "execution_count": 11,
     "metadata": {},
     "output_type": "execute_result"
    }
   ],
   "source": [
    "df['gender'].unique()"
   ]
  },
  {
   "cell_type": "code",
   "execution_count": 12,
   "metadata": {},
   "outputs": [
    {
     "data": {
      "text/plain": [
       "array([42, 41, 39, 43, 44, 50, 29, 27, 31, 24, 34, 25, 35, 45, 58, 32, 38,\n",
       "       46, 36, 33, 40, 51, 61, 49, 37, 19, 66, 56, 26, 21, 55, 22, 30, 28,\n",
       "       65, 52, 48, 57, 73, 47, 54, 72, 20, 67, 79, 62, 53, 80, 59, 68, 75,\n",
       "       23, 60, 63, 64, 70, 18, 82, 69, 74, 71, 76, 77, 88, 85, 84, 81, 78,\n",
       "       92, 83])"
      ]
     },
     "execution_count": 12,
     "metadata": {},
     "output_type": "execute_result"
    }
   ],
   "source": [
    "df['age'].unique()"
   ]
  },
  {
   "cell_type": "code",
   "execution_count": 13,
   "metadata": {},
   "outputs": [
    {
     "data": {
      "text/plain": [
       "array([1, 0])"
      ]
     },
     "execution_count": 13,
     "metadata": {},
     "output_type": "execute_result"
    }
   ],
   "source": [
    "df['exited'].unique()"
   ]
  },
  {
   "cell_type": "markdown",
   "metadata": {},
   "source": [
    "С этими данными все хорошо, аномалий не замечено."
   ]
  },
  {
   "cell_type": "markdown",
   "metadata": {},
   "source": [
    "6. Преобразуем категориальные признаки в численные методом прямого кодирования (OHE). "
   ]
  },
  {
   "cell_type": "code",
   "execution_count": 14,
   "metadata": {},
   "outputs": [
    {
     "data": {
      "text/html": [
       "<div>\n",
       "<style scoped>\n",
       "    .dataframe tbody tr th:only-of-type {\n",
       "        vertical-align: middle;\n",
       "    }\n",
       "\n",
       "    .dataframe tbody tr th {\n",
       "        vertical-align: top;\n",
       "    }\n",
       "\n",
       "    .dataframe thead th {\n",
       "        text-align: right;\n",
       "    }\n",
       "</style>\n",
       "<table border=\"1\" class=\"dataframe\">\n",
       "  <thead>\n",
       "    <tr style=\"text-align: right;\">\n",
       "      <th></th>\n",
       "      <th>row_number</th>\n",
       "      <th>customer_id</th>\n",
       "      <th>surname</th>\n",
       "      <th>credit_score</th>\n",
       "      <th>age</th>\n",
       "      <th>tenure</th>\n",
       "      <th>balance</th>\n",
       "      <th>num_of_products</th>\n",
       "      <th>has_cr_card</th>\n",
       "      <th>is_active_member</th>\n",
       "      <th>estimated_salary</th>\n",
       "      <th>exited</th>\n",
       "      <th>gender_Male</th>\n",
       "      <th>geography_Germany</th>\n",
       "      <th>geography_Spain</th>\n",
       "    </tr>\n",
       "  </thead>\n",
       "  <tbody>\n",
       "    <tr>\n",
       "      <th>0</th>\n",
       "      <td>1</td>\n",
       "      <td>15634602</td>\n",
       "      <td>Hargrave</td>\n",
       "      <td>619</td>\n",
       "      <td>42</td>\n",
       "      <td>2.0</td>\n",
       "      <td>0.00</td>\n",
       "      <td>1</td>\n",
       "      <td>1</td>\n",
       "      <td>1</td>\n",
       "      <td>101348.88</td>\n",
       "      <td>1</td>\n",
       "      <td>0</td>\n",
       "      <td>0</td>\n",
       "      <td>0</td>\n",
       "    </tr>\n",
       "    <tr>\n",
       "      <th>1</th>\n",
       "      <td>2</td>\n",
       "      <td>15647311</td>\n",
       "      <td>Hill</td>\n",
       "      <td>608</td>\n",
       "      <td>41</td>\n",
       "      <td>1.0</td>\n",
       "      <td>83807.86</td>\n",
       "      <td>1</td>\n",
       "      <td>0</td>\n",
       "      <td>1</td>\n",
       "      <td>112542.58</td>\n",
       "      <td>0</td>\n",
       "      <td>0</td>\n",
       "      <td>0</td>\n",
       "      <td>1</td>\n",
       "    </tr>\n",
       "    <tr>\n",
       "      <th>2</th>\n",
       "      <td>3</td>\n",
       "      <td>15619304</td>\n",
       "      <td>Onio</td>\n",
       "      <td>502</td>\n",
       "      <td>42</td>\n",
       "      <td>8.0</td>\n",
       "      <td>159660.80</td>\n",
       "      <td>3</td>\n",
       "      <td>1</td>\n",
       "      <td>0</td>\n",
       "      <td>113931.57</td>\n",
       "      <td>1</td>\n",
       "      <td>0</td>\n",
       "      <td>0</td>\n",
       "      <td>0</td>\n",
       "    </tr>\n",
       "    <tr>\n",
       "      <th>3</th>\n",
       "      <td>4</td>\n",
       "      <td>15701354</td>\n",
       "      <td>Boni</td>\n",
       "      <td>699</td>\n",
       "      <td>39</td>\n",
       "      <td>1.0</td>\n",
       "      <td>0.00</td>\n",
       "      <td>2</td>\n",
       "      <td>0</td>\n",
       "      <td>0</td>\n",
       "      <td>93826.63</td>\n",
       "      <td>0</td>\n",
       "      <td>0</td>\n",
       "      <td>0</td>\n",
       "      <td>0</td>\n",
       "    </tr>\n",
       "    <tr>\n",
       "      <th>4</th>\n",
       "      <td>5</td>\n",
       "      <td>15737888</td>\n",
       "      <td>Mitchell</td>\n",
       "      <td>850</td>\n",
       "      <td>43</td>\n",
       "      <td>2.0</td>\n",
       "      <td>125510.82</td>\n",
       "      <td>1</td>\n",
       "      <td>1</td>\n",
       "      <td>1</td>\n",
       "      <td>79084.10</td>\n",
       "      <td>0</td>\n",
       "      <td>0</td>\n",
       "      <td>0</td>\n",
       "      <td>1</td>\n",
       "    </tr>\n",
       "  </tbody>\n",
       "</table>\n",
       "</div>"
      ],
      "text/plain": [
       "   row_number  customer_id   surname  credit_score  age  tenure    balance  \\\n",
       "0           1     15634602  Hargrave           619   42     2.0       0.00   \n",
       "1           2     15647311      Hill           608   41     1.0   83807.86   \n",
       "2           3     15619304      Onio           502   42     8.0  159660.80   \n",
       "3           4     15701354      Boni           699   39     1.0       0.00   \n",
       "4           5     15737888  Mitchell           850   43     2.0  125510.82   \n",
       "\n",
       "   num_of_products  has_cr_card  is_active_member  estimated_salary  exited  \\\n",
       "0                1            1                 1         101348.88       1   \n",
       "1                1            0                 1         112542.58       0   \n",
       "2                3            1                 0         113931.57       1   \n",
       "3                2            0                 0          93826.63       0   \n",
       "4                1            1                 1          79084.10       0   \n",
       "\n",
       "   gender_Male  geography_Germany  geography_Spain  \n",
       "0            0                  0                0  \n",
       "1            0                  0                1  \n",
       "2            0                  0                0  \n",
       "3            0                  0                0  \n",
       "4            0                  0                1  "
      ]
     },
     "execution_count": 14,
     "metadata": {},
     "output_type": "execute_result"
    }
   ],
   "source": [
    "df = pd.get_dummies(df, drop_first=True, columns=['gender', 'geography'])\n",
    "df.head()"
   ]
  },
  {
   "cell_type": "code",
   "execution_count": 15,
   "metadata": {},
   "outputs": [
    {
     "data": {
      "text/plain": [
       "(9091, 15)"
      ]
     },
     "execution_count": 15,
     "metadata": {},
     "output_type": "execute_result"
    }
   ],
   "source": [
    "df.shape"
   ]
  },
  {
   "cell_type": "code",
   "execution_count": 16,
   "metadata": {},
   "outputs": [
    {
     "name": "stdout",
     "output_type": "stream",
     "text": [
      "<class 'pandas.core.frame.DataFrame'>\n",
      "Int64Index: 9091 entries, 0 to 9998\n",
      "Data columns (total 15 columns):\n",
      " #   Column             Non-Null Count  Dtype  \n",
      "---  ------             --------------  -----  \n",
      " 0   row_number         9091 non-null   int64  \n",
      " 1   customer_id        9091 non-null   int64  \n",
      " 2   surname            9091 non-null   object \n",
      " 3   credit_score       9091 non-null   int64  \n",
      " 4   age                9091 non-null   int64  \n",
      " 5   tenure             9091 non-null   float64\n",
      " 6   balance            9091 non-null   float64\n",
      " 7   num_of_products    9091 non-null   int64  \n",
      " 8   has_cr_card        9091 non-null   int64  \n",
      " 9   is_active_member   9091 non-null   int64  \n",
      " 10  estimated_salary   9091 non-null   float64\n",
      " 11  exited             9091 non-null   int64  \n",
      " 12  gender_Male        9091 non-null   uint8  \n",
      " 13  geography_Germany  9091 non-null   uint8  \n",
      " 14  geography_Spain    9091 non-null   uint8  \n",
      "dtypes: float64(3), int64(8), object(1), uint8(3)\n",
      "memory usage: 949.9+ KB\n"
     ]
    }
   ],
   "source": [
    "df.info()"
   ]
  },
  {
   "cell_type": "markdown",
   "metadata": {},
   "source": [
    "7. Масштабирование признаков.\n",
    "В данных содержатся столбцы, значения которых разбросаны в разных диапазонах, например: возраст клиента может колебаться от 0 до 100 лет, а баланс на счете до нескольких миллионов. Модель автоматически решит, что признак с большими значениями важнее, а это не так. Для того, чтобы модель обучалась корректно произведем масштабирование признаков."
   ]
  },
  {
   "cell_type": "markdown",
   "metadata": {},
   "source": [
    "Приступим к масштабированию признаков. Сначала создадим список столбцов, которые будем масштабировать. Затем, для масштабирования вызовем структуру StandardScaler, настроим ее и преобразуем с помощью нее данные."
   ]
  },
  {
   "cell_type": "code",
   "execution_count": 17,
   "metadata": {},
   "outputs": [],
   "source": [
    "#numeric = ['credit_score', 'balance', 'estimated_salary', 'age', 'tenure']\n",
    "\n",
    "#scaler = StandardScaler()\n",
    "#scaler.fit(df[numeric])\n",
    "\n",
    "#df[numeric] = scaler.transform(df[numeric])"
   ]
  },
  {
   "cell_type": "code",
   "execution_count": 18,
   "metadata": {},
   "outputs": [],
   "source": [
    "#df.head()"
   ]
  },
  {
   "cell_type": "markdown",
   "metadata": {},
   "source": [
    "Объявим две переменные - признаки (features) и целевой признак (target). Целевым признаком будет являться колонка exited (факт ухода клиента), остальные колонки таблицы - это features."
   ]
  },
  {
   "cell_type": "code",
   "execution_count": 19,
   "metadata": {},
   "outputs": [],
   "source": [
    "features = df.drop(['exited'], axis=1)\n",
    "target = df['exited']"
   ]
  },
  {
   "cell_type": "code",
   "execution_count": 20,
   "metadata": {},
   "outputs": [
    {
     "name": "stdout",
     "output_type": "stream",
     "text": [
      "(9091, 14)\n",
      "(9091,)\n"
     ]
    }
   ],
   "source": [
    "print(features.shape)\n",
    "print(target.shape)"
   ]
  },
  {
   "cell_type": "markdown",
   "metadata": {},
   "source": [
    "Разделим все данные на обучающую, валидационную и тестовую выборки в соотношении 3:1:1. Предварительно еще удалим столбцы с данными о айди, фамилии клиента и номером строки - они не нужны, т.к. никак не повлияют на обучение модели. Тестовая выборка понадобится нам в самом конце, для проверки модели."
   ]
  },
  {
   "cell_type": "code",
   "execution_count": 21,
   "metadata": {},
   "outputs": [],
   "source": [
    "features_train, target_train, features_valid, target_valid, features_test, target_test = \\\n",
    "train_valid_test_split(df.drop(['surname', 'customer_id', 'row_number'], axis=1),target='exited', \n",
    "                       train_size=0.6, valid_size=0.2, test_size=0.2)"
   ]
  },
  {
   "cell_type": "code",
   "execution_count": 22,
   "metadata": {},
   "outputs": [
    {
     "name": "stdout",
     "output_type": "stream",
     "text": [
      "(5454, 11)\n",
      "(5454,)\n"
     ]
    }
   ],
   "source": [
    "print(features_train.shape)\n",
    "print(target_train.shape)"
   ]
  },
  {
   "cell_type": "code",
   "execution_count": 23,
   "metadata": {},
   "outputs": [
    {
     "name": "stdout",
     "output_type": "stream",
     "text": [
      "(1818, 11)\n",
      "(1818,)\n"
     ]
    }
   ],
   "source": [
    "print(features_valid.shape)\n",
    "print(target_valid.shape)"
   ]
  },
  {
   "cell_type": "code",
   "execution_count": 24,
   "metadata": {},
   "outputs": [
    {
     "name": "stdout",
     "output_type": "stream",
     "text": [
      "(1819, 11)\n",
      "(1819,)\n"
     ]
    }
   ],
   "source": [
    "print(features_test.shape)\n",
    "print(target_test.shape)"
   ]
  },
  {
   "cell_type": "code",
   "execution_count": 25,
   "metadata": {},
   "outputs": [
    {
     "data": {
      "text/html": [
       "<div>\n",
       "<style scoped>\n",
       "    .dataframe tbody tr th:only-of-type {\n",
       "        vertical-align: middle;\n",
       "    }\n",
       "\n",
       "    .dataframe tbody tr th {\n",
       "        vertical-align: top;\n",
       "    }\n",
       "\n",
       "    .dataframe thead th {\n",
       "        text-align: right;\n",
       "    }\n",
       "</style>\n",
       "<table border=\"1\" class=\"dataframe\">\n",
       "  <thead>\n",
       "    <tr style=\"text-align: right;\">\n",
       "      <th></th>\n",
       "      <th>credit_score</th>\n",
       "      <th>age</th>\n",
       "      <th>tenure</th>\n",
       "      <th>balance</th>\n",
       "      <th>num_of_products</th>\n",
       "      <th>has_cr_card</th>\n",
       "      <th>is_active_member</th>\n",
       "      <th>estimated_salary</th>\n",
       "      <th>gender_Male</th>\n",
       "      <th>geography_Germany</th>\n",
       "      <th>geography_Spain</th>\n",
       "    </tr>\n",
       "  </thead>\n",
       "  <tbody>\n",
       "    <tr>\n",
       "      <th>4964</th>\n",
       "      <td>466</td>\n",
       "      <td>41</td>\n",
       "      <td>3.0</td>\n",
       "      <td>33563.95</td>\n",
       "      <td>2</td>\n",
       "      <td>1</td>\n",
       "      <td>0</td>\n",
       "      <td>178994.13</td>\n",
       "      <td>0</td>\n",
       "      <td>0</td>\n",
       "      <td>0</td>\n",
       "    </tr>\n",
       "    <tr>\n",
       "      <th>4476</th>\n",
       "      <td>778</td>\n",
       "      <td>33</td>\n",
       "      <td>1.0</td>\n",
       "      <td>0.00</td>\n",
       "      <td>2</td>\n",
       "      <td>1</td>\n",
       "      <td>0</td>\n",
       "      <td>85439.73</td>\n",
       "      <td>1</td>\n",
       "      <td>0</td>\n",
       "      <td>0</td>\n",
       "    </tr>\n",
       "    <tr>\n",
       "      <th>4027</th>\n",
       "      <td>662</td>\n",
       "      <td>39</td>\n",
       "      <td>5.0</td>\n",
       "      <td>139822.11</td>\n",
       "      <td>2</td>\n",
       "      <td>1</td>\n",
       "      <td>1</td>\n",
       "      <td>146219.90</td>\n",
       "      <td>1</td>\n",
       "      <td>1</td>\n",
       "      <td>0</td>\n",
       "    </tr>\n",
       "    <tr>\n",
       "      <th>805</th>\n",
       "      <td>790</td>\n",
       "      <td>46</td>\n",
       "      <td>9.0</td>\n",
       "      <td>0.00</td>\n",
       "      <td>1</td>\n",
       "      <td>0</td>\n",
       "      <td>0</td>\n",
       "      <td>14679.81</td>\n",
       "      <td>0</td>\n",
       "      <td>0</td>\n",
       "      <td>1</td>\n",
       "    </tr>\n",
       "    <tr>\n",
       "      <th>7359</th>\n",
       "      <td>666</td>\n",
       "      <td>36</td>\n",
       "      <td>4.0</td>\n",
       "      <td>120165.40</td>\n",
       "      <td>2</td>\n",
       "      <td>1</td>\n",
       "      <td>0</td>\n",
       "      <td>33701.50</td>\n",
       "      <td>1</td>\n",
       "      <td>0</td>\n",
       "      <td>0</td>\n",
       "    </tr>\n",
       "  </tbody>\n",
       "</table>\n",
       "</div>"
      ],
      "text/plain": [
       "      credit_score  age  tenure    balance  num_of_products  has_cr_card  \\\n",
       "4964           466   41     3.0   33563.95                2            1   \n",
       "4476           778   33     1.0       0.00                2            1   \n",
       "4027           662   39     5.0  139822.11                2            1   \n",
       "805            790   46     9.0       0.00                1            0   \n",
       "7359           666   36     4.0  120165.40                2            1   \n",
       "\n",
       "      is_active_member  estimated_salary  gender_Male  geography_Germany  \\\n",
       "4964                 0         178994.13            0                  0   \n",
       "4476                 0          85439.73            1                  0   \n",
       "4027                 1         146219.90            1                  1   \n",
       "805                  0          14679.81            0                  0   \n",
       "7359                 0          33701.50            1                  0   \n",
       "\n",
       "      geography_Spain  \n",
       "4964                0  \n",
       "4476                0  \n",
       "4027                0  \n",
       "805                 1  \n",
       "7359                0  "
      ]
     },
     "execution_count": 25,
     "metadata": {},
     "output_type": "execute_result"
    }
   ],
   "source": [
    "features_train.head()"
   ]
  },
  {
   "cell_type": "code",
   "execution_count": 26,
   "metadata": {},
   "outputs": [],
   "source": [
    "numeric = ['credit_score', 'balance', 'estimated_salary', 'age', 'tenure', 'num_of_products']\n",
    "scaler = StandardScaler()\n",
    "scaler.fit(features_train[numeric])\n",
    "features_train[numeric] = scaler.transform(features_train[numeric])\n",
    "features_valid[numeric] = scaler.transform(features_valid[numeric])\n",
    "features_test[numeric] = scaler.transform(features_test[numeric])"
   ]
  },
  {
   "cell_type": "markdown",
   "metadata": {},
   "source": [
    "Вывод: данные изучены и предобработаны - удалены пропуски, произведена проверка на дубликаты, категориальные признаки преобразованы в численные, также данные масштабированны, чтобы не вводить в заблуждение модель. Можно приступать к работе над обучением первой модели."
   ]
  },
  {
   "cell_type": "code",
   "execution_count": null,
   "metadata": {},
   "outputs": [],
   "source": []
  },
  {
   "cell_type": "code",
   "execution_count": null,
   "metadata": {},
   "outputs": [],
   "source": []
  },
  {
   "cell_type": "markdown",
   "metadata": {},
   "source": [
    "## Исследование задачи"
   ]
  },
  {
   "cell_type": "markdown",
   "metadata": {},
   "source": [
    "### 1. Проверим целевой признак на баланс классов. "
   ]
  },
  {
   "cell_type": "code",
   "execution_count": 27,
   "metadata": {
    "scrolled": true
   },
   "outputs": [
    {
     "data": {
      "text/plain": [
       "0    0.796062\n",
       "1    0.203938\n",
       "Name: exited, dtype: float64"
      ]
     },
     "execution_count": 27,
     "metadata": {},
     "output_type": "execute_result"
    }
   ],
   "source": [
    "df['exited'].value_counts(normalize=True)"
   ]
  },
  {
   "cell_type": "code",
   "execution_count": 28,
   "metadata": {},
   "outputs": [
    {
     "data": {
      "text/plain": [
       "<AxesSubplot:>"
      ]
     },
     "execution_count": 28,
     "metadata": {},
     "output_type": "execute_result"
    },
    {
     "data": {
      "image/png": "[encoded data removed]",
      "text/plain": [
       "<Figure size 432x288 with 1 Axes>"
      ]
     },
     "metadata": {
      "needs_background": "light"
     },
     "output_type": "display_data"
    }
   ],
   "source": [
    "df['exited'].value_counts(normalize=True).plot(kind='bar')"
   ]
  },
  {
   "cell_type": "markdown",
   "metadata": {},
   "source": [
    "Наглядно видно, что соотношение классов 0 и 1 далеки от соотношения 1:1. Мы наблюдаем ярко-выраженный дисбаланс классов. Класс 1 составляет всего 20% от всех данных."
   ]
  },
  {
   "cell_type": "markdown",
   "metadata": {},
   "source": [
    "### 2. Обучим модели без учета дисбаланса."
   ]
  },
  {
   "cell_type": "markdown",
   "metadata": {},
   "source": [
    "Создадим константную модель, которая будет всегда принимать значение 0 (таких значений у нас больше всего - 80%). Соответственно доля правильных ответов (accuracy) такой модели будет примерно 80%."
   ]
  },
  {
   "cell_type": "code",
   "execution_count": 29,
   "metadata": {},
   "outputs": [
    {
     "name": "stdout",
     "output_type": "stream",
     "text": [
      "0.7960620393796062\n"
     ]
    }
   ],
   "source": [
    "target_pred_constant = pd.Series([0]*len(target))\n",
    "print(accuracy_score(target, target_pred_constant))"
   ]
  },
  {
   "cell_type": "markdown",
   "metadata": {},
   "source": [
    "Обучим модели без учета дисбаланса классов. И рассмотрим метрики этих моделей."
   ]
  },
  {
   "cell_type": "markdown",
   "metadata": {},
   "source": [
    "#### Модель 1. Решающее дерево(DecisionTreeClassifier)"
   ]
  },
  {
   "cell_type": "markdown",
   "metadata": {},
   "source": [
    "Напишем код, который позволит нам выбрать наиболее качественную из возможных вариантов модели Решающего дерева. Для этого будем перебирать гиперпараметр max_depth от 1 до 10"
   ]
  },
  {
   "cell_type": "code",
   "execution_count": 30,
   "metadata": {},
   "outputs": [
    {
     "name": "stdout",
     "output_type": "stream",
     "text": [
      "Accuracy лучшей модели: 0.8476347634763476\n",
      "Глубина лучшей модели: 5\n"
     ]
    }
   ],
   "source": [
    "best_model_tree = None\n",
    "best_depth_tree = 0\n",
    "best_result_tree = 0\n",
    "for depth in range(1, 11):\n",
    "    model_tree = DecisionTreeClassifier(random_state=12345, max_depth = depth)\n",
    "    model_tree.fit(features_train, target_train)\n",
    "    predictions_valid_tree = model_tree.predict(features_valid)\n",
    "    result_tree = accuracy_score(target_valid, predictions_valid_tree)\n",
    "    if result_tree > best_result_tree:\n",
    "        best_model_tree = model_tree\n",
    "        best_depth_tree = depth\n",
    "        best_result_tree = result_tree\n",
    "        \n",
    "print(\"Accuracy лучшей модели:\", best_result_tree)\n",
    "print (\"Глубина лучшей модели:\", best_depth_tree)"
   ]
  },
  {
   "cell_type": "markdown",
   "metadata": {},
   "source": [
    "Обучим модель с оптимальными гиперпараметрами и рассчитаем другие метрики эффективности для этой модели."
   ]
  },
  {
   "cell_type": "code",
   "execution_count": 31,
   "metadata": {},
   "outputs": [],
   "source": [
    "model_tree = DecisionTreeClassifier(random_state=12345,\n",
    "                                    max_depth=5)\n",
    "model_tree.fit(features_train, target_train)\n",
    "predictions_valid_tree = model_tree.predict(features_valid)"
   ]
  },
  {
   "cell_type": "code",
   "execution_count": 32,
   "metadata": {},
   "outputs": [
    {
     "name": "stdout",
     "output_type": "stream",
     "text": [
      "Accuracy_tree: 0.8476347634763476\n",
      "Recall_tree: 0.41265822784810124\n",
      "Precision_tree: 0.7836538461538461\n",
      "F1_tree: 0.5406301824212271\n",
      "confusion_matrix_tree [[0.96837667 0.03162333]\n",
      " [0.58734177 0.41265823]]\n"
     ]
    }
   ],
   "source": [
    "print(\"Accuracy_tree:\", accuracy_score(target_valid, predictions_valid_tree))\n",
    "print(\"Recall_tree:\", recall_score(target_valid, predictions_valid_tree))\n",
    "print(\"Precision_tree:\", precision_score(target_valid, predictions_valid_tree))\n",
    "print(\"F1_tree:\", f1_score(target_valid, predictions_valid_tree))\n",
    "print(\"confusion_matrix_tree\", confusion_matrix(target_valid, predictions_valid_tree, normalize='true'))"
   ]
  },
  {
   "cell_type": "markdown",
   "metadata": {},
   "source": [
    "В данном случае мы видим, что модель довольно хоршо предсказывет истинно отрицательные значения (0) - аж 94%, зато с предсказаниями единиц(меньшего класса) все не так радужно - всего 52% попаданий. "
   ]
  },
  {
   "cell_type": "markdown",
   "metadata": {},
   "source": [
    "#### Модель 2. Случайный лес(RandomForestClassifier)"
   ]
  },
  {
   "cell_type": "markdown",
   "metadata": {},
   "source": [
    "Аналогично исследуем модель Случайный лес. В данном случае нужно будет найти лучший параметр accuracy, перебирая не только глубину, но и количество деревьев. Для исследования возьмем глубину от 1 до 10, и количество деревьев от 1 до 20."
   ]
  },
  {
   "cell_type": "code",
   "execution_count": 33,
   "metadata": {},
   "outputs": [
    {
     "name": "stdout",
     "output_type": "stream",
     "text": [
      "Accuracy лучшей модели: 0.8558855885588559\n",
      "Количество деревьев лучшей модели: 7\n",
      "Глубина лучшей модели: 7\n"
     ]
    }
   ],
   "source": [
    "best_model_forest = None\n",
    "best_est_forest = 0\n",
    "best_depth_forest = 0\n",
    "best_result_forest = 0\n",
    "for est in range(1, 21):\n",
    "    for depth in range(1, 11):\n",
    "        model_forest = RandomForestClassifier(random_state=12345, n_estimators=est, max_depth = depth) \n",
    "        model_forest.fit(features_train, target_train)\n",
    "        predictions_valid_forest = model_forest.predict(features_valid)\n",
    "        result_forest = accuracy_score(target_valid, predictions_valid_forest)\n",
    "        if result_forest > best_result_forest:\n",
    "            best_model_forest = model_forest\n",
    "            best_est_forest = est\n",
    "            best_depth_forest = depth\n",
    "            best_result_forest = result_forest\n",
    "        \n",
    "print(\"Accuracy лучшей модели:\", best_result_forest)\n",
    "print(\"Количество деревьев лучшей модели:\", best_est_forest)\n",
    "print (\"Глубина лучшей модели:\", best_depth_forest)"
   ]
  },
  {
   "cell_type": "markdown",
   "metadata": {},
   "source": [
    "Обучим модель с оптимальными гиперпараметрами, посмотрим на метрики модели."
   ]
  },
  {
   "cell_type": "code",
   "execution_count": 34,
   "metadata": {},
   "outputs": [],
   "source": [
    "model_forest = RandomForestClassifier(random_state=12345, \n",
    "                                      n_estimators=15, \n",
    "                                      max_depth=9)\n",
    "model_forest.fit(features_train, target_train)\n",
    "predictions_valid_forest = model_forest.predict(features_valid)"
   ]
  },
  {
   "cell_type": "code",
   "execution_count": 35,
   "metadata": {},
   "outputs": [
    {
     "name": "stdout",
     "output_type": "stream",
     "text": [
      "Accuracy_forest: 0.8503850385038504\n",
      "Recall_forest: 0.40253164556962023\n",
      "Precision_forest: 0.8153846153846154\n",
      "F1_forest: 0.5389830508474576\n",
      "confusion_matrix_forest [[0.97470134 0.02529866]\n",
      " [0.59746835 0.40253165]]\n"
     ]
    }
   ],
   "source": [
    "print(\"Accuracy_forest:\", accuracy_score(target_valid, predictions_valid_forest))\n",
    "print(\"Recall_forest:\", recall_score(target_valid, predictions_valid_forest))\n",
    "print(\"Precision_forest:\", precision_score(target_valid, predictions_valid_forest))\n",
    "print(\"F1_forest:\", f1_score(target_valid, predictions_valid_forest))\n",
    "print(\"confusion_matrix_forest\", confusion_matrix(target_valid, predictions_valid_forest, normalize='true'))"
   ]
  },
  {
   "cell_type": "markdown",
   "metadata": {},
   "source": [
    "Аналагичная ситуация - хорошо предсказывается 0, а 1 плохо."
   ]
  },
  {
   "cell_type": "markdown",
   "metadata": {},
   "source": [
    "#### Модель 3. Логистическая регрессия(LogisticRegression)"
   ]
  },
  {
   "cell_type": "markdown",
   "metadata": {},
   "source": [
    "Так же исследуем третью модель - Логистическую регрессию. "
   ]
  },
  {
   "cell_type": "code",
   "execution_count": 36,
   "metadata": {},
   "outputs": [],
   "source": [
    "model_regression = LogisticRegression(random_state=12345, solver='liblinear')\n",
    "model_regression.fit(features_train, target_train)\n",
    "predictions_valid_regression = model_regression.predict(features_valid)"
   ]
  },
  {
   "cell_type": "code",
   "execution_count": 37,
   "metadata": {},
   "outputs": [
    {
     "name": "stdout",
     "output_type": "stream",
     "text": [
      "Accuracy_regression: 0.7948294829482948\n",
      "Recall_regression: 0.18227848101265823\n",
      "Precision_regression: 0.5901639344262295\n",
      "F1_regression: 0.27852998065764023\n",
      "confusion_matrix_regression [[0.96486297 0.03513703]\n",
      " [0.81772152 0.18227848]]\n"
     ]
    }
   ],
   "source": [
    "print(\"Accuracy_regression:\", accuracy_score(target_valid, predictions_valid_regression))\n",
    "print(\"Recall_regression:\", recall_score(target_valid, predictions_valid_regression))\n",
    "print(\"Precision_regression:\", precision_score(target_valid, predictions_valid_regression))\n",
    "print(\"F1_regression:\", f1_score(target_valid, predictions_valid_regression))\n",
    "print(\"confusion_matrix_regression\", confusion_matrix(target_valid, predictions_valid_regression, \n",
    "                                                      normalize='true'))"
   ]
  },
  {
   "cell_type": "markdown",
   "metadata": {},
   "source": [
    "Логистическая регрессия предсказывает 1 еще хуже, чем дерево и лес, несмотря на то, что метрика accuracy достаточно высока - 80.5."
   ]
  },
  {
   "cell_type": "markdown",
   "metadata": {},
   "source": [
    "Вывод: Обучать модель без учета дисбаланса классов оказалось довольно бесполезно. Опираться на метрику accuracy в данном случае нельзя. Она получается довольно высокой, несмотря на фактически некачественную модель. В силу большого количества класса \"0\", и маленького количества класса \"1\", модели получаются неадекватными - это мы видим, если сравнить показатели accuracy константной модели (0.7960620393796062) и моделей Решающего дерева (0.8597359735973598), Случайного леса (0.8635863586358636) и Логистической регресии (0.8058305830583058). Они довольно близки по значениям.\n",
    "Однако, копнув глубже, и исследуя другие метрики, в частности матрицу ошибок, мы видим, что такой высокий показатель достигается путем предсказания большего класса(0). Меньший класс (1) модели предсказывают плохо - в среднем всего 40%. Качество предсказаний меньшего класса сильно страдает из-за дисбаланса."
   ]
  },
  {
   "cell_type": "markdown",
   "metadata": {},
   "source": [
    "## Борьба с дисбалансом"
   ]
  },
  {
   "cell_type": "markdown",
   "metadata": {},
   "source": [
    "Для борьбы с дисбалансом существует 3 метода:\n",
    "1. Взвешивание классов\n",
    "2. Увеличение выборки\n",
    "3. Уменьшение выборки\n",
    "\n",
    "Рассмотрим каждый из этих методов на разных моделях и определим лучший вариант."
   ]
  },
  {
   "cell_type": "markdown",
   "metadata": {},
   "source": [
    "#### Взвешивание классов."
   ]
  },
  {
   "cell_type": "markdown",
   "metadata": {},
   "source": [
    "Взвешивание классов достигается аргументом class_weight='balanced'. Этот аргумент подходит для всех моделей - решающего дерева, случайного леса и логистической регресии. Проверим его на каждой из них."
   ]
  },
  {
   "cell_type": "markdown",
   "metadata": {},
   "source": [
    "1. Решающее дерево(DecisionTreeClassifier)"
   ]
  },
  {
   "cell_type": "markdown",
   "metadata": {},
   "source": [
    "Подберем наилучшие гиперпараметры. Для исследования качества модели accuracy брать не будем - не надежный показатель. Возьмем среднее гармоническое полноты и точности - f1-меру"
   ]
  },
  {
   "cell_type": "code",
   "execution_count": 38,
   "metadata": {},
   "outputs": [
    {
     "name": "stdout",
     "output_type": "stream",
     "text": [
      "F1 лучшей модели: 0.6026557711950971\n",
      "Глубина лучшей модели: 6\n"
     ]
    }
   ],
   "source": [
    "best_model_tree = None\n",
    "best_depth_tree = 0\n",
    "best_result_tree = 0\n",
    "for depth in range(1, 11):\n",
    "    model_tree = DecisionTreeClassifier(random_state=12345, max_depth = depth, class_weight='balanced')\n",
    "    model_tree.fit(features_train, target_train)\n",
    "    predictions_valid_tree = model_tree.predict(features_valid)\n",
    "    result_tree = f1_score(target_valid, predictions_valid_tree)\n",
    "    if result_tree > best_result_tree:\n",
    "        best_model_tree = model_tree\n",
    "        best_depth_tree = depth\n",
    "        best_result_tree = result_tree\n",
    "        \n",
    "print(\"F1 лучшей модели:\", best_result_tree)\n",
    "print (\"Глубина лучшей модели:\", best_depth_tree)"
   ]
  },
  {
   "cell_type": "markdown",
   "metadata": {},
   "source": [
    "Обучим модель с наиболее подходящими гиперпараметрами и найдем значения метрик эффективности модели "
   ]
  },
  {
   "cell_type": "code",
   "execution_count": 39,
   "metadata": {},
   "outputs": [],
   "source": [
    "model_tree = DecisionTreeClassifier(random_state=12345,\n",
    "                                    max_depth=7,\n",
    "                                    class_weight='balanced')\n",
    "model_tree.fit(features_train, target_train)\n",
    "predictions_valid_tree = model_tree.predict(features_valid)"
   ]
  },
  {
   "cell_type": "code",
   "execution_count": 40,
   "metadata": {},
   "outputs": [
    {
     "name": "stdout",
     "output_type": "stream",
     "text": [
      "Recall_tree: 0.7164556962025317\n",
      "Precision_tree: 0.5089928057553957\n",
      "F1_tree: 0.5951629863301788\n",
      "confusion_matrix_tree [[0.80815179 0.19184821]\n",
      " [0.2835443  0.7164557 ]]\n"
     ]
    }
   ],
   "source": [
    "print(\"Recall_tree:\", recall_score(target_valid, predictions_valid_tree))\n",
    "print(\"Precision_tree:\", precision_score(target_valid, predictions_valid_tree))\n",
    "print(\"F1_tree:\", f1_score(target_valid, predictions_valid_tree))\n",
    "print(\"confusion_matrix_tree\", confusion_matrix(target_valid, predictions_valid_tree, normalize='true'))"
   ]
  },
  {
   "cell_type": "markdown",
   "metadata": {},
   "source": [
    "Также, чтобы проверить, как сильно наша модель отличается от случайной, посчитаем метрику AUC-ROC. Для случайной модели она равна 0.5, посмотрим, чему она равна для нашей модели."
   ]
  },
  {
   "cell_type": "code",
   "execution_count": 41,
   "metadata": {},
   "outputs": [
    {
     "name": "stdout",
     "output_type": "stream",
     "text": [
      "ROC-AUC_tree: 0.8257443269256429\n"
     ]
    }
   ],
   "source": [
    "probabilities_valid = model_tree.predict_proba(features_valid)\n",
    "probabilities_one_valid = probabilities_valid[:, 1]\n",
    "print(\"ROC-AUC_tree:\", roc_auc_score(target_valid, probabilities_one_valid))"
   ]
  },
  {
   "cell_type": "markdown",
   "metadata": {},
   "source": [
    "Так значительно лучше.Метрики изменились в лучшую сторону, после балансировки классов. Модель стала предсказывать лучше класс \"1\", т.е. факт ухода клиента из банка."
   ]
  },
  {
   "cell_type": "markdown",
   "metadata": {},
   "source": [
    "2. Случайный лес(RandomForestClassifier)"
   ]
  },
  {
   "cell_type": "code",
   "execution_count": 42,
   "metadata": {},
   "outputs": [
    {
     "name": "stdout",
     "output_type": "stream",
     "text": [
      "F1 лучшей модели: 0.6253229974160207\n",
      "Количество деревьев лучшей модели: 17\n",
      "Глубина лучшей модели: 9\n"
     ]
    }
   ],
   "source": [
    "# найдем лучшие гиперпараметры для Случайного леса\n",
    "best_model_forest = None\n",
    "best_est_forest = 0\n",
    "best_depth_forest = 0\n",
    "best_result_forest = 0\n",
    "for est in range(1, 21):\n",
    "    for depth in range(1, 11):\n",
    "        model_forest = RandomForestClassifier(random_state=12345, \n",
    "                                              n_estimators=est, \n",
    "                                              max_depth = depth, \n",
    "                                              class_weight='balanced') \n",
    "        model_forest.fit(features_train, target_train)\n",
    "        predictions_valid_forest = model_forest.predict(features_valid)\n",
    "        result_forest = f1_score(target_valid, predictions_valid_forest)\n",
    "        if result_forest > best_result_forest:\n",
    "            best_model_forest = model_forest\n",
    "            best_est_forest = est\n",
    "            best_depth_forest = depth\n",
    "            best_result_forest = result_forest\n",
    "        \n",
    "print(\"F1 лучшей модели:\", best_result_forest)\n",
    "print(\"Количество деревьев лучшей модели:\", best_est_forest)\n",
    "print (\"Глубина лучшей модели:\", best_depth_forest)"
   ]
  },
  {
   "cell_type": "code",
   "execution_count": 43,
   "metadata": {},
   "outputs": [],
   "source": [
    "# обучим модель с оптимальными значениями гиперпараметров\n",
    "model_forest = RandomForestClassifier(random_state=12345, \n",
    "                                      n_estimators=15, \n",
    "                                      max_depth=8,\n",
    "                                      class_weight='balanced')\n",
    "model_forest.fit(features_train, target_train)\n",
    "predictions_valid_forest = model_forest.predict(features_valid)"
   ]
  },
  {
   "cell_type": "code",
   "execution_count": 44,
   "metadata": {},
   "outputs": [
    {
     "name": "stdout",
     "output_type": "stream",
     "text": [
      "Recall_forest: 0.6582278481012658\n",
      "Precision_forest: 0.5909090909090909\n",
      "F1_forest: 0.6227544910179641\n",
      "confusion_matrix_forest [[0.87350668 0.12649332]\n",
      " [0.34177215 0.65822785]]\n",
      "ROC-AUC_forest: 0.8487773201562041\n"
     ]
    }
   ],
   "source": [
    "print(\"Recall_forest:\", recall_score(target_valid, predictions_valid_forest))\n",
    "print(\"Precision_forest:\", precision_score(target_valid, predictions_valid_forest))\n",
    "print(\"F1_forest:\", f1_score(target_valid, predictions_valid_forest))\n",
    "print(\"confusion_matrix_forest\", confusion_matrix(target_valid, predictions_valid_forest, normalize='true'))\n",
    "\n",
    "probabilities_valid = model_forest.predict_proba(features_valid)\n",
    "probabilities_one_valid = probabilities_valid[:, 1]\n",
    "print(\"ROC-AUC_forest:\", roc_auc_score(target_valid, probabilities_one_valid))"
   ]
  },
  {
   "cell_type": "markdown",
   "metadata": {},
   "source": [
    "В случае леса качество тоже значительно выросло."
   ]
  },
  {
   "cell_type": "markdown",
   "metadata": {},
   "source": [
    "3. Логистическая регрессия(LogisticRegression)"
   ]
  },
  {
   "cell_type": "code",
   "execution_count": 45,
   "metadata": {},
   "outputs": [],
   "source": [
    "# Обучим модель \n",
    "model_regression = LogisticRegression(random_state=12345, solver='liblinear', class_weight='balanced')\n",
    "model_regression.fit(features_train, target_train)\n",
    "predictions_valid_regression = model_regression.predict(features_valid)"
   ]
  },
  {
   "cell_type": "code",
   "execution_count": 46,
   "metadata": {},
   "outputs": [
    {
     "name": "stdout",
     "output_type": "stream",
     "text": [
      "Accuracy_regression: 0.6996699669966997\n",
      "Recall_regression: 0.6708860759493671\n",
      "Precision_regression: 0.3891336270190896\n",
      "F1_regression: 0.4925650557620818\n",
      "confusion_matrix_regression [[0.70765987 0.29234013]\n",
      " [0.32911392 0.67088608]]\n",
      "ROC-AUC_regression: 0.7529323856712064\n"
     ]
    }
   ],
   "source": [
    "# Рассмотрим метрики\n",
    "print(\"Accuracy_regression:\", accuracy_score(target_valid, predictions_valid_regression))\n",
    "print(\"Recall_regression:\", recall_score(target_valid, predictions_valid_regression))\n",
    "print(\"Precision_regression:\", precision_score(target_valid, predictions_valid_regression))\n",
    "print(\"F1_regression:\", f1_score(target_valid, predictions_valid_regression))\n",
    "print(\"confusion_matrix_regression\", confusion_matrix(target_valid, predictions_valid_regression, \n",
    "                                                      normalize='true'))\n",
    "\n",
    "\n",
    "probabilities_valid = model_regression.predict_proba(features_valid)\n",
    "probabilities_one_valid = probabilities_valid[:, 1]\n",
    "print(\"ROC-AUC_regression:\", roc_auc_score(target_valid, probabilities_one_valid))"
   ]
  },
  {
   "cell_type": "markdown",
   "metadata": {},
   "source": [
    "Вывод по взвешиванию классов: Данный способ балансировки классов положительно сказался на всех моделях машинного обучения, но наиболее высокое значение метрики F1 мы получили у модели Случайного леса - 0.6422976501305484."
   ]
  },
  {
   "cell_type": "markdown",
   "metadata": {},
   "source": [
    "#### Увеличение выборки."
   ]
  },
  {
   "cell_type": "markdown",
   "metadata": {},
   "source": [
    "В данном случае будем увеличивать положительный класс в 4 раза, т.к. положительный класс составляет 1/4 от отрицательного."
   ]
  },
  {
   "cell_type": "code",
   "execution_count": 47,
   "metadata": {},
   "outputs": [],
   "source": [
    "# Создадим функцию, в которой разделим признаки и целевой признак на части, где целевой признак равен 0 и равен 1\n",
    "def upsample(features, target, repeat):\n",
    "    features_zeros = features[target == 0]\n",
    "    features_ones = features[target == 1]\n",
    "    target_zeros = target[target == 0]\n",
    "    target_ones = target[target == 1]\n",
    "# объединим полученные датафреймы, предварительно умножив меньшую часть на число так, чтобы классы были\n",
    "# в пропорции 1:1\n",
    "    features_upsampled = pd.concat([features_zeros] + [features_ones] * repeat)\n",
    "    target_upsampled = pd.concat([target_zeros] + [target_ones] * repeat)\n",
    "# Перемешаем строки в полученном датафрейме    \n",
    "    features_upsampled, target_upsampled = shuffle(\n",
    "        features_upsampled, target_upsampled, random_state=12345)\n",
    "    \n",
    "    return features_upsampled, target_upsampled\n",
    "\n",
    "features_upsampled, target_upsampled = upsample(features_train, target_train, 4)"
   ]
  },
  {
   "cell_type": "code",
   "execution_count": 48,
   "metadata": {},
   "outputs": [
    {
     "name": "stdout",
     "output_type": "stream",
     "text": [
      "(8742, 11)\n",
      "(8742,)\n"
     ]
    }
   ],
   "source": [
    "print(features_upsampled.shape)\n",
    "print(target_upsampled.shape)"
   ]
  },
  {
   "cell_type": "markdown",
   "metadata": {},
   "source": [
    "1. Решающее дерево(DecisionTreeClassifier)"
   ]
  },
  {
   "cell_type": "code",
   "execution_count": 49,
   "metadata": {},
   "outputs": [
    {
     "name": "stdout",
     "output_type": "stream",
     "text": [
      "F1 лучшей модели: 0.6038894575230297\n",
      "Глубина лучшей модели: 6\n"
     ]
    }
   ],
   "source": [
    "# Подберем лучшие гиперпараметры\n",
    "best_model_tree = None\n",
    "best_depth_tree = 0\n",
    "best_result_tree = 0\n",
    "for depth in range(1, 11):\n",
    "    model_tree = DecisionTreeClassifier(random_state=12345, max_depth = depth)\n",
    "    model_tree.fit(features_upsampled, target_upsampled)\n",
    "    predictions_valid_tree = model_tree.predict(features_valid)\n",
    "    result_tree = f1_score(target_valid, predictions_valid_tree)\n",
    "    if result_tree > best_result_tree:\n",
    "        best_model_tree = model_tree\n",
    "        best_depth_tree = depth\n",
    "        best_result_tree = result_tree\n",
    "        \n",
    "print(\"F1 лучшей модели:\", best_result_tree)\n",
    "print (\"Глубина лучшей модели:\", best_depth_tree)"
   ]
  },
  {
   "cell_type": "code",
   "execution_count": 50,
   "metadata": {},
   "outputs": [],
   "source": [
    "# Обучим модель с наилучшими гиперпараметрами\n",
    "model_tree = DecisionTreeClassifier(random_state=12345, max_depth=7)\n",
    "model_tree.fit(features_upsampled, target_upsampled)\n",
    "predictions_valid_tree = model_tree.predict(features_valid)"
   ]
  },
  {
   "cell_type": "code",
   "execution_count": 51,
   "metadata": {},
   "outputs": [
    {
     "name": "stdout",
     "output_type": "stream",
     "text": [
      "Recall_tree: 0.7189873417721518\n",
      "Precision_tree: 0.5098743267504489\n",
      "F1_tree: 0.5966386554621849\n",
      "confusion_matrix_tree [[0.80815179 0.19184821]\n",
      " [0.28101266 0.71898734]]\n",
      "ROC-AUC_tree: 0.8281852388873568\n"
     ]
    }
   ],
   "source": [
    "print(\"Recall_tree:\", recall_score(target_valid, predictions_valid_tree))\n",
    "print(\"Precision_tree:\", precision_score(target_valid, predictions_valid_tree))\n",
    "print(\"F1_tree:\", f1_score(target_valid, predictions_valid_tree))\n",
    "print(\"confusion_matrix_tree\", confusion_matrix(target_valid, predictions_valid_tree, normalize='true'))\n",
    "\n",
    "probabilities_valid = model_tree.predict_proba(features_valid)\n",
    "probabilities_one_valid = probabilities_valid[:, 1]\n",
    "print(\"ROC-AUC_tree:\", roc_auc_score(target_valid, probabilities_one_valid))"
   ]
  },
  {
   "cell_type": "markdown",
   "metadata": {},
   "source": [
    "Метрики повысились, относительно ситуации, где мы не учитывали дисбаланс классов. Метрика ROC-AUC, также получилась больше , чем у случайной модели."
   ]
  },
  {
   "cell_type": "markdown",
   "metadata": {},
   "source": [
    "2. Случайный лес(RandomForestClassifier)"
   ]
  },
  {
   "cell_type": "code",
   "execution_count": 52,
   "metadata": {},
   "outputs": [
    {
     "name": "stdout",
     "output_type": "stream",
     "text": [
      "F1 лучшей модели: 0.6305084745762711\n",
      "Количество деревьев лучшей модели: 20\n",
      "Глубина лучшей модели: 8\n"
     ]
    }
   ],
   "source": [
    "# найдем лучшие гиперпараметры для Случайного леса\n",
    "best_model_forest = None\n",
    "best_est_forest = 0\n",
    "best_depth_forest = 0\n",
    "best_result_forest = 0\n",
    "for est in range(1, 21):\n",
    "    for depth in range(1, 11):\n",
    "        model_forest = RandomForestClassifier(random_state=12345, n_estimators=est, max_depth = depth) \n",
    "        model_forest.fit(features_upsampled, target_upsampled)\n",
    "        predictions_valid_forest = model_forest.predict(features_valid)\n",
    "        result_forest = f1_score(target_valid, predictions_valid_forest)\n",
    "        if result_forest > best_result_forest:\n",
    "            best_model_forest = model_forest\n",
    "            best_est_forest = est\n",
    "            best_depth_forest = depth\n",
    "            best_result_forest = result_forest\n",
    "        \n",
    "print(\"F1 лучшей модели:\", best_result_forest)\n",
    "print(\"Количество деревьев лучшей модели:\", best_est_forest)\n",
    "print (\"Глубина лучшей модели:\", best_depth_forest)"
   ]
  },
  {
   "cell_type": "code",
   "execution_count": 53,
   "metadata": {},
   "outputs": [],
   "source": [
    "# обучим модель с оптимальными значениями гиперпараметров\n",
    "model_forest = RandomForestClassifier(random_state=12345, \n",
    "                                      n_estimators=18, \n",
    "                                      max_depth=9)\n",
    "model_forest.fit(features_upsampled, target_upsampled)\n",
    "predictions_valid_forest = model_forest.predict(features_valid)"
   ]
  },
  {
   "cell_type": "code",
   "execution_count": 54,
   "metadata": {},
   "outputs": [
    {
     "name": "stdout",
     "output_type": "stream",
     "text": [
      "Recall_forest: 0.6683544303797468\n",
      "Precision_forest: 0.5853658536585366\n",
      "F1_forest: 0.6241134751773049\n",
      "confusion_matrix_forest [[0.86858749 0.13141251]\n",
      " [0.33164557 0.66835443]]\n",
      "ROC-AUC_forest: 0.8512324648407269\n"
     ]
    }
   ],
   "source": [
    "print(\"Recall_forest:\", recall_score(target_valid, predictions_valid_forest))\n",
    "print(\"Precision_forest:\", precision_score(target_valid, predictions_valid_forest))\n",
    "print(\"F1_forest:\", f1_score(target_valid, predictions_valid_forest))\n",
    "print(\"confusion_matrix_forest\", confusion_matrix(target_valid, predictions_valid_forest, normalize='true'))\n",
    "\n",
    "probabilities_valid = model_forest.predict_proba(features_valid)\n",
    "probabilities_one_valid = probabilities_valid[:, 1]\n",
    "print(\"ROC-AUC_forest:\", roc_auc_score(target_valid, probabilities_one_valid))"
   ]
  },
  {
   "cell_type": "markdown",
   "metadata": {},
   "source": [
    "3. Логистическая регрессия(LogisticRegression)"
   ]
  },
  {
   "cell_type": "code",
   "execution_count": 55,
   "metadata": {},
   "outputs": [],
   "source": [
    "# Обучим модель \n",
    "model_regression = LogisticRegression(random_state=12345, solver='liblinear')\n",
    "model_regression.fit(features_upsampled, target_upsampled)\n",
    "predictions_valid_regression = model_regression.predict(features_valid)"
   ]
  },
  {
   "cell_type": "code",
   "execution_count": 56,
   "metadata": {},
   "outputs": [
    {
     "name": "stdout",
     "output_type": "stream",
     "text": [
      "Accuracy_regression: 0.6985698569856986\n",
      "Recall_regression: 0.6784810126582278\n",
      "Precision_regression: 0.3889695210449927\n",
      "F1_regression: 0.4944649446494465\n",
      "confusion_matrix_regression [[0.70414617 0.29585383]\n",
      " [0.32151899 0.67848101]]\n",
      "ROC-AUC_regression: 0.7529341647615575\n"
     ]
    }
   ],
   "source": [
    "# Рассмотрим метрики\n",
    "print(\"Accuracy_regression:\", accuracy_score(target_valid, predictions_valid_regression))\n",
    "print(\"Recall_regression:\", recall_score(target_valid, predictions_valid_regression))\n",
    "print(\"Precision_regression:\", precision_score(target_valid, predictions_valid_regression))\n",
    "print(\"F1_regression:\", f1_score(target_valid, predictions_valid_regression))\n",
    "print(\"confusion_matrix_regression\", confusion_matrix(target_valid, predictions_valid_regression, \n",
    "                                                      normalize='true'))\n",
    "\n",
    "\n",
    "probabilities_valid = model_regression.predict_proba(features_valid)\n",
    "probabilities_one_valid = probabilities_valid[:, 1]\n",
    "print(\"ROC-AUC_regression:\", roc_auc_score(target_valid, probabilities_one_valid))"
   ]
  },
  {
   "cell_type": "markdown",
   "metadata": {},
   "source": [
    "Вывод по увеличению выборки: Данный способ балансировки классов тоже положительно сказался на всех моделях машинного обучения, но наиболее высокое значение метрики F1 мы получили у модели Случайного леса - 0.6357466063348416."
   ]
  },
  {
   "cell_type": "markdown",
   "metadata": {},
   "source": [
    "#### Уменьшение выборки."
   ]
  },
  {
   "cell_type": "markdown",
   "metadata": {},
   "source": [
    "В данном случае будем, напротив, уменьшать отрицательный класс в 4 раза, т.к. положительный класс составляет 1/4 от отрицательного. Напишем аналогичную функцию, но в объединение датафрейма добавим функцию sample(), которая выбросит из таблицы случайные элементы так, чтобы доля оставшихся элементов - frac составила 1/4 или 0.25"
   ]
  },
  {
   "cell_type": "code",
   "execution_count": 57,
   "metadata": {},
   "outputs": [
    {
     "name": "stdout",
     "output_type": "stream",
     "text": [
      "(2186, 11)\n",
      "(2186,)\n"
     ]
    }
   ],
   "source": [
    "def downsample(features, target, fraction):\n",
    "    features_zeros = features[target == 0]\n",
    "    features_ones = features[target == 1]\n",
    "    target_zeros = target[target == 0]\n",
    "    target_ones = target[target == 1]\n",
    "\n",
    "    features_downsampled = pd.concat(\n",
    "        [features_zeros.sample(frac=fraction, random_state=12345)] + [features_ones])\n",
    "    target_downsampled = pd.concat(\n",
    "        [target_zeros.sample(frac=fraction, random_state=12345)] + [target_ones])\n",
    "    \n",
    "    features_downsampled, target_downsampled = shuffle(\n",
    "        features_downsampled, target_downsampled, random_state=12345)\n",
    "    \n",
    "    return features_downsampled, target_downsampled\n",
    "\n",
    "features_downsampled, target_downsampled = downsample(features_train, target_train, 0.25)\n",
    "\n",
    "print(features_downsampled.shape)\n",
    "print(target_downsampled.shape)"
   ]
  },
  {
   "cell_type": "markdown",
   "metadata": {},
   "source": [
    "1. Решающее дерево(DecisionTreeClassifier)"
   ]
  },
  {
   "cell_type": "code",
   "execution_count": 58,
   "metadata": {},
   "outputs": [
    {
     "name": "stdout",
     "output_type": "stream",
     "text": [
      "F1 лучшей модели: 0.5879396984924624\n",
      "Глубина лучшей модели: 3\n"
     ]
    }
   ],
   "source": [
    "# Подберем лучшие гиперпараметры\n",
    "best_model_tree = None\n",
    "best_depth_tree = 0\n",
    "best_result_tree = 0\n",
    "for depth in range(1, 11):\n",
    "    model_tree = DecisionTreeClassifier(random_state=12345, max_depth = depth)\n",
    "    model_tree.fit(features_downsampled, target_downsampled)\n",
    "    predictions_valid_tree = model_tree.predict(features_valid)\n",
    "    result_tree = f1_score(target_valid, predictions_valid_tree)\n",
    "    if result_tree > best_result_tree:\n",
    "        best_model_tree = model_tree\n",
    "        best_depth_tree = depth\n",
    "        best_result_tree = result_tree\n",
    "        \n",
    "print(\"F1 лучшей модели:\", best_result_tree)\n",
    "print (\"Глубина лучшей модели:\", best_depth_tree)"
   ]
  },
  {
   "cell_type": "code",
   "execution_count": 59,
   "metadata": {},
   "outputs": [],
   "source": [
    "# Обучим модель с наилучшими гиперпараметрами\n",
    "model_tree = DecisionTreeClassifier(random_state=12345, max_depth=5)\n",
    "model_tree.fit(features_downsampled, target_downsampled)\n",
    "predictions_valid_tree = model_tree.predict(features_valid)"
   ]
  },
  {
   "cell_type": "code",
   "execution_count": 60,
   "metadata": {},
   "outputs": [
    {
     "name": "stdout",
     "output_type": "stream",
     "text": [
      "Recall_tree: 0.7721518987341772\n",
      "Precision_tree: 0.45185185185185184\n",
      "F1_tree: 0.5700934579439253\n",
      "confusion_matrix_tree [[0.73998595 0.26001405]\n",
      " [0.2278481  0.7721519 ]]\n",
      "ROC-AUC_tree: 0.8380671962425612\n"
     ]
    }
   ],
   "source": [
    "print(\"Recall_tree:\", recall_score(target_valid, predictions_valid_tree))\n",
    "print(\"Precision_tree:\", precision_score(target_valid, predictions_valid_tree))\n",
    "print(\"F1_tree:\", f1_score(target_valid, predictions_valid_tree))\n",
    "print(\"confusion_matrix_tree\", confusion_matrix(target_valid, predictions_valid_tree, normalize='true'))\n",
    "\n",
    "probabilities_valid = model_tree.predict_proba(features_valid)\n",
    "probabilities_one_valid = probabilities_valid[:, 1]\n",
    "print(\"ROC-AUC_tree:\", roc_auc_score(target_valid, probabilities_one_valid))"
   ]
  },
  {
   "cell_type": "markdown",
   "metadata": {},
   "source": [
    "2. Случайный лес(RandomForestClassifier)"
   ]
  },
  {
   "cell_type": "code",
   "execution_count": 61,
   "metadata": {},
   "outputs": [
    {
     "name": "stdout",
     "output_type": "stream",
     "text": [
      "F1 лучшей модели: 0.6050761421319797\n",
      "Количество деревьев лучшей модели: 7\n",
      "Глубина лучшей модели: 9\n"
     ]
    }
   ],
   "source": [
    "# найдем лучшие гиперпараметры для Случайного леса\n",
    "best_model_forest = None\n",
    "best_est_forest = 0\n",
    "best_depth_forest = 0\n",
    "best_result_forest = 0\n",
    "for est in range(1, 21):\n",
    "    for depth in range(1, 11):\n",
    "        model_forest = RandomForestClassifier(random_state=12345, n_estimators=est, max_depth = depth) \n",
    "        model_forest.fit(features_downsampled, target_downsampled)\n",
    "        predictions_valid_forest = model_forest.predict(features_valid)\n",
    "        result_forest = f1_score(target_valid, predictions_valid_forest)\n",
    "        if result_forest > best_result_forest:\n",
    "            best_model_forest = model_forest\n",
    "            best_est_forest = est\n",
    "            best_depth_forest = depth\n",
    "            best_result_forest = result_forest\n",
    "        \n",
    "print(\"F1 лучшей модели:\", best_result_forest)\n",
    "print(\"Количество деревьев лучшей модели:\", best_est_forest)\n",
    "print (\"Глубина лучшей модели:\", best_depth_forest)"
   ]
  },
  {
   "cell_type": "code",
   "execution_count": 62,
   "metadata": {},
   "outputs": [],
   "source": [
    "# обучим модель с оптимальными значениями гиперпараметров\n",
    "model_forest = RandomForestClassifier(random_state=12345, \n",
    "                                      n_estimators=20, \n",
    "                                      max_depth=6)\n",
    "model_forest.fit(features_downsampled, target_downsampled)\n",
    "predictions_valid_forest = model_forest.predict(features_valid)"
   ]
  },
  {
   "cell_type": "code",
   "execution_count": 63,
   "metadata": {},
   "outputs": [
    {
     "name": "stdout",
     "output_type": "stream",
     "text": [
      "Recall_forest: 0.7240506329113924\n",
      "Precision_forest: 0.5035211267605634\n",
      "F1_forest: 0.5939771547248183\n",
      "confusion_matrix_forest [[0.80182713 0.19817287]\n",
      " [0.27594937 0.72405063]]\n",
      "ROC-AUC_forest: 0.8396941743686452\n"
     ]
    }
   ],
   "source": [
    "print(\"Recall_forest:\", recall_score(target_valid, predictions_valid_forest))\n",
    "print(\"Precision_forest:\", precision_score(target_valid, predictions_valid_forest))\n",
    "print(\"F1_forest:\", f1_score(target_valid, predictions_valid_forest))\n",
    "print(\"confusion_matrix_forest\", confusion_matrix(target_valid, predictions_valid_forest, normalize='true'))\n",
    "\n",
    "probabilities_valid = model_forest.predict_proba(features_valid)\n",
    "probabilities_one_valid = probabilities_valid[:, 1]\n",
    "print(\"ROC-AUC_forest:\", roc_auc_score(target_valid, probabilities_one_valid))"
   ]
  },
  {
   "cell_type": "markdown",
   "metadata": {},
   "source": [
    "3. Логистическая регрессия(LogisticRegression)"
   ]
  },
  {
   "cell_type": "code",
   "execution_count": 64,
   "metadata": {},
   "outputs": [],
   "source": [
    "# Обучим модель \n",
    "model_regression = LogisticRegression(random_state=12345, solver='liblinear')\n",
    "model_regression.fit(features_downsampled, target_downsampled)\n",
    "predictions_valid_regression = model_regression.predict(features_valid)"
   ]
  },
  {
   "cell_type": "code",
   "execution_count": 65,
   "metadata": {},
   "outputs": [
    {
     "name": "stdout",
     "output_type": "stream",
     "text": [
      "Accuracy_regression: 0.7002200220022002\n",
      "Recall_regression: 0.7012658227848101\n",
      "Precision_regression: 0.3934659090909091\n",
      "F1_regression: 0.5040946314831665\n",
      "confusion_matrix_regression [[0.69992973 0.30007027]\n",
      " [0.29873418 0.70126582]]\n",
      "ROC-AUC_regression: 0.7541172598450413\n"
     ]
    }
   ],
   "source": [
    "# Рассмотрим метрики\n",
    "print(\"Accuracy_regression:\", accuracy_score(target_valid, predictions_valid_regression))\n",
    "print(\"Recall_regression:\", recall_score(target_valid, predictions_valid_regression))\n",
    "print(\"Precision_regression:\", precision_score(target_valid, predictions_valid_regression))\n",
    "print(\"F1_regression:\", f1_score(target_valid, predictions_valid_regression))\n",
    "print(\"confusion_matrix_regression\", confusion_matrix(target_valid, predictions_valid_regression, \n",
    "                                                      normalize='true'))\n",
    "\n",
    "\n",
    "probabilities_valid = model_regression.predict_proba(features_valid)\n",
    "probabilities_one_valid = probabilities_valid[:, 1]\n",
    "print(\"ROC-AUC_regression:\", roc_auc_score(target_valid, probabilities_one_valid))"
   ]
  },
  {
   "cell_type": "markdown",
   "metadata": {},
   "source": [
    "Вывод по уменьшению выборки: Данный способ балансировки классов тоже положительно сказался на всех моделях машинного обучения, но наиболее высокое значение метрики F1 мы получили также у модели Случайного леса - 0.615866388308977."
   ]
  },
  {
   "cell_type": "markdown",
   "metadata": {},
   "source": [
    "Для того, чтобы наглядно увидеть значение метрики F1 для всех вариантов моделей и балансировки, соберем все значения в одну таблицу."
   ]
  },
  {
   "cell_type": "code",
   "execution_count": 66,
   "metadata": {},
   "outputs": [
    {
     "data": {
      "text/html": [
       "<div>\n",
       "<style scoped>\n",
       "    .dataframe tbody tr th:only-of-type {\n",
       "        vertical-align: middle;\n",
       "    }\n",
       "\n",
       "    .dataframe tbody tr th {\n",
       "        vertical-align: top;\n",
       "    }\n",
       "\n",
       "    .dataframe thead th {\n",
       "        text-align: right;\n",
       "    }\n",
       "</style>\n",
       "<table border=\"1\" class=\"dataframe\">\n",
       "  <thead>\n",
       "    <tr style=\"text-align: right;\">\n",
       "      <th></th>\n",
       "      <th>model_name</th>\n",
       "      <th>class_weight</th>\n",
       "      <th>upsampling</th>\n",
       "      <th>downsampling</th>\n",
       "    </tr>\n",
       "  </thead>\n",
       "  <tbody>\n",
       "    <tr>\n",
       "      <th>0</th>\n",
       "      <td>tree</td>\n",
       "      <td>0.569</td>\n",
       "      <td>0.569</td>\n",
       "      <td>0.567</td>\n",
       "    </tr>\n",
       "    <tr>\n",
       "      <th>1</th>\n",
       "      <td>forest</td>\n",
       "      <td>0.627</td>\n",
       "      <td>0.612</td>\n",
       "      <td>0.602</td>\n",
       "    </tr>\n",
       "    <tr>\n",
       "      <th>2</th>\n",
       "      <td>regression</td>\n",
       "      <td>0.498</td>\n",
       "      <td>0.501</td>\n",
       "      <td>0.499</td>\n",
       "    </tr>\n",
       "  </tbody>\n",
       "</table>\n",
       "</div>"
      ],
      "text/plain": [
       "   model_name  class_weight  upsampling  downsampling\n",
       "0        tree         0.569       0.569         0.567\n",
       "1      forest         0.627       0.612         0.602\n",
       "2  regression         0.498       0.501         0.499"
      ]
     },
     "execution_count": 66,
     "metadata": {},
     "output_type": "execute_result"
    }
   ],
   "source": [
    "model_name = ['tree', 'forest', 'regression']\n",
    "class_weight_values = [0.569, 0.627, 0.498]\n",
    "upsampling_values = [0.569, 0.612, 0.501]\n",
    "downsampling_values = [0.567, 0.602, 0.499]\n",
    "\n",
    "df_metrics = pd.DataFrame({'model_name': model_name,\n",
    "                           'class_weight': class_weight_values,\n",
    "                           'upsampling': upsampling_values,\n",
    "                           'downsampling': downsampling_values })\n",
    "\n",
    "df_metrics"
   ]
  },
  {
   "cell_type": "markdown",
   "metadata": {},
   "source": [
    "#### Вывод:\n",
    "Все методы позволили достичь увеличения метрики F1. Наиболее хорошо себя показал метод увеличения выборки для модели Случайного леса - 0.613. Метрика ROC-AUC (вероятность предсказания класса \"1\") для этой модели тоже получилась довольно высокой -  0.8385601761982979. Именно эту модель случайного леса мы и возьмем для тестирования. "
   ]
  },
  {
   "cell_type": "code",
   "execution_count": null,
   "metadata": {},
   "outputs": [],
   "source": []
  },
  {
   "cell_type": "markdown",
   "metadata": {},
   "source": [
    "## Тестирование модели"
   ]
  },
  {
   "cell_type": "markdown",
   "metadata": {},
   "source": [
    "Заново обучим модель на тех гиперпараметрах, которые дали наилучшее значение F1ю Сбалансируем классы путем взвешивания =, передадим модели тестовую выборку."
   ]
  },
  {
   "cell_type": "code",
   "execution_count": 67,
   "metadata": {},
   "outputs": [],
   "source": [
    "model_forest = RandomForestClassifier(random_state=12345, \n",
    "                                      n_estimators=20, \n",
    "                                      max_depth=9)\n",
    "model_forest.fit(features_upsampled, target_upsampled)\n",
    "predictions_test_forest = model_forest.predict(features_test)"
   ]
  },
  {
   "cell_type": "code",
   "execution_count": 68,
   "metadata": {},
   "outputs": [
    {
     "name": "stdout",
     "output_type": "stream",
     "text": [
      "Recall_forest: 0.696969696969697\n",
      "Precision_forest: 0.5382978723404256\n",
      "F1_forest: 0.6074429771908765\n",
      "confusion_matrix_forest [[0.85096154 0.14903846]\n",
      " [0.3030303  0.6969697 ]]\n",
      "ROC-AUC_forest: 0.8589062452698818\n"
     ]
    }
   ],
   "source": [
    "print(\"Recall_forest:\", recall_score(target_test, predictions_test_forest))\n",
    "print(\"Precision_forest:\", precision_score(target_test, predictions_test_forest))\n",
    "print(\"F1_forest:\", f1_score(target_test, predictions_test_forest))\n",
    "print(\"confusion_matrix_forest\", confusion_matrix(target_test, predictions_test_forest, normalize='true'))\n",
    "\n",
    "probabilities_test = model_forest.predict_proba(features_test)\n",
    "probabilities_one_test = probabilities_test[:, 1]\n",
    "print(\"ROC-AUC_forest:\", roc_auc_score(target_test, probabilities_one_test))"
   ]
  },
  {
   "cell_type": "code",
   "execution_count": 69,
   "metadata": {},
   "outputs": [
    {
     "name": "stdout",
     "output_type": "stream",
     "text": [
      "Recall_forest: 0.6831955922865014\n",
      "Precision_forest: 0.5675057208237986\n",
      "F1_forest: 0.62\n",
      "confusion_matrix_forest [[0.87019231 0.12980769]\n",
      " [0.31680441 0.68319559]]\n",
      "ROC-AUC_forest: 0.8560776344867255\n"
     ]
    }
   ],
   "source": [
    "model_forest = RandomForestClassifier(random_state=12345, \n",
    "                                      n_estimators=15, \n",
    "                                      max_depth=8,\n",
    "                                      class_weight='balanced')\n",
    "model_forest.fit(features_train, target_train)\n",
    "predictions_test_forest = model_forest.predict(features_test)\n",
    "\n",
    "print(\"Recall_forest:\", recall_score(target_test, predictions_test_forest))\n",
    "print(\"Precision_forest:\", precision_score(target_test, predictions_test_forest))\n",
    "print(\"F1_forest:\", f1_score(target_test, predictions_test_forest))\n",
    "print(\"confusion_matrix_forest\", confusion_matrix(target_test, predictions_test_forest, normalize='true'))\n",
    "\n",
    "probabilities_test = model_forest.predict_proba(features_test)\n",
    "probabilities_one_test = probabilities_test[:, 1]\n",
    "print(\"ROC-AUC_forest:\", roc_auc_score(target_test, probabilities_one_test))"
   ]
  },
  {
   "cell_type": "markdown",
   "metadata": {},
   "source": [
    "Вывод: На тестовой выборке модель Случайного леса показала неплохие результаты. Метрика F1 составила 0.5939849624060151, что входит в порог 0.59. Метрика ROC-AUC тоже довольно высокая - почти 85%"
   ]
  },
  {
   "cell_type": "markdown",
   "metadata": {},
   "source": [
    "## Общий вывод"
   ]
  },
  {
   "cell_type": "markdown",
   "metadata": {},
   "source": [
    "#### Этап 1. Изучение и предобработка данных.\n",
    "В ходе этого этапа был открыт файл и изучены данные. Они действительно соответствовали документации. Назания колонок были приведены к нижнему регистру. Так же была проведена проверка на пропуски и дубликаты. Пропуски не подлежали восстановлению и были удалены, явных и неявных дубликатов обнаружено не было.\n",
    "Категориальные признаки были преобразованы в численные, также данные масштабированны, чтобы не вводить в заблуждение модель.\n",
    "\n",
    "Данные были разделены на три выборки в соотношении 3:1:1. 60% данных было отведено на обучающую выборку, 20% - на валидационную и еще 20% на тестовую.\n",
    "\n",
    "#### Этап 2. Исследование баланса классов, обучение моделей без учёта дисбаланса.\n",
    "В результате исследования был обнаружен сильный дисбаланс классов. Класса с меткой \"1\" оказалось аж в 4 раза меньше, чем класса с пометкой \"0\". \n",
    "Были обучены 3 модели - Решающее дерево, Случайный лес и Логистическая регрессия - без учета дисбаланса. Качество этих моделей было довольно низкое, он хорошо предсказывают класс \"0\", но с классом \"1\" возникают трудности и попаданий очень мало.\n",
    "\n",
    "#### Этап 3. Улучшение качества моделей, учитывая дисбаланс классов.\n",
    "В ходе работы были исследованы 3 разных модели:\n",
    "1. Решающее дерево(DecisionTreeClassifier)\n",
    "2. Случайный лес(RandomForestClassifier)\n",
    "3. Логистическая регрессия(LogisticRegression)\n",
    "Для проверки качества моделей была использована метрика F1 и другие.\n",
    "\n",
    "Все эти модели были балансированы с помощью 3-х методов:\n",
    "1. Взвешивание классов\n",
    "2. Увеличения выборки \n",
    "3. Уменьшения выборки\n",
    "\n",
    "Наиболее качественной показала себя модель случайного леса, которая была сбалансированна увеличением выборки. Ее F1 составил 0.613, а ROC-AUC (вероятность предсказания класса \"1\") -  0.839.\n",
    "\n",
    "#### Этап 4. Проверка качества модели на тестовой выборке.\n",
    "На тестовой выборке была проверена модель Случайного леса(RandomForestClassifier), которая показала наиболее высокий показатель качества. F1 модели случайного леса на тестовой выборке составила 0.5939849624060151. Модель рабочая."
   ]
  }
 ],
 "metadata": {
  "ExecuteTimeLog": [
   {
    "duration": 1146,
    "start_time": "2023-07-28T12:00:53.434Z"
   },
   {
    "duration": 159,
    "start_time": "2023-07-28T12:00:55.466Z"
   },
   {
    "duration": 22,
    "start_time": "2023-07-28T12:02:16.196Z"
   },
   {
    "duration": 7,
    "start_time": "2023-07-28T12:15:53.020Z"
   },
   {
    "duration": 105,
    "start_time": "2023-07-28T12:21:44.710Z"
   },
   {
    "duration": 18,
    "start_time": "2023-07-28T12:22:03.800Z"
   },
   {
    "duration": 14,
    "start_time": "2023-07-28T12:26:27.161Z"
   },
   {
    "duration": 30,
    "start_time": "2023-07-28T12:29:27.486Z"
   },
   {
    "duration": 15,
    "start_time": "2023-07-28T12:31:36.352Z"
   },
   {
    "duration": 5,
    "start_time": "2023-07-28T12:38:32.946Z"
   },
   {
    "duration": 5,
    "start_time": "2023-07-28T12:39:00.460Z"
   },
   {
    "duration": 6,
    "start_time": "2023-07-28T12:42:22.117Z"
   },
   {
    "duration": 4,
    "start_time": "2023-07-28T12:42:49.682Z"
   },
   {
    "duration": 5,
    "start_time": "2023-07-28T12:43:24.334Z"
   },
   {
    "duration": 25,
    "start_time": "2023-07-28T12:45:59.993Z"
   },
   {
    "duration": 218,
    "start_time": "2023-07-28T12:53:35.932Z"
   },
   {
    "duration": 5,
    "start_time": "2023-07-28T12:54:15.219Z"
   },
   {
    "duration": 70,
    "start_time": "2023-07-28T12:54:37.662Z"
   },
   {
    "duration": 5,
    "start_time": "2023-07-28T12:54:43.289Z"
   },
   {
    "duration": 3,
    "start_time": "2023-07-28T12:56:09.579Z"
   },
   {
    "duration": 3464,
    "start_time": "2023-07-28T13:00:12.326Z"
   },
   {
    "duration": 4,
    "start_time": "2023-07-28T13:00:30.160Z"
   },
   {
    "duration": 1127,
    "start_time": "2023-07-28T13:06:11.950Z"
   },
   {
    "duration": 80,
    "start_time": "2023-07-28T13:06:13.079Z"
   },
   {
    "duration": 11,
    "start_time": "2023-07-28T13:06:13.160Z"
   },
   {
    "duration": 6,
    "start_time": "2023-07-28T13:06:13.172Z"
   },
   {
    "duration": 11,
    "start_time": "2023-07-28T13:06:13.179Z"
   },
   {
    "duration": 45,
    "start_time": "2023-07-28T13:06:13.192Z"
   },
   {
    "duration": 16,
    "start_time": "2023-07-28T13:06:13.238Z"
   },
   {
    "duration": 10,
    "start_time": "2023-07-28T13:06:13.255Z"
   },
   {
    "duration": 11,
    "start_time": "2023-07-28T13:06:13.267Z"
   },
   {
    "duration": 3,
    "start_time": "2023-07-28T13:06:13.280Z"
   },
   {
    "duration": 28,
    "start_time": "2023-07-28T13:06:13.284Z"
   },
   {
    "duration": 10,
    "start_time": "2023-07-28T13:06:13.322Z"
   },
   {
    "duration": 8,
    "start_time": "2023-07-28T13:06:13.334Z"
   },
   {
    "duration": 26,
    "start_time": "2023-07-28T13:06:13.343Z"
   },
   {
    "duration": 4,
    "start_time": "2023-07-28T13:06:13.370Z"
   },
   {
    "duration": 107,
    "start_time": "2023-07-28T13:07:00.181Z"
   },
   {
    "duration": 12,
    "start_time": "2023-07-28T13:07:06.032Z"
   },
   {
    "duration": 10,
    "start_time": "2023-07-28T13:15:09.536Z"
   },
   {
    "duration": 5,
    "start_time": "2023-07-28T13:15:27.279Z"
   },
   {
    "duration": 3,
    "start_time": "2023-07-28T13:18:53.574Z"
   },
   {
    "duration": 4,
    "start_time": "2023-07-28T13:22:11.834Z"
   },
   {
    "duration": 3,
    "start_time": "2023-07-28T13:23:12.195Z"
   },
   {
    "duration": 3,
    "start_time": "2023-07-28T13:23:16.839Z"
   },
   {
    "duration": 15,
    "start_time": "2023-07-28T13:29:57.013Z"
   },
   {
    "duration": 4168,
    "start_time": "2023-07-28T13:30:33.021Z"
   },
   {
    "duration": 3049,
    "start_time": "2023-07-28T13:32:53.231Z"
   },
   {
    "duration": 8,
    "start_time": "2023-07-28T13:34:32.573Z"
   },
   {
    "duration": 3,
    "start_time": "2023-07-28T13:34:35.854Z"
   },
   {
    "duration": 12,
    "start_time": "2023-07-28T13:35:55.832Z"
   },
   {
    "duration": 149,
    "start_time": "2023-07-28T13:36:17.337Z"
   },
   {
    "duration": 18,
    "start_time": "2023-07-28T13:36:42.719Z"
   },
   {
    "duration": 134,
    "start_time": "2023-07-28T13:36:58.730Z"
   },
   {
    "duration": 399,
    "start_time": "2023-07-28T13:37:45.740Z"
   },
   {
    "duration": 174,
    "start_time": "2023-07-28T13:38:58.121Z"
   },
   {
    "duration": 10,
    "start_time": "2023-07-28T13:39:03.024Z"
   },
   {
    "duration": 36,
    "start_time": "2023-07-28T13:40:09.429Z"
   },
   {
    "duration": 9,
    "start_time": "2023-07-28T13:40:51.331Z"
   },
   {
    "duration": 11,
    "start_time": "2023-07-28T13:42:40.431Z"
   },
   {
    "duration": 8,
    "start_time": "2023-07-28T13:43:14.860Z"
   },
   {
    "duration": 3,
    "start_time": "2023-07-28T13:43:39.028Z"
   },
   {
    "duration": 3,
    "start_time": "2023-07-28T13:44:00.677Z"
   },
   {
    "duration": 3,
    "start_time": "2023-07-28T13:44:16.845Z"
   },
   {
    "duration": 42,
    "start_time": "2023-07-28T13:53:53.783Z"
   },
   {
    "duration": 35,
    "start_time": "2023-07-28T14:00:34.219Z"
   },
   {
    "duration": 26,
    "start_time": "2023-07-28T14:04:18.137Z"
   },
   {
    "duration": 15,
    "start_time": "2023-07-28T14:04:55.933Z"
   },
   {
    "duration": 7,
    "start_time": "2023-07-28T14:04:57.743Z"
   },
   {
    "duration": 3,
    "start_time": "2023-07-28T14:04:58.549Z"
   },
   {
    "duration": 2,
    "start_time": "2023-07-28T14:04:59.276Z"
   },
   {
    "duration": 8,
    "start_time": "2023-07-28T14:05:02.059Z"
   },
   {
    "duration": 24,
    "start_time": "2023-07-28T14:05:27.457Z"
   },
   {
    "duration": 14,
    "start_time": "2023-07-28T14:05:56.545Z"
   },
   {
    "duration": 18,
    "start_time": "2023-07-28T14:06:45.995Z"
   },
   {
    "duration": 13,
    "start_time": "2023-07-28T14:07:19.730Z"
   },
   {
    "duration": 8,
    "start_time": "2023-07-28T14:07:20.566Z"
   },
   {
    "duration": 19,
    "start_time": "2023-07-28T14:07:25.706Z"
   },
   {
    "duration": 9,
    "start_time": "2023-07-28T14:07:26.372Z"
   },
   {
    "duration": 33,
    "start_time": "2023-07-28T14:08:07.423Z"
   },
   {
    "duration": 9,
    "start_time": "2023-07-28T14:09:10.055Z"
   },
   {
    "duration": 4,
    "start_time": "2023-07-28T14:09:20.789Z"
   },
   {
    "duration": 8,
    "start_time": "2023-07-28T14:09:34.045Z"
   },
   {
    "duration": 4201,
    "start_time": "2023-07-28T14:10:29.860Z"
   },
   {
    "duration": 97,
    "start_time": "2023-07-28T14:10:34.063Z"
   },
   {
    "duration": 14,
    "start_time": "2023-07-28T14:10:34.162Z"
   },
   {
    "duration": 14,
    "start_time": "2023-07-28T14:10:34.177Z"
   },
   {
    "duration": 34,
    "start_time": "2023-07-28T14:10:34.194Z"
   },
   {
    "duration": 60,
    "start_time": "2023-07-28T14:10:34.230Z"
   },
   {
    "duration": 23,
    "start_time": "2023-07-28T14:10:34.292Z"
   },
   {
    "duration": 50,
    "start_time": "2023-07-28T14:10:34.316Z"
   },
   {
    "duration": 14,
    "start_time": "2023-07-28T14:10:34.367Z"
   },
   {
    "duration": 4,
    "start_time": "2023-07-28T14:10:34.383Z"
   },
   {
    "duration": 9,
    "start_time": "2023-07-28T14:10:34.389Z"
   },
   {
    "duration": 73,
    "start_time": "2023-07-28T14:10:34.401Z"
   },
   {
    "duration": 13,
    "start_time": "2023-07-28T14:10:34.475Z"
   },
   {
    "duration": 52,
    "start_time": "2023-07-28T14:10:34.491Z"
   },
   {
    "duration": 23,
    "start_time": "2023-07-28T14:10:34.544Z"
   },
   {
    "duration": 23,
    "start_time": "2023-07-28T14:10:34.568Z"
   },
   {
    "duration": 5,
    "start_time": "2023-07-28T14:10:34.592Z"
   },
   {
    "duration": 62,
    "start_time": "2023-07-28T14:10:34.599Z"
   },
   {
    "duration": 14,
    "start_time": "2023-07-28T14:10:34.663Z"
   },
   {
    "duration": 11,
    "start_time": "2023-07-28T14:10:34.678Z"
   },
   {
    "duration": 23,
    "start_time": "2023-07-28T14:10:34.690Z"
   },
   {
    "duration": 36,
    "start_time": "2023-07-28T14:10:34.714Z"
   },
   {
    "duration": 23,
    "start_time": "2023-07-28T14:10:34.755Z"
   },
   {
    "duration": 11,
    "start_time": "2023-07-28T14:10:34.779Z"
   },
   {
    "duration": 7,
    "start_time": "2023-07-28T14:10:34.791Z"
   },
   {
    "duration": 154,
    "start_time": "2023-07-28T14:22:49.519Z"
   },
   {
    "duration": 152,
    "start_time": "2023-07-28T14:23:03.944Z"
   },
   {
    "duration": 37,
    "start_time": "2023-07-28T14:23:16.481Z"
   },
   {
    "duration": 4,
    "start_time": "2023-07-28T14:23:25.852Z"
   },
   {
    "duration": 12,
    "start_time": "2023-07-28T14:23:31.382Z"
   },
   {
    "duration": 11,
    "start_time": "2023-07-28T14:23:41.422Z"
   },
   {
    "duration": 20,
    "start_time": "2023-07-28T14:23:55.126Z"
   },
   {
    "duration": 8,
    "start_time": "2023-07-28T14:23:57.825Z"
   },
   {
    "duration": 4,
    "start_time": "2023-07-28T14:23:59.463Z"
   },
   {
    "duration": 3856,
    "start_time": "2023-07-28T14:24:05.833Z"
   },
   {
    "duration": 84,
    "start_time": "2023-07-28T14:24:09.691Z"
   },
   {
    "duration": 12,
    "start_time": "2023-07-28T14:24:09.777Z"
   },
   {
    "duration": 46,
    "start_time": "2023-07-28T14:24:09.791Z"
   },
   {
    "duration": 29,
    "start_time": "2023-07-28T14:24:09.839Z"
   },
   {
    "duration": 21,
    "start_time": "2023-07-28T14:24:09.869Z"
   },
   {
    "duration": 29,
    "start_time": "2023-07-28T14:24:09.892Z"
   },
   {
    "duration": 34,
    "start_time": "2023-07-28T14:24:09.922Z"
   },
   {
    "duration": 17,
    "start_time": "2023-07-28T14:24:09.957Z"
   },
   {
    "duration": 5,
    "start_time": "2023-07-28T14:24:09.976Z"
   },
   {
    "duration": 9,
    "start_time": "2023-07-28T14:24:09.983Z"
   },
   {
    "duration": 53,
    "start_time": "2023-07-28T14:24:09.993Z"
   },
   {
    "duration": 23,
    "start_time": "2023-07-28T14:24:10.048Z"
   },
   {
    "duration": 68,
    "start_time": "2023-07-28T14:24:10.073Z"
   },
   {
    "duration": 18,
    "start_time": "2023-07-28T14:24:10.143Z"
   },
   {
    "duration": 19,
    "start_time": "2023-07-28T14:24:10.162Z"
   },
   {
    "duration": 5,
    "start_time": "2023-07-28T14:24:10.182Z"
   },
   {
    "duration": 6,
    "start_time": "2023-07-28T14:24:10.188Z"
   },
   {
    "duration": 187,
    "start_time": "2023-07-28T14:24:10.195Z"
   },
   {
    "duration": 0,
    "start_time": "2023-07-28T14:24:10.384Z"
   },
   {
    "duration": 0,
    "start_time": "2023-07-28T14:24:10.386Z"
   },
   {
    "duration": 0,
    "start_time": "2023-07-28T14:24:10.387Z"
   },
   {
    "duration": 0,
    "start_time": "2023-07-28T14:24:10.389Z"
   },
   {
    "duration": 0,
    "start_time": "2023-07-28T14:24:10.390Z"
   },
   {
    "duration": 0,
    "start_time": "2023-07-28T14:24:10.391Z"
   },
   {
    "duration": 13,
    "start_time": "2023-07-28T14:24:28.965Z"
   },
   {
    "duration": 6,
    "start_time": "2023-07-28T14:24:31.452Z"
   },
   {
    "duration": 18,
    "start_time": "2023-07-28T14:24:32.522Z"
   },
   {
    "duration": 7,
    "start_time": "2023-07-28T14:24:33.396Z"
   },
   {
    "duration": 20,
    "start_time": "2023-07-28T14:24:37.369Z"
   },
   {
    "duration": 9,
    "start_time": "2023-07-28T14:26:08.541Z"
   },
   {
    "duration": 3,
    "start_time": "2023-07-28T14:26:09.293Z"
   },
   {
    "duration": 10,
    "start_time": "2023-07-28T14:26:12.859Z"
   },
   {
    "duration": 15,
    "start_time": "2023-07-28T14:26:13.519Z"
   },
   {
    "duration": 5,
    "start_time": "2023-07-28T14:26:31.340Z"
   },
   {
    "duration": 4,
    "start_time": "2023-07-28T14:26:32.046Z"
   },
   {
    "duration": 31,
    "start_time": "2023-07-28T14:27:22.094Z"
   },
   {
    "duration": 18,
    "start_time": "2023-07-28T14:28:02.418Z"
   },
   {
    "duration": 17,
    "start_time": "2023-07-28T14:28:03.120Z"
   },
   {
    "duration": 3,
    "start_time": "2023-07-28T14:28:03.864Z"
   },
   {
    "duration": 15,
    "start_time": "2023-07-28T14:28:04.526Z"
   },
   {
    "duration": 45,
    "start_time": "2023-07-31T09:22:32.593Z"
   },
   {
    "duration": 6,
    "start_time": "2023-07-31T09:22:36.949Z"
   },
   {
    "duration": 4949,
    "start_time": "2023-07-31T09:22:42.812Z"
   },
   {
    "duration": 203,
    "start_time": "2023-07-31T09:22:47.763Z"
   },
   {
    "duration": 19,
    "start_time": "2023-07-31T09:22:47.968Z"
   },
   {
    "duration": 14,
    "start_time": "2023-07-31T09:22:47.989Z"
   },
   {
    "duration": 21,
    "start_time": "2023-07-31T09:22:48.004Z"
   },
   {
    "duration": 35,
    "start_time": "2023-07-31T09:22:48.026Z"
   },
   {
    "duration": 32,
    "start_time": "2023-07-31T09:22:48.062Z"
   },
   {
    "duration": 21,
    "start_time": "2023-07-31T09:22:48.096Z"
   },
   {
    "duration": 14,
    "start_time": "2023-07-31T09:22:48.119Z"
   },
   {
    "duration": 3,
    "start_time": "2023-07-31T09:22:48.136Z"
   },
   {
    "duration": 19,
    "start_time": "2023-07-31T09:22:48.141Z"
   },
   {
    "duration": 29,
    "start_time": "2023-07-31T09:22:48.161Z"
   },
   {
    "duration": 14,
    "start_time": "2023-07-31T09:22:48.191Z"
   },
   {
    "duration": 30,
    "start_time": "2023-07-31T09:22:48.206Z"
   },
   {
    "duration": 7,
    "start_time": "2023-07-31T09:22:48.238Z"
   },
   {
    "duration": 25,
    "start_time": "2023-07-31T09:22:48.246Z"
   },
   {
    "duration": 36,
    "start_time": "2023-07-31T09:22:48.273Z"
   },
   {
    "duration": 23,
    "start_time": "2023-07-31T09:22:48.310Z"
   },
   {
    "duration": 21,
    "start_time": "2023-07-31T09:22:48.335Z"
   },
   {
    "duration": 22,
    "start_time": "2023-07-31T09:22:48.357Z"
   },
   {
    "duration": 37,
    "start_time": "2023-07-31T09:22:48.380Z"
   },
   {
    "duration": 27,
    "start_time": "2023-07-31T09:22:48.419Z"
   },
   {
    "duration": 23,
    "start_time": "2023-07-31T09:22:48.447Z"
   },
   {
    "duration": 16,
    "start_time": "2023-07-31T09:22:48.472Z"
   },
   {
    "duration": 12,
    "start_time": "2023-07-31T09:22:48.490Z"
   },
   {
    "duration": 115,
    "start_time": "2023-07-31T09:27:38.749Z"
   },
   {
    "duration": 10,
    "start_time": "2023-07-31T09:28:01.090Z"
   },
   {
    "duration": 18,
    "start_time": "2023-07-31T09:29:12.673Z"
   },
   {
    "duration": 16,
    "start_time": "2023-07-31T09:29:16.488Z"
   },
   {
    "duration": 3,
    "start_time": "2023-07-31T09:30:13.002Z"
   },
   {
    "duration": 8,
    "start_time": "2023-07-31T09:30:16.102Z"
   },
   {
    "duration": 3,
    "start_time": "2023-07-31T09:32:36.799Z"
   },
   {
    "duration": 8,
    "start_time": "2023-07-31T09:32:37.660Z"
   },
   {
    "duration": 7,
    "start_time": "2023-07-31T09:33:16.904Z"
   },
   {
    "duration": 4,
    "start_time": "2023-07-31T09:33:19.452Z"
   },
   {
    "duration": 10,
    "start_time": "2023-07-31T09:37:21.157Z"
   },
   {
    "duration": 10,
    "start_time": "2023-07-31T09:37:22.158Z"
   },
   {
    "duration": 5,
    "start_time": "2023-07-31T09:41:06.355Z"
   },
   {
    "duration": 4,
    "start_time": "2023-07-31T09:41:09.317Z"
   },
   {
    "duration": 14,
    "start_time": "2023-07-31T09:43:35.535Z"
   },
   {
    "duration": 12,
    "start_time": "2023-07-31T09:44:28.719Z"
   },
   {
    "duration": 10,
    "start_time": "2023-07-31T09:44:59.188Z"
   },
   {
    "duration": 14,
    "start_time": "2023-07-31T09:46:07.947Z"
   },
   {
    "duration": 17,
    "start_time": "2023-07-31T09:48:22.880Z"
   },
   {
    "duration": 12,
    "start_time": "2023-07-31T09:48:41.355Z"
   },
   {
    "duration": 5,
    "start_time": "2023-07-31T09:48:49.114Z"
   },
   {
    "duration": 3,
    "start_time": "2023-07-31T09:48:49.790Z"
   },
   {
    "duration": 10,
    "start_time": "2023-07-31T09:48:53.804Z"
   },
   {
    "duration": 3,
    "start_time": "2023-07-31T09:48:54.455Z"
   },
   {
    "duration": 3,
    "start_time": "2023-07-31T09:48:55.251Z"
   },
   {
    "duration": 4,
    "start_time": "2023-07-31T09:48:55.959Z"
   },
   {
    "duration": 10,
    "start_time": "2023-07-31T09:49:28.955Z"
   },
   {
    "duration": 14,
    "start_time": "2023-07-31T09:50:02.452Z"
   },
   {
    "duration": 12,
    "start_time": "2023-07-31T09:50:03.207Z"
   },
   {
    "duration": 5,
    "start_time": "2023-07-31T09:50:08.388Z"
   },
   {
    "duration": 3,
    "start_time": "2023-07-31T09:50:09.056Z"
   },
   {
    "duration": 10,
    "start_time": "2023-07-31T09:50:10.355Z"
   },
   {
    "duration": 3,
    "start_time": "2023-07-31T09:50:11.260Z"
   },
   {
    "duration": 3,
    "start_time": "2023-07-31T09:50:12.858Z"
   },
   {
    "duration": 4,
    "start_time": "2023-07-31T09:50:13.851Z"
   },
   {
    "duration": 12,
    "start_time": "2023-07-31T09:50:18.996Z"
   },
   {
    "duration": 16,
    "start_time": "2023-07-31T09:51:03.497Z"
   },
   {
    "duration": 13,
    "start_time": "2023-07-31T09:51:04.151Z"
   },
   {
    "duration": 5,
    "start_time": "2023-07-31T09:51:05.490Z"
   },
   {
    "duration": 4,
    "start_time": "2023-07-31T09:51:05.981Z"
   },
   {
    "duration": 10,
    "start_time": "2023-07-31T09:51:07.349Z"
   },
   {
    "duration": 3,
    "start_time": "2023-07-31T09:51:07.988Z"
   },
   {
    "duration": 3,
    "start_time": "2023-07-31T09:51:08.588Z"
   },
   {
    "duration": 4,
    "start_time": "2023-07-31T09:51:09.255Z"
   },
   {
    "duration": 12,
    "start_time": "2023-07-31T09:51:09.888Z"
   },
   {
    "duration": 24,
    "start_time": "2023-07-31T09:53:13.668Z"
   },
   {
    "duration": 24,
    "start_time": "2023-07-31T09:53:15.073Z"
   },
   {
    "duration": 9,
    "start_time": "2023-07-31T09:56:50.211Z"
   },
   {
    "duration": 135,
    "start_time": "2023-07-31T09:57:34.366Z"
   },
   {
    "duration": 15,
    "start_time": "2023-07-31T10:05:26.216Z"
   },
   {
    "duration": 2685,
    "start_time": "2023-07-31T10:06:35.005Z"
   },
   {
    "duration": 9,
    "start_time": "2023-07-31T10:06:42.788Z"
   },
   {
    "duration": 170,
    "start_time": "2023-07-31T10:21:22.556Z"
   },
   {
    "duration": 22,
    "start_time": "2023-07-31T10:23:54.352Z"
   },
   {
    "duration": 15,
    "start_time": "2023-07-31T10:24:24.756Z"
   },
   {
    "duration": 3050,
    "start_time": "2023-07-31T10:25:07.521Z"
   },
   {
    "duration": 12,
    "start_time": "2023-07-31T10:25:17.196Z"
   },
   {
    "duration": 2283,
    "start_time": "2023-07-31T10:28:09.550Z"
   },
   {
    "duration": 21,
    "start_time": "2023-07-31T10:29:16.863Z"
   },
   {
    "duration": 25,
    "start_time": "2023-07-31T10:36:01.357Z"
   },
   {
    "duration": 19,
    "start_time": "2023-07-31T10:36:23.982Z"
   },
   {
    "duration": 24,
    "start_time": "2023-07-31T10:36:31.545Z"
   },
   {
    "duration": 11,
    "start_time": "2023-07-31T10:39:28.885Z"
   },
   {
    "duration": 8374,
    "start_time": "2023-07-31T10:43:43.993Z"
   },
   {
    "duration": 49,
    "start_time": "2023-07-31T10:45:53.696Z"
   },
   {
    "duration": 13,
    "start_time": "2023-07-31T10:47:13.213Z"
   },
   {
    "duration": 20,
    "start_time": "2023-07-31T10:50:45.865Z"
   },
   {
    "duration": 13,
    "start_time": "2023-07-31T10:52:02.245Z"
   },
   {
    "duration": 173,
    "start_time": "2023-07-31T11:13:01.072Z"
   },
   {
    "duration": 22,
    "start_time": "2023-07-31T11:17:07.048Z"
   },
   {
    "duration": 9,
    "start_time": "2023-07-31T11:17:26.352Z"
   },
   {
    "duration": 12,
    "start_time": "2023-07-31T11:18:51.453Z"
   },
   {
    "duration": 10,
    "start_time": "2023-07-31T11:23:58.871Z"
   },
   {
    "duration": 2277,
    "start_time": "2023-07-31T11:25:10.271Z"
   },
   {
    "duration": 9,
    "start_time": "2023-07-31T11:25:20.569Z"
   },
   {
    "duration": 8905,
    "start_time": "2023-07-31T11:29:04.200Z"
   },
   {
    "duration": 51,
    "start_time": "2023-07-31T11:29:58.661Z"
   },
   {
    "duration": 19,
    "start_time": "2023-07-31T11:31:33.357Z"
   },
   {
    "duration": 32,
    "start_time": "2023-07-31T11:33:27.649Z"
   },
   {
    "duration": 19,
    "start_time": "2023-07-31T11:34:54.664Z"
   },
   {
    "duration": 27,
    "start_time": "2023-07-31T11:46:20.103Z"
   },
   {
    "duration": 2811,
    "start_time": "2023-07-31T11:46:58.818Z"
   },
   {
    "duration": 13,
    "start_time": "2023-07-31T11:47:09.254Z"
   },
   {
    "duration": 4,
    "start_time": "2023-07-31T11:47:59.517Z"
   },
   {
    "duration": 231,
    "start_time": "2023-07-31T11:59:35.850Z"
   },
   {
    "duration": 35,
    "start_time": "2023-07-31T12:00:44.903Z"
   },
   {
    "duration": 17,
    "start_time": "2023-07-31T12:01:40.600Z"
   },
   {
    "duration": 12815,
    "start_time": "2023-07-31T12:05:27.218Z"
   },
   {
    "duration": 10364,
    "start_time": "2023-07-31T12:06:24.549Z"
   },
   {
    "duration": 59,
    "start_time": "2023-07-31T12:06:48.765Z"
   },
   {
    "duration": 22,
    "start_time": "2023-07-31T12:06:57.097Z"
   },
   {
    "duration": 118,
    "start_time": "2023-07-31T12:08:21.252Z"
   },
   {
    "duration": 23,
    "start_time": "2023-07-31T12:08:44.102Z"
   },
   {
    "duration": 28,
    "start_time": "2023-07-31T12:09:54.196Z"
   },
   {
    "duration": 33,
    "start_time": "2023-07-31T12:10:20.257Z"
   },
   {
    "duration": 16,
    "start_time": "2023-07-31T12:15:52.696Z"
   },
   {
    "duration": 29,
    "start_time": "2023-07-31T12:16:16.266Z"
   },
   {
    "duration": 111,
    "start_time": "2023-07-31T12:21:09.859Z"
   },
   {
    "duration": 25,
    "start_time": "2023-07-31T12:21:48.179Z"
   },
   {
    "duration": 15,
    "start_time": "2023-07-31T12:22:16.654Z"
   },
   {
    "duration": 6768,
    "start_time": "2023-07-31T12:23:14.863Z"
   },
   {
    "duration": 75,
    "start_time": "2023-07-31T12:24:04.153Z"
   },
   {
    "duration": 29,
    "start_time": "2023-07-31T12:24:28.569Z"
   },
   {
    "duration": 12,
    "start_time": "2023-07-31T12:25:25.110Z"
   },
   {
    "duration": 18,
    "start_time": "2023-07-31T12:25:43.522Z"
   },
   {
    "duration": 22,
    "start_time": "2023-07-31T12:36:57.666Z"
   },
   {
    "duration": 3953,
    "start_time": "2023-07-31T12:44:16.757Z"
   },
   {
    "duration": 57,
    "start_time": "2023-07-31T12:44:20.712Z"
   },
   {
    "duration": 20,
    "start_time": "2023-07-31T12:44:20.771Z"
   },
   {
    "duration": 29,
    "start_time": "2023-07-31T12:44:20.794Z"
   },
   {
    "duration": 31,
    "start_time": "2023-07-31T12:44:20.825Z"
   },
   {
    "duration": 50,
    "start_time": "2023-07-31T12:44:20.857Z"
   },
   {
    "duration": 27,
    "start_time": "2023-07-31T12:44:20.909Z"
   },
   {
    "duration": 18,
    "start_time": "2023-07-31T12:44:20.938Z"
   },
   {
    "duration": 12,
    "start_time": "2023-07-31T12:44:20.958Z"
   },
   {
    "duration": 29,
    "start_time": "2023-07-31T12:44:20.971Z"
   },
   {
    "duration": 6,
    "start_time": "2023-07-31T12:44:21.002Z"
   },
   {
    "duration": 22,
    "start_time": "2023-07-31T12:44:21.009Z"
   },
   {
    "duration": 12,
    "start_time": "2023-07-31T12:44:21.033Z"
   },
   {
    "duration": 41,
    "start_time": "2023-07-31T12:44:21.048Z"
   },
   {
    "duration": 4,
    "start_time": "2023-07-31T12:44:21.100Z"
   },
   {
    "duration": 11,
    "start_time": "2023-07-31T12:44:21.106Z"
   },
   {
    "duration": 19,
    "start_time": "2023-07-31T12:44:21.118Z"
   },
   {
    "duration": 11,
    "start_time": "2023-07-31T12:44:21.139Z"
   },
   {
    "duration": 5,
    "start_time": "2023-07-31T12:44:21.152Z"
   },
   {
    "duration": 7,
    "start_time": "2023-07-31T12:44:21.159Z"
   },
   {
    "duration": 35,
    "start_time": "2023-07-31T12:44:21.167Z"
   },
   {
    "duration": 4,
    "start_time": "2023-07-31T12:44:21.204Z"
   },
   {
    "duration": 20,
    "start_time": "2023-07-31T12:44:21.210Z"
   },
   {
    "duration": 16,
    "start_time": "2023-07-31T12:44:21.231Z"
   },
   {
    "duration": 23,
    "start_time": "2023-07-31T12:44:21.248Z"
   },
   {
    "duration": 16,
    "start_time": "2023-07-31T12:44:21.273Z"
   },
   {
    "duration": 134,
    "start_time": "2023-07-31T12:44:21.290Z"
   },
   {
    "duration": 6,
    "start_time": "2023-07-31T12:44:21.426Z"
   },
   {
    "duration": 167,
    "start_time": "2023-07-31T12:44:21.433Z"
   },
   {
    "duration": 19,
    "start_time": "2023-07-31T12:44:21.602Z"
   },
   {
    "duration": 13,
    "start_time": "2023-07-31T12:44:21.623Z"
   },
   {
    "duration": 9007,
    "start_time": "2023-07-31T12:44:21.637Z"
   },
   {
    "duration": 61,
    "start_time": "2023-07-31T12:44:30.645Z"
   },
   {
    "duration": 10,
    "start_time": "2023-07-31T12:44:30.708Z"
   },
   {
    "duration": 66,
    "start_time": "2023-07-31T12:44:30.720Z"
   },
   {
    "duration": 113,
    "start_time": "2023-07-31T12:44:30.790Z"
   },
   {
    "duration": 251,
    "start_time": "2023-07-31T12:44:30.906Z"
   },
   {
    "duration": 36,
    "start_time": "2023-07-31T12:44:31.159Z"
   },
   {
    "duration": 14,
    "start_time": "2023-07-31T12:44:31.201Z"
   },
   {
    "duration": 27,
    "start_time": "2023-07-31T12:44:31.217Z"
   },
   {
    "duration": 9677,
    "start_time": "2023-07-31T12:44:31.248Z"
   },
   {
    "duration": 51,
    "start_time": "2023-07-31T12:44:40.927Z"
   },
   {
    "duration": 23,
    "start_time": "2023-07-31T12:44:40.990Z"
   },
   {
    "duration": 16,
    "start_time": "2023-07-31T12:44:41.014Z"
   },
   {
    "duration": 174,
    "start_time": "2023-07-31T12:44:41.032Z"
   },
   {
    "duration": 26,
    "start_time": "2023-07-31T12:44:41.275Z"
   },
   {
    "duration": 3,
    "start_time": "2023-07-31T12:44:41.303Z"
   },
   {
    "duration": 253,
    "start_time": "2023-07-31T12:44:41.308Z"
   },
   {
    "duration": 40,
    "start_time": "2023-07-31T12:44:41.562Z"
   },
   {
    "duration": 16,
    "start_time": "2023-07-31T12:44:41.604Z"
   },
   {
    "duration": 12430,
    "start_time": "2023-07-31T12:44:41.621Z"
   },
   {
    "duration": 145,
    "start_time": "2023-07-31T12:44:54.052Z"
   },
   {
    "duration": 20,
    "start_time": "2023-07-31T12:44:54.199Z"
   },
   {
    "duration": 64,
    "start_time": "2023-07-31T12:44:54.221Z"
   },
   {
    "duration": 117,
    "start_time": "2023-07-31T12:44:54.288Z"
   },
   {
    "duration": 172,
    "start_time": "2023-07-31T12:44:54.408Z"
   },
   {
    "duration": 103,
    "start_time": "2023-07-31T12:44:54.582Z"
   },
   {
    "duration": 13,
    "start_time": "2023-07-31T12:44:54.695Z"
   },
   {
    "duration": 16,
    "start_time": "2023-07-31T12:44:54.710Z"
   },
   {
    "duration": 6245,
    "start_time": "2023-07-31T12:44:54.727Z"
   },
   {
    "duration": 67,
    "start_time": "2023-07-31T12:45:00.978Z"
   },
   {
    "duration": 29,
    "start_time": "2023-07-31T12:45:01.047Z"
   },
   {
    "duration": 52,
    "start_time": "2023-07-31T12:45:01.078Z"
   },
   {
    "duration": 198,
    "start_time": "2023-07-31T12:45:01.178Z"
   },
   {
    "duration": 112,
    "start_time": "2023-07-31T12:45:01.378Z"
   },
   {
    "duration": 49,
    "start_time": "2023-07-31T12:49:54.791Z"
   },
   {
    "duration": 23,
    "start_time": "2023-07-31T12:51:43.862Z"
   },
   {
    "duration": 30263,
    "start_time": "2023-07-31T12:58:57.501Z"
   },
   {
    "duration": 91930,
    "start_time": "2023-07-31T12:59:55.491Z"
   },
   {
    "duration": 10233,
    "start_time": "2023-07-31T13:02:05.861Z"
   },
   {
    "duration": 31520,
    "start_time": "2023-07-31T13:03:51.292Z"
   },
   {
    "duration": 9645,
    "start_time": "2023-07-31T13:05:17.475Z"
   },
   {
    "duration": 128,
    "start_time": "2023-07-31T13:05:48.496Z"
   },
   {
    "duration": 23,
    "start_time": "2023-07-31T13:05:49.312Z"
   },
   {
    "duration": 10441,
    "start_time": "2023-07-31T13:05:57.599Z"
   },
   {
    "duration": 144,
    "start_time": "2023-07-31T13:06:11.768Z"
   },
   {
    "duration": 9745,
    "start_time": "2023-07-31T13:06:23.474Z"
   },
   {
    "duration": 4057,
    "start_time": "2023-07-31T13:07:01.908Z"
   },
   {
    "duration": 76,
    "start_time": "2023-07-31T13:07:05.967Z"
   },
   {
    "duration": 13,
    "start_time": "2023-07-31T13:07:06.044Z"
   },
   {
    "duration": 8,
    "start_time": "2023-07-31T13:07:06.059Z"
   },
   {
    "duration": 46,
    "start_time": "2023-07-31T13:07:06.068Z"
   },
   {
    "duration": 38,
    "start_time": "2023-07-31T13:07:06.116Z"
   },
   {
    "duration": 57,
    "start_time": "2023-07-31T13:07:06.156Z"
   },
   {
    "duration": 11,
    "start_time": "2023-07-31T13:07:06.214Z"
   },
   {
    "duration": 10,
    "start_time": "2023-07-31T13:07:06.227Z"
   },
   {
    "duration": 24,
    "start_time": "2023-07-31T13:07:06.239Z"
   },
   {
    "duration": 37,
    "start_time": "2023-07-31T13:07:06.265Z"
   },
   {
    "duration": 50,
    "start_time": "2023-07-31T13:07:06.304Z"
   },
   {
    "duration": 55,
    "start_time": "2023-07-31T13:07:06.356Z"
   },
   {
    "duration": 71,
    "start_time": "2023-07-31T13:07:06.413Z"
   },
   {
    "duration": 5,
    "start_time": "2023-07-31T13:07:06.486Z"
   },
   {
    "duration": 18,
    "start_time": "2023-07-31T13:07:06.492Z"
   },
   {
    "duration": 46,
    "start_time": "2023-07-31T13:07:06.512Z"
   },
   {
    "duration": 46,
    "start_time": "2023-07-31T13:07:06.559Z"
   },
   {
    "duration": 9,
    "start_time": "2023-07-31T13:07:06.607Z"
   },
   {
    "duration": 37,
    "start_time": "2023-07-31T13:07:06.618Z"
   },
   {
    "duration": 24,
    "start_time": "2023-07-31T13:07:06.657Z"
   },
   {
    "duration": 18,
    "start_time": "2023-07-31T13:07:06.683Z"
   },
   {
    "duration": 12,
    "start_time": "2023-07-31T13:07:06.702Z"
   },
   {
    "duration": 11,
    "start_time": "2023-07-31T13:07:06.716Z"
   },
   {
    "duration": 25,
    "start_time": "2023-07-31T13:07:06.730Z"
   },
   {
    "duration": 48,
    "start_time": "2023-07-31T13:07:06.757Z"
   },
   {
    "duration": 154,
    "start_time": "2023-07-31T13:07:06.811Z"
   },
   {
    "duration": 9,
    "start_time": "2023-07-31T13:07:06.969Z"
   },
   {
    "duration": 184,
    "start_time": "2023-07-31T13:07:06.980Z"
   },
   {
    "duration": 37,
    "start_time": "2023-07-31T13:07:07.166Z"
   },
   {
    "duration": 14,
    "start_time": "2023-07-31T13:07:07.211Z"
   },
   {
    "duration": 10208,
    "start_time": "2023-07-31T13:07:07.227Z"
   },
   {
    "duration": 61,
    "start_time": "2023-07-31T13:07:17.437Z"
   },
   {
    "duration": 13,
    "start_time": "2023-07-31T13:07:17.501Z"
   },
   {
    "duration": 74,
    "start_time": "2023-07-31T13:07:17.515Z"
   },
   {
    "duration": 97,
    "start_time": "2023-07-31T13:07:17.591Z"
   },
   {
    "duration": 198,
    "start_time": "2023-07-31T13:07:17.691Z"
   },
   {
    "duration": 27,
    "start_time": "2023-07-31T13:07:17.895Z"
   },
   {
    "duration": 11,
    "start_time": "2023-07-31T13:07:17.924Z"
   },
   {
    "duration": 18,
    "start_time": "2023-07-31T13:07:17.936Z"
   },
   {
    "duration": 10288,
    "start_time": "2023-07-31T13:07:17.956Z"
   },
   {
    "duration": 132,
    "start_time": "2023-07-31T13:07:28.246Z"
   },
   {
    "duration": 27,
    "start_time": "2023-07-31T13:07:28.389Z"
   },
   {
    "duration": 44,
    "start_time": "2023-07-31T13:07:28.418Z"
   },
   {
    "duration": 132,
    "start_time": "2023-07-31T13:07:28.464Z"
   },
   {
    "duration": 99,
    "start_time": "2023-07-31T13:07:28.598Z"
   },
   {
    "duration": 88,
    "start_time": "2023-07-31T13:07:28.700Z"
   },
   {
    "duration": 232,
    "start_time": "2023-07-31T13:07:28.791Z"
   },
   {
    "duration": 24,
    "start_time": "2023-07-31T13:07:29.025Z"
   },
   {
    "duration": 17,
    "start_time": "2023-07-31T13:07:29.051Z"
   },
   {
    "duration": 13087,
    "start_time": "2023-07-31T13:07:29.074Z"
   },
   {
    "duration": 144,
    "start_time": "2023-07-31T13:07:42.162Z"
   },
   {
    "duration": 21,
    "start_time": "2023-07-31T13:07:42.308Z"
   },
   {
    "duration": 60,
    "start_time": "2023-07-31T13:07:42.331Z"
   },
   {
    "duration": 120,
    "start_time": "2023-07-31T13:07:42.393Z"
   },
   {
    "duration": 107,
    "start_time": "2023-07-31T13:07:42.575Z"
   },
   {
    "duration": 113,
    "start_time": "2023-07-31T13:07:42.688Z"
   },
   {
    "duration": 13,
    "start_time": "2023-07-31T13:07:42.803Z"
   },
   {
    "duration": 15,
    "start_time": "2023-07-31T13:07:42.818Z"
   },
   {
    "duration": 6902,
    "start_time": "2023-07-31T13:07:42.835Z"
   },
   {
    "duration": 72,
    "start_time": "2023-07-31T13:07:49.739Z"
   },
   {
    "duration": 212,
    "start_time": "2023-07-31T13:07:49.813Z"
   },
   {
    "duration": 75,
    "start_time": "2023-07-31T13:07:50.026Z"
   },
   {
    "duration": 87,
    "start_time": "2023-07-31T13:07:50.109Z"
   },
   {
    "duration": 40,
    "start_time": "2023-07-31T13:07:50.274Z"
   },
   {
    "duration": 117,
    "start_time": "2023-07-31T13:07:50.317Z"
   },
   {
    "duration": 23,
    "start_time": "2023-07-31T13:07:50.437Z"
   },
   {
    "duration": 82,
    "start_time": "2023-07-31T13:12:12.879Z"
   },
   {
    "duration": 25,
    "start_time": "2023-07-31T13:12:17.493Z"
   },
   {
    "duration": 168,
    "start_time": "2023-07-31T13:13:05.760Z"
   },
   {
    "duration": 33,
    "start_time": "2023-07-31T13:13:36.120Z"
   },
   {
    "duration": 11,
    "start_time": "2023-07-31T13:15:42.602Z"
   },
   {
    "duration": 142,
    "start_time": "2023-07-31T13:17:54.987Z"
   },
   {
    "duration": 26,
    "start_time": "2023-07-31T13:17:55.760Z"
   },
   {
    "duration": 11429,
    "start_time": "2023-08-01T09:30:06.577Z"
   },
   {
    "duration": 144,
    "start_time": "2023-08-01T09:30:18.009Z"
   },
   {
    "duration": 15,
    "start_time": "2023-08-01T09:30:18.155Z"
   },
   {
    "duration": 41,
    "start_time": "2023-08-01T09:30:18.176Z"
   },
   {
    "duration": 30,
    "start_time": "2023-08-01T09:30:18.220Z"
   },
   {
    "duration": 37,
    "start_time": "2023-08-01T09:30:18.253Z"
   },
   {
    "duration": 60,
    "start_time": "2023-08-01T09:30:18.291Z"
   },
   {
    "duration": 17,
    "start_time": "2023-08-01T09:30:18.353Z"
   },
   {
    "duration": 39,
    "start_time": "2023-08-01T09:30:18.372Z"
   },
   {
    "duration": 27,
    "start_time": "2023-08-01T09:30:18.415Z"
   },
   {
    "duration": 35,
    "start_time": "2023-08-01T09:30:18.444Z"
   },
   {
    "duration": 41,
    "start_time": "2023-08-01T09:30:18.483Z"
   },
   {
    "duration": 31,
    "start_time": "2023-08-01T09:30:18.526Z"
   },
   {
    "duration": 73,
    "start_time": "2023-08-01T09:30:18.560Z"
   },
   {
    "duration": 18,
    "start_time": "2023-08-01T09:30:18.635Z"
   },
   {
    "duration": 51,
    "start_time": "2023-08-01T09:30:18.655Z"
   },
   {
    "duration": 49,
    "start_time": "2023-08-01T09:30:18.708Z"
   },
   {
    "duration": 24,
    "start_time": "2023-08-01T09:30:18.759Z"
   },
   {
    "duration": 80,
    "start_time": "2023-08-01T09:30:18.786Z"
   },
   {
    "duration": 47,
    "start_time": "2023-08-01T09:30:18.869Z"
   },
   {
    "duration": 45,
    "start_time": "2023-08-01T09:30:18.919Z"
   },
   {
    "duration": 80,
    "start_time": "2023-08-01T09:30:18.966Z"
   },
   {
    "duration": 29,
    "start_time": "2023-08-01T09:30:19.049Z"
   },
   {
    "duration": 48,
    "start_time": "2023-08-01T09:30:19.089Z"
   },
   {
    "duration": 25,
    "start_time": "2023-08-01T09:30:19.139Z"
   },
   {
    "duration": 58,
    "start_time": "2023-08-01T09:30:19.166Z"
   },
   {
    "duration": 274,
    "start_time": "2023-08-01T09:30:19.226Z"
   },
   {
    "duration": 14,
    "start_time": "2023-08-01T09:30:19.509Z"
   },
   {
    "duration": 259,
    "start_time": "2023-08-01T09:30:19.525Z"
   },
   {
    "duration": 25,
    "start_time": "2023-08-01T09:30:19.786Z"
   },
   {
    "duration": 20,
    "start_time": "2023-08-01T09:30:19.813Z"
   },
   {
    "duration": 10297,
    "start_time": "2023-08-01T09:30:19.835Z"
   },
   {
    "duration": 76,
    "start_time": "2023-08-01T09:30:30.138Z"
   },
   {
    "duration": 19,
    "start_time": "2023-08-01T09:30:30.216Z"
   },
   {
    "duration": 243,
    "start_time": "2023-08-01T09:30:30.237Z"
   },
   {
    "duration": 18,
    "start_time": "2023-08-01T09:30:30.484Z"
   },
   {
    "duration": 337,
    "start_time": "2023-08-01T09:30:30.505Z"
   },
   {
    "duration": 42,
    "start_time": "2023-08-01T09:30:30.844Z"
   },
   {
    "duration": 31,
    "start_time": "2023-08-01T09:30:30.897Z"
   },
   {
    "duration": 85,
    "start_time": "2023-08-01T09:30:30.931Z"
   },
   {
    "duration": 10729,
    "start_time": "2023-08-01T09:30:31.018Z"
   },
   {
    "duration": 102,
    "start_time": "2023-08-01T09:30:41.748Z"
   },
   {
    "duration": 39,
    "start_time": "2023-08-01T09:30:41.852Z"
   },
   {
    "duration": 41,
    "start_time": "2023-08-01T09:30:41.893Z"
   },
   {
    "duration": 163,
    "start_time": "2023-08-01T09:30:41.936Z"
   },
   {
    "duration": 178,
    "start_time": "2023-08-01T09:30:42.104Z"
   },
   {
    "duration": 31,
    "start_time": "2023-08-01T09:30:42.289Z"
   },
   {
    "duration": 269,
    "start_time": "2023-08-01T09:30:42.322Z"
   },
   {
    "duration": 35,
    "start_time": "2023-08-01T09:30:42.593Z"
   },
   {
    "duration": 21,
    "start_time": "2023-08-01T09:30:42.631Z"
   },
   {
    "duration": 13088,
    "start_time": "2023-08-01T09:30:42.654Z"
   },
   {
    "duration": 175,
    "start_time": "2023-08-01T09:30:55.744Z"
   },
   {
    "duration": 24,
    "start_time": "2023-08-01T09:30:55.921Z"
   },
   {
    "duration": 47,
    "start_time": "2023-08-01T09:30:55.947Z"
   },
   {
    "duration": 103,
    "start_time": "2023-08-01T09:30:55.998Z"
   },
   {
    "duration": 124,
    "start_time": "2023-08-01T09:30:56.172Z"
   },
   {
    "duration": 134,
    "start_time": "2023-08-01T09:30:56.298Z"
   },
   {
    "duration": 15,
    "start_time": "2023-08-01T09:30:56.434Z"
   },
   {
    "duration": 54,
    "start_time": "2023-08-01T09:30:56.452Z"
   },
   {
    "duration": 7922,
    "start_time": "2023-08-01T09:30:56.508Z"
   },
   {
    "duration": 95,
    "start_time": "2023-08-01T09:31:04.432Z"
   },
   {
    "duration": 32,
    "start_time": "2023-08-01T09:31:04.529Z"
   },
   {
    "duration": 82,
    "start_time": "2023-08-01T09:31:04.572Z"
   },
   {
    "duration": 219,
    "start_time": "2023-08-01T09:31:04.656Z"
   },
   {
    "duration": 95,
    "start_time": "2023-08-01T09:31:04.891Z"
   },
   {
    "duration": 217,
    "start_time": "2023-08-01T09:31:04.989Z"
   },
   {
    "duration": 157,
    "start_time": "2023-08-01T09:31:05.208Z"
   },
   {
    "duration": 157,
    "start_time": "2023-08-01T09:31:54.896Z"
   },
   {
    "duration": 34,
    "start_time": "2023-08-01T09:31:56.324Z"
   },
   {
    "duration": 163,
    "start_time": "2023-08-01T09:44:19.227Z"
   },
   {
    "duration": 488,
    "start_time": "2023-08-01T09:44:30.291Z"
   },
   {
    "duration": 699,
    "start_time": "2023-08-01T09:44:52.364Z"
   },
   {
    "duration": 17,
    "start_time": "2023-08-01T09:59:56.201Z"
   },
   {
    "duration": 7233,
    "start_time": "2023-08-01T10:00:05.207Z"
   },
   {
    "duration": 147,
    "start_time": "2023-08-01T10:00:12.443Z"
   },
   {
    "duration": 23,
    "start_time": "2023-08-01T10:00:12.592Z"
   },
   {
    "duration": 41,
    "start_time": "2023-08-01T10:00:12.617Z"
   },
   {
    "duration": 69,
    "start_time": "2023-08-01T10:00:12.661Z"
   },
   {
    "duration": 18,
    "start_time": "2023-08-01T10:00:12.732Z"
   },
   {
    "duration": 49,
    "start_time": "2023-08-01T10:00:12.752Z"
   },
   {
    "duration": 36,
    "start_time": "2023-08-01T10:00:12.809Z"
   },
   {
    "duration": 39,
    "start_time": "2023-08-01T10:00:12.847Z"
   },
   {
    "duration": 38,
    "start_time": "2023-08-01T10:00:12.894Z"
   },
   {
    "duration": 23,
    "start_time": "2023-08-01T10:00:12.934Z"
   },
   {
    "duration": 52,
    "start_time": "2023-08-01T10:00:12.959Z"
   },
   {
    "duration": 23,
    "start_time": "2023-08-01T10:00:13.013Z"
   },
   {
    "duration": 49,
    "start_time": "2023-08-01T10:00:13.041Z"
   },
   {
    "duration": 14,
    "start_time": "2023-08-01T10:00:13.094Z"
   },
   {
    "duration": 22,
    "start_time": "2023-08-01T10:00:13.109Z"
   },
   {
    "duration": 6,
    "start_time": "2023-08-01T10:00:13.133Z"
   },
   {
    "duration": 9,
    "start_time": "2023-08-01T10:00:13.141Z"
   },
   {
    "duration": 68,
    "start_time": "2023-08-01T10:00:13.152Z"
   },
   {
    "duration": 23,
    "start_time": "2023-08-01T10:00:13.222Z"
   },
   {
    "duration": 19,
    "start_time": "2023-08-01T10:00:13.246Z"
   },
   {
    "duration": 44,
    "start_time": "2023-08-01T10:00:13.267Z"
   },
   {
    "duration": 9,
    "start_time": "2023-08-01T10:00:13.313Z"
   },
   {
    "duration": 8,
    "start_time": "2023-08-01T10:00:13.324Z"
   },
   {
    "duration": 20,
    "start_time": "2023-08-01T10:00:13.334Z"
   },
   {
    "duration": 33,
    "start_time": "2023-08-01T10:00:13.356Z"
   },
   {
    "duration": 27,
    "start_time": "2023-08-01T10:00:13.399Z"
   },
   {
    "duration": 225,
    "start_time": "2023-08-01T10:00:13.428Z"
   },
   {
    "duration": 10,
    "start_time": "2023-08-01T10:00:13.655Z"
   },
   {
    "duration": 194,
    "start_time": "2023-08-01T10:00:13.667Z"
   },
   {
    "duration": 29,
    "start_time": "2023-08-01T10:00:13.863Z"
   },
   {
    "duration": 48,
    "start_time": "2023-08-01T10:00:13.899Z"
   },
   {
    "duration": 10372,
    "start_time": "2023-08-01T10:00:13.949Z"
   },
   {
    "duration": 59,
    "start_time": "2023-08-01T10:00:24.323Z"
   },
   {
    "duration": 42,
    "start_time": "2023-08-01T10:00:24.392Z"
   },
   {
    "duration": 43,
    "start_time": "2023-08-01T10:00:24.435Z"
   },
   {
    "duration": 148,
    "start_time": "2023-08-01T10:00:24.487Z"
   },
   {
    "duration": 204,
    "start_time": "2023-08-01T10:00:24.636Z"
   },
   {
    "duration": 22,
    "start_time": "2023-08-01T10:00:24.844Z"
   },
   {
    "duration": 81,
    "start_time": "2023-08-01T10:00:24.869Z"
   },
   {
    "duration": 54,
    "start_time": "2023-08-01T10:00:24.956Z"
   },
   {
    "duration": 10741,
    "start_time": "2023-08-01T10:00:25.014Z"
   },
   {
    "duration": 92,
    "start_time": "2023-08-01T10:00:35.757Z"
   },
   {
    "duration": 47,
    "start_time": "2023-08-01T10:00:35.851Z"
   },
   {
    "duration": 15,
    "start_time": "2023-08-01T10:00:35.900Z"
   },
   {
    "duration": 198,
    "start_time": "2023-08-01T10:00:35.918Z"
   },
   {
    "duration": 336,
    "start_time": "2023-08-01T10:00:36.118Z"
   },
   {
    "duration": 0,
    "start_time": "2023-08-01T10:00:36.456Z"
   },
   {
    "duration": 0,
    "start_time": "2023-08-01T10:00:36.457Z"
   },
   {
    "duration": 0,
    "start_time": "2023-08-01T10:00:36.459Z"
   },
   {
    "duration": 0,
    "start_time": "2023-08-01T10:00:36.460Z"
   },
   {
    "duration": 0,
    "start_time": "2023-08-01T10:00:36.462Z"
   },
   {
    "duration": 0,
    "start_time": "2023-08-01T10:00:36.471Z"
   },
   {
    "duration": 0,
    "start_time": "2023-08-01T10:00:36.473Z"
   },
   {
    "duration": 0,
    "start_time": "2023-08-01T10:00:36.475Z"
   },
   {
    "duration": 0,
    "start_time": "2023-08-01T10:00:36.477Z"
   },
   {
    "duration": 0,
    "start_time": "2023-08-01T10:00:36.478Z"
   },
   {
    "duration": 0,
    "start_time": "2023-08-01T10:00:36.480Z"
   },
   {
    "duration": 0,
    "start_time": "2023-08-01T10:00:36.482Z"
   },
   {
    "duration": 0,
    "start_time": "2023-08-01T10:00:36.482Z"
   },
   {
    "duration": 0,
    "start_time": "2023-08-01T10:00:36.483Z"
   },
   {
    "duration": 0,
    "start_time": "2023-08-01T10:00:36.489Z"
   },
   {
    "duration": 0,
    "start_time": "2023-08-01T10:00:36.490Z"
   },
   {
    "duration": 0,
    "start_time": "2023-08-01T10:00:36.491Z"
   },
   {
    "duration": 0,
    "start_time": "2023-08-01T10:00:36.493Z"
   },
   {
    "duration": 0,
    "start_time": "2023-08-01T10:00:36.501Z"
   },
   {
    "duration": 0,
    "start_time": "2023-08-01T10:00:36.502Z"
   },
   {
    "duration": 0,
    "start_time": "2023-08-01T10:00:36.503Z"
   },
   {
    "duration": 106,
    "start_time": "2023-08-01T10:02:25.613Z"
   },
   {
    "duration": 31,
    "start_time": "2023-08-01T10:02:26.355Z"
   },
   {
    "duration": 14,
    "start_time": "2023-08-01T10:06:17.960Z"
   },
   {
    "duration": 6,
    "start_time": "2023-08-01T10:22:49.733Z"
   },
   {
    "duration": 14,
    "start_time": "2023-08-01T10:24:17.788Z"
   },
   {
    "duration": 8,
    "start_time": "2023-08-01T10:24:43.691Z"
   },
   {
    "duration": 13,
    "start_time": "2023-08-01T10:24:58.727Z"
   },
   {
    "duration": 8,
    "start_time": "2023-08-01T10:25:04.331Z"
   },
   {
    "duration": 22,
    "start_time": "2023-08-01T10:25:05.073Z"
   },
   {
    "duration": 13,
    "start_time": "2023-08-01T10:25:50.462Z"
   },
   {
    "duration": 11,
    "start_time": "2023-08-01T10:26:07.141Z"
   },
   {
    "duration": 22,
    "start_time": "2023-08-01T10:27:01.475Z"
   },
   {
    "duration": 10,
    "start_time": "2023-08-01T10:27:39.689Z"
   },
   {
    "duration": 11,
    "start_time": "2023-08-01T10:27:46.007Z"
   },
   {
    "duration": 13,
    "start_time": "2023-08-01T10:29:22.475Z"
   },
   {
    "duration": 7,
    "start_time": "2023-08-01T10:29:35.867Z"
   },
   {
    "duration": 13,
    "start_time": "2023-08-01T10:29:36.510Z"
   },
   {
    "duration": 12,
    "start_time": "2023-08-01T10:47:31.261Z"
   },
   {
    "duration": 15,
    "start_time": "2023-08-01T10:48:06.065Z"
   },
   {
    "duration": 10,
    "start_time": "2023-08-01T10:50:15.310Z"
   },
   {
    "duration": 6592,
    "start_time": "2023-08-01T10:51:35.700Z"
   },
   {
    "duration": 136,
    "start_time": "2023-08-01T10:51:42.295Z"
   },
   {
    "duration": 14,
    "start_time": "2023-08-01T10:51:42.434Z"
   },
   {
    "duration": 8,
    "start_time": "2023-08-01T10:51:42.451Z"
   },
   {
    "duration": 21,
    "start_time": "2023-08-01T10:51:42.461Z"
   },
   {
    "duration": 45,
    "start_time": "2023-08-01T10:51:42.484Z"
   },
   {
    "duration": 17,
    "start_time": "2023-08-01T10:51:42.531Z"
   },
   {
    "duration": 17,
    "start_time": "2023-08-01T10:51:42.550Z"
   },
   {
    "duration": 27,
    "start_time": "2023-08-01T10:51:42.569Z"
   },
   {
    "duration": 15,
    "start_time": "2023-08-01T10:51:42.600Z"
   },
   {
    "duration": 6,
    "start_time": "2023-08-01T10:51:42.617Z"
   },
   {
    "duration": 16,
    "start_time": "2023-08-01T10:51:42.625Z"
   },
   {
    "duration": 6,
    "start_time": "2023-08-01T10:51:42.643Z"
   },
   {
    "duration": 38,
    "start_time": "2023-08-01T10:51:42.651Z"
   },
   {
    "duration": 5,
    "start_time": "2023-08-01T10:51:42.694Z"
   },
   {
    "duration": 17,
    "start_time": "2023-08-01T10:51:42.701Z"
   },
   {
    "duration": 3,
    "start_time": "2023-08-01T10:51:42.719Z"
   },
   {
    "duration": 5,
    "start_time": "2023-08-01T10:51:42.724Z"
   },
   {
    "duration": 7,
    "start_time": "2023-08-01T10:51:42.732Z"
   },
   {
    "duration": 5,
    "start_time": "2023-08-01T10:51:42.741Z"
   },
   {
    "duration": 36,
    "start_time": "2023-08-01T10:51:42.748Z"
   },
   {
    "duration": 34,
    "start_time": "2023-08-01T10:51:42.791Z"
   },
   {
    "duration": 14,
    "start_time": "2023-08-01T10:51:42.827Z"
   },
   {
    "duration": 55,
    "start_time": "2023-08-01T10:51:42.843Z"
   },
   {
    "duration": 15,
    "start_time": "2023-08-01T10:51:42.900Z"
   },
   {
    "duration": 40,
    "start_time": "2023-08-01T10:51:42.917Z"
   },
   {
    "duration": 8,
    "start_time": "2023-08-01T10:51:42.959Z"
   },
   {
    "duration": 179,
    "start_time": "2023-08-01T10:51:42.972Z"
   },
   {
    "duration": 8,
    "start_time": "2023-08-01T10:51:43.153Z"
   },
   {
    "duration": 221,
    "start_time": "2023-08-01T10:51:43.171Z"
   },
   {
    "duration": 25,
    "start_time": "2023-08-01T10:51:43.393Z"
   },
   {
    "duration": 19,
    "start_time": "2023-08-01T10:51:43.420Z"
   },
   {
    "duration": 10033,
    "start_time": "2023-08-01T10:51:43.442Z"
   },
   {
    "duration": 59,
    "start_time": "2023-08-01T10:51:53.476Z"
   },
   {
    "duration": 14,
    "start_time": "2023-08-01T10:51:53.537Z"
   },
   {
    "duration": 78,
    "start_time": "2023-08-01T10:51:53.553Z"
   },
   {
    "duration": 142,
    "start_time": "2023-08-01T10:51:53.634Z"
   },
   {
    "duration": 200,
    "start_time": "2023-08-01T10:51:53.778Z"
   },
   {
    "duration": 26,
    "start_time": "2023-08-01T10:51:53.986Z"
   },
   {
    "duration": 14,
    "start_time": "2023-08-01T10:51:54.014Z"
   },
   {
    "duration": 11,
    "start_time": "2023-08-01T10:51:54.030Z"
   },
   {
    "duration": 10870,
    "start_time": "2023-08-01T10:51:54.043Z"
   },
   {
    "duration": 122,
    "start_time": "2023-08-01T10:52:04.915Z"
   },
   {
    "duration": 46,
    "start_time": "2023-08-01T10:52:05.039Z"
   },
   {
    "duration": 88,
    "start_time": "2023-08-01T10:52:05.090Z"
   },
   {
    "duration": 201,
    "start_time": "2023-08-01T10:52:05.180Z"
   },
   {
    "duration": 102,
    "start_time": "2023-08-01T10:52:05.387Z"
   },
   {
    "duration": 28,
    "start_time": "2023-08-01T10:52:05.492Z"
   },
   {
    "duration": 240,
    "start_time": "2023-08-01T10:52:05.522Z"
   },
   {
    "duration": 38,
    "start_time": "2023-08-01T10:52:05.764Z"
   },
   {
    "duration": 37,
    "start_time": "2023-08-01T10:52:05.804Z"
   },
   {
    "duration": 15550,
    "start_time": "2023-08-01T10:52:05.843Z"
   },
   {
    "duration": 171,
    "start_time": "2023-08-01T10:52:21.396Z"
   },
   {
    "duration": 40,
    "start_time": "2023-08-01T10:52:21.573Z"
   },
   {
    "duration": 87,
    "start_time": "2023-08-01T10:52:21.615Z"
   },
   {
    "duration": 35,
    "start_time": "2023-08-01T10:52:21.770Z"
   },
   {
    "duration": 188,
    "start_time": "2023-08-01T10:52:21.810Z"
   },
   {
    "duration": 151,
    "start_time": "2023-08-01T10:52:22.001Z"
   },
   {
    "duration": 27,
    "start_time": "2023-08-01T10:52:22.154Z"
   },
   {
    "duration": 34,
    "start_time": "2023-08-01T10:52:22.183Z"
   },
   {
    "duration": 7142,
    "start_time": "2023-08-01T10:52:22.219Z"
   },
   {
    "duration": 72,
    "start_time": "2023-08-01T10:52:29.363Z"
   },
   {
    "duration": 49,
    "start_time": "2023-08-01T10:52:29.437Z"
   },
   {
    "duration": 15,
    "start_time": "2023-08-01T10:52:29.487Z"
   },
   {
    "duration": 108,
    "start_time": "2023-08-01T10:52:29.504Z"
   },
   {
    "duration": 171,
    "start_time": "2023-08-01T10:52:29.614Z"
   },
   {
    "duration": 222,
    "start_time": "2023-08-01T10:52:29.794Z"
   },
   {
    "duration": 35,
    "start_time": "2023-08-01T10:52:30.019Z"
   },
   {
    "duration": 44,
    "start_time": "2023-08-01T10:52:42.762Z"
   },
   {
    "duration": 15,
    "start_time": "2023-08-01T10:53:06.950Z"
   },
   {
    "duration": 25,
    "start_time": "2023-08-01T10:55:23.591Z"
   },
   {
    "duration": 95,
    "start_time": "2023-08-01T10:55:43.550Z"
   },
   {
    "duration": 17,
    "start_time": "2023-08-01T10:55:44.256Z"
   },
   {
    "duration": 88,
    "start_time": "2023-08-01T10:56:37.294Z"
   },
   {
    "duration": 26,
    "start_time": "2023-08-01T10:56:38.731Z"
   },
   {
    "duration": 24,
    "start_time": "2023-08-01T10:57:43.507Z"
   },
   {
    "duration": 158,
    "start_time": "2023-08-01T10:57:54.324Z"
   },
   {
    "duration": 32,
    "start_time": "2023-08-01T10:57:55.007Z"
   },
   {
    "duration": 78,
    "start_time": "2023-08-01T10:58:02.395Z"
   },
   {
    "duration": 12,
    "start_time": "2023-08-01T10:58:20.729Z"
   },
   {
    "duration": 24,
    "start_time": "2023-08-01T10:58:23.129Z"
   },
   {
    "duration": 16,
    "start_time": "2023-08-01T10:59:50.573Z"
   },
   {
    "duration": 134,
    "start_time": "2023-08-01T11:04:25.905Z"
   },
   {
    "duration": 15,
    "start_time": "2023-08-01T11:09:48.090Z"
   },
   {
    "duration": 4237,
    "start_time": "2023-08-01T11:09:53.791Z"
   },
   {
    "duration": 71,
    "start_time": "2023-08-01T11:09:58.030Z"
   },
   {
    "duration": 21,
    "start_time": "2023-08-01T11:09:58.103Z"
   },
   {
    "duration": 13,
    "start_time": "2023-08-01T11:09:58.126Z"
   },
   {
    "duration": 39,
    "start_time": "2023-08-01T11:09:58.142Z"
   },
   {
    "duration": 19,
    "start_time": "2023-08-01T11:09:58.186Z"
   },
   {
    "duration": 29,
    "start_time": "2023-08-01T11:09:58.207Z"
   },
   {
    "duration": 16,
    "start_time": "2023-08-01T11:09:58.239Z"
   },
   {
    "duration": 25,
    "start_time": "2023-08-01T11:09:58.257Z"
   },
   {
    "duration": 40,
    "start_time": "2023-08-01T11:09:58.283Z"
   },
   {
    "duration": 30,
    "start_time": "2023-08-01T11:09:58.326Z"
   },
   {
    "duration": 37,
    "start_time": "2023-08-01T11:09:58.358Z"
   },
   {
    "duration": 21,
    "start_time": "2023-08-01T11:09:58.397Z"
   },
   {
    "duration": 45,
    "start_time": "2023-08-01T11:09:58.423Z"
   },
   {
    "duration": 6,
    "start_time": "2023-08-01T11:09:58.473Z"
   },
   {
    "duration": 52,
    "start_time": "2023-08-01T11:09:58.480Z"
   },
   {
    "duration": 12,
    "start_time": "2023-08-01T11:09:58.533Z"
   },
   {
    "duration": 16,
    "start_time": "2023-08-01T11:09:58.547Z"
   },
   {
    "duration": 31,
    "start_time": "2023-08-01T11:09:58.565Z"
   },
   {
    "duration": 20,
    "start_time": "2023-08-01T11:09:58.598Z"
   },
   {
    "duration": 26,
    "start_time": "2023-08-01T11:09:58.619Z"
   },
   {
    "duration": 30,
    "start_time": "2023-08-01T11:09:58.647Z"
   },
   {
    "duration": 29,
    "start_time": "2023-08-01T11:09:58.682Z"
   },
   {
    "duration": 18,
    "start_time": "2023-08-01T11:09:58.714Z"
   },
   {
    "duration": 70,
    "start_time": "2023-08-01T11:09:58.735Z"
   },
   {
    "duration": 27,
    "start_time": "2023-08-01T11:09:58.808Z"
   },
   {
    "duration": 13,
    "start_time": "2023-08-01T11:09:58.837Z"
   },
   {
    "duration": 175,
    "start_time": "2023-08-01T11:09:58.853Z"
   },
   {
    "duration": 10,
    "start_time": "2023-08-01T11:09:59.030Z"
   },
   {
    "duration": 196,
    "start_time": "2023-08-01T11:09:59.042Z"
   },
   {
    "duration": 18,
    "start_time": "2023-08-01T11:09:59.240Z"
   },
   {
    "duration": 49,
    "start_time": "2023-08-01T11:09:59.260Z"
   },
   {
    "duration": 9768,
    "start_time": "2023-08-01T11:09:59.311Z"
   },
   {
    "duration": 98,
    "start_time": "2023-08-01T11:10:09.086Z"
   },
   {
    "duration": 29,
    "start_time": "2023-08-01T11:10:09.186Z"
   },
   {
    "duration": 152,
    "start_time": "2023-08-01T11:10:09.218Z"
   },
   {
    "duration": 159,
    "start_time": "2023-08-01T11:10:09.375Z"
   },
   {
    "duration": 226,
    "start_time": "2023-08-01T11:10:09.536Z"
   },
   {
    "duration": 37,
    "start_time": "2023-08-01T11:10:09.764Z"
   },
   {
    "duration": 40,
    "start_time": "2023-08-01T11:10:09.803Z"
   },
   {
    "duration": 13,
    "start_time": "2023-08-01T11:10:09.848Z"
   },
   {
    "duration": 10760,
    "start_time": "2023-08-01T11:10:09.862Z"
   },
   {
    "duration": 105,
    "start_time": "2023-08-01T11:10:20.625Z"
   },
   {
    "duration": 25,
    "start_time": "2023-08-01T11:10:20.732Z"
   },
   {
    "duration": 116,
    "start_time": "2023-08-01T11:10:20.759Z"
   },
   {
    "duration": 125,
    "start_time": "2023-08-01T11:10:20.880Z"
   },
   {
    "duration": 175,
    "start_time": "2023-08-01T11:10:21.009Z"
   },
   {
    "duration": 9,
    "start_time": "2023-08-01T11:10:21.195Z"
   },
   {
    "duration": 289,
    "start_time": "2023-08-01T11:10:21.206Z"
   },
   {
    "duration": 35,
    "start_time": "2023-08-01T11:10:21.502Z"
   },
   {
    "duration": 20,
    "start_time": "2023-08-01T11:10:21.540Z"
   },
   {
    "duration": 13415,
    "start_time": "2023-08-01T11:10:21.579Z"
   },
   {
    "duration": 150,
    "start_time": "2023-08-01T11:10:34.996Z"
   },
   {
    "duration": 39,
    "start_time": "2023-08-01T11:10:35.148Z"
   },
   {
    "duration": 90,
    "start_time": "2023-08-01T11:10:35.188Z"
   },
   {
    "duration": 125,
    "start_time": "2023-08-01T11:10:35.283Z"
   },
   {
    "duration": 198,
    "start_time": "2023-08-01T11:10:35.410Z"
   },
   {
    "duration": 126,
    "start_time": "2023-08-01T11:10:35.610Z"
   },
   {
    "duration": 12,
    "start_time": "2023-08-01T11:10:35.739Z"
   },
   {
    "duration": 27,
    "start_time": "2023-08-01T11:10:35.754Z"
   },
   {
    "duration": 6274,
    "start_time": "2023-08-01T11:10:35.783Z"
   },
   {
    "duration": 67,
    "start_time": "2023-08-01T11:10:42.064Z"
   },
   {
    "duration": 19,
    "start_time": "2023-08-01T11:10:42.133Z"
   },
   {
    "duration": 52,
    "start_time": "2023-08-01T11:10:42.154Z"
   },
   {
    "duration": 179,
    "start_time": "2023-08-01T11:10:42.208Z"
   },
   {
    "duration": 120,
    "start_time": "2023-08-01T11:10:42.389Z"
   },
   {
    "duration": 223,
    "start_time": "2023-08-01T11:10:42.574Z"
   },
   {
    "duration": 26,
    "start_time": "2023-08-01T11:10:42.799Z"
   },
   {
    "duration": 124,
    "start_time": "2023-08-01T11:10:42.827Z"
   },
   {
    "duration": 12,
    "start_time": "2023-08-01T11:11:10.245Z"
   },
   {
    "duration": 13,
    "start_time": "2023-08-01T11:11:19.110Z"
   },
   {
    "duration": 4,
    "start_time": "2023-08-01T11:11:20.604Z"
   },
   {
    "duration": 187,
    "start_time": "2023-08-01T11:12:18.732Z"
   },
   {
    "duration": 22,
    "start_time": "2023-08-01T11:12:21.412Z"
   },
   {
    "duration": 12,
    "start_time": "2023-08-01T11:12:22.434Z"
   },
   {
    "duration": 4405,
    "start_time": "2023-08-01T11:12:31.358Z"
   },
   {
    "duration": 62,
    "start_time": "2023-08-01T11:12:35.765Z"
   },
   {
    "duration": 15,
    "start_time": "2023-08-01T11:12:35.829Z"
   },
   {
    "duration": 30,
    "start_time": "2023-08-01T11:12:35.846Z"
   },
   {
    "duration": 29,
    "start_time": "2023-08-01T11:12:35.882Z"
   },
   {
    "duration": 26,
    "start_time": "2023-08-01T11:12:35.913Z"
   },
   {
    "duration": 24,
    "start_time": "2023-08-01T11:12:35.941Z"
   },
   {
    "duration": 16,
    "start_time": "2023-08-01T11:12:35.967Z"
   },
   {
    "duration": 40,
    "start_time": "2023-08-01T11:12:35.984Z"
   },
   {
    "duration": 7,
    "start_time": "2023-08-01T11:12:36.025Z"
   },
   {
    "duration": 13,
    "start_time": "2023-08-01T11:12:36.034Z"
   },
   {
    "duration": 14,
    "start_time": "2023-08-01T11:12:36.049Z"
   },
   {
    "duration": 35,
    "start_time": "2023-08-01T11:12:36.065Z"
   },
   {
    "duration": 19,
    "start_time": "2023-08-01T11:12:36.103Z"
   },
   {
    "duration": 13,
    "start_time": "2023-08-01T11:12:36.124Z"
   },
   {
    "duration": 15,
    "start_time": "2023-08-01T11:12:36.139Z"
   },
   {
    "duration": 35,
    "start_time": "2023-08-01T11:12:36.156Z"
   },
   {
    "duration": 12,
    "start_time": "2023-08-01T11:12:36.194Z"
   },
   {
    "duration": 10,
    "start_time": "2023-08-01T11:12:36.207Z"
   },
   {
    "duration": 7,
    "start_time": "2023-08-01T11:12:36.219Z"
   },
   {
    "duration": 14,
    "start_time": "2023-08-01T11:12:36.227Z"
   },
   {
    "duration": 3,
    "start_time": "2023-08-01T11:12:36.243Z"
   },
   {
    "duration": 20,
    "start_time": "2023-08-01T11:12:36.248Z"
   },
   {
    "duration": 29,
    "start_time": "2023-08-01T11:12:36.270Z"
   },
   {
    "duration": 23,
    "start_time": "2023-08-01T11:12:36.301Z"
   },
   {
    "duration": 25,
    "start_time": "2023-08-01T11:12:36.326Z"
   },
   {
    "duration": 23,
    "start_time": "2023-08-01T11:12:36.354Z"
   },
   {
    "duration": 216,
    "start_time": "2023-08-01T11:12:36.381Z"
   },
   {
    "duration": 10,
    "start_time": "2023-08-01T11:12:36.599Z"
   },
   {
    "duration": 155,
    "start_time": "2023-08-01T11:12:36.612Z"
   },
   {
    "duration": 21,
    "start_time": "2023-08-01T11:12:36.769Z"
   },
   {
    "duration": 23,
    "start_time": "2023-08-01T11:12:36.791Z"
   },
   {
    "duration": 9372,
    "start_time": "2023-08-01T11:12:36.816Z"
   },
   {
    "duration": 109,
    "start_time": "2023-08-01T11:12:46.191Z"
   },
   {
    "duration": 16,
    "start_time": "2023-08-01T11:12:46.303Z"
   },
   {
    "duration": 55,
    "start_time": "2023-08-01T11:12:46.321Z"
   },
   {
    "duration": 110,
    "start_time": "2023-08-01T11:12:46.379Z"
   },
   {
    "duration": 265,
    "start_time": "2023-08-01T11:12:46.491Z"
   },
   {
    "duration": 32,
    "start_time": "2023-08-01T11:12:46.758Z"
   },
   {
    "duration": 15,
    "start_time": "2023-08-01T11:12:46.792Z"
   },
   {
    "duration": 6,
    "start_time": "2023-08-01T11:12:46.814Z"
   },
   {
    "duration": 9964,
    "start_time": "2023-08-01T11:12:46.822Z"
   },
   {
    "duration": 88,
    "start_time": "2023-08-01T11:12:56.788Z"
   },
   {
    "duration": 25,
    "start_time": "2023-08-01T11:12:56.878Z"
   },
   {
    "duration": 73,
    "start_time": "2023-08-01T11:12:56.905Z"
   },
   {
    "duration": 106,
    "start_time": "2023-08-01T11:12:56.980Z"
   },
   {
    "duration": 194,
    "start_time": "2023-08-01T11:12:57.089Z"
   },
   {
    "duration": 28,
    "start_time": "2023-08-01T11:12:57.288Z"
   },
   {
    "duration": 228,
    "start_time": "2023-08-01T11:12:57.318Z"
   },
   {
    "duration": 40,
    "start_time": "2023-08-01T11:12:57.548Z"
   },
   {
    "duration": 14,
    "start_time": "2023-08-01T11:12:57.590Z"
   },
   {
    "duration": 12630,
    "start_time": "2023-08-01T11:12:57.606Z"
   },
   {
    "duration": 142,
    "start_time": "2023-08-01T11:13:10.239Z"
   },
   {
    "duration": 20,
    "start_time": "2023-08-01T11:13:10.383Z"
   },
   {
    "duration": 72,
    "start_time": "2023-08-01T11:13:10.404Z"
   },
   {
    "duration": 105,
    "start_time": "2023-08-01T11:13:10.479Z"
   },
   {
    "duration": 95,
    "start_time": "2023-08-01T11:13:10.586Z"
   },
   {
    "duration": 198,
    "start_time": "2023-08-01T11:13:10.684Z"
   },
   {
    "duration": 13,
    "start_time": "2023-08-01T11:13:10.887Z"
   },
   {
    "duration": 20,
    "start_time": "2023-08-01T11:13:10.902Z"
   },
   {
    "duration": 7621,
    "start_time": "2023-08-01T11:13:10.924Z"
   },
   {
    "duration": 67,
    "start_time": "2023-08-01T11:13:18.547Z"
   },
   {
    "duration": 20,
    "start_time": "2023-08-01T11:13:18.616Z"
   },
   {
    "duration": 44,
    "start_time": "2023-08-01T11:13:18.638Z"
   },
   {
    "duration": 107,
    "start_time": "2023-08-01T11:13:18.686Z"
   },
   {
    "duration": 200,
    "start_time": "2023-08-01T11:13:18.795Z"
   },
   {
    "duration": 180,
    "start_time": "2023-08-01T11:13:18.997Z"
   },
   {
    "duration": 26,
    "start_time": "2023-08-01T11:13:19.179Z"
   },
   {
    "duration": 129,
    "start_time": "2023-08-01T11:13:19.208Z"
   },
   {
    "duration": 150,
    "start_time": "2023-08-01T11:13:54.708Z"
   },
   {
    "duration": 4329,
    "start_time": "2023-08-01T11:14:01.711Z"
   },
   {
    "duration": 65,
    "start_time": "2023-08-01T11:14:06.042Z"
   },
   {
    "duration": 14,
    "start_time": "2023-08-01T11:14:06.108Z"
   },
   {
    "duration": 12,
    "start_time": "2023-08-01T11:14:06.124Z"
   },
   {
    "duration": 13,
    "start_time": "2023-08-01T11:14:06.138Z"
   },
   {
    "duration": 37,
    "start_time": "2023-08-01T11:14:06.152Z"
   },
   {
    "duration": 36,
    "start_time": "2023-08-01T11:14:06.191Z"
   },
   {
    "duration": 21,
    "start_time": "2023-08-01T11:14:06.229Z"
   },
   {
    "duration": 33,
    "start_time": "2023-08-01T11:14:06.252Z"
   },
   {
    "duration": 48,
    "start_time": "2023-08-01T11:14:06.288Z"
   },
   {
    "duration": 28,
    "start_time": "2023-08-01T11:14:06.338Z"
   },
   {
    "duration": 34,
    "start_time": "2023-08-01T11:14:06.368Z"
   },
   {
    "duration": 10,
    "start_time": "2023-08-01T11:14:06.404Z"
   },
   {
    "duration": 40,
    "start_time": "2023-08-01T11:14:06.418Z"
   },
   {
    "duration": 42,
    "start_time": "2023-08-01T11:14:06.460Z"
   },
   {
    "duration": 53,
    "start_time": "2023-08-01T11:14:06.504Z"
   },
   {
    "duration": 3,
    "start_time": "2023-08-01T11:14:06.559Z"
   },
   {
    "duration": 42,
    "start_time": "2023-08-01T11:14:06.565Z"
   },
   {
    "duration": 15,
    "start_time": "2023-08-01T11:14:06.609Z"
   },
   {
    "duration": 23,
    "start_time": "2023-08-01T11:14:06.626Z"
   },
   {
    "duration": 25,
    "start_time": "2023-08-01T11:14:06.650Z"
   },
   {
    "duration": 16,
    "start_time": "2023-08-01T11:14:06.676Z"
   },
   {
    "duration": 14,
    "start_time": "2023-08-01T11:14:06.694Z"
   },
   {
    "duration": 19,
    "start_time": "2023-08-01T11:14:06.710Z"
   },
   {
    "duration": 26,
    "start_time": "2023-08-01T11:14:06.731Z"
   },
   {
    "duration": 43,
    "start_time": "2023-08-01T11:14:06.759Z"
   },
   {
    "duration": 6,
    "start_time": "2023-08-01T11:14:06.804Z"
   },
   {
    "duration": 156,
    "start_time": "2023-08-01T11:14:06.814Z"
   },
   {
    "duration": 15,
    "start_time": "2023-08-01T11:14:06.972Z"
   },
   {
    "duration": 170,
    "start_time": "2023-08-01T11:14:06.989Z"
   },
   {
    "duration": 25,
    "start_time": "2023-08-01T11:14:07.161Z"
   },
   {
    "duration": 127,
    "start_time": "2023-08-01T11:14:07.188Z"
   },
   {
    "duration": 9753,
    "start_time": "2023-08-01T11:14:07.317Z"
   },
   {
    "duration": 94,
    "start_time": "2023-08-01T11:14:17.075Z"
   },
   {
    "duration": 22,
    "start_time": "2023-08-01T11:14:17.171Z"
   },
   {
    "duration": 81,
    "start_time": "2023-08-01T11:14:17.196Z"
   },
   {
    "duration": 118,
    "start_time": "2023-08-01T11:14:17.279Z"
   },
   {
    "duration": 180,
    "start_time": "2023-08-01T11:14:17.399Z"
   },
   {
    "duration": 24,
    "start_time": "2023-08-01T11:14:17.587Z"
   },
   {
    "duration": 11,
    "start_time": "2023-08-01T11:14:17.613Z"
   },
   {
    "duration": 89,
    "start_time": "2023-08-01T11:14:17.625Z"
   },
   {
    "duration": 10167,
    "start_time": "2023-08-01T11:14:17.716Z"
   },
   {
    "duration": 93,
    "start_time": "2023-08-01T11:14:27.891Z"
   },
   {
    "duration": 29,
    "start_time": "2023-08-01T11:14:27.988Z"
   },
   {
    "duration": 18,
    "start_time": "2023-08-01T11:14:28.020Z"
   },
   {
    "duration": 113,
    "start_time": "2023-08-01T11:14:28.072Z"
   },
   {
    "duration": 209,
    "start_time": "2023-08-01T11:14:28.188Z"
   },
   {
    "duration": 29,
    "start_time": "2023-08-01T11:14:28.399Z"
   },
   {
    "duration": 241,
    "start_time": "2023-08-01T11:14:28.429Z"
   },
   {
    "duration": 32,
    "start_time": "2023-08-01T11:14:28.671Z"
   },
   {
    "duration": 46,
    "start_time": "2023-08-01T11:14:28.704Z"
   },
   {
    "duration": 12953,
    "start_time": "2023-08-01T11:14:28.752Z"
   },
   {
    "duration": 170,
    "start_time": "2023-08-01T11:14:41.707Z"
   },
   {
    "duration": 25,
    "start_time": "2023-08-01T11:14:41.879Z"
   },
   {
    "duration": 74,
    "start_time": "2023-08-01T11:14:41.906Z"
   },
   {
    "duration": 119,
    "start_time": "2023-08-01T11:14:41.986Z"
   },
   {
    "duration": 23,
    "start_time": "2023-08-01T11:14:42.174Z"
   },
   {
    "duration": 140,
    "start_time": "2023-08-01T11:14:42.272Z"
   },
   {
    "duration": 12,
    "start_time": "2023-08-01T11:14:42.414Z"
   },
   {
    "duration": 29,
    "start_time": "2023-08-01T11:14:42.429Z"
   },
   {
    "duration": 7735,
    "start_time": "2023-08-01T11:14:42.460Z"
   },
   {
    "duration": 61,
    "start_time": "2023-08-01T11:14:50.197Z"
   },
   {
    "duration": 41,
    "start_time": "2023-08-01T11:14:50.260Z"
   },
   {
    "duration": 76,
    "start_time": "2023-08-01T11:14:50.303Z"
   },
   {
    "duration": 129,
    "start_time": "2023-08-01T11:14:50.381Z"
   },
   {
    "duration": 27,
    "start_time": "2023-08-01T11:14:50.570Z"
   },
   {
    "duration": 183,
    "start_time": "2023-08-01T11:14:50.672Z"
   },
   {
    "duration": 32,
    "start_time": "2023-08-01T11:14:50.857Z"
   },
   {
    "duration": 118,
    "start_time": "2023-08-01T11:14:50.892Z"
   },
   {
    "duration": 5974,
    "start_time": "2023-08-01T11:15:08.564Z"
   },
   {
    "duration": 66,
    "start_time": "2023-08-01T11:15:14.540Z"
   },
   {
    "duration": 13,
    "start_time": "2023-08-01T11:15:14.607Z"
   },
   {
    "duration": 11,
    "start_time": "2023-08-01T11:15:14.622Z"
   },
   {
    "duration": 24,
    "start_time": "2023-08-01T11:15:14.634Z"
   },
   {
    "duration": 36,
    "start_time": "2023-08-01T11:15:14.660Z"
   },
   {
    "duration": 19,
    "start_time": "2023-08-01T11:15:14.698Z"
   },
   {
    "duration": 17,
    "start_time": "2023-08-01T11:15:14.720Z"
   },
   {
    "duration": 16,
    "start_time": "2023-08-01T11:15:14.739Z"
   },
   {
    "duration": 9,
    "start_time": "2023-08-01T11:15:14.774Z"
   },
   {
    "duration": 31,
    "start_time": "2023-08-01T11:15:14.785Z"
   },
   {
    "duration": 29,
    "start_time": "2023-08-01T11:15:14.818Z"
   },
   {
    "duration": 12,
    "start_time": "2023-08-01T11:15:14.850Z"
   },
   {
    "duration": 36,
    "start_time": "2023-08-01T11:15:14.864Z"
   },
   {
    "duration": 4,
    "start_time": "2023-08-01T11:15:14.902Z"
   },
   {
    "duration": 50,
    "start_time": "2023-08-01T11:15:14.908Z"
   },
   {
    "duration": 31,
    "start_time": "2023-08-01T11:15:14.960Z"
   },
   {
    "duration": 70,
    "start_time": "2023-08-01T11:15:14.993Z"
   },
   {
    "duration": 31,
    "start_time": "2023-08-01T11:15:15.065Z"
   },
   {
    "duration": 34,
    "start_time": "2023-08-01T11:15:15.098Z"
   },
   {
    "duration": 19,
    "start_time": "2023-08-01T11:15:15.134Z"
   },
   {
    "duration": 4,
    "start_time": "2023-08-01T11:15:15.155Z"
   },
   {
    "duration": 9,
    "start_time": "2023-08-01T11:15:15.160Z"
   },
   {
    "duration": 41,
    "start_time": "2023-08-01T11:15:15.170Z"
   },
   {
    "duration": 26,
    "start_time": "2023-08-01T11:15:15.212Z"
   },
   {
    "duration": 37,
    "start_time": "2023-08-01T11:15:15.240Z"
   },
   {
    "duration": 8,
    "start_time": "2023-08-01T11:15:15.278Z"
   },
   {
    "duration": 134,
    "start_time": "2023-08-01T11:15:15.291Z"
   },
   {
    "duration": 7,
    "start_time": "2023-08-01T11:15:15.427Z"
   },
   {
    "duration": 176,
    "start_time": "2023-08-01T11:15:15.436Z"
   },
   {
    "duration": 19,
    "start_time": "2023-08-01T11:15:15.614Z"
   },
   {
    "duration": 16,
    "start_time": "2023-08-01T11:15:15.635Z"
   },
   {
    "duration": 9513,
    "start_time": "2023-08-01T11:15:15.653Z"
   },
   {
    "duration": 95,
    "start_time": "2023-08-01T11:15:25.168Z"
   },
   {
    "duration": 26,
    "start_time": "2023-08-01T11:15:25.265Z"
   },
   {
    "duration": 23,
    "start_time": "2023-08-01T11:15:25.293Z"
   },
   {
    "duration": 188,
    "start_time": "2023-08-01T11:15:25.318Z"
   },
   {
    "duration": 184,
    "start_time": "2023-08-01T11:15:25.509Z"
   },
   {
    "duration": 23,
    "start_time": "2023-08-01T11:15:25.695Z"
   },
   {
    "duration": 12,
    "start_time": "2023-08-01T11:15:25.720Z"
   },
   {
    "duration": 11,
    "start_time": "2023-08-01T11:15:25.733Z"
   },
   {
    "duration": 11370,
    "start_time": "2023-08-01T11:15:25.745Z"
   },
   {
    "duration": 92,
    "start_time": "2023-08-01T11:15:37.117Z"
   },
   {
    "duration": 21,
    "start_time": "2023-08-01T11:15:37.211Z"
   },
   {
    "duration": 52,
    "start_time": "2023-08-01T11:15:37.234Z"
   },
   {
    "duration": 31,
    "start_time": "2023-08-01T11:15:37.380Z"
   },
   {
    "duration": 99,
    "start_time": "2023-08-01T11:15:37.474Z"
   },
   {
    "duration": 29,
    "start_time": "2023-08-01T11:15:37.574Z"
   },
   {
    "duration": 229,
    "start_time": "2023-08-01T11:15:37.605Z"
   },
   {
    "duration": 38,
    "start_time": "2023-08-01T11:15:37.836Z"
   },
   {
    "duration": 19,
    "start_time": "2023-08-01T11:15:37.876Z"
   },
   {
    "duration": 12823,
    "start_time": "2023-08-01T11:15:37.897Z"
   },
   {
    "duration": 158,
    "start_time": "2023-08-01T11:15:50.721Z"
   },
   {
    "duration": 25,
    "start_time": "2023-08-01T11:15:50.881Z"
   },
   {
    "duration": 73,
    "start_time": "2023-08-01T11:15:50.908Z"
   },
   {
    "duration": 100,
    "start_time": "2023-08-01T11:15:50.996Z"
   },
   {
    "duration": 187,
    "start_time": "2023-08-01T11:15:51.098Z"
   },
   {
    "duration": 140,
    "start_time": "2023-08-01T11:15:51.288Z"
   },
   {
    "duration": 12,
    "start_time": "2023-08-01T11:15:51.429Z"
   },
   {
    "duration": 32,
    "start_time": "2023-08-01T11:15:51.443Z"
   },
   {
    "duration": 6736,
    "start_time": "2023-08-01T11:15:51.477Z"
   },
   {
    "duration": 69,
    "start_time": "2023-08-01T11:15:58.215Z"
   },
   {
    "duration": 25,
    "start_time": "2023-08-01T11:15:58.287Z"
   },
   {
    "duration": 69,
    "start_time": "2023-08-01T11:15:58.314Z"
   },
   {
    "duration": 106,
    "start_time": "2023-08-01T11:15:58.386Z"
   },
   {
    "duration": 190,
    "start_time": "2023-08-01T11:15:58.495Z"
   },
   {
    "duration": 171,
    "start_time": "2023-08-01T11:15:58.688Z"
   },
   {
    "duration": 29,
    "start_time": "2023-08-01T11:15:58.860Z"
   },
   {
    "duration": 119,
    "start_time": "2023-08-01T11:15:58.892Z"
   }
  ],
  "kernelspec": {
   "display_name": "Python 3 (ipykernel)",
   "language": "python",
   "name": "python3"
  },
  "language_info": {
   "codemirror_mode": {
    "name": "ipython",
    "version": 3
   },
   "file_extension": ".py",
   "mimetype": "text/x-python",
   "name": "python",
   "nbconvert_exporter": "python",
   "pygments_lexer": "ipython3",
   "version": "3.9.5"
  },
  "toc": {
   "base_numbering": 1,
   "nav_menu": {},
   "number_sections": true,
   "sideBar": true,
   "skip_h1_title": true,
   "title_cell": "Содержание",
   "title_sidebar": "Contents",
   "toc_cell": true,
   "toc_position": {},
   "toc_section_display": true,
   "toc_window_display": true
  }
 },
 "nbformat": 4,
 "nbformat_minor": 2
}
